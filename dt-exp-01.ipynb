{
 "cells": [
  {
   "cell_type": "markdown",
   "id": "47ef11e7",
   "metadata": {
    "_cell_guid": "2971c992-4673-42e1-940b-a51f340798f7",
    "_uuid": "8728c17a-ca9b-4936-a2a3-16ef9d697979",
    "collapsed": false,
    "jupyter": {
     "outputs_hidden": false
    },
    "papermill": {
     "duration": 0.006892,
     "end_time": "2025-01-12T17:12:05.634152",
     "exception": false,
     "start_time": "2025-01-12T17:12:05.627260",
     "status": "completed"
    },
    "tags": []
   },
   "source": [
    "## Step 1: Installations"
   ]
  },
  {
   "cell_type": "code",
   "execution_count": 1,
   "id": "546d9e12",
   "metadata": {
    "_cell_guid": "80d5b93f-de27-4388-9119-7a66db28cda6",
    "_uuid": "94ef81be-2b03-4e3b-9b24-6620bd3876c2",
    "execution": {
     "iopub.execute_input": "2025-01-12T17:12:05.648212Z",
     "iopub.status.busy": "2025-01-12T17:12:05.647828Z",
     "iopub.status.idle": "2025-01-12T17:13:38.577250Z",
     "shell.execute_reply": "2025-01-12T17:13:38.576222Z"
    },
    "papermill": {
     "duration": 92.938526,
     "end_time": "2025-01-12T17:13:38.579122",
     "exception": false,
     "start_time": "2025-01-12T17:12:05.640596",
     "status": "completed"
    },
    "tags": []
   },
   "outputs": [
    {
     "name": "stdout",
     "output_type": "stream",
     "text": [
      "Processing /kaggle/input/pip-install-lifelines/autograd-1.7.0-py3-none-any.whl\r\n",
      "Requirement already satisfied: numpy in /usr/local/lib/python3.10/dist-packages (from autograd==1.7.0) (1.26.4)\r\n",
      "autograd is already installed with the same version as the provided wheel. Use --force-reinstall to force an installation of the wheel.\r\n",
      "Processing /kaggle/input/pip-install-lifelines/autograd-gamma-0.5.0.tar.gz\r\n",
      "  Preparing metadata (setup.py) ... \u001b[?25l\u001b[?25hdone\r\n",
      "Requirement already satisfied: autograd>=1.2.0 in /usr/local/lib/python3.10/dist-packages (from autograd-gamma==0.5.0) (1.7.0)\r\n",
      "Requirement already satisfied: scipy>=1.2.0 in /usr/local/lib/python3.10/dist-packages (from autograd-gamma==0.5.0) (1.13.1)\r\n",
      "Requirement already satisfied: numpy in /usr/local/lib/python3.10/dist-packages (from autograd>=1.2.0->autograd-gamma==0.5.0) (1.26.4)\r\n",
      "Building wheels for collected packages: autograd-gamma\r\n",
      "  Building wheel for autograd-gamma (setup.py) ... \u001b[?25l\u001b[?25hdone\r\n",
      "  Created wheel for autograd-gamma: filename=autograd_gamma-0.5.0-py3-none-any.whl size=4031 sha256=47e640244c02c54e20cf893e93387ad139f33d979edd98a95677e4bd3a736bb3\r\n",
      "  Stored in directory: /root/.cache/pip/wheels/6b/b5/e0/4c79e15c0b5f2c15ecf613c720bb20daab20a666eb67135155\r\n",
      "Successfully built autograd-gamma\r\n",
      "Installing collected packages: autograd-gamma\r\n",
      "Successfully installed autograd-gamma-0.5.0\r\n",
      "Processing /kaggle/input/pip-install-lifelines/interface_meta-1.3.0-py3-none-any.whl\r\n",
      "Installing collected packages: interface-meta\r\n",
      "Successfully installed interface-meta-1.3.0\r\n",
      "Processing /kaggle/input/pip-install-lifelines/formulaic-1.0.2-py3-none-any.whl\r\n",
      "Requirement already satisfied: interface-meta>=1.2.0 in /usr/local/lib/python3.10/dist-packages (from formulaic==1.0.2) (1.3.0)\r\n",
      "Requirement already satisfied: numpy>=1.16.5 in /usr/local/lib/python3.10/dist-packages (from formulaic==1.0.2) (1.26.4)\r\n",
      "Requirement already satisfied: pandas>=1.0 in /usr/local/lib/python3.10/dist-packages (from formulaic==1.0.2) (2.1.4)\r\n",
      "Requirement already satisfied: scipy>=1.6 in /usr/local/lib/python3.10/dist-packages (from formulaic==1.0.2) (1.13.1)\r\n",
      "Requirement already satisfied: typing-extensions>=4.2.0 in /usr/local/lib/python3.10/dist-packages (from formulaic==1.0.2) (4.12.2)\r\n",
      "Requirement already satisfied: wrapt>=1.0 in /usr/local/lib/python3.10/dist-packages (from formulaic==1.0.2) (1.16.0)\r\n",
      "Requirement already satisfied: python-dateutil>=2.8.2 in /usr/local/lib/python3.10/dist-packages (from pandas>=1.0->formulaic==1.0.2) (2.8.2)\r\n",
      "Requirement already satisfied: pytz>=2020.1 in /usr/local/lib/python3.10/dist-packages (from pandas>=1.0->formulaic==1.0.2) (2024.2)\r\n",
      "Requirement already satisfied: tzdata>=2022.1 in /usr/local/lib/python3.10/dist-packages (from pandas>=1.0->formulaic==1.0.2) (2024.1)\r\n",
      "Requirement already satisfied: six>=1.5 in /usr/local/lib/python3.10/dist-packages (from python-dateutil>=2.8.2->pandas>=1.0->formulaic==1.0.2) (1.16.0)\r\n",
      "Installing collected packages: formulaic\r\n",
      "Successfully installed formulaic-1.0.2\r\n",
      "Processing /kaggle/input/pip-install-lifelines/lifelines-0.30.0-py3-none-any.whl\r\n",
      "Requirement already satisfied: numpy>=1.14.0 in /usr/local/lib/python3.10/dist-packages (from lifelines==0.30.0) (1.26.4)\r\n",
      "Requirement already satisfied: scipy>=1.7.0 in /usr/local/lib/python3.10/dist-packages (from lifelines==0.30.0) (1.13.1)\r\n",
      "Requirement already satisfied: pandas>=2.1 in /usr/local/lib/python3.10/dist-packages (from lifelines==0.30.0) (2.1.4)\r\n",
      "Requirement already satisfied: matplotlib>=3.0 in /usr/local/lib/python3.10/dist-packages (from lifelines==0.30.0) (3.7.1)\r\n",
      "Requirement already satisfied: autograd>=1.5 in /usr/local/lib/python3.10/dist-packages (from lifelines==0.30.0) (1.7.0)\r\n",
      "Requirement already satisfied: autograd-gamma>=0.3 in /usr/local/lib/python3.10/dist-packages (from lifelines==0.30.0) (0.5.0)\r\n",
      "Requirement already satisfied: formulaic>=0.2.2 in /usr/local/lib/python3.10/dist-packages (from lifelines==0.30.0) (1.0.2)\r\n",
      "Requirement already satisfied: interface-meta>=1.2.0 in /usr/local/lib/python3.10/dist-packages (from formulaic>=0.2.2->lifelines==0.30.0) (1.3.0)\r\n",
      "Requirement already satisfied: typing-extensions>=4.2.0 in /usr/local/lib/python3.10/dist-packages (from formulaic>=0.2.2->lifelines==0.30.0) (4.12.2)\r\n",
      "Requirement already satisfied: wrapt>=1.0 in /usr/local/lib/python3.10/dist-packages (from formulaic>=0.2.2->lifelines==0.30.0) (1.16.0)\r\n",
      "Requirement already satisfied: contourpy>=1.0.1 in /usr/local/lib/python3.10/dist-packages (from matplotlib>=3.0->lifelines==0.30.0) (1.3.0)\r\n",
      "Requirement already satisfied: cycler>=0.10 in /usr/local/lib/python3.10/dist-packages (from matplotlib>=3.0->lifelines==0.30.0) (0.12.1)\r\n",
      "Requirement already satisfied: fonttools>=4.22.0 in /usr/local/lib/python3.10/dist-packages (from matplotlib>=3.0->lifelines==0.30.0) (4.53.1)\r\n",
      "Requirement already satisfied: kiwisolver>=1.0.1 in /usr/local/lib/python3.10/dist-packages (from matplotlib>=3.0->lifelines==0.30.0) (1.4.7)\r\n",
      "Requirement already satisfied: packaging>=20.0 in /usr/local/lib/python3.10/dist-packages (from matplotlib>=3.0->lifelines==0.30.0) (24.1)\r\n",
      "Requirement already satisfied: pillow>=6.2.0 in /usr/local/lib/python3.10/dist-packages (from matplotlib>=3.0->lifelines==0.30.0) (10.4.0)\r\n",
      "Requirement already satisfied: pyparsing>=2.3.1 in /usr/local/lib/python3.10/dist-packages (from matplotlib>=3.0->lifelines==0.30.0) (3.1.4)\r\n",
      "Requirement already satisfied: python-dateutil>=2.7 in /usr/local/lib/python3.10/dist-packages (from matplotlib>=3.0->lifelines==0.30.0) (2.8.2)\r\n",
      "Requirement already satisfied: pytz>=2020.1 in /usr/local/lib/python3.10/dist-packages (from pandas>=2.1->lifelines==0.30.0) (2024.2)\r\n",
      "Requirement already satisfied: tzdata>=2022.1 in /usr/local/lib/python3.10/dist-packages (from pandas>=2.1->lifelines==0.30.0) (2024.1)\r\n",
      "Requirement already satisfied: six>=1.5 in /usr/local/lib/python3.10/dist-packages (from python-dateutil>=2.7->matplotlib>=3.0->lifelines==0.30.0) (1.16.0)\r\n",
      "Installing collected packages: lifelines\r\n",
      "Successfully installed lifelines-0.30.0\r\n",
      "Looking in links: /kaggle/input/tensorflow-2-15/tensorflow\r\n",
      "Processing /kaggle/input/tensorflow-2-15/tensorflow/tensorflow-2.15.0-cp310-cp310-manylinux_2_17_x86_64.manylinux2014_x86_64.whl\r\n",
      "Requirement already satisfied: absl-py>=1.0.0 in /usr/local/lib/python3.10/dist-packages (from tensorflow==2.15.0) (1.4.0)\r\n",
      "Requirement already satisfied: astunparse>=1.6.0 in /usr/local/lib/python3.10/dist-packages (from tensorflow==2.15.0) (1.6.3)\r\n",
      "Requirement already satisfied: flatbuffers>=23.5.26 in /usr/local/lib/python3.10/dist-packages (from tensorflow==2.15.0) (24.3.25)\r\n",
      "Requirement already satisfied: gast!=0.5.0,!=0.5.1,!=0.5.2,>=0.2.1 in /usr/local/lib/python3.10/dist-packages (from tensorflow==2.15.0) (0.6.0)\r\n",
      "Requirement already satisfied: google-pasta>=0.1.1 in /usr/local/lib/python3.10/dist-packages (from tensorflow==2.15.0) (0.2.0)\r\n",
      "Requirement already satisfied: h5py>=2.9.0 in /usr/local/lib/python3.10/dist-packages (from tensorflow==2.15.0) (3.11.0)\r\n",
      "Requirement already satisfied: libclang>=13.0.0 in /usr/local/lib/python3.10/dist-packages (from tensorflow==2.15.0) (18.1.1)\r\n",
      "Processing /kaggle/input/tensorflow-2-15/tensorflow/ml_dtypes-0.2.0-cp310-cp310-manylinux_2_17_x86_64.manylinux2014_x86_64.whl (from tensorflow==2.15.0)\r\n",
      "Requirement already satisfied: numpy<2.0.0,>=1.23.5 in /usr/local/lib/python3.10/dist-packages (from tensorflow==2.15.0) (1.26.4)\r\n",
      "Requirement already satisfied: opt-einsum>=2.3.2 in /usr/local/lib/python3.10/dist-packages (from tensorflow==2.15.0) (3.3.0)\r\n",
      "Requirement already satisfied: packaging in /usr/local/lib/python3.10/dist-packages (from tensorflow==2.15.0) (24.1)\r\n",
      "Requirement already satisfied: protobuf!=4.21.0,!=4.21.1,!=4.21.2,!=4.21.3,!=4.21.4,!=4.21.5,<5.0.0dev,>=3.20.3 in /usr/local/lib/python3.10/dist-packages (from tensorflow==2.15.0) (3.20.3)\r\n",
      "Requirement already satisfied: setuptools in /usr/local/lib/python3.10/dist-packages (from tensorflow==2.15.0) (71.0.4)\r\n",
      "Requirement already satisfied: six>=1.12.0 in /usr/local/lib/python3.10/dist-packages (from tensorflow==2.15.0) (1.16.0)\r\n",
      "Requirement already satisfied: termcolor>=1.1.0 in /usr/local/lib/python3.10/dist-packages (from tensorflow==2.15.0) (2.4.0)\r\n",
      "Requirement already satisfied: typing-extensions>=3.6.6 in /usr/local/lib/python3.10/dist-packages (from tensorflow==2.15.0) (4.12.2)\r\n",
      "Processing /kaggle/input/tensorflow-2-15/tensorflow/wrapt-1.14.1-cp310-cp310-manylinux_2_5_x86_64.manylinux1_x86_64.manylinux_2_17_x86_64.manylinux2014_x86_64.whl (from tensorflow==2.15.0)\r\n",
      "Requirement already satisfied: tensorflow-io-gcs-filesystem>=0.23.1 in /usr/local/lib/python3.10/dist-packages (from tensorflow==2.15.0) (0.37.1)\r\n",
      "Requirement already satisfied: grpcio<2.0,>=1.24.3 in /usr/local/lib/python3.10/dist-packages (from tensorflow==2.15.0) (1.64.1)\r\n",
      "Processing /kaggle/input/tensorflow-2-15/tensorflow/tensorboard-2.15.1-py3-none-any.whl (from tensorflow==2.15.0)\r\n",
      "Processing /kaggle/input/tensorflow-2-15/tensorflow/tensorflow_estimator-2.15.0-py2.py3-none-any.whl (from tensorflow==2.15.0)\r\n",
      "Processing /kaggle/input/tensorflow-2-15/tensorflow/keras-2.15.0-py3-none-any.whl (from tensorflow==2.15.0)\r\n",
      "Requirement already satisfied: wheel<1.0,>=0.23.0 in /usr/local/lib/python3.10/dist-packages (from astunparse>=1.6.0->tensorflow==2.15.0) (0.44.0)\r\n",
      "Requirement already satisfied: google-auth<3,>=1.6.3 in /usr/local/lib/python3.10/dist-packages (from tensorboard<2.16,>=2.15->tensorflow==2.15.0) (2.27.0)\r\n",
      "Requirement already satisfied: google-auth-oauthlib<2,>=0.5 in /usr/local/lib/python3.10/dist-packages (from tensorboard<2.16,>=2.15->tensorflow==2.15.0) (1.2.1)\r\n",
      "Requirement already satisfied: markdown>=2.6.8 in /usr/local/lib/python3.10/dist-packages (from tensorboard<2.16,>=2.15->tensorflow==2.15.0) (3.7)\r\n",
      "Requirement already satisfied: requests<3,>=2.21.0 in /usr/local/lib/python3.10/dist-packages (from tensorboard<2.16,>=2.15->tensorflow==2.15.0) (2.32.3)\r\n",
      "Requirement already satisfied: tensorboard-data-server<0.8.0,>=0.7.0 in /usr/local/lib/python3.10/dist-packages (from tensorboard<2.16,>=2.15->tensorflow==2.15.0) (0.7.2)\r\n",
      "Requirement already satisfied: werkzeug>=1.0.1 in /usr/local/lib/python3.10/dist-packages (from tensorboard<2.16,>=2.15->tensorflow==2.15.0) (3.0.4)\r\n",
      "Requirement already satisfied: cachetools<6.0,>=2.0.0 in /usr/local/lib/python3.10/dist-packages (from google-auth<3,>=1.6.3->tensorboard<2.16,>=2.15->tensorflow==2.15.0) (5.5.0)\r\n",
      "Requirement already satisfied: pyasn1-modules>=0.2.1 in /usr/local/lib/python3.10/dist-packages (from google-auth<3,>=1.6.3->tensorboard<2.16,>=2.15->tensorflow==2.15.0) (0.4.1)\r\n",
      "Requirement already satisfied: rsa<5,>=3.1.4 in /usr/local/lib/python3.10/dist-packages (from google-auth<3,>=1.6.3->tensorboard<2.16,>=2.15->tensorflow==2.15.0) (4.9)\r\n",
      "Requirement already satisfied: requests-oauthlib>=0.7.0 in /usr/local/lib/python3.10/dist-packages (from google-auth-oauthlib<2,>=0.5->tensorboard<2.16,>=2.15->tensorflow==2.15.0) (1.3.1)\r\n",
      "Requirement already satisfied: charset-normalizer<4,>=2 in /usr/local/lib/python3.10/dist-packages (from requests<3,>=2.21.0->tensorboard<2.16,>=2.15->tensorflow==2.15.0) (3.3.2)\r\n",
      "Requirement already satisfied: idna<4,>=2.5 in /usr/local/lib/python3.10/dist-packages (from requests<3,>=2.21.0->tensorboard<2.16,>=2.15->tensorflow==2.15.0) (3.10)\r\n",
      "Requirement already satisfied: urllib3<3,>=1.21.1 in /usr/local/lib/python3.10/dist-packages (from requests<3,>=2.21.0->tensorboard<2.16,>=2.15->tensorflow==2.15.0) (2.2.3)\r\n",
      "Requirement already satisfied: certifi>=2017.4.17 in /usr/local/lib/python3.10/dist-packages (from requests<3,>=2.21.0->tensorboard<2.16,>=2.15->tensorflow==2.15.0) (2024.8.30)\r\n",
      "Requirement already satisfied: MarkupSafe>=2.1.1 in /usr/local/lib/python3.10/dist-packages (from werkzeug>=1.0.1->tensorboard<2.16,>=2.15->tensorflow==2.15.0) (2.1.5)\r\n",
      "Requirement already satisfied: pyasn1<0.7.0,>=0.4.6 in /usr/local/lib/python3.10/dist-packages (from pyasn1-modules>=0.2.1->google-auth<3,>=1.6.3->tensorboard<2.16,>=2.15->tensorflow==2.15.0) (0.6.1)\r\n",
      "Requirement already satisfied: oauthlib>=3.0.0 in /usr/local/lib/python3.10/dist-packages (from requests-oauthlib>=0.7.0->google-auth-oauthlib<2,>=0.5->tensorboard<2.16,>=2.15->tensorflow==2.15.0) (3.2.2)\r\n",
      "Installing collected packages: wrapt, tensorflow-estimator, ml-dtypes, keras, tensorboard, tensorflow\r\n",
      "  Attempting uninstall: wrapt\r\n",
      "    Found existing installation: wrapt 1.16.0\r\n",
      "    Uninstalling wrapt-1.16.0:\r\n",
      "      Successfully uninstalled wrapt-1.16.0\r\n",
      "  Attempting uninstall: ml-dtypes\r\n",
      "    Found existing installation: ml-dtypes 0.4.1\r\n",
      "    Uninstalling ml-dtypes-0.4.1:\r\n",
      "      Successfully uninstalled ml-dtypes-0.4.1\r\n",
      "  Attempting uninstall: keras\r\n",
      "    Found existing installation: keras 3.4.1\r\n",
      "    Uninstalling keras-3.4.1:\r\n",
      "      Successfully uninstalled keras-3.4.1\r\n",
      "  Attempting uninstall: tensorboard\r\n",
      "    Found existing installation: tensorboard 2.17.0\r\n",
      "    Uninstalling tensorboard-2.17.0:\r\n",
      "      Successfully uninstalled tensorboard-2.17.0\r\n",
      "  Attempting uninstall: tensorflow\r\n",
      "    Found existing installation: tensorflow 2.17.0\r\n",
      "    Uninstalling tensorflow-2.17.0:\r\n",
      "      Successfully uninstalled tensorflow-2.17.0\r\n",
      "\u001b[31mERROR: pip's dependency resolver does not currently take into account all the packages that are installed. This behaviour is the source of the following dependency conflicts.\r\n",
      "tensorflow-decision-forests 1.10.0 requires tensorflow==2.17.0, but you have tensorflow 2.15.0 which is incompatible.\r\n",
      "tensorflow-text 2.17.0 requires tensorflow<2.18,>=2.17.0, but you have tensorflow 2.15.0 which is incompatible.\r\n",
      "tensorstore 0.1.65 requires ml-dtypes>=0.3.1, but you have ml-dtypes 0.2.0 which is incompatible.\r\n",
      "tf-keras 2.17.0 requires tensorflow<2.18,>=2.17, but you have tensorflow 2.15.0 which is incompatible.\u001b[0m\u001b[31m\r\n",
      "\u001b[0mSuccessfully installed keras-2.15.0 ml-dtypes-0.2.0 tensorboard-2.15.1 tensorflow-2.15.0 tensorflow-estimator-2.15.0 wrapt-1.14.1\r\n",
      "Looking in links: /kaggle/input/deeptables-v0-2-5/deeptables-0.2.5\r\n",
      "Processing /kaggle/input/deeptables-v0-2-5/deeptables-0.2.5/deeptables-0.2.5-py3-none-any.whl\r\n",
      "\u001b[33mWARNING: Package 'deeptables' has an invalid Requires-Python: Invalid specifier: '>=3.6.*'\u001b[0m\u001b[33m\r\n",
      "\u001b[0mRequirement already satisfied: packaging in /usr/local/lib/python3.10/dist-packages (from deeptables==0.2.5) (24.1)\r\n",
      "Requirement already satisfied: scipy>=1.3.1 in /usr/local/lib/python3.10/dist-packages (from deeptables==0.2.5) (1.13.1)\r\n",
      "Requirement already satisfied: pandas>=0.25.3 in /usr/local/lib/python3.10/dist-packages (from deeptables==0.2.5) (2.1.4)\r\n",
      "Requirement already satisfied: numpy>=1.16.5 in /usr/local/lib/python3.10/dist-packages (from deeptables==0.2.5) (1.26.4)\r\n",
      "Requirement already satisfied: scikit-learn>=0.22.1 in /usr/local/lib/python3.10/dist-packages (from deeptables==0.2.5) (1.2.2)\r\n",
      "Requirement already satisfied: lightgbm>=2.2.0 in /usr/local/lib/python3.10/dist-packages (from deeptables==0.2.5) (4.5.0)\r\n",
      "Requirement already satisfied: category-encoders>=2.1.0 in /usr/local/lib/python3.10/dist-packages (from deeptables==0.2.5) (2.6.4)\r\n",
      "Processing /kaggle/input/deeptables-v0-2-5/deeptables-0.2.5/hypernets-0.3.1-py3-none-any.whl (from deeptables==0.2.5)\r\n",
      "Requirement already satisfied: h5py>=2.10.0 in /usr/local/lib/python3.10/dist-packages (from deeptables==0.2.5) (3.11.0)\r\n",
      "Requirement already satisfied: eli5 in /usr/local/lib/python3.10/dist-packages (from deeptables==0.2.5) (0.13.0)\r\n",
      "Requirement already satisfied: statsmodels>=0.9.0 in /usr/local/lib/python3.10/dist-packages (from category-encoders>=2.1.0->deeptables==0.2.5) (0.14.3)\r\n",
      "Requirement already satisfied: patsy>=0.5.1 in /usr/local/lib/python3.10/dist-packages (from category-encoders>=2.1.0->deeptables==0.2.5) (0.5.6)\r\n",
      "Requirement already satisfied: fsspec>=0.8.0 in /usr/local/lib/python3.10/dist-packages (from hypernets>=0.2.5.1->deeptables==0.2.5) (2024.6.1)\r\n",
      "Requirement already satisfied: ipython in /usr/local/lib/python3.10/dist-packages (from hypernets>=0.2.5.1->deeptables==0.2.5) (7.34.0)\r\n",
      "Requirement already satisfied: traitlets in /usr/local/lib/python3.10/dist-packages (from hypernets>=0.2.5.1->deeptables==0.2.5) (5.7.1)\r\n",
      "Processing /kaggle/input/deeptables-v0-2-5/deeptables-0.2.5/XlsxWriter-3.1.9-py3-none-any.whl (from hypernets>=0.2.5.1->deeptables==0.2.5)\r\n",
      "Requirement already satisfied: psutil in /usr/local/lib/python3.10/dist-packages (from hypernets>=0.2.5.1->deeptables==0.2.5) (5.9.5)\r\n",
      "Requirement already satisfied: pyyaml in /usr/local/lib/python3.10/dist-packages (from hypernets>=0.2.5.1->deeptables==0.2.5) (6.0.2)\r\n",
      "Processing /kaggle/input/deeptables-v0-2-5/deeptables-0.2.5/paramiko-3.4.0-py3-none-any.whl (from hypernets>=0.2.5.1->deeptables==0.2.5)\r\n",
      "Requirement already satisfied: requests in /usr/local/lib/python3.10/dist-packages (from hypernets>=0.2.5.1->deeptables==0.2.5) (2.32.3)\r\n",
      "Requirement already satisfied: tornado in /usr/local/lib/python3.10/dist-packages (from hypernets>=0.2.5.1->deeptables==0.2.5) (6.3.3)\r\n",
      "Requirement already satisfied: prettytable in /usr/local/lib/python3.10/dist-packages (from hypernets>=0.2.5.1->deeptables==0.2.5) (3.11.0)\r\n",
      "Requirement already satisfied: tqdm in /usr/local/lib/python3.10/dist-packages (from hypernets>=0.2.5.1->deeptables==0.2.5) (4.66.5)\r\n",
      "Requirement already satisfied: joblib in /usr/local/lib/python3.10/dist-packages (from hypernets>=0.2.5.1->deeptables==0.2.5) (1.4.2)\r\n",
      "Requirement already satisfied: python-dateutil>=2.8.2 in /usr/local/lib/python3.10/dist-packages (from pandas>=0.25.3->deeptables==0.2.5) (2.8.2)\r\n",
      "Requirement already satisfied: pytz>=2020.1 in /usr/local/lib/python3.10/dist-packages (from pandas>=0.25.3->deeptables==0.2.5) (2024.2)\r\n",
      "Requirement already satisfied: tzdata>=2022.1 in /usr/local/lib/python3.10/dist-packages (from pandas>=0.25.3->deeptables==0.2.5) (2024.1)\r\n",
      "Requirement already satisfied: threadpoolctl>=2.0.0 in /usr/local/lib/python3.10/dist-packages (from scikit-learn>=0.22.1->deeptables==0.2.5) (3.5.0)\r\n",
      "Requirement already satisfied: attrs>17.1.0 in /usr/local/lib/python3.10/dist-packages (from eli5->deeptables==0.2.5) (24.2.0)\r\n",
      "Requirement already satisfied: jinja2>=3.0.0 in /usr/local/lib/python3.10/dist-packages (from eli5->deeptables==0.2.5) (3.1.4)\r\n",
      "Requirement already satisfied: six in /usr/local/lib/python3.10/dist-packages (from eli5->deeptables==0.2.5) (1.16.0)\r\n",
      "Requirement already satisfied: graphviz in /usr/local/lib/python3.10/dist-packages (from eli5->deeptables==0.2.5) (0.20.3)\r\n",
      "Requirement already satisfied: tabulate>=0.7.7 in /usr/local/lib/python3.10/dist-packages (from eli5->deeptables==0.2.5) (0.9.0)\r\n",
      "Requirement already satisfied: MarkupSafe>=2.0 in /usr/local/lib/python3.10/dist-packages (from jinja2>=3.0.0->eli5->deeptables==0.2.5) (2.1.5)\r\n",
      "Requirement already satisfied: setuptools>=18.5 in /usr/local/lib/python3.10/dist-packages (from ipython->hypernets>=0.2.5.1->deeptables==0.2.5) (71.0.4)\r\n",
      "Requirement already satisfied: jedi>=0.16 in /usr/local/lib/python3.10/dist-packages (from ipython->hypernets>=0.2.5.1->deeptables==0.2.5) (0.19.2)\r\n",
      "Requirement already satisfied: decorator in /usr/local/lib/python3.10/dist-packages (from ipython->hypernets>=0.2.5.1->deeptables==0.2.5) (4.4.2)\r\n",
      "Requirement already satisfied: pickleshare in /usr/local/lib/python3.10/dist-packages (from ipython->hypernets>=0.2.5.1->deeptables==0.2.5) (0.7.5)\r\n",
      "Requirement already satisfied: prompt-toolkit!=3.0.0,!=3.0.1,<3.1.0,>=2.0.0 in /usr/local/lib/python3.10/dist-packages (from ipython->hypernets>=0.2.5.1->deeptables==0.2.5) (3.0.47)\r\n",
      "Requirement already satisfied: pygments in /usr/local/lib/python3.10/dist-packages (from ipython->hypernets>=0.2.5.1->deeptables==0.2.5) (2.18.0)\r\n",
      "Requirement already satisfied: backcall in /usr/local/lib/python3.10/dist-packages (from ipython->hypernets>=0.2.5.1->deeptables==0.2.5) (0.2.0)\r\n",
      "Requirement already satisfied: matplotlib-inline in /usr/local/lib/python3.10/dist-packages (from ipython->hypernets>=0.2.5.1->deeptables==0.2.5) (0.1.7)\r\n",
      "Requirement already satisfied: pexpect>4.3 in /usr/local/lib/python3.10/dist-packages (from ipython->hypernets>=0.2.5.1->deeptables==0.2.5) (4.9.0)\r\n",
      "Processing /kaggle/input/deeptables-v0-2-5/deeptables-0.2.5/bcrypt-4.1.2-cp39-abi3-manylinux_2_28_x86_64.whl (from paramiko->hypernets>=0.2.5.1->deeptables==0.2.5)\r\n",
      "Requirement already satisfied: cryptography>=3.3 in /usr/local/lib/python3.10/dist-packages (from paramiko->hypernets>=0.2.5.1->deeptables==0.2.5) (43.0.1)\r\n",
      "Processing /kaggle/input/deeptables-v0-2-5/deeptables-0.2.5/PyNaCl-1.5.0-cp36-abi3-manylinux_2_17_x86_64.manylinux2014_x86_64.manylinux_2_24_x86_64.whl (from paramiko->hypernets>=0.2.5.1->deeptables==0.2.5)\r\n",
      "Requirement already satisfied: wcwidth in /usr/local/lib/python3.10/dist-packages (from prettytable->hypernets>=0.2.5.1->deeptables==0.2.5) (0.2.13)\r\n",
      "Requirement already satisfied: charset-normalizer<4,>=2 in /usr/local/lib/python3.10/dist-packages (from requests->hypernets>=0.2.5.1->deeptables==0.2.5) (3.3.2)\r\n",
      "Requirement already satisfied: idna<4,>=2.5 in /usr/local/lib/python3.10/dist-packages (from requests->hypernets>=0.2.5.1->deeptables==0.2.5) (3.10)\r\n",
      "Requirement already satisfied: urllib3<3,>=1.21.1 in /usr/local/lib/python3.10/dist-packages (from requests->hypernets>=0.2.5.1->deeptables==0.2.5) (2.2.3)\r\n",
      "Requirement already satisfied: certifi>=2017.4.17 in /usr/local/lib/python3.10/dist-packages (from requests->hypernets>=0.2.5.1->deeptables==0.2.5) (2024.8.30)\r\n",
      "Requirement already satisfied: cffi>=1.12 in /usr/local/lib/python3.10/dist-packages (from cryptography>=3.3->paramiko->hypernets>=0.2.5.1->deeptables==0.2.5) (1.17.1)\r\n",
      "Requirement already satisfied: parso<0.9.0,>=0.8.4 in /usr/local/lib/python3.10/dist-packages (from jedi>=0.16->ipython->hypernets>=0.2.5.1->deeptables==0.2.5) (0.8.4)\r\n",
      "Requirement already satisfied: ptyprocess>=0.5 in /usr/local/lib/python3.10/dist-packages (from pexpect>4.3->ipython->hypernets>=0.2.5.1->deeptables==0.2.5) (0.7.0)\r\n",
      "Requirement already satisfied: pycparser in /usr/local/lib/python3.10/dist-packages (from cffi>=1.12->cryptography>=3.3->paramiko->hypernets>=0.2.5.1->deeptables==0.2.5) (2.22)\r\n",
      "Installing collected packages: XlsxWriter, bcrypt, pynacl, paramiko, hypernets, deeptables\r\n",
      "Successfully installed XlsxWriter-3.1.9 bcrypt-4.1.2 deeptables-0.2.5 hypernets-0.3.1 paramiko-3.4.0 pynacl-1.5.0\r\n"
     ]
    }
   ],
   "source": [
    "!pip install /kaggle/input/pip-install-lifelines/autograd-1.7.0-py3-none-any.whl\n",
    "!pip install /kaggle/input/pip-install-lifelines/autograd-gamma-0.5.0.tar.gz\n",
    "!pip install /kaggle/input/pip-install-lifelines/interface_meta-1.3.0-py3-none-any.whl\n",
    "!pip install /kaggle/input/pip-install-lifelines/formulaic-1.0.2-py3-none-any.whl\n",
    "!pip install /kaggle/input/pip-install-lifelines/lifelines-0.30.0-py3-none-any.whl\n",
    "!pip install --no-index -U --find-links=/kaggle/input/tensorflow-2-15/tensorflow tensorflow==2.15.0\n",
    "!pip install --no-index -U --find-links=/kaggle/input/deeptables-v0-2-5/deeptables-0.2.5 deeptables==0.2.5"
   ]
  },
  {
   "cell_type": "code",
   "execution_count": 2,
   "id": "3041e966",
   "metadata": {
    "execution": {
     "iopub.execute_input": "2025-01-12T17:13:38.599078Z",
     "iopub.status.busy": "2025-01-12T17:13:38.598700Z",
     "iopub.status.idle": "2025-01-12T17:13:38.602685Z",
     "shell.execute_reply": "2025-01-12T17:13:38.601795Z"
    },
    "papermill": {
     "duration": 0.015534,
     "end_time": "2025-01-12T17:13:38.604165",
     "exception": false,
     "start_time": "2025-01-12T17:13:38.588631",
     "status": "completed"
    },
    "tags": []
   },
   "outputs": [],
   "source": [
    "# !pip install deeptables"
   ]
  },
  {
   "cell_type": "markdown",
   "id": "e6516237",
   "metadata": {
    "_cell_guid": "13bd92b6-c130-451f-89f5-13538b54ff91",
    "_uuid": "b5920c89-c860-498c-8335-057d15d2a5ce",
    "collapsed": false,
    "jupyter": {
     "outputs_hidden": false
    },
    "papermill": {
     "duration": 0.008867,
     "end_time": "2025-01-12T17:13:38.622365",
     "exception": false,
     "start_time": "2025-01-12T17:13:38.613498",
     "status": "completed"
    },
    "tags": []
   },
   "source": [
    "## Step 2: Imports"
   ]
  },
  {
   "cell_type": "code",
   "execution_count": 3,
   "id": "3608cbd1",
   "metadata": {
    "_cell_guid": "149452d5-3116-45fe-9dc8-f0574edca449",
    "_uuid": "15f750c5-85f5-4eb5-9059-d4cf826746b1",
    "collapsed": false,
    "execution": {
     "iopub.execute_input": "2025-01-12T17:13:38.642114Z",
     "iopub.status.busy": "2025-01-12T17:13:38.641760Z",
     "iopub.status.idle": "2025-01-12T17:13:47.810434Z",
     "shell.execute_reply": "2025-01-12T17:13:47.809283Z"
    },
    "jupyter": {
     "outputs_hidden": false
    },
    "papermill": {
     "duration": 9.180815,
     "end_time": "2025-01-12T17:13:47.812346",
     "exception": false,
     "start_time": "2025-01-12T17:13:38.631531",
     "status": "completed"
    },
    "tags": []
   },
   "outputs": [
    {
     "name": "stdout",
     "output_type": "stream",
     "text": [
      "Tensorflow version: 2.15.0\n",
      "DeepTables version: 0.2.5\n"
     ]
    }
   ],
   "source": [
    "import pandas as pd\n",
    "import numpy as np\n",
    "from scipy.stats import rankdata \n",
    "import matplotlib.pyplot as plt\n",
    "from sklearn.model_selection import KFold\n",
    "import tensorflow as tf\n",
    "import tensorflow\n",
    "import tensorflow.keras.layers as layers\n",
    "\n",
    "\n",
    "import numpy as np\n",
    "import deeptables as dt\n",
    "from deeptables.models import deeptable, deepnets\n",
    "from deeptables.datasets import dsutils\n",
    "from sklearn.model_selection import train_test_split\n",
    "\n",
    "\n",
    "print('Tensorflow version:',tf.__version__)\n",
    "print('DeepTables version:',dt.__version__)\n",
    "pd.set_option('display.max_columns', 500)\n",
    "pd.set_option('display.max_rows', 500)"
   ]
  },
  {
   "cell_type": "markdown",
   "id": "61eac4c4",
   "metadata": {
    "_cell_guid": "d1996c37-ed51-40d0-80bf-683972841d04",
    "_uuid": "28c2f5c0-6627-44b8-9a87-f5ac3380cdc5",
    "collapsed": false,
    "jupyter": {
     "outputs_hidden": false
    },
    "papermill": {
     "duration": 0.012723,
     "end_time": "2025-01-12T17:13:47.840833",
     "exception": false,
     "start_time": "2025-01-12T17:13:47.828110",
     "status": "completed"
    },
    "tags": []
   },
   "source": [
    "## Step 2: Read the data"
   ]
  },
  {
   "cell_type": "code",
   "execution_count": 4,
   "id": "65a16624",
   "metadata": {
    "_cell_guid": "2c1f4cb8-2e2b-4555-9412-81aa90dabb84",
    "_uuid": "0cc2587e-3d0a-4177-bcbe-c980ffe47773",
    "collapsed": false,
    "execution": {
     "iopub.execute_input": "2025-01-12T17:13:47.870215Z",
     "iopub.status.busy": "2025-01-12T17:13:47.869119Z",
     "iopub.status.idle": "2025-01-12T17:14:23.069753Z",
     "shell.execute_reply": "2025-01-12T17:14:23.068289Z"
    },
    "jupyter": {
     "outputs_hidden": false
    },
    "papermill": {
     "duration": 35.235525,
     "end_time": "2025-01-12T17:14:23.089488",
     "exception": false,
     "start_time": "2025-01-12T17:13:47.853963",
     "status": "completed"
    },
    "tags": []
   },
   "outputs": [
    {
     "name": "stdout",
     "output_type": "stream",
     "text": [
      "Test shape: (3, 58)\n",
      "Train shape: (28800, 61)\n"
     ]
    },
    {
     "data": {
      "text/html": [
       "<div>\n",
       "<style scoped>\n",
       "    .dataframe tbody tr th:only-of-type {\n",
       "        vertical-align: middle;\n",
       "    }\n",
       "\n",
       "    .dataframe tbody tr th {\n",
       "        vertical-align: top;\n",
       "    }\n",
       "\n",
       "    .dataframe thead th {\n",
       "        text-align: right;\n",
       "    }\n",
       "</style>\n",
       "<table border=\"1\" class=\"dataframe\">\n",
       "  <thead>\n",
       "    <tr style=\"text-align: right;\">\n",
       "      <th></th>\n",
       "      <th>ID</th>\n",
       "      <th>dri_score</th>\n",
       "      <th>psych_disturb</th>\n",
       "      <th>cyto_score</th>\n",
       "      <th>diabetes</th>\n",
       "      <th>hla_match_c_high</th>\n",
       "      <th>hla_high_res_8</th>\n",
       "      <th>tbi_status</th>\n",
       "      <th>arrhythmia</th>\n",
       "      <th>hla_low_res_6</th>\n",
       "      <th>graft_type</th>\n",
       "      <th>vent_hist</th>\n",
       "      <th>renal_issue</th>\n",
       "      <th>pulm_severe</th>\n",
       "      <th>prim_disease_hct</th>\n",
       "      <th>hla_high_res_6</th>\n",
       "      <th>cmv_status</th>\n",
       "      <th>hla_high_res_10</th>\n",
       "      <th>hla_match_dqb1_high</th>\n",
       "      <th>tce_imm_match</th>\n",
       "      <th>hla_nmdp_6</th>\n",
       "      <th>hla_match_c_low</th>\n",
       "      <th>rituximab</th>\n",
       "      <th>hla_match_drb1_low</th>\n",
       "      <th>hla_match_dqb1_low</th>\n",
       "      <th>prod_type</th>\n",
       "      <th>cyto_score_detail</th>\n",
       "      <th>conditioning_intensity</th>\n",
       "      <th>ethnicity</th>\n",
       "      <th>year_hct</th>\n",
       "      <th>obesity</th>\n",
       "      <th>mrd_hct</th>\n",
       "      <th>in_vivo_tcd</th>\n",
       "      <th>tce_match</th>\n",
       "      <th>hla_match_a_high</th>\n",
       "      <th>hepatic_severe</th>\n",
       "      <th>donor_age</th>\n",
       "      <th>prior_tumor</th>\n",
       "      <th>hla_match_b_low</th>\n",
       "      <th>peptic_ulcer</th>\n",
       "      <th>age_at_hct</th>\n",
       "      <th>hla_match_a_low</th>\n",
       "      <th>gvhd_proph</th>\n",
       "      <th>rheum_issue</th>\n",
       "      <th>sex_match</th>\n",
       "      <th>hla_match_b_high</th>\n",
       "      <th>race_group</th>\n",
       "      <th>comorbidity_score</th>\n",
       "      <th>karnofsky_score</th>\n",
       "      <th>hepatic_mild</th>\n",
       "      <th>tce_div_match</th>\n",
       "      <th>donor_related</th>\n",
       "      <th>melphalan_dose</th>\n",
       "      <th>hla_low_res_8</th>\n",
       "      <th>cardiac</th>\n",
       "      <th>hla_match_drb1_high</th>\n",
       "      <th>pulm_moderate</th>\n",
       "      <th>hla_low_res_10</th>\n",
       "      <th>efs</th>\n",
       "      <th>efs_time</th>\n",
       "      <th>fold</th>\n",
       "    </tr>\n",
       "  </thead>\n",
       "  <tbody>\n",
       "    <tr>\n",
       "      <th>0</th>\n",
       "      <td>0</td>\n",
       "      <td>N/A - non-malignant indication</td>\n",
       "      <td>No</td>\n",
       "      <td>NaN</td>\n",
       "      <td>No</td>\n",
       "      <td>NaN</td>\n",
       "      <td>NaN</td>\n",
       "      <td>No TBI</td>\n",
       "      <td>No</td>\n",
       "      <td>6.0</td>\n",
       "      <td>Bone marrow</td>\n",
       "      <td>No</td>\n",
       "      <td>No</td>\n",
       "      <td>No</td>\n",
       "      <td>IEA</td>\n",
       "      <td>6.0</td>\n",
       "      <td>+/+</td>\n",
       "      <td>NaN</td>\n",
       "      <td>2.0</td>\n",
       "      <td>NaN</td>\n",
       "      <td>6.0</td>\n",
       "      <td>2.0</td>\n",
       "      <td>No</td>\n",
       "      <td>2.0</td>\n",
       "      <td>2.0</td>\n",
       "      <td>BM</td>\n",
       "      <td>NaN</td>\n",
       "      <td>NaN</td>\n",
       "      <td>Not Hispanic or Latino</td>\n",
       "      <td>2016</td>\n",
       "      <td>No</td>\n",
       "      <td>NaN</td>\n",
       "      <td>Yes</td>\n",
       "      <td>NaN</td>\n",
       "      <td>2.0</td>\n",
       "      <td>No</td>\n",
       "      <td>NaN</td>\n",
       "      <td>No</td>\n",
       "      <td>2.0</td>\n",
       "      <td>No</td>\n",
       "      <td>9.942</td>\n",
       "      <td>2.0</td>\n",
       "      <td>FKalone</td>\n",
       "      <td>No</td>\n",
       "      <td>M-F</td>\n",
       "      <td>2.0</td>\n",
       "      <td>More than one race</td>\n",
       "      <td>0.0</td>\n",
       "      <td>90.0</td>\n",
       "      <td>No</td>\n",
       "      <td>NaN</td>\n",
       "      <td>Unrelated</td>\n",
       "      <td>N/A, Mel not given</td>\n",
       "      <td>8.0</td>\n",
       "      <td>No</td>\n",
       "      <td>2.0</td>\n",
       "      <td>No</td>\n",
       "      <td>10.0</td>\n",
       "      <td>0</td>\n",
       "      <td>42.356</td>\n",
       "      <td>3</td>\n",
       "    </tr>\n",
       "    <tr>\n",
       "      <th>1</th>\n",
       "      <td>1</td>\n",
       "      <td>Intermediate</td>\n",
       "      <td>No</td>\n",
       "      <td>Intermediate</td>\n",
       "      <td>No</td>\n",
       "      <td>2.0</td>\n",
       "      <td>8.0</td>\n",
       "      <td>TBI +- Other, &gt;cGy</td>\n",
       "      <td>No</td>\n",
       "      <td>6.0</td>\n",
       "      <td>Peripheral blood</td>\n",
       "      <td>No</td>\n",
       "      <td>No</td>\n",
       "      <td>No</td>\n",
       "      <td>AML</td>\n",
       "      <td>6.0</td>\n",
       "      <td>+/+</td>\n",
       "      <td>10.0</td>\n",
       "      <td>2.0</td>\n",
       "      <td>P/P</td>\n",
       "      <td>6.0</td>\n",
       "      <td>2.0</td>\n",
       "      <td>No</td>\n",
       "      <td>2.0</td>\n",
       "      <td>2.0</td>\n",
       "      <td>PB</td>\n",
       "      <td>Intermediate</td>\n",
       "      <td>MAC</td>\n",
       "      <td>Not Hispanic or Latino</td>\n",
       "      <td>2008</td>\n",
       "      <td>No</td>\n",
       "      <td>Positive</td>\n",
       "      <td>No</td>\n",
       "      <td>Permissive</td>\n",
       "      <td>2.0</td>\n",
       "      <td>No</td>\n",
       "      <td>72.29</td>\n",
       "      <td>No</td>\n",
       "      <td>2.0</td>\n",
       "      <td>No</td>\n",
       "      <td>43.705</td>\n",
       "      <td>2.0</td>\n",
       "      <td>Other GVHD Prophylaxis</td>\n",
       "      <td>No</td>\n",
       "      <td>F-F</td>\n",
       "      <td>2.0</td>\n",
       "      <td>Asian</td>\n",
       "      <td>3.0</td>\n",
       "      <td>90.0</td>\n",
       "      <td>No</td>\n",
       "      <td>Permissive mismatched</td>\n",
       "      <td>Related</td>\n",
       "      <td>N/A, Mel not given</td>\n",
       "      <td>8.0</td>\n",
       "      <td>No</td>\n",
       "      <td>2.0</td>\n",
       "      <td>Yes</td>\n",
       "      <td>10.0</td>\n",
       "      <td>1</td>\n",
       "      <td>4.672</td>\n",
       "      <td>7</td>\n",
       "    </tr>\n",
       "    <tr>\n",
       "      <th>2</th>\n",
       "      <td>2</td>\n",
       "      <td>N/A - non-malignant indication</td>\n",
       "      <td>No</td>\n",
       "      <td>NaN</td>\n",
       "      <td>No</td>\n",
       "      <td>2.0</td>\n",
       "      <td>8.0</td>\n",
       "      <td>No TBI</td>\n",
       "      <td>No</td>\n",
       "      <td>6.0</td>\n",
       "      <td>Bone marrow</td>\n",
       "      <td>No</td>\n",
       "      <td>No</td>\n",
       "      <td>No</td>\n",
       "      <td>HIS</td>\n",
       "      <td>6.0</td>\n",
       "      <td>+/+</td>\n",
       "      <td>10.0</td>\n",
       "      <td>2.0</td>\n",
       "      <td>P/P</td>\n",
       "      <td>6.0</td>\n",
       "      <td>2.0</td>\n",
       "      <td>No</td>\n",
       "      <td>2.0</td>\n",
       "      <td>2.0</td>\n",
       "      <td>BM</td>\n",
       "      <td>NaN</td>\n",
       "      <td>NaN</td>\n",
       "      <td>Not Hispanic or Latino</td>\n",
       "      <td>2019</td>\n",
       "      <td>No</td>\n",
       "      <td>NaN</td>\n",
       "      <td>Yes</td>\n",
       "      <td>NaN</td>\n",
       "      <td>2.0</td>\n",
       "      <td>No</td>\n",
       "      <td>NaN</td>\n",
       "      <td>No</td>\n",
       "      <td>2.0</td>\n",
       "      <td>No</td>\n",
       "      <td>33.997</td>\n",
       "      <td>2.0</td>\n",
       "      <td>Cyclophosphamide alone</td>\n",
       "      <td>No</td>\n",
       "      <td>F-M</td>\n",
       "      <td>2.0</td>\n",
       "      <td>More than one race</td>\n",
       "      <td>0.0</td>\n",
       "      <td>90.0</td>\n",
       "      <td>No</td>\n",
       "      <td>Permissive mismatched</td>\n",
       "      <td>Related</td>\n",
       "      <td>N/A, Mel not given</td>\n",
       "      <td>8.0</td>\n",
       "      <td>No</td>\n",
       "      <td>2.0</td>\n",
       "      <td>No</td>\n",
       "      <td>10.0</td>\n",
       "      <td>0</td>\n",
       "      <td>19.793</td>\n",
       "      <td>6</td>\n",
       "    </tr>\n",
       "    <tr>\n",
       "      <th>3</th>\n",
       "      <td>3</td>\n",
       "      <td>High</td>\n",
       "      <td>No</td>\n",
       "      <td>Intermediate</td>\n",
       "      <td>No</td>\n",
       "      <td>2.0</td>\n",
       "      <td>8.0</td>\n",
       "      <td>No TBI</td>\n",
       "      <td>No</td>\n",
       "      <td>6.0</td>\n",
       "      <td>Bone marrow</td>\n",
       "      <td>No</td>\n",
       "      <td>No</td>\n",
       "      <td>No</td>\n",
       "      <td>ALL</td>\n",
       "      <td>6.0</td>\n",
       "      <td>+/+</td>\n",
       "      <td>10.0</td>\n",
       "      <td>2.0</td>\n",
       "      <td>P/P</td>\n",
       "      <td>6.0</td>\n",
       "      <td>2.0</td>\n",
       "      <td>No</td>\n",
       "      <td>2.0</td>\n",
       "      <td>2.0</td>\n",
       "      <td>BM</td>\n",
       "      <td>Intermediate</td>\n",
       "      <td>MAC</td>\n",
       "      <td>Not Hispanic or Latino</td>\n",
       "      <td>2009</td>\n",
       "      <td>No</td>\n",
       "      <td>Positive</td>\n",
       "      <td>No</td>\n",
       "      <td>Permissive</td>\n",
       "      <td>2.0</td>\n",
       "      <td>No</td>\n",
       "      <td>29.23</td>\n",
       "      <td>No</td>\n",
       "      <td>2.0</td>\n",
       "      <td>No</td>\n",
       "      <td>43.245</td>\n",
       "      <td>2.0</td>\n",
       "      <td>FK+ MMF +- others</td>\n",
       "      <td>No</td>\n",
       "      <td>M-M</td>\n",
       "      <td>2.0</td>\n",
       "      <td>White</td>\n",
       "      <td>0.0</td>\n",
       "      <td>90.0</td>\n",
       "      <td>Yes</td>\n",
       "      <td>Permissive mismatched</td>\n",
       "      <td>Unrelated</td>\n",
       "      <td>N/A, Mel not given</td>\n",
       "      <td>8.0</td>\n",
       "      <td>No</td>\n",
       "      <td>2.0</td>\n",
       "      <td>No</td>\n",
       "      <td>10.0</td>\n",
       "      <td>0</td>\n",
       "      <td>102.349</td>\n",
       "      <td>1</td>\n",
       "    </tr>\n",
       "    <tr>\n",
       "      <th>4</th>\n",
       "      <td>4</td>\n",
       "      <td>High</td>\n",
       "      <td>No</td>\n",
       "      <td>NaN</td>\n",
       "      <td>No</td>\n",
       "      <td>2.0</td>\n",
       "      <td>8.0</td>\n",
       "      <td>No TBI</td>\n",
       "      <td>No</td>\n",
       "      <td>6.0</td>\n",
       "      <td>Peripheral blood</td>\n",
       "      <td>No</td>\n",
       "      <td>No</td>\n",
       "      <td>No</td>\n",
       "      <td>MPN</td>\n",
       "      <td>6.0</td>\n",
       "      <td>+/+</td>\n",
       "      <td>10.0</td>\n",
       "      <td>2.0</td>\n",
       "      <td>NaN</td>\n",
       "      <td>5.0</td>\n",
       "      <td>2.0</td>\n",
       "      <td>No</td>\n",
       "      <td>2.0</td>\n",
       "      <td>2.0</td>\n",
       "      <td>PB</td>\n",
       "      <td>NaN</td>\n",
       "      <td>MAC</td>\n",
       "      <td>Hispanic or Latino</td>\n",
       "      <td>2018</td>\n",
       "      <td>No</td>\n",
       "      <td>NaN</td>\n",
       "      <td>Yes</td>\n",
       "      <td>NaN</td>\n",
       "      <td>2.0</td>\n",
       "      <td>No</td>\n",
       "      <td>56.81</td>\n",
       "      <td>No</td>\n",
       "      <td>2.0</td>\n",
       "      <td>No</td>\n",
       "      <td>29.740</td>\n",
       "      <td>2.0</td>\n",
       "      <td>TDEPLETION +- other</td>\n",
       "      <td>No</td>\n",
       "      <td>M-F</td>\n",
       "      <td>2.0</td>\n",
       "      <td>American Indian or Alaska Native</td>\n",
       "      <td>1.0</td>\n",
       "      <td>90.0</td>\n",
       "      <td>No</td>\n",
       "      <td>Permissive mismatched</td>\n",
       "      <td>Related</td>\n",
       "      <td>MEL</td>\n",
       "      <td>8.0</td>\n",
       "      <td>No</td>\n",
       "      <td>2.0</td>\n",
       "      <td>No</td>\n",
       "      <td>10.0</td>\n",
       "      <td>0</td>\n",
       "      <td>16.223</td>\n",
       "      <td>4</td>\n",
       "    </tr>\n",
       "  </tbody>\n",
       "</table>\n",
       "</div>"
      ],
      "text/plain": [
       "   ID                       dri_score psych_disturb    cyto_score diabetes  \\\n",
       "0   0  N/A - non-malignant indication            No           NaN       No   \n",
       "1   1                    Intermediate            No  Intermediate       No   \n",
       "2   2  N/A - non-malignant indication            No           NaN       No   \n",
       "3   3                            High            No  Intermediate       No   \n",
       "4   4                            High            No           NaN       No   \n",
       "\n",
       "   hla_match_c_high  hla_high_res_8          tbi_status arrhythmia  \\\n",
       "0               NaN             NaN              No TBI         No   \n",
       "1               2.0             8.0  TBI +- Other, >cGy         No   \n",
       "2               2.0             8.0              No TBI         No   \n",
       "3               2.0             8.0              No TBI         No   \n",
       "4               2.0             8.0              No TBI         No   \n",
       "\n",
       "   hla_low_res_6        graft_type vent_hist renal_issue pulm_severe  \\\n",
       "0            6.0       Bone marrow        No          No          No   \n",
       "1            6.0  Peripheral blood        No          No          No   \n",
       "2            6.0       Bone marrow        No          No          No   \n",
       "3            6.0       Bone marrow        No          No          No   \n",
       "4            6.0  Peripheral blood        No          No          No   \n",
       "\n",
       "  prim_disease_hct  hla_high_res_6 cmv_status  hla_high_res_10  \\\n",
       "0              IEA             6.0        +/+              NaN   \n",
       "1              AML             6.0        +/+             10.0   \n",
       "2              HIS             6.0        +/+             10.0   \n",
       "3              ALL             6.0        +/+             10.0   \n",
       "4              MPN             6.0        +/+             10.0   \n",
       "\n",
       "   hla_match_dqb1_high tce_imm_match  hla_nmdp_6  hla_match_c_low rituximab  \\\n",
       "0                  2.0           NaN         6.0              2.0        No   \n",
       "1                  2.0           P/P         6.0              2.0        No   \n",
       "2                  2.0           P/P         6.0              2.0        No   \n",
       "3                  2.0           P/P         6.0              2.0        No   \n",
       "4                  2.0           NaN         5.0              2.0        No   \n",
       "\n",
       "   hla_match_drb1_low  hla_match_dqb1_low prod_type cyto_score_detail  \\\n",
       "0                 2.0                 2.0        BM               NaN   \n",
       "1                 2.0                 2.0        PB      Intermediate   \n",
       "2                 2.0                 2.0        BM               NaN   \n",
       "3                 2.0                 2.0        BM      Intermediate   \n",
       "4                 2.0                 2.0        PB               NaN   \n",
       "\n",
       "  conditioning_intensity               ethnicity  year_hct obesity   mrd_hct  \\\n",
       "0                    NaN  Not Hispanic or Latino      2016      No       NaN   \n",
       "1                    MAC  Not Hispanic or Latino      2008      No  Positive   \n",
       "2                    NaN  Not Hispanic or Latino      2019      No       NaN   \n",
       "3                    MAC  Not Hispanic or Latino      2009      No  Positive   \n",
       "4                    MAC      Hispanic or Latino      2018      No       NaN   \n",
       "\n",
       "  in_vivo_tcd   tce_match  hla_match_a_high hepatic_severe  donor_age  \\\n",
       "0         Yes         NaN               2.0             No        NaN   \n",
       "1          No  Permissive               2.0             No      72.29   \n",
       "2         Yes         NaN               2.0             No        NaN   \n",
       "3          No  Permissive               2.0             No      29.23   \n",
       "4         Yes         NaN               2.0             No      56.81   \n",
       "\n",
       "  prior_tumor  hla_match_b_low peptic_ulcer  age_at_hct  hla_match_a_low  \\\n",
       "0          No              2.0           No       9.942              2.0   \n",
       "1          No              2.0           No      43.705              2.0   \n",
       "2          No              2.0           No      33.997              2.0   \n",
       "3          No              2.0           No      43.245              2.0   \n",
       "4          No              2.0           No      29.740              2.0   \n",
       "\n",
       "               gvhd_proph rheum_issue sex_match  hla_match_b_high  \\\n",
       "0                 FKalone          No       M-F               2.0   \n",
       "1  Other GVHD Prophylaxis          No       F-F               2.0   \n",
       "2  Cyclophosphamide alone          No       F-M               2.0   \n",
       "3       FK+ MMF +- others          No       M-M               2.0   \n",
       "4     TDEPLETION +- other          No       M-F               2.0   \n",
       "\n",
       "                         race_group  comorbidity_score  karnofsky_score  \\\n",
       "0                More than one race                0.0             90.0   \n",
       "1                             Asian                3.0             90.0   \n",
       "2                More than one race                0.0             90.0   \n",
       "3                             White                0.0             90.0   \n",
       "4  American Indian or Alaska Native                1.0             90.0   \n",
       "\n",
       "  hepatic_mild          tce_div_match donor_related      melphalan_dose  \\\n",
       "0           No                    NaN     Unrelated  N/A, Mel not given   \n",
       "1           No  Permissive mismatched       Related  N/A, Mel not given   \n",
       "2           No  Permissive mismatched       Related  N/A, Mel not given   \n",
       "3          Yes  Permissive mismatched     Unrelated  N/A, Mel not given   \n",
       "4           No  Permissive mismatched       Related                 MEL   \n",
       "\n",
       "   hla_low_res_8 cardiac  hla_match_drb1_high pulm_moderate  hla_low_res_10  \\\n",
       "0            8.0      No                  2.0            No            10.0   \n",
       "1            8.0      No                  2.0           Yes            10.0   \n",
       "2            8.0      No                  2.0            No            10.0   \n",
       "3            8.0      No                  2.0            No            10.0   \n",
       "4            8.0      No                  2.0            No            10.0   \n",
       "\n",
       "   efs  efs_time  fold  \n",
       "0    0    42.356     3  \n",
       "1    1     4.672     7  \n",
       "2    0    19.793     6  \n",
       "3    0   102.349     1  \n",
       "4    0    16.223     4  "
      ]
     },
     "execution_count": 4,
     "metadata": {},
     "output_type": "execute_result"
    }
   ],
   "source": [
    "test_df = pd.read_csv(\"/kaggle/input/equity-post-HCT-survival-predictions/test.csv\")\n",
    "print(\"Test shape:\", test_df.shape )\n",
    "\n",
    "train_df = pd.read_excel(\"/kaggle/input/cibmtr-2024-dataset/random_folding.xlsx\")\n",
    "print(\"Train shape:\",train_df.shape)\n",
    "train_df.head()"
   ]
  },
  {
   "cell_type": "markdown",
   "id": "a395cbc7",
   "metadata": {
    "_cell_guid": "4001c0b6-a391-498c-9042-d52096e147a4",
    "_uuid": "ff046806-7265-4782-9d4a-d48eda71d477",
    "collapsed": false,
    "jupyter": {
     "outputs_hidden": false
    },
    "papermill": {
     "duration": 0.009751,
     "end_time": "2025-01-12T17:14:23.110530",
     "exception": false,
     "start_time": "2025-01-12T17:14:23.100779",
     "status": "completed"
    },
    "tags": []
   },
   "source": [
    "## Step 4: Traget preparation"
   ]
  },
  {
   "cell_type": "code",
   "execution_count": 5,
   "id": "7cde93a0",
   "metadata": {
    "_cell_guid": "561a9a6c-3f51-4052-aadd-464125a72c30",
    "_uuid": "f35f6325-e19a-47a1-b72e-cb06d603b17c",
    "collapsed": false,
    "execution": {
     "iopub.execute_input": "2025-01-12T17:14:23.132537Z",
     "iopub.status.busy": "2025-01-12T17:14:23.131202Z",
     "iopub.status.idle": "2025-01-12T17:14:23.746019Z",
     "shell.execute_reply": "2025-01-12T17:14:23.745005Z"
    },
    "jupyter": {
     "outputs_hidden": false
    },
    "papermill": {
     "duration": 0.627567,
     "end_time": "2025-01-12T17:14:23.747683",
     "exception": false,
     "start_time": "2025-01-12T17:14:23.120116",
     "status": "completed"
    },
    "tags": []
   },
   "outputs": [
    {
     "data": {
      "image/png": "[encoded data removed]",
      "text/plain": [
       "<Figure size 640x480 with 1 Axes>"
      ]
     },
     "metadata": {},
     "output_type": "display_data"
    }
   ],
   "source": [
    "train_df[\"y\"] = train_df.efs_time.values\n",
    "mx = train_df.loc[train_df.efs==1,\"efs_time\"].max()\n",
    "mn = train_df.loc[train_df.efs==0,\"efs_time\"].min()\n",
    "train_df.loc[train_df.efs==0,\"y\"] = train_df.loc[train_df.efs==0,\"y\"] + mx - mn\n",
    "train_df.y = train_df.y.rank()\n",
    "train_df.loc[train_df.efs==0,\"y\"] += 2*len(train_df)\n",
    "train_df.y = train_df.y / train_df.y.max()\n",
    "train_df.y = np.log( train_df.y )\n",
    "train_df.y -= train_df.y.mean()\n",
    "train_df.y *= -1.0\n",
    "\n",
    "plt.hist(train_df.loc[train_df.efs==1,\"y\"],bins=100,label=\"efs=1, Yes Event\")\n",
    "plt.hist(train_df.loc[train_df.efs==0,\"y\"],bins=100,label=\"efs=0, Maybe Event\")\n",
    "plt.xlim((-5,5))\n",
    "plt.xlabel(\"Transformed Target y\")\n",
    "plt.ylabel(\"Density\")\n",
    "plt.title(\"Transformed Target y using both efs and efs_time.\")\n",
    "plt.legend()\n",
    "plt.show()"
   ]
  },
  {
   "cell_type": "code",
   "execution_count": 6,
   "id": "a4e40ee8",
   "metadata": {
    "_cell_guid": "2d39ee67-9ffb-40bf-8fcd-c3e1153016f6",
    "_uuid": "3cc22a12-1155-4d62-b15e-5c4024979be4",
    "collapsed": false,
    "execution": {
     "iopub.execute_input": "2025-01-12T17:14:23.770631Z",
     "iopub.status.busy": "2025-01-12T17:14:23.770279Z",
     "iopub.status.idle": "2025-01-12T17:14:23.773837Z",
     "shell.execute_reply": "2025-01-12T17:14:23.773009Z"
    },
    "jupyter": {
     "outputs_hidden": false
    },
    "papermill": {
     "duration": 0.016477,
     "end_time": "2025-01-12T17:14:23.775298",
     "exception": false,
     "start_time": "2025-01-12T17:14:23.758821",
     "status": "completed"
    },
    "tags": []
   },
   "outputs": [],
   "source": [
    "# from lifelines import NelsonAalenFitter\n",
    "\n",
    "# FOLDS = 10\n",
    "# oof_preds = np.zeros(len(train))\n",
    "# for fold in range(FOLDS):\n",
    "#     train_data = train[train[\"fold\"]!=fold].copy()\n",
    "#     valid_data = train[train[\"fold\"]==fold].copy()\n",
    "    \n",
    "#     naf = NelsonAalenFitter()\n",
    "#     naf.fit(durations=train_data['efs_time'], event_observed=train_data['efs'])\n",
    "    \n",
    "#     oof_preds[valid_data.index] = -naf.cumulative_hazard_at_times(valid_data['efs_time']).values\n",
    "\n",
    "# train['target3'] = oof_preds  "
   ]
  },
  {
   "cell_type": "markdown",
   "id": "80d9fde8",
   "metadata": {
    "_cell_guid": "16a6bd99-3af0-4a85-8bf5-7cf445665282",
    "_uuid": "59794a24-b402-4a12-97a6-2c76becf9469",
    "collapsed": false,
    "jupyter": {
     "outputs_hidden": false
    },
    "papermill": {
     "duration": 0.010299,
     "end_time": "2025-01-12T17:14:23.796380",
     "exception": false,
     "start_time": "2025-01-12T17:14:23.786081",
     "status": "completed"
    },
    "tags": []
   },
   "source": [
    "## Step 5: Features preparation"
   ]
  },
  {
   "cell_type": "code",
   "execution_count": 7,
   "id": "a6ee3f08",
   "metadata": {
    "_cell_guid": "6c02561f-bcf6-4f70-90d7-d896d00ea765",
    "_uuid": "7bf2caf4-3ad8-42b1-bf13-5e412a2a8127",
    "collapsed": false,
    "execution": {
     "iopub.execute_input": "2025-01-12T17:14:23.818847Z",
     "iopub.status.busy": "2025-01-12T17:14:23.818387Z",
     "iopub.status.idle": "2025-01-12T17:14:23.823745Z",
     "shell.execute_reply": "2025-01-12T17:14:23.822517Z"
    },
    "jupyter": {
     "outputs_hidden": false
    },
    "papermill": {
     "duration": 0.0184,
     "end_time": "2025-01-12T17:14:23.825276",
     "exception": false,
     "start_time": "2025-01-12T17:14:23.806876",
     "status": "completed"
    },
    "tags": []
   },
   "outputs": [
    {
     "name": "stdout",
     "output_type": "stream",
     "text": [
      "There are 57 FEATURES: ['dri_score', 'psych_disturb', 'cyto_score', 'diabetes', 'hla_match_c_high', 'hla_high_res_8', 'tbi_status', 'arrhythmia', 'hla_low_res_6', 'graft_type', 'vent_hist', 'renal_issue', 'pulm_severe', 'prim_disease_hct', 'hla_high_res_6', 'cmv_status', 'hla_high_res_10', 'hla_match_dqb1_high', 'tce_imm_match', 'hla_nmdp_6', 'hla_match_c_low', 'rituximab', 'hla_match_drb1_low', 'hla_match_dqb1_low', 'prod_type', 'cyto_score_detail', 'conditioning_intensity', 'ethnicity', 'year_hct', 'obesity', 'mrd_hct', 'in_vivo_tcd', 'tce_match', 'hla_match_a_high', 'hepatic_severe', 'donor_age', 'prior_tumor', 'hla_match_b_low', 'peptic_ulcer', 'age_at_hct', 'hla_match_a_low', 'gvhd_proph', 'rheum_issue', 'sex_match', 'hla_match_b_high', 'race_group', 'comorbidity_score', 'karnofsky_score', 'hepatic_mild', 'tce_div_match', 'donor_related', 'melphalan_dose', 'hla_low_res_8', 'cardiac', 'hla_match_drb1_high', 'pulm_moderate', 'hla_low_res_10']\n"
     ]
    }
   ],
   "source": [
    "RMV = [\"ID\",\"efs\",\"efs_time\",\"y\",\"fold\"]\n",
    "FEATURES = [c for c in train_df.columns if not c in RMV]\n",
    "print(f\"There are {len(FEATURES)} FEATURES: {FEATURES}\")"
   ]
  },
  {
   "cell_type": "code",
   "execution_count": 8,
   "id": "c7e2ed14",
   "metadata": {
    "_cell_guid": "fac9793e-41fd-4156-8707-2dadddae8635",
    "_uuid": "62c1bdf1-7676-43e1-86fc-5b5237f4bf4f",
    "collapsed": false,
    "execution": {
     "iopub.execute_input": "2025-01-12T17:14:23.847798Z",
     "iopub.status.busy": "2025-01-12T17:14:23.847449Z",
     "iopub.status.idle": "2025-01-12T17:14:23.957697Z",
     "shell.execute_reply": "2025-01-12T17:14:23.956567Z"
    },
    "jupyter": {
     "outputs_hidden": false
    },
    "papermill": {
     "duration": 0.123352,
     "end_time": "2025-01-12T17:14:23.959390",
     "exception": false,
     "start_time": "2025-01-12T17:14:23.836038",
     "status": "completed"
    },
    "tags": []
   },
   "outputs": [
    {
     "name": "stdout",
     "output_type": "stream",
     "text": [
      "In these features, there are 35 CATEGORICAL FEATURES: ['dri_score', 'psych_disturb', 'cyto_score', 'diabetes', 'tbi_status', 'arrhythmia', 'graft_type', 'vent_hist', 'renal_issue', 'pulm_severe', 'prim_disease_hct', 'cmv_status', 'tce_imm_match', 'rituximab', 'prod_type', 'cyto_score_detail', 'conditioning_intensity', 'ethnicity', 'obesity', 'mrd_hct', 'in_vivo_tcd', 'tce_match', 'hepatic_severe', 'prior_tumor', 'peptic_ulcer', 'gvhd_proph', 'rheum_issue', 'sex_match', 'race_group', 'hepatic_mild', 'tce_div_match', 'donor_related', 'melphalan_dose', 'cardiac', 'pulm_moderate']\n"
     ]
    }
   ],
   "source": [
    "CATS = []\n",
    "for c in FEATURES:\n",
    "    if train_df[c].dtype==\"object\":\n",
    "        CATS.append(c)\n",
    "        train_df[c] = train_df[c].fillna(\"NAN\")\n",
    "        test_df[c]  = test_df[c].fillna(\"NAN\")\n",
    "    else:\n",
    "        train_df[c] = train_df[c].fillna(-1)\n",
    "        test_df[c]  = test_df[c].fillna(-1)\n",
    "print(f\"In these features, there are {len(CATS)} CATEGORICAL FEATURES: {CATS}\")"
   ]
  },
  {
   "cell_type": "code",
   "execution_count": 9,
   "id": "68d1241c",
   "metadata": {
    "_cell_guid": "77422609-d68b-48e6-b0d3-1e5705cf548a",
    "_uuid": "e723d9c8-24fe-4101-8323-f39db250b23f",
    "collapsed": false,
    "execution": {
     "iopub.execute_input": "2025-01-12T17:14:23.982692Z",
     "iopub.status.busy": "2025-01-12T17:14:23.982387Z",
     "iopub.status.idle": "2025-01-12T17:14:24.140432Z",
     "shell.execute_reply": "2025-01-12T17:14:24.139344Z"
    },
    "jupyter": {
     "outputs_hidden": false
    },
    "papermill": {
     "duration": 0.171075,
     "end_time": "2025-01-12T17:14:24.142044",
     "exception": false,
     "start_time": "2025-01-12T17:14:23.970969",
     "status": "completed"
    },
    "tags": []
   },
   "outputs": [
    {
     "name": "stdout",
     "output_type": "stream",
     "text": [
      "We LABEL ENCODE the CATEGORICAL FEATURES: dri_score, psych_disturb, cyto_score, diabetes, tbi_status, arrhythmia, graft_type, vent_hist, renal_issue, pulm_severe, prim_disease_hct, cmv_status, tce_imm_match, rituximab, prod_type, cyto_score_detail, conditioning_intensity, ethnicity, obesity, mrd_hct, in_vivo_tcd, tce_match, hepatic_severe, prior_tumor, peptic_ulcer, gvhd_proph, rheum_issue, sex_match, race_group, hepatic_mild, tce_div_match, donor_related, melphalan_dose, cardiac, pulm_moderate, "
     ]
    }
   ],
   "source": [
    "combined = pd.concat([train_df,test_df],axis=0,ignore_index=True)\n",
    "#print(\"Combined data shape:\", combined.shape )\n",
    "\n",
    "# LABEL ENCODE CATEGORICAL FEATURES\n",
    "print(\"We LABEL ENCODE the CATEGORICAL FEATURES: \",end=\"\")\n",
    "for c in FEATURES:\n",
    "\n",
    "    # LABEL ENCODE CATEGORICAL AND CONVERT TO INT32 CATEGORY\n",
    "    if c in CATS:\n",
    "        print(f\"{c}, \",end=\"\")\n",
    "        combined[c],_ = combined[c].factorize()\n",
    "        combined[c] -= combined[c].min()\n",
    "        combined[c] = combined[c].astype(\"int32\")\n",
    "        combined[c] = combined[c].astype(\"category\")\n",
    "\n",
    "    # REDUCE PRECISION OF NUMERICAL TO 32BIT TO SAVE MEMORY\n",
    "    else:\n",
    "        if combined[c].dtype==\"float64\":\n",
    "            combined[c] = combined[c].astype(\"float32\")\n",
    "        if combined[c].dtype==\"int64\":\n",
    "            combined[c] = combined[c].astype(\"int32\")\n",
    "    \n",
    "train_df = combined.iloc[:len(train_df)].copy()\n",
    "test_df = combined.iloc[len(train_df):].reset_index(drop=True).copy()"
   ]
  },
  {
   "cell_type": "code",
   "execution_count": 10,
   "id": "18223e96",
   "metadata": {
    "execution": {
     "iopub.execute_input": "2025-01-12T17:14:24.164727Z",
     "iopub.status.busy": "2025-01-12T17:14:24.164419Z",
     "iopub.status.idle": "2025-01-12T17:14:24.168171Z",
     "shell.execute_reply": "2025-01-12T17:14:24.167411Z"
    },
    "papermill": {
     "duration": 0.016771,
     "end_time": "2025-01-12T17:14:24.169658",
     "exception": false,
     "start_time": "2025-01-12T17:14:24.152887",
     "status": "completed"
    },
    "tags": []
   },
   "outputs": [],
   "source": [
    "NUMS = [c for c in FEATURES if not c in CATS]"
   ]
  },
  {
   "cell_type": "markdown",
   "id": "48c5deb7",
   "metadata": {
    "_cell_guid": "c741ac55-cb90-47b5-ae30-af924cd94e92",
    "_uuid": "2e460c73-3bfd-4e7b-8438-9214f48cdf10",
    "collapsed": false,
    "jupyter": {
     "outputs_hidden": false
    },
    "papermill": {
     "duration": 0.010898,
     "end_time": "2025-01-12T17:14:24.191704",
     "exception": false,
     "start_time": "2025-01-12T17:14:24.180806",
     "status": "completed"
    },
    "tags": []
   },
   "source": [
    "## Step 6: Model training"
   ]
  },
  {
   "cell_type": "code",
   "execution_count": 11,
   "id": "6e5ec23a",
   "metadata": {
    "execution": {
     "iopub.execute_input": "2025-01-12T17:14:24.214515Z",
     "iopub.status.busy": "2025-01-12T17:14:24.214187Z",
     "iopub.status.idle": "2025-01-12T17:14:24.217813Z",
     "shell.execute_reply": "2025-01-12T17:14:24.216855Z"
    },
    "papermill": {
     "duration": 0.017031,
     "end_time": "2025-01-12T17:14:24.219445",
     "exception": false,
     "start_time": "2025-01-12T17:14:24.202414",
     "status": "completed"
    },
    "tags": []
   },
   "outputs": [],
   "source": [
    "# from tensorflow.python.framework.ops import disable_eager_execution\n",
    "# disable_eager_execution()"
   ]
  },
  {
   "cell_type": "code",
   "execution_count": 12,
   "id": "a46b49d5",
   "metadata": {
    "execution": {
     "iopub.execute_input": "2025-01-12T17:14:24.241730Z",
     "iopub.status.busy": "2025-01-12T17:14:24.241435Z",
     "iopub.status.idle": "2025-01-12T17:14:24.245766Z",
     "shell.execute_reply": "2025-01-12T17:14:24.245017Z"
    },
    "papermill": {
     "duration": 0.017067,
     "end_time": "2025-01-12T17:14:24.247170",
     "exception": false,
     "start_time": "2025-01-12T17:14:24.230103",
     "status": "completed"
    },
    "tags": []
   },
   "outputs": [],
   "source": [
    "import tensorflow as tf\n",
    "tf.random.set_seed(42)"
   ]
  },
  {
   "cell_type": "code",
   "execution_count": 13,
   "id": "b84f1273",
   "metadata": {
    "execution": {
     "iopub.execute_input": "2025-01-12T17:14:24.269152Z",
     "iopub.status.busy": "2025-01-12T17:14:24.268858Z",
     "iopub.status.idle": "2025-01-12T17:14:24.272405Z",
     "shell.execute_reply": "2025-01-12T17:14:24.271664Z"
    },
    "papermill": {
     "duration": 0.015974,
     "end_time": "2025-01-12T17:14:24.273684",
     "exception": false,
     "start_time": "2025-01-12T17:14:24.257710",
     "status": "completed"
    },
    "tags": []
   },
   "outputs": [],
   "source": [
    "from sklearn.preprocessing import StandardScaler\n",
    "scaler = StandardScaler()"
   ]
  },
  {
   "cell_type": "code",
   "execution_count": 14,
   "id": "62a625e1",
   "metadata": {
    "_cell_guid": "f7785561-27f1-4b1f-8476-491cdde0d065",
    "_uuid": "42fe86fc-ecd4-47ce-93d8-b137aff3855a",
    "execution": {
     "iopub.execute_input": "2025-01-12T17:14:24.295790Z",
     "iopub.status.busy": "2025-01-12T17:14:24.295509Z",
     "iopub.status.idle": "2025-01-12T17:14:31.920224Z",
     "shell.execute_reply": "2025-01-12T17:14:31.919061Z"
    },
    "papermill": {
     "duration": 7.637627,
     "end_time": "2025-01-12T17:14:31.921924",
     "exception": false,
     "start_time": "2025-01-12T17:14:24.284297",
     "status": "completed"
    },
    "tags": []
   },
   "outputs": [
    {
     "name": "stdout",
     "output_type": "stream",
     "text": [
      "#########################\n",
      "### Fold 1\n",
      "#########################\n",
      "01-12 17:14:24 I deeptables.m.deeptable.py 338 - X.Shape=(25920, 57), y.Shape=(25920,), batch_size=128, config=ModelConfig(name='conf-1', nets=['linear'], categorical_columns='auto', exclude_columns=[], task='auto', pos_label=None, metrics=['RootMeanSquaredError'], auto_categorize=False, cat_exponent=0.5, cat_remain_numeric=True, auto_encode_label=True, auto_imputation=True, auto_discrete=False, auto_discard_unique=True, apply_gbm_features=False, gbm_params={}, gbm_feature_type='embedding', fixed_embedding_dim=True, embeddings_output_dim=4, embeddings_initializer='uniform', embeddings_regularizer=None, embeddings_activity_regularizer=None, dense_dropout=0, embedding_dropout=0.3, stacking_op='add', output_use_bias=True, apply_class_weight=False, optimizer=<keras.src.optimizers.legacy.adam.Adam object at 0x7eab8c72ece0>, loss='auto', dnn_params={'hidden_units': ((128, 0, False), (64, 0, False)), 'activation': 'relu'}, autoint_params={'num_attention': 3, 'num_heads': 1, 'dropout_rate': 0, 'use_residual': True}, fgcnn_params={'fg_filters': (14, 16), 'fg_heights': (7, 7), 'fg_pool_heights': (2, 2), 'fg_new_feat_filters': (2, 2)}, fibinet_params={'senet_pooling_op': 'mean', 'senet_reduction_ratio': 3, 'bilinear_type': 'field_interaction'}, cross_params={'num_cross_layer': 4}, pnn_params={'outer_product_kernel_type': 'mat'}, afm_params={'attention_factor': 4, 'dropout_rate': 0}, cin_params={'cross_layer_size': (128, 128), 'activation': 'relu', 'use_residual': False, 'use_bias': False, 'direct': False, 'reduce_D': False}, home_dir=None, monitor_metric=None, earlystopping_patience=15, earlystopping_mode='auto', gpu_usage_strategy='memory_growth', distribute_strategy=None, var_len_categorical_columns=None)\n",
      "01-12 17:14:24 I deeptables.m.deeptable.py 339 - metrics:['RootMeanSquaredError']\n"
     ]
    },
    {
     "name": "stderr",
     "output_type": "stream",
     "text": [
      "01-12 17:14:24 W hypernets.t.cache.py 210 - AttributeError: Can't pickle local object 'make_gradient_clipnorm_fn.<locals>.<lambda>'\n",
      "Traceback (most recent call last):\n",
      "  File \"/usr/local/lib/python3.10/dist-packages/hypernets/tabular/cache.py\", line 165, in _cache_call\n",
      "    cache_key = tb.data_hasher()(key_items)\n",
      "  File \"/usr/local/lib/python3.10/dist-packages/hypernets/tabular/data_hasher.py\", line 20, in __call__\n",
      "    for x in self._iter_data(data):\n",
      "  File \"/usr/local/lib/python3.10/dist-packages/hypernets/tabular/data_hasher.py\", line 58, in _iter_data\n",
      "    yield from self._iter_data(v)\n",
      "  File \"/usr/local/lib/python3.10/dist-packages/hypernets/tabular/data_hasher.py\", line 53, in _iter_data\n",
      "    yield from self._iter_data(x)\n",
      "  File \"/usr/local/lib/python3.10/dist-packages/hypernets/tabular/data_hasher.py\", line 61, in _iter_data\n",
      "    pickle.dump(data, buf, protocol=pickle.HIGHEST_PROTOCOL)\n",
      "\n"
     ]
    },
    {
     "name": "stdout",
     "output_type": "stream",
     "text": [
      "01-12 17:14:24 I hypernets.t.toolbox.py 334 - Target column type is float64, so inferred as a [regression] task.\n",
      "01-12 17:14:24 I deeptables.m.preprocessor.py 261 - Preparing features...\n",
      "01-12 17:14:24 I deeptables.m.preprocessor.py 336 - Preparing features taken 0.021920204162597656s\n",
      "01-12 17:14:24 I deeptables.m.preprocessor.py 341 - Data imputation...\n",
      "01-12 17:14:24 I deeptables.m.preprocessor.py 383 - Imputation taken 0.08168315887451172s\n",
      "01-12 17:14:24 I deeptables.m.preprocessor.py 388 - Categorical encoding...\n",
      "01-12 17:14:24 I deeptables.m.preprocessor.py 393 - Categorical encoding taken 0.05209207534790039s\n",
      "01-12 17:14:24 I deeptables.m.preprocessor.py 196 - fit_transform taken 0.2004554271697998s\n",
      "01-12 17:14:24 I deeptables.m.deeptable.py 354 - Training...\n",
      "01-12 17:14:24 I deeptables.m.deeptable.py 752 - Injected a callback [EarlyStopping]. monitor:val_rootmeansquarederror, patience:15, mode:min\n",
      "01-12 17:14:24 I deeptables.u.dataset_generator.py 240 - create dataset generator with _TFDGForPandas, batch_size=128, shuffle=True, drop_remainder=True\n",
      "01-12 17:14:24 I deeptables.u.dataset_generator.py 240 - create dataset generator with _TFDGForPandas, batch_size=128, shuffle=True, drop_remainder=True\n",
      "01-12 17:14:24 I deeptables.m.deepmodel.py 231 - Building model...\n"
     ]
    },
    {
     "name": "stderr",
     "output_type": "stream",
     "text": [
      "/usr/local/lib/python3.10/dist-packages/keras/src/initializers/initializers.py:120: UserWarning: The initializer RandomUniform is unseeded and being called multiple times, which will return identical values each time (even if the initializer is unseeded). Please update your code to provide a seed to the initializer, or avoid using the same initializer instance more than once.\n",
      "  warnings.warn(\n"
     ]
    },
    {
     "name": "stdout",
     "output_type": "stream",
     "text": [
      "01-12 17:14:25 I deeptables.m.deepmodel.py 287 - >>>>>>>>>>>>>>>>>>>>>> Model Desc <<<<<<<<<<<<<<<<<<<<<<< \n",
      "---------------------------------------------------------\n",
      "inputs:\n",
      "---------------------------------------------------------\n",
      "['all_categorical_vars: (35)', 'input_continuous_all: (22)']\n",
      "---------------------------------------------------------\n",
      "embeddings:\n",
      "---------------------------------------------------------\n",
      "input_dims: [14, 6, 10, 6, 10, 6, 4, 5, 6, 6, 20, 7, 11, 5, 4, 8, 9, 6, 6, 5, 5, 7, 6, 6, 6, 20, 6, 7, 8, 6, 7, 6, 5, 6, 6]\n",
      "output_dims: [4, 4, 4, 4, 4, 4, 4, 4, 4, 4, 4, 4, 4, 4, 4, 4, 4, 4, 4, 4, 4, 4, 4, 4, 4, 4, 4, 4, 4, 4, 4, 4, 4, 4, 4]\n",
      "dropout: 0.3\n",
      "---------------------------------------------------------\n",
      "dense: dropout: 0\n",
      "batch_normalization: False\n",
      "---------------------------------------------------------\n",
      "concat_embed_dense: shape: (None, 162)\n",
      "---------------------------------------------------------\n",
      "nets: ['linear']\n",
      "---------------------------------------------------------\n",
      "linear: input_shape (None, 57), output_shape (None, 1)\n",
      "---------------------------------------------------------\n",
      "stacking_op: add\n",
      "---------------------------------------------------------\n",
      "output: activation: None, output_shape: (None, 1), use_bias: True\n",
      "loss: mse\n",
      "optimizer: Adam\n",
      "---------------------------------------------------------\n",
      "\n",
      "01-12 17:14:25 I deeptables.m.deepmodel.py 105 - training...\n",
      "162/162 [==============================] - 6s 6ms/step - loss: 19519.0039 - root_mean_squared_error: 139.7104 - val_loss: 4643.5874 - val_root_mean_squared_error: 68.1439\n",
      "01-12 17:14:31 I deeptables.m.deepmodel.py 122 - Training finished.\n",
      "01-12 17:14:31 I deeptables.m.deeptable.py 370 - Training finished.\n",
      "01-12 17:14:31 I deeptables.m.deeptable.py 704 - Model has been saved to:dt_output/dt_20250112171424_linear/linear.h5\n",
      "predicting on valid data\n",
      "01-12 17:14:31 I deeptables.m.deepmodel.py 130 - Performing predictions...\n",
      "01-12 17:14:31 I deeptables.u.dataset_generator.py 240 - create dataset generator with _TFDGForPandas, batch_size=128, shuffle=False, drop_remainder=False\n"
     ]
    },
    {
     "name": "stderr",
     "output_type": "stream",
     "text": [
      "/usr/local/lib/python3.10/dist-packages/deeptables/models/deepmodel.py:188: UserWarning: You are saving your model as an HDF5 file via `model.save()`. This file format is considered legacy. We recommend using instead the native Keras format, e.g. `model.save('my_model.keras')`.\n",
      "  save_model(self.model, h, save_format='h5')\n"
     ]
    },
    {
     "name": "stdout",
     "output_type": "stream",
     "text": [
      "predicting on test data\n",
      "01-12 17:14:31 I deeptables.m.deepmodel.py 130 - Performing predictions...\n",
      "01-12 17:14:31 I deeptables.u.dataset_generator.py 240 - create dataset generator with _TFDGForPandas, batch_size=128, shuffle=False, drop_remainder=False\n",
      "CPU times: user 7.93 s, sys: 291 ms, total: 8.22 s\n",
      "Wall time: 7.62 s\n"
     ]
    }
   ],
   "source": [
    "%%time\n",
    "FOLDS = 1\n",
    "    \n",
    "oof_lgb  = np.zeros(len(train_df))\n",
    "pred_lgb = np.zeros(len(test_df))\n",
    "\n",
    "models = {}\n",
    "\n",
    "for fold in range(FOLDS):\n",
    "    \n",
    "    print(\"#\"*25)\n",
    "    print(f\"### Fold {fold+1}\")\n",
    "    print(\"#\"*25)\n",
    "\n",
    "    x_train = train_df[train_df['fold']!=fold][FEATURES].copy()\n",
    "    y_train = train_df[train_df['fold']!=fold][\"y\"].copy()\n",
    "    x_valid = train_df[train_df['fold']==fold][FEATURES].copy()\n",
    "    y_valid = train_df[train_df['fold']==fold][\"y\"].copy()\n",
    "    x_test  = test_df[FEATURES].copy()\n",
    "    \n",
    "    optimizer = tf.keras.optimizers.legacy.Adam(learning_rate=0.001)\n",
    "    config      = deeptable.ModelConfig(\n",
    "                                            categorical_columns='auto',\n",
    "                                            nets =['linear'], \n",
    "                                            stacking_op = 'add', \n",
    "                                            earlystopping_patience=15, \n",
    "                                            metrics=[\"RootMeanSquaredError\"],\n",
    "                                            optimizer=optimizer\n",
    "                                        )\n",
    "\n",
    "    dt             = deeptable.DeepTable(config=config)\n",
    "    model, history = dt.fit(x_train, y_train, epochs=1)\n",
    "\n",
    "    # INFER OOF\n",
    "    print(f\"predicting on valid data\")\n",
    "    model_out              = model.predict(x_valid)\n",
    "    oof_lgb[x_valid.index] = model_out.flatten()\n",
    "    # INFER TEST\n",
    "    print(f\"predicting on test data\")\n",
    "    pred_lgb              += (model.predict(x_test)).flatten()\n",
    "\n",
    "    models[fold] = model\n",
    "\n",
    "# COMPUTE AVERAGE TEST PREDS\n",
    "pred_lgb /= FOLDS"
   ]
  },
  {
   "cell_type": "markdown",
   "id": "9de62d06",
   "metadata": {
    "papermill": {
     "duration": 0.012779,
     "end_time": "2025-01-12T17:14:31.948382",
     "exception": false,
     "start_time": "2025-01-12T17:14:31.935603",
     "status": "completed"
    },
    "tags": []
   },
   "source": [
    "## Step 7: Model score "
   ]
  },
  {
   "cell_type": "code",
   "execution_count": 15,
   "id": "7f4c0eb0",
   "metadata": {
    "execution": {
     "iopub.execute_input": "2025-01-12T17:14:31.975663Z",
     "iopub.status.busy": "2025-01-12T17:14:31.975294Z",
     "iopub.status.idle": "2025-01-12T17:14:32.095987Z",
     "shell.execute_reply": "2025-01-12T17:14:32.095195Z"
    },
    "papermill": {
     "duration": 0.136542,
     "end_time": "2025-01-12T17:14:32.097802",
     "exception": false,
     "start_time": "2025-01-12T17:14:31.961260",
     "status": "completed"
    },
    "tags": []
   },
   "outputs": [],
   "source": [
    "\"\"\"\n",
    "To evaluate the equitable prediction of transplant survival outcomes,\n",
    "we use the concordance index (C-index) between a series of event\n",
    "times and a predicted score across each race group.\n",
    " \n",
    "It represents the global assessment of the model discrimination power:\n",
    "this is the model’s ability to correctly provide a reliable ranking\n",
    "of the survival times based on the individual risk scores.\n",
    " \n",
    "The concordance index is a value between 0 and 1 where:\n",
    " \n",
    "0.5 is the expected result from random predictions,\n",
    "1.0 is perfect concordance (with no censoring, otherwise <1.0),\n",
    "0.0 is perfect anti-concordance (with no censoring, otherwise >0.0)\n",
    "\n",
    "\"\"\"\n",
    "\n",
    "import pandas as pd\n",
    "import pandas.api.types\n",
    "import numpy as np\n",
    "from lifelines.utils import concordance_index\n",
    "\n",
    "class ParticipantVisibleError(Exception):\n",
    "    pass\n",
    "\n",
    "\n",
    "def score(solution: pd.DataFrame, submission: pd.DataFrame, row_id_column_name: str) -> float:\n",
    "    \"\"\"\n",
    "    >>> import pandas as pd\n",
    "    >>> row_id_column_name = \"id\"\n",
    "    >>> y_pred = {'prediction': {0: 1.0, 1: 0.0, 2: 1.0}}\n",
    "    >>> y_pred = pd.DataFrame(y_pred)\n",
    "    >>> y_pred.insert(0, row_id_column_name, range(len(y_pred)))\n",
    "    >>> y_true = { 'efs': {0: 1.0, 1: 0.0, 2: 0.0}, 'efs_time': {0: 25.1234,1: 250.1234,2: 2500.1234}, 'race_group': {0: 'race_group_1', 1: 'race_group_1', 2: 'race_group_1'}}\n",
    "    >>> y_true = pd.DataFrame(y_true)\n",
    "    >>> y_true.insert(0, row_id_column_name, range(len(y_true)))\n",
    "    >>> score(y_true.copy(), y_pred.copy(), row_id_column_name)\n",
    "    0.75\n",
    "    \"\"\"\n",
    "    \n",
    "    del solution[row_id_column_name]\n",
    "    del submission[row_id_column_name]\n",
    "    \n",
    "    event_label = 'efs'\n",
    "    interval_label = 'efs_time'\n",
    "    prediction_label = 'prediction'\n",
    "    for col in submission.columns:\n",
    "        if not pandas.api.types.is_numeric_dtype(submission[col]):\n",
    "            raise ParticipantVisibleError(f'Submission column {col} must be a number')\n",
    "    # Merging solution and submission dfs on ID\n",
    "    merged_df = pd.concat([solution, submission], axis=1)\n",
    "    merged_df.reset_index(inplace=True)\n",
    "    merged_df_race_dict = dict(merged_df.groupby(['race_group']).groups)\n",
    "    metric_list = []\n",
    "    for race in merged_df_race_dict.keys():\n",
    "        # Retrieving values from y_test based on index\n",
    "        indices = sorted(merged_df_race_dict[race])\n",
    "        merged_df_race = merged_df.iloc[indices]\n",
    "        # Calculate the concordance index\n",
    "        c_index_race = concordance_index(\n",
    "                        merged_df_race[interval_label],\n",
    "                        -merged_df_race[prediction_label],\n",
    "                        merged_df_race[event_label])\n",
    "        metric_list.append(c_index_race)\n",
    "    return float(np.mean(metric_list)-np.sqrt(np.var(metric_list)))"
   ]
  },
  {
   "cell_type": "markdown",
   "id": "d25b1451",
   "metadata": {
    "papermill": {
     "duration": 0.01296,
     "end_time": "2025-01-12T17:14:32.124125",
     "exception": false,
     "start_time": "2025-01-12T17:14:32.111165",
     "status": "completed"
    },
    "tags": []
   },
   "source": [
    "## Step 8: Model CV"
   ]
  },
  {
   "cell_type": "code",
   "execution_count": 16,
   "id": "7d609733",
   "metadata": {
    "_cell_guid": "a16eceda-8973-4c17-8f13-0423fe0cb225",
    "_uuid": "ee05ecfe-1315-47c7-aac9-090b3cd60b56",
    "collapsed": false,
    "execution": {
     "iopub.execute_input": "2025-01-12T17:14:32.151462Z",
     "iopub.status.busy": "2025-01-12T17:14:32.151098Z",
     "iopub.status.idle": "2025-01-12T17:14:32.457164Z",
     "shell.execute_reply": "2025-01-12T17:14:32.456012Z"
    },
    "jupyter": {
     "outputs_hidden": false
    },
    "papermill": {
     "duration": 0.321509,
     "end_time": "2025-01-12T17:14:32.458710",
     "exception": false,
     "start_time": "2025-01-12T17:14:32.137201",
     "status": "completed"
    },
    "tags": []
   },
   "outputs": [
    {
     "name": "stderr",
     "output_type": "stream",
     "text": [
      "<ipython-input-15-a1aa375cd29b>:53: FutureWarning: The default of observed=False is deprecated and will be changed to True in a future version of pandas. Pass observed=False to retain current behavior or observed=True to adopt the future default and silence this warning.\n",
      "  merged_df_race_dict = dict(merged_df.groupby(['race_group']).groups)\n"
     ]
    },
    {
     "name": "stdout",
     "output_type": "stream",
     "text": [
      "\n",
      "Overall CV for DeepTables = 0.4980169198690174\n"
     ]
    }
   ],
   "source": [
    "y_true = train_df[[\"ID\",\"efs\",\"efs_time\",\"race_group\"]].copy()\n",
    "y_pred = train_df[[\"ID\"]].copy()\n",
    "y_pred[\"prediction\"] = oof_lgb\n",
    "m = score(y_true.copy(), y_pred.copy(), \"ID\")\n",
    "print(f\"\\nOverall CV for DeepTables =\",m)"
   ]
  },
  {
   "cell_type": "markdown",
   "id": "43b4a637",
   "metadata": {
    "papermill": {
     "duration": 0.013037,
     "end_time": "2025-01-12T17:14:32.485185",
     "exception": false,
     "start_time": "2025-01-12T17:14:32.472148",
     "status": "completed"
    },
    "tags": []
   },
   "source": [
    "## Step 9: Create submission.csv"
   ]
  },
  {
   "cell_type": "code",
   "execution_count": 17,
   "id": "7fef367c",
   "metadata": {
    "execution": {
     "iopub.execute_input": "2025-01-12T17:14:32.512832Z",
     "iopub.status.busy": "2025-01-12T17:14:32.512481Z",
     "iopub.status.idle": "2025-01-12T17:14:32.530192Z",
     "shell.execute_reply": "2025-01-12T17:14:32.529238Z"
    },
    "papermill": {
     "duration": 0.033232,
     "end_time": "2025-01-12T17:14:32.531620",
     "exception": false,
     "start_time": "2025-01-12T17:14:32.498388",
     "status": "completed"
    },
    "tags": []
   },
   "outputs": [
    {
     "name": "stdout",
     "output_type": "stream",
     "text": [
      "Sub shape: (3, 2)\n"
     ]
    },
    {
     "data": {
      "text/html": [
       "<div>\n",
       "<style scoped>\n",
       "    .dataframe tbody tr th:only-of-type {\n",
       "        vertical-align: middle;\n",
       "    }\n",
       "\n",
       "    .dataframe tbody tr th {\n",
       "        vertical-align: top;\n",
       "    }\n",
       "\n",
       "    .dataframe thead th {\n",
       "        text-align: right;\n",
       "    }\n",
       "</style>\n",
       "<table border=\"1\" class=\"dataframe\">\n",
       "  <thead>\n",
       "    <tr style=\"text-align: right;\">\n",
       "      <th></th>\n",
       "      <th>ID</th>\n",
       "      <th>prediction</th>\n",
       "    </tr>\n",
       "  </thead>\n",
       "  <tbody>\n",
       "    <tr>\n",
       "      <th>0</th>\n",
       "      <td>28800</td>\n",
       "      <td>2.0</td>\n",
       "    </tr>\n",
       "    <tr>\n",
       "      <th>1</th>\n",
       "      <td>28801</td>\n",
       "      <td>3.0</td>\n",
       "    </tr>\n",
       "    <tr>\n",
       "      <th>2</th>\n",
       "      <td>28802</td>\n",
       "      <td>1.0</td>\n",
       "    </tr>\n",
       "  </tbody>\n",
       "</table>\n",
       "</div>"
      ],
      "text/plain": [
       "      ID  prediction\n",
       "0  28800         2.0\n",
       "1  28801         3.0\n",
       "2  28802         1.0"
      ]
     },
     "execution_count": 17,
     "metadata": {},
     "output_type": "execute_result"
    }
   ],
   "source": [
    "sub = pd.read_csv(\"/kaggle/input/equity-post-HCT-survival-predictions/sample_submission.csv\")\n",
    "sub.prediction = rankdata(pred_lgb) \n",
    "sub.to_csv(\"submission.csv\",index=False)\n",
    "print(\"Sub shape:\",sub.shape)\n",
    "sub.head()"
   ]
  },
  {
   "cell_type": "markdown",
   "id": "c1e10227",
   "metadata": {
    "papermill": {
     "duration": 0.013297,
     "end_time": "2025-01-12T17:14:32.558901",
     "exception": false,
     "start_time": "2025-01-12T17:14:32.545604",
     "status": "completed"
    },
    "tags": []
   },
   "source": [
    "## Step 10: Save the models"
   ]
  },
  {
   "cell_type": "code",
   "execution_count": 18,
   "id": "90516a33",
   "metadata": {
    "execution": {
     "iopub.execute_input": "2025-01-12T17:14:32.587315Z",
     "iopub.status.busy": "2025-01-12T17:14:32.586958Z",
     "iopub.status.idle": "2025-01-12T17:14:32.671509Z",
     "shell.execute_reply": "2025-01-12T17:14:32.670703Z"
    },
    "papermill": {
     "duration": 0.100581,
     "end_time": "2025-01-12T17:14:32.673212",
     "exception": false,
     "start_time": "2025-01-12T17:14:32.572631",
     "status": "completed"
    },
    "tags": []
   },
   "outputs": [],
   "source": [
    "for fold, model in models.items():\n",
    "    model.model.save(f\"model_fold_{fold}.keras\")"
   ]
  },
  {
   "cell_type": "code",
   "execution_count": 19,
   "id": "08dfd9c8",
   "metadata": {
    "execution": {
     "iopub.execute_input": "2025-01-12T17:14:32.701529Z",
     "iopub.status.busy": "2025-01-12T17:14:32.701216Z",
     "iopub.status.idle": "2025-01-12T17:14:32.704675Z",
     "shell.execute_reply": "2025-01-12T17:14:32.703874Z"
    },
    "papermill": {
     "duration": 0.019131,
     "end_time": "2025-01-12T17:14:32.706103",
     "exception": false,
     "start_time": "2025-01-12T17:14:32.686972",
     "status": "completed"
    },
    "tags": []
   },
   "outputs": [],
   "source": [
    "# import pickle\n",
    "# with open('tabm_exp_01.pkl', 'wb') as f:\n",
    "#     pickle.dump(models, f)"
   ]
  },
  {
   "cell_type": "code",
   "execution_count": 20,
   "id": "b3455f39",
   "metadata": {
    "execution": {
     "iopub.execute_input": "2025-01-12T17:14:32.733539Z",
     "iopub.status.busy": "2025-01-12T17:14:32.733259Z",
     "iopub.status.idle": "2025-01-12T17:14:59.122013Z",
     "shell.execute_reply": "2025-01-12T17:14:59.121035Z"
    },
    "papermill": {
     "duration": 26.404401,
     "end_time": "2025-01-12T17:14:59.123796",
     "exception": false,
     "start_time": "2025-01-12T17:14:32.719395",
     "status": "completed"
    },
    "tags": []
   },
   "outputs": [],
   "source": [
    "train_df['predictions'] = oof_lgb\n",
    "train_df.to_excel(\"dt_exp_01_oof.xlsx\")"
   ]
  },
  {
   "cell_type": "code",
   "execution_count": null,
   "id": "e7d23915",
   "metadata": {
    "papermill": {
     "duration": 0.013295,
     "end_time": "2025-01-12T17:14:59.151048",
     "exception": false,
     "start_time": "2025-01-12T17:14:59.137753",
     "status": "completed"
    },
    "tags": []
   },
   "outputs": [],
   "source": []
  }
 ],
 "metadata": {
  "kaggle": {
   "accelerator": "none",
   "dataSources": [
    {
     "databundleVersionId": 10381525,
     "sourceId": 70942,
     "sourceType": "competition"
    },
    {
     "datasetId": 4074593,
     "sourceId": 7074842,
     "sourceType": "datasetVersion"
    },
    {
     "datasetId": 4021289,
     "sourceId": 7570020,
     "sourceType": "datasetVersion"
    },
    {
     "datasetId": 6415434,
     "sourceId": 10370860,
     "sourceType": "datasetVersion"
    },
    {
     "sourceId": 211322530,
     "sourceType": "kernelVersion"
    }
   ],
   "dockerImageVersionId": 30822,
   "isGpuEnabled": false,
   "isInternetEnabled": false,
   "language": "python",
   "sourceType": "notebook"
  },
  "kernelspec": {
   "display_name": "Python 3",
   "language": "python",
   "name": "python3"
  },
  "language_info": {
   "codemirror_mode": {
    "name": "ipython",
    "version": 3
   },
   "file_extension": ".py",
   "mimetype": "text/x-python",
   "name": "python",
   "nbconvert_exporter": "python",
   "pygments_lexer": "ipython3",
   "version": "3.10.12"
  },
  "papermill": {
   "default_parameters": {},
   "duration": 177.59057,
   "end_time": "2025-01-12T17:15:01.189585",
   "environment_variables": {},
   "exception": null,
   "input_path": "__notebook__.ipynb",
   "output_path": "__notebook__.ipynb",
   "parameters": {},
   "start_time": "2025-01-12T17:12:03.599015",
   "version": "2.6.0"
  }
 },
 "nbformat": 4,
 "nbformat_minor": 5
}
