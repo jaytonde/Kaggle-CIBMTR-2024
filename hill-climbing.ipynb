{
 "cells": [
  {
   "cell_type": "markdown",
   "id": "197da467",
   "metadata": {
    "_cell_guid": "46a264b2-b97f-487b-9a3d-2597a0ecdc21",
    "_uuid": "9daabf89-8847-4537-a0b7-2a722b5c452d",
    "collapsed": false,
    "jupyter": {
     "outputs_hidden": false
    },
    "papermill": {
     "duration": 0.009987,
     "end_time": "2025-02-01T16:13:52.779434",
     "exception": false,
     "start_time": "2025-02-01T16:13:52.769447",
     "status": "completed"
    },
    "tags": []
   },
   "source": [
    "## Installations"
   ]
  },
  {
   "cell_type": "code",
   "execution_count": 1,
   "id": "372791cb",
   "metadata": {
    "execution": {
     "iopub.execute_input": "2025-02-01T16:13:52.799099Z",
     "iopub.status.busy": "2025-02-01T16:13:52.798747Z",
     "iopub.status.idle": "2025-02-01T16:14:17.084570Z",
     "shell.execute_reply": "2025-02-01T16:14:17.083232Z"
    },
    "papermill": {
     "duration": 24.298385,
     "end_time": "2025-02-01T16:14:17.087156",
     "exception": false,
     "start_time": "2025-02-01T16:13:52.788771",
     "status": "completed"
    },
    "tags": []
   },
   "outputs": [
    {
     "name": "stdout",
     "output_type": "stream",
     "text": [
      "Processing /kaggle/input/pip-install-lifelines/autograd-1.7.0-py3-none-any.whl\r\n",
      "Requirement already satisfied: numpy in /usr/local/lib/python3.10/dist-packages (from autograd==1.7.0) (1.26.4)\r\n",
      "autograd is already installed with the same version as the provided wheel. Use --force-reinstall to force an installation of the wheel.\r\n",
      "Processing /kaggle/input/pip-install-lifelines/autograd-gamma-0.5.0.tar.gz\r\n",
      "  Preparing metadata (setup.py) ... \u001b[?25l\u001b[?25hdone\r\n",
      "Requirement already satisfied: autograd>=1.2.0 in /usr/local/lib/python3.10/dist-packages (from autograd-gamma==0.5.0) (1.7.0)\r\n",
      "Requirement already satisfied: scipy>=1.2.0 in /usr/local/lib/python3.10/dist-packages (from autograd-gamma==0.5.0) (1.13.1)\r\n",
      "Requirement already satisfied: numpy in /usr/local/lib/python3.10/dist-packages (from autograd>=1.2.0->autograd-gamma==0.5.0) (1.26.4)\r\n",
      "Building wheels for collected packages: autograd-gamma\r\n",
      "  Building wheel for autograd-gamma (setup.py) ... \u001b[?25l\u001b[?25hdone\r\n",
      "  Created wheel for autograd-gamma: filename=autograd_gamma-0.5.0-py3-none-any.whl size=4031 sha256=d96f46c91fe3449547b7522daa9b3fc1f59baf388ad67f12899aea1105596999\r\n",
      "  Stored in directory: /root/.cache/pip/wheels/6b/b5/e0/4c79e15c0b5f2c15ecf613c720bb20daab20a666eb67135155\r\n",
      "Successfully built autograd-gamma\r\n",
      "Installing collected packages: autograd-gamma\r\n",
      "Successfully installed autograd-gamma-0.5.0\r\n",
      "Processing /kaggle/input/pip-install-lifelines/interface_meta-1.3.0-py3-none-any.whl\r\n",
      "Installing collected packages: interface-meta\r\n",
      "Successfully installed interface-meta-1.3.0\r\n",
      "Processing /kaggle/input/pip-install-lifelines/formulaic-1.0.2-py3-none-any.whl\r\n",
      "Requirement already satisfied: interface-meta>=1.2.0 in /usr/local/lib/python3.10/dist-packages (from formulaic==1.0.2) (1.3.0)\r\n",
      "Requirement already satisfied: numpy>=1.16.5 in /usr/local/lib/python3.10/dist-packages (from formulaic==1.0.2) (1.26.4)\r\n",
      "Requirement already satisfied: pandas>=1.0 in /usr/local/lib/python3.10/dist-packages (from formulaic==1.0.2) (2.1.4)\r\n",
      "Requirement already satisfied: scipy>=1.6 in /usr/local/lib/python3.10/dist-packages (from formulaic==1.0.2) (1.13.1)\r\n",
      "Requirement already satisfied: typing-extensions>=4.2.0 in /usr/local/lib/python3.10/dist-packages (from formulaic==1.0.2) (4.12.2)\r\n",
      "Requirement already satisfied: wrapt>=1.0 in /usr/local/lib/python3.10/dist-packages (from formulaic==1.0.2) (1.16.0)\r\n",
      "Requirement already satisfied: python-dateutil>=2.8.2 in /usr/local/lib/python3.10/dist-packages (from pandas>=1.0->formulaic==1.0.2) (2.8.2)\r\n",
      "Requirement already satisfied: pytz>=2020.1 in /usr/local/lib/python3.10/dist-packages (from pandas>=1.0->formulaic==1.0.2) (2024.2)\r\n",
      "Requirement already satisfied: tzdata>=2022.1 in /usr/local/lib/python3.10/dist-packages (from pandas>=1.0->formulaic==1.0.2) (2024.1)\r\n",
      "Requirement already satisfied: six>=1.5 in /usr/local/lib/python3.10/dist-packages (from python-dateutil>=2.8.2->pandas>=1.0->formulaic==1.0.2) (1.16.0)\r\n",
      "Installing collected packages: formulaic\r\n",
      "Successfully installed formulaic-1.0.2\r\n",
      "Processing /kaggle/input/pip-install-lifelines/lifelines-0.30.0-py3-none-any.whl\r\n",
      "Requirement already satisfied: numpy>=1.14.0 in /usr/local/lib/python3.10/dist-packages (from lifelines==0.30.0) (1.26.4)\r\n",
      "Requirement already satisfied: scipy>=1.7.0 in /usr/local/lib/python3.10/dist-packages (from lifelines==0.30.0) (1.13.1)\r\n",
      "Requirement already satisfied: pandas>=2.1 in /usr/local/lib/python3.10/dist-packages (from lifelines==0.30.0) (2.1.4)\r\n",
      "Requirement already satisfied: matplotlib>=3.0 in /usr/local/lib/python3.10/dist-packages (from lifelines==0.30.0) (3.7.1)\r\n",
      "Requirement already satisfied: autograd>=1.5 in /usr/local/lib/python3.10/dist-packages (from lifelines==0.30.0) (1.7.0)\r\n",
      "Requirement already satisfied: autograd-gamma>=0.3 in /usr/local/lib/python3.10/dist-packages (from lifelines==0.30.0) (0.5.0)\r\n",
      "Requirement already satisfied: formulaic>=0.2.2 in /usr/local/lib/python3.10/dist-packages (from lifelines==0.30.0) (1.0.2)\r\n",
      "Requirement already satisfied: interface-meta>=1.2.0 in /usr/local/lib/python3.10/dist-packages (from formulaic>=0.2.2->lifelines==0.30.0) (1.3.0)\r\n",
      "Requirement already satisfied: typing-extensions>=4.2.0 in /usr/local/lib/python3.10/dist-packages (from formulaic>=0.2.2->lifelines==0.30.0) (4.12.2)\r\n",
      "Requirement already satisfied: wrapt>=1.0 in /usr/local/lib/python3.10/dist-packages (from formulaic>=0.2.2->lifelines==0.30.0) (1.16.0)\r\n",
      "Requirement already satisfied: contourpy>=1.0.1 in /usr/local/lib/python3.10/dist-packages (from matplotlib>=3.0->lifelines==0.30.0) (1.3.0)\r\n",
      "Requirement already satisfied: cycler>=0.10 in /usr/local/lib/python3.10/dist-packages (from matplotlib>=3.0->lifelines==0.30.0) (0.12.1)\r\n",
      "Requirement already satisfied: fonttools>=4.22.0 in /usr/local/lib/python3.10/dist-packages (from matplotlib>=3.0->lifelines==0.30.0) (4.53.1)\r\n",
      "Requirement already satisfied: kiwisolver>=1.0.1 in /usr/local/lib/python3.10/dist-packages (from matplotlib>=3.0->lifelines==0.30.0) (1.4.7)\r\n",
      "Requirement already satisfied: packaging>=20.0 in /usr/local/lib/python3.10/dist-packages (from matplotlib>=3.0->lifelines==0.30.0) (24.1)\r\n",
      "Requirement already satisfied: pillow>=6.2.0 in /usr/local/lib/python3.10/dist-packages (from matplotlib>=3.0->lifelines==0.30.0) (10.4.0)\r\n",
      "Requirement already satisfied: pyparsing>=2.3.1 in /usr/local/lib/python3.10/dist-packages (from matplotlib>=3.0->lifelines==0.30.0) (3.1.4)\r\n",
      "Requirement already satisfied: python-dateutil>=2.7 in /usr/local/lib/python3.10/dist-packages (from matplotlib>=3.0->lifelines==0.30.0) (2.8.2)\r\n",
      "Requirement already satisfied: pytz>=2020.1 in /usr/local/lib/python3.10/dist-packages (from pandas>=2.1->lifelines==0.30.0) (2024.2)\r\n",
      "Requirement already satisfied: tzdata>=2022.1 in /usr/local/lib/python3.10/dist-packages (from pandas>=2.1->lifelines==0.30.0) (2024.1)\r\n",
      "Requirement already satisfied: six>=1.5 in /usr/local/lib/python3.10/dist-packages (from python-dateutil>=2.7->matplotlib>=3.0->lifelines==0.30.0) (1.16.0)\r\n",
      "Installing collected packages: lifelines\r\n",
      "Successfully installed lifelines-0.30.0\r\n"
     ]
    }
   ],
   "source": [
    "!pip install /kaggle/input/pip-install-lifelines/autograd-1.7.0-py3-none-any.whl\n",
    "!pip install /kaggle/input/pip-install-lifelines/autograd-gamma-0.5.0.tar.gz\n",
    "!pip install /kaggle/input/pip-install-lifelines/interface_meta-1.3.0-py3-none-any.whl\n",
    "!pip install /kaggle/input/pip-install-lifelines/formulaic-1.0.2-py3-none-any.whl\n",
    "!pip install /kaggle/input/pip-install-lifelines/lifelines-0.30.0-py3-none-any.whl"
   ]
  },
  {
   "cell_type": "code",
   "execution_count": 2,
   "id": "1d3fbfae",
   "metadata": {
    "execution": {
     "iopub.execute_input": "2025-02-01T16:14:17.122781Z",
     "iopub.status.busy": "2025-02-01T16:14:17.122359Z",
     "iopub.status.idle": "2025-02-01T16:14:25.476246Z",
     "shell.execute_reply": "2025-02-01T16:14:25.474828Z"
    },
    "papermill": {
     "duration": 8.372148,
     "end_time": "2025-02-01T16:14:25.478895",
     "exception": false,
     "start_time": "2025-02-01T16:14:17.106747",
     "status": "completed"
    },
    "tags": []
   },
   "outputs": [
    {
     "name": "stdout",
     "output_type": "stream",
     "text": [
      "Looking in links: /kaggle/input/tabm-tabular-dl-library\r\n",
      "Processing /kaggle/input/tabm-tabular-dl-library/tabm-0.0.1.dev0-py3-none-any.whl\r\n",
      "Requirement already satisfied: torch<3,>=1.12 in /usr/local/lib/python3.10/dist-packages (from tabm==0.0.1.dev0) (2.4.1+cu121)\r\n",
      "Processing /kaggle/input/tabm-tabular-dl-library/rtdl_num_embeddings-0.0.11-py3-none-any.whl (from tabm==0.0.1.dev0)\r\n",
      "Requirement already satisfied: filelock in /usr/local/lib/python3.10/dist-packages (from torch<3,>=1.12->tabm==0.0.1.dev0) (3.16.1)\r\n",
      "Requirement already satisfied: typing-extensions>=4.8.0 in /usr/local/lib/python3.10/dist-packages (from torch<3,>=1.12->tabm==0.0.1.dev0) (4.12.2)\r\n",
      "Requirement already satisfied: sympy in /usr/local/lib/python3.10/dist-packages (from torch<3,>=1.12->tabm==0.0.1.dev0) (1.13.3)\r\n",
      "Requirement already satisfied: networkx in /usr/local/lib/python3.10/dist-packages (from torch<3,>=1.12->tabm==0.0.1.dev0) (3.3)\r\n",
      "Requirement already satisfied: jinja2 in /usr/local/lib/python3.10/dist-packages (from torch<3,>=1.12->tabm==0.0.1.dev0) (3.1.4)\r\n",
      "Requirement already satisfied: fsspec in /usr/local/lib/python3.10/dist-packages (from torch<3,>=1.12->tabm==0.0.1.dev0) (2024.6.1)\r\n",
      "Requirement already satisfied: MarkupSafe>=2.0 in /usr/local/lib/python3.10/dist-packages (from jinja2->torch<3,>=1.12->tabm==0.0.1.dev0) (2.1.5)\r\n",
      "Requirement already satisfied: mpmath<1.4,>=1.1.0 in /usr/local/lib/python3.10/dist-packages (from sympy->torch<3,>=1.12->tabm==0.0.1.dev0) (1.3.0)\r\n",
      "Installing collected packages: rtdl_num_embeddings, tabm\r\n",
      "Successfully installed rtdl_num_embeddings-0.0.11 tabm-0.0.1.dev0\r\n"
     ]
    }
   ],
   "source": [
    "!pip install --no-index -U --find-links=/kaggle/input/tabm-tabular-dl-library tabm==0.0.1.dev0\n",
    "!pip -q install /kaggle/input/pytorchtabnet/pytorch_tabnet-4.1.0-py3-none-any.whl"
   ]
  },
  {
   "cell_type": "code",
   "execution_count": 3,
   "id": "78ec8a6e",
   "metadata": {
    "execution": {
     "iopub.execute_input": "2025-02-01T16:14:25.501869Z",
     "iopub.status.busy": "2025-02-01T16:14:25.501469Z",
     "iopub.status.idle": "2025-02-01T16:14:29.713063Z",
     "shell.execute_reply": "2025-02-01T16:14:29.711742Z"
    },
    "papermill": {
     "duration": 4.226182,
     "end_time": "2025-02-01T16:14:29.715916",
     "exception": false,
     "start_time": "2025-02-01T16:14:25.489734",
     "status": "completed"
    },
    "tags": []
   },
   "outputs": [],
   "source": [
    "!pip -q install /kaggle/input/tabpfn-v2/tabpfn-2.0.0-py3-none-any.whl"
   ]
  },
  {
   "cell_type": "markdown",
   "id": "7754d4ba",
   "metadata": {
    "papermill": {
     "duration": 0.01019,
     "end_time": "2025-02-01T16:14:29.737190",
     "exception": false,
     "start_time": "2025-02-01T16:14:29.727000",
     "status": "completed"
    },
    "tags": []
   },
   "source": [
    "## Step 1 : Installations"
   ]
  },
  {
   "cell_type": "code",
   "execution_count": 4,
   "id": "dd245b91",
   "metadata": {
    "execution": {
     "iopub.execute_input": "2025-02-01T16:14:29.760417Z",
     "iopub.status.busy": "2025-02-01T16:14:29.760035Z",
     "iopub.status.idle": "2025-02-01T16:14:47.024341Z",
     "shell.execute_reply": "2025-02-01T16:14:47.023172Z"
    },
    "papermill": {
     "duration": 17.278182,
     "end_time": "2025-02-01T16:14:47.026464",
     "exception": false,
     "start_time": "2025-02-01T16:14:29.748282",
     "status": "completed"
    },
    "tags": []
   },
   "outputs": [],
   "source": [
    "import numpy as np\n",
    "import pandas as pd\n",
    "from scipy.stats import rankdata \n",
    "\n",
    "import sys\n",
    "sys.path.append('/kaggle/input/tabm-tabular-dl-library')\n",
    "\n",
    "import os\n",
    "import tabm\n",
    "import math\n",
    "import torch\n",
    "import random\n",
    "import warnings\n",
    "from tqdm import tqdm\n",
    "import pandas as pd\n",
    "import numpy as np\n",
    "import rtdl_num_embeddings\n",
    "import matplotlib.pyplot as plt\n",
    "from typing import Optional, Tuple\n",
    "from sklearn.model_selection import KFold\n",
    "from scipy.stats import rankdata \n",
    "from colorama import Fore, Style\n",
    "from typing import Optional, Tuple\n",
    "from numpy.typing import ArrayLike\n",
    "from sklearn.base import BaseEstimator\n",
    "from sklearn.impute import SimpleImputer\n",
    "from sklearn.model_selection import KFold\n",
    "from tabm_reference import Model, make_parameter_groups\n",
    "from sklearn.preprocessing import OrdinalEncoder, QuantileTransformer\n",
    "from pytorch_tabnet.tab_model import TabNetRegressor\n",
    "\n",
    "import tensorflow as tf\n",
    "from tensorflow.keras.models import Model\n",
    "from tensorflow.keras.layers import Dense, Dropout, Input, Embedding\n",
    "from tensorflow.keras.layers import Concatenate, BatchNormalization\n",
    "import tensorflow.keras.backend as K\n",
    "from pytorch_tabnet.tab_model import TabNetRegressor\n",
    "from tabpfn import TabPFNRegressor"
   ]
  },
  {
   "cell_type": "markdown",
   "id": "65bb1ae0",
   "metadata": {
    "papermill": {
     "duration": 0.01056,
     "end_time": "2025-02-01T16:14:47.048238",
     "exception": false,
     "start_time": "2025-02-01T16:14:47.037678",
     "status": "completed"
    },
    "tags": []
   },
   "source": [
    "## Step 2: Experiments Paths  to add in ensemble"
   ]
  },
  {
   "cell_type": "code",
   "execution_count": 5,
   "id": "6380d668",
   "metadata": {
    "execution": {
     "iopub.execute_input": "2025-02-01T16:14:47.071441Z",
     "iopub.status.busy": "2025-02-01T16:14:47.070696Z",
     "iopub.status.idle": "2025-02-01T16:14:47.075770Z",
     "shell.execute_reply": "2025-02-01T16:14:47.074764Z"
    },
    "papermill": {
     "duration": 0.018413,
     "end_time": "2025-02-01T16:14:47.077460",
     "exception": false,
     "start_time": "2025-02-01T16:14:47.059047",
     "status": "completed"
    },
    "tags": []
   },
   "outputs": [],
   "source": [
    "experiments = [\n",
    "\"/kaggle/input/xgboost-exp-01\",\n",
    "\"/kaggle/input/catboost-exp-01\", \n",
    "\"/kaggle/input/lgbm-exp-01\",\n",
    "\"/kaggle/input/xgboost-exp-02\",\n",
    "\"/kaggle/input/catboost-exp-02\",\n",
    "\"/kaggle/input/lgbm-exp-03\",\n",
    "\"/kaggle/input/catboost-exp-03\",\n",
    "\"/kaggle/input/tabm-exp-01\",\n",
    "\"/kaggle/input/nn-exp-01\",\n",
    "\"/kaggle/input/tn-exp-01\",\n",
    "\"/kaggle/input/tf-exp-01\",\n",
    "\"/kaggle/input/svr-exp-01\",\n",
    "\"/kaggle/input/abd-exp-01\",\n",
    "\"/kaggle/input/catboost-exp-04\",\n",
    "\"/kaggle/input/lgbm-exp-04\",\n",
    "\"/kaggle/input/tabm-exp-02\",\n",
    "\"/kaggle/input/ds-exp-01\",\n",
    "\"/kaggle/input/nn-exp-02\",\n",
    "\"/kaggle/input/nn-exp-04\"\n",
    "# \"/kaggle/input/suv-ran-exp-01\" -> File not found\n",
    "]"
   ]
  },
  {
   "cell_type": "markdown",
   "id": "7f3da35c",
   "metadata": {
    "papermill": {
     "duration": 0.010388,
     "end_time": "2025-02-01T16:14:47.098830",
     "exception": false,
     "start_time": "2025-02-01T16:14:47.088442",
     "status": "completed"
    },
    "tags": []
   },
   "source": [
    "## Step 3 : Competition metric"
   ]
  },
  {
   "cell_type": "code",
   "execution_count": 6,
   "id": "2dcaac3c",
   "metadata": {
    "execution": {
     "iopub.execute_input": "2025-02-01T16:14:47.122410Z",
     "iopub.status.busy": "2025-02-01T16:14:47.122077Z",
     "iopub.status.idle": "2025-02-01T16:14:47.243346Z",
     "shell.execute_reply": "2025-02-01T16:14:47.242356Z"
    },
    "papermill": {
     "duration": 0.135482,
     "end_time": "2025-02-01T16:14:47.245297",
     "exception": false,
     "start_time": "2025-02-01T16:14:47.109815",
     "status": "completed"
    },
    "tags": []
   },
   "outputs": [],
   "source": [
    "import pandas as pd\n",
    "import pandas.api.types\n",
    "import numpy as np\n",
    "from lifelines.utils import concordance_index\n",
    "\n",
    "class ParticipantVisibleError(Exception):\n",
    "    pass\n",
    "\n",
    "\n",
    "def score(solution: pd.DataFrame, submission: pd.DataFrame, row_id_column_name: str) -> float:\n",
    "    \"\"\"\n",
    "    >>> import pandas as pd\n",
    "    >>> row_id_column_name = \"id\"\n",
    "    >>> y_pred = {'prediction': {0: 1.0, 1: 0.0, 2: 1.0}}\n",
    "    >>> y_pred = pd.DataFrame(y_pred)\n",
    "    >>> y_pred.insert(0, row_id_column_name, range(len(y_pred)))\n",
    "    >>> y_true = { 'efs': {0: 1.0, 1: 0.0, 2: 0.0}, 'efs_time': {0: 25.1234,1: 250.1234,2: 2500.1234}, 'race_group': {0: 'race_group_1', 1: 'race_group_1', 2: 'race_group_1'}}\n",
    "    >>> y_true = pd.DataFrame(y_true)\n",
    "    >>> y_true.insert(0, row_id_column_name, range(len(y_true)))\n",
    "    >>> score(y_true.copy(), y_pred.copy(), row_id_column_name)\n",
    "    0.75\n",
    "    \"\"\"\n",
    "\n",
    "    del solution[row_id_column_name]\n",
    "    del submission[row_id_column_name]\n",
    "    \n",
    "    event_label = 'efs'\n",
    "    interval_label = 'efs_time'\n",
    "    prediction_label = 'predictions'\n",
    "    for col in submission.columns:\n",
    "        if not pandas.api.types.is_numeric_dtype(submission[col]):\n",
    "            raise ParticipantVisibleError(f'Submission column {col} must be a number')\n",
    "    # Merging solution and submission dfs on ID\n",
    "    merged_df = pd.concat([solution, submission], axis=1)\n",
    "    merged_df.reset_index(inplace=True)\n",
    "    merged_df_race_dict = dict(merged_df.groupby(['race_group']).groups)\n",
    "    metric_list = []\n",
    "\n",
    "    for race in merged_df_race_dict.keys():\n",
    "        # Retrieving values from y_test based on index\n",
    "        indices = sorted(merged_df_race_dict[race])\n",
    "        merged_df_race = merged_df.iloc[indices]\n",
    "        # Calculate the concordance index\n",
    "        c_index_race = concordance_index(\n",
    "                        merged_df_race[interval_label],\n",
    "                        -merged_df_race[prediction_label],\n",
    "                        merged_df_race[event_label])\n",
    "        metric_list.append(c_index_race)\n",
    "    return float(np.mean(metric_list)-np.sqrt(np.var(metric_list)))"
   ]
  },
  {
   "cell_type": "markdown",
   "id": "f6eab9fc",
   "metadata": {
    "papermill": {
     "duration": 0.01045,
     "end_time": "2025-02-01T16:14:47.266745",
     "exception": false,
     "start_time": "2025-02-01T16:14:47.256295",
     "status": "completed"
    },
    "tags": []
   },
   "source": [
    "## Step 4: Find best model "
   ]
  },
  {
   "cell_type": "code",
   "execution_count": 7,
   "id": "e621c9c7",
   "metadata": {
    "execution": {
     "iopub.execute_input": "2025-02-01T16:14:47.289606Z",
     "iopub.status.busy": "2025-02-01T16:14:47.289222Z",
     "iopub.status.idle": "2025-02-01T16:14:47.293821Z",
     "shell.execute_reply": "2025-02-01T16:14:47.292535Z"
    },
    "papermill": {
     "duration": 0.017851,
     "end_time": "2025-02-01T16:14:47.295405",
     "exception": false,
     "start_time": "2025-02-01T16:14:47.277554",
     "status": "completed"
    },
    "tags": []
   },
   "outputs": [],
   "source": [
    "parquet_experiments = [\n",
    "    \"/kaggle/input/abd-exp-01\",\n",
    "    \"/kaggle/input/lgbm-exp-04\", \n",
    "    \"/kaggle/input/catboost-exp-01\", \n",
    "    \"/kaggle/input/lgbm-exp-01\", \n",
    "    \"/kaggle/input/lgbm-exp-03\", \n",
    "    \"/kaggle/input/ds-exp-01\",\n",
    "    \"/kaggle/input/nn-exp-02\",\n",
    "    \"/kaggle/input/nn-exp-04\"\n",
    "]"
   ]
  },
  {
   "cell_type": "code",
   "execution_count": 8,
   "id": "646fbed5",
   "metadata": {
    "execution": {
     "iopub.execute_input": "2025-02-01T16:14:47.319124Z",
     "iopub.status.busy": "2025-02-01T16:14:47.318589Z",
     "iopub.status.idle": "2025-02-01T16:14:47.324854Z",
     "shell.execute_reply": "2025-02-01T16:14:47.323760Z"
    },
    "papermill": {
     "duration": 0.020147,
     "end_time": "2025-02-01T16:14:47.326651",
     "exception": false,
     "start_time": "2025-02-01T16:14:47.306504",
     "status": "completed"
    },
    "tags": []
   },
   "outputs": [],
   "source": [
    "def compute_metric_cindex(exp_name):\n",
    "    if exp_name in parquet_experiments:\n",
    "        oof    = pd.read_parquet(exp_name+'/'+(exp_name.split('/')[-1]).replace('-','_')+'_oof.parquet')\n",
    "    else:\n",
    "        oof    = pd.read_excel(exp_name+'/'+(exp_name.split('/')[-1]).replace('-','_')+'_oof.xlsx')\n",
    "        \n",
    "    y_true = oof[[\"ID\",\"efs\",\"efs_time\",\"race_group\"]].copy()\n",
    "    y_pred = oof[[\"ID\",\"predictions\"]].copy()\n",
    "    return score(y_true.copy(), y_pred.copy(), \"ID\"), oof"
   ]
  },
  {
   "cell_type": "code",
   "execution_count": 9,
   "id": "1151a7a1",
   "metadata": {
    "execution": {
     "iopub.execute_input": "2025-02-01T16:14:47.349499Z",
     "iopub.status.busy": "2025-02-01T16:14:47.349131Z",
     "iopub.status.idle": "2025-02-01T16:19:11.578648Z",
     "shell.execute_reply": "2025-02-01T16:19:11.577310Z"
    },
    "papermill": {
     "duration": 264.243256,
     "end_time": "2025-02-01T16:19:11.580708",
     "exception": false,
     "start_time": "2025-02-01T16:14:47.337452",
     "status": "completed"
    },
    "tags": []
   },
   "outputs": [
    {
     "name": "stdout",
     "output_type": "stream",
     "text": [
      "C-index 0.6743662038463064 /kaggle/input/xgboost-exp-01\n",
      "C-index 0.673797469068503 /kaggle/input/catboost-exp-01\n",
      "C-index 0.6735659109490936 /kaggle/input/lgbm-exp-01\n",
      "C-index 0.6719739976829171 /kaggle/input/xgboost-exp-02\n",
      "C-index 0.6715438291634074 /kaggle/input/catboost-exp-02\n",
      "C-index 0.6744113273004797 /kaggle/input/lgbm-exp-03\n",
      "C-index 0.6750446351219317 /kaggle/input/catboost-exp-03\n",
      "C-index 0.6698445972872783 /kaggle/input/tabm-exp-01\n",
      "C-index 0.6672504731273489 /kaggle/input/nn-exp-01\n",
      "C-index 0.6082304286386713 /kaggle/input/tn-exp-01\n",
      "C-index 0.6609386133349129 /kaggle/input/tf-exp-01\n",
      "C-index 0.6061054384127524 /kaggle/input/svr-exp-01\n"
     ]
    },
    {
     "name": "stderr",
     "output_type": "stream",
     "text": [
      "<ipython-input-6-d61cf6b7d348>:36: FutureWarning: The default of observed=False is deprecated and will be changed to True in a future version of pandas. Pass observed=False to retain current behavior or observed=True to adopt the future default and silence this warning.\n",
      "  merged_df_race_dict = dict(merged_df.groupby(['race_group']).groups)\n"
     ]
    },
    {
     "name": "stdout",
     "output_type": "stream",
     "text": [
      "C-index 0.6775546112659996 /kaggle/input/abd-exp-01\n",
      "C-index 0.6228381497451487 /kaggle/input/catboost-exp-04\n",
      "C-index 0.6216961934710434 /kaggle/input/lgbm-exp-04\n",
      "C-index 0.6777472728532595 /kaggle/input/tabm-exp-02\n",
      "C-index 0.6427991982766067 /kaggle/input/ds-exp-01\n",
      "C-index 0.6541867987232884 /kaggle/input/nn-exp-02\n",
      "C-index 0.6794831551153864 /kaggle/input/nn-exp-04\n",
      "\n",
      "Best single model is /kaggle/input/nn-exp-04 with C-Index = 0.6794831551153864\n"
     ]
    }
   ],
   "source": [
    "best_score    = 0\n",
    "best_index    = -1\n",
    "best_ensemble = 0\n",
    "\n",
    "for k,name in enumerate(experiments):\n",
    "    s, oof = compute_metric_cindex(name)\n",
    "    if s > best_score:\n",
    "        best_score    = s\n",
    "        best_index    = name\n",
    "        best_ensemble = oof\n",
    "        \n",
    "    print(f'C-index {s} {name}') \n",
    "print()\n",
    "print(f'Best single model is {best_index} with C-Index = {best_score}')\n",
    "experiments.remove(best_index)\n",
    "first_best_index = best_index"
   ]
  },
  {
   "cell_type": "code",
   "execution_count": 10,
   "id": "9f5d8957",
   "metadata": {
    "execution": {
     "iopub.execute_input": "2025-02-01T16:19:11.606515Z",
     "iopub.status.busy": "2025-02-01T16:19:11.605713Z",
     "iopub.status.idle": "2025-02-01T16:19:11.613500Z",
     "shell.execute_reply": "2025-02-01T16:19:11.612349Z"
    },
    "papermill": {
     "duration": 0.022621,
     "end_time": "2025-02-01T16:19:11.615513",
     "exception": false,
     "start_time": "2025-02-01T16:19:11.592892",
     "status": "completed"
    },
    "tags": []
   },
   "outputs": [
    {
     "data": {
      "text/plain": [
       "['/kaggle/input/xgboost-exp-01',\n",
       " '/kaggle/input/catboost-exp-01',\n",
       " '/kaggle/input/lgbm-exp-01',\n",
       " '/kaggle/input/xgboost-exp-02',\n",
       " '/kaggle/input/catboost-exp-02',\n",
       " '/kaggle/input/lgbm-exp-03',\n",
       " '/kaggle/input/catboost-exp-03',\n",
       " '/kaggle/input/tabm-exp-01',\n",
       " '/kaggle/input/nn-exp-01',\n",
       " '/kaggle/input/tn-exp-01',\n",
       " '/kaggle/input/tf-exp-01',\n",
       " '/kaggle/input/svr-exp-01',\n",
       " '/kaggle/input/abd-exp-01',\n",
       " '/kaggle/input/catboost-exp-04',\n",
       " '/kaggle/input/lgbm-exp-04',\n",
       " '/kaggle/input/tabm-exp-02',\n",
       " '/kaggle/input/ds-exp-01',\n",
       " '/kaggle/input/nn-exp-02']"
      ]
     },
     "execution_count": 10,
     "metadata": {},
     "output_type": "execute_result"
    }
   ],
   "source": [
    "experiments"
   ]
  },
  {
   "cell_type": "markdown",
   "id": "7fea7c3d",
   "metadata": {
    "papermill": {
     "duration": 0.01134,
     "end_time": "2025-02-01T16:19:11.639201",
     "exception": false,
     "start_time": "2025-02-01T16:19:11.627861",
     "status": "completed"
    },
    "tags": []
   },
   "source": [
    "## Step 5: Iterations for hill climbing"
   ]
  },
  {
   "cell_type": "code",
   "execution_count": 11,
   "id": "824e6f39",
   "metadata": {
    "execution": {
     "iopub.execute_input": "2025-02-01T16:19:11.664299Z",
     "iopub.status.busy": "2025-02-01T16:19:11.663884Z",
     "iopub.status.idle": "2025-02-01T16:19:11.668133Z",
     "shell.execute_reply": "2025-02-01T16:19:11.667028Z"
    },
    "papermill": {
     "duration": 0.018759,
     "end_time": "2025-02-01T16:19:11.669854",
     "exception": false,
     "start_time": "2025-02-01T16:19:11.651095",
     "status": "completed"
    },
    "tags": []
   },
   "outputs": [],
   "source": [
    "USE_NEGATIVE_WGT = True"
   ]
  },
  {
   "cell_type": "code",
   "execution_count": 12,
   "id": "ae172d03",
   "metadata": {
    "execution": {
     "iopub.execute_input": "2025-02-01T16:19:11.694914Z",
     "iopub.status.busy": "2025-02-01T16:19:11.694508Z",
     "iopub.status.idle": "2025-02-01T16:19:11.698581Z",
     "shell.execute_reply": "2025-02-01T16:19:11.697671Z"
    },
    "papermill": {
     "duration": 0.01824,
     "end_time": "2025-02-01T16:19:11.700152",
     "exception": false,
     "start_time": "2025-02-01T16:19:11.681912",
     "status": "completed"
    },
    "tags": []
   },
   "outputs": [],
   "source": [
    "indices        = [best_index]\n",
    "old_best_score = best_score"
   ]
  },
  {
   "cell_type": "code",
   "execution_count": 13,
   "id": "0ceff560",
   "metadata": {
    "execution": {
     "iopub.execute_input": "2025-02-01T16:19:11.725095Z",
     "iopub.status.busy": "2025-02-01T16:19:11.724742Z",
     "iopub.status.idle": "2025-02-01T16:19:11.729578Z",
     "shell.execute_reply": "2025-02-01T16:19:11.728581Z"
    },
    "papermill": {
     "duration": 0.019013,
     "end_time": "2025-02-01T16:19:11.731122",
     "exception": false,
     "start_time": "2025-02-01T16:19:11.712109",
     "status": "completed"
    },
    "tags": []
   },
   "outputs": [],
   "source": [
    "# PREPARE/MOVE VARIABLES TO GPU FOR SPEED UP\n",
    "best_ensemble = best_ensemble\n",
    "start         = -0.50\n",
    "if not USE_NEGATIVE_WGT: start = 0.01\n",
    "ww            = np.arange(start,0.51,0.01) # GPU\n",
    "nn            = len(ww)"
   ]
  },
  {
   "cell_type": "code",
   "execution_count": 14,
   "id": "c5c55889",
   "metadata": {
    "execution": {
     "iopub.execute_input": "2025-02-01T16:19:11.756181Z",
     "iopub.status.busy": "2025-02-01T16:19:11.755814Z",
     "iopub.status.idle": "2025-02-01T16:19:11.760011Z",
     "shell.execute_reply": "2025-02-01T16:19:11.759052Z"
    },
    "papermill": {
     "duration": 0.01839,
     "end_time": "2025-02-01T16:19:11.761500",
     "exception": false,
     "start_time": "2025-02-01T16:19:11.743110",
     "status": "completed"
    },
    "tags": []
   },
   "outputs": [],
   "source": [
    "# BEGIN HILL CLIMBING\n",
    "models  = [best_index]\n",
    "weights = []\n",
    "metrics = [best_score]"
   ]
  },
  {
   "cell_type": "code",
   "execution_count": 15,
   "id": "feae8e22",
   "metadata": {
    "execution": {
     "iopub.execute_input": "2025-02-01T16:19:11.786753Z",
     "iopub.status.busy": "2025-02-01T16:19:11.786331Z",
     "iopub.status.idle": "2025-02-01T16:19:11.793481Z",
     "shell.execute_reply": "2025-02-01T16:19:11.792586Z"
    },
    "papermill": {
     "duration": 0.021682,
     "end_time": "2025-02-01T16:19:11.795171",
     "exception": false,
     "start_time": "2025-02-01T16:19:11.773489",
     "status": "completed"
    },
    "tags": []
   },
   "outputs": [
    {
     "data": {
      "text/plain": [
       "(['/kaggle/input/nn-exp-04'],\n",
       " [0.6794831551153864],\n",
       " array([-5.0000000e-01, -4.9000000e-01, -4.8000000e-01, -4.7000000e-01,\n",
       "        -4.6000000e-01, -4.5000000e-01, -4.4000000e-01, -4.3000000e-01,\n",
       "        -4.2000000e-01, -4.1000000e-01, -4.0000000e-01, -3.9000000e-01,\n",
       "        -3.8000000e-01, -3.7000000e-01, -3.6000000e-01, -3.5000000e-01,\n",
       "        -3.4000000e-01, -3.3000000e-01, -3.2000000e-01, -3.1000000e-01,\n",
       "        -3.0000000e-01, -2.9000000e-01, -2.8000000e-01, -2.7000000e-01,\n",
       "        -2.6000000e-01, -2.5000000e-01, -2.4000000e-01, -2.3000000e-01,\n",
       "        -2.2000000e-01, -2.1000000e-01, -2.0000000e-01, -1.9000000e-01,\n",
       "        -1.8000000e-01, -1.7000000e-01, -1.6000000e-01, -1.5000000e-01,\n",
       "        -1.4000000e-01, -1.3000000e-01, -1.2000000e-01, -1.1000000e-01,\n",
       "        -1.0000000e-01, -9.0000000e-02, -8.0000000e-02, -7.0000000e-02,\n",
       "        -6.0000000e-02, -5.0000000e-02, -4.0000000e-02, -3.0000000e-02,\n",
       "        -2.0000000e-02, -1.0000000e-02,  4.4408921e-16,  1.0000000e-02,\n",
       "         2.0000000e-02,  3.0000000e-02,  4.0000000e-02,  5.0000000e-02,\n",
       "         6.0000000e-02,  7.0000000e-02,  8.0000000e-02,  9.0000000e-02,\n",
       "         1.0000000e-01,  1.1000000e-01,  1.2000000e-01,  1.3000000e-01,\n",
       "         1.4000000e-01,  1.5000000e-01,  1.6000000e-01,  1.7000000e-01,\n",
       "         1.8000000e-01,  1.9000000e-01,  2.0000000e-01,  2.1000000e-01,\n",
       "         2.2000000e-01,  2.3000000e-01,  2.4000000e-01,  2.5000000e-01,\n",
       "         2.6000000e-01,  2.7000000e-01,  2.8000000e-01,  2.9000000e-01,\n",
       "         3.0000000e-01,  3.1000000e-01,  3.2000000e-01,  3.3000000e-01,\n",
       "         3.4000000e-01,  3.5000000e-01,  3.6000000e-01,  3.7000000e-01,\n",
       "         3.8000000e-01,  3.9000000e-01,  4.0000000e-01,  4.1000000e-01,\n",
       "         4.2000000e-01,  4.3000000e-01,  4.4000000e-01,  4.5000000e-01,\n",
       "         4.6000000e-01,  4.7000000e-01,  4.8000000e-01,  4.9000000e-01,\n",
       "         5.0000000e-01]))"
      ]
     },
     "execution_count": 15,
     "metadata": {},
     "output_type": "execute_result"
    }
   ],
   "source": [
    "models, metrics, ww"
   ]
  },
  {
   "cell_type": "code",
   "execution_count": 16,
   "id": "b8b01bdf",
   "metadata": {
    "execution": {
     "iopub.execute_input": "2025-02-01T16:19:11.820957Z",
     "iopub.status.busy": "2025-02-01T16:19:11.820531Z",
     "iopub.status.idle": "2025-02-01T18:55:13.617268Z",
     "shell.execute_reply": "2025-02-01T18:55:13.616309Z"
    },
    "papermill": {
     "duration": 9361.811324,
     "end_time": "2025-02-01T18:55:13.618844",
     "exception": false,
     "start_time": "2025-02-01T16:19:11.807520",
     "status": "completed"
    },
    "tags": []
   },
   "outputs": [
    {
     "name": "stdout",
     "output_type": "stream",
     "text": [
      "0th iteration\n",
      "here -> /kaggle/input/xgboost-exp-01\n"
     ]
    },
    {
     "name": "stderr",
     "output_type": "stream",
     "text": [
      "Testing weights for xgboost_exp_01: 100%|██████████| 101/101 [00:38<00:00,  2.60it/s]\n"
     ]
    },
    {
     "name": "stdout",
     "output_type": "stream",
     "text": [
      "here -> /kaggle/input/catboost-exp-01\n"
     ]
    },
    {
     "name": "stderr",
     "output_type": "stream",
     "text": [
      "Testing weights for catboost_exp_01: 100%|██████████| 101/101 [00:38<00:00,  2.62it/s]\n"
     ]
    },
    {
     "name": "stdout",
     "output_type": "stream",
     "text": [
      "here -> /kaggle/input/lgbm-exp-01\n"
     ]
    },
    {
     "name": "stderr",
     "output_type": "stream",
     "text": [
      "Testing weights for lgbm_exp_01: 100%|██████████| 101/101 [00:38<00:00,  2.63it/s]\n"
     ]
    },
    {
     "name": "stdout",
     "output_type": "stream",
     "text": [
      "here -> /kaggle/input/xgboost-exp-02\n"
     ]
    },
    {
     "name": "stderr",
     "output_type": "stream",
     "text": [
      "Testing weights for xgboost_exp_02: 100%|██████████| 101/101 [00:38<00:00,  2.61it/s]\n"
     ]
    },
    {
     "name": "stdout",
     "output_type": "stream",
     "text": [
      "here -> /kaggle/input/catboost-exp-02\n"
     ]
    },
    {
     "name": "stderr",
     "output_type": "stream",
     "text": [
      "Testing weights for catboost_exp_02: 100%|██████████| 101/101 [00:38<00:00,  2.62it/s]\n"
     ]
    },
    {
     "name": "stdout",
     "output_type": "stream",
     "text": [
      "here -> /kaggle/input/lgbm-exp-03\n"
     ]
    },
    {
     "name": "stderr",
     "output_type": "stream",
     "text": [
      "Testing weights for lgbm_exp_03: 100%|██████████| 101/101 [00:38<00:00,  2.62it/s]\n"
     ]
    },
    {
     "name": "stdout",
     "output_type": "stream",
     "text": [
      "here -> /kaggle/input/catboost-exp-03\n"
     ]
    },
    {
     "name": "stderr",
     "output_type": "stream",
     "text": [
      "Testing weights for catboost_exp_03: 100%|██████████| 101/101 [00:38<00:00,  2.62it/s]\n"
     ]
    },
    {
     "name": "stdout",
     "output_type": "stream",
     "text": [
      "here -> /kaggle/input/tabm-exp-01\n"
     ]
    },
    {
     "name": "stderr",
     "output_type": "stream",
     "text": [
      "Testing weights for tabm_exp_01: 100%|██████████| 101/101 [00:38<00:00,  2.60it/s]\n"
     ]
    },
    {
     "name": "stdout",
     "output_type": "stream",
     "text": [
      "here -> /kaggle/input/nn-exp-01\n"
     ]
    },
    {
     "name": "stderr",
     "output_type": "stream",
     "text": [
      "Testing weights for nn_exp_01: 100%|██████████| 101/101 [00:38<00:00,  2.62it/s]\n"
     ]
    },
    {
     "name": "stdout",
     "output_type": "stream",
     "text": [
      "here -> /kaggle/input/tn-exp-01\n"
     ]
    },
    {
     "name": "stderr",
     "output_type": "stream",
     "text": [
      "Testing weights for tn_exp_01: 100%|██████████| 101/101 [00:38<00:00,  2.62it/s]\n"
     ]
    },
    {
     "name": "stdout",
     "output_type": "stream",
     "text": [
      "here -> /kaggle/input/tf-exp-01\n"
     ]
    },
    {
     "name": "stderr",
     "output_type": "stream",
     "text": [
      "Testing weights for tf_exp_01: 100%|██████████| 101/101 [00:38<00:00,  2.62it/s]\n"
     ]
    },
    {
     "name": "stdout",
     "output_type": "stream",
     "text": [
      "here -> /kaggle/input/svr-exp-01\n"
     ]
    },
    {
     "name": "stderr",
     "output_type": "stream",
     "text": [
      "Testing weights for svr_exp_01: 100%|██████████| 101/101 [00:38<00:00,  2.62it/s]\n"
     ]
    },
    {
     "name": "stdout",
     "output_type": "stream",
     "text": [
      "here -> /kaggle/input/abd-exp-01\n"
     ]
    },
    {
     "name": "stderr",
     "output_type": "stream",
     "text": [
      "Testing weights for abd_exp_01:   0%|          | 0/101 [00:00<?, ?it/s]<ipython-input-6-d61cf6b7d348>:36: FutureWarning: The default of observed=False is deprecated and will be changed to True in a future version of pandas. Pass observed=False to retain current behavior or observed=True to adopt the future default and silence this warning.\n",
      "  merged_df_race_dict = dict(merged_df.groupby(['race_group']).groups)\n",
      "Testing weights for abd_exp_01:   1%|          | 1/101 [00:00<00:38,  2.63it/s]<ipython-input-6-d61cf6b7d348>:36: FutureWarning: The default of observed=False is deprecated and will be changed to True in a future version of pandas. Pass observed=False to retain current behavior or observed=True to adopt the future default and silence this warning.\n",
      "  merged_df_race_dict = dict(merged_df.groupby(['race_group']).groups)\n",
      "Testing weights for abd_exp_01:   2%|▏         | 2/101 [00:00<00:37,  2.64it/s]<ipython-input-6-d61cf6b7d348>:36: FutureWarning: The default of observed=False is deprecated and will be changed to True in a future version of pandas. Pass observed=False to retain current behavior or observed=True to adopt the future default and silence this warning.\n",
      "  merged_df_race_dict = dict(merged_df.groupby(['race_group']).groups)\n",
      "Testing weights for abd_exp_01:   3%|▎         | 3/101 [00:01<00:37,  2.64it/s]<ipython-input-6-d61cf6b7d348>:36: FutureWarning: The default of observed=False is deprecated and will be changed to True in a future version of pandas. Pass observed=False to retain current behavior or observed=True to adopt the future default and silence this warning.\n",
      "  merged_df_race_dict = dict(merged_df.groupby(['race_group']).groups)\n",
      "Testing weights for abd_exp_01:   4%|▍         | 4/101 [00:01<00:36,  2.64it/s]<ipython-input-6-d61cf6b7d348>:36: FutureWarning: The default of observed=False is deprecated and will be changed to True in a future version of pandas. Pass observed=False to retain current behavior or observed=True to adopt the future default and silence this warning.\n",
      "  merged_df_race_dict = dict(merged_df.groupby(['race_group']).groups)\n",
      "Testing weights for abd_exp_01:   5%|▍         | 5/101 [00:01<00:36,  2.63it/s]<ipython-input-6-d61cf6b7d348>:36: FutureWarning: The default of observed=False is deprecated and will be changed to True in a future version of pandas. Pass observed=False to retain current behavior or observed=True to adopt the future default and silence this warning.\n",
      "  merged_df_race_dict = dict(merged_df.groupby(['race_group']).groups)\n",
      "Testing weights for abd_exp_01:   6%|▌         | 6/101 [00:02<00:36,  2.63it/s]<ipython-input-6-d61cf6b7d348>:36: FutureWarning: The default of observed=False is deprecated and will be changed to True in a future version of pandas. Pass observed=False to retain current behavior or observed=True to adopt the future default and silence this warning.\n",
      "  merged_df_race_dict = dict(merged_df.groupby(['race_group']).groups)\n",
      "Testing weights for abd_exp_01:   7%|▋         | 7/101 [00:02<00:35,  2.62it/s]<ipython-input-6-d61cf6b7d348>:36: FutureWarning: The default of observed=False is deprecated and will be changed to True in a future version of pandas. Pass observed=False to retain current behavior or observed=True to adopt the future default and silence this warning.\n",
      "  merged_df_race_dict = dict(merged_df.groupby(['race_group']).groups)\n",
      "Testing weights for abd_exp_01:   8%|▊         | 8/101 [00:03<00:35,  2.62it/s]<ipython-input-6-d61cf6b7d348>:36: FutureWarning: The default of observed=False is deprecated and will be changed to True in a future version of pandas. Pass observed=False to retain current behavior or observed=True to adopt the future default and silence this warning.\n",
      "  merged_df_race_dict = dict(merged_df.groupby(['race_group']).groups)\n",
      "Testing weights for abd_exp_01:   9%|▉         | 9/101 [00:03<00:35,  2.62it/s]<ipython-input-6-d61cf6b7d348>:36: FutureWarning: The default of observed=False is deprecated and will be changed to True in a future version of pandas. Pass observed=False to retain current behavior or observed=True to adopt the future default and silence this warning.\n",
      "  merged_df_race_dict = dict(merged_df.groupby(['race_group']).groups)\n",
      "Testing weights for abd_exp_01:  10%|▉         | 10/101 [00:03<00:34,  2.62it/s]<ipython-input-6-d61cf6b7d348>:36: FutureWarning: The default of observed=False is deprecated and will be changed to True in a future version of pandas. Pass observed=False to retain current behavior or observed=True to adopt the future default and silence this warning.\n",
      "  merged_df_race_dict = dict(merged_df.groupby(['race_group']).groups)\n",
      "Testing weights for abd_exp_01:  11%|█         | 11/101 [00:04<00:34,  2.63it/s]<ipython-input-6-d61cf6b7d348>:36: FutureWarning: The default of observed=False is deprecated and will be changed to True in a future version of pandas. Pass observed=False to retain current behavior or observed=True to adopt the future default and silence this warning.\n",
      "  merged_df_race_dict = dict(merged_df.groupby(['race_group']).groups)\n",
      "Testing weights for abd_exp_01:  12%|█▏        | 12/101 [00:04<00:33,  2.63it/s]<ipython-input-6-d61cf6b7d348>:36: FutureWarning: The default of observed=False is deprecated and will be changed to True in a future version of pandas. Pass observed=False to retain current behavior or observed=True to adopt the future default and silence this warning.\n",
      "  merged_df_race_dict = dict(merged_df.groupby(['race_group']).groups)\n",
      "Testing weights for abd_exp_01:  13%|█▎        | 13/101 [00:04<00:33,  2.63it/s]<ipython-input-6-d61cf6b7d348>:36: FutureWarning: The default of observed=False is deprecated and will be changed to True in a future version of pandas. Pass observed=False to retain current behavior or observed=True to adopt the future default and silence this warning.\n",
      "  merged_df_race_dict = dict(merged_df.groupby(['race_group']).groups)\n",
      "Testing weights for abd_exp_01:  14%|█▍        | 14/101 [00:05<00:33,  2.62it/s]<ipython-input-6-d61cf6b7d348>:36: FutureWarning: The default of observed=False is deprecated and will be changed to True in a future version of pandas. Pass observed=False to retain current behavior or observed=True to adopt the future default and silence this warning.\n",
      "  merged_df_race_dict = dict(merged_df.groupby(['race_group']).groups)\n",
      "Testing weights for abd_exp_01:  15%|█▍        | 15/101 [00:05<00:32,  2.63it/s]<ipython-input-6-d61cf6b7d348>:36: FutureWarning: The default of observed=False is deprecated and will be changed to True in a future version of pandas. Pass observed=False to retain current behavior or observed=True to adopt the future default and silence this warning.\n",
      "  merged_df_race_dict = dict(merged_df.groupby(['race_group']).groups)\n",
      "Testing weights for abd_exp_01:  16%|█▌        | 16/101 [00:06<00:32,  2.62it/s]<ipython-input-6-d61cf6b7d348>:36: FutureWarning: The default of observed=False is deprecated and will be changed to True in a future version of pandas. Pass observed=False to retain current behavior or observed=True to adopt the future default and silence this warning.\n",
      "  merged_df_race_dict = dict(merged_df.groupby(['race_group']).groups)\n",
      "Testing weights for abd_exp_01:  17%|█▋        | 17/101 [00:06<00:32,  2.62it/s]<ipython-input-6-d61cf6b7d348>:36: FutureWarning: The default of observed=False is deprecated and will be changed to True in a future version of pandas. Pass observed=False to retain current behavior or observed=True to adopt the future default and silence this warning.\n",
      "  merged_df_race_dict = dict(merged_df.groupby(['race_group']).groups)\n",
      "Testing weights for abd_exp_01:  18%|█▊        | 18/101 [00:06<00:31,  2.62it/s]<ipython-input-6-d61cf6b7d348>:36: FutureWarning: The default of observed=False is deprecated and will be changed to True in a future version of pandas. Pass observed=False to retain current behavior or observed=True to adopt the future default and silence this warning.\n",
      "  merged_df_race_dict = dict(merged_df.groupby(['race_group']).groups)\n",
      "Testing weights for abd_exp_01:  19%|█▉        | 19/101 [00:07<00:31,  2.63it/s]<ipython-input-6-d61cf6b7d348>:36: FutureWarning: The default of observed=False is deprecated and will be changed to True in a future version of pandas. Pass observed=False to retain current behavior or observed=True to adopt the future default and silence this warning.\n",
      "  merged_df_race_dict = dict(merged_df.groupby(['race_group']).groups)\n",
      "Testing weights for abd_exp_01:  20%|█▉        | 20/101 [00:07<00:30,  2.62it/s]<ipython-input-6-d61cf6b7d348>:36: FutureWarning: The default of observed=False is deprecated and will be changed to True in a future version of pandas. Pass observed=False to retain current behavior or observed=True to adopt the future default and silence this warning.\n",
      "  merged_df_race_dict = dict(merged_df.groupby(['race_group']).groups)\n",
      "Testing weights for abd_exp_01:  21%|██        | 21/101 [00:08<00:30,  2.61it/s]<ipython-input-6-d61cf6b7d348>:36: FutureWarning: The default of observed=False is deprecated and will be changed to True in a future version of pandas. Pass observed=False to retain current behavior or observed=True to adopt the future default and silence this warning.\n",
      "  merged_df_race_dict = dict(merged_df.groupby(['race_group']).groups)\n",
      "Testing weights for abd_exp_01:  22%|██▏       | 22/101 [00:08<00:30,  2.61it/s]<ipython-input-6-d61cf6b7d348>:36: FutureWarning: The default of observed=False is deprecated and will be changed to True in a future version of pandas. Pass observed=False to retain current behavior or observed=True to adopt the future default and silence this warning.\n",
      "  merged_df_race_dict = dict(merged_df.groupby(['race_group']).groups)\n",
      "Testing weights for abd_exp_01:  23%|██▎       | 23/101 [00:08<00:29,  2.62it/s]<ipython-input-6-d61cf6b7d348>:36: FutureWarning: The default of observed=False is deprecated and will be changed to True in a future version of pandas. Pass observed=False to retain current behavior or observed=True to adopt the future default and silence this warning.\n",
      "  merged_df_race_dict = dict(merged_df.groupby(['race_group']).groups)\n",
      "Testing weights for abd_exp_01:  24%|██▍       | 24/101 [00:09<00:30,  2.57it/s]<ipython-input-6-d61cf6b7d348>:36: FutureWarning: The default of observed=False is deprecated and will be changed to True in a future version of pandas. Pass observed=False to retain current behavior or observed=True to adopt the future default and silence this warning.\n",
      "  merged_df_race_dict = dict(merged_df.groupby(['race_group']).groups)\n",
      "Testing weights for abd_exp_01:  25%|██▍       | 25/101 [00:09<00:29,  2.58it/s]<ipython-input-6-d61cf6b7d348>:36: FutureWarning: The default of observed=False is deprecated and will be changed to True in a future version of pandas. Pass observed=False to retain current behavior or observed=True to adopt the future default and silence this warning.\n",
      "  merged_df_race_dict = dict(merged_df.groupby(['race_group']).groups)\n",
      "Testing weights for abd_exp_01:  26%|██▌       | 26/101 [00:09<00:29,  2.58it/s]<ipython-input-6-d61cf6b7d348>:36: FutureWarning: The default of observed=False is deprecated and will be changed to True in a future version of pandas. Pass observed=False to retain current behavior or observed=True to adopt the future default and silence this warning.\n",
      "  merged_df_race_dict = dict(merged_df.groupby(['race_group']).groups)\n",
      "Testing weights for abd_exp_01:  27%|██▋       | 27/101 [00:10<00:28,  2.59it/s]<ipython-input-6-d61cf6b7d348>:36: FutureWarning: The default of observed=False is deprecated and will be changed to True in a future version of pandas. Pass observed=False to retain current behavior or observed=True to adopt the future default and silence this warning.\n",
      "  merged_df_race_dict = dict(merged_df.groupby(['race_group']).groups)\n",
      "Testing weights for abd_exp_01:  28%|██▊       | 28/101 [00:10<00:28,  2.59it/s]<ipython-input-6-d61cf6b7d348>:36: FutureWarning: The default of observed=False is deprecated and will be changed to True in a future version of pandas. Pass observed=False to retain current behavior or observed=True to adopt the future default and silence this warning.\n",
      "  merged_df_race_dict = dict(merged_df.groupby(['race_group']).groups)\n",
      "Testing weights for abd_exp_01:  29%|██▊       | 29/101 [00:11<00:28,  2.57it/s]<ipython-input-6-d61cf6b7d348>:36: FutureWarning: The default of observed=False is deprecated and will be changed to True in a future version of pandas. Pass observed=False to retain current behavior or observed=True to adopt the future default and silence this warning.\n",
      "  merged_df_race_dict = dict(merged_df.groupby(['race_group']).groups)\n",
      "Testing weights for abd_exp_01:  30%|██▉       | 30/101 [00:11<00:28,  2.51it/s]<ipython-input-6-d61cf6b7d348>:36: FutureWarning: The default of observed=False is deprecated and will be changed to True in a future version of pandas. Pass observed=False to retain current behavior or observed=True to adopt the future default and silence this warning.\n",
      "  merged_df_race_dict = dict(merged_df.groupby(['race_group']).groups)\n",
      "Testing weights for abd_exp_01:  31%|███       | 31/101 [00:11<00:27,  2.52it/s]<ipython-input-6-d61cf6b7d348>:36: FutureWarning: The default of observed=False is deprecated and will be changed to True in a future version of pandas. Pass observed=False to retain current behavior or observed=True to adopt the future default and silence this warning.\n",
      "  merged_df_race_dict = dict(merged_df.groupby(['race_group']).groups)\n",
      "Testing weights for abd_exp_01:  32%|███▏      | 32/101 [00:12<00:27,  2.53it/s]<ipython-input-6-d61cf6b7d348>:36: FutureWarning: The default of observed=False is deprecated and will be changed to True in a future version of pandas. Pass observed=False to retain current behavior or observed=True to adopt the future default and silence this warning.\n",
      "  merged_df_race_dict = dict(merged_df.groupby(['race_group']).groups)\n",
      "Testing weights for abd_exp_01:  33%|███▎      | 33/101 [00:12<00:26,  2.55it/s]<ipython-input-6-d61cf6b7d348>:36: FutureWarning: The default of observed=False is deprecated and will be changed to True in a future version of pandas. Pass observed=False to retain current behavior or observed=True to adopt the future default and silence this warning.\n",
      "  merged_df_race_dict = dict(merged_df.groupby(['race_group']).groups)\n",
      "Testing weights for abd_exp_01:  34%|███▎      | 34/101 [00:13<00:26,  2.56it/s]<ipython-input-6-d61cf6b7d348>:36: FutureWarning: The default of observed=False is deprecated and will be changed to True in a future version of pandas. Pass observed=False to retain current behavior or observed=True to adopt the future default and silence this warning.\n",
      "  merged_df_race_dict = dict(merged_df.groupby(['race_group']).groups)\n",
      "Testing weights for abd_exp_01:  35%|███▍      | 35/101 [00:13<00:25,  2.57it/s]<ipython-input-6-d61cf6b7d348>:36: FutureWarning: The default of observed=False is deprecated and will be changed to True in a future version of pandas. Pass observed=False to retain current behavior or observed=True to adopt the future default and silence this warning.\n",
      "  merged_df_race_dict = dict(merged_df.groupby(['race_group']).groups)\n",
      "Testing weights for abd_exp_01:  36%|███▌      | 36/101 [00:13<00:25,  2.57it/s]<ipython-input-6-d61cf6b7d348>:36: FutureWarning: The default of observed=False is deprecated and will be changed to True in a future version of pandas. Pass observed=False to retain current behavior or observed=True to adopt the future default and silence this warning.\n",
      "  merged_df_race_dict = dict(merged_df.groupby(['race_group']).groups)\n",
      "Testing weights for abd_exp_01:  37%|███▋      | 37/101 [00:14<00:24,  2.58it/s]<ipython-input-6-d61cf6b7d348>:36: FutureWarning: The default of observed=False is deprecated and will be changed to True in a future version of pandas. Pass observed=False to retain current behavior or observed=True to adopt the future default and silence this warning.\n",
      "  merged_df_race_dict = dict(merged_df.groupby(['race_group']).groups)\n",
      "Testing weights for abd_exp_01:  38%|███▊      | 38/101 [00:14<00:24,  2.59it/s]<ipython-input-6-d61cf6b7d348>:36: FutureWarning: The default of observed=False is deprecated and will be changed to True in a future version of pandas. Pass observed=False to retain current behavior or observed=True to adopt the future default and silence this warning.\n",
      "  merged_df_race_dict = dict(merged_df.groupby(['race_group']).groups)\n",
      "Testing weights for abd_exp_01:  39%|███▊      | 39/101 [00:15<00:23,  2.60it/s]<ipython-input-6-d61cf6b7d348>:36: FutureWarning: The default of observed=False is deprecated and will be changed to True in a future version of pandas. Pass observed=False to retain current behavior or observed=True to adopt the future default and silence this warning.\n",
      "  merged_df_race_dict = dict(merged_df.groupby(['race_group']).groups)\n",
      "Testing weights for abd_exp_01:  40%|███▉      | 40/101 [00:15<00:23,  2.61it/s]<ipython-input-6-d61cf6b7d348>:36: FutureWarning: The default of observed=False is deprecated and will be changed to True in a future version of pandas. Pass observed=False to retain current behavior or observed=True to adopt the future default and silence this warning.\n",
      "  merged_df_race_dict = dict(merged_df.groupby(['race_group']).groups)\n",
      "Testing weights for abd_exp_01:  41%|████      | 41/101 [00:15<00:23,  2.60it/s]<ipython-input-6-d61cf6b7d348>:36: FutureWarning: The default of observed=False is deprecated and will be changed to True in a future version of pandas. Pass observed=False to retain current behavior or observed=True to adopt the future default and silence this warning.\n",
      "  merged_df_race_dict = dict(merged_df.groupby(['race_group']).groups)\n",
      "Testing weights for abd_exp_01:  42%|████▏     | 42/101 [00:16<00:22,  2.60it/s]<ipython-input-6-d61cf6b7d348>:36: FutureWarning: The default of observed=False is deprecated and will be changed to True in a future version of pandas. Pass observed=False to retain current behavior or observed=True to adopt the future default and silence this warning.\n",
      "  merged_df_race_dict = dict(merged_df.groupby(['race_group']).groups)\n",
      "Testing weights for abd_exp_01:  43%|████▎     | 43/101 [00:16<00:22,  2.61it/s]<ipython-input-6-d61cf6b7d348>:36: FutureWarning: The default of observed=False is deprecated and will be changed to True in a future version of pandas. Pass observed=False to retain current behavior or observed=True to adopt the future default and silence this warning.\n",
      "  merged_df_race_dict = dict(merged_df.groupby(['race_group']).groups)\n",
      "Testing weights for abd_exp_01:  44%|████▎     | 44/101 [00:16<00:21,  2.61it/s]<ipython-input-6-d61cf6b7d348>:36: FutureWarning: The default of observed=False is deprecated and will be changed to True in a future version of pandas. Pass observed=False to retain current behavior or observed=True to adopt the future default and silence this warning.\n",
      "  merged_df_race_dict = dict(merged_df.groupby(['race_group']).groups)\n",
      "Testing weights for abd_exp_01:  45%|████▍     | 45/101 [00:17<00:21,  2.61it/s]<ipython-input-6-d61cf6b7d348>:36: FutureWarning: The default of observed=False is deprecated and will be changed to True in a future version of pandas. Pass observed=False to retain current behavior or observed=True to adopt the future default and silence this warning.\n",
      "  merged_df_race_dict = dict(merged_df.groupby(['race_group']).groups)\n",
      "Testing weights for abd_exp_01:  46%|████▌     | 46/101 [00:17<00:21,  2.61it/s]<ipython-input-6-d61cf6b7d348>:36: FutureWarning: The default of observed=False is deprecated and will be changed to True in a future version of pandas. Pass observed=False to retain current behavior or observed=True to adopt the future default and silence this warning.\n",
      "  merged_df_race_dict = dict(merged_df.groupby(['race_group']).groups)\n",
      "Testing weights for abd_exp_01:  47%|████▋     | 47/101 [00:18<00:20,  2.60it/s]<ipython-input-6-d61cf6b7d348>:36: FutureWarning: The default of observed=False is deprecated and will be changed to True in a future version of pandas. Pass observed=False to retain current behavior or observed=True to adopt the future default and silence this warning.\n",
      "  merged_df_race_dict = dict(merged_df.groupby(['race_group']).groups)\n",
      "Testing weights for abd_exp_01:  48%|████▊     | 48/101 [00:18<00:20,  2.61it/s]<ipython-input-6-d61cf6b7d348>:36: FutureWarning: The default of observed=False is deprecated and will be changed to True in a future version of pandas. Pass observed=False to retain current behavior or observed=True to adopt the future default and silence this warning.\n",
      "  merged_df_race_dict = dict(merged_df.groupby(['race_group']).groups)\n",
      "Testing weights for abd_exp_01:  49%|████▊     | 49/101 [00:18<00:19,  2.61it/s]<ipython-input-6-d61cf6b7d348>:36: FutureWarning: The default of observed=False is deprecated and will be changed to True in a future version of pandas. Pass observed=False to retain current behavior or observed=True to adopt the future default and silence this warning.\n",
      "  merged_df_race_dict = dict(merged_df.groupby(['race_group']).groups)\n",
      "Testing weights for abd_exp_01:  50%|████▉     | 50/101 [00:19<00:19,  2.56it/s]<ipython-input-6-d61cf6b7d348>:36: FutureWarning: The default of observed=False is deprecated and will be changed to True in a future version of pandas. Pass observed=False to retain current behavior or observed=True to adopt the future default and silence this warning.\n",
      "  merged_df_race_dict = dict(merged_df.groupby(['race_group']).groups)\n",
      "Testing weights for abd_exp_01:  50%|█████     | 51/101 [00:19<00:19,  2.58it/s]<ipython-input-6-d61cf6b7d348>:36: FutureWarning: The default of observed=False is deprecated and will be changed to True in a future version of pandas. Pass observed=False to retain current behavior or observed=True to adopt the future default and silence this warning.\n",
      "  merged_df_race_dict = dict(merged_df.groupby(['race_group']).groups)\n",
      "Testing weights for abd_exp_01:  51%|█████▏    | 52/101 [00:20<00:18,  2.59it/s]<ipython-input-6-d61cf6b7d348>:36: FutureWarning: The default of observed=False is deprecated and will be changed to True in a future version of pandas. Pass observed=False to retain current behavior or observed=True to adopt the future default and silence this warning.\n",
      "  merged_df_race_dict = dict(merged_df.groupby(['race_group']).groups)\n",
      "Testing weights for abd_exp_01:  52%|█████▏    | 53/101 [00:20<00:18,  2.59it/s]<ipython-input-6-d61cf6b7d348>:36: FutureWarning: The default of observed=False is deprecated and will be changed to True in a future version of pandas. Pass observed=False to retain current behavior or observed=True to adopt the future default and silence this warning.\n",
      "  merged_df_race_dict = dict(merged_df.groupby(['race_group']).groups)\n",
      "Testing weights for abd_exp_01:  53%|█████▎    | 54/101 [00:20<00:18,  2.60it/s]<ipython-input-6-d61cf6b7d348>:36: FutureWarning: The default of observed=False is deprecated and will be changed to True in a future version of pandas. Pass observed=False to retain current behavior or observed=True to adopt the future default and silence this warning.\n",
      "  merged_df_race_dict = dict(merged_df.groupby(['race_group']).groups)\n",
      "Testing weights for abd_exp_01:  54%|█████▍    | 55/101 [00:21<00:17,  2.60it/s]<ipython-input-6-d61cf6b7d348>:36: FutureWarning: The default of observed=False is deprecated and will be changed to True in a future version of pandas. Pass observed=False to retain current behavior or observed=True to adopt the future default and silence this warning.\n",
      "  merged_df_race_dict = dict(merged_df.groupby(['race_group']).groups)\n",
      "Testing weights for abd_exp_01:  55%|█████▌    | 56/101 [00:21<00:17,  2.61it/s]<ipython-input-6-d61cf6b7d348>:36: FutureWarning: The default of observed=False is deprecated and will be changed to True in a future version of pandas. Pass observed=False to retain current behavior or observed=True to adopt the future default and silence this warning.\n",
      "  merged_df_race_dict = dict(merged_df.groupby(['race_group']).groups)\n",
      "Testing weights for abd_exp_01:  56%|█████▋    | 57/101 [00:21<00:16,  2.60it/s]<ipython-input-6-d61cf6b7d348>:36: FutureWarning: The default of observed=False is deprecated and will be changed to True in a future version of pandas. Pass observed=False to retain current behavior or observed=True to adopt the future default and silence this warning.\n",
      "  merged_df_race_dict = dict(merged_df.groupby(['race_group']).groups)\n",
      "Testing weights for abd_exp_01:  57%|█████▋    | 58/101 [00:22<00:16,  2.60it/s]<ipython-input-6-d61cf6b7d348>:36: FutureWarning: The default of observed=False is deprecated and will be changed to True in a future version of pandas. Pass observed=False to retain current behavior or observed=True to adopt the future default and silence this warning.\n",
      "  merged_df_race_dict = dict(merged_df.groupby(['race_group']).groups)\n",
      "Testing weights for abd_exp_01:  58%|█████▊    | 59/101 [00:22<00:16,  2.61it/s]<ipython-input-6-d61cf6b7d348>:36: FutureWarning: The default of observed=False is deprecated and will be changed to True in a future version of pandas. Pass observed=False to retain current behavior or observed=True to adopt the future default and silence this warning.\n",
      "  merged_df_race_dict = dict(merged_df.groupby(['race_group']).groups)\n",
      "Testing weights for abd_exp_01:  59%|█████▉    | 60/101 [00:23<00:15,  2.61it/s]<ipython-input-6-d61cf6b7d348>:36: FutureWarning: The default of observed=False is deprecated and will be changed to True in a future version of pandas. Pass observed=False to retain current behavior or observed=True to adopt the future default and silence this warning.\n",
      "  merged_df_race_dict = dict(merged_df.groupby(['race_group']).groups)\n",
      "Testing weights for abd_exp_01:  60%|██████    | 61/101 [00:23<00:15,  2.61it/s]<ipython-input-6-d61cf6b7d348>:36: FutureWarning: The default of observed=False is deprecated and will be changed to True in a future version of pandas. Pass observed=False to retain current behavior or observed=True to adopt the future default and silence this warning.\n",
      "  merged_df_race_dict = dict(merged_df.groupby(['race_group']).groups)\n",
      "Testing weights for abd_exp_01:  61%|██████▏   | 62/101 [00:23<00:14,  2.62it/s]<ipython-input-6-d61cf6b7d348>:36: FutureWarning: The default of observed=False is deprecated and will be changed to True in a future version of pandas. Pass observed=False to retain current behavior or observed=True to adopt the future default and silence this warning.\n",
      "  merged_df_race_dict = dict(merged_df.groupby(['race_group']).groups)\n",
      "Testing weights for abd_exp_01:  62%|██████▏   | 63/101 [00:24<00:14,  2.62it/s]<ipython-input-6-d61cf6b7d348>:36: FutureWarning: The default of observed=False is deprecated and will be changed to True in a future version of pandas. Pass observed=False to retain current behavior or observed=True to adopt the future default and silence this warning.\n",
      "  merged_df_race_dict = dict(merged_df.groupby(['race_group']).groups)\n",
      "Testing weights for abd_exp_01:  63%|██████▎   | 64/101 [00:24<00:14,  2.62it/s]<ipython-input-6-d61cf6b7d348>:36: FutureWarning: The default of observed=False is deprecated and will be changed to True in a future version of pandas. Pass observed=False to retain current behavior or observed=True to adopt the future default and silence this warning.\n",
      "  merged_df_race_dict = dict(merged_df.groupby(['race_group']).groups)\n",
      "Testing weights for abd_exp_01:  64%|██████▍   | 65/101 [00:24<00:13,  2.62it/s]<ipython-input-6-d61cf6b7d348>:36: FutureWarning: The default of observed=False is deprecated and will be changed to True in a future version of pandas. Pass observed=False to retain current behavior or observed=True to adopt the future default and silence this warning.\n",
      "  merged_df_race_dict = dict(merged_df.groupby(['race_group']).groups)\n",
      "Testing weights for abd_exp_01:  65%|██████▌   | 66/101 [00:25<00:13,  2.62it/s]<ipython-input-6-d61cf6b7d348>:36: FutureWarning: The default of observed=False is deprecated and will be changed to True in a future version of pandas. Pass observed=False to retain current behavior or observed=True to adopt the future default and silence this warning.\n",
      "  merged_df_race_dict = dict(merged_df.groupby(['race_group']).groups)\n",
      "Testing weights for abd_exp_01:  66%|██████▋   | 67/101 [00:25<00:12,  2.62it/s]<ipython-input-6-d61cf6b7d348>:36: FutureWarning: The default of observed=False is deprecated and will be changed to True in a future version of pandas. Pass observed=False to retain current behavior or observed=True to adopt the future default and silence this warning.\n",
      "  merged_df_race_dict = dict(merged_df.groupby(['race_group']).groups)\n",
      "Testing weights for abd_exp_01:  67%|██████▋   | 68/101 [00:26<00:12,  2.61it/s]<ipython-input-6-d61cf6b7d348>:36: FutureWarning: The default of observed=False is deprecated and will be changed to True in a future version of pandas. Pass observed=False to retain current behavior or observed=True to adopt the future default and silence this warning.\n",
      "  merged_df_race_dict = dict(merged_df.groupby(['race_group']).groups)\n",
      "Testing weights for abd_exp_01:  68%|██████▊   | 69/101 [00:26<00:12,  2.61it/s]<ipython-input-6-d61cf6b7d348>:36: FutureWarning: The default of observed=False is deprecated and will be changed to True in a future version of pandas. Pass observed=False to retain current behavior or observed=True to adopt the future default and silence this warning.\n",
      "  merged_df_race_dict = dict(merged_df.groupby(['race_group']).groups)\n",
      "Testing weights for abd_exp_01:  69%|██████▉   | 70/101 [00:26<00:11,  2.61it/s]<ipython-input-6-d61cf6b7d348>:36: FutureWarning: The default of observed=False is deprecated and will be changed to True in a future version of pandas. Pass observed=False to retain current behavior or observed=True to adopt the future default and silence this warning.\n",
      "  merged_df_race_dict = dict(merged_df.groupby(['race_group']).groups)\n",
      "Testing weights for abd_exp_01:  70%|███████   | 71/101 [00:27<00:11,  2.62it/s]<ipython-input-6-d61cf6b7d348>:36: FutureWarning: The default of observed=False is deprecated and will be changed to True in a future version of pandas. Pass observed=False to retain current behavior or observed=True to adopt the future default and silence this warning.\n",
      "  merged_df_race_dict = dict(merged_df.groupby(['race_group']).groups)\n",
      "Testing weights for abd_exp_01:  71%|███████▏  | 72/101 [00:27<00:11,  2.62it/s]<ipython-input-6-d61cf6b7d348>:36: FutureWarning: The default of observed=False is deprecated and will be changed to True in a future version of pandas. Pass observed=False to retain current behavior or observed=True to adopt the future default and silence this warning.\n",
      "  merged_df_race_dict = dict(merged_df.groupby(['race_group']).groups)\n",
      "Testing weights for abd_exp_01:  72%|███████▏  | 73/101 [00:28<00:10,  2.62it/s]<ipython-input-6-d61cf6b7d348>:36: FutureWarning: The default of observed=False is deprecated and will be changed to True in a future version of pandas. Pass observed=False to retain current behavior or observed=True to adopt the future default and silence this warning.\n",
      "  merged_df_race_dict = dict(merged_df.groupby(['race_group']).groups)\n",
      "Testing weights for abd_exp_01:  73%|███████▎  | 74/101 [00:28<00:10,  2.62it/s]<ipython-input-6-d61cf6b7d348>:36: FutureWarning: The default of observed=False is deprecated and will be changed to True in a future version of pandas. Pass observed=False to retain current behavior or observed=True to adopt the future default and silence this warning.\n",
      "  merged_df_race_dict = dict(merged_df.groupby(['race_group']).groups)\n",
      "Testing weights for abd_exp_01:  74%|███████▍  | 75/101 [00:28<00:09,  2.62it/s]<ipython-input-6-d61cf6b7d348>:36: FutureWarning: The default of observed=False is deprecated and will be changed to True in a future version of pandas. Pass observed=False to retain current behavior or observed=True to adopt the future default and silence this warning.\n",
      "  merged_df_race_dict = dict(merged_df.groupby(['race_group']).groups)\n",
      "Testing weights for abd_exp_01:  75%|███████▌  | 76/101 [00:29<00:09,  2.55it/s]<ipython-input-6-d61cf6b7d348>:36: FutureWarning: The default of observed=False is deprecated and will be changed to True in a future version of pandas. Pass observed=False to retain current behavior or observed=True to adopt the future default and silence this warning.\n",
      "  merged_df_race_dict = dict(merged_df.groupby(['race_group']).groups)\n",
      "Testing weights for abd_exp_01:  76%|███████▌  | 77/101 [00:29<00:09,  2.57it/s]<ipython-input-6-d61cf6b7d348>:36: FutureWarning: The default of observed=False is deprecated and will be changed to True in a future version of pandas. Pass observed=False to retain current behavior or observed=True to adopt the future default and silence this warning.\n",
      "  merged_df_race_dict = dict(merged_df.groupby(['race_group']).groups)\n",
      "Testing weights for abd_exp_01:  77%|███████▋  | 78/101 [00:29<00:08,  2.58it/s]<ipython-input-6-d61cf6b7d348>:36: FutureWarning: The default of observed=False is deprecated and will be changed to True in a future version of pandas. Pass observed=False to retain current behavior or observed=True to adopt the future default and silence this warning.\n",
      "  merged_df_race_dict = dict(merged_df.groupby(['race_group']).groups)\n",
      "Testing weights for abd_exp_01:  78%|███████▊  | 79/101 [00:30<00:08,  2.59it/s]<ipython-input-6-d61cf6b7d348>:36: FutureWarning: The default of observed=False is deprecated and will be changed to True in a future version of pandas. Pass observed=False to retain current behavior or observed=True to adopt the future default and silence this warning.\n",
      "  merged_df_race_dict = dict(merged_df.groupby(['race_group']).groups)\n",
      "Testing weights for abd_exp_01:  79%|███████▉  | 80/101 [00:30<00:08,  2.60it/s]<ipython-input-6-d61cf6b7d348>:36: FutureWarning: The default of observed=False is deprecated and will be changed to True in a future version of pandas. Pass observed=False to retain current behavior or observed=True to adopt the future default and silence this warning.\n",
      "  merged_df_race_dict = dict(merged_df.groupby(['race_group']).groups)\n",
      "Testing weights for abd_exp_01:  80%|████████  | 81/101 [00:31<00:07,  2.60it/s]<ipython-input-6-d61cf6b7d348>:36: FutureWarning: The default of observed=False is deprecated and will be changed to True in a future version of pandas. Pass observed=False to retain current behavior or observed=True to adopt the future default and silence this warning.\n",
      "  merged_df_race_dict = dict(merged_df.groupby(['race_group']).groups)\n",
      "Testing weights for abd_exp_01:  81%|████████  | 82/101 [00:31<00:07,  2.61it/s]<ipython-input-6-d61cf6b7d348>:36: FutureWarning: The default of observed=False is deprecated and will be changed to True in a future version of pandas. Pass observed=False to retain current behavior or observed=True to adopt the future default and silence this warning.\n",
      "  merged_df_race_dict = dict(merged_df.groupby(['race_group']).groups)\n",
      "Testing weights for abd_exp_01:  82%|████████▏ | 83/101 [00:31<00:06,  2.61it/s]<ipython-input-6-d61cf6b7d348>:36: FutureWarning: The default of observed=False is deprecated and will be changed to True in a future version of pandas. Pass observed=False to retain current behavior or observed=True to adopt the future default and silence this warning.\n",
      "  merged_df_race_dict = dict(merged_df.groupby(['race_group']).groups)\n",
      "Testing weights for abd_exp_01:  83%|████████▎ | 84/101 [00:32<00:06,  2.61it/s]<ipython-input-6-d61cf6b7d348>:36: FutureWarning: The default of observed=False is deprecated and will be changed to True in a future version of pandas. Pass observed=False to retain current behavior or observed=True to adopt the future default and silence this warning.\n",
      "  merged_df_race_dict = dict(merged_df.groupby(['race_group']).groups)\n",
      "Testing weights for abd_exp_01:  84%|████████▍ | 85/101 [00:32<00:06,  2.62it/s]<ipython-input-6-d61cf6b7d348>:36: FutureWarning: The default of observed=False is deprecated and will be changed to True in a future version of pandas. Pass observed=False to retain current behavior or observed=True to adopt the future default and silence this warning.\n",
      "  merged_df_race_dict = dict(merged_df.groupby(['race_group']).groups)\n",
      "Testing weights for abd_exp_01:  85%|████████▌ | 86/101 [00:33<00:05,  2.62it/s]<ipython-input-6-d61cf6b7d348>:36: FutureWarning: The default of observed=False is deprecated and will be changed to True in a future version of pandas. Pass observed=False to retain current behavior or observed=True to adopt the future default and silence this warning.\n",
      "  merged_df_race_dict = dict(merged_df.groupby(['race_group']).groups)\n",
      "Testing weights for abd_exp_01:  86%|████████▌ | 87/101 [00:33<00:05,  2.62it/s]<ipython-input-6-d61cf6b7d348>:36: FutureWarning: The default of observed=False is deprecated and will be changed to True in a future version of pandas. Pass observed=False to retain current behavior or observed=True to adopt the future default and silence this warning.\n",
      "  merged_df_race_dict = dict(merged_df.groupby(['race_group']).groups)\n",
      "Testing weights for abd_exp_01:  87%|████████▋ | 88/101 [00:33<00:04,  2.61it/s]<ipython-input-6-d61cf6b7d348>:36: FutureWarning: The default of observed=False is deprecated and will be changed to True in a future version of pandas. Pass observed=False to retain current behavior or observed=True to adopt the future default and silence this warning.\n",
      "  merged_df_race_dict = dict(merged_df.groupby(['race_group']).groups)\n",
      "Testing weights for abd_exp_01:  88%|████████▊ | 89/101 [00:34<00:04,  2.61it/s]<ipython-input-6-d61cf6b7d348>:36: FutureWarning: The default of observed=False is deprecated and will be changed to True in a future version of pandas. Pass observed=False to retain current behavior or observed=True to adopt the future default and silence this warning.\n",
      "  merged_df_race_dict = dict(merged_df.groupby(['race_group']).groups)\n",
      "Testing weights for abd_exp_01:  89%|████████▉ | 90/101 [00:34<00:04,  2.62it/s]<ipython-input-6-d61cf6b7d348>:36: FutureWarning: The default of observed=False is deprecated and will be changed to True in a future version of pandas. Pass observed=False to retain current behavior or observed=True to adopt the future default and silence this warning.\n",
      "  merged_df_race_dict = dict(merged_df.groupby(['race_group']).groups)\n",
      "Testing weights for abd_exp_01:  90%|█████████ | 91/101 [00:34<00:03,  2.61it/s]<ipython-input-6-d61cf6b7d348>:36: FutureWarning: The default of observed=False is deprecated and will be changed to True in a future version of pandas. Pass observed=False to retain current behavior or observed=True to adopt the future default and silence this warning.\n",
      "  merged_df_race_dict = dict(merged_df.groupby(['race_group']).groups)\n",
      "Testing weights for abd_exp_01:  91%|█████████ | 92/101 [00:35<00:03,  2.61it/s]<ipython-input-6-d61cf6b7d348>:36: FutureWarning: The default of observed=False is deprecated and will be changed to True in a future version of pandas. Pass observed=False to retain current behavior or observed=True to adopt the future default and silence this warning.\n",
      "  merged_df_race_dict = dict(merged_df.groupby(['race_group']).groups)\n",
      "Testing weights for abd_exp_01:  92%|█████████▏| 93/101 [00:35<00:03,  2.61it/s]<ipython-input-6-d61cf6b7d348>:36: FutureWarning: The default of observed=False is deprecated and will be changed to True in a future version of pandas. Pass observed=False to retain current behavior or observed=True to adopt the future default and silence this warning.\n",
      "  merged_df_race_dict = dict(merged_df.groupby(['race_group']).groups)\n",
      "Testing weights for abd_exp_01:  93%|█████████▎| 94/101 [00:36<00:02,  2.61it/s]<ipython-input-6-d61cf6b7d348>:36: FutureWarning: The default of observed=False is deprecated and will be changed to True in a future version of pandas. Pass observed=False to retain current behavior or observed=True to adopt the future default and silence this warning.\n",
      "  merged_df_race_dict = dict(merged_df.groupby(['race_group']).groups)\n",
      "Testing weights for abd_exp_01:  94%|█████████▍| 95/101 [00:36<00:02,  2.61it/s]<ipython-input-6-d61cf6b7d348>:36: FutureWarning: The default of observed=False is deprecated and will be changed to True in a future version of pandas. Pass observed=False to retain current behavior or observed=True to adopt the future default and silence this warning.\n",
      "  merged_df_race_dict = dict(merged_df.groupby(['race_group']).groups)\n",
      "Testing weights for abd_exp_01:  95%|█████████▌| 96/101 [00:36<00:01,  2.62it/s]<ipython-input-6-d61cf6b7d348>:36: FutureWarning: The default of observed=False is deprecated and will be changed to True in a future version of pandas. Pass observed=False to retain current behavior or observed=True to adopt the future default and silence this warning.\n",
      "  merged_df_race_dict = dict(merged_df.groupby(['race_group']).groups)\n",
      "Testing weights for abd_exp_01:  96%|█████████▌| 97/101 [00:37<00:01,  2.62it/s]<ipython-input-6-d61cf6b7d348>:36: FutureWarning: The default of observed=False is deprecated and will be changed to True in a future version of pandas. Pass observed=False to retain current behavior or observed=True to adopt the future default and silence this warning.\n",
      "  merged_df_race_dict = dict(merged_df.groupby(['race_group']).groups)\n",
      "Testing weights for abd_exp_01:  97%|█████████▋| 98/101 [00:37<00:01,  2.62it/s]<ipython-input-6-d61cf6b7d348>:36: FutureWarning: The default of observed=False is deprecated and will be changed to True in a future version of pandas. Pass observed=False to retain current behavior or observed=True to adopt the future default and silence this warning.\n",
      "  merged_df_race_dict = dict(merged_df.groupby(['race_group']).groups)\n",
      "Testing weights for abd_exp_01:  98%|█████████▊| 99/101 [00:38<00:00,  2.61it/s]<ipython-input-6-d61cf6b7d348>:36: FutureWarning: The default of observed=False is deprecated and will be changed to True in a future version of pandas. Pass observed=False to retain current behavior or observed=True to adopt the future default and silence this warning.\n",
      "  merged_df_race_dict = dict(merged_df.groupby(['race_group']).groups)\n",
      "Testing weights for abd_exp_01:  99%|█████████▉| 100/101 [00:38<00:00,  2.61it/s]<ipython-input-6-d61cf6b7d348>:36: FutureWarning: The default of observed=False is deprecated and will be changed to True in a future version of pandas. Pass observed=False to retain current behavior or observed=True to adopt the future default and silence this warning.\n",
      "  merged_df_race_dict = dict(merged_df.groupby(['race_group']).groups)\n",
      "Testing weights for abd_exp_01: 100%|██████████| 101/101 [00:38<00:00,  2.60it/s]\n"
     ]
    },
    {
     "name": "stdout",
     "output_type": "stream",
     "text": [
      "here -> /kaggle/input/catboost-exp-04\n"
     ]
    },
    {
     "name": "stderr",
     "output_type": "stream",
     "text": [
      "Testing weights for catboost_exp_04: 100%|██████████| 101/101 [00:38<00:00,  2.61it/s]\n"
     ]
    },
    {
     "name": "stdout",
     "output_type": "stream",
     "text": [
      "here -> /kaggle/input/lgbm-exp-04\n"
     ]
    },
    {
     "name": "stderr",
     "output_type": "stream",
     "text": [
      "Testing weights for lgbm_exp_04: 100%|██████████| 101/101 [00:38<00:00,  2.61it/s]\n"
     ]
    },
    {
     "name": "stdout",
     "output_type": "stream",
     "text": [
      "here -> /kaggle/input/tabm-exp-02\n"
     ]
    },
    {
     "name": "stderr",
     "output_type": "stream",
     "text": [
      "Testing weights for tabm_exp_02: 100%|██████████| 101/101 [00:38<00:00,  2.61it/s]\n"
     ]
    },
    {
     "name": "stdout",
     "output_type": "stream",
     "text": [
      "here -> /kaggle/input/ds-exp-01\n"
     ]
    },
    {
     "name": "stderr",
     "output_type": "stream",
     "text": [
      "Testing weights for ds_exp_01: 100%|██████████| 101/101 [00:38<00:00,  2.61it/s]\n"
     ]
    },
    {
     "name": "stdout",
     "output_type": "stream",
     "text": [
      "here -> /kaggle/input/nn-exp-02\n"
     ]
    },
    {
     "name": "stderr",
     "output_type": "stream",
     "text": [
      "Testing weights for nn_exp_02: 100%|██████████| 101/101 [00:38<00:00,  2.60it/s]\n"
     ]
    },
    {
     "name": "stdout",
     "output_type": "stream",
     "text": [
      "Iteration 1: Added /kaggle/input/catboost-exp-01 with weight 0.3900, Score: 0.6838\n",
      "1th iteration\n",
      "here -> /kaggle/input/xgboost-exp-01\n"
     ]
    },
    {
     "name": "stderr",
     "output_type": "stream",
     "text": [
      "Testing weights for xgboost_exp_01: 100%|██████████| 101/101 [00:38<00:00,  2.61it/s]\n"
     ]
    },
    {
     "name": "stdout",
     "output_type": "stream",
     "text": [
      "here -> /kaggle/input/lgbm-exp-01\n"
     ]
    },
    {
     "name": "stderr",
     "output_type": "stream",
     "text": [
      "Testing weights for lgbm_exp_01: 100%|██████████| 101/101 [00:38<00:00,  2.62it/s]\n"
     ]
    },
    {
     "name": "stdout",
     "output_type": "stream",
     "text": [
      "here -> /kaggle/input/xgboost-exp-02\n"
     ]
    },
    {
     "name": "stderr",
     "output_type": "stream",
     "text": [
      "Testing weights for xgboost_exp_02: 100%|██████████| 101/101 [00:38<00:00,  2.62it/s]\n"
     ]
    },
    {
     "name": "stdout",
     "output_type": "stream",
     "text": [
      "here -> /kaggle/input/catboost-exp-02\n"
     ]
    },
    {
     "name": "stderr",
     "output_type": "stream",
     "text": [
      "Testing weights for catboost_exp_02: 100%|██████████| 101/101 [00:38<00:00,  2.63it/s]\n"
     ]
    },
    {
     "name": "stdout",
     "output_type": "stream",
     "text": [
      "here -> /kaggle/input/lgbm-exp-03\n"
     ]
    },
    {
     "name": "stderr",
     "output_type": "stream",
     "text": [
      "Testing weights for lgbm_exp_03: 100%|██████████| 101/101 [00:38<00:00,  2.62it/s]\n"
     ]
    },
    {
     "name": "stdout",
     "output_type": "stream",
     "text": [
      "here -> /kaggle/input/catboost-exp-03\n"
     ]
    },
    {
     "name": "stderr",
     "output_type": "stream",
     "text": [
      "Testing weights for catboost_exp_03: 100%|██████████| 101/101 [00:38<00:00,  2.63it/s]\n"
     ]
    },
    {
     "name": "stdout",
     "output_type": "stream",
     "text": [
      "here -> /kaggle/input/tabm-exp-01\n"
     ]
    },
    {
     "name": "stderr",
     "output_type": "stream",
     "text": [
      "Testing weights for tabm_exp_01: 100%|██████████| 101/101 [00:38<00:00,  2.60it/s]\n"
     ]
    },
    {
     "name": "stdout",
     "output_type": "stream",
     "text": [
      "here -> /kaggle/input/nn-exp-01\n"
     ]
    },
    {
     "name": "stderr",
     "output_type": "stream",
     "text": [
      "Testing weights for nn_exp_01: 100%|██████████| 101/101 [00:38<00:00,  2.62it/s]\n"
     ]
    },
    {
     "name": "stdout",
     "output_type": "stream",
     "text": [
      "here -> /kaggle/input/tn-exp-01\n"
     ]
    },
    {
     "name": "stderr",
     "output_type": "stream",
     "text": [
      "Testing weights for tn_exp_01: 100%|██████████| 101/101 [00:38<00:00,  2.63it/s]\n"
     ]
    },
    {
     "name": "stdout",
     "output_type": "stream",
     "text": [
      "here -> /kaggle/input/tf-exp-01\n"
     ]
    },
    {
     "name": "stderr",
     "output_type": "stream",
     "text": [
      "Testing weights for tf_exp_01: 100%|██████████| 101/101 [00:38<00:00,  2.62it/s]\n"
     ]
    },
    {
     "name": "stdout",
     "output_type": "stream",
     "text": [
      "here -> /kaggle/input/svr-exp-01\n"
     ]
    },
    {
     "name": "stderr",
     "output_type": "stream",
     "text": [
      "Testing weights for svr_exp_01: 100%|██████████| 101/101 [00:38<00:00,  2.62it/s]\n"
     ]
    },
    {
     "name": "stdout",
     "output_type": "stream",
     "text": [
      "here -> /kaggle/input/abd-exp-01\n"
     ]
    },
    {
     "name": "stderr",
     "output_type": "stream",
     "text": [
      "Testing weights for abd_exp_01:   0%|          | 0/101 [00:00<?, ?it/s]<ipython-input-6-d61cf6b7d348>:36: FutureWarning: The default of observed=False is deprecated and will be changed to True in a future version of pandas. Pass observed=False to retain current behavior or observed=True to adopt the future default and silence this warning.\n",
      "  merged_df_race_dict = dict(merged_df.groupby(['race_group']).groups)\n",
      "Testing weights for abd_exp_01:   1%|          | 1/101 [00:00<00:38,  2.59it/s]<ipython-input-6-d61cf6b7d348>:36: FutureWarning: The default of observed=False is deprecated and will be changed to True in a future version of pandas. Pass observed=False to retain current behavior or observed=True to adopt the future default and silence this warning.\n",
      "  merged_df_race_dict = dict(merged_df.groupby(['race_group']).groups)\n",
      "Testing weights for abd_exp_01:   2%|▏         | 2/101 [00:00<00:37,  2.62it/s]<ipython-input-6-d61cf6b7d348>:36: FutureWarning: The default of observed=False is deprecated and will be changed to True in a future version of pandas. Pass observed=False to retain current behavior or observed=True to adopt the future default and silence this warning.\n",
      "  merged_df_race_dict = dict(merged_df.groupby(['race_group']).groups)\n",
      "Testing weights for abd_exp_01:   3%|▎         | 3/101 [00:01<00:37,  2.62it/s]<ipython-input-6-d61cf6b7d348>:36: FutureWarning: The default of observed=False is deprecated and will be changed to True in a future version of pandas. Pass observed=False to retain current behavior or observed=True to adopt the future default and silence this warning.\n",
      "  merged_df_race_dict = dict(merged_df.groupby(['race_group']).groups)\n",
      "Testing weights for abd_exp_01:   4%|▍         | 4/101 [00:01<00:36,  2.62it/s]<ipython-input-6-d61cf6b7d348>:36: FutureWarning: The default of observed=False is deprecated and will be changed to True in a future version of pandas. Pass observed=False to retain current behavior or observed=True to adopt the future default and silence this warning.\n",
      "  merged_df_race_dict = dict(merged_df.groupby(['race_group']).groups)\n",
      "Testing weights for abd_exp_01:   5%|▍         | 5/101 [00:01<00:36,  2.62it/s]<ipython-input-6-d61cf6b7d348>:36: FutureWarning: The default of observed=False is deprecated and will be changed to True in a future version of pandas. Pass observed=False to retain current behavior or observed=True to adopt the future default and silence this warning.\n",
      "  merged_df_race_dict = dict(merged_df.groupby(['race_group']).groups)\n",
      "Testing weights for abd_exp_01:   6%|▌         | 6/101 [00:02<00:36,  2.62it/s]<ipython-input-6-d61cf6b7d348>:36: FutureWarning: The default of observed=False is deprecated and will be changed to True in a future version of pandas. Pass observed=False to retain current behavior or observed=True to adopt the future default and silence this warning.\n",
      "  merged_df_race_dict = dict(merged_df.groupby(['race_group']).groups)\n",
      "Testing weights for abd_exp_01:   7%|▋         | 7/101 [00:02<00:35,  2.63it/s]<ipython-input-6-d61cf6b7d348>:36: FutureWarning: The default of observed=False is deprecated and will be changed to True in a future version of pandas. Pass observed=False to retain current behavior or observed=True to adopt the future default and silence this warning.\n",
      "  merged_df_race_dict = dict(merged_df.groupby(['race_group']).groups)\n",
      "Testing weights for abd_exp_01:   8%|▊         | 8/101 [00:03<00:35,  2.62it/s]<ipython-input-6-d61cf6b7d348>:36: FutureWarning: The default of observed=False is deprecated and will be changed to True in a future version of pandas. Pass observed=False to retain current behavior or observed=True to adopt the future default and silence this warning.\n",
      "  merged_df_race_dict = dict(merged_df.groupby(['race_group']).groups)\n",
      "Testing weights for abd_exp_01:   9%|▉         | 9/101 [00:03<00:35,  2.62it/s]<ipython-input-6-d61cf6b7d348>:36: FutureWarning: The default of observed=False is deprecated and will be changed to True in a future version of pandas. Pass observed=False to retain current behavior or observed=True to adopt the future default and silence this warning.\n",
      "  merged_df_race_dict = dict(merged_df.groupby(['race_group']).groups)\n",
      "Testing weights for abd_exp_01:  10%|▉         | 10/101 [00:03<00:34,  2.62it/s]<ipython-input-6-d61cf6b7d348>:36: FutureWarning: The default of observed=False is deprecated and will be changed to True in a future version of pandas. Pass observed=False to retain current behavior or observed=True to adopt the future default and silence this warning.\n",
      "  merged_df_race_dict = dict(merged_df.groupby(['race_group']).groups)\n",
      "Testing weights for abd_exp_01:  11%|█         | 11/101 [00:04<00:34,  2.63it/s]<ipython-input-6-d61cf6b7d348>:36: FutureWarning: The default of observed=False is deprecated and will be changed to True in a future version of pandas. Pass observed=False to retain current behavior or observed=True to adopt the future default and silence this warning.\n",
      "  merged_df_race_dict = dict(merged_df.groupby(['race_group']).groups)\n",
      "Testing weights for abd_exp_01:  12%|█▏        | 12/101 [00:04<00:33,  2.63it/s]<ipython-input-6-d61cf6b7d348>:36: FutureWarning: The default of observed=False is deprecated and will be changed to True in a future version of pandas. Pass observed=False to retain current behavior or observed=True to adopt the future default and silence this warning.\n",
      "  merged_df_race_dict = dict(merged_df.groupby(['race_group']).groups)\n",
      "Testing weights for abd_exp_01:  13%|█▎        | 13/101 [00:04<00:33,  2.63it/s]<ipython-input-6-d61cf6b7d348>:36: FutureWarning: The default of observed=False is deprecated and will be changed to True in a future version of pandas. Pass observed=False to retain current behavior or observed=True to adopt the future default and silence this warning.\n",
      "  merged_df_race_dict = dict(merged_df.groupby(['race_group']).groups)\n",
      "Testing weights for abd_exp_01:  14%|█▍        | 14/101 [00:05<00:33,  2.63it/s]<ipython-input-6-d61cf6b7d348>:36: FutureWarning: The default of observed=False is deprecated and will be changed to True in a future version of pandas. Pass observed=False to retain current behavior or observed=True to adopt the future default and silence this warning.\n",
      "  merged_df_race_dict = dict(merged_df.groupby(['race_group']).groups)\n",
      "Testing weights for abd_exp_01:  15%|█▍        | 15/101 [00:05<00:32,  2.63it/s]<ipython-input-6-d61cf6b7d348>:36: FutureWarning: The default of observed=False is deprecated and will be changed to True in a future version of pandas. Pass observed=False to retain current behavior or observed=True to adopt the future default and silence this warning.\n",
      "  merged_df_race_dict = dict(merged_df.groupby(['race_group']).groups)\n",
      "Testing weights for abd_exp_01:  16%|█▌        | 16/101 [00:06<00:32,  2.63it/s]<ipython-input-6-d61cf6b7d348>:36: FutureWarning: The default of observed=False is deprecated and will be changed to True in a future version of pandas. Pass observed=False to retain current behavior or observed=True to adopt the future default and silence this warning.\n",
      "  merged_df_race_dict = dict(merged_df.groupby(['race_group']).groups)\n",
      "Testing weights for abd_exp_01:  17%|█▋        | 17/101 [00:06<00:32,  2.57it/s]<ipython-input-6-d61cf6b7d348>:36: FutureWarning: The default of observed=False is deprecated and will be changed to True in a future version of pandas. Pass observed=False to retain current behavior or observed=True to adopt the future default and silence this warning.\n",
      "  merged_df_race_dict = dict(merged_df.groupby(['race_group']).groups)\n",
      "Testing weights for abd_exp_01:  18%|█▊        | 18/101 [00:06<00:32,  2.58it/s]<ipython-input-6-d61cf6b7d348>:36: FutureWarning: The default of observed=False is deprecated and will be changed to True in a future version of pandas. Pass observed=False to retain current behavior or observed=True to adopt the future default and silence this warning.\n",
      "  merged_df_race_dict = dict(merged_df.groupby(['race_group']).groups)\n",
      "Testing weights for abd_exp_01:  19%|█▉        | 19/101 [00:07<00:31,  2.59it/s]<ipython-input-6-d61cf6b7d348>:36: FutureWarning: The default of observed=False is deprecated and will be changed to True in a future version of pandas. Pass observed=False to retain current behavior or observed=True to adopt the future default and silence this warning.\n",
      "  merged_df_race_dict = dict(merged_df.groupby(['race_group']).groups)\n",
      "Testing weights for abd_exp_01:  20%|█▉        | 20/101 [00:07<00:31,  2.61it/s]<ipython-input-6-d61cf6b7d348>:36: FutureWarning: The default of observed=False is deprecated and will be changed to True in a future version of pandas. Pass observed=False to retain current behavior or observed=True to adopt the future default and silence this warning.\n",
      "  merged_df_race_dict = dict(merged_df.groupby(['race_group']).groups)\n",
      "Testing weights for abd_exp_01:  21%|██        | 21/101 [00:08<00:30,  2.61it/s]<ipython-input-6-d61cf6b7d348>:36: FutureWarning: The default of observed=False is deprecated and will be changed to True in a future version of pandas. Pass observed=False to retain current behavior or observed=True to adopt the future default and silence this warning.\n",
      "  merged_df_race_dict = dict(merged_df.groupby(['race_group']).groups)\n",
      "Testing weights for abd_exp_01:  22%|██▏       | 22/101 [00:08<00:30,  2.61it/s]<ipython-input-6-d61cf6b7d348>:36: FutureWarning: The default of observed=False is deprecated and will be changed to True in a future version of pandas. Pass observed=False to retain current behavior or observed=True to adopt the future default and silence this warning.\n",
      "  merged_df_race_dict = dict(merged_df.groupby(['race_group']).groups)\n",
      "Testing weights for abd_exp_01:  23%|██▎       | 23/101 [00:08<00:29,  2.61it/s]<ipython-input-6-d61cf6b7d348>:36: FutureWarning: The default of observed=False is deprecated and will be changed to True in a future version of pandas. Pass observed=False to retain current behavior or observed=True to adopt the future default and silence this warning.\n",
      "  merged_df_race_dict = dict(merged_df.groupby(['race_group']).groups)\n",
      "Testing weights for abd_exp_01:  24%|██▍       | 24/101 [00:09<00:29,  2.61it/s]<ipython-input-6-d61cf6b7d348>:36: FutureWarning: The default of observed=False is deprecated and will be changed to True in a future version of pandas. Pass observed=False to retain current behavior or observed=True to adopt the future default and silence this warning.\n",
      "  merged_df_race_dict = dict(merged_df.groupby(['race_group']).groups)\n",
      "Testing weights for abd_exp_01:  25%|██▍       | 25/101 [00:09<00:29,  2.61it/s]<ipython-input-6-d61cf6b7d348>:36: FutureWarning: The default of observed=False is deprecated and will be changed to True in a future version of pandas. Pass observed=False to retain current behavior or observed=True to adopt the future default and silence this warning.\n",
      "  merged_df_race_dict = dict(merged_df.groupby(['race_group']).groups)\n",
      "Testing weights for abd_exp_01:  26%|██▌       | 26/101 [00:09<00:28,  2.62it/s]<ipython-input-6-d61cf6b7d348>:36: FutureWarning: The default of observed=False is deprecated and will be changed to True in a future version of pandas. Pass observed=False to retain current behavior or observed=True to adopt the future default and silence this warning.\n",
      "  merged_df_race_dict = dict(merged_df.groupby(['race_group']).groups)\n",
      "Testing weights for abd_exp_01:  27%|██▋       | 27/101 [00:10<00:28,  2.62it/s]<ipython-input-6-d61cf6b7d348>:36: FutureWarning: The default of observed=False is deprecated and will be changed to True in a future version of pandas. Pass observed=False to retain current behavior or observed=True to adopt the future default and silence this warning.\n",
      "  merged_df_race_dict = dict(merged_df.groupby(['race_group']).groups)\n",
      "Testing weights for abd_exp_01:  28%|██▊       | 28/101 [00:10<00:27,  2.62it/s]<ipython-input-6-d61cf6b7d348>:36: FutureWarning: The default of observed=False is deprecated and will be changed to True in a future version of pandas. Pass observed=False to retain current behavior or observed=True to adopt the future default and silence this warning.\n",
      "  merged_df_race_dict = dict(merged_df.groupby(['race_group']).groups)\n",
      "Testing weights for abd_exp_01:  29%|██▊       | 29/101 [00:11<00:27,  2.62it/s]<ipython-input-6-d61cf6b7d348>:36: FutureWarning: The default of observed=False is deprecated and will be changed to True in a future version of pandas. Pass observed=False to retain current behavior or observed=True to adopt the future default and silence this warning.\n",
      "  merged_df_race_dict = dict(merged_df.groupby(['race_group']).groups)\n",
      "Testing weights for abd_exp_01:  30%|██▉       | 30/101 [00:11<00:27,  2.62it/s]<ipython-input-6-d61cf6b7d348>:36: FutureWarning: The default of observed=False is deprecated and will be changed to True in a future version of pandas. Pass observed=False to retain current behavior or observed=True to adopt the future default and silence this warning.\n",
      "  merged_df_race_dict = dict(merged_df.groupby(['race_group']).groups)\n",
      "Testing weights for abd_exp_01:  31%|███       | 31/101 [00:11<00:26,  2.61it/s]<ipython-input-6-d61cf6b7d348>:36: FutureWarning: The default of observed=False is deprecated and will be changed to True in a future version of pandas. Pass observed=False to retain current behavior or observed=True to adopt the future default and silence this warning.\n",
      "  merged_df_race_dict = dict(merged_df.groupby(['race_group']).groups)\n",
      "Testing weights for abd_exp_01:  32%|███▏      | 32/101 [00:12<00:26,  2.62it/s]<ipython-input-6-d61cf6b7d348>:36: FutureWarning: The default of observed=False is deprecated and will be changed to True in a future version of pandas. Pass observed=False to retain current behavior or observed=True to adopt the future default and silence this warning.\n",
      "  merged_df_race_dict = dict(merged_df.groupby(['race_group']).groups)\n",
      "Testing weights for abd_exp_01:  33%|███▎      | 33/101 [00:12<00:26,  2.61it/s]<ipython-input-6-d61cf6b7d348>:36: FutureWarning: The default of observed=False is deprecated and will be changed to True in a future version of pandas. Pass observed=False to retain current behavior or observed=True to adopt the future default and silence this warning.\n",
      "  merged_df_race_dict = dict(merged_df.groupby(['race_group']).groups)\n",
      "Testing weights for abd_exp_01:  34%|███▎      | 34/101 [00:13<00:25,  2.62it/s]<ipython-input-6-d61cf6b7d348>:36: FutureWarning: The default of observed=False is deprecated and will be changed to True in a future version of pandas. Pass observed=False to retain current behavior or observed=True to adopt the future default and silence this warning.\n",
      "  merged_df_race_dict = dict(merged_df.groupby(['race_group']).groups)\n",
      "Testing weights for abd_exp_01:  35%|███▍      | 35/101 [00:13<00:25,  2.61it/s]<ipython-input-6-d61cf6b7d348>:36: FutureWarning: The default of observed=False is deprecated and will be changed to True in a future version of pandas. Pass observed=False to retain current behavior or observed=True to adopt the future default and silence this warning.\n",
      "  merged_df_race_dict = dict(merged_df.groupby(['race_group']).groups)\n",
      "Testing weights for abd_exp_01:  36%|███▌      | 36/101 [00:13<00:24,  2.62it/s]<ipython-input-6-d61cf6b7d348>:36: FutureWarning: The default of observed=False is deprecated and will be changed to True in a future version of pandas. Pass observed=False to retain current behavior or observed=True to adopt the future default and silence this warning.\n",
      "  merged_df_race_dict = dict(merged_df.groupby(['race_group']).groups)\n",
      "Testing weights for abd_exp_01:  37%|███▋      | 37/101 [00:14<00:24,  2.62it/s]<ipython-input-6-d61cf6b7d348>:36: FutureWarning: The default of observed=False is deprecated and will be changed to True in a future version of pandas. Pass observed=False to retain current behavior or observed=True to adopt the future default and silence this warning.\n",
      "  merged_df_race_dict = dict(merged_df.groupby(['race_group']).groups)\n",
      "Testing weights for abd_exp_01:  38%|███▊      | 38/101 [00:14<00:24,  2.62it/s]<ipython-input-6-d61cf6b7d348>:36: FutureWarning: The default of observed=False is deprecated and will be changed to True in a future version of pandas. Pass observed=False to retain current behavior or observed=True to adopt the future default and silence this warning.\n",
      "  merged_df_race_dict = dict(merged_df.groupby(['race_group']).groups)\n",
      "Testing weights for abd_exp_01:  39%|███▊      | 39/101 [00:14<00:23,  2.62it/s]<ipython-input-6-d61cf6b7d348>:36: FutureWarning: The default of observed=False is deprecated and will be changed to True in a future version of pandas. Pass observed=False to retain current behavior or observed=True to adopt the future default and silence this warning.\n",
      "  merged_df_race_dict = dict(merged_df.groupby(['race_group']).groups)\n",
      "Testing weights for abd_exp_01:  40%|███▉      | 40/101 [00:15<00:23,  2.61it/s]<ipython-input-6-d61cf6b7d348>:36: FutureWarning: The default of observed=False is deprecated and will be changed to True in a future version of pandas. Pass observed=False to retain current behavior or observed=True to adopt the future default and silence this warning.\n",
      "  merged_df_race_dict = dict(merged_df.groupby(['race_group']).groups)\n",
      "Testing weights for abd_exp_01:  41%|████      | 41/101 [00:15<00:22,  2.61it/s]<ipython-input-6-d61cf6b7d348>:36: FutureWarning: The default of observed=False is deprecated and will be changed to True in a future version of pandas. Pass observed=False to retain current behavior or observed=True to adopt the future default and silence this warning.\n",
      "  merged_df_race_dict = dict(merged_df.groupby(['race_group']).groups)\n",
      "Testing weights for abd_exp_01:  42%|████▏     | 42/101 [00:16<00:22,  2.58it/s]<ipython-input-6-d61cf6b7d348>:36: FutureWarning: The default of observed=False is deprecated and will be changed to True in a future version of pandas. Pass observed=False to retain current behavior or observed=True to adopt the future default and silence this warning.\n",
      "  merged_df_race_dict = dict(merged_df.groupby(['race_group']).groups)\n",
      "Testing weights for abd_exp_01:  43%|████▎     | 43/101 [00:16<00:24,  2.40it/s]<ipython-input-6-d61cf6b7d348>:36: FutureWarning: The default of observed=False is deprecated and will be changed to True in a future version of pandas. Pass observed=False to retain current behavior or observed=True to adopt the future default and silence this warning.\n",
      "  merged_df_race_dict = dict(merged_df.groupby(['race_group']).groups)\n",
      "Testing weights for abd_exp_01:  44%|████▎     | 44/101 [00:16<00:23,  2.45it/s]<ipython-input-6-d61cf6b7d348>:36: FutureWarning: The default of observed=False is deprecated and will be changed to True in a future version of pandas. Pass observed=False to retain current behavior or observed=True to adopt the future default and silence this warning.\n",
      "  merged_df_race_dict = dict(merged_df.groupby(['race_group']).groups)\n",
      "Testing weights for abd_exp_01:  45%|████▍     | 45/101 [00:17<00:22,  2.49it/s]<ipython-input-6-d61cf6b7d348>:36: FutureWarning: The default of observed=False is deprecated and will be changed to True in a future version of pandas. Pass observed=False to retain current behavior or observed=True to adopt the future default and silence this warning.\n",
      "  merged_df_race_dict = dict(merged_df.groupby(['race_group']).groups)\n",
      "Testing weights for abd_exp_01:  46%|████▌     | 46/101 [00:17<00:21,  2.51it/s]<ipython-input-6-d61cf6b7d348>:36: FutureWarning: The default of observed=False is deprecated and will be changed to True in a future version of pandas. Pass observed=False to retain current behavior or observed=True to adopt the future default and silence this warning.\n",
      "  merged_df_race_dict = dict(merged_df.groupby(['race_group']).groups)\n",
      "Testing weights for abd_exp_01:  47%|████▋     | 47/101 [00:18<00:21,  2.54it/s]<ipython-input-6-d61cf6b7d348>:36: FutureWarning: The default of observed=False is deprecated and will be changed to True in a future version of pandas. Pass observed=False to retain current behavior or observed=True to adopt the future default and silence this warning.\n",
      "  merged_df_race_dict = dict(merged_df.groupby(['race_group']).groups)\n",
      "Testing weights for abd_exp_01:  48%|████▊     | 48/101 [00:18<00:20,  2.56it/s]<ipython-input-6-d61cf6b7d348>:36: FutureWarning: The default of observed=False is deprecated and will be changed to True in a future version of pandas. Pass observed=False to retain current behavior or observed=True to adopt the future default and silence this warning.\n",
      "  merged_df_race_dict = dict(merged_df.groupby(['race_group']).groups)\n",
      "Testing weights for abd_exp_01:  49%|████▊     | 49/101 [00:18<00:20,  2.58it/s]<ipython-input-6-d61cf6b7d348>:36: FutureWarning: The default of observed=False is deprecated and will be changed to True in a future version of pandas. Pass observed=False to retain current behavior or observed=True to adopt the future default and silence this warning.\n",
      "  merged_df_race_dict = dict(merged_df.groupby(['race_group']).groups)\n",
      "Testing weights for abd_exp_01:  50%|████▉     | 50/101 [00:19<00:19,  2.59it/s]<ipython-input-6-d61cf6b7d348>:36: FutureWarning: The default of observed=False is deprecated and will be changed to True in a future version of pandas. Pass observed=False to retain current behavior or observed=True to adopt the future default and silence this warning.\n",
      "  merged_df_race_dict = dict(merged_df.groupby(['race_group']).groups)\n",
      "Testing weights for abd_exp_01:  50%|█████     | 51/101 [00:19<00:19,  2.60it/s]<ipython-input-6-d61cf6b7d348>:36: FutureWarning: The default of observed=False is deprecated and will be changed to True in a future version of pandas. Pass observed=False to retain current behavior or observed=True to adopt the future default and silence this warning.\n",
      "  merged_df_race_dict = dict(merged_df.groupby(['race_group']).groups)\n",
      "Testing weights for abd_exp_01:  51%|█████▏    | 52/101 [00:20<00:18,  2.61it/s]<ipython-input-6-d61cf6b7d348>:36: FutureWarning: The default of observed=False is deprecated and will be changed to True in a future version of pandas. Pass observed=False to retain current behavior or observed=True to adopt the future default and silence this warning.\n",
      "  merged_df_race_dict = dict(merged_df.groupby(['race_group']).groups)\n",
      "Testing weights for abd_exp_01:  52%|█████▏    | 53/101 [00:20<00:18,  2.61it/s]<ipython-input-6-d61cf6b7d348>:36: FutureWarning: The default of observed=False is deprecated and will be changed to True in a future version of pandas. Pass observed=False to retain current behavior or observed=True to adopt the future default and silence this warning.\n",
      "  merged_df_race_dict = dict(merged_df.groupby(['race_group']).groups)\n",
      "Testing weights for abd_exp_01:  53%|█████▎    | 54/101 [00:20<00:18,  2.61it/s]<ipython-input-6-d61cf6b7d348>:36: FutureWarning: The default of observed=False is deprecated and will be changed to True in a future version of pandas. Pass observed=False to retain current behavior or observed=True to adopt the future default and silence this warning.\n",
      "  merged_df_race_dict = dict(merged_df.groupby(['race_group']).groups)\n",
      "Testing weights for abd_exp_01:  54%|█████▍    | 55/101 [00:21<00:17,  2.61it/s]<ipython-input-6-d61cf6b7d348>:36: FutureWarning: The default of observed=False is deprecated and will be changed to True in a future version of pandas. Pass observed=False to retain current behavior or observed=True to adopt the future default and silence this warning.\n",
      "  merged_df_race_dict = dict(merged_df.groupby(['race_group']).groups)\n",
      "Testing weights for abd_exp_01:  55%|█████▌    | 56/101 [00:21<00:17,  2.60it/s]<ipython-input-6-d61cf6b7d348>:36: FutureWarning: The default of observed=False is deprecated and will be changed to True in a future version of pandas. Pass observed=False to retain current behavior or observed=True to adopt the future default and silence this warning.\n",
      "  merged_df_race_dict = dict(merged_df.groupby(['race_group']).groups)\n",
      "Testing weights for abd_exp_01:  56%|█████▋    | 57/101 [00:21<00:16,  2.61it/s]<ipython-input-6-d61cf6b7d348>:36: FutureWarning: The default of observed=False is deprecated and will be changed to True in a future version of pandas. Pass observed=False to retain current behavior or observed=True to adopt the future default and silence this warning.\n",
      "  merged_df_race_dict = dict(merged_df.groupby(['race_group']).groups)\n",
      "Testing weights for abd_exp_01:  57%|█████▋    | 58/101 [00:22<00:16,  2.60it/s]<ipython-input-6-d61cf6b7d348>:36: FutureWarning: The default of observed=False is deprecated and will be changed to True in a future version of pandas. Pass observed=False to retain current behavior or observed=True to adopt the future default and silence this warning.\n",
      "  merged_df_race_dict = dict(merged_df.groupby(['race_group']).groups)\n",
      "Testing weights for abd_exp_01:  58%|█████▊    | 59/101 [00:22<00:16,  2.60it/s]<ipython-input-6-d61cf6b7d348>:36: FutureWarning: The default of observed=False is deprecated and will be changed to True in a future version of pandas. Pass observed=False to retain current behavior or observed=True to adopt the future default and silence this warning.\n",
      "  merged_df_race_dict = dict(merged_df.groupby(['race_group']).groups)\n",
      "Testing weights for abd_exp_01:  59%|█████▉    | 60/101 [00:23<00:15,  2.61it/s]<ipython-input-6-d61cf6b7d348>:36: FutureWarning: The default of observed=False is deprecated and will be changed to True in a future version of pandas. Pass observed=False to retain current behavior or observed=True to adopt the future default and silence this warning.\n",
      "  merged_df_race_dict = dict(merged_df.groupby(['race_group']).groups)\n",
      "Testing weights for abd_exp_01:  60%|██████    | 61/101 [00:23<00:15,  2.61it/s]<ipython-input-6-d61cf6b7d348>:36: FutureWarning: The default of observed=False is deprecated and will be changed to True in a future version of pandas. Pass observed=False to retain current behavior or observed=True to adopt the future default and silence this warning.\n",
      "  merged_df_race_dict = dict(merged_df.groupby(['race_group']).groups)\n",
      "Testing weights for abd_exp_01:  61%|██████▏   | 62/101 [00:23<00:14,  2.61it/s]<ipython-input-6-d61cf6b7d348>:36: FutureWarning: The default of observed=False is deprecated and will be changed to True in a future version of pandas. Pass observed=False to retain current behavior or observed=True to adopt the future default and silence this warning.\n",
      "  merged_df_race_dict = dict(merged_df.groupby(['race_group']).groups)\n",
      "Testing weights for abd_exp_01:  62%|██████▏   | 63/101 [00:24<00:14,  2.62it/s]<ipython-input-6-d61cf6b7d348>:36: FutureWarning: The default of observed=False is deprecated and will be changed to True in a future version of pandas. Pass observed=False to retain current behavior or observed=True to adopt the future default and silence this warning.\n",
      "  merged_df_race_dict = dict(merged_df.groupby(['race_group']).groups)\n",
      "Testing weights for abd_exp_01:  63%|██████▎   | 64/101 [00:24<00:14,  2.62it/s]<ipython-input-6-d61cf6b7d348>:36: FutureWarning: The default of observed=False is deprecated and will be changed to True in a future version of pandas. Pass observed=False to retain current behavior or observed=True to adopt the future default and silence this warning.\n",
      "  merged_df_race_dict = dict(merged_df.groupby(['race_group']).groups)\n",
      "Testing weights for abd_exp_01:  64%|██████▍   | 65/101 [00:25<00:13,  2.62it/s]<ipython-input-6-d61cf6b7d348>:36: FutureWarning: The default of observed=False is deprecated and will be changed to True in a future version of pandas. Pass observed=False to retain current behavior or observed=True to adopt the future default and silence this warning.\n",
      "  merged_df_race_dict = dict(merged_df.groupby(['race_group']).groups)\n",
      "Testing weights for abd_exp_01:  65%|██████▌   | 66/101 [00:25<00:13,  2.61it/s]<ipython-input-6-d61cf6b7d348>:36: FutureWarning: The default of observed=False is deprecated and will be changed to True in a future version of pandas. Pass observed=False to retain current behavior or observed=True to adopt the future default and silence this warning.\n",
      "  merged_df_race_dict = dict(merged_df.groupby(['race_group']).groups)\n",
      "Testing weights for abd_exp_01:  66%|██████▋   | 67/101 [00:25<00:13,  2.61it/s]<ipython-input-6-d61cf6b7d348>:36: FutureWarning: The default of observed=False is deprecated and will be changed to True in a future version of pandas. Pass observed=False to retain current behavior or observed=True to adopt the future default and silence this warning.\n",
      "  merged_df_race_dict = dict(merged_df.groupby(['race_group']).groups)\n",
      "Testing weights for abd_exp_01:  67%|██████▋   | 68/101 [00:26<00:12,  2.61it/s]<ipython-input-6-d61cf6b7d348>:36: FutureWarning: The default of observed=False is deprecated and will be changed to True in a future version of pandas. Pass observed=False to retain current behavior or observed=True to adopt the future default and silence this warning.\n",
      "  merged_df_race_dict = dict(merged_df.groupby(['race_group']).groups)\n",
      "Testing weights for abd_exp_01:  68%|██████▊   | 69/101 [00:26<00:12,  2.56it/s]<ipython-input-6-d61cf6b7d348>:36: FutureWarning: The default of observed=False is deprecated and will be changed to True in a future version of pandas. Pass observed=False to retain current behavior or observed=True to adopt the future default and silence this warning.\n",
      "  merged_df_race_dict = dict(merged_df.groupby(['race_group']).groups)\n",
      "Testing weights for abd_exp_01:  69%|██████▉   | 70/101 [00:26<00:12,  2.58it/s]<ipython-input-6-d61cf6b7d348>:36: FutureWarning: The default of observed=False is deprecated and will be changed to True in a future version of pandas. Pass observed=False to retain current behavior or observed=True to adopt the future default and silence this warning.\n",
      "  merged_df_race_dict = dict(merged_df.groupby(['race_group']).groups)\n",
      "Testing weights for abd_exp_01:  70%|███████   | 71/101 [00:27<00:11,  2.59it/s]<ipython-input-6-d61cf6b7d348>:36: FutureWarning: The default of observed=False is deprecated and will be changed to True in a future version of pandas. Pass observed=False to retain current behavior or observed=True to adopt the future default and silence this warning.\n",
      "  merged_df_race_dict = dict(merged_df.groupby(['race_group']).groups)\n",
      "Testing weights for abd_exp_01:  71%|███████▏  | 72/101 [00:27<00:11,  2.60it/s]<ipython-input-6-d61cf6b7d348>:36: FutureWarning: The default of observed=False is deprecated and will be changed to True in a future version of pandas. Pass observed=False to retain current behavior or observed=True to adopt the future default and silence this warning.\n",
      "  merged_df_race_dict = dict(merged_df.groupby(['race_group']).groups)\n",
      "Testing weights for abd_exp_01:  72%|███████▏  | 73/101 [00:28<00:10,  2.60it/s]<ipython-input-6-d61cf6b7d348>:36: FutureWarning: The default of observed=False is deprecated and will be changed to True in a future version of pandas. Pass observed=False to retain current behavior or observed=True to adopt the future default and silence this warning.\n",
      "  merged_df_race_dict = dict(merged_df.groupby(['race_group']).groups)\n",
      "Testing weights for abd_exp_01:  73%|███████▎  | 74/101 [00:28<00:10,  2.60it/s]<ipython-input-6-d61cf6b7d348>:36: FutureWarning: The default of observed=False is deprecated and will be changed to True in a future version of pandas. Pass observed=False to retain current behavior or observed=True to adopt the future default and silence this warning.\n",
      "  merged_df_race_dict = dict(merged_df.groupby(['race_group']).groups)\n",
      "Testing weights for abd_exp_01:  74%|███████▍  | 75/101 [00:28<00:09,  2.61it/s]<ipython-input-6-d61cf6b7d348>:36: FutureWarning: The default of observed=False is deprecated and will be changed to True in a future version of pandas. Pass observed=False to retain current behavior or observed=True to adopt the future default and silence this warning.\n",
      "  merged_df_race_dict = dict(merged_df.groupby(['race_group']).groups)\n",
      "Testing weights for abd_exp_01:  75%|███████▌  | 76/101 [00:29<00:09,  2.62it/s]<ipython-input-6-d61cf6b7d348>:36: FutureWarning: The default of observed=False is deprecated and will be changed to True in a future version of pandas. Pass observed=False to retain current behavior or observed=True to adopt the future default and silence this warning.\n",
      "  merged_df_race_dict = dict(merged_df.groupby(['race_group']).groups)\n",
      "Testing weights for abd_exp_01:  76%|███████▌  | 77/101 [00:29<00:09,  2.62it/s]<ipython-input-6-d61cf6b7d348>:36: FutureWarning: The default of observed=False is deprecated and will be changed to True in a future version of pandas. Pass observed=False to retain current behavior or observed=True to adopt the future default and silence this warning.\n",
      "  merged_df_race_dict = dict(merged_df.groupby(['race_group']).groups)\n",
      "Testing weights for abd_exp_01:  77%|███████▋  | 78/101 [00:29<00:08,  2.62it/s]<ipython-input-6-d61cf6b7d348>:36: FutureWarning: The default of observed=False is deprecated and will be changed to True in a future version of pandas. Pass observed=False to retain current behavior or observed=True to adopt the future default and silence this warning.\n",
      "  merged_df_race_dict = dict(merged_df.groupby(['race_group']).groups)\n",
      "Testing weights for abd_exp_01:  78%|███████▊  | 79/101 [00:30<00:08,  2.62it/s]<ipython-input-6-d61cf6b7d348>:36: FutureWarning: The default of observed=False is deprecated and will be changed to True in a future version of pandas. Pass observed=False to retain current behavior or observed=True to adopt the future default and silence this warning.\n",
      "  merged_df_race_dict = dict(merged_df.groupby(['race_group']).groups)\n",
      "Testing weights for abd_exp_01:  79%|███████▉  | 80/101 [00:30<00:08,  2.62it/s]<ipython-input-6-d61cf6b7d348>:36: FutureWarning: The default of observed=False is deprecated and will be changed to True in a future version of pandas. Pass observed=False to retain current behavior or observed=True to adopt the future default and silence this warning.\n",
      "  merged_df_race_dict = dict(merged_df.groupby(['race_group']).groups)\n",
      "Testing weights for abd_exp_01:  80%|████████  | 81/101 [00:31<00:07,  2.62it/s]<ipython-input-6-d61cf6b7d348>:36: FutureWarning: The default of observed=False is deprecated and will be changed to True in a future version of pandas. Pass observed=False to retain current behavior or observed=True to adopt the future default and silence this warning.\n",
      "  merged_df_race_dict = dict(merged_df.groupby(['race_group']).groups)\n",
      "Testing weights for abd_exp_01:  81%|████████  | 82/101 [00:31<00:07,  2.62it/s]<ipython-input-6-d61cf6b7d348>:36: FutureWarning: The default of observed=False is deprecated and will be changed to True in a future version of pandas. Pass observed=False to retain current behavior or observed=True to adopt the future default and silence this warning.\n",
      "  merged_df_race_dict = dict(merged_df.groupby(['race_group']).groups)\n",
      "Testing weights for abd_exp_01:  82%|████████▏ | 83/101 [00:31<00:06,  2.61it/s]<ipython-input-6-d61cf6b7d348>:36: FutureWarning: The default of observed=False is deprecated and will be changed to True in a future version of pandas. Pass observed=False to retain current behavior or observed=True to adopt the future default and silence this warning.\n",
      "  merged_df_race_dict = dict(merged_df.groupby(['race_group']).groups)\n",
      "Testing weights for abd_exp_01:  83%|████████▎ | 84/101 [00:32<00:06,  2.62it/s]<ipython-input-6-d61cf6b7d348>:36: FutureWarning: The default of observed=False is deprecated and will be changed to True in a future version of pandas. Pass observed=False to retain current behavior or observed=True to adopt the future default and silence this warning.\n",
      "  merged_df_race_dict = dict(merged_df.groupby(['race_group']).groups)\n",
      "Testing weights for abd_exp_01:  84%|████████▍ | 85/101 [00:32<00:06,  2.63it/s]<ipython-input-6-d61cf6b7d348>:36: FutureWarning: The default of observed=False is deprecated and will be changed to True in a future version of pandas. Pass observed=False to retain current behavior or observed=True to adopt the future default and silence this warning.\n",
      "  merged_df_race_dict = dict(merged_df.groupby(['race_group']).groups)\n",
      "Testing weights for abd_exp_01:  85%|████████▌ | 86/101 [00:33<00:05,  2.63it/s]<ipython-input-6-d61cf6b7d348>:36: FutureWarning: The default of observed=False is deprecated and will be changed to True in a future version of pandas. Pass observed=False to retain current behavior or observed=True to adopt the future default and silence this warning.\n",
      "  merged_df_race_dict = dict(merged_df.groupby(['race_group']).groups)\n",
      "Testing weights for abd_exp_01:  86%|████████▌ | 87/101 [00:33<00:05,  2.62it/s]<ipython-input-6-d61cf6b7d348>:36: FutureWarning: The default of observed=False is deprecated and will be changed to True in a future version of pandas. Pass observed=False to retain current behavior or observed=True to adopt the future default and silence this warning.\n",
      "  merged_df_race_dict = dict(merged_df.groupby(['race_group']).groups)\n",
      "Testing weights for abd_exp_01:  87%|████████▋ | 88/101 [00:33<00:04,  2.63it/s]<ipython-input-6-d61cf6b7d348>:36: FutureWarning: The default of observed=False is deprecated and will be changed to True in a future version of pandas. Pass observed=False to retain current behavior or observed=True to adopt the future default and silence this warning.\n",
      "  merged_df_race_dict = dict(merged_df.groupby(['race_group']).groups)\n",
      "Testing weights for abd_exp_01:  88%|████████▊ | 89/101 [00:34<00:04,  2.62it/s]<ipython-input-6-d61cf6b7d348>:36: FutureWarning: The default of observed=False is deprecated and will be changed to True in a future version of pandas. Pass observed=False to retain current behavior or observed=True to adopt the future default and silence this warning.\n",
      "  merged_df_race_dict = dict(merged_df.groupby(['race_group']).groups)\n",
      "Testing weights for abd_exp_01:  89%|████████▉ | 90/101 [00:34<00:04,  2.62it/s]<ipython-input-6-d61cf6b7d348>:36: FutureWarning: The default of observed=False is deprecated and will be changed to True in a future version of pandas. Pass observed=False to retain current behavior or observed=True to adopt the future default and silence this warning.\n",
      "  merged_df_race_dict = dict(merged_df.groupby(['race_group']).groups)\n",
      "Testing weights for abd_exp_01:  90%|█████████ | 91/101 [00:34<00:03,  2.62it/s]<ipython-input-6-d61cf6b7d348>:36: FutureWarning: The default of observed=False is deprecated and will be changed to True in a future version of pandas. Pass observed=False to retain current behavior or observed=True to adopt the future default and silence this warning.\n",
      "  merged_df_race_dict = dict(merged_df.groupby(['race_group']).groups)\n",
      "Testing weights for abd_exp_01:  91%|█████████ | 92/101 [00:35<00:03,  2.62it/s]<ipython-input-6-d61cf6b7d348>:36: FutureWarning: The default of observed=False is deprecated and will be changed to True in a future version of pandas. Pass observed=False to retain current behavior or observed=True to adopt the future default and silence this warning.\n",
      "  merged_df_race_dict = dict(merged_df.groupby(['race_group']).groups)\n",
      "Testing weights for abd_exp_01:  92%|█████████▏| 93/101 [00:35<00:03,  2.62it/s]<ipython-input-6-d61cf6b7d348>:36: FutureWarning: The default of observed=False is deprecated and will be changed to True in a future version of pandas. Pass observed=False to retain current behavior or observed=True to adopt the future default and silence this warning.\n",
      "  merged_df_race_dict = dict(merged_df.groupby(['race_group']).groups)\n",
      "Testing weights for abd_exp_01:  93%|█████████▎| 94/101 [00:36<00:02,  2.62it/s]<ipython-input-6-d61cf6b7d348>:36: FutureWarning: The default of observed=False is deprecated and will be changed to True in a future version of pandas. Pass observed=False to retain current behavior or observed=True to adopt the future default and silence this warning.\n",
      "  merged_df_race_dict = dict(merged_df.groupby(['race_group']).groups)\n",
      "Testing weights for abd_exp_01:  94%|█████████▍| 95/101 [00:36<00:02,  2.57it/s]<ipython-input-6-d61cf6b7d348>:36: FutureWarning: The default of observed=False is deprecated and will be changed to True in a future version of pandas. Pass observed=False to retain current behavior or observed=True to adopt the future default and silence this warning.\n",
      "  merged_df_race_dict = dict(merged_df.groupby(['race_group']).groups)\n",
      "Testing weights for abd_exp_01:  95%|█████████▌| 96/101 [00:36<00:01,  2.58it/s]<ipython-input-6-d61cf6b7d348>:36: FutureWarning: The default of observed=False is deprecated and will be changed to True in a future version of pandas. Pass observed=False to retain current behavior or observed=True to adopt the future default and silence this warning.\n",
      "  merged_df_race_dict = dict(merged_df.groupby(['race_group']).groups)\n",
      "Testing weights for abd_exp_01:  96%|█████████▌| 97/101 [00:37<00:01,  2.59it/s]<ipython-input-6-d61cf6b7d348>:36: FutureWarning: The default of observed=False is deprecated and will be changed to True in a future version of pandas. Pass observed=False to retain current behavior or observed=True to adopt the future default and silence this warning.\n",
      "  merged_df_race_dict = dict(merged_df.groupby(['race_group']).groups)\n",
      "Testing weights for abd_exp_01:  97%|█████████▋| 98/101 [00:37<00:01,  2.60it/s]<ipython-input-6-d61cf6b7d348>:36: FutureWarning: The default of observed=False is deprecated and will be changed to True in a future version of pandas. Pass observed=False to retain current behavior or observed=True to adopt the future default and silence this warning.\n",
      "  merged_df_race_dict = dict(merged_df.groupby(['race_group']).groups)\n",
      "Testing weights for abd_exp_01:  98%|█████████▊| 99/101 [00:38<00:00,  2.61it/s]<ipython-input-6-d61cf6b7d348>:36: FutureWarning: The default of observed=False is deprecated and will be changed to True in a future version of pandas. Pass observed=False to retain current behavior or observed=True to adopt the future default and silence this warning.\n",
      "  merged_df_race_dict = dict(merged_df.groupby(['race_group']).groups)\n",
      "Testing weights for abd_exp_01:  99%|█████████▉| 100/101 [00:38<00:00,  2.61it/s]<ipython-input-6-d61cf6b7d348>:36: FutureWarning: The default of observed=False is deprecated and will be changed to True in a future version of pandas. Pass observed=False to retain current behavior or observed=True to adopt the future default and silence this warning.\n",
      "  merged_df_race_dict = dict(merged_df.groupby(['race_group']).groups)\n",
      "Testing weights for abd_exp_01: 100%|██████████| 101/101 [00:38<00:00,  2.60it/s]\n"
     ]
    },
    {
     "name": "stdout",
     "output_type": "stream",
     "text": [
      "here -> /kaggle/input/catboost-exp-04\n"
     ]
    },
    {
     "name": "stderr",
     "output_type": "stream",
     "text": [
      "Testing weights for catboost_exp_04: 100%|██████████| 101/101 [00:38<00:00,  2.63it/s]\n"
     ]
    },
    {
     "name": "stdout",
     "output_type": "stream",
     "text": [
      "here -> /kaggle/input/lgbm-exp-04\n"
     ]
    },
    {
     "name": "stderr",
     "output_type": "stream",
     "text": [
      "Testing weights for lgbm_exp_04: 100%|██████████| 101/101 [00:38<00:00,  2.63it/s]\n"
     ]
    },
    {
     "name": "stdout",
     "output_type": "stream",
     "text": [
      "here -> /kaggle/input/tabm-exp-02\n"
     ]
    },
    {
     "name": "stderr",
     "output_type": "stream",
     "text": [
      "Testing weights for tabm_exp_02: 100%|██████████| 101/101 [00:38<00:00,  2.63it/s]\n"
     ]
    },
    {
     "name": "stdout",
     "output_type": "stream",
     "text": [
      "here -> /kaggle/input/ds-exp-01\n"
     ]
    },
    {
     "name": "stderr",
     "output_type": "stream",
     "text": [
      "Testing weights for ds_exp_01: 100%|██████████| 101/101 [00:38<00:00,  2.63it/s]\n"
     ]
    },
    {
     "name": "stdout",
     "output_type": "stream",
     "text": [
      "here -> /kaggle/input/nn-exp-02\n"
     ]
    },
    {
     "name": "stderr",
     "output_type": "stream",
     "text": [
      "Testing weights for nn_exp_02: 100%|██████████| 101/101 [00:38<00:00,  2.61it/s]\n"
     ]
    },
    {
     "name": "stdout",
     "output_type": "stream",
     "text": [
      "Iteration 2: Added /kaggle/input/catboost-exp-02 with weight 0.2300, Score: 0.6847\n",
      "2th iteration\n",
      "here -> /kaggle/input/xgboost-exp-01\n"
     ]
    },
    {
     "name": "stderr",
     "output_type": "stream",
     "text": [
      "Testing weights for xgboost_exp_01: 100%|██████████| 101/101 [00:38<00:00,  2.62it/s]\n"
     ]
    },
    {
     "name": "stdout",
     "output_type": "stream",
     "text": [
      "here -> /kaggle/input/lgbm-exp-01\n"
     ]
    },
    {
     "name": "stderr",
     "output_type": "stream",
     "text": [
      "Testing weights for lgbm_exp_01: 100%|██████████| 101/101 [00:38<00:00,  2.63it/s]\n"
     ]
    },
    {
     "name": "stdout",
     "output_type": "stream",
     "text": [
      "here -> /kaggle/input/xgboost-exp-02\n"
     ]
    },
    {
     "name": "stderr",
     "output_type": "stream",
     "text": [
      "Testing weights for xgboost_exp_02: 100%|██████████| 101/101 [00:38<00:00,  2.62it/s]\n"
     ]
    },
    {
     "name": "stdout",
     "output_type": "stream",
     "text": [
      "here -> /kaggle/input/lgbm-exp-03\n"
     ]
    },
    {
     "name": "stderr",
     "output_type": "stream",
     "text": [
      "Testing weights for lgbm_exp_03: 100%|██████████| 101/101 [00:38<00:00,  2.62it/s]\n"
     ]
    },
    {
     "name": "stdout",
     "output_type": "stream",
     "text": [
      "here -> /kaggle/input/catboost-exp-03\n"
     ]
    },
    {
     "name": "stderr",
     "output_type": "stream",
     "text": [
      "Testing weights for catboost_exp_03: 100%|██████████| 101/101 [00:38<00:00,  2.61it/s]\n"
     ]
    },
    {
     "name": "stdout",
     "output_type": "stream",
     "text": [
      "here -> /kaggle/input/tabm-exp-01\n"
     ]
    },
    {
     "name": "stderr",
     "output_type": "stream",
     "text": [
      "Testing weights for tabm_exp_01: 100%|██████████| 101/101 [00:38<00:00,  2.59it/s]\n"
     ]
    },
    {
     "name": "stdout",
     "output_type": "stream",
     "text": [
      "here -> /kaggle/input/nn-exp-01\n"
     ]
    },
    {
     "name": "stderr",
     "output_type": "stream",
     "text": [
      "Testing weights for nn_exp_01: 100%|██████████| 101/101 [00:38<00:00,  2.60it/s]\n"
     ]
    },
    {
     "name": "stdout",
     "output_type": "stream",
     "text": [
      "here -> /kaggle/input/tn-exp-01\n"
     ]
    },
    {
     "name": "stderr",
     "output_type": "stream",
     "text": [
      "Testing weights for tn_exp_01: 100%|██████████| 101/101 [00:38<00:00,  2.62it/s]\n"
     ]
    },
    {
     "name": "stdout",
     "output_type": "stream",
     "text": [
      "here -> /kaggle/input/tf-exp-01\n"
     ]
    },
    {
     "name": "stderr",
     "output_type": "stream",
     "text": [
      "Testing weights for tf_exp_01: 100%|██████████| 101/101 [00:38<00:00,  2.62it/s]\n"
     ]
    },
    {
     "name": "stdout",
     "output_type": "stream",
     "text": [
      "here -> /kaggle/input/svr-exp-01\n"
     ]
    },
    {
     "name": "stderr",
     "output_type": "stream",
     "text": [
      "Testing weights for svr_exp_01: 100%|██████████| 101/101 [00:38<00:00,  2.62it/s]\n"
     ]
    },
    {
     "name": "stdout",
     "output_type": "stream",
     "text": [
      "here -> /kaggle/input/abd-exp-01\n"
     ]
    },
    {
     "name": "stderr",
     "output_type": "stream",
     "text": [
      "Testing weights for abd_exp_01:   0%|          | 0/101 [00:00<?, ?it/s]<ipython-input-6-d61cf6b7d348>:36: FutureWarning: The default of observed=False is deprecated and will be changed to True in a future version of pandas. Pass observed=False to retain current behavior or observed=True to adopt the future default and silence this warning.\n",
      "  merged_df_race_dict = dict(merged_df.groupby(['race_group']).groups)\n",
      "Testing weights for abd_exp_01:   1%|          | 1/101 [00:00<00:38,  2.62it/s]<ipython-input-6-d61cf6b7d348>:36: FutureWarning: The default of observed=False is deprecated and will be changed to True in a future version of pandas. Pass observed=False to retain current behavior or observed=True to adopt the future default and silence this warning.\n",
      "  merged_df_race_dict = dict(merged_df.groupby(['race_group']).groups)\n",
      "Testing weights for abd_exp_01:   2%|▏         | 2/101 [00:00<00:38,  2.60it/s]<ipython-input-6-d61cf6b7d348>:36: FutureWarning: The default of observed=False is deprecated and will be changed to True in a future version of pandas. Pass observed=False to retain current behavior or observed=True to adopt the future default and silence this warning.\n",
      "  merged_df_race_dict = dict(merged_df.groupby(['race_group']).groups)\n",
      "Testing weights for abd_exp_01:   3%|▎         | 3/101 [00:01<00:37,  2.60it/s]<ipython-input-6-d61cf6b7d348>:36: FutureWarning: The default of observed=False is deprecated and will be changed to True in a future version of pandas. Pass observed=False to retain current behavior or observed=True to adopt the future default and silence this warning.\n",
      "  merged_df_race_dict = dict(merged_df.groupby(['race_group']).groups)\n",
      "Testing weights for abd_exp_01:   4%|▍         | 4/101 [00:01<00:37,  2.61it/s]<ipython-input-6-d61cf6b7d348>:36: FutureWarning: The default of observed=False is deprecated and will be changed to True in a future version of pandas. Pass observed=False to retain current behavior or observed=True to adopt the future default and silence this warning.\n",
      "  merged_df_race_dict = dict(merged_df.groupby(['race_group']).groups)\n",
      "Testing weights for abd_exp_01:   5%|▍         | 5/101 [00:01<00:36,  2.61it/s]<ipython-input-6-d61cf6b7d348>:36: FutureWarning: The default of observed=False is deprecated and will be changed to True in a future version of pandas. Pass observed=False to retain current behavior or observed=True to adopt the future default and silence this warning.\n",
      "  merged_df_race_dict = dict(merged_df.groupby(['race_group']).groups)\n",
      "Testing weights for abd_exp_01:   6%|▌         | 6/101 [00:02<00:36,  2.61it/s]<ipython-input-6-d61cf6b7d348>:36: FutureWarning: The default of observed=False is deprecated and will be changed to True in a future version of pandas. Pass observed=False to retain current behavior or observed=True to adopt the future default and silence this warning.\n",
      "  merged_df_race_dict = dict(merged_df.groupby(['race_group']).groups)\n",
      "Testing weights for abd_exp_01:   7%|▋         | 7/101 [00:02<00:35,  2.61it/s]<ipython-input-6-d61cf6b7d348>:36: FutureWarning: The default of observed=False is deprecated and will be changed to True in a future version of pandas. Pass observed=False to retain current behavior or observed=True to adopt the future default and silence this warning.\n",
      "  merged_df_race_dict = dict(merged_df.groupby(['race_group']).groups)\n",
      "Testing weights for abd_exp_01:   8%|▊         | 8/101 [00:03<00:35,  2.61it/s]<ipython-input-6-d61cf6b7d348>:36: FutureWarning: The default of observed=False is deprecated and will be changed to True in a future version of pandas. Pass observed=False to retain current behavior or observed=True to adopt the future default and silence this warning.\n",
      "  merged_df_race_dict = dict(merged_df.groupby(['race_group']).groups)\n",
      "Testing weights for abd_exp_01:   9%|▉         | 9/101 [00:03<00:35,  2.61it/s]<ipython-input-6-d61cf6b7d348>:36: FutureWarning: The default of observed=False is deprecated and will be changed to True in a future version of pandas. Pass observed=False to retain current behavior or observed=True to adopt the future default and silence this warning.\n",
      "  merged_df_race_dict = dict(merged_df.groupby(['race_group']).groups)\n",
      "Testing weights for abd_exp_01:  10%|▉         | 10/101 [00:03<00:35,  2.55it/s]<ipython-input-6-d61cf6b7d348>:36: FutureWarning: The default of observed=False is deprecated and will be changed to True in a future version of pandas. Pass observed=False to retain current behavior or observed=True to adopt the future default and silence this warning.\n",
      "  merged_df_race_dict = dict(merged_df.groupby(['race_group']).groups)\n",
      "Testing weights for abd_exp_01:  11%|█         | 11/101 [00:04<00:35,  2.56it/s]<ipython-input-6-d61cf6b7d348>:36: FutureWarning: The default of observed=False is deprecated and will be changed to True in a future version of pandas. Pass observed=False to retain current behavior or observed=True to adopt the future default and silence this warning.\n",
      "  merged_df_race_dict = dict(merged_df.groupby(['race_group']).groups)\n",
      "Testing weights for abd_exp_01:  12%|█▏        | 12/101 [00:04<00:34,  2.58it/s]<ipython-input-6-d61cf6b7d348>:36: FutureWarning: The default of observed=False is deprecated and will be changed to True in a future version of pandas. Pass observed=False to retain current behavior or observed=True to adopt the future default and silence this warning.\n",
      "  merged_df_race_dict = dict(merged_df.groupby(['race_group']).groups)\n",
      "Testing weights for abd_exp_01:  13%|█▎        | 13/101 [00:05<00:34,  2.58it/s]<ipython-input-6-d61cf6b7d348>:36: FutureWarning: The default of observed=False is deprecated and will be changed to True in a future version of pandas. Pass observed=False to retain current behavior or observed=True to adopt the future default and silence this warning.\n",
      "  merged_df_race_dict = dict(merged_df.groupby(['race_group']).groups)\n",
      "Testing weights for abd_exp_01:  14%|█▍        | 14/101 [00:05<00:33,  2.58it/s]<ipython-input-6-d61cf6b7d348>:36: FutureWarning: The default of observed=False is deprecated and will be changed to True in a future version of pandas. Pass observed=False to retain current behavior or observed=True to adopt the future default and silence this warning.\n",
      "  merged_df_race_dict = dict(merged_df.groupby(['race_group']).groups)\n",
      "Testing weights for abd_exp_01:  15%|█▍        | 15/101 [00:05<00:33,  2.58it/s]<ipython-input-6-d61cf6b7d348>:36: FutureWarning: The default of observed=False is deprecated and will be changed to True in a future version of pandas. Pass observed=False to retain current behavior or observed=True to adopt the future default and silence this warning.\n",
      "  merged_df_race_dict = dict(merged_df.groupby(['race_group']).groups)\n",
      "Testing weights for abd_exp_01:  16%|█▌        | 16/101 [00:06<00:32,  2.59it/s]<ipython-input-6-d61cf6b7d348>:36: FutureWarning: The default of observed=False is deprecated and will be changed to True in a future version of pandas. Pass observed=False to retain current behavior or observed=True to adopt the future default and silence this warning.\n",
      "  merged_df_race_dict = dict(merged_df.groupby(['race_group']).groups)\n",
      "Testing weights for abd_exp_01:  17%|█▋        | 17/101 [00:06<00:32,  2.60it/s]<ipython-input-6-d61cf6b7d348>:36: FutureWarning: The default of observed=False is deprecated and will be changed to True in a future version of pandas. Pass observed=False to retain current behavior or observed=True to adopt the future default and silence this warning.\n",
      "  merged_df_race_dict = dict(merged_df.groupby(['race_group']).groups)\n",
      "Testing weights for abd_exp_01:  18%|█▊        | 18/101 [00:06<00:31,  2.61it/s]<ipython-input-6-d61cf6b7d348>:36: FutureWarning: The default of observed=False is deprecated and will be changed to True in a future version of pandas. Pass observed=False to retain current behavior or observed=True to adopt the future default and silence this warning.\n",
      "  merged_df_race_dict = dict(merged_df.groupby(['race_group']).groups)\n",
      "Testing weights for abd_exp_01:  19%|█▉        | 19/101 [00:07<00:31,  2.61it/s]<ipython-input-6-d61cf6b7d348>:36: FutureWarning: The default of observed=False is deprecated and will be changed to True in a future version of pandas. Pass observed=False to retain current behavior or observed=True to adopt the future default and silence this warning.\n",
      "  merged_df_race_dict = dict(merged_df.groupby(['race_group']).groups)\n",
      "Testing weights for abd_exp_01:  20%|█▉        | 20/101 [00:07<00:31,  2.61it/s]<ipython-input-6-d61cf6b7d348>:36: FutureWarning: The default of observed=False is deprecated and will be changed to True in a future version of pandas. Pass observed=False to retain current behavior or observed=True to adopt the future default and silence this warning.\n",
      "  merged_df_race_dict = dict(merged_df.groupby(['race_group']).groups)\n",
      "Testing weights for abd_exp_01:  21%|██        | 21/101 [00:08<00:30,  2.61it/s]<ipython-input-6-d61cf6b7d348>:36: FutureWarning: The default of observed=False is deprecated and will be changed to True in a future version of pandas. Pass observed=False to retain current behavior or observed=True to adopt the future default and silence this warning.\n",
      "  merged_df_race_dict = dict(merged_df.groupby(['race_group']).groups)\n",
      "Testing weights for abd_exp_01:  22%|██▏       | 22/101 [00:08<00:30,  2.62it/s]<ipython-input-6-d61cf6b7d348>:36: FutureWarning: The default of observed=False is deprecated and will be changed to True in a future version of pandas. Pass observed=False to retain current behavior or observed=True to adopt the future default and silence this warning.\n",
      "  merged_df_race_dict = dict(merged_df.groupby(['race_group']).groups)\n",
      "Testing weights for abd_exp_01:  23%|██▎       | 23/101 [00:08<00:29,  2.62it/s]<ipython-input-6-d61cf6b7d348>:36: FutureWarning: The default of observed=False is deprecated and will be changed to True in a future version of pandas. Pass observed=False to retain current behavior or observed=True to adopt the future default and silence this warning.\n",
      "  merged_df_race_dict = dict(merged_df.groupby(['race_group']).groups)\n",
      "Testing weights for abd_exp_01:  24%|██▍       | 24/101 [00:09<00:29,  2.62it/s]<ipython-input-6-d61cf6b7d348>:36: FutureWarning: The default of observed=False is deprecated and will be changed to True in a future version of pandas. Pass observed=False to retain current behavior or observed=True to adopt the future default and silence this warning.\n",
      "  merged_df_race_dict = dict(merged_df.groupby(['race_group']).groups)\n",
      "Testing weights for abd_exp_01:  25%|██▍       | 25/101 [00:09<00:29,  2.61it/s]<ipython-input-6-d61cf6b7d348>:36: FutureWarning: The default of observed=False is deprecated and will be changed to True in a future version of pandas. Pass observed=False to retain current behavior or observed=True to adopt the future default and silence this warning.\n",
      "  merged_df_race_dict = dict(merged_df.groupby(['race_group']).groups)\n",
      "Testing weights for abd_exp_01:  26%|██▌       | 26/101 [00:09<00:28,  2.61it/s]<ipython-input-6-d61cf6b7d348>:36: FutureWarning: The default of observed=False is deprecated and will be changed to True in a future version of pandas. Pass observed=False to retain current behavior or observed=True to adopt the future default and silence this warning.\n",
      "  merged_df_race_dict = dict(merged_df.groupby(['race_group']).groups)\n",
      "Testing weights for abd_exp_01:  27%|██▋       | 27/101 [00:10<00:28,  2.62it/s]<ipython-input-6-d61cf6b7d348>:36: FutureWarning: The default of observed=False is deprecated and will be changed to True in a future version of pandas. Pass observed=False to retain current behavior or observed=True to adopt the future default and silence this warning.\n",
      "  merged_df_race_dict = dict(merged_df.groupby(['race_group']).groups)\n",
      "Testing weights for abd_exp_01:  28%|██▊       | 28/101 [00:10<00:27,  2.61it/s]<ipython-input-6-d61cf6b7d348>:36: FutureWarning: The default of observed=False is deprecated and will be changed to True in a future version of pandas. Pass observed=False to retain current behavior or observed=True to adopt the future default and silence this warning.\n",
      "  merged_df_race_dict = dict(merged_df.groupby(['race_group']).groups)\n",
      "Testing weights for abd_exp_01:  29%|██▊       | 29/101 [00:11<00:27,  2.62it/s]<ipython-input-6-d61cf6b7d348>:36: FutureWarning: The default of observed=False is deprecated and will be changed to True in a future version of pandas. Pass observed=False to retain current behavior or observed=True to adopt the future default and silence this warning.\n",
      "  merged_df_race_dict = dict(merged_df.groupby(['race_group']).groups)\n",
      "Testing weights for abd_exp_01:  30%|██▉       | 30/101 [00:11<00:27,  2.62it/s]<ipython-input-6-d61cf6b7d348>:36: FutureWarning: The default of observed=False is deprecated and will be changed to True in a future version of pandas. Pass observed=False to retain current behavior or observed=True to adopt the future default and silence this warning.\n",
      "  merged_df_race_dict = dict(merged_df.groupby(['race_group']).groups)\n",
      "Testing weights for abd_exp_01:  31%|███       | 31/101 [00:11<00:26,  2.61it/s]<ipython-input-6-d61cf6b7d348>:36: FutureWarning: The default of observed=False is deprecated and will be changed to True in a future version of pandas. Pass observed=False to retain current behavior or observed=True to adopt the future default and silence this warning.\n",
      "  merged_df_race_dict = dict(merged_df.groupby(['race_group']).groups)\n",
      "Testing weights for abd_exp_01:  32%|███▏      | 32/101 [00:12<00:26,  2.62it/s]<ipython-input-6-d61cf6b7d348>:36: FutureWarning: The default of observed=False is deprecated and will be changed to True in a future version of pandas. Pass observed=False to retain current behavior or observed=True to adopt the future default and silence this warning.\n",
      "  merged_df_race_dict = dict(merged_df.groupby(['race_group']).groups)\n",
      "Testing weights for abd_exp_01:  33%|███▎      | 33/101 [00:12<00:26,  2.61it/s]<ipython-input-6-d61cf6b7d348>:36: FutureWarning: The default of observed=False is deprecated and will be changed to True in a future version of pandas. Pass observed=False to retain current behavior or observed=True to adopt the future default and silence this warning.\n",
      "  merged_df_race_dict = dict(merged_df.groupby(['race_group']).groups)\n",
      "Testing weights for abd_exp_01:  34%|███▎      | 34/101 [00:13<00:25,  2.61it/s]<ipython-input-6-d61cf6b7d348>:36: FutureWarning: The default of observed=False is deprecated and will be changed to True in a future version of pandas. Pass observed=False to retain current behavior or observed=True to adopt the future default and silence this warning.\n",
      "  merged_df_race_dict = dict(merged_df.groupby(['race_group']).groups)\n",
      "Testing weights for abd_exp_01:  35%|███▍      | 35/101 [00:13<00:25,  2.62it/s]<ipython-input-6-d61cf6b7d348>:36: FutureWarning: The default of observed=False is deprecated and will be changed to True in a future version of pandas. Pass observed=False to retain current behavior or observed=True to adopt the future default and silence this warning.\n",
      "  merged_df_race_dict = dict(merged_df.groupby(['race_group']).groups)\n",
      "Testing weights for abd_exp_01:  36%|███▌      | 36/101 [00:13<00:25,  2.55it/s]<ipython-input-6-d61cf6b7d348>:36: FutureWarning: The default of observed=False is deprecated and will be changed to True in a future version of pandas. Pass observed=False to retain current behavior or observed=True to adopt the future default and silence this warning.\n",
      "  merged_df_race_dict = dict(merged_df.groupby(['race_group']).groups)\n",
      "Testing weights for abd_exp_01:  37%|███▋      | 37/101 [00:14<00:24,  2.57it/s]<ipython-input-6-d61cf6b7d348>:36: FutureWarning: The default of observed=False is deprecated and will be changed to True in a future version of pandas. Pass observed=False to retain current behavior or observed=True to adopt the future default and silence this warning.\n",
      "  merged_df_race_dict = dict(merged_df.groupby(['race_group']).groups)\n",
      "Testing weights for abd_exp_01:  38%|███▊      | 38/101 [00:14<00:24,  2.58it/s]<ipython-input-6-d61cf6b7d348>:36: FutureWarning: The default of observed=False is deprecated and will be changed to True in a future version of pandas. Pass observed=False to retain current behavior or observed=True to adopt the future default and silence this warning.\n",
      "  merged_df_race_dict = dict(merged_df.groupby(['race_group']).groups)\n",
      "Testing weights for abd_exp_01:  39%|███▊      | 39/101 [00:15<00:23,  2.58it/s]<ipython-input-6-d61cf6b7d348>:36: FutureWarning: The default of observed=False is deprecated and will be changed to True in a future version of pandas. Pass observed=False to retain current behavior or observed=True to adopt the future default and silence this warning.\n",
      "  merged_df_race_dict = dict(merged_df.groupby(['race_group']).groups)\n",
      "Testing weights for abd_exp_01:  40%|███▉      | 40/101 [00:15<00:23,  2.59it/s]<ipython-input-6-d61cf6b7d348>:36: FutureWarning: The default of observed=False is deprecated and will be changed to True in a future version of pandas. Pass observed=False to retain current behavior or observed=True to adopt the future default and silence this warning.\n",
      "  merged_df_race_dict = dict(merged_df.groupby(['race_group']).groups)\n",
      "Testing weights for abd_exp_01:  41%|████      | 41/101 [00:15<00:23,  2.59it/s]<ipython-input-6-d61cf6b7d348>:36: FutureWarning: The default of observed=False is deprecated and will be changed to True in a future version of pandas. Pass observed=False to retain current behavior or observed=True to adopt the future default and silence this warning.\n",
      "  merged_df_race_dict = dict(merged_df.groupby(['race_group']).groups)\n",
      "Testing weights for abd_exp_01:  42%|████▏     | 42/101 [00:16<00:22,  2.59it/s]<ipython-input-6-d61cf6b7d348>:36: FutureWarning: The default of observed=False is deprecated and will be changed to True in a future version of pandas. Pass observed=False to retain current behavior or observed=True to adopt the future default and silence this warning.\n",
      "  merged_df_race_dict = dict(merged_df.groupby(['race_group']).groups)\n",
      "Testing weights for abd_exp_01:  43%|████▎     | 43/101 [00:16<00:22,  2.60it/s]<ipython-input-6-d61cf6b7d348>:36: FutureWarning: The default of observed=False is deprecated and will be changed to True in a future version of pandas. Pass observed=False to retain current behavior or observed=True to adopt the future default and silence this warning.\n",
      "  merged_df_race_dict = dict(merged_df.groupby(['race_group']).groups)\n",
      "Testing weights for abd_exp_01:  44%|████▎     | 44/101 [00:16<00:21,  2.60it/s]<ipython-input-6-d61cf6b7d348>:36: FutureWarning: The default of observed=False is deprecated and will be changed to True in a future version of pandas. Pass observed=False to retain current behavior or observed=True to adopt the future default and silence this warning.\n",
      "  merged_df_race_dict = dict(merged_df.groupby(['race_group']).groups)\n",
      "Testing weights for abd_exp_01:  45%|████▍     | 45/101 [00:17<00:21,  2.61it/s]<ipython-input-6-d61cf6b7d348>:36: FutureWarning: The default of observed=False is deprecated and will be changed to True in a future version of pandas. Pass observed=False to retain current behavior or observed=True to adopt the future default and silence this warning.\n",
      "  merged_df_race_dict = dict(merged_df.groupby(['race_group']).groups)\n",
      "Testing weights for abd_exp_01:  46%|████▌     | 46/101 [00:17<00:21,  2.61it/s]<ipython-input-6-d61cf6b7d348>:36: FutureWarning: The default of observed=False is deprecated and will be changed to True in a future version of pandas. Pass observed=False to retain current behavior or observed=True to adopt the future default and silence this warning.\n",
      "  merged_df_race_dict = dict(merged_df.groupby(['race_group']).groups)\n",
      "Testing weights for abd_exp_01:  47%|████▋     | 47/101 [00:18<00:20,  2.61it/s]<ipython-input-6-d61cf6b7d348>:36: FutureWarning: The default of observed=False is deprecated and will be changed to True in a future version of pandas. Pass observed=False to retain current behavior or observed=True to adopt the future default and silence this warning.\n",
      "  merged_df_race_dict = dict(merged_df.groupby(['race_group']).groups)\n",
      "Testing weights for abd_exp_01:  48%|████▊     | 48/101 [00:18<00:20,  2.61it/s]<ipython-input-6-d61cf6b7d348>:36: FutureWarning: The default of observed=False is deprecated and will be changed to True in a future version of pandas. Pass observed=False to retain current behavior or observed=True to adopt the future default and silence this warning.\n",
      "  merged_df_race_dict = dict(merged_df.groupby(['race_group']).groups)\n",
      "Testing weights for abd_exp_01:  49%|████▊     | 49/101 [00:18<00:19,  2.61it/s]<ipython-input-6-d61cf6b7d348>:36: FutureWarning: The default of observed=False is deprecated and will be changed to True in a future version of pandas. Pass observed=False to retain current behavior or observed=True to adopt the future default and silence this warning.\n",
      "  merged_df_race_dict = dict(merged_df.groupby(['race_group']).groups)\n",
      "Testing weights for abd_exp_01:  50%|████▉     | 50/101 [00:19<00:19,  2.61it/s]<ipython-input-6-d61cf6b7d348>:36: FutureWarning: The default of observed=False is deprecated and will be changed to True in a future version of pandas. Pass observed=False to retain current behavior or observed=True to adopt the future default and silence this warning.\n",
      "  merged_df_race_dict = dict(merged_df.groupby(['race_group']).groups)\n",
      "Testing weights for abd_exp_01:  50%|█████     | 51/101 [00:19<00:19,  2.61it/s]<ipython-input-6-d61cf6b7d348>:36: FutureWarning: The default of observed=False is deprecated and will be changed to True in a future version of pandas. Pass observed=False to retain current behavior or observed=True to adopt the future default and silence this warning.\n",
      "  merged_df_race_dict = dict(merged_df.groupby(['race_group']).groups)\n",
      "Testing weights for abd_exp_01:  51%|█████▏    | 52/101 [00:19<00:18,  2.62it/s]<ipython-input-6-d61cf6b7d348>:36: FutureWarning: The default of observed=False is deprecated and will be changed to True in a future version of pandas. Pass observed=False to retain current behavior or observed=True to adopt the future default and silence this warning.\n",
      "  merged_df_race_dict = dict(merged_df.groupby(['race_group']).groups)\n",
      "Testing weights for abd_exp_01:  52%|█████▏    | 53/101 [00:20<00:18,  2.62it/s]<ipython-input-6-d61cf6b7d348>:36: FutureWarning: The default of observed=False is deprecated and will be changed to True in a future version of pandas. Pass observed=False to retain current behavior or observed=True to adopt the future default and silence this warning.\n",
      "  merged_df_race_dict = dict(merged_df.groupby(['race_group']).groups)\n",
      "Testing weights for abd_exp_01:  53%|█████▎    | 54/101 [00:20<00:17,  2.62it/s]<ipython-input-6-d61cf6b7d348>:36: FutureWarning: The default of observed=False is deprecated and will be changed to True in a future version of pandas. Pass observed=False to retain current behavior or observed=True to adopt the future default and silence this warning.\n",
      "  merged_df_race_dict = dict(merged_df.groupby(['race_group']).groups)\n",
      "Testing weights for abd_exp_01:  54%|█████▍    | 55/101 [00:21<00:17,  2.62it/s]<ipython-input-6-d61cf6b7d348>:36: FutureWarning: The default of observed=False is deprecated and will be changed to True in a future version of pandas. Pass observed=False to retain current behavior or observed=True to adopt the future default and silence this warning.\n",
      "  merged_df_race_dict = dict(merged_df.groupby(['race_group']).groups)\n",
      "Testing weights for abd_exp_01:  55%|█████▌    | 56/101 [00:21<00:17,  2.63it/s]<ipython-input-6-d61cf6b7d348>:36: FutureWarning: The default of observed=False is deprecated and will be changed to True in a future version of pandas. Pass observed=False to retain current behavior or observed=True to adopt the future default and silence this warning.\n",
      "  merged_df_race_dict = dict(merged_df.groupby(['race_group']).groups)\n",
      "Testing weights for abd_exp_01:  56%|█████▋    | 57/101 [00:21<00:16,  2.62it/s]<ipython-input-6-d61cf6b7d348>:36: FutureWarning: The default of observed=False is deprecated and will be changed to True in a future version of pandas. Pass observed=False to retain current behavior or observed=True to adopt the future default and silence this warning.\n",
      "  merged_df_race_dict = dict(merged_df.groupby(['race_group']).groups)\n",
      "Testing weights for abd_exp_01:  57%|█████▋    | 58/101 [00:22<00:16,  2.62it/s]<ipython-input-6-d61cf6b7d348>:36: FutureWarning: The default of observed=False is deprecated and will be changed to True in a future version of pandas. Pass observed=False to retain current behavior or observed=True to adopt the future default and silence this warning.\n",
      "  merged_df_race_dict = dict(merged_df.groupby(['race_group']).groups)\n",
      "Testing weights for abd_exp_01:  58%|█████▊    | 59/101 [00:22<00:16,  2.61it/s]<ipython-input-6-d61cf6b7d348>:36: FutureWarning: The default of observed=False is deprecated and will be changed to True in a future version of pandas. Pass observed=False to retain current behavior or observed=True to adopt the future default and silence this warning.\n",
      "  merged_df_race_dict = dict(merged_df.groupby(['race_group']).groups)\n",
      "Testing weights for abd_exp_01:  59%|█████▉    | 60/101 [00:23<00:15,  2.59it/s]<ipython-input-6-d61cf6b7d348>:36: FutureWarning: The default of observed=False is deprecated and will be changed to True in a future version of pandas. Pass observed=False to retain current behavior or observed=True to adopt the future default and silence this warning.\n",
      "  merged_df_race_dict = dict(merged_df.groupby(['race_group']).groups)\n",
      "Testing weights for abd_exp_01:  60%|██████    | 61/101 [00:23<00:15,  2.60it/s]<ipython-input-6-d61cf6b7d348>:36: FutureWarning: The default of observed=False is deprecated and will be changed to True in a future version of pandas. Pass observed=False to retain current behavior or observed=True to adopt the future default and silence this warning.\n",
      "  merged_df_race_dict = dict(merged_df.groupby(['race_group']).groups)\n",
      "Testing weights for abd_exp_01:  61%|██████▏   | 62/101 [00:23<00:15,  2.55it/s]<ipython-input-6-d61cf6b7d348>:36: FutureWarning: The default of observed=False is deprecated and will be changed to True in a future version of pandas. Pass observed=False to retain current behavior or observed=True to adopt the future default and silence this warning.\n",
      "  merged_df_race_dict = dict(merged_df.groupby(['race_group']).groups)\n",
      "Testing weights for abd_exp_01:  62%|██████▏   | 63/101 [00:24<00:14,  2.58it/s]<ipython-input-6-d61cf6b7d348>:36: FutureWarning: The default of observed=False is deprecated and will be changed to True in a future version of pandas. Pass observed=False to retain current behavior or observed=True to adopt the future default and silence this warning.\n",
      "  merged_df_race_dict = dict(merged_df.groupby(['race_group']).groups)\n",
      "Testing weights for abd_exp_01:  63%|██████▎   | 64/101 [00:24<00:14,  2.59it/s]<ipython-input-6-d61cf6b7d348>:36: FutureWarning: The default of observed=False is deprecated and will be changed to True in a future version of pandas. Pass observed=False to retain current behavior or observed=True to adopt the future default and silence this warning.\n",
      "  merged_df_race_dict = dict(merged_df.groupby(['race_group']).groups)\n",
      "Testing weights for abd_exp_01:  64%|██████▍   | 65/101 [00:24<00:13,  2.59it/s]<ipython-input-6-d61cf6b7d348>:36: FutureWarning: The default of observed=False is deprecated and will be changed to True in a future version of pandas. Pass observed=False to retain current behavior or observed=True to adopt the future default and silence this warning.\n",
      "  merged_df_race_dict = dict(merged_df.groupby(['race_group']).groups)\n",
      "Testing weights for abd_exp_01:  65%|██████▌   | 66/101 [00:25<00:13,  2.60it/s]<ipython-input-6-d61cf6b7d348>:36: FutureWarning: The default of observed=False is deprecated and will be changed to True in a future version of pandas. Pass observed=False to retain current behavior or observed=True to adopt the future default and silence this warning.\n",
      "  merged_df_race_dict = dict(merged_df.groupby(['race_group']).groups)\n",
      "Testing weights for abd_exp_01:  66%|██████▋   | 67/101 [00:25<00:13,  2.60it/s]<ipython-input-6-d61cf6b7d348>:36: FutureWarning: The default of observed=False is deprecated and will be changed to True in a future version of pandas. Pass observed=False to retain current behavior or observed=True to adopt the future default and silence this warning.\n",
      "  merged_df_race_dict = dict(merged_df.groupby(['race_group']).groups)\n",
      "Testing weights for abd_exp_01:  67%|██████▋   | 68/101 [00:26<00:12,  2.61it/s]<ipython-input-6-d61cf6b7d348>:36: FutureWarning: The default of observed=False is deprecated and will be changed to True in a future version of pandas. Pass observed=False to retain current behavior or observed=True to adopt the future default and silence this warning.\n",
      "  merged_df_race_dict = dict(merged_df.groupby(['race_group']).groups)\n",
      "Testing weights for abd_exp_01:  68%|██████▊   | 69/101 [00:26<00:12,  2.62it/s]<ipython-input-6-d61cf6b7d348>:36: FutureWarning: The default of observed=False is deprecated and will be changed to True in a future version of pandas. Pass observed=False to retain current behavior or observed=True to adopt the future default and silence this warning.\n",
      "  merged_df_race_dict = dict(merged_df.groupby(['race_group']).groups)\n",
      "Testing weights for abd_exp_01:  69%|██████▉   | 70/101 [00:26<00:11,  2.62it/s]<ipython-input-6-d61cf6b7d348>:36: FutureWarning: The default of observed=False is deprecated and will be changed to True in a future version of pandas. Pass observed=False to retain current behavior or observed=True to adopt the future default and silence this warning.\n",
      "  merged_df_race_dict = dict(merged_df.groupby(['race_group']).groups)\n",
      "Testing weights for abd_exp_01:  70%|███████   | 71/101 [00:27<00:11,  2.62it/s]<ipython-input-6-d61cf6b7d348>:36: FutureWarning: The default of observed=False is deprecated and will be changed to True in a future version of pandas. Pass observed=False to retain current behavior or observed=True to adopt the future default and silence this warning.\n",
      "  merged_df_race_dict = dict(merged_df.groupby(['race_group']).groups)\n",
      "Testing weights for abd_exp_01:  71%|███████▏  | 72/101 [00:27<00:11,  2.62it/s]<ipython-input-6-d61cf6b7d348>:36: FutureWarning: The default of observed=False is deprecated and will be changed to True in a future version of pandas. Pass observed=False to retain current behavior or observed=True to adopt the future default and silence this warning.\n",
      "  merged_df_race_dict = dict(merged_df.groupby(['race_group']).groups)\n",
      "Testing weights for abd_exp_01:  72%|███████▏  | 73/101 [00:28<00:10,  2.61it/s]<ipython-input-6-d61cf6b7d348>:36: FutureWarning: The default of observed=False is deprecated and will be changed to True in a future version of pandas. Pass observed=False to retain current behavior or observed=True to adopt the future default and silence this warning.\n",
      "  merged_df_race_dict = dict(merged_df.groupby(['race_group']).groups)\n",
      "Testing weights for abd_exp_01:  73%|███████▎  | 74/101 [00:28<00:10,  2.62it/s]<ipython-input-6-d61cf6b7d348>:36: FutureWarning: The default of observed=False is deprecated and will be changed to True in a future version of pandas. Pass observed=False to retain current behavior or observed=True to adopt the future default and silence this warning.\n",
      "  merged_df_race_dict = dict(merged_df.groupby(['race_group']).groups)\n",
      "Testing weights for abd_exp_01:  74%|███████▍  | 75/101 [00:28<00:09,  2.62it/s]<ipython-input-6-d61cf6b7d348>:36: FutureWarning: The default of observed=False is deprecated and will be changed to True in a future version of pandas. Pass observed=False to retain current behavior or observed=True to adopt the future default and silence this warning.\n",
      "  merged_df_race_dict = dict(merged_df.groupby(['race_group']).groups)\n",
      "Testing weights for abd_exp_01:  75%|███████▌  | 76/101 [00:29<00:09,  2.62it/s]<ipython-input-6-d61cf6b7d348>:36: FutureWarning: The default of observed=False is deprecated and will be changed to True in a future version of pandas. Pass observed=False to retain current behavior or observed=True to adopt the future default and silence this warning.\n",
      "  merged_df_race_dict = dict(merged_df.groupby(['race_group']).groups)\n",
      "Testing weights for abd_exp_01:  76%|███████▌  | 77/101 [00:29<00:09,  2.59it/s]<ipython-input-6-d61cf6b7d348>:36: FutureWarning: The default of observed=False is deprecated and will be changed to True in a future version of pandas. Pass observed=False to retain current behavior or observed=True to adopt the future default and silence this warning.\n",
      "  merged_df_race_dict = dict(merged_df.groupby(['race_group']).groups)\n",
      "Testing weights for abd_exp_01:  77%|███████▋  | 78/101 [00:29<00:09,  2.55it/s]<ipython-input-6-d61cf6b7d348>:36: FutureWarning: The default of observed=False is deprecated and will be changed to True in a future version of pandas. Pass observed=False to retain current behavior or observed=True to adopt the future default and silence this warning.\n",
      "  merged_df_race_dict = dict(merged_df.groupby(['race_group']).groups)\n",
      "Testing weights for abd_exp_01:  78%|███████▊  | 79/101 [00:30<00:08,  2.57it/s]<ipython-input-6-d61cf6b7d348>:36: FutureWarning: The default of observed=False is deprecated and will be changed to True in a future version of pandas. Pass observed=False to retain current behavior or observed=True to adopt the future default and silence this warning.\n",
      "  merged_df_race_dict = dict(merged_df.groupby(['race_group']).groups)\n",
      "Testing weights for abd_exp_01:  79%|███████▉  | 80/101 [00:30<00:08,  2.57it/s]<ipython-input-6-d61cf6b7d348>:36: FutureWarning: The default of observed=False is deprecated and will be changed to True in a future version of pandas. Pass observed=False to retain current behavior or observed=True to adopt the future default and silence this warning.\n",
      "  merged_df_race_dict = dict(merged_df.groupby(['race_group']).groups)\n",
      "Testing weights for abd_exp_01:  80%|████████  | 81/101 [00:31<00:07,  2.57it/s]<ipython-input-6-d61cf6b7d348>:36: FutureWarning: The default of observed=False is deprecated and will be changed to True in a future version of pandas. Pass observed=False to retain current behavior or observed=True to adopt the future default and silence this warning.\n",
      "  merged_df_race_dict = dict(merged_df.groupby(['race_group']).groups)\n",
      "Testing weights for abd_exp_01:  81%|████████  | 82/101 [00:31<00:07,  2.59it/s]<ipython-input-6-d61cf6b7d348>:36: FutureWarning: The default of observed=False is deprecated and will be changed to True in a future version of pandas. Pass observed=False to retain current behavior or observed=True to adopt the future default and silence this warning.\n",
      "  merged_df_race_dict = dict(merged_df.groupby(['race_group']).groups)\n",
      "Testing weights for abd_exp_01:  82%|████████▏ | 83/101 [00:31<00:06,  2.59it/s]<ipython-input-6-d61cf6b7d348>:36: FutureWarning: The default of observed=False is deprecated and will be changed to True in a future version of pandas. Pass observed=False to retain current behavior or observed=True to adopt the future default and silence this warning.\n",
      "  merged_df_race_dict = dict(merged_df.groupby(['race_group']).groups)\n",
      "Testing weights for abd_exp_01:  83%|████████▎ | 84/101 [00:32<00:06,  2.60it/s]<ipython-input-6-d61cf6b7d348>:36: FutureWarning: The default of observed=False is deprecated and will be changed to True in a future version of pandas. Pass observed=False to retain current behavior or observed=True to adopt the future default and silence this warning.\n",
      "  merged_df_race_dict = dict(merged_df.groupby(['race_group']).groups)\n",
      "Testing weights for abd_exp_01:  84%|████████▍ | 85/101 [00:32<00:06,  2.60it/s]<ipython-input-6-d61cf6b7d348>:36: FutureWarning: The default of observed=False is deprecated and will be changed to True in a future version of pandas. Pass observed=False to retain current behavior or observed=True to adopt the future default and silence this warning.\n",
      "  merged_df_race_dict = dict(merged_df.groupby(['race_group']).groups)\n",
      "Testing weights for abd_exp_01:  85%|████████▌ | 86/101 [00:33<00:05,  2.61it/s]<ipython-input-6-d61cf6b7d348>:36: FutureWarning: The default of observed=False is deprecated and will be changed to True in a future version of pandas. Pass observed=False to retain current behavior or observed=True to adopt the future default and silence this warning.\n",
      "  merged_df_race_dict = dict(merged_df.groupby(['race_group']).groups)\n",
      "Testing weights for abd_exp_01:  86%|████████▌ | 87/101 [00:33<00:05,  2.61it/s]<ipython-input-6-d61cf6b7d348>:36: FutureWarning: The default of observed=False is deprecated and will be changed to True in a future version of pandas. Pass observed=False to retain current behavior or observed=True to adopt the future default and silence this warning.\n",
      "  merged_df_race_dict = dict(merged_df.groupby(['race_group']).groups)\n",
      "Testing weights for abd_exp_01:  87%|████████▋ | 88/101 [00:33<00:05,  2.55it/s]<ipython-input-6-d61cf6b7d348>:36: FutureWarning: The default of observed=False is deprecated and will be changed to True in a future version of pandas. Pass observed=False to retain current behavior or observed=True to adopt the future default and silence this warning.\n",
      "  merged_df_race_dict = dict(merged_df.groupby(['race_group']).groups)\n",
      "Testing weights for abd_exp_01:  88%|████████▊ | 89/101 [00:34<00:04,  2.56it/s]<ipython-input-6-d61cf6b7d348>:36: FutureWarning: The default of observed=False is deprecated and will be changed to True in a future version of pandas. Pass observed=False to retain current behavior or observed=True to adopt the future default and silence this warning.\n",
      "  merged_df_race_dict = dict(merged_df.groupby(['race_group']).groups)\n",
      "Testing weights for abd_exp_01:  89%|████████▉ | 90/101 [00:34<00:04,  2.58it/s]<ipython-input-6-d61cf6b7d348>:36: FutureWarning: The default of observed=False is deprecated and will be changed to True in a future version of pandas. Pass observed=False to retain current behavior or observed=True to adopt the future default and silence this warning.\n",
      "  merged_df_race_dict = dict(merged_df.groupby(['race_group']).groups)\n",
      "Testing weights for abd_exp_01:  90%|█████████ | 91/101 [00:35<00:03,  2.59it/s]<ipython-input-6-d61cf6b7d348>:36: FutureWarning: The default of observed=False is deprecated and will be changed to True in a future version of pandas. Pass observed=False to retain current behavior or observed=True to adopt the future default and silence this warning.\n",
      "  merged_df_race_dict = dict(merged_df.groupby(['race_group']).groups)\n",
      "Testing weights for abd_exp_01:  91%|█████████ | 92/101 [00:35<00:03,  2.60it/s]<ipython-input-6-d61cf6b7d348>:36: FutureWarning: The default of observed=False is deprecated and will be changed to True in a future version of pandas. Pass observed=False to retain current behavior or observed=True to adopt the future default and silence this warning.\n",
      "  merged_df_race_dict = dict(merged_df.groupby(['race_group']).groups)\n",
      "Testing weights for abd_exp_01:  92%|█████████▏| 93/101 [00:35<00:03,  2.60it/s]<ipython-input-6-d61cf6b7d348>:36: FutureWarning: The default of observed=False is deprecated and will be changed to True in a future version of pandas. Pass observed=False to retain current behavior or observed=True to adopt the future default and silence this warning.\n",
      "  merged_df_race_dict = dict(merged_df.groupby(['race_group']).groups)\n",
      "Testing weights for abd_exp_01:  93%|█████████▎| 94/101 [00:36<00:02,  2.61it/s]<ipython-input-6-d61cf6b7d348>:36: FutureWarning: The default of observed=False is deprecated and will be changed to True in a future version of pandas. Pass observed=False to retain current behavior or observed=True to adopt the future default and silence this warning.\n",
      "  merged_df_race_dict = dict(merged_df.groupby(['race_group']).groups)\n",
      "Testing weights for abd_exp_01:  94%|█████████▍| 95/101 [00:36<00:02,  2.61it/s]<ipython-input-6-d61cf6b7d348>:36: FutureWarning: The default of observed=False is deprecated and will be changed to True in a future version of pandas. Pass observed=False to retain current behavior or observed=True to adopt the future default and silence this warning.\n",
      "  merged_df_race_dict = dict(merged_df.groupby(['race_group']).groups)\n",
      "Testing weights for abd_exp_01:  95%|█████████▌| 96/101 [00:36<00:01,  2.61it/s]<ipython-input-6-d61cf6b7d348>:36: FutureWarning: The default of observed=False is deprecated and will be changed to True in a future version of pandas. Pass observed=False to retain current behavior or observed=True to adopt the future default and silence this warning.\n",
      "  merged_df_race_dict = dict(merged_df.groupby(['race_group']).groups)\n",
      "Testing weights for abd_exp_01:  96%|█████████▌| 97/101 [00:37<00:01,  2.61it/s]<ipython-input-6-d61cf6b7d348>:36: FutureWarning: The default of observed=False is deprecated and will be changed to True in a future version of pandas. Pass observed=False to retain current behavior or observed=True to adopt the future default and silence this warning.\n",
      "  merged_df_race_dict = dict(merged_df.groupby(['race_group']).groups)\n",
      "Testing weights for abd_exp_01:  97%|█████████▋| 98/101 [00:37<00:01,  2.61it/s]<ipython-input-6-d61cf6b7d348>:36: FutureWarning: The default of observed=False is deprecated and will be changed to True in a future version of pandas. Pass observed=False to retain current behavior or observed=True to adopt the future default and silence this warning.\n",
      "  merged_df_race_dict = dict(merged_df.groupby(['race_group']).groups)\n",
      "Testing weights for abd_exp_01:  98%|█████████▊| 99/101 [00:38<00:00,  2.61it/s]<ipython-input-6-d61cf6b7d348>:36: FutureWarning: The default of observed=False is deprecated and will be changed to True in a future version of pandas. Pass observed=False to retain current behavior or observed=True to adopt the future default and silence this warning.\n",
      "  merged_df_race_dict = dict(merged_df.groupby(['race_group']).groups)\n",
      "Testing weights for abd_exp_01:  99%|█████████▉| 100/101 [00:38<00:00,  2.61it/s]<ipython-input-6-d61cf6b7d348>:36: FutureWarning: The default of observed=False is deprecated and will be changed to True in a future version of pandas. Pass observed=False to retain current behavior or observed=True to adopt the future default and silence this warning.\n",
      "  merged_df_race_dict = dict(merged_df.groupby(['race_group']).groups)\n",
      "Testing weights for abd_exp_01: 100%|██████████| 101/101 [00:38<00:00,  2.60it/s]\n"
     ]
    },
    {
     "name": "stdout",
     "output_type": "stream",
     "text": [
      "here -> /kaggle/input/catboost-exp-04\n"
     ]
    },
    {
     "name": "stderr",
     "output_type": "stream",
     "text": [
      "Testing weights for catboost_exp_04: 100%|██████████| 101/101 [00:38<00:00,  2.61it/s]\n"
     ]
    },
    {
     "name": "stdout",
     "output_type": "stream",
     "text": [
      "here -> /kaggle/input/lgbm-exp-04\n"
     ]
    },
    {
     "name": "stderr",
     "output_type": "stream",
     "text": [
      "Testing weights for lgbm_exp_04: 100%|██████████| 101/101 [00:38<00:00,  2.62it/s]\n"
     ]
    },
    {
     "name": "stdout",
     "output_type": "stream",
     "text": [
      "here -> /kaggle/input/tabm-exp-02\n"
     ]
    },
    {
     "name": "stderr",
     "output_type": "stream",
     "text": [
      "Testing weights for tabm_exp_02: 100%|██████████| 101/101 [00:38<00:00,  2.62it/s]\n"
     ]
    },
    {
     "name": "stdout",
     "output_type": "stream",
     "text": [
      "here -> /kaggle/input/ds-exp-01\n"
     ]
    },
    {
     "name": "stderr",
     "output_type": "stream",
     "text": [
      "Testing weights for ds_exp_01: 100%|██████████| 101/101 [00:38<00:00,  2.63it/s]\n"
     ]
    },
    {
     "name": "stdout",
     "output_type": "stream",
     "text": [
      "here -> /kaggle/input/nn-exp-02\n"
     ]
    },
    {
     "name": "stderr",
     "output_type": "stream",
     "text": [
      "Testing weights for nn_exp_02: 100%|██████████| 101/101 [00:39<00:00,  2.58it/s]\n"
     ]
    },
    {
     "name": "stdout",
     "output_type": "stream",
     "text": [
      "Iteration 3: Added /kaggle/input/tabm-exp-02 with weight 0.1300, Score: 0.6849\n",
      "3th iteration\n",
      "here -> /kaggle/input/xgboost-exp-01\n"
     ]
    },
    {
     "name": "stderr",
     "output_type": "stream",
     "text": [
      "Testing weights for xgboost_exp_01: 100%|██████████| 101/101 [00:38<00:00,  2.61it/s]\n"
     ]
    },
    {
     "name": "stdout",
     "output_type": "stream",
     "text": [
      "here -> /kaggle/input/lgbm-exp-01\n"
     ]
    },
    {
     "name": "stderr",
     "output_type": "stream",
     "text": [
      "Testing weights for lgbm_exp_01: 100%|██████████| 101/101 [00:38<00:00,  2.61it/s]\n"
     ]
    },
    {
     "name": "stdout",
     "output_type": "stream",
     "text": [
      "here -> /kaggle/input/xgboost-exp-02\n"
     ]
    },
    {
     "name": "stderr",
     "output_type": "stream",
     "text": [
      "Testing weights for xgboost_exp_02: 100%|██████████| 101/101 [00:38<00:00,  2.61it/s]\n"
     ]
    },
    {
     "name": "stdout",
     "output_type": "stream",
     "text": [
      "here -> /kaggle/input/lgbm-exp-03\n"
     ]
    },
    {
     "name": "stderr",
     "output_type": "stream",
     "text": [
      "Testing weights for lgbm_exp_03: 100%|██████████| 101/101 [00:38<00:00,  2.62it/s]\n"
     ]
    },
    {
     "name": "stdout",
     "output_type": "stream",
     "text": [
      "here -> /kaggle/input/catboost-exp-03\n"
     ]
    },
    {
     "name": "stderr",
     "output_type": "stream",
     "text": [
      "Testing weights for catboost_exp_03: 100%|██████████| 101/101 [00:38<00:00,  2.62it/s]\n"
     ]
    },
    {
     "name": "stdout",
     "output_type": "stream",
     "text": [
      "here -> /kaggle/input/tabm-exp-01\n"
     ]
    },
    {
     "name": "stderr",
     "output_type": "stream",
     "text": [
      "Testing weights for tabm_exp_01: 100%|██████████| 101/101 [00:39<00:00,  2.59it/s]\n"
     ]
    },
    {
     "name": "stdout",
     "output_type": "stream",
     "text": [
      "here -> /kaggle/input/nn-exp-01\n"
     ]
    },
    {
     "name": "stderr",
     "output_type": "stream",
     "text": [
      "Testing weights for nn_exp_01: 100%|██████████| 101/101 [00:38<00:00,  2.61it/s]\n"
     ]
    },
    {
     "name": "stdout",
     "output_type": "stream",
     "text": [
      "here -> /kaggle/input/tn-exp-01\n"
     ]
    },
    {
     "name": "stderr",
     "output_type": "stream",
     "text": [
      "Testing weights for tn_exp_01: 100%|██████████| 101/101 [00:38<00:00,  2.62it/s]\n"
     ]
    },
    {
     "name": "stdout",
     "output_type": "stream",
     "text": [
      "here -> /kaggle/input/tf-exp-01\n"
     ]
    },
    {
     "name": "stderr",
     "output_type": "stream",
     "text": [
      "Testing weights for tf_exp_01: 100%|██████████| 101/101 [00:38<00:00,  2.62it/s]\n"
     ]
    },
    {
     "name": "stdout",
     "output_type": "stream",
     "text": [
      "here -> /kaggle/input/svr-exp-01\n"
     ]
    },
    {
     "name": "stderr",
     "output_type": "stream",
     "text": [
      "Testing weights for svr_exp_01: 100%|██████████| 101/101 [00:38<00:00,  2.62it/s]\n"
     ]
    },
    {
     "name": "stdout",
     "output_type": "stream",
     "text": [
      "here -> /kaggle/input/abd-exp-01\n"
     ]
    },
    {
     "name": "stderr",
     "output_type": "stream",
     "text": [
      "Testing weights for abd_exp_01:   0%|          | 0/101 [00:00<?, ?it/s]<ipython-input-6-d61cf6b7d348>:36: FutureWarning: The default of observed=False is deprecated and will be changed to True in a future version of pandas. Pass observed=False to retain current behavior or observed=True to adopt the future default and silence this warning.\n",
      "  merged_df_race_dict = dict(merged_df.groupby(['race_group']).groups)\n",
      "Testing weights for abd_exp_01:   1%|          | 1/101 [00:00<00:38,  2.62it/s]<ipython-input-6-d61cf6b7d348>:36: FutureWarning: The default of observed=False is deprecated and will be changed to True in a future version of pandas. Pass observed=False to retain current behavior or observed=True to adopt the future default and silence this warning.\n",
      "  merged_df_race_dict = dict(merged_df.groupby(['race_group']).groups)\n",
      "Testing weights for abd_exp_01:   2%|▏         | 2/101 [00:00<00:37,  2.62it/s]<ipython-input-6-d61cf6b7d348>:36: FutureWarning: The default of observed=False is deprecated and will be changed to True in a future version of pandas. Pass observed=False to retain current behavior or observed=True to adopt the future default and silence this warning.\n",
      "  merged_df_race_dict = dict(merged_df.groupby(['race_group']).groups)\n",
      "Testing weights for abd_exp_01:   3%|▎         | 3/101 [00:01<00:37,  2.62it/s]<ipython-input-6-d61cf6b7d348>:36: FutureWarning: The default of observed=False is deprecated and will be changed to True in a future version of pandas. Pass observed=False to retain current behavior or observed=True to adopt the future default and silence this warning.\n",
      "  merged_df_race_dict = dict(merged_df.groupby(['race_group']).groups)\n",
      "Testing weights for abd_exp_01:   4%|▍         | 4/101 [00:01<00:37,  2.62it/s]<ipython-input-6-d61cf6b7d348>:36: FutureWarning: The default of observed=False is deprecated and will be changed to True in a future version of pandas. Pass observed=False to retain current behavior or observed=True to adopt the future default and silence this warning.\n",
      "  merged_df_race_dict = dict(merged_df.groupby(['race_group']).groups)\n",
      "Testing weights for abd_exp_01:   5%|▍         | 5/101 [00:01<00:36,  2.62it/s]<ipython-input-6-d61cf6b7d348>:36: FutureWarning: The default of observed=False is deprecated and will be changed to True in a future version of pandas. Pass observed=False to retain current behavior or observed=True to adopt the future default and silence this warning.\n",
      "  merged_df_race_dict = dict(merged_df.groupby(['race_group']).groups)\n",
      "Testing weights for abd_exp_01:   6%|▌         | 6/101 [00:02<00:36,  2.61it/s]<ipython-input-6-d61cf6b7d348>:36: FutureWarning: The default of observed=False is deprecated and will be changed to True in a future version of pandas. Pass observed=False to retain current behavior or observed=True to adopt the future default and silence this warning.\n",
      "  merged_df_race_dict = dict(merged_df.groupby(['race_group']).groups)\n",
      "Testing weights for abd_exp_01:   7%|▋         | 7/101 [00:02<00:35,  2.61it/s]<ipython-input-6-d61cf6b7d348>:36: FutureWarning: The default of observed=False is deprecated and will be changed to True in a future version of pandas. Pass observed=False to retain current behavior or observed=True to adopt the future default and silence this warning.\n",
      "  merged_df_race_dict = dict(merged_df.groupby(['race_group']).groups)\n",
      "Testing weights for abd_exp_01:   8%|▊         | 8/101 [00:03<00:35,  2.61it/s]<ipython-input-6-d61cf6b7d348>:36: FutureWarning: The default of observed=False is deprecated and will be changed to True in a future version of pandas. Pass observed=False to retain current behavior or observed=True to adopt the future default and silence this warning.\n",
      "  merged_df_race_dict = dict(merged_df.groupby(['race_group']).groups)\n",
      "Testing weights for abd_exp_01:   9%|▉         | 9/101 [00:03<00:35,  2.62it/s]<ipython-input-6-d61cf6b7d348>:36: FutureWarning: The default of observed=False is deprecated and will be changed to True in a future version of pandas. Pass observed=False to retain current behavior or observed=True to adopt the future default and silence this warning.\n",
      "  merged_df_race_dict = dict(merged_df.groupby(['race_group']).groups)\n",
      "Testing weights for abd_exp_01:  10%|▉         | 10/101 [00:03<00:34,  2.62it/s]<ipython-input-6-d61cf6b7d348>:36: FutureWarning: The default of observed=False is deprecated and will be changed to True in a future version of pandas. Pass observed=False to retain current behavior or observed=True to adopt the future default and silence this warning.\n",
      "  merged_df_race_dict = dict(merged_df.groupby(['race_group']).groups)\n",
      "Testing weights for abd_exp_01:  11%|█         | 11/101 [00:04<00:34,  2.63it/s]<ipython-input-6-d61cf6b7d348>:36: FutureWarning: The default of observed=False is deprecated and will be changed to True in a future version of pandas. Pass observed=False to retain current behavior or observed=True to adopt the future default and silence this warning.\n",
      "  merged_df_race_dict = dict(merged_df.groupby(['race_group']).groups)\n",
      "Testing weights for abd_exp_01:  12%|█▏        | 12/101 [00:04<00:33,  2.62it/s]<ipython-input-6-d61cf6b7d348>:36: FutureWarning: The default of observed=False is deprecated and will be changed to True in a future version of pandas. Pass observed=False to retain current behavior or observed=True to adopt the future default and silence this warning.\n",
      "  merged_df_race_dict = dict(merged_df.groupby(['race_group']).groups)\n",
      "Testing weights for abd_exp_01:  13%|█▎        | 13/101 [00:04<00:33,  2.62it/s]<ipython-input-6-d61cf6b7d348>:36: FutureWarning: The default of observed=False is deprecated and will be changed to True in a future version of pandas. Pass observed=False to retain current behavior or observed=True to adopt the future default and silence this warning.\n",
      "  merged_df_race_dict = dict(merged_df.groupby(['race_group']).groups)\n",
      "Testing weights for abd_exp_01:  14%|█▍        | 14/101 [00:05<00:33,  2.62it/s]<ipython-input-6-d61cf6b7d348>:36: FutureWarning: The default of observed=False is deprecated and will be changed to True in a future version of pandas. Pass observed=False to retain current behavior or observed=True to adopt the future default and silence this warning.\n",
      "  merged_df_race_dict = dict(merged_df.groupby(['race_group']).groups)\n",
      "Testing weights for abd_exp_01:  15%|█▍        | 15/101 [00:05<00:32,  2.62it/s]<ipython-input-6-d61cf6b7d348>:36: FutureWarning: The default of observed=False is deprecated and will be changed to True in a future version of pandas. Pass observed=False to retain current behavior or observed=True to adopt the future default and silence this warning.\n",
      "  merged_df_race_dict = dict(merged_df.groupby(['race_group']).groups)\n",
      "Testing weights for abd_exp_01:  16%|█▌        | 16/101 [00:06<00:32,  2.62it/s]<ipython-input-6-d61cf6b7d348>:36: FutureWarning: The default of observed=False is deprecated and will be changed to True in a future version of pandas. Pass observed=False to retain current behavior or observed=True to adopt the future default and silence this warning.\n",
      "  merged_df_race_dict = dict(merged_df.groupby(['race_group']).groups)\n",
      "Testing weights for abd_exp_01:  17%|█▋        | 17/101 [00:06<00:32,  2.62it/s]<ipython-input-6-d61cf6b7d348>:36: FutureWarning: The default of observed=False is deprecated and will be changed to True in a future version of pandas. Pass observed=False to retain current behavior or observed=True to adopt the future default and silence this warning.\n",
      "  merged_df_race_dict = dict(merged_df.groupby(['race_group']).groups)\n",
      "Testing weights for abd_exp_01:  18%|█▊        | 18/101 [00:06<00:31,  2.62it/s]<ipython-input-6-d61cf6b7d348>:36: FutureWarning: The default of observed=False is deprecated and will be changed to True in a future version of pandas. Pass observed=False to retain current behavior or observed=True to adopt the future default and silence this warning.\n",
      "  merged_df_race_dict = dict(merged_df.groupby(['race_group']).groups)\n",
      "Testing weights for abd_exp_01:  19%|█▉        | 19/101 [00:07<00:31,  2.61it/s]<ipython-input-6-d61cf6b7d348>:36: FutureWarning: The default of observed=False is deprecated and will be changed to True in a future version of pandas. Pass observed=False to retain current behavior or observed=True to adopt the future default and silence this warning.\n",
      "  merged_df_race_dict = dict(merged_df.groupby(['race_group']).groups)\n",
      "Testing weights for abd_exp_01:  20%|█▉        | 20/101 [00:07<00:30,  2.62it/s]<ipython-input-6-d61cf6b7d348>:36: FutureWarning: The default of observed=False is deprecated and will be changed to True in a future version of pandas. Pass observed=False to retain current behavior or observed=True to adopt the future default and silence this warning.\n",
      "  merged_df_race_dict = dict(merged_df.groupby(['race_group']).groups)\n",
      "Testing weights for abd_exp_01:  21%|██        | 21/101 [00:08<00:30,  2.61it/s]<ipython-input-6-d61cf6b7d348>:36: FutureWarning: The default of observed=False is deprecated and will be changed to True in a future version of pandas. Pass observed=False to retain current behavior or observed=True to adopt the future default and silence this warning.\n",
      "  merged_df_race_dict = dict(merged_df.groupby(['race_group']).groups)\n",
      "Testing weights for abd_exp_01:  22%|██▏       | 22/101 [00:08<00:32,  2.46it/s]<ipython-input-6-d61cf6b7d348>:36: FutureWarning: The default of observed=False is deprecated and will be changed to True in a future version of pandas. Pass observed=False to retain current behavior or observed=True to adopt the future default and silence this warning.\n",
      "  merged_df_race_dict = dict(merged_df.groupby(['race_group']).groups)\n",
      "Testing weights for abd_exp_01:  23%|██▎       | 23/101 [00:08<00:31,  2.49it/s]<ipython-input-6-d61cf6b7d348>:36: FutureWarning: The default of observed=False is deprecated and will be changed to True in a future version of pandas. Pass observed=False to retain current behavior or observed=True to adopt the future default and silence this warning.\n",
      "  merged_df_race_dict = dict(merged_df.groupby(['race_group']).groups)\n",
      "Testing weights for abd_exp_01:  24%|██▍       | 24/101 [00:09<00:30,  2.50it/s]<ipython-input-6-d61cf6b7d348>:36: FutureWarning: The default of observed=False is deprecated and will be changed to True in a future version of pandas. Pass observed=False to retain current behavior or observed=True to adopt the future default and silence this warning.\n",
      "  merged_df_race_dict = dict(merged_df.groupby(['race_group']).groups)\n",
      "Testing weights for abd_exp_01:  25%|██▍       | 25/101 [00:09<00:30,  2.53it/s]<ipython-input-6-d61cf6b7d348>:36: FutureWarning: The default of observed=False is deprecated and will be changed to True in a future version of pandas. Pass observed=False to retain current behavior or observed=True to adopt the future default and silence this warning.\n",
      "  merged_df_race_dict = dict(merged_df.groupby(['race_group']).groups)\n",
      "Testing weights for abd_exp_01:  26%|██▌       | 26/101 [00:10<00:29,  2.56it/s]<ipython-input-6-d61cf6b7d348>:36: FutureWarning: The default of observed=False is deprecated and will be changed to True in a future version of pandas. Pass observed=False to retain current behavior or observed=True to adopt the future default and silence this warning.\n",
      "  merged_df_race_dict = dict(merged_df.groupby(['race_group']).groups)\n",
      "Testing weights for abd_exp_01:  27%|██▋       | 27/101 [00:10<00:28,  2.58it/s]<ipython-input-6-d61cf6b7d348>:36: FutureWarning: The default of observed=False is deprecated and will be changed to True in a future version of pandas. Pass observed=False to retain current behavior or observed=True to adopt the future default and silence this warning.\n",
      "  merged_df_race_dict = dict(merged_df.groupby(['race_group']).groups)\n",
      "Testing weights for abd_exp_01:  28%|██▊       | 28/101 [00:10<00:28,  2.59it/s]<ipython-input-6-d61cf6b7d348>:36: FutureWarning: The default of observed=False is deprecated and will be changed to True in a future version of pandas. Pass observed=False to retain current behavior or observed=True to adopt the future default and silence this warning.\n",
      "  merged_df_race_dict = dict(merged_df.groupby(['race_group']).groups)\n",
      "Testing weights for abd_exp_01:  29%|██▊       | 29/101 [00:11<00:27,  2.60it/s]<ipython-input-6-d61cf6b7d348>:36: FutureWarning: The default of observed=False is deprecated and will be changed to True in a future version of pandas. Pass observed=False to retain current behavior or observed=True to adopt the future default and silence this warning.\n",
      "  merged_df_race_dict = dict(merged_df.groupby(['race_group']).groups)\n",
      "Testing weights for abd_exp_01:  30%|██▉       | 30/101 [00:11<00:27,  2.60it/s]<ipython-input-6-d61cf6b7d348>:36: FutureWarning: The default of observed=False is deprecated and will be changed to True in a future version of pandas. Pass observed=False to retain current behavior or observed=True to adopt the future default and silence this warning.\n",
      "  merged_df_race_dict = dict(merged_df.groupby(['race_group']).groups)\n",
      "Testing weights for abd_exp_01:  31%|███       | 31/101 [00:11<00:26,  2.60it/s]<ipython-input-6-d61cf6b7d348>:36: FutureWarning: The default of observed=False is deprecated and will be changed to True in a future version of pandas. Pass observed=False to retain current behavior or observed=True to adopt the future default and silence this warning.\n",
      "  merged_df_race_dict = dict(merged_df.groupby(['race_group']).groups)\n",
      "Testing weights for abd_exp_01:  32%|███▏      | 32/101 [00:12<00:26,  2.60it/s]<ipython-input-6-d61cf6b7d348>:36: FutureWarning: The default of observed=False is deprecated and will be changed to True in a future version of pandas. Pass observed=False to retain current behavior or observed=True to adopt the future default and silence this warning.\n",
      "  merged_df_race_dict = dict(merged_df.groupby(['race_group']).groups)\n",
      "Testing weights for abd_exp_01:  33%|███▎      | 33/101 [00:12<00:26,  2.61it/s]<ipython-input-6-d61cf6b7d348>:36: FutureWarning: The default of observed=False is deprecated and will be changed to True in a future version of pandas. Pass observed=False to retain current behavior or observed=True to adopt the future default and silence this warning.\n",
      "  merged_df_race_dict = dict(merged_df.groupby(['race_group']).groups)\n",
      "Testing weights for abd_exp_01:  34%|███▎      | 34/101 [00:13<00:25,  2.61it/s]<ipython-input-6-d61cf6b7d348>:36: FutureWarning: The default of observed=False is deprecated and will be changed to True in a future version of pandas. Pass observed=False to retain current behavior or observed=True to adopt the future default and silence this warning.\n",
      "  merged_df_race_dict = dict(merged_df.groupby(['race_group']).groups)\n",
      "Testing weights for abd_exp_01:  35%|███▍      | 35/101 [00:13<00:25,  2.61it/s]<ipython-input-6-d61cf6b7d348>:36: FutureWarning: The default of observed=False is deprecated and will be changed to True in a future version of pandas. Pass observed=False to retain current behavior or observed=True to adopt the future default and silence this warning.\n",
      "  merged_df_race_dict = dict(merged_df.groupby(['race_group']).groups)\n",
      "Testing weights for abd_exp_01:  36%|███▌      | 36/101 [00:13<00:24,  2.61it/s]<ipython-input-6-d61cf6b7d348>:36: FutureWarning: The default of observed=False is deprecated and will be changed to True in a future version of pandas. Pass observed=False to retain current behavior or observed=True to adopt the future default and silence this warning.\n",
      "  merged_df_race_dict = dict(merged_df.groupby(['race_group']).groups)\n",
      "Testing weights for abd_exp_01:  37%|███▋      | 37/101 [00:14<00:24,  2.61it/s]<ipython-input-6-d61cf6b7d348>:36: FutureWarning: The default of observed=False is deprecated and will be changed to True in a future version of pandas. Pass observed=False to retain current behavior or observed=True to adopt the future default and silence this warning.\n",
      "  merged_df_race_dict = dict(merged_df.groupby(['race_group']).groups)\n",
      "Testing weights for abd_exp_01:  38%|███▊      | 38/101 [00:14<00:24,  2.61it/s]<ipython-input-6-d61cf6b7d348>:36: FutureWarning: The default of observed=False is deprecated and will be changed to True in a future version of pandas. Pass observed=False to retain current behavior or observed=True to adopt the future default and silence this warning.\n",
      "  merged_df_race_dict = dict(merged_df.groupby(['race_group']).groups)\n",
      "Testing weights for abd_exp_01:  39%|███▊      | 39/101 [00:15<00:23,  2.61it/s]<ipython-input-6-d61cf6b7d348>:36: FutureWarning: The default of observed=False is deprecated and will be changed to True in a future version of pandas. Pass observed=False to retain current behavior or observed=True to adopt the future default and silence this warning.\n",
      "  merged_df_race_dict = dict(merged_df.groupby(['race_group']).groups)\n",
      "Testing weights for abd_exp_01:  40%|███▉      | 40/101 [00:15<00:23,  2.61it/s]<ipython-input-6-d61cf6b7d348>:36: FutureWarning: The default of observed=False is deprecated and will be changed to True in a future version of pandas. Pass observed=False to retain current behavior or observed=True to adopt the future default and silence this warning.\n",
      "  merged_df_race_dict = dict(merged_df.groupby(['race_group']).groups)\n",
      "Testing weights for abd_exp_01:  41%|████      | 41/101 [00:15<00:22,  2.61it/s]<ipython-input-6-d61cf6b7d348>:36: FutureWarning: The default of observed=False is deprecated and will be changed to True in a future version of pandas. Pass observed=False to retain current behavior or observed=True to adopt the future default and silence this warning.\n",
      "  merged_df_race_dict = dict(merged_df.groupby(['race_group']).groups)\n",
      "Testing weights for abd_exp_01:  42%|████▏     | 42/101 [00:16<00:22,  2.61it/s]<ipython-input-6-d61cf6b7d348>:36: FutureWarning: The default of observed=False is deprecated and will be changed to True in a future version of pandas. Pass observed=False to retain current behavior or observed=True to adopt the future default and silence this warning.\n",
      "  merged_df_race_dict = dict(merged_df.groupby(['race_group']).groups)\n",
      "Testing weights for abd_exp_01:  43%|████▎     | 43/101 [00:16<00:22,  2.61it/s]<ipython-input-6-d61cf6b7d348>:36: FutureWarning: The default of observed=False is deprecated and will be changed to True in a future version of pandas. Pass observed=False to retain current behavior or observed=True to adopt the future default and silence this warning.\n",
      "  merged_df_race_dict = dict(merged_df.groupby(['race_group']).groups)\n",
      "Testing weights for abd_exp_01:  44%|████▎     | 44/101 [00:16<00:21,  2.61it/s]<ipython-input-6-d61cf6b7d348>:36: FutureWarning: The default of observed=False is deprecated and will be changed to True in a future version of pandas. Pass observed=False to retain current behavior or observed=True to adopt the future default and silence this warning.\n",
      "  merged_df_race_dict = dict(merged_df.groupby(['race_group']).groups)\n",
      "Testing weights for abd_exp_01:  45%|████▍     | 45/101 [00:17<00:21,  2.61it/s]<ipython-input-6-d61cf6b7d348>:36: FutureWarning: The default of observed=False is deprecated and will be changed to True in a future version of pandas. Pass observed=False to retain current behavior or observed=True to adopt the future default and silence this warning.\n",
      "  merged_df_race_dict = dict(merged_df.groupby(['race_group']).groups)\n",
      "Testing weights for abd_exp_01:  46%|████▌     | 46/101 [00:17<00:21,  2.61it/s]<ipython-input-6-d61cf6b7d348>:36: FutureWarning: The default of observed=False is deprecated and will be changed to True in a future version of pandas. Pass observed=False to retain current behavior or observed=True to adopt the future default and silence this warning.\n",
      "  merged_df_race_dict = dict(merged_df.groupby(['race_group']).groups)\n",
      "Testing weights for abd_exp_01:  47%|████▋     | 47/101 [00:18<00:20,  2.60it/s]<ipython-input-6-d61cf6b7d348>:36: FutureWarning: The default of observed=False is deprecated and will be changed to True in a future version of pandas. Pass observed=False to retain current behavior or observed=True to adopt the future default and silence this warning.\n",
      "  merged_df_race_dict = dict(merged_df.groupby(['race_group']).groups)\n",
      "Testing weights for abd_exp_01:  48%|████▊     | 48/101 [00:18<00:20,  2.55it/s]<ipython-input-6-d61cf6b7d348>:36: FutureWarning: The default of observed=False is deprecated and will be changed to True in a future version of pandas. Pass observed=False to retain current behavior or observed=True to adopt the future default and silence this warning.\n",
      "  merged_df_race_dict = dict(merged_df.groupby(['race_group']).groups)\n",
      "Testing weights for abd_exp_01:  49%|████▊     | 49/101 [00:18<00:20,  2.57it/s]<ipython-input-6-d61cf6b7d348>:36: FutureWarning: The default of observed=False is deprecated and will be changed to True in a future version of pandas. Pass observed=False to retain current behavior or observed=True to adopt the future default and silence this warning.\n",
      "  merged_df_race_dict = dict(merged_df.groupby(['race_group']).groups)\n",
      "Testing weights for abd_exp_01:  50%|████▉     | 50/101 [00:19<00:19,  2.59it/s]<ipython-input-6-d61cf6b7d348>:36: FutureWarning: The default of observed=False is deprecated and will be changed to True in a future version of pandas. Pass observed=False to retain current behavior or observed=True to adopt the future default and silence this warning.\n",
      "  merged_df_race_dict = dict(merged_df.groupby(['race_group']).groups)\n",
      "Testing weights for abd_exp_01:  50%|█████     | 51/101 [00:19<00:19,  2.60it/s]<ipython-input-6-d61cf6b7d348>:36: FutureWarning: The default of observed=False is deprecated and will be changed to True in a future version of pandas. Pass observed=False to retain current behavior or observed=True to adopt the future default and silence this warning.\n",
      "  merged_df_race_dict = dict(merged_df.groupby(['race_group']).groups)\n",
      "Testing weights for abd_exp_01:  51%|█████▏    | 52/101 [00:20<00:18,  2.60it/s]<ipython-input-6-d61cf6b7d348>:36: FutureWarning: The default of observed=False is deprecated and will be changed to True in a future version of pandas. Pass observed=False to retain current behavior or observed=True to adopt the future default and silence this warning.\n",
      "  merged_df_race_dict = dict(merged_df.groupby(['race_group']).groups)\n",
      "Testing weights for abd_exp_01:  52%|█████▏    | 53/101 [00:20<00:18,  2.61it/s]<ipython-input-6-d61cf6b7d348>:36: FutureWarning: The default of observed=False is deprecated and will be changed to True in a future version of pandas. Pass observed=False to retain current behavior or observed=True to adopt the future default and silence this warning.\n",
      "  merged_df_race_dict = dict(merged_df.groupby(['race_group']).groups)\n",
      "Testing weights for abd_exp_01:  53%|█████▎    | 54/101 [00:20<00:17,  2.62it/s]<ipython-input-6-d61cf6b7d348>:36: FutureWarning: The default of observed=False is deprecated and will be changed to True in a future version of pandas. Pass observed=False to retain current behavior or observed=True to adopt the future default and silence this warning.\n",
      "  merged_df_race_dict = dict(merged_df.groupby(['race_group']).groups)\n",
      "Testing weights for abd_exp_01:  54%|█████▍    | 55/101 [00:21<00:17,  2.62it/s]<ipython-input-6-d61cf6b7d348>:36: FutureWarning: The default of observed=False is deprecated and will be changed to True in a future version of pandas. Pass observed=False to retain current behavior or observed=True to adopt the future default and silence this warning.\n",
      "  merged_df_race_dict = dict(merged_df.groupby(['race_group']).groups)\n",
      "Testing weights for abd_exp_01:  55%|█████▌    | 56/101 [00:21<00:17,  2.62it/s]<ipython-input-6-d61cf6b7d348>:36: FutureWarning: The default of observed=False is deprecated and will be changed to True in a future version of pandas. Pass observed=False to retain current behavior or observed=True to adopt the future default and silence this warning.\n",
      "  merged_df_race_dict = dict(merged_df.groupby(['race_group']).groups)\n",
      "Testing weights for abd_exp_01:  56%|█████▋    | 57/101 [00:21<00:16,  2.62it/s]<ipython-input-6-d61cf6b7d348>:36: FutureWarning: The default of observed=False is deprecated and will be changed to True in a future version of pandas. Pass observed=False to retain current behavior or observed=True to adopt the future default and silence this warning.\n",
      "  merged_df_race_dict = dict(merged_df.groupby(['race_group']).groups)\n",
      "Testing weights for abd_exp_01:  57%|█████▋    | 58/101 [00:22<00:16,  2.61it/s]<ipython-input-6-d61cf6b7d348>:36: FutureWarning: The default of observed=False is deprecated and will be changed to True in a future version of pandas. Pass observed=False to retain current behavior or observed=True to adopt the future default and silence this warning.\n",
      "  merged_df_race_dict = dict(merged_df.groupby(['race_group']).groups)\n",
      "Testing weights for abd_exp_01:  58%|█████▊    | 59/101 [00:22<00:16,  2.61it/s]<ipython-input-6-d61cf6b7d348>:36: FutureWarning: The default of observed=False is deprecated and will be changed to True in a future version of pandas. Pass observed=False to retain current behavior or observed=True to adopt the future default and silence this warning.\n",
      "  merged_df_race_dict = dict(merged_df.groupby(['race_group']).groups)\n",
      "Testing weights for abd_exp_01:  59%|█████▉    | 60/101 [00:23<00:15,  2.60it/s]<ipython-input-6-d61cf6b7d348>:36: FutureWarning: The default of observed=False is deprecated and will be changed to True in a future version of pandas. Pass observed=False to retain current behavior or observed=True to adopt the future default and silence this warning.\n",
      "  merged_df_race_dict = dict(merged_df.groupby(['race_group']).groups)\n",
      "Testing weights for abd_exp_01:  60%|██████    | 61/101 [00:23<00:15,  2.59it/s]<ipython-input-6-d61cf6b7d348>:36: FutureWarning: The default of observed=False is deprecated and will be changed to True in a future version of pandas. Pass observed=False to retain current behavior or observed=True to adopt the future default and silence this warning.\n",
      "  merged_df_race_dict = dict(merged_df.groupby(['race_group']).groups)\n",
      "Testing weights for abd_exp_01:  61%|██████▏   | 62/101 [00:23<00:15,  2.60it/s]<ipython-input-6-d61cf6b7d348>:36: FutureWarning: The default of observed=False is deprecated and will be changed to True in a future version of pandas. Pass observed=False to retain current behavior or observed=True to adopt the future default and silence this warning.\n",
      "  merged_df_race_dict = dict(merged_df.groupby(['race_group']).groups)\n",
      "Testing weights for abd_exp_01:  62%|██████▏   | 63/101 [00:24<00:14,  2.60it/s]<ipython-input-6-d61cf6b7d348>:36: FutureWarning: The default of observed=False is deprecated and will be changed to True in a future version of pandas. Pass observed=False to retain current behavior or observed=True to adopt the future default and silence this warning.\n",
      "  merged_df_race_dict = dict(merged_df.groupby(['race_group']).groups)\n",
      "Testing weights for abd_exp_01:  63%|██████▎   | 64/101 [00:24<00:14,  2.60it/s]<ipython-input-6-d61cf6b7d348>:36: FutureWarning: The default of observed=False is deprecated and will be changed to True in a future version of pandas. Pass observed=False to retain current behavior or observed=True to adopt the future default and silence this warning.\n",
      "  merged_df_race_dict = dict(merged_df.groupby(['race_group']).groups)\n",
      "Testing weights for abd_exp_01:  64%|██████▍   | 65/101 [00:25<00:13,  2.60it/s]<ipython-input-6-d61cf6b7d348>:36: FutureWarning: The default of observed=False is deprecated and will be changed to True in a future version of pandas. Pass observed=False to retain current behavior or observed=True to adopt the future default and silence this warning.\n",
      "  merged_df_race_dict = dict(merged_df.groupby(['race_group']).groups)\n",
      "Testing weights for abd_exp_01:  65%|██████▌   | 66/101 [00:25<00:13,  2.60it/s]<ipython-input-6-d61cf6b7d348>:36: FutureWarning: The default of observed=False is deprecated and will be changed to True in a future version of pandas. Pass observed=False to retain current behavior or observed=True to adopt the future default and silence this warning.\n",
      "  merged_df_race_dict = dict(merged_df.groupby(['race_group']).groups)\n",
      "Testing weights for abd_exp_01:  66%|██████▋   | 67/101 [00:25<00:13,  2.60it/s]<ipython-input-6-d61cf6b7d348>:36: FutureWarning: The default of observed=False is deprecated and will be changed to True in a future version of pandas. Pass observed=False to retain current behavior or observed=True to adopt the future default and silence this warning.\n",
      "  merged_df_race_dict = dict(merged_df.groupby(['race_group']).groups)\n",
      "Testing weights for abd_exp_01:  67%|██████▋   | 68/101 [00:26<00:12,  2.60it/s]<ipython-input-6-d61cf6b7d348>:36: FutureWarning: The default of observed=False is deprecated and will be changed to True in a future version of pandas. Pass observed=False to retain current behavior or observed=True to adopt the future default and silence this warning.\n",
      "  merged_df_race_dict = dict(merged_df.groupby(['race_group']).groups)\n",
      "Testing weights for abd_exp_01:  68%|██████▊   | 69/101 [00:26<00:12,  2.60it/s]<ipython-input-6-d61cf6b7d348>:36: FutureWarning: The default of observed=False is deprecated and will be changed to True in a future version of pandas. Pass observed=False to retain current behavior or observed=True to adopt the future default and silence this warning.\n",
      "  merged_df_race_dict = dict(merged_df.groupby(['race_group']).groups)\n",
      "Testing weights for abd_exp_01:  69%|██████▉   | 70/101 [00:26<00:11,  2.61it/s]<ipython-input-6-d61cf6b7d348>:36: FutureWarning: The default of observed=False is deprecated and will be changed to True in a future version of pandas. Pass observed=False to retain current behavior or observed=True to adopt the future default and silence this warning.\n",
      "  merged_df_race_dict = dict(merged_df.groupby(['race_group']).groups)\n",
      "Testing weights for abd_exp_01:  70%|███████   | 71/101 [00:27<00:11,  2.60it/s]<ipython-input-6-d61cf6b7d348>:36: FutureWarning: The default of observed=False is deprecated and will be changed to True in a future version of pandas. Pass observed=False to retain current behavior or observed=True to adopt the future default and silence this warning.\n",
      "  merged_df_race_dict = dict(merged_df.groupby(['race_group']).groups)\n",
      "Testing weights for abd_exp_01:  71%|███████▏  | 72/101 [00:27<00:11,  2.60it/s]<ipython-input-6-d61cf6b7d348>:36: FutureWarning: The default of observed=False is deprecated and will be changed to True in a future version of pandas. Pass observed=False to retain current behavior or observed=True to adopt the future default and silence this warning.\n",
      "  merged_df_race_dict = dict(merged_df.groupby(['race_group']).groups)\n",
      "Testing weights for abd_exp_01:  72%|███████▏  | 73/101 [00:28<00:10,  2.59it/s]<ipython-input-6-d61cf6b7d348>:36: FutureWarning: The default of observed=False is deprecated and will be changed to True in a future version of pandas. Pass observed=False to retain current behavior or observed=True to adopt the future default and silence this warning.\n",
      "  merged_df_race_dict = dict(merged_df.groupby(['race_group']).groups)\n",
      "Testing weights for abd_exp_01:  73%|███████▎  | 74/101 [00:28<00:10,  2.53it/s]<ipython-input-6-d61cf6b7d348>:36: FutureWarning: The default of observed=False is deprecated and will be changed to True in a future version of pandas. Pass observed=False to retain current behavior or observed=True to adopt the future default and silence this warning.\n",
      "  merged_df_race_dict = dict(merged_df.groupby(['race_group']).groups)\n",
      "Testing weights for abd_exp_01:  74%|███████▍  | 75/101 [00:28<00:10,  2.55it/s]<ipython-input-6-d61cf6b7d348>:36: FutureWarning: The default of observed=False is deprecated and will be changed to True in a future version of pandas. Pass observed=False to retain current behavior or observed=True to adopt the future default and silence this warning.\n",
      "  merged_df_race_dict = dict(merged_df.groupby(['race_group']).groups)\n",
      "Testing weights for abd_exp_01:  75%|███████▌  | 76/101 [00:29<00:09,  2.57it/s]<ipython-input-6-d61cf6b7d348>:36: FutureWarning: The default of observed=False is deprecated and will be changed to True in a future version of pandas. Pass observed=False to retain current behavior or observed=True to adopt the future default and silence this warning.\n",
      "  merged_df_race_dict = dict(merged_df.groupby(['race_group']).groups)\n",
      "Testing weights for abd_exp_01:  76%|███████▌  | 77/101 [00:29<00:09,  2.58it/s]<ipython-input-6-d61cf6b7d348>:36: FutureWarning: The default of observed=False is deprecated and will be changed to True in a future version of pandas. Pass observed=False to retain current behavior or observed=True to adopt the future default and silence this warning.\n",
      "  merged_df_race_dict = dict(merged_df.groupby(['race_group']).groups)\n",
      "Testing weights for abd_exp_01:  77%|███████▋  | 78/101 [00:30<00:08,  2.59it/s]<ipython-input-6-d61cf6b7d348>:36: FutureWarning: The default of observed=False is deprecated and will be changed to True in a future version of pandas. Pass observed=False to retain current behavior or observed=True to adopt the future default and silence this warning.\n",
      "  merged_df_race_dict = dict(merged_df.groupby(['race_group']).groups)\n",
      "Testing weights for abd_exp_01:  78%|███████▊  | 79/101 [00:30<00:08,  2.60it/s]<ipython-input-6-d61cf6b7d348>:36: FutureWarning: The default of observed=False is deprecated and will be changed to True in a future version of pandas. Pass observed=False to retain current behavior or observed=True to adopt the future default and silence this warning.\n",
      "  merged_df_race_dict = dict(merged_df.groupby(['race_group']).groups)\n",
      "Testing weights for abd_exp_01:  79%|███████▉  | 80/101 [00:30<00:08,  2.61it/s]<ipython-input-6-d61cf6b7d348>:36: FutureWarning: The default of observed=False is deprecated and will be changed to True in a future version of pandas. Pass observed=False to retain current behavior or observed=True to adopt the future default and silence this warning.\n",
      "  merged_df_race_dict = dict(merged_df.groupby(['race_group']).groups)\n",
      "Testing weights for abd_exp_01:  80%|████████  | 81/101 [00:31<00:07,  2.61it/s]<ipython-input-6-d61cf6b7d348>:36: FutureWarning: The default of observed=False is deprecated and will be changed to True in a future version of pandas. Pass observed=False to retain current behavior or observed=True to adopt the future default and silence this warning.\n",
      "  merged_df_race_dict = dict(merged_df.groupby(['race_group']).groups)\n",
      "Testing weights for abd_exp_01:  81%|████████  | 82/101 [00:31<00:07,  2.61it/s]<ipython-input-6-d61cf6b7d348>:36: FutureWarning: The default of observed=False is deprecated and will be changed to True in a future version of pandas. Pass observed=False to retain current behavior or observed=True to adopt the future default and silence this warning.\n",
      "  merged_df_race_dict = dict(merged_df.groupby(['race_group']).groups)\n",
      "Testing weights for abd_exp_01:  82%|████████▏ | 83/101 [00:31<00:06,  2.61it/s]<ipython-input-6-d61cf6b7d348>:36: FutureWarning: The default of observed=False is deprecated and will be changed to True in a future version of pandas. Pass observed=False to retain current behavior or observed=True to adopt the future default and silence this warning.\n",
      "  merged_df_race_dict = dict(merged_df.groupby(['race_group']).groups)\n",
      "Testing weights for abd_exp_01:  83%|████████▎ | 84/101 [00:32<00:06,  2.61it/s]<ipython-input-6-d61cf6b7d348>:36: FutureWarning: The default of observed=False is deprecated and will be changed to True in a future version of pandas. Pass observed=False to retain current behavior or observed=True to adopt the future default and silence this warning.\n",
      "  merged_df_race_dict = dict(merged_df.groupby(['race_group']).groups)\n",
      "Testing weights for abd_exp_01:  84%|████████▍ | 85/101 [00:32<00:06,  2.61it/s]<ipython-input-6-d61cf6b7d348>:36: FutureWarning: The default of observed=False is deprecated and will be changed to True in a future version of pandas. Pass observed=False to retain current behavior or observed=True to adopt the future default and silence this warning.\n",
      "  merged_df_race_dict = dict(merged_df.groupby(['race_group']).groups)\n",
      "Testing weights for abd_exp_01:  85%|████████▌ | 86/101 [00:33<00:05,  2.61it/s]<ipython-input-6-d61cf6b7d348>:36: FutureWarning: The default of observed=False is deprecated and will be changed to True in a future version of pandas. Pass observed=False to retain current behavior or observed=True to adopt the future default and silence this warning.\n",
      "  merged_df_race_dict = dict(merged_df.groupby(['race_group']).groups)\n",
      "Testing weights for abd_exp_01:  86%|████████▌ | 87/101 [00:33<00:05,  2.62it/s]<ipython-input-6-d61cf6b7d348>:36: FutureWarning: The default of observed=False is deprecated and will be changed to True in a future version of pandas. Pass observed=False to retain current behavior or observed=True to adopt the future default and silence this warning.\n",
      "  merged_df_race_dict = dict(merged_df.groupby(['race_group']).groups)\n",
      "Testing weights for abd_exp_01:  87%|████████▋ | 88/101 [00:33<00:04,  2.62it/s]<ipython-input-6-d61cf6b7d348>:36: FutureWarning: The default of observed=False is deprecated and will be changed to True in a future version of pandas. Pass observed=False to retain current behavior or observed=True to adopt the future default and silence this warning.\n",
      "  merged_df_race_dict = dict(merged_df.groupby(['race_group']).groups)\n",
      "Testing weights for abd_exp_01:  88%|████████▊ | 89/101 [00:34<00:04,  2.62it/s]<ipython-input-6-d61cf6b7d348>:36: FutureWarning: The default of observed=False is deprecated and will be changed to True in a future version of pandas. Pass observed=False to retain current behavior or observed=True to adopt the future default and silence this warning.\n",
      "  merged_df_race_dict = dict(merged_df.groupby(['race_group']).groups)\n",
      "Testing weights for abd_exp_01:  89%|████████▉ | 90/101 [00:34<00:04,  2.63it/s]<ipython-input-6-d61cf6b7d348>:36: FutureWarning: The default of observed=False is deprecated and will be changed to True in a future version of pandas. Pass observed=False to retain current behavior or observed=True to adopt the future default and silence this warning.\n",
      "  merged_df_race_dict = dict(merged_df.groupby(['race_group']).groups)\n",
      "Testing weights for abd_exp_01:  90%|█████████ | 91/101 [00:35<00:03,  2.62it/s]<ipython-input-6-d61cf6b7d348>:36: FutureWarning: The default of observed=False is deprecated and will be changed to True in a future version of pandas. Pass observed=False to retain current behavior or observed=True to adopt the future default and silence this warning.\n",
      "  merged_df_race_dict = dict(merged_df.groupby(['race_group']).groups)\n",
      "Testing weights for abd_exp_01:  91%|█████████ | 92/101 [00:35<00:03,  2.62it/s]<ipython-input-6-d61cf6b7d348>:36: FutureWarning: The default of observed=False is deprecated and will be changed to True in a future version of pandas. Pass observed=False to retain current behavior or observed=True to adopt the future default and silence this warning.\n",
      "  merged_df_race_dict = dict(merged_df.groupby(['race_group']).groups)\n",
      "Testing weights for abd_exp_01:  92%|█████████▏| 93/101 [00:35<00:03,  2.62it/s]<ipython-input-6-d61cf6b7d348>:36: FutureWarning: The default of observed=False is deprecated and will be changed to True in a future version of pandas. Pass observed=False to retain current behavior or observed=True to adopt the future default and silence this warning.\n",
      "  merged_df_race_dict = dict(merged_df.groupby(['race_group']).groups)\n",
      "Testing weights for abd_exp_01:  93%|█████████▎| 94/101 [00:36<00:02,  2.62it/s]<ipython-input-6-d61cf6b7d348>:36: FutureWarning: The default of observed=False is deprecated and will be changed to True in a future version of pandas. Pass observed=False to retain current behavior or observed=True to adopt the future default and silence this warning.\n",
      "  merged_df_race_dict = dict(merged_df.groupby(['race_group']).groups)\n",
      "Testing weights for abd_exp_01:  94%|█████████▍| 95/101 [00:36<00:02,  2.62it/s]<ipython-input-6-d61cf6b7d348>:36: FutureWarning: The default of observed=False is deprecated and will be changed to True in a future version of pandas. Pass observed=False to retain current behavior or observed=True to adopt the future default and silence this warning.\n",
      "  merged_df_race_dict = dict(merged_df.groupby(['race_group']).groups)\n",
      "Testing weights for abd_exp_01:  95%|█████████▌| 96/101 [00:36<00:01,  2.61it/s]<ipython-input-6-d61cf6b7d348>:36: FutureWarning: The default of observed=False is deprecated and will be changed to True in a future version of pandas. Pass observed=False to retain current behavior or observed=True to adopt the future default and silence this warning.\n",
      "  merged_df_race_dict = dict(merged_df.groupby(['race_group']).groups)\n",
      "Testing weights for abd_exp_01:  96%|█████████▌| 97/101 [00:37<00:01,  2.61it/s]<ipython-input-6-d61cf6b7d348>:36: FutureWarning: The default of observed=False is deprecated and will be changed to True in a future version of pandas. Pass observed=False to retain current behavior or observed=True to adopt the future default and silence this warning.\n",
      "  merged_df_race_dict = dict(merged_df.groupby(['race_group']).groups)\n",
      "Testing weights for abd_exp_01:  97%|█████████▋| 98/101 [00:37<00:01,  2.61it/s]<ipython-input-6-d61cf6b7d348>:36: FutureWarning: The default of observed=False is deprecated and will be changed to True in a future version of pandas. Pass observed=False to retain current behavior or observed=True to adopt the future default and silence this warning.\n",
      "  merged_df_race_dict = dict(merged_df.groupby(['race_group']).groups)\n",
      "Testing weights for abd_exp_01:  98%|█████████▊| 99/101 [00:38<00:00,  2.60it/s]<ipython-input-6-d61cf6b7d348>:36: FutureWarning: The default of observed=False is deprecated and will be changed to True in a future version of pandas. Pass observed=False to retain current behavior or observed=True to adopt the future default and silence this warning.\n",
      "  merged_df_race_dict = dict(merged_df.groupby(['race_group']).groups)\n",
      "Testing weights for abd_exp_01:  99%|█████████▉| 100/101 [00:38<00:00,  2.56it/s]<ipython-input-6-d61cf6b7d348>:36: FutureWarning: The default of observed=False is deprecated and will be changed to True in a future version of pandas. Pass observed=False to retain current behavior or observed=True to adopt the future default and silence this warning.\n",
      "  merged_df_race_dict = dict(merged_df.groupby(['race_group']).groups)\n",
      "Testing weights for abd_exp_01: 100%|██████████| 101/101 [00:38<00:00,  2.60it/s]\n"
     ]
    },
    {
     "name": "stdout",
     "output_type": "stream",
     "text": [
      "here -> /kaggle/input/catboost-exp-04\n"
     ]
    },
    {
     "name": "stderr",
     "output_type": "stream",
     "text": [
      "Testing weights for catboost_exp_04: 100%|██████████| 101/101 [00:38<00:00,  2.62it/s]\n"
     ]
    },
    {
     "name": "stdout",
     "output_type": "stream",
     "text": [
      "here -> /kaggle/input/lgbm-exp-04\n"
     ]
    },
    {
     "name": "stderr",
     "output_type": "stream",
     "text": [
      "Testing weights for lgbm_exp_04: 100%|██████████| 101/101 [00:38<00:00,  2.62it/s]\n"
     ]
    },
    {
     "name": "stdout",
     "output_type": "stream",
     "text": [
      "here -> /kaggle/input/ds-exp-01\n"
     ]
    },
    {
     "name": "stderr",
     "output_type": "stream",
     "text": [
      "Testing weights for ds_exp_01: 100%|██████████| 101/101 [00:38<00:00,  2.62it/s]\n"
     ]
    },
    {
     "name": "stdout",
     "output_type": "stream",
     "text": [
      "here -> /kaggle/input/nn-exp-02\n"
     ]
    },
    {
     "name": "stderr",
     "output_type": "stream",
     "text": [
      "Testing weights for nn_exp_02: 100%|██████████| 101/101 [00:38<00:00,  2.60it/s]\n"
     ]
    },
    {
     "name": "stdout",
     "output_type": "stream",
     "text": [
      "Iteration 4: Added /kaggle/input/ds-exp-01 with weight 0.0200, Score: 0.6850\n",
      "4th iteration\n",
      "here -> /kaggle/input/xgboost-exp-01\n"
     ]
    },
    {
     "name": "stderr",
     "output_type": "stream",
     "text": [
      "Testing weights for xgboost_exp_01: 100%|██████████| 101/101 [00:38<00:00,  2.61it/s]\n"
     ]
    },
    {
     "name": "stdout",
     "output_type": "stream",
     "text": [
      "here -> /kaggle/input/lgbm-exp-01\n"
     ]
    },
    {
     "name": "stderr",
     "output_type": "stream",
     "text": [
      "Testing weights for lgbm_exp_01: 100%|██████████| 101/101 [00:38<00:00,  2.62it/s]\n"
     ]
    },
    {
     "name": "stdout",
     "output_type": "stream",
     "text": [
      "here -> /kaggle/input/xgboost-exp-02\n"
     ]
    },
    {
     "name": "stderr",
     "output_type": "stream",
     "text": [
      "Testing weights for xgboost_exp_02: 100%|██████████| 101/101 [00:38<00:00,  2.61it/s]\n"
     ]
    },
    {
     "name": "stdout",
     "output_type": "stream",
     "text": [
      "here -> /kaggle/input/lgbm-exp-03\n"
     ]
    },
    {
     "name": "stderr",
     "output_type": "stream",
     "text": [
      "Testing weights for lgbm_exp_03: 100%|██████████| 101/101 [00:38<00:00,  2.63it/s]\n"
     ]
    },
    {
     "name": "stdout",
     "output_type": "stream",
     "text": [
      "here -> /kaggle/input/catboost-exp-03\n"
     ]
    },
    {
     "name": "stderr",
     "output_type": "stream",
     "text": [
      "Testing weights for catboost_exp_03: 100%|██████████| 101/101 [00:38<00:00,  2.62it/s]\n"
     ]
    },
    {
     "name": "stdout",
     "output_type": "stream",
     "text": [
      "here -> /kaggle/input/tabm-exp-01\n"
     ]
    },
    {
     "name": "stderr",
     "output_type": "stream",
     "text": [
      "Testing weights for tabm_exp_01: 100%|██████████| 101/101 [00:38<00:00,  2.60it/s]\n"
     ]
    },
    {
     "name": "stdout",
     "output_type": "stream",
     "text": [
      "here -> /kaggle/input/nn-exp-01\n"
     ]
    },
    {
     "name": "stderr",
     "output_type": "stream",
     "text": [
      "Testing weights for nn_exp_01: 100%|██████████| 101/101 [00:38<00:00,  2.62it/s]\n"
     ]
    },
    {
     "name": "stdout",
     "output_type": "stream",
     "text": [
      "here -> /kaggle/input/tn-exp-01\n"
     ]
    },
    {
     "name": "stderr",
     "output_type": "stream",
     "text": [
      "Testing weights for tn_exp_01: 100%|██████████| 101/101 [00:38<00:00,  2.62it/s]\n"
     ]
    },
    {
     "name": "stdout",
     "output_type": "stream",
     "text": [
      "here -> /kaggle/input/tf-exp-01\n"
     ]
    },
    {
     "name": "stderr",
     "output_type": "stream",
     "text": [
      "Testing weights for tf_exp_01: 100%|██████████| 101/101 [00:38<00:00,  2.61it/s]\n"
     ]
    },
    {
     "name": "stdout",
     "output_type": "stream",
     "text": [
      "here -> /kaggle/input/svr-exp-01\n"
     ]
    },
    {
     "name": "stderr",
     "output_type": "stream",
     "text": [
      "Testing weights for svr_exp_01: 100%|██████████| 101/101 [00:38<00:00,  2.61it/s]\n"
     ]
    },
    {
     "name": "stdout",
     "output_type": "stream",
     "text": [
      "here -> /kaggle/input/abd-exp-01\n"
     ]
    },
    {
     "name": "stderr",
     "output_type": "stream",
     "text": [
      "Testing weights for abd_exp_01:   0%|          | 0/101 [00:00<?, ?it/s]<ipython-input-6-d61cf6b7d348>:36: FutureWarning: The default of observed=False is deprecated and will be changed to True in a future version of pandas. Pass observed=False to retain current behavior or observed=True to adopt the future default and silence this warning.\n",
      "  merged_df_race_dict = dict(merged_df.groupby(['race_group']).groups)\n",
      "Testing weights for abd_exp_01:   1%|          | 1/101 [00:00<00:38,  2.60it/s]<ipython-input-6-d61cf6b7d348>:36: FutureWarning: The default of observed=False is deprecated and will be changed to True in a future version of pandas. Pass observed=False to retain current behavior or observed=True to adopt the future default and silence this warning.\n",
      "  merged_df_race_dict = dict(merged_df.groupby(['race_group']).groups)\n",
      "Testing weights for abd_exp_01:   2%|▏         | 2/101 [00:00<00:38,  2.60it/s]<ipython-input-6-d61cf6b7d348>:36: FutureWarning: The default of observed=False is deprecated and will be changed to True in a future version of pandas. Pass observed=False to retain current behavior or observed=True to adopt the future default and silence this warning.\n",
      "  merged_df_race_dict = dict(merged_df.groupby(['race_group']).groups)\n",
      "Testing weights for abd_exp_01:   3%|▎         | 3/101 [00:01<00:37,  2.60it/s]<ipython-input-6-d61cf6b7d348>:36: FutureWarning: The default of observed=False is deprecated and will be changed to True in a future version of pandas. Pass observed=False to retain current behavior or observed=True to adopt the future default and silence this warning.\n",
      "  merged_df_race_dict = dict(merged_df.groupby(['race_group']).groups)\n",
      "Testing weights for abd_exp_01:   4%|▍         | 4/101 [00:01<00:37,  2.60it/s]<ipython-input-6-d61cf6b7d348>:36: FutureWarning: The default of observed=False is deprecated and will be changed to True in a future version of pandas. Pass observed=False to retain current behavior or observed=True to adopt the future default and silence this warning.\n",
      "  merged_df_race_dict = dict(merged_df.groupby(['race_group']).groups)\n",
      "Testing weights for abd_exp_01:   5%|▍         | 5/101 [00:01<00:36,  2.60it/s]<ipython-input-6-d61cf6b7d348>:36: FutureWarning: The default of observed=False is deprecated and will be changed to True in a future version of pandas. Pass observed=False to retain current behavior or observed=True to adopt the future default and silence this warning.\n",
      "  merged_df_race_dict = dict(merged_df.groupby(['race_group']).groups)\n",
      "Testing weights for abd_exp_01:   6%|▌         | 6/101 [00:02<00:36,  2.60it/s]<ipython-input-6-d61cf6b7d348>:36: FutureWarning: The default of observed=False is deprecated and will be changed to True in a future version of pandas. Pass observed=False to retain current behavior or observed=True to adopt the future default and silence this warning.\n",
      "  merged_df_race_dict = dict(merged_df.groupby(['race_group']).groups)\n",
      "Testing weights for abd_exp_01:   7%|▋         | 7/101 [00:02<00:36,  2.60it/s]<ipython-input-6-d61cf6b7d348>:36: FutureWarning: The default of observed=False is deprecated and will be changed to True in a future version of pandas. Pass observed=False to retain current behavior or observed=True to adopt the future default and silence this warning.\n",
      "  merged_df_race_dict = dict(merged_df.groupby(['race_group']).groups)\n",
      "Testing weights for abd_exp_01:   8%|▊         | 8/101 [00:03<00:35,  2.60it/s]<ipython-input-6-d61cf6b7d348>:36: FutureWarning: The default of observed=False is deprecated and will be changed to True in a future version of pandas. Pass observed=False to retain current behavior or observed=True to adopt the future default and silence this warning.\n",
      "  merged_df_race_dict = dict(merged_df.groupby(['race_group']).groups)\n",
      "Testing weights for abd_exp_01:   9%|▉         | 9/101 [00:03<00:35,  2.60it/s]<ipython-input-6-d61cf6b7d348>:36: FutureWarning: The default of observed=False is deprecated and will be changed to True in a future version of pandas. Pass observed=False to retain current behavior or observed=True to adopt the future default and silence this warning.\n",
      "  merged_df_race_dict = dict(merged_df.groupby(['race_group']).groups)\n",
      "Testing weights for abd_exp_01:  10%|▉         | 10/101 [00:03<00:34,  2.61it/s]<ipython-input-6-d61cf6b7d348>:36: FutureWarning: The default of observed=False is deprecated and will be changed to True in a future version of pandas. Pass observed=False to retain current behavior or observed=True to adopt the future default and silence this warning.\n",
      "  merged_df_race_dict = dict(merged_df.groupby(['race_group']).groups)\n",
      "Testing weights for abd_exp_01:  11%|█         | 11/101 [00:04<00:34,  2.61it/s]<ipython-input-6-d61cf6b7d348>:36: FutureWarning: The default of observed=False is deprecated and will be changed to True in a future version of pandas. Pass observed=False to retain current behavior or observed=True to adopt the future default and silence this warning.\n",
      "  merged_df_race_dict = dict(merged_df.groupby(['race_group']).groups)\n",
      "Testing weights for abd_exp_01:  12%|█▏        | 12/101 [00:04<00:34,  2.61it/s]<ipython-input-6-d61cf6b7d348>:36: FutureWarning: The default of observed=False is deprecated and will be changed to True in a future version of pandas. Pass observed=False to retain current behavior or observed=True to adopt the future default and silence this warning.\n",
      "  merged_df_race_dict = dict(merged_df.groupby(['race_group']).groups)\n",
      "Testing weights for abd_exp_01:  13%|█▎        | 13/101 [00:04<00:33,  2.62it/s]<ipython-input-6-d61cf6b7d348>:36: FutureWarning: The default of observed=False is deprecated and will be changed to True in a future version of pandas. Pass observed=False to retain current behavior or observed=True to adopt the future default and silence this warning.\n",
      "  merged_df_race_dict = dict(merged_df.groupby(['race_group']).groups)\n",
      "Testing weights for abd_exp_01:  14%|█▍        | 14/101 [00:05<00:33,  2.61it/s]<ipython-input-6-d61cf6b7d348>:36: FutureWarning: The default of observed=False is deprecated and will be changed to True in a future version of pandas. Pass observed=False to retain current behavior or observed=True to adopt the future default and silence this warning.\n",
      "  merged_df_race_dict = dict(merged_df.groupby(['race_group']).groups)\n",
      "Testing weights for abd_exp_01:  15%|█▍        | 15/101 [00:05<00:33,  2.55it/s]<ipython-input-6-d61cf6b7d348>:36: FutureWarning: The default of observed=False is deprecated and will be changed to True in a future version of pandas. Pass observed=False to retain current behavior or observed=True to adopt the future default and silence this warning.\n",
      "  merged_df_race_dict = dict(merged_df.groupby(['race_group']).groups)\n",
      "Testing weights for abd_exp_01:  16%|█▌        | 16/101 [00:06<00:33,  2.57it/s]<ipython-input-6-d61cf6b7d348>:36: FutureWarning: The default of observed=False is deprecated and will be changed to True in a future version of pandas. Pass observed=False to retain current behavior or observed=True to adopt the future default and silence this warning.\n",
      "  merged_df_race_dict = dict(merged_df.groupby(['race_group']).groups)\n",
      "Testing weights for abd_exp_01:  17%|█▋        | 17/101 [00:06<00:32,  2.58it/s]<ipython-input-6-d61cf6b7d348>:36: FutureWarning: The default of observed=False is deprecated and will be changed to True in a future version of pandas. Pass observed=False to retain current behavior or observed=True to adopt the future default and silence this warning.\n",
      "  merged_df_race_dict = dict(merged_df.groupby(['race_group']).groups)\n",
      "Testing weights for abd_exp_01:  18%|█▊        | 18/101 [00:06<00:33,  2.50it/s]<ipython-input-6-d61cf6b7d348>:36: FutureWarning: The default of observed=False is deprecated and will be changed to True in a future version of pandas. Pass observed=False to retain current behavior or observed=True to adopt the future default and silence this warning.\n",
      "  merged_df_race_dict = dict(merged_df.groupby(['race_group']).groups)\n",
      "Testing weights for abd_exp_01:  19%|█▉        | 19/101 [00:07<00:32,  2.49it/s]<ipython-input-6-d61cf6b7d348>:36: FutureWarning: The default of observed=False is deprecated and will be changed to True in a future version of pandas. Pass observed=False to retain current behavior or observed=True to adopt the future default and silence this warning.\n",
      "  merged_df_race_dict = dict(merged_df.groupby(['race_group']).groups)\n",
      "Testing weights for abd_exp_01:  20%|█▉        | 20/101 [00:07<00:32,  2.52it/s]<ipython-input-6-d61cf6b7d348>:36: FutureWarning: The default of observed=False is deprecated and will be changed to True in a future version of pandas. Pass observed=False to retain current behavior or observed=True to adopt the future default and silence this warning.\n",
      "  merged_df_race_dict = dict(merged_df.groupby(['race_group']).groups)\n",
      "Testing weights for abd_exp_01:  21%|██        | 21/101 [00:08<00:31,  2.54it/s]<ipython-input-6-d61cf6b7d348>:36: FutureWarning: The default of observed=False is deprecated and will be changed to True in a future version of pandas. Pass observed=False to retain current behavior or observed=True to adopt the future default and silence this warning.\n",
      "  merged_df_race_dict = dict(merged_df.groupby(['race_group']).groups)\n",
      "Testing weights for abd_exp_01:  22%|██▏       | 22/101 [00:08<00:30,  2.55it/s]<ipython-input-6-d61cf6b7d348>:36: FutureWarning: The default of observed=False is deprecated and will be changed to True in a future version of pandas. Pass observed=False to retain current behavior or observed=True to adopt the future default and silence this warning.\n",
      "  merged_df_race_dict = dict(merged_df.groupby(['race_group']).groups)\n",
      "Testing weights for abd_exp_01:  23%|██▎       | 23/101 [00:08<00:30,  2.57it/s]<ipython-input-6-d61cf6b7d348>:36: FutureWarning: The default of observed=False is deprecated and will be changed to True in a future version of pandas. Pass observed=False to retain current behavior or observed=True to adopt the future default and silence this warning.\n",
      "  merged_df_race_dict = dict(merged_df.groupby(['race_group']).groups)\n",
      "Testing weights for abd_exp_01:  24%|██▍       | 24/101 [00:09<00:29,  2.58it/s]<ipython-input-6-d61cf6b7d348>:36: FutureWarning: The default of observed=False is deprecated and will be changed to True in a future version of pandas. Pass observed=False to retain current behavior or observed=True to adopt the future default and silence this warning.\n",
      "  merged_df_race_dict = dict(merged_df.groupby(['race_group']).groups)\n",
      "Testing weights for abd_exp_01:  25%|██▍       | 25/101 [00:09<00:29,  2.60it/s]<ipython-input-6-d61cf6b7d348>:36: FutureWarning: The default of observed=False is deprecated and will be changed to True in a future version of pandas. Pass observed=False to retain current behavior or observed=True to adopt the future default and silence this warning.\n",
      "  merged_df_race_dict = dict(merged_df.groupby(['race_group']).groups)\n",
      "Testing weights for abd_exp_01:  26%|██▌       | 26/101 [00:10<00:28,  2.61it/s]<ipython-input-6-d61cf6b7d348>:36: FutureWarning: The default of observed=False is deprecated and will be changed to True in a future version of pandas. Pass observed=False to retain current behavior or observed=True to adopt the future default and silence this warning.\n",
      "  merged_df_race_dict = dict(merged_df.groupby(['race_group']).groups)\n",
      "Testing weights for abd_exp_01:  27%|██▋       | 27/101 [00:10<00:28,  2.60it/s]<ipython-input-6-d61cf6b7d348>:36: FutureWarning: The default of observed=False is deprecated and will be changed to True in a future version of pandas. Pass observed=False to retain current behavior or observed=True to adopt the future default and silence this warning.\n",
      "  merged_df_race_dict = dict(merged_df.groupby(['race_group']).groups)\n",
      "Testing weights for abd_exp_01:  28%|██▊       | 28/101 [00:10<00:28,  2.60it/s]<ipython-input-6-d61cf6b7d348>:36: FutureWarning: The default of observed=False is deprecated and will be changed to True in a future version of pandas. Pass observed=False to retain current behavior or observed=True to adopt the future default and silence this warning.\n",
      "  merged_df_race_dict = dict(merged_df.groupby(['race_group']).groups)\n",
      "Testing weights for abd_exp_01:  29%|██▊       | 29/101 [00:11<00:28,  2.57it/s]<ipython-input-6-d61cf6b7d348>:36: FutureWarning: The default of observed=False is deprecated and will be changed to True in a future version of pandas. Pass observed=False to retain current behavior or observed=True to adopt the future default and silence this warning.\n",
      "  merged_df_race_dict = dict(merged_df.groupby(['race_group']).groups)\n",
      "Testing weights for abd_exp_01:  30%|██▉       | 30/101 [00:11<00:27,  2.58it/s]<ipython-input-6-d61cf6b7d348>:36: FutureWarning: The default of observed=False is deprecated and will be changed to True in a future version of pandas. Pass observed=False to retain current behavior or observed=True to adopt the future default and silence this warning.\n",
      "  merged_df_race_dict = dict(merged_df.groupby(['race_group']).groups)\n",
      "Testing weights for abd_exp_01:  31%|███       | 31/101 [00:12<00:26,  2.60it/s]<ipython-input-6-d61cf6b7d348>:36: FutureWarning: The default of observed=False is deprecated and will be changed to True in a future version of pandas. Pass observed=False to retain current behavior or observed=True to adopt the future default and silence this warning.\n",
      "  merged_df_race_dict = dict(merged_df.groupby(['race_group']).groups)\n",
      "Testing weights for abd_exp_01:  32%|███▏      | 32/101 [00:12<00:26,  2.60it/s]<ipython-input-6-d61cf6b7d348>:36: FutureWarning: The default of observed=False is deprecated and will be changed to True in a future version of pandas. Pass observed=False to retain current behavior or observed=True to adopt the future default and silence this warning.\n",
      "  merged_df_race_dict = dict(merged_df.groupby(['race_group']).groups)\n",
      "Testing weights for abd_exp_01:  33%|███▎      | 33/101 [00:12<00:26,  2.61it/s]<ipython-input-6-d61cf6b7d348>:36: FutureWarning: The default of observed=False is deprecated and will be changed to True in a future version of pandas. Pass observed=False to retain current behavior or observed=True to adopt the future default and silence this warning.\n",
      "  merged_df_race_dict = dict(merged_df.groupby(['race_group']).groups)\n",
      "Testing weights for abd_exp_01:  34%|███▎      | 34/101 [00:13<00:25,  2.61it/s]<ipython-input-6-d61cf6b7d348>:36: FutureWarning: The default of observed=False is deprecated and will be changed to True in a future version of pandas. Pass observed=False to retain current behavior or observed=True to adopt the future default and silence this warning.\n",
      "  merged_df_race_dict = dict(merged_df.groupby(['race_group']).groups)\n",
      "Testing weights for abd_exp_01:  35%|███▍      | 35/101 [00:13<00:25,  2.61it/s]<ipython-input-6-d61cf6b7d348>:36: FutureWarning: The default of observed=False is deprecated and will be changed to True in a future version of pandas. Pass observed=False to retain current behavior or observed=True to adopt the future default and silence this warning.\n",
      "  merged_df_race_dict = dict(merged_df.groupby(['race_group']).groups)\n",
      "Testing weights for abd_exp_01:  36%|███▌      | 36/101 [00:13<00:24,  2.62it/s]<ipython-input-6-d61cf6b7d348>:36: FutureWarning: The default of observed=False is deprecated and will be changed to True in a future version of pandas. Pass observed=False to retain current behavior or observed=True to adopt the future default and silence this warning.\n",
      "  merged_df_race_dict = dict(merged_df.groupby(['race_group']).groups)\n",
      "Testing weights for abd_exp_01:  37%|███▋      | 37/101 [00:14<00:24,  2.62it/s]<ipython-input-6-d61cf6b7d348>:36: FutureWarning: The default of observed=False is deprecated and will be changed to True in a future version of pandas. Pass observed=False to retain current behavior or observed=True to adopt the future default and silence this warning.\n",
      "  merged_df_race_dict = dict(merged_df.groupby(['race_group']).groups)\n",
      "Testing weights for abd_exp_01:  38%|███▊      | 38/101 [00:14<00:24,  2.61it/s]<ipython-input-6-d61cf6b7d348>:36: FutureWarning: The default of observed=False is deprecated and will be changed to True in a future version of pandas. Pass observed=False to retain current behavior or observed=True to adopt the future default and silence this warning.\n",
      "  merged_df_race_dict = dict(merged_df.groupby(['race_group']).groups)\n",
      "Testing weights for abd_exp_01:  39%|███▊      | 39/101 [00:15<00:23,  2.61it/s]<ipython-input-6-d61cf6b7d348>:36: FutureWarning: The default of observed=False is deprecated and will be changed to True in a future version of pandas. Pass observed=False to retain current behavior or observed=True to adopt the future default and silence this warning.\n",
      "  merged_df_race_dict = dict(merged_df.groupby(['race_group']).groups)\n",
      "Testing weights for abd_exp_01:  40%|███▉      | 40/101 [00:15<00:23,  2.60it/s]<ipython-input-6-d61cf6b7d348>:36: FutureWarning: The default of observed=False is deprecated and will be changed to True in a future version of pandas. Pass observed=False to retain current behavior or observed=True to adopt the future default and silence this warning.\n",
      "  merged_df_race_dict = dict(merged_df.groupby(['race_group']).groups)\n",
      "Testing weights for abd_exp_01:  41%|████      | 41/101 [00:15<00:23,  2.56it/s]<ipython-input-6-d61cf6b7d348>:36: FutureWarning: The default of observed=False is deprecated and will be changed to True in a future version of pandas. Pass observed=False to retain current behavior or observed=True to adopt the future default and silence this warning.\n",
      "  merged_df_race_dict = dict(merged_df.groupby(['race_group']).groups)\n",
      "Testing weights for abd_exp_01:  42%|████▏     | 42/101 [00:16<00:22,  2.57it/s]<ipython-input-6-d61cf6b7d348>:36: FutureWarning: The default of observed=False is deprecated and will be changed to True in a future version of pandas. Pass observed=False to retain current behavior or observed=True to adopt the future default and silence this warning.\n",
      "  merged_df_race_dict = dict(merged_df.groupby(['race_group']).groups)\n",
      "Testing weights for abd_exp_01:  43%|████▎     | 43/101 [00:16<00:22,  2.58it/s]<ipython-input-6-d61cf6b7d348>:36: FutureWarning: The default of observed=False is deprecated and will be changed to True in a future version of pandas. Pass observed=False to retain current behavior or observed=True to adopt the future default and silence this warning.\n",
      "  merged_df_race_dict = dict(merged_df.groupby(['race_group']).groups)\n",
      "Testing weights for abd_exp_01:  44%|████▎     | 44/101 [00:17<00:21,  2.59it/s]<ipython-input-6-d61cf6b7d348>:36: FutureWarning: The default of observed=False is deprecated and will be changed to True in a future version of pandas. Pass observed=False to retain current behavior or observed=True to adopt the future default and silence this warning.\n",
      "  merged_df_race_dict = dict(merged_df.groupby(['race_group']).groups)\n",
      "Testing weights for abd_exp_01:  45%|████▍     | 45/101 [00:17<00:21,  2.60it/s]<ipython-input-6-d61cf6b7d348>:36: FutureWarning: The default of observed=False is deprecated and will be changed to True in a future version of pandas. Pass observed=False to retain current behavior or observed=True to adopt the future default and silence this warning.\n",
      "  merged_df_race_dict = dict(merged_df.groupby(['race_group']).groups)\n",
      "Testing weights for abd_exp_01:  46%|████▌     | 46/101 [00:17<00:21,  2.60it/s]<ipython-input-6-d61cf6b7d348>:36: FutureWarning: The default of observed=False is deprecated and will be changed to True in a future version of pandas. Pass observed=False to retain current behavior or observed=True to adopt the future default and silence this warning.\n",
      "  merged_df_race_dict = dict(merged_df.groupby(['race_group']).groups)\n",
      "Testing weights for abd_exp_01:  47%|████▋     | 47/101 [00:18<00:20,  2.60it/s]<ipython-input-6-d61cf6b7d348>:36: FutureWarning: The default of observed=False is deprecated and will be changed to True in a future version of pandas. Pass observed=False to retain current behavior or observed=True to adopt the future default and silence this warning.\n",
      "  merged_df_race_dict = dict(merged_df.groupby(['race_group']).groups)\n",
      "Testing weights for abd_exp_01:  48%|████▊     | 48/101 [00:18<00:20,  2.60it/s]<ipython-input-6-d61cf6b7d348>:36: FutureWarning: The default of observed=False is deprecated and will be changed to True in a future version of pandas. Pass observed=False to retain current behavior or observed=True to adopt the future default and silence this warning.\n",
      "  merged_df_race_dict = dict(merged_df.groupby(['race_group']).groups)\n",
      "Testing weights for abd_exp_01:  49%|████▊     | 49/101 [00:18<00:19,  2.61it/s]<ipython-input-6-d61cf6b7d348>:36: FutureWarning: The default of observed=False is deprecated and will be changed to True in a future version of pandas. Pass observed=False to retain current behavior or observed=True to adopt the future default and silence this warning.\n",
      "  merged_df_race_dict = dict(merged_df.groupby(['race_group']).groups)\n",
      "Testing weights for abd_exp_01:  50%|████▉     | 50/101 [00:19<00:19,  2.60it/s]<ipython-input-6-d61cf6b7d348>:36: FutureWarning: The default of observed=False is deprecated and will be changed to True in a future version of pandas. Pass observed=False to retain current behavior or observed=True to adopt the future default and silence this warning.\n",
      "  merged_df_race_dict = dict(merged_df.groupby(['race_group']).groups)\n",
      "Testing weights for abd_exp_01:  50%|█████     | 51/101 [00:19<00:19,  2.61it/s]<ipython-input-6-d61cf6b7d348>:36: FutureWarning: The default of observed=False is deprecated and will be changed to True in a future version of pandas. Pass observed=False to retain current behavior or observed=True to adopt the future default and silence this warning.\n",
      "  merged_df_race_dict = dict(merged_df.groupby(['race_group']).groups)\n",
      "Testing weights for abd_exp_01:  51%|█████▏    | 52/101 [00:20<00:18,  2.61it/s]<ipython-input-6-d61cf6b7d348>:36: FutureWarning: The default of observed=False is deprecated and will be changed to True in a future version of pandas. Pass observed=False to retain current behavior or observed=True to adopt the future default and silence this warning.\n",
      "  merged_df_race_dict = dict(merged_df.groupby(['race_group']).groups)\n",
      "Testing weights for abd_exp_01:  52%|█████▏    | 53/101 [00:20<00:18,  2.60it/s]<ipython-input-6-d61cf6b7d348>:36: FutureWarning: The default of observed=False is deprecated and will be changed to True in a future version of pandas. Pass observed=False to retain current behavior or observed=True to adopt the future default and silence this warning.\n",
      "  merged_df_race_dict = dict(merged_df.groupby(['race_group']).groups)\n",
      "Testing weights for abd_exp_01:  53%|█████▎    | 54/101 [00:20<00:18,  2.60it/s]<ipython-input-6-d61cf6b7d348>:36: FutureWarning: The default of observed=False is deprecated and will be changed to True in a future version of pandas. Pass observed=False to retain current behavior or observed=True to adopt the future default and silence this warning.\n",
      "  merged_df_race_dict = dict(merged_df.groupby(['race_group']).groups)\n",
      "Testing weights for abd_exp_01:  54%|█████▍    | 55/101 [00:21<00:17,  2.61it/s]<ipython-input-6-d61cf6b7d348>:36: FutureWarning: The default of observed=False is deprecated and will be changed to True in a future version of pandas. Pass observed=False to retain current behavior or observed=True to adopt the future default and silence this warning.\n",
      "  merged_df_race_dict = dict(merged_df.groupby(['race_group']).groups)\n",
      "Testing weights for abd_exp_01:  55%|█████▌    | 56/101 [00:21<00:17,  2.61it/s]<ipython-input-6-d61cf6b7d348>:36: FutureWarning: The default of observed=False is deprecated and will be changed to True in a future version of pandas. Pass observed=False to retain current behavior or observed=True to adopt the future default and silence this warning.\n",
      "  merged_df_race_dict = dict(merged_df.groupby(['race_group']).groups)\n",
      "Testing weights for abd_exp_01:  56%|█████▋    | 57/101 [00:21<00:16,  2.61it/s]<ipython-input-6-d61cf6b7d348>:36: FutureWarning: The default of observed=False is deprecated and will be changed to True in a future version of pandas. Pass observed=False to retain current behavior or observed=True to adopt the future default and silence this warning.\n",
      "  merged_df_race_dict = dict(merged_df.groupby(['race_group']).groups)\n",
      "Testing weights for abd_exp_01:  57%|█████▋    | 58/101 [00:22<00:16,  2.61it/s]<ipython-input-6-d61cf6b7d348>:36: FutureWarning: The default of observed=False is deprecated and will be changed to True in a future version of pandas. Pass observed=False to retain current behavior or observed=True to adopt the future default and silence this warning.\n",
      "  merged_df_race_dict = dict(merged_df.groupby(['race_group']).groups)\n",
      "Testing weights for abd_exp_01:  58%|█████▊    | 59/101 [00:22<00:16,  2.61it/s]<ipython-input-6-d61cf6b7d348>:36: FutureWarning: The default of observed=False is deprecated and will be changed to True in a future version of pandas. Pass observed=False to retain current behavior or observed=True to adopt the future default and silence this warning.\n",
      "  merged_df_race_dict = dict(merged_df.groupby(['race_group']).groups)\n",
      "Testing weights for abd_exp_01:  59%|█████▉    | 60/101 [00:23<00:15,  2.61it/s]<ipython-input-6-d61cf6b7d348>:36: FutureWarning: The default of observed=False is deprecated and will be changed to True in a future version of pandas. Pass observed=False to retain current behavior or observed=True to adopt the future default and silence this warning.\n",
      "  merged_df_race_dict = dict(merged_df.groupby(['race_group']).groups)\n",
      "Testing weights for abd_exp_01:  60%|██████    | 61/101 [00:23<00:15,  2.60it/s]<ipython-input-6-d61cf6b7d348>:36: FutureWarning: The default of observed=False is deprecated and will be changed to True in a future version of pandas. Pass observed=False to retain current behavior or observed=True to adopt the future default and silence this warning.\n",
      "  merged_df_race_dict = dict(merged_df.groupby(['race_group']).groups)\n",
      "Testing weights for abd_exp_01:  61%|██████▏   | 62/101 [00:23<00:15,  2.59it/s]<ipython-input-6-d61cf6b7d348>:36: FutureWarning: The default of observed=False is deprecated and will be changed to True in a future version of pandas. Pass observed=False to retain current behavior or observed=True to adopt the future default and silence this warning.\n",
      "  merged_df_race_dict = dict(merged_df.groupby(['race_group']).groups)\n",
      "Testing weights for abd_exp_01:  62%|██████▏   | 63/101 [00:24<00:14,  2.58it/s]<ipython-input-6-d61cf6b7d348>:36: FutureWarning: The default of observed=False is deprecated and will be changed to True in a future version of pandas. Pass observed=False to retain current behavior or observed=True to adopt the future default and silence this warning.\n",
      "  merged_df_race_dict = dict(merged_df.groupby(['race_group']).groups)\n",
      "Testing weights for abd_exp_01:  63%|██████▎   | 64/101 [00:24<00:14,  2.59it/s]<ipython-input-6-d61cf6b7d348>:36: FutureWarning: The default of observed=False is deprecated and will be changed to True in a future version of pandas. Pass observed=False to retain current behavior or observed=True to adopt the future default and silence this warning.\n",
      "  merged_df_race_dict = dict(merged_df.groupby(['race_group']).groups)\n",
      "Testing weights for abd_exp_01:  64%|██████▍   | 65/101 [00:25<00:13,  2.60it/s]<ipython-input-6-d61cf6b7d348>:36: FutureWarning: The default of observed=False is deprecated and will be changed to True in a future version of pandas. Pass observed=False to retain current behavior or observed=True to adopt the future default and silence this warning.\n",
      "  merged_df_race_dict = dict(merged_df.groupby(['race_group']).groups)\n",
      "Testing weights for abd_exp_01:  65%|██████▌   | 66/101 [00:25<00:13,  2.59it/s]<ipython-input-6-d61cf6b7d348>:36: FutureWarning: The default of observed=False is deprecated and will be changed to True in a future version of pandas. Pass observed=False to retain current behavior or observed=True to adopt the future default and silence this warning.\n",
      "  merged_df_race_dict = dict(merged_df.groupby(['race_group']).groups)\n",
      "Testing weights for abd_exp_01:  66%|██████▋   | 67/101 [00:25<00:13,  2.55it/s]<ipython-input-6-d61cf6b7d348>:36: FutureWarning: The default of observed=False is deprecated and will be changed to True in a future version of pandas. Pass observed=False to retain current behavior or observed=True to adopt the future default and silence this warning.\n",
      "  merged_df_race_dict = dict(merged_df.groupby(['race_group']).groups)\n",
      "Testing weights for abd_exp_01:  67%|██████▋   | 68/101 [00:26<00:12,  2.57it/s]<ipython-input-6-d61cf6b7d348>:36: FutureWarning: The default of observed=False is deprecated and will be changed to True in a future version of pandas. Pass observed=False to retain current behavior or observed=True to adopt the future default and silence this warning.\n",
      "  merged_df_race_dict = dict(merged_df.groupby(['race_group']).groups)\n",
      "Testing weights for abd_exp_01:  68%|██████▊   | 69/101 [00:26<00:12,  2.58it/s]<ipython-input-6-d61cf6b7d348>:36: FutureWarning: The default of observed=False is deprecated and will be changed to True in a future version of pandas. Pass observed=False to retain current behavior or observed=True to adopt the future default and silence this warning.\n",
      "  merged_df_race_dict = dict(merged_df.groupby(['race_group']).groups)\n",
      "Testing weights for abd_exp_01:  69%|██████▉   | 70/101 [00:27<00:11,  2.59it/s]<ipython-input-6-d61cf6b7d348>:36: FutureWarning: The default of observed=False is deprecated and will be changed to True in a future version of pandas. Pass observed=False to retain current behavior or observed=True to adopt the future default and silence this warning.\n",
      "  merged_df_race_dict = dict(merged_df.groupby(['race_group']).groups)\n",
      "Testing weights for abd_exp_01:  70%|███████   | 71/101 [00:27<00:11,  2.59it/s]<ipython-input-6-d61cf6b7d348>:36: FutureWarning: The default of observed=False is deprecated and will be changed to True in a future version of pandas. Pass observed=False to retain current behavior or observed=True to adopt the future default and silence this warning.\n",
      "  merged_df_race_dict = dict(merged_df.groupby(['race_group']).groups)\n",
      "Testing weights for abd_exp_01:  71%|███████▏  | 72/101 [00:27<00:11,  2.60it/s]<ipython-input-6-d61cf6b7d348>:36: FutureWarning: The default of observed=False is deprecated and will be changed to True in a future version of pandas. Pass observed=False to retain current behavior or observed=True to adopt the future default and silence this warning.\n",
      "  merged_df_race_dict = dict(merged_df.groupby(['race_group']).groups)\n",
      "Testing weights for abd_exp_01:  72%|███████▏  | 73/101 [00:28<00:10,  2.61it/s]<ipython-input-6-d61cf6b7d348>:36: FutureWarning: The default of observed=False is deprecated and will be changed to True in a future version of pandas. Pass observed=False to retain current behavior or observed=True to adopt the future default and silence this warning.\n",
      "  merged_df_race_dict = dict(merged_df.groupby(['race_group']).groups)\n",
      "Testing weights for abd_exp_01:  73%|███████▎  | 74/101 [00:28<00:10,  2.61it/s]<ipython-input-6-d61cf6b7d348>:36: FutureWarning: The default of observed=False is deprecated and will be changed to True in a future version of pandas. Pass observed=False to retain current behavior or observed=True to adopt the future default and silence this warning.\n",
      "  merged_df_race_dict = dict(merged_df.groupby(['race_group']).groups)\n",
      "Testing weights for abd_exp_01:  74%|███████▍  | 75/101 [00:28<00:09,  2.61it/s]<ipython-input-6-d61cf6b7d348>:36: FutureWarning: The default of observed=False is deprecated and will be changed to True in a future version of pandas. Pass observed=False to retain current behavior or observed=True to adopt the future default and silence this warning.\n",
      "  merged_df_race_dict = dict(merged_df.groupby(['race_group']).groups)\n",
      "Testing weights for abd_exp_01:  75%|███████▌  | 76/101 [00:29<00:09,  2.61it/s]<ipython-input-6-d61cf6b7d348>:36: FutureWarning: The default of observed=False is deprecated and will be changed to True in a future version of pandas. Pass observed=False to retain current behavior or observed=True to adopt the future default and silence this warning.\n",
      "  merged_df_race_dict = dict(merged_df.groupby(['race_group']).groups)\n",
      "Testing weights for abd_exp_01:  76%|███████▌  | 77/101 [00:29<00:09,  2.61it/s]<ipython-input-6-d61cf6b7d348>:36: FutureWarning: The default of observed=False is deprecated and will be changed to True in a future version of pandas. Pass observed=False to retain current behavior or observed=True to adopt the future default and silence this warning.\n",
      "  merged_df_race_dict = dict(merged_df.groupby(['race_group']).groups)\n",
      "Testing weights for abd_exp_01:  77%|███████▋  | 78/101 [00:30<00:08,  2.62it/s]<ipython-input-6-d61cf6b7d348>:36: FutureWarning: The default of observed=False is deprecated and will be changed to True in a future version of pandas. Pass observed=False to retain current behavior or observed=True to adopt the future default and silence this warning.\n",
      "  merged_df_race_dict = dict(merged_df.groupby(['race_group']).groups)\n",
      "Testing weights for abd_exp_01:  78%|███████▊  | 79/101 [00:30<00:08,  2.61it/s]<ipython-input-6-d61cf6b7d348>:36: FutureWarning: The default of observed=False is deprecated and will be changed to True in a future version of pandas. Pass observed=False to retain current behavior or observed=True to adopt the future default and silence this warning.\n",
      "  merged_df_race_dict = dict(merged_df.groupby(['race_group']).groups)\n",
      "Testing weights for abd_exp_01:  79%|███████▉  | 80/101 [00:30<00:08,  2.62it/s]<ipython-input-6-d61cf6b7d348>:36: FutureWarning: The default of observed=False is deprecated and will be changed to True in a future version of pandas. Pass observed=False to retain current behavior or observed=True to adopt the future default and silence this warning.\n",
      "  merged_df_race_dict = dict(merged_df.groupby(['race_group']).groups)\n",
      "Testing weights for abd_exp_01:  80%|████████  | 81/101 [00:31<00:07,  2.62it/s]<ipython-input-6-d61cf6b7d348>:36: FutureWarning: The default of observed=False is deprecated and will be changed to True in a future version of pandas. Pass observed=False to retain current behavior or observed=True to adopt the future default and silence this warning.\n",
      "  merged_df_race_dict = dict(merged_df.groupby(['race_group']).groups)\n",
      "Testing weights for abd_exp_01:  81%|████████  | 82/101 [00:31<00:07,  2.61it/s]<ipython-input-6-d61cf6b7d348>:36: FutureWarning: The default of observed=False is deprecated and will be changed to True in a future version of pandas. Pass observed=False to retain current behavior or observed=True to adopt the future default and silence this warning.\n",
      "  merged_df_race_dict = dict(merged_df.groupby(['race_group']).groups)\n",
      "Testing weights for abd_exp_01:  82%|████████▏ | 83/101 [00:31<00:06,  2.61it/s]<ipython-input-6-d61cf6b7d348>:36: FutureWarning: The default of observed=False is deprecated and will be changed to True in a future version of pandas. Pass observed=False to retain current behavior or observed=True to adopt the future default and silence this warning.\n",
      "  merged_df_race_dict = dict(merged_df.groupby(['race_group']).groups)\n",
      "Testing weights for abd_exp_01:  83%|████████▎ | 84/101 [00:32<00:06,  2.61it/s]<ipython-input-6-d61cf6b7d348>:36: FutureWarning: The default of observed=False is deprecated and will be changed to True in a future version of pandas. Pass observed=False to retain current behavior or observed=True to adopt the future default and silence this warning.\n",
      "  merged_df_race_dict = dict(merged_df.groupby(['race_group']).groups)\n",
      "Testing weights for abd_exp_01:  84%|████████▍ | 85/101 [00:32<00:06,  2.61it/s]<ipython-input-6-d61cf6b7d348>:36: FutureWarning: The default of observed=False is deprecated and will be changed to True in a future version of pandas. Pass observed=False to retain current behavior or observed=True to adopt the future default and silence this warning.\n",
      "  merged_df_race_dict = dict(merged_df.groupby(['race_group']).groups)\n",
      "Testing weights for abd_exp_01:  85%|████████▌ | 86/101 [00:33<00:05,  2.61it/s]<ipython-input-6-d61cf6b7d348>:36: FutureWarning: The default of observed=False is deprecated and will be changed to True in a future version of pandas. Pass observed=False to retain current behavior or observed=True to adopt the future default and silence this warning.\n",
      "  merged_df_race_dict = dict(merged_df.groupby(['race_group']).groups)\n",
      "Testing weights for abd_exp_01:  86%|████████▌ | 87/101 [00:33<00:05,  2.61it/s]<ipython-input-6-d61cf6b7d348>:36: FutureWarning: The default of observed=False is deprecated and will be changed to True in a future version of pandas. Pass observed=False to retain current behavior or observed=True to adopt the future default and silence this warning.\n",
      "  merged_df_race_dict = dict(merged_df.groupby(['race_group']).groups)\n",
      "Testing weights for abd_exp_01:  87%|████████▋ | 88/101 [00:33<00:04,  2.61it/s]<ipython-input-6-d61cf6b7d348>:36: FutureWarning: The default of observed=False is deprecated and will be changed to True in a future version of pandas. Pass observed=False to retain current behavior or observed=True to adopt the future default and silence this warning.\n",
      "  merged_df_race_dict = dict(merged_df.groupby(['race_group']).groups)\n",
      "Testing weights for abd_exp_01:  88%|████████▊ | 89/101 [00:34<00:04,  2.61it/s]<ipython-input-6-d61cf6b7d348>:36: FutureWarning: The default of observed=False is deprecated and will be changed to True in a future version of pandas. Pass observed=False to retain current behavior or observed=True to adopt the future default and silence this warning.\n",
      "  merged_df_race_dict = dict(merged_df.groupby(['race_group']).groups)\n",
      "Testing weights for abd_exp_01:  89%|████████▉ | 90/101 [00:34<00:04,  2.60it/s]<ipython-input-6-d61cf6b7d348>:36: FutureWarning: The default of observed=False is deprecated and will be changed to True in a future version of pandas. Pass observed=False to retain current behavior or observed=True to adopt the future default and silence this warning.\n",
      "  merged_df_race_dict = dict(merged_df.groupby(['race_group']).groups)\n",
      "Testing weights for abd_exp_01:  90%|█████████ | 91/101 [00:35<00:03,  2.60it/s]<ipython-input-6-d61cf6b7d348>:36: FutureWarning: The default of observed=False is deprecated and will be changed to True in a future version of pandas. Pass observed=False to retain current behavior or observed=True to adopt the future default and silence this warning.\n",
      "  merged_df_race_dict = dict(merged_df.groupby(['race_group']).groups)\n",
      "Testing weights for abd_exp_01:  91%|█████████ | 92/101 [00:35<00:03,  2.59it/s]<ipython-input-6-d61cf6b7d348>:36: FutureWarning: The default of observed=False is deprecated and will be changed to True in a future version of pandas. Pass observed=False to retain current behavior or observed=True to adopt the future default and silence this warning.\n",
      "  merged_df_race_dict = dict(merged_df.groupby(['race_group']).groups)\n",
      "Testing weights for abd_exp_01:  92%|█████████▏| 93/101 [00:35<00:03,  2.56it/s]<ipython-input-6-d61cf6b7d348>:36: FutureWarning: The default of observed=False is deprecated and will be changed to True in a future version of pandas. Pass observed=False to retain current behavior or observed=True to adopt the future default and silence this warning.\n",
      "  merged_df_race_dict = dict(merged_df.groupby(['race_group']).groups)\n",
      "Testing weights for abd_exp_01:  93%|█████████▎| 94/101 [00:36<00:02,  2.57it/s]<ipython-input-6-d61cf6b7d348>:36: FutureWarning: The default of observed=False is deprecated and will be changed to True in a future version of pandas. Pass observed=False to retain current behavior or observed=True to adopt the future default and silence this warning.\n",
      "  merged_df_race_dict = dict(merged_df.groupby(['race_group']).groups)\n",
      "Testing weights for abd_exp_01:  94%|█████████▍| 95/101 [00:36<00:02,  2.58it/s]<ipython-input-6-d61cf6b7d348>:36: FutureWarning: The default of observed=False is deprecated and will be changed to True in a future version of pandas. Pass observed=False to retain current behavior or observed=True to adopt the future default and silence this warning.\n",
      "  merged_df_race_dict = dict(merged_df.groupby(['race_group']).groups)\n",
      "Testing weights for abd_exp_01:  95%|█████████▌| 96/101 [00:36<00:01,  2.59it/s]<ipython-input-6-d61cf6b7d348>:36: FutureWarning: The default of observed=False is deprecated and will be changed to True in a future version of pandas. Pass observed=False to retain current behavior or observed=True to adopt the future default and silence this warning.\n",
      "  merged_df_race_dict = dict(merged_df.groupby(['race_group']).groups)\n",
      "Testing weights for abd_exp_01:  96%|█████████▌| 97/101 [00:37<00:01,  2.60it/s]<ipython-input-6-d61cf6b7d348>:36: FutureWarning: The default of observed=False is deprecated and will be changed to True in a future version of pandas. Pass observed=False to retain current behavior or observed=True to adopt the future default and silence this warning.\n",
      "  merged_df_race_dict = dict(merged_df.groupby(['race_group']).groups)\n",
      "Testing weights for abd_exp_01:  97%|█████████▋| 98/101 [00:37<00:01,  2.60it/s]<ipython-input-6-d61cf6b7d348>:36: FutureWarning: The default of observed=False is deprecated and will be changed to True in a future version of pandas. Pass observed=False to retain current behavior or observed=True to adopt the future default and silence this warning.\n",
      "  merged_df_race_dict = dict(merged_df.groupby(['race_group']).groups)\n",
      "Testing weights for abd_exp_01:  98%|█████████▊| 99/101 [00:38<00:00,  2.61it/s]<ipython-input-6-d61cf6b7d348>:36: FutureWarning: The default of observed=False is deprecated and will be changed to True in a future version of pandas. Pass observed=False to retain current behavior or observed=True to adopt the future default and silence this warning.\n",
      "  merged_df_race_dict = dict(merged_df.groupby(['race_group']).groups)\n",
      "Testing weights for abd_exp_01:  99%|█████████▉| 100/101 [00:38<00:00,  2.53it/s]<ipython-input-6-d61cf6b7d348>:36: FutureWarning: The default of observed=False is deprecated and will be changed to True in a future version of pandas. Pass observed=False to retain current behavior or observed=True to adopt the future default and silence this warning.\n",
      "  merged_df_race_dict = dict(merged_df.groupby(['race_group']).groups)\n",
      "Testing weights for abd_exp_01: 100%|██████████| 101/101 [00:38<00:00,  2.59it/s]\n"
     ]
    },
    {
     "name": "stdout",
     "output_type": "stream",
     "text": [
      "here -> /kaggle/input/catboost-exp-04\n"
     ]
    },
    {
     "name": "stderr",
     "output_type": "stream",
     "text": [
      "Testing weights for catboost_exp_04: 100%|██████████| 101/101 [00:38<00:00,  2.61it/s]\n"
     ]
    },
    {
     "name": "stdout",
     "output_type": "stream",
     "text": [
      "here -> /kaggle/input/lgbm-exp-04\n"
     ]
    },
    {
     "name": "stderr",
     "output_type": "stream",
     "text": [
      "Testing weights for lgbm_exp_04: 100%|██████████| 101/101 [00:38<00:00,  2.61it/s]\n"
     ]
    },
    {
     "name": "stdout",
     "output_type": "stream",
     "text": [
      "here -> /kaggle/input/nn-exp-02\n"
     ]
    },
    {
     "name": "stderr",
     "output_type": "stream",
     "text": [
      "Testing weights for nn_exp_02: 100%|██████████| 101/101 [00:38<00:00,  2.61it/s]\n"
     ]
    },
    {
     "name": "stdout",
     "output_type": "stream",
     "text": [
      "Iteration 5: Added /kaggle/input/nn-exp-02 with weight -0.0500, Score: 0.6850\n",
      "5th iteration\n",
      "here -> /kaggle/input/xgboost-exp-01\n"
     ]
    },
    {
     "name": "stderr",
     "output_type": "stream",
     "text": [
      "Testing weights for xgboost_exp_01: 100%|██████████| 101/101 [00:38<00:00,  2.61it/s]\n"
     ]
    },
    {
     "name": "stdout",
     "output_type": "stream",
     "text": [
      "here -> /kaggle/input/lgbm-exp-01\n"
     ]
    },
    {
     "name": "stderr",
     "output_type": "stream",
     "text": [
      "Testing weights for lgbm_exp_01: 100%|██████████| 101/101 [00:38<00:00,  2.61it/s]\n"
     ]
    },
    {
     "name": "stdout",
     "output_type": "stream",
     "text": [
      "here -> /kaggle/input/xgboost-exp-02\n"
     ]
    },
    {
     "name": "stderr",
     "output_type": "stream",
     "text": [
      "Testing weights for xgboost_exp_02: 100%|██████████| 101/101 [00:38<00:00,  2.62it/s]\n"
     ]
    },
    {
     "name": "stdout",
     "output_type": "stream",
     "text": [
      "here -> /kaggle/input/lgbm-exp-03\n"
     ]
    },
    {
     "name": "stderr",
     "output_type": "stream",
     "text": [
      "Testing weights for lgbm_exp_03: 100%|██████████| 101/101 [00:38<00:00,  2.63it/s]\n"
     ]
    },
    {
     "name": "stdout",
     "output_type": "stream",
     "text": [
      "here -> /kaggle/input/catboost-exp-03\n"
     ]
    },
    {
     "name": "stderr",
     "output_type": "stream",
     "text": [
      "Testing weights for catboost_exp_03: 100%|██████████| 101/101 [00:38<00:00,  2.61it/s]\n"
     ]
    },
    {
     "name": "stdout",
     "output_type": "stream",
     "text": [
      "here -> /kaggle/input/tabm-exp-01\n"
     ]
    },
    {
     "name": "stderr",
     "output_type": "stream",
     "text": [
      "Testing weights for tabm_exp_01: 100%|██████████| 101/101 [00:39<00:00,  2.58it/s]\n"
     ]
    },
    {
     "name": "stdout",
     "output_type": "stream",
     "text": [
      "here -> /kaggle/input/nn-exp-01\n"
     ]
    },
    {
     "name": "stderr",
     "output_type": "stream",
     "text": [
      "Testing weights for nn_exp_01: 100%|██████████| 101/101 [00:38<00:00,  2.61it/s]\n"
     ]
    },
    {
     "name": "stdout",
     "output_type": "stream",
     "text": [
      "here -> /kaggle/input/tn-exp-01\n"
     ]
    },
    {
     "name": "stderr",
     "output_type": "stream",
     "text": [
      "Testing weights for tn_exp_01: 100%|██████████| 101/101 [00:38<00:00,  2.62it/s]\n"
     ]
    },
    {
     "name": "stdout",
     "output_type": "stream",
     "text": [
      "here -> /kaggle/input/tf-exp-01\n"
     ]
    },
    {
     "name": "stderr",
     "output_type": "stream",
     "text": [
      "Testing weights for tf_exp_01: 100%|██████████| 101/101 [00:38<00:00,  2.62it/s]\n"
     ]
    },
    {
     "name": "stdout",
     "output_type": "stream",
     "text": [
      "here -> /kaggle/input/svr-exp-01\n"
     ]
    },
    {
     "name": "stderr",
     "output_type": "stream",
     "text": [
      "Testing weights for svr_exp_01: 100%|██████████| 101/101 [00:38<00:00,  2.62it/s]\n"
     ]
    },
    {
     "name": "stdout",
     "output_type": "stream",
     "text": [
      "here -> /kaggle/input/abd-exp-01\n"
     ]
    },
    {
     "name": "stderr",
     "output_type": "stream",
     "text": [
      "Testing weights for abd_exp_01:   0%|          | 0/101 [00:00<?, ?it/s]<ipython-input-6-d61cf6b7d348>:36: FutureWarning: The default of observed=False is deprecated and will be changed to True in a future version of pandas. Pass observed=False to retain current behavior or observed=True to adopt the future default and silence this warning.\n",
      "  merged_df_race_dict = dict(merged_df.groupby(['race_group']).groups)\n",
      "Testing weights for abd_exp_01:   1%|          | 1/101 [00:00<00:41,  2.41it/s]<ipython-input-6-d61cf6b7d348>:36: FutureWarning: The default of observed=False is deprecated and will be changed to True in a future version of pandas. Pass observed=False to retain current behavior or observed=True to adopt the future default and silence this warning.\n",
      "  merged_df_race_dict = dict(merged_df.groupby(['race_group']).groups)\n",
      "Testing weights for abd_exp_01:   2%|▏         | 2/101 [00:00<00:38,  2.54it/s]<ipython-input-6-d61cf6b7d348>:36: FutureWarning: The default of observed=False is deprecated and will be changed to True in a future version of pandas. Pass observed=False to retain current behavior or observed=True to adopt the future default and silence this warning.\n",
      "  merged_df_race_dict = dict(merged_df.groupby(['race_group']).groups)\n",
      "Testing weights for abd_exp_01:   3%|▎         | 3/101 [00:01<00:38,  2.56it/s]<ipython-input-6-d61cf6b7d348>:36: FutureWarning: The default of observed=False is deprecated and will be changed to True in a future version of pandas. Pass observed=False to retain current behavior or observed=True to adopt the future default and silence this warning.\n",
      "  merged_df_race_dict = dict(merged_df.groupby(['race_group']).groups)\n",
      "Testing weights for abd_exp_01:   4%|▍         | 4/101 [00:01<00:37,  2.58it/s]<ipython-input-6-d61cf6b7d348>:36: FutureWarning: The default of observed=False is deprecated and will be changed to True in a future version of pandas. Pass observed=False to retain current behavior or observed=True to adopt the future default and silence this warning.\n",
      "  merged_df_race_dict = dict(merged_df.groupby(['race_group']).groups)\n",
      "Testing weights for abd_exp_01:   5%|▍         | 5/101 [00:01<00:36,  2.60it/s]<ipython-input-6-d61cf6b7d348>:36: FutureWarning: The default of observed=False is deprecated and will be changed to True in a future version of pandas. Pass observed=False to retain current behavior or observed=True to adopt the future default and silence this warning.\n",
      "  merged_df_race_dict = dict(merged_df.groupby(['race_group']).groups)\n",
      "Testing weights for abd_exp_01:   6%|▌         | 6/101 [00:02<00:36,  2.60it/s]<ipython-input-6-d61cf6b7d348>:36: FutureWarning: The default of observed=False is deprecated and will be changed to True in a future version of pandas. Pass observed=False to retain current behavior or observed=True to adopt the future default and silence this warning.\n",
      "  merged_df_race_dict = dict(merged_df.groupby(['race_group']).groups)\n",
      "Testing weights for abd_exp_01:   7%|▋         | 7/101 [00:02<00:35,  2.62it/s]<ipython-input-6-d61cf6b7d348>:36: FutureWarning: The default of observed=False is deprecated and will be changed to True in a future version of pandas. Pass observed=False to retain current behavior or observed=True to adopt the future default and silence this warning.\n",
      "  merged_df_race_dict = dict(merged_df.groupby(['race_group']).groups)\n",
      "Testing weights for abd_exp_01:   8%|▊         | 8/101 [00:03<00:35,  2.61it/s]<ipython-input-6-d61cf6b7d348>:36: FutureWarning: The default of observed=False is deprecated and will be changed to True in a future version of pandas. Pass observed=False to retain current behavior or observed=True to adopt the future default and silence this warning.\n",
      "  merged_df_race_dict = dict(merged_df.groupby(['race_group']).groups)\n",
      "Testing weights for abd_exp_01:   9%|▉         | 9/101 [00:03<00:35,  2.62it/s]<ipython-input-6-d61cf6b7d348>:36: FutureWarning: The default of observed=False is deprecated and will be changed to True in a future version of pandas. Pass observed=False to retain current behavior or observed=True to adopt the future default and silence this warning.\n",
      "  merged_df_race_dict = dict(merged_df.groupby(['race_group']).groups)\n",
      "Testing weights for abd_exp_01:  10%|▉         | 10/101 [00:03<00:34,  2.62it/s]<ipython-input-6-d61cf6b7d348>:36: FutureWarning: The default of observed=False is deprecated and will be changed to True in a future version of pandas. Pass observed=False to retain current behavior or observed=True to adopt the future default and silence this warning.\n",
      "  merged_df_race_dict = dict(merged_df.groupby(['race_group']).groups)\n",
      "Testing weights for abd_exp_01:  11%|█         | 11/101 [00:04<00:34,  2.61it/s]<ipython-input-6-d61cf6b7d348>:36: FutureWarning: The default of observed=False is deprecated and will be changed to True in a future version of pandas. Pass observed=False to retain current behavior or observed=True to adopt the future default and silence this warning.\n",
      "  merged_df_race_dict = dict(merged_df.groupby(['race_group']).groups)\n",
      "Testing weights for abd_exp_01:  12%|█▏        | 12/101 [00:04<00:34,  2.61it/s]<ipython-input-6-d61cf6b7d348>:36: FutureWarning: The default of observed=False is deprecated and will be changed to True in a future version of pandas. Pass observed=False to retain current behavior or observed=True to adopt the future default and silence this warning.\n",
      "  merged_df_race_dict = dict(merged_df.groupby(['race_group']).groups)\n",
      "Testing weights for abd_exp_01:  13%|█▎        | 13/101 [00:04<00:33,  2.62it/s]<ipython-input-6-d61cf6b7d348>:36: FutureWarning: The default of observed=False is deprecated and will be changed to True in a future version of pandas. Pass observed=False to retain current behavior or observed=True to adopt the future default and silence this warning.\n",
      "  merged_df_race_dict = dict(merged_df.groupby(['race_group']).groups)\n",
      "Testing weights for abd_exp_01:  14%|█▍        | 14/101 [00:05<00:33,  2.61it/s]<ipython-input-6-d61cf6b7d348>:36: FutureWarning: The default of observed=False is deprecated and will be changed to True in a future version of pandas. Pass observed=False to retain current behavior or observed=True to adopt the future default and silence this warning.\n",
      "  merged_df_race_dict = dict(merged_df.groupby(['race_group']).groups)\n",
      "Testing weights for abd_exp_01:  15%|█▍        | 15/101 [00:05<00:32,  2.62it/s]<ipython-input-6-d61cf6b7d348>:36: FutureWarning: The default of observed=False is deprecated and will be changed to True in a future version of pandas. Pass observed=False to retain current behavior or observed=True to adopt the future default and silence this warning.\n",
      "  merged_df_race_dict = dict(merged_df.groupby(['race_group']).groups)\n",
      "Testing weights for abd_exp_01:  16%|█▌        | 16/101 [00:06<00:32,  2.61it/s]<ipython-input-6-d61cf6b7d348>:36: FutureWarning: The default of observed=False is deprecated and will be changed to True in a future version of pandas. Pass observed=False to retain current behavior or observed=True to adopt the future default and silence this warning.\n",
      "  merged_df_race_dict = dict(merged_df.groupby(['race_group']).groups)\n",
      "Testing weights for abd_exp_01:  17%|█▋        | 17/101 [00:06<00:32,  2.61it/s]<ipython-input-6-d61cf6b7d348>:36: FutureWarning: The default of observed=False is deprecated and will be changed to True in a future version of pandas. Pass observed=False to retain current behavior or observed=True to adopt the future default and silence this warning.\n",
      "  merged_df_race_dict = dict(merged_df.groupby(['race_group']).groups)\n",
      "Testing weights for abd_exp_01:  18%|█▊        | 18/101 [00:06<00:31,  2.61it/s]<ipython-input-6-d61cf6b7d348>:36: FutureWarning: The default of observed=False is deprecated and will be changed to True in a future version of pandas. Pass observed=False to retain current behavior or observed=True to adopt the future default and silence this warning.\n",
      "  merged_df_race_dict = dict(merged_df.groupby(['race_group']).groups)\n",
      "Testing weights for abd_exp_01:  19%|█▉        | 19/101 [00:07<00:31,  2.61it/s]<ipython-input-6-d61cf6b7d348>:36: FutureWarning: The default of observed=False is deprecated and will be changed to True in a future version of pandas. Pass observed=False to retain current behavior or observed=True to adopt the future default and silence this warning.\n",
      "  merged_df_race_dict = dict(merged_df.groupby(['race_group']).groups)\n",
      "Testing weights for abd_exp_01:  20%|█▉        | 20/101 [00:07<00:30,  2.62it/s]<ipython-input-6-d61cf6b7d348>:36: FutureWarning: The default of observed=False is deprecated and will be changed to True in a future version of pandas. Pass observed=False to retain current behavior or observed=True to adopt the future default and silence this warning.\n",
      "  merged_df_race_dict = dict(merged_df.groupby(['race_group']).groups)\n",
      "Testing weights for abd_exp_01:  21%|██        | 21/101 [00:08<00:30,  2.62it/s]<ipython-input-6-d61cf6b7d348>:36: FutureWarning: The default of observed=False is deprecated and will be changed to True in a future version of pandas. Pass observed=False to retain current behavior or observed=True to adopt the future default and silence this warning.\n",
      "  merged_df_race_dict = dict(merged_df.groupby(['race_group']).groups)\n",
      "Testing weights for abd_exp_01:  22%|██▏       | 22/101 [00:08<00:30,  2.62it/s]<ipython-input-6-d61cf6b7d348>:36: FutureWarning: The default of observed=False is deprecated and will be changed to True in a future version of pandas. Pass observed=False to retain current behavior or observed=True to adopt the future default and silence this warning.\n",
      "  merged_df_race_dict = dict(merged_df.groupby(['race_group']).groups)\n",
      "Testing weights for abd_exp_01:  23%|██▎       | 23/101 [00:08<00:29,  2.62it/s]<ipython-input-6-d61cf6b7d348>:36: FutureWarning: The default of observed=False is deprecated and will be changed to True in a future version of pandas. Pass observed=False to retain current behavior or observed=True to adopt the future default and silence this warning.\n",
      "  merged_df_race_dict = dict(merged_df.groupby(['race_group']).groups)\n",
      "Testing weights for abd_exp_01:  24%|██▍       | 24/101 [00:09<00:29,  2.61it/s]<ipython-input-6-d61cf6b7d348>:36: FutureWarning: The default of observed=False is deprecated and will be changed to True in a future version of pandas. Pass observed=False to retain current behavior or observed=True to adopt the future default and silence this warning.\n",
      "  merged_df_race_dict = dict(merged_df.groupby(['race_group']).groups)\n",
      "Testing weights for abd_exp_01:  25%|██▍       | 25/101 [00:09<00:29,  2.61it/s]<ipython-input-6-d61cf6b7d348>:36: FutureWarning: The default of observed=False is deprecated and will be changed to True in a future version of pandas. Pass observed=False to retain current behavior or observed=True to adopt the future default and silence this warning.\n",
      "  merged_df_race_dict = dict(merged_df.groupby(['race_group']).groups)\n",
      "Testing weights for abd_exp_01:  26%|██▌       | 26/101 [00:09<00:28,  2.62it/s]<ipython-input-6-d61cf6b7d348>:36: FutureWarning: The default of observed=False is deprecated and will be changed to True in a future version of pandas. Pass observed=False to retain current behavior or observed=True to adopt the future default and silence this warning.\n",
      "  merged_df_race_dict = dict(merged_df.groupby(['race_group']).groups)\n",
      "Testing weights for abd_exp_01:  27%|██▋       | 27/101 [00:10<00:28,  2.57it/s]<ipython-input-6-d61cf6b7d348>:36: FutureWarning: The default of observed=False is deprecated and will be changed to True in a future version of pandas. Pass observed=False to retain current behavior or observed=True to adopt the future default and silence this warning.\n",
      "  merged_df_race_dict = dict(merged_df.groupby(['race_group']).groups)\n",
      "Testing weights for abd_exp_01:  28%|██▊       | 28/101 [00:10<00:28,  2.58it/s]<ipython-input-6-d61cf6b7d348>:36: FutureWarning: The default of observed=False is deprecated and will be changed to True in a future version of pandas. Pass observed=False to retain current behavior or observed=True to adopt the future default and silence this warning.\n",
      "  merged_df_race_dict = dict(merged_df.groupby(['race_group']).groups)\n",
      "Testing weights for abd_exp_01:  29%|██▊       | 29/101 [00:11<00:28,  2.51it/s]<ipython-input-6-d61cf6b7d348>:36: FutureWarning: The default of observed=False is deprecated and will be changed to True in a future version of pandas. Pass observed=False to retain current behavior or observed=True to adopt the future default and silence this warning.\n",
      "  merged_df_race_dict = dict(merged_df.groupby(['race_group']).groups)\n",
      "Testing weights for abd_exp_01:  30%|██▉       | 30/101 [00:11<00:28,  2.50it/s]<ipython-input-6-d61cf6b7d348>:36: FutureWarning: The default of observed=False is deprecated and will be changed to True in a future version of pandas. Pass observed=False to retain current behavior or observed=True to adopt the future default and silence this warning.\n",
      "  merged_df_race_dict = dict(merged_df.groupby(['race_group']).groups)\n",
      "Testing weights for abd_exp_01:  31%|███       | 31/101 [00:11<00:27,  2.53it/s]<ipython-input-6-d61cf6b7d348>:36: FutureWarning: The default of observed=False is deprecated and will be changed to True in a future version of pandas. Pass observed=False to retain current behavior or observed=True to adopt the future default and silence this warning.\n",
      "  merged_df_race_dict = dict(merged_df.groupby(['race_group']).groups)\n",
      "Testing weights for abd_exp_01:  32%|███▏      | 32/101 [00:12<00:27,  2.53it/s]<ipython-input-6-d61cf6b7d348>:36: FutureWarning: The default of observed=False is deprecated and will be changed to True in a future version of pandas. Pass observed=False to retain current behavior or observed=True to adopt the future default and silence this warning.\n",
      "  merged_df_race_dict = dict(merged_df.groupby(['race_group']).groups)\n",
      "Testing weights for abd_exp_01:  33%|███▎      | 33/101 [00:12<00:26,  2.55it/s]<ipython-input-6-d61cf6b7d348>:36: FutureWarning: The default of observed=False is deprecated and will be changed to True in a future version of pandas. Pass observed=False to retain current behavior or observed=True to adopt the future default and silence this warning.\n",
      "  merged_df_race_dict = dict(merged_df.groupby(['race_group']).groups)\n",
      "Testing weights for abd_exp_01:  34%|███▎      | 34/101 [00:13<00:26,  2.56it/s]<ipython-input-6-d61cf6b7d348>:36: FutureWarning: The default of observed=False is deprecated and will be changed to True in a future version of pandas. Pass observed=False to retain current behavior or observed=True to adopt the future default and silence this warning.\n",
      "  merged_df_race_dict = dict(merged_df.groupby(['race_group']).groups)\n",
      "Testing weights for abd_exp_01:  35%|███▍      | 35/101 [00:13<00:25,  2.57it/s]<ipython-input-6-d61cf6b7d348>:36: FutureWarning: The default of observed=False is deprecated and will be changed to True in a future version of pandas. Pass observed=False to retain current behavior or observed=True to adopt the future default and silence this warning.\n",
      "  merged_df_race_dict = dict(merged_df.groupby(['race_group']).groups)\n",
      "Testing weights for abd_exp_01:  36%|███▌      | 36/101 [00:13<00:25,  2.59it/s]<ipython-input-6-d61cf6b7d348>:36: FutureWarning: The default of observed=False is deprecated and will be changed to True in a future version of pandas. Pass observed=False to retain current behavior or observed=True to adopt the future default and silence this warning.\n",
      "  merged_df_race_dict = dict(merged_df.groupby(['race_group']).groups)\n",
      "Testing weights for abd_exp_01:  37%|███▋      | 37/101 [00:14<00:24,  2.60it/s]<ipython-input-6-d61cf6b7d348>:36: FutureWarning: The default of observed=False is deprecated and will be changed to True in a future version of pandas. Pass observed=False to retain current behavior or observed=True to adopt the future default and silence this warning.\n",
      "  merged_df_race_dict = dict(merged_df.groupby(['race_group']).groups)\n",
      "Testing weights for abd_exp_01:  38%|███▊      | 38/101 [00:14<00:24,  2.60it/s]<ipython-input-6-d61cf6b7d348>:36: FutureWarning: The default of observed=False is deprecated and will be changed to True in a future version of pandas. Pass observed=False to retain current behavior or observed=True to adopt the future default and silence this warning.\n",
      "  merged_df_race_dict = dict(merged_df.groupby(['race_group']).groups)\n",
      "Testing weights for abd_exp_01:  39%|███▊      | 39/101 [00:15<00:23,  2.61it/s]<ipython-input-6-d61cf6b7d348>:36: FutureWarning: The default of observed=False is deprecated and will be changed to True in a future version of pandas. Pass observed=False to retain current behavior or observed=True to adopt the future default and silence this warning.\n",
      "  merged_df_race_dict = dict(merged_df.groupby(['race_group']).groups)\n",
      "Testing weights for abd_exp_01:  40%|███▉      | 40/101 [00:15<00:23,  2.61it/s]<ipython-input-6-d61cf6b7d348>:36: FutureWarning: The default of observed=False is deprecated and will be changed to True in a future version of pandas. Pass observed=False to retain current behavior or observed=True to adopt the future default and silence this warning.\n",
      "  merged_df_race_dict = dict(merged_df.groupby(['race_group']).groups)\n",
      "Testing weights for abd_exp_01:  41%|████      | 41/101 [00:15<00:22,  2.61it/s]<ipython-input-6-d61cf6b7d348>:36: FutureWarning: The default of observed=False is deprecated and will be changed to True in a future version of pandas. Pass observed=False to retain current behavior or observed=True to adopt the future default and silence this warning.\n",
      "  merged_df_race_dict = dict(merged_df.groupby(['race_group']).groups)\n",
      "Testing weights for abd_exp_01:  42%|████▏     | 42/101 [00:16<00:22,  2.61it/s]<ipython-input-6-d61cf6b7d348>:36: FutureWarning: The default of observed=False is deprecated and will be changed to True in a future version of pandas. Pass observed=False to retain current behavior or observed=True to adopt the future default and silence this warning.\n",
      "  merged_df_race_dict = dict(merged_df.groupby(['race_group']).groups)\n",
      "Testing weights for abd_exp_01:  43%|████▎     | 43/101 [00:16<00:22,  2.61it/s]<ipython-input-6-d61cf6b7d348>:36: FutureWarning: The default of observed=False is deprecated and will be changed to True in a future version of pandas. Pass observed=False to retain current behavior or observed=True to adopt the future default and silence this warning.\n",
      "  merged_df_race_dict = dict(merged_df.groupby(['race_group']).groups)\n",
      "Testing weights for abd_exp_01:  44%|████▎     | 44/101 [00:16<00:21,  2.62it/s]<ipython-input-6-d61cf6b7d348>:36: FutureWarning: The default of observed=False is deprecated and will be changed to True in a future version of pandas. Pass observed=False to retain current behavior or observed=True to adopt the future default and silence this warning.\n",
      "  merged_df_race_dict = dict(merged_df.groupby(['race_group']).groups)\n",
      "Testing weights for abd_exp_01:  45%|████▍     | 45/101 [00:17<00:21,  2.61it/s]<ipython-input-6-d61cf6b7d348>:36: FutureWarning: The default of observed=False is deprecated and will be changed to True in a future version of pandas. Pass observed=False to retain current behavior or observed=True to adopt the future default and silence this warning.\n",
      "  merged_df_race_dict = dict(merged_df.groupby(['race_group']).groups)\n",
      "Testing weights for abd_exp_01:  46%|████▌     | 46/101 [00:17<00:21,  2.61it/s]<ipython-input-6-d61cf6b7d348>:36: FutureWarning: The default of observed=False is deprecated and will be changed to True in a future version of pandas. Pass observed=False to retain current behavior or observed=True to adopt the future default and silence this warning.\n",
      "  merged_df_race_dict = dict(merged_df.groupby(['race_group']).groups)\n",
      "Testing weights for abd_exp_01:  47%|████▋     | 47/101 [00:18<00:20,  2.62it/s]<ipython-input-6-d61cf6b7d348>:36: FutureWarning: The default of observed=False is deprecated and will be changed to True in a future version of pandas. Pass observed=False to retain current behavior or observed=True to adopt the future default and silence this warning.\n",
      "  merged_df_race_dict = dict(merged_df.groupby(['race_group']).groups)\n",
      "Testing weights for abd_exp_01:  48%|████▊     | 48/101 [00:18<00:20,  2.62it/s]<ipython-input-6-d61cf6b7d348>:36: FutureWarning: The default of observed=False is deprecated and will be changed to True in a future version of pandas. Pass observed=False to retain current behavior or observed=True to adopt the future default and silence this warning.\n",
      "  merged_df_race_dict = dict(merged_df.groupby(['race_group']).groups)\n",
      "Testing weights for abd_exp_01:  49%|████▊     | 49/101 [00:18<00:19,  2.62it/s]<ipython-input-6-d61cf6b7d348>:36: FutureWarning: The default of observed=False is deprecated and will be changed to True in a future version of pandas. Pass observed=False to retain current behavior or observed=True to adopt the future default and silence this warning.\n",
      "  merged_df_race_dict = dict(merged_df.groupby(['race_group']).groups)\n",
      "Testing weights for abd_exp_01:  50%|████▉     | 50/101 [00:19<00:19,  2.61it/s]<ipython-input-6-d61cf6b7d348>:36: FutureWarning: The default of observed=False is deprecated and will be changed to True in a future version of pandas. Pass observed=False to retain current behavior or observed=True to adopt the future default and silence this warning.\n",
      "  merged_df_race_dict = dict(merged_df.groupby(['race_group']).groups)\n",
      "Testing weights for abd_exp_01:  50%|█████     | 51/101 [00:19<00:19,  2.61it/s]<ipython-input-6-d61cf6b7d348>:36: FutureWarning: The default of observed=False is deprecated and will be changed to True in a future version of pandas. Pass observed=False to retain current behavior or observed=True to adopt the future default and silence this warning.\n",
      "  merged_df_race_dict = dict(merged_df.groupby(['race_group']).groups)\n",
      "Testing weights for abd_exp_01:  51%|█████▏    | 52/101 [00:20<00:18,  2.61it/s]<ipython-input-6-d61cf6b7d348>:36: FutureWarning: The default of observed=False is deprecated and will be changed to True in a future version of pandas. Pass observed=False to retain current behavior or observed=True to adopt the future default and silence this warning.\n",
      "  merged_df_race_dict = dict(merged_df.groupby(['race_group']).groups)\n",
      "Testing weights for abd_exp_01:  52%|█████▏    | 53/101 [00:20<00:18,  2.56it/s]<ipython-input-6-d61cf6b7d348>:36: FutureWarning: The default of observed=False is deprecated and will be changed to True in a future version of pandas. Pass observed=False to retain current behavior or observed=True to adopt the future default and silence this warning.\n",
      "  merged_df_race_dict = dict(merged_df.groupby(['race_group']).groups)\n",
      "Testing weights for abd_exp_01:  53%|█████▎    | 54/101 [00:20<00:18,  2.58it/s]<ipython-input-6-d61cf6b7d348>:36: FutureWarning: The default of observed=False is deprecated and will be changed to True in a future version of pandas. Pass observed=False to retain current behavior or observed=True to adopt the future default and silence this warning.\n",
      "  merged_df_race_dict = dict(merged_df.groupby(['race_group']).groups)\n",
      "Testing weights for abd_exp_01:  54%|█████▍    | 55/101 [00:21<00:17,  2.59it/s]<ipython-input-6-d61cf6b7d348>:36: FutureWarning: The default of observed=False is deprecated and will be changed to True in a future version of pandas. Pass observed=False to retain current behavior or observed=True to adopt the future default and silence this warning.\n",
      "  merged_df_race_dict = dict(merged_df.groupby(['race_group']).groups)\n",
      "Testing weights for abd_exp_01:  55%|█████▌    | 56/101 [00:21<00:17,  2.60it/s]<ipython-input-6-d61cf6b7d348>:36: FutureWarning: The default of observed=False is deprecated and will be changed to True in a future version of pandas. Pass observed=False to retain current behavior or observed=True to adopt the future default and silence this warning.\n",
      "  merged_df_race_dict = dict(merged_df.groupby(['race_group']).groups)\n",
      "Testing weights for abd_exp_01:  56%|█████▋    | 57/101 [00:21<00:16,  2.60it/s]<ipython-input-6-d61cf6b7d348>:36: FutureWarning: The default of observed=False is deprecated and will be changed to True in a future version of pandas. Pass observed=False to retain current behavior or observed=True to adopt the future default and silence this warning.\n",
      "  merged_df_race_dict = dict(merged_df.groupby(['race_group']).groups)\n",
      "Testing weights for abd_exp_01:  57%|█████▋    | 58/101 [00:22<00:16,  2.60it/s]<ipython-input-6-d61cf6b7d348>:36: FutureWarning: The default of observed=False is deprecated and will be changed to True in a future version of pandas. Pass observed=False to retain current behavior or observed=True to adopt the future default and silence this warning.\n",
      "  merged_df_race_dict = dict(merged_df.groupby(['race_group']).groups)\n",
      "Testing weights for abd_exp_01:  58%|█████▊    | 59/101 [00:22<00:16,  2.61it/s]<ipython-input-6-d61cf6b7d348>:36: FutureWarning: The default of observed=False is deprecated and will be changed to True in a future version of pandas. Pass observed=False to retain current behavior or observed=True to adopt the future default and silence this warning.\n",
      "  merged_df_race_dict = dict(merged_df.groupby(['race_group']).groups)\n",
      "Testing weights for abd_exp_01:  59%|█████▉    | 60/101 [00:23<00:15,  2.61it/s]<ipython-input-6-d61cf6b7d348>:36: FutureWarning: The default of observed=False is deprecated and will be changed to True in a future version of pandas. Pass observed=False to retain current behavior or observed=True to adopt the future default and silence this warning.\n",
      "  merged_df_race_dict = dict(merged_df.groupby(['race_group']).groups)\n",
      "Testing weights for abd_exp_01:  60%|██████    | 61/101 [00:23<00:15,  2.61it/s]<ipython-input-6-d61cf6b7d348>:36: FutureWarning: The default of observed=False is deprecated and will be changed to True in a future version of pandas. Pass observed=False to retain current behavior or observed=True to adopt the future default and silence this warning.\n",
      "  merged_df_race_dict = dict(merged_df.groupby(['race_group']).groups)\n",
      "Testing weights for abd_exp_01:  61%|██████▏   | 62/101 [00:23<00:14,  2.61it/s]<ipython-input-6-d61cf6b7d348>:36: FutureWarning: The default of observed=False is deprecated and will be changed to True in a future version of pandas. Pass observed=False to retain current behavior or observed=True to adopt the future default and silence this warning.\n",
      "  merged_df_race_dict = dict(merged_df.groupby(['race_group']).groups)\n",
      "Testing weights for abd_exp_01:  62%|██████▏   | 63/101 [00:24<00:14,  2.59it/s]<ipython-input-6-d61cf6b7d348>:36: FutureWarning: The default of observed=False is deprecated and will be changed to True in a future version of pandas. Pass observed=False to retain current behavior or observed=True to adopt the future default and silence this warning.\n",
      "  merged_df_race_dict = dict(merged_df.groupby(['race_group']).groups)\n",
      "Testing weights for abd_exp_01:  63%|██████▎   | 64/101 [00:24<00:14,  2.60it/s]<ipython-input-6-d61cf6b7d348>:36: FutureWarning: The default of observed=False is deprecated and will be changed to True in a future version of pandas. Pass observed=False to retain current behavior or observed=True to adopt the future default and silence this warning.\n",
      "  merged_df_race_dict = dict(merged_df.groupby(['race_group']).groups)\n",
      "Testing weights for abd_exp_01:  64%|██████▍   | 65/101 [00:25<00:13,  2.60it/s]<ipython-input-6-d61cf6b7d348>:36: FutureWarning: The default of observed=False is deprecated and will be changed to True in a future version of pandas. Pass observed=False to retain current behavior or observed=True to adopt the future default and silence this warning.\n",
      "  merged_df_race_dict = dict(merged_df.groupby(['race_group']).groups)\n",
      "Testing weights for abd_exp_01:  65%|██████▌   | 66/101 [00:25<00:13,  2.60it/s]<ipython-input-6-d61cf6b7d348>:36: FutureWarning: The default of observed=False is deprecated and will be changed to True in a future version of pandas. Pass observed=False to retain current behavior or observed=True to adopt the future default and silence this warning.\n",
      "  merged_df_race_dict = dict(merged_df.groupby(['race_group']).groups)\n",
      "Testing weights for abd_exp_01:  66%|██████▋   | 67/101 [00:25<00:13,  2.61it/s]<ipython-input-6-d61cf6b7d348>:36: FutureWarning: The default of observed=False is deprecated and will be changed to True in a future version of pandas. Pass observed=False to retain current behavior or observed=True to adopt the future default and silence this warning.\n",
      "  merged_df_race_dict = dict(merged_df.groupby(['race_group']).groups)\n",
      "Testing weights for abd_exp_01:  67%|██████▋   | 68/101 [00:26<00:12,  2.60it/s]<ipython-input-6-d61cf6b7d348>:36: FutureWarning: The default of observed=False is deprecated and will be changed to True in a future version of pandas. Pass observed=False to retain current behavior or observed=True to adopt the future default and silence this warning.\n",
      "  merged_df_race_dict = dict(merged_df.groupby(['race_group']).groups)\n",
      "Testing weights for abd_exp_01:  68%|██████▊   | 69/101 [00:26<00:12,  2.61it/s]<ipython-input-6-d61cf6b7d348>:36: FutureWarning: The default of observed=False is deprecated and will be changed to True in a future version of pandas. Pass observed=False to retain current behavior or observed=True to adopt the future default and silence this warning.\n",
      "  merged_df_race_dict = dict(merged_df.groupby(['race_group']).groups)\n",
      "Testing weights for abd_exp_01:  69%|██████▉   | 70/101 [00:26<00:11,  2.61it/s]<ipython-input-6-d61cf6b7d348>:36: FutureWarning: The default of observed=False is deprecated and will be changed to True in a future version of pandas. Pass observed=False to retain current behavior or observed=True to adopt the future default and silence this warning.\n",
      "  merged_df_race_dict = dict(merged_df.groupby(['race_group']).groups)\n",
      "Testing weights for abd_exp_01:  70%|███████   | 71/101 [00:27<00:11,  2.61it/s]<ipython-input-6-d61cf6b7d348>:36: FutureWarning: The default of observed=False is deprecated and will be changed to True in a future version of pandas. Pass observed=False to retain current behavior or observed=True to adopt the future default and silence this warning.\n",
      "  merged_df_race_dict = dict(merged_df.groupby(['race_group']).groups)\n",
      "Testing weights for abd_exp_01:  71%|███████▏  | 72/101 [00:27<00:11,  2.61it/s]<ipython-input-6-d61cf6b7d348>:36: FutureWarning: The default of observed=False is deprecated and will be changed to True in a future version of pandas. Pass observed=False to retain current behavior or observed=True to adopt the future default and silence this warning.\n",
      "  merged_df_race_dict = dict(merged_df.groupby(['race_group']).groups)\n",
      "Testing weights for abd_exp_01:  72%|███████▏  | 73/101 [00:28<00:10,  2.62it/s]<ipython-input-6-d61cf6b7d348>:36: FutureWarning: The default of observed=False is deprecated and will be changed to True in a future version of pandas. Pass observed=False to retain current behavior or observed=True to adopt the future default and silence this warning.\n",
      "  merged_df_race_dict = dict(merged_df.groupby(['race_group']).groups)\n",
      "Testing weights for abd_exp_01:  73%|███████▎  | 74/101 [00:28<00:10,  2.62it/s]<ipython-input-6-d61cf6b7d348>:36: FutureWarning: The default of observed=False is deprecated and will be changed to True in a future version of pandas. Pass observed=False to retain current behavior or observed=True to adopt the future default and silence this warning.\n",
      "  merged_df_race_dict = dict(merged_df.groupby(['race_group']).groups)\n",
      "Testing weights for abd_exp_01:  74%|███████▍  | 75/101 [00:28<00:09,  2.62it/s]<ipython-input-6-d61cf6b7d348>:36: FutureWarning: The default of observed=False is deprecated and will be changed to True in a future version of pandas. Pass observed=False to retain current behavior or observed=True to adopt the future default and silence this warning.\n",
      "  merged_df_race_dict = dict(merged_df.groupby(['race_group']).groups)\n",
      "Testing weights for abd_exp_01:  75%|███████▌  | 76/101 [00:29<00:09,  2.61it/s]<ipython-input-6-d61cf6b7d348>:36: FutureWarning: The default of observed=False is deprecated and will be changed to True in a future version of pandas. Pass observed=False to retain current behavior or observed=True to adopt the future default and silence this warning.\n",
      "  merged_df_race_dict = dict(merged_df.groupby(['race_group']).groups)\n",
      "Testing weights for abd_exp_01:  76%|███████▌  | 77/101 [00:29<00:09,  2.62it/s]<ipython-input-6-d61cf6b7d348>:36: FutureWarning: The default of observed=False is deprecated and will be changed to True in a future version of pandas. Pass observed=False to retain current behavior or observed=True to adopt the future default and silence this warning.\n",
      "  merged_df_race_dict = dict(merged_df.groupby(['race_group']).groups)\n",
      "Testing weights for abd_exp_01:  77%|███████▋  | 78/101 [00:29<00:08,  2.62it/s]<ipython-input-6-d61cf6b7d348>:36: FutureWarning: The default of observed=False is deprecated and will be changed to True in a future version of pandas. Pass observed=False to retain current behavior or observed=True to adopt the future default and silence this warning.\n",
      "  merged_df_race_dict = dict(merged_df.groupby(['race_group']).groups)\n",
      "Testing weights for abd_exp_01:  78%|███████▊  | 79/101 [00:30<00:08,  2.57it/s]<ipython-input-6-d61cf6b7d348>:36: FutureWarning: The default of observed=False is deprecated and will be changed to True in a future version of pandas. Pass observed=False to retain current behavior or observed=True to adopt the future default and silence this warning.\n",
      "  merged_df_race_dict = dict(merged_df.groupby(['race_group']).groups)\n",
      "Testing weights for abd_exp_01:  79%|███████▉  | 80/101 [00:30<00:08,  2.59it/s]<ipython-input-6-d61cf6b7d348>:36: FutureWarning: The default of observed=False is deprecated and will be changed to True in a future version of pandas. Pass observed=False to retain current behavior or observed=True to adopt the future default and silence this warning.\n",
      "  merged_df_race_dict = dict(merged_df.groupby(['race_group']).groups)\n",
      "Testing weights for abd_exp_01:  80%|████████  | 81/101 [00:31<00:07,  2.59it/s]<ipython-input-6-d61cf6b7d348>:36: FutureWarning: The default of observed=False is deprecated and will be changed to True in a future version of pandas. Pass observed=False to retain current behavior or observed=True to adopt the future default and silence this warning.\n",
      "  merged_df_race_dict = dict(merged_df.groupby(['race_group']).groups)\n",
      "Testing weights for abd_exp_01:  81%|████████  | 82/101 [00:31<00:07,  2.59it/s]<ipython-input-6-d61cf6b7d348>:36: FutureWarning: The default of observed=False is deprecated and will be changed to True in a future version of pandas. Pass observed=False to retain current behavior or observed=True to adopt the future default and silence this warning.\n",
      "  merged_df_race_dict = dict(merged_df.groupby(['race_group']).groups)\n",
      "Testing weights for abd_exp_01:  82%|████████▏ | 83/101 [00:31<00:06,  2.60it/s]<ipython-input-6-d61cf6b7d348>:36: FutureWarning: The default of observed=False is deprecated and will be changed to True in a future version of pandas. Pass observed=False to retain current behavior or observed=True to adopt the future default and silence this warning.\n",
      "  merged_df_race_dict = dict(merged_df.groupby(['race_group']).groups)\n",
      "Testing weights for abd_exp_01:  83%|████████▎ | 84/101 [00:32<00:06,  2.60it/s]<ipython-input-6-d61cf6b7d348>:36: FutureWarning: The default of observed=False is deprecated and will be changed to True in a future version of pandas. Pass observed=False to retain current behavior or observed=True to adopt the future default and silence this warning.\n",
      "  merged_df_race_dict = dict(merged_df.groupby(['race_group']).groups)\n",
      "Testing weights for abd_exp_01:  84%|████████▍ | 85/101 [00:32<00:06,  2.61it/s]<ipython-input-6-d61cf6b7d348>:36: FutureWarning: The default of observed=False is deprecated and will be changed to True in a future version of pandas. Pass observed=False to retain current behavior or observed=True to adopt the future default and silence this warning.\n",
      "  merged_df_race_dict = dict(merged_df.groupby(['race_group']).groups)\n",
      "Testing weights for abd_exp_01:  85%|████████▌ | 86/101 [00:33<00:05,  2.61it/s]<ipython-input-6-d61cf6b7d348>:36: FutureWarning: The default of observed=False is deprecated and will be changed to True in a future version of pandas. Pass observed=False to retain current behavior or observed=True to adopt the future default and silence this warning.\n",
      "  merged_df_race_dict = dict(merged_df.groupby(['race_group']).groups)\n",
      "Testing weights for abd_exp_01:  86%|████████▌ | 87/101 [00:33<00:05,  2.61it/s]<ipython-input-6-d61cf6b7d348>:36: FutureWarning: The default of observed=False is deprecated and will be changed to True in a future version of pandas. Pass observed=False to retain current behavior or observed=True to adopt the future default and silence this warning.\n",
      "  merged_df_race_dict = dict(merged_df.groupby(['race_group']).groups)\n",
      "Testing weights for abd_exp_01:  87%|████████▋ | 88/101 [00:33<00:04,  2.61it/s]<ipython-input-6-d61cf6b7d348>:36: FutureWarning: The default of observed=False is deprecated and will be changed to True in a future version of pandas. Pass observed=False to retain current behavior or observed=True to adopt the future default and silence this warning.\n",
      "  merged_df_race_dict = dict(merged_df.groupby(['race_group']).groups)\n",
      "Testing weights for abd_exp_01:  88%|████████▊ | 89/101 [00:34<00:04,  2.61it/s]<ipython-input-6-d61cf6b7d348>:36: FutureWarning: The default of observed=False is deprecated and will be changed to True in a future version of pandas. Pass observed=False to retain current behavior or observed=True to adopt the future default and silence this warning.\n",
      "  merged_df_race_dict = dict(merged_df.groupby(['race_group']).groups)\n",
      "Testing weights for abd_exp_01:  89%|████████▉ | 90/101 [00:34<00:04,  2.61it/s]<ipython-input-6-d61cf6b7d348>:36: FutureWarning: The default of observed=False is deprecated and will be changed to True in a future version of pandas. Pass observed=False to retain current behavior or observed=True to adopt the future default and silence this warning.\n",
      "  merged_df_race_dict = dict(merged_df.groupby(['race_group']).groups)\n",
      "Testing weights for abd_exp_01:  90%|█████████ | 91/101 [00:34<00:03,  2.61it/s]<ipython-input-6-d61cf6b7d348>:36: FutureWarning: The default of observed=False is deprecated and will be changed to True in a future version of pandas. Pass observed=False to retain current behavior or observed=True to adopt the future default and silence this warning.\n",
      "  merged_df_race_dict = dict(merged_df.groupby(['race_group']).groups)\n",
      "Testing weights for abd_exp_01:  91%|█████████ | 92/101 [00:35<00:03,  2.61it/s]<ipython-input-6-d61cf6b7d348>:36: FutureWarning: The default of observed=False is deprecated and will be changed to True in a future version of pandas. Pass observed=False to retain current behavior or observed=True to adopt the future default and silence this warning.\n",
      "  merged_df_race_dict = dict(merged_df.groupby(['race_group']).groups)\n",
      "Testing weights for abd_exp_01:  92%|█████████▏| 93/101 [00:35<00:03,  2.61it/s]<ipython-input-6-d61cf6b7d348>:36: FutureWarning: The default of observed=False is deprecated and will be changed to True in a future version of pandas. Pass observed=False to retain current behavior or observed=True to adopt the future default and silence this warning.\n",
      "  merged_df_race_dict = dict(merged_df.groupby(['race_group']).groups)\n",
      "Testing weights for abd_exp_01:  93%|█████████▎| 94/101 [00:36<00:02,  2.61it/s]<ipython-input-6-d61cf6b7d348>:36: FutureWarning: The default of observed=False is deprecated and will be changed to True in a future version of pandas. Pass observed=False to retain current behavior or observed=True to adopt the future default and silence this warning.\n",
      "  merged_df_race_dict = dict(merged_df.groupby(['race_group']).groups)\n",
      "Testing weights for abd_exp_01:  94%|█████████▍| 95/101 [00:36<00:02,  2.61it/s]<ipython-input-6-d61cf6b7d348>:36: FutureWarning: The default of observed=False is deprecated and will be changed to True in a future version of pandas. Pass observed=False to retain current behavior or observed=True to adopt the future default and silence this warning.\n",
      "  merged_df_race_dict = dict(merged_df.groupby(['race_group']).groups)\n",
      "Testing weights for abd_exp_01:  95%|█████████▌| 96/101 [00:36<00:01,  2.61it/s]<ipython-input-6-d61cf6b7d348>:36: FutureWarning: The default of observed=False is deprecated and will be changed to True in a future version of pandas. Pass observed=False to retain current behavior or observed=True to adopt the future default and silence this warning.\n",
      "  merged_df_race_dict = dict(merged_df.groupby(['race_group']).groups)\n",
      "Testing weights for abd_exp_01:  96%|█████████▌| 97/101 [00:37<00:01,  2.60it/s]<ipython-input-6-d61cf6b7d348>:36: FutureWarning: The default of observed=False is deprecated and will be changed to True in a future version of pandas. Pass observed=False to retain current behavior or observed=True to adopt the future default and silence this warning.\n",
      "  merged_df_race_dict = dict(merged_df.groupby(['race_group']).groups)\n",
      "Testing weights for abd_exp_01:  97%|█████████▋| 98/101 [00:37<00:01,  2.61it/s]<ipython-input-6-d61cf6b7d348>:36: FutureWarning: The default of observed=False is deprecated and will be changed to True in a future version of pandas. Pass observed=False to retain current behavior or observed=True to adopt the future default and silence this warning.\n",
      "  merged_df_race_dict = dict(merged_df.groupby(['race_group']).groups)\n",
      "Testing weights for abd_exp_01:  98%|█████████▊| 99/101 [00:38<00:00,  2.62it/s]<ipython-input-6-d61cf6b7d348>:36: FutureWarning: The default of observed=False is deprecated and will be changed to True in a future version of pandas. Pass observed=False to retain current behavior or observed=True to adopt the future default and silence this warning.\n",
      "  merged_df_race_dict = dict(merged_df.groupby(['race_group']).groups)\n",
      "Testing weights for abd_exp_01:  99%|█████████▉| 100/101 [00:38<00:00,  2.61it/s]<ipython-input-6-d61cf6b7d348>:36: FutureWarning: The default of observed=False is deprecated and will be changed to True in a future version of pandas. Pass observed=False to retain current behavior or observed=True to adopt the future default and silence this warning.\n",
      "  merged_df_race_dict = dict(merged_df.groupby(['race_group']).groups)\n",
      "Testing weights for abd_exp_01: 100%|██████████| 101/101 [00:38<00:00,  2.60it/s]\n"
     ]
    },
    {
     "name": "stdout",
     "output_type": "stream",
     "text": [
      "here -> /kaggle/input/catboost-exp-04\n"
     ]
    },
    {
     "name": "stderr",
     "output_type": "stream",
     "text": [
      "Testing weights for catboost_exp_04: 100%|██████████| 101/101 [00:38<00:00,  2.62it/s]\n"
     ]
    },
    {
     "name": "stdout",
     "output_type": "stream",
     "text": [
      "here -> /kaggle/input/lgbm-exp-04\n"
     ]
    },
    {
     "name": "stderr",
     "output_type": "stream",
     "text": [
      "Testing weights for lgbm_exp_04: 100%|██████████| 101/101 [00:38<00:00,  2.62it/s]\n"
     ]
    },
    {
     "name": "stdout",
     "output_type": "stream",
     "text": [
      "Iteration 6: Added /kaggle/input/abd-exp-01 with weight 0.0700, Score: 0.6851\n",
      "6th iteration\n",
      "here -> /kaggle/input/xgboost-exp-01\n"
     ]
    },
    {
     "name": "stderr",
     "output_type": "stream",
     "text": [
      "Testing weights for xgboost_exp_01: 100%|██████████| 101/101 [00:38<00:00,  2.62it/s]\n"
     ]
    },
    {
     "name": "stdout",
     "output_type": "stream",
     "text": [
      "here -> /kaggle/input/lgbm-exp-01\n"
     ]
    },
    {
     "name": "stderr",
     "output_type": "stream",
     "text": [
      "Testing weights for lgbm_exp_01: 100%|██████████| 101/101 [00:38<00:00,  2.62it/s]\n"
     ]
    },
    {
     "name": "stdout",
     "output_type": "stream",
     "text": [
      "here -> /kaggle/input/xgboost-exp-02\n"
     ]
    },
    {
     "name": "stderr",
     "output_type": "stream",
     "text": [
      "Testing weights for xgboost_exp_02: 100%|██████████| 101/101 [00:38<00:00,  2.61it/s]\n"
     ]
    },
    {
     "name": "stdout",
     "output_type": "stream",
     "text": [
      "here -> /kaggle/input/lgbm-exp-03\n"
     ]
    },
    {
     "name": "stderr",
     "output_type": "stream",
     "text": [
      "Testing weights for lgbm_exp_03: 100%|██████████| 101/101 [00:38<00:00,  2.62it/s]\n"
     ]
    },
    {
     "name": "stdout",
     "output_type": "stream",
     "text": [
      "here -> /kaggle/input/catboost-exp-03\n"
     ]
    },
    {
     "name": "stderr",
     "output_type": "stream",
     "text": [
      "Testing weights for catboost_exp_03: 100%|██████████| 101/101 [00:38<00:00,  2.61it/s]\n"
     ]
    },
    {
     "name": "stdout",
     "output_type": "stream",
     "text": [
      "here -> /kaggle/input/tabm-exp-01\n"
     ]
    },
    {
     "name": "stderr",
     "output_type": "stream",
     "text": [
      "Testing weights for tabm_exp_01: 100%|██████████| 101/101 [00:38<00:00,  2.60it/s]\n"
     ]
    },
    {
     "name": "stdout",
     "output_type": "stream",
     "text": [
      "here -> /kaggle/input/nn-exp-01\n"
     ]
    },
    {
     "name": "stderr",
     "output_type": "stream",
     "text": [
      "Testing weights for nn_exp_01: 100%|██████████| 101/101 [00:38<00:00,  2.61it/s]\n"
     ]
    },
    {
     "name": "stdout",
     "output_type": "stream",
     "text": [
      "here -> /kaggle/input/tn-exp-01\n"
     ]
    },
    {
     "name": "stderr",
     "output_type": "stream",
     "text": [
      "Testing weights for tn_exp_01: 100%|██████████| 101/101 [00:38<00:00,  2.62it/s]\n"
     ]
    },
    {
     "name": "stdout",
     "output_type": "stream",
     "text": [
      "here -> /kaggle/input/tf-exp-01\n"
     ]
    },
    {
     "name": "stderr",
     "output_type": "stream",
     "text": [
      "Testing weights for tf_exp_01: 100%|██████████| 101/101 [00:38<00:00,  2.62it/s]\n"
     ]
    },
    {
     "name": "stdout",
     "output_type": "stream",
     "text": [
      "here -> /kaggle/input/svr-exp-01\n"
     ]
    },
    {
     "name": "stderr",
     "output_type": "stream",
     "text": [
      "Testing weights for svr_exp_01: 100%|██████████| 101/101 [00:38<00:00,  2.61it/s]\n"
     ]
    },
    {
     "name": "stdout",
     "output_type": "stream",
     "text": [
      "here -> /kaggle/input/catboost-exp-04\n"
     ]
    },
    {
     "name": "stderr",
     "output_type": "stream",
     "text": [
      "Testing weights for catboost_exp_04: 100%|██████████| 101/101 [00:39<00:00,  2.56it/s]\n"
     ]
    },
    {
     "name": "stdout",
     "output_type": "stream",
     "text": [
      "here -> /kaggle/input/lgbm-exp-04\n"
     ]
    },
    {
     "name": "stderr",
     "output_type": "stream",
     "text": [
      "Testing weights for lgbm_exp_04: 100%|██████████| 101/101 [00:38<00:00,  2.62it/s]\n"
     ]
    },
    {
     "name": "stdout",
     "output_type": "stream",
     "text": [
      "Iteration 7: Added /kaggle/input/catboost-exp-03 with weight -0.0500, Score: 0.6851\n",
      "7th iteration\n",
      "here -> /kaggle/input/xgboost-exp-01\n"
     ]
    },
    {
     "name": "stderr",
     "output_type": "stream",
     "text": [
      "Testing weights for xgboost_exp_01: 100%|██████████| 101/101 [00:38<00:00,  2.59it/s]\n"
     ]
    },
    {
     "name": "stdout",
     "output_type": "stream",
     "text": [
      "here -> /kaggle/input/lgbm-exp-01\n"
     ]
    },
    {
     "name": "stderr",
     "output_type": "stream",
     "text": [
      "Testing weights for lgbm_exp_01: 100%|██████████| 101/101 [00:39<00:00,  2.55it/s]\n"
     ]
    },
    {
     "name": "stdout",
     "output_type": "stream",
     "text": [
      "here -> /kaggle/input/xgboost-exp-02\n"
     ]
    },
    {
     "name": "stderr",
     "output_type": "stream",
     "text": [
      "Testing weights for xgboost_exp_02: 100%|██████████| 101/101 [00:38<00:00,  2.61it/s]\n"
     ]
    },
    {
     "name": "stdout",
     "output_type": "stream",
     "text": [
      "here -> /kaggle/input/lgbm-exp-03\n"
     ]
    },
    {
     "name": "stderr",
     "output_type": "stream",
     "text": [
      "Testing weights for lgbm_exp_03: 100%|██████████| 101/101 [00:38<00:00,  2.62it/s]\n"
     ]
    },
    {
     "name": "stdout",
     "output_type": "stream",
     "text": [
      "here -> /kaggle/input/tabm-exp-01\n"
     ]
    },
    {
     "name": "stderr",
     "output_type": "stream",
     "text": [
      "Testing weights for tabm_exp_01: 100%|██████████| 101/101 [00:38<00:00,  2.60it/s]\n"
     ]
    },
    {
     "name": "stdout",
     "output_type": "stream",
     "text": [
      "here -> /kaggle/input/nn-exp-01\n"
     ]
    },
    {
     "name": "stderr",
     "output_type": "stream",
     "text": [
      "Testing weights for nn_exp_01: 100%|██████████| 101/101 [00:38<00:00,  2.62it/s]\n"
     ]
    },
    {
     "name": "stdout",
     "output_type": "stream",
     "text": [
      "here -> /kaggle/input/tn-exp-01\n"
     ]
    },
    {
     "name": "stderr",
     "output_type": "stream",
     "text": [
      "Testing weights for tn_exp_01: 100%|██████████| 101/101 [00:38<00:00,  2.62it/s]\n"
     ]
    },
    {
     "name": "stdout",
     "output_type": "stream",
     "text": [
      "here -> /kaggle/input/tf-exp-01\n"
     ]
    },
    {
     "name": "stderr",
     "output_type": "stream",
     "text": [
      "Testing weights for tf_exp_01: 100%|██████████| 101/101 [00:38<00:00,  2.61it/s]\n"
     ]
    },
    {
     "name": "stdout",
     "output_type": "stream",
     "text": [
      "here -> /kaggle/input/svr-exp-01\n"
     ]
    },
    {
     "name": "stderr",
     "output_type": "stream",
     "text": [
      "Testing weights for svr_exp_01: 100%|██████████| 101/101 [00:38<00:00,  2.61it/s]\n"
     ]
    },
    {
     "name": "stdout",
     "output_type": "stream",
     "text": [
      "here -> /kaggle/input/catboost-exp-04\n"
     ]
    },
    {
     "name": "stderr",
     "output_type": "stream",
     "text": [
      "Testing weights for catboost_exp_04: 100%|██████████| 101/101 [00:38<00:00,  2.62it/s]\n"
     ]
    },
    {
     "name": "stdout",
     "output_type": "stream",
     "text": [
      "here -> /kaggle/input/lgbm-exp-04\n"
     ]
    },
    {
     "name": "stderr",
     "output_type": "stream",
     "text": [
      "Testing weights for lgbm_exp_04: 100%|██████████| 101/101 [00:38<00:00,  2.62it/s]\n"
     ]
    },
    {
     "name": "stdout",
     "output_type": "stream",
     "text": [
      "Iteration 8: Added /kaggle/input/tn-exp-01 with weight -0.0300, Score: 0.6851\n",
      "8th iteration\n",
      "here -> /kaggle/input/xgboost-exp-01\n"
     ]
    },
    {
     "name": "stderr",
     "output_type": "stream",
     "text": [
      "Testing weights for xgboost_exp_01: 100%|██████████| 101/101 [00:38<00:00,  2.60it/s]\n"
     ]
    },
    {
     "name": "stdout",
     "output_type": "stream",
     "text": [
      "here -> /kaggle/input/lgbm-exp-01\n"
     ]
    },
    {
     "name": "stderr",
     "output_type": "stream",
     "text": [
      "Testing weights for lgbm_exp_01: 100%|██████████| 101/101 [00:38<00:00,  2.62it/s]\n"
     ]
    },
    {
     "name": "stdout",
     "output_type": "stream",
     "text": [
      "here -> /kaggle/input/xgboost-exp-02\n"
     ]
    },
    {
     "name": "stderr",
     "output_type": "stream",
     "text": [
      "Testing weights for xgboost_exp_02: 100%|██████████| 101/101 [00:38<00:00,  2.61it/s]\n"
     ]
    },
    {
     "name": "stdout",
     "output_type": "stream",
     "text": [
      "here -> /kaggle/input/lgbm-exp-03\n"
     ]
    },
    {
     "name": "stderr",
     "output_type": "stream",
     "text": [
      "Testing weights for lgbm_exp_03: 100%|██████████| 101/101 [00:38<00:00,  2.61it/s]\n"
     ]
    },
    {
     "name": "stdout",
     "output_type": "stream",
     "text": [
      "here -> /kaggle/input/tabm-exp-01\n"
     ]
    },
    {
     "name": "stderr",
     "output_type": "stream",
     "text": [
      "Testing weights for tabm_exp_01: 100%|██████████| 101/101 [00:39<00:00,  2.58it/s]\n"
     ]
    },
    {
     "name": "stdout",
     "output_type": "stream",
     "text": [
      "here -> /kaggle/input/nn-exp-01\n"
     ]
    },
    {
     "name": "stderr",
     "output_type": "stream",
     "text": [
      "Testing weights for nn_exp_01: 100%|██████████| 101/101 [00:38<00:00,  2.60it/s]\n"
     ]
    },
    {
     "name": "stdout",
     "output_type": "stream",
     "text": [
      "here -> /kaggle/input/tf-exp-01\n"
     ]
    },
    {
     "name": "stderr",
     "output_type": "stream",
     "text": [
      "Testing weights for tf_exp_01: 100%|██████████| 101/101 [00:38<00:00,  2.61it/s]\n"
     ]
    },
    {
     "name": "stdout",
     "output_type": "stream",
     "text": [
      "here -> /kaggle/input/svr-exp-01\n"
     ]
    },
    {
     "name": "stderr",
     "output_type": "stream",
     "text": [
      "Testing weights for svr_exp_01: 100%|██████████| 101/101 [00:38<00:00,  2.61it/s]\n"
     ]
    },
    {
     "name": "stdout",
     "output_type": "stream",
     "text": [
      "here -> /kaggle/input/catboost-exp-04\n"
     ]
    },
    {
     "name": "stderr",
     "output_type": "stream",
     "text": [
      "Testing weights for catboost_exp_04: 100%|██████████| 101/101 [00:38<00:00,  2.61it/s]\n"
     ]
    },
    {
     "name": "stdout",
     "output_type": "stream",
     "text": [
      "here -> /kaggle/input/lgbm-exp-04\n"
     ]
    },
    {
     "name": "stderr",
     "output_type": "stream",
     "text": [
      "Testing weights for lgbm_exp_04: 100%|██████████| 101/101 [00:38<00:00,  2.61it/s]\n"
     ]
    },
    {
     "name": "stdout",
     "output_type": "stream",
     "text": [
      "Iteration 9: Added /kaggle/input/tabm-exp-01 with weight 0.0400, Score: 0.6852\n",
      "9th iteration\n",
      "here -> /kaggle/input/xgboost-exp-01\n"
     ]
    },
    {
     "name": "stderr",
     "output_type": "stream",
     "text": [
      "Testing weights for xgboost_exp_01: 100%|██████████| 101/101 [00:38<00:00,  2.60it/s]\n"
     ]
    },
    {
     "name": "stdout",
     "output_type": "stream",
     "text": [
      "here -> /kaggle/input/lgbm-exp-01\n"
     ]
    },
    {
     "name": "stderr",
     "output_type": "stream",
     "text": [
      "Testing weights for lgbm_exp_01: 100%|██████████| 101/101 [00:38<00:00,  2.61it/s]\n"
     ]
    },
    {
     "name": "stdout",
     "output_type": "stream",
     "text": [
      "here -> /kaggle/input/xgboost-exp-02\n"
     ]
    },
    {
     "name": "stderr",
     "output_type": "stream",
     "text": [
      "Testing weights for xgboost_exp_02: 100%|██████████| 101/101 [00:38<00:00,  2.60it/s]\n"
     ]
    },
    {
     "name": "stdout",
     "output_type": "stream",
     "text": [
      "here -> /kaggle/input/lgbm-exp-03\n"
     ]
    },
    {
     "name": "stderr",
     "output_type": "stream",
     "text": [
      "Testing weights for lgbm_exp_03: 100%|██████████| 101/101 [00:38<00:00,  2.62it/s]\n"
     ]
    },
    {
     "name": "stdout",
     "output_type": "stream",
     "text": [
      "here -> /kaggle/input/nn-exp-01\n"
     ]
    },
    {
     "name": "stderr",
     "output_type": "stream",
     "text": [
      "Testing weights for nn_exp_01: 100%|██████████| 101/101 [00:38<00:00,  2.60it/s]\n"
     ]
    },
    {
     "name": "stdout",
     "output_type": "stream",
     "text": [
      "here -> /kaggle/input/tf-exp-01\n"
     ]
    },
    {
     "name": "stderr",
     "output_type": "stream",
     "text": [
      "Testing weights for tf_exp_01: 100%|██████████| 101/101 [00:38<00:00,  2.61it/s]\n"
     ]
    },
    {
     "name": "stdout",
     "output_type": "stream",
     "text": [
      "here -> /kaggle/input/svr-exp-01\n"
     ]
    },
    {
     "name": "stderr",
     "output_type": "stream",
     "text": [
      "Testing weights for svr_exp_01: 100%|██████████| 101/101 [00:38<00:00,  2.62it/s]\n"
     ]
    },
    {
     "name": "stdout",
     "output_type": "stream",
     "text": [
      "here -> /kaggle/input/catboost-exp-04\n"
     ]
    },
    {
     "name": "stderr",
     "output_type": "stream",
     "text": [
      "Testing weights for catboost_exp_04: 100%|██████████| 101/101 [00:38<00:00,  2.61it/s]\n"
     ]
    },
    {
     "name": "stdout",
     "output_type": "stream",
     "text": [
      "here -> /kaggle/input/lgbm-exp-04\n"
     ]
    },
    {
     "name": "stderr",
     "output_type": "stream",
     "text": [
      "Testing weights for lgbm_exp_04: 100%|██████████| 101/101 [00:38<00:00,  2.62it/s]\n"
     ]
    },
    {
     "name": "stdout",
     "output_type": "stream",
     "text": [
      "Iteration 10: Added /kaggle/input/xgboost-exp-02 with weight -0.0200, Score: 0.6852\n",
      "10th iteration\n",
      "here -> /kaggle/input/xgboost-exp-01\n"
     ]
    },
    {
     "name": "stderr",
     "output_type": "stream",
     "text": [
      "Testing weights for xgboost_exp_01: 100%|██████████| 101/101 [00:38<00:00,  2.59it/s]\n"
     ]
    },
    {
     "name": "stdout",
     "output_type": "stream",
     "text": [
      "here -> /kaggle/input/lgbm-exp-01\n"
     ]
    },
    {
     "name": "stderr",
     "output_type": "stream",
     "text": [
      "Testing weights for lgbm_exp_01: 100%|██████████| 101/101 [00:38<00:00,  2.61it/s]\n"
     ]
    },
    {
     "name": "stdout",
     "output_type": "stream",
     "text": [
      "here -> /kaggle/input/lgbm-exp-03\n"
     ]
    },
    {
     "name": "stderr",
     "output_type": "stream",
     "text": [
      "Testing weights for lgbm_exp_03: 100%|██████████| 101/101 [00:38<00:00,  2.61it/s]\n"
     ]
    },
    {
     "name": "stdout",
     "output_type": "stream",
     "text": [
      "here -> /kaggle/input/nn-exp-01\n"
     ]
    },
    {
     "name": "stderr",
     "output_type": "stream",
     "text": [
      "Testing weights for nn_exp_01: 100%|██████████| 101/101 [00:38<00:00,  2.60it/s]\n"
     ]
    },
    {
     "name": "stdout",
     "output_type": "stream",
     "text": [
      "here -> /kaggle/input/tf-exp-01\n"
     ]
    },
    {
     "name": "stderr",
     "output_type": "stream",
     "text": [
      "Testing weights for tf_exp_01: 100%|██████████| 101/101 [00:38<00:00,  2.61it/s]\n"
     ]
    },
    {
     "name": "stdout",
     "output_type": "stream",
     "text": [
      "here -> /kaggle/input/svr-exp-01\n"
     ]
    },
    {
     "name": "stderr",
     "output_type": "stream",
     "text": [
      "Testing weights for svr_exp_01: 100%|██████████| 101/101 [00:38<00:00,  2.61it/s]\n"
     ]
    },
    {
     "name": "stdout",
     "output_type": "stream",
     "text": [
      "here -> /kaggle/input/catboost-exp-04\n"
     ]
    },
    {
     "name": "stderr",
     "output_type": "stream",
     "text": [
      "Testing weights for catboost_exp_04: 100%|██████████| 101/101 [00:38<00:00,  2.62it/s]\n"
     ]
    },
    {
     "name": "stdout",
     "output_type": "stream",
     "text": [
      "here -> /kaggle/input/lgbm-exp-04\n"
     ]
    },
    {
     "name": "stderr",
     "output_type": "stream",
     "text": [
      "Testing weights for lgbm_exp_04: 100%|██████████| 101/101 [00:38<00:00,  2.60it/s]\n"
     ]
    },
    {
     "name": "stdout",
     "output_type": "stream",
     "text": [
      "Iteration 11: Added /kaggle/input/tf-exp-01 with weight 0.0300, Score: 0.6852\n",
      "11th iteration\n",
      "here -> /kaggle/input/xgboost-exp-01\n"
     ]
    },
    {
     "name": "stderr",
     "output_type": "stream",
     "text": [
      "Testing weights for xgboost_exp_01: 100%|██████████| 101/101 [00:38<00:00,  2.61it/s]\n"
     ]
    },
    {
     "name": "stdout",
     "output_type": "stream",
     "text": [
      "here -> /kaggle/input/lgbm-exp-01\n"
     ]
    },
    {
     "name": "stderr",
     "output_type": "stream",
     "text": [
      "Testing weights for lgbm_exp_01: 100%|██████████| 101/101 [00:38<00:00,  2.62it/s]\n"
     ]
    },
    {
     "name": "stdout",
     "output_type": "stream",
     "text": [
      "here -> /kaggle/input/lgbm-exp-03\n"
     ]
    },
    {
     "name": "stderr",
     "output_type": "stream",
     "text": [
      "Testing weights for lgbm_exp_03: 100%|██████████| 101/101 [00:38<00:00,  2.62it/s]\n"
     ]
    },
    {
     "name": "stdout",
     "output_type": "stream",
     "text": [
      "here -> /kaggle/input/nn-exp-01\n"
     ]
    },
    {
     "name": "stderr",
     "output_type": "stream",
     "text": [
      "Testing weights for nn_exp_01: 100%|██████████| 101/101 [00:39<00:00,  2.57it/s]\n"
     ]
    },
    {
     "name": "stdout",
     "output_type": "stream",
     "text": [
      "here -> /kaggle/input/svr-exp-01\n"
     ]
    },
    {
     "name": "stderr",
     "output_type": "stream",
     "text": [
      "Testing weights for svr_exp_01: 100%|██████████| 101/101 [00:39<00:00,  2.54it/s]\n"
     ]
    },
    {
     "name": "stdout",
     "output_type": "stream",
     "text": [
      "here -> /kaggle/input/catboost-exp-04\n"
     ]
    },
    {
     "name": "stderr",
     "output_type": "stream",
     "text": [
      "Testing weights for catboost_exp_04: 100%|██████████| 101/101 [00:38<00:00,  2.60it/s]\n"
     ]
    },
    {
     "name": "stdout",
     "output_type": "stream",
     "text": [
      "here -> /kaggle/input/lgbm-exp-04\n"
     ]
    },
    {
     "name": "stderr",
     "output_type": "stream",
     "text": [
      "Testing weights for lgbm_exp_04: 100%|██████████| 101/101 [00:38<00:00,  2.62it/s]\n"
     ]
    },
    {
     "name": "stdout",
     "output_type": "stream",
     "text": [
      "Iteration 12: Added /kaggle/input/svr-exp-01 with weight -0.0200, Score: 0.6852\n",
      "12th iteration\n",
      "here -> /kaggle/input/xgboost-exp-01\n"
     ]
    },
    {
     "name": "stderr",
     "output_type": "stream",
     "text": [
      "Testing weights for xgboost_exp_01: 100%|██████████| 101/101 [00:38<00:00,  2.61it/s]\n"
     ]
    },
    {
     "name": "stdout",
     "output_type": "stream",
     "text": [
      "here -> /kaggle/input/lgbm-exp-01\n"
     ]
    },
    {
     "name": "stderr",
     "output_type": "stream",
     "text": [
      "Testing weights for lgbm_exp_01: 100%|██████████| 101/101 [00:38<00:00,  2.62it/s]\n"
     ]
    },
    {
     "name": "stdout",
     "output_type": "stream",
     "text": [
      "here -> /kaggle/input/lgbm-exp-03\n"
     ]
    },
    {
     "name": "stderr",
     "output_type": "stream",
     "text": [
      "Testing weights for lgbm_exp_03: 100%|██████████| 101/101 [00:38<00:00,  2.63it/s]\n"
     ]
    },
    {
     "name": "stdout",
     "output_type": "stream",
     "text": [
      "here -> /kaggle/input/nn-exp-01\n"
     ]
    },
    {
     "name": "stderr",
     "output_type": "stream",
     "text": [
      "Testing weights for nn_exp_01: 100%|██████████| 101/101 [00:39<00:00,  2.57it/s]\n"
     ]
    },
    {
     "name": "stdout",
     "output_type": "stream",
     "text": [
      "here -> /kaggle/input/catboost-exp-04\n"
     ]
    },
    {
     "name": "stderr",
     "output_type": "stream",
     "text": [
      "Testing weights for catboost_exp_04: 100%|██████████| 101/101 [00:39<00:00,  2.58it/s]\n"
     ]
    },
    {
     "name": "stdout",
     "output_type": "stream",
     "text": [
      "here -> /kaggle/input/lgbm-exp-04\n"
     ]
    },
    {
     "name": "stderr",
     "output_type": "stream",
     "text": [
      "Testing weights for lgbm_exp_04: 100%|██████████| 101/101 [00:38<00:00,  2.60it/s]\n"
     ]
    },
    {
     "name": "stdout",
     "output_type": "stream",
     "text": [
      "Iteration 13: Added /kaggle/input/lgbm-exp-03 with weight -0.0300, Score: 0.6852\n",
      "13th iteration\n",
      "here -> /kaggle/input/xgboost-exp-01\n"
     ]
    },
    {
     "name": "stderr",
     "output_type": "stream",
     "text": [
      "Testing weights for xgboost_exp_01: 100%|██████████| 101/101 [00:38<00:00,  2.61it/s]\n"
     ]
    },
    {
     "name": "stdout",
     "output_type": "stream",
     "text": [
      "here -> /kaggle/input/lgbm-exp-01\n"
     ]
    },
    {
     "name": "stderr",
     "output_type": "stream",
     "text": [
      "Testing weights for lgbm_exp_01: 100%|██████████| 101/101 [00:38<00:00,  2.62it/s]\n"
     ]
    },
    {
     "name": "stdout",
     "output_type": "stream",
     "text": [
      "here -> /kaggle/input/nn-exp-01\n"
     ]
    },
    {
     "name": "stderr",
     "output_type": "stream",
     "text": [
      "Testing weights for nn_exp_01: 100%|██████████| 101/101 [00:38<00:00,  2.62it/s]\n"
     ]
    },
    {
     "name": "stdout",
     "output_type": "stream",
     "text": [
      "here -> /kaggle/input/catboost-exp-04\n"
     ]
    },
    {
     "name": "stderr",
     "output_type": "stream",
     "text": [
      "Testing weights for catboost_exp_04: 100%|██████████| 101/101 [00:38<00:00,  2.61it/s]\n"
     ]
    },
    {
     "name": "stdout",
     "output_type": "stream",
     "text": [
      "here -> /kaggle/input/lgbm-exp-04\n"
     ]
    },
    {
     "name": "stderr",
     "output_type": "stream",
     "text": [
      "Testing weights for lgbm_exp_04: 100%|██████████| 101/101 [00:38<00:00,  2.62it/s]\n"
     ]
    },
    {
     "name": "stdout",
     "output_type": "stream",
     "text": [
      "Iteration 14: Added /kaggle/input/nn-exp-01 with weight -0.0100, Score: 0.6853\n",
      "14th iteration\n",
      "here -> /kaggle/input/xgboost-exp-01\n"
     ]
    },
    {
     "name": "stderr",
     "output_type": "stream",
     "text": [
      "Testing weights for xgboost_exp_01: 100%|██████████| 101/101 [00:38<00:00,  2.61it/s]\n"
     ]
    },
    {
     "name": "stdout",
     "output_type": "stream",
     "text": [
      "here -> /kaggle/input/lgbm-exp-01\n"
     ]
    },
    {
     "name": "stderr",
     "output_type": "stream",
     "text": [
      "Testing weights for lgbm_exp_01: 100%|██████████| 101/101 [00:38<00:00,  2.63it/s]\n"
     ]
    },
    {
     "name": "stdout",
     "output_type": "stream",
     "text": [
      "here -> /kaggle/input/catboost-exp-04\n"
     ]
    },
    {
     "name": "stderr",
     "output_type": "stream",
     "text": [
      "Testing weights for catboost_exp_04: 100%|██████████| 101/101 [00:38<00:00,  2.62it/s]\n"
     ]
    },
    {
     "name": "stdout",
     "output_type": "stream",
     "text": [
      "here -> /kaggle/input/lgbm-exp-04\n"
     ]
    },
    {
     "name": "stderr",
     "output_type": "stream",
     "text": [
      "Testing weights for lgbm_exp_04: 100%|██████████| 101/101 [00:38<00:00,  2.63it/s]\n"
     ]
    },
    {
     "name": "stdout",
     "output_type": "stream",
     "text": [
      "Iteration 15: Added /kaggle/input/xgboost-exp-01 with weight 0.0100, Score: 0.6853\n",
      "15th iteration\n",
      "here -> /kaggle/input/lgbm-exp-01\n"
     ]
    },
    {
     "name": "stderr",
     "output_type": "stream",
     "text": [
      "Testing weights for lgbm_exp_01: 100%|██████████| 101/101 [00:38<00:00,  2.62it/s]\n"
     ]
    },
    {
     "name": "stdout",
     "output_type": "stream",
     "text": [
      "here -> /kaggle/input/catboost-exp-04\n"
     ]
    },
    {
     "name": "stderr",
     "output_type": "stream",
     "text": [
      "Testing weights for catboost_exp_04: 100%|██████████| 101/101 [00:38<00:00,  2.61it/s]\n"
     ]
    },
    {
     "name": "stdout",
     "output_type": "stream",
     "text": [
      "here -> /kaggle/input/lgbm-exp-04\n"
     ]
    },
    {
     "name": "stderr",
     "output_type": "stream",
     "text": [
      "Testing weights for lgbm_exp_04: 100%|██████████| 101/101 [00:38<00:00,  2.63it/s]\n"
     ]
    },
    {
     "name": "stdout",
     "output_type": "stream",
     "text": [
      "Iteration 16: Added /kaggle/input/catboost-exp-04 with weight 0.0100, Score: 0.6853\n",
      "16th iteration\n",
      "here -> /kaggle/input/lgbm-exp-01\n"
     ]
    },
    {
     "name": "stderr",
     "output_type": "stream",
     "text": [
      "Testing weights for lgbm_exp_01: 100%|██████████| 101/101 [00:38<00:00,  2.62it/s]\n"
     ]
    },
    {
     "name": "stdout",
     "output_type": "stream",
     "text": [
      "here -> /kaggle/input/lgbm-exp-04\n"
     ]
    },
    {
     "name": "stderr",
     "output_type": "stream",
     "text": [
      "Testing weights for lgbm_exp_04: 100%|██████████| 101/101 [00:38<00:00,  2.62it/s]\n"
     ]
    },
    {
     "name": "stdout",
     "output_type": "stream",
     "text": [
      "Iteration 17: Added /kaggle/input/lgbm-exp-01 with weight 0.0100, Score: 0.6853\n",
      "17th iteration\n",
      "here -> /kaggle/input/lgbm-exp-04\n"
     ]
    },
    {
     "name": "stderr",
     "output_type": "stream",
     "text": [
      "Testing weights for lgbm_exp_04: 100%|██████████| 101/101 [00:38<00:00,  2.62it/s]\n"
     ]
    },
    {
     "name": "stdout",
     "output_type": "stream",
     "text": [
      "No improvement found, stopping\n",
      "{'index': -1, 'weight': 0, 'score': 0.6852662847601018}\n",
      "CPU times: user 2h 36min 1s, sys: 12.6 s, total: 2h 36min 14s\n",
      "Wall time: 2h 36min 1s\n"
     ]
    }
   ],
   "source": [
    "%%time\n",
    "\n",
    "from tqdm import tqdm\n",
    "import pandas as pd\n",
    "import numpy as np\n",
    "from typing import List, Dict, Tuple\n",
    "import logging\n",
    "import gc\n",
    "\n",
    "def optimize_ensemble(experiments, initial_ensemble, weights_range, score_function, max_iterations = 100):\n",
    "    \n",
    "    # Initialize variables\n",
    "    iteration  = 0\n",
    "    best_score = score_function(\n",
    "        initial_ensemble[[\"ID\", \"efs\", \"efs_time\", \"race_group\"]].copy(),\n",
    "        initial_ensemble[[\"ID\", \"predictions\"]].copy(),\n",
    "        \"ID\"\n",
    "    )\n",
    "    \n",
    "    model_weights         = {}\n",
    "    remaining_experiments = experiments.copy()\n",
    "    best_ensemble         = initial_ensemble.copy()\n",
    "    \n",
    "    while remaining_experiments and iteration < max_iterations:\n",
    "        print(f\"{iteration}th iteration\")\n",
    "        iteration += 1\n",
    "        best_iteration = {\n",
    "            'index' : -1,\n",
    "            'weight': 0,\n",
    "            'score' : best_score\n",
    "        }\n",
    "        \n",
    "        # Try each remaining model\n",
    "        for model_path in remaining_experiments:\n",
    "            try:\n",
    "                #print(f\"Iteration {iteration}: Trying model {model_path}\")\n",
    "                \n",
    "                # Load model OOF predictions\n",
    "                model_name = model_path.split(\"/\")[-1].replace('-', '_')\n",
    "                print(f\"here -> {model_path}\")\n",
    "                if model_path in parquet_experiments:\n",
    "                    oof_path   = f\"{model_path}/{model_name}_oof.parquet\"\n",
    "                    model_oof  = pd.read_parquet(oof_path)\n",
    "                else:\n",
    "                    oof_path   = f\"{model_path}/{model_name}_oof.xlsx\"\n",
    "                    model_oof  = pd.read_excel(oof_path)\n",
    "                \n",
    "                # Try different weights\n",
    "                for weight in tqdm(weights_range, desc=f\"Testing weights for {model_name}\"):\n",
    "                    # Create potential ensemble\n",
    "                    potential_ensemble = pd.DataFrame({\n",
    "                        \"ID\": best_ensemble[\"ID\"],\n",
    "                        \"predictions\": (1 - weight) * rankdata(best_ensemble[\"predictions\"]) + \n",
    "                                     weight * rankdata(model_oof[\"predictions\"])\n",
    "                    })\n",
    "                    \n",
    "                    # Evaluate new ensemble\n",
    "                    new_score = score_function(\n",
    "                        model_oof[[\"ID\", \"efs\", \"efs_time\", \"race_group\"]].copy(),\n",
    "                        potential_ensemble.copy(),\n",
    "                        \"ID\"\n",
    "                    )\n",
    "                    \n",
    "                    # Update best if improved\n",
    "                    if new_score > best_iteration['score']:\n",
    "                        best_iteration.update({\n",
    "                            'index' : model_path,\n",
    "                            'weight': weight,\n",
    "                            'score' : new_score\n",
    "                        })\n",
    "                \n",
    "                # Clean up\n",
    "                del model_oof\n",
    "                gc.collect()\n",
    "                \n",
    "            except Exception as e:\n",
    "                print(f\"Error processing {model_path}: {str(e)}\")\n",
    "                continue\n",
    "        \n",
    "        # Check if we found an improvement\n",
    "        if best_iteration['index'] == -1:\n",
    "            print(\"No improvement found, stopping\")\n",
    "            print(best_iteration)\n",
    "            break\n",
    "            \n",
    "        # Update ensemble with best model found\n",
    "        best_score                             = best_iteration['score']\n",
    "        model_weights[best_iteration['index']] = best_iteration['weight']\n",
    "        remaining_experiments.remove(best_iteration['index'])\n",
    "        \n",
    "        print(\n",
    "            f\"Iteration {iteration}: Added {best_iteration['index']} \"\n",
    "            f\"with weight {best_iteration['weight']:.4f}, \"\n",
    "            f\"Score: {best_iteration['score']:.4f}\"\n",
    "        )\n",
    "        \n",
    "        # Update best ensemble for next iteration\n",
    "        if best_iteration['index'] in parquet_experiments:\n",
    "            model_oof = pd.read_parquet(\n",
    "            f\"{best_iteration['index']}/{best_iteration['index'].split('/')[-1].replace('-', '_')}_oof.parquet\"\n",
    "            )\n",
    "        else:\n",
    "            model_oof = pd.read_excel(\n",
    "            f\"{best_iteration['index']}/{best_iteration['index'].split('/')[-1].replace('-', '_')}_oof.xlsx\"\n",
    "            )\n",
    "                    \n",
    "        \n",
    "        best_ensemble[\"predictions\"] = (\n",
    "            (1 - best_iteration['weight']) * rankdata(best_ensemble[\"predictions\"]) + \n",
    "            best_iteration['weight'] * rankdata(model_oof[\"predictions\"])\n",
    "        )\n",
    "        \n",
    "    return model_weights, best_score\n",
    "\n",
    "\n",
    "model_weights, best_score = optimize_ensemble(experiments, best_ensemble, ww, score)"
   ]
  },
  {
   "cell_type": "code",
   "execution_count": 17,
   "id": "6810cc17",
   "metadata": {
    "execution": {
     "iopub.execute_input": "2025-02-01T18:55:15.781448Z",
     "iopub.status.busy": "2025-02-01T18:55:15.781112Z",
     "iopub.status.idle": "2025-02-01T18:55:15.787529Z",
     "shell.execute_reply": "2025-02-01T18:55:15.786501Z"
    },
    "papermill": {
     "duration": 1.034702,
     "end_time": "2025-02-01T18:55:15.789093",
     "exception": false,
     "start_time": "2025-02-01T18:55:14.754391",
     "status": "completed"
    },
    "tags": []
   },
   "outputs": [
    {
     "data": {
      "text/plain": [
       "({'/kaggle/input/catboost-exp-01': 0.3900000000000008,\n",
       "  '/kaggle/input/catboost-exp-02': 0.23000000000000065,\n",
       "  '/kaggle/input/tabm-exp-02': 0.13000000000000056,\n",
       "  '/kaggle/input/ds-exp-01': 0.020000000000000462,\n",
       "  '/kaggle/input/nn-exp-02': -0.0499999999999996,\n",
       "  '/kaggle/input/abd-exp-01': 0.0700000000000005,\n",
       "  '/kaggle/input/catboost-exp-03': -0.0499999999999996,\n",
       "  '/kaggle/input/tn-exp-01': -0.029999999999999583,\n",
       "  '/kaggle/input/tabm-exp-01': 0.04000000000000048,\n",
       "  '/kaggle/input/xgboost-exp-02': -0.019999999999999574,\n",
       "  '/kaggle/input/tf-exp-01': 0.03000000000000047,\n",
       "  '/kaggle/input/svr-exp-01': -0.019999999999999574,\n",
       "  '/kaggle/input/lgbm-exp-03': -0.029999999999999583,\n",
       "  '/kaggle/input/nn-exp-01': -0.009999999999999565,\n",
       "  '/kaggle/input/xgboost-exp-01': 0.010000000000000453,\n",
       "  '/kaggle/input/catboost-exp-04': 0.010000000000000453,\n",
       "  '/kaggle/input/lgbm-exp-01': 0.010000000000000453},\n",
       " 0.6852662847601018)"
      ]
     },
     "execution_count": 17,
     "metadata": {},
     "output_type": "execute_result"
    }
   ],
   "source": [
    "model_weights, best_score"
   ]
  },
  {
   "cell_type": "code",
   "execution_count": 18,
   "id": "fb602540",
   "metadata": {
    "execution": {
     "iopub.execute_input": "2025-02-01T18:55:18.063803Z",
     "iopub.status.busy": "2025-02-01T18:55:18.063400Z",
     "iopub.status.idle": "2025-02-01T18:55:18.069555Z",
     "shell.execute_reply": "2025-02-01T18:55:18.068553Z"
    },
    "papermill": {
     "duration": 1.044375,
     "end_time": "2025-02-01T18:55:18.071114",
     "exception": false,
     "start_time": "2025-02-01T18:55:17.026739",
     "status": "completed"
    },
    "tags": []
   },
   "outputs": [
    {
     "data": {
      "text/plain": [
       "('/kaggle/input/nn-exp-04',\n",
       " ['/kaggle/input/xgboost-exp-01',\n",
       "  '/kaggle/input/catboost-exp-01',\n",
       "  '/kaggle/input/lgbm-exp-01',\n",
       "  '/kaggle/input/xgboost-exp-02',\n",
       "  '/kaggle/input/catboost-exp-02',\n",
       "  '/kaggle/input/lgbm-exp-03',\n",
       "  '/kaggle/input/catboost-exp-03',\n",
       "  '/kaggle/input/tabm-exp-01',\n",
       "  '/kaggle/input/nn-exp-01',\n",
       "  '/kaggle/input/tn-exp-01',\n",
       "  '/kaggle/input/tf-exp-01',\n",
       "  '/kaggle/input/svr-exp-01',\n",
       "  '/kaggle/input/abd-exp-01',\n",
       "  '/kaggle/input/catboost-exp-04',\n",
       "  '/kaggle/input/lgbm-exp-04',\n",
       "  '/kaggle/input/tabm-exp-02',\n",
       "  '/kaggle/input/ds-exp-01',\n",
       "  '/kaggle/input/nn-exp-02'])"
      ]
     },
     "execution_count": 18,
     "metadata": {},
     "output_type": "execute_result"
    }
   ],
   "source": [
    "first_best_index, experiments"
   ]
  },
  {
   "cell_type": "markdown",
   "id": "160e5248",
   "metadata": {
    "papermill": {
     "duration": 1.016083,
     "end_time": "2025-02-01T18:55:20.210277",
     "exception": false,
     "start_time": "2025-02-01T18:55:19.194194",
     "status": "completed"
    },
    "tags": []
   },
   "source": [
    "## Step 6: Inference on test"
   ]
  },
  {
   "cell_type": "code",
   "execution_count": 19,
   "id": "f6c6092a",
   "metadata": {
    "execution": {
     "iopub.execute_input": "2025-02-01T18:55:22.342897Z",
     "iopub.status.busy": "2025-02-01T18:55:22.342536Z",
     "iopub.status.idle": "2025-02-01T18:55:22.349366Z",
     "shell.execute_reply": "2025-02-01T18:55:22.348388Z"
    },
    "jupyter": {
     "source_hidden": true
    },
    "papermill": {
     "duration": 1.023059,
     "end_time": "2025-02-01T18:55:22.351037",
     "exception": false,
     "start_time": "2025-02-01T18:55:21.327978",
     "status": "completed"
    },
    "tags": []
   },
   "outputs": [],
   "source": [
    "# class CFG:\n",
    "#     folds = 10\n",
    "\n",
    "# # https://www.kaggle.com/datasets/jsday96/mcts-tabm-models/data?select=TabMRegressor.py\n",
    "# class TabMRegressor:\n",
    "#     def __init__(\n",
    "#         self,\n",
    "#         arch_type: str        = 'tabm-mini',\n",
    "#         backbone: dict        = {'type': 'MLP', 'n_blocks': 3, 'd_block': 512, 'dropout': 0.1},\n",
    "#         d_embedding: int      = 64,  # Only used for 'tabm-mini'\n",
    "#         bin_count: int        = 48,  # Only used for 'tabm-mini'\n",
    "#         k: int                = 32,\n",
    "#         learning_rate: float  = 1e-4,\n",
    "#         weight_decay: float   = 1e-3,\n",
    "#         clip_grad_norm: bool  = True,\n",
    "#         max_epochs: int       = 100,\n",
    "#         patience: int         = 15,\n",
    "#         batch_size: int       = 32,\n",
    "#         compile_model: bool   = False,\n",
    "#         device: Optional[str] = 'cuda:0',\n",
    "#         random_state: int     = 0,\n",
    "#         verbose: bool         = True\n",
    "#     ):\n",
    "#         self.arch_type = arch_type\n",
    "#         self.backbone = backbone\n",
    "#         self.d_embedding = d_embedding\n",
    "#         self.bin_count = bin_count\n",
    "#         self.k = k\n",
    "#         self.learning_rate = learning_rate\n",
    "#         self.weight_decay = weight_decay\n",
    "#         self.clip_grad_norm = clip_grad_norm\n",
    "#         self.max_epochs = max_epochs\n",
    "#         self.patience = patience\n",
    "#         self.batch_size = batch_size\n",
    "#         self.compile_model = compile_model\n",
    "#         self.device = torch.device(device if device else ('cuda' if torch.cuda.is_available() else 'cpu'))\n",
    "#         self.random_state = random_state\n",
    "#         self.verbose = verbose\n",
    "\n",
    "#     def fit(\n",
    "#         self,\n",
    "#         X: pd.DataFrame,\n",
    "#         y: np.array,\n",
    "#         eval_set: Tuple[pd.DataFrame, np.array]\n",
    "#     ):\n",
    "#         # PREPROCESS DATA.\n",
    "#         X_cat_train, X_cont_train, cat_cardinalities, y_train = self._preprocess_data(X, y, training=True)\n",
    "#         X_cat_val, X_cont_val, _, y_val = self._preprocess_data(eval_set[0], eval_set[1], training=False)\n",
    "\n",
    "#         # CREATE MODEL & TRAINING ALGO.\n",
    "#         bins = rtdl_num_embeddings.compute_bins(X_cont_train, n_bins=self.bin_count) if self.arch_type == 'tabm-mini' else None\n",
    "#         self.model = Model(\n",
    "#             n_num_features=X_cont_train.shape[1],\n",
    "#             cat_cardinalities=cat_cardinalities,\n",
    "#             n_classes=None,\n",
    "#             backbone=self.backbone,\n",
    "#             bins=bins,\n",
    "#             num_embeddings=(\n",
    "#                 None\n",
    "#                 if bins is None\n",
    "#                 else {\n",
    "#                     'type': 'PiecewiseLinearEmbeddings',\n",
    "#                     'd_embedding': self.d_embedding,\n",
    "#                     'activation': True,\n",
    "#                     'version': 'B',\n",
    "#                 }\n",
    "#             ),\n",
    "#             arch_type=self.arch_type,\n",
    "#             k=self.k,\n",
    "#         ).to(self.device)\n",
    "#         optimizer = torch.optim.AdamW(make_parameter_groups(self.model), lr=self.learning_rate, weight_decay=self.weight_decay)\n",
    "#         if self.compile_model:\n",
    "#             self.model = torch.compile(self.model)\n",
    "\n",
    "#         loss_fn = torch.nn.MSELoss().to(self.device)\n",
    "#         # TRAIN & TEST MODEL.\n",
    "#         best = {\n",
    "#             'epoch': -1,\n",
    "#             'eval_loss': math.inf,\n",
    "#             'model_state_dict': None,\n",
    "#         }\n",
    "#         remaining_patience = self.patience\n",
    "#         epoch_size = math.ceil(len(X) / self.batch_size)\n",
    "\n",
    "\n",
    "#         for epoch in range(self.max_epochs):\n",
    "#             # TRAIN.\n",
    "#             optimizer.zero_grad()\n",
    "#             train_losses = []\n",
    "#             progress_bar = torch.randperm(len(y_train), device=self.device).split(self.batch_size)\n",
    "#             progress_bar = tqdm(progress_bar, desc=f'Epoch {epoch}', total=epoch_size) if self.verbose else progress_bar\n",
    "#             for batch_idx in progress_bar:\n",
    "#                 self.model.train()\n",
    "\n",
    "#                 with torch.amp.autocast(device_type='cuda', dtype = torch.bfloat16):\n",
    "#                     y_pred = self.model(\n",
    "#                         X_cont_train[batch_idx],\n",
    "#                         X_cat_train[batch_idx],\n",
    "#                     ).squeeze(-1).float()\n",
    "\n",
    "#                 loss = loss_fn(y_pred.flatten(0, 1), y_train[batch_idx].repeat_interleave(self.k))\n",
    "#                 loss.backward()\n",
    "#                 if self.clip_grad_norm:\n",
    "#                     torch.nn.utils.clip_grad_norm_(self.model.parameters(), 1.0)\n",
    "#                 optimizer.step()\n",
    "\n",
    "#                 train_losses.append(loss.item())\n",
    "\n",
    "\n",
    "#              # EVALUATE.\n",
    "#             self.model.eval()\n",
    "#             val_losses = []\n",
    "#             with torch.no_grad():\n",
    "#                 for batch_idx in torch.arange(0, len(y_val), self.batch_size, device=self.device):\n",
    "#                     y_pred = self.model(\n",
    "#                         X_cont_val[batch_idx:batch_idx+self.batch_size],\n",
    "#                         X_cat_val[batch_idx:batch_idx+self.batch_size],\n",
    "#                     ).squeeze(-1).float()\n",
    "\n",
    "#                     loss = loss_fn(y_pred.flatten(0, 1), y_val[batch_idx:batch_idx+self.batch_size].repeat_interleave(self.k))\n",
    "#                     val_losses.append(loss.item())\n",
    "\n",
    "\n",
    "#             # PRINT INFO.\n",
    "#             mean_train_loss = np.mean(train_losses)\n",
    "#             mean_val_loss = np.mean(val_losses)\n",
    "#             if self.verbose:\n",
    "#                 print(f'Epoch {epoch} | Train Loss: {mean_train_loss} | Val Loss: {mean_val_loss}')\n",
    "\n",
    "\n",
    "#             # COMPARE TO BEST.\n",
    "#             if mean_val_loss < best['eval_loss']:\n",
    "#                 best['epoch'] = epoch\n",
    "#                 best['eval_loss'] = mean_val_loss\n",
    "#                 best['model_state_dict'] = self.model.state_dict()\n",
    "#                 remaining_patience = self.patience\n",
    "                \n",
    "#                 if self.verbose:\n",
    "#                     print('🌸 New best epoch! 🌸')\n",
    "#             else:\n",
    "#                 remaining_patience -= 1\n",
    "\n",
    "#             # EARLY STOPPING.\n",
    "#             if remaining_patience == 0:\n",
    "#                 break\n",
    "\n",
    "#             # RESTORE BEST MODEL.\n",
    "#             self.model.load_state_dict(best['model_state_dict'])\n",
    "\n",
    "\n",
    "#     def predict(\n",
    "#         self,\n",
    "#         X: pd.DataFrame,\n",
    "#         batch_size: Optional[int] = 8096\n",
    "#     ) -> np.ndarray:\n",
    "#         # PREPROCESS DATA.\n",
    "#         X_cat, X_cont, _, _ = self._preprocess_data(X, y=None, training=False)\n",
    "\n",
    "#         # PREDICT.\n",
    "#         self.model.eval()\n",
    "#         y_pred = []\n",
    "#         with torch.no_grad():\n",
    "#             for batch_idx in torch.arange(0, len(X), batch_size, device=self.device):\n",
    "#                 y_pred.append(\n",
    "#                     self.model(\n",
    "#                         X_cont[batch_idx:batch_idx+batch_size],\n",
    "#                         X_cat[batch_idx:batch_idx+batch_size],\n",
    "#                     ).squeeze(-1).float().cpu().numpy()\n",
    "#                 )\n",
    "\n",
    "#         y_pred = np.concatenate(y_pred)\n",
    "\n",
    "\n",
    "#         # DENORMALIZE TARGETS.\n",
    "#         y_pred = y_pred * self._target_std + self._target_mean\n",
    "\n",
    "\n",
    "#         # COMPUTE ENSEMBLE MEAN.\n",
    "#         y_pred = np.mean(y_pred, axis=1)\n",
    "\n",
    "#         return y_pred\n",
    "\n",
    "\n",
    "#     def _preprocess_data(self, X: pd.DataFrame, y: pd.Series, training: bool):\n",
    "#         # PICK NON-CONSTANT COLUMNS.\n",
    "#         if training:\n",
    "#             self._non_constant_columns = X.columns[X.nunique() > 1]\n",
    "\n",
    "#         X = X[self._non_constant_columns]\n",
    "\n",
    "#         # SEPARATE CATEGORICAL & CONTINUOUS FEATURES.\n",
    "#         categorical_features = [col for col in X.columns if X[col].dtype.name == 'object']\n",
    "#         X_cat = X[categorical_features].to_numpy()\n",
    "#         X_cont = X.drop(columns=categorical_features).to_numpy()\n",
    "\n",
    "#         # ENCODE CATEGORICAL FEATURES.\n",
    "#         cat_cardinalities = [X[col].nunique() for col in categorical_features]\n",
    "\n",
    "#         if training:\n",
    "#             self._categorical_encoders = [\n",
    "#                 OrdinalEncoder()\n",
    "#                 for _ in range(X_cat.shape[1])\n",
    "#             ]\n",
    "#         X_cat = np.concatenate([\n",
    "#             encoder.fit_transform(X_cat[:, i:i+1])\n",
    "#             for i, encoder in enumerate(self._categorical_encoders)\n",
    "#         ], axis=1)\n",
    "\n",
    "#         # NORMALIZE TARGETS.\n",
    "#         if training:\n",
    "#             self._target_mean = y.mean()\n",
    "#             self._target_std = y.std()\n",
    "\n",
    "#             y = (y - self._target_mean) / self._target_std\n",
    "\n",
    "\n",
    "#         # SCALE CONTINUOUS FEATURES.\n",
    "#         if training:\n",
    "#             noise = (\n",
    "#                 np.random.default_rng(0)\n",
    "#                 .normal(0.0, 1e-5, X_cont.shape)\n",
    "#                 .astype(X_cont.dtype)\n",
    "#             )\n",
    "#             self._cont_feature_preprocessor = QuantileTransformer(\n",
    "#                 n_quantiles=max(min(len(X) // 30, 1000), 10),\n",
    "#                 output_distribution='normal',\n",
    "#                 subsample=10**9,\n",
    "#             ).fit(X_cont + noise)\n",
    "\n",
    "#         X_cont = self._cont_feature_preprocessor.transform(X_cont)\n",
    "\n",
    "\n",
    "#         # CONVERT TO TENSORS.\n",
    "#         X_cat = torch.tensor(X_cat, dtype=torch.long, device=self.device)\n",
    "#         X_cont = torch.tensor(X_cont, dtype=torch.float32, device=self.device)\n",
    "\n",
    "#         if y is not None:\n",
    "#             y = torch.tensor(y, dtype=torch.float32, device=self.device)\n",
    "\n",
    "#         return X_cat, X_cont, cat_cardinalities, y\n"
   ]
  },
  {
   "cell_type": "code",
   "execution_count": 20,
   "id": "40aff996",
   "metadata": {
    "execution": {
     "iopub.execute_input": "2025-02-01T18:55:24.490181Z",
     "iopub.status.busy": "2025-02-01T18:55:24.489811Z",
     "iopub.status.idle": "2025-02-01T18:55:24.493809Z",
     "shell.execute_reply": "2025-02-01T18:55:24.492871Z"
    },
    "jupyter": {
     "source_hidden": true
    },
    "papermill": {
     "duration": 1.023589,
     "end_time": "2025-02-01T18:55:24.495343",
     "exception": false,
     "start_time": "2025-02-01T18:55:23.471754",
     "status": "completed"
    },
    "tags": []
   },
   "outputs": [],
   "source": [
    "# def get_tabm_features(data):\n",
    "#     RMV = [\"ID\",\"efs\",\"efs_time\",\"y\",\"fold\"]\n",
    "#     FEATURES = [c for c in data.columns if not c in RMV]\n",
    "    \n",
    "#     RMV              = ['ID']\n",
    "#     X_test           = data.drop(RMV, axis=1)\n",
    "#     y_pred           = data[['ID']]\n",
    "    \n",
    "#     #print(\"X_test shape:\", X_test.shape, '\\n')\n",
    "    \n",
    "#     cat_cols         = X_test.select_dtypes(include=['object']).columns.tolist()\n",
    "#     num_cols         = X_test.select_dtypes(exclude=['object']).columns.tolist()\n",
    "    \n",
    "#     # Preprocessing categorical\n",
    "#     imputer          = SimpleImputer(strategy='constant', fill_value='NAN')\n",
    "#     X_test[cat_cols] = imputer.fit_transform(X_test[cat_cols])\n",
    "\n",
    "#     # Preprocessing numerical\n",
    "#     imputer          = SimpleImputer(strategy=\"median\")\n",
    "#     X_test[num_cols] = imputer.fit_transform(X_test[num_cols])\n",
    "\n",
    "#     return X_test,FEATURES"
   ]
  },
  {
   "cell_type": "code",
   "execution_count": 21,
   "id": "76962281",
   "metadata": {
    "execution": {
     "iopub.execute_input": "2025-02-01T18:55:26.676533Z",
     "iopub.status.busy": "2025-02-01T18:55:26.676183Z",
     "iopub.status.idle": "2025-02-01T18:55:26.680553Z",
     "shell.execute_reply": "2025-02-01T18:55:26.679596Z"
    },
    "jupyter": {
     "source_hidden": true
    },
    "papermill": {
     "duration": 1.058326,
     "end_time": "2025-02-01T18:55:26.682203",
     "exception": false,
     "start_time": "2025-02-01T18:55:25.623877",
     "status": "completed"
    },
    "tags": []
   },
   "outputs": [],
   "source": [
    "# def prepare_features(model_path, train, test):\n",
    "\n",
    "#     RMV = [\"ID\",\"efs\",\"efs_time\",\"y\"]\n",
    "#     FEATURES = [c for c in train.columns if not c in RMV]\n",
    "#     #print(f\"There are {len(FEATURES)} FEATURES: {FEATURES}\")\n",
    "    \n",
    "\n",
    "#     CATS = []\n",
    "#     for c in FEATURES:\n",
    "#         if train[c].dtype==\"object\":\n",
    "#             CATS.append(c)\n",
    "#             train[c] = train[c].fillna(\"NAN\")\n",
    "#             test[c]  = test[c].fillna(\"NAN\")\n",
    "#         elif \"DeepTabels\" in model_path or \"tn\" in model_path or \"svr\" in model_path:\n",
    "#             train[c] = train[c].fillna(-1)\n",
    "#             test[c]  = test[c].fillna(-1)\n",
    "            \n",
    "        \n",
    "#     #print(f\"In these features, there are {len(CATS)} CATEGORICAL FEATURES: {CATS}\")\n",
    "    \n",
    "#     combined = pd.concat([train,test],axis=0,ignore_index=True)\n",
    "#     #print(\"Combined data shape:\", combined.shape )\n",
    "    \n",
    "#     # LABEL ENCODE CATEGORICAL FEATURES\n",
    "#     #print(\"We LABEL ENCODE the CATEGORICAL FEATURES: \",end=\"\")\n",
    "#     for c in FEATURES:\n",
    "    \n",
    "#         # LABEL ENCODE CATEGORICAL AND CONVERT TO INT32 CATEGORY\n",
    "#         if c in CATS:\n",
    "#             #print(f\"{c}, \",end=\"\")\n",
    "#             combined[c],_ = combined[c].factorize()\n",
    "#             combined[c]  -= combined[c].min()\n",
    "#             combined[c]   = combined[c].astype(\"int32\")\n",
    "#             combined[c]   = combined[c].astype(\"category\")\n",
    "            \n",
    "#         # REDUCE PRECISION OF NUMERICAL TO 32BIT TO SAVE MEMORY\n",
    "#         else:\n",
    "#             if combined[c].dtype ==\"float64\":\n",
    "#                 combined[c]      = combined[c].astype(\"float32\")\n",
    "#             if combined[c].dtype ==\"int64\":\n",
    "#                 combined[c]      = combined[c].astype(\"int32\")\n",
    "        \n",
    "#     train = combined.iloc[:len(train)].copy()\n",
    "#     test  = combined.iloc[len(train):].reset_index(drop=True).copy()\n",
    "                \n",
    "#     return train, test, FEATURES"
   ]
  },
  {
   "cell_type": "code",
   "execution_count": 22,
   "id": "b9ba014a",
   "metadata": {
    "execution": {
     "iopub.execute_input": "2025-02-01T18:55:28.843374Z",
     "iopub.status.busy": "2025-02-01T18:55:28.843004Z",
     "iopub.status.idle": "2025-02-01T18:55:28.847243Z",
     "shell.execute_reply": "2025-02-01T18:55:28.846381Z"
    },
    "jupyter": {
     "source_hidden": true
    },
    "papermill": {
     "duration": 1.039692,
     "end_time": "2025-02-01T18:55:28.848912",
     "exception": false,
     "start_time": "2025-02-01T18:55:27.809220",
     "status": "completed"
    },
    "tags": []
   },
   "outputs": [],
   "source": [
    "# def get_nn_features(train, test):\n",
    "    \n",
    "#     CAT_SIZE = []\n",
    "#     CAT_EMB  = []\n",
    "#     NUMS     = []\n",
    "#     CATS     = []\n",
    "\n",
    "#     RMV = [\"ID\",\"efs\",\"efs_time\",\"y\",\"fold\"]\n",
    "#     FEATURES = [c for c in train.columns if not c in RMV]\n",
    "    \n",
    "#     for c in FEATURES:\n",
    "#         if train[c].dtype==\"object\":\n",
    "#             train[c] = train[c].fillna(\"NAN\")\n",
    "#             test[c]  = test[c].fillna(\"NAN\")\n",
    "#             CATS.append(c)\n",
    "#         elif not \"age\" in c:\n",
    "#             train[c] = train[c].astype(\"str\")\n",
    "#             test[c]  = test[c].astype(\"str\")\n",
    "#             CATS.append(c)\n",
    "\n",
    "\n",
    "#     combined = pd.concat([train,test],axis=0,ignore_index=True)\n",
    "#     for c in FEATURES:\n",
    "#         if c in CATS:\n",
    "#             # LABEL ENCODE\n",
    "#             combined[c],_ = combined[c].factorize()\n",
    "#             combined[c] -= combined[c].min()\n",
    "#             combined[c] = combined[c].astype(\"int32\")\n",
    "#             #combined[c] = combined[c].astype(\"category\")\n",
    "\n",
    "#             n = combined[c].nunique()\n",
    "#             mn = combined[c].min()\n",
    "#             mx = combined[c].max()\n",
    "#             #print(f'{c} has ({n}) unique values')\n",
    "    \n",
    "#             CAT_SIZE.append(mx+1) \n",
    "#             CAT_EMB.append( int(np.ceil( np.sqrt(mx+1))) ) \n",
    "#         else:\n",
    "#             if combined[c].dtype==\"float64\":\n",
    "#                 combined[c] = combined[c].astype(\"float32\")\n",
    "#             if combined[c].dtype==\"int64\":\n",
    "#                 combined[c] = combined[c].astype(\"int32\")\n",
    "                \n",
    "#             m = combined[c].mean()\n",
    "#             s = combined[c].std()\n",
    "#             combined[c] = (combined[c]-m)/s\n",
    "#             combined[c] = combined[c].fillna(0)\n",
    "            \n",
    "#             NUMS.append(c)\n",
    "\n",
    "#     train = combined.iloc[:len(train)].copy()\n",
    "#     test = combined.iloc[len(train):].reset_index(drop=True).copy()\n",
    "\n",
    "#     return test[CATS], test[NUMS]"
   ]
  },
  {
   "cell_type": "code",
   "execution_count": 23,
   "id": "e52108b3",
   "metadata": {
    "execution": {
     "iopub.execute_input": "2025-02-01T18:55:30.990562Z",
     "iopub.status.busy": "2025-02-01T18:55:30.990151Z",
     "iopub.status.idle": "2025-02-01T18:55:30.995402Z",
     "shell.execute_reply": "2025-02-01T18:55:30.994344Z"
    },
    "jupyter": {
     "source_hidden": true
    },
    "papermill": {
     "duration": 1.019165,
     "end_time": "2025-02-01T18:55:30.997017",
     "exception": false,
     "start_time": "2025-02-01T18:55:29.977852",
     "status": "completed"
    },
    "tags": []
   },
   "outputs": [],
   "source": [
    "# def get_tf_features(train, test):\n",
    "#     RMV = [\"ID\",\"efs\",\"efs_time\",\"y\",\"y_na\",\"fold\"]\n",
    "#     FEATURES = [c for c in train.columns if not c in RMV]\n",
    "\n",
    "\n",
    "#     test                             = test.replace('Not done', 'missing')\n",
    "#     test                             = test.replace('Not tested', 'missing')\n",
    "    \n",
    "#     test['na_count']                 = test.isna().sum(axis=1)\n",
    "#     test['age_karnofsky']            = test['age_at_hct'] * test['karnofsky_score']\n",
    "#     test['age_comorbidity']          = test['age_at_hct'] * test['comorbidity_score']\n",
    "#     test['donor_recipient_age_diff'] = abs(test['donor_age'] - test['age_at_hct'])\n",
    "#     test['hla_match_ratio']          = (test['hla_high_res_8'] + test['hla_low_res_8']) / 16\n",
    "#     test['age_squared']              = test['age_at_hct'] ** 2\n",
    "#     test['karnofsky_squared']        = test['karnofsky_score'] ** 2\n",
    "#     test['16?']                      = np.where(test['age_at_hct']<=16,1,0)\n",
    "    \n",
    "#     FEATURES.extend([\"na_count\", \"age_karnofsky\", \"age_comorbidity\", \"donor_recipient_age_diff\", \"hla_match_ratio\", \"age_squared\", \"karnofsky_squared\", \"16?\"])\n",
    "\n",
    "#     CATS = []\n",
    "#     for c in FEATURES:\n",
    "#         if test[c].dtype==\"object\":\n",
    "#             CATS.append(c)\n",
    "#             test[c] = test[c].fillna(\"missing\")\n",
    "\n",
    "#     for c in FEATURES:\n",
    "#         # LABEL ENCODE CATEGORICAL AND CONVERT TO INT32 CATEGORY\n",
    "#         if c in CATS:\n",
    "#             #print(f\"{c}, \",end=\"\")\n",
    "#             test[c],_ = test[c].factorize()\n",
    "#             test[c]  -= test[c].min()\n",
    "#             test[c]   = test[c].astype(\"int32\")\n",
    "#             test[c]   = test[c].astype(\"category\")\n",
    "#         else:\n",
    "#             if test[c].dtype == \"float64\":\n",
    "#                 test[c]      = test[c].astype(\"float32\")\n",
    "#             if test[c].dtype ==\"int64\":\n",
    "#                 test[c]      = test[c].astype(\"int32\")\n",
    "    \n",
    "#     return test, FEATURES"
   ]
  },
  {
   "cell_type": "code",
   "execution_count": 24,
   "id": "5db7473a",
   "metadata": {
    "execution": {
     "iopub.execute_input": "2025-02-01T18:55:33.139312Z",
     "iopub.status.busy": "2025-02-01T18:55:33.138963Z",
     "iopub.status.idle": "2025-02-01T18:55:33.143922Z",
     "shell.execute_reply": "2025-02-01T18:55:33.142898Z"
    },
    "jupyter": {
     "source_hidden": true
    },
    "papermill": {
     "duration": 1.024558,
     "end_time": "2025-02-01T18:55:33.145591",
     "exception": false,
     "start_time": "2025-02-01T18:55:32.121033",
     "status": "completed"
    },
    "tags": []
   },
   "outputs": [],
   "source": [
    "# import pickle\n",
    "# from tqdm import tqdm\n",
    "# from sklearn.svm import SVR\n",
    "# from sklearn.preprocessing import StandardScaler\n",
    "# from sklearn.impute import KNNImputer\n",
    "\n",
    "# imputer               = KNNImputer(n_neighbors=5, weights='uniform')\n",
    "\n",
    "# scaler = StandardScaler()\n",
    "\n",
    "# FOLDS = 10\n",
    "\n",
    "# def inference(model_path, train, test_df):\n",
    "    \n",
    "#     path = model_path.split('/')[-1]\n",
    "#     file = path.replace('-','_')\n",
    "\n",
    "#     if \"dt\" not in model_path:\n",
    "#         with open(f\"/kaggle/input/{path}/{file}.pkl\", 'rb') as f:\n",
    "#             models = pickle.load(f)\n",
    "            \n",
    "#     print(\"All models are loaded successfully....!\")\n",
    "\n",
    "#     test_predictions = np.zeros(len(test_df))\n",
    "\n",
    "#     for fold in tqdm(range(FOLDS)):\n",
    "#         if \"dt\" in model_path:\n",
    "#             # model = keras.models.load_model(model_path, custom_objects=custom_objects)\n",
    "#             # train, test, FEATURES   = prepare_features(model_path, train, test_df)\n",
    "#             # model                   = tf.keras.models.load_model(model_path+f\"/model_fold_{fold}.keras\", custom_objects=dt.__dict__, compile=)\n",
    "#             # fold_preds              = model.predict(test.copy())\n",
    "#             # fold_preds              = fold_preds.flatten()\n",
    "#             pass\n",
    "#         else:\n",
    "#             model  = models[fold]\n",
    "            \n",
    "            \n",
    "#         if \"svr\" in model_path:\n",
    "#             if fold==0:\n",
    "#                 train, test, FEATURES = prepare_features(model_path, train.copy(), test_df.copy())\n",
    "\n",
    "#             # Handle missing values\n",
    "#             train_imputed         = imputer.fit_transform(train[FEATURES].copy())\n",
    "#             test_imputed          = imputer.transform(test[FEATURES])\n",
    "\n",
    "#             # Convert back to DataFrame to maintain feature names\n",
    "#             train_imputed         = pd.DataFrame(train_imputed, columns=FEATURES, index=train.index)\n",
    "#             test_imputed          = pd.DataFrame(test_imputed, columns=FEATURES, index=test.index)\n",
    "            \n",
    "#             # Scale features\n",
    "#             scaler.fit(train_imputed)\n",
    "#             test_scaled           = scaler.transform(test_imputed)\n",
    "            \n",
    "#             fold_preds            = model.predict(test_scaled)\n",
    "\n",
    "#         elif \"tn\" in model_path:\n",
    "#             if fold == 0:\n",
    "#                 train, test, FEATURES   = prepare_features(model_path, train, test_df)\n",
    "                \n",
    "#             fold_preds              = model.predict(test[FEATURES].values).flatten()\n",
    "            \n",
    "#         elif \"nn\" in model_path:\n",
    "#             if fold == 0:\n",
    "#                 X_cat, X_num      = get_nn_features(train, test_df.copy())\n",
    "#             fold_preds        = model.predict([X_cat.values, X_num.values])\n",
    "#             fold_preds        = fold_preds.flatten()\n",
    "\n",
    "#         elif \"tf\" in model_path:\n",
    "#             if fold == 0:\n",
    "#                 test, FEATURES = get_tf_features(train.copy(),test_df.copy())\n",
    "#                 fold_preds     = model.predict(test[FEATURES].copy())\n",
    "\n",
    "#         elif \"tabm\" in model_path:\n",
    "#             if fold == 0:\n",
    "#                 test, FEATURES = get_tabm_features(test_df.copy())\n",
    "#             fold_preds              = model.predict(test[FEATURES].copy())\n",
    "            \n",
    "#         else: \n",
    "#             if fold == 0:\n",
    "#                 train, test, FEATURES   = prepare_features(model_path, train, test_df)\n",
    "#             fold_preds              = model.predict(test[FEATURES].copy())\n",
    "            \n",
    "#         test_predictions += fold_preds\n",
    "    \n",
    "#     # Get the average predictionr\n",
    "#     test_predictions /= FOLDS\n",
    "        \n",
    "#     return test_predictions"
   ]
  },
  {
   "cell_type": "code",
   "execution_count": 25,
   "id": "b792a8f0",
   "metadata": {
    "execution": {
     "iopub.execute_input": "2025-02-01T18:55:35.285547Z",
     "iopub.status.busy": "2025-02-01T18:55:35.285198Z",
     "iopub.status.idle": "2025-02-01T18:55:35.289266Z",
     "shell.execute_reply": "2025-02-01T18:55:35.288105Z"
    },
    "jupyter": {
     "source_hidden": true
    },
    "papermill": {
     "duration": 1.025862,
     "end_time": "2025-02-01T18:55:35.290961",
     "exception": false,
     "start_time": "2025-02-01T18:55:34.265099",
     "status": "completed"
    },
    "tags": []
   },
   "outputs": [],
   "source": [
    "# train_df = pd.read_csv(\"/kaggle/input/equity-post-HCT-survival-predictions/train.csv\")\n",
    "# test_df  = pd.read_csv(\"/kaggle/input/equity-post-HCT-survival-predictions/test.csv\")"
   ]
  },
  {
   "cell_type": "code",
   "execution_count": 26,
   "id": "4c6fc578",
   "metadata": {
    "execution": {
     "iopub.execute_input": "2025-02-01T18:55:37.471574Z",
     "iopub.status.busy": "2025-02-01T18:55:37.471148Z",
     "iopub.status.idle": "2025-02-01T18:55:37.475017Z",
     "shell.execute_reply": "2025-02-01T18:55:37.474143Z"
    },
    "jupyter": {
     "source_hidden": true
    },
    "papermill": {
     "duration": 1.03087,
     "end_time": "2025-02-01T18:55:37.476529",
     "exception": false,
     "start_time": "2025-02-01T18:55:36.445659",
     "status": "completed"
    },
    "tags": []
   },
   "outputs": [],
   "source": [
    "# first_best_index"
   ]
  },
  {
   "cell_type": "code",
   "execution_count": 27,
   "id": "222b413f",
   "metadata": {
    "execution": {
     "iopub.execute_input": "2025-02-01T18:55:39.625810Z",
     "iopub.status.busy": "2025-02-01T18:55:39.625417Z",
     "iopub.status.idle": "2025-02-01T18:55:39.629655Z",
     "shell.execute_reply": "2025-02-01T18:55:39.628357Z"
    },
    "jupyter": {
     "source_hidden": true
    },
    "papermill": {
     "duration": 1.028289,
     "end_time": "2025-02-01T18:55:39.631736",
     "exception": false,
     "start_time": "2025-02-01T18:55:38.603447",
     "status": "completed"
    },
    "tags": []
   },
   "outputs": [],
   "source": [
    "# initial_test_preds = inference(first_best_index, train_df, test_df)\n",
    "# initial_test_preds"
   ]
  },
  {
   "cell_type": "code",
   "execution_count": 28,
   "id": "b5044737",
   "metadata": {
    "execution": {
     "iopub.execute_input": "2025-02-01T18:55:41.779751Z",
     "iopub.status.busy": "2025-02-01T18:55:41.779337Z",
     "iopub.status.idle": "2025-02-01T18:55:41.783641Z",
     "shell.execute_reply": "2025-02-01T18:55:41.782681Z"
    },
    "jupyter": {
     "source_hidden": true
    },
    "papermill": {
     "duration": 1.02499,
     "end_time": "2025-02-01T18:55:41.785232",
     "exception": false,
     "start_time": "2025-02-01T18:55:40.760242",
     "status": "completed"
    },
    "tags": []
   },
   "outputs": [],
   "source": [
    "# model_weights"
   ]
  },
  {
   "cell_type": "code",
   "execution_count": 29,
   "id": "d9eb3f42",
   "metadata": {
    "execution": {
     "iopub.execute_input": "2025-02-01T18:55:43.922185Z",
     "iopub.status.busy": "2025-02-01T18:55:43.921839Z",
     "iopub.status.idle": "2025-02-01T18:55:43.925663Z",
     "shell.execute_reply": "2025-02-01T18:55:43.924739Z"
    },
    "jupyter": {
     "source_hidden": true
    },
    "papermill": {
     "duration": 1.020952,
     "end_time": "2025-02-01T18:55:43.927311",
     "exception": false,
     "start_time": "2025-02-01T18:55:42.906359",
     "status": "completed"
    },
    "tags": []
   },
   "outputs": [],
   "source": [
    "# test_preds = []\n",
    "# for model, weight in model_weights.items():\n",
    "#     print(f\"Using model : {model}\")\n",
    "#     test_df            = pd.read_csv(\"/kaggle/input/equity-post-HCT-survival-predictions/test.csv\")\n",
    "    \n",
    "#     test_preds         = inference(model, train_df.copy(), test_df)\n",
    "#     test_preds         = (1-weight) * rankdata(initial_test_preds) + weight * rankdata(test_preds)\n",
    "#     initial_test_preds = test_preds"
   ]
  },
  {
   "cell_type": "code",
   "execution_count": 30,
   "id": "2abba7f4",
   "metadata": {
    "execution": {
     "iopub.execute_input": "2025-02-01T18:55:46.074163Z",
     "iopub.status.busy": "2025-02-01T18:55:46.073815Z",
     "iopub.status.idle": "2025-02-01T18:55:46.077808Z",
     "shell.execute_reply": "2025-02-01T18:55:46.076803Z"
    },
    "jupyter": {
     "source_hidden": true
    },
    "papermill": {
     "duration": 1.029146,
     "end_time": "2025-02-01T18:55:46.079386",
     "exception": false,
     "start_time": "2025-02-01T18:55:45.050240",
     "status": "completed"
    },
    "tags": []
   },
   "outputs": [],
   "source": [
    "# train_df               = pd.read_csv(\"/kaggle/input/equity-post-HCT-survival-predictions/train.csv\")\n",
    "# test_df                = pd.read_csv(\"/kaggle/input/equity-post-HCT-survival-predictions/test.csv\")\n",
    "# test_preds             = np.zeros(len(test_df))\n",
    "\n",
    "\n",
    "# preds_dict = {}\n",
    "# for model, weight in model_weights.items():\n",
    "#     print(f\"exp name : {model}\\n\")\n",
    "#     test_df                = pd.read_csv(\"/kaggle/input/equity-post-HCT-survival-predictions/test.csv\")\n",
    "#     test_preds             = inference(model, train_df.copy(), test_df.copy())\n",
    "#     test_preds             = (1-weight) * rankdata(initial_test_preds) + weight * rankdata(test_preds)\n",
    "#     initial_test_preds     = test_preds"
   ]
  },
  {
   "cell_type": "code",
   "execution_count": 31,
   "id": "934cdc2e",
   "metadata": {
    "execution": {
     "iopub.execute_input": "2025-02-01T18:55:48.295607Z",
     "iopub.status.busy": "2025-02-01T18:55:48.295105Z",
     "iopub.status.idle": "2025-02-01T18:55:48.299470Z",
     "shell.execute_reply": "2025-02-01T18:55:48.298422Z"
    },
    "papermill": {
     "duration": 1.067875,
     "end_time": "2025-02-01T18:55:48.301470",
     "exception": false,
     "start_time": "2025-02-01T18:55:47.233595",
     "status": "completed"
    },
    "tags": []
   },
   "outputs": [],
   "source": [
    "# test_preds"
   ]
  },
  {
   "cell_type": "code",
   "execution_count": 32,
   "id": "9870c6a6",
   "metadata": {
    "execution": {
     "iopub.execute_input": "2025-02-01T18:55:50.462586Z",
     "iopub.status.busy": "2025-02-01T18:55:50.462136Z",
     "iopub.status.idle": "2025-02-01T18:55:50.466233Z",
     "shell.execute_reply": "2025-02-01T18:55:50.465282Z"
    },
    "papermill": {
     "duration": 1.021383,
     "end_time": "2025-02-01T18:55:50.467863",
     "exception": false,
     "start_time": "2025-02-01T18:55:49.446480",
     "status": "completed"
    },
    "tags": []
   },
   "outputs": [],
   "source": [
    "# potential_ensemble                = pd.DataFrame()\n",
    "# potential_ensemble[\"predictions\"] = test_preds\n",
    "# potential_ensemble[\"ID\"]          = test_df[\"ID\"]\n",
    "# new_score                         = score(test_df[[\"ID\",\"efs\",\"efs_time\",\"race_group\"]].copy(), potential_ensemble.copy(), \"ID\")\n",
    "# new_score"
   ]
  },
  {
   "cell_type": "code",
   "execution_count": 33,
   "id": "0d2a44f9",
   "metadata": {
    "execution": {
     "iopub.execute_input": "2025-02-01T18:55:52.601079Z",
     "iopub.status.busy": "2025-02-01T18:55:52.600687Z",
     "iopub.status.idle": "2025-02-01T18:55:52.604900Z",
     "shell.execute_reply": "2025-02-01T18:55:52.603868Z"
    },
    "papermill": {
     "duration": 1.028009,
     "end_time": "2025-02-01T18:55:52.606733",
     "exception": false,
     "start_time": "2025-02-01T18:55:51.578724",
     "status": "completed"
    },
    "tags": []
   },
   "outputs": [],
   "source": [
    "# best_score"
   ]
  },
  {
   "cell_type": "markdown",
   "id": "39f49518",
   "metadata": {
    "papermill": {
     "duration": 1.018515,
     "end_time": "2025-02-01T18:55:54.745162",
     "exception": false,
     "start_time": "2025-02-01T18:55:53.726647",
     "status": "completed"
    },
    "tags": []
   },
   "source": [
    "## Step 7: Create submission file"
   ]
  },
  {
   "cell_type": "code",
   "execution_count": 34,
   "id": "b2067e0d",
   "metadata": {
    "execution": {
     "iopub.execute_input": "2025-02-01T18:55:56.914325Z",
     "iopub.status.busy": "2025-02-01T18:55:56.913927Z",
     "iopub.status.idle": "2025-02-01T18:55:56.917813Z",
     "shell.execute_reply": "2025-02-01T18:55:56.916666Z"
    },
    "papermill": {
     "duration": 1.050107,
     "end_time": "2025-02-01T18:55:56.919405",
     "exception": false,
     "start_time": "2025-02-01T18:55:55.869298",
     "status": "completed"
    },
    "tags": []
   },
   "outputs": [],
   "source": [
    "# sub            = pd.read_csv(\"/kaggle/input/equity-post-HCT-survival-predictions/sample_submission.csv\")\n",
    "# sub.prediction = test_preds\n",
    "# sub.to_csv(\"submission.csv\",index=False)\n",
    "# print(\"Sub shape:\",sub.shape)\n",
    "# sub.head()"
   ]
  },
  {
   "cell_type": "code",
   "execution_count": null,
   "id": "a81ab5fe",
   "metadata": {
    "papermill": {
     "duration": 1.008849,
     "end_time": "2025-02-01T18:55:59.057579",
     "exception": false,
     "start_time": "2025-02-01T18:55:58.048730",
     "status": "completed"
    },
    "tags": []
   },
   "outputs": [],
   "source": []
  }
 ],
 "metadata": {
  "kaggle": {
   "accelerator": "none",
   "dataSources": [
    {
     "databundleVersionId": 10381525,
     "sourceId": 70942,
     "sourceType": "competition"
    },
    {
     "datasetId": 921302,
     "sourceId": 7453542,
     "sourceType": "datasetVersion"
    },
    {
     "datasetId": 6226248,
     "sourceId": 10097128,
     "sourceType": "datasetVersion"
    },
    {
     "datasetId": 6415434,
     "sourceId": 10370860,
     "sourceType": "datasetVersion"
    },
    {
     "datasetId": 6450507,
     "sourceId": 10409094,
     "sourceType": "datasetVersion"
    },
    {
     "sourceId": 211322530,
     "sourceType": "kernelVersion"
    },
    {
     "sourceId": 216172723,
     "sourceType": "kernelVersion"
    },
    {
     "sourceId": 216836411,
     "sourceType": "kernelVersion"
    },
    {
     "sourceId": 217481514,
     "sourceType": "kernelVersion"
    },
    {
     "sourceId": 217558741,
     "sourceType": "kernelVersion"
    },
    {
     "sourceId": 217813503,
     "sourceType": "kernelVersion"
    },
    {
     "sourceId": 217931837,
     "sourceType": "kernelVersion"
    },
    {
     "sourceId": 217941306,
     "sourceType": "kernelVersion"
    },
    {
     "sourceId": 218131499,
     "sourceType": "kernelVersion"
    },
    {
     "sourceId": 218144682,
     "sourceType": "kernelVersion"
    },
    {
     "sourceId": 218801338,
     "sourceType": "kernelVersion"
    },
    {
     "sourceId": 218802756,
     "sourceType": "kernelVersion"
    },
    {
     "sourceId": 219153168,
     "sourceType": "kernelVersion"
    },
    {
     "sourceId": 219154661,
     "sourceType": "kernelVersion"
    },
    {
     "sourceId": 219185495,
     "sourceType": "kernelVersion"
    },
    {
     "sourceId": 219195490,
     "sourceType": "kernelVersion"
    },
    {
     "sourceId": 219311236,
     "sourceType": "kernelVersion"
    },
    {
     "sourceId": 219519933,
     "sourceType": "kernelVersion"
    },
    {
     "sourceId": 219788453,
     "sourceType": "kernelVersion"
    },
    {
     "sourceId": 219953795,
     "sourceType": "kernelVersion"
    }
   ],
   "dockerImageVersionId": 30822,
   "isGpuEnabled": false,
   "isInternetEnabled": false,
   "language": "python",
   "sourceType": "notebook"
  },
  "kernelspec": {
   "display_name": "Python 3",
   "language": "python",
   "name": "python3"
  },
  "language_info": {
   "codemirror_mode": {
    "name": "ipython",
    "version": 3
   },
   "file_extension": ".py",
   "mimetype": "text/x-python",
   "name": "python",
   "nbconvert_exporter": "python",
   "pygments_lexer": "ipython3",
   "version": "3.10.12"
  },
  "papermill": {
   "default_parameters": {},
   "duration": 9733.492142,
   "end_time": "2025-02-01T18:56:03.451995",
   "environment_variables": {},
   "exception": null,
   "input_path": "__notebook__.ipynb",
   "output_path": "__notebook__.ipynb",
   "parameters": {},
   "start_time": "2025-02-01T16:13:49.959853",
   "version": "2.6.0"
  }
 },
 "nbformat": 4,
 "nbformat_minor": 5
}
