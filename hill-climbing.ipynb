{
 "cells": [
  {
   "cell_type": "markdown",
   "id": "8eed2ba2",
   "metadata": {
    "_cell_guid": "46a264b2-b97f-487b-9a3d-2597a0ecdc21",
    "_uuid": "9daabf89-8847-4537-a0b7-2a722b5c452d",
    "collapsed": false,
    "jupyter": {
     "outputs_hidden": false
    },
    "papermill": {
     "duration": 0.011641,
     "end_time": "2025-02-15T07:19:57.128634",
     "exception": false,
     "start_time": "2025-02-15T07:19:57.116993",
     "status": "completed"
    },
    "tags": []
   },
   "source": [
    "## Installations"
   ]
  },
  {
   "cell_type": "code",
   "execution_count": 1,
   "id": "549b7d0f",
   "metadata": {
    "execution": {
     "iopub.execute_input": "2025-02-15T07:19:57.154600Z",
     "iopub.status.busy": "2025-02-15T07:19:57.154241Z",
     "iopub.status.idle": "2025-02-15T07:20:23.335656Z",
     "shell.execute_reply": "2025-02-15T07:20:23.334380Z"
    },
    "papermill": {
     "duration": 26.198171,
     "end_time": "2025-02-15T07:20:23.338453",
     "exception": false,
     "start_time": "2025-02-15T07:19:57.140282",
     "status": "completed"
    },
    "tags": []
   },
   "outputs": [
    {
     "name": "stdout",
     "output_type": "stream",
     "text": [
      "Processing /kaggle/input/pip-install-lifelines/autograd-1.7.0-py3-none-any.whl\r\n",
      "Requirement already satisfied: numpy in /usr/local/lib/python3.10/dist-packages (from autograd==1.7.0) (1.26.4)\r\n",
      "autograd is already installed with the same version as the provided wheel. Use --force-reinstall to force an installation of the wheel.\r\n",
      "Processing /kaggle/input/pip-install-lifelines/autograd-gamma-0.5.0.tar.gz\r\n",
      "  Preparing metadata (setup.py) ... \u001b[?25l\u001b[?25hdone\r\n",
      "Requirement already satisfied: autograd>=1.2.0 in /usr/local/lib/python3.10/dist-packages (from autograd-gamma==0.5.0) (1.7.0)\r\n",
      "Requirement already satisfied: scipy>=1.2.0 in /usr/local/lib/python3.10/dist-packages (from autograd-gamma==0.5.0) (1.13.1)\r\n",
      "Requirement already satisfied: numpy in /usr/local/lib/python3.10/dist-packages (from autograd>=1.2.0->autograd-gamma==0.5.0) (1.26.4)\r\n",
      "Building wheels for collected packages: autograd-gamma\r\n",
      "  Building wheel for autograd-gamma (setup.py) ... \u001b[?25l\u001b[?25hdone\r\n",
      "  Created wheel for autograd-gamma: filename=autograd_gamma-0.5.0-py3-none-any.whl size=4031 sha256=6d98519534c42e0f8ab53dbe21ba257340414534e1e48367a9d8b636b9a43846\r\n",
      "  Stored in directory: /root/.cache/pip/wheels/6b/b5/e0/4c79e15c0b5f2c15ecf613c720bb20daab20a666eb67135155\r\n",
      "Successfully built autograd-gamma\r\n",
      "Installing collected packages: autograd-gamma\r\n",
      "Successfully installed autograd-gamma-0.5.0\r\n",
      "Processing /kaggle/input/pip-install-lifelines/interface_meta-1.3.0-py3-none-any.whl\r\n",
      "Installing collected packages: interface-meta\r\n",
      "Successfully installed interface-meta-1.3.0\r\n",
      "Processing /kaggle/input/pip-install-lifelines/formulaic-1.0.2-py3-none-any.whl\r\n",
      "Requirement already satisfied: interface-meta>=1.2.0 in /usr/local/lib/python3.10/dist-packages (from formulaic==1.0.2) (1.3.0)\r\n",
      "Requirement already satisfied: numpy>=1.16.5 in /usr/local/lib/python3.10/dist-packages (from formulaic==1.0.2) (1.26.4)\r\n",
      "Requirement already satisfied: pandas>=1.0 in /usr/local/lib/python3.10/dist-packages (from formulaic==1.0.2) (2.1.4)\r\n",
      "Requirement already satisfied: scipy>=1.6 in /usr/local/lib/python3.10/dist-packages (from formulaic==1.0.2) (1.13.1)\r\n",
      "Requirement already satisfied: typing-extensions>=4.2.0 in /usr/local/lib/python3.10/dist-packages (from formulaic==1.0.2) (4.12.2)\r\n",
      "Requirement already satisfied: wrapt>=1.0 in /usr/local/lib/python3.10/dist-packages (from formulaic==1.0.2) (1.16.0)\r\n",
      "Requirement already satisfied: python-dateutil>=2.8.2 in /usr/local/lib/python3.10/dist-packages (from pandas>=1.0->formulaic==1.0.2) (2.8.2)\r\n",
      "Requirement already satisfied: pytz>=2020.1 in /usr/local/lib/python3.10/dist-packages (from pandas>=1.0->formulaic==1.0.2) (2024.2)\r\n",
      "Requirement already satisfied: tzdata>=2022.1 in /usr/local/lib/python3.10/dist-packages (from pandas>=1.0->formulaic==1.0.2) (2024.1)\r\n",
      "Requirement already satisfied: six>=1.5 in /usr/local/lib/python3.10/dist-packages (from python-dateutil>=2.8.2->pandas>=1.0->formulaic==1.0.2) (1.16.0)\r\n",
      "Installing collected packages: formulaic\r\n",
      "Successfully installed formulaic-1.0.2\r\n",
      "Processing /kaggle/input/pip-install-lifelines/lifelines-0.30.0-py3-none-any.whl\r\n",
      "Requirement already satisfied: numpy>=1.14.0 in /usr/local/lib/python3.10/dist-packages (from lifelines==0.30.0) (1.26.4)\r\n",
      "Requirement already satisfied: scipy>=1.7.0 in /usr/local/lib/python3.10/dist-packages (from lifelines==0.30.0) (1.13.1)\r\n",
      "Requirement already satisfied: pandas>=2.1 in /usr/local/lib/python3.10/dist-packages (from lifelines==0.30.0) (2.1.4)\r\n",
      "Requirement already satisfied: matplotlib>=3.0 in /usr/local/lib/python3.10/dist-packages (from lifelines==0.30.0) (3.7.1)\r\n",
      "Requirement already satisfied: autograd>=1.5 in /usr/local/lib/python3.10/dist-packages (from lifelines==0.30.0) (1.7.0)\r\n",
      "Requirement already satisfied: autograd-gamma>=0.3 in /usr/local/lib/python3.10/dist-packages (from lifelines==0.30.0) (0.5.0)\r\n",
      "Requirement already satisfied: formulaic>=0.2.2 in /usr/local/lib/python3.10/dist-packages (from lifelines==0.30.0) (1.0.2)\r\n",
      "Requirement already satisfied: interface-meta>=1.2.0 in /usr/local/lib/python3.10/dist-packages (from formulaic>=0.2.2->lifelines==0.30.0) (1.3.0)\r\n",
      "Requirement already satisfied: typing-extensions>=4.2.0 in /usr/local/lib/python3.10/dist-packages (from formulaic>=0.2.2->lifelines==0.30.0) (4.12.2)\r\n",
      "Requirement already satisfied: wrapt>=1.0 in /usr/local/lib/python3.10/dist-packages (from formulaic>=0.2.2->lifelines==0.30.0) (1.16.0)\r\n",
      "Requirement already satisfied: contourpy>=1.0.1 in /usr/local/lib/python3.10/dist-packages (from matplotlib>=3.0->lifelines==0.30.0) (1.3.0)\r\n",
      "Requirement already satisfied: cycler>=0.10 in /usr/local/lib/python3.10/dist-packages (from matplotlib>=3.0->lifelines==0.30.0) (0.12.1)\r\n",
      "Requirement already satisfied: fonttools>=4.22.0 in /usr/local/lib/python3.10/dist-packages (from matplotlib>=3.0->lifelines==0.30.0) (4.53.1)\r\n",
      "Requirement already satisfied: kiwisolver>=1.0.1 in /usr/local/lib/python3.10/dist-packages (from matplotlib>=3.0->lifelines==0.30.0) (1.4.7)\r\n",
      "Requirement already satisfied: packaging>=20.0 in /usr/local/lib/python3.10/dist-packages (from matplotlib>=3.0->lifelines==0.30.0) (24.1)\r\n",
      "Requirement already satisfied: pillow>=6.2.0 in /usr/local/lib/python3.10/dist-packages (from matplotlib>=3.0->lifelines==0.30.0) (10.4.0)\r\n",
      "Requirement already satisfied: pyparsing>=2.3.1 in /usr/local/lib/python3.10/dist-packages (from matplotlib>=3.0->lifelines==0.30.0) (3.1.4)\r\n",
      "Requirement already satisfied: python-dateutil>=2.7 in /usr/local/lib/python3.10/dist-packages (from matplotlib>=3.0->lifelines==0.30.0) (2.8.2)\r\n",
      "Requirement already satisfied: pytz>=2020.1 in /usr/local/lib/python3.10/dist-packages (from pandas>=2.1->lifelines==0.30.0) (2024.2)\r\n",
      "Requirement already satisfied: tzdata>=2022.1 in /usr/local/lib/python3.10/dist-packages (from pandas>=2.1->lifelines==0.30.0) (2024.1)\r\n",
      "Requirement already satisfied: six>=1.5 in /usr/local/lib/python3.10/dist-packages (from python-dateutil>=2.7->matplotlib>=3.0->lifelines==0.30.0) (1.16.0)\r\n",
      "Installing collected packages: lifelines\r\n",
      "Successfully installed lifelines-0.30.0\r\n"
     ]
    }
   ],
   "source": [
    "!pip install /kaggle/input/pip-install-lifelines/autograd-1.7.0-py3-none-any.whl\n",
    "!pip install /kaggle/input/pip-install-lifelines/autograd-gamma-0.5.0.tar.gz\n",
    "!pip install /kaggle/input/pip-install-lifelines/interface_meta-1.3.0-py3-none-any.whl\n",
    "!pip install /kaggle/input/pip-install-lifelines/formulaic-1.0.2-py3-none-any.whl\n",
    "!pip install /kaggle/input/pip-install-lifelines/lifelines-0.30.0-py3-none-any.whl"
   ]
  },
  {
   "cell_type": "code",
   "execution_count": 2,
   "id": "f041eb2c",
   "metadata": {
    "execution": {
     "iopub.execute_input": "2025-02-15T07:20:23.364092Z",
     "iopub.status.busy": "2025-02-15T07:20:23.363692Z",
     "iopub.status.idle": "2025-02-15T07:20:31.994752Z",
     "shell.execute_reply": "2025-02-15T07:20:31.993240Z"
    },
    "papermill": {
     "duration": 8.647021,
     "end_time": "2025-02-15T07:20:31.997787",
     "exception": false,
     "start_time": "2025-02-15T07:20:23.350766",
     "status": "completed"
    },
    "tags": []
   },
   "outputs": [
    {
     "name": "stdout",
     "output_type": "stream",
     "text": [
      "Looking in links: /kaggle/input/tabm-tabular-dl-library\r\n",
      "Processing /kaggle/input/tabm-tabular-dl-library/tabm-0.0.1.dev0-py3-none-any.whl\r\n",
      "Requirement already satisfied: torch<3,>=1.12 in /usr/local/lib/python3.10/dist-packages (from tabm==0.0.1.dev0) (2.4.1+cu121)\r\n",
      "Processing /kaggle/input/tabm-tabular-dl-library/rtdl_num_embeddings-0.0.11-py3-none-any.whl (from tabm==0.0.1.dev0)\r\n",
      "Requirement already satisfied: filelock in /usr/local/lib/python3.10/dist-packages (from torch<3,>=1.12->tabm==0.0.1.dev0) (3.16.1)\r\n",
      "Requirement already satisfied: typing-extensions>=4.8.0 in /usr/local/lib/python3.10/dist-packages (from torch<3,>=1.12->tabm==0.0.1.dev0) (4.12.2)\r\n",
      "Requirement already satisfied: sympy in /usr/local/lib/python3.10/dist-packages (from torch<3,>=1.12->tabm==0.0.1.dev0) (1.13.3)\r\n",
      "Requirement already satisfied: networkx in /usr/local/lib/python3.10/dist-packages (from torch<3,>=1.12->tabm==0.0.1.dev0) (3.3)\r\n",
      "Requirement already satisfied: jinja2 in /usr/local/lib/python3.10/dist-packages (from torch<3,>=1.12->tabm==0.0.1.dev0) (3.1.4)\r\n",
      "Requirement already satisfied: fsspec in /usr/local/lib/python3.10/dist-packages (from torch<3,>=1.12->tabm==0.0.1.dev0) (2024.6.1)\r\n",
      "Requirement already satisfied: MarkupSafe>=2.0 in /usr/local/lib/python3.10/dist-packages (from jinja2->torch<3,>=1.12->tabm==0.0.1.dev0) (2.1.5)\r\n",
      "Requirement already satisfied: mpmath<1.4,>=1.1.0 in /usr/local/lib/python3.10/dist-packages (from sympy->torch<3,>=1.12->tabm==0.0.1.dev0) (1.3.0)\r\n",
      "Installing collected packages: rtdl_num_embeddings, tabm\r\n",
      "Successfully installed rtdl_num_embeddings-0.0.11 tabm-0.0.1.dev0\r\n"
     ]
    }
   ],
   "source": [
    "!pip install --no-index -U --find-links=/kaggle/input/tabm-tabular-dl-library tabm==0.0.1.dev0\n",
    "!pip -q install /kaggle/input/pytorchtabnet/pytorch_tabnet-4.1.0-py3-none-any.whl"
   ]
  },
  {
   "cell_type": "code",
   "execution_count": 3,
   "id": "a413df8a",
   "metadata": {
    "execution": {
     "iopub.execute_input": "2025-02-15T07:20:32.025288Z",
     "iopub.status.busy": "2025-02-15T07:20:32.024835Z",
     "iopub.status.idle": "2025-02-15T07:20:36.430707Z",
     "shell.execute_reply": "2025-02-15T07:20:36.429040Z"
    },
    "papermill": {
     "duration": 4.42349,
     "end_time": "2025-02-15T07:20:36.434033",
     "exception": false,
     "start_time": "2025-02-15T07:20:32.010543",
     "status": "completed"
    },
    "tags": []
   },
   "outputs": [],
   "source": [
    "!pip -q install /kaggle/input/tabpfn-v2/tabpfn-2.0.0-py3-none-any.whl"
   ]
  },
  {
   "cell_type": "markdown",
   "id": "b0c0afe5",
   "metadata": {
    "papermill": {
     "duration": 0.012312,
     "end_time": "2025-02-15T07:20:36.459069",
     "exception": false,
     "start_time": "2025-02-15T07:20:36.446757",
     "status": "completed"
    },
    "tags": []
   },
   "source": [
    "## Step 1 : Installations"
   ]
  },
  {
   "cell_type": "code",
   "execution_count": 4,
   "id": "38e992b9",
   "metadata": {
    "execution": {
     "iopub.execute_input": "2025-02-15T07:20:36.485204Z",
     "iopub.status.busy": "2025-02-15T07:20:36.484695Z",
     "iopub.status.idle": "2025-02-15T07:20:55.388522Z",
     "shell.execute_reply": "2025-02-15T07:20:55.387250Z"
    },
    "papermill": {
     "duration": 18.919489,
     "end_time": "2025-02-15T07:20:55.390689",
     "exception": false,
     "start_time": "2025-02-15T07:20:36.471200",
     "status": "completed"
    },
    "tags": []
   },
   "outputs": [],
   "source": [
    "import numpy as np\n",
    "import pandas as pd\n",
    "from scipy.stats import rankdata \n",
    "\n",
    "import sys\n",
    "sys.path.append('/kaggle/input/tabm-tabular-dl-library')\n",
    "\n",
    "import os\n",
    "import tabm\n",
    "import math\n",
    "import torch\n",
    "import random\n",
    "import warnings\n",
    "from tqdm import tqdm\n",
    "import pandas as pd\n",
    "import numpy as np\n",
    "import rtdl_num_embeddings\n",
    "import matplotlib.pyplot as plt\n",
    "from typing import Optional, Tuple\n",
    "from sklearn.model_selection import KFold\n",
    "from scipy.stats import rankdata \n",
    "from colorama import Fore, Style\n",
    "from typing import Optional, Tuple\n",
    "from numpy.typing import ArrayLike\n",
    "from sklearn.base import BaseEstimator\n",
    "from sklearn.impute import SimpleImputer\n",
    "from sklearn.model_selection import KFold\n",
    "from tabm_reference import Model, make_parameter_groups\n",
    "from sklearn.preprocessing import OrdinalEncoder, QuantileTransformer\n",
    "from pytorch_tabnet.tab_model import TabNetRegressor\n",
    "\n",
    "import tensorflow as tf\n",
    "from tensorflow.keras.models import Model\n",
    "from tensorflow.keras.layers import Dense, Dropout, Input, Embedding\n",
    "from tensorflow.keras.layers import Concatenate, BatchNormalization\n",
    "import tensorflow.keras.backend as K\n",
    "from pytorch_tabnet.tab_model import TabNetRegressor\n",
    "from tabpfn import TabPFNRegressor"
   ]
  },
  {
   "cell_type": "markdown",
   "id": "b29b3055",
   "metadata": {
    "papermill": {
     "duration": 0.012268,
     "end_time": "2025-02-15T07:20:55.415244",
     "exception": false,
     "start_time": "2025-02-15T07:20:55.402976",
     "status": "completed"
    },
    "tags": []
   },
   "source": [
    "## Step 2: Experiments Paths  to add in ensemble"
   ]
  },
  {
   "cell_type": "code",
   "execution_count": 5,
   "id": "5f8af8f5",
   "metadata": {
    "execution": {
     "iopub.execute_input": "2025-02-15T07:20:55.441092Z",
     "iopub.status.busy": "2025-02-15T07:20:55.440346Z",
     "iopub.status.idle": "2025-02-15T07:20:55.446342Z",
     "shell.execute_reply": "2025-02-15T07:20:55.445140Z"
    },
    "papermill": {
     "duration": 0.020882,
     "end_time": "2025-02-15T07:20:55.448144",
     "exception": false,
     "start_time": "2025-02-15T07:20:55.427262",
     "status": "completed"
    },
    "tags": []
   },
   "outputs": [],
   "source": [
    "experiments = [\n",
    "\"/kaggle/input/xgboost-exp-01\",\n",
    "\"/kaggle/input/catboost-exp-01\", \n",
    "\"/kaggle/input/lgbm-exp-01\",\n",
    "\"/kaggle/input/xgboost-exp-02\",\n",
    "\"/kaggle/input/catboost-exp-02\",\n",
    "\"/kaggle/input/lgbm-exp-03\",\n",
    "\"/kaggle/input/catboost-exp-03\",\n",
    "\"/kaggle/input/tabm-exp-01\",\n",
    "\"/kaggle/input/nn-exp-01\",\n",
    "\"/kaggle/input/tn-exp-01\",\n",
    "\"/kaggle/input/tf-exp-01\",\n",
    "\"/kaggle/input/svr-exp-01\",\n",
    "\"/kaggle/input/abd-exp-01\",\n",
    "\"/kaggle/input/catboost-exp-04\",\n",
    "\"/kaggle/input/lgbm-exp-04\",\n",
    "\"/kaggle/input/tabm-exp-02\",\n",
    "\"/kaggle/input/ds-exp-01\",\n",
    "\"/kaggle/input/nn-exp-02\",\n",
    "\"/kaggle/input/nn-exp-04\",\n",
    "#\"/kaggle/input/tabm-exp-03\",\n",
    "\"/kaggle/input/catboost-exp-05\",\n",
    "\"/kaggle/input/xgboost-exp-05\",\n",
    "\"/kaggle/input/lgbm-exp-05\",\n",
    "\"/kaggle/input/tn-exp-02\",\n",
    "#\"/kaggle/input/ag-exp-01\",\n",
    "\"/kaggle/input/vr-exp-01\",\n",
    "\"/kaggle/input/tt-exp-01\",\n",
    "\"/kaggle/input/en-exp-01\",\n",
    "\"/kaggle/input/en-exp-02\",\n",
    "\"/kaggle/input/nn-exp-05\",\n",
    "\"/kaggle/input/rf-exp-05\",\n",
    "\"/kaggle/input/mcts-exp-02\",\n",
    "\"/kaggle/input/catboost-exp-06\",\n",
    "\"/kaggle/input/xgboost-exp-06\",\n",
    "\"/kaggle/input/lgbm-exp-06\"\n",
    "# \"/kaggle/input/suv-ran-exp-01\" -> File not found\n",
    "]"
   ]
  },
  {
   "cell_type": "markdown",
   "id": "aec9ccc4",
   "metadata": {
    "papermill": {
     "duration": 0.01143,
     "end_time": "2025-02-15T07:20:55.472105",
     "exception": false,
     "start_time": "2025-02-15T07:20:55.460675",
     "status": "completed"
    },
    "tags": []
   },
   "source": [
    "## Step 3 : Competition metric"
   ]
  },
  {
   "cell_type": "code",
   "execution_count": 6,
   "id": "a388d6a4",
   "metadata": {
    "execution": {
     "iopub.execute_input": "2025-02-15T07:20:55.497073Z",
     "iopub.status.busy": "2025-02-15T07:20:55.496669Z",
     "iopub.status.idle": "2025-02-15T07:20:55.623989Z",
     "shell.execute_reply": "2025-02-15T07:20:55.622779Z"
    },
    "papermill": {
     "duration": 0.142196,
     "end_time": "2025-02-15T07:20:55.626101",
     "exception": false,
     "start_time": "2025-02-15T07:20:55.483905",
     "status": "completed"
    },
    "tags": []
   },
   "outputs": [],
   "source": [
    "import pandas as pd\n",
    "import pandas.api.types\n",
    "import numpy as np\n",
    "from lifelines.utils import concordance_index\n",
    "\n",
    "class ParticipantVisibleError(Exception):\n",
    "    pass\n",
    "\n",
    "\n",
    "def score(solution: pd.DataFrame, submission: pd.DataFrame, row_id_column_name: str) -> float:\n",
    "    \"\"\"\n",
    "    >>> import pandas as pd\n",
    "    >>> row_id_column_name = \"id\"\n",
    "    >>> y_pred = {'prediction': {0: 1.0, 1: 0.0, 2: 1.0}}\n",
    "    >>> y_pred = pd.DataFrame(y_pred)\n",
    "    >>> y_pred.insert(0, row_id_column_name, range(len(y_pred)))\n",
    "    >>> y_true = { 'efs': {0: 1.0, 1: 0.0, 2: 0.0}, 'efs_time': {0: 25.1234,1: 250.1234,2: 2500.1234}, 'race_group': {0: 'race_group_1', 1: 'race_group_1', 2: 'race_group_1'}}\n",
    "    >>> y_true = pd.DataFrame(y_true)\n",
    "    >>> y_true.insert(0, row_id_column_name, range(len(y_true)))\n",
    "    >>> score(y_true.copy(), y_pred.copy(), row_id_column_name)\n",
    "    0.75\n",
    "    \"\"\"\n",
    "\n",
    "    del solution[row_id_column_name]\n",
    "    del submission[row_id_column_name]\n",
    "    \n",
    "    event_label = 'efs'\n",
    "    interval_label = 'efs_time'\n",
    "    prediction_label = 'predictions'\n",
    "    for col in submission.columns:\n",
    "        if not pandas.api.types.is_numeric_dtype(submission[col]):\n",
    "            raise ParticipantVisibleError(f'Submission column {col} must be a number')\n",
    "    # Merging solution and submission dfs on ID\n",
    "    merged_df = pd.concat([solution, submission], axis=1)\n",
    "    merged_df.reset_index(inplace=True)\n",
    "    merged_df_race_dict = dict(merged_df.groupby(['race_group']).groups)\n",
    "    metric_list = []\n",
    "\n",
    "    for race in merged_df_race_dict.keys():\n",
    "        # Retrieving values from y_test based on index\n",
    "        indices = sorted(merged_df_race_dict[race])\n",
    "        merged_df_race = merged_df.iloc[indices]\n",
    "        # Calculate the concordance index\n",
    "        c_index_race = concordance_index(\n",
    "                        merged_df_race[interval_label],\n",
    "                        -merged_df_race[prediction_label],\n",
    "                        merged_df_race[event_label])\n",
    "        metric_list.append(c_index_race)\n",
    "    return float(np.mean(metric_list)-np.sqrt(np.var(metric_list)))"
   ]
  },
  {
   "cell_type": "markdown",
   "id": "605788e7",
   "metadata": {
    "papermill": {
     "duration": 0.011748,
     "end_time": "2025-02-15T07:20:55.650198",
     "exception": false,
     "start_time": "2025-02-15T07:20:55.638450",
     "status": "completed"
    },
    "tags": []
   },
   "source": [
    "## Step 4: Find best model "
   ]
  },
  {
   "cell_type": "code",
   "execution_count": 7,
   "id": "859c22f7",
   "metadata": {
    "execution": {
     "iopub.execute_input": "2025-02-15T07:20:55.675207Z",
     "iopub.status.busy": "2025-02-15T07:20:55.674732Z",
     "iopub.status.idle": "2025-02-15T07:20:55.679948Z",
     "shell.execute_reply": "2025-02-15T07:20:55.678782Z"
    },
    "papermill": {
     "duration": 0.019557,
     "end_time": "2025-02-15T07:20:55.681623",
     "exception": false,
     "start_time": "2025-02-15T07:20:55.662066",
     "status": "completed"
    },
    "tags": []
   },
   "outputs": [],
   "source": [
    "parquet_experiments = [\n",
    "    \"/kaggle/input/abd-exp-01\",\n",
    "    \"/kaggle/input/lgbm-exp-04\", \n",
    "    \"/kaggle/input/catboost-exp-01\", \n",
    "    \"/kaggle/input/lgbm-exp-01\", \n",
    "    \"/kaggle/input/lgbm-exp-03\", \n",
    "    \"/kaggle/input/ds-exp-01\",\n",
    "    \"/kaggle/input/nn-exp-02\",\n",
    "    \"/kaggle/input/nn-exp-04\",\n",
    "    \"/kaggle/input/tabm-exp-03\",\n",
    "    \"/kaggle/input/catboost-exp-05\",\n",
    "    \"/kaggle/input/xgboost-exp-05\",\n",
    "    \"/kaggle/input/lgbm-exp-05\",\n",
    "    \"/kaggle/input/tn-exp-02\",\n",
    "    #\"/kaggle/input/ag-exp-01\",\n",
    "    \"/kaggle/input/vr-exp-01\",\n",
    "    \"/kaggle/input/tt-exp-01\",\n",
    "    \"/kaggle/input/en-exp-01\",\n",
    "    \"/kaggle/input/svr-exp-01\",\n",
    "    \"/kaggle/input/en-exp-02\",\n",
    "    \"/kaggle/input/nn-exp-05\",\n",
    "    \"/kaggle/input/rf-exp-05\",\n",
    "    \"/kaggle/input/mcts-exp-02\",\n",
    "    \"/kaggle/input/catboost-exp-06\",\n",
    "    \"/kaggle/input/xgboost-exp-06\",\n",
    "    \"/kaggle/input/lgbm-exp-06\"\n",
    "]"
   ]
  },
  {
   "cell_type": "code",
   "execution_count": 8,
   "id": "9c4bd711",
   "metadata": {
    "execution": {
     "iopub.execute_input": "2025-02-15T07:20:55.707778Z",
     "iopub.status.busy": "2025-02-15T07:20:55.707427Z",
     "iopub.status.idle": "2025-02-15T07:20:55.712775Z",
     "shell.execute_reply": "2025-02-15T07:20:55.711582Z"
    },
    "papermill": {
     "duration": 0.02069,
     "end_time": "2025-02-15T07:20:55.714454",
     "exception": false,
     "start_time": "2025-02-15T07:20:55.693764",
     "status": "completed"
    },
    "tags": []
   },
   "outputs": [],
   "source": [
    "def compute_metric_cindex(oof, exp_name):    \n",
    "    y_true = oof[[\"ID\",\"efs\",\"efs_time\",\"race_group\"]].copy()\n",
    "    y_pred = oof[[\"ID\",\"predictions\"]].copy()\n",
    "    return score(y_true.copy(), y_pred.copy(), \"ID\"), oof"
   ]
  },
  {
   "cell_type": "code",
   "execution_count": 9,
   "id": "dc8c4edf",
   "metadata": {
    "execution": {
     "iopub.execute_input": "2025-02-15T07:20:55.740915Z",
     "iopub.status.busy": "2025-02-15T07:20:55.740537Z",
     "iopub.status.idle": "2025-02-15T07:25:23.227348Z",
     "shell.execute_reply": "2025-02-15T07:25:23.225439Z"
    },
    "papermill": {
     "duration": 267.502669,
     "end_time": "2025-02-15T07:25:23.229342",
     "exception": false,
     "start_time": "2025-02-15T07:20:55.726673",
     "status": "completed"
    },
    "tags": []
   },
   "outputs": [
    {
     "name": "stderr",
     "output_type": "stream",
     "text": [
      "100%|██████████| 33/33 [04:04<00:00,  7.41s/it]\n"
     ]
    }
   ],
   "source": [
    "from tqdm import tqdm\n",
    "import pandas as pd\n",
    "\n",
    "# Initialize empty list to store individual prediction dataframes\n",
    "dfs_to_merge = []\n",
    "\n",
    "# Load first experiment to get the base structure\n",
    "base_exp = experiments[0]\n",
    "if base_exp in parquet_experiments:\n",
    "    base_df = pd.read_parquet(base_exp + '/' + (base_exp.split('/')[-1]).replace('-','_') + '_oof.parquet')\n",
    "else:\n",
    "    base_df = pd.read_excel(base_exp + '/' + (base_exp.split('/')[-1]).replace('-','_') + '_oof.xlsx')\n",
    "\n",
    "# Create base dataframe with ID and target variables\n",
    "preds_df = base_df[[\"ID\", \"efs\", \"efs_time\", \"race_group\"]].copy()\n",
    "\n",
    "# Load and merge predictions from each experiment\n",
    "for exp_name in tqdm(experiments):\n",
    "    # Read the prediction file\n",
    "    if exp_name in parquet_experiments:\n",
    "        if \"mcts-exp-02\" in exp_name:\n",
    "            curr_df = pd.read_parquet(exp_name + '/mcts_exp_01' + '_oof.parquet')\n",
    "        else:\n",
    "            curr_df = pd.read_parquet(exp_name + '/' + (exp_name.split('/')[-1]).replace('-','_') + '_oof.parquet')\n",
    "    else:\n",
    "        curr_df = pd.read_excel(exp_name + '/' + (exp_name.split('/')[-1]).replace('-','_') + '_oof.xlsx')\n",
    "    \n",
    "    # Create a temporary dataframe with ID and predictions\n",
    "    temp_df = curr_df[[\"ID\", \"predictions\"]].copy()\n",
    "    temp_df = temp_df.rename(columns={\"predictions\": exp_name})\n",
    "    \n",
    "    # Merge with the main dataframe\n",
    "    preds_df = preds_df.merge(temp_df, on=\"ID\", how=\"left\")"
   ]
  },
  {
   "cell_type": "code",
   "execution_count": 10,
   "id": "39725095",
   "metadata": {
    "execution": {
     "iopub.execute_input": "2025-02-15T07:25:23.258535Z",
     "iopub.status.busy": "2025-02-15T07:25:23.257755Z",
     "iopub.status.idle": "2025-02-15T07:25:23.266884Z",
     "shell.execute_reply": "2025-02-15T07:25:23.265554Z"
    },
    "papermill": {
     "duration": 0.02546,
     "end_time": "2025-02-15T07:25:23.268845",
     "exception": false,
     "start_time": "2025-02-15T07:25:23.243385",
     "status": "completed"
    },
    "tags": []
   },
   "outputs": [
    {
     "data": {
      "text/plain": [
       "((28800, 37),\n",
       " Index(['ID', 'efs', 'efs_time', 'race_group', '/kaggle/input/xgboost-exp-01',\n",
       "        '/kaggle/input/catboost-exp-01', '/kaggle/input/lgbm-exp-01',\n",
       "        '/kaggle/input/xgboost-exp-02', '/kaggle/input/catboost-exp-02',\n",
       "        '/kaggle/input/lgbm-exp-03', '/kaggle/input/catboost-exp-03',\n",
       "        '/kaggle/input/tabm-exp-01', '/kaggle/input/nn-exp-01',\n",
       "        '/kaggle/input/tn-exp-01', '/kaggle/input/tf-exp-01',\n",
       "        '/kaggle/input/svr-exp-01', '/kaggle/input/abd-exp-01',\n",
       "        '/kaggle/input/catboost-exp-04', '/kaggle/input/lgbm-exp-04',\n",
       "        '/kaggle/input/tabm-exp-02', '/kaggle/input/ds-exp-01',\n",
       "        '/kaggle/input/nn-exp-02', '/kaggle/input/nn-exp-04',\n",
       "        '/kaggle/input/catboost-exp-05', '/kaggle/input/xgboost-exp-05',\n",
       "        '/kaggle/input/lgbm-exp-05', '/kaggle/input/tn-exp-02',\n",
       "        '/kaggle/input/vr-exp-01', '/kaggle/input/tt-exp-01',\n",
       "        '/kaggle/input/en-exp-01', '/kaggle/input/en-exp-02',\n",
       "        '/kaggle/input/nn-exp-05', '/kaggle/input/rf-exp-05',\n",
       "        '/kaggle/input/mcts-exp-02', '/kaggle/input/catboost-exp-06',\n",
       "        '/kaggle/input/xgboost-exp-06', '/kaggle/input/lgbm-exp-06'],\n",
       "       dtype='object'))"
      ]
     },
     "execution_count": 10,
     "metadata": {},
     "output_type": "execute_result"
    }
   ],
   "source": [
    "preds_df.shape, preds_df.columns"
   ]
  },
  {
   "cell_type": "code",
   "execution_count": 11,
   "id": "dce386be",
   "metadata": {
    "execution": {
     "iopub.execute_input": "2025-02-15T07:25:23.297791Z",
     "iopub.status.busy": "2025-02-15T07:25:23.297429Z",
     "iopub.status.idle": "2025-02-15T07:25:23.304421Z",
     "shell.execute_reply": "2025-02-15T07:25:23.303255Z"
    },
    "papermill": {
     "duration": 0.023913,
     "end_time": "2025-02-15T07:25:23.306378",
     "exception": false,
     "start_time": "2025-02-15T07:25:23.282465",
     "status": "completed"
    },
    "tags": []
   },
   "outputs": [
    {
     "data": {
      "text/plain": [
       "['/kaggle/input/xgboost-exp-01',\n",
       " '/kaggle/input/catboost-exp-01',\n",
       " '/kaggle/input/lgbm-exp-01',\n",
       " '/kaggle/input/xgboost-exp-02',\n",
       " '/kaggle/input/catboost-exp-02',\n",
       " '/kaggle/input/lgbm-exp-03',\n",
       " '/kaggle/input/catboost-exp-03',\n",
       " '/kaggle/input/tabm-exp-01',\n",
       " '/kaggle/input/nn-exp-01',\n",
       " '/kaggle/input/tn-exp-01',\n",
       " '/kaggle/input/tf-exp-01',\n",
       " '/kaggle/input/svr-exp-01',\n",
       " '/kaggle/input/abd-exp-01',\n",
       " '/kaggle/input/catboost-exp-04',\n",
       " '/kaggle/input/lgbm-exp-04',\n",
       " '/kaggle/input/tabm-exp-02',\n",
       " '/kaggle/input/ds-exp-01',\n",
       " '/kaggle/input/nn-exp-02',\n",
       " '/kaggle/input/nn-exp-04',\n",
       " '/kaggle/input/catboost-exp-05',\n",
       " '/kaggle/input/xgboost-exp-05',\n",
       " '/kaggle/input/lgbm-exp-05',\n",
       " '/kaggle/input/tn-exp-02',\n",
       " '/kaggle/input/vr-exp-01',\n",
       " '/kaggle/input/tt-exp-01',\n",
       " '/kaggle/input/en-exp-01',\n",
       " '/kaggle/input/en-exp-02',\n",
       " '/kaggle/input/nn-exp-05',\n",
       " '/kaggle/input/rf-exp-05',\n",
       " '/kaggle/input/mcts-exp-02',\n",
       " '/kaggle/input/catboost-exp-06',\n",
       " '/kaggle/input/xgboost-exp-06',\n",
       " '/kaggle/input/lgbm-exp-06']"
      ]
     },
     "execution_count": 11,
     "metadata": {},
     "output_type": "execute_result"
    }
   ],
   "source": [
    "experiments"
   ]
  },
  {
   "cell_type": "code",
   "execution_count": 12,
   "id": "88c176ea",
   "metadata": {
    "execution": {
     "iopub.execute_input": "2025-02-15T07:25:23.336726Z",
     "iopub.status.busy": "2025-02-15T07:25:23.336380Z",
     "iopub.status.idle": "2025-02-15T07:25:36.010679Z",
     "shell.execute_reply": "2025-02-15T07:25:36.008366Z"
    },
    "papermill": {
     "duration": 12.692519,
     "end_time": "2025-02-15T07:25:36.013089",
     "exception": false,
     "start_time": "2025-02-15T07:25:23.320570",
     "status": "completed"
    },
    "tags": []
   },
   "outputs": [
    {
     "name": "stdout",
     "output_type": "stream",
     "text": [
      "C-index 0.6743662038463064 /kaggle/input/xgboost-exp-01\n",
      "C-index 0.673797469068503 /kaggle/input/catboost-exp-01\n",
      "C-index 0.6735659109490936 /kaggle/input/lgbm-exp-01\n",
      "C-index 0.6719739976829171 /kaggle/input/xgboost-exp-02\n",
      "C-index 0.6715438291634074 /kaggle/input/catboost-exp-02\n",
      "C-index 0.6744113273004797 /kaggle/input/lgbm-exp-03\n",
      "C-index 0.6750446351219317 /kaggle/input/catboost-exp-03\n",
      "C-index 0.6698445972872783 /kaggle/input/tabm-exp-01\n",
      "C-index 0.6672504731273489 /kaggle/input/nn-exp-01\n",
      "C-index 0.6082304286386713 /kaggle/input/tn-exp-01\n",
      "C-index 0.6609386133349129 /kaggle/input/tf-exp-01\n",
      "C-index 0.6204664346764159 /kaggle/input/svr-exp-01\n",
      "C-index 0.6775546112659996 /kaggle/input/abd-exp-01\n",
      "C-index 0.6228381497451487 /kaggle/input/catboost-exp-04\n",
      "C-index 0.6216961934710434 /kaggle/input/lgbm-exp-04\n",
      "C-index 0.6777472728532595 /kaggle/input/tabm-exp-02\n",
      "C-index 0.6427991982766068 /kaggle/input/ds-exp-01\n",
      "C-index 0.6541867987232884 /kaggle/input/nn-exp-02\n",
      "C-index 0.6794831551153862 /kaggle/input/nn-exp-04\n",
      "I am here\n",
      "C-index 0.680734863930053 /kaggle/input/catboost-exp-05\n",
      "C-index 0.6801801958617659 /kaggle/input/xgboost-exp-05\n",
      "C-index 0.6791851357350963 /kaggle/input/lgbm-exp-05\n",
      "C-index 0.659742829229569 /kaggle/input/tn-exp-02\n",
      "C-index 0.6754542289908226 /kaggle/input/vr-exp-01\n",
      "C-index 0.6045564251149453 /kaggle/input/tt-exp-01\n",
      "C-index 0.6244728416862964 /kaggle/input/en-exp-01\n",
      "C-index 0.6417663206377346 /kaggle/input/en-exp-02\n",
      "C-index 0.6794831551153862 /kaggle/input/nn-exp-05\n",
      "C-index 0.6511582598647447 /kaggle/input/rf-exp-05\n",
      "C-index 0.6182302106430654 /kaggle/input/mcts-exp-02\n",
      "C-index 0.6805225213899068 /kaggle/input/catboost-exp-06\n",
      "C-index 0.6795077628167032 /kaggle/input/xgboost-exp-06\n",
      "C-index 0.6791063706461627 /kaggle/input/lgbm-exp-06\n",
      "\n",
      "Best single model is /kaggle/input/catboost-exp-05 with C-Index = 0.680734863930053\n"
     ]
    }
   ],
   "source": [
    "best_score    = 0\n",
    "best_index    = -1\n",
    "best_ensemble = 0\n",
    "\n",
    "for k,name in enumerate(experiments):\n",
    "    if \"catboost-exp-05\" in name:\n",
    "        print(\"I am here\")\n",
    "    oof_pre = preds_df[[\"ID\",\"efs\",\"efs_time\",\"race_group\",name]]\n",
    "    oof_pre = oof_pre.rename(columns={name: \"predictions\"})\n",
    "    s, oof = compute_metric_cindex(oof_pre, name)\n",
    "    if s > best_score:\n",
    "        best_score    = s\n",
    "        best_index    = name\n",
    "        best_ensemble = oof\n",
    "        \n",
    "    print(f'C-index {s} {name}') \n",
    "print()\n",
    "print(f'Best single model is {best_index} with C-Index = {best_score}')\n",
    "experiments.remove(best_index)\n",
    "first_best_index = best_index"
   ]
  },
  {
   "cell_type": "code",
   "execution_count": 13,
   "id": "35634e00",
   "metadata": {
    "execution": {
     "iopub.execute_input": "2025-02-15T07:25:36.047094Z",
     "iopub.status.busy": "2025-02-15T07:25:36.046681Z",
     "iopub.status.idle": "2025-02-15T07:25:36.053369Z",
     "shell.execute_reply": "2025-02-15T07:25:36.052292Z"
    },
    "papermill": {
     "duration": 0.026152,
     "end_time": "2025-02-15T07:25:36.055293",
     "exception": false,
     "start_time": "2025-02-15T07:25:36.029141",
     "status": "completed"
    },
    "tags": []
   },
   "outputs": [
    {
     "data": {
      "text/plain": [
       "['/kaggle/input/xgboost-exp-01',\n",
       " '/kaggle/input/catboost-exp-01',\n",
       " '/kaggle/input/lgbm-exp-01',\n",
       " '/kaggle/input/xgboost-exp-02',\n",
       " '/kaggle/input/catboost-exp-02',\n",
       " '/kaggle/input/lgbm-exp-03',\n",
       " '/kaggle/input/catboost-exp-03',\n",
       " '/kaggle/input/tabm-exp-01',\n",
       " '/kaggle/input/nn-exp-01',\n",
       " '/kaggle/input/tn-exp-01',\n",
       " '/kaggle/input/tf-exp-01',\n",
       " '/kaggle/input/svr-exp-01',\n",
       " '/kaggle/input/abd-exp-01',\n",
       " '/kaggle/input/catboost-exp-04',\n",
       " '/kaggle/input/lgbm-exp-04',\n",
       " '/kaggle/input/tabm-exp-02',\n",
       " '/kaggle/input/ds-exp-01',\n",
       " '/kaggle/input/nn-exp-02',\n",
       " '/kaggle/input/nn-exp-04',\n",
       " '/kaggle/input/xgboost-exp-05',\n",
       " '/kaggle/input/lgbm-exp-05',\n",
       " '/kaggle/input/tn-exp-02',\n",
       " '/kaggle/input/vr-exp-01',\n",
       " '/kaggle/input/tt-exp-01',\n",
       " '/kaggle/input/en-exp-01',\n",
       " '/kaggle/input/en-exp-02',\n",
       " '/kaggle/input/nn-exp-05',\n",
       " '/kaggle/input/rf-exp-05',\n",
       " '/kaggle/input/mcts-exp-02',\n",
       " '/kaggle/input/catboost-exp-06',\n",
       " '/kaggle/input/xgboost-exp-06',\n",
       " '/kaggle/input/lgbm-exp-06']"
      ]
     },
     "execution_count": 13,
     "metadata": {},
     "output_type": "execute_result"
    }
   ],
   "source": [
    "experiments"
   ]
  },
  {
   "cell_type": "markdown",
   "id": "8cb9eb0b",
   "metadata": {
    "papermill": {
     "duration": 0.014978,
     "end_time": "2025-02-15T07:25:36.085943",
     "exception": false,
     "start_time": "2025-02-15T07:25:36.070965",
     "status": "completed"
    },
    "tags": []
   },
   "source": [
    "## Step 5: Iterations for hill climbing"
   ]
  },
  {
   "cell_type": "code",
   "execution_count": 14,
   "id": "c79d9a6f",
   "metadata": {
    "execution": {
     "iopub.execute_input": "2025-02-15T07:25:36.117946Z",
     "iopub.status.busy": "2025-02-15T07:25:36.117573Z",
     "iopub.status.idle": "2025-02-15T07:25:36.122054Z",
     "shell.execute_reply": "2025-02-15T07:25:36.120634Z"
    },
    "papermill": {
     "duration": 0.022829,
     "end_time": "2025-02-15T07:25:36.124049",
     "exception": false,
     "start_time": "2025-02-15T07:25:36.101220",
     "status": "completed"
    },
    "tags": []
   },
   "outputs": [],
   "source": [
    "USE_NEGATIVE_WGT = True"
   ]
  },
  {
   "cell_type": "code",
   "execution_count": 15,
   "id": "14762bd5",
   "metadata": {
    "execution": {
     "iopub.execute_input": "2025-02-15T07:25:36.156028Z",
     "iopub.status.busy": "2025-02-15T07:25:36.155622Z",
     "iopub.status.idle": "2025-02-15T07:25:36.160324Z",
     "shell.execute_reply": "2025-02-15T07:25:36.159158Z"
    },
    "papermill": {
     "duration": 0.022639,
     "end_time": "2025-02-15T07:25:36.162091",
     "exception": false,
     "start_time": "2025-02-15T07:25:36.139452",
     "status": "completed"
    },
    "tags": []
   },
   "outputs": [],
   "source": [
    "indices        = [best_index]\n",
    "old_best_score = best_score"
   ]
  },
  {
   "cell_type": "code",
   "execution_count": 16,
   "id": "088150d8",
   "metadata": {
    "execution": {
     "iopub.execute_input": "2025-02-15T07:25:36.194142Z",
     "iopub.status.busy": "2025-02-15T07:25:36.193741Z",
     "iopub.status.idle": "2025-02-15T07:25:36.198738Z",
     "shell.execute_reply": "2025-02-15T07:25:36.197501Z"
    },
    "papermill": {
     "duration": 0.023178,
     "end_time": "2025-02-15T07:25:36.200693",
     "exception": false,
     "start_time": "2025-02-15T07:25:36.177515",
     "status": "completed"
    },
    "tags": []
   },
   "outputs": [],
   "source": [
    "# PREPARE/MOVE VARIABLES TO GPU FOR SPEED UP\n",
    "best_ensemble = best_ensemble\n",
    "start         = -0.50\n",
    "if not USE_NEGATIVE_WGT: start = 0.01\n",
    "ww            = np.arange(start,0.51,0.01) # GPU\n",
    "nn            = len(ww)"
   ]
  },
  {
   "cell_type": "code",
   "execution_count": 17,
   "id": "859ed3d5",
   "metadata": {
    "execution": {
     "iopub.execute_input": "2025-02-15T07:25:36.233809Z",
     "iopub.status.busy": "2025-02-15T07:25:36.233418Z",
     "iopub.status.idle": "2025-02-15T07:25:36.238145Z",
     "shell.execute_reply": "2025-02-15T07:25:36.236762Z"
    },
    "papermill": {
     "duration": 0.023931,
     "end_time": "2025-02-15T07:25:36.240273",
     "exception": false,
     "start_time": "2025-02-15T07:25:36.216342",
     "status": "completed"
    },
    "tags": []
   },
   "outputs": [],
   "source": [
    "# BEGIN HILL CLIMBING\n",
    "models  = [best_index]\n",
    "weights = []\n",
    "metrics = [best_score]"
   ]
  },
  {
   "cell_type": "code",
   "execution_count": 18,
   "id": "f18fdc3f",
   "metadata": {
    "execution": {
     "iopub.execute_input": "2025-02-15T07:25:36.272308Z",
     "iopub.status.busy": "2025-02-15T07:25:36.271791Z",
     "iopub.status.idle": "2025-02-15T07:25:36.279105Z",
     "shell.execute_reply": "2025-02-15T07:25:36.278026Z"
    },
    "papermill": {
     "duration": 0.0255,
     "end_time": "2025-02-15T07:25:36.281103",
     "exception": false,
     "start_time": "2025-02-15T07:25:36.255603",
     "status": "completed"
    },
    "tags": []
   },
   "outputs": [
    {
     "data": {
      "text/plain": [
       "(['/kaggle/input/catboost-exp-05'],\n",
       " [0.680734863930053],\n",
       " array([-5.0000000e-01, -4.9000000e-01, -4.8000000e-01, -4.7000000e-01,\n",
       "        -4.6000000e-01, -4.5000000e-01, -4.4000000e-01, -4.3000000e-01,\n",
       "        -4.2000000e-01, -4.1000000e-01, -4.0000000e-01, -3.9000000e-01,\n",
       "        -3.8000000e-01, -3.7000000e-01, -3.6000000e-01, -3.5000000e-01,\n",
       "        -3.4000000e-01, -3.3000000e-01, -3.2000000e-01, -3.1000000e-01,\n",
       "        -3.0000000e-01, -2.9000000e-01, -2.8000000e-01, -2.7000000e-01,\n",
       "        -2.6000000e-01, -2.5000000e-01, -2.4000000e-01, -2.3000000e-01,\n",
       "        -2.2000000e-01, -2.1000000e-01, -2.0000000e-01, -1.9000000e-01,\n",
       "        -1.8000000e-01, -1.7000000e-01, -1.6000000e-01, -1.5000000e-01,\n",
       "        -1.4000000e-01, -1.3000000e-01, -1.2000000e-01, -1.1000000e-01,\n",
       "        -1.0000000e-01, -9.0000000e-02, -8.0000000e-02, -7.0000000e-02,\n",
       "        -6.0000000e-02, -5.0000000e-02, -4.0000000e-02, -3.0000000e-02,\n",
       "        -2.0000000e-02, -1.0000000e-02,  4.4408921e-16,  1.0000000e-02,\n",
       "         2.0000000e-02,  3.0000000e-02,  4.0000000e-02,  5.0000000e-02,\n",
       "         6.0000000e-02,  7.0000000e-02,  8.0000000e-02,  9.0000000e-02,\n",
       "         1.0000000e-01,  1.1000000e-01,  1.2000000e-01,  1.3000000e-01,\n",
       "         1.4000000e-01,  1.5000000e-01,  1.6000000e-01,  1.7000000e-01,\n",
       "         1.8000000e-01,  1.9000000e-01,  2.0000000e-01,  2.1000000e-01,\n",
       "         2.2000000e-01,  2.3000000e-01,  2.4000000e-01,  2.5000000e-01,\n",
       "         2.6000000e-01,  2.7000000e-01,  2.8000000e-01,  2.9000000e-01,\n",
       "         3.0000000e-01,  3.1000000e-01,  3.2000000e-01,  3.3000000e-01,\n",
       "         3.4000000e-01,  3.5000000e-01,  3.6000000e-01,  3.7000000e-01,\n",
       "         3.8000000e-01,  3.9000000e-01,  4.0000000e-01,  4.1000000e-01,\n",
       "         4.2000000e-01,  4.3000000e-01,  4.4000000e-01,  4.5000000e-01,\n",
       "         4.6000000e-01,  4.7000000e-01,  4.8000000e-01,  4.9000000e-01,\n",
       "         5.0000000e-01]))"
      ]
     },
     "execution_count": 18,
     "metadata": {},
     "output_type": "execute_result"
    }
   ],
   "source": [
    "models, metrics, ww"
   ]
  },
  {
   "cell_type": "code",
   "execution_count": 19,
   "id": "b627efa6",
   "metadata": {
    "execution": {
     "iopub.execute_input": "2025-02-15T07:25:36.314728Z",
     "iopub.status.busy": "2025-02-15T07:25:36.314378Z",
     "iopub.status.idle": "2025-02-15T13:07:23.570818Z",
     "shell.execute_reply": "2025-02-15T13:07:23.569742Z"
    },
    "papermill": {
     "duration": 20507.275551,
     "end_time": "2025-02-15T13:07:23.572745",
     "exception": false,
     "start_time": "2025-02-15T07:25:36.297194",
     "status": "completed"
    },
    "tags": []
   },
   "outputs": [
    {
     "name": "stdout",
     "output_type": "stream",
     "text": [
      "0th iteration\n"
     ]
    },
    {
     "name": "stderr",
     "output_type": "stream",
     "text": [
      "Testing weights for xgboost_exp_01: 100%|██████████| 101/101 [00:39<00:00,  2.59it/s]\n",
      "Testing weights for catboost_exp_01: 100%|██████████| 101/101 [00:38<00:00,  2.59it/s]\n",
      "Testing weights for lgbm_exp_01: 100%|██████████| 101/101 [00:39<00:00,  2.59it/s]\n",
      "Testing weights for xgboost_exp_02: 100%|██████████| 101/101 [00:38<00:00,  2.59it/s]\n",
      "Testing weights for catboost_exp_02: 100%|██████████| 101/101 [00:38<00:00,  2.59it/s]\n",
      "Testing weights for lgbm_exp_03: 100%|██████████| 101/101 [00:38<00:00,  2.60it/s]\n",
      "Testing weights for catboost_exp_03: 100%|██████████| 101/101 [00:38<00:00,  2.59it/s]\n",
      "Testing weights for tabm_exp_01: 100%|██████████| 101/101 [00:38<00:00,  2.60it/s]\n",
      "Testing weights for nn_exp_01: 100%|██████████| 101/101 [00:38<00:00,  2.60it/s]\n",
      "Testing weights for tn_exp_01: 100%|██████████| 101/101 [00:38<00:00,  2.60it/s]\n",
      "Testing weights for tf_exp_01: 100%|██████████| 101/101 [00:38<00:00,  2.61it/s]\n",
      "Testing weights for svr_exp_01: 100%|██████████| 101/101 [00:38<00:00,  2.60it/s]\n",
      "Testing weights for abd_exp_01: 100%|██████████| 101/101 [00:38<00:00,  2.60it/s]\n",
      "Testing weights for catboost_exp_04: 100%|██████████| 101/101 [00:38<00:00,  2.60it/s]\n",
      "Testing weights for lgbm_exp_04: 100%|██████████| 101/101 [00:38<00:00,  2.60it/s]\n",
      "Testing weights for tabm_exp_02: 100%|██████████| 101/101 [00:39<00:00,  2.59it/s]\n",
      "Testing weights for ds_exp_01: 100%|██████████| 101/101 [00:38<00:00,  2.60it/s]\n",
      "Testing weights for nn_exp_02: 100%|██████████| 101/101 [00:38<00:00,  2.60it/s]\n",
      "Testing weights for nn_exp_04: 100%|██████████| 101/101 [00:39<00:00,  2.58it/s]\n",
      "Testing weights for xgboost_exp_05: 100%|██████████| 101/101 [00:39<00:00,  2.56it/s]\n",
      "Testing weights for lgbm_exp_05: 100%|██████████| 101/101 [00:39<00:00,  2.57it/s]\n",
      "Testing weights for tn_exp_02: 100%|██████████| 101/101 [00:38<00:00,  2.59it/s]\n",
      "Testing weights for vr_exp_01: 100%|██████████| 101/101 [00:38<00:00,  2.59it/s]\n",
      "Testing weights for tt_exp_01: 100%|██████████| 101/101 [00:38<00:00,  2.61it/s]\n",
      "Testing weights for en_exp_01: 100%|██████████| 101/101 [00:38<00:00,  2.60it/s]\n",
      "Testing weights for en_exp_02: 100%|██████████| 101/101 [00:38<00:00,  2.60it/s]\n",
      "Testing weights for nn_exp_05: 100%|██████████| 101/101 [00:38<00:00,  2.60it/s]\n",
      "Testing weights for rf_exp_05: 100%|██████████| 101/101 [00:38<00:00,  2.60it/s]\n",
      "Testing weights for mcts_exp_02: 100%|██████████| 101/101 [00:38<00:00,  2.60it/s]\n",
      "Testing weights for catboost_exp_06: 100%|██████████| 101/101 [00:38<00:00,  2.61it/s]\n",
      "Testing weights for xgboost_exp_06: 100%|██████████| 101/101 [00:38<00:00,  2.61it/s]\n",
      "Testing weights for lgbm_exp_06: 100%|██████████| 101/101 [00:38<00:00,  2.61it/s]\n"
     ]
    },
    {
     "name": "stdout",
     "output_type": "stream",
     "text": [
      "Iteration 1: Added /kaggle/input/nn-exp-04 with weight 0.4700, Score: 0.6857\n",
      "1th iteration\n"
     ]
    },
    {
     "name": "stderr",
     "output_type": "stream",
     "text": [
      "Testing weights for xgboost_exp_01: 100%|██████████| 101/101 [00:38<00:00,  2.62it/s]\n",
      "Testing weights for catboost_exp_01: 100%|██████████| 101/101 [00:38<00:00,  2.61it/s]\n",
      "Testing weights for lgbm_exp_01: 100%|██████████| 101/101 [00:38<00:00,  2.60it/s]\n",
      "Testing weights for xgboost_exp_02: 100%|██████████| 101/101 [00:38<00:00,  2.61it/s]\n",
      "Testing weights for catboost_exp_02: 100%|██████████| 101/101 [00:38<00:00,  2.60it/s]\n",
      "Testing weights for lgbm_exp_03: 100%|██████████| 101/101 [00:38<00:00,  2.60it/s]\n",
      "Testing weights for catboost_exp_03: 100%|██████████| 101/101 [00:38<00:00,  2.59it/s]\n",
      "Testing weights for tabm_exp_01: 100%|██████████| 101/101 [00:38<00:00,  2.61it/s]\n",
      "Testing weights for nn_exp_01: 100%|██████████| 101/101 [00:38<00:00,  2.61it/s]\n",
      "Testing weights for tn_exp_01: 100%|██████████| 101/101 [00:38<00:00,  2.61it/s]\n",
      "Testing weights for tf_exp_01: 100%|██████████| 101/101 [00:38<00:00,  2.60it/s]\n",
      "Testing weights for svr_exp_01: 100%|██████████| 101/101 [00:38<00:00,  2.60it/s]\n",
      "Testing weights for abd_exp_01: 100%|██████████| 101/101 [00:38<00:00,  2.61it/s]\n",
      "Testing weights for catboost_exp_04: 100%|██████████| 101/101 [00:38<00:00,  2.61it/s]\n",
      "Testing weights for lgbm_exp_04: 100%|██████████| 101/101 [00:38<00:00,  2.60it/s]\n",
      "Testing weights for tabm_exp_02: 100%|██████████| 101/101 [00:38<00:00,  2.60it/s]\n",
      "Testing weights for ds_exp_01: 100%|██████████| 101/101 [00:38<00:00,  2.61it/s]\n",
      "Testing weights for nn_exp_02: 100%|██████████| 101/101 [00:38<00:00,  2.61it/s]\n",
      "Testing weights for xgboost_exp_05: 100%|██████████| 101/101 [00:38<00:00,  2.61it/s]\n",
      "Testing weights for lgbm_exp_05: 100%|██████████| 101/101 [00:38<00:00,  2.61it/s]\n",
      "Testing weights for tn_exp_02: 100%|██████████| 101/101 [00:39<00:00,  2.58it/s]\n",
      "Testing weights for vr_exp_01: 100%|██████████| 101/101 [00:40<00:00,  2.48it/s]\n",
      "Testing weights for tt_exp_01: 100%|██████████| 101/101 [00:41<00:00,  2.45it/s]\n",
      "Testing weights for en_exp_01: 100%|██████████| 101/101 [00:41<00:00,  2.46it/s]\n",
      "Testing weights for en_exp_02: 100%|██████████| 101/101 [00:39<00:00,  2.59it/s]\n",
      "Testing weights for nn_exp_05: 100%|██████████| 101/101 [00:38<00:00,  2.60it/s]\n",
      "Testing weights for rf_exp_05: 100%|██████████| 101/101 [00:38<00:00,  2.59it/s]\n",
      "Testing weights for mcts_exp_02: 100%|██████████| 101/101 [00:38<00:00,  2.59it/s]\n",
      "Testing weights for catboost_exp_06: 100%|██████████| 101/101 [00:38<00:00,  2.60it/s]\n",
      "Testing weights for xgboost_exp_06: 100%|██████████| 101/101 [00:38<00:00,  2.60it/s]\n",
      "Testing weights for lgbm_exp_06: 100%|██████████| 101/101 [00:38<00:00,  2.60it/s]\n"
     ]
    },
    {
     "name": "stdout",
     "output_type": "stream",
     "text": [
      "Iteration 2: Added /kaggle/input/tabm-exp-02 with weight 0.1500, Score: 0.6861\n",
      "2th iteration\n"
     ]
    },
    {
     "name": "stderr",
     "output_type": "stream",
     "text": [
      "Testing weights for xgboost_exp_01: 100%|██████████| 101/101 [00:38<00:00,  2.61it/s]\n",
      "Testing weights for catboost_exp_01: 100%|██████████| 101/101 [00:38<00:00,  2.60it/s]\n",
      "Testing weights for lgbm_exp_01: 100%|██████████| 101/101 [00:38<00:00,  2.60it/s]\n",
      "Testing weights for xgboost_exp_02: 100%|██████████| 101/101 [00:38<00:00,  2.61it/s]\n",
      "Testing weights for catboost_exp_02: 100%|██████████| 101/101 [00:39<00:00,  2.59it/s]\n",
      "Testing weights for lgbm_exp_03: 100%|██████████| 101/101 [00:38<00:00,  2.60it/s]\n",
      "Testing weights for catboost_exp_03: 100%|██████████| 101/101 [00:38<00:00,  2.61it/s]\n",
      "Testing weights for tabm_exp_01: 100%|██████████| 101/101 [00:38<00:00,  2.60it/s]\n",
      "Testing weights for nn_exp_01: 100%|██████████| 101/101 [00:39<00:00,  2.57it/s]\n",
      "Testing weights for tn_exp_01: 100%|██████████| 101/101 [00:38<00:00,  2.61it/s]\n",
      "Testing weights for tf_exp_01: 100%|██████████| 101/101 [00:38<00:00,  2.61it/s]\n",
      "Testing weights for svr_exp_01: 100%|██████████| 101/101 [00:38<00:00,  2.60it/s]\n",
      "Testing weights for abd_exp_01: 100%|██████████| 101/101 [00:38<00:00,  2.61it/s]\n",
      "Testing weights for catboost_exp_04: 100%|██████████| 101/101 [00:38<00:00,  2.61it/s]\n",
      "Testing weights for lgbm_exp_04: 100%|██████████| 101/101 [00:38<00:00,  2.60it/s]\n",
      "Testing weights for ds_exp_01: 100%|██████████| 101/101 [00:38<00:00,  2.61it/s]\n",
      "Testing weights for nn_exp_02: 100%|██████████| 101/101 [00:38<00:00,  2.60it/s]\n",
      "Testing weights for xgboost_exp_05: 100%|██████████| 101/101 [00:38<00:00,  2.60it/s]\n",
      "Testing weights for lgbm_exp_05: 100%|██████████| 101/101 [00:38<00:00,  2.61it/s]\n",
      "Testing weights for tn_exp_02: 100%|██████████| 101/101 [00:38<00:00,  2.60it/s]\n",
      "Testing weights for vr_exp_01: 100%|██████████| 101/101 [00:38<00:00,  2.60it/s]\n",
      "Testing weights for tt_exp_01: 100%|██████████| 101/101 [00:38<00:00,  2.61it/s]\n",
      "Testing weights for en_exp_01: 100%|██████████| 101/101 [00:38<00:00,  2.61it/s]\n",
      "Testing weights for en_exp_02: 100%|██████████| 101/101 [00:39<00:00,  2.59it/s]\n",
      "Testing weights for nn_exp_05: 100%|██████████| 101/101 [00:39<00:00,  2.59it/s]\n",
      "Testing weights for rf_exp_05: 100%|██████████| 101/101 [00:38<00:00,  2.60it/s]\n",
      "Testing weights for mcts_exp_02: 100%|██████████| 101/101 [00:38<00:00,  2.60it/s]\n",
      "Testing weights for catboost_exp_06: 100%|██████████| 101/101 [00:38<00:00,  2.60it/s]\n",
      "Testing weights for xgboost_exp_06: 100%|██████████| 101/101 [00:39<00:00,  2.58it/s]\n",
      "Testing weights for lgbm_exp_06: 100%|██████████| 101/101 [00:38<00:00,  2.60it/s]\n"
     ]
    },
    {
     "name": "stdout",
     "output_type": "stream",
     "text": [
      "Iteration 3: Added /kaggle/input/ds-exp-01 with weight 0.0500, Score: 0.6862\n",
      "3th iteration\n"
     ]
    },
    {
     "name": "stderr",
     "output_type": "stream",
     "text": [
      "Testing weights for xgboost_exp_01: 100%|██████████| 101/101 [00:38<00:00,  2.61it/s]\n",
      "Testing weights for catboost_exp_01: 100%|██████████| 101/101 [00:38<00:00,  2.61it/s]\n",
      "Testing weights for lgbm_exp_01: 100%|██████████| 101/101 [00:39<00:00,  2.59it/s]\n",
      "Testing weights for xgboost_exp_02: 100%|██████████| 101/101 [00:38<00:00,  2.60it/s]\n",
      "Testing weights for catboost_exp_02: 100%|██████████| 101/101 [00:38<00:00,  2.60it/s]\n",
      "Testing weights for lgbm_exp_03: 100%|██████████| 101/101 [00:38<00:00,  2.59it/s]\n",
      "Testing weights for catboost_exp_03: 100%|██████████| 101/101 [00:39<00:00,  2.58it/s]\n",
      "Testing weights for tabm_exp_01: 100%|██████████| 101/101 [00:38<00:00,  2.59it/s]\n",
      "Testing weights for nn_exp_01: 100%|██████████| 101/101 [00:39<00:00,  2.59it/s]\n",
      "Testing weights for tn_exp_01: 100%|██████████| 101/101 [00:38<00:00,  2.61it/s]\n",
      "Testing weights for tf_exp_01: 100%|██████████| 101/101 [00:38<00:00,  2.60it/s]\n",
      "Testing weights for svr_exp_01: 100%|██████████| 101/101 [00:38<00:00,  2.60it/s]\n",
      "Testing weights for abd_exp_01: 100%|██████████| 101/101 [00:38<00:00,  2.60it/s]\n",
      "Testing weights for catboost_exp_04: 100%|██████████| 101/101 [00:38<00:00,  2.60it/s]\n",
      "Testing weights for lgbm_exp_04: 100%|██████████| 101/101 [00:38<00:00,  2.60it/s]\n",
      "Testing weights for nn_exp_02: 100%|██████████| 101/101 [00:39<00:00,  2.59it/s]\n",
      "Testing weights for xgboost_exp_05: 100%|██████████| 101/101 [00:38<00:00,  2.60it/s]\n",
      "Testing weights for lgbm_exp_05: 100%|██████████| 101/101 [00:38<00:00,  2.61it/s]\n",
      "Testing weights for tn_exp_02: 100%|██████████| 101/101 [00:38<00:00,  2.61it/s]\n",
      "Testing weights for vr_exp_01: 100%|██████████| 101/101 [00:38<00:00,  2.60it/s]\n",
      "Testing weights for tt_exp_01: 100%|██████████| 101/101 [00:39<00:00,  2.56it/s]\n",
      "Testing weights for en_exp_01: 100%|██████████| 101/101 [00:38<00:00,  2.61it/s]\n",
      "Testing weights for en_exp_02: 100%|██████████| 101/101 [00:38<00:00,  2.60it/s]\n",
      "Testing weights for nn_exp_05: 100%|██████████| 101/101 [00:38<00:00,  2.59it/s]\n",
      "Testing weights for rf_exp_05: 100%|██████████| 101/101 [00:38<00:00,  2.60it/s]\n",
      "Testing weights for mcts_exp_02: 100%|██████████| 101/101 [00:38<00:00,  2.61it/s]\n",
      "Testing weights for catboost_exp_06: 100%|██████████| 101/101 [00:38<00:00,  2.61it/s]\n",
      "Testing weights for xgboost_exp_06: 100%|██████████| 101/101 [00:38<00:00,  2.59it/s]\n",
      "Testing weights for lgbm_exp_06: 100%|██████████| 101/101 [00:38<00:00,  2.61it/s]\n"
     ]
    },
    {
     "name": "stdout",
     "output_type": "stream",
     "text": [
      "Iteration 4: Added /kaggle/input/svr-exp-01 with weight -0.0500, Score: 0.6864\n",
      "4th iteration\n"
     ]
    },
    {
     "name": "stderr",
     "output_type": "stream",
     "text": [
      "Testing weights for xgboost_exp_01: 100%|██████████| 101/101 [00:39<00:00,  2.58it/s]\n",
      "Testing weights for catboost_exp_01: 100%|██████████| 101/101 [00:39<00:00,  2.58it/s]\n",
      "Testing weights for lgbm_exp_01: 100%|██████████| 101/101 [00:38<00:00,  2.60it/s]\n",
      "Testing weights for xgboost_exp_02: 100%|██████████| 101/101 [00:38<00:00,  2.60it/s]\n",
      "Testing weights for catboost_exp_02: 100%|██████████| 101/101 [00:38<00:00,  2.59it/s]\n",
      "Testing weights for lgbm_exp_03: 100%|██████████| 101/101 [00:38<00:00,  2.61it/s]\n",
      "Testing weights for catboost_exp_03: 100%|██████████| 101/101 [00:39<00:00,  2.59it/s]\n",
      "Testing weights for tabm_exp_01: 100%|██████████| 101/101 [00:39<00:00,  2.58it/s]\n",
      "Testing weights for nn_exp_01: 100%|██████████| 101/101 [00:38<00:00,  2.59it/s]\n",
      "Testing weights for tn_exp_01: 100%|██████████| 101/101 [00:38<00:00,  2.61it/s]\n",
      "Testing weights for tf_exp_01: 100%|██████████| 101/101 [00:38<00:00,  2.60it/s]\n",
      "Testing weights for abd_exp_01: 100%|██████████| 101/101 [00:38<00:00,  2.61it/s]\n",
      "Testing weights for catboost_exp_04: 100%|██████████| 101/101 [00:38<00:00,  2.61it/s]\n",
      "Testing weights for lgbm_exp_04: 100%|██████████| 101/101 [00:38<00:00,  2.60it/s]\n",
      "Testing weights for nn_exp_02: 100%|██████████| 101/101 [00:38<00:00,  2.59it/s]\n",
      "Testing weights for xgboost_exp_05: 100%|██████████| 101/101 [00:38<00:00,  2.60it/s]\n",
      "Testing weights for lgbm_exp_05: 100%|██████████| 101/101 [00:38<00:00,  2.61it/s]\n",
      "Testing weights for tn_exp_02: 100%|██████████| 101/101 [00:38<00:00,  2.61it/s]\n",
      "Testing weights for vr_exp_01: 100%|██████████| 101/101 [00:39<00:00,  2.55it/s]\n",
      "Testing weights for tt_exp_01: 100%|██████████| 101/101 [00:38<00:00,  2.59it/s]\n",
      "Testing weights for en_exp_01: 100%|██████████| 101/101 [00:38<00:00,  2.61it/s]\n",
      "Testing weights for en_exp_02: 100%|██████████| 101/101 [00:38<00:00,  2.61it/s]\n",
      "Testing weights for nn_exp_05: 100%|██████████| 101/101 [00:39<00:00,  2.59it/s]\n",
      "Testing weights for rf_exp_05: 100%|██████████| 101/101 [00:38<00:00,  2.61it/s]\n",
      "Testing weights for mcts_exp_02: 100%|██████████| 101/101 [00:38<00:00,  2.60it/s]\n",
      "Testing weights for catboost_exp_06: 100%|██████████| 101/101 [00:38<00:00,  2.59it/s]\n",
      "Testing weights for xgboost_exp_06: 100%|██████████| 101/101 [00:38<00:00,  2.60it/s]\n",
      "Testing weights for lgbm_exp_06: 100%|██████████| 101/101 [00:38<00:00,  2.61it/s]\n"
     ]
    },
    {
     "name": "stdout",
     "output_type": "stream",
     "text": [
      "Iteration 5: Added /kaggle/input/catboost-exp-01 with weight 0.0900, Score: 0.6866\n",
      "5th iteration\n"
     ]
    },
    {
     "name": "stderr",
     "output_type": "stream",
     "text": [
      "Testing weights for xgboost_exp_01: 100%|██████████| 101/101 [00:38<00:00,  2.60it/s]\n",
      "Testing weights for lgbm_exp_01: 100%|██████████| 101/101 [00:38<00:00,  2.59it/s]\n",
      "Testing weights for xgboost_exp_02: 100%|██████████| 101/101 [00:38<00:00,  2.60it/s]\n",
      "Testing weights for catboost_exp_02: 100%|██████████| 101/101 [00:39<00:00,  2.59it/s]\n",
      "Testing weights for lgbm_exp_03: 100%|██████████| 101/101 [00:38<00:00,  2.61it/s]\n",
      "Testing weights for catboost_exp_03: 100%|██████████| 101/101 [00:38<00:00,  2.60it/s]\n",
      "Testing weights for tabm_exp_01: 100%|██████████| 101/101 [00:38<00:00,  2.60it/s]\n",
      "Testing weights for nn_exp_01: 100%|██████████| 101/101 [00:38<00:00,  2.60it/s]\n",
      "Testing weights for tn_exp_01: 100%|██████████| 101/101 [00:38<00:00,  2.61it/s]\n",
      "Testing weights for tf_exp_01: 100%|██████████| 101/101 [00:38<00:00,  2.60it/s]\n",
      "Testing weights for abd_exp_01: 100%|██████████| 101/101 [00:38<00:00,  2.61it/s]\n",
      "Testing weights for catboost_exp_04: 100%|██████████| 101/101 [00:38<00:00,  2.60it/s]\n",
      "Testing weights for lgbm_exp_04: 100%|██████████| 101/101 [00:38<00:00,  2.59it/s]\n",
      "Testing weights for nn_exp_02: 100%|██████████| 101/101 [00:38<00:00,  2.60it/s]\n",
      "Testing weights for xgboost_exp_05: 100%|██████████| 101/101 [00:38<00:00,  2.61it/s]\n",
      "Testing weights for lgbm_exp_05: 100%|██████████| 101/101 [00:38<00:00,  2.60it/s]\n",
      "Testing weights for tn_exp_02: 100%|██████████| 101/101 [00:38<00:00,  2.60it/s]\n",
      "Testing weights for vr_exp_01: 100%|██████████| 101/101 [00:38<00:00,  2.60it/s]\n",
      "Testing weights for tt_exp_01: 100%|██████████| 101/101 [00:38<00:00,  2.60it/s]\n",
      "Testing weights for en_exp_01: 100%|██████████| 101/101 [00:38<00:00,  2.59it/s]\n",
      "Testing weights for en_exp_02: 100%|██████████| 101/101 [00:38<00:00,  2.61it/s]\n",
      "Testing weights for nn_exp_05: 100%|██████████| 101/101 [00:38<00:00,  2.60it/s]\n",
      "Testing weights for rf_exp_05: 100%|██████████| 101/101 [00:38<00:00,  2.61it/s]\n",
      "Testing weights for mcts_exp_02: 100%|██████████| 101/101 [00:38<00:00,  2.60it/s]\n",
      "Testing weights for catboost_exp_06: 100%|██████████| 101/101 [00:38<00:00,  2.60it/s]\n",
      "Testing weights for xgboost_exp_06: 100%|██████████| 101/101 [00:39<00:00,  2.56it/s]\n",
      "Testing weights for lgbm_exp_06: 100%|██████████| 101/101 [00:38<00:00,  2.60it/s]\n"
     ]
    },
    {
     "name": "stdout",
     "output_type": "stream",
     "text": [
      "Iteration 6: Added /kaggle/input/rf-exp-05 with weight -0.0500, Score: 0.6867\n",
      "6th iteration\n"
     ]
    },
    {
     "name": "stderr",
     "output_type": "stream",
     "text": [
      "Testing weights for xgboost_exp_01: 100%|██████████| 101/101 [00:38<00:00,  2.60it/s]\n",
      "Testing weights for lgbm_exp_01: 100%|██████████| 101/101 [00:38<00:00,  2.60it/s]\n",
      "Testing weights for xgboost_exp_02: 100%|██████████| 101/101 [00:38<00:00,  2.61it/s]\n",
      "Testing weights for catboost_exp_02: 100%|██████████| 101/101 [00:38<00:00,  2.60it/s]\n",
      "Testing weights for lgbm_exp_03: 100%|██████████| 101/101 [00:38<00:00,  2.60it/s]\n",
      "Testing weights for catboost_exp_03: 100%|██████████| 101/101 [00:38<00:00,  2.61it/s]\n",
      "Testing weights for tabm_exp_01: 100%|██████████| 101/101 [00:38<00:00,  2.60it/s]\n",
      "Testing weights for nn_exp_01: 100%|██████████| 101/101 [00:38<00:00,  2.59it/s]\n",
      "Testing weights for tn_exp_01: 100%|██████████| 101/101 [00:38<00:00,  2.61it/s]\n",
      "Testing weights for tf_exp_01: 100%|██████████| 101/101 [00:38<00:00,  2.60it/s]\n",
      "Testing weights for abd_exp_01: 100%|██████████| 101/101 [00:38<00:00,  2.59it/s]\n",
      "Testing weights for catboost_exp_04: 100%|██████████| 101/101 [00:38<00:00,  2.61it/s]\n",
      "Testing weights for lgbm_exp_04: 100%|██████████| 101/101 [00:38<00:00,  2.61it/s]\n",
      "Testing weights for nn_exp_02: 100%|██████████| 101/101 [00:38<00:00,  2.60it/s]\n",
      "Testing weights for xgboost_exp_05: 100%|██████████| 101/101 [00:38<00:00,  2.60it/s]\n",
      "Testing weights for lgbm_exp_05: 100%|██████████| 101/101 [00:38<00:00,  2.60it/s]\n",
      "Testing weights for tn_exp_02: 100%|██████████| 101/101 [00:38<00:00,  2.59it/s]\n",
      "Testing weights for vr_exp_01: 100%|██████████| 101/101 [00:38<00:00,  2.59it/s]\n",
      "Testing weights for tt_exp_01: 100%|██████████| 101/101 [00:38<00:00,  2.60it/s]\n",
      "Testing weights for en_exp_01: 100%|██████████| 101/101 [00:38<00:00,  2.60it/s]\n",
      "Testing weights for en_exp_02: 100%|██████████| 101/101 [00:38<00:00,  2.60it/s]\n",
      "Testing weights for nn_exp_05: 100%|██████████| 101/101 [00:38<00:00,  2.60it/s]\n",
      "Testing weights for mcts_exp_02: 100%|██████████| 101/101 [00:38<00:00,  2.60it/s]\n",
      "Testing weights for catboost_exp_06: 100%|██████████| 101/101 [00:38<00:00,  2.60it/s]\n",
      "Testing weights for xgboost_exp_06: 100%|██████████| 101/101 [00:38<00:00,  2.60it/s]\n",
      "Testing weights for lgbm_exp_06: 100%|██████████| 101/101 [00:39<00:00,  2.59it/s]\n"
     ]
    },
    {
     "name": "stdout",
     "output_type": "stream",
     "text": [
      "Iteration 7: Added /kaggle/input/lgbm-exp-03 with weight -0.0600, Score: 0.6867\n",
      "7th iteration\n"
     ]
    },
    {
     "name": "stderr",
     "output_type": "stream",
     "text": [
      "Testing weights for xgboost_exp_01: 100%|██████████| 101/101 [00:38<00:00,  2.60it/s]\n",
      "Testing weights for lgbm_exp_01: 100%|██████████| 101/101 [00:38<00:00,  2.60it/s]\n",
      "Testing weights for xgboost_exp_02: 100%|██████████| 101/101 [00:38<00:00,  2.60it/s]\n",
      "Testing weights for catboost_exp_02: 100%|██████████| 101/101 [00:38<00:00,  2.60it/s]\n",
      "Testing weights for catboost_exp_03: 100%|██████████| 101/101 [00:38<00:00,  2.61it/s]\n",
      "Testing weights for tabm_exp_01: 100%|██████████| 101/101 [00:38<00:00,  2.60it/s]\n",
      "Testing weights for nn_exp_01: 100%|██████████| 101/101 [00:38<00:00,  2.60it/s]\n",
      "Testing weights for tn_exp_01: 100%|██████████| 101/101 [00:38<00:00,  2.61it/s]\n",
      "Testing weights for tf_exp_01: 100%|██████████| 101/101 [00:38<00:00,  2.61it/s]\n",
      "Testing weights for abd_exp_01: 100%|██████████| 101/101 [00:38<00:00,  2.61it/s]\n",
      "Testing weights for catboost_exp_04: 100%|██████████| 101/101 [00:38<00:00,  2.61it/s]\n",
      "Testing weights for lgbm_exp_04: 100%|██████████| 101/101 [00:38<00:00,  2.60it/s]\n",
      "Testing weights for nn_exp_02: 100%|██████████| 101/101 [00:38<00:00,  2.60it/s]\n",
      "Testing weights for xgboost_exp_05: 100%|██████████| 101/101 [00:38<00:00,  2.61it/s]\n",
      "Testing weights for lgbm_exp_05: 100%|██████████| 101/101 [00:38<00:00,  2.61it/s]\n",
      "Testing weights for tn_exp_02: 100%|██████████| 101/101 [00:38<00:00,  2.60it/s]\n",
      "Testing weights for vr_exp_01: 100%|██████████| 101/101 [00:38<00:00,  2.61it/s]\n",
      "Testing weights for tt_exp_01: 100%|██████████| 101/101 [00:38<00:00,  2.60it/s]\n",
      "Testing weights for en_exp_01: 100%|██████████| 101/101 [00:38<00:00,  2.60it/s]\n",
      "Testing weights for en_exp_02: 100%|██████████| 101/101 [00:38<00:00,  2.61it/s]\n",
      "Testing weights for nn_exp_05: 100%|██████████| 101/101 [00:38<00:00,  2.60it/s]\n",
      "Testing weights for mcts_exp_02: 100%|██████████| 101/101 [00:38<00:00,  2.60it/s]\n",
      "Testing weights for catboost_exp_06: 100%|██████████| 101/101 [00:38<00:00,  2.59it/s]\n",
      "Testing weights for xgboost_exp_06: 100%|██████████| 101/101 [00:38<00:00,  2.61it/s]\n",
      "Testing weights for lgbm_exp_06: 100%|██████████| 101/101 [00:38<00:00,  2.60it/s]\n"
     ]
    },
    {
     "name": "stdout",
     "output_type": "stream",
     "text": [
      "Iteration 8: Added /kaggle/input/en-exp-02 with weight 0.0300, Score: 0.6868\n",
      "8th iteration\n"
     ]
    },
    {
     "name": "stderr",
     "output_type": "stream",
     "text": [
      "Testing weights for xgboost_exp_01: 100%|██████████| 101/101 [00:38<00:00,  2.61it/s]\n",
      "Testing weights for lgbm_exp_01: 100%|██████████| 101/101 [00:39<00:00,  2.58it/s]\n",
      "Testing weights for xgboost_exp_02: 100%|██████████| 101/101 [00:38<00:00,  2.60it/s]\n",
      "Testing weights for catboost_exp_02: 100%|██████████| 101/101 [00:38<00:00,  2.61it/s]\n",
      "Testing weights for catboost_exp_03: 100%|██████████| 101/101 [00:39<00:00,  2.58it/s]\n",
      "Testing weights for tabm_exp_01: 100%|██████████| 101/101 [00:39<00:00,  2.59it/s]\n",
      "Testing weights for nn_exp_01: 100%|██████████| 101/101 [00:39<00:00,  2.59it/s]\n",
      "Testing weights for tn_exp_01: 100%|██████████| 101/101 [00:39<00:00,  2.59it/s]\n",
      "Testing weights for tf_exp_01: 100%|██████████| 101/101 [00:39<00:00,  2.59it/s]\n",
      "Testing weights for abd_exp_01: 100%|██████████| 101/101 [00:38<00:00,  2.61it/s]\n",
      "Testing weights for catboost_exp_04: 100%|██████████| 101/101 [00:39<00:00,  2.57it/s]\n",
      "Testing weights for lgbm_exp_04: 100%|██████████| 101/101 [00:38<00:00,  2.59it/s]\n",
      "Testing weights for nn_exp_02: 100%|██████████| 101/101 [00:38<00:00,  2.61it/s]\n",
      "Testing weights for xgboost_exp_05: 100%|██████████| 101/101 [00:39<00:00,  2.59it/s]\n",
      "Testing weights for lgbm_exp_05: 100%|██████████| 101/101 [00:39<00:00,  2.55it/s]\n",
      "Testing weights for tn_exp_02: 100%|██████████| 101/101 [00:39<00:00,  2.59it/s]\n",
      "Testing weights for vr_exp_01: 100%|██████████| 101/101 [00:39<00:00,  2.57it/s]\n",
      "Testing weights for tt_exp_01: 100%|██████████| 101/101 [00:39<00:00,  2.58it/s]\n",
      "Testing weights for en_exp_01: 100%|██████████| 101/101 [00:38<00:00,  2.61it/s]\n",
      "Testing weights for nn_exp_05: 100%|██████████| 101/101 [00:39<00:00,  2.59it/s]\n",
      "Testing weights for mcts_exp_02: 100%|██████████| 101/101 [00:38<00:00,  2.59it/s]\n",
      "Testing weights for catboost_exp_06: 100%|██████████| 101/101 [00:38<00:00,  2.59it/s]\n",
      "Testing weights for xgboost_exp_06: 100%|██████████| 101/101 [00:39<00:00,  2.58it/s]\n",
      "Testing weights for lgbm_exp_06: 100%|██████████| 101/101 [00:39<00:00,  2.57it/s]\n"
     ]
    },
    {
     "name": "stdout",
     "output_type": "stream",
     "text": [
      "Iteration 9: Added /kaggle/input/vr-exp-01 with weight 0.0500, Score: 0.6868\n",
      "9th iteration\n"
     ]
    },
    {
     "name": "stderr",
     "output_type": "stream",
     "text": [
      "Testing weights for xgboost_exp_01: 100%|██████████| 101/101 [00:39<00:00,  2.59it/s]\n",
      "Testing weights for lgbm_exp_01: 100%|██████████| 101/101 [00:38<00:00,  2.59it/s]\n",
      "Testing weights for xgboost_exp_02: 100%|██████████| 101/101 [00:39<00:00,  2.59it/s]\n",
      "Testing weights for catboost_exp_02: 100%|██████████| 101/101 [00:39<00:00,  2.58it/s]\n",
      "Testing weights for catboost_exp_03: 100%|██████████| 101/101 [00:39<00:00,  2.56it/s]\n",
      "Testing weights for tabm_exp_01: 100%|██████████| 101/101 [00:38<00:00,  2.60it/s]\n",
      "Testing weights for nn_exp_01: 100%|██████████| 101/101 [00:38<00:00,  2.60it/s]\n",
      "Testing weights for tn_exp_01: 100%|██████████| 101/101 [00:38<00:00,  2.61it/s]\n",
      "Testing weights for tf_exp_01: 100%|██████████| 101/101 [00:39<00:00,  2.58it/s]\n",
      "Testing weights for abd_exp_01: 100%|██████████| 101/101 [00:38<00:00,  2.60it/s]\n",
      "Testing weights for catboost_exp_04: 100%|██████████| 101/101 [00:39<00:00,  2.58it/s]\n",
      "Testing weights for lgbm_exp_04: 100%|██████████| 101/101 [00:39<00:00,  2.58it/s]\n",
      "Testing weights for nn_exp_02: 100%|██████████| 101/101 [00:38<00:00,  2.60it/s]\n",
      "Testing weights for xgboost_exp_05: 100%|██████████| 101/101 [00:38<00:00,  2.60it/s]\n",
      "Testing weights for lgbm_exp_05: 100%|██████████| 101/101 [00:38<00:00,  2.60it/s]\n",
      "Testing weights for tn_exp_02: 100%|██████████| 101/101 [00:38<00:00,  2.60it/s]\n",
      "Testing weights for tt_exp_01: 100%|██████████| 101/101 [00:38<00:00,  2.60it/s]\n",
      "Testing weights for en_exp_01: 100%|██████████| 101/101 [00:38<00:00,  2.60it/s]\n",
      "Testing weights for nn_exp_05: 100%|██████████| 101/101 [00:38<00:00,  2.60it/s]\n",
      "Testing weights for mcts_exp_02: 100%|██████████| 101/101 [00:38<00:00,  2.61it/s]\n",
      "Testing weights for catboost_exp_06: 100%|██████████| 101/101 [00:38<00:00,  2.60it/s]\n",
      "Testing weights for xgboost_exp_06: 100%|██████████| 101/101 [00:38<00:00,  2.60it/s]\n",
      "Testing weights for lgbm_exp_06: 100%|██████████| 101/101 [00:38<00:00,  2.60it/s]\n"
     ]
    },
    {
     "name": "stdout",
     "output_type": "stream",
     "text": [
      "Iteration 10: Added /kaggle/input/en-exp-01 with weight -0.0200, Score: 0.6868\n",
      "10th iteration\n"
     ]
    },
    {
     "name": "stderr",
     "output_type": "stream",
     "text": [
      "Testing weights for xgboost_exp_01: 100%|██████████| 101/101 [00:38<00:00,  2.61it/s]\n",
      "Testing weights for lgbm_exp_01: 100%|██████████| 101/101 [00:38<00:00,  2.60it/s]\n",
      "Testing weights for xgboost_exp_02: 100%|██████████| 101/101 [00:38<00:00,  2.59it/s]\n",
      "Testing weights for catboost_exp_02: 100%|██████████| 101/101 [00:38<00:00,  2.60it/s]\n",
      "Testing weights for catboost_exp_03: 100%|██████████| 101/101 [00:38<00:00,  2.60it/s]\n",
      "Testing weights for tabm_exp_01: 100%|██████████| 101/101 [00:38<00:00,  2.60it/s]\n",
      "Testing weights for nn_exp_01: 100%|██████████| 101/101 [00:38<00:00,  2.60it/s]\n",
      "Testing weights for tn_exp_01: 100%|██████████| 101/101 [00:38<00:00,  2.61it/s]\n",
      "Testing weights for tf_exp_01: 100%|██████████| 101/101 [00:38<00:00,  2.61it/s]\n",
      "Testing weights for abd_exp_01: 100%|██████████| 101/101 [00:38<00:00,  2.60it/s]\n",
      "Testing weights for catboost_exp_04: 100%|██████████| 101/101 [00:38<00:00,  2.61it/s]\n",
      "Testing weights for lgbm_exp_04: 100%|██████████| 101/101 [00:38<00:00,  2.62it/s]\n",
      "Testing weights for nn_exp_02: 100%|██████████| 101/101 [00:38<00:00,  2.60it/s]\n",
      "Testing weights for xgboost_exp_05: 100%|██████████| 101/101 [00:38<00:00,  2.60it/s]\n",
      "Testing weights for lgbm_exp_05: 100%|██████████| 101/101 [00:38<00:00,  2.60it/s]\n",
      "Testing weights for tn_exp_02: 100%|██████████| 101/101 [00:38<00:00,  2.60it/s]\n",
      "Testing weights for tt_exp_01: 100%|██████████| 101/101 [00:38<00:00,  2.60it/s]\n",
      "Testing weights for nn_exp_05: 100%|██████████| 101/101 [00:39<00:00,  2.58it/s]\n",
      "Testing weights for mcts_exp_02: 100%|██████████| 101/101 [00:38<00:00,  2.60it/s]\n",
      "Testing weights for catboost_exp_06: 100%|██████████| 101/101 [00:38<00:00,  2.60it/s]\n",
      "Testing weights for xgboost_exp_06: 100%|██████████| 101/101 [00:38<00:00,  2.61it/s]\n",
      "Testing weights for lgbm_exp_06: 100%|██████████| 101/101 [00:38<00:00,  2.60it/s]\n"
     ]
    },
    {
     "name": "stdout",
     "output_type": "stream",
     "text": [
      "Iteration 11: Added /kaggle/input/tf-exp-01 with weight 0.0200, Score: 0.6868\n",
      "11th iteration\n"
     ]
    },
    {
     "name": "stderr",
     "output_type": "stream",
     "text": [
      "Testing weights for xgboost_exp_01: 100%|██████████| 101/101 [00:38<00:00,  2.62it/s]\n",
      "Testing weights for lgbm_exp_01: 100%|██████████| 101/101 [00:38<00:00,  2.61it/s]\n",
      "Testing weights for xgboost_exp_02: 100%|██████████| 101/101 [00:38<00:00,  2.61it/s]\n",
      "Testing weights for catboost_exp_02: 100%|██████████| 101/101 [00:38<00:00,  2.60it/s]\n",
      "Testing weights for catboost_exp_03: 100%|██████████| 101/101 [00:38<00:00,  2.59it/s]\n",
      "Testing weights for tabm_exp_01: 100%|██████████| 101/101 [00:38<00:00,  2.60it/s]\n",
      "Testing weights for nn_exp_01: 100%|██████████| 101/101 [00:38<00:00,  2.60it/s]\n",
      "Testing weights for tn_exp_01: 100%|██████████| 101/101 [00:38<00:00,  2.61it/s]\n",
      "Testing weights for abd_exp_01: 100%|██████████| 101/101 [00:38<00:00,  2.60it/s]\n",
      "Testing weights for catboost_exp_04: 100%|██████████| 101/101 [00:38<00:00,  2.60it/s]\n",
      "Testing weights for lgbm_exp_04: 100%|██████████| 101/101 [00:38<00:00,  2.61it/s]\n",
      "Testing weights for nn_exp_02: 100%|██████████| 101/101 [00:38<00:00,  2.61it/s]\n",
      "Testing weights for xgboost_exp_05: 100%|██████████| 101/101 [00:38<00:00,  2.60it/s]\n",
      "Testing weights for lgbm_exp_05: 100%|██████████| 101/101 [00:38<00:00,  2.61it/s]\n",
      "Testing weights for tn_exp_02: 100%|██████████| 101/101 [00:38<00:00,  2.60it/s]\n",
      "Testing weights for tt_exp_01: 100%|██████████| 101/101 [00:38<00:00,  2.60it/s]\n",
      "Testing weights for nn_exp_05: 100%|██████████| 101/101 [00:39<00:00,  2.57it/s]\n",
      "Testing weights for mcts_exp_02: 100%|██████████| 101/101 [00:39<00:00,  2.57it/s]\n",
      "Testing weights for catboost_exp_06: 100%|██████████| 101/101 [00:39<00:00,  2.59it/s]\n",
      "Testing weights for xgboost_exp_06: 100%|██████████| 101/101 [00:38<00:00,  2.60it/s]\n",
      "Testing weights for lgbm_exp_06: 100%|██████████| 101/101 [00:38<00:00,  2.60it/s]\n"
     ]
    },
    {
     "name": "stdout",
     "output_type": "stream",
     "text": [
      "Iteration 12: Added /kaggle/input/xgboost-exp-06 with weight -0.0600, Score: 0.6869\n",
      "12th iteration\n"
     ]
    },
    {
     "name": "stderr",
     "output_type": "stream",
     "text": [
      "Testing weights for xgboost_exp_01: 100%|██████████| 101/101 [00:38<00:00,  2.60it/s]\n",
      "Testing weights for lgbm_exp_01: 100%|██████████| 101/101 [00:38<00:00,  2.60it/s]\n",
      "Testing weights for xgboost_exp_02: 100%|██████████| 101/101 [00:38<00:00,  2.61it/s]\n",
      "Testing weights for catboost_exp_02: 100%|██████████| 101/101 [00:38<00:00,  2.60it/s]\n",
      "Testing weights for catboost_exp_03: 100%|██████████| 101/101 [00:38<00:00,  2.61it/s]\n",
      "Testing weights for tabm_exp_01: 100%|██████████| 101/101 [00:38<00:00,  2.61it/s]\n",
      "Testing weights for nn_exp_01: 100%|██████████| 101/101 [00:38<00:00,  2.61it/s]\n",
      "Testing weights for tn_exp_01: 100%|██████████| 101/101 [00:38<00:00,  2.60it/s]\n",
      "Testing weights for abd_exp_01: 100%|██████████| 101/101 [00:38<00:00,  2.61it/s]\n",
      "Testing weights for catboost_exp_04: 100%|██████████| 101/101 [00:38<00:00,  2.61it/s]\n",
      "Testing weights for lgbm_exp_04: 100%|██████████| 101/101 [00:39<00:00,  2.58it/s]\n",
      "Testing weights for nn_exp_02: 100%|██████████| 101/101 [00:39<00:00,  2.59it/s]\n",
      "Testing weights for xgboost_exp_05: 100%|██████████| 101/101 [00:39<00:00,  2.57it/s]\n",
      "Testing weights for lgbm_exp_05: 100%|██████████| 101/101 [00:39<00:00,  2.58it/s]\n",
      "Testing weights for tn_exp_02: 100%|██████████| 101/101 [00:39<00:00,  2.57it/s]\n",
      "Testing weights for tt_exp_01: 100%|██████████| 101/101 [00:39<00:00,  2.58it/s]\n",
      "Testing weights for nn_exp_05: 100%|██████████| 101/101 [00:39<00:00,  2.56it/s]\n",
      "Testing weights for mcts_exp_02: 100%|██████████| 101/101 [00:39<00:00,  2.58it/s]\n",
      "Testing weights for catboost_exp_06: 100%|██████████| 101/101 [00:39<00:00,  2.58it/s]\n",
      "Testing weights for lgbm_exp_06: 100%|██████████| 101/101 [00:39<00:00,  2.58it/s]\n"
     ]
    },
    {
     "name": "stdout",
     "output_type": "stream",
     "text": [
      "Iteration 13: Added /kaggle/input/xgboost-exp-05 with weight 0.0600, Score: 0.6869\n",
      "13th iteration\n"
     ]
    },
    {
     "name": "stderr",
     "output_type": "stream",
     "text": [
      "Testing weights for xgboost_exp_01: 100%|██████████| 101/101 [00:38<00:00,  2.59it/s]\n",
      "Testing weights for lgbm_exp_01: 100%|██████████| 101/101 [00:39<00:00,  2.58it/s]\n",
      "Testing weights for xgboost_exp_02: 100%|██████████| 101/101 [00:39<00:00,  2.58it/s]\n",
      "Testing weights for catboost_exp_02: 100%|██████████| 101/101 [00:39<00:00,  2.58it/s]\n",
      "Testing weights for catboost_exp_03: 100%|██████████| 101/101 [00:39<00:00,  2.57it/s]\n",
      "Testing weights for tabm_exp_01: 100%|██████████| 101/101 [00:39<00:00,  2.57it/s]\n",
      "Testing weights for nn_exp_01: 100%|██████████| 101/101 [00:39<00:00,  2.59it/s]\n",
      "Testing weights for tn_exp_01: 100%|██████████| 101/101 [00:39<00:00,  2.59it/s]\n",
      "Testing weights for abd_exp_01: 100%|██████████| 101/101 [00:39<00:00,  2.59it/s]\n",
      "Testing weights for catboost_exp_04: 100%|██████████| 101/101 [00:39<00:00,  2.58it/s]\n",
      "Testing weights for lgbm_exp_04: 100%|██████████| 101/101 [00:39<00:00,  2.59it/s]\n",
      "Testing weights for nn_exp_02: 100%|██████████| 101/101 [00:39<00:00,  2.57it/s]\n",
      "Testing weights for lgbm_exp_05: 100%|██████████| 101/101 [00:39<00:00,  2.59it/s]\n",
      "Testing weights for tn_exp_02: 100%|██████████| 101/101 [00:39<00:00,  2.58it/s]\n",
      "Testing weights for tt_exp_01: 100%|██████████| 101/101 [00:39<00:00,  2.58it/s]\n",
      "Testing weights for nn_exp_05: 100%|██████████| 101/101 [00:39<00:00,  2.57it/s]\n",
      "Testing weights for mcts_exp_02: 100%|██████████| 101/101 [00:39<00:00,  2.59it/s]\n",
      "Testing weights for catboost_exp_06: 100%|██████████| 101/101 [00:39<00:00,  2.58it/s]\n",
      "Testing weights for lgbm_exp_06: 100%|██████████| 101/101 [00:38<00:00,  2.59it/s]\n"
     ]
    },
    {
     "name": "stdout",
     "output_type": "stream",
     "text": [
      "Iteration 14: Added /kaggle/input/catboost-exp-03 with weight -0.0500, Score: 0.6869\n",
      "14th iteration\n"
     ]
    },
    {
     "name": "stderr",
     "output_type": "stream",
     "text": [
      "Testing weights for xgboost_exp_01: 100%|██████████| 101/101 [00:39<00:00,  2.56it/s]\n",
      "Testing weights for lgbm_exp_01: 100%|██████████| 101/101 [00:40<00:00,  2.51it/s]\n",
      "Testing weights for xgboost_exp_02: 100%|██████████| 101/101 [00:39<00:00,  2.57it/s]\n",
      "Testing weights for catboost_exp_02: 100%|██████████| 101/101 [00:39<00:00,  2.56it/s]\n",
      "Testing weights for tabm_exp_01: 100%|██████████| 101/101 [00:39<00:00,  2.54it/s]\n",
      "Testing weights for nn_exp_01: 100%|██████████| 101/101 [00:40<00:00,  2.50it/s]\n",
      "Testing weights for tn_exp_01: 100%|██████████| 101/101 [00:39<00:00,  2.54it/s]\n",
      "Testing weights for abd_exp_01: 100%|██████████| 101/101 [00:39<00:00,  2.55it/s]\n",
      "Testing weights for catboost_exp_04: 100%|██████████| 101/101 [00:39<00:00,  2.58it/s]\n",
      "Testing weights for lgbm_exp_04: 100%|██████████| 101/101 [00:39<00:00,  2.58it/s]\n",
      "Testing weights for nn_exp_02: 100%|██████████| 101/101 [00:39<00:00,  2.59it/s]\n",
      "Testing weights for lgbm_exp_05: 100%|██████████| 101/101 [00:38<00:00,  2.59it/s]\n",
      "Testing weights for tn_exp_02: 100%|██████████| 101/101 [00:39<00:00,  2.58it/s]\n",
      "Testing weights for tt_exp_01: 100%|██████████| 101/101 [00:39<00:00,  2.58it/s]\n",
      "Testing weights for nn_exp_05: 100%|██████████| 101/101 [00:39<00:00,  2.57it/s]\n",
      "Testing weights for mcts_exp_02: 100%|██████████| 101/101 [00:39<00:00,  2.57it/s]\n",
      "Testing weights for catboost_exp_06: 100%|██████████| 101/101 [00:39<00:00,  2.58it/s]\n",
      "Testing weights for lgbm_exp_06: 100%|██████████| 101/101 [00:39<00:00,  2.58it/s]\n"
     ]
    },
    {
     "name": "stdout",
     "output_type": "stream",
     "text": [
      "Iteration 15: Added /kaggle/input/mcts-exp-02 with weight 0.0200, Score: 0.6870\n",
      "15th iteration\n"
     ]
    },
    {
     "name": "stderr",
     "output_type": "stream",
     "text": [
      "Testing weights for xgboost_exp_01: 100%|██████████| 101/101 [00:39<00:00,  2.58it/s]\n",
      "Testing weights for lgbm_exp_01: 100%|██████████| 101/101 [00:38<00:00,  2.59it/s]\n",
      "Testing weights for xgboost_exp_02: 100%|██████████| 101/101 [00:39<00:00,  2.58it/s]\n",
      "Testing weights for catboost_exp_02: 100%|██████████| 101/101 [00:39<00:00,  2.59it/s]\n",
      "Testing weights for tabm_exp_01: 100%|██████████| 101/101 [00:39<00:00,  2.58it/s]\n",
      "Testing weights for nn_exp_01: 100%|██████████| 101/101 [00:39<00:00,  2.58it/s]\n",
      "Testing weights for tn_exp_01: 100%|██████████| 101/101 [00:39<00:00,  2.57it/s]\n",
      "Testing weights for abd_exp_01: 100%|██████████| 101/101 [00:39<00:00,  2.58it/s]\n",
      "Testing weights for catboost_exp_04: 100%|██████████| 101/101 [00:39<00:00,  2.59it/s]\n",
      "Testing weights for lgbm_exp_04: 100%|██████████| 101/101 [00:38<00:00,  2.60it/s]\n",
      "Testing weights for nn_exp_02: 100%|██████████| 101/101 [00:38<00:00,  2.60it/s]\n",
      "Testing weights for lgbm_exp_05: 100%|██████████| 101/101 [00:39<00:00,  2.59it/s]\n",
      "Testing weights for tn_exp_02: 100%|██████████| 101/101 [00:38<00:00,  2.60it/s]\n",
      "Testing weights for tt_exp_01: 100%|██████████| 101/101 [00:39<00:00,  2.59it/s]\n",
      "Testing weights for nn_exp_05: 100%|██████████| 101/101 [00:39<00:00,  2.59it/s]\n",
      "Testing weights for catboost_exp_06: 100%|██████████| 101/101 [00:38<00:00,  2.59it/s]\n",
      "Testing weights for lgbm_exp_06: 100%|██████████| 101/101 [00:38<00:00,  2.59it/s]\n"
     ]
    },
    {
     "name": "stdout",
     "output_type": "stream",
     "text": [
      "Iteration 16: Added /kaggle/input/tn-exp-02 with weight 0.0300, Score: 0.6870\n",
      "16th iteration\n"
     ]
    },
    {
     "name": "stderr",
     "output_type": "stream",
     "text": [
      "Testing weights for xgboost_exp_01: 100%|██████████| 101/101 [00:39<00:00,  2.58it/s]\n",
      "Testing weights for lgbm_exp_01: 100%|██████████| 101/101 [00:38<00:00,  2.59it/s]\n",
      "Testing weights for xgboost_exp_02: 100%|██████████| 101/101 [00:39<00:00,  2.58it/s]\n",
      "Testing weights for catboost_exp_02: 100%|██████████| 101/101 [00:39<00:00,  2.58it/s]\n",
      "Testing weights for tabm_exp_01: 100%|██████████| 101/101 [00:39<00:00,  2.58it/s]\n",
      "Testing weights for nn_exp_01: 100%|██████████| 101/101 [00:39<00:00,  2.57it/s]\n",
      "Testing weights for tn_exp_01: 100%|██████████| 101/101 [00:39<00:00,  2.58it/s]\n",
      "Testing weights for abd_exp_01: 100%|██████████| 101/101 [00:39<00:00,  2.58it/s]\n",
      "Testing weights for catboost_exp_04: 100%|██████████| 101/101 [00:39<00:00,  2.53it/s]\n",
      "Testing weights for lgbm_exp_04: 100%|██████████| 101/101 [00:39<00:00,  2.53it/s]\n",
      "Testing weights for nn_exp_02: 100%|██████████| 101/101 [00:39<00:00,  2.58it/s]\n",
      "Testing weights for lgbm_exp_05: 100%|██████████| 101/101 [00:39<00:00,  2.59it/s]\n",
      "Testing weights for tt_exp_01: 100%|██████████| 101/101 [00:39<00:00,  2.58it/s]\n",
      "Testing weights for nn_exp_05: 100%|██████████| 101/101 [00:39<00:00,  2.58it/s]\n",
      "Testing weights for catboost_exp_06: 100%|██████████| 101/101 [00:39<00:00,  2.58it/s]\n",
      "Testing weights for lgbm_exp_06: 100%|██████████| 101/101 [00:39<00:00,  2.57it/s]\n"
     ]
    },
    {
     "name": "stdout",
     "output_type": "stream",
     "text": [
      "Iteration 17: Added /kaggle/input/nn-exp-01 with weight -0.0400, Score: 0.6870\n",
      "17th iteration\n"
     ]
    },
    {
     "name": "stderr",
     "output_type": "stream",
     "text": [
      "Testing weights for xgboost_exp_01: 100%|██████████| 101/101 [00:39<00:00,  2.59it/s]\n",
      "Testing weights for lgbm_exp_01: 100%|██████████| 101/101 [00:39<00:00,  2.57it/s]\n",
      "Testing weights for xgboost_exp_02: 100%|██████████| 101/101 [00:39<00:00,  2.57it/s]\n",
      "Testing weights for catboost_exp_02: 100%|██████████| 101/101 [00:38<00:00,  2.59it/s]\n",
      "Testing weights for tabm_exp_01: 100%|██████████| 101/101 [00:39<00:00,  2.59it/s]\n",
      "Testing weights for tn_exp_01: 100%|██████████| 101/101 [00:39<00:00,  2.59it/s]\n",
      "Testing weights for abd_exp_01: 100%|██████████| 101/101 [00:39<00:00,  2.59it/s]\n",
      "Testing weights for catboost_exp_04: 100%|██████████| 101/101 [00:39<00:00,  2.59it/s]\n",
      "Testing weights for lgbm_exp_04: 100%|██████████| 101/101 [00:39<00:00,  2.57it/s]\n",
      "Testing weights for nn_exp_02: 100%|██████████| 101/101 [00:39<00:00,  2.58it/s]\n",
      "Testing weights for lgbm_exp_05: 100%|██████████| 101/101 [00:39<00:00,  2.59it/s]\n",
      "Testing weights for tt_exp_01: 100%|██████████| 101/101 [00:40<00:00,  2.48it/s]\n",
      "Testing weights for nn_exp_05: 100%|██████████| 101/101 [00:42<00:00,  2.40it/s]\n",
      "Testing weights for catboost_exp_06: 100%|██████████| 101/101 [00:43<00:00,  2.34it/s]\n",
      "Testing weights for lgbm_exp_06: 100%|██████████| 101/101 [00:42<00:00,  2.38it/s]\n"
     ]
    },
    {
     "name": "stdout",
     "output_type": "stream",
     "text": [
      "Iteration 18: Added /kaggle/input/tn-exp-01 with weight -0.0100, Score: 0.6871\n",
      "18th iteration\n"
     ]
    },
    {
     "name": "stderr",
     "output_type": "stream",
     "text": [
      "Testing weights for xgboost_exp_01: 100%|██████████| 101/101 [00:39<00:00,  2.58it/s]\n",
      "Testing weights for lgbm_exp_01: 100%|██████████| 101/101 [00:39<00:00,  2.58it/s]\n",
      "Testing weights for xgboost_exp_02: 100%|██████████| 101/101 [00:39<00:00,  2.57it/s]\n",
      "Testing weights for catboost_exp_02: 100%|██████████| 101/101 [00:39<00:00,  2.57it/s]\n",
      "Testing weights for tabm_exp_01: 100%|██████████| 101/101 [00:39<00:00,  2.56it/s]\n",
      "Testing weights for abd_exp_01: 100%|██████████| 101/101 [00:39<00:00,  2.53it/s]\n",
      "Testing weights for catboost_exp_04: 100%|██████████| 101/101 [00:39<00:00,  2.56it/s]\n",
      "Testing weights for lgbm_exp_04: 100%|██████████| 101/101 [00:39<00:00,  2.55it/s]\n",
      "Testing weights for nn_exp_02: 100%|██████████| 101/101 [00:39<00:00,  2.57it/s]\n",
      "Testing weights for lgbm_exp_05: 100%|██████████| 101/101 [00:39<00:00,  2.59it/s]\n",
      "Testing weights for tt_exp_01: 100%|██████████| 101/101 [00:39<00:00,  2.59it/s]\n",
      "Testing weights for nn_exp_05: 100%|██████████| 101/101 [00:39<00:00,  2.57it/s]\n",
      "Testing weights for catboost_exp_06: 100%|██████████| 101/101 [00:38<00:00,  2.59it/s]\n",
      "Testing weights for lgbm_exp_06: 100%|██████████| 101/101 [00:38<00:00,  2.60it/s]\n"
     ]
    },
    {
     "name": "stdout",
     "output_type": "stream",
     "text": [
      "Iteration 19: Added /kaggle/input/catboost-exp-06 with weight 0.0600, Score: 0.6871\n",
      "19th iteration\n"
     ]
    },
    {
     "name": "stderr",
     "output_type": "stream",
     "text": [
      "Testing weights for xgboost_exp_01: 100%|██████████| 101/101 [00:38<00:00,  2.59it/s]\n",
      "Testing weights for lgbm_exp_01: 100%|██████████| 101/101 [00:39<00:00,  2.59it/s]\n",
      "Testing weights for xgboost_exp_02: 100%|██████████| 101/101 [00:39<00:00,  2.59it/s]\n",
      "Testing weights for catboost_exp_02: 100%|██████████| 101/101 [00:39<00:00,  2.58it/s]\n",
      "Testing weights for tabm_exp_01: 100%|██████████| 101/101 [00:38<00:00,  2.59it/s]\n",
      "Testing weights for abd_exp_01: 100%|██████████| 101/101 [00:38<00:00,  2.59it/s]\n",
      "Testing weights for catboost_exp_04: 100%|██████████| 101/101 [00:39<00:00,  2.58it/s]\n",
      "Testing weights for lgbm_exp_04: 100%|██████████| 101/101 [00:38<00:00,  2.60it/s]\n",
      "Testing weights for nn_exp_02: 100%|██████████| 101/101 [00:38<00:00,  2.60it/s]\n",
      "Testing weights for lgbm_exp_05: 100%|██████████| 101/101 [00:38<00:00,  2.59it/s]\n",
      "Testing weights for tt_exp_01: 100%|██████████| 101/101 [00:39<00:00,  2.58it/s]\n",
      "Testing weights for nn_exp_05: 100%|██████████| 101/101 [00:38<00:00,  2.59it/s]\n",
      "Testing weights for lgbm_exp_06: 100%|██████████| 101/101 [00:38<00:00,  2.60it/s]\n"
     ]
    },
    {
     "name": "stdout",
     "output_type": "stream",
     "text": [
      "Iteration 20: Added /kaggle/input/tabm-exp-01 with weight 0.0300, Score: 0.6871\n",
      "20th iteration\n"
     ]
    },
    {
     "name": "stderr",
     "output_type": "stream",
     "text": [
      "Testing weights for xgboost_exp_01: 100%|██████████| 101/101 [00:39<00:00,  2.58it/s]\n",
      "Testing weights for lgbm_exp_01: 100%|██████████| 101/101 [00:39<00:00,  2.58it/s]\n",
      "Testing weights for xgboost_exp_02: 100%|██████████| 101/101 [00:39<00:00,  2.54it/s]\n",
      "Testing weights for catboost_exp_02: 100%|██████████| 101/101 [00:39<00:00,  2.59it/s]\n",
      "Testing weights for abd_exp_01: 100%|██████████| 101/101 [00:38<00:00,  2.59it/s]\n",
      "Testing weights for catboost_exp_04: 100%|██████████| 101/101 [00:39<00:00,  2.58it/s]\n",
      "Testing weights for lgbm_exp_04: 100%|██████████| 101/101 [00:39<00:00,  2.59it/s]\n",
      "Testing weights for nn_exp_02: 100%|██████████| 101/101 [00:38<00:00,  2.59it/s]\n",
      "Testing weights for lgbm_exp_05: 100%|██████████| 101/101 [00:39<00:00,  2.59it/s]\n",
      "Testing weights for tt_exp_01: 100%|██████████| 101/101 [00:39<00:00,  2.58it/s]\n",
      "Testing weights for nn_exp_05: 100%|██████████| 101/101 [00:38<00:00,  2.59it/s]\n",
      "Testing weights for lgbm_exp_06: 100%|██████████| 101/101 [00:38<00:00,  2.59it/s]\n"
     ]
    },
    {
     "name": "stdout",
     "output_type": "stream",
     "text": [
      "Iteration 21: Added /kaggle/input/lgbm-exp-06 with weight -0.0700, Score: 0.6871\n",
      "21th iteration\n"
     ]
    },
    {
     "name": "stderr",
     "output_type": "stream",
     "text": [
      "Testing weights for xgboost_exp_01: 100%|██████████| 101/101 [00:39<00:00,  2.59it/s]\n",
      "Testing weights for lgbm_exp_01: 100%|██████████| 101/101 [00:39<00:00,  2.59it/s]\n",
      "Testing weights for xgboost_exp_02: 100%|██████████| 101/101 [00:38<00:00,  2.59it/s]\n",
      "Testing weights for catboost_exp_02: 100%|██████████| 101/101 [00:39<00:00,  2.58it/s]\n",
      "Testing weights for abd_exp_01: 100%|██████████| 101/101 [00:38<00:00,  2.60it/s]\n",
      "Testing weights for catboost_exp_04: 100%|██████████| 101/101 [00:39<00:00,  2.58it/s]\n",
      "Testing weights for lgbm_exp_04: 100%|██████████| 101/101 [00:39<00:00,  2.57it/s]\n",
      "Testing weights for nn_exp_02: 100%|██████████| 101/101 [00:39<00:00,  2.58it/s]\n",
      "Testing weights for lgbm_exp_05: 100%|██████████| 101/101 [00:38<00:00,  2.59it/s]\n",
      "Testing weights for tt_exp_01: 100%|██████████| 101/101 [00:39<00:00,  2.59it/s]\n",
      "Testing weights for nn_exp_05: 100%|██████████| 101/101 [00:39<00:00,  2.59it/s]\n"
     ]
    },
    {
     "name": "stdout",
     "output_type": "stream",
     "text": [
      "Iteration 22: Added /kaggle/input/nn-exp-02 with weight -0.0300, Score: 0.6871\n",
      "22th iteration\n"
     ]
    },
    {
     "name": "stderr",
     "output_type": "stream",
     "text": [
      "Testing weights for xgboost_exp_01: 100%|██████████| 101/101 [00:39<00:00,  2.59it/s]\n",
      "Testing weights for lgbm_exp_01: 100%|██████████| 101/101 [00:38<00:00,  2.59it/s]\n",
      "Testing weights for xgboost_exp_02: 100%|██████████| 101/101 [00:39<00:00,  2.57it/s]\n",
      "Testing weights for catboost_exp_02: 100%|██████████| 101/101 [00:38<00:00,  2.59it/s]\n",
      "Testing weights for abd_exp_01: 100%|██████████| 101/101 [00:39<00:00,  2.59it/s]\n",
      "Testing weights for catboost_exp_04: 100%|██████████| 101/101 [00:39<00:00,  2.59it/s]\n",
      "Testing weights for lgbm_exp_04: 100%|██████████| 101/101 [00:38<00:00,  2.59it/s]\n",
      "Testing weights for lgbm_exp_05: 100%|██████████| 101/101 [00:39<00:00,  2.57it/s]\n",
      "Testing weights for tt_exp_01: 100%|██████████| 101/101 [00:38<00:00,  2.59it/s]\n",
      "Testing weights for nn_exp_05: 100%|██████████| 101/101 [00:39<00:00,  2.59it/s]\n"
     ]
    },
    {
     "name": "stdout",
     "output_type": "stream",
     "text": [
      "Iteration 23: Added /kaggle/input/catboost-exp-04 with weight 0.0200, Score: 0.6872\n",
      "23th iteration\n"
     ]
    },
    {
     "name": "stderr",
     "output_type": "stream",
     "text": [
      "Testing weights for xgboost_exp_01: 100%|██████████| 101/101 [00:39<00:00,  2.59it/s]\n",
      "Testing weights for lgbm_exp_01: 100%|██████████| 101/101 [00:38<00:00,  2.60it/s]\n",
      "Testing weights for xgboost_exp_02: 100%|██████████| 101/101 [00:38<00:00,  2.59it/s]\n",
      "Testing weights for catboost_exp_02: 100%|██████████| 101/101 [00:38<00:00,  2.59it/s]\n",
      "Testing weights for abd_exp_01: 100%|██████████| 101/101 [00:39<00:00,  2.59it/s]\n",
      "Testing weights for lgbm_exp_04: 100%|██████████| 101/101 [00:39<00:00,  2.59it/s]\n",
      "Testing weights for lgbm_exp_05: 100%|██████████| 101/101 [00:38<00:00,  2.59it/s]\n",
      "Testing weights for tt_exp_01: 100%|██████████| 101/101 [00:38<00:00,  2.59it/s]\n",
      "Testing weights for nn_exp_05: 100%|██████████| 101/101 [00:38<00:00,  2.59it/s]\n"
     ]
    },
    {
     "name": "stdout",
     "output_type": "stream",
     "text": [
      "Iteration 24: Added /kaggle/input/tt-exp-01 with weight -0.0200, Score: 0.6872\n",
      "24th iteration\n"
     ]
    },
    {
     "name": "stderr",
     "output_type": "stream",
     "text": [
      "Testing weights for xgboost_exp_01: 100%|██████████| 101/101 [00:38<00:00,  2.60it/s]\n",
      "Testing weights for lgbm_exp_01: 100%|██████████| 101/101 [00:38<00:00,  2.59it/s]\n",
      "Testing weights for xgboost_exp_02: 100%|██████████| 101/101 [00:39<00:00,  2.56it/s]\n",
      "Testing weights for catboost_exp_02: 100%|██████████| 101/101 [00:39<00:00,  2.55it/s]\n",
      "Testing weights for abd_exp_01: 100%|██████████| 101/101 [00:38<00:00,  2.59it/s]\n",
      "Testing weights for lgbm_exp_04: 100%|██████████| 101/101 [00:38<00:00,  2.60it/s]\n",
      "Testing weights for lgbm_exp_05: 100%|██████████| 101/101 [00:39<00:00,  2.59it/s]\n",
      "Testing weights for nn_exp_05: 100%|██████████| 101/101 [00:39<00:00,  2.59it/s]\n"
     ]
    },
    {
     "name": "stdout",
     "output_type": "stream",
     "text": [
      "Iteration 25: Added /kaggle/input/lgbm-exp-04 with weight 0.0100, Score: 0.6872\n",
      "25th iteration\n"
     ]
    },
    {
     "name": "stderr",
     "output_type": "stream",
     "text": [
      "Testing weights for xgboost_exp_01: 100%|██████████| 101/101 [00:39<00:00,  2.59it/s]\n",
      "Testing weights for lgbm_exp_01: 100%|██████████| 101/101 [00:39<00:00,  2.59it/s]\n",
      "Testing weights for xgboost_exp_02: 100%|██████████| 101/101 [00:39<00:00,  2.58it/s]\n",
      "Testing weights for catboost_exp_02: 100%|██████████| 101/101 [00:39<00:00,  2.59it/s]\n",
      "Testing weights for abd_exp_01: 100%|██████████| 101/101 [00:39<00:00,  2.57it/s]\n",
      "Testing weights for lgbm_exp_05: 100%|██████████| 101/101 [00:38<00:00,  2.59it/s]\n",
      "Testing weights for nn_exp_05: 100%|██████████| 101/101 [00:38<00:00,  2.59it/s]\n"
     ]
    },
    {
     "name": "stdout",
     "output_type": "stream",
     "text": [
      "Iteration 26: Added /kaggle/input/nn-exp-05 with weight -0.0200, Score: 0.6872\n",
      "26th iteration\n"
     ]
    },
    {
     "name": "stderr",
     "output_type": "stream",
     "text": [
      "Testing weights for xgboost_exp_01: 100%|██████████| 101/101 [00:39<00:00,  2.58it/s]\n",
      "Testing weights for lgbm_exp_01: 100%|██████████| 101/101 [00:38<00:00,  2.60it/s]\n",
      "Testing weights for xgboost_exp_02: 100%|██████████| 101/101 [00:38<00:00,  2.60it/s]\n",
      "Testing weights for catboost_exp_02: 100%|██████████| 101/101 [00:38<00:00,  2.59it/s]\n",
      "Testing weights for abd_exp_01: 100%|██████████| 101/101 [00:39<00:00,  2.57it/s]\n",
      "Testing weights for lgbm_exp_05: 100%|██████████| 101/101 [00:39<00:00,  2.55it/s]\n"
     ]
    },
    {
     "name": "stdout",
     "output_type": "stream",
     "text": [
      "Iteration 27: Added /kaggle/input/lgbm-exp-05 with weight 0.0100, Score: 0.6872\n",
      "27th iteration\n"
     ]
    },
    {
     "name": "stderr",
     "output_type": "stream",
     "text": [
      "Testing weights for xgboost_exp_01: 100%|██████████| 101/101 [00:39<00:00,  2.55it/s]\n",
      "Testing weights for lgbm_exp_01: 100%|██████████| 101/101 [00:38<00:00,  2.59it/s]\n",
      "Testing weights for xgboost_exp_02: 100%|██████████| 101/101 [00:38<00:00,  2.60it/s]\n",
      "Testing weights for catboost_exp_02: 100%|██████████| 101/101 [00:39<00:00,  2.58it/s]\n",
      "Testing weights for abd_exp_01: 100%|██████████| 101/101 [00:39<00:00,  2.58it/s]\n"
     ]
    },
    {
     "name": "stdout",
     "output_type": "stream",
     "text": [
      "Iteration 28: Added /kaggle/input/lgbm-exp-01 with weight 0.0000, Score: 0.6872\n",
      "28th iteration\n"
     ]
    },
    {
     "name": "stderr",
     "output_type": "stream",
     "text": [
      "Testing weights for xgboost_exp_01: 100%|██████████| 101/101 [00:39<00:00,  2.59it/s]\n",
      "Testing weights for xgboost_exp_02: 100%|██████████| 101/101 [00:38<00:00,  2.59it/s]\n",
      "Testing weights for catboost_exp_02: 100%|██████████| 101/101 [00:38<00:00,  2.59it/s]\n",
      "Testing weights for abd_exp_01: 100%|██████████| 101/101 [00:39<00:00,  2.59it/s]\n"
     ]
    },
    {
     "name": "stdout",
     "output_type": "stream",
     "text": [
      "No improvement found, stopping\n",
      "{'index': -1, 'weight': 0, 'score': 0.6872491191318553}\n",
      "CPU times: user 5h 41min 42s, sys: 25.4 s, total: 5h 42min 7s\n",
      "Wall time: 5h 41min 47s\n"
     ]
    }
   ],
   "source": [
    "%%time\n",
    "\n",
    "from tqdm import tqdm\n",
    "import pandas as pd\n",
    "import numpy as np\n",
    "from typing import List, Dict, Tuple\n",
    "import logging\n",
    "import gc\n",
    "\n",
    "def optimize_ensemble(experiments, initial_ensemble, weights_range, score_function, max_iterations = 100):\n",
    "    \n",
    "    # Initialize variables\n",
    "    iteration  = 0\n",
    "    best_score = score_function(\n",
    "        initial_ensemble[[\"ID\", \"efs\", \"efs_time\", \"race_group\"]].copy(),\n",
    "        initial_ensemble[[\"ID\", \"predictions\"]].copy(),\n",
    "        \"ID\"\n",
    "    )\n",
    "    \n",
    "    model_weights         = {}\n",
    "    remaining_experiments = experiments.copy()\n",
    "    best_ensemble         = initial_ensemble.copy()\n",
    "    \n",
    "    while remaining_experiments and iteration < max_iterations:\n",
    "        print(f\"{iteration}th iteration\")\n",
    "        iteration += 1\n",
    "        best_iteration = {\n",
    "            'index' : -1,\n",
    "            'weight': 0,\n",
    "            'score' : best_score\n",
    "        }\n",
    "        \n",
    "        # Try each remaining model\n",
    "        for model_path in remaining_experiments:\n",
    "            try:\n",
    "                #print(f\"Iteration {iteration}: Trying model {model_path}\")\n",
    "                \n",
    "                # Load model OOF predictions\n",
    "                model_name = model_path.split(\"/\")[-1].replace('-', '_')\n",
    "                model_oof  = preds_df[model_path]\n",
    "                \n",
    "                # Try different weights\n",
    "                for weight in tqdm(weights_range, desc=f\"Testing weights for {model_name}\"):\n",
    "                    # Create potential ensemble\n",
    "                    potential_ensemble = pd.DataFrame({\n",
    "                        \"ID\": best_ensemble[\"ID\"],\n",
    "                        \"predictions\": (1 - weight) * rankdata(best_ensemble[\"predictions\"]) + \n",
    "                                     weight * rankdata(model_oof)\n",
    "                    })\n",
    "                    \n",
    "                    # Evaluate new ensemble\n",
    "                    new_score = score_function(\n",
    "                        preds_df[[\"ID\", \"efs\", \"efs_time\", \"race_group\"]].copy(),\n",
    "                        potential_ensemble.copy(),\n",
    "                        \"ID\"\n",
    "                    )\n",
    "                    \n",
    "                    # Update best if improved\n",
    "                    if new_score > best_iteration['score']:\n",
    "                        best_iteration.update({\n",
    "                            'index' : model_path,\n",
    "                            'weight': weight,\n",
    "                            'score' : new_score\n",
    "                        })\n",
    "                \n",
    "                # Clean up\n",
    "                del model_oof\n",
    "                gc.collect()\n",
    "                \n",
    "            except Exception as e:\n",
    "                print(f\"Error processing {model_path}: {str(e)}\")\n",
    "                continue\n",
    "        \n",
    "        # Check if we found an improvement\n",
    "        if best_iteration['index'] == -1:\n",
    "            print(\"No improvement found, stopping\")\n",
    "            print(best_iteration)\n",
    "            break\n",
    "            \n",
    "        # Update ensemble with best model found\n",
    "        best_score                             = best_iteration['score']\n",
    "        model_weights[best_iteration['index']] = best_iteration['weight']\n",
    "        remaining_experiments.remove(best_iteration['index'])\n",
    "        \n",
    "        print(\n",
    "            f\"Iteration {iteration}: Added {best_iteration['index']} \"\n",
    "            f\"with weight {best_iteration['weight']:.4f}, \"\n",
    "            f\"Score: {best_iteration['score']:.4f}\"\n",
    "        )\n",
    "        \n",
    "        # Update best ensemble for next iteration\n",
    "        model_oof = preds_df[best_iteration['index']]\n",
    "        best_ensemble[\"predictions\"] = (\n",
    "            (1 - best_iteration['weight']) * rankdata(best_ensemble[\"predictions\"]) + \n",
    "            best_iteration['weight'] * rankdata(model_oof)\n",
    "        )\n",
    "        \n",
    "    return model_weights, best_score\n",
    "\n",
    "\n",
    "model_weights, best_score = optimize_ensemble(experiments, best_ensemble, ww, score)"
   ]
  },
  {
   "cell_type": "code",
   "execution_count": 20,
   "id": "54334495",
   "metadata": {
    "execution": {
     "iopub.execute_input": "2025-02-15T13:07:30.116057Z",
     "iopub.status.busy": "2025-02-15T13:07:30.115600Z",
     "iopub.status.idle": "2025-02-15T13:07:30.122994Z",
     "shell.execute_reply": "2025-02-15T13:07:30.121817Z"
    },
    "papermill": {
     "duration": 3.253429,
     "end_time": "2025-02-15T13:07:30.124753",
     "exception": false,
     "start_time": "2025-02-15T13:07:26.871324",
     "status": "completed"
    },
    "tags": []
   },
   "outputs": [
    {
     "data": {
      "text/plain": [
       "({'/kaggle/input/nn-exp-04': 0.47000000000000086,\n",
       "  '/kaggle/input/tabm-exp-02': 0.15000000000000058,\n",
       "  '/kaggle/input/ds-exp-01': 0.05000000000000049,\n",
       "  '/kaggle/input/svr-exp-01': -0.0499999999999996,\n",
       "  '/kaggle/input/catboost-exp-01': 0.09000000000000052,\n",
       "  '/kaggle/input/rf-exp-05': -0.0499999999999996,\n",
       "  '/kaggle/input/lgbm-exp-03': -0.05999999999999961,\n",
       "  '/kaggle/input/en-exp-02': 0.03000000000000047,\n",
       "  '/kaggle/input/vr-exp-01': 0.05000000000000049,\n",
       "  '/kaggle/input/en-exp-01': -0.019999999999999574,\n",
       "  '/kaggle/input/tf-exp-01': 0.020000000000000462,\n",
       "  '/kaggle/input/xgboost-exp-06': -0.05999999999999961,\n",
       "  '/kaggle/input/xgboost-exp-05': 0.0600000000000005,\n",
       "  '/kaggle/input/catboost-exp-03': -0.0499999999999996,\n",
       "  '/kaggle/input/mcts-exp-02': 0.020000000000000462,\n",
       "  '/kaggle/input/tn-exp-02': 0.03000000000000047,\n",
       "  '/kaggle/input/nn-exp-01': -0.03999999999999959,\n",
       "  '/kaggle/input/tn-exp-01': -0.009999999999999565,\n",
       "  '/kaggle/input/catboost-exp-06': 0.0600000000000005,\n",
       "  '/kaggle/input/tabm-exp-01': 0.03000000000000047,\n",
       "  '/kaggle/input/lgbm-exp-06': -0.06999999999999962,\n",
       "  '/kaggle/input/nn-exp-02': -0.029999999999999583,\n",
       "  '/kaggle/input/catboost-exp-04': 0.020000000000000462,\n",
       "  '/kaggle/input/tt-exp-01': -0.019999999999999574,\n",
       "  '/kaggle/input/lgbm-exp-04': 0.010000000000000453,\n",
       "  '/kaggle/input/nn-exp-05': -0.019999999999999574,\n",
       "  '/kaggle/input/lgbm-exp-05': 0.010000000000000453,\n",
       "  '/kaggle/input/lgbm-exp-01': 4.440892098500626e-16},\n",
       " 0.6872491191318553)"
      ]
     },
     "execution_count": 20,
     "metadata": {},
     "output_type": "execute_result"
    }
   ],
   "source": [
    "model_weights, best_score"
   ]
  },
  {
   "cell_type": "code",
   "execution_count": 21,
   "id": "af0d5e80",
   "metadata": {
    "execution": {
     "iopub.execute_input": "2025-02-15T13:07:36.688096Z",
     "iopub.status.busy": "2025-02-15T13:07:36.687661Z",
     "iopub.status.idle": "2025-02-15T13:07:36.693812Z",
     "shell.execute_reply": "2025-02-15T13:07:36.692915Z"
    },
    "papermill": {
     "duration": 3.254911,
     "end_time": "2025-02-15T13:07:36.695332",
     "exception": false,
     "start_time": "2025-02-15T13:07:33.440421",
     "status": "completed"
    },
    "tags": []
   },
   "outputs": [
    {
     "data": {
      "text/plain": [
       "('/kaggle/input/catboost-exp-05',\n",
       " ['/kaggle/input/xgboost-exp-01',\n",
       "  '/kaggle/input/catboost-exp-01',\n",
       "  '/kaggle/input/lgbm-exp-01',\n",
       "  '/kaggle/input/xgboost-exp-02',\n",
       "  '/kaggle/input/catboost-exp-02',\n",
       "  '/kaggle/input/lgbm-exp-03',\n",
       "  '/kaggle/input/catboost-exp-03',\n",
       "  '/kaggle/input/tabm-exp-01',\n",
       "  '/kaggle/input/nn-exp-01',\n",
       "  '/kaggle/input/tn-exp-01',\n",
       "  '/kaggle/input/tf-exp-01',\n",
       "  '/kaggle/input/svr-exp-01',\n",
       "  '/kaggle/input/abd-exp-01',\n",
       "  '/kaggle/input/catboost-exp-04',\n",
       "  '/kaggle/input/lgbm-exp-04',\n",
       "  '/kaggle/input/tabm-exp-02',\n",
       "  '/kaggle/input/ds-exp-01',\n",
       "  '/kaggle/input/nn-exp-02',\n",
       "  '/kaggle/input/nn-exp-04',\n",
       "  '/kaggle/input/xgboost-exp-05',\n",
       "  '/kaggle/input/lgbm-exp-05',\n",
       "  '/kaggle/input/tn-exp-02',\n",
       "  '/kaggle/input/vr-exp-01',\n",
       "  '/kaggle/input/tt-exp-01',\n",
       "  '/kaggle/input/en-exp-01',\n",
       "  '/kaggle/input/en-exp-02',\n",
       "  '/kaggle/input/nn-exp-05',\n",
       "  '/kaggle/input/rf-exp-05',\n",
       "  '/kaggle/input/mcts-exp-02',\n",
       "  '/kaggle/input/catboost-exp-06',\n",
       "  '/kaggle/input/xgboost-exp-06',\n",
       "  '/kaggle/input/lgbm-exp-06'])"
      ]
     },
     "execution_count": 21,
     "metadata": {},
     "output_type": "execute_result"
    }
   ],
   "source": [
    "first_best_index, experiments"
   ]
  },
  {
   "cell_type": "markdown",
   "id": "10fbdbcf",
   "metadata": {
    "papermill": {
     "duration": 3.256466,
     "end_time": "2025-02-15T13:07:43.211702",
     "exception": false,
     "start_time": "2025-02-15T13:07:39.955236",
     "status": "completed"
    },
    "tags": []
   },
   "source": [
    "## Step 6: Inference on test"
   ]
  },
  {
   "cell_type": "code",
   "execution_count": 22,
   "id": "dd743936",
   "metadata": {
    "execution": {
     "iopub.execute_input": "2025-02-15T13:07:49.717333Z",
     "iopub.status.busy": "2025-02-15T13:07:49.716958Z",
     "iopub.status.idle": "2025-02-15T13:07:49.724423Z",
     "shell.execute_reply": "2025-02-15T13:07:49.723227Z"
    },
    "jupyter": {
     "source_hidden": true
    },
    "papermill": {
     "duration": 3.262738,
     "end_time": "2025-02-15T13:07:49.726214",
     "exception": false,
     "start_time": "2025-02-15T13:07:46.463476",
     "status": "completed"
    },
    "tags": []
   },
   "outputs": [],
   "source": [
    "# class CFG:\n",
    "#     folds = 10\n",
    "\n",
    "# # https://www.kaggle.com/datasets/jsday96/mcts-tabm-models/data?select=TabMRegressor.py\n",
    "# class TabMRegressor:\n",
    "#     def __init__(\n",
    "#         self,\n",
    "#         arch_type: str        = 'tabm-mini',\n",
    "#         backbone: dict        = {'type': 'MLP', 'n_blocks': 3, 'd_block': 512, 'dropout': 0.1},\n",
    "#         d_embedding: int      = 64,  # Only used for 'tabm-mini'\n",
    "#         bin_count: int        = 48,  # Only used for 'tabm-mini'\n",
    "#         k: int                = 32,\n",
    "#         learning_rate: float  = 1e-4,\n",
    "#         weight_decay: float   = 1e-3,\n",
    "#         clip_grad_norm: bool  = True,\n",
    "#         max_epochs: int       = 100,\n",
    "#         patience: int         = 15,\n",
    "#         batch_size: int       = 32,\n",
    "#         compile_model: bool   = False,\n",
    "#         device: Optional[str] = 'cuda:0',\n",
    "#         random_state: int     = 0,\n",
    "#         verbose: bool         = True\n",
    "#     ):\n",
    "#         self.arch_type = arch_type\n",
    "#         self.backbone = backbone\n",
    "#         self.d_embedding = d_embedding\n",
    "#         self.bin_count = bin_count\n",
    "#         self.k = k\n",
    "#         self.learning_rate = learning_rate\n",
    "#         self.weight_decay = weight_decay\n",
    "#         self.clip_grad_norm = clip_grad_norm\n",
    "#         self.max_epochs = max_epochs\n",
    "#         self.patience = patience\n",
    "#         self.batch_size = batch_size\n",
    "#         self.compile_model = compile_model\n",
    "#         self.device = torch.device(device if device else ('cuda' if torch.cuda.is_available() else 'cpu'))\n",
    "#         self.random_state = random_state\n",
    "#         self.verbose = verbose\n",
    "\n",
    "#     def fit(\n",
    "#         self,\n",
    "#         X: pd.DataFrame,\n",
    "#         y: np.array,\n",
    "#         eval_set: Tuple[pd.DataFrame, np.array]\n",
    "#     ):\n",
    "#         # PREPROCESS DATA.\n",
    "#         X_cat_train, X_cont_train, cat_cardinalities, y_train = self._preprocess_data(X, y, training=True)\n",
    "#         X_cat_val, X_cont_val, _, y_val = self._preprocess_data(eval_set[0], eval_set[1], training=False)\n",
    "\n",
    "#         # CREATE MODEL & TRAINING ALGO.\n",
    "#         bins = rtdl_num_embeddings.compute_bins(X_cont_train, n_bins=self.bin_count) if self.arch_type == 'tabm-mini' else None\n",
    "#         self.model = Model(\n",
    "#             n_num_features=X_cont_train.shape[1],\n",
    "#             cat_cardinalities=cat_cardinalities,\n",
    "#             n_classes=None,\n",
    "#             backbone=self.backbone,\n",
    "#             bins=bins,\n",
    "#             num_embeddings=(\n",
    "#                 None\n",
    "#                 if bins is None\n",
    "#                 else {\n",
    "#                     'type': 'PiecewiseLinearEmbeddings',\n",
    "#                     'd_embedding': self.d_embedding,\n",
    "#                     'activation': True,\n",
    "#                     'version': 'B',\n",
    "#                 }\n",
    "#             ),\n",
    "#             arch_type=self.arch_type,\n",
    "#             k=self.k,\n",
    "#         ).to(self.device)\n",
    "#         optimizer = torch.optim.AdamW(make_parameter_groups(self.model), lr=self.learning_rate, weight_decay=self.weight_decay)\n",
    "#         if self.compile_model:\n",
    "#             self.model = torch.compile(self.model)\n",
    "\n",
    "#         loss_fn = torch.nn.MSELoss().to(self.device)\n",
    "#         # TRAIN & TEST MODEL.\n",
    "#         best = {\n",
    "#             'epoch': -1,\n",
    "#             'eval_loss': math.inf,\n",
    "#             'model_state_dict': None,\n",
    "#         }\n",
    "#         remaining_patience = self.patience\n",
    "#         epoch_size = math.ceil(len(X) / self.batch_size)\n",
    "\n",
    "\n",
    "#         for epoch in range(self.max_epochs):\n",
    "#             # TRAIN.\n",
    "#             optimizer.zero_grad()\n",
    "#             train_losses = []\n",
    "#             progress_bar = torch.randperm(len(y_train), device=self.device).split(self.batch_size)\n",
    "#             progress_bar = tqdm(progress_bar, desc=f'Epoch {epoch}', total=epoch_size) if self.verbose else progress_bar\n",
    "#             for batch_idx in progress_bar:\n",
    "#                 self.model.train()\n",
    "\n",
    "#                 with torch.amp.autocast(device_type='cuda', dtype = torch.bfloat16):\n",
    "#                     y_pred = self.model(\n",
    "#                         X_cont_train[batch_idx],\n",
    "#                         X_cat_train[batch_idx],\n",
    "#                     ).squeeze(-1).float()\n",
    "\n",
    "#                 loss = loss_fn(y_pred.flatten(0, 1), y_train[batch_idx].repeat_interleave(self.k))\n",
    "#                 loss.backward()\n",
    "#                 if self.clip_grad_norm:\n",
    "#                     torch.nn.utils.clip_grad_norm_(self.model.parameters(), 1.0)\n",
    "#                 optimizer.step()\n",
    "\n",
    "#                 train_losses.append(loss.item())\n",
    "\n",
    "\n",
    "#              # EVALUATE.\n",
    "#             self.model.eval()\n",
    "#             val_losses = []\n",
    "#             with torch.no_grad():\n",
    "#                 for batch_idx in torch.arange(0, len(y_val), self.batch_size, device=self.device):\n",
    "#                     y_pred = self.model(\n",
    "#                         X_cont_val[batch_idx:batch_idx+self.batch_size],\n",
    "#                         X_cat_val[batch_idx:batch_idx+self.batch_size],\n",
    "#                     ).squeeze(-1).float()\n",
    "\n",
    "#                     loss = loss_fn(y_pred.flatten(0, 1), y_val[batch_idx:batch_idx+self.batch_size].repeat_interleave(self.k))\n",
    "#                     val_losses.append(loss.item())\n",
    "\n",
    "\n",
    "#             # PRINT INFO.\n",
    "#             mean_train_loss = np.mean(train_losses)\n",
    "#             mean_val_loss = np.mean(val_losses)\n",
    "#             if self.verbose:\n",
    "#                 print(f'Epoch {epoch} | Train Loss: {mean_train_loss} | Val Loss: {mean_val_loss}')\n",
    "\n",
    "\n",
    "#             # COMPARE TO BEST.\n",
    "#             if mean_val_loss < best['eval_loss']:\n",
    "#                 best['epoch'] = epoch\n",
    "#                 best['eval_loss'] = mean_val_loss\n",
    "#                 best['model_state_dict'] = self.model.state_dict()\n",
    "#                 remaining_patience = self.patience\n",
    "                \n",
    "#                 if self.verbose:\n",
    "#                     print('🌸 New best epoch! 🌸')\n",
    "#             else:\n",
    "#                 remaining_patience -= 1\n",
    "\n",
    "#             # EARLY STOPPING.\n",
    "#             if remaining_patience == 0:\n",
    "#                 break\n",
    "\n",
    "#             # RESTORE BEST MODEL.\n",
    "#             self.model.load_state_dict(best['model_state_dict'])\n",
    "\n",
    "\n",
    "#     def predict(\n",
    "#         self,\n",
    "#         X: pd.DataFrame,\n",
    "#         batch_size: Optional[int] = 8096\n",
    "#     ) -> np.ndarray:\n",
    "#         # PREPROCESS DATA.\n",
    "#         X_cat, X_cont, _, _ = self._preprocess_data(X, y=None, training=False)\n",
    "\n",
    "#         # PREDICT.\n",
    "#         self.model.eval()\n",
    "#         y_pred = []\n",
    "#         with torch.no_grad():\n",
    "#             for batch_idx in torch.arange(0, len(X), batch_size, device=self.device):\n",
    "#                 y_pred.append(\n",
    "#                     self.model(\n",
    "#                         X_cont[batch_idx:batch_idx+batch_size],\n",
    "#                         X_cat[batch_idx:batch_idx+batch_size],\n",
    "#                     ).squeeze(-1).float().cpu().numpy()\n",
    "#                 )\n",
    "\n",
    "#         y_pred = np.concatenate(y_pred)\n",
    "\n",
    "\n",
    "#         # DENORMALIZE TARGETS.\n",
    "#         y_pred = y_pred * self._target_std + self._target_mean\n",
    "\n",
    "\n",
    "#         # COMPUTE ENSEMBLE MEAN.\n",
    "#         y_pred = np.mean(y_pred, axis=1)\n",
    "\n",
    "#         return y_pred\n",
    "\n",
    "\n",
    "#     def _preprocess_data(self, X: pd.DataFrame, y: pd.Series, training: bool):\n",
    "#         # PICK NON-CONSTANT COLUMNS.\n",
    "#         if training:\n",
    "#             self._non_constant_columns = X.columns[X.nunique() > 1]\n",
    "\n",
    "#         X = X[self._non_constant_columns]\n",
    "\n",
    "#         # SEPARATE CATEGORICAL & CONTINUOUS FEATURES.\n",
    "#         categorical_features = [col for col in X.columns if X[col].dtype.name == 'object']\n",
    "#         X_cat = X[categorical_features].to_numpy()\n",
    "#         X_cont = X.drop(columns=categorical_features).to_numpy()\n",
    "\n",
    "#         # ENCODE CATEGORICAL FEATURES.\n",
    "#         cat_cardinalities = [X[col].nunique() for col in categorical_features]\n",
    "\n",
    "#         if training:\n",
    "#             self._categorical_encoders = [\n",
    "#                 OrdinalEncoder()\n",
    "#                 for _ in range(X_cat.shape[1])\n",
    "#             ]\n",
    "#         X_cat = np.concatenate([\n",
    "#             encoder.fit_transform(X_cat[:, i:i+1])\n",
    "#             for i, encoder in enumerate(self._categorical_encoders)\n",
    "#         ], axis=1)\n",
    "\n",
    "#         # NORMALIZE TARGETS.\n",
    "#         if training:\n",
    "#             self._target_mean = y.mean()\n",
    "#             self._target_std = y.std()\n",
    "\n",
    "#             y = (y - self._target_mean) / self._target_std\n",
    "\n",
    "\n",
    "#         # SCALE CONTINUOUS FEATURES.\n",
    "#         if training:\n",
    "#             noise = (\n",
    "#                 np.random.default_rng(0)\n",
    "#                 .normal(0.0, 1e-5, X_cont.shape)\n",
    "#                 .astype(X_cont.dtype)\n",
    "#             )\n",
    "#             self._cont_feature_preprocessor = QuantileTransformer(\n",
    "#                 n_quantiles=max(min(len(X) // 30, 1000), 10),\n",
    "#                 output_distribution='normal',\n",
    "#                 subsample=10**9,\n",
    "#             ).fit(X_cont + noise)\n",
    "\n",
    "#         X_cont = self._cont_feature_preprocessor.transform(X_cont)\n",
    "\n",
    "\n",
    "#         # CONVERT TO TENSORS.\n",
    "#         X_cat = torch.tensor(X_cat, dtype=torch.long, device=self.device)\n",
    "#         X_cont = torch.tensor(X_cont, dtype=torch.float32, device=self.device)\n",
    "\n",
    "#         if y is not None:\n",
    "#             y = torch.tensor(y, dtype=torch.float32, device=self.device)\n",
    "\n",
    "#         return X_cat, X_cont, cat_cardinalities, y\n"
   ]
  },
  {
   "cell_type": "code",
   "execution_count": 23,
   "id": "22428e6e",
   "metadata": {
    "execution": {
     "iopub.execute_input": "2025-02-15T13:07:56.324774Z",
     "iopub.status.busy": "2025-02-15T13:07:56.324399Z",
     "iopub.status.idle": "2025-02-15T13:07:56.329838Z",
     "shell.execute_reply": "2025-02-15T13:07:56.328381Z"
    },
    "jupyter": {
     "source_hidden": true
    },
    "papermill": {
     "duration": 3.321301,
     "end_time": "2025-02-15T13:07:56.332073",
     "exception": false,
     "start_time": "2025-02-15T13:07:53.010772",
     "status": "completed"
    },
    "tags": []
   },
   "outputs": [],
   "source": [
    "# def get_tabm_features(data):\n",
    "#     RMV = [\"ID\",\"efs\",\"efs_time\",\"y\",\"fold\"]\n",
    "#     FEATURES = [c for c in data.columns if not c in RMV]\n",
    "    \n",
    "#     RMV              = ['ID']\n",
    "#     X_test           = data.drop(RMV, axis=1)\n",
    "#     y_pred           = data[['ID']]\n",
    "    \n",
    "#     #print(\"X_test shape:\", X_test.shape, '\\n')\n",
    "    \n",
    "#     cat_cols         = X_test.select_dtypes(include=['object']).columns.tolist()\n",
    "#     num_cols         = X_test.select_dtypes(exclude=['object']).columns.tolist()\n",
    "    \n",
    "#     # Preprocessing categorical\n",
    "#     imputer          = SimpleImputer(strategy='constant', fill_value='NAN')\n",
    "#     X_test[cat_cols] = imputer.fit_transform(X_test[cat_cols])\n",
    "\n",
    "#     # Preprocessing numerical\n",
    "#     imputer          = SimpleImputer(strategy=\"median\")\n",
    "#     X_test[num_cols] = imputer.fit_transform(X_test[num_cols])\n",
    "\n",
    "#     return X_test,FEATURES"
   ]
  },
  {
   "cell_type": "code",
   "execution_count": 24,
   "id": "7939ccff",
   "metadata": {
    "execution": {
     "iopub.execute_input": "2025-02-15T13:08:02.878243Z",
     "iopub.status.busy": "2025-02-15T13:08:02.877689Z",
     "iopub.status.idle": "2025-02-15T13:08:02.882577Z",
     "shell.execute_reply": "2025-02-15T13:08:02.881399Z"
    },
    "jupyter": {
     "source_hidden": true
    },
    "papermill": {
     "duration": 3.292878,
     "end_time": "2025-02-15T13:08:02.884447",
     "exception": false,
     "start_time": "2025-02-15T13:07:59.591569",
     "status": "completed"
    },
    "tags": []
   },
   "outputs": [],
   "source": [
    "# def prepare_features(model_path, train, test):\n",
    "\n",
    "#     RMV = [\"ID\",\"efs\",\"efs_time\",\"y\"]\n",
    "#     FEATURES = [c for c in train.columns if not c in RMV]\n",
    "#     #print(f\"There are {len(FEATURES)} FEATURES: {FEATURES}\")\n",
    "    \n",
    "\n",
    "#     CATS = []\n",
    "#     for c in FEATURES:\n",
    "#         if train[c].dtype==\"object\":\n",
    "#             CATS.append(c)\n",
    "#             train[c] = train[c].fillna(\"NAN\")\n",
    "#             test[c]  = test[c].fillna(\"NAN\")\n",
    "#         elif \"DeepTabels\" in model_path or \"tn\" in model_path or \"svr\" in model_path:\n",
    "#             train[c] = train[c].fillna(-1)\n",
    "#             test[c]  = test[c].fillna(-1)\n",
    "            \n",
    "        \n",
    "#     #print(f\"In these features, there are {len(CATS)} CATEGORICAL FEATURES: {CATS}\")\n",
    "    \n",
    "#     combined = pd.concat([train,test],axis=0,ignore_index=True)\n",
    "#     #print(\"Combined data shape:\", combined.shape )\n",
    "    \n",
    "#     # LABEL ENCODE CATEGORICAL FEATURES\n",
    "#     #print(\"We LABEL ENCODE the CATEGORICAL FEATURES: \",end=\"\")\n",
    "#     for c in FEATURES:\n",
    "    \n",
    "#         # LABEL ENCODE CATEGORICAL AND CONVERT TO INT32 CATEGORY\n",
    "#         if c in CATS:\n",
    "#             #print(f\"{c}, \",end=\"\")\n",
    "#             combined[c],_ = combined[c].factorize()\n",
    "#             combined[c]  -= combined[c].min()\n",
    "#             combined[c]   = combined[c].astype(\"int32\")\n",
    "#             combined[c]   = combined[c].astype(\"category\")\n",
    "            \n",
    "#         # REDUCE PRECISION OF NUMERICAL TO 32BIT TO SAVE MEMORY\n",
    "#         else:\n",
    "#             if combined[c].dtype ==\"float64\":\n",
    "#                 combined[c]      = combined[c].astype(\"float32\")\n",
    "#             if combined[c].dtype ==\"int64\":\n",
    "#                 combined[c]      = combined[c].astype(\"int32\")\n",
    "        \n",
    "#     train = combined.iloc[:len(train)].copy()\n",
    "#     test  = combined.iloc[len(train):].reset_index(drop=True).copy()\n",
    "                \n",
    "#     return train, test, FEATURES"
   ]
  },
  {
   "cell_type": "code",
   "execution_count": 25,
   "id": "71afb015",
   "metadata": {
    "execution": {
     "iopub.execute_input": "2025-02-15T13:08:09.384786Z",
     "iopub.status.busy": "2025-02-15T13:08:09.384453Z",
     "iopub.status.idle": "2025-02-15T13:08:09.389181Z",
     "shell.execute_reply": "2025-02-15T13:08:09.388127Z"
    },
    "jupyter": {
     "source_hidden": true
    },
    "papermill": {
     "duration": 3.254489,
     "end_time": "2025-02-15T13:08:09.390895",
     "exception": false,
     "start_time": "2025-02-15T13:08:06.136406",
     "status": "completed"
    },
    "tags": []
   },
   "outputs": [],
   "source": [
    "# def get_nn_features(train, test):\n",
    "    \n",
    "#     CAT_SIZE = []\n",
    "#     CAT_EMB  = []\n",
    "#     NUMS     = []\n",
    "#     CATS     = []\n",
    "\n",
    "#     RMV = [\"ID\",\"efs\",\"efs_time\",\"y\",\"fold\"]\n",
    "#     FEATURES = [c for c in train.columns if not c in RMV]\n",
    "    \n",
    "#     for c in FEATURES:\n",
    "#         if train[c].dtype==\"object\":\n",
    "#             train[c] = train[c].fillna(\"NAN\")\n",
    "#             test[c]  = test[c].fillna(\"NAN\")\n",
    "#             CATS.append(c)\n",
    "#         elif not \"age\" in c:\n",
    "#             train[c] = train[c].astype(\"str\")\n",
    "#             test[c]  = test[c].astype(\"str\")\n",
    "#             CATS.append(c)\n",
    "\n",
    "\n",
    "#     combined = pd.concat([train,test],axis=0,ignore_index=True)\n",
    "#     for c in FEATURES:\n",
    "#         if c in CATS:\n",
    "#             # LABEL ENCODE\n",
    "#             combined[c],_ = combined[c].factorize()\n",
    "#             combined[c] -= combined[c].min()\n",
    "#             combined[c] = combined[c].astype(\"int32\")\n",
    "#             #combined[c] = combined[c].astype(\"category\")\n",
    "\n",
    "#             n = combined[c].nunique()\n",
    "#             mn = combined[c].min()\n",
    "#             mx = combined[c].max()\n",
    "#             #print(f'{c} has ({n}) unique values')\n",
    "    \n",
    "#             CAT_SIZE.append(mx+1) \n",
    "#             CAT_EMB.append( int(np.ceil( np.sqrt(mx+1))) ) \n",
    "#         else:\n",
    "#             if combined[c].dtype==\"float64\":\n",
    "#                 combined[c] = combined[c].astype(\"float32\")\n",
    "#             if combined[c].dtype==\"int64\":\n",
    "#                 combined[c] = combined[c].astype(\"int32\")\n",
    "                \n",
    "#             m = combined[c].mean()\n",
    "#             s = combined[c].std()\n",
    "#             combined[c] = (combined[c]-m)/s\n",
    "#             combined[c] = combined[c].fillna(0)\n",
    "            \n",
    "#             NUMS.append(c)\n",
    "\n",
    "#     train = combined.iloc[:len(train)].copy()\n",
    "#     test = combined.iloc[len(train):].reset_index(drop=True).copy()\n",
    "\n",
    "#     return test[CATS], test[NUMS]"
   ]
  },
  {
   "cell_type": "code",
   "execution_count": 26,
   "id": "656ebfb9",
   "metadata": {
    "execution": {
     "iopub.execute_input": "2025-02-15T13:08:15.917467Z",
     "iopub.status.busy": "2025-02-15T13:08:15.917121Z",
     "iopub.status.idle": "2025-02-15T13:08:15.921529Z",
     "shell.execute_reply": "2025-02-15T13:08:15.920333Z"
    },
    "jupyter": {
     "source_hidden": true
    },
    "papermill": {
     "duration": 3.255615,
     "end_time": "2025-02-15T13:08:15.923392",
     "exception": false,
     "start_time": "2025-02-15T13:08:12.667777",
     "status": "completed"
    },
    "tags": []
   },
   "outputs": [],
   "source": [
    "# def get_tf_features(train, test):\n",
    "#     RMV = [\"ID\",\"efs\",\"efs_time\",\"y\",\"y_na\",\"fold\"]\n",
    "#     FEATURES = [c for c in train.columns if not c in RMV]\n",
    "\n",
    "\n",
    "#     test                             = test.replace('Not done', 'missing')\n",
    "#     test                             = test.replace('Not tested', 'missing')\n",
    "    \n",
    "#     test['na_count']                 = test.isna().sum(axis=1)\n",
    "#     test['age_karnofsky']            = test['age_at_hct'] * test['karnofsky_score']\n",
    "#     test['age_comorbidity']          = test['age_at_hct'] * test['comorbidity_score']\n",
    "#     test['donor_recipient_age_diff'] = abs(test['donor_age'] - test['age_at_hct'])\n",
    "#     test['hla_match_ratio']          = (test['hla_high_res_8'] + test['hla_low_res_8']) / 16\n",
    "#     test['age_squared']              = test['age_at_hct'] ** 2\n",
    "#     test['karnofsky_squared']        = test['karnofsky_score'] ** 2\n",
    "#     test['16?']                      = np.where(test['age_at_hct']<=16,1,0)\n",
    "    \n",
    "#     FEATURES.extend([\"na_count\", \"age_karnofsky\", \"age_comorbidity\", \"donor_recipient_age_diff\", \"hla_match_ratio\", \"age_squared\", \"karnofsky_squared\", \"16?\"])\n",
    "\n",
    "#     CATS = []\n",
    "#     for c in FEATURES:\n",
    "#         if test[c].dtype==\"object\":\n",
    "#             CATS.append(c)\n",
    "#             test[c] = test[c].fillna(\"missing\")\n",
    "\n",
    "#     for c in FEATURES:\n",
    "#         # LABEL ENCODE CATEGORICAL AND CONVERT TO INT32 CATEGORY\n",
    "#         if c in CATS:\n",
    "#             #print(f\"{c}, \",end=\"\")\n",
    "#             test[c],_ = test[c].factorize()\n",
    "#             test[c]  -= test[c].min()\n",
    "#             test[c]   = test[c].astype(\"int32\")\n",
    "#             test[c]   = test[c].astype(\"category\")\n",
    "#         else:\n",
    "#             if test[c].dtype == \"float64\":\n",
    "#                 test[c]      = test[c].astype(\"float32\")\n",
    "#             if test[c].dtype ==\"int64\":\n",
    "#                 test[c]      = test[c].astype(\"int32\")\n",
    "    \n",
    "#     return test, FEATURES"
   ]
  },
  {
   "cell_type": "code",
   "execution_count": 27,
   "id": "740dbca1",
   "metadata": {
    "execution": {
     "iopub.execute_input": "2025-02-15T13:08:22.458649Z",
     "iopub.status.busy": "2025-02-15T13:08:22.458315Z",
     "iopub.status.idle": "2025-02-15T13:08:22.463162Z",
     "shell.execute_reply": "2025-02-15T13:08:22.462184Z"
    },
    "jupyter": {
     "source_hidden": true
    },
    "papermill": {
     "duration": 3.292146,
     "end_time": "2025-02-15T13:08:22.464818",
     "exception": false,
     "start_time": "2025-02-15T13:08:19.172672",
     "status": "completed"
    },
    "tags": []
   },
   "outputs": [],
   "source": [
    "# import pickle\n",
    "# from tqdm import tqdm\n",
    "# from sklearn.svm import SVR\n",
    "# from sklearn.preprocessing import StandardScaler\n",
    "# from sklearn.impute import KNNImputer\n",
    "\n",
    "# imputer               = KNNImputer(n_neighbors=5, weights='uniform')\n",
    "\n",
    "# scaler = StandardScaler()\n",
    "\n",
    "# FOLDS = 10\n",
    "\n",
    "# def inference(model_path, train, test_df):\n",
    "    \n",
    "#     path = model_path.split('/')[-1]\n",
    "#     file = path.replace('-','_')\n",
    "\n",
    "#     if \"dt\" not in model_path:\n",
    "#         with open(f\"/kaggle/input/{path}/{file}.pkl\", 'rb') as f:\n",
    "#             models = pickle.load(f)\n",
    "            \n",
    "#     print(\"All models are loaded successfully....!\")\n",
    "\n",
    "#     test_predictions = np.zeros(len(test_df))\n",
    "\n",
    "#     for fold in tqdm(range(FOLDS)):\n",
    "#         if \"dt\" in model_path:\n",
    "#             # model = keras.models.load_model(model_path, custom_objects=custom_objects)\n",
    "#             # train, test, FEATURES   = prepare_features(model_path, train, test_df)\n",
    "#             # model                   = tf.keras.models.load_model(model_path+f\"/model_fold_{fold}.keras\", custom_objects=dt.__dict__, compile=)\n",
    "#             # fold_preds              = model.predict(test.copy())\n",
    "#             # fold_preds              = fold_preds.flatten()\n",
    "#             pass\n",
    "#         else:\n",
    "#             model  = models[fold]\n",
    "            \n",
    "            \n",
    "#         if \"svr\" in model_path:\n",
    "#             if fold==0:\n",
    "#                 train, test, FEATURES = prepare_features(model_path, train.copy(), test_df.copy())\n",
    "\n",
    "#             # Handle missing values\n",
    "#             train_imputed         = imputer.fit_transform(train[FEATURES].copy())\n",
    "#             test_imputed          = imputer.transform(test[FEATURES])\n",
    "\n",
    "#             # Convert back to DataFrame to maintain feature names\n",
    "#             train_imputed         = pd.DataFrame(train_imputed, columns=FEATURES, index=train.index)\n",
    "#             test_imputed          = pd.DataFrame(test_imputed, columns=FEATURES, index=test.index)\n",
    "            \n",
    "#             # Scale features\n",
    "#             scaler.fit(train_imputed)\n",
    "#             test_scaled           = scaler.transform(test_imputed)\n",
    "            \n",
    "#             fold_preds            = model.predict(test_scaled)\n",
    "\n",
    "#         elif \"tn\" in model_path:\n",
    "#             if fold == 0:\n",
    "#                 train, test, FEATURES   = prepare_features(model_path, train, test_df)\n",
    "                \n",
    "#             fold_preds              = model.predict(test[FEATURES].values).flatten()\n",
    "            \n",
    "#         elif \"nn\" in model_path:\n",
    "#             if fold == 0:\n",
    "#                 X_cat, X_num      = get_nn_features(train, test_df.copy())\n",
    "#             fold_preds        = model.predict([X_cat.values, X_num.values])\n",
    "#             fold_preds        = fold_preds.flatten()\n",
    "\n",
    "#         elif \"tf\" in model_path:\n",
    "#             if fold == 0:\n",
    "#                 test, FEATURES = get_tf_features(train.copy(),test_df.copy())\n",
    "#                 fold_preds     = model.predict(test[FEATURES].copy())\n",
    "\n",
    "#         elif \"tabm\" in model_path:\n",
    "#             if fold == 0:\n",
    "#                 test, FEATURES = get_tabm_features(test_df.copy())\n",
    "#             fold_preds              = model.predict(test[FEATURES].copy())\n",
    "            \n",
    "#         else: \n",
    "#             if fold == 0:\n",
    "#                 train, test, FEATURES   = prepare_features(model_path, train, test_df)\n",
    "#             fold_preds              = model.predict(test[FEATURES].copy())\n",
    "            \n",
    "#         test_predictions += fold_preds\n",
    "    \n",
    "#     # Get the average predictionr\n",
    "#     test_predictions /= FOLDS\n",
    "        \n",
    "#     return test_predictions"
   ]
  },
  {
   "cell_type": "code",
   "execution_count": 28,
   "id": "db663002",
   "metadata": {
    "execution": {
     "iopub.execute_input": "2025-02-15T13:08:29.095351Z",
     "iopub.status.busy": "2025-02-15T13:08:29.094995Z",
     "iopub.status.idle": "2025-02-15T13:08:29.099111Z",
     "shell.execute_reply": "2025-02-15T13:08:29.098067Z"
    },
    "jupyter": {
     "source_hidden": true
    },
    "papermill": {
     "duration": 3.384141,
     "end_time": "2025-02-15T13:08:29.100810",
     "exception": false,
     "start_time": "2025-02-15T13:08:25.716669",
     "status": "completed"
    },
    "tags": []
   },
   "outputs": [],
   "source": [
    "# train_df = pd.read_csv(\"/kaggle/input/equity-post-HCT-survival-predictions/train.csv\")\n",
    "# test_df  = pd.read_csv(\"/kaggle/input/equity-post-HCT-survival-predictions/test.csv\")"
   ]
  },
  {
   "cell_type": "code",
   "execution_count": 29,
   "id": "6fb4dea5",
   "metadata": {
    "execution": {
     "iopub.execute_input": "2025-02-15T13:08:35.666319Z",
     "iopub.status.busy": "2025-02-15T13:08:35.665945Z",
     "iopub.status.idle": "2025-02-15T13:08:35.670236Z",
     "shell.execute_reply": "2025-02-15T13:08:35.668997Z"
    },
    "jupyter": {
     "source_hidden": true
    },
    "papermill": {
     "duration": 3.291878,
     "end_time": "2025-02-15T13:08:35.672127",
     "exception": false,
     "start_time": "2025-02-15T13:08:32.380249",
     "status": "completed"
    },
    "tags": []
   },
   "outputs": [],
   "source": [
    "# first_best_index"
   ]
  },
  {
   "cell_type": "code",
   "execution_count": 30,
   "id": "5de96c1d",
   "metadata": {
    "execution": {
     "iopub.execute_input": "2025-02-15T13:08:42.221386Z",
     "iopub.status.busy": "2025-02-15T13:08:42.220997Z",
     "iopub.status.idle": "2025-02-15T13:08:42.224821Z",
     "shell.execute_reply": "2025-02-15T13:08:42.223803Z"
    },
    "jupyter": {
     "source_hidden": true
    },
    "papermill": {
     "duration": 3.297898,
     "end_time": "2025-02-15T13:08:42.226565",
     "exception": false,
     "start_time": "2025-02-15T13:08:38.928667",
     "status": "completed"
    },
    "tags": []
   },
   "outputs": [],
   "source": [
    "# initial_test_preds = inference(first_best_index, train_df, test_df)\n",
    "# initial_test_preds"
   ]
  },
  {
   "cell_type": "code",
   "execution_count": 31,
   "id": "d500d868",
   "metadata": {
    "execution": {
     "iopub.execute_input": "2025-02-15T13:08:48.715805Z",
     "iopub.status.busy": "2025-02-15T13:08:48.715460Z",
     "iopub.status.idle": "2025-02-15T13:08:48.719948Z",
     "shell.execute_reply": "2025-02-15T13:08:48.718694Z"
    },
    "jupyter": {
     "source_hidden": true
    },
    "papermill": {
     "duration": 3.252026,
     "end_time": "2025-02-15T13:08:48.721798",
     "exception": false,
     "start_time": "2025-02-15T13:08:45.469772",
     "status": "completed"
    },
    "tags": []
   },
   "outputs": [],
   "source": [
    "# model_weights"
   ]
  },
  {
   "cell_type": "code",
   "execution_count": 32,
   "id": "a1fca8b0",
   "metadata": {
    "execution": {
     "iopub.execute_input": "2025-02-15T13:08:55.215569Z",
     "iopub.status.busy": "2025-02-15T13:08:55.215201Z",
     "iopub.status.idle": "2025-02-15T13:08:55.219149Z",
     "shell.execute_reply": "2025-02-15T13:08:55.218210Z"
    },
    "papermill": {
     "duration": 3.234779,
     "end_time": "2025-02-15T13:08:55.220758",
     "exception": false,
     "start_time": "2025-02-15T13:08:51.985979",
     "status": "completed"
    },
    "tags": []
   },
   "outputs": [],
   "source": [
    "# test_preds = []\n",
    "# for model, weight in model_weights.items():\n",
    "#     print(f\"Using model : {model}\")\n",
    "#     test_df            = pd.read_csv(\"/kaggle/input/equity-post-HCT-survival-predictions/test.csv\")\n",
    "    \n",
    "#     test_preds         = inference(model, train_df.copy(), test_df)\n",
    "#     test_preds         = (1-weight) * rankdata(initial_test_preds) + weight * rankdata(test_preds)\n",
    "#     initial_test_preds = test_preds"
   ]
  },
  {
   "cell_type": "code",
   "execution_count": 33,
   "id": "6f7a6704",
   "metadata": {
    "execution": {
     "iopub.execute_input": "2025-02-15T13:09:01.820641Z",
     "iopub.status.busy": "2025-02-15T13:09:01.820223Z",
     "iopub.status.idle": "2025-02-15T13:09:01.825539Z",
     "shell.execute_reply": "2025-02-15T13:09:01.824348Z"
    },
    "jupyter": {
     "source_hidden": true
    },
    "papermill": {
     "duration": 3.371204,
     "end_time": "2025-02-15T13:09:01.827997",
     "exception": false,
     "start_time": "2025-02-15T13:08:58.456793",
     "status": "completed"
    },
    "tags": []
   },
   "outputs": [],
   "source": [
    "# train_df               = pd.read_csv(\"/kaggle/input/equity-post-HCT-survival-predictions/train.csv\")\n",
    "# test_df                = pd.read_csv(\"/kaggle/input/equity-post-HCT-survival-predictions/test.csv\")\n",
    "# test_preds             = np.zeros(len(test_df))\n",
    "\n",
    "\n",
    "# preds_dict = {}\n",
    "# for model, weight in model_weights.items():\n",
    "#     print(f\"exp name : {model}\\n\")\n",
    "#     test_df                = pd.read_csv(\"/kaggle/input/equity-post-HCT-survival-predictions/test.csv\")\n",
    "#     test_preds             = inference(model, train_df.copy(), test_df.copy())\n",
    "#     test_preds             = (1-weight) * rankdata(initial_test_preds) + weight * rankdata(test_preds)\n",
    "#     initial_test_preds     = test_preds"
   ]
  },
  {
   "cell_type": "code",
   "execution_count": 34,
   "id": "619f4a7f",
   "metadata": {
    "execution": {
     "iopub.execute_input": "2025-02-15T13:09:08.310649Z",
     "iopub.status.busy": "2025-02-15T13:09:08.310242Z",
     "iopub.status.idle": "2025-02-15T13:09:08.314504Z",
     "shell.execute_reply": "2025-02-15T13:09:08.313234Z"
    },
    "jupyter": {
     "source_hidden": true
    },
    "papermill": {
     "duration": 3.245968,
     "end_time": "2025-02-15T13:09:08.316610",
     "exception": false,
     "start_time": "2025-02-15T13:09:05.070642",
     "status": "completed"
    },
    "tags": []
   },
   "outputs": [],
   "source": [
    "# test_preds"
   ]
  },
  {
   "cell_type": "code",
   "execution_count": 35,
   "id": "3375ffa0",
   "metadata": {
    "execution": {
     "iopub.execute_input": "2025-02-15T13:09:14.797040Z",
     "iopub.status.busy": "2025-02-15T13:09:14.796623Z",
     "iopub.status.idle": "2025-02-15T13:09:14.801247Z",
     "shell.execute_reply": "2025-02-15T13:09:14.799814Z"
    },
    "jupyter": {
     "source_hidden": true
    },
    "papermill": {
     "duration": 3.243617,
     "end_time": "2025-02-15T13:09:14.803318",
     "exception": false,
     "start_time": "2025-02-15T13:09:11.559701",
     "status": "completed"
    },
    "tags": []
   },
   "outputs": [],
   "source": [
    "# potential_ensemble                = pd.DataFrame()\n",
    "# potential_ensemble[\"predictions\"] = test_preds\n",
    "# potential_ensemble[\"ID\"]          = test_df[\"ID\"]\n",
    "# new_score                         = score(test_df[[\"ID\",\"efs\",\"efs_time\",\"race_group\"]].copy(), potential_ensemble.copy(), \"ID\")\n",
    "# new_score"
   ]
  },
  {
   "cell_type": "code",
   "execution_count": 36,
   "id": "e57ea618",
   "metadata": {
    "execution": {
     "iopub.execute_input": "2025-02-15T13:09:21.329969Z",
     "iopub.status.busy": "2025-02-15T13:09:21.329576Z",
     "iopub.status.idle": "2025-02-15T13:09:21.333434Z",
     "shell.execute_reply": "2025-02-15T13:09:21.332360Z"
    },
    "jupyter": {
     "source_hidden": true
    },
    "papermill": {
     "duration": 3.269947,
     "end_time": "2025-02-15T13:09:21.335133",
     "exception": false,
     "start_time": "2025-02-15T13:09:18.065186",
     "status": "completed"
    },
    "tags": []
   },
   "outputs": [],
   "source": [
    "# best_score"
   ]
  },
  {
   "cell_type": "markdown",
   "id": "48e0a1bf",
   "metadata": {
    "papermill": {
     "duration": 3.2658,
     "end_time": "2025-02-15T13:09:27.845126",
     "exception": false,
     "start_time": "2025-02-15T13:09:24.579326",
     "status": "completed"
    },
    "tags": []
   },
   "source": [
    "## Step 7: Create submission file"
   ]
  },
  {
   "cell_type": "code",
   "execution_count": 37,
   "id": "de27e8a1",
   "metadata": {
    "execution": {
     "iopub.execute_input": "2025-02-15T13:09:34.500395Z",
     "iopub.status.busy": "2025-02-15T13:09:34.500024Z",
     "iopub.status.idle": "2025-02-15T13:09:34.504056Z",
     "shell.execute_reply": "2025-02-15T13:09:34.502832Z"
    },
    "jupyter": {
     "source_hidden": true
    },
    "papermill": {
     "duration": 3.365639,
     "end_time": "2025-02-15T13:09:34.505685",
     "exception": false,
     "start_time": "2025-02-15T13:09:31.140046",
     "status": "completed"
    },
    "tags": []
   },
   "outputs": [],
   "source": [
    "# sub            = pd.read_csv(\"/kaggle/input/equity-post-HCT-survival-predictions/sample_submission.csv\")\n",
    "# sub.prediction = test_preds\n",
    "# sub.to_csv(\"submission.csv\",index=False)\n",
    "# print(\"Sub shape:\",sub.shape)\n",
    "# sub.head()"
   ]
  },
  {
   "cell_type": "code",
   "execution_count": null,
   "id": "14be7046",
   "metadata": {
    "papermill": {
     "duration": 3.280309,
     "end_time": "2025-02-15T13:09:41.015993",
     "exception": false,
     "start_time": "2025-02-15T13:09:37.735684",
     "status": "completed"
    },
    "tags": []
   },
   "outputs": [],
   "source": []
  }
 ],
 "metadata": {
  "kaggle": {
   "accelerator": "none",
   "dataSources": [
    {
     "databundleVersionId": 10381525,
     "isSourceIdPinned": false,
     "sourceId": 70942,
     "sourceType": "competition"
    },
    {
     "datasetId": 921302,
     "sourceId": 7453542,
     "sourceType": "datasetVersion"
    },
    {
     "datasetId": 6226248,
     "sourceId": 10097128,
     "sourceType": "datasetVersion"
    },
    {
     "datasetId": 6415434,
     "sourceId": 10370860,
     "sourceType": "datasetVersion"
    },
    {
     "datasetId": 6450507,
     "sourceId": 10409094,
     "sourceType": "datasetVersion"
    },
    {
     "sourceId": 211322530,
     "sourceType": "kernelVersion"
    },
    {
     "sourceId": 216172723,
     "sourceType": "kernelVersion"
    },
    {
     "sourceId": 217481514,
     "sourceType": "kernelVersion"
    },
    {
     "sourceId": 217813503,
     "sourceType": "kernelVersion"
    },
    {
     "sourceId": 217931837,
     "sourceType": "kernelVersion"
    },
    {
     "sourceId": 218131499,
     "sourceType": "kernelVersion"
    },
    {
     "sourceId": 218144682,
     "sourceType": "kernelVersion"
    },
    {
     "sourceId": 218801338,
     "sourceType": "kernelVersion"
    },
    {
     "sourceId": 218802756,
     "sourceType": "kernelVersion"
    },
    {
     "sourceId": 219153168,
     "sourceType": "kernelVersion"
    },
    {
     "sourceId": 219154661,
     "sourceType": "kernelVersion"
    },
    {
     "sourceId": 219195490,
     "sourceType": "kernelVersion"
    },
    {
     "sourceId": 219311236,
     "sourceType": "kernelVersion"
    },
    {
     "sourceId": 219519933,
     "sourceType": "kernelVersion"
    },
    {
     "sourceId": 219788453,
     "sourceType": "kernelVersion"
    },
    {
     "sourceId": 219953795,
     "sourceType": "kernelVersion"
    },
    {
     "sourceId": 220208646,
     "sourceType": "kernelVersion"
    },
    {
     "sourceId": 220212754,
     "sourceType": "kernelVersion"
    },
    {
     "sourceId": 220243528,
     "sourceType": "kernelVersion"
    },
    {
     "sourceId": 220393279,
     "sourceType": "kernelVersion"
    },
    {
     "sourceId": 221224474,
     "sourceType": "kernelVersion"
    },
    {
     "sourceId": 221474387,
     "sourceType": "kernelVersion"
    },
    {
     "sourceId": 221524326,
     "sourceType": "kernelVersion"
    },
    {
     "sourceId": 221600795,
     "sourceType": "kernelVersion"
    },
    {
     "sourceId": 221636013,
     "sourceType": "kernelVersion"
    },
    {
     "sourceId": 221640769,
     "sourceType": "kernelVersion"
    },
    {
     "sourceId": 221830134,
     "sourceType": "kernelVersion"
    },
    {
     "sourceId": 222021427,
     "sourceType": "kernelVersion"
    },
    {
     "sourceId": 222075561,
     "sourceType": "kernelVersion"
    },
    {
     "sourceId": 222265918,
     "sourceType": "kernelVersion"
    },
    {
     "sourceId": 222267362,
     "sourceType": "kernelVersion"
    },
    {
     "sourceId": 222268629,
     "sourceType": "kernelVersion"
    },
    {
     "sourceId": 222439231,
     "sourceType": "kernelVersion"
    },
    {
     "sourceId": 222638468,
     "sourceType": "kernelVersion"
    },
    {
     "sourceId": 222639128,
     "sourceType": "kernelVersion"
    },
    {
     "sourceId": 222637056,
     "sourceType": "kernelVersion"
    }
   ],
   "dockerImageVersionId": 30822,
   "isGpuEnabled": false,
   "isInternetEnabled": true,
   "language": "python",
   "sourceType": "notebook"
  },
  "kernelspec": {
   "display_name": "Python 3",
   "language": "python",
   "name": "python3"
  },
  "language_info": {
   "codemirror_mode": {
    "name": "ipython",
    "version": 3
   },
   "file_extension": ".py",
   "mimetype": "text/x-python",
   "name": "python",
   "nbconvert_exporter": "python",
   "pygments_lexer": "ipython3",
   "version": "3.10.12"
  },
  "papermill": {
   "default_parameters": {},
   "duration": 20993.039553,
   "end_time": "2025-02-15T13:09:47.080988",
   "environment_variables": {},
   "exception": null,
   "input_path": "__notebook__.ipynb",
   "output_path": "__notebook__.ipynb",
   "parameters": {},
   "start_time": "2025-02-15T07:19:54.041435",
   "version": "2.6.0"
  }
 },
 "nbformat": 4,
 "nbformat_minor": 5
}
