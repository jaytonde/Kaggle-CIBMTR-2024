{
 "cells": [
  {
   "cell_type": "markdown",
   "id": "7757644a",
   "metadata": {
    "_cell_guid": "46a264b2-b97f-487b-9a3d-2597a0ecdc21",
    "_uuid": "9daabf89-8847-4537-a0b7-2a722b5c452d",
    "collapsed": false,
    "jupyter": {
     "outputs_hidden": false
    },
    "papermill": {
     "duration": 0.011774,
     "end_time": "2025-02-22T05:36:51.155650",
     "exception": false,
     "start_time": "2025-02-22T05:36:51.143876",
     "status": "completed"
    },
    "tags": []
   },
   "source": [
    "## Installations"
   ]
  },
  {
   "cell_type": "code",
   "execution_count": 1,
   "id": "fdf4aac3",
   "metadata": {
    "execution": {
     "iopub.execute_input": "2025-02-22T05:36:51.179309Z",
     "iopub.status.busy": "2025-02-22T05:36:51.178945Z",
     "iopub.status.idle": "2025-02-22T05:37:16.862894Z",
     "shell.execute_reply": "2025-02-22T05:37:16.861416Z"
    },
    "papermill": {
     "duration": 25.698032,
     "end_time": "2025-02-22T05:37:16.865109",
     "exception": false,
     "start_time": "2025-02-22T05:36:51.167077",
     "status": "completed"
    },
    "tags": []
   },
   "outputs": [
    {
     "name": "stdout",
     "output_type": "stream",
     "text": [
      "Processing /kaggle/input/pip-install-lifelines/autograd-1.7.0-py3-none-any.whl\r\n",
      "Requirement already satisfied: numpy in /usr/local/lib/python3.10/dist-packages (from autograd==1.7.0) (1.26.4)\r\n",
      "autograd is already installed with the same version as the provided wheel. Use --force-reinstall to force an installation of the wheel.\r\n",
      "Processing /kaggle/input/pip-install-lifelines/autograd-gamma-0.5.0.tar.gz\r\n",
      "  Preparing metadata (setup.py) ... \u001b[?25l\u001b[?25hdone\r\n",
      "Requirement already satisfied: autograd>=1.2.0 in /usr/local/lib/python3.10/dist-packages (from autograd-gamma==0.5.0) (1.7.0)\r\n",
      "Requirement already satisfied: scipy>=1.2.0 in /usr/local/lib/python3.10/dist-packages (from autograd-gamma==0.5.0) (1.13.1)\r\n",
      "Requirement already satisfied: numpy in /usr/local/lib/python3.10/dist-packages (from autograd>=1.2.0->autograd-gamma==0.5.0) (1.26.4)\r\n",
      "Building wheels for collected packages: autograd-gamma\r\n",
      "  Building wheel for autograd-gamma (setup.py) ... \u001b[?25l\u001b[?25hdone\r\n",
      "  Created wheel for autograd-gamma: filename=autograd_gamma-0.5.0-py3-none-any.whl size=4031 sha256=f39d6ac850b7ffa1749057d8d7effaefea3818fba5c4a4c0f1e024dd95a7d686\r\n",
      "  Stored in directory: /root/.cache/pip/wheels/6b/b5/e0/4c79e15c0b5f2c15ecf613c720bb20daab20a666eb67135155\r\n",
      "Successfully built autograd-gamma\r\n",
      "Installing collected packages: autograd-gamma\r\n",
      "Successfully installed autograd-gamma-0.5.0\r\n",
      "Processing /kaggle/input/pip-install-lifelines/interface_meta-1.3.0-py3-none-any.whl\r\n",
      "Installing collected packages: interface-meta\r\n",
      "Successfully installed interface-meta-1.3.0\r\n",
      "Processing /kaggle/input/pip-install-lifelines/formulaic-1.0.2-py3-none-any.whl\r\n",
      "Requirement already satisfied: interface-meta>=1.2.0 in /usr/local/lib/python3.10/dist-packages (from formulaic==1.0.2) (1.3.0)\r\n",
      "Requirement already satisfied: numpy>=1.16.5 in /usr/local/lib/python3.10/dist-packages (from formulaic==1.0.2) (1.26.4)\r\n",
      "Requirement already satisfied: pandas>=1.0 in /usr/local/lib/python3.10/dist-packages (from formulaic==1.0.2) (2.1.4)\r\n",
      "Requirement already satisfied: scipy>=1.6 in /usr/local/lib/python3.10/dist-packages (from formulaic==1.0.2) (1.13.1)\r\n",
      "Requirement already satisfied: typing-extensions>=4.2.0 in /usr/local/lib/python3.10/dist-packages (from formulaic==1.0.2) (4.12.2)\r\n",
      "Requirement already satisfied: wrapt>=1.0 in /usr/local/lib/python3.10/dist-packages (from formulaic==1.0.2) (1.16.0)\r\n",
      "Requirement already satisfied: python-dateutil>=2.8.2 in /usr/local/lib/python3.10/dist-packages (from pandas>=1.0->formulaic==1.0.2) (2.8.2)\r\n",
      "Requirement already satisfied: pytz>=2020.1 in /usr/local/lib/python3.10/dist-packages (from pandas>=1.0->formulaic==1.0.2) (2024.2)\r\n",
      "Requirement already satisfied: tzdata>=2022.1 in /usr/local/lib/python3.10/dist-packages (from pandas>=1.0->formulaic==1.0.2) (2024.1)\r\n",
      "Requirement already satisfied: six>=1.5 in /usr/local/lib/python3.10/dist-packages (from python-dateutil>=2.8.2->pandas>=1.0->formulaic==1.0.2) (1.16.0)\r\n",
      "Installing collected packages: formulaic\r\n",
      "Successfully installed formulaic-1.0.2\r\n",
      "Processing /kaggle/input/pip-install-lifelines/lifelines-0.30.0-py3-none-any.whl\r\n",
      "Requirement already satisfied: numpy>=1.14.0 in /usr/local/lib/python3.10/dist-packages (from lifelines==0.30.0) (1.26.4)\r\n",
      "Requirement already satisfied: scipy>=1.7.0 in /usr/local/lib/python3.10/dist-packages (from lifelines==0.30.0) (1.13.1)\r\n",
      "Requirement already satisfied: pandas>=2.1 in /usr/local/lib/python3.10/dist-packages (from lifelines==0.30.0) (2.1.4)\r\n",
      "Requirement already satisfied: matplotlib>=3.0 in /usr/local/lib/python3.10/dist-packages (from lifelines==0.30.0) (3.7.1)\r\n",
      "Requirement already satisfied: autograd>=1.5 in /usr/local/lib/python3.10/dist-packages (from lifelines==0.30.0) (1.7.0)\r\n",
      "Requirement already satisfied: autograd-gamma>=0.3 in /usr/local/lib/python3.10/dist-packages (from lifelines==0.30.0) (0.5.0)\r\n",
      "Requirement already satisfied: formulaic>=0.2.2 in /usr/local/lib/python3.10/dist-packages (from lifelines==0.30.0) (1.0.2)\r\n",
      "Requirement already satisfied: interface-meta>=1.2.0 in /usr/local/lib/python3.10/dist-packages (from formulaic>=0.2.2->lifelines==0.30.0) (1.3.0)\r\n",
      "Requirement already satisfied: typing-extensions>=4.2.0 in /usr/local/lib/python3.10/dist-packages (from formulaic>=0.2.2->lifelines==0.30.0) (4.12.2)\r\n",
      "Requirement already satisfied: wrapt>=1.0 in /usr/local/lib/python3.10/dist-packages (from formulaic>=0.2.2->lifelines==0.30.0) (1.16.0)\r\n",
      "Requirement already satisfied: contourpy>=1.0.1 in /usr/local/lib/python3.10/dist-packages (from matplotlib>=3.0->lifelines==0.30.0) (1.3.0)\r\n",
      "Requirement already satisfied: cycler>=0.10 in /usr/local/lib/python3.10/dist-packages (from matplotlib>=3.0->lifelines==0.30.0) (0.12.1)\r\n",
      "Requirement already satisfied: fonttools>=4.22.0 in /usr/local/lib/python3.10/dist-packages (from matplotlib>=3.0->lifelines==0.30.0) (4.53.1)\r\n",
      "Requirement already satisfied: kiwisolver>=1.0.1 in /usr/local/lib/python3.10/dist-packages (from matplotlib>=3.0->lifelines==0.30.0) (1.4.7)\r\n",
      "Requirement already satisfied: packaging>=20.0 in /usr/local/lib/python3.10/dist-packages (from matplotlib>=3.0->lifelines==0.30.0) (24.1)\r\n",
      "Requirement already satisfied: pillow>=6.2.0 in /usr/local/lib/python3.10/dist-packages (from matplotlib>=3.0->lifelines==0.30.0) (10.4.0)\r\n",
      "Requirement already satisfied: pyparsing>=2.3.1 in /usr/local/lib/python3.10/dist-packages (from matplotlib>=3.0->lifelines==0.30.0) (3.1.4)\r\n",
      "Requirement already satisfied: python-dateutil>=2.7 in /usr/local/lib/python3.10/dist-packages (from matplotlib>=3.0->lifelines==0.30.0) (2.8.2)\r\n",
      "Requirement already satisfied: pytz>=2020.1 in /usr/local/lib/python3.10/dist-packages (from pandas>=2.1->lifelines==0.30.0) (2024.2)\r\n",
      "Requirement already satisfied: tzdata>=2022.1 in /usr/local/lib/python3.10/dist-packages (from pandas>=2.1->lifelines==0.30.0) (2024.1)\r\n",
      "Requirement already satisfied: six>=1.5 in /usr/local/lib/python3.10/dist-packages (from python-dateutil>=2.7->matplotlib>=3.0->lifelines==0.30.0) (1.16.0)\r\n",
      "Installing collected packages: lifelines\r\n",
      "Successfully installed lifelines-0.30.0\r\n"
     ]
    }
   ],
   "source": [
    "!pip install /kaggle/input/pip-install-lifelines/autograd-1.7.0-py3-none-any.whl\n",
    "!pip install /kaggle/input/pip-install-lifelines/autograd-gamma-0.5.0.tar.gz\n",
    "!pip install /kaggle/input/pip-install-lifelines/interface_meta-1.3.0-py3-none-any.whl\n",
    "!pip install /kaggle/input/pip-install-lifelines/formulaic-1.0.2-py3-none-any.whl\n",
    "!pip install /kaggle/input/pip-install-lifelines/lifelines-0.30.0-py3-none-any.whl"
   ]
  },
  {
   "cell_type": "code",
   "execution_count": 2,
   "id": "0ec7a501",
   "metadata": {
    "execution": {
     "iopub.execute_input": "2025-02-22T05:37:16.891357Z",
     "iopub.status.busy": "2025-02-22T05:37:16.891009Z",
     "iopub.status.idle": "2025-02-22T05:37:25.516411Z",
     "shell.execute_reply": "2025-02-22T05:37:25.514772Z"
    },
    "papermill": {
     "duration": 8.642165,
     "end_time": "2025-02-22T05:37:25.519277",
     "exception": false,
     "start_time": "2025-02-22T05:37:16.877112",
     "status": "completed"
    },
    "tags": []
   },
   "outputs": [
    {
     "name": "stdout",
     "output_type": "stream",
     "text": [
      "Looking in links: /kaggle/input/tabm-tabular-dl-library\r\n",
      "Processing /kaggle/input/tabm-tabular-dl-library/tabm-0.0.1.dev0-py3-none-any.whl\r\n",
      "Requirement already satisfied: torch<3,>=1.12 in /usr/local/lib/python3.10/dist-packages (from tabm==0.0.1.dev0) (2.4.1+cu121)\r\n",
      "Processing /kaggle/input/tabm-tabular-dl-library/rtdl_num_embeddings-0.0.11-py3-none-any.whl (from tabm==0.0.1.dev0)\r\n",
      "Requirement already satisfied: filelock in /usr/local/lib/python3.10/dist-packages (from torch<3,>=1.12->tabm==0.0.1.dev0) (3.16.1)\r\n",
      "Requirement already satisfied: typing-extensions>=4.8.0 in /usr/local/lib/python3.10/dist-packages (from torch<3,>=1.12->tabm==0.0.1.dev0) (4.12.2)\r\n",
      "Requirement already satisfied: sympy in /usr/local/lib/python3.10/dist-packages (from torch<3,>=1.12->tabm==0.0.1.dev0) (1.13.3)\r\n",
      "Requirement already satisfied: networkx in /usr/local/lib/python3.10/dist-packages (from torch<3,>=1.12->tabm==0.0.1.dev0) (3.3)\r\n",
      "Requirement already satisfied: jinja2 in /usr/local/lib/python3.10/dist-packages (from torch<3,>=1.12->tabm==0.0.1.dev0) (3.1.4)\r\n",
      "Requirement already satisfied: fsspec in /usr/local/lib/python3.10/dist-packages (from torch<3,>=1.12->tabm==0.0.1.dev0) (2024.6.1)\r\n",
      "Requirement already satisfied: MarkupSafe>=2.0 in /usr/local/lib/python3.10/dist-packages (from jinja2->torch<3,>=1.12->tabm==0.0.1.dev0) (2.1.5)\r\n",
      "Requirement already satisfied: mpmath<1.4,>=1.1.0 in /usr/local/lib/python3.10/dist-packages (from sympy->torch<3,>=1.12->tabm==0.0.1.dev0) (1.3.0)\r\n",
      "Installing collected packages: rtdl_num_embeddings, tabm\r\n",
      "Successfully installed rtdl_num_embeddings-0.0.11 tabm-0.0.1.dev0\r\n"
     ]
    }
   ],
   "source": [
    "!pip install --no-index -U --find-links=/kaggle/input/tabm-tabular-dl-library tabm==0.0.1.dev0\n",
    "!pip -q install /kaggle/input/pytorchtabnet/pytorch_tabnet-4.1.0-py3-none-any.whl"
   ]
  },
  {
   "cell_type": "code",
   "execution_count": 3,
   "id": "1173c3e7",
   "metadata": {
    "execution": {
     "iopub.execute_input": "2025-02-22T05:37:25.545917Z",
     "iopub.status.busy": "2025-02-22T05:37:25.545431Z",
     "iopub.status.idle": "2025-02-22T05:37:29.853672Z",
     "shell.execute_reply": "2025-02-22T05:37:29.852050Z"
    },
    "papermill": {
     "duration": 4.324936,
     "end_time": "2025-02-22T05:37:29.856318",
     "exception": false,
     "start_time": "2025-02-22T05:37:25.531382",
     "status": "completed"
    },
    "tags": []
   },
   "outputs": [],
   "source": [
    "!pip -q install /kaggle/input/tabpfn-v2/tabpfn-2.0.0-py3-none-any.whl"
   ]
  },
  {
   "cell_type": "markdown",
   "id": "906ab8fd",
   "metadata": {
    "papermill": {
     "duration": 0.01272,
     "end_time": "2025-02-22T05:37:29.881890",
     "exception": false,
     "start_time": "2025-02-22T05:37:29.869170",
     "status": "completed"
    },
    "tags": []
   },
   "source": [
    "## Step 1 : Installations"
   ]
  },
  {
   "cell_type": "code",
   "execution_count": 4,
   "id": "a49dc0fd",
   "metadata": {
    "execution": {
     "iopub.execute_input": "2025-02-22T05:37:29.908599Z",
     "iopub.status.busy": "2025-02-22T05:37:29.908172Z",
     "iopub.status.idle": "2025-02-22T05:37:49.117276Z",
     "shell.execute_reply": "2025-02-22T05:37:49.116116Z"
    },
    "papermill": {
     "duration": 19.225269,
     "end_time": "2025-02-22T05:37:49.119504",
     "exception": false,
     "start_time": "2025-02-22T05:37:29.894235",
     "status": "completed"
    },
    "tags": []
   },
   "outputs": [],
   "source": [
    "import numpy as np\n",
    "import pandas as pd\n",
    "from scipy.stats import rankdata \n",
    "\n",
    "import sys\n",
    "sys.path.append('/kaggle/input/tabm-tabular-dl-library')\n",
    "\n",
    "import os\n",
    "import tabm\n",
    "import math\n",
    "import torch\n",
    "import random\n",
    "import warnings\n",
    "from tqdm import tqdm\n",
    "import pandas as pd\n",
    "import numpy as np\n",
    "import rtdl_num_embeddings\n",
    "import matplotlib.pyplot as plt\n",
    "from typing import Optional, Tuple\n",
    "from sklearn.model_selection import KFold\n",
    "from scipy.stats import rankdata \n",
    "from colorama import Fore, Style\n",
    "from typing import Optional, Tuple\n",
    "from numpy.typing import ArrayLike\n",
    "from sklearn.base import BaseEstimator\n",
    "from sklearn.impute import SimpleImputer\n",
    "from sklearn.model_selection import KFold\n",
    "from tabm_reference import Model, make_parameter_groups\n",
    "from sklearn.preprocessing import OrdinalEncoder, QuantileTransformer\n",
    "from pytorch_tabnet.tab_model import TabNetRegressor\n",
    "\n",
    "import tensorflow as tf\n",
    "from tensorflow.keras.models import Model\n",
    "from tensorflow.keras.layers import Dense, Dropout, Input, Embedding\n",
    "from tensorflow.keras.layers import Concatenate, BatchNormalization\n",
    "import tensorflow.keras.backend as K\n",
    "from pytorch_tabnet.tab_model import TabNetRegressor\n",
    "from tabpfn import TabPFNRegressor"
   ]
  },
  {
   "cell_type": "markdown",
   "id": "1cb52289",
   "metadata": {
    "papermill": {
     "duration": 0.011335,
     "end_time": "2025-02-22T05:37:49.142930",
     "exception": false,
     "start_time": "2025-02-22T05:37:49.131595",
     "status": "completed"
    },
    "tags": []
   },
   "source": [
    "## Step 2: Experiments Paths  to add in ensemble"
   ]
  },
  {
   "cell_type": "code",
   "execution_count": 5,
   "id": "3237e21e",
   "metadata": {
    "execution": {
     "iopub.execute_input": "2025-02-22T05:37:49.168061Z",
     "iopub.status.busy": "2025-02-22T05:37:49.167344Z",
     "iopub.status.idle": "2025-02-22T05:37:49.173425Z",
     "shell.execute_reply": "2025-02-22T05:37:49.172208Z"
    },
    "papermill": {
     "duration": 0.020731,
     "end_time": "2025-02-22T05:37:49.175350",
     "exception": false,
     "start_time": "2025-02-22T05:37:49.154619",
     "status": "completed"
    },
    "tags": []
   },
   "outputs": [],
   "source": [
    "experiments = [\n",
    "\"/kaggle/input/xgboost-exp-01\",\n",
    "\"/kaggle/input/catboost-exp-01\", \n",
    "\"/kaggle/input/lgbm-exp-01\",\n",
    "\"/kaggle/input/xgboost-exp-02\",\n",
    "\"/kaggle/input/catboost-exp-02\",\n",
    "\"/kaggle/input/lgbm-exp-03\",\n",
    "\"/kaggle/input/catboost-exp-03\",\n",
    "\"/kaggle/input/tabm-exp-01\",\n",
    "\"/kaggle/input/nn-exp-01\",\n",
    "\"/kaggle/input/tn-exp-01\",\n",
    "\"/kaggle/input/tf-exp-01\",\n",
    "\"/kaggle/input/svr-exp-01\",\n",
    "\"/kaggle/input/abd-exp-01\",\n",
    "\"/kaggle/input/catboost-exp-04\",\n",
    "\"/kaggle/input/lgbm-exp-04\",\n",
    "\"/kaggle/input/tabm-exp-02\",\n",
    "\"/kaggle/input/ds-exp-01\",\n",
    "\"/kaggle/input/nn-exp-02\",\n",
    "\"/kaggle/input/nn-exp-04\",\n",
    "#\"/kaggle/input/tabm-exp-03\",\n",
    "\"/kaggle/input/catboost-exp-05\",\n",
    "\"/kaggle/input/xgboost-exp-05\",\n",
    "\"/kaggle/input/lgbm-exp-05\",\n",
    "\"/kaggle/input/tn-exp-02\",\n",
    "#\"/kaggle/input/ag-exp-01\",\n",
    "\"/kaggle/input/vr-exp-01\",\n",
    "\"/kaggle/input/tt-exp-01\",\n",
    "\"/kaggle/input/en-exp-01\",\n",
    "\"/kaggle/input/en-exp-02\",\n",
    "\"/kaggle/input/nn-exp-05\",\n",
    "\"/kaggle/input/rf-exp-05\",\n",
    "\"/kaggle/input/mcts-exp-02\",\n",
    "\"/kaggle/input/catboost-exp-06\",\n",
    "\"/kaggle/input/xgboost-exp-06\",\n",
    "\"/kaggle/input/lgbm-exp-06\",\n",
    "\"/kaggle/input/nn-exp-06\",\n",
    "\"/kaggle/input/xgboost-exp-07\",\n",
    "\"/kaggle/input/ri-exp-01\",\n",
    "\"/kaggle/input/xgboost-exp-08\",\n",
    "\"/kaggle/input/catboost-exp-08\",\n",
    "\"/kaggle/input/lgbm-exp-08\",\n",
    "\"/kaggle/input/xgboost-exp-09\"\n",
    "# \"/kaggle/input/suv-ran-exp-01\" -> File not found\n",
    "]"
   ]
  },
  {
   "cell_type": "markdown",
   "id": "5af7dc11",
   "metadata": {
    "papermill": {
     "duration": 0.011341,
     "end_time": "2025-02-22T05:37:49.198335",
     "exception": false,
     "start_time": "2025-02-22T05:37:49.186994",
     "status": "completed"
    },
    "tags": []
   },
   "source": [
    "## Step 3 : Competition metric"
   ]
  },
  {
   "cell_type": "code",
   "execution_count": 6,
   "id": "45d2674b",
   "metadata": {
    "execution": {
     "iopub.execute_input": "2025-02-22T05:37:49.224403Z",
     "iopub.status.busy": "2025-02-22T05:37:49.224005Z",
     "iopub.status.idle": "2025-02-22T05:37:49.347682Z",
     "shell.execute_reply": "2025-02-22T05:37:49.346389Z"
    },
    "papermill": {
     "duration": 0.13932,
     "end_time": "2025-02-22T05:37:49.350448",
     "exception": false,
     "start_time": "2025-02-22T05:37:49.211128",
     "status": "completed"
    },
    "tags": []
   },
   "outputs": [],
   "source": [
    "import pandas as pd\n",
    "import pandas.api.types\n",
    "import numpy as np\n",
    "from lifelines.utils import concordance_index\n",
    "\n",
    "class ParticipantVisibleError(Exception):\n",
    "    pass\n",
    "\n",
    "\n",
    "def score(solution: pd.DataFrame, submission: pd.DataFrame, row_id_column_name: str) -> float:\n",
    "    del solution[row_id_column_name]\n",
    "    del submission[row_id_column_name]\n",
    "    \n",
    "    event_label = 'efs'\n",
    "    interval_label = 'efs_time'\n",
    "    prediction_label = 'predictions'\n",
    "    for col in submission.columns:\n",
    "        if not pandas.api.types.is_numeric_dtype(submission[col]):\n",
    "            raise ParticipantVisibleError(f'Submission column {col} must be a number')\n",
    "    # Merging solution and submission dfs on ID\n",
    "    merged_df = pd.concat([solution, submission], axis=1)\n",
    "    merged_df.reset_index(inplace=True)\n",
    "    merged_df_race_dict = dict(merged_df.groupby(['race_group']).groups)\n",
    "    metric_list = []\n",
    "\n",
    "    for race in merged_df_race_dict.keys():\n",
    "        # Retrieving values from y_test based on index\n",
    "        indices = sorted(merged_df_race_dict[race])\n",
    "        merged_df_race = merged_df.iloc[indices]\n",
    "        # Calculate the concordance index\n",
    "        c_index_race = concordance_index(\n",
    "                        merged_df_race[interval_label],\n",
    "                        -merged_df_race[prediction_label],\n",
    "                        merged_df_race[event_label])\n",
    "        metric_list.append(c_index_race)\n",
    "    return float(np.mean(metric_list)-np.sqrt(np.var(metric_list)))"
   ]
  },
  {
   "cell_type": "markdown",
   "id": "c9a5acd6",
   "metadata": {
    "papermill": {
     "duration": 0.015169,
     "end_time": "2025-02-22T05:37:49.378573",
     "exception": false,
     "start_time": "2025-02-22T05:37:49.363404",
     "status": "completed"
    },
    "tags": []
   },
   "source": [
    "## Step 4: Find best model "
   ]
  },
  {
   "cell_type": "code",
   "execution_count": 7,
   "id": "c352433b",
   "metadata": {
    "execution": {
     "iopub.execute_input": "2025-02-22T05:37:49.404998Z",
     "iopub.status.busy": "2025-02-22T05:37:49.404596Z",
     "iopub.status.idle": "2025-02-22T05:37:49.409877Z",
     "shell.execute_reply": "2025-02-22T05:37:49.408621Z"
    },
    "papermill": {
     "duration": 0.020805,
     "end_time": "2025-02-22T05:37:49.411995",
     "exception": false,
     "start_time": "2025-02-22T05:37:49.391190",
     "status": "completed"
    },
    "tags": []
   },
   "outputs": [],
   "source": [
    "parquet_experiments = [\n",
    "    \"/kaggle/input/abd-exp-01\",\n",
    "    \"/kaggle/input/lgbm-exp-04\", \n",
    "    \"/kaggle/input/catboost-exp-01\", \n",
    "    \"/kaggle/input/lgbm-exp-01\", \n",
    "    \"/kaggle/input/lgbm-exp-03\", \n",
    "    \"/kaggle/input/ds-exp-01\",\n",
    "    \"/kaggle/input/nn-exp-02\",\n",
    "    \"/kaggle/input/nn-exp-04\",\n",
    "    \"/kaggle/input/tabm-exp-03\",\n",
    "    \"/kaggle/input/catboost-exp-05\",\n",
    "    \"/kaggle/input/xgboost-exp-05\",\n",
    "    \"/kaggle/input/lgbm-exp-05\",\n",
    "    \"/kaggle/input/tn-exp-02\",\n",
    "    #\"/kaggle/input/ag-exp-01\",\n",
    "    \"/kaggle/input/vr-exp-01\",\n",
    "    \"/kaggle/input/tt-exp-01\",\n",
    "    \"/kaggle/input/en-exp-01\",\n",
    "    \"/kaggle/input/svr-exp-01\",\n",
    "    \"/kaggle/input/en-exp-02\",\n",
    "    \"/kaggle/input/nn-exp-05\",\n",
    "    \"/kaggle/input/rf-exp-05\",\n",
    "    \"/kaggle/input/mcts-exp-02\",\n",
    "    \"/kaggle/input/catboost-exp-06\",\n",
    "    \"/kaggle/input/xgboost-exp-06\",\n",
    "    \"/kaggle/input/lgbm-exp-06\",\n",
    "    \"/kaggle/input/nn-exp-06\",\n",
    "    \"/kaggle/input/xgboost-exp-07\",\n",
    "    \"/kaggle/input/ri-exp-01\",\n",
    "    \"/kaggle/input/xgboost-exp-08\",\n",
    "    \"/kaggle/input/catboost-exp-08\",\n",
    "    \"/kaggle/input/lgbm-exp-08\",\n",
    "    \"/kaggle/input/xgboost-exp-09\"\n",
    "]"
   ]
  },
  {
   "cell_type": "code",
   "execution_count": 8,
   "id": "f604db6a",
   "metadata": {
    "execution": {
     "iopub.execute_input": "2025-02-22T05:37:49.437728Z",
     "iopub.status.busy": "2025-02-22T05:37:49.437281Z",
     "iopub.status.idle": "2025-02-22T05:37:49.442969Z",
     "shell.execute_reply": "2025-02-22T05:37:49.441705Z"
    },
    "papermill": {
     "duration": 0.020635,
     "end_time": "2025-02-22T05:37:49.444862",
     "exception": false,
     "start_time": "2025-02-22T05:37:49.424227",
     "status": "completed"
    },
    "tags": []
   },
   "outputs": [],
   "source": [
    "def compute_metric_cindex(oof, exp_name):    \n",
    "    y_true = oof[[\"ID\",\"efs\",\"efs_time\",\"race_group\"]].copy()\n",
    "    y_pred = oof[[\"ID\",\"predictions\"]].copy()\n",
    "    return score(y_true.copy(), y_pred.copy(), \"ID\"), oof"
   ]
  },
  {
   "cell_type": "code",
   "execution_count": 9,
   "id": "948b2910",
   "metadata": {
    "execution": {
     "iopub.execute_input": "2025-02-22T05:37:49.469826Z",
     "iopub.status.busy": "2025-02-22T05:37:49.469358Z",
     "iopub.status.idle": "2025-02-22T05:42:16.638458Z",
     "shell.execute_reply": "2025-02-22T05:42:16.637138Z"
    },
    "papermill": {
     "duration": 267.184294,
     "end_time": "2025-02-22T05:42:16.640873",
     "exception": false,
     "start_time": "2025-02-22T05:37:49.456579",
     "status": "completed"
    },
    "tags": []
   },
   "outputs": [
    {
     "name": "stderr",
     "output_type": "stream",
     "text": [
      "100%|██████████| 40/40 [04:04<00:00,  6.11s/it]\n"
     ]
    }
   ],
   "source": [
    "from tqdm import tqdm\n",
    "import pandas as pd\n",
    "\n",
    "# Initialize empty list to store individual prediction dataframes\n",
    "dfs_to_merge = []\n",
    "\n",
    "# Load first experiment to get the base structure\n",
    "base_exp = experiments[0]\n",
    "if base_exp in parquet_experiments:\n",
    "    base_df = pd.read_parquet(base_exp + '/' + (base_exp.split('/')[-1]).replace('-','_') + '_oof.parquet')\n",
    "else:\n",
    "    base_df = pd.read_excel(base_exp + '/' + (base_exp.split('/')[-1]).replace('-','_') + '_oof.xlsx')\n",
    "\n",
    "# Create base dataframe with ID and target variables\n",
    "preds_df = base_df[[\"ID\", \"efs\", \"efs_time\", \"race_group\"]].copy()\n",
    "\n",
    "# Load and merge predictions from each experiment\n",
    "for exp_name in tqdm(experiments):\n",
    "    # Read the prediction file\n",
    "    if exp_name in parquet_experiments:\n",
    "        if \"mcts-exp-02\" in exp_name:\n",
    "            curr_df = pd.read_parquet(exp_name + '/mcts_exp_01' + '_oof.parquet')\n",
    "        else:\n",
    "            curr_df = pd.read_parquet(exp_name + '/' + (exp_name.split('/')[-1]).replace('-','_') + '_oof.parquet')\n",
    "    else:\n",
    "        curr_df = pd.read_excel(exp_name + '/' + (exp_name.split('/')[-1]).replace('-','_') + '_oof.xlsx')\n",
    "    \n",
    "    # Create a temporary dataframe with ID and predictions\n",
    "    temp_df = curr_df[[\"ID\", \"predictions\"]].copy()\n",
    "    temp_df = temp_df.rename(columns={\"predictions\": exp_name})\n",
    "    \n",
    "    # Merge with the main dataframe\n",
    "    preds_df = preds_df.merge(temp_df, on=\"ID\", how=\"left\")"
   ]
  },
  {
   "cell_type": "code",
   "execution_count": 10,
   "id": "962cbc66",
   "metadata": {
    "execution": {
     "iopub.execute_input": "2025-02-22T05:42:16.671606Z",
     "iopub.status.busy": "2025-02-22T05:42:16.670912Z",
     "iopub.status.idle": "2025-02-22T05:42:16.679575Z",
     "shell.execute_reply": "2025-02-22T05:42:16.678138Z"
    },
    "papermill": {
     "duration": 0.026273,
     "end_time": "2025-02-22T05:42:16.681636",
     "exception": false,
     "start_time": "2025-02-22T05:42:16.655363",
     "status": "completed"
    },
    "tags": []
   },
   "outputs": [
    {
     "data": {
      "text/plain": [
       "((28800, 44),\n",
       " Index(['ID', 'efs', 'efs_time', 'race_group', '/kaggle/input/xgboost-exp-01',\n",
       "        '/kaggle/input/catboost-exp-01', '/kaggle/input/lgbm-exp-01',\n",
       "        '/kaggle/input/xgboost-exp-02', '/kaggle/input/catboost-exp-02',\n",
       "        '/kaggle/input/lgbm-exp-03', '/kaggle/input/catboost-exp-03',\n",
       "        '/kaggle/input/tabm-exp-01', '/kaggle/input/nn-exp-01',\n",
       "        '/kaggle/input/tn-exp-01', '/kaggle/input/tf-exp-01',\n",
       "        '/kaggle/input/svr-exp-01', '/kaggle/input/abd-exp-01',\n",
       "        '/kaggle/input/catboost-exp-04', '/kaggle/input/lgbm-exp-04',\n",
       "        '/kaggle/input/tabm-exp-02', '/kaggle/input/ds-exp-01',\n",
       "        '/kaggle/input/nn-exp-02', '/kaggle/input/nn-exp-04',\n",
       "        '/kaggle/input/catboost-exp-05', '/kaggle/input/xgboost-exp-05',\n",
       "        '/kaggle/input/lgbm-exp-05', '/kaggle/input/tn-exp-02',\n",
       "        '/kaggle/input/vr-exp-01', '/kaggle/input/tt-exp-01',\n",
       "        '/kaggle/input/en-exp-01', '/kaggle/input/en-exp-02',\n",
       "        '/kaggle/input/nn-exp-05', '/kaggle/input/rf-exp-05',\n",
       "        '/kaggle/input/mcts-exp-02', '/kaggle/input/catboost-exp-06',\n",
       "        '/kaggle/input/xgboost-exp-06', '/kaggle/input/lgbm-exp-06',\n",
       "        '/kaggle/input/nn-exp-06', '/kaggle/input/xgboost-exp-07',\n",
       "        '/kaggle/input/ri-exp-01', '/kaggle/input/xgboost-exp-08',\n",
       "        '/kaggle/input/catboost-exp-08', '/kaggle/input/lgbm-exp-08',\n",
       "        '/kaggle/input/xgboost-exp-09'],\n",
       "       dtype='object'))"
      ]
     },
     "execution_count": 10,
     "metadata": {},
     "output_type": "execute_result"
    }
   ],
   "source": [
    "preds_df.shape, preds_df.columns     "
   ]
  },
  {
   "cell_type": "code",
   "execution_count": 11,
   "id": "68d39999",
   "metadata": {
    "execution": {
     "iopub.execute_input": "2025-02-22T05:42:16.711495Z",
     "iopub.status.busy": "2025-02-22T05:42:16.711152Z",
     "iopub.status.idle": "2025-02-22T05:42:16.717828Z",
     "shell.execute_reply": "2025-02-22T05:42:16.716811Z"
    },
    "papermill": {
     "duration": 0.023878,
     "end_time": "2025-02-22T05:42:16.719918",
     "exception": false,
     "start_time": "2025-02-22T05:42:16.696040",
     "status": "completed"
    },
    "tags": []
   },
   "outputs": [
    {
     "data": {
      "text/plain": [
       "['/kaggle/input/xgboost-exp-01',\n",
       " '/kaggle/input/catboost-exp-01',\n",
       " '/kaggle/input/lgbm-exp-01',\n",
       " '/kaggle/input/xgboost-exp-02',\n",
       " '/kaggle/input/catboost-exp-02',\n",
       " '/kaggle/input/lgbm-exp-03',\n",
       " '/kaggle/input/catboost-exp-03',\n",
       " '/kaggle/input/tabm-exp-01',\n",
       " '/kaggle/input/nn-exp-01',\n",
       " '/kaggle/input/tn-exp-01',\n",
       " '/kaggle/input/tf-exp-01',\n",
       " '/kaggle/input/svr-exp-01',\n",
       " '/kaggle/input/abd-exp-01',\n",
       " '/kaggle/input/catboost-exp-04',\n",
       " '/kaggle/input/lgbm-exp-04',\n",
       " '/kaggle/input/tabm-exp-02',\n",
       " '/kaggle/input/ds-exp-01',\n",
       " '/kaggle/input/nn-exp-02',\n",
       " '/kaggle/input/nn-exp-04',\n",
       " '/kaggle/input/catboost-exp-05',\n",
       " '/kaggle/input/xgboost-exp-05',\n",
       " '/kaggle/input/lgbm-exp-05',\n",
       " '/kaggle/input/tn-exp-02',\n",
       " '/kaggle/input/vr-exp-01',\n",
       " '/kaggle/input/tt-exp-01',\n",
       " '/kaggle/input/en-exp-01',\n",
       " '/kaggle/input/en-exp-02',\n",
       " '/kaggle/input/nn-exp-05',\n",
       " '/kaggle/input/rf-exp-05',\n",
       " '/kaggle/input/mcts-exp-02',\n",
       " '/kaggle/input/catboost-exp-06',\n",
       " '/kaggle/input/xgboost-exp-06',\n",
       " '/kaggle/input/lgbm-exp-06',\n",
       " '/kaggle/input/nn-exp-06',\n",
       " '/kaggle/input/xgboost-exp-07',\n",
       " '/kaggle/input/ri-exp-01',\n",
       " '/kaggle/input/xgboost-exp-08',\n",
       " '/kaggle/input/catboost-exp-08',\n",
       " '/kaggle/input/lgbm-exp-08',\n",
       " '/kaggle/input/xgboost-exp-09']"
      ]
     },
     "execution_count": 11,
     "metadata": {},
     "output_type": "execute_result"
    }
   ],
   "source": [
    "experiments"
   ]
  },
  {
   "cell_type": "code",
   "execution_count": 12,
   "id": "dcdf328e",
   "metadata": {
    "execution": {
     "iopub.execute_input": "2025-02-22T05:42:16.751341Z",
     "iopub.status.busy": "2025-02-22T05:42:16.750979Z",
     "iopub.status.idle": "2025-02-22T05:42:32.215118Z",
     "shell.execute_reply": "2025-02-22T05:42:32.213691Z"
    },
    "papermill": {
     "duration": 15.481461,
     "end_time": "2025-02-22T05:42:32.217104",
     "exception": false,
     "start_time": "2025-02-22T05:42:16.735643",
     "status": "completed"
    },
    "tags": []
   },
   "outputs": [
    {
     "name": "stdout",
     "output_type": "stream",
     "text": [
      "C-index 0.6743662038463064 /kaggle/input/xgboost-exp-01\n",
      "C-index 0.673797469068503 /kaggle/input/catboost-exp-01\n",
      "C-index 0.6735659109490936 /kaggle/input/lgbm-exp-01\n",
      "C-index 0.6719739976829171 /kaggle/input/xgboost-exp-02\n",
      "C-index 0.6715438291634074 /kaggle/input/catboost-exp-02\n",
      "C-index 0.6744113273004797 /kaggle/input/lgbm-exp-03\n",
      "C-index 0.6750446351219317 /kaggle/input/catboost-exp-03\n",
      "C-index 0.6698445972872783 /kaggle/input/tabm-exp-01\n",
      "C-index 0.6672504731273489 /kaggle/input/nn-exp-01\n",
      "C-index 0.6082304286386713 /kaggle/input/tn-exp-01\n",
      "C-index 0.6609386133349129 /kaggle/input/tf-exp-01\n",
      "C-index 0.6204664346764159 /kaggle/input/svr-exp-01\n",
      "C-index 0.6775546112659996 /kaggle/input/abd-exp-01\n",
      "C-index 0.6228381497451487 /kaggle/input/catboost-exp-04\n",
      "C-index 0.6216961934710434 /kaggle/input/lgbm-exp-04\n",
      "C-index 0.6777472728532595 /kaggle/input/tabm-exp-02\n",
      "C-index 0.6427991982766068 /kaggle/input/ds-exp-01\n",
      "C-index 0.6541867987232884 /kaggle/input/nn-exp-02\n",
      "C-index 0.6794831551153862 /kaggle/input/nn-exp-04\n",
      "I am here\n",
      "C-index 0.680734863930053 /kaggle/input/catboost-exp-05\n",
      "C-index 0.6801801958617659 /kaggle/input/xgboost-exp-05\n",
      "C-index 0.6791851357350963 /kaggle/input/lgbm-exp-05\n",
      "C-index 0.659742829229569 /kaggle/input/tn-exp-02\n",
      "C-index 0.6754542289908226 /kaggle/input/vr-exp-01\n",
      "C-index 0.6051212359506114 /kaggle/input/tt-exp-01\n",
      "C-index 0.6244728416862964 /kaggle/input/en-exp-01\n",
      "C-index 0.6417663206377346 /kaggle/input/en-exp-02\n",
      "C-index 0.6794831551153862 /kaggle/input/nn-exp-05\n",
      "C-index 0.6511582598647447 /kaggle/input/rf-exp-05\n",
      "C-index 0.6113856489762708 /kaggle/input/mcts-exp-02\n",
      "C-index 0.6805225213899068 /kaggle/input/catboost-exp-06\n",
      "C-index 0.6795077628167032 /kaggle/input/xgboost-exp-06\n",
      "C-index 0.6791063706461627 /kaggle/input/lgbm-exp-06\n",
      "C-index 0.6804090466531342 /kaggle/input/nn-exp-06\n",
      "C-index 0.6797980742985197 /kaggle/input/xgboost-exp-07\n",
      "C-index 0.6241849482559193 /kaggle/input/ri-exp-01\n",
      "C-index 0.6798723688263519 /kaggle/input/xgboost-exp-08\n",
      "C-index 0.6785727820807782 /kaggle/input/catboost-exp-08\n",
      "C-index 0.6786178926206528 /kaggle/input/lgbm-exp-08\n",
      "C-index 0.681724483438663 /kaggle/input/xgboost-exp-09\n",
      "\n",
      "Best single model is /kaggle/input/xgboost-exp-09 with C-Index = 0.681724483438663\n"
     ]
    }
   ],
   "source": [
    "best_score    = 0\n",
    "best_index    = -1\n",
    "best_ensemble = 0\n",
    "\n",
    "for k,name in enumerate(experiments):\n",
    "    if \"catboost-exp-05\" in name:\n",
    "        print(\"I am here\")\n",
    "    oof_pre = preds_df[[\"ID\",\"efs\",\"efs_time\",\"race_group\",name]]\n",
    "    oof_pre = oof_pre.rename(columns={name: \"predictions\"})\n",
    "    s, oof = compute_metric_cindex(oof_pre, name)\n",
    "    if s > best_score:\n",
    "        best_score    = s\n",
    "        best_index    = name\n",
    "        best_ensemble = oof\n",
    "        \n",
    "    print(f'C-index {s} {name}') \n",
    "print()\n",
    "print(f'Best single model is {best_index} with C-Index = {best_score}')\n",
    "experiments.remove(best_index)\n",
    "first_best_index = best_index"
   ]
  },
  {
   "cell_type": "code",
   "execution_count": 13,
   "id": "844f08a8",
   "metadata": {
    "execution": {
     "iopub.execute_input": "2025-02-22T05:42:32.251429Z",
     "iopub.status.busy": "2025-02-22T05:42:32.251060Z",
     "iopub.status.idle": "2025-02-22T05:42:32.257724Z",
     "shell.execute_reply": "2025-02-22T05:42:32.256369Z"
    },
    "papermill": {
     "duration": 0.026409,
     "end_time": "2025-02-22T05:42:32.259631",
     "exception": false,
     "start_time": "2025-02-22T05:42:32.233222",
     "status": "completed"
    },
    "tags": []
   },
   "outputs": [
    {
     "data": {
      "text/plain": [
       "['/kaggle/input/xgboost-exp-01',\n",
       " '/kaggle/input/catboost-exp-01',\n",
       " '/kaggle/input/lgbm-exp-01',\n",
       " '/kaggle/input/xgboost-exp-02',\n",
       " '/kaggle/input/catboost-exp-02',\n",
       " '/kaggle/input/lgbm-exp-03',\n",
       " '/kaggle/input/catboost-exp-03',\n",
       " '/kaggle/input/tabm-exp-01',\n",
       " '/kaggle/input/nn-exp-01',\n",
       " '/kaggle/input/tn-exp-01',\n",
       " '/kaggle/input/tf-exp-01',\n",
       " '/kaggle/input/svr-exp-01',\n",
       " '/kaggle/input/abd-exp-01',\n",
       " '/kaggle/input/catboost-exp-04',\n",
       " '/kaggle/input/lgbm-exp-04',\n",
       " '/kaggle/input/tabm-exp-02',\n",
       " '/kaggle/input/ds-exp-01',\n",
       " '/kaggle/input/nn-exp-02',\n",
       " '/kaggle/input/nn-exp-04',\n",
       " '/kaggle/input/catboost-exp-05',\n",
       " '/kaggle/input/xgboost-exp-05',\n",
       " '/kaggle/input/lgbm-exp-05',\n",
       " '/kaggle/input/tn-exp-02',\n",
       " '/kaggle/input/vr-exp-01',\n",
       " '/kaggle/input/tt-exp-01',\n",
       " '/kaggle/input/en-exp-01',\n",
       " '/kaggle/input/en-exp-02',\n",
       " '/kaggle/input/nn-exp-05',\n",
       " '/kaggle/input/rf-exp-05',\n",
       " '/kaggle/input/mcts-exp-02',\n",
       " '/kaggle/input/catboost-exp-06',\n",
       " '/kaggle/input/xgboost-exp-06',\n",
       " '/kaggle/input/lgbm-exp-06',\n",
       " '/kaggle/input/nn-exp-06',\n",
       " '/kaggle/input/xgboost-exp-07',\n",
       " '/kaggle/input/ri-exp-01',\n",
       " '/kaggle/input/xgboost-exp-08',\n",
       " '/kaggle/input/catboost-exp-08',\n",
       " '/kaggle/input/lgbm-exp-08']"
      ]
     },
     "execution_count": 13,
     "metadata": {},
     "output_type": "execute_result"
    }
   ],
   "source": [
    "experiments"
   ]
  },
  {
   "cell_type": "markdown",
   "id": "d4092806",
   "metadata": {
    "papermill": {
     "duration": 0.015523,
     "end_time": "2025-02-22T05:42:32.291991",
     "exception": false,
     "start_time": "2025-02-22T05:42:32.276468",
     "status": "completed"
    },
    "tags": []
   },
   "source": [
    "## Step 5: Iterations for hill climbing"
   ]
  },
  {
   "cell_type": "code",
   "execution_count": 14,
   "id": "9df3bbe7",
   "metadata": {
    "execution": {
     "iopub.execute_input": "2025-02-22T05:42:32.325624Z",
     "iopub.status.busy": "2025-02-22T05:42:32.325278Z",
     "iopub.status.idle": "2025-02-22T05:42:32.329561Z",
     "shell.execute_reply": "2025-02-22T05:42:32.328467Z"
    },
    "papermill": {
     "duration": 0.022691,
     "end_time": "2025-02-22T05:42:32.331316",
     "exception": false,
     "start_time": "2025-02-22T05:42:32.308625",
     "status": "completed"
    },
    "tags": []
   },
   "outputs": [],
   "source": [
    "USE_NEGATIVE_WGT = True"
   ]
  },
  {
   "cell_type": "code",
   "execution_count": 15,
   "id": "9a8676a6",
   "metadata": {
    "execution": {
     "iopub.execute_input": "2025-02-22T05:42:32.364544Z",
     "iopub.status.busy": "2025-02-22T05:42:32.364207Z",
     "iopub.status.idle": "2025-02-22T05:42:32.368387Z",
     "shell.execute_reply": "2025-02-22T05:42:32.367334Z"
    },
    "papermill": {
     "duration": 0.022928,
     "end_time": "2025-02-22T05:42:32.370187",
     "exception": false,
     "start_time": "2025-02-22T05:42:32.347259",
     "status": "completed"
    },
    "tags": []
   },
   "outputs": [],
   "source": [
    "indices        = [best_index]\n",
    "old_best_score = best_score"
   ]
  },
  {
   "cell_type": "code",
   "execution_count": 16,
   "id": "aec88f0f",
   "metadata": {
    "execution": {
     "iopub.execute_input": "2025-02-22T05:42:32.402913Z",
     "iopub.status.busy": "2025-02-22T05:42:32.402518Z",
     "iopub.status.idle": "2025-02-22T05:42:32.407330Z",
     "shell.execute_reply": "2025-02-22T05:42:32.406185Z"
    },
    "papermill": {
     "duration": 0.02315,
     "end_time": "2025-02-22T05:42:32.409098",
     "exception": false,
     "start_time": "2025-02-22T05:42:32.385948",
     "status": "completed"
    },
    "tags": []
   },
   "outputs": [],
   "source": [
    "# PREPARE/MOVE VARIABLES TO GPU FOR SPEED UP\n",
    "best_ensemble = best_ensemble\n",
    "start         = -0.50\n",
    "if not USE_NEGATIVE_WGT: start = 0.01\n",
    "ww            = np.arange(start,0.51,0.01) # GPU\n",
    "nn            = len(ww)"
   ]
  },
  {
   "cell_type": "code",
   "execution_count": 17,
   "id": "359ec853",
   "metadata": {
    "execution": {
     "iopub.execute_input": "2025-02-22T05:42:32.441967Z",
     "iopub.status.busy": "2025-02-22T05:42:32.441534Z",
     "iopub.status.idle": "2025-02-22T05:42:32.445858Z",
     "shell.execute_reply": "2025-02-22T05:42:32.444777Z"
    },
    "papermill": {
     "duration": 0.02241,
     "end_time": "2025-02-22T05:42:32.447514",
     "exception": false,
     "start_time": "2025-02-22T05:42:32.425104",
     "status": "completed"
    },
    "tags": []
   },
   "outputs": [],
   "source": [
    "# BEGIN HILL CLIMBING\n",
    "models  = [best_index]\n",
    "weights = []\n",
    "metrics = [best_score]"
   ]
  },
  {
   "cell_type": "code",
   "execution_count": 18,
   "id": "8d15b87a",
   "metadata": {
    "execution": {
     "iopub.execute_input": "2025-02-22T05:42:32.480309Z",
     "iopub.status.busy": "2025-02-22T05:42:32.479886Z",
     "iopub.status.idle": "2025-02-22T05:42:32.487260Z",
     "shell.execute_reply": "2025-02-22T05:42:32.486265Z"
    },
    "papermill": {
     "duration": 0.02573,
     "end_time": "2025-02-22T05:42:32.489049",
     "exception": false,
     "start_time": "2025-02-22T05:42:32.463319",
     "status": "completed"
    },
    "tags": []
   },
   "outputs": [
    {
     "data": {
      "text/plain": [
       "(['/kaggle/input/xgboost-exp-09'],\n",
       " [0.681724483438663],\n",
       " array([-5.0000000e-01, -4.9000000e-01, -4.8000000e-01, -4.7000000e-01,\n",
       "        -4.6000000e-01, -4.5000000e-01, -4.4000000e-01, -4.3000000e-01,\n",
       "        -4.2000000e-01, -4.1000000e-01, -4.0000000e-01, -3.9000000e-01,\n",
       "        -3.8000000e-01, -3.7000000e-01, -3.6000000e-01, -3.5000000e-01,\n",
       "        -3.4000000e-01, -3.3000000e-01, -3.2000000e-01, -3.1000000e-01,\n",
       "        -3.0000000e-01, -2.9000000e-01, -2.8000000e-01, -2.7000000e-01,\n",
       "        -2.6000000e-01, -2.5000000e-01, -2.4000000e-01, -2.3000000e-01,\n",
       "        -2.2000000e-01, -2.1000000e-01, -2.0000000e-01, -1.9000000e-01,\n",
       "        -1.8000000e-01, -1.7000000e-01, -1.6000000e-01, -1.5000000e-01,\n",
       "        -1.4000000e-01, -1.3000000e-01, -1.2000000e-01, -1.1000000e-01,\n",
       "        -1.0000000e-01, -9.0000000e-02, -8.0000000e-02, -7.0000000e-02,\n",
       "        -6.0000000e-02, -5.0000000e-02, -4.0000000e-02, -3.0000000e-02,\n",
       "        -2.0000000e-02, -1.0000000e-02,  4.4408921e-16,  1.0000000e-02,\n",
       "         2.0000000e-02,  3.0000000e-02,  4.0000000e-02,  5.0000000e-02,\n",
       "         6.0000000e-02,  7.0000000e-02,  8.0000000e-02,  9.0000000e-02,\n",
       "         1.0000000e-01,  1.1000000e-01,  1.2000000e-01,  1.3000000e-01,\n",
       "         1.4000000e-01,  1.5000000e-01,  1.6000000e-01,  1.7000000e-01,\n",
       "         1.8000000e-01,  1.9000000e-01,  2.0000000e-01,  2.1000000e-01,\n",
       "         2.2000000e-01,  2.3000000e-01,  2.4000000e-01,  2.5000000e-01,\n",
       "         2.6000000e-01,  2.7000000e-01,  2.8000000e-01,  2.9000000e-01,\n",
       "         3.0000000e-01,  3.1000000e-01,  3.2000000e-01,  3.3000000e-01,\n",
       "         3.4000000e-01,  3.5000000e-01,  3.6000000e-01,  3.7000000e-01,\n",
       "         3.8000000e-01,  3.9000000e-01,  4.0000000e-01,  4.1000000e-01,\n",
       "         4.2000000e-01,  4.3000000e-01,  4.4000000e-01,  4.5000000e-01,\n",
       "         4.6000000e-01,  4.7000000e-01,  4.8000000e-01,  4.9000000e-01,\n",
       "         5.0000000e-01]))"
      ]
     },
     "execution_count": 18,
     "metadata": {},
     "output_type": "execute_result"
    }
   ],
   "source": [
    "models, metrics, ww"
   ]
  },
  {
   "cell_type": "code",
   "execution_count": 19,
   "id": "432be21d",
   "metadata": {
    "execution": {
     "iopub.execute_input": "2025-02-22T05:42:32.522314Z",
     "iopub.status.busy": "2025-02-22T05:42:32.521978Z",
     "iopub.status.idle": "2025-02-22T12:37:11.406153Z",
     "shell.execute_reply": "2025-02-22T12:37:11.404941Z"
    },
    "papermill": {
     "duration": 24878.903275,
     "end_time": "2025-02-22T12:37:11.408276",
     "exception": false,
     "start_time": "2025-02-22T05:42:32.505001",
     "status": "completed"
    },
    "tags": []
   },
   "outputs": [
    {
     "name": "stdout",
     "output_type": "stream",
     "text": [
      "0th iteration\n"
     ]
    },
    {
     "name": "stderr",
     "output_type": "stream",
     "text": [
      "Testing weights for xgboost_exp_01: 100%|██████████| 101/101 [00:39<00:00,  2.57it/s]\n",
      "Testing weights for catboost_exp_01: 100%|██████████| 101/101 [00:39<00:00,  2.57it/s]\n",
      "Testing weights for lgbm_exp_01: 100%|██████████| 101/101 [00:39<00:00,  2.54it/s]\n",
      "Testing weights for xgboost_exp_02: 100%|██████████| 101/101 [00:39<00:00,  2.57it/s]\n",
      "Testing weights for catboost_exp_02: 100%|██████████| 101/101 [00:39<00:00,  2.57it/s]\n",
      "Testing weights for lgbm_exp_03: 100%|██████████| 101/101 [00:39<00:00,  2.56it/s]\n",
      "Testing weights for catboost_exp_03: 100%|██████████| 101/101 [00:39<00:00,  2.55it/s]\n",
      "Testing weights for tabm_exp_01: 100%|██████████| 101/101 [00:39<00:00,  2.58it/s]\n",
      "Testing weights for nn_exp_01: 100%|██████████| 101/101 [00:39<00:00,  2.56it/s]\n",
      "Testing weights for tn_exp_01: 100%|██████████| 101/101 [00:39<00:00,  2.57it/s]\n",
      "Testing weights for tf_exp_01: 100%|██████████| 101/101 [00:39<00:00,  2.56it/s]\n",
      "Testing weights for svr_exp_01: 100%|██████████| 101/101 [00:39<00:00,  2.53it/s]\n",
      "Testing weights for abd_exp_01: 100%|██████████| 101/101 [00:39<00:00,  2.56it/s]\n",
      "Testing weights for catboost_exp_04: 100%|██████████| 101/101 [00:39<00:00,  2.56it/s]\n",
      "Testing weights for lgbm_exp_04: 100%|██████████| 101/101 [00:39<00:00,  2.56it/s]\n",
      "Testing weights for tabm_exp_02: 100%|██████████| 101/101 [00:39<00:00,  2.57it/s]\n",
      "Testing weights for ds_exp_01: 100%|██████████| 101/101 [00:39<00:00,  2.56it/s]\n",
      "Testing weights for nn_exp_02: 100%|██████████| 101/101 [00:39<00:00,  2.56it/s]\n",
      "Testing weights for nn_exp_04: 100%|██████████| 101/101 [00:39<00:00,  2.57it/s]\n",
      "Testing weights for catboost_exp_05: 100%|██████████| 101/101 [00:39<00:00,  2.58it/s]\n",
      "Testing weights for xgboost_exp_05: 100%|██████████| 101/101 [00:39<00:00,  2.57it/s]\n",
      "Testing weights for lgbm_exp_05: 100%|██████████| 101/101 [00:39<00:00,  2.58it/s]\n",
      "Testing weights for tn_exp_02: 100%|██████████| 101/101 [00:39<00:00,  2.57it/s]\n",
      "Testing weights for vr_exp_01: 100%|██████████| 101/101 [00:38<00:00,  2.59it/s]\n",
      "Testing weights for tt_exp_01: 100%|██████████| 101/101 [00:39<00:00,  2.58it/s]\n",
      "Testing weights for en_exp_01: 100%|██████████| 101/101 [00:39<00:00,  2.57it/s]\n",
      "Testing weights for en_exp_02: 100%|██████████| 101/101 [00:39<00:00,  2.56it/s]\n",
      "Testing weights for nn_exp_05: 100%|██████████| 101/101 [00:39<00:00,  2.58it/s]\n",
      "Testing weights for rf_exp_05: 100%|██████████| 101/101 [00:39<00:00,  2.58it/s]\n",
      "Testing weights for mcts_exp_02: 100%|██████████| 101/101 [00:39<00:00,  2.57it/s]\n",
      "Testing weights for catboost_exp_06: 100%|██████████| 101/101 [00:39<00:00,  2.56it/s]\n",
      "Testing weights for xgboost_exp_06: 100%|██████████| 101/101 [00:39<00:00,  2.58it/s]\n",
      "Testing weights for lgbm_exp_06: 100%|██████████| 101/101 [00:39<00:00,  2.58it/s]\n",
      "Testing weights for nn_exp_06: 100%|██████████| 101/101 [00:38<00:00,  2.59it/s]\n",
      "Testing weights for xgboost_exp_07: 100%|██████████| 101/101 [00:39<00:00,  2.58it/s]\n",
      "Testing weights for ri_exp_01: 100%|██████████| 101/101 [00:39<00:00,  2.59it/s]\n",
      "Testing weights for xgboost_exp_08: 100%|██████████| 101/101 [00:39<00:00,  2.57it/s]\n",
      "Testing weights for catboost_exp_08: 100%|██████████| 101/101 [00:39<00:00,  2.57it/s]\n",
      "Testing weights for lgbm_exp_08: 100%|██████████| 101/101 [00:39<00:00,  2.54it/s]\n"
     ]
    },
    {
     "name": "stdout",
     "output_type": "stream",
     "text": [
      "Iteration 1: Added /kaggle/input/nn-exp-06 with weight 0.4500, Score: 0.6851\n",
      "1th iteration\n"
     ]
    },
    {
     "name": "stderr",
     "output_type": "stream",
     "text": [
      "Testing weights for xgboost_exp_01: 100%|██████████| 101/101 [00:39<00:00,  2.57it/s]\n",
      "Testing weights for catboost_exp_01: 100%|██████████| 101/101 [00:39<00:00,  2.57it/s]\n",
      "Testing weights for lgbm_exp_01: 100%|██████████| 101/101 [00:39<00:00,  2.54it/s]\n",
      "Testing weights for xgboost_exp_02: 100%|██████████| 101/101 [00:39<00:00,  2.56it/s]\n",
      "Testing weights for catboost_exp_02: 100%|██████████| 101/101 [00:39<00:00,  2.55it/s]\n",
      "Testing weights for lgbm_exp_03: 100%|██████████| 101/101 [00:39<00:00,  2.56it/s]\n",
      "Testing weights for catboost_exp_03: 100%|██████████| 101/101 [00:39<00:00,  2.57it/s]\n",
      "Testing weights for tabm_exp_01: 100%|██████████| 101/101 [00:39<00:00,  2.57it/s]\n",
      "Testing weights for nn_exp_01: 100%|██████████| 101/101 [00:39<00:00,  2.58it/s]\n",
      "Testing weights for tn_exp_01: 100%|██████████| 101/101 [00:39<00:00,  2.57it/s]\n",
      "Testing weights for tf_exp_01: 100%|██████████| 101/101 [00:39<00:00,  2.58it/s]\n",
      "Testing weights for svr_exp_01: 100%|██████████| 101/101 [00:39<00:00,  2.57it/s]\n",
      "Testing weights for abd_exp_01: 100%|██████████| 101/101 [00:39<00:00,  2.58it/s]\n",
      "Testing weights for catboost_exp_04: 100%|██████████| 101/101 [00:39<00:00,  2.57it/s]\n",
      "Testing weights for lgbm_exp_04: 100%|██████████| 101/101 [00:39<00:00,  2.57it/s]\n",
      "Testing weights for tabm_exp_02: 100%|██████████| 101/101 [00:39<00:00,  2.56it/s]\n",
      "Testing weights for ds_exp_01: 100%|██████████| 101/101 [00:39<00:00,  2.55it/s]\n",
      "Testing weights for nn_exp_02: 100%|██████████| 101/101 [00:39<00:00,  2.54it/s]\n",
      "Testing weights for nn_exp_04: 100%|██████████| 101/101 [00:39<00:00,  2.56it/s]\n",
      "Testing weights for catboost_exp_05: 100%|██████████| 101/101 [00:39<00:00,  2.55it/s]\n",
      "Testing weights for xgboost_exp_05: 100%|██████████| 101/101 [00:39<00:00,  2.54it/s]\n",
      "Testing weights for lgbm_exp_05: 100%|██████████| 101/101 [00:39<00:00,  2.54it/s]\n",
      "Testing weights for tn_exp_02: 100%|██████████| 101/101 [00:40<00:00,  2.52it/s]\n",
      "Testing weights for vr_exp_01: 100%|██████████| 101/101 [00:39<00:00,  2.54it/s]\n",
      "Testing weights for tt_exp_01: 100%|██████████| 101/101 [00:39<00:00,  2.56it/s]\n",
      "Testing weights for en_exp_01: 100%|██████████| 101/101 [00:39<00:00,  2.56it/s]\n",
      "Testing weights for en_exp_02: 100%|██████████| 101/101 [00:39<00:00,  2.55it/s]\n",
      "Testing weights for nn_exp_05: 100%|██████████| 101/101 [00:39<00:00,  2.56it/s]\n",
      "Testing weights for rf_exp_05: 100%|██████████| 101/101 [00:39<00:00,  2.57it/s]\n",
      "Testing weights for mcts_exp_02: 100%|██████████| 101/101 [00:39<00:00,  2.57it/s]\n",
      "Testing weights for catboost_exp_06: 100%|██████████| 101/101 [00:39<00:00,  2.57it/s]\n",
      "Testing weights for xgboost_exp_06: 100%|██████████| 101/101 [00:39<00:00,  2.55it/s]\n",
      "Testing weights for lgbm_exp_06: 100%|██████████| 101/101 [00:39<00:00,  2.55it/s]\n",
      "Testing weights for xgboost_exp_07: 100%|██████████| 101/101 [00:39<00:00,  2.56it/s]\n",
      "Testing weights for ri_exp_01: 100%|██████████| 101/101 [00:39<00:00,  2.55it/s]\n",
      "Testing weights for xgboost_exp_08: 100%|██████████| 101/101 [00:39<00:00,  2.55it/s]\n",
      "Testing weights for catboost_exp_08: 100%|██████████| 101/101 [00:39<00:00,  2.56it/s]\n",
      "Testing weights for lgbm_exp_08: 100%|██████████| 101/101 [00:39<00:00,  2.54it/s]\n"
     ]
    },
    {
     "name": "stdout",
     "output_type": "stream",
     "text": [
      "Iteration 2: Added /kaggle/input/catboost-exp-05 with weight 0.3200, Score: 0.6864\n",
      "2th iteration\n"
     ]
    },
    {
     "name": "stderr",
     "output_type": "stream",
     "text": [
      "Testing weights for xgboost_exp_01: 100%|██████████| 101/101 [00:39<00:00,  2.56it/s]\n",
      "Testing weights for catboost_exp_01: 100%|██████████| 101/101 [00:39<00:00,  2.56it/s]\n",
      "Testing weights for lgbm_exp_01: 100%|██████████| 101/101 [00:39<00:00,  2.55it/s]\n",
      "Testing weights for xgboost_exp_02: 100%|██████████| 101/101 [00:39<00:00,  2.55it/s]\n",
      "Testing weights for catboost_exp_02: 100%|██████████| 101/101 [00:39<00:00,  2.56it/s]\n",
      "Testing weights for lgbm_exp_03: 100%|██████████| 101/101 [00:39<00:00,  2.55it/s]\n",
      "Testing weights for catboost_exp_03: 100%|██████████| 101/101 [00:39<00:00,  2.56it/s]\n",
      "Testing weights for tabm_exp_01: 100%|██████████| 101/101 [00:39<00:00,  2.57it/s]\n",
      "Testing weights for nn_exp_01: 100%|██████████| 101/101 [00:39<00:00,  2.57it/s]\n",
      "Testing weights for tn_exp_01: 100%|██████████| 101/101 [00:39<00:00,  2.56it/s]\n",
      "Testing weights for tf_exp_01: 100%|██████████| 101/101 [00:39<00:00,  2.57it/s]\n",
      "Testing weights for svr_exp_01: 100%|██████████| 101/101 [00:39<00:00,  2.57it/s]\n",
      "Testing weights for abd_exp_01: 100%|██████████| 101/101 [00:39<00:00,  2.57it/s]\n",
      "Testing weights for catboost_exp_04: 100%|██████████| 101/101 [00:39<00:00,  2.56it/s]\n",
      "Testing weights for lgbm_exp_04: 100%|██████████| 101/101 [00:39<00:00,  2.57it/s]\n",
      "Testing weights for tabm_exp_02: 100%|██████████| 101/101 [00:39<00:00,  2.56it/s]\n",
      "Testing weights for ds_exp_01: 100%|██████████| 101/101 [00:39<00:00,  2.56it/s]\n",
      "Testing weights for nn_exp_02: 100%|██████████| 101/101 [00:39<00:00,  2.56it/s]\n",
      "Testing weights for nn_exp_04: 100%|██████████| 101/101 [00:39<00:00,  2.58it/s]\n",
      "Testing weights for xgboost_exp_05: 100%|██████████| 101/101 [00:39<00:00,  2.55it/s]\n",
      "Testing weights for lgbm_exp_05: 100%|██████████| 101/101 [00:39<00:00,  2.56it/s]\n",
      "Testing weights for tn_exp_02: 100%|██████████| 101/101 [00:39<00:00,  2.55it/s]\n",
      "Testing weights for vr_exp_01: 100%|██████████| 101/101 [00:39<00:00,  2.57it/s]\n",
      "Testing weights for tt_exp_01: 100%|██████████| 101/101 [00:39<00:00,  2.55it/s]\n",
      "Testing weights for en_exp_01: 100%|██████████| 101/101 [00:39<00:00,  2.55it/s]\n",
      "Testing weights for en_exp_02: 100%|██████████| 101/101 [00:39<00:00,  2.57it/s]\n",
      "Testing weights for nn_exp_05: 100%|██████████| 101/101 [00:39<00:00,  2.57it/s]\n",
      "Testing weights for rf_exp_05: 100%|██████████| 101/101 [00:39<00:00,  2.58it/s]\n",
      "Testing weights for mcts_exp_02: 100%|██████████| 101/101 [00:39<00:00,  2.57it/s]\n",
      "Testing weights for catboost_exp_06: 100%|██████████| 101/101 [00:39<00:00,  2.58it/s]\n",
      "Testing weights for xgboost_exp_06: 100%|██████████| 101/101 [00:39<00:00,  2.58it/s]\n",
      "Testing weights for lgbm_exp_06: 100%|██████████| 101/101 [00:39<00:00,  2.58it/s]\n",
      "Testing weights for xgboost_exp_07: 100%|██████████| 101/101 [00:39<00:00,  2.58it/s]\n",
      "Testing weights for ri_exp_01: 100%|██████████| 101/101 [00:39<00:00,  2.57it/s]\n",
      "Testing weights for xgboost_exp_08: 100%|██████████| 101/101 [00:39<00:00,  2.57it/s]\n",
      "Testing weights for catboost_exp_08: 100%|██████████| 101/101 [00:39<00:00,  2.58it/s]\n",
      "Testing weights for lgbm_exp_08: 100%|██████████| 101/101 [00:39<00:00,  2.58it/s]\n"
     ]
    },
    {
     "name": "stdout",
     "output_type": "stream",
     "text": [
      "Iteration 3: Added /kaggle/input/lgbm-exp-08 with weight -0.2400, Score: 0.6868\n",
      "3th iteration\n"
     ]
    },
    {
     "name": "stderr",
     "output_type": "stream",
     "text": [
      "Testing weights for xgboost_exp_01: 100%|██████████| 101/101 [00:39<00:00,  2.55it/s]\n",
      "Testing weights for catboost_exp_01: 100%|██████████| 101/101 [00:39<00:00,  2.57it/s]\n",
      "Testing weights for lgbm_exp_01: 100%|██████████| 101/101 [00:39<00:00,  2.57it/s]\n",
      "Testing weights for xgboost_exp_02: 100%|██████████| 101/101 [00:39<00:00,  2.56it/s]\n",
      "Testing weights for catboost_exp_02: 100%|██████████| 101/101 [00:39<00:00,  2.53it/s]\n",
      "Testing weights for lgbm_exp_03: 100%|██████████| 101/101 [00:39<00:00,  2.55it/s]\n",
      "Testing weights for catboost_exp_03: 100%|██████████| 101/101 [00:39<00:00,  2.57it/s]\n",
      "Testing weights for tabm_exp_01: 100%|██████████| 101/101 [00:39<00:00,  2.58it/s]\n",
      "Testing weights for nn_exp_01: 100%|██████████| 101/101 [00:39<00:00,  2.56it/s]\n",
      "Testing weights for tn_exp_01: 100%|██████████| 101/101 [00:39<00:00,  2.58it/s]\n",
      "Testing weights for tf_exp_01: 100%|██████████| 101/101 [00:39<00:00,  2.57it/s]\n",
      "Testing weights for svr_exp_01: 100%|██████████| 101/101 [00:39<00:00,  2.56it/s]\n",
      "Testing weights for abd_exp_01: 100%|██████████| 101/101 [00:39<00:00,  2.54it/s]\n",
      "Testing weights for catboost_exp_04: 100%|██████████| 101/101 [00:39<00:00,  2.56it/s]\n",
      "Testing weights for lgbm_exp_04: 100%|██████████| 101/101 [00:39<00:00,  2.56it/s]\n",
      "Testing weights for tabm_exp_02: 100%|██████████| 101/101 [00:39<00:00,  2.54it/s]\n",
      "Testing weights for ds_exp_01: 100%|██████████| 101/101 [00:39<00:00,  2.54it/s]\n",
      "Testing weights for nn_exp_02: 100%|██████████| 101/101 [00:39<00:00,  2.55it/s]\n",
      "Testing weights for nn_exp_04: 100%|██████████| 101/101 [00:39<00:00,  2.56it/s]\n",
      "Testing weights for xgboost_exp_05: 100%|██████████| 101/101 [00:39<00:00,  2.57it/s]\n",
      "Testing weights for lgbm_exp_05: 100%|██████████| 101/101 [00:39<00:00,  2.56it/s]\n",
      "Testing weights for tn_exp_02: 100%|██████████| 101/101 [00:39<00:00,  2.54it/s]\n",
      "Testing weights for vr_exp_01: 100%|██████████| 101/101 [00:39<00:00,  2.56it/s]\n",
      "Testing weights for tt_exp_01: 100%|██████████| 101/101 [00:39<00:00,  2.55it/s]\n",
      "Testing weights for en_exp_01: 100%|██████████| 101/101 [00:39<00:00,  2.57it/s]\n",
      "Testing weights for en_exp_02: 100%|██████████| 101/101 [00:39<00:00,  2.57it/s]\n",
      "Testing weights for nn_exp_05: 100%|██████████| 101/101 [00:39<00:00,  2.57it/s]\n",
      "Testing weights for rf_exp_05: 100%|██████████| 101/101 [00:39<00:00,  2.57it/s]\n",
      "Testing weights for mcts_exp_02: 100%|██████████| 101/101 [00:39<00:00,  2.58it/s]\n",
      "Testing weights for catboost_exp_06: 100%|██████████| 101/101 [00:39<00:00,  2.55it/s]\n",
      "Testing weights for xgboost_exp_06: 100%|██████████| 101/101 [00:39<00:00,  2.56it/s]\n",
      "Testing weights for lgbm_exp_06: 100%|██████████| 101/101 [00:39<00:00,  2.56it/s]\n",
      "Testing weights for xgboost_exp_07: 100%|██████████| 101/101 [00:39<00:00,  2.56it/s]\n",
      "Testing weights for ri_exp_01: 100%|██████████| 101/101 [00:39<00:00,  2.55it/s]\n",
      "Testing weights for xgboost_exp_08: 100%|██████████| 101/101 [00:39<00:00,  2.55it/s]\n",
      "Testing weights for catboost_exp_08: 100%|██████████| 101/101 [00:39<00:00,  2.55it/s]\n"
     ]
    },
    {
     "name": "stdout",
     "output_type": "stream",
     "text": [
      "Iteration 4: Added /kaggle/input/catboost-exp-01 with weight 0.0900, Score: 0.6869\n",
      "4th iteration\n"
     ]
    },
    {
     "name": "stderr",
     "output_type": "stream",
     "text": [
      "Testing weights for xgboost_exp_01: 100%|██████████| 101/101 [00:39<00:00,  2.53it/s]\n",
      "Testing weights for lgbm_exp_01: 100%|██████████| 101/101 [00:39<00:00,  2.56it/s]\n",
      "Testing weights for xgboost_exp_02: 100%|██████████| 101/101 [00:39<00:00,  2.57it/s]\n",
      "Testing weights for catboost_exp_02: 100%|██████████| 101/101 [00:39<00:00,  2.55it/s]\n",
      "Testing weights for lgbm_exp_03: 100%|██████████| 101/101 [00:39<00:00,  2.57it/s]\n",
      "Testing weights for catboost_exp_03: 100%|██████████| 101/101 [00:39<00:00,  2.56it/s]\n",
      "Testing weights for tabm_exp_01: 100%|██████████| 101/101 [00:39<00:00,  2.55it/s]\n",
      "Testing weights for nn_exp_01: 100%|██████████| 101/101 [00:39<00:00,  2.54it/s]\n",
      "Testing weights for tn_exp_01: 100%|██████████| 101/101 [00:39<00:00,  2.54it/s]\n",
      "Testing weights for tf_exp_01: 100%|██████████| 101/101 [00:40<00:00,  2.52it/s]\n",
      "Testing weights for svr_exp_01: 100%|██████████| 101/101 [00:39<00:00,  2.57it/s]\n",
      "Testing weights for abd_exp_01: 100%|██████████| 101/101 [00:40<00:00,  2.52it/s]\n",
      "Testing weights for catboost_exp_04: 100%|██████████| 101/101 [00:39<00:00,  2.55it/s]\n",
      "Testing weights for lgbm_exp_04: 100%|██████████| 101/101 [00:39<00:00,  2.56it/s]\n",
      "Testing weights for tabm_exp_02: 100%|██████████| 101/101 [00:39<00:00,  2.53it/s]\n",
      "Testing weights for ds_exp_01: 100%|██████████| 101/101 [00:40<00:00,  2.52it/s]\n",
      "Testing weights for nn_exp_02: 100%|██████████| 101/101 [00:39<00:00,  2.56it/s]\n",
      "Testing weights for nn_exp_04: 100%|██████████| 101/101 [00:39<00:00,  2.54it/s]\n",
      "Testing weights for xgboost_exp_05: 100%|██████████| 101/101 [00:39<00:00,  2.56it/s]\n",
      "Testing weights for lgbm_exp_05: 100%|██████████| 101/101 [00:39<00:00,  2.55it/s]\n",
      "Testing weights for tn_exp_02: 100%|██████████| 101/101 [00:39<00:00,  2.55it/s]\n",
      "Testing weights for vr_exp_01: 100%|██████████| 101/101 [00:39<00:00,  2.55it/s]\n",
      "Testing weights for tt_exp_01: 100%|██████████| 101/101 [00:39<00:00,  2.53it/s]\n",
      "Testing weights for en_exp_01: 100%|██████████| 101/101 [00:40<00:00,  2.52it/s]\n",
      "Testing weights for en_exp_02: 100%|██████████| 101/101 [00:39<00:00,  2.54it/s]\n",
      "Testing weights for nn_exp_05: 100%|██████████| 101/101 [00:39<00:00,  2.55it/s]\n",
      "Testing weights for rf_exp_05: 100%|██████████| 101/101 [00:39<00:00,  2.55it/s]\n",
      "Testing weights for mcts_exp_02: 100%|██████████| 101/101 [00:39<00:00,  2.55it/s]\n",
      "Testing weights for catboost_exp_06: 100%|██████████| 101/101 [00:39<00:00,  2.56it/s]\n",
      "Testing weights for xgboost_exp_06: 100%|██████████| 101/101 [00:39<00:00,  2.55it/s]\n",
      "Testing weights for lgbm_exp_06: 100%|██████████| 101/101 [00:39<00:00,  2.57it/s]\n",
      "Testing weights for xgboost_exp_07: 100%|██████████| 101/101 [00:39<00:00,  2.57it/s]\n",
      "Testing weights for ri_exp_01: 100%|██████████| 101/101 [00:39<00:00,  2.58it/s]\n",
      "Testing weights for xgboost_exp_08: 100%|██████████| 101/101 [00:39<00:00,  2.58it/s]\n",
      "Testing weights for catboost_exp_08: 100%|██████████| 101/101 [00:39<00:00,  2.57it/s]\n"
     ]
    },
    {
     "name": "stdout",
     "output_type": "stream",
     "text": [
      "Iteration 5: Added /kaggle/input/svr-exp-01 with weight -0.0300, Score: 0.6871\n",
      "5th iteration\n"
     ]
    },
    {
     "name": "stderr",
     "output_type": "stream",
     "text": [
      "Testing weights for xgboost_exp_01: 100%|██████████| 101/101 [00:39<00:00,  2.58it/s]\n",
      "Testing weights for lgbm_exp_01: 100%|██████████| 101/101 [00:39<00:00,  2.58it/s]\n",
      "Testing weights for xgboost_exp_02: 100%|██████████| 101/101 [00:39<00:00,  2.59it/s]\n",
      "Testing weights for catboost_exp_02: 100%|██████████| 101/101 [00:39<00:00,  2.58it/s]\n",
      "Testing weights for lgbm_exp_03: 100%|██████████| 101/101 [00:39<00:00,  2.57it/s]\n",
      "Testing weights for catboost_exp_03: 100%|██████████| 101/101 [00:39<00:00,  2.58it/s]\n",
      "Testing weights for tabm_exp_01: 100%|██████████| 101/101 [00:39<00:00,  2.57it/s]\n",
      "Testing weights for nn_exp_01: 100%|██████████| 101/101 [00:39<00:00,  2.59it/s]\n",
      "Testing weights for tn_exp_01: 100%|██████████| 101/101 [00:39<00:00,  2.59it/s]\n",
      "Testing weights for tf_exp_01: 100%|██████████| 101/101 [00:39<00:00,  2.58it/s]\n",
      "Testing weights for abd_exp_01: 100%|██████████| 101/101 [00:39<00:00,  2.59it/s]\n",
      "Testing weights for catboost_exp_04: 100%|██████████| 101/101 [00:39<00:00,  2.58it/s]\n",
      "Testing weights for lgbm_exp_04: 100%|██████████| 101/101 [00:39<00:00,  2.57it/s]\n",
      "Testing weights for tabm_exp_02: 100%|██████████| 101/101 [00:39<00:00,  2.58it/s]\n",
      "Testing weights for ds_exp_01: 100%|██████████| 101/101 [00:39<00:00,  2.59it/s]\n",
      "Testing weights for nn_exp_02: 100%|██████████| 101/101 [00:39<00:00,  2.58it/s]\n",
      "Testing weights for nn_exp_04: 100%|██████████| 101/101 [00:39<00:00,  2.57it/s]\n",
      "Testing weights for xgboost_exp_05: 100%|██████████| 101/101 [00:39<00:00,  2.58it/s]\n",
      "Testing weights for lgbm_exp_05: 100%|██████████| 101/101 [00:38<00:00,  2.59it/s]\n",
      "Testing weights for tn_exp_02: 100%|██████████| 101/101 [00:39<00:00,  2.58it/s]\n",
      "Testing weights for vr_exp_01: 100%|██████████| 101/101 [00:39<00:00,  2.58it/s]\n",
      "Testing weights for tt_exp_01: 100%|██████████| 101/101 [00:38<00:00,  2.59it/s]\n",
      "Testing weights for en_exp_01: 100%|██████████| 101/101 [00:39<00:00,  2.58it/s]\n",
      "Testing weights for en_exp_02: 100%|██████████| 101/101 [00:39<00:00,  2.59it/s]\n",
      "Testing weights for nn_exp_05: 100%|██████████| 101/101 [00:39<00:00,  2.59it/s]\n",
      "Testing weights for rf_exp_05: 100%|██████████| 101/101 [00:38<00:00,  2.59it/s]\n",
      "Testing weights for mcts_exp_02: 100%|██████████| 101/101 [00:39<00:00,  2.59it/s]\n",
      "Testing weights for catboost_exp_06: 100%|██████████| 101/101 [00:38<00:00,  2.59it/s]\n",
      "Testing weights for xgboost_exp_06: 100%|██████████| 101/101 [00:38<00:00,  2.59it/s]\n",
      "Testing weights for lgbm_exp_06: 100%|██████████| 101/101 [00:38<00:00,  2.59it/s]\n",
      "Testing weights for xgboost_exp_07: 100%|██████████| 101/101 [00:39<00:00,  2.58it/s]\n",
      "Testing weights for ri_exp_01: 100%|██████████| 101/101 [00:38<00:00,  2.59it/s]\n",
      "Testing weights for xgboost_exp_08: 100%|██████████| 101/101 [00:38<00:00,  2.59it/s]\n",
      "Testing weights for catboost_exp_08: 100%|██████████| 101/101 [00:39<00:00,  2.58it/s]\n"
     ]
    },
    {
     "name": "stdout",
     "output_type": "stream",
     "text": [
      "Iteration 6: Added /kaggle/input/rf-exp-05 with weight -0.0600, Score: 0.6872\n",
      "6th iteration\n"
     ]
    },
    {
     "name": "stderr",
     "output_type": "stream",
     "text": [
      "Testing weights for xgboost_exp_01: 100%|██████████| 101/101 [00:38<00:00,  2.59it/s]\n",
      "Testing weights for lgbm_exp_01: 100%|██████████| 101/101 [00:39<00:00,  2.58it/s]\n",
      "Testing weights for xgboost_exp_02: 100%|██████████| 101/101 [00:39<00:00,  2.58it/s]\n",
      "Testing weights for catboost_exp_02: 100%|██████████| 101/101 [00:39<00:00,  2.58it/s]\n",
      "Testing weights for lgbm_exp_03: 100%|██████████| 101/101 [00:39<00:00,  2.59it/s]\n",
      "Testing weights for catboost_exp_03: 100%|██████████| 101/101 [00:38<00:00,  2.60it/s]\n",
      "Testing weights for tabm_exp_01: 100%|██████████| 101/101 [00:39<00:00,  2.57it/s]\n",
      "Testing weights for nn_exp_01: 100%|██████████| 101/101 [00:39<00:00,  2.54it/s]\n",
      "Testing weights for tn_exp_01: 100%|██████████| 101/101 [00:39<00:00,  2.56it/s]\n",
      "Testing weights for tf_exp_01: 100%|██████████| 101/101 [00:39<00:00,  2.58it/s]\n",
      "Testing weights for abd_exp_01: 100%|██████████| 101/101 [00:39<00:00,  2.57it/s]\n",
      "Testing weights for catboost_exp_04: 100%|██████████| 101/101 [00:39<00:00,  2.57it/s]\n",
      "Testing weights for lgbm_exp_04: 100%|██████████| 101/101 [00:39<00:00,  2.57it/s]\n",
      "Testing weights for tabm_exp_02: 100%|██████████| 101/101 [00:39<00:00,  2.58it/s]\n",
      "Testing weights for ds_exp_01: 100%|██████████| 101/101 [00:39<00:00,  2.57it/s]\n",
      "Testing weights for nn_exp_02: 100%|██████████| 101/101 [00:39<00:00,  2.56it/s]\n",
      "Testing weights for nn_exp_04: 100%|██████████| 101/101 [00:39<00:00,  2.58it/s]\n",
      "Testing weights for xgboost_exp_05: 100%|██████████| 101/101 [00:39<00:00,  2.58it/s]\n",
      "Testing weights for lgbm_exp_05: 100%|██████████| 101/101 [00:39<00:00,  2.57it/s]\n",
      "Testing weights for tn_exp_02: 100%|██████████| 101/101 [00:39<00:00,  2.56it/s]\n",
      "Testing weights for vr_exp_01: 100%|██████████| 101/101 [00:39<00:00,  2.56it/s]\n",
      "Testing weights for tt_exp_01: 100%|██████████| 101/101 [00:39<00:00,  2.57it/s]\n",
      "Testing weights for en_exp_01: 100%|██████████| 101/101 [00:39<00:00,  2.57it/s]\n",
      "Testing weights for en_exp_02: 100%|██████████| 101/101 [00:39<00:00,  2.55it/s]\n",
      "Testing weights for nn_exp_05: 100%|██████████| 101/101 [00:39<00:00,  2.56it/s]\n",
      "Testing weights for mcts_exp_02: 100%|██████████| 101/101 [00:39<00:00,  2.57it/s]\n",
      "Testing weights for catboost_exp_06: 100%|██████████| 101/101 [00:39<00:00,  2.56it/s]\n",
      "Testing weights for xgboost_exp_06: 100%|██████████| 101/101 [00:39<00:00,  2.57it/s]\n",
      "Testing weights for lgbm_exp_06: 100%|██████████| 101/101 [00:39<00:00,  2.56it/s]\n",
      "Testing weights for xgboost_exp_07: 100%|██████████| 101/101 [00:39<00:00,  2.57it/s]\n",
      "Testing weights for ri_exp_01: 100%|██████████| 101/101 [00:39<00:00,  2.58it/s]\n",
      "Testing weights for xgboost_exp_08: 100%|██████████| 101/101 [00:39<00:00,  2.56it/s]\n",
      "Testing weights for catboost_exp_08: 100%|██████████| 101/101 [00:39<00:00,  2.58it/s]\n"
     ]
    },
    {
     "name": "stdout",
     "output_type": "stream",
     "text": [
      "Iteration 7: Added /kaggle/input/ds-exp-01 with weight 0.0500, Score: 0.6873\n",
      "7th iteration\n"
     ]
    },
    {
     "name": "stderr",
     "output_type": "stream",
     "text": [
      "Testing weights for xgboost_exp_01: 100%|██████████| 101/101 [00:39<00:00,  2.58it/s]\n",
      "Testing weights for lgbm_exp_01: 100%|██████████| 101/101 [00:39<00:00,  2.57it/s]\n",
      "Testing weights for xgboost_exp_02: 100%|██████████| 101/101 [00:39<00:00,  2.57it/s]\n",
      "Testing weights for catboost_exp_02: 100%|██████████| 101/101 [00:39<00:00,  2.57it/s]\n",
      "Testing weights for lgbm_exp_03: 100%|██████████| 101/101 [00:39<00:00,  2.57it/s]\n",
      "Testing weights for catboost_exp_03: 100%|██████████| 101/101 [00:39<00:00,  2.59it/s]\n",
      "Testing weights for tabm_exp_01: 100%|██████████| 101/101 [00:39<00:00,  2.56it/s]\n",
      "Testing weights for nn_exp_01: 100%|██████████| 101/101 [00:39<00:00,  2.57it/s]\n",
      "Testing weights for tn_exp_01: 100%|██████████| 101/101 [00:39<00:00,  2.58it/s]\n",
      "Testing weights for tf_exp_01: 100%|██████████| 101/101 [00:39<00:00,  2.57it/s]\n",
      "Testing weights for abd_exp_01: 100%|██████████| 101/101 [00:39<00:00,  2.57it/s]\n",
      "Testing weights for catboost_exp_04: 100%|██████████| 101/101 [00:39<00:00,  2.57it/s]\n",
      "Testing weights for lgbm_exp_04: 100%|██████████| 101/101 [00:39<00:00,  2.57it/s]\n",
      "Testing weights for tabm_exp_02: 100%|██████████| 101/101 [00:39<00:00,  2.57it/s]\n",
      "Testing weights for nn_exp_02: 100%|██████████| 101/101 [00:39<00:00,  2.57it/s]\n",
      "Testing weights for nn_exp_04: 100%|██████████| 101/101 [00:39<00:00,  2.57it/s]\n",
      "Testing weights for xgboost_exp_05: 100%|██████████| 101/101 [00:39<00:00,  2.57it/s]\n",
      "Testing weights for lgbm_exp_05: 100%|██████████| 101/101 [00:39<00:00,  2.57it/s]\n",
      "Testing weights for tn_exp_02: 100%|██████████| 101/101 [00:39<00:00,  2.57it/s]\n",
      "Testing weights for vr_exp_01: 100%|██████████| 101/101 [00:39<00:00,  2.57it/s]\n",
      "Testing weights for tt_exp_01: 100%|██████████| 101/101 [00:39<00:00,  2.57it/s]\n",
      "Testing weights for en_exp_01: 100%|██████████| 101/101 [00:39<00:00,  2.56it/s]\n",
      "Testing weights for en_exp_02: 100%|██████████| 101/101 [00:39<00:00,  2.56it/s]\n",
      "Testing weights for nn_exp_05: 100%|██████████| 101/101 [00:39<00:00,  2.58it/s]\n",
      "Testing weights for mcts_exp_02: 100%|██████████| 101/101 [00:39<00:00,  2.56it/s]\n",
      "Testing weights for catboost_exp_06: 100%|██████████| 101/101 [00:39<00:00,  2.57it/s]\n",
      "Testing weights for xgboost_exp_06: 100%|██████████| 101/101 [00:39<00:00,  2.57it/s]\n",
      "Testing weights for lgbm_exp_06: 100%|██████████| 101/101 [00:39<00:00,  2.57it/s]\n",
      "Testing weights for xgboost_exp_07: 100%|██████████| 101/101 [00:39<00:00,  2.56it/s]\n",
      "Testing weights for ri_exp_01: 100%|██████████| 101/101 [00:39<00:00,  2.58it/s]\n",
      "Testing weights for xgboost_exp_08: 100%|██████████| 101/101 [00:39<00:00,  2.57it/s]\n",
      "Testing weights for catboost_exp_08: 100%|██████████| 101/101 [00:39<00:00,  2.58it/s]\n"
     ]
    },
    {
     "name": "stdout",
     "output_type": "stream",
     "text": [
      "Iteration 8: Added /kaggle/input/tn-exp-02 with weight 0.0500, Score: 0.6874\n",
      "8th iteration\n"
     ]
    },
    {
     "name": "stderr",
     "output_type": "stream",
     "text": [
      "Testing weights for xgboost_exp_01: 100%|██████████| 101/101 [00:39<00:00,  2.57it/s]\n",
      "Testing weights for lgbm_exp_01: 100%|██████████| 101/101 [00:39<00:00,  2.57it/s]\n",
      "Testing weights for xgboost_exp_02: 100%|██████████| 101/101 [00:39<00:00,  2.56it/s]\n",
      "Testing weights for catboost_exp_02: 100%|██████████| 101/101 [00:39<00:00,  2.57it/s]\n",
      "Testing weights for lgbm_exp_03: 100%|██████████| 101/101 [00:39<00:00,  2.58it/s]\n",
      "Testing weights for catboost_exp_03: 100%|██████████| 101/101 [00:39<00:00,  2.57it/s]\n",
      "Testing weights for tabm_exp_01: 100%|██████████| 101/101 [00:39<00:00,  2.57it/s]\n",
      "Testing weights for nn_exp_01: 100%|██████████| 101/101 [00:39<00:00,  2.58it/s]\n",
      "Testing weights for tn_exp_01: 100%|██████████| 101/101 [00:39<00:00,  2.57it/s]\n",
      "Testing weights for tf_exp_01: 100%|██████████| 101/101 [00:39<00:00,  2.57it/s]\n",
      "Testing weights for abd_exp_01: 100%|██████████| 101/101 [00:39<00:00,  2.56it/s]\n",
      "Testing weights for catboost_exp_04: 100%|██████████| 101/101 [00:39<00:00,  2.55it/s]\n",
      "Testing weights for lgbm_exp_04: 100%|██████████| 101/101 [00:39<00:00,  2.55it/s]\n",
      "Testing weights for tabm_exp_02: 100%|██████████| 101/101 [00:39<00:00,  2.57it/s]\n",
      "Testing weights for nn_exp_02: 100%|██████████| 101/101 [00:39<00:00,  2.57it/s]\n",
      "Testing weights for nn_exp_04: 100%|██████████| 101/101 [00:39<00:00,  2.57it/s]\n",
      "Testing weights for xgboost_exp_05: 100%|██████████| 101/101 [00:39<00:00,  2.56it/s]\n",
      "Testing weights for lgbm_exp_05: 100%|██████████| 101/101 [00:39<00:00,  2.55it/s]\n",
      "Testing weights for vr_exp_01: 100%|██████████| 101/101 [00:39<00:00,  2.54it/s]\n",
      "Testing weights for tt_exp_01: 100%|██████████| 101/101 [00:39<00:00,  2.55it/s]\n",
      "Testing weights for en_exp_01: 100%|██████████| 101/101 [00:39<00:00,  2.57it/s]\n",
      "Testing weights for en_exp_02: 100%|██████████| 101/101 [00:39<00:00,  2.56it/s]\n",
      "Testing weights for nn_exp_05: 100%|██████████| 101/101 [00:39<00:00,  2.55it/s]\n",
      "Testing weights for mcts_exp_02: 100%|██████████| 101/101 [00:39<00:00,  2.57it/s]\n",
      "Testing weights for catboost_exp_06: 100%|██████████| 101/101 [00:39<00:00,  2.57it/s]\n",
      "Testing weights for xgboost_exp_06: 100%|██████████| 101/101 [00:39<00:00,  2.56it/s]\n",
      "Testing weights for lgbm_exp_06: 100%|██████████| 101/101 [00:39<00:00,  2.56it/s]\n",
      "Testing weights for xgboost_exp_07: 100%|██████████| 101/101 [00:39<00:00,  2.58it/s]\n",
      "Testing weights for ri_exp_01: 100%|██████████| 101/101 [00:39<00:00,  2.57it/s]\n",
      "Testing weights for xgboost_exp_08: 100%|██████████| 101/101 [00:39<00:00,  2.53it/s]\n",
      "Testing weights for catboost_exp_08: 100%|██████████| 101/101 [00:40<00:00,  2.51it/s]\n"
     ]
    },
    {
     "name": "stdout",
     "output_type": "stream",
     "text": [
      "Iteration 9: Added /kaggle/input/xgboost-exp-02 with weight -0.0800, Score: 0.6875\n",
      "9th iteration\n"
     ]
    },
    {
     "name": "stderr",
     "output_type": "stream",
     "text": [
      "Testing weights for xgboost_exp_01: 100%|██████████| 101/101 [00:39<00:00,  2.54it/s]\n",
      "Testing weights for lgbm_exp_01: 100%|██████████| 101/101 [00:39<00:00,  2.57it/s]\n",
      "Testing weights for catboost_exp_02: 100%|██████████| 101/101 [00:39<00:00,  2.54it/s]\n",
      "Testing weights for lgbm_exp_03: 100%|██████████| 101/101 [00:39<00:00,  2.54it/s]\n",
      "Testing weights for catboost_exp_03: 100%|██████████| 101/101 [00:39<00:00,  2.57it/s]\n",
      "Testing weights for tabm_exp_01: 100%|██████████| 101/101 [00:39<00:00,  2.57it/s]\n",
      "Testing weights for nn_exp_01: 100%|██████████| 101/101 [00:39<00:00,  2.57it/s]\n",
      "Testing weights for tn_exp_01: 100%|██████████| 101/101 [00:39<00:00,  2.53it/s]\n",
      "Testing weights for tf_exp_01: 100%|██████████| 101/101 [00:39<00:00,  2.55it/s]\n",
      "Testing weights for abd_exp_01: 100%|██████████| 101/101 [00:39<00:00,  2.56it/s]\n",
      "Testing weights for catboost_exp_04: 100%|██████████| 101/101 [00:39<00:00,  2.55it/s]\n",
      "Testing weights for lgbm_exp_04: 100%|██████████| 101/101 [00:39<00:00,  2.55it/s]\n",
      "Testing weights for tabm_exp_02: 100%|██████████| 101/101 [00:39<00:00,  2.54it/s]\n",
      "Testing weights for nn_exp_02: 100%|██████████| 101/101 [00:39<00:00,  2.56it/s]\n",
      "Testing weights for nn_exp_04: 100%|██████████| 101/101 [00:39<00:00,  2.55it/s]\n",
      "Testing weights for xgboost_exp_05: 100%|██████████| 101/101 [00:39<00:00,  2.55it/s]\n",
      "Testing weights for lgbm_exp_05: 100%|██████████| 101/101 [00:39<00:00,  2.57it/s]\n",
      "Testing weights for vr_exp_01: 100%|██████████| 101/101 [00:39<00:00,  2.57it/s]\n",
      "Testing weights for tt_exp_01: 100%|██████████| 101/101 [00:39<00:00,  2.58it/s]\n",
      "Testing weights for en_exp_01: 100%|██████████| 101/101 [00:39<00:00,  2.57it/s]\n",
      "Testing weights for en_exp_02: 100%|██████████| 101/101 [00:39<00:00,  2.57it/s]\n",
      "Testing weights for nn_exp_05: 100%|██████████| 101/101 [00:39<00:00,  2.57it/s]\n",
      "Testing weights for mcts_exp_02: 100%|██████████| 101/101 [00:39<00:00,  2.58it/s]\n",
      "Testing weights for catboost_exp_06: 100%|██████████| 101/101 [00:39<00:00,  2.56it/s]\n",
      "Testing weights for xgboost_exp_06: 100%|██████████| 101/101 [00:39<00:00,  2.55it/s]\n",
      "Testing weights for lgbm_exp_06: 100%|██████████| 101/101 [00:39<00:00,  2.54it/s]\n",
      "Testing weights for xgboost_exp_07: 100%|██████████| 101/101 [00:39<00:00,  2.56it/s]\n",
      "Testing weights for ri_exp_01: 100%|██████████| 101/101 [00:39<00:00,  2.58it/s]\n",
      "Testing weights for xgboost_exp_08: 100%|██████████| 101/101 [00:39<00:00,  2.58it/s]\n",
      "Testing weights for catboost_exp_08: 100%|██████████| 101/101 [00:39<00:00,  2.56it/s]\n"
     ]
    },
    {
     "name": "stdout",
     "output_type": "stream",
     "text": [
      "Iteration 10: Added /kaggle/input/tabm-exp-02 with weight 0.0600, Score: 0.6876\n",
      "10th iteration\n"
     ]
    },
    {
     "name": "stderr",
     "output_type": "stream",
     "text": [
      "Testing weights for xgboost_exp_01: 100%|██████████| 101/101 [00:39<00:00,  2.57it/s]\n",
      "Testing weights for lgbm_exp_01: 100%|██████████| 101/101 [00:39<00:00,  2.57it/s]\n",
      "Testing weights for catboost_exp_02: 100%|██████████| 101/101 [00:39<00:00,  2.57it/s]\n",
      "Testing weights for lgbm_exp_03: 100%|██████████| 101/101 [00:39<00:00,  2.56it/s]\n",
      "Testing weights for catboost_exp_03: 100%|██████████| 101/101 [00:39<00:00,  2.55it/s]\n",
      "Testing weights for tabm_exp_01: 100%|██████████| 101/101 [00:40<00:00,  2.52it/s]\n",
      "Testing weights for nn_exp_01: 100%|██████████| 101/101 [00:39<00:00,  2.56it/s]\n",
      "Testing weights for tn_exp_01: 100%|██████████| 101/101 [00:39<00:00,  2.56it/s]\n",
      "Testing weights for tf_exp_01: 100%|██████████| 101/101 [00:39<00:00,  2.54it/s]\n",
      "Testing weights for abd_exp_01: 100%|██████████| 101/101 [00:40<00:00,  2.48it/s]\n",
      "Testing weights for catboost_exp_04: 100%|██████████| 101/101 [00:39<00:00,  2.58it/s]\n",
      "Testing weights for lgbm_exp_04: 100%|██████████| 101/101 [00:39<00:00,  2.57it/s]\n",
      "Testing weights for nn_exp_02: 100%|██████████| 101/101 [00:39<00:00,  2.58it/s]\n",
      "Testing weights for nn_exp_04: 100%|██████████| 101/101 [00:39<00:00,  2.56it/s]\n",
      "Testing weights for xgboost_exp_05: 100%|██████████| 101/101 [00:39<00:00,  2.57it/s]\n",
      "Testing weights for lgbm_exp_05: 100%|██████████| 101/101 [00:39<00:00,  2.56it/s]\n",
      "Testing weights for vr_exp_01: 100%|██████████| 101/101 [00:39<00:00,  2.58it/s]\n",
      "Testing weights for tt_exp_01: 100%|██████████| 101/101 [00:39<00:00,  2.57it/s]\n",
      "Testing weights for en_exp_01: 100%|██████████| 101/101 [00:39<00:00,  2.58it/s]\n",
      "Testing weights for en_exp_02: 100%|██████████| 101/101 [00:39<00:00,  2.58it/s]\n",
      "Testing weights for nn_exp_05: 100%|██████████| 101/101 [00:39<00:00,  2.58it/s]\n",
      "Testing weights for mcts_exp_02: 100%|██████████| 101/101 [00:39<00:00,  2.57it/s]\n",
      "Testing weights for catboost_exp_06: 100%|██████████| 101/101 [00:39<00:00,  2.58it/s]\n",
      "Testing weights for xgboost_exp_06: 100%|██████████| 101/101 [00:39<00:00,  2.58it/s]\n",
      "Testing weights for lgbm_exp_06: 100%|██████████| 101/101 [00:39<00:00,  2.58it/s]\n",
      "Testing weights for xgboost_exp_07: 100%|██████████| 101/101 [00:39<00:00,  2.57it/s]\n",
      "Testing weights for ri_exp_01: 100%|██████████| 101/101 [00:39<00:00,  2.58it/s]\n",
      "Testing weights for xgboost_exp_08: 100%|██████████| 101/101 [00:39<00:00,  2.57it/s]\n",
      "Testing weights for catboost_exp_08: 100%|██████████| 101/101 [00:39<00:00,  2.57it/s]\n"
     ]
    },
    {
     "name": "stdout",
     "output_type": "stream",
     "text": [
      "Iteration 11: Added /kaggle/input/xgboost-exp-06 with weight -0.0900, Score: 0.6876\n",
      "11th iteration\n"
     ]
    },
    {
     "name": "stderr",
     "output_type": "stream",
     "text": [
      "Testing weights for xgboost_exp_01: 100%|██████████| 101/101 [00:39<00:00,  2.56it/s]\n",
      "Testing weights for lgbm_exp_01: 100%|██████████| 101/101 [00:39<00:00,  2.58it/s]\n",
      "Testing weights for catboost_exp_02: 100%|██████████| 101/101 [00:39<00:00,  2.57it/s]\n",
      "Testing weights for lgbm_exp_03: 100%|██████████| 101/101 [00:39<00:00,  2.57it/s]\n",
      "Testing weights for catboost_exp_03: 100%|██████████| 101/101 [00:39<00:00,  2.57it/s]\n",
      "Testing weights for tabm_exp_01: 100%|██████████| 101/101 [00:39<00:00,  2.57it/s]\n",
      "Testing weights for nn_exp_01: 100%|██████████| 101/101 [00:39<00:00,  2.55it/s]\n",
      "Testing weights for tn_exp_01: 100%|██████████| 101/101 [00:39<00:00,  2.57it/s]\n",
      "Testing weights for tf_exp_01: 100%|██████████| 101/101 [00:39<00:00,  2.55it/s]\n",
      "Testing weights for abd_exp_01: 100%|██████████| 101/101 [00:39<00:00,  2.56it/s]\n",
      "Testing weights for catboost_exp_04: 100%|██████████| 101/101 [00:40<00:00,  2.50it/s]\n",
      "Testing weights for lgbm_exp_04: 100%|██████████| 101/101 [00:39<00:00,  2.56it/s]\n",
      "Testing weights for nn_exp_02: 100%|██████████| 101/101 [00:39<00:00,  2.54it/s]\n",
      "Testing weights for nn_exp_04: 100%|██████████| 101/101 [00:39<00:00,  2.57it/s]\n",
      "Testing weights for xgboost_exp_05: 100%|██████████| 101/101 [00:39<00:00,  2.56it/s]\n",
      "Testing weights for lgbm_exp_05: 100%|██████████| 101/101 [00:39<00:00,  2.57it/s]\n",
      "Testing weights for vr_exp_01: 100%|██████████| 101/101 [00:39<00:00,  2.53it/s]\n",
      "Testing weights for tt_exp_01: 100%|██████████| 101/101 [00:39<00:00,  2.56it/s]\n",
      "Testing weights for en_exp_01: 100%|██████████| 101/101 [00:39<00:00,  2.55it/s]\n",
      "Testing weights for en_exp_02: 100%|██████████| 101/101 [00:39<00:00,  2.57it/s]\n",
      "Testing weights for nn_exp_05: 100%|██████████| 101/101 [00:39<00:00,  2.57it/s]\n",
      "Testing weights for mcts_exp_02: 100%|██████████| 101/101 [00:39<00:00,  2.57it/s]\n",
      "Testing weights for catboost_exp_06: 100%|██████████| 101/101 [00:39<00:00,  2.56it/s]\n",
      "Testing weights for lgbm_exp_06: 100%|██████████| 101/101 [00:39<00:00,  2.55it/s]\n",
      "Testing weights for xgboost_exp_07: 100%|██████████| 101/101 [00:39<00:00,  2.54it/s]\n",
      "Testing weights for ri_exp_01: 100%|██████████| 101/101 [00:39<00:00,  2.57it/s]\n",
      "Testing weights for xgboost_exp_08: 100%|██████████| 101/101 [00:39<00:00,  2.57it/s]\n",
      "Testing weights for catboost_exp_08: 100%|██████████| 101/101 [00:39<00:00,  2.57it/s]\n"
     ]
    },
    {
     "name": "stdout",
     "output_type": "stream",
     "text": [
      "Iteration 12: Added /kaggle/input/lgbm-exp-01 with weight -0.0400, Score: 0.6877\n",
      "12th iteration\n"
     ]
    },
    {
     "name": "stderr",
     "output_type": "stream",
     "text": [
      "Testing weights for xgboost_exp_01: 100%|██████████| 101/101 [00:39<00:00,  2.55it/s]\n",
      "Testing weights for catboost_exp_02: 100%|██████████| 101/101 [00:39<00:00,  2.54it/s]\n",
      "Testing weights for lgbm_exp_03: 100%|██████████| 101/101 [00:39<00:00,  2.56it/s]\n",
      "Testing weights for catboost_exp_03: 100%|██████████| 101/101 [00:39<00:00,  2.57it/s]\n",
      "Testing weights for tabm_exp_01: 100%|██████████| 101/101 [00:39<00:00,  2.55it/s]\n",
      "Testing weights for nn_exp_01: 100%|██████████| 101/101 [00:39<00:00,  2.57it/s]\n",
      "Testing weights for tn_exp_01: 100%|██████████| 101/101 [00:39<00:00,  2.57it/s]\n",
      "Testing weights for tf_exp_01: 100%|██████████| 101/101 [00:39<00:00,  2.57it/s]\n",
      "Testing weights for abd_exp_01: 100%|██████████| 101/101 [00:39<00:00,  2.53it/s]\n",
      "Testing weights for catboost_exp_04: 100%|██████████| 101/101 [00:39<00:00,  2.54it/s]\n",
      "Testing weights for lgbm_exp_04: 100%|██████████| 101/101 [00:39<00:00,  2.58it/s]\n",
      "Testing weights for nn_exp_02: 100%|██████████| 101/101 [00:39<00:00,  2.58it/s]\n",
      "Testing weights for nn_exp_04: 100%|██████████| 101/101 [00:39<00:00,  2.56it/s]\n",
      "Testing weights for xgboost_exp_05: 100%|██████████| 101/101 [00:39<00:00,  2.57it/s]\n",
      "Testing weights for lgbm_exp_05: 100%|██████████| 101/101 [00:39<00:00,  2.56it/s]\n",
      "Testing weights for vr_exp_01: 100%|██████████| 101/101 [00:39<00:00,  2.57it/s]\n",
      "Testing weights for tt_exp_01: 100%|██████████| 101/101 [00:39<00:00,  2.54it/s]\n",
      "Testing weights for en_exp_01: 100%|██████████| 101/101 [00:39<00:00,  2.54it/s]\n",
      "Testing weights for en_exp_02: 100%|██████████| 101/101 [00:39<00:00,  2.55it/s]\n",
      "Testing weights for nn_exp_05: 100%|██████████| 101/101 [00:39<00:00,  2.56it/s]\n",
      "Testing weights for mcts_exp_02: 100%|██████████| 101/101 [00:39<00:00,  2.55it/s]\n",
      "Testing weights for catboost_exp_06: 100%|██████████| 101/101 [00:39<00:00,  2.55it/s]\n",
      "Testing weights for lgbm_exp_06: 100%|██████████| 101/101 [00:39<00:00,  2.53it/s]\n",
      "Testing weights for xgboost_exp_07: 100%|██████████| 101/101 [00:39<00:00,  2.56it/s]\n",
      "Testing weights for ri_exp_01: 100%|██████████| 101/101 [00:39<00:00,  2.55it/s]\n",
      "Testing weights for xgboost_exp_08: 100%|██████████| 101/101 [00:39<00:00,  2.53it/s]\n",
      "Testing weights for catboost_exp_08: 100%|██████████| 101/101 [00:39<00:00,  2.55it/s]\n"
     ]
    },
    {
     "name": "stdout",
     "output_type": "stream",
     "text": [
      "Iteration 13: Added /kaggle/input/catboost-exp-06 with weight 0.0700, Score: 0.6877\n",
      "13th iteration\n"
     ]
    },
    {
     "name": "stderr",
     "output_type": "stream",
     "text": [
      "Testing weights for xgboost_exp_01: 100%|██████████| 101/101 [00:39<00:00,  2.56it/s]\n",
      "Testing weights for catboost_exp_02: 100%|██████████| 101/101 [00:39<00:00,  2.54it/s]\n",
      "Testing weights for lgbm_exp_03: 100%|██████████| 101/101 [00:39<00:00,  2.55it/s]\n",
      "Testing weights for catboost_exp_03: 100%|██████████| 101/101 [00:40<00:00,  2.51it/s]\n",
      "Testing weights for tabm_exp_01: 100%|██████████| 101/101 [00:39<00:00,  2.54it/s]\n",
      "Testing weights for nn_exp_01: 100%|██████████| 101/101 [00:40<00:00,  2.52it/s]\n",
      "Testing weights for tn_exp_01: 100%|██████████| 101/101 [00:39<00:00,  2.56it/s]\n",
      "Testing weights for tf_exp_01: 100%|██████████| 101/101 [00:39<00:00,  2.55it/s]\n",
      "Testing weights for abd_exp_01: 100%|██████████| 101/101 [00:39<00:00,  2.54it/s]\n",
      "Testing weights for catboost_exp_04: 100%|██████████| 101/101 [00:39<00:00,  2.55it/s]\n",
      "Testing weights for lgbm_exp_04: 100%|██████████| 101/101 [00:39<00:00,  2.53it/s]\n",
      "Testing weights for nn_exp_02: 100%|██████████| 101/101 [00:39<00:00,  2.54it/s]\n",
      "Testing weights for nn_exp_04: 100%|██████████| 101/101 [00:39<00:00,  2.54it/s]\n",
      "Testing weights for xgboost_exp_05: 100%|██████████| 101/101 [00:39<00:00,  2.53it/s]\n",
      "Testing weights for lgbm_exp_05: 100%|██████████| 101/101 [00:39<00:00,  2.53it/s]\n",
      "Testing weights for vr_exp_01: 100%|██████████| 101/101 [00:39<00:00,  2.54it/s]\n",
      "Testing weights for tt_exp_01: 100%|██████████| 101/101 [00:39<00:00,  2.56it/s]\n",
      "Testing weights for en_exp_01: 100%|██████████| 101/101 [00:39<00:00,  2.56it/s]\n",
      "Testing weights for en_exp_02: 100%|██████████| 101/101 [00:39<00:00,  2.58it/s]\n",
      "Testing weights for nn_exp_05: 100%|██████████| 101/101 [00:39<00:00,  2.57it/s]\n",
      "Testing weights for mcts_exp_02: 100%|██████████| 101/101 [00:39<00:00,  2.56it/s]\n",
      "Testing weights for lgbm_exp_06: 100%|██████████| 101/101 [00:39<00:00,  2.56it/s]\n",
      "Testing weights for xgboost_exp_07: 100%|██████████| 101/101 [00:39<00:00,  2.55it/s]\n",
      "Testing weights for ri_exp_01: 100%|██████████| 101/101 [00:39<00:00,  2.54it/s]\n",
      "Testing weights for xgboost_exp_08: 100%|██████████| 101/101 [00:41<00:00,  2.46it/s]\n",
      "Testing weights for catboost_exp_08: 100%|██████████| 101/101 [00:39<00:00,  2.57it/s]\n"
     ]
    },
    {
     "name": "stdout",
     "output_type": "stream",
     "text": [
      "Iteration 14: Added /kaggle/input/tf-exp-01 with weight 0.0300, Score: 0.6877\n",
      "14th iteration\n"
     ]
    },
    {
     "name": "stderr",
     "output_type": "stream",
     "text": [
      "Testing weights for xgboost_exp_01: 100%|██████████| 101/101 [00:39<00:00,  2.57it/s]\n",
      "Testing weights for catboost_exp_02: 100%|██████████| 101/101 [00:39<00:00,  2.57it/s]\n",
      "Testing weights for lgbm_exp_03: 100%|██████████| 101/101 [00:39<00:00,  2.55it/s]\n",
      "Testing weights for catboost_exp_03: 100%|██████████| 101/101 [00:39<00:00,  2.57it/s]\n",
      "Testing weights for tabm_exp_01: 100%|██████████| 101/101 [00:38<00:00,  2.59it/s]\n",
      "Testing weights for nn_exp_01: 100%|██████████| 101/101 [00:39<00:00,  2.59it/s]\n",
      "Testing weights for tn_exp_01: 100%|██████████| 101/101 [00:39<00:00,  2.58it/s]\n",
      "Testing weights for abd_exp_01: 100%|██████████| 101/101 [00:39<00:00,  2.58it/s]\n",
      "Testing weights for catboost_exp_04: 100%|██████████| 101/101 [00:39<00:00,  2.58it/s]\n",
      "Testing weights for lgbm_exp_04: 100%|██████████| 101/101 [00:39<00:00,  2.57it/s]\n",
      "Testing weights for nn_exp_02: 100%|██████████| 101/101 [00:39<00:00,  2.57it/s]\n",
      "Testing weights for nn_exp_04: 100%|██████████| 101/101 [00:39<00:00,  2.58it/s]\n",
      "Testing weights for xgboost_exp_05: 100%|██████████| 101/101 [00:39<00:00,  2.58it/s]\n",
      "Testing weights for lgbm_exp_05: 100%|██████████| 101/101 [00:39<00:00,  2.58it/s]\n",
      "Testing weights for vr_exp_01: 100%|██████████| 101/101 [00:39<00:00,  2.57it/s]\n",
      "Testing weights for tt_exp_01: 100%|██████████| 101/101 [00:39<00:00,  2.55it/s]\n",
      "Testing weights for en_exp_01: 100%|██████████| 101/101 [00:39<00:00,  2.56it/s]\n",
      "Testing weights for en_exp_02: 100%|██████████| 101/101 [00:40<00:00,  2.52it/s]\n",
      "Testing weights for nn_exp_05: 100%|██████████| 101/101 [00:39<00:00,  2.55it/s]\n",
      "Testing weights for mcts_exp_02: 100%|██████████| 101/101 [00:39<00:00,  2.58it/s]\n",
      "Testing weights for lgbm_exp_06: 100%|██████████| 101/101 [00:38<00:00,  2.60it/s]\n",
      "Testing weights for xgboost_exp_07: 100%|██████████| 101/101 [00:39<00:00,  2.58it/s]\n",
      "Testing weights for ri_exp_01: 100%|██████████| 101/101 [00:39<00:00,  2.58it/s]\n",
      "Testing weights for xgboost_exp_08: 100%|██████████| 101/101 [00:39<00:00,  2.57it/s]\n",
      "Testing weights for catboost_exp_08: 100%|██████████| 101/101 [00:39<00:00,  2.56it/s]\n"
     ]
    },
    {
     "name": "stdout",
     "output_type": "stream",
     "text": [
      "Iteration 15: Added /kaggle/input/catboost-exp-03 with weight -0.0600, Score: 0.6878\n",
      "15th iteration\n"
     ]
    },
    {
     "name": "stderr",
     "output_type": "stream",
     "text": [
      "Testing weights for xgboost_exp_01: 100%|██████████| 101/101 [00:39<00:00,  2.59it/s]\n",
      "Testing weights for catboost_exp_02: 100%|██████████| 101/101 [00:39<00:00,  2.58it/s]\n",
      "Testing weights for lgbm_exp_03: 100%|██████████| 101/101 [00:39<00:00,  2.58it/s]\n",
      "Testing weights for tabm_exp_01: 100%|██████████| 101/101 [00:39<00:00,  2.59it/s]\n",
      "Testing weights for nn_exp_01: 100%|██████████| 101/101 [00:38<00:00,  2.59it/s]\n",
      "Testing weights for tn_exp_01: 100%|██████████| 101/101 [00:39<00:00,  2.59it/s]\n",
      "Testing weights for abd_exp_01: 100%|██████████| 101/101 [00:39<00:00,  2.57it/s]\n",
      "Testing weights for catboost_exp_04: 100%|██████████| 101/101 [00:38<00:00,  2.59it/s]\n",
      "Testing weights for lgbm_exp_04: 100%|██████████| 101/101 [00:39<00:00,  2.58it/s]\n",
      "Testing weights for nn_exp_02: 100%|██████████| 101/101 [00:39<00:00,  2.53it/s]\n",
      "Testing weights for nn_exp_04: 100%|██████████| 101/101 [00:39<00:00,  2.58it/s]\n",
      "Testing weights for xgboost_exp_05: 100%|██████████| 101/101 [00:38<00:00,  2.59it/s]\n",
      "Testing weights for lgbm_exp_05: 100%|██████████| 101/101 [00:39<00:00,  2.59it/s]\n",
      "Testing weights for vr_exp_01: 100%|██████████| 101/101 [00:39<00:00,  2.58it/s]\n",
      "Testing weights for tt_exp_01: 100%|██████████| 101/101 [00:39<00:00,  2.58it/s]\n",
      "Testing weights for en_exp_01: 100%|██████████| 101/101 [00:39<00:00,  2.59it/s]\n",
      "Testing weights for en_exp_02: 100%|██████████| 101/101 [00:39<00:00,  2.57it/s]\n",
      "Testing weights for nn_exp_05: 100%|██████████| 101/101 [00:39<00:00,  2.57it/s]\n",
      "Testing weights for mcts_exp_02: 100%|██████████| 101/101 [00:39<00:00,  2.57it/s]\n",
      "Testing weights for lgbm_exp_06: 100%|██████████| 101/101 [00:39<00:00,  2.59it/s]\n",
      "Testing weights for xgboost_exp_07: 100%|██████████| 101/101 [00:39<00:00,  2.58it/s]\n",
      "Testing weights for ri_exp_01: 100%|██████████| 101/101 [00:39<00:00,  2.58it/s]\n",
      "Testing weights for xgboost_exp_08: 100%|██████████| 101/101 [00:39<00:00,  2.57it/s]\n",
      "Testing weights for catboost_exp_08: 100%|██████████| 101/101 [00:39<00:00,  2.58it/s]\n"
     ]
    },
    {
     "name": "stdout",
     "output_type": "stream",
     "text": [
      "Iteration 16: Added /kaggle/input/xgboost-exp-01 with weight 0.0300, Score: 0.6878\n",
      "16th iteration\n"
     ]
    },
    {
     "name": "stderr",
     "output_type": "stream",
     "text": [
      "Testing weights for catboost_exp_02: 100%|██████████| 101/101 [00:39<00:00,  2.56it/s]\n",
      "Testing weights for lgbm_exp_03: 100%|██████████| 101/101 [00:39<00:00,  2.58it/s]\n",
      "Testing weights for tabm_exp_01: 100%|██████████| 101/101 [00:39<00:00,  2.56it/s]\n",
      "Testing weights for nn_exp_01: 100%|██████████| 101/101 [00:39<00:00,  2.58it/s]\n",
      "Testing weights for tn_exp_01: 100%|██████████| 101/101 [00:39<00:00,  2.58it/s]\n",
      "Testing weights for abd_exp_01: 100%|██████████| 101/101 [00:39<00:00,  2.58it/s]\n",
      "Testing weights for catboost_exp_04: 100%|██████████| 101/101 [00:39<00:00,  2.57it/s]\n",
      "Testing weights for lgbm_exp_04: 100%|██████████| 101/101 [00:39<00:00,  2.58it/s]\n",
      "Testing weights for nn_exp_02: 100%|██████████| 101/101 [00:39<00:00,  2.57it/s]\n",
      "Testing weights for nn_exp_04: 100%|██████████| 101/101 [00:39<00:00,  2.56it/s]\n",
      "Testing weights for xgboost_exp_05: 100%|██████████| 101/101 [00:39<00:00,  2.57it/s]\n",
      "Testing weights for lgbm_exp_05: 100%|██████████| 101/101 [00:39<00:00,  2.58it/s]\n",
      "Testing weights for vr_exp_01: 100%|██████████| 101/101 [00:39<00:00,  2.59it/s]\n",
      "Testing weights for tt_exp_01: 100%|██████████| 101/101 [00:39<00:00,  2.58it/s]\n",
      "Testing weights for en_exp_01: 100%|██████████| 101/101 [00:39<00:00,  2.56it/s]\n",
      "Testing weights for en_exp_02: 100%|██████████| 101/101 [00:39<00:00,  2.55it/s]\n",
      "Testing weights for nn_exp_05: 100%|██████████| 101/101 [00:40<00:00,  2.52it/s]\n",
      "Testing weights for mcts_exp_02: 100%|██████████| 101/101 [00:39<00:00,  2.58it/s]\n",
      "Testing weights for lgbm_exp_06: 100%|██████████| 101/101 [00:39<00:00,  2.59it/s]\n",
      "Testing weights for xgboost_exp_07: 100%|██████████| 101/101 [00:39<00:00,  2.58it/s]\n",
      "Testing weights for ri_exp_01: 100%|██████████| 101/101 [00:39<00:00,  2.58it/s]\n",
      "Testing weights for xgboost_exp_08: 100%|██████████| 101/101 [00:39<00:00,  2.58it/s]\n",
      "Testing weights for catboost_exp_08: 100%|██████████| 101/101 [00:39<00:00,  2.59it/s]\n"
     ]
    },
    {
     "name": "stdout",
     "output_type": "stream",
     "text": [
      "Iteration 17: Added /kaggle/input/lgbm-exp-06 with weight -0.0300, Score: 0.6878\n",
      "17th iteration\n"
     ]
    },
    {
     "name": "stderr",
     "output_type": "stream",
     "text": [
      "Testing weights for catboost_exp_02: 100%|██████████| 101/101 [00:39<00:00,  2.57it/s]\n",
      "Testing weights for lgbm_exp_03: 100%|██████████| 101/101 [00:39<00:00,  2.58it/s]\n",
      "Testing weights for tabm_exp_01: 100%|██████████| 101/101 [00:39<00:00,  2.58it/s]\n",
      "Testing weights for nn_exp_01: 100%|██████████| 101/101 [00:39<00:00,  2.58it/s]\n",
      "Testing weights for tn_exp_01: 100%|██████████| 101/101 [00:39<00:00,  2.59it/s]\n",
      "Testing weights for abd_exp_01: 100%|██████████| 101/101 [00:39<00:00,  2.58it/s]\n",
      "Testing weights for catboost_exp_04: 100%|██████████| 101/101 [00:38<00:00,  2.59it/s]\n",
      "Testing weights for lgbm_exp_04: 100%|██████████| 101/101 [00:38<00:00,  2.59it/s]\n",
      "Testing weights for nn_exp_02: 100%|██████████| 101/101 [00:40<00:00,  2.50it/s]\n",
      "Testing weights for nn_exp_04: 100%|██████████| 101/101 [00:38<00:00,  2.60it/s]\n",
      "Testing weights for xgboost_exp_05: 100%|██████████| 101/101 [00:38<00:00,  2.59it/s]\n",
      "Testing weights for lgbm_exp_05: 100%|██████████| 101/101 [00:39<00:00,  2.59it/s]\n",
      "Testing weights for vr_exp_01: 100%|██████████| 101/101 [00:39<00:00,  2.58it/s]\n",
      "Testing weights for tt_exp_01: 100%|██████████| 101/101 [00:39<00:00,  2.58it/s]\n",
      "Testing weights for en_exp_01: 100%|██████████| 101/101 [00:39<00:00,  2.59it/s]\n",
      "Testing weights for en_exp_02: 100%|██████████| 101/101 [00:38<00:00,  2.59it/s]\n",
      "Testing weights for nn_exp_05: 100%|██████████| 101/101 [00:39<00:00,  2.58it/s]\n",
      "Testing weights for mcts_exp_02: 100%|██████████| 101/101 [00:39<00:00,  2.59it/s]\n",
      "Testing weights for xgboost_exp_07: 100%|██████████| 101/101 [00:38<00:00,  2.60it/s]\n",
      "Testing weights for ri_exp_01: 100%|██████████| 101/101 [00:39<00:00,  2.58it/s]\n",
      "Testing weights for xgboost_exp_08: 100%|██████████| 101/101 [00:39<00:00,  2.58it/s]\n",
      "Testing weights for catboost_exp_08: 100%|██████████| 101/101 [00:39<00:00,  2.54it/s]\n"
     ]
    },
    {
     "name": "stdout",
     "output_type": "stream",
     "text": [
      "Iteration 18: Added /kaggle/input/en-exp-01 with weight 0.0000, Score: 0.6878\n",
      "18th iteration\n"
     ]
    },
    {
     "name": "stderr",
     "output_type": "stream",
     "text": [
      "Testing weights for catboost_exp_02: 100%|██████████| 101/101 [00:39<00:00,  2.58it/s]\n",
      "Testing weights for lgbm_exp_03: 100%|██████████| 101/101 [00:38<00:00,  2.59it/s]\n",
      "Testing weights for tabm_exp_01: 100%|██████████| 101/101 [00:38<00:00,  2.59it/s]\n",
      "Testing weights for nn_exp_01: 100%|██████████| 101/101 [00:39<00:00,  2.59it/s]\n",
      "Testing weights for tn_exp_01: 100%|██████████| 101/101 [00:39<00:00,  2.59it/s]\n",
      "Testing weights for abd_exp_01: 100%|██████████| 101/101 [00:38<00:00,  2.59it/s]\n",
      "Testing weights for catboost_exp_04: 100%|██████████| 101/101 [00:39<00:00,  2.59it/s]\n",
      "Testing weights for lgbm_exp_04: 100%|██████████| 101/101 [00:39<00:00,  2.59it/s]\n",
      "Testing weights for nn_exp_02: 100%|██████████| 101/101 [00:39<00:00,  2.57it/s]\n",
      "Testing weights for nn_exp_04: 100%|██████████| 101/101 [00:39<00:00,  2.58it/s]\n",
      "Testing weights for xgboost_exp_05: 100%|██████████| 101/101 [00:39<00:00,  2.57it/s]\n",
      "Testing weights for lgbm_exp_05: 100%|██████████| 101/101 [00:39<00:00,  2.58it/s]\n",
      "Testing weights for vr_exp_01: 100%|██████████| 101/101 [00:39<00:00,  2.57it/s]\n",
      "Testing weights for tt_exp_01: 100%|██████████| 101/101 [00:40<00:00,  2.49it/s]\n",
      "Testing weights for en_exp_02: 100%|██████████| 101/101 [00:39<00:00,  2.54it/s]\n",
      "Testing weights for nn_exp_05: 100%|██████████| 101/101 [00:39<00:00,  2.54it/s]\n",
      "Testing weights for mcts_exp_02: 100%|██████████| 101/101 [00:39<00:00,  2.54it/s]\n",
      "Testing weights for xgboost_exp_07: 100%|██████████| 101/101 [00:39<00:00,  2.58it/s]\n",
      "Testing weights for ri_exp_01: 100%|██████████| 101/101 [00:39<00:00,  2.58it/s]\n",
      "Testing weights for xgboost_exp_08: 100%|██████████| 101/101 [00:39<00:00,  2.59it/s]\n",
      "Testing weights for catboost_exp_08: 100%|██████████| 101/101 [00:39<00:00,  2.58it/s]\n"
     ]
    },
    {
     "name": "stdout",
     "output_type": "stream",
     "text": [
      "Iteration 19: Added /kaggle/input/xgboost-exp-07 with weight 0.0000, Score: 0.6878\n",
      "19th iteration\n"
     ]
    },
    {
     "name": "stderr",
     "output_type": "stream",
     "text": [
      "Testing weights for catboost_exp_02: 100%|██████████| 101/101 [00:39<00:00,  2.58it/s]\n",
      "Testing weights for lgbm_exp_03: 100%|██████████| 101/101 [00:39<00:00,  2.54it/s]\n",
      "Testing weights for tabm_exp_01: 100%|██████████| 101/101 [00:39<00:00,  2.53it/s]\n",
      "Testing weights for nn_exp_01: 100%|██████████| 101/101 [00:39<00:00,  2.53it/s]\n",
      "Testing weights for tn_exp_01: 100%|██████████| 101/101 [00:39<00:00,  2.54it/s]\n",
      "Testing weights for abd_exp_01: 100%|██████████| 101/101 [00:40<00:00,  2.51it/s]\n",
      "Testing weights for catboost_exp_04: 100%|██████████| 101/101 [00:39<00:00,  2.55it/s]\n",
      "Testing weights for lgbm_exp_04: 100%|██████████| 101/101 [00:39<00:00,  2.57it/s]\n",
      "Testing weights for nn_exp_02: 100%|██████████| 101/101 [00:39<00:00,  2.57it/s]\n",
      "Testing weights for nn_exp_04: 100%|██████████| 101/101 [00:39<00:00,  2.55it/s]\n",
      "Testing weights for xgboost_exp_05: 100%|██████████| 101/101 [00:39<00:00,  2.56it/s]\n",
      "Testing weights for lgbm_exp_05: 100%|██████████| 101/101 [00:39<00:00,  2.57it/s]\n",
      "Testing weights for vr_exp_01: 100%|██████████| 101/101 [00:39<00:00,  2.56it/s]\n",
      "Testing weights for tt_exp_01: 100%|██████████| 101/101 [00:40<00:00,  2.52it/s]\n",
      "Testing weights for en_exp_02: 100%|██████████| 101/101 [00:39<00:00,  2.54it/s]\n",
      "Testing weights for nn_exp_05: 100%|██████████| 101/101 [00:39<00:00,  2.53it/s]\n",
      "Testing weights for mcts_exp_02: 100%|██████████| 101/101 [00:39<00:00,  2.54it/s]\n",
      "Testing weights for ri_exp_01: 100%|██████████| 101/101 [00:41<00:00,  2.46it/s]\n",
      "Testing weights for xgboost_exp_08: 100%|██████████| 101/101 [00:39<00:00,  2.55it/s]\n",
      "Testing weights for catboost_exp_08: 100%|██████████| 101/101 [00:39<00:00,  2.54it/s]\n"
     ]
    },
    {
     "name": "stdout",
     "output_type": "stream",
     "text": [
      "Iteration 20: Added /kaggle/input/tabm-exp-01 with weight 0.0000, Score: 0.6878\n",
      "20th iteration\n"
     ]
    },
    {
     "name": "stderr",
     "output_type": "stream",
     "text": [
      "Testing weights for catboost_exp_02: 100%|██████████| 101/101 [00:39<00:00,  2.56it/s]\n",
      "Testing weights for lgbm_exp_03: 100%|██████████| 101/101 [00:39<00:00,  2.57it/s]\n",
      "Testing weights for nn_exp_01: 100%|██████████| 101/101 [00:39<00:00,  2.56it/s]\n",
      "Testing weights for tn_exp_01: 100%|██████████| 101/101 [00:39<00:00,  2.55it/s]\n",
      "Testing weights for abd_exp_01: 100%|██████████| 101/101 [00:39<00:00,  2.56it/s]\n",
      "Testing weights for catboost_exp_04: 100%|██████████| 101/101 [00:39<00:00,  2.54it/s]\n",
      "Testing weights for lgbm_exp_04: 100%|██████████| 101/101 [00:39<00:00,  2.56it/s]\n",
      "Testing weights for nn_exp_02: 100%|██████████| 101/101 [00:39<00:00,  2.59it/s]\n",
      "Testing weights for nn_exp_04: 100%|██████████| 101/101 [00:39<00:00,  2.57it/s]\n",
      "Testing weights for xgboost_exp_05: 100%|██████████| 101/101 [00:40<00:00,  2.48it/s]\n",
      "Testing weights for lgbm_exp_05: 100%|██████████| 101/101 [00:39<00:00,  2.57it/s]\n",
      "Testing weights for vr_exp_01: 100%|██████████| 101/101 [00:39<00:00,  2.56it/s]\n",
      "Testing weights for tt_exp_01: 100%|██████████| 101/101 [00:39<00:00,  2.56it/s]\n",
      "Testing weights for en_exp_02: 100%|██████████| 101/101 [00:39<00:00,  2.57it/s]\n",
      "Testing weights for nn_exp_05: 100%|██████████| 101/101 [00:39<00:00,  2.58it/s]\n",
      "Testing weights for mcts_exp_02: 100%|██████████| 101/101 [00:39<00:00,  2.59it/s]\n",
      "Testing weights for ri_exp_01: 100%|██████████| 101/101 [00:39<00:00,  2.59it/s]\n",
      "Testing weights for xgboost_exp_08: 100%|██████████| 101/101 [00:39<00:00,  2.58it/s]\n",
      "Testing weights for catboost_exp_08: 100%|██████████| 101/101 [00:38<00:00,  2.59it/s]\n"
     ]
    },
    {
     "name": "stdout",
     "output_type": "stream",
     "text": [
      "Iteration 21: Added /kaggle/input/mcts-exp-02 with weight 0.0000, Score: 0.6878\n",
      "21th iteration\n"
     ]
    },
    {
     "name": "stderr",
     "output_type": "stream",
     "text": [
      "Testing weights for catboost_exp_02: 100%|██████████| 101/101 [00:39<00:00,  2.58it/s]\n",
      "Testing weights for lgbm_exp_03: 100%|██████████| 101/101 [00:38<00:00,  2.59it/s]\n",
      "Testing weights for nn_exp_01: 100%|██████████| 101/101 [00:39<00:00,  2.57it/s]\n",
      "Testing weights for tn_exp_01: 100%|██████████| 101/101 [00:39<00:00,  2.57it/s]\n",
      "Testing weights for abd_exp_01: 100%|██████████| 101/101 [00:39<00:00,  2.59it/s]\n",
      "Testing weights for catboost_exp_04: 100%|██████████| 101/101 [00:39<00:00,  2.58it/s]\n",
      "Testing weights for lgbm_exp_04: 100%|██████████| 101/101 [00:39<00:00,  2.56it/s]\n",
      "Testing weights for nn_exp_02: 100%|██████████| 101/101 [00:39<00:00,  2.58it/s]\n",
      "Testing weights for nn_exp_04: 100%|██████████| 101/101 [00:39<00:00,  2.58it/s]\n",
      "Testing weights for xgboost_exp_05: 100%|██████████| 101/101 [00:39<00:00,  2.56it/s]\n",
      "Testing weights for lgbm_exp_05: 100%|██████████| 101/101 [00:39<00:00,  2.57it/s]\n",
      "Testing weights for vr_exp_01: 100%|██████████| 101/101 [00:39<00:00,  2.58it/s]\n",
      "Testing weights for tt_exp_01: 100%|██████████| 101/101 [00:39<00:00,  2.57it/s]\n",
      "Testing weights for en_exp_02: 100%|██████████| 101/101 [00:40<00:00,  2.52it/s]\n",
      "Testing weights for nn_exp_05: 100%|██████████| 101/101 [00:39<00:00,  2.55it/s]\n",
      "Testing weights for ri_exp_01: 100%|██████████| 101/101 [00:39<00:00,  2.58it/s]\n",
      "Testing weights for xgboost_exp_08: 100%|██████████| 101/101 [00:39<00:00,  2.57it/s]\n",
      "Testing weights for catboost_exp_08: 100%|██████████| 101/101 [00:39<00:00,  2.58it/s]\n"
     ]
    },
    {
     "name": "stdout",
     "output_type": "stream",
     "text": [
      "No improvement found, stopping\n",
      "{'index': -1, 'weight': 0, 'score': 0.6878043539669746}\n",
      "CPU times: user 6h 54min 23s, sys: 34.2 s, total: 6h 54min 57s\n",
      "Wall time: 6h 54min 38s\n"
     ]
    }
   ],
   "source": [
    "%%time\n",
    "\n",
    "from tqdm import tqdm\n",
    "import pandas as pd\n",
    "import numpy as np\n",
    "from typing import List, Dict, Tuple\n",
    "import logging\n",
    "import gc\n",
    "\n",
    "def optimize_ensemble(experiments, initial_ensemble, weights_range, score_function, max_iterations = 100):\n",
    "    \n",
    "    # Initialize variables\n",
    "    iteration  = 0\n",
    "    best_score = score_function(\n",
    "        initial_ensemble[[\"ID\", \"efs\", \"efs_time\", \"race_group\"]].copy(),\n",
    "        initial_ensemble[[\"ID\", \"predictions\"]].copy(),\n",
    "        \"ID\"\n",
    "    )\n",
    "    \n",
    "    model_weights         = {}\n",
    "    remaining_experiments = experiments.copy()\n",
    "    best_ensemble         = initial_ensemble.copy()\n",
    "    \n",
    "    while remaining_experiments and iteration < max_iterations:\n",
    "        print(f\"{iteration}th iteration\")\n",
    "        iteration += 1\n",
    "        best_iteration = {\n",
    "            'index' : -1,\n",
    "            'weight': 0,\n",
    "            'score' : best_score\n",
    "        }\n",
    "        \n",
    "        # Try each remaining model\n",
    "        for model_path in remaining_experiments:\n",
    "            try:\n",
    "                #print(f\"Iteration {iteration}: Trying model {model_path}\")\n",
    "                \n",
    "                # Load model OOF predictions\n",
    "                model_name = model_path.split(\"/\")[-1].replace('-', '_')\n",
    "                model_oof  = preds_df[model_path]\n",
    "                \n",
    "                # Try different weights\n",
    "                for weight in tqdm(weights_range, desc=f\"Testing weights for {model_name}\"):\n",
    "                    # Create potential ensemble\n",
    "                    potential_ensemble = pd.DataFrame({\n",
    "                        \"ID\": best_ensemble[\"ID\"],\n",
    "                        \"predictions\": (1 - weight) * rankdata(best_ensemble[\"predictions\"]) + \n",
    "                                     weight * rankdata(model_oof)\n",
    "                    })\n",
    "                    \n",
    "                    # Evaluate new ensemble\n",
    "                    new_score = score_function(\n",
    "                        preds_df[[\"ID\", \"efs\", \"efs_time\", \"race_group\"]].copy(),\n",
    "                        potential_ensemble.copy(),\n",
    "                        \"ID\"\n",
    "                    )\n",
    "                    \n",
    "                    # Update best if improved\n",
    "                    if new_score > best_iteration['score']:\n",
    "                        best_iteration.update({\n",
    "                            'index' : model_path,\n",
    "                            'weight': weight,\n",
    "                            'score' : new_score\n",
    "                        })\n",
    "                \n",
    "                # Clean up\n",
    "                del model_oof\n",
    "                gc.collect()\n",
    "                \n",
    "            except Exception as e:\n",
    "                print(f\"Error processing {model_path}: {str(e)}\")\n",
    "                continue\n",
    "        \n",
    "        # Check if we found an improvement\n",
    "        if best_iteration['index'] == -1:\n",
    "            print(\"No improvement found, stopping\")\n",
    "            print(best_iteration)\n",
    "            break\n",
    "            \n",
    "        # Update ensemble with best model found\n",
    "        best_score                             = best_iteration['score']\n",
    "        model_weights[best_iteration['index']] = best_iteration['weight']\n",
    "        remaining_experiments.remove(best_iteration['index'])\n",
    "        \n",
    "        print(\n",
    "            f\"Iteration {iteration}: Added {best_iteration['index']} \"\n",
    "            f\"with weight {best_iteration['weight']:.4f}, \"\n",
    "            f\"Score: {best_iteration['score']:.4f}\"\n",
    "        )\n",
    "        \n",
    "        # Update best ensemble for next iteration\n",
    "        model_oof = preds_df[best_iteration['index']]\n",
    "        best_ensemble[\"predictions\"] = (\n",
    "            (1 - best_iteration['weight']) * rankdata(best_ensemble[\"predictions\"]) + \n",
    "            best_iteration['weight'] * rankdata(model_oof)\n",
    "        )\n",
    "        \n",
    "    return model_weights, best_score\n",
    "\n",
    "\n",
    "model_weights, best_score = optimize_ensemble(experiments, best_ensemble, ww, score)"
   ]
  },
  {
   "cell_type": "code",
   "execution_count": 20,
   "id": "def00a35",
   "metadata": {
    "execution": {
     "iopub.execute_input": "2025-02-22T12:37:19.170004Z",
     "iopub.status.busy": "2025-02-22T12:37:19.169502Z",
     "iopub.status.idle": "2025-02-22T12:37:19.178428Z",
     "shell.execute_reply": "2025-02-22T12:37:19.177333Z"
    },
    "papermill": {
     "duration": 3.917084,
     "end_time": "2025-02-22T12:37:19.180328",
     "exception": false,
     "start_time": "2025-02-22T12:37:15.263244",
     "status": "completed"
    },
    "tags": []
   },
   "outputs": [
    {
     "data": {
      "text/plain": [
       "({'/kaggle/input/nn-exp-06': 0.45000000000000084,\n",
       "  '/kaggle/input/catboost-exp-05': 0.32000000000000073,\n",
       "  '/kaggle/input/lgbm-exp-08': -0.23999999999999977,\n",
       "  '/kaggle/input/catboost-exp-01': 0.09000000000000052,\n",
       "  '/kaggle/input/svr-exp-01': -0.029999999999999583,\n",
       "  '/kaggle/input/rf-exp-05': -0.05999999999999961,\n",
       "  '/kaggle/input/ds-exp-01': 0.05000000000000049,\n",
       "  '/kaggle/input/tn-exp-02': 0.05000000000000049,\n",
       "  '/kaggle/input/xgboost-exp-02': -0.07999999999999963,\n",
       "  '/kaggle/input/tabm-exp-02': 0.0600000000000005,\n",
       "  '/kaggle/input/xgboost-exp-06': -0.08999999999999964,\n",
       "  '/kaggle/input/lgbm-exp-01': -0.03999999999999959,\n",
       "  '/kaggle/input/catboost-exp-06': 0.0700000000000005,\n",
       "  '/kaggle/input/tf-exp-01': 0.03000000000000047,\n",
       "  '/kaggle/input/catboost-exp-03': -0.05999999999999961,\n",
       "  '/kaggle/input/xgboost-exp-01': 0.03000000000000047,\n",
       "  '/kaggle/input/lgbm-exp-06': -0.029999999999999583,\n",
       "  '/kaggle/input/en-exp-01': 4.440892098500626e-16,\n",
       "  '/kaggle/input/xgboost-exp-07': 4.440892098500626e-16,\n",
       "  '/kaggle/input/tabm-exp-01': 4.440892098500626e-16,\n",
       "  '/kaggle/input/mcts-exp-02': 4.440892098500626e-16},\n",
       " 0.6878043539669746)"
      ]
     },
     "execution_count": 20,
     "metadata": {},
     "output_type": "execute_result"
    }
   ],
   "source": [
    "model_weights, best_score"
   ]
  },
  {
   "cell_type": "code",
   "execution_count": 21,
   "id": "21cca7e3",
   "metadata": {
    "execution": {
     "iopub.execute_input": "2025-02-22T12:37:27.031508Z",
     "iopub.status.busy": "2025-02-22T12:37:27.031160Z",
     "iopub.status.idle": "2025-02-22T12:37:27.037690Z",
     "shell.execute_reply": "2025-02-22T12:37:27.036821Z"
    },
    "papermill": {
     "duration": 4.025391,
     "end_time": "2025-02-22T12:37:27.039413",
     "exception": false,
     "start_time": "2025-02-22T12:37:23.014022",
     "status": "completed"
    },
    "tags": []
   },
   "outputs": [
    {
     "data": {
      "text/plain": [
       "('/kaggle/input/xgboost-exp-09',\n",
       " ['/kaggle/input/xgboost-exp-01',\n",
       "  '/kaggle/input/catboost-exp-01',\n",
       "  '/kaggle/input/lgbm-exp-01',\n",
       "  '/kaggle/input/xgboost-exp-02',\n",
       "  '/kaggle/input/catboost-exp-02',\n",
       "  '/kaggle/input/lgbm-exp-03',\n",
       "  '/kaggle/input/catboost-exp-03',\n",
       "  '/kaggle/input/tabm-exp-01',\n",
       "  '/kaggle/input/nn-exp-01',\n",
       "  '/kaggle/input/tn-exp-01',\n",
       "  '/kaggle/input/tf-exp-01',\n",
       "  '/kaggle/input/svr-exp-01',\n",
       "  '/kaggle/input/abd-exp-01',\n",
       "  '/kaggle/input/catboost-exp-04',\n",
       "  '/kaggle/input/lgbm-exp-04',\n",
       "  '/kaggle/input/tabm-exp-02',\n",
       "  '/kaggle/input/ds-exp-01',\n",
       "  '/kaggle/input/nn-exp-02',\n",
       "  '/kaggle/input/nn-exp-04',\n",
       "  '/kaggle/input/catboost-exp-05',\n",
       "  '/kaggle/input/xgboost-exp-05',\n",
       "  '/kaggle/input/lgbm-exp-05',\n",
       "  '/kaggle/input/tn-exp-02',\n",
       "  '/kaggle/input/vr-exp-01',\n",
       "  '/kaggle/input/tt-exp-01',\n",
       "  '/kaggle/input/en-exp-01',\n",
       "  '/kaggle/input/en-exp-02',\n",
       "  '/kaggle/input/nn-exp-05',\n",
       "  '/kaggle/input/rf-exp-05',\n",
       "  '/kaggle/input/mcts-exp-02',\n",
       "  '/kaggle/input/catboost-exp-06',\n",
       "  '/kaggle/input/xgboost-exp-06',\n",
       "  '/kaggle/input/lgbm-exp-06',\n",
       "  '/kaggle/input/nn-exp-06',\n",
       "  '/kaggle/input/xgboost-exp-07',\n",
       "  '/kaggle/input/ri-exp-01',\n",
       "  '/kaggle/input/xgboost-exp-08',\n",
       "  '/kaggle/input/catboost-exp-08',\n",
       "  '/kaggle/input/lgbm-exp-08'])"
      ]
     },
     "execution_count": 21,
     "metadata": {},
     "output_type": "execute_result"
    }
   ],
   "source": [
    "first_best_index, experiments"
   ]
  },
  {
   "cell_type": "markdown",
   "id": "0849b2a9",
   "metadata": {
    "papermill": {
     "duration": 3.855728,
     "end_time": "2025-02-22T12:37:34.724481",
     "exception": false,
     "start_time": "2025-02-22T12:37:30.868753",
     "status": "completed"
    },
    "tags": []
   },
   "source": [
    "## Step 6: Inference on test"
   ]
  },
  {
   "cell_type": "code",
   "execution_count": 22,
   "id": "0213fdbf",
   "metadata": {
    "execution": {
     "iopub.execute_input": "2025-02-22T12:37:42.335680Z",
     "iopub.status.busy": "2025-02-22T12:37:42.335330Z",
     "iopub.status.idle": "2025-02-22T12:37:42.342339Z",
     "shell.execute_reply": "2025-02-22T12:37:42.341205Z"
    },
    "jupyter": {
     "source_hidden": true
    },
    "papermill": {
     "duration": 3.823046,
     "end_time": "2025-02-22T12:37:42.344110",
     "exception": false,
     "start_time": "2025-02-22T12:37:38.521064",
     "status": "completed"
    },
    "tags": []
   },
   "outputs": [],
   "source": [
    "# class CFG:\n",
    "#     folds = 10\n",
    "\n",
    "# # https://www.kaggle.com/datasets/jsday96/mcts-tabm-models/data?select=TabMRegressor.py\n",
    "# class TabMRegressor:\n",
    "#     def __init__(\n",
    "#         self,\n",
    "#         arch_type: str        = 'tabm-mini',\n",
    "#         backbone: dict        = {'type': 'MLP', 'n_blocks': 3, 'd_block': 512, 'dropout': 0.1},\n",
    "#         d_embedding: int      = 64,  # Only used for 'tabm-mini'\n",
    "#         bin_count: int        = 48,  # Only used for 'tabm-mini'\n",
    "#         k: int                = 32,\n",
    "#         learning_rate: float  = 1e-4,\n",
    "#         weight_decay: float   = 1e-3,\n",
    "#         clip_grad_norm: bool  = True,\n",
    "#         max_epochs: int       = 100,\n",
    "#         patience: int         = 15,\n",
    "#         batch_size: int       = 32,\n",
    "#         compile_model: bool   = False,\n",
    "#         device: Optional[str] = 'cuda:0',\n",
    "#         random_state: int     = 0,\n",
    "#         verbose: bool         = True\n",
    "#     ):\n",
    "#         self.arch_type = arch_type\n",
    "#         self.backbone = backbone\n",
    "#         self.d_embedding = d_embedding\n",
    "#         self.bin_count = bin_count\n",
    "#         self.k = k\n",
    "#         self.learning_rate = learning_rate\n",
    "#         self.weight_decay = weight_decay\n",
    "#         self.clip_grad_norm = clip_grad_norm\n",
    "#         self.max_epochs = max_epochs\n",
    "#         self.patience = patience\n",
    "#         self.batch_size = batch_size\n",
    "#         self.compile_model = compile_model\n",
    "#         self.device = torch.device(device if device else ('cuda' if torch.cuda.is_available() else 'cpu'))\n",
    "#         self.random_state = random_state\n",
    "#         self.verbose = verbose\n",
    "\n",
    "#     def fit(\n",
    "#         self,\n",
    "#         X: pd.DataFrame,\n",
    "#         y: np.array,\n",
    "#         eval_set: Tuple[pd.DataFrame, np.array]\n",
    "#     ):\n",
    "#         # PREPROCESS DATA.\n",
    "#         X_cat_train, X_cont_train, cat_cardinalities, y_train = self._preprocess_data(X, y, training=True)\n",
    "#         X_cat_val, X_cont_val, _, y_val = self._preprocess_data(eval_set[0], eval_set[1], training=False)\n",
    "\n",
    "#         # CREATE MODEL & TRAINING ALGO.\n",
    "#         bins = rtdl_num_embeddings.compute_bins(X_cont_train, n_bins=self.bin_count) if self.arch_type == 'tabm-mini' else None\n",
    "#         self.model = Model(\n",
    "#             n_num_features=X_cont_train.shape[1],\n",
    "#             cat_cardinalities=cat_cardinalities,\n",
    "#             n_classes=None,\n",
    "#             backbone=self.backbone,\n",
    "#             bins=bins,\n",
    "#             num_embeddings=(\n",
    "#                 None\n",
    "#                 if bins is None\n",
    "#                 else {\n",
    "#                     'type': 'PiecewiseLinearEmbeddings',\n",
    "#                     'd_embedding': self.d_embedding,\n",
    "#                     'activation': True,\n",
    "#                     'version': 'B',\n",
    "#                 }\n",
    "#             ),\n",
    "#             arch_type=self.arch_type,\n",
    "#             k=self.k,\n",
    "#         ).to(self.device)\n",
    "#         optimizer = torch.optim.AdamW(make_parameter_groups(self.model), lr=self.learning_rate, weight_decay=self.weight_decay)\n",
    "#         if self.compile_model:\n",
    "#             self.model = torch.compile(self.model)\n",
    "\n",
    "#         loss_fn = torch.nn.MSELoss().to(self.device)\n",
    "#         # TRAIN & TEST MODEL.\n",
    "#         best = {\n",
    "#             'epoch': -1,\n",
    "#             'eval_loss': math.inf,\n",
    "#             'model_state_dict': None,\n",
    "#         }\n",
    "#         remaining_patience = self.patience\n",
    "#         epoch_size = math.ceil(len(X) / self.batch_size)\n",
    "\n",
    "\n",
    "#         for epoch in range(self.max_epochs):\n",
    "#             # TRAIN.\n",
    "#             optimizer.zero_grad()\n",
    "#             train_losses = []\n",
    "#             progress_bar = torch.randperm(len(y_train), device=self.device).split(self.batch_size)\n",
    "#             progress_bar = tqdm(progress_bar, desc=f'Epoch {epoch}', total=epoch_size) if self.verbose else progress_bar\n",
    "#             for batch_idx in progress_bar:\n",
    "#                 self.model.train()\n",
    "\n",
    "#                 with torch.amp.autocast(device_type='cuda', dtype = torch.bfloat16):\n",
    "#                     y_pred = self.model(\n",
    "#                         X_cont_train[batch_idx],\n",
    "#                         X_cat_train[batch_idx],\n",
    "#                     ).squeeze(-1).float()\n",
    "\n",
    "#                 loss = loss_fn(y_pred.flatten(0, 1), y_train[batch_idx].repeat_interleave(self.k))\n",
    "#                 loss.backward()\n",
    "#                 if self.clip_grad_norm:\n",
    "#                     torch.nn.utils.clip_grad_norm_(self.model.parameters(), 1.0)\n",
    "#                 optimizer.step()\n",
    "\n",
    "#                 train_losses.append(loss.item())\n",
    "\n",
    "\n",
    "#              # EVALUATE.\n",
    "#             self.model.eval()\n",
    "#             val_losses = []\n",
    "#             with torch.no_grad():\n",
    "#                 for batch_idx in torch.arange(0, len(y_val), self.batch_size, device=self.device):\n",
    "#                     y_pred = self.model(\n",
    "#                         X_cont_val[batch_idx:batch_idx+self.batch_size],\n",
    "#                         X_cat_val[batch_idx:batch_idx+self.batch_size],\n",
    "#                     ).squeeze(-1).float()\n",
    "\n",
    "#                     loss = loss_fn(y_pred.flatten(0, 1), y_val[batch_idx:batch_idx+self.batch_size].repeat_interleave(self.k))\n",
    "#                     val_losses.append(loss.item())\n",
    "\n",
    "\n",
    "#             # PRINT INFO.\n",
    "#             mean_train_loss = np.mean(train_losses)\n",
    "#             mean_val_loss = np.mean(val_losses)\n",
    "#             if self.verbose:\n",
    "#                 print(f'Epoch {epoch} | Train Loss: {mean_train_loss} | Val Loss: {mean_val_loss}')\n",
    "\n",
    "\n",
    "#             # COMPARE TO BEST.\n",
    "#             if mean_val_loss < best['eval_loss']:\n",
    "#                 best['epoch'] = epoch\n",
    "#                 best['eval_loss'] = mean_val_loss\n",
    "#                 best['model_state_dict'] = self.model.state_dict()\n",
    "#                 remaining_patience = self.patience\n",
    "                \n",
    "#                 if self.verbose:\n",
    "#                     print('🌸 New best epoch! 🌸')\n",
    "#             else:\n",
    "#                 remaining_patience -= 1\n",
    "\n",
    "#             # EARLY STOPPING.\n",
    "#             if remaining_patience == 0:\n",
    "#                 break\n",
    "\n",
    "#             # RESTORE BEST MODEL.\n",
    "#             self.model.load_state_dict(best['model_state_dict'])\n",
    "\n",
    "\n",
    "#     def predict(\n",
    "#         self,\n",
    "#         X: pd.DataFrame,\n",
    "#         batch_size: Optional[int] = 8096\n",
    "#     ) -> np.ndarray:\n",
    "#         # PREPROCESS DATA.\n",
    "#         X_cat, X_cont, _, _ = self._preprocess_data(X, y=None, training=False)\n",
    "\n",
    "#         # PREDICT.\n",
    "#         self.model.eval()\n",
    "#         y_pred = []\n",
    "#         with torch.no_grad():\n",
    "#             for batch_idx in torch.arange(0, len(X), batch_size, device=self.device):\n",
    "#                 y_pred.append(\n",
    "#                     self.model(\n",
    "#                         X_cont[batch_idx:batch_idx+batch_size],\n",
    "#                         X_cat[batch_idx:batch_idx+batch_size],\n",
    "#                     ).squeeze(-1).float().cpu().numpy()\n",
    "#                 )\n",
    "\n",
    "#         y_pred = np.concatenate(y_pred)\n",
    "\n",
    "\n",
    "#         # DENORMALIZE TARGETS.\n",
    "#         y_pred = y_pred * self._target_std + self._target_mean\n",
    "\n",
    "\n",
    "#         # COMPUTE ENSEMBLE MEAN.\n",
    "#         y_pred = np.mean(y_pred, axis=1)\n",
    "\n",
    "#         return y_pred\n",
    "\n",
    "\n",
    "#     def _preprocess_data(self, X: pd.DataFrame, y: pd.Series, training: bool):\n",
    "#         # PICK NON-CONSTANT COLUMNS.\n",
    "#         if training:\n",
    "#             self._non_constant_columns = X.columns[X.nunique() > 1]\n",
    "\n",
    "#         X = X[self._non_constant_columns]\n",
    "\n",
    "#         # SEPARATE CATEGORICAL & CONTINUOUS FEATURES.\n",
    "#         categorical_features = [col for col in X.columns if X[col].dtype.name == 'object']\n",
    "#         X_cat = X[categorical_features].to_numpy()\n",
    "#         X_cont = X.drop(columns=categorical_features).to_numpy()\n",
    "\n",
    "#         # ENCODE CATEGORICAL FEATURES.\n",
    "#         cat_cardinalities = [X[col].nunique() for col in categorical_features]\n",
    "\n",
    "#         if training:\n",
    "#             self._categorical_encoders = [\n",
    "#                 OrdinalEncoder()\n",
    "#                 for _ in range(X_cat.shape[1])\n",
    "#             ]\n",
    "#         X_cat = np.concatenate([\n",
    "#             encoder.fit_transform(X_cat[:, i:i+1])\n",
    "#             for i, encoder in enumerate(self._categorical_encoders)\n",
    "#         ], axis=1)\n",
    "\n",
    "#         # NORMALIZE TARGETS.\n",
    "#         if training:\n",
    "#             self._target_mean = y.mean()\n",
    "#             self._target_std = y.std()\n",
    "\n",
    "#             y = (y - self._target_mean) / self._target_std\n",
    "\n",
    "\n",
    "#         # SCALE CONTINUOUS FEATURES.\n",
    "#         if training:\n",
    "#             noise = (\n",
    "#                 np.random.default_rng(0)\n",
    "#                 .normal(0.0, 1e-5, X_cont.shape)\n",
    "#                 .astype(X_cont.dtype)\n",
    "#             )\n",
    "#             self._cont_feature_preprocessor = QuantileTransformer(\n",
    "#                 n_quantiles=max(min(len(X) // 30, 1000), 10),\n",
    "#                 output_distribution='normal',\n",
    "#                 subsample=10**9,\n",
    "#             ).fit(X_cont + noise)\n",
    "\n",
    "#         X_cont = self._cont_feature_preprocessor.transform(X_cont)\n",
    "\n",
    "\n",
    "#         # CONVERT TO TENSORS.\n",
    "#         X_cat = torch.tensor(X_cat, dtype=torch.long, device=self.device)\n",
    "#         X_cont = torch.tensor(X_cont, dtype=torch.float32, device=self.device)\n",
    "\n",
    "#         if y is not None:\n",
    "#             y = torch.tensor(y, dtype=torch.float32, device=self.device)\n",
    "\n",
    "#         return X_cat, X_cont, cat_cardinalities, y\n"
   ]
  },
  {
   "cell_type": "code",
   "execution_count": 23,
   "id": "7c24306a",
   "metadata": {
    "execution": {
     "iopub.execute_input": "2025-02-22T12:37:49.983064Z",
     "iopub.status.busy": "2025-02-22T12:37:49.982638Z",
     "iopub.status.idle": "2025-02-22T12:37:49.987542Z",
     "shell.execute_reply": "2025-02-22T12:37:49.986083Z"
    },
    "jupyter": {
     "source_hidden": true
    },
    "papermill": {
     "duration": 3.806199,
     "end_time": "2025-02-22T12:37:49.989604",
     "exception": false,
     "start_time": "2025-02-22T12:37:46.183405",
     "status": "completed"
    },
    "tags": []
   },
   "outputs": [],
   "source": [
    "# def get_tabm_features(data):\n",
    "#     RMV = [\"ID\",\"efs\",\"efs_time\",\"y\",\"fold\"]\n",
    "#     FEATURES = [c for c in data.columns if not c in RMV]\n",
    "    \n",
    "#     RMV              = ['ID']\n",
    "#     X_test           = data.drop(RMV, axis=1)\n",
    "#     y_pred           = data[['ID']]\n",
    "    \n",
    "#     #print(\"X_test shape:\", X_test.shape, '\\n')\n",
    "    \n",
    "#     cat_cols         = X_test.select_dtypes(include=['object']).columns.tolist()\n",
    "#     num_cols         = X_test.select_dtypes(exclude=['object']).columns.tolist()\n",
    "    \n",
    "#     # Preprocessing categorical\n",
    "#     imputer          = SimpleImputer(strategy='constant', fill_value='NAN')\n",
    "#     X_test[cat_cols] = imputer.fit_transform(X_test[cat_cols])\n",
    "\n",
    "#     # Preprocessing numerical\n",
    "#     imputer          = SimpleImputer(strategy=\"median\")\n",
    "#     X_test[num_cols] = imputer.fit_transform(X_test[num_cols])\n",
    "\n",
    "#     return X_test,FEATURES"
   ]
  },
  {
   "cell_type": "code",
   "execution_count": 24,
   "id": "72f064a2",
   "metadata": {
    "execution": {
     "iopub.execute_input": "2025-02-22T12:37:57.914707Z",
     "iopub.status.busy": "2025-02-22T12:37:57.914365Z",
     "iopub.status.idle": "2025-02-22T12:37:57.919153Z",
     "shell.execute_reply": "2025-02-22T12:37:57.917962Z"
    },
    "jupyter": {
     "source_hidden": true
    },
    "papermill": {
     "duration": 3.828749,
     "end_time": "2025-02-22T12:37:57.921025",
     "exception": false,
     "start_time": "2025-02-22T12:37:54.092276",
     "status": "completed"
    },
    "tags": []
   },
   "outputs": [],
   "source": [
    "# def prepare_features(model_path, train, test):\n",
    "\n",
    "#     RMV = [\"ID\",\"efs\",\"efs_time\",\"y\"]\n",
    "#     FEATURES = [c for c in train.columns if not c in RMV]\n",
    "#     #print(f\"There are {len(FEATURES)} FEATURES: {FEATURES}\")\n",
    "    \n",
    "\n",
    "#     CATS = []\n",
    "#     for c in FEATURES:\n",
    "#         if train[c].dtype==\"object\":\n",
    "#             CATS.append(c)\n",
    "#             train[c] = train[c].fillna(\"NAN\")\n",
    "#             test[c]  = test[c].fillna(\"NAN\")\n",
    "#         elif \"DeepTabels\" in model_path or \"tn\" in model_path or \"svr\" in model_path:\n",
    "#             train[c] = train[c].fillna(-1)\n",
    "#             test[c]  = test[c].fillna(-1)\n",
    "            \n",
    "        \n",
    "#     #print(f\"In these features, there are {len(CATS)} CATEGORICAL FEATURES: {CATS}\")\n",
    "    \n",
    "#     combined = pd.concat([train,test],axis=0,ignore_index=True)\n",
    "#     #print(\"Combined data shape:\", combined.shape )\n",
    "    \n",
    "#     # LABEL ENCODE CATEGORICAL FEATURES\n",
    "#     #print(\"We LABEL ENCODE the CATEGORICAL FEATURES: \",end=\"\")\n",
    "#     for c in FEATURES:\n",
    "    \n",
    "#         # LABEL ENCODE CATEGORICAL AND CONVERT TO INT32 CATEGORY\n",
    "#         if c in CATS:\n",
    "#             #print(f\"{c}, \",end=\"\")\n",
    "#             combined[c],_ = combined[c].factorize()\n",
    "#             combined[c]  -= combined[c].min()\n",
    "#             combined[c]   = combined[c].astype(\"int32\")\n",
    "#             combined[c]   = combined[c].astype(\"category\")\n",
    "            \n",
    "#         # REDUCE PRECISION OF NUMERICAL TO 32BIT TO SAVE MEMORY\n",
    "#         else:\n",
    "#             if combined[c].dtype ==\"float64\":\n",
    "#                 combined[c]      = combined[c].astype(\"float32\")\n",
    "#             if combined[c].dtype ==\"int64\":\n",
    "#                 combined[c]      = combined[c].astype(\"int32\")\n",
    "        \n",
    "#     train = combined.iloc[:len(train)].copy()\n",
    "#     test  = combined.iloc[len(train):].reset_index(drop=True).copy()\n",
    "                \n",
    "#     return train, test, FEATURES"
   ]
  },
  {
   "cell_type": "code",
   "execution_count": 25,
   "id": "46dcf2cb",
   "metadata": {
    "execution": {
     "iopub.execute_input": "2025-02-22T12:38:05.608435Z",
     "iopub.status.busy": "2025-02-22T12:38:05.608047Z",
     "iopub.status.idle": "2025-02-22T12:38:05.612376Z",
     "shell.execute_reply": "2025-02-22T12:38:05.611361Z"
    },
    "jupyter": {
     "source_hidden": true
    },
    "papermill": {
     "duration": 3.882108,
     "end_time": "2025-02-22T12:38:05.614090",
     "exception": false,
     "start_time": "2025-02-22T12:38:01.731982",
     "status": "completed"
    },
    "tags": []
   },
   "outputs": [],
   "source": [
    "# def get_nn_features(train, test):\n",
    "    \n",
    "#     CAT_SIZE = []\n",
    "#     CAT_EMB  = []\n",
    "#     NUMS     = []\n",
    "#     CATS     = []\n",
    "\n",
    "#     RMV = [\"ID\",\"efs\",\"efs_time\",\"y\",\"fold\"]\n",
    "#     FEATURES = [c for c in train.columns if not c in RMV]\n",
    "    \n",
    "#     for c in FEATURES:\n",
    "#         if train[c].dtype==\"object\":\n",
    "#             train[c] = train[c].fillna(\"NAN\")\n",
    "#             test[c]  = test[c].fillna(\"NAN\")\n",
    "#             CATS.append(c)\n",
    "#         elif not \"age\" in c:\n",
    "#             train[c] = train[c].astype(\"str\")\n",
    "#             test[c]  = test[c].astype(\"str\")\n",
    "#             CATS.append(c)\n",
    "\n",
    "\n",
    "#     combined = pd.concat([train,test],axis=0,ignore_index=True)\n",
    "#     for c in FEATURES:\n",
    "#         if c in CATS:\n",
    "#             # LABEL ENCODE\n",
    "#             combined[c],_ = combined[c].factorize()\n",
    "#             combined[c] -= combined[c].min()\n",
    "#             combined[c] = combined[c].astype(\"int32\")\n",
    "#             #combined[c] = combined[c].astype(\"category\")\n",
    "\n",
    "#             n = combined[c].nunique()\n",
    "#             mn = combined[c].min()\n",
    "#             mx = combined[c].max()\n",
    "#             #print(f'{c} has ({n}) unique values')\n",
    "    \n",
    "#             CAT_SIZE.append(mx+1) \n",
    "#             CAT_EMB.append( int(np.ceil( np.sqrt(mx+1))) ) \n",
    "#         else:\n",
    "#             if combined[c].dtype==\"float64\":\n",
    "#                 combined[c] = combined[c].astype(\"float32\")\n",
    "#             if combined[c].dtype==\"int64\":\n",
    "#                 combined[c] = combined[c].astype(\"int32\")\n",
    "                \n",
    "#             m = combined[c].mean()\n",
    "#             s = combined[c].std()\n",
    "#             combined[c] = (combined[c]-m)/s\n",
    "#             combined[c] = combined[c].fillna(0)\n",
    "            \n",
    "#             NUMS.append(c)\n",
    "\n",
    "#     train = combined.iloc[:len(train)].copy()\n",
    "#     test = combined.iloc[len(train):].reset_index(drop=True).copy()\n",
    "\n",
    "#     return test[CATS], test[NUMS]"
   ]
  },
  {
   "cell_type": "code",
   "execution_count": 26,
   "id": "3751ce55",
   "metadata": {
    "execution": {
     "iopub.execute_input": "2025-02-22T12:38:13.278469Z",
     "iopub.status.busy": "2025-02-22T12:38:13.278102Z",
     "iopub.status.idle": "2025-02-22T12:38:13.282501Z",
     "shell.execute_reply": "2025-02-22T12:38:13.281468Z"
    },
    "jupyter": {
     "source_hidden": true
    },
    "papermill": {
     "duration": 3.85209,
     "end_time": "2025-02-22T12:38:13.284255",
     "exception": false,
     "start_time": "2025-02-22T12:38:09.432165",
     "status": "completed"
    },
    "tags": []
   },
   "outputs": [],
   "source": [
    "# def get_tf_features(train, test):\n",
    "#     RMV = [\"ID\",\"efs\",\"efs_time\",\"y\",\"y_na\",\"fold\"]\n",
    "#     FEATURES = [c for c in train.columns if not c in RMV]\n",
    "\n",
    "\n",
    "#     test                             = test.replace('Not done', 'missing')\n",
    "#     test                             = test.replace('Not tested', 'missing')\n",
    "    \n",
    "#     test['na_count']                 = test.isna().sum(axis=1)\n",
    "#     test['age_karnofsky']            = test['age_at_hct'] * test['karnofsky_score']\n",
    "#     test['age_comorbidity']          = test['age_at_hct'] * test['comorbidity_score']\n",
    "#     test['donor_recipient_age_diff'] = abs(test['donor_age'] - test['age_at_hct'])\n",
    "#     test['hla_match_ratio']          = (test['hla_high_res_8'] + test['hla_low_res_8']) / 16\n",
    "#     test['age_squared']              = test['age_at_hct'] ** 2\n",
    "#     test['karnofsky_squared']        = test['karnofsky_score'] ** 2\n",
    "#     test['16?']                      = np.where(test['age_at_hct']<=16,1,0)\n",
    "    \n",
    "#     FEATURES.extend([\"na_count\", \"age_karnofsky\", \"age_comorbidity\", \"donor_recipient_age_diff\", \"hla_match_ratio\", \"age_squared\", \"karnofsky_squared\", \"16?\"])\n",
    "\n",
    "#     CATS = []\n",
    "#     for c in FEATURES:\n",
    "#         if test[c].dtype==\"object\":\n",
    "#             CATS.append(c)\n",
    "#             test[c] = test[c].fillna(\"missing\")\n",
    "\n",
    "#     for c in FEATURES:\n",
    "#         # LABEL ENCODE CATEGORICAL AND CONVERT TO INT32 CATEGORY\n",
    "#         if c in CATS:\n",
    "#             #print(f\"{c}, \",end=\"\")\n",
    "#             test[c],_ = test[c].factorize()\n",
    "#             test[c]  -= test[c].min()\n",
    "#             test[c]   = test[c].astype(\"int32\")\n",
    "#             test[c]   = test[c].astype(\"category\")\n",
    "#         else:\n",
    "#             if test[c].dtype == \"float64\":\n",
    "#                 test[c]      = test[c].astype(\"float32\")\n",
    "#             if test[c].dtype ==\"int64\":\n",
    "#                 test[c]      = test[c].astype(\"int32\")\n",
    "    \n",
    "#     return test, FEATURES"
   ]
  },
  {
   "cell_type": "code",
   "execution_count": 27,
   "id": "64579715",
   "metadata": {
    "execution": {
     "iopub.execute_input": "2025-02-22T12:38:20.916867Z",
     "iopub.status.busy": "2025-02-22T12:38:20.916485Z",
     "iopub.status.idle": "2025-02-22T12:38:20.921301Z",
     "shell.execute_reply": "2025-02-22T12:38:20.920261Z"
    },
    "jupyter": {
     "source_hidden": true
    },
    "papermill": {
     "duration": 3.835077,
     "end_time": "2025-02-22T12:38:20.922949",
     "exception": false,
     "start_time": "2025-02-22T12:38:17.087872",
     "status": "completed"
    },
    "tags": []
   },
   "outputs": [],
   "source": [
    "# import pickle\n",
    "# from tqdm import tqdm\n",
    "# from sklearn.svm import SVR\n",
    "# from sklearn.preprocessing import StandardScaler\n",
    "# from sklearn.impute import KNNImputer\n",
    "\n",
    "# imputer               = KNNImputer(n_neighbors=5, weights='uniform')\n",
    "\n",
    "# scaler = StandardScaler()\n",
    "\n",
    "# FOLDS = 10\n",
    "\n",
    "# def inference(model_path, train, test_df):\n",
    "    \n",
    "#     path = model_path.split('/')[-1]\n",
    "#     file = path.replace('-','_')\n",
    "\n",
    "#     if \"dt\" not in model_path:\n",
    "#         with open(f\"/kaggle/input/{path}/{file}.pkl\", 'rb') as f:\n",
    "#             models = pickle.load(f)\n",
    "            \n",
    "#     print(\"All models are loaded successfully....!\")\n",
    "\n",
    "#     test_predictions = np.zeros(len(test_df))\n",
    "\n",
    "#     for fold in tqdm(range(FOLDS)):\n",
    "#         if \"dt\" in model_path:\n",
    "#             # model = keras.models.load_model(model_path, custom_objects=custom_objects)\n",
    "#             # train, test, FEATURES   = prepare_features(model_path, train, test_df)\n",
    "#             # model                   = tf.keras.models.load_model(model_path+f\"/model_fold_{fold}.keras\", custom_objects=dt.__dict__, compile=)\n",
    "#             # fold_preds              = model.predict(test.copy())\n",
    "#             # fold_preds              = fold_preds.flatten()\n",
    "#             pass\n",
    "#         else:\n",
    "#             model  = models[fold]\n",
    "            \n",
    "            \n",
    "#         if \"svr\" in model_path:\n",
    "#             if fold==0:\n",
    "#                 train, test, FEATURES = prepare_features(model_path, train.copy(), test_df.copy())\n",
    "\n",
    "#             # Handle missing values\n",
    "#             train_imputed         = imputer.fit_transform(train[FEATURES].copy())\n",
    "#             test_imputed          = imputer.transform(test[FEATURES])\n",
    "\n",
    "#             # Convert back to DataFrame to maintain feature names\n",
    "#             train_imputed         = pd.DataFrame(train_imputed, columns=FEATURES, index=train.index)\n",
    "#             test_imputed          = pd.DataFrame(test_imputed, columns=FEATURES, index=test.index)\n",
    "            \n",
    "#             # Scale features\n",
    "#             scaler.fit(train_imputed)\n",
    "#             test_scaled           = scaler.transform(test_imputed)\n",
    "            \n",
    "#             fold_preds            = model.predict(test_scaled)\n",
    "\n",
    "#         elif \"tn\" in model_path:\n",
    "#             if fold == 0:\n",
    "#                 train, test, FEATURES   = prepare_features(model_path, train, test_df)\n",
    "                \n",
    "#             fold_preds              = model.predict(test[FEATURES].values).flatten()\n",
    "            \n",
    "#         elif \"nn\" in model_path:\n",
    "#             if fold == 0:\n",
    "#                 X_cat, X_num      = get_nn_features(train, test_df.copy())\n",
    "#             fold_preds        = model.predict([X_cat.values, X_num.values])\n",
    "#             fold_preds        = fold_preds.flatten()\n",
    "\n",
    "#         elif \"tf\" in model_path:\n",
    "#             if fold == 0:\n",
    "#                 test, FEATURES = get_tf_features(train.copy(),test_df.copy())\n",
    "#                 fold_preds     = model.predict(test[FEATURES].copy())\n",
    "\n",
    "#         elif \"tabm\" in model_path:\n",
    "#             if fold == 0:\n",
    "#                 test, FEATURES = get_tabm_features(test_df.copy())\n",
    "#             fold_preds              = model.predict(test[FEATURES].copy())\n",
    "            \n",
    "#         else: \n",
    "#             if fold == 0:\n",
    "#                 train, test, FEATURES   = prepare_features(model_path, train, test_df)\n",
    "#             fold_preds              = model.predict(test[FEATURES].copy())\n",
    "            \n",
    "#         test_predictions += fold_preds\n",
    "    \n",
    "#     # Get the average predictionr\n",
    "#     test_predictions /= FOLDS\n",
    "        \n",
    "#     return test_predictions"
   ]
  },
  {
   "cell_type": "code",
   "execution_count": 28,
   "id": "b8b164e3",
   "metadata": {
    "execution": {
     "iopub.execute_input": "2025-02-22T12:38:28.702084Z",
     "iopub.status.busy": "2025-02-22T12:38:28.701658Z",
     "iopub.status.idle": "2025-02-22T12:38:28.705579Z",
     "shell.execute_reply": "2025-02-22T12:38:28.704689Z"
    },
    "jupyter": {
     "source_hidden": true
    },
    "papermill": {
     "duration": 3.830779,
     "end_time": "2025-02-22T12:38:28.707281",
     "exception": false,
     "start_time": "2025-02-22T12:38:24.876502",
     "status": "completed"
    },
    "tags": []
   },
   "outputs": [],
   "source": [
    "# train_df = pd.read_csv(\"/kaggle/input/equity-post-HCT-survival-predictions/train.csv\")\n",
    "# test_df  = pd.read_csv(\"/kaggle/input/equity-post-HCT-survival-predictions/test.csv\")"
   ]
  },
  {
   "cell_type": "code",
   "execution_count": 29,
   "id": "ad7a6f0f",
   "metadata": {
    "execution": {
     "iopub.execute_input": "2025-02-22T12:38:36.448676Z",
     "iopub.status.busy": "2025-02-22T12:38:36.448291Z",
     "iopub.status.idle": "2025-02-22T12:38:36.452275Z",
     "shell.execute_reply": "2025-02-22T12:38:36.451220Z"
    },
    "jupyter": {
     "source_hidden": true
    },
    "papermill": {
     "duration": 3.921372,
     "end_time": "2025-02-22T12:38:36.453946",
     "exception": false,
     "start_time": "2025-02-22T12:38:32.532574",
     "status": "completed"
    },
    "tags": []
   },
   "outputs": [],
   "source": [
    "# first_best_index"
   ]
  },
  {
   "cell_type": "code",
   "execution_count": 30,
   "id": "bd2d4d09",
   "metadata": {
    "execution": {
     "iopub.execute_input": "2025-02-22T12:38:44.062273Z",
     "iopub.status.busy": "2025-02-22T12:38:44.061893Z",
     "iopub.status.idle": "2025-02-22T12:38:44.065862Z",
     "shell.execute_reply": "2025-02-22T12:38:44.064742Z"
    },
    "jupyter": {
     "source_hidden": true
    },
    "papermill": {
     "duration": 3.818652,
     "end_time": "2025-02-22T12:38:44.067515",
     "exception": false,
     "start_time": "2025-02-22T12:38:40.248863",
     "status": "completed"
    },
    "tags": []
   },
   "outputs": [],
   "source": [
    "# initial_test_preds = inference(first_best_index, train_df, test_df)\n",
    "# initial_test_preds"
   ]
  },
  {
   "cell_type": "code",
   "execution_count": 31,
   "id": "96ec15c1",
   "metadata": {
    "execution": {
     "iopub.execute_input": "2025-02-22T12:38:51.622545Z",
     "iopub.status.busy": "2025-02-22T12:38:51.622165Z",
     "iopub.status.idle": "2025-02-22T12:38:51.626146Z",
     "shell.execute_reply": "2025-02-22T12:38:51.625103Z"
    },
    "jupyter": {
     "source_hidden": true
    },
    "papermill": {
     "duration": 3.778666,
     "end_time": "2025-02-22T12:38:51.627773",
     "exception": false,
     "start_time": "2025-02-22T12:38:47.849107",
     "status": "completed"
    },
    "tags": []
   },
   "outputs": [],
   "source": [
    "# model_weights"
   ]
  },
  {
   "cell_type": "code",
   "execution_count": 32,
   "id": "7218fcad",
   "metadata": {
    "execution": {
     "iopub.execute_input": "2025-02-22T12:38:59.370391Z",
     "iopub.status.busy": "2025-02-22T12:38:59.370008Z",
     "iopub.status.idle": "2025-02-22T12:38:59.373888Z",
     "shell.execute_reply": "2025-02-22T12:38:59.372899Z"
    },
    "papermill": {
     "duration": 3.82367,
     "end_time": "2025-02-22T12:38:59.375598",
     "exception": false,
     "start_time": "2025-02-22T12:38:55.551928",
     "status": "completed"
    },
    "tags": []
   },
   "outputs": [],
   "source": [
    "# test_preds = []\n",
    "# for model, weight in model_weights.items():\n",
    "#     print(f\"Using model : {model}\")\n",
    "#     test_df            = pd.read_csv(\"/kaggle/input/equity-post-HCT-survival-predictions/test.csv\")\n",
    "    \n",
    "#     test_preds         = inference(model, train_df.copy(), test_df)\n",
    "#     test_preds         = (1-weight) * rankdata(initial_test_preds) + weight * rankdata(test_preds)\n",
    "#     initial_test_preds = test_preds"
   ]
  },
  {
   "cell_type": "code",
   "execution_count": 33,
   "id": "51e7058e",
   "metadata": {
    "execution": {
     "iopub.execute_input": "2025-02-22T12:39:07.001205Z",
     "iopub.status.busy": "2025-02-22T12:39:07.000840Z",
     "iopub.status.idle": "2025-02-22T12:39:07.006827Z",
     "shell.execute_reply": "2025-02-22T12:39:07.004788Z"
    },
    "jupyter": {
     "source_hidden": true
    },
    "papermill": {
     "duration": 3.837748,
     "end_time": "2025-02-22T12:39:07.008632",
     "exception": false,
     "start_time": "2025-02-22T12:39:03.170884",
     "status": "completed"
    },
    "tags": []
   },
   "outputs": [],
   "source": [
    "# train_df               = pd.read_csv(\"/kaggle/input/equity-post-HCT-survival-predictions/train.csv\")\n",
    "# test_df                = pd.read_csv(\"/kaggle/input/equity-post-HCT-survival-predictions/test.csv\")\n",
    "# test_preds             = np.zeros(len(test_df))\n",
    "\n",
    "\n",
    "# preds_dict = {}\n",
    "# for model, weight in model_weights.items():\n",
    "#     print(f\"exp name : {model}\\n\")\n",
    "#     test_df                = pd.read_csv(\"/kaggle/input/equity-post-HCT-survival-predictions/test.csv\")\n",
    "#     test_preds             = inference(model, train_df.copy(), test_df.copy())\n",
    "#     test_preds             = (1-weight) * rankdata(initial_test_preds) + weight * rankdata(test_preds)\n",
    "#     initial_test_preds     = test_preds"
   ]
  },
  {
   "cell_type": "code",
   "execution_count": 34,
   "id": "a2751fd5",
   "metadata": {
    "execution": {
     "iopub.execute_input": "2025-02-22T12:39:14.819366Z",
     "iopub.status.busy": "2025-02-22T12:39:14.819035Z",
     "iopub.status.idle": "2025-02-22T12:39:14.823164Z",
     "shell.execute_reply": "2025-02-22T12:39:14.822044Z"
    },
    "jupyter": {
     "source_hidden": true
    },
    "papermill": {
     "duration": 4.017873,
     "end_time": "2025-02-22T12:39:14.824961",
     "exception": false,
     "start_time": "2025-02-22T12:39:10.807088",
     "status": "completed"
    },
    "tags": []
   },
   "outputs": [],
   "source": [
    "# test_preds"
   ]
  },
  {
   "cell_type": "code",
   "execution_count": 35,
   "id": "e1d3eb3d",
   "metadata": {
    "execution": {
     "iopub.execute_input": "2025-02-22T12:39:22.395756Z",
     "iopub.status.busy": "2025-02-22T12:39:22.395407Z",
     "iopub.status.idle": "2025-02-22T12:39:22.399440Z",
     "shell.execute_reply": "2025-02-22T12:39:22.398471Z"
    },
    "jupyter": {
     "source_hidden": true
    },
    "papermill": {
     "duration": 3.802623,
     "end_time": "2025-02-22T12:39:22.401139",
     "exception": false,
     "start_time": "2025-02-22T12:39:18.598516",
     "status": "completed"
    },
    "tags": []
   },
   "outputs": [],
   "source": [
    "# potential_ensemble                = pd.DataFrame()\n",
    "# potential_ensemble[\"predictions\"] = test_preds\n",
    "# potential_ensemble[\"ID\"]          = test_df[\"ID\"]\n",
    "# new_score                         = score(test_df[[\"ID\",\"efs\",\"efs_time\",\"race_group\"]].copy(), potential_ensemble.copy(), \"ID\")\n",
    "# new_score"
   ]
  },
  {
   "cell_type": "code",
   "execution_count": 36,
   "id": "7b1d086c",
   "metadata": {
    "execution": {
     "iopub.execute_input": "2025-02-22T12:39:30.139919Z",
     "iopub.status.busy": "2025-02-22T12:39:30.139463Z",
     "iopub.status.idle": "2025-02-22T12:39:30.143438Z",
     "shell.execute_reply": "2025-02-22T12:39:30.142329Z"
    },
    "jupyter": {
     "source_hidden": true
    },
    "papermill": {
     "duration": 3.793686,
     "end_time": "2025-02-22T12:39:30.145096",
     "exception": false,
     "start_time": "2025-02-22T12:39:26.351410",
     "status": "completed"
    },
    "tags": []
   },
   "outputs": [],
   "source": [
    "# best_score"
   ]
  },
  {
   "cell_type": "markdown",
   "id": "e372b291",
   "metadata": {
    "papermill": {
     "duration": 3.799427,
     "end_time": "2025-02-22T12:39:37.787590",
     "exception": false,
     "start_time": "2025-02-22T12:39:33.988163",
     "status": "completed"
    },
    "tags": []
   },
   "source": [
    "## Step 7: Create submission file"
   ]
  },
  {
   "cell_type": "code",
   "execution_count": 37,
   "id": "8326250d",
   "metadata": {
    "execution": {
     "iopub.execute_input": "2025-02-22T12:39:45.594856Z",
     "iopub.status.busy": "2025-02-22T12:39:45.594467Z",
     "iopub.status.idle": "2025-02-22T12:39:45.598545Z",
     "shell.execute_reply": "2025-02-22T12:39:45.597258Z"
    },
    "jupyter": {
     "source_hidden": true
    },
    "papermill": {
     "duration": 4.028103,
     "end_time": "2025-02-22T12:39:45.601114",
     "exception": false,
     "start_time": "2025-02-22T12:39:41.573011",
     "status": "completed"
    },
    "tags": []
   },
   "outputs": [],
   "source": [
    "# sub            = pd.read_csv(\"/kaggle/input/equity-post-HCT-survival-predictions/sample_submission.csv\")\n",
    "# sub.prediction = test_preds\n",
    "# sub.to_csv(\"submission.csv\",index=False)\n",
    "# print(\"Sub shape:\",sub.shape)\n",
    "# sub.head()"
   ]
  },
  {
   "cell_type": "code",
   "execution_count": null,
   "id": "fc23f5d6",
   "metadata": {
    "papermill": {
     "duration": 3.836159,
     "end_time": "2025-02-22T12:39:53.255649",
     "exception": false,
     "start_time": "2025-02-22T12:39:49.419490",
     "status": "completed"
    },
    "tags": []
   },
   "outputs": [],
   "source": []
  }
 ],
 "metadata": {
  "kaggle": {
   "accelerator": "none",
   "dataSources": [
    {
     "databundleVersionId": 10381525,
     "sourceId": 70942,
     "sourceType": "competition"
    },
    {
     "datasetId": 921302,
     "sourceId": 7453542,
     "sourceType": "datasetVersion"
    },
    {
     "datasetId": 6226248,
     "sourceId": 10097128,
     "sourceType": "datasetVersion"
    },
    {
     "datasetId": 6415434,
     "sourceId": 10370860,
     "sourceType": "datasetVersion"
    },
    {
     "datasetId": 6450507,
     "sourceId": 10409094,
     "sourceType": "datasetVersion"
    },
    {
     "sourceId": 211322530,
     "sourceType": "kernelVersion"
    },
    {
     "sourceId": 216172723,
     "sourceType": "kernelVersion"
    },
    {
     "sourceId": 217481514,
     "sourceType": "kernelVersion"
    },
    {
     "sourceId": 217813503,
     "sourceType": "kernelVersion"
    },
    {
     "sourceId": 217931837,
     "sourceType": "kernelVersion"
    },
    {
     "sourceId": 218131499,
     "sourceType": "kernelVersion"
    },
    {
     "sourceId": 218144682,
     "sourceType": "kernelVersion"
    },
    {
     "sourceId": 218801338,
     "sourceType": "kernelVersion"
    },
    {
     "sourceId": 218802756,
     "sourceType": "kernelVersion"
    },
    {
     "sourceId": 219153168,
     "sourceType": "kernelVersion"
    },
    {
     "sourceId": 219154661,
     "sourceType": "kernelVersion"
    },
    {
     "sourceId": 219195490,
     "sourceType": "kernelVersion"
    },
    {
     "sourceId": 219311236,
     "sourceType": "kernelVersion"
    },
    {
     "sourceId": 219519933,
     "sourceType": "kernelVersion"
    },
    {
     "sourceId": 219788453,
     "sourceType": "kernelVersion"
    },
    {
     "sourceId": 219953795,
     "sourceType": "kernelVersion"
    },
    {
     "sourceId": 220208646,
     "sourceType": "kernelVersion"
    },
    {
     "sourceId": 220212754,
     "sourceType": "kernelVersion"
    },
    {
     "sourceId": 220243528,
     "sourceType": "kernelVersion"
    },
    {
     "sourceId": 220393279,
     "sourceType": "kernelVersion"
    },
    {
     "sourceId": 221224474,
     "sourceType": "kernelVersion"
    },
    {
     "sourceId": 221474387,
     "sourceType": "kernelVersion"
    },
    {
     "sourceId": 221524326,
     "sourceType": "kernelVersion"
    },
    {
     "sourceId": 221636013,
     "sourceType": "kernelVersion"
    },
    {
     "sourceId": 221640769,
     "sourceType": "kernelVersion"
    },
    {
     "sourceId": 221830134,
     "sourceType": "kernelVersion"
    },
    {
     "sourceId": 222021427,
     "sourceType": "kernelVersion"
    },
    {
     "sourceId": 222265918,
     "sourceType": "kernelVersion"
    },
    {
     "sourceId": 222267362,
     "sourceType": "kernelVersion"
    },
    {
     "sourceId": 222268629,
     "sourceType": "kernelVersion"
    },
    {
     "sourceId": 222637056,
     "sourceType": "kernelVersion"
    },
    {
     "sourceId": 222638468,
     "sourceType": "kernelVersion"
    },
    {
     "sourceId": 222639128,
     "sourceType": "kernelVersion"
    },
    {
     "sourceId": 222646580,
     "sourceType": "kernelVersion"
    },
    {
     "sourceId": 222647954,
     "sourceType": "kernelVersion"
    },
    {
     "sourceId": 222688114,
     "sourceType": "kernelVersion"
    },
    {
     "sourceId": 222831405,
     "sourceType": "kernelVersion"
    },
    {
     "sourceId": 223111714,
     "sourceType": "kernelVersion"
    },
    {
     "sourceId": 223289499,
     "sourceType": "kernelVersion"
    },
    {
     "sourceId": 223730449,
     "sourceType": "kernelVersion"
    },
    {
     "sourceId": 223733528,
     "sourceType": "kernelVersion"
    },
    {
     "sourceId": 223734261,
     "sourceType": "kernelVersion"
    },
    {
     "sourceId": 223847496,
     "sourceType": "kernelVersion"
    }
   ],
   "dockerImageVersionId": 30822,
   "isGpuEnabled": false,
   "isInternetEnabled": true,
   "language": "python",
   "sourceType": "notebook"
  },
  "kernelspec": {
   "display_name": "Python 3",
   "language": "python",
   "name": "python3"
  },
  "language_info": {
   "codemirror_mode": {
    "name": "ipython",
    "version": 3
   },
   "file_extension": ".py",
   "mimetype": "text/x-python",
   "name": "python",
   "nbconvert_exporter": "python",
   "pygments_lexer": "ipython3",
   "version": "3.10.12"
  },
  "papermill": {
   "default_parameters": {},
   "duration": 25392.138726,
   "end_time": "2025-02-22T12:40:00.211735",
   "environment_variables": {},
   "exception": null,
   "input_path": "__notebook__.ipynb",
   "output_path": "__notebook__.ipynb",
   "parameters": {},
   "start_time": "2025-02-22T05:36:48.073009",
   "version": "2.6.0"
  }
 },
 "nbformat": 4,
 "nbformat_minor": 5
}
