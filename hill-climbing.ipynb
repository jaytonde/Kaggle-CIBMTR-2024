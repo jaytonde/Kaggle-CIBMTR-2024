{
 "cells": [
  {
   "cell_type": "markdown",
   "id": "fb35c5a4",
   "metadata": {
    "_cell_guid": "46a264b2-b97f-487b-9a3d-2597a0ecdc21",
    "_uuid": "9daabf89-8847-4537-a0b7-2a722b5c452d",
    "collapsed": false,
    "jupyter": {
     "outputs_hidden": false
    },
    "papermill": {
     "duration": 0.012306,
     "end_time": "2025-03-04T18:41:40.330882",
     "exception": false,
     "start_time": "2025-03-04T18:41:40.318576",
     "status": "completed"
    },
    "tags": []
   },
   "source": [
    "## Installations"
   ]
  },
  {
   "cell_type": "code",
   "execution_count": 1,
   "id": "25e59de9",
   "metadata": {
    "execution": {
     "iopub.execute_input": "2025-03-04T18:41:40.355104Z",
     "iopub.status.busy": "2025-03-04T18:41:40.354657Z",
     "iopub.status.idle": "2025-03-04T18:42:05.553189Z",
     "shell.execute_reply": "2025-03-04T18:42:05.551911Z"
    },
    "papermill": {
     "duration": 25.21267,
     "end_time": "2025-03-04T18:42:05.555143",
     "exception": false,
     "start_time": "2025-03-04T18:41:40.342473",
     "status": "completed"
    },
    "tags": []
   },
   "outputs": [
    {
     "name": "stdout",
     "output_type": "stream",
     "text": [
      "Processing /kaggle/input/pip-install-lifelines/autograd-1.7.0-py3-none-any.whl\r\n",
      "Requirement already satisfied: numpy in /usr/local/lib/python3.10/dist-packages (from autograd==1.7.0) (1.26.4)\r\n",
      "autograd is already installed with the same version as the provided wheel. Use --force-reinstall to force an installation of the wheel.\r\n",
      "Processing /kaggle/input/pip-install-lifelines/autograd-gamma-0.5.0.tar.gz\r\n",
      "  Preparing metadata (setup.py) ... \u001b[?25l\u001b[?25hdone\r\n",
      "Requirement already satisfied: autograd>=1.2.0 in /usr/local/lib/python3.10/dist-packages (from autograd-gamma==0.5.0) (1.7.0)\r\n",
      "Requirement already satisfied: scipy>=1.2.0 in /usr/local/lib/python3.10/dist-packages (from autograd-gamma==0.5.0) (1.13.1)\r\n",
      "Requirement already satisfied: numpy in /usr/local/lib/python3.10/dist-packages (from autograd>=1.2.0->autograd-gamma==0.5.0) (1.26.4)\r\n",
      "Building wheels for collected packages: autograd-gamma\r\n",
      "  Building wheel for autograd-gamma (setup.py) ... \u001b[?25l\u001b[?25hdone\r\n",
      "  Created wheel for autograd-gamma: filename=autograd_gamma-0.5.0-py3-none-any.whl size=4031 sha256=d7e08aee2d2d2d2a05208e18d806df569dbd76a7fc384ed15411b3c52ca7c481\r\n",
      "  Stored in directory: /root/.cache/pip/wheels/6b/b5/e0/4c79e15c0b5f2c15ecf613c720bb20daab20a666eb67135155\r\n",
      "Successfully built autograd-gamma\r\n",
      "Installing collected packages: autograd-gamma\r\n",
      "Successfully installed autograd-gamma-0.5.0\r\n",
      "Processing /kaggle/input/pip-install-lifelines/interface_meta-1.3.0-py3-none-any.whl\r\n",
      "Installing collected packages: interface-meta\r\n",
      "Successfully installed interface-meta-1.3.0\r\n",
      "Processing /kaggle/input/pip-install-lifelines/formulaic-1.0.2-py3-none-any.whl\r\n",
      "Requirement already satisfied: interface-meta>=1.2.0 in /usr/local/lib/python3.10/dist-packages (from formulaic==1.0.2) (1.3.0)\r\n",
      "Requirement already satisfied: numpy>=1.16.5 in /usr/local/lib/python3.10/dist-packages (from formulaic==1.0.2) (1.26.4)\r\n",
      "Requirement already satisfied: pandas>=1.0 in /usr/local/lib/python3.10/dist-packages (from formulaic==1.0.2) (2.1.4)\r\n",
      "Requirement already satisfied: scipy>=1.6 in /usr/local/lib/python3.10/dist-packages (from formulaic==1.0.2) (1.13.1)\r\n",
      "Requirement already satisfied: typing-extensions>=4.2.0 in /usr/local/lib/python3.10/dist-packages (from formulaic==1.0.2) (4.12.2)\r\n",
      "Requirement already satisfied: wrapt>=1.0 in /usr/local/lib/python3.10/dist-packages (from formulaic==1.0.2) (1.16.0)\r\n",
      "Requirement already satisfied: python-dateutil>=2.8.2 in /usr/local/lib/python3.10/dist-packages (from pandas>=1.0->formulaic==1.0.2) (2.8.2)\r\n",
      "Requirement already satisfied: pytz>=2020.1 in /usr/local/lib/python3.10/dist-packages (from pandas>=1.0->formulaic==1.0.2) (2024.2)\r\n",
      "Requirement already satisfied: tzdata>=2022.1 in /usr/local/lib/python3.10/dist-packages (from pandas>=1.0->formulaic==1.0.2) (2024.1)\r\n",
      "Requirement already satisfied: six>=1.5 in /usr/local/lib/python3.10/dist-packages (from python-dateutil>=2.8.2->pandas>=1.0->formulaic==1.0.2) (1.16.0)\r\n",
      "Installing collected packages: formulaic\r\n",
      "Successfully installed formulaic-1.0.2\r\n",
      "Processing /kaggle/input/pip-install-lifelines/lifelines-0.30.0-py3-none-any.whl\r\n",
      "Requirement already satisfied: numpy>=1.14.0 in /usr/local/lib/python3.10/dist-packages (from lifelines==0.30.0) (1.26.4)\r\n",
      "Requirement already satisfied: scipy>=1.7.0 in /usr/local/lib/python3.10/dist-packages (from lifelines==0.30.0) (1.13.1)\r\n",
      "Requirement already satisfied: pandas>=2.1 in /usr/local/lib/python3.10/dist-packages (from lifelines==0.30.0) (2.1.4)\r\n",
      "Requirement already satisfied: matplotlib>=3.0 in /usr/local/lib/python3.10/dist-packages (from lifelines==0.30.0) (3.7.1)\r\n",
      "Requirement already satisfied: autograd>=1.5 in /usr/local/lib/python3.10/dist-packages (from lifelines==0.30.0) (1.7.0)\r\n",
      "Requirement already satisfied: autograd-gamma>=0.3 in /usr/local/lib/python3.10/dist-packages (from lifelines==0.30.0) (0.5.0)\r\n",
      "Requirement already satisfied: formulaic>=0.2.2 in /usr/local/lib/python3.10/dist-packages (from lifelines==0.30.0) (1.0.2)\r\n",
      "Requirement already satisfied: interface-meta>=1.2.0 in /usr/local/lib/python3.10/dist-packages (from formulaic>=0.2.2->lifelines==0.30.0) (1.3.0)\r\n",
      "Requirement already satisfied: typing-extensions>=4.2.0 in /usr/local/lib/python3.10/dist-packages (from formulaic>=0.2.2->lifelines==0.30.0) (4.12.2)\r\n",
      "Requirement already satisfied: wrapt>=1.0 in /usr/local/lib/python3.10/dist-packages (from formulaic>=0.2.2->lifelines==0.30.0) (1.16.0)\r\n",
      "Requirement already satisfied: contourpy>=1.0.1 in /usr/local/lib/python3.10/dist-packages (from matplotlib>=3.0->lifelines==0.30.0) (1.3.0)\r\n",
      "Requirement already satisfied: cycler>=0.10 in /usr/local/lib/python3.10/dist-packages (from matplotlib>=3.0->lifelines==0.30.0) (0.12.1)\r\n",
      "Requirement already satisfied: fonttools>=4.22.0 in /usr/local/lib/python3.10/dist-packages (from matplotlib>=3.0->lifelines==0.30.0) (4.53.1)\r\n",
      "Requirement already satisfied: kiwisolver>=1.0.1 in /usr/local/lib/python3.10/dist-packages (from matplotlib>=3.0->lifelines==0.30.0) (1.4.7)\r\n",
      "Requirement already satisfied: packaging>=20.0 in /usr/local/lib/python3.10/dist-packages (from matplotlib>=3.0->lifelines==0.30.0) (24.1)\r\n",
      "Requirement already satisfied: pillow>=6.2.0 in /usr/local/lib/python3.10/dist-packages (from matplotlib>=3.0->lifelines==0.30.0) (10.4.0)\r\n",
      "Requirement already satisfied: pyparsing>=2.3.1 in /usr/local/lib/python3.10/dist-packages (from matplotlib>=3.0->lifelines==0.30.0) (3.1.4)\r\n",
      "Requirement already satisfied: python-dateutil>=2.7 in /usr/local/lib/python3.10/dist-packages (from matplotlib>=3.0->lifelines==0.30.0) (2.8.2)\r\n",
      "Requirement already satisfied: pytz>=2020.1 in /usr/local/lib/python3.10/dist-packages (from pandas>=2.1->lifelines==0.30.0) (2024.2)\r\n",
      "Requirement already satisfied: tzdata>=2022.1 in /usr/local/lib/python3.10/dist-packages (from pandas>=2.1->lifelines==0.30.0) (2024.1)\r\n",
      "Requirement already satisfied: six>=1.5 in /usr/local/lib/python3.10/dist-packages (from python-dateutil>=2.7->matplotlib>=3.0->lifelines==0.30.0) (1.16.0)\r\n",
      "Installing collected packages: lifelines\r\n",
      "Successfully installed lifelines-0.30.0\r\n"
     ]
    }
   ],
   "source": [
    "!pip install /kaggle/input/pip-install-lifelines/autograd-1.7.0-py3-none-any.whl\n",
    "!pip install /kaggle/input/pip-install-lifelines/autograd-gamma-0.5.0.tar.gz\n",
    "!pip install /kaggle/input/pip-install-lifelines/interface_meta-1.3.0-py3-none-any.whl\n",
    "!pip install /kaggle/input/pip-install-lifelines/formulaic-1.0.2-py3-none-any.whl\n",
    "!pip install /kaggle/input/pip-install-lifelines/lifelines-0.30.0-py3-none-any.whl"
   ]
  },
  {
   "cell_type": "code",
   "execution_count": 2,
   "id": "53ef433e",
   "metadata": {
    "execution": {
     "iopub.execute_input": "2025-03-04T18:42:05.581734Z",
     "iopub.status.busy": "2025-03-04T18:42:05.581360Z",
     "iopub.status.idle": "2025-03-04T18:42:14.053430Z",
     "shell.execute_reply": "2025-03-04T18:42:14.051925Z"
    },
    "papermill": {
     "duration": 8.48787,
     "end_time": "2025-03-04T18:42:14.055778",
     "exception": false,
     "start_time": "2025-03-04T18:42:05.567908",
     "status": "completed"
    },
    "tags": []
   },
   "outputs": [
    {
     "name": "stdout",
     "output_type": "stream",
     "text": [
      "Looking in links: /kaggle/input/tabm-tabular-dl-library\r\n",
      "Processing /kaggle/input/tabm-tabular-dl-library/tabm-0.0.1.dev0-py3-none-any.whl\r\n",
      "Requirement already satisfied: torch<3,>=1.12 in /usr/local/lib/python3.10/dist-packages (from tabm==0.0.1.dev0) (2.4.1+cu121)\r\n",
      "Processing /kaggle/input/tabm-tabular-dl-library/rtdl_num_embeddings-0.0.11-py3-none-any.whl (from tabm==0.0.1.dev0)\r\n",
      "Requirement already satisfied: filelock in /usr/local/lib/python3.10/dist-packages (from torch<3,>=1.12->tabm==0.0.1.dev0) (3.16.1)\r\n",
      "Requirement already satisfied: typing-extensions>=4.8.0 in /usr/local/lib/python3.10/dist-packages (from torch<3,>=1.12->tabm==0.0.1.dev0) (4.12.2)\r\n",
      "Requirement already satisfied: sympy in /usr/local/lib/python3.10/dist-packages (from torch<3,>=1.12->tabm==0.0.1.dev0) (1.13.3)\r\n",
      "Requirement already satisfied: networkx in /usr/local/lib/python3.10/dist-packages (from torch<3,>=1.12->tabm==0.0.1.dev0) (3.3)\r\n",
      "Requirement already satisfied: jinja2 in /usr/local/lib/python3.10/dist-packages (from torch<3,>=1.12->tabm==0.0.1.dev0) (3.1.4)\r\n",
      "Requirement already satisfied: fsspec in /usr/local/lib/python3.10/dist-packages (from torch<3,>=1.12->tabm==0.0.1.dev0) (2024.6.1)\r\n",
      "Requirement already satisfied: MarkupSafe>=2.0 in /usr/local/lib/python3.10/dist-packages (from jinja2->torch<3,>=1.12->tabm==0.0.1.dev0) (2.1.5)\r\n",
      "Requirement already satisfied: mpmath<1.4,>=1.1.0 in /usr/local/lib/python3.10/dist-packages (from sympy->torch<3,>=1.12->tabm==0.0.1.dev0) (1.3.0)\r\n",
      "Installing collected packages: rtdl_num_embeddings, tabm\r\n",
      "Successfully installed rtdl_num_embeddings-0.0.11 tabm-0.0.1.dev0\r\n"
     ]
    }
   ],
   "source": [
    "!pip install --no-index -U --find-links=/kaggle/input/tabm-tabular-dl-library tabm==0.0.1.dev0\n",
    "!pip -q install /kaggle/input/pytorchtabnet/pytorch_tabnet-4.1.0-py3-none-any.whl"
   ]
  },
  {
   "cell_type": "code",
   "execution_count": 3,
   "id": "d3af0c20",
   "metadata": {
    "execution": {
     "iopub.execute_input": "2025-03-04T18:42:14.083541Z",
     "iopub.status.busy": "2025-03-04T18:42:14.083144Z",
     "iopub.status.idle": "2025-03-04T18:42:18.334498Z",
     "shell.execute_reply": "2025-03-04T18:42:18.332893Z"
    },
    "papermill": {
     "duration": 4.267738,
     "end_time": "2025-03-04T18:42:18.336674",
     "exception": false,
     "start_time": "2025-03-04T18:42:14.068936",
     "status": "completed"
    },
    "tags": []
   },
   "outputs": [],
   "source": [
    "!pip -q install /kaggle/input/tabpfn-v2/tabpfn-2.0.0-py3-none-any.whl"
   ]
  },
  {
   "cell_type": "markdown",
   "id": "e7defa63",
   "metadata": {
    "papermill": {
     "duration": 0.0123,
     "end_time": "2025-03-04T18:42:18.362372",
     "exception": false,
     "start_time": "2025-03-04T18:42:18.350072",
     "status": "completed"
    },
    "tags": []
   },
   "source": [
    "## Step 1 : Installations"
   ]
  },
  {
   "cell_type": "code",
   "execution_count": 4,
   "id": "9b498682",
   "metadata": {
    "execution": {
     "iopub.execute_input": "2025-03-04T18:42:18.389415Z",
     "iopub.status.busy": "2025-03-04T18:42:18.388995Z",
     "iopub.status.idle": "2025-03-04T18:42:35.903854Z",
     "shell.execute_reply": "2025-03-04T18:42:35.902479Z"
    },
    "papermill": {
     "duration": 17.532075,
     "end_time": "2025-03-04T18:42:35.907211",
     "exception": false,
     "start_time": "2025-03-04T18:42:18.375136",
     "status": "completed"
    },
    "tags": []
   },
   "outputs": [],
   "source": [
    "import numpy as np\n",
    "import pandas as pd\n",
    "from scipy.stats import rankdata \n",
    "\n",
    "import sys\n",
    "sys.path.append('/kaggle/input/tabm-tabular-dl-library')\n",
    "\n",
    "import os\n",
    "import tabm\n",
    "import math\n",
    "import torch\n",
    "import random\n",
    "import warnings\n",
    "from tqdm import tqdm\n",
    "import pandas as pd\n",
    "import numpy as np\n",
    "import rtdl_num_embeddings\n",
    "import matplotlib.pyplot as plt\n",
    "from typing import Optional, Tuple\n",
    "from sklearn.model_selection import KFold\n",
    "from scipy.stats import rankdata \n",
    "#from colorama import Fore, Style\n",
    "from typing import Optional, Tuple\n",
    "from numpy.typing import ArrayLike\n",
    "from sklearn.base import BaseEstimator\n",
    "from sklearn.impute import SimpleImputer\n",
    "from sklearn.model_selection import KFold\n",
    "from tabm_reference import Model, make_parameter_groups\n",
    "from sklearn.preprocessing import OrdinalEncoder, QuantileTransformer\n",
    "from pytorch_tabnet.tab_model import TabNetRegressor\n",
    "\n",
    "import tensorflow as tf\n",
    "from tensorflow.keras.models import Model\n",
    "from tensorflow.keras.layers import Dense, Dropout, Input, Embedding\n",
    "from tensorflow.keras.layers import Concatenate, BatchNormalization\n",
    "import tensorflow.keras.backend as K\n",
    "from pytorch_tabnet.tab_model import TabNetRegressor\n",
    "from tabpfn import TabPFNRegressor"
   ]
  },
  {
   "cell_type": "markdown",
   "id": "38f2b65b",
   "metadata": {
    "papermill": {
     "duration": 0.012501,
     "end_time": "2025-03-04T18:42:35.933215",
     "exception": false,
     "start_time": "2025-03-04T18:42:35.920714",
     "status": "completed"
    },
    "tags": []
   },
   "source": [
    "## Step 2: Experiments Paths  to add in ensemble"
   ]
  },
  {
   "cell_type": "code",
   "execution_count": 5,
   "id": "5426eee0",
   "metadata": {
    "execution": {
     "iopub.execute_input": "2025-03-04T18:42:35.960646Z",
     "iopub.status.busy": "2025-03-04T18:42:35.959909Z",
     "iopub.status.idle": "2025-03-04T18:42:35.966184Z",
     "shell.execute_reply": "2025-03-04T18:42:35.964968Z"
    },
    "papermill": {
     "duration": 0.02211,
     "end_time": "2025-03-04T18:42:35.968049",
     "exception": false,
     "start_time": "2025-03-04T18:42:35.945939",
     "status": "completed"
    },
    "tags": []
   },
   "outputs": [],
   "source": [
    "experiments = [\n",
    "\"/kaggle/input/xgboost-exp-01\",\n",
    "\"/kaggle/input/catboost-exp-01\", \n",
    "\"/kaggle/input/lgbm-exp-01\",\n",
    "\"/kaggle/input/xgboost-exp-02\",\n",
    "\"/kaggle/input/catboost-exp-02\",\n",
    "\"/kaggle/input/lgbm-exp-03\",\n",
    "\"/kaggle/input/catboost-exp-03\",\n",
    "\"/kaggle/input/tabm-exp-01\",\n",
    "\"/kaggle/input/nn-exp-01\",\n",
    "\"/kaggle/input/tn-exp-01\",\n",
    "\"/kaggle/input/tf-exp-01\",\n",
    "\"/kaggle/input/svr-exp-01\",\n",
    "\"/kaggle/input/abd-exp-01\",\n",
    "\"/kaggle/input/catboost-exp-04\",\n",
    "\"/kaggle/input/lgbm-exp-04\",\n",
    "\"/kaggle/input/tabm-exp-02\",\n",
    "\"/kaggle/input/ds-exp-01\",\n",
    "\"/kaggle/input/nn-exp-02\",\n",
    "\"/kaggle/input/nn-exp-04\",\n",
    "\"/kaggle/input/catboost-exp-05\",\n",
    "\"/kaggle/input/xgboost-exp-05\",\n",
    "\"/kaggle/input/lgbm-exp-05\",\n",
    "\"/kaggle/input/tn-exp-02\",\n",
    "\"/kaggle/input/vr-exp-01\",\n",
    "\"/kaggle/input/tt-exp-01\",\n",
    "\"/kaggle/input/en-exp-01\",\n",
    "\"/kaggle/input/en-exp-02\",\n",
    "\"/kaggle/input/nn-exp-05\",\n",
    "\"/kaggle/input/rf-exp-05\",\n",
    "\"/kaggle/input/mcts-exp-02\",\n",
    "\"/kaggle/input/catboost-exp-06\",\n",
    "\"/kaggle/input/xgboost-exp-06\",\n",
    "\"/kaggle/input/lgbm-exp-06\",\n",
    "\"/kaggle/input/nn-exp-06\",\n",
    "\"/kaggle/input/xgboost-exp-07\",\n",
    "\"/kaggle/input/ri-exp-01\",\n",
    "\"/kaggle/input/xgboost-exp-08\",\n",
    "\"/kaggle/input/catboost-exp-08\",\n",
    "\"/kaggle/input/lgbm-exp-08\",\n",
    "\"/kaggle/input/xgboost-exp-09\",\n",
    "\"/kaggle/input/prlnn-exp-01\",\n",
    "\"/kaggle/input/ri-exp-06\",\n",
    "\"/kaggle/input/xgboost-exp-10\",\n",
    "\"/kaggle/input/lasso-exp-01\",\n",
    "\"/kaggle/input/lir-exp-01\",\n",
    "\"/kaggle/input/svr-exp-06\",\n",
    "\"/kaggle/input/et-exp-01\",\n",
    "\"/kaggle/input/lasso-exp-02\",\n",
    "\"/kaggle/input/pr-exp-06\",\n",
    "\"/kaggle/input/tr-exp-06\",\n",
    "\"/kaggle/input/lasso-exp-06\",\n",
    "\"/kaggle/input/ransac-exp-01\",\n",
    "\"/kaggle/input/cnn-exp-01\",\n",
    "\"/kaggle/input/ts-exp-01\"\n",
    "]"
   ]
  },
  {
   "cell_type": "markdown",
   "id": "42d64fbe",
   "metadata": {
    "papermill": {
     "duration": 0.012707,
     "end_time": "2025-03-04T18:42:35.993799",
     "exception": false,
     "start_time": "2025-03-04T18:42:35.981092",
     "status": "completed"
    },
    "tags": []
   },
   "source": [
    "## Step 3 : Competition metric"
   ]
  },
  {
   "cell_type": "code",
   "execution_count": 6,
   "id": "34648ecb",
   "metadata": {
    "execution": {
     "iopub.execute_input": "2025-03-04T18:42:36.027647Z",
     "iopub.status.busy": "2025-03-04T18:42:36.027027Z",
     "iopub.status.idle": "2025-03-04T18:42:36.154248Z",
     "shell.execute_reply": "2025-03-04T18:42:36.153149Z"
    },
    "papermill": {
     "duration": 0.149287,
     "end_time": "2025-03-04T18:42:36.156630",
     "exception": false,
     "start_time": "2025-03-04T18:42:36.007343",
     "status": "completed"
    },
    "tags": []
   },
   "outputs": [],
   "source": [
    "import pandas as pd\n",
    "import pandas.api.types\n",
    "import numpy as np\n",
    "from lifelines.utils import concordance_index\n",
    "\n",
    "class ParticipantVisibleError(Exception):\n",
    "    pass\n",
    "\n",
    "\n",
    "def score(solution: pd.DataFrame, submission: pd.DataFrame, row_id_column_name: str) -> float:\n",
    "    del solution[row_id_column_name]\n",
    "    del submission[row_id_column_name]\n",
    "    \n",
    "    event_label = 'efs'\n",
    "    interval_label = 'efs_time'\n",
    "    prediction_label = 'predictions'\n",
    "    for col in submission.columns:\n",
    "        if not pandas.api.types.is_numeric_dtype(submission[col]):\n",
    "            raise ParticipantVisibleError(f'Submission column {col} must be a number')\n",
    "    # Merging solution and submission dfs on ID\n",
    "    merged_df = pd.concat([solution, submission], axis=1)\n",
    "    merged_df.reset_index(inplace=True)\n",
    "    merged_df_race_dict = dict(merged_df.groupby(['race_group']).groups)\n",
    "    metric_list = []\n",
    "\n",
    "    for race in merged_df_race_dict.keys():\n",
    "        # Retrieving values from y_test based on index\n",
    "        indices = sorted(merged_df_race_dict[race])\n",
    "        merged_df_race = merged_df.iloc[indices]\n",
    "        # Calculate the concordance index\n",
    "        c_index_race = concordance_index(\n",
    "                        merged_df_race[interval_label],\n",
    "                        -merged_df_race[prediction_label],\n",
    "                        merged_df_race[event_label])\n",
    "        metric_list.append(c_index_race)\n",
    "    return float(np.mean(metric_list)-np.sqrt(np.var(metric_list)))"
   ]
  },
  {
   "cell_type": "markdown",
   "id": "4b182b1a",
   "metadata": {
    "papermill": {
     "duration": 0.012734,
     "end_time": "2025-03-04T18:42:36.189587",
     "exception": false,
     "start_time": "2025-03-04T18:42:36.176853",
     "status": "completed"
    },
    "tags": []
   },
   "source": [
    "## Step 4: Find best model "
   ]
  },
  {
   "cell_type": "code",
   "execution_count": 7,
   "id": "a0711ae6",
   "metadata": {
    "execution": {
     "iopub.execute_input": "2025-03-04T18:42:36.216659Z",
     "iopub.status.busy": "2025-03-04T18:42:36.216161Z",
     "iopub.status.idle": "2025-03-04T18:42:36.223311Z",
     "shell.execute_reply": "2025-03-04T18:42:36.222308Z"
    },
    "papermill": {
     "duration": 0.022771,
     "end_time": "2025-03-04T18:42:36.225147",
     "exception": false,
     "start_time": "2025-03-04T18:42:36.202376",
     "status": "completed"
    },
    "tags": []
   },
   "outputs": [],
   "source": [
    "parquet_experiments = [\n",
    "    \"/kaggle/input/abd-exp-01\",\n",
    "    \"/kaggle/input/lgbm-exp-04\", \n",
    "    \"/kaggle/input/catboost-exp-01\", \n",
    "    \"/kaggle/input/lgbm-exp-01\", \n",
    "    \"/kaggle/input/lgbm-exp-03\", \n",
    "    \"/kaggle/input/ds-exp-01\",\n",
    "    \"/kaggle/input/nn-exp-02\",\n",
    "    \"/kaggle/input/nn-exp-04\",\n",
    "    \"/kaggle/input/tabm-exp-03\",\n",
    "    \"/kaggle/input/catboost-exp-05\",\n",
    "    \"/kaggle/input/xgboost-exp-05\",\n",
    "    \"/kaggle/input/lgbm-exp-05\",\n",
    "    \"/kaggle/input/tn-exp-02\",\n",
    "    \"/kaggle/input/vr-exp-01\",\n",
    "    \"/kaggle/input/tt-exp-01\",\n",
    "    \"/kaggle/input/en-exp-01\",\n",
    "    \"/kaggle/input/svr-exp-01\",\n",
    "    \"/kaggle/input/en-exp-02\",\n",
    "    \"/kaggle/input/nn-exp-05\",\n",
    "    \"/kaggle/input/rf-exp-05\",\n",
    "    \"/kaggle/input/mcts-exp-02\",\n",
    "    \"/kaggle/input/catboost-exp-06\",\n",
    "    \"/kaggle/input/xgboost-exp-06\",\n",
    "    \"/kaggle/input/lgbm-exp-06\",\n",
    "    \"/kaggle/input/nn-exp-06\",\n",
    "    \"/kaggle/input/xgboost-exp-07\",\n",
    "    \"/kaggle/input/ri-exp-01\",\n",
    "    \"/kaggle/input/xgboost-exp-08\",\n",
    "    \"/kaggle/input/catboost-exp-08\",\n",
    "    \"/kaggle/input/lgbm-exp-08\",\n",
    "    \"/kaggle/input/xgboost-exp-09\",\n",
    "    \"/kaggle/input/prlnn-exp-01\",\n",
    "    \"/kaggle/input/ri-exp-06\",\n",
    "    \"/kaggle/input/xgboost-exp-10\",\n",
    "    \"/kaggle/input/lasso-exp-01\",\n",
    "    \"/kaggle/input/lir-exp-01\",\n",
    "    \"/kaggle/input/svr-exp-06\",\n",
    "    \"/kaggle/input/et-exp-01\",\n",
    "    \"/kaggle/input/lasso-exp-02\",\n",
    "    \"/kaggle/input/pr-exp-06\",\n",
    "    \"/kaggle/input/tr-exp-06\",\n",
    "    \"/kaggle/input/lasso-exp-06\",\n",
    "    \"/kaggle/input/ransac-exp-01\",\n",
    "    \"/kaggle/input/cnn-exp-01\",\n",
    "    \"/kaggle/input/ts-exp-01\"\n",
    "]"
   ]
  },
  {
   "cell_type": "code",
   "execution_count": 8,
   "id": "54488be5",
   "metadata": {
    "execution": {
     "iopub.execute_input": "2025-03-04T18:42:36.252228Z",
     "iopub.status.busy": "2025-03-04T18:42:36.251850Z",
     "iopub.status.idle": "2025-03-04T18:42:36.257613Z",
     "shell.execute_reply": "2025-03-04T18:42:36.256537Z"
    },
    "papermill": {
     "duration": 0.02152,
     "end_time": "2025-03-04T18:42:36.259393",
     "exception": false,
     "start_time": "2025-03-04T18:42:36.237873",
     "status": "completed"
    },
    "tags": []
   },
   "outputs": [],
   "source": [
    "def compute_metric_cindex(oof, exp_name, fast=False):    \n",
    "    if fast:\n",
    "        y_true = oof[[\"ID\",\"efs\",\"efs_time\",\"race_group\"]].copy()\n",
    "        y_pred = oof[[\"ID\",\"predictions\"]].copy()\n",
    "        return optimized_score(y_true.copy(), y_pred.copy(), \"ID\"), oof\n",
    "    else:\n",
    "        y_true = oof[[\"ID\",\"efs\",\"efs_time\",\"race_group\"]].copy()\n",
    "        y_pred = oof[[\"ID\",\"predictions\"]].copy()\n",
    "        return score(y_true.copy(), y_pred.copy(), \"ID\"), oof"
   ]
  },
  {
   "cell_type": "code",
   "execution_count": 9,
   "id": "081f13a0",
   "metadata": {
    "execution": {
     "iopub.execute_input": "2025-03-04T18:42:36.285799Z",
     "iopub.status.busy": "2025-03-04T18:42:36.285388Z",
     "iopub.status.idle": "2025-03-04T18:42:40.375616Z",
     "shell.execute_reply": "2025-03-04T18:42:40.373963Z"
    },
    "papermill": {
     "duration": 4.105591,
     "end_time": "2025-03-04T18:42:40.377540",
     "exception": false,
     "start_time": "2025-03-04T18:42:36.271949",
     "status": "completed"
    },
    "tags": []
   },
   "outputs": [
    {
     "name": "stderr",
     "output_type": "stream",
     "text": [
      "/usr/lib/python3.10/pty.py:89: RuntimeWarning: os.fork() was called. os.fork() is incompatible with multithreaded code, and JAX is multithreaded, so this will likely lead to a deadlock.\n",
      "  pid, fd = os.forkpty()\n"
     ]
    },
    {
     "name": "stdout",
     "output_type": "stream",
     "text": [
      "Requirement already satisfied: openpyxl in /usr/local/lib/python3.10/dist-packages (3.1.5)\r\n",
      "Requirement already satisfied: et-xmlfile in /usr/local/lib/python3.10/dist-packages (from openpyxl) (1.1.0)\r\n",
      "Note: you may need to restart the kernel to use updated packages.\n"
     ]
    }
   ],
   "source": [
    "pip install openpyxl"
   ]
  },
  {
   "cell_type": "code",
   "execution_count": 10,
   "id": "0c92e9b3",
   "metadata": {
    "execution": {
     "iopub.execute_input": "2025-03-04T18:42:40.404963Z",
     "iopub.status.busy": "2025-03-04T18:42:40.404596Z",
     "iopub.status.idle": "2025-03-04T18:42:40.417574Z",
     "shell.execute_reply": "2025-03-04T18:42:40.416106Z"
    },
    "papermill": {
     "duration": 0.028757,
     "end_time": "2025-03-04T18:42:40.419358",
     "exception": false,
     "start_time": "2025-03-04T18:42:40.390601",
     "status": "completed"
    },
    "tags": []
   },
   "outputs": [
    {
     "name": "stdout",
     "output_type": "stream",
     "text": [
      "CPU times: user 169 µs, sys: 5 µs, total: 174 µs\n",
      "Wall time: 183 µs\n"
     ]
    }
   ],
   "source": [
    "%%time\n",
    "\n",
    "from tqdm import tqdm\n",
    "import pandas as pd\n",
    "import numpy as np\n",
    "from typing import List, Dict, Tuple\n",
    "import logging\n",
    "import gc\n",
    "from scipy.stats import rankdata\n",
    "from lifelines.utils import concordance_index\n",
    "from concurrent.futures import ProcessPoolExecutor, as_completed\n",
    "import multiprocessing\n",
    "\n",
    "class ParticipantVisibleError(Exception):\n",
    "    pass\n",
    "\n",
    "\n",
    "\n",
    "def fast_concordance_index(event_times, predicted_scores, event_observed):\n",
    "    \"\"\"Faster implementation of concordance index using NumPy operations\"\"\"\n",
    "    # Convert to numpy arrays for faster operations\n",
    "    event_times = np.asarray(event_times)\n",
    "    predicted_scores = np.asarray(predicted_scores)\n",
    "    event_observed = np.asarray(event_observed)\n",
    "    \n",
    "    # Only consider pairs where at least one has an event\n",
    "    mask = event_observed == 1\n",
    "    \n",
    "    if not np.any(mask):\n",
    "        return 0.0\n",
    "    \n",
    "    # Get indices of samples with events\n",
    "    event_indices = np.where(mask)[0]\n",
    "    \n",
    "    # Initialize counters\n",
    "    concordant = 0\n",
    "    discordant = 0\n",
    "    tied_risk = 0\n",
    "    pairs = 0\n",
    "\n",
    "    # For each sample with an event\n",
    "    for i in event_indices:\n",
    "        # Find all samples with longer survival time\n",
    "        longer_survival = event_times > event_times[i]\n",
    "        \n",
    "        # For samples with same survival time, only consider if they didn't have an event\n",
    "        same_survival = (event_times == event_times[i]) & (event_observed == 0)\n",
    "        \n",
    "        # Combine masks\n",
    "        comparable = longer_survival | same_survival\n",
    "        \n",
    "        if not np.any(comparable):\n",
    "            continue\n",
    "        \n",
    "        # Get predictions for comparable samples\n",
    "        comp_scores = predicted_scores[comparable]\n",
    "        current_score = predicted_scores[i]\n",
    "        \n",
    "        # Count concordant, discordant, and tied pairs\n",
    "        concordant += np.sum(comp_scores < current_score)\n",
    "        discordant += np.sum(comp_scores > current_score)\n",
    "        tied_risk += np.sum(comp_scores == current_score)\n",
    "        \n",
    "        # Update total pairs count\n",
    "        pairs += np.sum(comparable)\n",
    "    \n",
    "    if pairs == 0:\n",
    "        return 0.0\n",
    "    \n",
    "    return (concordant + 0.5 * tied_risk) / pairs\n",
    "\n",
    "\n",
    "def optimized_score(solution_data, submission_data, row_id_column_name=None):\n",
    "    \"\"\"Optimized scoring function using NumPy operations\"\"\"\n",
    "    if row_id_column_name:\n",
    "        # Extract necessary columns and convert to NumPy arrays\n",
    "        event = solution_data['efs'].values\n",
    "        time = solution_data['efs_time'].values\n",
    "        race_groups = solution_data['race_group'].values\n",
    "        predictions = submission_data['predictions'].values\n",
    "    else:\n",
    "        # Assume data is already in the right format\n",
    "        event = solution_data[:, 0]  # efs\n",
    "        time = solution_data[:, 1]   # efs_time\n",
    "        race_groups = solution_data[:, 2]  # race_group\n",
    "        predictions = submission_data  # predictions\n",
    "    \n",
    "    # Get unique race groups\n",
    "    unique_races = np.unique(race_groups)\n",
    "    c_indices = []\n",
    "    \n",
    "    # Calculate c-index for each race group\n",
    "    for race in unique_races:\n",
    "        mask = race_groups == race\n",
    "        \n",
    "        # Use lifelines concordance_index for correctness\n",
    "        c_index_race = concordance_index(\n",
    "            time[mask],\n",
    "            -predictions[mask],\n",
    "            event[mask]\n",
    "        )\n",
    "        c_indices.append(c_index_race)\n",
    "    \n",
    "    c_indices = np.array(c_indices)\n",
    "    return float(np.mean(c_indices) - np.sqrt(np.var(c_indices)))"
   ]
  },
  {
   "cell_type": "code",
   "execution_count": 11,
   "id": "0163d1ba",
   "metadata": {
    "execution": {
     "iopub.execute_input": "2025-03-04T18:42:40.446923Z",
     "iopub.status.busy": "2025-03-04T18:42:40.446531Z",
     "iopub.status.idle": "2025-03-04T18:42:40.454101Z",
     "shell.execute_reply": "2025-03-04T18:42:40.452976Z"
    },
    "papermill": {
     "duration": 0.023082,
     "end_time": "2025-03-04T18:42:40.455792",
     "exception": false,
     "start_time": "2025-03-04T18:42:40.432710",
     "status": "completed"
    },
    "tags": []
   },
   "outputs": [
    {
     "data": {
      "text/plain": [
       "4"
      ]
     },
     "execution_count": 11,
     "metadata": {},
     "output_type": "execute_result"
    }
   ],
   "source": [
    "multiprocessing.cpu_count()"
   ]
  },
  {
   "cell_type": "code",
   "execution_count": 12,
   "id": "eaba713d",
   "metadata": {
    "execution": {
     "iopub.execute_input": "2025-03-04T18:42:40.484129Z",
     "iopub.status.busy": "2025-03-04T18:42:40.483743Z",
     "iopub.status.idle": "2025-03-04T18:47:02.059748Z",
     "shell.execute_reply": "2025-03-04T18:47:02.058476Z"
    },
    "papermill": {
     "duration": 261.592382,
     "end_time": "2025-03-04T18:47:02.061540",
     "exception": false,
     "start_time": "2025-03-04T18:42:40.469158",
     "status": "completed"
    },
    "tags": []
   },
   "outputs": [
    {
     "name": "stderr",
     "output_type": "stream",
     "text": [
      "100%|██████████| 54/54 [03:59<00:00,  4.43s/it]\n"
     ]
    }
   ],
   "source": [
    "from tqdm import tqdm\n",
    "import pandas as pd\n",
    "\n",
    "# Initialize empty list to store individual prediction dataframes\n",
    "dfs_to_merge = []\n",
    "\n",
    "# Load first experiment to get the base structure\n",
    "base_exp = experiments[0]\n",
    "if base_exp in parquet_experiments:\n",
    "    base_df = pd.read_parquet(base_exp + '/' + (base_exp.split('/')[-1]).replace('-','_') + '_oof.parquet')\n",
    "else:\n",
    "    base_df = pd.read_excel(base_exp + '/' + (base_exp.split('/')[-1]).replace('-','_') + '_oof.xlsx')\n",
    "\n",
    "# Create base dataframe with ID and target variables\n",
    "preds_df = base_df[[\"ID\", \"efs\", \"efs_time\", \"race_group\"]].copy()\n",
    "\n",
    "# Load and merge predictions from each experiment\n",
    "for exp_name in tqdm(experiments):\n",
    "    # Read the prediction file\n",
    "    if exp_name in parquet_experiments:\n",
    "        if \"mcts-exp-02\" in exp_name:\n",
    "            curr_df = pd.read_parquet(exp_name + '/mcts_exp_01' + '_oof.parquet')\n",
    "        elif \"ts-exp-01\" in exp_name:\n",
    "            prev_df = pd.read_parquet(\"/kaggle/input/cnn-exp-01/cnn_exp_01_oof.parquet\")\n",
    "            curr_df = pd.read_parquet(\"/kaggle/input/ts-exp-01/ts_exp_01_oof.parquet\")\n",
    "            curr_df[\"ID\"] = prev_df[\"ID\"]\n",
    "        else:\n",
    "            curr_df = pd.read_parquet(exp_name + '/' + (exp_name.split('/')[-1]).replace('-','_') + '_oof.parquet')\n",
    "    else:\n",
    "        curr_df = pd.read_excel(exp_name + '/' + (exp_name.split('/')[-1]).replace('-','_') + '_oof.xlsx')\n",
    "    \n",
    "    # Create a temporary dataframe with ID and predictions\n",
    "    temp_df = curr_df[[\"ID\", \"predictions\"]].copy()\n",
    "    temp_df = temp_df.rename(columns={\"predictions\": exp_name})\n",
    "    \n",
    "    # Merge with the main dataframe\n",
    "    preds_df = preds_df.merge(temp_df, on=\"ID\", how=\"left\")"
   ]
  },
  {
   "cell_type": "code",
   "execution_count": 13,
   "id": "f9cc57d9",
   "metadata": {
    "execution": {
     "iopub.execute_input": "2025-03-04T18:47:02.097720Z",
     "iopub.status.busy": "2025-03-04T18:47:02.096923Z",
     "iopub.status.idle": "2025-03-04T18:47:02.104819Z",
     "shell.execute_reply": "2025-03-04T18:47:02.103406Z"
    },
    "papermill": {
     "duration": 0.027551,
     "end_time": "2025-03-04T18:47:02.106762",
     "exception": false,
     "start_time": "2025-03-04T18:47:02.079211",
     "status": "completed"
    },
    "tags": []
   },
   "outputs": [
    {
     "data": {
      "text/plain": [
       "((28800, 58),\n",
       " Index(['ID', 'efs', 'efs_time', 'race_group', '/kaggle/input/xgboost-exp-01',\n",
       "        '/kaggle/input/catboost-exp-01', '/kaggle/input/lgbm-exp-01',\n",
       "        '/kaggle/input/xgboost-exp-02', '/kaggle/input/catboost-exp-02',\n",
       "        '/kaggle/input/lgbm-exp-03', '/kaggle/input/catboost-exp-03',\n",
       "        '/kaggle/input/tabm-exp-01', '/kaggle/input/nn-exp-01',\n",
       "        '/kaggle/input/tn-exp-01', '/kaggle/input/tf-exp-01',\n",
       "        '/kaggle/input/svr-exp-01', '/kaggle/input/abd-exp-01',\n",
       "        '/kaggle/input/catboost-exp-04', '/kaggle/input/lgbm-exp-04',\n",
       "        '/kaggle/input/tabm-exp-02', '/kaggle/input/ds-exp-01',\n",
       "        '/kaggle/input/nn-exp-02', '/kaggle/input/nn-exp-04',\n",
       "        '/kaggle/input/catboost-exp-05', '/kaggle/input/xgboost-exp-05',\n",
       "        '/kaggle/input/lgbm-exp-05', '/kaggle/input/tn-exp-02',\n",
       "        '/kaggle/input/vr-exp-01', '/kaggle/input/tt-exp-01',\n",
       "        '/kaggle/input/en-exp-01', '/kaggle/input/en-exp-02',\n",
       "        '/kaggle/input/nn-exp-05', '/kaggle/input/rf-exp-05',\n",
       "        '/kaggle/input/mcts-exp-02', '/kaggle/input/catboost-exp-06',\n",
       "        '/kaggle/input/xgboost-exp-06', '/kaggle/input/lgbm-exp-06',\n",
       "        '/kaggle/input/nn-exp-06', '/kaggle/input/xgboost-exp-07',\n",
       "        '/kaggle/input/ri-exp-01', '/kaggle/input/xgboost-exp-08',\n",
       "        '/kaggle/input/catboost-exp-08', '/kaggle/input/lgbm-exp-08',\n",
       "        '/kaggle/input/xgboost-exp-09', '/kaggle/input/prlnn-exp-01',\n",
       "        '/kaggle/input/ri-exp-06', '/kaggle/input/xgboost-exp-10',\n",
       "        '/kaggle/input/lasso-exp-01', '/kaggle/input/lir-exp-01',\n",
       "        '/kaggle/input/svr-exp-06', '/kaggle/input/et-exp-01',\n",
       "        '/kaggle/input/lasso-exp-02', '/kaggle/input/pr-exp-06',\n",
       "        '/kaggle/input/tr-exp-06', '/kaggle/input/lasso-exp-06',\n",
       "        '/kaggle/input/ransac-exp-01', '/kaggle/input/cnn-exp-01',\n",
       "        '/kaggle/input/ts-exp-01'],\n",
       "       dtype='object'))"
      ]
     },
     "execution_count": 13,
     "metadata": {},
     "output_type": "execute_result"
    }
   ],
   "source": [
    "preds_df.shape, preds_df.columns "
   ]
  },
  {
   "cell_type": "code",
   "execution_count": 14,
   "id": "3e37ce28",
   "metadata": {
    "execution": {
     "iopub.execute_input": "2025-03-04T18:47:02.140175Z",
     "iopub.status.busy": "2025-03-04T18:47:02.139763Z",
     "iopub.status.idle": "2025-03-04T18:47:02.145862Z",
     "shell.execute_reply": "2025-03-04T18:47:02.144724Z"
    },
    "papermill": {
     "duration": 0.025417,
     "end_time": "2025-03-04T18:47:02.147906",
     "exception": false,
     "start_time": "2025-03-04T18:47:02.122489",
     "status": "completed"
    },
    "tags": []
   },
   "outputs": [
    {
     "data": {
      "text/plain": [
       "54"
      ]
     },
     "execution_count": 14,
     "metadata": {},
     "output_type": "execute_result"
    }
   ],
   "source": [
    "len(experiments)"
   ]
  },
  {
   "cell_type": "code",
   "execution_count": 15,
   "id": "4fb6c25f",
   "metadata": {
    "execution": {
     "iopub.execute_input": "2025-03-04T18:47:02.180671Z",
     "iopub.status.busy": "2025-03-04T18:47:02.180242Z",
     "iopub.status.idle": "2025-03-04T18:47:22.319259Z",
     "shell.execute_reply": "2025-03-04T18:47:22.317814Z"
    },
    "papermill": {
     "duration": 20.158017,
     "end_time": "2025-03-04T18:47:22.321113",
     "exception": false,
     "start_time": "2025-03-04T18:47:02.163096",
     "status": "completed"
    },
    "tags": []
   },
   "outputs": [
    {
     "name": "stdout",
     "output_type": "stream",
     "text": [
      "C-index 0.6743662038463064 /kaggle/input/xgboost-exp-01\n",
      "C-index 0.673797469068503 /kaggle/input/catboost-exp-01\n",
      "C-index 0.6735659109490936 /kaggle/input/lgbm-exp-01\n",
      "C-index 0.6719739976829171 /kaggle/input/xgboost-exp-02\n",
      "C-index 0.6715438291634074 /kaggle/input/catboost-exp-02\n",
      "C-index 0.6744113273004797 /kaggle/input/lgbm-exp-03\n",
      "C-index 0.6750446351219317 /kaggle/input/catboost-exp-03\n",
      "C-index 0.6698445972872783 /kaggle/input/tabm-exp-01\n",
      "C-index 0.6672504731273489 /kaggle/input/nn-exp-01\n",
      "C-index 0.6082304286386713 /kaggle/input/tn-exp-01\n",
      "C-index 0.6609386133349129 /kaggle/input/tf-exp-01\n",
      "C-index 0.6204664346764159 /kaggle/input/svr-exp-01\n",
      "C-index 0.6775546112659996 /kaggle/input/abd-exp-01\n",
      "C-index 0.6228381497451487 /kaggle/input/catboost-exp-04\n",
      "C-index 0.6216961934710434 /kaggle/input/lgbm-exp-04\n",
      "C-index 0.6777472728532595 /kaggle/input/tabm-exp-02\n",
      "C-index 0.6427991982766068 /kaggle/input/ds-exp-01\n",
      "C-index 0.6541867987232884 /kaggle/input/nn-exp-02\n",
      "C-index 0.6794831551153862 /kaggle/input/nn-exp-04\n",
      "C-index 0.680734863930053 /kaggle/input/catboost-exp-05\n",
      "C-index 0.6801801958617659 /kaggle/input/xgboost-exp-05\n",
      "C-index 0.6791851357350963 /kaggle/input/lgbm-exp-05\n",
      "C-index 0.659742829229569 /kaggle/input/tn-exp-02\n",
      "C-index 0.6754542289908226 /kaggle/input/vr-exp-01\n",
      "C-index 0.6051212359506114 /kaggle/input/tt-exp-01\n",
      "C-index 0.6244728416862964 /kaggle/input/en-exp-01\n",
      "C-index 0.6417663206377346 /kaggle/input/en-exp-02\n",
      "C-index 0.6794831551153862 /kaggle/input/nn-exp-05\n",
      "C-index 0.6511582598647447 /kaggle/input/rf-exp-05\n",
      "C-index 0.6113856489762708 /kaggle/input/mcts-exp-02\n",
      "C-index 0.6805225213899068 /kaggle/input/catboost-exp-06\n",
      "C-index 0.6795077628167032 /kaggle/input/xgboost-exp-06\n",
      "C-index 0.6791063706461627 /kaggle/input/lgbm-exp-06\n",
      "C-index 0.6804090466531342 /kaggle/input/nn-exp-06\n",
      "C-index 0.6797980742985197 /kaggle/input/xgboost-exp-07\n",
      "C-index 0.6241849482559193 /kaggle/input/ri-exp-01\n",
      "C-index 0.6798723688263519 /kaggle/input/xgboost-exp-08\n",
      "C-index 0.6785727820807782 /kaggle/input/catboost-exp-08\n",
      "C-index 0.6786178926206528 /kaggle/input/lgbm-exp-08\n",
      "C-index 0.681724483438663 /kaggle/input/xgboost-exp-09\n",
      "C-index 0.6817974276309455 /kaggle/input/prlnn-exp-01\n",
      "C-index 0.6356258684894599 /kaggle/input/ri-exp-06\n",
      "C-index 0.6816452214688579 /kaggle/input/xgboost-exp-10\n",
      "C-index 0.48930453274500724 /kaggle/input/lasso-exp-01\n",
      "C-index 0.6239428862824246 /kaggle/input/lir-exp-01\n",
      "C-index 0.6488602845403236 /kaggle/input/svr-exp-06\n",
      "C-index 0.6392423245703106 /kaggle/input/et-exp-01\n",
      "C-index 0.6229596041054568 /kaggle/input/lasso-exp-02\n",
      "C-index 0.6202197572441672 /kaggle/input/pr-exp-06\n",
      "C-index 0.6356244704999544 /kaggle/input/tr-exp-06\n",
      "C-index 0.6349722139900572 /kaggle/input/lasso-exp-06\n",
      "C-index 0.6240434159920552 /kaggle/input/ransac-exp-01\n",
      "C-index 0.6250480614268742 /kaggle/input/cnn-exp-01\n",
      "C-index 0.6481408047652605 /kaggle/input/ts-exp-01\n",
      "\n",
      "Best single model is /kaggle/input/prlnn-exp-01 with C-Index = 0.6817974276309455\n"
     ]
    }
   ],
   "source": [
    "best_score    = 0\n",
    "best_index    = -1\n",
    "best_ensemble = 0\n",
    "\n",
    "for k,name in enumerate(experiments):\n",
    "    oof_pre = preds_df[[\"ID\",\"efs\",\"efs_time\",\"race_group\",name]]\n",
    "    oof_pre = oof_pre.rename(columns={name: \"predictions\"})\n",
    "    s, oof = compute_metric_cindex(oof_pre, name, fast=True)\n",
    "    if s > best_score:\n",
    "        best_score    = s\n",
    "        best_index    = name\n",
    "        best_ensemble = oof\n",
    "        \n",
    "    print(f'C-index {s} {name}') \n",
    "print()\n",
    "print(f'Best single model is {best_index} with C-Index = {best_score}')\n",
    "experiments.remove(best_index)\n",
    "first_best_index = best_index"
   ]
  },
  {
   "cell_type": "code",
   "execution_count": 16,
   "id": "790b1877",
   "metadata": {
    "execution": {
     "iopub.execute_input": "2025-03-04T18:47:22.358794Z",
     "iopub.status.busy": "2025-03-04T18:47:22.358432Z",
     "iopub.status.idle": "2025-03-04T18:47:22.365117Z",
     "shell.execute_reply": "2025-03-04T18:47:22.363752Z"
    },
    "papermill": {
     "duration": 0.02743,
     "end_time": "2025-03-04T18:47:22.367070",
     "exception": false,
     "start_time": "2025-03-04T18:47:22.339640",
     "status": "completed"
    },
    "tags": []
   },
   "outputs": [
    {
     "data": {
      "text/plain": [
       "['/kaggle/input/xgboost-exp-01',\n",
       " '/kaggle/input/catboost-exp-01',\n",
       " '/kaggle/input/lgbm-exp-01',\n",
       " '/kaggle/input/xgboost-exp-02',\n",
       " '/kaggle/input/catboost-exp-02',\n",
       " '/kaggle/input/lgbm-exp-03',\n",
       " '/kaggle/input/catboost-exp-03',\n",
       " '/kaggle/input/tabm-exp-01',\n",
       " '/kaggle/input/nn-exp-01',\n",
       " '/kaggle/input/tn-exp-01',\n",
       " '/kaggle/input/tf-exp-01',\n",
       " '/kaggle/input/svr-exp-01',\n",
       " '/kaggle/input/abd-exp-01',\n",
       " '/kaggle/input/catboost-exp-04',\n",
       " '/kaggle/input/lgbm-exp-04',\n",
       " '/kaggle/input/tabm-exp-02',\n",
       " '/kaggle/input/ds-exp-01',\n",
       " '/kaggle/input/nn-exp-02',\n",
       " '/kaggle/input/nn-exp-04',\n",
       " '/kaggle/input/catboost-exp-05',\n",
       " '/kaggle/input/xgboost-exp-05',\n",
       " '/kaggle/input/lgbm-exp-05',\n",
       " '/kaggle/input/tn-exp-02',\n",
       " '/kaggle/input/vr-exp-01',\n",
       " '/kaggle/input/tt-exp-01',\n",
       " '/kaggle/input/en-exp-01',\n",
       " '/kaggle/input/en-exp-02',\n",
       " '/kaggle/input/nn-exp-05',\n",
       " '/kaggle/input/rf-exp-05',\n",
       " '/kaggle/input/mcts-exp-02',\n",
       " '/kaggle/input/catboost-exp-06',\n",
       " '/kaggle/input/xgboost-exp-06',\n",
       " '/kaggle/input/lgbm-exp-06',\n",
       " '/kaggle/input/nn-exp-06',\n",
       " '/kaggle/input/xgboost-exp-07',\n",
       " '/kaggle/input/ri-exp-01',\n",
       " '/kaggle/input/xgboost-exp-08',\n",
       " '/kaggle/input/catboost-exp-08',\n",
       " '/kaggle/input/lgbm-exp-08',\n",
       " '/kaggle/input/xgboost-exp-09',\n",
       " '/kaggle/input/ri-exp-06',\n",
       " '/kaggle/input/xgboost-exp-10',\n",
       " '/kaggle/input/lasso-exp-01',\n",
       " '/kaggle/input/lir-exp-01',\n",
       " '/kaggle/input/svr-exp-06',\n",
       " '/kaggle/input/et-exp-01',\n",
       " '/kaggle/input/lasso-exp-02',\n",
       " '/kaggle/input/pr-exp-06',\n",
       " '/kaggle/input/tr-exp-06',\n",
       " '/kaggle/input/lasso-exp-06',\n",
       " '/kaggle/input/ransac-exp-01',\n",
       " '/kaggle/input/cnn-exp-01',\n",
       " '/kaggle/input/ts-exp-01']"
      ]
     },
     "execution_count": 16,
     "metadata": {},
     "output_type": "execute_result"
    }
   ],
   "source": [
    "experiments"
   ]
  },
  {
   "cell_type": "markdown",
   "id": "e9c8ad24",
   "metadata": {
    "papermill": {
     "duration": 0.017542,
     "end_time": "2025-03-04T18:47:22.402917",
     "exception": false,
     "start_time": "2025-03-04T18:47:22.385375",
     "status": "completed"
    },
    "tags": []
   },
   "source": [
    "## Step 5: Iterations for hill climbing"
   ]
  },
  {
   "cell_type": "code",
   "execution_count": 17,
   "id": "22831be1",
   "metadata": {
    "execution": {
     "iopub.execute_input": "2025-03-04T18:47:22.440268Z",
     "iopub.status.busy": "2025-03-04T18:47:22.439907Z",
     "iopub.status.idle": "2025-03-04T18:47:22.444075Z",
     "shell.execute_reply": "2025-03-04T18:47:22.443082Z"
    },
    "papermill": {
     "duration": 0.025341,
     "end_time": "2025-03-04T18:47:22.446079",
     "exception": false,
     "start_time": "2025-03-04T18:47:22.420738",
     "status": "completed"
    },
    "tags": []
   },
   "outputs": [],
   "source": [
    "USE_NEGATIVE_WGT = True"
   ]
  },
  {
   "cell_type": "code",
   "execution_count": 18,
   "id": "c7aa5882",
   "metadata": {
    "execution": {
     "iopub.execute_input": "2025-03-04T18:47:22.484257Z",
     "iopub.status.busy": "2025-03-04T18:47:22.483892Z",
     "iopub.status.idle": "2025-03-04T18:47:22.488535Z",
     "shell.execute_reply": "2025-03-04T18:47:22.487251Z"
    },
    "papermill": {
     "duration": 0.025485,
     "end_time": "2025-03-04T18:47:22.490241",
     "exception": false,
     "start_time": "2025-03-04T18:47:22.464756",
     "status": "completed"
    },
    "tags": []
   },
   "outputs": [],
   "source": [
    "indices        = [best_index]\n",
    "old_best_score = best_score"
   ]
  },
  {
   "cell_type": "code",
   "execution_count": 19,
   "id": "aac29ddb",
   "metadata": {
    "execution": {
     "iopub.execute_input": "2025-03-04T18:47:22.530470Z",
     "iopub.status.busy": "2025-03-04T18:47:22.530097Z",
     "iopub.status.idle": "2025-03-04T18:47:22.534972Z",
     "shell.execute_reply": "2025-03-04T18:47:22.533967Z"
    },
    "papermill": {
     "duration": 0.026115,
     "end_time": "2025-03-04T18:47:22.536631",
     "exception": false,
     "start_time": "2025-03-04T18:47:22.510516",
     "status": "completed"
    },
    "tags": []
   },
   "outputs": [],
   "source": [
    "# PREPARE/MOVE VARIABLES TO GPU FOR SPEED UP\n",
    "best_ensemble = best_ensemble\n",
    "start         = -0.50\n",
    "if not USE_NEGATIVE_WGT: start = 0.01\n",
    "ww            = np.arange(start,0.51,0.01) # GPU\n",
    "nn            = len(ww)"
   ]
  },
  {
   "cell_type": "code",
   "execution_count": 20,
   "id": "1b7c61ff",
   "metadata": {
    "execution": {
     "iopub.execute_input": "2025-03-04T18:47:22.574340Z",
     "iopub.status.busy": "2025-03-04T18:47:22.573961Z",
     "iopub.status.idle": "2025-03-04T18:47:22.578066Z",
     "shell.execute_reply": "2025-03-04T18:47:22.577216Z"
    },
    "papermill": {
     "duration": 0.024934,
     "end_time": "2025-03-04T18:47:22.579715",
     "exception": false,
     "start_time": "2025-03-04T18:47:22.554781",
     "status": "completed"
    },
    "tags": []
   },
   "outputs": [],
   "source": [
    "# BEGIN HILL CLIMBING\n",
    "models  = [best_index]\n",
    "weights = []\n",
    "metrics = [best_score]"
   ]
  },
  {
   "cell_type": "code",
   "execution_count": 21,
   "id": "865904fd",
   "metadata": {
    "execution": {
     "iopub.execute_input": "2025-03-04T18:47:22.616683Z",
     "iopub.status.busy": "2025-03-04T18:47:22.616332Z",
     "iopub.status.idle": "2025-03-04T18:47:22.623134Z",
     "shell.execute_reply": "2025-03-04T18:47:22.622278Z"
    },
    "papermill": {
     "duration": 0.027233,
     "end_time": "2025-03-04T18:47:22.624891",
     "exception": false,
     "start_time": "2025-03-04T18:47:22.597658",
     "status": "completed"
    },
    "tags": []
   },
   "outputs": [
    {
     "data": {
      "text/plain": [
       "(['/kaggle/input/prlnn-exp-01'],\n",
       " [0.6817974276309455],\n",
       " array([-5.0000000e-01, -4.9000000e-01, -4.8000000e-01, -4.7000000e-01,\n",
       "        -4.6000000e-01, -4.5000000e-01, -4.4000000e-01, -4.3000000e-01,\n",
       "        -4.2000000e-01, -4.1000000e-01, -4.0000000e-01, -3.9000000e-01,\n",
       "        -3.8000000e-01, -3.7000000e-01, -3.6000000e-01, -3.5000000e-01,\n",
       "        -3.4000000e-01, -3.3000000e-01, -3.2000000e-01, -3.1000000e-01,\n",
       "        -3.0000000e-01, -2.9000000e-01, -2.8000000e-01, -2.7000000e-01,\n",
       "        -2.6000000e-01, -2.5000000e-01, -2.4000000e-01, -2.3000000e-01,\n",
       "        -2.2000000e-01, -2.1000000e-01, -2.0000000e-01, -1.9000000e-01,\n",
       "        -1.8000000e-01, -1.7000000e-01, -1.6000000e-01, -1.5000000e-01,\n",
       "        -1.4000000e-01, -1.3000000e-01, -1.2000000e-01, -1.1000000e-01,\n",
       "        -1.0000000e-01, -9.0000000e-02, -8.0000000e-02, -7.0000000e-02,\n",
       "        -6.0000000e-02, -5.0000000e-02, -4.0000000e-02, -3.0000000e-02,\n",
       "        -2.0000000e-02, -1.0000000e-02,  4.4408921e-16,  1.0000000e-02,\n",
       "         2.0000000e-02,  3.0000000e-02,  4.0000000e-02,  5.0000000e-02,\n",
       "         6.0000000e-02,  7.0000000e-02,  8.0000000e-02,  9.0000000e-02,\n",
       "         1.0000000e-01,  1.1000000e-01,  1.2000000e-01,  1.3000000e-01,\n",
       "         1.4000000e-01,  1.5000000e-01,  1.6000000e-01,  1.7000000e-01,\n",
       "         1.8000000e-01,  1.9000000e-01,  2.0000000e-01,  2.1000000e-01,\n",
       "         2.2000000e-01,  2.3000000e-01,  2.4000000e-01,  2.5000000e-01,\n",
       "         2.6000000e-01,  2.7000000e-01,  2.8000000e-01,  2.9000000e-01,\n",
       "         3.0000000e-01,  3.1000000e-01,  3.2000000e-01,  3.3000000e-01,\n",
       "         3.4000000e-01,  3.5000000e-01,  3.6000000e-01,  3.7000000e-01,\n",
       "         3.8000000e-01,  3.9000000e-01,  4.0000000e-01,  4.1000000e-01,\n",
       "         4.2000000e-01,  4.3000000e-01,  4.4000000e-01,  4.5000000e-01,\n",
       "         4.6000000e-01,  4.7000000e-01,  4.8000000e-01,  4.9000000e-01,\n",
       "         5.0000000e-01]))"
      ]
     },
     "execution_count": 21,
     "metadata": {},
     "output_type": "execute_result"
    }
   ],
   "source": [
    "models, metrics, ww"
   ]
  },
  {
   "cell_type": "code",
   "execution_count": 22,
   "id": "4751ea2c",
   "metadata": {
    "execution": {
     "iopub.execute_input": "2025-03-04T18:47:22.663920Z",
     "iopub.status.busy": "2025-03-04T18:47:22.663563Z",
     "iopub.status.idle": "2025-03-05T02:22:55.325238Z",
     "shell.execute_reply": "2025-03-05T02:22:55.323889Z"
    },
    "papermill": {
     "duration": 27332.682809,
     "end_time": "2025-03-05T02:22:55.327055",
     "exception": false,
     "start_time": "2025-03-04T18:47:22.644246",
     "status": "completed"
    },
    "tags": []
   },
   "outputs": [
    {
     "name": "stdout",
     "output_type": "stream",
     "text": [
      "0th iteration\n"
     ]
    },
    {
     "name": "stderr",
     "output_type": "stream",
     "text": [
      "/usr/lib/python3.10/multiprocessing/popen_fork.py:66: RuntimeWarning: os.fork() was called. os.fork() is incompatible with multithreaded code, and JAX is multithreaded, so this will likely lead to a deadlock.\n",
      "  self.pid = os.fork()\n",
      "Testing weights for xgboost_exp_01: 100%|██████████| 101/101 [00:20<00:00,  5.01it/s]\n",
      "Testing weights for catboost_exp_01: 100%|██████████| 101/101 [00:20<00:00,  4.85it/s]\n",
      "Testing weights for lgbm_exp_01: 100%|██████████| 101/101 [00:20<00:00,  4.98it/s]\n",
      "Testing weights for xgboost_exp_02: 100%|██████████| 101/101 [00:20<00:00,  4.88it/s]\n",
      "Testing weights for catboost_exp_02: 100%|██████████| 101/101 [00:20<00:00,  4.90it/s]\n",
      "Testing weights for lgbm_exp_03: 100%|██████████| 101/101 [00:20<00:00,  5.00it/s]\n",
      "Testing weights for catboost_exp_03: 100%|██████████| 101/101 [00:20<00:00,  4.86it/s]\n",
      "Testing weights for tabm_exp_01: 100%|██████████| 101/101 [00:20<00:00,  4.84it/s]\n",
      "Testing weights for nn_exp_01: 100%|██████████| 101/101 [00:20<00:00,  4.99it/s]\n",
      "Testing weights for tn_exp_01: 100%|██████████| 101/101 [00:20<00:00,  4.84it/s]\n",
      "Testing weights for tf_exp_01: 100%|██████████| 101/101 [00:20<00:00,  4.85it/s]\n",
      "Testing weights for svr_exp_01: 100%|██████████| 101/101 [00:20<00:00,  5.05it/s]\n",
      "Testing weights for abd_exp_01: 100%|██████████| 101/101 [00:20<00:00,  4.85it/s]\n",
      "Testing weights for catboost_exp_04: 100%|██████████| 101/101 [00:20<00:00,  4.85it/s]\n",
      "Testing weights for lgbm_exp_04: 100%|██████████| 101/101 [00:20<00:00,  5.00it/s]\n",
      "Testing weights for tabm_exp_02: 100%|██████████| 101/101 [00:20<00:00,  4.88it/s]\n",
      "Testing weights for ds_exp_01: 100%|██████████| 101/101 [00:20<00:00,  5.03it/s]\n",
      "Testing weights for nn_exp_02: 100%|██████████| 101/101 [00:20<00:00,  4.84it/s]\n",
      "Testing weights for nn_exp_04: 100%|██████████| 101/101 [00:21<00:00,  4.78it/s]\n",
      "Testing weights for catboost_exp_05: 100%|██████████| 101/101 [00:20<00:00,  4.96it/s]\n",
      "Testing weights for xgboost_exp_05: 100%|██████████| 101/101 [00:21<00:00,  4.81it/s]\n",
      "Testing weights for lgbm_exp_05: 100%|██████████| 101/101 [00:21<00:00,  4.80it/s]\n",
      "Testing weights for tn_exp_02: 100%|██████████| 101/101 [00:20<00:00,  4.97it/s]\n",
      "Testing weights for vr_exp_01: 100%|██████████| 101/101 [00:20<00:00,  4.88it/s]\n",
      "Testing weights for tt_exp_01: 100%|██████████| 101/101 [00:20<00:00,  4.88it/s]\n",
      "Testing weights for en_exp_01: 100%|██████████| 101/101 [00:19<00:00,  5.05it/s]\n",
      "Testing weights for en_exp_02: 100%|██████████| 101/101 [00:20<00:00,  4.86it/s]\n",
      "Testing weights for nn_exp_05: 100%|██████████| 101/101 [00:20<00:00,  4.86it/s]\n",
      "Testing weights for rf_exp_05: 100%|██████████| 101/101 [00:20<00:00,  4.98it/s]\n",
      "Testing weights for mcts_exp_02: 100%|██████████| 101/101 [00:20<00:00,  4.90it/s]\n",
      "Testing weights for catboost_exp_06: 100%|██████████| 101/101 [00:20<00:00,  5.04it/s]\n",
      "Testing weights for xgboost_exp_06: 100%|██████████| 101/101 [00:20<00:00,  5.02it/s]\n",
      "Testing weights for lgbm_exp_06: 100%|██████████| 101/101 [00:20<00:00,  4.93it/s]\n",
      "Testing weights for nn_exp_06: 100%|██████████| 101/101 [00:19<00:00,  5.11it/s]\n",
      "Testing weights for xgboost_exp_07: 100%|██████████| 101/101 [00:20<00:00,  4.92it/s]\n",
      "Testing weights for ri_exp_01: 100%|██████████| 101/101 [00:20<00:00,  4.95it/s]\n",
      "Testing weights for xgboost_exp_08: 100%|██████████| 101/101 [00:20<00:00,  5.04it/s]\n",
      "Testing weights for catboost_exp_08: 100%|██████████| 101/101 [00:20<00:00,  4.90it/s]\n",
      "Testing weights for lgbm_exp_08: 100%|██████████| 101/101 [00:20<00:00,  4.89it/s]\n",
      "Testing weights for xgboost_exp_09: 100%|██████████| 101/101 [00:20<00:00,  5.03it/s]\n",
      "Testing weights for ri_exp_06: 100%|██████████| 101/101 [00:20<00:00,  4.90it/s]\n",
      "Testing weights for xgboost_exp_10: 100%|██████████| 101/101 [00:19<00:00,  5.11it/s]\n",
      "Testing weights for lasso_exp_01: 100%|██████████| 101/101 [00:20<00:00,  4.96it/s]\n",
      "Testing weights for lir_exp_01: 100%|██████████| 101/101 [00:20<00:00,  4.87it/s]\n",
      "Testing weights for svr_exp_06: 100%|██████████| 101/101 [00:19<00:00,  5.06it/s]\n",
      "Testing weights for et_exp_01: 100%|██████████| 101/101 [00:20<00:00,  4.91it/s]\n",
      "Testing weights for lasso_exp_02: 100%|██████████| 101/101 [00:20<00:00,  4.89it/s]\n",
      "Testing weights for pr_exp_06: 100%|██████████| 101/101 [00:20<00:00,  5.04it/s]\n",
      "Testing weights for tr_exp_06: 100%|██████████| 101/101 [00:20<00:00,  4.85it/s]\n",
      "Testing weights for lasso_exp_06: 100%|██████████| 101/101 [00:20<00:00,  4.85it/s]\n",
      "Testing weights for ransac_exp_01: 100%|██████████| 101/101 [00:19<00:00,  5.07it/s]\n",
      "Testing weights for cnn_exp_01: 100%|██████████| 101/101 [00:20<00:00,  4.93it/s]\n",
      "Testing weights for ts_exp_01: 100%|██████████| 101/101 [00:20<00:00,  5.00it/s]\n"
     ]
    },
    {
     "name": "stdout",
     "output_type": "stream",
     "text": [
      "Iteration 1: Added /kaggle/input/catboost-exp-05 with weight 0.4800, Score: 0.6862\n",
      "1th iteration\n"
     ]
    },
    {
     "name": "stderr",
     "output_type": "stream",
     "text": [
      "Testing weights for xgboost_exp_01: 100%|██████████| 101/101 [00:20<00:00,  4.99it/s]\n",
      "Testing weights for catboost_exp_01: 100%|██████████| 101/101 [00:20<00:00,  4.94it/s]\n",
      "Testing weights for lgbm_exp_01: 100%|██████████| 101/101 [00:20<00:00,  5.01it/s]\n",
      "Testing weights for xgboost_exp_02: 100%|██████████| 101/101 [00:20<00:00,  4.87it/s]\n",
      "Testing weights for catboost_exp_02: 100%|██████████| 101/101 [00:20<00:00,  4.92it/s]\n",
      "Testing weights for lgbm_exp_03: 100%|██████████| 101/101 [00:20<00:00,  5.05it/s]\n",
      "Testing weights for catboost_exp_03: 100%|██████████| 101/101 [00:20<00:00,  4.85it/s]\n",
      "Testing weights for tabm_exp_01: 100%|██████████| 101/101 [00:20<00:00,  4.87it/s]\n",
      "Testing weights for nn_exp_01: 100%|██████████| 101/101 [00:20<00:00,  4.98it/s]\n",
      "Testing weights for tn_exp_01: 100%|██████████| 101/101 [00:20<00:00,  4.84it/s]\n",
      "Testing weights for tf_exp_01: 100%|██████████| 101/101 [00:20<00:00,  4.83it/s]\n",
      "Testing weights for svr_exp_01: 100%|██████████| 101/101 [00:20<00:00,  5.05it/s]\n",
      "Testing weights for abd_exp_01: 100%|██████████| 101/101 [00:21<00:00,  4.81it/s]\n",
      "Testing weights for catboost_exp_04: 100%|██████████| 101/101 [00:20<00:00,  5.00it/s]\n",
      "Testing weights for lgbm_exp_04: 100%|██████████| 101/101 [00:20<00:00,  4.91it/s]\n",
      "Testing weights for tabm_exp_02: 100%|██████████| 101/101 [00:20<00:00,  4.85it/s]\n",
      "Testing weights for ds_exp_01: 100%|██████████| 101/101 [00:20<00:00,  5.04it/s]\n",
      "Testing weights for nn_exp_02: 100%|██████████| 101/101 [00:20<00:00,  4.94it/s]\n",
      "Testing weights for nn_exp_04: 100%|██████████| 101/101 [00:20<00:00,  4.87it/s]\n",
      "Testing weights for xgboost_exp_05: 100%|██████████| 101/101 [00:20<00:00,  5.05it/s]\n",
      "Testing weights for lgbm_exp_05: 100%|██████████| 101/101 [00:20<00:00,  4.93it/s]\n",
      "Testing weights for tn_exp_02: 100%|██████████| 101/101 [00:20<00:00,  4.88it/s]\n",
      "Testing weights for vr_exp_01: 100%|██████████| 101/101 [00:19<00:00,  5.05it/s]\n",
      "Testing weights for tt_exp_01: 100%|██████████| 101/101 [00:20<00:00,  4.91it/s]\n",
      "Testing weights for en_exp_01: 100%|██████████| 101/101 [00:20<00:00,  5.04it/s]\n",
      "Testing weights for en_exp_02: 100%|██████████| 101/101 [00:20<00:00,  4.92it/s]\n",
      "Testing weights for nn_exp_05: 100%|██████████| 101/101 [00:20<00:00,  4.88it/s]\n",
      "Testing weights for rf_exp_05: 100%|██████████| 101/101 [00:19<00:00,  5.08it/s]\n",
      "Testing weights for mcts_exp_02: 100%|██████████| 101/101 [00:20<00:00,  4.91it/s]\n",
      "Testing weights for catboost_exp_06: 100%|██████████| 101/101 [00:20<00:00,  4.95it/s]\n",
      "Testing weights for xgboost_exp_06: 100%|██████████| 101/101 [00:19<00:00,  5.06it/s]\n",
      "Testing weights for lgbm_exp_06: 100%|██████████| 101/101 [00:20<00:00,  4.89it/s]\n",
      "Testing weights for nn_exp_06: 100%|██████████| 101/101 [00:20<00:00,  4.94it/s]\n",
      "Testing weights for xgboost_exp_07: 100%|██████████| 101/101 [00:20<00:00,  5.01it/s]\n",
      "Testing weights for ri_exp_01: 100%|██████████| 101/101 [00:20<00:00,  4.90it/s]\n",
      "Testing weights for xgboost_exp_08: 100%|██████████| 101/101 [00:19<00:00,  5.09it/s]\n",
      "Testing weights for catboost_exp_08: 100%|██████████| 101/101 [00:20<00:00,  4.88it/s]\n",
      "Testing weights for lgbm_exp_08: 100%|██████████| 101/101 [00:21<00:00,  4.78it/s]\n",
      "Testing weights for xgboost_exp_09: 100%|██████████| 101/101 [00:20<00:00,  5.01it/s]\n",
      "Testing weights for ri_exp_06: 100%|██████████| 101/101 [00:20<00:00,  4.83it/s]\n",
      "Testing weights for xgboost_exp_10: 100%|██████████| 101/101 [00:20<00:00,  4.82it/s]\n",
      "Testing weights for lasso_exp_01: 100%|██████████| 101/101 [00:19<00:00,  5.08it/s]\n",
      "Testing weights for lir_exp_01: 100%|██████████| 101/101 [00:20<00:00,  4.86it/s]\n",
      "Testing weights for svr_exp_06: 100%|██████████| 101/101 [00:21<00:00,  4.80it/s]\n",
      "Testing weights for et_exp_01: 100%|██████████| 101/101 [00:20<00:00,  4.94it/s]\n",
      "Testing weights for lasso_exp_02: 100%|██████████| 101/101 [00:20<00:00,  4.90it/s]\n",
      "Testing weights for pr_exp_06: 100%|██████████| 101/101 [00:20<00:00,  4.87it/s]\n",
      "Testing weights for tr_exp_06: 100%|██████████| 101/101 [00:20<00:00,  4.98it/s]\n",
      "Testing weights for lasso_exp_06: 100%|██████████| 101/101 [00:20<00:00,  4.90it/s]\n",
      "Testing weights for ransac_exp_01: 100%|██████████| 101/101 [00:20<00:00,  4.97it/s]\n",
      "Testing weights for cnn_exp_01: 100%|██████████| 101/101 [00:20<00:00,  4.84it/s]\n",
      "Testing weights for ts_exp_01: 100%|██████████| 101/101 [00:21<00:00,  4.78it/s]\n"
     ]
    },
    {
     "name": "stdout",
     "output_type": "stream",
     "text": [
      "Iteration 2: Added /kaggle/input/xgboost-exp-09 with weight 0.2700, Score: 0.6868\n",
      "2th iteration\n"
     ]
    },
    {
     "name": "stderr",
     "output_type": "stream",
     "text": [
      "Testing weights for xgboost_exp_01: 100%|██████████| 101/101 [00:20<00:00,  4.92it/s]\n",
      "Testing weights for catboost_exp_01: 100%|██████████| 101/101 [00:21<00:00,  4.79it/s]\n",
      "Testing weights for lgbm_exp_01: 100%|██████████| 101/101 [00:20<00:00,  4.89it/s]\n",
      "Testing weights for xgboost_exp_02: 100%|██████████| 101/101 [00:20<00:00,  4.96it/s]\n",
      "Testing weights for catboost_exp_02: 100%|██████████| 101/101 [00:20<00:00,  4.85it/s]\n",
      "Testing weights for lgbm_exp_03: 100%|██████████| 101/101 [00:20<00:00,  4.93it/s]\n",
      "Testing weights for catboost_exp_03: 100%|██████████| 101/101 [00:20<00:00,  5.00it/s]\n",
      "Testing weights for tabm_exp_01: 100%|██████████| 101/101 [00:20<00:00,  4.85it/s]\n",
      "Testing weights for nn_exp_01: 100%|██████████| 101/101 [00:20<00:00,  4.94it/s]\n",
      "Testing weights for tn_exp_01: 100%|██████████| 101/101 [00:20<00:00,  5.01it/s]\n",
      "Testing weights for tf_exp_01: 100%|██████████| 101/101 [00:20<00:00,  4.86it/s]\n",
      "Testing weights for svr_exp_01: 100%|██████████| 101/101 [00:20<00:00,  4.90it/s]\n",
      "Testing weights for abd_exp_01: 100%|██████████| 101/101 [00:20<00:00,  5.01it/s]\n",
      "Testing weights for catboost_exp_04: 100%|██████████| 101/101 [00:21<00:00,  4.78it/s]\n",
      "Testing weights for lgbm_exp_04: 100%|██████████| 101/101 [00:20<00:00,  5.03it/s]\n",
      "Testing weights for tabm_exp_02: 100%|██████████| 101/101 [00:20<00:00,  4.82it/s]\n",
      "Testing weights for ds_exp_01: 100%|██████████| 101/101 [00:20<00:00,  4.81it/s]\n",
      "Testing weights for nn_exp_02: 100%|██████████| 101/101 [00:20<00:00,  5.04it/s]\n",
      "Testing weights for nn_exp_04: 100%|██████████| 101/101 [00:20<00:00,  4.84it/s]\n",
      "Testing weights for xgboost_exp_05: 100%|██████████| 101/101 [00:20<00:00,  4.82it/s]\n",
      "Testing weights for lgbm_exp_05: 100%|██████████| 101/101 [00:20<00:00,  5.05it/s]\n",
      "Testing weights for tn_exp_02: 100%|██████████| 101/101 [00:20<00:00,  4.82it/s]\n",
      "Testing weights for vr_exp_01: 100%|██████████| 101/101 [00:20<00:00,  4.84it/s]\n",
      "Testing weights for tt_exp_01: 100%|██████████| 101/101 [00:20<00:00,  5.00it/s]\n",
      "Testing weights for en_exp_01: 100%|██████████| 101/101 [00:21<00:00,  4.78it/s]\n",
      "Testing weights for en_exp_02: 100%|██████████| 101/101 [00:21<00:00,  4.77it/s]\n",
      "Testing weights for nn_exp_05: 100%|██████████| 101/101 [00:19<00:00,  5.06it/s]\n",
      "Testing weights for rf_exp_05: 100%|██████████| 101/101 [00:21<00:00,  4.79it/s]\n",
      "Testing weights for mcts_exp_02: 100%|██████████| 101/101 [00:20<00:00,  4.91it/s]\n",
      "Testing weights for catboost_exp_06: 100%|██████████| 101/101 [00:20<00:00,  4.99it/s]\n",
      "Testing weights for xgboost_exp_06: 100%|██████████| 101/101 [00:20<00:00,  4.82it/s]\n",
      "Testing weights for lgbm_exp_06: 100%|██████████| 101/101 [00:20<00:00,  4.98it/s]\n",
      "Testing weights for nn_exp_06: 100%|██████████| 101/101 [00:20<00:00,  4.89it/s]\n",
      "Testing weights for xgboost_exp_07: 100%|██████████| 101/101 [00:20<00:00,  4.88it/s]\n",
      "Testing weights for ri_exp_01: 100%|██████████| 101/101 [00:20<00:00,  5.00it/s]\n",
      "Testing weights for xgboost_exp_08: 100%|██████████| 101/101 [00:21<00:00,  4.79it/s]\n",
      "Testing weights for catboost_exp_08: 100%|██████████| 101/101 [00:20<00:00,  4.93it/s]\n",
      "Testing weights for lgbm_exp_08: 100%|██████████| 101/101 [00:20<00:00,  4.99it/s]\n",
      "Testing weights for ri_exp_06: 100%|██████████| 101/101 [00:20<00:00,  4.82it/s]\n",
      "Testing weights for xgboost_exp_10: 100%|██████████| 101/101 [00:20<00:00,  4.89it/s]\n",
      "Testing weights for lasso_exp_01: 100%|██████████| 101/101 [00:20<00:00,  5.00it/s]\n",
      "Testing weights for lir_exp_01: 100%|██████████| 101/101 [00:21<00:00,  4.77it/s]\n",
      "Testing weights for svr_exp_06: 100%|██████████| 101/101 [00:20<00:00,  4.93it/s]\n",
      "Testing weights for et_exp_01: 100%|██████████| 101/101 [00:20<00:00,  4.98it/s]\n",
      "Testing weights for lasso_exp_02: 100%|██████████| 101/101 [00:20<00:00,  4.83it/s]\n",
      "Testing weights for pr_exp_06: 100%|██████████| 101/101 [00:20<00:00,  5.04it/s]\n",
      "Testing weights for tr_exp_06: 100%|██████████| 101/101 [00:20<00:00,  4.82it/s]\n",
      "Testing weights for lasso_exp_06: 100%|██████████| 101/101 [00:21<00:00,  4.79it/s]\n",
      "Testing weights for ransac_exp_01: 100%|██████████| 101/101 [00:19<00:00,  5.07it/s]\n",
      "Testing weights for cnn_exp_01: 100%|██████████| 101/101 [00:21<00:00,  4.78it/s]\n",
      "Testing weights for ts_exp_01: 100%|██████████| 101/101 [00:21<00:00,  4.77it/s]\n"
     ]
    },
    {
     "name": "stdout",
     "output_type": "stream",
     "text": [
      "Iteration 3: Added /kaggle/input/lgbm-exp-08 with weight -0.2100, Score: 0.6871\n",
      "3th iteration\n"
     ]
    },
    {
     "name": "stderr",
     "output_type": "stream",
     "text": [
      "Testing weights for xgboost_exp_01: 100%|██████████| 101/101 [00:20<00:00,  5.00it/s]\n",
      "Testing weights for catboost_exp_01: 100%|██████████| 101/101 [00:21<00:00,  4.75it/s]\n",
      "Testing weights for lgbm_exp_01: 100%|██████████| 101/101 [00:21<00:00,  4.76it/s]\n",
      "Testing weights for xgboost_exp_02: 100%|██████████| 101/101 [00:20<00:00,  5.02it/s]\n",
      "Testing weights for catboost_exp_02: 100%|██████████| 101/101 [00:21<00:00,  4.71it/s]\n",
      "Testing weights for lgbm_exp_03: 100%|██████████| 101/101 [00:21<00:00,  4.75it/s]\n",
      "Testing weights for catboost_exp_03: 100%|██████████| 101/101 [00:19<00:00,  5.07it/s]\n",
      "Testing weights for tabm_exp_01: 100%|██████████| 101/101 [00:20<00:00,  4.82it/s]\n",
      "Testing weights for nn_exp_01: 100%|██████████| 101/101 [00:21<00:00,  4.80it/s]\n",
      "Testing weights for tn_exp_01: 100%|██████████| 101/101 [00:20<00:00,  5.04it/s]\n",
      "Testing weights for tf_exp_01: 100%|██████████| 101/101 [00:20<00:00,  4.81it/s]\n",
      "Testing weights for svr_exp_01: 100%|██████████| 101/101 [00:20<00:00,  4.92it/s]\n",
      "Testing weights for abd_exp_01: 100%|██████████| 101/101 [00:20<00:00,  4.88it/s]\n",
      "Testing weights for catboost_exp_04: 100%|██████████| 101/101 [00:21<00:00,  4.76it/s]\n",
      "Testing weights for lgbm_exp_04: 100%|██████████| 101/101 [00:20<00:00,  4.92it/s]\n",
      "Testing weights for tabm_exp_02: 100%|██████████| 101/101 [00:20<00:00,  4.85it/s]\n",
      "Testing weights for ds_exp_01: 100%|██████████| 101/101 [00:21<00:00,  4.74it/s]\n",
      "Testing weights for nn_exp_02: 100%|██████████| 101/101 [00:20<00:00,  4.89it/s]\n",
      "Testing weights for nn_exp_04: 100%|██████████| 101/101 [00:21<00:00,  4.78it/s]\n",
      "Testing weights for xgboost_exp_05: 100%|██████████| 101/101 [00:21<00:00,  4.72it/s]\n",
      "Testing weights for lgbm_exp_05: 100%|██████████| 101/101 [00:20<00:00,  4.89it/s]\n",
      "Testing weights for tn_exp_02: 100%|██████████| 101/101 [00:20<00:00,  4.83it/s]\n",
      "Testing weights for vr_exp_01: 100%|██████████| 101/101 [00:21<00:00,  4.80it/s]\n",
      "Testing weights for tt_exp_01: 100%|██████████| 101/101 [00:20<00:00,  5.01it/s]\n",
      "Testing weights for en_exp_01: 100%|██████████| 101/101 [00:20<00:00,  4.92it/s]\n",
      "Testing weights for en_exp_02: 100%|██████████| 101/101 [00:20<00:00,  4.86it/s]\n",
      "Testing weights for nn_exp_05: 100%|██████████| 101/101 [00:20<00:00,  5.01it/s]\n",
      "Testing weights for rf_exp_05: 100%|██████████| 101/101 [00:20<00:00,  4.86it/s]\n",
      "Testing weights for mcts_exp_02: 100%|██████████| 101/101 [00:20<00:00,  4.87it/s]\n",
      "Testing weights for catboost_exp_06: 100%|██████████| 101/101 [00:20<00:00,  4.91it/s]\n",
      "Testing weights for xgboost_exp_06: 100%|██████████| 101/101 [00:20<00:00,  4.82it/s]\n",
      "Testing weights for lgbm_exp_06: 100%|██████████| 101/101 [00:20<00:00,  4.92it/s]\n",
      "Testing weights for nn_exp_06: 100%|██████████| 101/101 [00:20<00:00,  4.81it/s]\n",
      "Testing weights for xgboost_exp_07: 100%|██████████| 101/101 [00:20<00:00,  4.87it/s]\n",
      "Testing weights for ri_exp_01: 100%|██████████| 101/101 [00:20<00:00,  4.94it/s]\n",
      "Testing weights for xgboost_exp_08: 100%|██████████| 101/101 [00:20<00:00,  4.83it/s]\n",
      "Testing weights for catboost_exp_08: 100%|██████████| 101/101 [00:20<00:00,  4.87it/s]\n",
      "Testing weights for ri_exp_06: 100%|██████████| 101/101 [00:20<00:00,  4.99it/s]\n",
      "Testing weights for xgboost_exp_10: 100%|██████████| 101/101 [00:21<00:00,  4.76it/s]\n",
      "Testing weights for lasso_exp_01: 100%|██████████| 101/101 [00:20<00:00,  4.88it/s]\n",
      "Testing weights for lir_exp_01: 100%|██████████| 101/101 [00:20<00:00,  4.89it/s]\n",
      "Testing weights for svr_exp_06: 100%|██████████| 101/101 [00:20<00:00,  4.81it/s]\n",
      "Testing weights for et_exp_01: 100%|██████████| 101/101 [00:20<00:00,  4.89it/s]\n",
      "Testing weights for lasso_exp_02: 100%|██████████| 101/101 [00:20<00:00,  4.94it/s]\n",
      "Testing weights for pr_exp_06: 100%|██████████| 101/101 [00:21<00:00,  4.74it/s]\n",
      "Testing weights for tr_exp_06: 100%|██████████| 101/101 [00:20<00:00,  4.86it/s]\n",
      "Testing weights for lasso_exp_06: 100%|██████████| 101/101 [00:20<00:00,  4.91it/s]\n",
      "Testing weights for ransac_exp_01: 100%|██████████| 101/101 [00:21<00:00,  4.76it/s]\n",
      "Testing weights for cnn_exp_01: 100%|██████████| 101/101 [00:20<00:00,  4.95it/s]\n",
      "Testing weights for ts_exp_01: 100%|██████████| 101/101 [00:20<00:00,  4.89it/s]\n"
     ]
    },
    {
     "name": "stdout",
     "output_type": "stream",
     "text": [
      "Iteration 4: Added /kaggle/input/catboost-exp-01 with weight 0.1000, Score: 0.6873\n",
      "4th iteration\n"
     ]
    },
    {
     "name": "stderr",
     "output_type": "stream",
     "text": [
      "Testing weights for xgboost_exp_01: 100%|██████████| 101/101 [00:21<00:00,  4.75it/s]\n",
      "Testing weights for lgbm_exp_01: 100%|██████████| 101/101 [00:20<00:00,  5.01it/s]\n",
      "Testing weights for xgboost_exp_02: 100%|██████████| 101/101 [00:21<00:00,  4.73it/s]\n",
      "Testing weights for catboost_exp_02: 100%|██████████| 101/101 [00:21<00:00,  4.80it/s]\n",
      "Testing weights for lgbm_exp_03: 100%|██████████| 101/101 [00:19<00:00,  5.09it/s]\n",
      "Testing weights for catboost_exp_03: 100%|██████████| 101/101 [00:20<00:00,  4.83it/s]\n",
      "Testing weights for tabm_exp_01: 100%|██████████| 101/101 [00:20<00:00,  4.81it/s]\n",
      "Testing weights for nn_exp_01: 100%|██████████| 101/101 [00:19<00:00,  5.11it/s]\n",
      "Testing weights for tn_exp_01: 100%|██████████| 101/101 [00:20<00:00,  4.83it/s]\n",
      "Testing weights for tf_exp_01: 100%|██████████| 101/101 [00:20<00:00,  4.82it/s]\n",
      "Testing weights for svr_exp_01: 100%|██████████| 101/101 [00:20<00:00,  5.03it/s]\n",
      "Testing weights for abd_exp_01: 100%|██████████| 101/101 [00:21<00:00,  4.76it/s]\n",
      "Testing weights for catboost_exp_04: 100%|██████████| 101/101 [00:21<00:00,  4.74it/s]\n",
      "Testing weights for lgbm_exp_04: 100%|██████████| 101/101 [00:20<00:00,  5.03it/s]\n",
      "Testing weights for tabm_exp_02: 100%|██████████| 101/101 [00:21<00:00,  4.80it/s]\n",
      "Testing weights for ds_exp_01: 100%|██████████| 101/101 [00:20<00:00,  4.88it/s]\n",
      "Testing weights for nn_exp_02: 100%|██████████| 101/101 [00:20<00:00,  5.04it/s]\n",
      "Testing weights for nn_exp_04: 100%|██████████| 101/101 [00:21<00:00,  4.78it/s]\n",
      "Testing weights for xgboost_exp_05: 100%|██████████| 101/101 [00:20<00:00,  4.94it/s]\n",
      "Testing weights for lgbm_exp_05: 100%|██████████| 101/101 [00:20<00:00,  4.88it/s]\n",
      "Testing weights for tn_exp_02: 100%|██████████| 101/101 [00:21<00:00,  4.76it/s]\n",
      "Testing weights for vr_exp_01: 100%|██████████| 101/101 [00:20<00:00,  4.91it/s]\n",
      "Testing weights for tt_exp_01: 100%|██████████| 101/101 [00:20<00:00,  4.91it/s]\n",
      "Testing weights for en_exp_01: 100%|██████████| 101/101 [00:21<00:00,  4.81it/s]\n",
      "Testing weights for en_exp_02: 100%|██████████| 101/101 [00:20<00:00,  5.02it/s]\n",
      "Testing weights for nn_exp_05: 100%|██████████| 101/101 [00:20<00:00,  4.87it/s]\n",
      "Testing weights for rf_exp_05: 100%|██████████| 101/101 [00:21<00:00,  4.73it/s]\n",
      "Testing weights for mcts_exp_02: 100%|██████████| 101/101 [00:20<00:00,  4.96it/s]\n",
      "Testing weights for catboost_exp_06: 100%|██████████| 101/101 [00:21<00:00,  4.80it/s]\n",
      "Testing weights for xgboost_exp_06: 100%|██████████| 101/101 [00:21<00:00,  4.73it/s]\n",
      "Testing weights for lgbm_exp_06: 100%|██████████| 101/101 [00:20<00:00,  5.01it/s]\n",
      "Testing weights for nn_exp_06: 100%|██████████| 101/101 [00:20<00:00,  4.89it/s]\n",
      "Testing weights for xgboost_exp_07: 100%|██████████| 101/101 [00:20<00:00,  4.85it/s]\n",
      "Testing weights for ri_exp_01: 100%|██████████| 101/101 [00:19<00:00,  5.07it/s]\n",
      "Testing weights for xgboost_exp_08: 100%|██████████| 101/101 [00:20<00:00,  4.81it/s]\n",
      "Testing weights for catboost_exp_08: 100%|██████████| 101/101 [00:20<00:00,  4.96it/s]\n",
      "Testing weights for ri_exp_06: 100%|██████████| 101/101 [00:20<00:00,  4.90it/s]\n",
      "Testing weights for xgboost_exp_10: 100%|██████████| 101/101 [00:21<00:00,  4.76it/s]\n",
      "Testing weights for lasso_exp_01: 100%|██████████| 101/101 [00:20<00:00,  4.95it/s]\n",
      "Testing weights for lir_exp_01: 100%|██████████| 101/101 [00:20<00:00,  4.86it/s]\n",
      "Testing weights for svr_exp_06: 100%|██████████| 101/101 [00:21<00:00,  4.74it/s]\n",
      "Testing weights for et_exp_01: 100%|██████████| 101/101 [00:20<00:00,  4.90it/s]\n",
      "Testing weights for lasso_exp_02: 100%|██████████| 101/101 [00:20<00:00,  4.86it/s]\n",
      "Testing weights for pr_exp_06: 100%|██████████| 101/101 [00:21<00:00,  4.74it/s]\n",
      "Testing weights for tr_exp_06: 100%|██████████| 101/101 [00:20<00:00,  4.92it/s]\n",
      "Testing weights for lasso_exp_06: 100%|██████████| 101/101 [00:20<00:00,  4.90it/s]\n",
      "Testing weights for ransac_exp_01: 100%|██████████| 101/101 [00:21<00:00,  4.78it/s]\n",
      "Testing weights for cnn_exp_01: 100%|██████████| 101/101 [00:20<00:00,  4.94it/s]\n",
      "Testing weights for ts_exp_01: 100%|██████████| 101/101 [00:20<00:00,  4.88it/s]\n"
     ]
    },
    {
     "name": "stdout",
     "output_type": "stream",
     "text": [
      "Iteration 5: Added /kaggle/input/lasso-exp-01 with weight -0.0400, Score: 0.6875\n",
      "5th iteration\n"
     ]
    },
    {
     "name": "stderr",
     "output_type": "stream",
     "text": [
      "Testing weights for xgboost_exp_01: 100%|██████████| 101/101 [00:21<00:00,  4.77it/s]\n",
      "Testing weights for lgbm_exp_01: 100%|██████████| 101/101 [00:20<00:00,  4.93it/s]\n",
      "Testing weights for xgboost_exp_02: 100%|██████████| 101/101 [00:20<00:00,  4.83it/s]\n",
      "Testing weights for catboost_exp_02: 100%|██████████| 101/101 [00:20<00:00,  4.90it/s]\n",
      "Testing weights for lgbm_exp_03: 100%|██████████| 101/101 [00:20<00:00,  4.84it/s]\n",
      "Testing weights for catboost_exp_03: 100%|██████████| 101/101 [00:20<00:00,  4.88it/s]\n",
      "Testing weights for tabm_exp_01: 100%|██████████| 101/101 [00:20<00:00,  4.91it/s]\n",
      "Testing weights for nn_exp_01: 100%|██████████| 101/101 [00:21<00:00,  4.74it/s]\n",
      "Testing weights for tn_exp_01: 100%|██████████| 101/101 [00:20<00:00,  4.85it/s]\n",
      "Testing weights for tf_exp_01: 100%|██████████| 101/101 [00:20<00:00,  4.90it/s]\n",
      "Testing weights for svr_exp_01: 100%|██████████| 101/101 [00:21<00:00,  4.80it/s]\n",
      "Testing weights for abd_exp_01: 100%|██████████| 101/101 [00:20<00:00,  4.86it/s]\n",
      "Testing weights for catboost_exp_04: 100%|██████████| 101/101 [00:20<00:00,  4.94it/s]\n",
      "Testing weights for lgbm_exp_04: 100%|██████████| 101/101 [00:21<00:00,  4.79it/s]\n",
      "Testing weights for tabm_exp_02: 100%|██████████| 101/101 [00:19<00:00,  5.12it/s]\n",
      "Testing weights for ds_exp_01: 100%|██████████| 101/101 [00:20<00:00,  4.94it/s]\n",
      "Testing weights for nn_exp_02: 100%|██████████| 101/101 [00:19<00:00,  5.13it/s]\n",
      "Testing weights for nn_exp_04: 100%|██████████| 101/101 [00:20<00:00,  4.94it/s]\n",
      "Testing weights for xgboost_exp_05: 100%|██████████| 101/101 [00:20<00:00,  4.93it/s]\n",
      "Testing weights for lgbm_exp_05: 100%|██████████| 101/101 [00:19<00:00,  5.09it/s]\n",
      "Testing weights for tn_exp_02: 100%|██████████| 101/101 [00:20<00:00,  4.93it/s]\n",
      "Testing weights for vr_exp_01: 100%|██████████| 101/101 [00:20<00:00,  4.97it/s]\n",
      "Testing weights for tt_exp_01: 100%|██████████| 101/101 [00:19<00:00,  5.14it/s]\n",
      "Testing weights for en_exp_01: 100%|██████████| 101/101 [00:20<00:00,  5.00it/s]\n",
      "Testing weights for en_exp_02: 100%|██████████| 101/101 [00:20<00:00,  4.98it/s]\n",
      "Testing weights for nn_exp_05: 100%|██████████| 101/101 [00:19<00:00,  5.10it/s]\n",
      "Testing weights for rf_exp_05: 100%|██████████| 101/101 [00:20<00:00,  4.91it/s]\n",
      "Testing weights for mcts_exp_02: 100%|██████████| 101/101 [00:19<00:00,  5.08it/s]\n",
      "Testing weights for catboost_exp_06: 100%|██████████| 101/101 [00:21<00:00,  4.77it/s]\n",
      "Testing weights for xgboost_exp_06: 100%|██████████| 101/101 [00:21<00:00,  4.75it/s]\n",
      "Testing weights for lgbm_exp_06: 100%|██████████| 101/101 [00:19<00:00,  5.09it/s]\n",
      "Testing weights for nn_exp_06: 100%|██████████| 101/101 [00:21<00:00,  4.78it/s]\n",
      "Testing weights for xgboost_exp_07: 100%|██████████| 101/101 [00:21<00:00,  4.72it/s]\n",
      "Testing weights for ri_exp_01: 100%|██████████| 101/101 [00:20<00:00,  4.97it/s]\n",
      "Testing weights for xgboost_exp_08: 100%|██████████| 101/101 [00:21<00:00,  4.72it/s]\n",
      "Testing weights for catboost_exp_08: 100%|██████████| 101/101 [00:20<00:00,  4.81it/s]\n",
      "Testing weights for ri_exp_06: 100%|██████████| 101/101 [00:20<00:00,  5.03it/s]\n",
      "Testing weights for xgboost_exp_10: 100%|██████████| 101/101 [00:21<00:00,  4.74it/s]\n",
      "Testing weights for lir_exp_01: 100%|██████████| 101/101 [00:20<00:00,  4.93it/s]\n",
      "Testing weights for svr_exp_06: 100%|██████████| 101/101 [00:20<00:00,  4.90it/s]\n",
      "Testing weights for et_exp_01: 100%|██████████| 101/101 [00:21<00:00,  4.75it/s]\n",
      "Testing weights for lasso_exp_02: 100%|██████████| 101/101 [00:20<00:00,  4.93it/s]\n",
      "Testing weights for pr_exp_06: 100%|██████████| 101/101 [00:20<00:00,  4.91it/s]\n",
      "Testing weights for tr_exp_06: 100%|██████████| 101/101 [00:21<00:00,  4.79it/s]\n",
      "Testing weights for lasso_exp_06: 100%|██████████| 101/101 [00:20<00:00,  4.98it/s]\n",
      "Testing weights for ransac_exp_01: 100%|██████████| 101/101 [00:20<00:00,  4.89it/s]\n",
      "Testing weights for cnn_exp_01: 100%|██████████| 101/101 [00:21<00:00,  4.80it/s]\n",
      "Testing weights for ts_exp_01: 100%|██████████| 101/101 [00:19<00:00,  5.09it/s]\n"
     ]
    },
    {
     "name": "stdout",
     "output_type": "stream",
     "text": [
      "Iteration 6: Added /kaggle/input/nn-exp-04 with weight 0.1200, Score: 0.6877\n",
      "6th iteration\n"
     ]
    },
    {
     "name": "stderr",
     "output_type": "stream",
     "text": [
      "Testing weights for xgboost_exp_01: 100%|██████████| 101/101 [00:21<00:00,  4.78it/s]\n",
      "Testing weights for lgbm_exp_01: 100%|██████████| 101/101 [00:21<00:00,  4.76it/s]\n",
      "Testing weights for xgboost_exp_02: 100%|██████████| 101/101 [00:19<00:00,  5.09it/s]\n",
      "Testing weights for catboost_exp_02: 100%|██████████| 101/101 [00:21<00:00,  4.76it/s]\n",
      "Testing weights for lgbm_exp_03: 100%|██████████| 101/101 [00:20<00:00,  4.92it/s]\n",
      "Testing weights for catboost_exp_03: 100%|██████████| 101/101 [00:20<00:00,  4.99it/s]\n",
      "Testing weights for tabm_exp_01: 100%|██████████| 101/101 [00:21<00:00,  4.77it/s]\n",
      "Testing weights for nn_exp_01: 100%|██████████| 101/101 [00:20<00:00,  4.91it/s]\n",
      "Testing weights for tn_exp_01: 100%|██████████| 101/101 [00:20<00:00,  4.87it/s]\n",
      "Testing weights for tf_exp_01: 100%|██████████| 101/101 [00:21<00:00,  4.72it/s]\n",
      "Testing weights for svr_exp_01: 100%|██████████| 101/101 [00:20<00:00,  4.84it/s]\n",
      "Testing weights for abd_exp_01: 100%|██████████| 101/101 [00:20<00:00,  4.85it/s]\n",
      "Testing weights for catboost_exp_04: 100%|██████████| 101/101 [00:21<00:00,  4.73it/s]\n",
      "Testing weights for lgbm_exp_04: 100%|██████████| 101/101 [00:20<00:00,  4.82it/s]\n",
      "Testing weights for tabm_exp_02: 100%|██████████| 101/101 [00:20<00:00,  4.89it/s]\n",
      "Testing weights for ds_exp_01: 100%|██████████| 101/101 [00:21<00:00,  4.75it/s]\n",
      "Testing weights for nn_exp_02: 100%|██████████| 101/101 [00:20<00:00,  5.04it/s]\n",
      "Testing weights for xgboost_exp_05: 100%|██████████| 101/101 [00:20<00:00,  4.83it/s]\n",
      "Testing weights for lgbm_exp_05: 100%|██████████| 101/101 [00:21<00:00,  4.76it/s]\n",
      "Testing weights for tn_exp_02: 100%|██████████| 101/101 [00:19<00:00,  5.07it/s]\n",
      "Testing weights for vr_exp_01: 100%|██████████| 101/101 [00:21<00:00,  4.72it/s]\n",
      "Testing weights for tt_exp_01: 100%|██████████| 101/101 [00:21<00:00,  4.74it/s]\n",
      "Testing weights for en_exp_01: 100%|██████████| 101/101 [00:19<00:00,  5.08it/s]\n",
      "Testing weights for en_exp_02: 100%|██████████| 101/101 [00:21<00:00,  4.72it/s]\n",
      "Testing weights for nn_exp_05: 100%|██████████| 101/101 [00:20<00:00,  4.88it/s]\n",
      "Testing weights for rf_exp_05: 100%|██████████| 101/101 [00:20<00:00,  4.93it/s]\n",
      "Testing weights for mcts_exp_02: 100%|██████████| 101/101 [00:21<00:00,  4.69it/s]\n",
      "Testing weights for catboost_exp_06: 100%|██████████| 101/101 [00:20<00:00,  4.91it/s]\n",
      "Testing weights for xgboost_exp_06: 100%|██████████| 101/101 [00:20<00:00,  4.90it/s]\n",
      "Testing weights for lgbm_exp_06: 100%|██████████| 101/101 [00:21<00:00,  4.73it/s]\n",
      "Testing weights for nn_exp_06: 100%|██████████| 101/101 [00:20<00:00,  4.89it/s]\n",
      "Testing weights for xgboost_exp_07: 100%|██████████| 101/101 [00:20<00:00,  4.89it/s]\n",
      "Testing weights for ri_exp_01: 100%|██████████| 101/101 [00:21<00:00,  4.76it/s]\n",
      "Testing weights for xgboost_exp_08: 100%|██████████| 101/101 [00:19<00:00,  5.07it/s]\n",
      "Testing weights for catboost_exp_08: 100%|██████████| 101/101 [00:21<00:00,  4.74it/s]\n",
      "Testing weights for ri_exp_06: 100%|██████████| 101/101 [00:21<00:00,  4.73it/s]\n",
      "Testing weights for xgboost_exp_10: 100%|██████████| 101/101 [00:19<00:00,  5.11it/s]\n",
      "Testing weights for lir_exp_01: 100%|██████████| 101/101 [00:21<00:00,  4.79it/s]\n",
      "Testing weights for svr_exp_06: 100%|██████████| 101/101 [00:21<00:00,  4.75it/s]\n",
      "Testing weights for et_exp_01: 100%|██████████| 101/101 [00:19<00:00,  5.06it/s]\n",
      "Testing weights for lasso_exp_02: 100%|██████████| 101/101 [00:21<00:00,  4.73it/s]\n",
      "Testing weights for pr_exp_06: 100%|██████████| 101/101 [00:21<00:00,  4.74it/s]\n",
      "Testing weights for tr_exp_06: 100%|██████████| 101/101 [00:19<00:00,  5.07it/s]\n",
      "Testing weights for lasso_exp_06: 100%|██████████| 101/101 [00:21<00:00,  4.69it/s]\n",
      "Testing weights for ransac_exp_01: 100%|██████████| 101/101 [00:21<00:00,  4.80it/s]\n",
      "Testing weights for cnn_exp_01: 100%|██████████| 101/101 [00:20<00:00,  4.99it/s]\n",
      "Testing weights for ts_exp_01: 100%|██████████| 101/101 [00:21<00:00,  4.72it/s]\n"
     ]
    },
    {
     "name": "stdout",
     "output_type": "stream",
     "text": [
      "Iteration 7: Added /kaggle/input/svr-exp-06 with weight -0.0500, Score: 0.6878\n",
      "7th iteration\n"
     ]
    },
    {
     "name": "stderr",
     "output_type": "stream",
     "text": [
      "Testing weights for xgboost_exp_01: 100%|██████████| 101/101 [00:19<00:00,  5.06it/s]\n",
      "Testing weights for lgbm_exp_01: 100%|██████████| 101/101 [00:21<00:00,  4.79it/s]\n",
      "Testing weights for xgboost_exp_02: 100%|██████████| 101/101 [00:21<00:00,  4.73it/s]\n",
      "Testing weights for catboost_exp_02: 100%|██████████| 101/101 [00:19<00:00,  5.07it/s]\n",
      "Testing weights for lgbm_exp_03: 100%|██████████| 101/101 [00:21<00:00,  4.76it/s]\n",
      "Testing weights for catboost_exp_03: 100%|██████████| 101/101 [00:21<00:00,  4.70it/s]\n",
      "Testing weights for tabm_exp_01: 100%|██████████| 101/101 [00:20<00:00,  5.04it/s]\n",
      "Testing weights for nn_exp_01: 100%|██████████| 101/101 [00:21<00:00,  4.75it/s]\n",
      "Testing weights for tn_exp_01: 100%|██████████| 101/101 [00:21<00:00,  4.68it/s]\n",
      "Testing weights for tf_exp_01: 100%|██████████| 101/101 [00:20<00:00,  5.02it/s]\n",
      "Testing weights for svr_exp_01: 100%|██████████| 101/101 [00:21<00:00,  4.72it/s]\n",
      "Testing weights for abd_exp_01: 100%|██████████| 101/101 [00:20<00:00,  4.87it/s]\n",
      "Testing weights for catboost_exp_04: 100%|██████████| 101/101 [00:20<00:00,  4.97it/s]\n",
      "Testing weights for lgbm_exp_04: 100%|██████████| 101/101 [00:21<00:00,  4.75it/s]\n",
      "Testing weights for tabm_exp_02: 100%|██████████| 101/101 [00:20<00:00,  4.92it/s]\n",
      "Testing weights for ds_exp_01: 100%|██████████| 101/101 [00:20<00:00,  4.89it/s]\n",
      "Testing weights for nn_exp_02: 100%|██████████| 101/101 [00:21<00:00,  4.74it/s]\n",
      "Testing weights for xgboost_exp_05: 100%|██████████| 101/101 [00:19<00:00,  5.07it/s]\n",
      "Testing weights for lgbm_exp_05: 100%|██████████| 101/101 [00:20<00:00,  4.82it/s]\n",
      "Testing weights for tn_exp_02: 100%|██████████| 101/101 [00:21<00:00,  4.79it/s]\n",
      "Testing weights for vr_exp_01: 100%|██████████| 101/101 [00:19<00:00,  5.11it/s]\n",
      "Testing weights for tt_exp_01: 100%|██████████| 101/101 [00:21<00:00,  4.77it/s]\n",
      "Testing weights for en_exp_01: 100%|██████████| 101/101 [00:20<00:00,  4.95it/s]\n",
      "Testing weights for en_exp_02: 100%|██████████| 101/101 [00:20<00:00,  5.03it/s]\n",
      "Testing weights for nn_exp_05: 100%|██████████| 101/101 [00:21<00:00,  4.76it/s]\n",
      "Testing weights for rf_exp_05: 100%|██████████| 101/101 [00:20<00:00,  4.95it/s]\n",
      "Testing weights for mcts_exp_02: 100%|██████████| 101/101 [00:20<00:00,  4.90it/s]\n",
      "Testing weights for catboost_exp_06: 100%|██████████| 101/101 [00:21<00:00,  4.72it/s]\n",
      "Testing weights for xgboost_exp_06: 100%|██████████| 101/101 [00:20<00:00,  4.95it/s]\n",
      "Testing weights for lgbm_exp_06: 100%|██████████| 101/101 [00:20<00:00,  4.93it/s]\n",
      "Testing weights for nn_exp_06: 100%|██████████| 101/101 [00:21<00:00,  4.76it/s]\n",
      "Testing weights for xgboost_exp_07: 100%|██████████| 101/101 [00:20<00:00,  5.00it/s]\n",
      "Testing weights for ri_exp_01: 100%|██████████| 101/101 [00:20<00:00,  4.93it/s]\n",
      "Testing weights for xgboost_exp_08: 100%|██████████| 101/101 [00:20<00:00,  4.93it/s]\n",
      "Testing weights for catboost_exp_08: 100%|██████████| 101/101 [00:20<00:00,  4.93it/s]\n",
      "Testing weights for ri_exp_06: 100%|██████████| 101/101 [00:21<00:00,  4.75it/s]\n",
      "Testing weights for xgboost_exp_10: 100%|██████████| 101/101 [00:20<00:00,  4.95it/s]\n",
      "Testing weights for lir_exp_01: 100%|██████████| 101/101 [00:20<00:00,  4.89it/s]\n",
      "Testing weights for et_exp_01: 100%|██████████| 101/101 [00:21<00:00,  4.77it/s]\n",
      "Testing weights for lasso_exp_02: 100%|██████████| 101/101 [00:20<00:00,  4.97it/s]\n",
      "Testing weights for pr_exp_06: 100%|██████████| 101/101 [00:20<00:00,  4.92it/s]\n",
      "Testing weights for tr_exp_06: 100%|██████████| 101/101 [00:21<00:00,  4.79it/s]\n",
      "Testing weights for lasso_exp_06: 100%|██████████| 101/101 [00:20<00:00,  4.95it/s]\n",
      "Testing weights for ransac_exp_01: 100%|██████████| 101/101 [00:20<00:00,  4.89it/s]\n",
      "Testing weights for cnn_exp_01: 100%|██████████| 101/101 [00:20<00:00,  4.88it/s]\n",
      "Testing weights for ts_exp_01: 100%|██████████| 101/101 [00:21<00:00,  4.69it/s]\n"
     ]
    },
    {
     "name": "stdout",
     "output_type": "stream",
     "text": [
      "Iteration 8: Added /kaggle/input/ds-exp-01 with weight 0.0400, Score: 0.6879\n",
      "8th iteration\n"
     ]
    },
    {
     "name": "stderr",
     "output_type": "stream",
     "text": [
      "Testing weights for xgboost_exp_01: 100%|██████████| 101/101 [00:20<00:00,  4.87it/s]\n",
      "Testing weights for lgbm_exp_01: 100%|██████████| 101/101 [00:20<00:00,  4.90it/s]\n",
      "Testing weights for xgboost_exp_02: 100%|██████████| 101/101 [00:21<00:00,  4.76it/s]\n",
      "Testing weights for catboost_exp_02: 100%|██████████| 101/101 [00:20<00:00,  4.94it/s]\n",
      "Testing weights for lgbm_exp_03: 100%|██████████| 101/101 [00:20<00:00,  4.94it/s]\n",
      "Testing weights for catboost_exp_03: 100%|██████████| 101/101 [00:20<00:00,  4.89it/s]\n",
      "Testing weights for tabm_exp_01: 100%|██████████| 101/101 [00:21<00:00,  4.75it/s]\n",
      "Testing weights for nn_exp_01: 100%|██████████| 101/101 [00:20<00:00,  4.89it/s]\n",
      "Testing weights for tn_exp_01: 100%|██████████| 101/101 [00:20<00:00,  4.87it/s]\n",
      "Testing weights for tf_exp_01: 100%|██████████| 101/101 [00:20<00:00,  4.88it/s]\n",
      "Testing weights for svr_exp_01: 100%|██████████| 101/101 [00:21<00:00,  4.73it/s]\n",
      "Testing weights for abd_exp_01: 100%|██████████| 101/101 [00:20<00:00,  4.86it/s]\n",
      "Testing weights for catboost_exp_04: 100%|██████████| 101/101 [00:20<00:00,  4.95it/s]\n",
      "Testing weights for lgbm_exp_04: 100%|██████████| 101/101 [00:21<00:00,  4.76it/s]\n",
      "Testing weights for tabm_exp_02: 100%|██████████| 101/101 [00:20<00:00,  4.86it/s]\n",
      "Testing weights for nn_exp_02: 100%|██████████| 101/101 [00:20<00:00,  4.97it/s]\n",
      "Testing weights for xgboost_exp_05: 100%|██████████| 101/101 [00:21<00:00,  4.76it/s]\n",
      "Testing weights for lgbm_exp_05: 100%|██████████| 101/101 [00:20<00:00,  4.97it/s]\n",
      "Testing weights for tn_exp_02: 100%|██████████| 101/101 [00:20<00:00,  4.90it/s]\n",
      "Testing weights for vr_exp_01: 100%|██████████| 101/101 [00:21<00:00,  4.69it/s]\n",
      "Testing weights for tt_exp_01: 100%|██████████| 101/101 [00:19<00:00,  5.08it/s]\n",
      "Testing weights for en_exp_01: 100%|██████████| 101/101 [00:21<00:00,  4.75it/s]\n",
      "Testing weights for en_exp_02: 100%|██████████| 101/101 [00:21<00:00,  4.79it/s]\n",
      "Testing weights for nn_exp_05: 100%|██████████| 101/101 [00:19<00:00,  5.08it/s]\n",
      "Testing weights for rf_exp_05: 100%|██████████| 101/101 [00:21<00:00,  4.74it/s]\n",
      "Testing weights for mcts_exp_02: 100%|██████████| 101/101 [00:20<00:00,  4.91it/s]\n",
      "Testing weights for catboost_exp_06: 100%|██████████| 101/101 [00:20<00:00,  4.93it/s]\n",
      "Testing weights for xgboost_exp_06: 100%|██████████| 101/101 [00:21<00:00,  4.73it/s]\n",
      "Testing weights for lgbm_exp_06: 100%|██████████| 101/101 [00:20<00:00,  5.05it/s]\n",
      "Testing weights for nn_exp_06: 100%|██████████| 101/101 [00:21<00:00,  4.72it/s]\n",
      "Testing weights for xgboost_exp_07: 100%|██████████| 101/101 [00:21<00:00,  4.69it/s]\n",
      "Testing weights for ri_exp_01: 100%|██████████| 101/101 [00:20<00:00,  5.05it/s]\n",
      "Testing weights for xgboost_exp_08: 100%|██████████| 101/101 [00:21<00:00,  4.65it/s]\n",
      "Testing weights for catboost_exp_08: 100%|██████████| 101/101 [00:21<00:00,  4.67it/s]\n",
      "Testing weights for ri_exp_06: 100%|██████████| 101/101 [00:19<00:00,  5.09it/s]\n",
      "Testing weights for xgboost_exp_10: 100%|██████████| 101/101 [00:21<00:00,  4.68it/s]\n",
      "Testing weights for lir_exp_01: 100%|██████████| 101/101 [00:21<00:00,  4.78it/s]\n",
      "Testing weights for et_exp_01: 100%|██████████| 101/101 [00:20<00:00,  4.97it/s]\n",
      "Testing weights for lasso_exp_02: 100%|██████████| 101/101 [00:21<00:00,  4.68it/s]\n",
      "Testing weights for pr_exp_06: 100%|██████████| 101/101 [00:20<00:00,  4.90it/s]\n",
      "Testing weights for tr_exp_06: 100%|██████████| 101/101 [00:20<00:00,  4.85it/s]\n",
      "Testing weights for lasso_exp_06: 100%|██████████| 101/101 [00:21<00:00,  4.65it/s]\n",
      "Testing weights for ransac_exp_01: 100%|██████████| 101/101 [00:20<00:00,  4.89it/s]\n",
      "Testing weights for cnn_exp_01: 100%|██████████| 101/101 [00:20<00:00,  4.86it/s]\n",
      "Testing weights for ts_exp_01: 100%|██████████| 101/101 [00:21<00:00,  4.69it/s]\n"
     ]
    },
    {
     "name": "stdout",
     "output_type": "stream",
     "text": [
      "Iteration 9: Added /kaggle/input/rf-exp-05 with weight -0.0600, Score: 0.6880\n",
      "9th iteration\n"
     ]
    },
    {
     "name": "stderr",
     "output_type": "stream",
     "text": [
      "Testing weights for xgboost_exp_01: 100%|██████████| 101/101 [00:20<00:00,  5.02it/s]\n",
      "Testing weights for lgbm_exp_01: 100%|██████████| 101/101 [00:21<00:00,  4.78it/s]\n",
      "Testing weights for xgboost_exp_02: 100%|██████████| 101/101 [00:20<00:00,  4.89it/s]\n",
      "Testing weights for catboost_exp_02: 100%|██████████| 101/101 [00:20<00:00,  4.94it/s]\n",
      "Testing weights for lgbm_exp_03: 100%|██████████| 101/101 [00:21<00:00,  4.68it/s]\n",
      "Testing weights for catboost_exp_03: 100%|██████████| 101/101 [00:20<00:00,  4.85it/s]\n",
      "Testing weights for tabm_exp_01: 100%|██████████| 101/101 [00:20<00:00,  4.87it/s]\n",
      "Testing weights for nn_exp_01: 100%|██████████| 101/101 [00:21<00:00,  4.67it/s]\n",
      "Testing weights for tn_exp_01: 100%|██████████| 101/101 [00:20<00:00,  4.97it/s]\n",
      "Testing weights for tf_exp_01: 100%|██████████| 101/101 [00:20<00:00,  4.90it/s]\n",
      "Testing weights for svr_exp_01: 100%|██████████| 101/101 [00:20<00:00,  4.88it/s]\n",
      "Testing weights for abd_exp_01: 100%|██████████| 101/101 [00:20<00:00,  4.89it/s]\n",
      "Testing weights for catboost_exp_04: 100%|██████████| 101/101 [00:20<00:00,  4.91it/s]\n",
      "Testing weights for lgbm_exp_04: 100%|██████████| 101/101 [00:20<00:00,  4.89it/s]\n",
      "Testing weights for tabm_exp_02: 100%|██████████| 101/101 [00:21<00:00,  4.66it/s]\n",
      "Testing weights for nn_exp_02: 100%|██████████| 101/101 [00:21<00:00,  4.78it/s]\n",
      "Testing weights for xgboost_exp_05: 100%|██████████| 101/101 [00:20<00:00,  4.83it/s]\n",
      "Testing weights for lgbm_exp_05: 100%|██████████| 101/101 [00:21<00:00,  4.64it/s]\n",
      "Testing weights for tn_exp_02: 100%|██████████| 101/101 [00:20<00:00,  4.82it/s]\n",
      "Testing weights for vr_exp_01: 100%|██████████| 101/101 [00:20<00:00,  4.83it/s]\n",
      "Testing weights for tt_exp_01: 100%|██████████| 101/101 [00:21<00:00,  4.62it/s]\n",
      "Testing weights for en_exp_01: 100%|██████████| 101/101 [00:20<00:00,  5.02it/s]\n",
      "Testing weights for en_exp_02: 100%|██████████| 101/101 [00:21<00:00,  4.68it/s]\n",
      "Testing weights for nn_exp_05: 100%|██████████| 101/101 [00:21<00:00,  4.62it/s]\n",
      "Testing weights for mcts_exp_02: 100%|██████████| 101/101 [00:20<00:00,  4.95it/s]\n",
      "Testing weights for catboost_exp_06: 100%|██████████| 101/101 [00:21<00:00,  4.64it/s]\n",
      "Testing weights for xgboost_exp_06: 100%|██████████| 101/101 [00:21<00:00,  4.62it/s]\n",
      "Testing weights for lgbm_exp_06: 100%|██████████| 101/101 [00:20<00:00,  4.99it/s]\n",
      "Testing weights for nn_exp_06: 100%|██████████| 101/101 [00:21<00:00,  4.71it/s]\n",
      "Testing weights for xgboost_exp_07: 100%|██████████| 101/101 [00:21<00:00,  4.75it/s]\n",
      "Testing weights for ri_exp_01: 100%|██████████| 101/101 [00:19<00:00,  5.06it/s]\n",
      "Testing weights for xgboost_exp_08: 100%|██████████| 101/101 [00:21<00:00,  4.66it/s]\n",
      "Testing weights for catboost_exp_08: 100%|██████████| 101/101 [00:20<00:00,  5.01it/s]\n",
      "Testing weights for ri_exp_06: 100%|██████████| 101/101 [00:21<00:00,  4.70it/s]\n",
      "Testing weights for xgboost_exp_10: 100%|██████████| 101/101 [00:21<00:00,  4.67it/s]\n",
      "Testing weights for lir_exp_01: 100%|██████████| 101/101 [00:20<00:00,  5.03it/s]\n",
      "Testing weights for et_exp_01: 100%|██████████| 101/101 [00:22<00:00,  4.59it/s]\n",
      "Testing weights for lasso_exp_02: 100%|██████████| 101/101 [00:21<00:00,  4.62it/s]\n",
      "Testing weights for pr_exp_06: 100%|██████████| 101/101 [00:19<00:00,  5.06it/s]\n",
      "Testing weights for tr_exp_06: 100%|██████████| 101/101 [00:21<00:00,  4.64it/s]\n",
      "Testing weights for lasso_exp_06: 100%|██████████| 101/101 [00:20<00:00,  4.88it/s]\n",
      "Testing weights for ransac_exp_01: 100%|██████████| 101/101 [00:20<00:00,  4.85it/s]\n",
      "Testing weights for cnn_exp_01: 100%|██████████| 101/101 [00:21<00:00,  4.66it/s]\n",
      "Testing weights for ts_exp_01: 100%|██████████| 101/101 [00:20<00:00,  4.86it/s]\n"
     ]
    },
    {
     "name": "stdout",
     "output_type": "stream",
     "text": [
      "Iteration 10: Added /kaggle/input/svr-exp-01 with weight -0.0400, Score: 0.6881\n",
      "10th iteration\n"
     ]
    },
    {
     "name": "stderr",
     "output_type": "stream",
     "text": [
      "Testing weights for xgboost_exp_01: 100%|██████████| 101/101 [00:21<00:00,  4.78it/s]\n",
      "Testing weights for lgbm_exp_01: 100%|██████████| 101/101 [00:21<00:00,  4.66it/s]\n",
      "Testing weights for xgboost_exp_02: 100%|██████████| 101/101 [00:20<00:00,  4.88it/s]\n",
      "Testing weights for catboost_exp_02: 100%|██████████| 101/101 [00:21<00:00,  4.80it/s]\n",
      "Testing weights for lgbm_exp_03: 100%|██████████| 101/101 [00:21<00:00,  4.77it/s]\n",
      "Testing weights for catboost_exp_03: 100%|██████████| 101/101 [00:21<00:00,  4.79it/s]\n",
      "Testing weights for tabm_exp_01: 100%|██████████| 101/101 [00:20<00:00,  4.82it/s]\n",
      "Testing weights for nn_exp_01: 100%|██████████| 101/101 [00:20<00:00,  4.88it/s]\n",
      "Testing weights for tn_exp_01: 100%|██████████| 101/101 [00:21<00:00,  4.68it/s]\n",
      "Testing weights for tf_exp_01: 100%|██████████| 101/101 [00:21<00:00,  4.81it/s]\n",
      "Testing weights for abd_exp_01: 100%|██████████| 101/101 [00:20<00:00,  4.93it/s]\n",
      "Testing weights for catboost_exp_04: 100%|██████████| 101/101 [00:21<00:00,  4.73it/s]\n",
      "Testing weights for lgbm_exp_04: 100%|██████████| 101/101 [00:20<00:00,  4.97it/s]\n",
      "Testing weights for tabm_exp_02: 100%|██████████| 101/101 [00:20<00:00,  4.88it/s]\n",
      "Testing weights for nn_exp_02: 100%|██████████| 101/101 [00:21<00:00,  4.71it/s]\n",
      "Testing weights for xgboost_exp_05: 100%|██████████| 101/101 [00:19<00:00,  5.10it/s]\n",
      "Testing weights for lgbm_exp_05: 100%|██████████| 101/101 [00:21<00:00,  4.68it/s]\n",
      "Testing weights for tn_exp_02: 100%|██████████| 101/101 [00:21<00:00,  4.76it/s]\n",
      "Testing weights for vr_exp_01: 100%|██████████| 101/101 [00:20<00:00,  5.01it/s]\n",
      "Testing weights for tt_exp_01: 100%|██████████| 101/101 [00:21<00:00,  4.70it/s]\n",
      "Testing weights for en_exp_01: 100%|██████████| 101/101 [00:19<00:00,  5.07it/s]\n",
      "Testing weights for en_exp_02: 100%|██████████| 101/101 [00:21<00:00,  4.77it/s]\n",
      "Testing weights for nn_exp_05: 100%|██████████| 101/101 [00:21<00:00,  4.68it/s]\n",
      "Testing weights for mcts_exp_02: 100%|██████████| 101/101 [00:19<00:00,  5.11it/s]\n",
      "Testing weights for catboost_exp_06: 100%|██████████| 101/101 [00:21<00:00,  4.67it/s]\n",
      "Testing weights for xgboost_exp_06: 100%|██████████| 101/101 [00:21<00:00,  4.67it/s]\n",
      "Testing weights for lgbm_exp_06: 100%|██████████| 101/101 [00:20<00:00,  5.03it/s]\n",
      "Testing weights for nn_exp_06: 100%|██████████| 101/101 [00:21<00:00,  4.64it/s]\n",
      "Testing weights for xgboost_exp_07: 100%|██████████| 101/101 [00:20<00:00,  4.87it/s]\n",
      "Testing weights for ri_exp_01: 100%|██████████| 101/101 [00:21<00:00,  4.78it/s]\n",
      "Testing weights for xgboost_exp_08: 100%|██████████| 101/101 [00:21<00:00,  4.62it/s]\n",
      "Testing weights for catboost_exp_08: 100%|██████████| 101/101 [00:20<00:00,  4.89it/s]\n",
      "Testing weights for ri_exp_06: 100%|██████████| 101/101 [00:21<00:00,  4.79it/s]\n",
      "Testing weights for xgboost_exp_10: 100%|██████████| 101/101 [00:21<00:00,  4.63it/s]\n",
      "Testing weights for lir_exp_01: 100%|██████████| 101/101 [00:20<00:00,  4.92it/s]\n",
      "Testing weights for et_exp_01: 100%|██████████| 101/101 [00:20<00:00,  4.82it/s]\n",
      "Testing weights for lasso_exp_02: 100%|██████████| 101/101 [00:20<00:00,  4.91it/s]\n",
      "Testing weights for pr_exp_06: 100%|██████████| 101/101 [00:21<00:00,  4.66it/s]\n",
      "Testing weights for tr_exp_06: 100%|██████████| 101/101 [00:21<00:00,  4.78it/s]\n",
      "Testing weights for lasso_exp_06: 100%|██████████| 101/101 [00:20<00:00,  4.90it/s]\n",
      "Testing weights for ransac_exp_01: 100%|██████████| 101/101 [00:21<00:00,  4.63it/s]\n",
      "Testing weights for cnn_exp_01: 100%|██████████| 101/101 [00:21<00:00,  4.77it/s]\n",
      "Testing weights for ts_exp_01: 100%|██████████| 101/101 [00:20<00:00,  4.90it/s]\n"
     ]
    },
    {
     "name": "stdout",
     "output_type": "stream",
     "text": [
      "Iteration 11: Added /kaggle/input/tf-exp-01 with weight 0.0400, Score: 0.6882\n",
      "11th iteration\n"
     ]
    },
    {
     "name": "stderr",
     "output_type": "stream",
     "text": [
      "Testing weights for xgboost_exp_01: 100%|██████████| 101/101 [00:21<00:00,  4.66it/s]\n",
      "Testing weights for lgbm_exp_01: 100%|██████████| 101/101 [00:19<00:00,  5.05it/s]\n",
      "Testing weights for xgboost_exp_02: 100%|██████████| 101/101 [00:21<00:00,  4.65it/s]\n",
      "Testing weights for catboost_exp_02: 100%|██████████| 101/101 [00:21<00:00,  4.66it/s]\n",
      "Testing weights for lgbm_exp_03: 100%|██████████| 101/101 [00:20<00:00,  5.02it/s]\n",
      "Testing weights for catboost_exp_03: 100%|██████████| 101/101 [00:21<00:00,  4.60it/s]\n",
      "Testing weights for tabm_exp_01: 100%|██████████| 101/101 [00:22<00:00,  4.58it/s]\n",
      "Testing weights for nn_exp_01: 100%|██████████| 101/101 [00:20<00:00,  4.98it/s]\n",
      "Testing weights for tn_exp_01: 100%|██████████| 101/101 [00:21<00:00,  4.60it/s]\n",
      "Testing weights for abd_exp_01: 100%|██████████| 101/101 [00:20<00:00,  4.99it/s]\n",
      "Testing weights for catboost_exp_04: 100%|██████████| 101/101 [00:21<00:00,  4.68it/s]\n",
      "Testing weights for lgbm_exp_04: 100%|██████████| 101/101 [00:22<00:00,  4.58it/s]\n",
      "Testing weights for tabm_exp_02: 100%|██████████| 101/101 [00:20<00:00,  4.94it/s]\n",
      "Testing weights for nn_exp_02: 100%|██████████| 101/101 [00:21<00:00,  4.75it/s]\n",
      "Testing weights for xgboost_exp_05: 100%|██████████| 101/101 [00:21<00:00,  4.64it/s]\n",
      "Testing weights for lgbm_exp_05: 100%|██████████| 101/101 [00:20<00:00,  5.00it/s]\n",
      "Testing weights for tn_exp_02: 100%|██████████| 101/101 [00:21<00:00,  4.66it/s]\n",
      "Testing weights for vr_exp_01: 100%|██████████| 101/101 [00:20<00:00,  4.82it/s]\n",
      "Testing weights for tt_exp_01: 100%|██████████| 101/101 [00:21<00:00,  4.67it/s]\n",
      "Testing weights for en_exp_01: 100%|██████████| 101/101 [00:21<00:00,  4.69it/s]\n",
      "Testing weights for en_exp_02: 100%|██████████| 101/101 [00:20<00:00,  4.83it/s]\n",
      "Testing weights for nn_exp_05: 100%|██████████| 101/101 [00:21<00:00,  4.68it/s]\n",
      "Testing weights for mcts_exp_02: 100%|██████████| 101/101 [00:21<00:00,  4.69it/s]\n",
      "Testing weights for catboost_exp_06: 100%|██████████| 101/101 [00:20<00:00,  4.83it/s]\n",
      "Testing weights for xgboost_exp_06: 100%|██████████| 101/101 [00:21<00:00,  4.59it/s]\n",
      "Testing weights for lgbm_exp_06: 100%|██████████| 101/101 [00:20<00:00,  5.01it/s]\n",
      "Testing weights for nn_exp_06: 100%|██████████| 101/101 [00:21<00:00,  4.60it/s]\n",
      "Testing weights for xgboost_exp_07: 100%|██████████| 101/101 [00:21<00:00,  4.64it/s]\n",
      "Testing weights for ri_exp_01: 100%|██████████| 101/101 [00:19<00:00,  5.06it/s]\n",
      "Testing weights for xgboost_exp_08: 100%|██████████| 101/101 [00:22<00:00,  4.56it/s]\n",
      "Testing weights for catboost_exp_08: 100%|██████████| 101/101 [00:21<00:00,  4.61it/s]\n",
      "Testing weights for ri_exp_06: 100%|██████████| 101/101 [00:20<00:00,  5.00it/s]\n",
      "Testing weights for xgboost_exp_10: 100%|██████████| 101/101 [00:21<00:00,  4.65it/s]\n",
      "Testing weights for lir_exp_01: 100%|██████████| 101/101 [00:19<00:00,  5.09it/s]\n",
      "Testing weights for et_exp_01: 100%|██████████| 101/101 [00:21<00:00,  4.71it/s]\n",
      "Testing weights for lasso_exp_02: 100%|██████████| 101/101 [00:21<00:00,  4.65it/s]\n",
      "Testing weights for pr_exp_06: 100%|██████████| 101/101 [00:20<00:00,  5.04it/s]\n",
      "Testing weights for tr_exp_06: 100%|██████████| 101/101 [00:21<00:00,  4.60it/s]\n",
      "Testing weights for lasso_exp_06: 100%|██████████| 101/101 [00:21<00:00,  4.78it/s]\n",
      "Testing weights for ransac_exp_01: 100%|██████████| 101/101 [00:20<00:00,  4.93it/s]\n",
      "Testing weights for cnn_exp_01: 100%|██████████| 101/101 [00:21<00:00,  4.60it/s]\n",
      "Testing weights for ts_exp_01: 100%|██████████| 101/101 [00:21<00:00,  4.79it/s]\n"
     ]
    },
    {
     "name": "stdout",
     "output_type": "stream",
     "text": [
      "Iteration 12: Added /kaggle/input/catboost-exp-03 with weight -0.0400, Score: 0.6882\n",
      "12th iteration\n"
     ]
    },
    {
     "name": "stderr",
     "output_type": "stream",
     "text": [
      "Testing weights for xgboost_exp_01: 100%|██████████| 101/101 [00:21<00:00,  4.67it/s]\n",
      "Testing weights for lgbm_exp_01: 100%|██████████| 101/101 [00:22<00:00,  4.56it/s]\n",
      "Testing weights for xgboost_exp_02: 100%|██████████| 101/101 [00:21<00:00,  4.81it/s]\n",
      "Testing weights for catboost_exp_02: 100%|██████████| 101/101 [00:21<00:00,  4.72it/s]\n",
      "Testing weights for lgbm_exp_03: 100%|██████████| 101/101 [00:21<00:00,  4.69it/s]\n",
      "Testing weights for tabm_exp_01: 100%|██████████| 101/101 [00:21<00:00,  4.73it/s]\n",
      "Testing weights for nn_exp_01: 100%|██████████| 101/101 [00:21<00:00,  4.72it/s]\n",
      "Testing weights for tn_exp_01: 100%|██████████| 101/101 [00:20<00:00,  4.81it/s]\n",
      "Testing weights for abd_exp_01: 100%|██████████| 101/101 [00:22<00:00,  4.58it/s]\n",
      "Testing weights for catboost_exp_04: 100%|██████████| 101/101 [00:21<00:00,  4.70it/s]\n",
      "Testing weights for lgbm_exp_04: 100%|██████████| 101/101 [00:20<00:00,  4.85it/s]\n",
      "Testing weights for tabm_exp_02: 100%|██████████| 101/101 [00:22<00:00,  4.50it/s]\n",
      "Testing weights for nn_exp_02: 100%|██████████| 101/101 [00:21<00:00,  4.73it/s]\n",
      "Testing weights for xgboost_exp_05: 100%|██████████| 101/101 [00:20<00:00,  4.83it/s]\n",
      "Testing weights for lgbm_exp_05: 100%|██████████| 101/101 [00:22<00:00,  4.54it/s]\n",
      "Testing weights for tn_exp_02: 100%|██████████| 101/101 [00:20<00:00,  5.02it/s]\n",
      "Testing weights for vr_exp_01: 100%|██████████| 101/101 [00:21<00:00,  4.63it/s]\n",
      "Testing weights for tt_exp_01: 100%|██████████| 101/101 [00:21<00:00,  4.64it/s]\n",
      "Testing weights for en_exp_01: 100%|██████████| 101/101 [00:19<00:00,  5.09it/s]\n",
      "Testing weights for en_exp_02: 100%|██████████| 101/101 [00:21<00:00,  4.80it/s]\n",
      "Testing weights for nn_exp_05: 100%|██████████| 101/101 [00:19<00:00,  5.07it/s]\n",
      "Testing weights for mcts_exp_02: 100%|██████████| 101/101 [00:21<00:00,  4.77it/s]\n",
      "Testing weights for catboost_exp_06: 100%|██████████| 101/101 [00:21<00:00,  4.75it/s]\n",
      "Testing weights for xgboost_exp_06: 100%|██████████| 101/101 [00:20<00:00,  4.96it/s]\n",
      "Testing weights for lgbm_exp_06: 100%|██████████| 101/101 [00:21<00:00,  4.75it/s]\n",
      "Testing weights for nn_exp_06: 100%|██████████| 101/101 [00:20<00:00,  5.01it/s]\n",
      "Testing weights for xgboost_exp_07: 100%|██████████| 101/101 [00:21<00:00,  4.76it/s]\n",
      "Testing weights for ri_exp_01: 100%|██████████| 101/101 [00:21<00:00,  4.74it/s]\n",
      "Testing weights for xgboost_exp_08: 100%|██████████| 101/101 [00:20<00:00,  4.95it/s]\n",
      "Testing weights for catboost_exp_08: 100%|██████████| 101/101 [00:21<00:00,  4.72it/s]\n",
      "Testing weights for ri_exp_06: 100%|██████████| 101/101 [00:19<00:00,  5.07it/s]\n",
      "Testing weights for xgboost_exp_10: 100%|██████████| 101/101 [00:21<00:00,  4.63it/s]\n",
      "Testing weights for lir_exp_01: 100%|██████████| 101/101 [00:21<00:00,  4.75it/s]\n",
      "Testing weights for et_exp_01: 100%|██████████| 101/101 [00:20<00:00,  4.98it/s]\n",
      "Testing weights for lasso_exp_02: 100%|██████████| 101/101 [00:21<00:00,  4.64it/s]\n",
      "Testing weights for pr_exp_06: 100%|██████████| 101/101 [00:20<00:00,  4.96it/s]\n",
      "Testing weights for tr_exp_06: 100%|██████████| 101/101 [00:21<00:00,  4.75it/s]\n",
      "Testing weights for lasso_exp_06: 100%|██████████| 101/101 [00:21<00:00,  4.62it/s]\n",
      "Testing weights for ransac_exp_01: 100%|██████████| 101/101 [00:19<00:00,  5.06it/s]\n",
      "Testing weights for cnn_exp_01: 100%|██████████| 101/101 [00:22<00:00,  4.59it/s]\n",
      "Testing weights for ts_exp_01: 100%|██████████| 101/101 [00:21<00:00,  4.62it/s]\n"
     ]
    },
    {
     "name": "stdout",
     "output_type": "stream",
     "text": [
      "Iteration 13: Added /kaggle/input/catboost-exp-06 with weight 0.0600, Score: 0.6883\n",
      "13th iteration\n"
     ]
    },
    {
     "name": "stderr",
     "output_type": "stream",
     "text": [
      "Testing weights for xgboost_exp_01: 100%|██████████| 101/101 [00:20<00:00,  4.99it/s]\n",
      "Testing weights for lgbm_exp_01: 100%|██████████| 101/101 [00:22<00:00,  4.56it/s]\n",
      "Testing weights for xgboost_exp_02: 100%|██████████| 101/101 [00:20<00:00,  4.83it/s]\n",
      "Testing weights for catboost_exp_02: 100%|██████████| 101/101 [00:21<00:00,  4.75it/s]\n",
      "Testing weights for lgbm_exp_03: 100%|██████████| 101/101 [00:21<00:00,  4.61it/s]\n",
      "Testing weights for tabm_exp_01: 100%|██████████| 101/101 [00:20<00:00,  4.88it/s]\n",
      "Testing weights for nn_exp_01: 100%|██████████| 101/101 [00:21<00:00,  4.72it/s]\n",
      "Testing weights for tn_exp_01: 100%|██████████| 101/101 [00:21<00:00,  4.73it/s]\n",
      "Testing weights for abd_exp_01: 100%|██████████| 101/101 [00:21<00:00,  4.76it/s]\n",
      "Testing weights for catboost_exp_04: 100%|██████████| 101/101 [00:21<00:00,  4.76it/s]\n",
      "Testing weights for lgbm_exp_04: 100%|██████████| 101/101 [00:20<00:00,  4.89it/s]\n",
      "Testing weights for tabm_exp_02: 100%|██████████| 101/101 [00:22<00:00,  4.59it/s]\n",
      "Testing weights for nn_exp_02: 100%|██████████| 101/101 [00:21<00:00,  4.70it/s]\n",
      "Testing weights for xgboost_exp_05: 100%|██████████| 101/101 [00:20<00:00,  4.86it/s]\n",
      "Testing weights for lgbm_exp_05: 100%|██████████| 101/101 [00:22<00:00,  4.58it/s]\n",
      "Testing weights for tn_exp_02: 100%|██████████| 101/101 [00:20<00:00,  4.99it/s]\n",
      "Testing weights for vr_exp_01: 100%|██████████| 101/101 [00:21<00:00,  4.59it/s]\n",
      "Testing weights for tt_exp_01: 100%|██████████| 101/101 [00:21<00:00,  4.59it/s]\n",
      "Testing weights for en_exp_01: 100%|██████████| 101/101 [00:20<00:00,  5.00it/s]\n",
      "Testing weights for en_exp_02: 100%|██████████| 101/101 [00:21<00:00,  4.60it/s]\n",
      "Testing weights for nn_exp_05: 100%|██████████| 101/101 [00:20<00:00,  4.90it/s]\n",
      "Testing weights for mcts_exp_02: 100%|██████████| 101/101 [00:20<00:00,  4.87it/s]\n",
      "Testing weights for xgboost_exp_06: 100%|██████████| 101/101 [00:21<00:00,  4.62it/s]\n",
      "Testing weights for lgbm_exp_06: 100%|██████████| 101/101 [00:20<00:00,  4.96it/s]\n",
      "Testing weights for nn_exp_06: 100%|██████████| 101/101 [00:21<00:00,  4.78it/s]\n",
      "Testing weights for xgboost_exp_07: 100%|██████████| 101/101 [00:20<00:00,  4.84it/s]\n",
      "Testing weights for ri_exp_01: 100%|██████████| 101/101 [00:21<00:00,  4.76it/s]\n",
      "Testing weights for xgboost_exp_08: 100%|██████████| 101/101 [00:21<00:00,  4.79it/s]\n",
      "Testing weights for catboost_exp_08: 100%|██████████| 101/101 [00:20<00:00,  4.93it/s]\n",
      "Testing weights for ri_exp_06: 100%|██████████| 101/101 [00:21<00:00,  4.65it/s]\n",
      "Testing weights for xgboost_exp_10: 100%|██████████| 101/101 [00:20<00:00,  4.98it/s]\n",
      "Testing weights for lir_exp_01: 100%|██████████| 101/101 [00:20<00:00,  4.83it/s]\n",
      "Testing weights for et_exp_01: 100%|██████████| 101/101 [00:21<00:00,  4.63it/s]\n",
      "Testing weights for lasso_exp_02: 100%|██████████| 101/101 [00:19<00:00,  5.10it/s]\n",
      "Testing weights for pr_exp_06: 100%|██████████| 101/101 [00:21<00:00,  4.67it/s]\n",
      "Testing weights for tr_exp_06: 100%|██████████| 101/101 [00:20<00:00,  4.85it/s]\n",
      "Testing weights for lasso_exp_06: 100%|██████████| 101/101 [00:20<00:00,  4.97it/s]\n",
      "Testing weights for ransac_exp_01: 100%|██████████| 101/101 [00:21<00:00,  4.65it/s]\n",
      "Testing weights for cnn_exp_01: 100%|██████████| 101/101 [00:19<00:00,  5.09it/s]\n",
      "Testing weights for ts_exp_01: 100%|██████████| 101/101 [00:21<00:00,  4.64it/s]\n"
     ]
    },
    {
     "name": "stdout",
     "output_type": "stream",
     "text": [
      "Iteration 14: Added /kaggle/input/tn-exp-02 with weight 0.0300, Score: 0.6883\n",
      "14th iteration\n"
     ]
    },
    {
     "name": "stderr",
     "output_type": "stream",
     "text": [
      "Testing weights for xgboost_exp_01: 100%|██████████| 101/101 [00:21<00:00,  4.71it/s]\n",
      "Testing weights for lgbm_exp_01: 100%|██████████| 101/101 [00:20<00:00,  5.01it/s]\n",
      "Testing weights for xgboost_exp_02: 100%|██████████| 101/101 [00:21<00:00,  4.64it/s]\n",
      "Testing weights for catboost_exp_02: 100%|██████████| 101/101 [00:20<00:00,  4.93it/s]\n",
      "Testing weights for lgbm_exp_03: 100%|██████████| 101/101 [00:21<00:00,  4.79it/s]\n",
      "Testing weights for tabm_exp_01: 100%|██████████| 101/101 [00:21<00:00,  4.63it/s]\n",
      "Testing weights for nn_exp_01: 100%|██████████| 101/101 [00:20<00:00,  4.95it/s]\n",
      "Testing weights for tn_exp_01: 100%|██████████| 101/101 [00:21<00:00,  4.78it/s]\n",
      "Testing weights for abd_exp_01: 100%|██████████| 101/101 [00:20<00:00,  4.91it/s]\n",
      "Testing weights for catboost_exp_04: 100%|██████████| 101/101 [00:21<00:00,  4.62it/s]\n",
      "Testing weights for lgbm_exp_04: 100%|██████████| 101/101 [00:21<00:00,  4.71it/s]\n",
      "Testing weights for tabm_exp_02: 100%|██████████| 101/101 [00:20<00:00,  4.84it/s]\n",
      "Testing weights for nn_exp_02: 100%|██████████| 101/101 [00:22<00:00,  4.50it/s]\n",
      "Testing weights for xgboost_exp_05: 100%|██████████| 101/101 [00:20<00:00,  4.98it/s]\n",
      "Testing weights for lgbm_exp_05: 100%|██████████| 101/101 [00:22<00:00,  4.49it/s]\n",
      "Testing weights for vr_exp_01: 100%|██████████| 101/101 [00:22<00:00,  4.53it/s]\n",
      "Testing weights for tt_exp_01: 100%|██████████| 101/101 [00:20<00:00,  4.93it/s]\n",
      "Testing weights for en_exp_01: 100%|██████████| 101/101 [00:22<00:00,  4.52it/s]\n",
      "Testing weights for en_exp_02: 100%|██████████| 101/101 [00:21<00:00,  4.73it/s]\n",
      "Testing weights for nn_exp_05: 100%|██████████| 101/101 [00:20<00:00,  4.81it/s]\n",
      "Testing weights for mcts_exp_02: 100%|██████████| 101/101 [00:22<00:00,  4.54it/s]\n",
      "Testing weights for xgboost_exp_06: 100%|██████████| 101/101 [00:20<00:00,  4.86it/s]\n",
      "Testing weights for lgbm_exp_06: 100%|██████████| 101/101 [00:21<00:00,  4.67it/s]\n",
      "Testing weights for nn_exp_06: 100%|██████████| 101/101 [00:21<00:00,  4.60it/s]\n",
      "Testing weights for xgboost_exp_07: 100%|██████████| 101/101 [00:21<00:00,  4.81it/s]\n",
      "Testing weights for ri_exp_01: 100%|██████████| 101/101 [00:21<00:00,  4.68it/s]\n",
      "Testing weights for xgboost_exp_08: 100%|██████████| 101/101 [00:20<00:00,  4.83it/s]\n",
      "Testing weights for catboost_exp_08: 100%|██████████| 101/101 [00:22<00:00,  4.54it/s]\n",
      "Testing weights for ri_exp_06: 100%|██████████| 101/101 [00:21<00:00,  4.70it/s]\n",
      "Testing weights for xgboost_exp_10: 100%|██████████| 101/101 [00:20<00:00,  4.82it/s]\n",
      "Testing weights for lir_exp_01: 100%|██████████| 101/101 [00:22<00:00,  4.53it/s]\n",
      "Testing weights for et_exp_01: 100%|██████████| 101/101 [00:20<00:00,  4.92it/s]\n",
      "Testing weights for lasso_exp_02: 100%|██████████| 101/101 [00:22<00:00,  4.57it/s]\n",
      "Testing weights for pr_exp_06: 100%|██████████| 101/101 [00:22<00:00,  4.53it/s]\n",
      "Testing weights for tr_exp_06: 100%|██████████| 101/101 [00:20<00:00,  5.03it/s]\n",
      "Testing weights for lasso_exp_06: 100%|██████████| 101/101 [00:22<00:00,  4.56it/s]\n",
      "Testing weights for ransac_exp_01: 100%|██████████| 101/101 [00:21<00:00,  4.74it/s]\n",
      "Testing weights for cnn_exp_01: 100%|██████████| 101/101 [00:20<00:00,  4.86it/s]\n",
      "Testing weights for ts_exp_01: 100%|██████████| 101/101 [00:21<00:00,  4.62it/s]\n"
     ]
    },
    {
     "name": "stdout",
     "output_type": "stream",
     "text": [
      "Iteration 15: Added /kaggle/input/xgboost-exp-02 with weight -0.0500, Score: 0.6884\n",
      "15th iteration\n"
     ]
    },
    {
     "name": "stderr",
     "output_type": "stream",
     "text": [
      "Testing weights for xgboost_exp_01: 100%|██████████| 101/101 [00:20<00:00,  4.94it/s]\n",
      "Testing weights for lgbm_exp_01: 100%|██████████| 101/101 [00:21<00:00,  4.72it/s]\n",
      "Testing weights for catboost_exp_02: 100%|██████████| 101/101 [00:21<00:00,  4.78it/s]\n",
      "Testing weights for lgbm_exp_03: 100%|██████████| 101/101 [00:21<00:00,  4.80it/s]\n",
      "Testing weights for tabm_exp_01: 100%|██████████| 101/101 [00:21<00:00,  4.78it/s]\n",
      "Testing weights for nn_exp_01: 100%|██████████| 101/101 [00:20<00:00,  4.92it/s]\n",
      "Testing weights for tn_exp_01: 100%|██████████| 101/101 [00:21<00:00,  4.62it/s]\n",
      "Testing weights for abd_exp_01: 100%|██████████| 101/101 [00:20<00:00,  4.96it/s]\n",
      "Testing weights for catboost_exp_04: 100%|██████████| 101/101 [00:21<00:00,  4.80it/s]\n",
      "Testing weights for lgbm_exp_04: 100%|██████████| 101/101 [00:21<00:00,  4.60it/s]\n",
      "Testing weights for tabm_exp_02: 100%|██████████| 101/101 [00:19<00:00,  5.12it/s]\n",
      "Testing weights for nn_exp_02: 100%|██████████| 101/101 [00:21<00:00,  4.63it/s]\n",
      "Testing weights for xgboost_exp_05: 100%|██████████| 101/101 [00:20<00:00,  4.87it/s]\n",
      "Testing weights for lgbm_exp_05: 100%|██████████| 101/101 [00:20<00:00,  4.94it/s]\n",
      "Testing weights for vr_exp_01: 100%|██████████| 101/101 [00:21<00:00,  4.65it/s]\n",
      "Testing weights for tt_exp_01: 100%|██████████| 101/101 [00:20<00:00,  5.03it/s]\n",
      "Testing weights for en_exp_01: 100%|██████████| 101/101 [00:21<00:00,  4.76it/s]\n",
      "Testing weights for en_exp_02: 100%|██████████| 101/101 [00:20<00:00,  4.91it/s]\n",
      "Testing weights for nn_exp_05: 100%|██████████| 101/101 [00:21<00:00,  4.77it/s]\n",
      "Testing weights for mcts_exp_02: 100%|██████████| 101/101 [00:21<00:00,  4.70it/s]\n",
      "Testing weights for xgboost_exp_06: 100%|██████████| 101/101 [00:20<00:00,  4.98it/s]\n",
      "Testing weights for lgbm_exp_06: 100%|██████████| 101/101 [00:21<00:00,  4.78it/s]\n",
      "Testing weights for nn_exp_06: 100%|██████████| 101/101 [00:20<00:00,  4.99it/s]\n",
      "Testing weights for xgboost_exp_07: 100%|██████████| 101/101 [00:21<00:00,  4.64it/s]\n",
      "Testing weights for ri_exp_01: 100%|██████████| 101/101 [00:21<00:00,  4.70it/s]\n",
      "Testing weights for xgboost_exp_08: 100%|██████████| 101/101 [00:20<00:00,  4.89it/s]\n",
      "Testing weights for catboost_exp_08: 100%|██████████| 101/101 [00:22<00:00,  4.57it/s]\n",
      "Testing weights for ri_exp_06: 100%|██████████| 101/101 [00:19<00:00,  5.06it/s]\n",
      "Testing weights for xgboost_exp_10: 100%|██████████| 101/101 [00:22<00:00,  4.54it/s]\n",
      "Testing weights for lir_exp_01: 100%|██████████| 101/101 [00:22<00:00,  4.57it/s]\n",
      "Testing weights for et_exp_01: 100%|██████████| 101/101 [00:19<00:00,  5.06it/s]\n",
      "Testing weights for lasso_exp_02: 100%|██████████| 101/101 [00:22<00:00,  4.56it/s]\n",
      "Testing weights for pr_exp_06: 100%|██████████| 101/101 [00:20<00:00,  4.88it/s]\n",
      "Testing weights for tr_exp_06: 100%|██████████| 101/101 [00:21<00:00,  4.69it/s]\n",
      "Testing weights for lasso_exp_06: 100%|██████████| 101/101 [00:22<00:00,  4.57it/s]\n",
      "Testing weights for ransac_exp_01: 100%|██████████| 101/101 [00:20<00:00,  4.89it/s]\n",
      "Testing weights for cnn_exp_01: 100%|██████████| 101/101 [00:21<00:00,  4.70it/s]\n",
      "Testing weights for ts_exp_01: 100%|██████████| 101/101 [00:20<00:00,  4.90it/s]\n"
     ]
    },
    {
     "name": "stdout",
     "output_type": "stream",
     "text": [
      "Iteration 16: Added /kaggle/input/catboost-exp-04 with weight 0.0200, Score: 0.6884\n",
      "16th iteration\n"
     ]
    },
    {
     "name": "stderr",
     "output_type": "stream",
     "text": [
      "Testing weights for xgboost_exp_01: 100%|██████████| 101/101 [00:22<00:00,  4.58it/s]\n",
      "Testing weights for lgbm_exp_01: 100%|██████████| 101/101 [00:21<00:00,  4.67it/s]\n",
      "Testing weights for catboost_exp_02: 100%|██████████| 101/101 [00:20<00:00,  4.90it/s]\n",
      "Testing weights for lgbm_exp_03: 100%|██████████| 101/101 [00:22<00:00,  4.59it/s]\n",
      "Testing weights for tabm_exp_01: 100%|██████████| 101/101 [00:19<00:00,  5.10it/s]\n",
      "Testing weights for nn_exp_01: 100%|██████████| 101/101 [00:22<00:00,  4.57it/s]\n",
      "Testing weights for tn_exp_01: 100%|██████████| 101/101 [00:22<00:00,  4.58it/s]\n",
      "Testing weights for abd_exp_01: 100%|██████████| 101/101 [00:20<00:00,  5.02it/s]\n",
      "Testing weights for lgbm_exp_04: 100%|██████████| 101/101 [00:22<00:00,  4.50it/s]\n",
      "Testing weights for tabm_exp_02: 100%|██████████| 101/101 [00:20<00:00,  4.84it/s]\n",
      "Testing weights for nn_exp_02: 100%|██████████| 101/101 [00:21<00:00,  4.70it/s]\n",
      "Testing weights for xgboost_exp_05: 100%|██████████| 101/101 [00:22<00:00,  4.58it/s]\n",
      "Testing weights for lgbm_exp_05: 100%|██████████| 101/101 [00:20<00:00,  4.90it/s]\n",
      "Testing weights for vr_exp_01: 100%|██████████| 101/101 [00:21<00:00,  4.64it/s]\n",
      "Testing weights for tt_exp_01: 100%|██████████| 101/101 [00:20<00:00,  4.88it/s]\n",
      "Testing weights for en_exp_01: 100%|██████████| 101/101 [00:22<00:00,  4.54it/s]\n",
      "Testing weights for en_exp_02: 100%|██████████| 101/101 [00:21<00:00,  4.73it/s]\n",
      "Testing weights for nn_exp_05: 100%|██████████| 101/101 [00:20<00:00,  4.88it/s]\n",
      "Testing weights for mcts_exp_02: 100%|██████████| 101/101 [00:22<00:00,  4.52it/s]\n",
      "Testing weights for xgboost_exp_06: 100%|██████████| 101/101 [00:19<00:00,  5.05it/s]\n",
      "Testing weights for lgbm_exp_06: 100%|██████████| 101/101 [00:22<00:00,  4.52it/s]\n",
      "Testing weights for nn_exp_06: 100%|██████████| 101/101 [00:22<00:00,  4.58it/s]\n",
      "Testing weights for xgboost_exp_07: 100%|██████████| 101/101 [00:20<00:00,  5.03it/s]\n",
      "Testing weights for ri_exp_01: 100%|██████████| 101/101 [00:22<00:00,  4.59it/s]\n",
      "Testing weights for xgboost_exp_08: 100%|██████████| 101/101 [00:20<00:00,  4.87it/s]\n",
      "Testing weights for catboost_exp_08: 100%|██████████| 101/101 [00:21<00:00,  4.69it/s]\n",
      "Testing weights for ri_exp_06: 100%|██████████| 101/101 [00:21<00:00,  4.62it/s]\n",
      "Testing weights for xgboost_exp_10: 100%|██████████| 101/101 [00:20<00:00,  4.86it/s]\n",
      "Testing weights for lir_exp_01: 100%|██████████| 101/101 [00:21<00:00,  4.71it/s]\n",
      "Testing weights for et_exp_01: 100%|██████████| 101/101 [00:20<00:00,  4.91it/s]\n",
      "Testing weights for lasso_exp_02: 100%|██████████| 101/101 [00:22<00:00,  4.58it/s]\n",
      "Testing weights for pr_exp_06: 100%|██████████| 101/101 [00:21<00:00,  4.80it/s]\n",
      "Testing weights for tr_exp_06: 100%|██████████| 101/101 [00:20<00:00,  4.85it/s]\n",
      "Testing weights for lasso_exp_06: 100%|██████████| 101/101 [00:21<00:00,  4.61it/s]\n",
      "Testing weights for ransac_exp_01: 100%|██████████| 101/101 [00:19<00:00,  5.09it/s]\n",
      "Testing weights for cnn_exp_01: 100%|██████████| 101/101 [00:22<00:00,  4.56it/s]\n",
      "Testing weights for ts_exp_01: 100%|██████████| 101/101 [00:21<00:00,  4.71it/s]\n"
     ]
    },
    {
     "name": "stdout",
     "output_type": "stream",
     "text": [
      "Iteration 17: Added /kaggle/input/lgbm-exp-03 with weight -0.0300, Score: 0.6884\n",
      "17th iteration\n"
     ]
    },
    {
     "name": "stderr",
     "output_type": "stream",
     "text": [
      "Testing weights for xgboost_exp_01: 100%|██████████| 101/101 [00:20<00:00,  4.86it/s]\n",
      "Testing weights for lgbm_exp_01: 100%|██████████| 101/101 [00:22<00:00,  4.53it/s]\n",
      "Testing weights for catboost_exp_02: 100%|██████████| 101/101 [00:20<00:00,  4.89it/s]\n",
      "Testing weights for tabm_exp_01: 100%|██████████| 101/101 [00:21<00:00,  4.69it/s]\n",
      "Testing weights for nn_exp_01: 100%|██████████| 101/101 [00:21<00:00,  4.73it/s]\n",
      "Testing weights for tn_exp_01: 100%|██████████| 101/101 [00:21<00:00,  4.70it/s]\n",
      "Testing weights for abd_exp_01: 100%|██████████| 101/101 [00:21<00:00,  4.68it/s]\n",
      "Testing weights for lgbm_exp_04: 100%|██████████| 101/101 [00:20<00:00,  4.88it/s]\n",
      "Testing weights for tabm_exp_02: 100%|██████████| 101/101 [00:22<00:00,  4.52it/s]\n",
      "Testing weights for nn_exp_02: 100%|██████████| 101/101 [00:20<00:00,  4.98it/s]\n",
      "Testing weights for xgboost_exp_05: 100%|██████████| 101/101 [00:21<00:00,  4.66it/s]\n",
      "Testing weights for lgbm_exp_05: 100%|██████████| 101/101 [00:22<00:00,  4.51it/s]\n",
      "Testing weights for vr_exp_01: 100%|██████████| 101/101 [00:20<00:00,  4.98it/s]\n",
      "Testing weights for tt_exp_01: 100%|██████████| 101/101 [00:22<00:00,  4.56it/s]\n",
      "Testing weights for en_exp_01: 100%|██████████| 101/101 [00:20<00:00,  4.88it/s]\n",
      "Testing weights for en_exp_02: 100%|██████████| 101/101 [00:21<00:00,  4.76it/s]\n",
      "Testing weights for nn_exp_05: 100%|██████████| 101/101 [00:22<00:00,  4.55it/s]\n",
      "Testing weights for mcts_exp_02: 100%|██████████| 101/101 [00:20<00:00,  4.86it/s]\n",
      "Testing weights for xgboost_exp_06: 100%|██████████| 101/101 [00:21<00:00,  4.65it/s]\n",
      "Testing weights for lgbm_exp_06: 100%|██████████| 101/101 [00:20<00:00,  4.86it/s]\n",
      "Testing weights for nn_exp_06: 100%|██████████| 101/101 [00:22<00:00,  4.52it/s]\n",
      "Testing weights for xgboost_exp_07: 100%|██████████| 101/101 [00:21<00:00,  4.64it/s]\n",
      "Testing weights for ri_exp_01: 100%|██████████| 101/101 [00:20<00:00,  4.89it/s]\n",
      "Testing weights for xgboost_exp_08: 100%|██████████| 101/101 [00:22<00:00,  4.56it/s]\n",
      "Testing weights for catboost_exp_08: 100%|██████████| 101/101 [00:19<00:00,  5.06it/s]\n",
      "Testing weights for ri_exp_06: 100%|██████████| 101/101 [00:22<00:00,  4.56it/s]\n",
      "Testing weights for xgboost_exp_10: 100%|██████████| 101/101 [00:21<00:00,  4.67it/s]\n",
      "Testing weights for lir_exp_01: 100%|██████████| 101/101 [00:19<00:00,  5.07it/s]\n",
      "Testing weights for et_exp_01: 100%|██████████| 101/101 [00:21<00:00,  4.60it/s]\n",
      "Testing weights for lasso_exp_02: 100%|██████████| 101/101 [00:20<00:00,  4.97it/s]\n",
      "Testing weights for pr_exp_06: 100%|██████████| 101/101 [00:21<00:00,  4.77it/s]\n",
      "Testing weights for tr_exp_06: 100%|██████████| 101/101 [00:20<00:00,  4.94it/s]\n",
      "Testing weights for lasso_exp_06: 100%|██████████| 101/101 [00:21<00:00,  4.75it/s]\n",
      "Testing weights for ransac_exp_01: 100%|██████████| 101/101 [00:21<00:00,  4.74it/s]\n",
      "Testing weights for cnn_exp_01: 100%|██████████| 101/101 [00:20<00:00,  4.97it/s]\n",
      "Testing weights for ts_exp_01: 100%|██████████| 101/101 [00:21<00:00,  4.68it/s]\n"
     ]
    },
    {
     "name": "stdout",
     "output_type": "stream",
     "text": [
      "Iteration 18: Added /kaggle/input/ts-exp-01 with weight -0.0200, Score: 0.6884\n",
      "18th iteration\n"
     ]
    },
    {
     "name": "stderr",
     "output_type": "stream",
     "text": [
      "Testing weights for xgboost_exp_01: 100%|██████████| 101/101 [00:19<00:00,  5.12it/s]\n",
      "Testing weights for lgbm_exp_01: 100%|██████████| 101/101 [00:21<00:00,  4.60it/s]\n",
      "Testing weights for catboost_exp_02: 100%|██████████| 101/101 [00:20<00:00,  4.87it/s]\n",
      "Testing weights for tabm_exp_01: 100%|██████████| 101/101 [00:20<00:00,  4.88it/s]\n",
      "Testing weights for nn_exp_01: 100%|██████████| 101/101 [00:22<00:00,  4.58it/s]\n",
      "Testing weights for tn_exp_01: 100%|██████████| 101/101 [00:19<00:00,  5.15it/s]\n",
      "Testing weights for abd_exp_01: 100%|██████████| 101/101 [00:21<00:00,  4.59it/s]\n",
      "Testing weights for lgbm_exp_04: 100%|██████████| 101/101 [00:20<00:00,  4.97it/s]\n",
      "Testing weights for tabm_exp_02: 100%|██████████| 101/101 [00:21<00:00,  4.79it/s]\n",
      "Testing weights for nn_exp_02: 100%|██████████| 101/101 [00:21<00:00,  4.61it/s]\n",
      "Testing weights for xgboost_exp_05: 100%|██████████| 101/101 [00:20<00:00,  4.95it/s]\n",
      "Testing weights for lgbm_exp_05: 100%|██████████| 101/101 [00:21<00:00,  4.70it/s]\n",
      "Testing weights for vr_exp_01: 100%|██████████| 101/101 [00:20<00:00,  4.92it/s]\n",
      "Testing weights for tt_exp_01: 100%|██████████| 101/101 [00:22<00:00,  4.57it/s]\n",
      "Testing weights for en_exp_01: 100%|██████████| 101/101 [00:20<00:00,  4.81it/s]\n",
      "Testing weights for en_exp_02: 100%|██████████| 101/101 [00:20<00:00,  4.82it/s]\n",
      "Testing weights for nn_exp_05: 100%|██████████| 101/101 [00:22<00:00,  4.50it/s]\n",
      "Testing weights for mcts_exp_02: 100%|██████████| 101/101 [00:19<00:00,  5.10it/s]\n",
      "Testing weights for xgboost_exp_06: 100%|██████████| 101/101 [00:20<00:00,  4.87it/s]\n",
      "Testing weights for lgbm_exp_06: 100%|██████████| 101/101 [00:22<00:00,  4.50it/s]\n",
      "Testing weights for nn_exp_06: 100%|██████████| 101/101 [00:19<00:00,  5.05it/s]\n",
      "Testing weights for xgboost_exp_07: 100%|██████████| 101/101 [00:20<00:00,  4.88it/s]\n",
      "Testing weights for ri_exp_01: 100%|██████████| 101/101 [00:21<00:00,  4.73it/s]\n",
      "Testing weights for xgboost_exp_08: 100%|██████████| 101/101 [00:20<00:00,  4.97it/s]\n",
      "Testing weights for catboost_exp_08: 100%|██████████| 101/101 [00:20<00:00,  4.89it/s]\n",
      "Testing weights for ri_exp_06: 100%|██████████| 101/101 [00:20<00:00,  4.99it/s]\n",
      "Testing weights for xgboost_exp_10: 100%|██████████| 101/101 [00:21<00:00,  4.72it/s]\n",
      "Testing weights for lir_exp_01: 100%|██████████| 101/101 [00:20<00:00,  4.92it/s]\n",
      "Testing weights for et_exp_01: 100%|██████████| 101/101 [00:19<00:00,  5.08it/s]\n",
      "Testing weights for lasso_exp_02: 100%|██████████| 101/101 [00:22<00:00,  4.56it/s]\n",
      "Testing weights for pr_exp_06: 100%|██████████| 101/101 [00:20<00:00,  4.88it/s]\n",
      "Testing weights for tr_exp_06: 100%|██████████| 101/101 [00:19<00:00,  5.09it/s]\n",
      "Testing weights for lasso_exp_06: 100%|██████████| 101/101 [00:22<00:00,  4.51it/s]\n",
      "Testing weights for ransac_exp_01: 100%|██████████| 101/101 [00:20<00:00,  4.93it/s]\n",
      "Testing weights for cnn_exp_01: 100%|██████████| 101/101 [00:19<00:00,  5.10it/s]\n"
     ]
    },
    {
     "name": "stdout",
     "output_type": "stream",
     "text": [
      "Iteration 19: Added /kaggle/input/xgboost-exp-10 with weight 0.0400, Score: 0.6885\n",
      "19th iteration\n"
     ]
    },
    {
     "name": "stderr",
     "output_type": "stream",
     "text": [
      "Testing weights for xgboost_exp_01: 100%|██████████| 101/101 [00:22<00:00,  4.53it/s]\n",
      "Testing weights for lgbm_exp_01: 100%|██████████| 101/101 [00:20<00:00,  4.92it/s]\n",
      "Testing weights for catboost_exp_02: 100%|██████████| 101/101 [00:20<00:00,  5.04it/s]\n",
      "Testing weights for tabm_exp_01: 100%|██████████| 101/101 [00:22<00:00,  4.48it/s]\n",
      "Testing weights for nn_exp_01: 100%|██████████| 101/101 [00:20<00:00,  4.85it/s]\n",
      "Testing weights for tn_exp_01: 100%|██████████| 101/101 [00:19<00:00,  5.12it/s]\n",
      "Testing weights for abd_exp_01: 100%|██████████| 101/101 [00:22<00:00,  4.55it/s]\n",
      "Testing weights for lgbm_exp_04: 100%|██████████| 101/101 [00:20<00:00,  4.94it/s]\n",
      "Testing weights for tabm_exp_02: 100%|██████████| 101/101 [00:19<00:00,  5.14it/s]\n",
      "Testing weights for nn_exp_02: 100%|██████████| 101/101 [00:21<00:00,  4.74it/s]\n",
      "Testing weights for xgboost_exp_05: 100%|██████████| 101/101 [00:21<00:00,  4.70it/s]\n",
      "Testing weights for lgbm_exp_05: 100%|██████████| 101/101 [00:19<00:00,  5.14it/s]\n",
      "Testing weights for vr_exp_01: 100%|██████████| 101/101 [00:20<00:00,  4.97it/s]\n",
      "Testing weights for tt_exp_01: 100%|██████████| 101/101 [00:21<00:00,  4.71it/s]\n",
      "Testing weights for en_exp_01: 100%|██████████| 101/101 [00:20<00:00,  5.04it/s]\n",
      "Testing weights for en_exp_02: 100%|██████████| 101/101 [00:20<00:00,  4.95it/s]\n",
      "Testing weights for nn_exp_05: 100%|██████████| 101/101 [00:21<00:00,  4.70it/s]\n",
      "Testing weights for mcts_exp_02: 100%|██████████| 101/101 [00:20<00:00,  4.96it/s]\n",
      "Testing weights for xgboost_exp_06: 100%|██████████| 101/101 [00:20<00:00,  4.95it/s]\n",
      "Testing weights for lgbm_exp_06: 100%|██████████| 101/101 [00:21<00:00,  4.70it/s]\n",
      "Testing weights for nn_exp_06: 100%|██████████| 101/101 [00:20<00:00,  4.95it/s]\n",
      "Testing weights for xgboost_exp_07: 100%|██████████| 101/101 [00:20<00:00,  4.98it/s]\n",
      "Testing weights for ri_exp_01: 100%|██████████| 101/101 [00:21<00:00,  4.72it/s]\n",
      "Testing weights for xgboost_exp_08: 100%|██████████| 101/101 [00:20<00:00,  4.92it/s]\n",
      "Testing weights for catboost_exp_08: 100%|██████████| 101/101 [00:20<00:00,  4.94it/s]\n",
      "Testing weights for ri_exp_06: 100%|██████████| 101/101 [00:21<00:00,  4.80it/s]\n",
      "Testing weights for lir_exp_01: 100%|██████████| 101/101 [00:20<00:00,  4.89it/s]\n",
      "Testing weights for et_exp_01: 100%|██████████| 101/101 [00:19<00:00,  5.08it/s]\n",
      "Testing weights for lasso_exp_02: 100%|██████████| 101/101 [00:20<00:00,  5.02it/s]\n",
      "Testing weights for pr_exp_06: 100%|██████████| 101/101 [00:21<00:00,  4.65it/s]\n",
      "Testing weights for tr_exp_06: 100%|██████████| 101/101 [00:19<00:00,  5.11it/s]\n",
      "Testing weights for lasso_exp_06: 100%|██████████| 101/101 [00:20<00:00,  4.95it/s]\n",
      "Testing weights for ransac_exp_01: 100%|██████████| 101/101 [00:22<00:00,  4.57it/s]\n",
      "Testing weights for cnn_exp_01: 100%|██████████| 101/101 [00:19<00:00,  5.13it/s]\n"
     ]
    },
    {
     "name": "stdout",
     "output_type": "stream",
     "text": [
      "Iteration 20: Added /kaggle/input/xgboost-exp-06 with weight -0.0300, Score: 0.6885\n",
      "20th iteration\n"
     ]
    },
    {
     "name": "stderr",
     "output_type": "stream",
     "text": [
      "Testing weights for xgboost_exp_01: 100%|██████████| 101/101 [00:20<00:00,  4.91it/s]\n",
      "Testing weights for lgbm_exp_01: 100%|██████████| 101/101 [00:22<00:00,  4.53it/s]\n",
      "Testing weights for catboost_exp_02: 100%|██████████| 101/101 [00:19<00:00,  5.10it/s]\n",
      "Testing weights for tabm_exp_01: 100%|██████████| 101/101 [00:20<00:00,  4.90it/s]\n",
      "Testing weights for nn_exp_01: 100%|██████████| 101/101 [00:22<00:00,  4.46it/s]\n",
      "Testing weights for tn_exp_01: 100%|██████████| 101/101 [00:19<00:00,  5.08it/s]\n",
      "Testing weights for abd_exp_01: 100%|██████████| 101/101 [00:20<00:00,  4.95it/s]\n",
      "Testing weights for lgbm_exp_04: 100%|██████████| 101/101 [00:22<00:00,  4.55it/s]\n",
      "Testing weights for tabm_exp_02: 100%|██████████| 101/101 [00:19<00:00,  5.08it/s]\n",
      "Testing weights for nn_exp_02: 100%|██████████| 101/101 [00:20<00:00,  4.95it/s]\n",
      "Testing weights for xgboost_exp_05: 100%|██████████| 101/101 [00:21<00:00,  4.73it/s]\n",
      "Testing weights for lgbm_exp_05: 100%|██████████| 101/101 [00:20<00:00,  4.85it/s]\n",
      "Testing weights for vr_exp_01: 100%|██████████| 101/101 [00:20<00:00,  4.88it/s]\n",
      "Testing weights for tt_exp_01: 100%|██████████| 101/101 [00:20<00:00,  5.03it/s]\n",
      "Testing weights for en_exp_01: 100%|██████████| 101/101 [00:22<00:00,  4.51it/s]\n",
      "Testing weights for en_exp_02: 100%|██████████| 101/101 [00:20<00:00,  4.91it/s]\n",
      "Testing weights for nn_exp_05: 100%|██████████| 101/101 [00:19<00:00,  5.09it/s]\n",
      "Testing weights for mcts_exp_02: 100%|██████████| 101/101 [00:22<00:00,  4.53it/s]\n",
      "Testing weights for lgbm_exp_06: 100%|██████████| 101/101 [00:20<00:00,  4.88it/s]\n",
      "Testing weights for nn_exp_06: 100%|██████████| 101/101 [00:20<00:00,  5.01it/s]\n",
      "Testing weights for xgboost_exp_07: 100%|██████████| 101/101 [00:22<00:00,  4.47it/s]\n",
      "Testing weights for ri_exp_01: 100%|██████████| 101/101 [00:20<00:00,  4.84it/s]\n",
      "Testing weights for xgboost_exp_08: 100%|██████████| 101/101 [00:20<00:00,  5.00it/s]\n",
      "Testing weights for catboost_exp_08: 100%|██████████| 101/101 [00:22<00:00,  4.45it/s]\n",
      "Testing weights for ri_exp_06: 100%|██████████| 101/101 [00:20<00:00,  4.84it/s]\n",
      "Testing weights for lir_exp_01: 100%|██████████| 101/101 [00:20<00:00,  5.03it/s]\n",
      "Testing weights for et_exp_01: 100%|██████████| 101/101 [00:22<00:00,  4.50it/s]\n",
      "Testing weights for lasso_exp_02: 100%|██████████| 101/101 [00:20<00:00,  4.87it/s]\n",
      "Testing weights for pr_exp_06: 100%|██████████| 101/101 [00:19<00:00,  5.05it/s]\n",
      "Testing weights for tr_exp_06: 100%|██████████| 101/101 [00:22<00:00,  4.45it/s]\n",
      "Testing weights for lasso_exp_06: 100%|██████████| 101/101 [00:20<00:00,  4.87it/s]\n",
      "Testing weights for ransac_exp_01: 100%|██████████| 101/101 [00:20<00:00,  4.99it/s]\n",
      "Testing weights for cnn_exp_01: 100%|██████████| 101/101 [00:21<00:00,  4.61it/s]\n"
     ]
    },
    {
     "name": "stdout",
     "output_type": "stream",
     "text": [
      "Iteration 21: Added /kaggle/input/en-exp-02 with weight 0.0200, Score: 0.6885\n",
      "21th iteration\n"
     ]
    },
    {
     "name": "stderr",
     "output_type": "stream",
     "text": [
      "Testing weights for xgboost_exp_01: 100%|██████████| 101/101 [00:21<00:00,  4.73it/s]\n",
      "Testing weights for lgbm_exp_01: 100%|██████████| 101/101 [00:19<00:00,  5.05it/s]\n",
      "Testing weights for catboost_exp_02: 100%|██████████| 101/101 [00:20<00:00,  4.81it/s]\n",
      "Testing weights for tabm_exp_01: 100%|██████████| 101/101 [00:22<00:00,  4.56it/s]\n",
      "Testing weights for nn_exp_01: 100%|██████████| 101/101 [00:20<00:00,  5.02it/s]\n",
      "Testing weights for tn_exp_01: 100%|██████████| 101/101 [00:20<00:00,  4.90it/s]\n",
      "Testing weights for abd_exp_01: 100%|██████████| 101/101 [00:22<00:00,  4.42it/s]\n",
      "Testing weights for lgbm_exp_04: 100%|██████████| 101/101 [00:19<00:00,  5.06it/s]\n",
      "Testing weights for tabm_exp_02: 100%|██████████| 101/101 [00:20<00:00,  4.85it/s]\n",
      "Testing weights for nn_exp_02: 100%|██████████| 101/101 [00:22<00:00,  4.53it/s]\n",
      "Testing weights for xgboost_exp_05: 100%|██████████| 101/101 [00:19<00:00,  5.07it/s]\n",
      "Testing weights for lgbm_exp_05: 100%|██████████| 101/101 [00:20<00:00,  4.93it/s]\n",
      "Testing weights for vr_exp_01: 100%|██████████| 101/101 [00:21<00:00,  4.60it/s]\n",
      "Testing weights for tt_exp_01: 100%|██████████| 101/101 [00:20<00:00,  5.03it/s]\n",
      "Testing weights for en_exp_01: 100%|██████████| 101/101 [00:20<00:00,  4.90it/s]\n",
      "Testing weights for nn_exp_05: 100%|██████████| 101/101 [00:21<00:00,  4.65it/s]\n",
      "Testing weights for mcts_exp_02: 100%|██████████| 101/101 [00:20<00:00,  4.95it/s]\n",
      "Testing weights for lgbm_exp_06: 100%|██████████| 101/101 [00:20<00:00,  4.95it/s]\n",
      "Testing weights for nn_exp_06: 100%|██████████| 101/101 [00:21<00:00,  4.72it/s]\n",
      "Testing weights for xgboost_exp_07: 100%|██████████| 101/101 [00:20<00:00,  4.84it/s]\n",
      "Testing weights for ri_exp_01: 100%|██████████| 101/101 [00:20<00:00,  4.84it/s]\n",
      "Testing weights for xgboost_exp_08: 100%|██████████| 101/101 [00:20<00:00,  4.83it/s]\n",
      "Testing weights for catboost_exp_08: 100%|██████████| 101/101 [00:22<00:00,  4.58it/s]\n",
      "Testing weights for ri_exp_06: 100%|██████████| 101/101 [00:20<00:00,  4.99it/s]\n",
      "Testing weights for lir_exp_01: 100%|██████████| 101/101 [00:20<00:00,  4.95it/s]\n",
      "Testing weights for et_exp_01: 100%|██████████| 101/101 [00:22<00:00,  4.57it/s]\n",
      "Testing weights for lasso_exp_02: 100%|██████████| 101/101 [00:20<00:00,  5.00it/s]\n",
      "Testing weights for pr_exp_06: 100%|██████████| 101/101 [00:20<00:00,  4.90it/s]\n",
      "Testing weights for tr_exp_06: 100%|██████████| 101/101 [00:22<00:00,  4.54it/s]\n",
      "Testing weights for lasso_exp_06: 100%|██████████| 101/101 [00:20<00:00,  4.93it/s]\n",
      "Testing weights for ransac_exp_01: 100%|██████████| 101/101 [00:20<00:00,  5.01it/s]\n",
      "Testing weights for cnn_exp_01: 100%|██████████| 101/101 [00:22<00:00,  4.56it/s]\n"
     ]
    },
    {
     "name": "stdout",
     "output_type": "stream",
     "text": [
      "Iteration 22: Added /kaggle/input/ri-exp-06 with weight -0.0300, Score: 0.6885\n",
      "22th iteration\n"
     ]
    },
    {
     "name": "stderr",
     "output_type": "stream",
     "text": [
      "Testing weights for xgboost_exp_01: 100%|██████████| 101/101 [00:20<00:00,  5.03it/s]\n",
      "Testing weights for lgbm_exp_01: 100%|██████████| 101/101 [00:20<00:00,  5.04it/s]\n",
      "Testing weights for catboost_exp_02: 100%|██████████| 101/101 [00:22<00:00,  4.58it/s]\n",
      "Testing weights for tabm_exp_01: 100%|██████████| 101/101 [00:20<00:00,  4.99it/s]\n",
      "Testing weights for nn_exp_01: 100%|██████████| 101/101 [00:20<00:00,  4.82it/s]\n",
      "Testing weights for tn_exp_01: 100%|██████████| 101/101 [00:22<00:00,  4.55it/s]\n",
      "Testing weights for abd_exp_01: 100%|██████████| 101/101 [00:20<00:00,  4.94it/s]\n",
      "Testing weights for lgbm_exp_04: 100%|██████████| 101/101 [00:20<00:00,  4.85it/s]\n",
      "Testing weights for tabm_exp_02: 100%|██████████| 101/101 [00:20<00:00,  4.89it/s]\n",
      "Testing weights for nn_exp_02: 100%|██████████| 101/101 [00:22<00:00,  4.57it/s]\n",
      "Testing weights for xgboost_exp_05: 100%|██████████| 101/101 [00:20<00:00,  4.87it/s]\n",
      "Testing weights for lgbm_exp_05: 100%|██████████| 101/101 [00:20<00:00,  5.03it/s]\n",
      "Testing weights for vr_exp_01: 100%|██████████| 101/101 [00:22<00:00,  4.42it/s]\n",
      "Testing weights for tt_exp_01: 100%|██████████| 101/101 [00:21<00:00,  4.76it/s]\n",
      "Testing weights for en_exp_01: 100%|██████████| 101/101 [00:20<00:00,  5.04it/s]\n",
      "Testing weights for nn_exp_05: 100%|██████████| 101/101 [00:22<00:00,  4.50it/s]\n",
      "Testing weights for mcts_exp_02: 100%|██████████| 101/101 [00:20<00:00,  4.88it/s]\n",
      "Testing weights for lgbm_exp_06: 100%|██████████| 101/101 [00:19<00:00,  5.06it/s]\n",
      "Testing weights for nn_exp_06: 100%|██████████| 101/101 [00:22<00:00,  4.52it/s]\n",
      "Testing weights for xgboost_exp_07: 100%|██████████| 101/101 [00:20<00:00,  4.93it/s]\n",
      "Testing weights for ri_exp_01: 100%|██████████| 101/101 [00:19<00:00,  5.08it/s]\n",
      "Testing weights for xgboost_exp_08: 100%|██████████| 101/101 [00:22<00:00,  4.51it/s]\n",
      "Testing weights for catboost_exp_08: 100%|██████████| 101/101 [00:20<00:00,  4.89it/s]\n",
      "Testing weights for lir_exp_01: 100%|██████████| 101/101 [00:20<00:00,  5.03it/s]\n",
      "Testing weights for et_exp_01: 100%|██████████| 101/101 [00:22<00:00,  4.54it/s]\n",
      "Testing weights for lasso_exp_02: 100%|██████████| 101/101 [00:21<00:00,  4.79it/s]\n",
      "Testing weights for pr_exp_06: 100%|██████████| 101/101 [00:20<00:00,  5.04it/s]\n",
      "Testing weights for tr_exp_06: 100%|██████████| 101/101 [00:21<00:00,  4.75it/s]\n",
      "Testing weights for lasso_exp_06: 100%|██████████| 101/101 [00:21<00:00,  4.64it/s]\n",
      "Testing weights for ransac_exp_01: 100%|██████████| 101/101 [00:20<00:00,  5.04it/s]\n",
      "Testing weights for cnn_exp_01: 100%|██████████| 101/101 [00:20<00:00,  4.88it/s]\n"
     ]
    },
    {
     "name": "stdout",
     "output_type": "stream",
     "text": [
      "Iteration 23: Added /kaggle/input/tabm-exp-02 with weight 0.0600, Score: 0.6886\n",
      "23th iteration\n"
     ]
    },
    {
     "name": "stderr",
     "output_type": "stream",
     "text": [
      "Testing weights for xgboost_exp_01: 100%|██████████| 101/101 [00:22<00:00,  4.46it/s]\n",
      "Testing weights for lgbm_exp_01: 100%|██████████| 101/101 [00:19<00:00,  5.07it/s]\n",
      "Testing weights for catboost_exp_02: 100%|██████████| 101/101 [00:20<00:00,  4.95it/s]\n",
      "Testing weights for tabm_exp_01: 100%|██████████| 101/101 [00:22<00:00,  4.50it/s]\n",
      "Testing weights for nn_exp_01: 100%|██████████| 101/101 [00:19<00:00,  5.08it/s]\n",
      "Testing weights for tn_exp_01: 100%|██████████| 101/101 [00:20<00:00,  4.88it/s]\n",
      "Testing weights for abd_exp_01: 100%|██████████| 101/101 [00:22<00:00,  4.52it/s]\n",
      "Testing weights for lgbm_exp_04: 100%|██████████| 101/101 [00:19<00:00,  5.08it/s]\n",
      "Testing weights for nn_exp_02: 100%|██████████| 101/101 [00:20<00:00,  4.92it/s]\n",
      "Testing weights for xgboost_exp_05: 100%|██████████| 101/101 [00:21<00:00,  4.60it/s]\n",
      "Testing weights for lgbm_exp_05: 100%|██████████| 101/101 [00:20<00:00,  4.96it/s]\n",
      "Testing weights for vr_exp_01: 100%|██████████| 101/101 [00:20<00:00,  4.90it/s]\n",
      "Testing weights for tt_exp_01: 100%|██████████| 101/101 [00:21<00:00,  4.78it/s]\n",
      "Testing weights for en_exp_01: 100%|██████████| 101/101 [00:21<00:00,  4.74it/s]\n",
      "Testing weights for nn_exp_05: 100%|██████████| 101/101 [00:20<00:00,  4.92it/s]\n",
      "Testing weights for mcts_exp_02: 100%|██████████| 101/101 [00:19<00:00,  5.10it/s]\n",
      "Testing weights for lgbm_exp_06: 100%|██████████| 101/101 [00:22<00:00,  4.49it/s]\n",
      "Testing weights for nn_exp_06: 100%|██████████| 101/101 [00:20<00:00,  4.92it/s]\n",
      "Testing weights for xgboost_exp_07: 100%|██████████| 101/101 [00:19<00:00,  5.11it/s]\n",
      "Testing weights for ri_exp_01: 100%|██████████| 101/101 [00:22<00:00,  4.49it/s]\n",
      "Testing weights for xgboost_exp_08: 100%|██████████| 101/101 [00:20<00:00,  4.94it/s]\n",
      "Testing weights for catboost_exp_08: 100%|██████████| 101/101 [00:19<00:00,  5.11it/s]\n",
      "Testing weights for lir_exp_01: 100%|██████████| 101/101 [00:22<00:00,  4.53it/s]\n",
      "Testing weights for et_exp_01: 100%|██████████| 101/101 [00:20<00:00,  4.98it/s]\n",
      "Testing weights for lasso_exp_02: 100%|██████████| 101/101 [00:19<00:00,  5.11it/s]\n",
      "Testing weights for pr_exp_06: 100%|██████████| 101/101 [00:22<00:00,  4.55it/s]\n",
      "Testing weights for tr_exp_06: 100%|██████████| 101/101 [00:20<00:00,  4.99it/s]\n",
      "Testing weights for lasso_exp_06: 100%|██████████| 101/101 [00:19<00:00,  5.07it/s]\n",
      "Testing weights for ransac_exp_01: 100%|██████████| 101/101 [00:20<00:00,  4.82it/s]\n",
      "Testing weights for cnn_exp_01: 100%|██████████| 101/101 [00:21<00:00,  4.80it/s]\n"
     ]
    },
    {
     "name": "stdout",
     "output_type": "stream",
     "text": [
      "Iteration 24: Added /kaggle/input/nn-exp-01 with weight -0.0600, Score: 0.6886\n",
      "24th iteration\n"
     ]
    },
    {
     "name": "stderr",
     "output_type": "stream",
     "text": [
      "Testing weights for xgboost_exp_01: 100%|██████████| 101/101 [00:20<00:00,  5.02it/s]\n",
      "Testing weights for lgbm_exp_01: 100%|██████████| 101/101 [00:20<00:00,  4.94it/s]\n",
      "Testing weights for catboost_exp_02: 100%|██████████| 101/101 [00:21<00:00,  4.62it/s]\n",
      "Testing weights for tabm_exp_01: 100%|██████████| 101/101 [00:20<00:00,  4.96it/s]\n",
      "Testing weights for tn_exp_01: 100%|██████████| 101/101 [00:20<00:00,  4.94it/s]\n",
      "Testing weights for abd_exp_01: 100%|██████████| 101/101 [00:21<00:00,  4.61it/s]\n",
      "Testing weights for lgbm_exp_04: 100%|██████████| 101/101 [00:20<00:00,  4.98it/s]\n",
      "Testing weights for nn_exp_02: 100%|██████████| 101/101 [00:20<00:00,  4.93it/s]\n",
      "Testing weights for xgboost_exp_05: 100%|██████████| 101/101 [00:21<00:00,  4.66it/s]\n",
      "Testing weights for lgbm_exp_05: 100%|██████████| 101/101 [00:20<00:00,  4.98it/s]\n",
      "Testing weights for vr_exp_01: 100%|██████████| 101/101 [00:20<00:00,  4.95it/s]\n",
      "Testing weights for tt_exp_01: 100%|██████████| 101/101 [00:20<00:00,  4.83it/s]\n",
      "Testing weights for en_exp_01: 100%|██████████| 101/101 [00:20<00:00,  4.84it/s]\n",
      "Testing weights for nn_exp_05: 100%|██████████| 101/101 [00:20<00:00,  4.97it/s]\n",
      "Testing weights for mcts_exp_02: 100%|██████████| 101/101 [00:19<00:00,  5.13it/s]\n",
      "Testing weights for lgbm_exp_06: 100%|██████████| 101/101 [00:22<00:00,  4.52it/s]\n",
      "Testing weights for nn_exp_06: 100%|██████████| 101/101 [00:19<00:00,  5.15it/s]\n",
      "Testing weights for xgboost_exp_07: 100%|██████████| 101/101 [00:20<00:00,  5.01it/s]\n",
      "Testing weights for ri_exp_01: 100%|██████████| 101/101 [00:22<00:00,  4.50it/s]\n",
      "Testing weights for xgboost_exp_08: 100%|██████████| 101/101 [00:19<00:00,  5.12it/s]\n",
      "Testing weights for catboost_exp_08: 100%|██████████| 101/101 [00:20<00:00,  4.95it/s]\n",
      "Testing weights for lir_exp_01: 100%|██████████| 101/101 [00:22<00:00,  4.47it/s]\n",
      "Testing weights for et_exp_01: 100%|██████████| 101/101 [00:19<00:00,  5.11it/s]\n",
      "Testing weights for lasso_exp_02: 100%|██████████| 101/101 [00:20<00:00,  4.93it/s]\n",
      "Testing weights for pr_exp_06: 100%|██████████| 101/101 [00:21<00:00,  4.62it/s]\n",
      "Testing weights for tr_exp_06: 100%|██████████| 101/101 [00:20<00:00,  4.92it/s]\n",
      "Testing weights for lasso_exp_06: 100%|██████████| 101/101 [00:20<00:00,  4.94it/s]\n",
      "Testing weights for ransac_exp_01: 100%|██████████| 101/101 [00:20<00:00,  4.90it/s]\n",
      "Testing weights for cnn_exp_01: 100%|██████████| 101/101 [00:21<00:00,  4.73it/s]\n"
     ]
    },
    {
     "name": "stdout",
     "output_type": "stream",
     "text": [
      "Iteration 25: Added /kaggle/input/lgbm-exp-01 with weight -0.0500, Score: 0.6886\n",
      "25th iteration\n"
     ]
    },
    {
     "name": "stderr",
     "output_type": "stream",
     "text": [
      "Testing weights for xgboost_exp_01: 100%|██████████| 101/101 [00:20<00:00,  4.92it/s]\n",
      "Testing weights for catboost_exp_02: 100%|██████████| 101/101 [00:20<00:00,  4.94it/s]\n",
      "Testing weights for tabm_exp_01: 100%|██████████| 101/101 [00:21<00:00,  4.61it/s]\n",
      "Testing weights for tn_exp_01: 100%|██████████| 101/101 [00:20<00:00,  4.96it/s]\n",
      "Testing weights for abd_exp_01: 100%|██████████| 101/101 [00:20<00:00,  5.03it/s]\n",
      "Testing weights for lgbm_exp_04: 100%|██████████| 101/101 [00:21<00:00,  4.63it/s]\n",
      "Testing weights for nn_exp_02: 100%|██████████| 101/101 [00:20<00:00,  4.94it/s]\n",
      "Testing weights for xgboost_exp_05: 100%|██████████| 101/101 [00:19<00:00,  5.15it/s]\n",
      "Testing weights for lgbm_exp_05: 100%|██████████| 101/101 [00:22<00:00,  4.54it/s]\n",
      "Testing weights for vr_exp_01: 100%|██████████| 101/101 [00:20<00:00,  4.94it/s]\n",
      "Testing weights for tt_exp_01: 100%|██████████| 101/101 [00:19<00:00,  5.14it/s]\n",
      "Testing weights for en_exp_01: 100%|██████████| 101/101 [00:21<00:00,  4.80it/s]\n",
      "Testing weights for nn_exp_05: 100%|██████████| 101/101 [00:22<00:00,  4.59it/s]\n",
      "Testing weights for mcts_exp_02: 100%|██████████| 101/101 [00:20<00:00,  5.02it/s]\n",
      "Testing weights for lgbm_exp_06: 100%|██████████| 101/101 [00:20<00:00,  4.95it/s]\n",
      "Testing weights for nn_exp_06: 100%|██████████| 101/101 [00:22<00:00,  4.49it/s]\n",
      "Testing weights for xgboost_exp_07: 100%|██████████| 101/101 [00:19<00:00,  5.12it/s]\n",
      "Testing weights for ri_exp_01: 100%|██████████| 101/101 [00:20<00:00,  4.96it/s]\n",
      "Testing weights for xgboost_exp_08: 100%|██████████| 101/101 [00:22<00:00,  4.43it/s]\n",
      "Testing weights for catboost_exp_08: 100%|██████████| 101/101 [00:19<00:00,  5.09it/s]\n",
      "Testing weights for lir_exp_01: 100%|██████████| 101/101 [00:20<00:00,  4.95it/s]\n",
      "Testing weights for et_exp_01: 100%|██████████| 101/101 [00:22<00:00,  4.46it/s]\n",
      "Testing weights for lasso_exp_02: 100%|██████████| 101/101 [00:19<00:00,  5.07it/s]\n",
      "Testing weights for pr_exp_06: 100%|██████████| 101/101 [00:20<00:00,  4.87it/s]\n",
      "Testing weights for tr_exp_06: 100%|██████████| 101/101 [00:21<00:00,  4.63it/s]\n",
      "Testing weights for lasso_exp_06: 100%|██████████| 101/101 [00:20<00:00,  4.86it/s]\n",
      "Testing weights for ransac_exp_01: 100%|██████████| 101/101 [00:20<00:00,  4.91it/s]\n",
      "Testing weights for cnn_exp_01: 100%|██████████| 101/101 [00:20<00:00,  4.97it/s]\n"
     ]
    },
    {
     "name": "stdout",
     "output_type": "stream",
     "text": [
      "Iteration 26: Added /kaggle/input/nn-exp-06 with weight -0.0500, Score: 0.6887\n",
      "26th iteration\n"
     ]
    },
    {
     "name": "stderr",
     "output_type": "stream",
     "text": [
      "Testing weights for xgboost_exp_01: 100%|██████████| 101/101 [00:22<00:00,  4.55it/s]\n",
      "Testing weights for catboost_exp_02: 100%|██████████| 101/101 [00:20<00:00,  4.87it/s]\n",
      "Testing weights for tabm_exp_01: 100%|██████████| 101/101 [00:20<00:00,  4.95it/s]\n",
      "Testing weights for tn_exp_01: 100%|██████████| 101/101 [00:22<00:00,  4.54it/s]\n",
      "Testing weights for abd_exp_01: 100%|██████████| 101/101 [00:20<00:00,  4.84it/s]\n",
      "Testing weights for lgbm_exp_04: 100%|██████████| 101/101 [00:20<00:00,  4.88it/s]\n",
      "Testing weights for nn_exp_02: 100%|██████████| 101/101 [00:22<00:00,  4.52it/s]\n",
      "Testing weights for xgboost_exp_05: 100%|██████████| 101/101 [00:20<00:00,  4.85it/s]\n",
      "Testing weights for lgbm_exp_05: 100%|██████████| 101/101 [00:20<00:00,  4.89it/s]\n",
      "Testing weights for vr_exp_01: 100%|██████████| 101/101 [00:22<00:00,  4.54it/s]\n",
      "Testing weights for tt_exp_01: 100%|██████████| 101/101 [00:20<00:00,  4.83it/s]\n",
      "Testing weights for en_exp_01: 100%|██████████| 101/101 [00:20<00:00,  4.90it/s]\n",
      "Testing weights for nn_exp_05: 100%|██████████| 101/101 [00:21<00:00,  4.73it/s]\n",
      "Testing weights for mcts_exp_02: 100%|██████████| 101/101 [00:21<00:00,  4.75it/s]\n",
      "Testing weights for lgbm_exp_06: 100%|██████████| 101/101 [00:20<00:00,  4.98it/s]\n",
      "Testing weights for xgboost_exp_07: 100%|██████████| 101/101 [00:20<00:00,  5.04it/s]\n",
      "Testing weights for ri_exp_01: 100%|██████████| 101/101 [00:23<00:00,  4.37it/s]\n",
      "Testing weights for xgboost_exp_08: 100%|██████████| 101/101 [00:20<00:00,  5.01it/s]\n",
      "Testing weights for catboost_exp_08: 100%|██████████| 101/101 [00:20<00:00,  5.00it/s]\n",
      "Testing weights for lir_exp_01: 100%|██████████| 101/101 [00:22<00:00,  4.41it/s]\n",
      "Testing weights for et_exp_01: 100%|██████████| 101/101 [00:19<00:00,  5.07it/s]\n",
      "Testing weights for lasso_exp_02: 100%|██████████| 101/101 [00:20<00:00,  4.85it/s]\n",
      "Testing weights for pr_exp_06: 100%|██████████| 101/101 [00:22<00:00,  4.43it/s]\n",
      "Testing weights for tr_exp_06: 100%|██████████| 101/101 [00:20<00:00,  5.04it/s]\n",
      "Testing weights for lasso_exp_06: 100%|██████████| 101/101 [00:20<00:00,  4.92it/s]\n",
      "Testing weights for ransac_exp_01: 100%|██████████| 101/101 [00:22<00:00,  4.45it/s]\n",
      "Testing weights for cnn_exp_01: 100%|██████████| 101/101 [00:19<00:00,  5.05it/s]\n"
     ]
    },
    {
     "name": "stdout",
     "output_type": "stream",
     "text": [
      "Iteration 27: Added /kaggle/input/xgboost-exp-05 with weight 0.0400, Score: 0.6887\n",
      "27th iteration\n"
     ]
    },
    {
     "name": "stderr",
     "output_type": "stream",
     "text": [
      "Testing weights for xgboost_exp_01: 100%|██████████| 101/101 [00:20<00:00,  4.89it/s]\n",
      "Testing weights for catboost_exp_02: 100%|██████████| 101/101 [00:21<00:00,  4.73it/s]\n",
      "Testing weights for tabm_exp_01: 100%|██████████| 101/101 [00:21<00:00,  4.77it/s]\n",
      "Testing weights for tn_exp_01: 100%|██████████| 101/101 [00:20<00:00,  4.86it/s]\n",
      "Testing weights for abd_exp_01: 100%|██████████| 101/101 [00:20<00:00,  4.93it/s]\n",
      "Testing weights for lgbm_exp_04: 100%|██████████| 101/101 [00:21<00:00,  4.61it/s]\n",
      "Testing weights for nn_exp_02: 100%|██████████| 101/101 [00:20<00:00,  4.92it/s]\n",
      "Testing weights for lgbm_exp_05: 100%|██████████| 101/101 [00:20<00:00,  4.91it/s]\n",
      "Testing weights for vr_exp_01: 100%|██████████| 101/101 [00:21<00:00,  4.60it/s]\n",
      "Testing weights for tt_exp_01: 100%|██████████| 101/101 [00:20<00:00,  4.96it/s]\n",
      "Testing weights for en_exp_01: 100%|██████████| 101/101 [00:20<00:00,  4.93it/s]\n",
      "Testing weights for nn_exp_05: 100%|██████████| 101/101 [00:21<00:00,  4.62it/s]\n",
      "Testing weights for mcts_exp_02: 100%|██████████| 101/101 [00:20<00:00,  4.97it/s]\n",
      "Testing weights for lgbm_exp_06: 100%|██████████| 101/101 [00:20<00:00,  4.95it/s]\n",
      "Testing weights for xgboost_exp_07: 100%|██████████| 101/101 [00:20<00:00,  4.85it/s]\n",
      "Testing weights for ri_exp_01: 100%|██████████| 101/101 [00:21<00:00,  4.73it/s]\n",
      "Testing weights for xgboost_exp_08: 100%|██████████| 101/101 [00:20<00:00,  4.97it/s]\n",
      "Testing weights for catboost_exp_08: 100%|██████████| 101/101 [00:19<00:00,  5.13it/s]\n",
      "Testing weights for lir_exp_01: 100%|██████████| 101/101 [00:22<00:00,  4.46it/s]\n",
      "Testing weights for et_exp_01: 100%|██████████| 101/101 [00:20<00:00,  5.05it/s]\n",
      "Testing weights for lasso_exp_02: 100%|██████████| 101/101 [00:19<00:00,  5.07it/s]\n",
      "Testing weights for pr_exp_06: 100%|██████████| 101/101 [00:22<00:00,  4.47it/s]\n",
      "Testing weights for tr_exp_06: 100%|██████████| 101/101 [00:19<00:00,  5.11it/s]\n",
      "Testing weights for lasso_exp_06: 100%|██████████| 101/101 [00:20<00:00,  4.94it/s]\n",
      "Testing weights for ransac_exp_01: 100%|██████████| 101/101 [00:22<00:00,  4.45it/s]\n",
      "Testing weights for cnn_exp_01: 100%|██████████| 101/101 [00:19<00:00,  5.11it/s]\n"
     ]
    },
    {
     "name": "stdout",
     "output_type": "stream",
     "text": [
      "Iteration 28: Added /kaggle/input/lir-exp-01 with weight -0.0200, Score: 0.6887\n",
      "28th iteration\n"
     ]
    },
    {
     "name": "stderr",
     "output_type": "stream",
     "text": [
      "Testing weights for xgboost_exp_01: 100%|██████████| 101/101 [00:20<00:00,  4.95it/s]\n",
      "Testing weights for catboost_exp_02: 100%|██████████| 101/101 [00:21<00:00,  4.81it/s]\n",
      "Testing weights for tabm_exp_01: 100%|██████████| 101/101 [00:21<00:00,  4.79it/s]\n",
      "Testing weights for tn_exp_01: 100%|██████████| 101/101 [00:20<00:00,  4.95it/s]\n",
      "Testing weights for abd_exp_01: 100%|██████████| 101/101 [00:20<00:00,  4.99it/s]\n",
      "Testing weights for lgbm_exp_04: 100%|██████████| 101/101 [00:22<00:00,  4.59it/s]\n",
      "Testing weights for nn_exp_02: 100%|██████████| 101/101 [00:20<00:00,  4.97it/s]\n",
      "Testing weights for lgbm_exp_05: 100%|██████████| 101/101 [00:20<00:00,  4.96it/s]\n",
      "Testing weights for vr_exp_01: 100%|██████████| 101/101 [00:22<00:00,  4.57it/s]\n",
      "Testing weights for tt_exp_01: 100%|██████████| 101/101 [00:20<00:00,  4.92it/s]\n",
      "Testing weights for en_exp_01: 100%|██████████| 101/101 [00:20<00:00,  4.89it/s]\n",
      "Testing weights for nn_exp_05: 100%|██████████| 101/101 [00:21<00:00,  4.60it/s]\n",
      "Testing weights for mcts_exp_02: 100%|██████████| 101/101 [00:20<00:00,  4.94it/s]\n",
      "Testing weights for lgbm_exp_06: 100%|██████████| 101/101 [00:20<00:00,  5.00it/s]\n",
      "Testing weights for xgboost_exp_07: 100%|██████████| 101/101 [00:20<00:00,  4.97it/s]\n",
      "Testing weights for ri_exp_01: 100%|██████████| 101/101 [00:21<00:00,  4.61it/s]\n",
      "Testing weights for xgboost_exp_08: 100%|██████████| 101/101 [00:19<00:00,  5.07it/s]\n",
      "Testing weights for catboost_exp_08: 100%|██████████| 101/101 [00:20<00:00,  5.03it/s]\n",
      "Testing weights for et_exp_01: 100%|██████████| 101/101 [00:22<00:00,  4.45it/s]\n",
      "Testing weights for lasso_exp_02: 100%|██████████| 101/101 [00:19<00:00,  5.10it/s]\n",
      "Testing weights for pr_exp_06: 100%|██████████| 101/101 [00:20<00:00,  4.93it/s]\n",
      "Testing weights for tr_exp_06: 100%|██████████| 101/101 [00:22<00:00,  4.43it/s]\n",
      "Testing weights for lasso_exp_06: 100%|██████████| 101/101 [00:19<00:00,  5.09it/s]\n",
      "Testing weights for ransac_exp_01: 100%|██████████| 101/101 [00:20<00:00,  4.91it/s]\n",
      "Testing weights for cnn_exp_01: 100%|██████████| 101/101 [00:22<00:00,  4.53it/s]\n"
     ]
    },
    {
     "name": "stdout",
     "output_type": "stream",
     "text": [
      "Iteration 29: Added /kaggle/input/lgbm-exp-04 with weight 0.0200, Score: 0.6887\n",
      "29th iteration\n"
     ]
    },
    {
     "name": "stderr",
     "output_type": "stream",
     "text": [
      "Testing weights for xgboost_exp_01: 100%|██████████| 101/101 [00:20<00:00,  4.97it/s]\n",
      "Testing weights for catboost_exp_02: 100%|██████████| 101/101 [00:20<00:00,  4.95it/s]\n",
      "Testing weights for tabm_exp_01: 100%|██████████| 101/101 [00:20<00:00,  4.89it/s]\n",
      "Testing weights for tn_exp_01: 100%|██████████| 101/101 [00:21<00:00,  4.69it/s]\n",
      "Testing weights for abd_exp_01: 100%|██████████| 101/101 [00:20<00:00,  4.94it/s]\n",
      "Testing weights for nn_exp_02: 100%|██████████| 101/101 [00:20<00:00,  4.89it/s]\n",
      "Testing weights for lgbm_exp_05: 100%|██████████| 101/101 [00:22<00:00,  4.57it/s]\n",
      "Testing weights for vr_exp_01: 100%|██████████| 101/101 [00:20<00:00,  4.92it/s]\n",
      "Testing weights for tt_exp_01: 100%|██████████| 101/101 [00:20<00:00,  4.89it/s]\n",
      "Testing weights for en_exp_01: 100%|██████████| 101/101 [00:22<00:00,  4.51it/s]\n",
      "Testing weights for nn_exp_05: 100%|██████████| 101/101 [00:20<00:00,  4.94it/s]\n",
      "Testing weights for mcts_exp_02: 100%|██████████| 101/101 [00:20<00:00,  4.95it/s]\n",
      "Testing weights for lgbm_exp_06: 100%|██████████| 101/101 [00:21<00:00,  4.62it/s]\n",
      "Testing weights for xgboost_exp_07: 100%|██████████| 101/101 [00:20<00:00,  4.93it/s]\n",
      "Testing weights for ri_exp_01: 100%|██████████| 101/101 [00:20<00:00,  4.99it/s]\n",
      "Testing weights for xgboost_exp_08: 100%|██████████| 101/101 [00:20<00:00,  5.03it/s]\n",
      "Testing weights for catboost_exp_08: 100%|██████████| 101/101 [00:22<00:00,  4.51it/s]\n",
      "Testing weights for et_exp_01: 100%|██████████| 101/101 [00:19<00:00,  5.06it/s]\n",
      "Testing weights for lasso_exp_02: 100%|██████████| 101/101 [00:20<00:00,  5.02it/s]\n",
      "Testing weights for pr_exp_06: 100%|██████████| 101/101 [00:22<00:00,  4.40it/s]\n",
      "Testing weights for tr_exp_06: 100%|██████████| 101/101 [00:20<00:00,  5.03it/s]\n",
      "Testing weights for lasso_exp_06: 100%|██████████| 101/101 [00:20<00:00,  4.93it/s]\n",
      "Testing weights for ransac_exp_01: 100%|██████████| 101/101 [00:22<00:00,  4.40it/s]\n",
      "Testing weights for cnn_exp_01: 100%|██████████| 101/101 [00:19<00:00,  5.09it/s]\n"
     ]
    },
    {
     "name": "stdout",
     "output_type": "stream",
     "text": [
      "Iteration 30: Added /kaggle/input/nn-exp-05 with weight 0.0100, Score: 0.6887\n",
      "30th iteration\n"
     ]
    },
    {
     "name": "stderr",
     "output_type": "stream",
     "text": [
      "Testing weights for xgboost_exp_01: 100%|██████████| 101/101 [00:20<00:00,  4.94it/s]\n",
      "Testing weights for catboost_exp_02: 100%|██████████| 101/101 [00:22<00:00,  4.51it/s]\n",
      "Testing weights for tabm_exp_01: 100%|██████████| 101/101 [00:19<00:00,  5.07it/s]\n",
      "Testing weights for tn_exp_01: 100%|██████████| 101/101 [00:20<00:00,  4.94it/s]\n",
      "Testing weights for abd_exp_01: 100%|██████████| 101/101 [00:20<00:00,  4.91it/s]\n",
      "Testing weights for nn_exp_02: 100%|██████████| 101/101 [00:21<00:00,  4.64it/s]\n",
      "Testing weights for lgbm_exp_05: 100%|██████████| 101/101 [00:20<00:00,  4.94it/s]\n",
      "Testing weights for vr_exp_01: 100%|██████████| 101/101 [00:20<00:00,  4.94it/s]\n",
      "Testing weights for tt_exp_01: 100%|██████████| 101/101 [00:22<00:00,  4.55it/s]\n",
      "Testing weights for en_exp_01: 100%|██████████| 101/101 [00:20<00:00,  4.92it/s]\n",
      "Testing weights for mcts_exp_02: 100%|██████████| 101/101 [00:20<00:00,  4.92it/s]\n",
      "Testing weights for lgbm_exp_06: 100%|██████████| 101/101 [00:22<00:00,  4.56it/s]\n",
      "Testing weights for xgboost_exp_07: 100%|██████████| 101/101 [00:20<00:00,  4.91it/s]\n",
      "Testing weights for ri_exp_01: 100%|██████████| 101/101 [00:20<00:00,  4.90it/s]\n",
      "Testing weights for xgboost_exp_08: 100%|██████████| 101/101 [00:21<00:00,  4.66it/s]\n",
      "Testing weights for catboost_exp_08: 100%|██████████| 101/101 [00:21<00:00,  4.76it/s]\n",
      "Testing weights for et_exp_01: 100%|██████████| 101/101 [00:20<00:00,  4.92it/s]\n",
      "Testing weights for lasso_exp_02: 100%|██████████| 101/101 [00:20<00:00,  5.05it/s]\n",
      "Testing weights for pr_exp_06: 100%|██████████| 101/101 [00:22<00:00,  4.50it/s]\n",
      "Testing weights for tr_exp_06: 100%|██████████| 101/101 [00:20<00:00,  4.95it/s]\n",
      "Testing weights for lasso_exp_06: 100%|██████████| 101/101 [00:19<00:00,  5.08it/s]\n",
      "Testing weights for ransac_exp_01: 100%|██████████| 101/101 [00:23<00:00,  4.39it/s]\n",
      "Testing weights for cnn_exp_01: 100%|██████████| 101/101 [00:20<00:00,  4.98it/s]\n"
     ]
    },
    {
     "name": "stdout",
     "output_type": "stream",
     "text": [
      "Iteration 31: Added /kaggle/input/lgbm-exp-06 with weight -0.0100, Score: 0.6887\n",
      "31th iteration\n"
     ]
    },
    {
     "name": "stderr",
     "output_type": "stream",
     "text": [
      "Testing weights for xgboost_exp_01: 100%|██████████| 101/101 [00:19<00:00,  5.08it/s]\n",
      "Testing weights for catboost_exp_02: 100%|██████████| 101/101 [00:23<00:00,  4.38it/s]\n",
      "Testing weights for tabm_exp_01: 100%|██████████| 101/101 [00:20<00:00,  5.02it/s]\n",
      "Testing weights for tn_exp_01: 100%|██████████| 101/101 [00:20<00:00,  5.02it/s]\n",
      "Testing weights for abd_exp_01: 100%|██████████| 101/101 [00:21<00:00,  4.63it/s]\n",
      "Testing weights for nn_exp_02: 100%|██████████| 101/101 [00:20<00:00,  4.85it/s]\n",
      "Testing weights for lgbm_exp_05: 100%|██████████| 101/101 [00:20<00:00,  4.92it/s]\n",
      "Testing weights for vr_exp_01: 100%|██████████| 101/101 [00:20<00:00,  4.89it/s]\n",
      "Testing weights for tt_exp_01: 100%|██████████| 101/101 [00:22<00:00,  4.53it/s]\n",
      "Testing weights for en_exp_01: 100%|██████████| 101/101 [00:20<00:00,  4.93it/s]\n",
      "Testing weights for mcts_exp_02: 100%|██████████| 101/101 [00:20<00:00,  4.86it/s]\n",
      "Testing weights for xgboost_exp_07: 100%|██████████| 101/101 [00:22<00:00,  4.47it/s]\n",
      "Testing weights for ri_exp_01: 100%|██████████| 101/101 [00:20<00:00,  4.90it/s]\n",
      "Testing weights for xgboost_exp_08: 100%|██████████| 101/101 [00:20<00:00,  4.82it/s]\n",
      "Testing weights for catboost_exp_08: 100%|██████████| 101/101 [00:22<00:00,  4.43it/s]\n",
      "Testing weights for et_exp_01: 100%|██████████| 101/101 [00:20<00:00,  4.87it/s]\n",
      "Testing weights for lasso_exp_02: 100%|██████████| 101/101 [00:21<00:00,  4.80it/s]\n",
      "Testing weights for pr_exp_06: 100%|██████████| 101/101 [00:22<00:00,  4.44it/s]\n",
      "Testing weights for tr_exp_06: 100%|██████████| 101/101 [00:20<00:00,  4.87it/s]\n",
      "Testing weights for lasso_exp_06: 100%|██████████| 101/101 [00:21<00:00,  4.79it/s]\n",
      "Testing weights for ransac_exp_01: 100%|██████████| 101/101 [00:21<00:00,  4.76it/s]\n",
      "Testing weights for cnn_exp_01: 100%|██████████| 101/101 [00:22<00:00,  4.51it/s]\n"
     ]
    },
    {
     "name": "stdout",
     "output_type": "stream",
     "text": [
      "Iteration 32: Added /kaggle/input/nn-exp-02 with weight 0.0100, Score: 0.6887\n",
      "32th iteration\n"
     ]
    },
    {
     "name": "stderr",
     "output_type": "stream",
     "text": [
      "Testing weights for xgboost_exp_01: 100%|██████████| 101/101 [00:21<00:00,  4.80it/s]\n",
      "Testing weights for catboost_exp_02: 100%|██████████| 101/101 [00:20<00:00,  4.90it/s]\n",
      "Testing weights for tabm_exp_01: 100%|██████████| 101/101 [00:23<00:00,  4.36it/s]\n",
      "Testing weights for tn_exp_01: 100%|██████████| 101/101 [00:20<00:00,  4.82it/s]\n",
      "Testing weights for abd_exp_01: 100%|██████████| 101/101 [00:20<00:00,  4.90it/s]\n",
      "Testing weights for lgbm_exp_05: 100%|██████████| 101/101 [00:23<00:00,  4.39it/s]\n",
      "Testing weights for vr_exp_01: 100%|██████████| 101/101 [00:21<00:00,  4.71it/s]\n",
      "Testing weights for tt_exp_01: 100%|██████████| 101/101 [00:21<00:00,  4.80it/s]\n",
      "Testing weights for en_exp_01: 100%|██████████| 101/101 [00:22<00:00,  4.46it/s]\n",
      "Testing weights for mcts_exp_02: 100%|██████████| 101/101 [00:20<00:00,  4.90it/s]\n",
      "Testing weights for xgboost_exp_07: 100%|██████████| 101/101 [00:20<00:00,  4.85it/s]\n",
      "Testing weights for ri_exp_01: 100%|██████████| 101/101 [00:21<00:00,  4.64it/s]\n",
      "Testing weights for xgboost_exp_08: 100%|██████████| 101/101 [00:21<00:00,  4.72it/s]\n",
      "Testing weights for catboost_exp_08: 100%|██████████| 101/101 [00:20<00:00,  4.90it/s]\n",
      "Testing weights for et_exp_01: 100%|██████████| 101/101 [00:19<00:00,  5.07it/s]\n",
      "Testing weights for lasso_exp_02: 100%|██████████| 101/101 [00:22<00:00,  4.48it/s]\n",
      "Testing weights for pr_exp_06: 100%|██████████| 101/101 [00:20<00:00,  5.01it/s]\n",
      "Testing weights for tr_exp_06: 100%|██████████| 101/101 [00:19<00:00,  5.07it/s]\n",
      "Testing weights for lasso_exp_06: 100%|██████████| 101/101 [00:23<00:00,  4.39it/s]\n",
      "Testing weights for ransac_exp_01: 100%|██████████| 101/101 [00:19<00:00,  5.11it/s]\n",
      "Testing weights for cnn_exp_01: 100%|██████████| 101/101 [00:20<00:00,  4.97it/s]\n"
     ]
    },
    {
     "name": "stdout",
     "output_type": "stream",
     "text": [
      "Iteration 33: Added /kaggle/input/xgboost-exp-01 with weight 0.0000, Score: 0.6887\n",
      "33th iteration\n"
     ]
    },
    {
     "name": "stderr",
     "output_type": "stream",
     "text": [
      "Testing weights for catboost_exp_02: 100%|██████████| 101/101 [00:23<00:00,  4.39it/s]\n",
      "Testing weights for tabm_exp_01: 100%|██████████| 101/101 [00:19<00:00,  5.11it/s]\n",
      "Testing weights for tn_exp_01: 100%|██████████| 101/101 [00:20<00:00,  4.91it/s]\n",
      "Testing weights for abd_exp_01: 100%|██████████| 101/101 [00:21<00:00,  4.71it/s]\n",
      "Testing weights for lgbm_exp_05: 100%|██████████| 101/101 [00:21<00:00,  4.73it/s]\n",
      "Testing weights for vr_exp_01: 100%|██████████| 101/101 [00:20<00:00,  4.91it/s]\n",
      "Testing weights for tt_exp_01: 100%|██████████| 101/101 [00:20<00:00,  4.93it/s]\n",
      "Testing weights for en_exp_01: 100%|██████████| 101/101 [00:22<00:00,  4.54it/s]\n",
      "Testing weights for mcts_exp_02: 100%|██████████| 101/101 [00:20<00:00,  4.90it/s]\n",
      "Testing weights for xgboost_exp_07: 100%|██████████| 101/101 [00:20<00:00,  4.89it/s]\n",
      "Testing weights for ri_exp_01: 100%|██████████| 101/101 [00:22<00:00,  4.52it/s]\n",
      "Testing weights for xgboost_exp_08: 100%|██████████| 101/101 [00:20<00:00,  4.91it/s]\n",
      "Testing weights for catboost_exp_08: 100%|██████████| 101/101 [00:20<00:00,  4.89it/s]\n",
      "Testing weights for et_exp_01: 100%|██████████| 101/101 [00:21<00:00,  4.61it/s]\n",
      "Testing weights for lasso_exp_02: 100%|██████████| 101/101 [00:20<00:00,  4.87it/s]\n",
      "Testing weights for pr_exp_06: 100%|██████████| 101/101 [00:20<00:00,  4.86it/s]\n",
      "Testing weights for tr_exp_06: 100%|██████████| 101/101 [00:21<00:00,  4.80it/s]\n",
      "Testing weights for lasso_exp_06: 100%|██████████| 101/101 [00:22<00:00,  4.50it/s]\n",
      "Testing weights for ransac_exp_01: 100%|██████████| 101/101 [00:20<00:00,  4.89it/s]\n",
      "Testing weights for cnn_exp_01: 100%|██████████| 101/101 [00:20<00:00,  5.02it/s]\n"
     ]
    },
    {
     "name": "stdout",
     "output_type": "stream",
     "text": [
      "Iteration 34: Added /kaggle/input/tt-exp-01 with weight 0.0000, Score: 0.6887\n",
      "34th iteration\n"
     ]
    },
    {
     "name": "stderr",
     "output_type": "stream",
     "text": [
      "Testing weights for catboost_exp_02: 100%|██████████| 101/101 [00:23<00:00,  4.33it/s]\n",
      "Testing weights for tabm_exp_01: 100%|██████████| 101/101 [00:20<00:00,  4.82it/s]\n",
      "Testing weights for tn_exp_01: 100%|██████████| 101/101 [00:20<00:00,  5.04it/s]\n",
      "Testing weights for abd_exp_01: 100%|██████████| 101/101 [00:23<00:00,  4.33it/s]\n",
      "Testing weights for lgbm_exp_05: 100%|██████████| 101/101 [00:20<00:00,  4.85it/s]\n",
      "Testing weights for vr_exp_01: 100%|██████████| 101/101 [00:20<00:00,  4.98it/s]\n",
      "Testing weights for en_exp_01: 100%|██████████| 101/101 [00:22<00:00,  4.42it/s]\n",
      "Testing weights for mcts_exp_02: 100%|██████████| 101/101 [00:20<00:00,  4.85it/s]\n",
      "Testing weights for xgboost_exp_07: 100%|██████████| 101/101 [00:20<00:00,  5.03it/s]\n",
      "Testing weights for ri_exp_01: 100%|██████████| 101/101 [00:21<00:00,  4.76it/s]\n",
      "Testing weights for xgboost_exp_08: 100%|██████████| 101/101 [00:22<00:00,  4.53it/s]\n",
      "Testing weights for catboost_exp_08: 100%|██████████| 101/101 [00:19<00:00,  5.05it/s]\n",
      "Testing weights for et_exp_01: 100%|██████████| 101/101 [00:20<00:00,  4.93it/s]\n",
      "Testing weights for lasso_exp_02: 100%|██████████| 101/101 [00:23<00:00,  4.38it/s]\n",
      "Testing weights for pr_exp_06: 100%|██████████| 101/101 [00:19<00:00,  5.05it/s]\n",
      "Testing weights for tr_exp_06: 100%|██████████| 101/101 [00:20<00:00,  4.93it/s]\n",
      "Testing weights for lasso_exp_06: 100%|██████████| 101/101 [00:22<00:00,  4.40it/s]\n",
      "Testing weights for ransac_exp_01: 100%|██████████| 101/101 [00:19<00:00,  5.13it/s]\n",
      "Testing weights for cnn_exp_01: 100%|██████████| 101/101 [00:20<00:00,  4.94it/s]\n"
     ]
    },
    {
     "name": "stdout",
     "output_type": "stream",
     "text": [
      "Iteration 35: Added /kaggle/input/et-exp-01 with weight 0.0000, Score: 0.6887\n",
      "35th iteration\n"
     ]
    },
    {
     "name": "stderr",
     "output_type": "stream",
     "text": [
      "Testing weights for catboost_exp_02: 100%|██████████| 101/101 [00:21<00:00,  4.64it/s]\n",
      "Testing weights for tabm_exp_01: 100%|██████████| 101/101 [00:20<00:00,  4.94it/s]\n",
      "Testing weights for tn_exp_01: 100%|██████████| 101/101 [00:20<00:00,  4.97it/s]\n",
      "Testing weights for abd_exp_01: 100%|██████████| 101/101 [00:19<00:00,  5.06it/s]\n",
      "Testing weights for lgbm_exp_05: 100%|██████████| 101/101 [00:22<00:00,  4.39it/s]\n",
      "Testing weights for vr_exp_01: 100%|██████████| 101/101 [00:20<00:00,  4.94it/s]\n",
      "Testing weights for en_exp_01: 100%|██████████| 101/101 [00:19<00:00,  5.08it/s]\n",
      "Testing weights for mcts_exp_02: 100%|██████████| 101/101 [00:22<00:00,  4.41it/s]\n",
      "Testing weights for xgboost_exp_07: 100%|██████████| 101/101 [00:20<00:00,  4.97it/s]\n",
      "Testing weights for ri_exp_01: 100%|██████████| 101/101 [00:19<00:00,  5.12it/s]\n",
      "Testing weights for xgboost_exp_08: 100%|██████████| 101/101 [00:22<00:00,  4.46it/s]\n",
      "Testing weights for catboost_exp_08: 100%|██████████| 101/101 [00:20<00:00,  4.92it/s]\n",
      "Testing weights for lasso_exp_02: 100%|██████████| 101/101 [00:19<00:00,  5.15it/s]\n",
      "Testing weights for pr_exp_06: 100%|██████████| 101/101 [00:20<00:00,  4.84it/s]\n",
      "Testing weights for tr_exp_06: 100%|██████████| 101/101 [00:22<00:00,  4.55it/s]\n",
      "Testing weights for lasso_exp_06: 100%|██████████| 101/101 [00:19<00:00,  5.13it/s]\n",
      "Testing weights for ransac_exp_01: 100%|██████████| 101/101 [00:20<00:00,  4.94it/s]\n",
      "Testing weights for cnn_exp_01: 100%|██████████| 101/101 [00:23<00:00,  4.36it/s]\n"
     ]
    },
    {
     "name": "stdout",
     "output_type": "stream",
     "text": [
      "No improvement found, stopping\n",
      "{'index': -1, 'weight': 0, 'score': 0.688721623203415}\n"
     ]
    }
   ],
   "source": [
    "def evaluate_weight(args):\n",
    "    \"\"\"Function to evaluate a single weight for a model - designed for parallel execution\"\"\"\n",
    "    weight, best_preds, model_oof, solution_data = args\n",
    "    \n",
    "    # Create potential ensemble using NumPy operations\n",
    "    best_ranks = rankdata(best_preds)\n",
    "    model_ranks = rankdata(model_oof)\n",
    "    potential_ensemble = (1 - weight) * best_ranks + weight * model_ranks\n",
    "    \n",
    "    # Calculate score\n",
    "    new_score = optimized_score(solution_data, potential_ensemble)\n",
    "    \n",
    "    return weight, new_score\n",
    "\n",
    "def optimize_ensemble(experiments, initial_ensemble, weights_range, score_function, max_iterations=100):\n",
    "    # Convert initial ensemble to NumPy arrays for faster processing\n",
    "    ids = initial_ensemble[\"ID\"].values\n",
    "    initial_preds = initial_ensemble[\"predictions\"].values\n",
    "    \n",
    "    # Prepare solution data as NumPy array\n",
    "    solution_data = np.column_stack((\n",
    "        preds_df[\"efs\"].values,\n",
    "        preds_df[\"efs_time\"].values,\n",
    "        preds_df[\"race_group\"].values\n",
    "    ))\n",
    "    \n",
    "    # Initialize variables\n",
    "    iteration = 0\n",
    "    best_score = score_function(\n",
    "        solution_data,\n",
    "        initial_preds,\n",
    "        None\n",
    "    )\n",
    "    \n",
    "    model_weights = {}\n",
    "    remaining_experiments = experiments.copy()\n",
    "    best_preds = initial_preds.copy()\n",
    "    \n",
    "    # Get number of CPU cores for parallel processing\n",
    "    num_cores = max(1, multiprocessing.cpu_count() - 1)\n",
    "    \n",
    "    while remaining_experiments and iteration < max_iterations:\n",
    "        print(f\"{iteration}th iteration\")\n",
    "        iteration += 1\n",
    "        best_iteration = {\n",
    "            'index': -1,\n",
    "            'weight': 0,\n",
    "            'score': best_score\n",
    "        }\n",
    "        \n",
    "        # Try each remaining model\n",
    "        for model_path in remaining_experiments:\n",
    "            try:\n",
    "                # Load model OOF predictions\n",
    "                model_name = model_path.split(\"/\")[-1].replace('-', '_')\n",
    "                model_oof = preds_df[model_path].values\n",
    "                \n",
    "                # Prepare arguments for parallel processing\n",
    "                args_list = [(weight, best_preds, model_oof, solution_data) \n",
    "                             for weight in weights_range]\n",
    "                \n",
    "                # Process weights in parallel\n",
    "                with ProcessPoolExecutor(max_workers=num_cores) as executor:\n",
    "                    futures = [executor.submit(evaluate_weight, args) for args in args_list]\n",
    "                    \n",
    "                    # Process results as they complete\n",
    "                    for future in tqdm(as_completed(futures), total=len(futures), \n",
    "                                      desc=f\"Testing weights for {model_name}\"):\n",
    "                        weight, new_score = future.result()\n",
    "                        \n",
    "                        # Update best if improved\n",
    "                        if new_score > best_iteration['score']:\n",
    "                            best_iteration.update({\n",
    "                                'index': model_path,\n",
    "                                'weight': weight,\n",
    "                                'score': new_score\n",
    "                            })\n",
    "                \n",
    "                # Clean up\n",
    "                del model_oof\n",
    "                gc.collect()\n",
    "                \n",
    "            except Exception as e:\n",
    "                print(f\"Error processing {model_path}: {str(e)}\")\n",
    "                continue\n",
    "        \n",
    "        # Check if we found an improvement\n",
    "        if best_iteration['index'] == -1:\n",
    "            print(\"No improvement found, stopping\")\n",
    "            print(best_iteration)\n",
    "            break\n",
    "            \n",
    "        # Update ensemble with best model found\n",
    "        best_score = best_iteration['score']\n",
    "        model_weights[best_iteration['index']] = best_iteration['weight']\n",
    "        remaining_experiments.remove(best_iteration['index'])\n",
    "        \n",
    "        print(\n",
    "            f\"Iteration {iteration}: Added {best_iteration['index']} \"\n",
    "            f\"with weight {best_iteration['weight']:.4f}, \"\n",
    "            f\"Score: {best_iteration['score']:.4f}\"\n",
    "        )\n",
    "        \n",
    "        # Update best ensemble for next iteration\n",
    "        model_oof = preds_df[best_iteration['index']].values\n",
    "        best_ranks = rankdata(best_preds)\n",
    "        model_ranks = rankdata(model_oof)\n",
    "        best_preds = (1 - best_iteration['weight']) * best_ranks + best_iteration['weight'] * model_ranks\n",
    "        \n",
    "    # Create final ensemble DataFrame for compatibility\n",
    "    final_ensemble = pd.DataFrame({\n",
    "        \"ID\": ids,\n",
    "        \"predictions\": best_preds\n",
    "    })\n",
    "    \n",
    "    return model_weights, best_score, final_ensemble\n",
    "\n",
    "# Run the optimized ensemble function\n",
    "model_weights, best_score, final_ensemble = optimize_ensemble(experiments, best_ensemble, ww, optimized_score)\n"
   ]
  },
  {
   "cell_type": "code",
   "execution_count": 23,
   "id": "d65eb5d0",
   "metadata": {
    "execution": {
     "iopub.execute_input": "2025-03-05T02:23:06.257441Z",
     "iopub.status.busy": "2025-03-05T02:23:06.257071Z",
     "iopub.status.idle": "2025-03-05T02:23:06.262185Z",
     "shell.execute_reply": "2025-03-05T02:23:06.261332Z"
    },
    "papermill": {
     "duration": 5.473804,
     "end_time": "2025-03-05T02:23:06.263738",
     "exception": false,
     "start_time": "2025-03-05T02:23:00.789934",
     "status": "completed"
    },
    "tags": []
   },
   "outputs": [],
   "source": [
    "# %%time\n",
    "\n",
    "# from tqdm import tqdm\n",
    "# import pandas as pd\n",
    "# import numpy as np\n",
    "# from typing import List, Dict, Tuple\n",
    "# import logging\n",
    "# import gc\n",
    "\n",
    "# def optimize_ensemble(experiments, initial_ensemble, weights_range, score_function, max_iterations = 100):\n",
    "    \n",
    "#     # Initialize variables\n",
    "#     iteration  = 0\n",
    "#     best_score = score_function(\n",
    "#         initial_ensemble[[\"ID\", \"efs\", \"efs_time\", \"race_group\"]].copy(),\n",
    "#         initial_ensemble[[\"ID\", \"predictions\"]].copy(),\n",
    "#         \"ID\"\n",
    "#     )\n",
    "    \n",
    "#     model_weights         = {}\n",
    "#     remaining_experiments = experiments.copy()\n",
    "#     best_ensemble         = initial_ensemble.copy()\n",
    "    \n",
    "#     while remaining_experiments and iteration < max_iterations:\n",
    "#         print(f\"{iteration}th iteration\")\n",
    "#         iteration += 1\n",
    "#         best_iteration = {\n",
    "#             'index' : -1,\n",
    "#             'weight': 0,\n",
    "#             'score' : best_score\n",
    "#         }\n",
    "        \n",
    "#         # Try each remaining model\n",
    "#         for model_path in remaining_experiments:\n",
    "#             try:\n",
    "#                 #print(f\"Iteration {iteration}: Trying model {model_path}\")\n",
    "                \n",
    "#                 # Load model OOF predictions\n",
    "#                 model_name = model_path.split(\"/\")[-1].replace('-', '_')\n",
    "#                 model_oof  = preds_df[model_path]\n",
    "                \n",
    "#                 # Try different weights\n",
    "#                 for weight in tqdm(weights_range, desc=f\"Testing weights for {model_name}\"):\n",
    "#                     # Create potential ensemble\n",
    "#                     potential_ensemble = pd.DataFrame({\n",
    "#                         \"ID\": best_ensemble[\"ID\"],\n",
    "#                         \"predictions\": (1 - weight) * rankdata(best_ensemble[\"predictions\"]) + \n",
    "#                                      weight * rankdata(model_oof)\n",
    "#                     })\n",
    "                    \n",
    "#                     # Evaluate new ensemble\n",
    "#                     new_score = score_function(\n",
    "#                         preds_df[[\"ID\", \"efs\", \"efs_time\", \"race_group\"]].copy(),\n",
    "#                         potential_ensemble.copy(),\n",
    "#                         \"ID\"\n",
    "#                     )\n",
    "                    \n",
    "#                     # Update best if improved\n",
    "#                     if new_score > best_iteration['score']:\n",
    "#                         best_iteration.update({\n",
    "#                             'index' : model_path,\n",
    "#                             'weight': weight,\n",
    "#                             'score' : new_score\n",
    "#                         })\n",
    "                \n",
    "#                 # Clean up\n",
    "#                 del model_oof\n",
    "#                 gc.collect()\n",
    "                \n",
    "#             except Exception as e:\n",
    "#                 print(f\"Error processing {model_path}: {str(e)}\")\n",
    "#                 continue\n",
    "        \n",
    "#         # Check if we found an improvement\n",
    "#         if best_iteration['index'] == -1:\n",
    "#             print(\"No improvement found, stopping\")\n",
    "#             print(best_iteration)\n",
    "#             break\n",
    "            \n",
    "#         # Update ensemble with best model found\n",
    "#         best_score                             = best_iteration['score']\n",
    "#         model_weights[best_iteration['index']] = best_iteration['weight']\n",
    "#         remaining_experiments.remove(best_iteration['index'])\n",
    "        \n",
    "#         print(\n",
    "#             f\"Iteration {iteration}: Added {best_iteration['index']} \"\n",
    "#             f\"with weight {best_iteration['weight']:.4f}, \"\n",
    "#             f\"Score: {best_iteration['score']:.4f}\"\n",
    "#         )\n",
    "        \n",
    "#         # Update best ensemble for next iteration\n",
    "#         model_oof = preds_df[best_iteration['index']]\n",
    "#         best_ensemble[\"predictions\"] = (\n",
    "#             (1 - best_iteration['weight']) * rankdata(best_ensemble[\"predictions\"]) + \n",
    "#             best_iteration['weight'] * rankdata(model_oof)\n",
    "#         )\n",
    "        \n",
    "#     return model_weights, best_score\n",
    "\n",
    "\n",
    "# model_weights, best_score = optimize_ensemble(experiments, best_ensemble, ww, score)"
   ]
  },
  {
   "cell_type": "code",
   "execution_count": 24,
   "id": "0cce0512",
   "metadata": {
    "execution": {
     "iopub.execute_input": "2025-03-05T02:23:17.448689Z",
     "iopub.status.busy": "2025-03-05T02:23:17.448325Z",
     "iopub.status.idle": "2025-03-05T02:23:17.464443Z",
     "shell.execute_reply": "2025-03-05T02:23:17.463378Z"
    },
    "papermill": {
     "duration": 5.543757,
     "end_time": "2025-03-05T02:23:17.466269",
     "exception": false,
     "start_time": "2025-03-05T02:23:11.922512",
     "status": "completed"
    },
    "tags": []
   },
   "outputs": [
    {
     "data": {
      "text/plain": [
       "({'/kaggle/input/catboost-exp-05': 0.48000000000000087,\n",
       "  '/kaggle/input/xgboost-exp-09': 0.2700000000000007,\n",
       "  '/kaggle/input/lgbm-exp-08': -0.20999999999999974,\n",
       "  '/kaggle/input/catboost-exp-01': 0.10000000000000053,\n",
       "  '/kaggle/input/lasso-exp-01': -0.03999999999999959,\n",
       "  '/kaggle/input/nn-exp-04': 0.12000000000000055,\n",
       "  '/kaggle/input/svr-exp-06': -0.0499999999999996,\n",
       "  '/kaggle/input/ds-exp-01': 0.04000000000000048,\n",
       "  '/kaggle/input/rf-exp-05': -0.05999999999999961,\n",
       "  '/kaggle/input/svr-exp-01': -0.03999999999999959,\n",
       "  '/kaggle/input/tf-exp-01': 0.04000000000000048,\n",
       "  '/kaggle/input/catboost-exp-03': -0.03999999999999959,\n",
       "  '/kaggle/input/catboost-exp-06': 0.0600000000000005,\n",
       "  '/kaggle/input/tn-exp-02': 0.03000000000000047,\n",
       "  '/kaggle/input/xgboost-exp-02': -0.0499999999999996,\n",
       "  '/kaggle/input/catboost-exp-04': 0.020000000000000462,\n",
       "  '/kaggle/input/lgbm-exp-03': -0.029999999999999583,\n",
       "  '/kaggle/input/ts-exp-01': -0.019999999999999574,\n",
       "  '/kaggle/input/xgboost-exp-10': 0.04000000000000048,\n",
       "  '/kaggle/input/xgboost-exp-06': -0.029999999999999583,\n",
       "  '/kaggle/input/en-exp-02': 0.020000000000000462,\n",
       "  '/kaggle/input/ri-exp-06': -0.029999999999999583,\n",
       "  '/kaggle/input/tabm-exp-02': 0.0600000000000005,\n",
       "  '/kaggle/input/nn-exp-01': -0.05999999999999961,\n",
       "  '/kaggle/input/lgbm-exp-01': -0.0499999999999996,\n",
       "  '/kaggle/input/nn-exp-06': -0.0499999999999996,\n",
       "  '/kaggle/input/xgboost-exp-05': 0.04000000000000048,\n",
       "  '/kaggle/input/lir-exp-01': -0.019999999999999574,\n",
       "  '/kaggle/input/lgbm-exp-04': 0.020000000000000462,\n",
       "  '/kaggle/input/nn-exp-05': 0.010000000000000453,\n",
       "  '/kaggle/input/lgbm-exp-06': -0.009999999999999565,\n",
       "  '/kaggle/input/nn-exp-02': 0.010000000000000453,\n",
       "  '/kaggle/input/xgboost-exp-01': 4.440892098500626e-16,\n",
       "  '/kaggle/input/tt-exp-01': 4.440892098500626e-16,\n",
       "  '/kaggle/input/et-exp-01': 4.440892098500626e-16},\n",
       " 0.688721623203415,\n",
       "           ID  predictions\n",
       " 0          0       1933.0\n",
       " 1          1      20012.0\n",
       " 2          2        307.0\n",
       " 3          3      23010.0\n",
       " 4          4      12061.0\n",
       " ...      ...          ...\n",
       " 28795  28795       5559.0\n",
       " 28796  28796      26978.0\n",
       " 28797  28797      24352.0\n",
       " 28798  28798       3117.0\n",
       " 28799  28799        639.0\n",
       " \n",
       " [28800 rows x 2 columns])"
      ]
     },
     "execution_count": 24,
     "metadata": {},
     "output_type": "execute_result"
    }
   ],
   "source": [
    "model_weights, best_score, final_ensemble"
   ]
  },
  {
   "cell_type": "code",
   "execution_count": 25,
   "id": "5ac46761",
   "metadata": {
    "execution": {
     "iopub.execute_input": "2025-03-05T02:23:28.688525Z",
     "iopub.status.busy": "2025-03-05T02:23:28.688111Z",
     "iopub.status.idle": "2025-03-05T02:23:28.691894Z",
     "shell.execute_reply": "2025-03-05T02:23:28.691111Z"
    },
    "papermill": {
     "duration": 5.448298,
     "end_time": "2025-03-05T02:23:28.693234",
     "exception": false,
     "start_time": "2025-03-05T02:23:23.244936",
     "status": "completed"
    },
    "tags": []
   },
   "outputs": [],
   "source": [
    "# first_best_index, experiments"
   ]
  },
  {
   "cell_type": "markdown",
   "id": "fcaf2ba9",
   "metadata": {
    "papermill": {
     "duration": 5.624435,
     "end_time": "2025-03-05T02:23:39.800612",
     "exception": false,
     "start_time": "2025-03-05T02:23:34.176177",
     "status": "completed"
    },
    "tags": []
   },
   "source": [
    "## Step 6: Inference on test"
   ]
  },
  {
   "cell_type": "code",
   "execution_count": 26,
   "id": "bc1a239f",
   "metadata": {
    "execution": {
     "iopub.execute_input": "2025-03-05T02:23:50.886375Z",
     "iopub.status.busy": "2025-03-05T02:23:50.885986Z",
     "iopub.status.idle": "2025-03-05T02:23:50.893354Z",
     "shell.execute_reply": "2025-03-05T02:23:50.892436Z"
    },
    "jupyter": {
     "source_hidden": true
    },
    "papermill": {
     "duration": 5.615452,
     "end_time": "2025-03-05T02:23:50.895091",
     "exception": false,
     "start_time": "2025-03-05T02:23:45.279639",
     "status": "completed"
    },
    "tags": []
   },
   "outputs": [],
   "source": [
    "# class CFG:\n",
    "#     folds = 10\n",
    "\n",
    "# # https://www.kaggle.com/datasets/jsday96/mcts-tabm-models/data?select=TabMRegressor.py\n",
    "# class TabMRegressor:\n",
    "#     def __init__(\n",
    "#         self,\n",
    "#         arch_type: str        = 'tabm-mini',\n",
    "#         backbone: dict        = {'type': 'MLP', 'n_blocks': 3, 'd_block': 512, 'dropout': 0.1},\n",
    "#         d_embedding: int      = 64,  # Only used for 'tabm-mini'\n",
    "#         bin_count: int        = 48,  # Only used for 'tabm-mini'\n",
    "#         k: int                = 32,\n",
    "#         learning_rate: float  = 1e-4,\n",
    "#         weight_decay: float   = 1e-3,\n",
    "#         clip_grad_norm: bool  = True,\n",
    "#         max_epochs: int       = 100,\n",
    "#         patience: int         = 15,\n",
    "#         batch_size: int       = 32,\n",
    "#         compile_model: bool   = False,\n",
    "#         device: Optional[str] = 'cuda:0',\n",
    "#         random_state: int     = 0,\n",
    "#         verbose: bool         = True\n",
    "#     ):\n",
    "#         self.arch_type = arch_type\n",
    "#         self.backbone = backbone\n",
    "#         self.d_embedding = d_embedding\n",
    "#         self.bin_count = bin_count\n",
    "#         self.k = k\n",
    "#         self.learning_rate = learning_rate\n",
    "#         self.weight_decay = weight_decay\n",
    "#         self.clip_grad_norm = clip_grad_norm\n",
    "#         self.max_epochs = max_epochs\n",
    "#         self.patience = patience\n",
    "#         self.batch_size = batch_size\n",
    "#         self.compile_model = compile_model\n",
    "#         self.device = torch.device(device if device else ('cuda' if torch.cuda.is_available() else 'cpu'))\n",
    "#         self.random_state = random_state\n",
    "#         self.verbose = verbose\n",
    "\n",
    "#     def fit(\n",
    "#         self,\n",
    "#         X: pd.DataFrame,\n",
    "#         y: np.array,\n",
    "#         eval_set: Tuple[pd.DataFrame, np.array]\n",
    "#     ):\n",
    "#         # PREPROCESS DATA.\n",
    "#         X_cat_train, X_cont_train, cat_cardinalities, y_train = self._preprocess_data(X, y, training=True)\n",
    "#         X_cat_val, X_cont_val, _, y_val = self._preprocess_data(eval_set[0], eval_set[1], training=False)\n",
    "\n",
    "#         # CREATE MODEL & TRAINING ALGO.\n",
    "#         bins = rtdl_num_embeddings.compute_bins(X_cont_train, n_bins=self.bin_count) if self.arch_type == 'tabm-mini' else None\n",
    "#         self.model = Model(\n",
    "#             n_num_features=X_cont_train.shape[1],\n",
    "#             cat_cardinalities=cat_cardinalities,\n",
    "#             n_classes=None,\n",
    "#             backbone=self.backbone,\n",
    "#             bins=bins,\n",
    "#             num_embeddings=(\n",
    "#                 None\n",
    "#                 if bins is None\n",
    "#                 else {\n",
    "#                     'type': 'PiecewiseLinearEmbeddings',\n",
    "#                     'd_embedding': self.d_embedding,\n",
    "#                     'activation': True,\n",
    "#                     'version': 'B',\n",
    "#                 }\n",
    "#             ),\n",
    "#             arch_type=self.arch_type,\n",
    "#             k=self.k,\n",
    "#         ).to(self.device)\n",
    "#         optimizer = torch.optim.AdamW(make_parameter_groups(self.model), lr=self.learning_rate, weight_decay=self.weight_decay)\n",
    "#         if self.compile_model:\n",
    "#             self.model = torch.compile(self.model)\n",
    "\n",
    "#         loss_fn = torch.nn.MSELoss().to(self.device)\n",
    "#         # TRAIN & TEST MODEL.\n",
    "#         best = {\n",
    "#             'epoch': -1,\n",
    "#             'eval_loss': math.inf,\n",
    "#             'model_state_dict': None,\n",
    "#         }\n",
    "#         remaining_patience = self.patience\n",
    "#         epoch_size = math.ceil(len(X) / self.batch_size)\n",
    "\n",
    "\n",
    "#         for epoch in range(self.max_epochs):\n",
    "#             # TRAIN.\n",
    "#             optimizer.zero_grad()\n",
    "#             train_losses = []\n",
    "#             progress_bar = torch.randperm(len(y_train), device=self.device).split(self.batch_size)\n",
    "#             progress_bar = tqdm(progress_bar, desc=f'Epoch {epoch}', total=epoch_size) if self.verbose else progress_bar\n",
    "#             for batch_idx in progress_bar:\n",
    "#                 self.model.train()\n",
    "\n",
    "#                 with torch.amp.autocast(device_type='cuda', dtype = torch.bfloat16):\n",
    "#                     y_pred = self.model(\n",
    "#                         X_cont_train[batch_idx],\n",
    "#                         X_cat_train[batch_idx],\n",
    "#                     ).squeeze(-1).float()\n",
    "\n",
    "#                 loss = loss_fn(y_pred.flatten(0, 1), y_train[batch_idx].repeat_interleave(self.k))\n",
    "#                 loss.backward()\n",
    "#                 if self.clip_grad_norm:\n",
    "#                     torch.nn.utils.clip_grad_norm_(self.model.parameters(), 1.0)\n",
    "#                 optimizer.step()\n",
    "\n",
    "#                 train_losses.append(loss.item())\n",
    "\n",
    "\n",
    "#              # EVALUATE.\n",
    "#             self.model.eval()\n",
    "#             val_losses = []\n",
    "#             with torch.no_grad():\n",
    "#                 for batch_idx in torch.arange(0, len(y_val), self.batch_size, device=self.device):\n",
    "#                     y_pred = self.model(\n",
    "#                         X_cont_val[batch_idx:batch_idx+self.batch_size],\n",
    "#                         X_cat_val[batch_idx:batch_idx+self.batch_size],\n",
    "#                     ).squeeze(-1).float()\n",
    "\n",
    "#                     loss = loss_fn(y_pred.flatten(0, 1), y_val[batch_idx:batch_idx+self.batch_size].repeat_interleave(self.k))\n",
    "#                     val_losses.append(loss.item())\n",
    "\n",
    "\n",
    "#             # PRINT INFO.\n",
    "#             mean_train_loss = np.mean(train_losses)\n",
    "#             mean_val_loss = np.mean(val_losses)\n",
    "#             if self.verbose:\n",
    "#                 print(f'Epoch {epoch} | Train Loss: {mean_train_loss} | Val Loss: {mean_val_loss}')\n",
    "\n",
    "\n",
    "#             # COMPARE TO BEST.\n",
    "#             if mean_val_loss < best['eval_loss']:\n",
    "#                 best['epoch'] = epoch\n",
    "#                 best['eval_loss'] = mean_val_loss\n",
    "#                 best['model_state_dict'] = self.model.state_dict()\n",
    "#                 remaining_patience = self.patience\n",
    "                \n",
    "#                 if self.verbose:\n",
    "#                     print('🌸 New best epoch! 🌸')\n",
    "#             else:\n",
    "#                 remaining_patience -= 1\n",
    "\n",
    "#             # EARLY STOPPING.\n",
    "#             if remaining_patience == 0:\n",
    "#                 break\n",
    "\n",
    "#             # RESTORE BEST MODEL.\n",
    "#             self.model.load_state_dict(best['model_state_dict'])\n",
    "\n",
    "\n",
    "#     def predict(\n",
    "#         self,\n",
    "#         X: pd.DataFrame,\n",
    "#         batch_size: Optional[int] = 8096\n",
    "#     ) -> np.ndarray:\n",
    "#         # PREPROCESS DATA.\n",
    "#         X_cat, X_cont, _, _ = self._preprocess_data(X, y=None, training=False)\n",
    "\n",
    "#         # PREDICT.\n",
    "#         self.model.eval()\n",
    "#         y_pred = []\n",
    "#         with torch.no_grad():\n",
    "#             for batch_idx in torch.arange(0, len(X), batch_size, device=self.device):\n",
    "#                 y_pred.append(\n",
    "#                     self.model(\n",
    "#                         X_cont[batch_idx:batch_idx+batch_size],\n",
    "#                         X_cat[batch_idx:batch_idx+batch_size],\n",
    "#                     ).squeeze(-1).float().cpu().numpy()\n",
    "#                 )\n",
    "\n",
    "#         y_pred = np.concatenate(y_pred)\n",
    "\n",
    "\n",
    "#         # DENORMALIZE TARGETS.\n",
    "#         y_pred = y_pred * self._target_std + self._target_mean\n",
    "\n",
    "\n",
    "#         # COMPUTE ENSEMBLE MEAN.\n",
    "#         y_pred = np.mean(y_pred, axis=1)\n",
    "\n",
    "#         return y_pred\n",
    "\n",
    "\n",
    "#     def _preprocess_data(self, X: pd.DataFrame, y: pd.Series, training: bool):\n",
    "#         # PICK NON-CONSTANT COLUMNS.\n",
    "#         if training:\n",
    "#             self._non_constant_columns = X.columns[X.nunique() > 1]\n",
    "\n",
    "#         X = X[self._non_constant_columns]\n",
    "\n",
    "#         # SEPARATE CATEGORICAL & CONTINUOUS FEATURES.\n",
    "#         categorical_features = [col for col in X.columns if X[col].dtype.name == 'object']\n",
    "#         X_cat = X[categorical_features].to_numpy()\n",
    "#         X_cont = X.drop(columns=categorical_features).to_numpy()\n",
    "\n",
    "#         # ENCODE CATEGORICAL FEATURES.\n",
    "#         cat_cardinalities = [X[col].nunique() for col in categorical_features]\n",
    "\n",
    "#         if training:\n",
    "#             self._categorical_encoders = [\n",
    "#                 OrdinalEncoder()\n",
    "#                 for _ in range(X_cat.shape[1])\n",
    "#             ]\n",
    "#         X_cat = np.concatenate([\n",
    "#             encoder.fit_transform(X_cat[:, i:i+1])\n",
    "#             for i, encoder in enumerate(self._categorical_encoders)\n",
    "#         ], axis=1)\n",
    "\n",
    "#         # NORMALIZE TARGETS.\n",
    "#         if training:\n",
    "#             self._target_mean = y.mean()\n",
    "#             self._target_std = y.std()\n",
    "\n",
    "#             y = (y - self._target_mean) / self._target_std\n",
    "\n",
    "\n",
    "#         # SCALE CONTINUOUS FEATURES.\n",
    "#         if training:\n",
    "#             noise = (\n",
    "#                 np.random.default_rng(0)\n",
    "#                 .normal(0.0, 1e-5, X_cont.shape)\n",
    "#                 .astype(X_cont.dtype)\n",
    "#             )\n",
    "#             self._cont_feature_preprocessor = QuantileTransformer(\n",
    "#                 n_quantiles=max(min(len(X) // 30, 1000), 10),\n",
    "#                 output_distribution='normal',\n",
    "#                 subsample=10**9,\n",
    "#             ).fit(X_cont + noise)\n",
    "\n",
    "#         X_cont = self._cont_feature_preprocessor.transform(X_cont)\n",
    "\n",
    "\n",
    "#         # CONVERT TO TENSORS.\n",
    "#         X_cat = torch.tensor(X_cat, dtype=torch.long, device=self.device)\n",
    "#         X_cont = torch.tensor(X_cont, dtype=torch.float32, device=self.device)\n",
    "\n",
    "#         if y is not None:\n",
    "#             y = torch.tensor(y, dtype=torch.float32, device=self.device)\n",
    "\n",
    "#         return X_cat, X_cont, cat_cardinalities, y\n"
   ]
  },
  {
   "cell_type": "code",
   "execution_count": 27,
   "id": "be9d4290",
   "metadata": {
    "execution": {
     "iopub.execute_input": "2025-03-05T02:24:02.076455Z",
     "iopub.status.busy": "2025-03-05T02:24:02.076034Z",
     "iopub.status.idle": "2025-03-05T02:24:02.080367Z",
     "shell.execute_reply": "2025-03-05T02:24:02.079419Z"
    },
    "jupyter": {
     "source_hidden": true
    },
    "papermill": {
     "duration": 5.617962,
     "end_time": "2025-03-05T02:24:02.081999",
     "exception": false,
     "start_time": "2025-03-05T02:23:56.464037",
     "status": "completed"
    },
    "tags": []
   },
   "outputs": [],
   "source": [
    "# def get_tabm_features(data):\n",
    "#     RMV = [\"ID\",\"efs\",\"efs_time\",\"y\",\"fold\"]\n",
    "#     FEATURES = [c for c in data.columns if not c in RMV]\n",
    "    \n",
    "#     RMV              = ['ID']\n",
    "#     X_test           = data.drop(RMV, axis=1)\n",
    "#     y_pred           = data[['ID']]\n",
    "    \n",
    "#     #print(\"X_test shape:\", X_test.shape, '\\n')\n",
    "    \n",
    "#     cat_cols         = X_test.select_dtypes(include=['object']).columns.tolist()\n",
    "#     num_cols         = X_test.select_dtypes(exclude=['object']).columns.tolist()\n",
    "    \n",
    "#     # Preprocessing categorical\n",
    "#     imputer          = SimpleImputer(strategy='constant', fill_value='NAN')\n",
    "#     X_test[cat_cols] = imputer.fit_transform(X_test[cat_cols])\n",
    "\n",
    "#     # Preprocessing numerical\n",
    "#     imputer          = SimpleImputer(strategy=\"median\")\n",
    "#     X_test[num_cols] = imputer.fit_transform(X_test[num_cols])\n",
    "\n",
    "#     return X_test,FEATURES"
   ]
  },
  {
   "cell_type": "code",
   "execution_count": 28,
   "id": "c3f36b15",
   "metadata": {
    "execution": {
     "iopub.execute_input": "2025-03-05T02:24:13.191948Z",
     "iopub.status.busy": "2025-03-05T02:24:13.191601Z",
     "iopub.status.idle": "2025-03-05T02:24:13.195870Z",
     "shell.execute_reply": "2025-03-05T02:24:13.194792Z"
    },
    "jupyter": {
     "source_hidden": true
    },
    "papermill": {
     "duration": 5.65372,
     "end_time": "2025-03-05T02:24:13.197748",
     "exception": false,
     "start_time": "2025-03-05T02:24:07.544028",
     "status": "completed"
    },
    "tags": []
   },
   "outputs": [],
   "source": [
    "# def prepare_features(model_path, train, test):\n",
    "\n",
    "#     RMV = [\"ID\",\"efs\",\"efs_time\",\"y\"]\n",
    "#     FEATURES = [c for c in train.columns if not c in RMV]\n",
    "#     #print(f\"There are {len(FEATURES)} FEATURES: {FEATURES}\")\n",
    "    \n",
    "\n",
    "#     CATS = []\n",
    "#     for c in FEATURES:\n",
    "#         if train[c].dtype==\"object\":\n",
    "#             CATS.append(c)\n",
    "#             train[c] = train[c].fillna(\"NAN\")\n",
    "#             test[c]  = test[c].fillna(\"NAN\")\n",
    "#         elif \"DeepTabels\" in model_path or \"tn\" in model_path or \"svr\" in model_path:\n",
    "#             train[c] = train[c].fillna(-1)\n",
    "#             test[c]  = test[c].fillna(-1)\n",
    "            \n",
    "        \n",
    "#     #print(f\"In these features, there are {len(CATS)} CATEGORICAL FEATURES: {CATS}\")\n",
    "    \n",
    "#     combined = pd.concat([train,test],axis=0,ignore_index=True)\n",
    "#     #print(\"Combined data shape:\", combined.shape )\n",
    "    \n",
    "#     # LABEL ENCODE CATEGORICAL FEATURES\n",
    "#     #print(\"We LABEL ENCODE the CATEGORICAL FEATURES: \",end=\"\")\n",
    "#     for c in FEATURES:\n",
    "    \n",
    "#         # LABEL ENCODE CATEGORICAL AND CONVERT TO INT32 CATEGORY\n",
    "#         if c in CATS:\n",
    "#             #print(f\"{c}, \",end=\"\")\n",
    "#             combined[c],_ = combined[c].factorize()\n",
    "#             combined[c]  -= combined[c].min()\n",
    "#             combined[c]   = combined[c].astype(\"int32\")\n",
    "#             combined[c]   = combined[c].astype(\"category\")\n",
    "            \n",
    "#         # REDUCE PRECISION OF NUMERICAL TO 32BIT TO SAVE MEMORY\n",
    "#         else:\n",
    "#             if combined[c].dtype ==\"float64\":\n",
    "#                 combined[c]      = combined[c].astype(\"float32\")\n",
    "#             if combined[c].dtype ==\"int64\":\n",
    "#                 combined[c]      = combined[c].astype(\"int32\")\n",
    "        \n",
    "#     train = combined.iloc[:len(train)].copy()\n",
    "#     test  = combined.iloc[len(train):].reset_index(drop=True).copy()\n",
    "                \n",
    "#     return train, test, FEATURES"
   ]
  },
  {
   "cell_type": "code",
   "execution_count": 29,
   "id": "90241085",
   "metadata": {
    "execution": {
     "iopub.execute_input": "2025-03-05T02:24:24.364539Z",
     "iopub.status.busy": "2025-03-05T02:24:24.364156Z",
     "iopub.status.idle": "2025-03-05T02:24:24.368272Z",
     "shell.execute_reply": "2025-03-05T02:24:24.367425Z"
    },
    "jupyter": {
     "source_hidden": true
    },
    "papermill": {
     "duration": 5.48579,
     "end_time": "2025-03-05T02:24:24.369813",
     "exception": false,
     "start_time": "2025-03-05T02:24:18.884023",
     "status": "completed"
    },
    "tags": []
   },
   "outputs": [],
   "source": [
    "# def get_nn_features(train, test):\n",
    "    \n",
    "#     CAT_SIZE = []\n",
    "#     CAT_EMB  = []\n",
    "#     NUMS     = []\n",
    "#     CATS     = []\n",
    "\n",
    "#     RMV = [\"ID\",\"efs\",\"efs_time\",\"y\",\"fold\"]\n",
    "#     FEATURES = [c for c in train.columns if not c in RMV]\n",
    "    \n",
    "#     for c in FEATURES:\n",
    "#         if train[c].dtype==\"object\":\n",
    "#             train[c] = train[c].fillna(\"NAN\")\n",
    "#             test[c]  = test[c].fillna(\"NAN\")\n",
    "#             CATS.append(c)\n",
    "#         elif not \"age\" in c:\n",
    "#             train[c] = train[c].astype(\"str\")\n",
    "#             test[c]  = test[c].astype(\"str\")\n",
    "#             CATS.append(c)\n",
    "\n",
    "\n",
    "#     combined = pd.concat([train,test],axis=0,ignore_index=True)\n",
    "#     for c in FEATURES:\n",
    "#         if c in CATS:\n",
    "#             # LABEL ENCODE\n",
    "#             combined[c],_ = combined[c].factorize()\n",
    "#             combined[c] -= combined[c].min()\n",
    "#             combined[c] = combined[c].astype(\"int32\")\n",
    "#             #combined[c] = combined[c].astype(\"category\")\n",
    "\n",
    "#             n = combined[c].nunique()\n",
    "#             mn = combined[c].min()\n",
    "#             mx = combined[c].max()\n",
    "#             #print(f'{c} has ({n}) unique values')\n",
    "    \n",
    "#             CAT_SIZE.append(mx+1) \n",
    "#             CAT_EMB.append( int(np.ceil( np.sqrt(mx+1))) ) \n",
    "#         else:\n",
    "#             if combined[c].dtype==\"float64\":\n",
    "#                 combined[c] = combined[c].astype(\"float32\")\n",
    "#             if combined[c].dtype==\"int64\":\n",
    "#                 combined[c] = combined[c].astype(\"int32\")\n",
    "                \n",
    "#             m = combined[c].mean()\n",
    "#             s = combined[c].std()\n",
    "#             combined[c] = (combined[c]-m)/s\n",
    "#             combined[c] = combined[c].fillna(0)\n",
    "            \n",
    "#             NUMS.append(c)\n",
    "\n",
    "#     train = combined.iloc[:len(train)].copy()\n",
    "#     test = combined.iloc[len(train):].reset_index(drop=True).copy()\n",
    "\n",
    "#     return test[CATS], test[NUMS]"
   ]
  },
  {
   "cell_type": "code",
   "execution_count": 30,
   "id": "b9d258e6",
   "metadata": {
    "execution": {
     "iopub.execute_input": "2025-03-05T02:24:35.589179Z",
     "iopub.status.busy": "2025-03-05T02:24:35.588832Z",
     "iopub.status.idle": "2025-03-05T02:24:35.593107Z",
     "shell.execute_reply": "2025-03-05T02:24:35.592259Z"
    },
    "jupyter": {
     "source_hidden": true
    },
    "papermill": {
     "duration": 5.661801,
     "end_time": "2025-03-05T02:24:35.594632",
     "exception": false,
     "start_time": "2025-03-05T02:24:29.932831",
     "status": "completed"
    },
    "tags": []
   },
   "outputs": [],
   "source": [
    "# def get_tf_features(train, test):\n",
    "#     RMV = [\"ID\",\"efs\",\"efs_time\",\"y\",\"y_na\",\"fold\"]\n",
    "#     FEATURES = [c for c in train.columns if not c in RMV]\n",
    "\n",
    "\n",
    "#     test                             = test.replace('Not done', 'missing')\n",
    "#     test                             = test.replace('Not tested', 'missing')\n",
    "    \n",
    "#     test['na_count']                 = test.isna().sum(axis=1)\n",
    "#     test['age_karnofsky']            = test['age_at_hct'] * test['karnofsky_score']\n",
    "#     test['age_comorbidity']          = test['age_at_hct'] * test['comorbidity_score']\n",
    "#     test['donor_recipient_age_diff'] = abs(test['donor_age'] - test['age_at_hct'])\n",
    "#     test['hla_match_ratio']          = (test['hla_high_res_8'] + test['hla_low_res_8']) / 16\n",
    "#     test['age_squared']              = test['age_at_hct'] ** 2\n",
    "#     test['karnofsky_squared']        = test['karnofsky_score'] ** 2\n",
    "#     test['16?']                      = np.where(test['age_at_hct']<=16,1,0)\n",
    "    \n",
    "#     FEATURES.extend([\"na_count\", \"age_karnofsky\", \"age_comorbidity\", \"donor_recipient_age_diff\", \"hla_match_ratio\", \"age_squared\", \"karnofsky_squared\", \"16?\"])\n",
    "\n",
    "#     CATS = []\n",
    "#     for c in FEATURES:\n",
    "#         if test[c].dtype==\"object\":\n",
    "#             CATS.append(c)\n",
    "#             test[c] = test[c].fillna(\"missing\")\n",
    "\n",
    "#     for c in FEATURES:\n",
    "#         # LABEL ENCODE CATEGORICAL AND CONVERT TO INT32 CATEGORY\n",
    "#         if c in CATS:\n",
    "#             #print(f\"{c}, \",end=\"\")\n",
    "#             test[c],_ = test[c].factorize()\n",
    "#             test[c]  -= test[c].min()\n",
    "#             test[c]   = test[c].astype(\"int32\")\n",
    "#             test[c]   = test[c].astype(\"category\")\n",
    "#         else:\n",
    "#             if test[c].dtype == \"float64\":\n",
    "#                 test[c]      = test[c].astype(\"float32\")\n",
    "#             if test[c].dtype ==\"int64\":\n",
    "#                 test[c]      = test[c].astype(\"int32\")\n",
    "    \n",
    "#     return test, FEATURES"
   ]
  },
  {
   "cell_type": "code",
   "execution_count": 31,
   "id": "692a9750",
   "metadata": {
    "execution": {
     "iopub.execute_input": "2025-03-05T02:24:46.727859Z",
     "iopub.status.busy": "2025-03-05T02:24:46.727522Z",
     "iopub.status.idle": "2025-03-05T02:24:46.732135Z",
     "shell.execute_reply": "2025-03-05T02:24:46.731249Z"
    },
    "jupyter": {
     "source_hidden": true
    },
    "papermill": {
     "duration": 5.695356,
     "end_time": "2025-03-05T02:24:46.733737",
     "exception": false,
     "start_time": "2025-03-05T02:24:41.038381",
     "status": "completed"
    },
    "tags": []
   },
   "outputs": [],
   "source": [
    "# import pickle\n",
    "# from tqdm import tqdm\n",
    "# from sklearn.svm import SVR\n",
    "# from sklearn.preprocessing import StandardScaler\n",
    "# from sklearn.impute import KNNImputer\n",
    "\n",
    "# imputer               = KNNImputer(n_neighbors=5, weights='uniform')\n",
    "\n",
    "# scaler = StandardScaler()\n",
    "\n",
    "# FOLDS = 10\n",
    "\n",
    "# def inference(model_path, train, test_df):\n",
    "    \n",
    "#     path = model_path.split('/')[-1]\n",
    "#     file = path.replace('-','_')\n",
    "\n",
    "#     if \"dt\" not in model_path:\n",
    "#         with open(f\"/kaggle/input/{path}/{file}.pkl\", 'rb') as f:\n",
    "#             models = pickle.load(f)\n",
    "            \n",
    "#     print(\"All models are loaded successfully....!\")\n",
    "\n",
    "#     test_predictions = np.zeros(len(test_df))\n",
    "\n",
    "#     for fold in tqdm(range(FOLDS)):\n",
    "#         if \"dt\" in model_path:\n",
    "#             # model = keras.models.load_model(model_path, custom_objects=custom_objects)\n",
    "#             # train, test, FEATURES   = prepare_features(model_path, train, test_df)\n",
    "#             # model                   = tf.keras.models.load_model(model_path+f\"/model_fold_{fold}.keras\", custom_objects=dt.__dict__, compile=)\n",
    "#             # fold_preds              = model.predict(test.copy())\n",
    "#             # fold_preds              = fold_preds.flatten()\n",
    "#             pass\n",
    "#         else:\n",
    "#             model  = models[fold]\n",
    "            \n",
    "            \n",
    "#         if \"svr\" in model_path:\n",
    "#             if fold==0:\n",
    "#                 train, test, FEATURES = prepare_features(model_path, train.copy(), test_df.copy())\n",
    "\n",
    "#             # Handle missing values\n",
    "#             train_imputed         = imputer.fit_transform(train[FEATURES].copy())\n",
    "#             test_imputed          = imputer.transform(test[FEATURES])\n",
    "\n",
    "#             # Convert back to DataFrame to maintain feature names\n",
    "#             train_imputed         = pd.DataFrame(train_imputed, columns=FEATURES, index=train.index)\n",
    "#             test_imputed          = pd.DataFrame(test_imputed, columns=FEATURES, index=test.index)\n",
    "            \n",
    "#             # Scale features\n",
    "#             scaler.fit(train_imputed)\n",
    "#             test_scaled           = scaler.transform(test_imputed)\n",
    "            \n",
    "#             fold_preds            = model.predict(test_scaled)\n",
    "\n",
    "#         elif \"tn\" in model_path:\n",
    "#             if fold == 0:\n",
    "#                 train, test, FEATURES   = prepare_features(model_path, train, test_df)\n",
    "                \n",
    "#             fold_preds              = model.predict(test[FEATURES].values).flatten()\n",
    "            \n",
    "#         elif \"nn\" in model_path:\n",
    "#             if fold == 0:\n",
    "#                 X_cat, X_num      = get_nn_features(train, test_df.copy())\n",
    "#             fold_preds        = model.predict([X_cat.values, X_num.values])\n",
    "#             fold_preds        = fold_preds.flatten()\n",
    "\n",
    "#         elif \"tf\" in model_path:\n",
    "#             if fold == 0:\n",
    "#                 test, FEATURES = get_tf_features(train.copy(),test_df.copy())\n",
    "#                 fold_preds     = model.predict(test[FEATURES].copy())\n",
    "\n",
    "#         elif \"tabm\" in model_path:\n",
    "#             if fold == 0:\n",
    "#                 test, FEATURES = get_tabm_features(test_df.copy())\n",
    "#             fold_preds              = model.predict(test[FEATURES].copy())\n",
    "            \n",
    "#         else: \n",
    "#             if fold == 0:\n",
    "#                 train, test, FEATURES   = prepare_features(model_path, train, test_df)\n",
    "#             fold_preds              = model.predict(test[FEATURES].copy())\n",
    "            \n",
    "#         test_predictions += fold_preds\n",
    "    \n",
    "#     # Get the average predictionr\n",
    "#     test_predictions /= FOLDS\n",
    "        \n",
    "#     return test_predictions"
   ]
  },
  {
   "cell_type": "code",
   "execution_count": 32,
   "id": "22ffd3e4",
   "metadata": {
    "execution": {
     "iopub.execute_input": "2025-03-05T02:24:57.680158Z",
     "iopub.status.busy": "2025-03-05T02:24:57.679647Z",
     "iopub.status.idle": "2025-03-05T02:24:57.684236Z",
     "shell.execute_reply": "2025-03-05T02:24:57.683122Z"
    },
    "jupyter": {
     "source_hidden": true
    },
    "papermill": {
     "duration": 5.542276,
     "end_time": "2025-03-05T02:24:57.686202",
     "exception": false,
     "start_time": "2025-03-05T02:24:52.143926",
     "status": "completed"
    },
    "tags": []
   },
   "outputs": [],
   "source": [
    "# train_df = pd.read_csv(\"/kaggle/input/equity-post-HCT-survival-predictions/train.csv\")\n",
    "# test_df  = pd.read_csv(\"/kaggle/input/equity-post-HCT-survival-predictions/test.csv\")"
   ]
  },
  {
   "cell_type": "code",
   "execution_count": 33,
   "id": "c4b496ca",
   "metadata": {
    "execution": {
     "iopub.execute_input": "2025-03-05T02:25:08.983602Z",
     "iopub.status.busy": "2025-03-05T02:25:08.983235Z",
     "iopub.status.idle": "2025-03-05T02:25:08.987097Z",
     "shell.execute_reply": "2025-03-05T02:25:08.986063Z"
    },
    "jupyter": {
     "source_hidden": true
    },
    "papermill": {
     "duration": 5.626573,
     "end_time": "2025-03-05T02:25:08.988824",
     "exception": false,
     "start_time": "2025-03-05T02:25:03.362251",
     "status": "completed"
    },
    "tags": []
   },
   "outputs": [],
   "source": [
    "# first_best_index"
   ]
  },
  {
   "cell_type": "code",
   "execution_count": 34,
   "id": "3f9861d8",
   "metadata": {
    "execution": {
     "iopub.execute_input": "2025-03-05T02:25:19.878059Z",
     "iopub.status.busy": "2025-03-05T02:25:19.877700Z",
     "iopub.status.idle": "2025-03-05T02:25:19.881645Z",
     "shell.execute_reply": "2025-03-05T02:25:19.880594Z"
    },
    "jupyter": {
     "source_hidden": true
    },
    "papermill": {
     "duration": 5.433804,
     "end_time": "2025-03-05T02:25:19.883427",
     "exception": false,
     "start_time": "2025-03-05T02:25:14.449623",
     "status": "completed"
    },
    "tags": []
   },
   "outputs": [],
   "source": [
    "# initial_test_preds = inference(first_best_index, train_df, test_df)\n",
    "# initial_test_preds"
   ]
  },
  {
   "cell_type": "code",
   "execution_count": 35,
   "id": "609c2415",
   "metadata": {
    "execution": {
     "iopub.execute_input": "2025-03-05T02:25:31.027107Z",
     "iopub.status.busy": "2025-03-05T02:25:31.026753Z",
     "iopub.status.idle": "2025-03-05T02:25:31.030660Z",
     "shell.execute_reply": "2025-03-05T02:25:31.029675Z"
    },
    "jupyter": {
     "source_hidden": true
    },
    "papermill": {
     "duration": 5.473659,
     "end_time": "2025-03-05T02:25:31.032470",
     "exception": false,
     "start_time": "2025-03-05T02:25:25.558811",
     "status": "completed"
    },
    "tags": []
   },
   "outputs": [],
   "source": [
    "# model_weights"
   ]
  },
  {
   "cell_type": "code",
   "execution_count": 36,
   "id": "e3836f68",
   "metadata": {
    "execution": {
     "iopub.execute_input": "2025-03-05T02:25:42.153961Z",
     "iopub.status.busy": "2025-03-05T02:25:42.153632Z",
     "iopub.status.idle": "2025-03-05T02:25:42.157211Z",
     "shell.execute_reply": "2025-03-05T02:25:42.156335Z"
    },
    "papermill": {
     "duration": 5.418792,
     "end_time": "2025-03-05T02:25:42.158889",
     "exception": false,
     "start_time": "2025-03-05T02:25:36.740097",
     "status": "completed"
    },
    "tags": []
   },
   "outputs": [],
   "source": [
    "# test_preds = []\n",
    "# for model, weight in model_weights.items():\n",
    "#     print(f\"Using model : {model}\")\n",
    "#     test_df            = pd.read_csv(\"/kaggle/input/equity-post-HCT-survival-predictions/test.csv\")\n",
    "    \n",
    "#     test_preds         = inference(model, train_df.copy(), test_df)\n",
    "#     test_preds         = (1-weight) * rankdata(initial_test_preds) + weight * rankdata(test_preds)\n",
    "#     initial_test_preds = test_preds"
   ]
  },
  {
   "cell_type": "code",
   "execution_count": 37,
   "id": "37cfaede",
   "metadata": {
    "execution": {
     "iopub.execute_input": "2025-03-05T02:25:53.270173Z",
     "iopub.status.busy": "2025-03-05T02:25:53.269796Z",
     "iopub.status.idle": "2025-03-05T02:25:53.273702Z",
     "shell.execute_reply": "2025-03-05T02:25:53.272685Z"
    },
    "jupyter": {
     "source_hidden": true
    },
    "papermill": {
     "duration": 5.636842,
     "end_time": "2025-03-05T02:25:53.275215",
     "exception": false,
     "start_time": "2025-03-05T02:25:47.638373",
     "status": "completed"
    },
    "tags": []
   },
   "outputs": [],
   "source": [
    "# train_df               = pd.read_csv(\"/kaggle/input/equity-post-HCT-survival-predictions/train.csv\")\n",
    "# test_df                = pd.read_csv(\"/kaggle/input/equity-post-HCT-survival-predictions/test.csv\")\n",
    "# test_preds             = np.zeros(len(test_df))\n",
    "\n",
    "\n",
    "# preds_dict = {}\n",
    "# for model, weight in model_weights.items():\n",
    "#     print(f\"exp name : {model}\\n\")\n",
    "#     test_df                = pd.read_csv(\"/kaggle/input/equity-post-HCT-survival-predictions/test.csv\")\n",
    "#     test_preds             = inference(model, train_df.copy(), test_df.copy())\n",
    "#     test_preds             = (1-weight) * rankdata(initial_test_preds) + weight * rankdata(test_preds)\n",
    "#     initial_test_preds     = test_preds"
   ]
  },
  {
   "cell_type": "code",
   "execution_count": 38,
   "id": "a306e5b0",
   "metadata": {
    "execution": {
     "iopub.execute_input": "2025-03-05T02:26:04.522713Z",
     "iopub.status.busy": "2025-03-05T02:26:04.522365Z",
     "iopub.status.idle": "2025-03-05T02:26:04.526378Z",
     "shell.execute_reply": "2025-03-05T02:26:04.525405Z"
    },
    "jupyter": {
     "source_hidden": true
    },
    "papermill": {
     "duration": 5.592131,
     "end_time": "2025-03-05T02:26:04.528082",
     "exception": false,
     "start_time": "2025-03-05T02:25:58.935951",
     "status": "completed"
    },
    "tags": []
   },
   "outputs": [],
   "source": [
    "# test_preds"
   ]
  },
  {
   "cell_type": "code",
   "execution_count": 39,
   "id": "b92fb078",
   "metadata": {
    "execution": {
     "iopub.execute_input": "2025-03-05T02:26:15.775987Z",
     "iopub.status.busy": "2025-03-05T02:26:15.775614Z",
     "iopub.status.idle": "2025-03-05T02:26:15.779334Z",
     "shell.execute_reply": "2025-03-05T02:26:15.778419Z"
    },
    "jupyter": {
     "source_hidden": true
    },
    "papermill": {
     "duration": 5.724797,
     "end_time": "2025-03-05T02:26:15.780915",
     "exception": false,
     "start_time": "2025-03-05T02:26:10.056118",
     "status": "completed"
    },
    "tags": []
   },
   "outputs": [],
   "source": [
    "# potential_ensemble                = pd.DataFrame()\n",
    "# potential_ensemble[\"predictions\"] = test_preds\n",
    "# potential_ensemble[\"ID\"]          = test_df[\"ID\"]\n",
    "# new_score                         = score(test_df[[\"ID\",\"efs\",\"efs_time\",\"race_group\"]].copy(), potential_ensemble.copy(), \"ID\")\n",
    "# new_score"
   ]
  },
  {
   "cell_type": "code",
   "execution_count": 40,
   "id": "5d5f889c",
   "metadata": {
    "execution": {
     "iopub.execute_input": "2025-03-05T02:26:26.935571Z",
     "iopub.status.busy": "2025-03-05T02:26:26.935212Z",
     "iopub.status.idle": "2025-03-05T02:26:26.938925Z",
     "shell.execute_reply": "2025-03-05T02:26:26.938031Z"
    },
    "jupyter": {
     "source_hidden": true
    },
    "papermill": {
     "duration": 5.70616,
     "end_time": "2025-03-05T02:26:26.940611",
     "exception": false,
     "start_time": "2025-03-05T02:26:21.234451",
     "status": "completed"
    },
    "tags": []
   },
   "outputs": [],
   "source": [
    "# best_score"
   ]
  },
  {
   "cell_type": "markdown",
   "id": "cbaaa2c1",
   "metadata": {
    "papermill": {
     "duration": 5.561737,
     "end_time": "2025-03-05T02:26:37.948210",
     "exception": false,
     "start_time": "2025-03-05T02:26:32.386473",
     "status": "completed"
    },
    "tags": []
   },
   "source": [
    "## Step 7: Create submission file"
   ]
  },
  {
   "cell_type": "code",
   "execution_count": 41,
   "id": "ada6a6b7",
   "metadata": {
    "execution": {
     "iopub.execute_input": "2025-03-05T02:26:49.341517Z",
     "iopub.status.busy": "2025-03-05T02:26:49.341072Z",
     "iopub.status.idle": "2025-03-05T02:26:49.344927Z",
     "shell.execute_reply": "2025-03-05T02:26:49.343896Z"
    },
    "jupyter": {
     "source_hidden": true
    },
    "papermill": {
     "duration": 5.65801,
     "end_time": "2025-03-05T02:26:49.346617",
     "exception": false,
     "start_time": "2025-03-05T02:26:43.688607",
     "status": "completed"
    },
    "tags": []
   },
   "outputs": [],
   "source": [
    "# sub            = pd.read_csv(\"/kaggle/input/equity-post-HCT-survival-predictions/sample_submission.csv\")\n",
    "# sub.prediction = test_preds\n",
    "# sub.to_csv(\"submission.csv\",index=False)\n",
    "# print(\"Sub shape:\",sub.shape)\n",
    "# sub.head()"
   ]
  },
  {
   "cell_type": "code",
   "execution_count": null,
   "id": "a8b955d3",
   "metadata": {
    "papermill": {
     "duration": 5.450876,
     "end_time": "2025-03-05T02:27:00.333411",
     "exception": false,
     "start_time": "2025-03-05T02:26:54.882535",
     "status": "completed"
    },
    "tags": []
   },
   "outputs": [],
   "source": []
  }
 ],
 "metadata": {
  "kaggle": {
   "accelerator": "none",
   "dataSources": [
    {
     "databundleVersionId": 10381525,
     "sourceId": 70942,
     "sourceType": "competition"
    },
    {
     "datasetId": 921302,
     "sourceId": 7453542,
     "sourceType": "datasetVersion"
    },
    {
     "datasetId": 6226248,
     "sourceId": 10097128,
     "sourceType": "datasetVersion"
    },
    {
     "datasetId": 6415434,
     "sourceId": 10370860,
     "sourceType": "datasetVersion"
    },
    {
     "datasetId": 6450507,
     "sourceId": 10409094,
     "sourceType": "datasetVersion"
    },
    {
     "sourceId": 211322530,
     "sourceType": "kernelVersion"
    },
    {
     "sourceId": 216172723,
     "sourceType": "kernelVersion"
    },
    {
     "sourceId": 217481514,
     "sourceType": "kernelVersion"
    },
    {
     "sourceId": 217813503,
     "sourceType": "kernelVersion"
    },
    {
     "sourceId": 217931837,
     "sourceType": "kernelVersion"
    },
    {
     "sourceId": 218131499,
     "sourceType": "kernelVersion"
    },
    {
     "sourceId": 218144682,
     "sourceType": "kernelVersion"
    },
    {
     "sourceId": 218801338,
     "sourceType": "kernelVersion"
    },
    {
     "sourceId": 218802756,
     "sourceType": "kernelVersion"
    },
    {
     "sourceId": 219153168,
     "sourceType": "kernelVersion"
    },
    {
     "sourceId": 219154661,
     "sourceType": "kernelVersion"
    },
    {
     "sourceId": 219195490,
     "sourceType": "kernelVersion"
    },
    {
     "sourceId": 219311236,
     "sourceType": "kernelVersion"
    },
    {
     "sourceId": 219519933,
     "sourceType": "kernelVersion"
    },
    {
     "sourceId": 219788453,
     "sourceType": "kernelVersion"
    },
    {
     "sourceId": 219953795,
     "sourceType": "kernelVersion"
    },
    {
     "sourceId": 220208646,
     "sourceType": "kernelVersion"
    },
    {
     "sourceId": 220212754,
     "sourceType": "kernelVersion"
    },
    {
     "sourceId": 220243528,
     "sourceType": "kernelVersion"
    },
    {
     "sourceId": 220393279,
     "sourceType": "kernelVersion"
    },
    {
     "sourceId": 221224474,
     "sourceType": "kernelVersion"
    },
    {
     "sourceId": 221474387,
     "sourceType": "kernelVersion"
    },
    {
     "sourceId": 221524326,
     "sourceType": "kernelVersion"
    },
    {
     "sourceId": 221636013,
     "sourceType": "kernelVersion"
    },
    {
     "sourceId": 221640769,
     "sourceType": "kernelVersion"
    },
    {
     "sourceId": 221830134,
     "sourceType": "kernelVersion"
    },
    {
     "sourceId": 222021427,
     "sourceType": "kernelVersion"
    },
    {
     "sourceId": 222265918,
     "sourceType": "kernelVersion"
    },
    {
     "sourceId": 222267362,
     "sourceType": "kernelVersion"
    },
    {
     "sourceId": 222268629,
     "sourceType": "kernelVersion"
    },
    {
     "sourceId": 222637056,
     "sourceType": "kernelVersion"
    },
    {
     "sourceId": 222638468,
     "sourceType": "kernelVersion"
    },
    {
     "sourceId": 222639128,
     "sourceType": "kernelVersion"
    },
    {
     "sourceId": 222646580,
     "sourceType": "kernelVersion"
    },
    {
     "sourceId": 222647954,
     "sourceType": "kernelVersion"
    },
    {
     "sourceId": 222688114,
     "sourceType": "kernelVersion"
    },
    {
     "sourceId": 222831405,
     "sourceType": "kernelVersion"
    },
    {
     "sourceId": 223111714,
     "sourceType": "kernelVersion"
    },
    {
     "sourceId": 223730449,
     "sourceType": "kernelVersion"
    },
    {
     "sourceId": 223733528,
     "sourceType": "kernelVersion"
    },
    {
     "sourceId": 223734261,
     "sourceType": "kernelVersion"
    },
    {
     "sourceId": 223847496,
     "sourceType": "kernelVersion"
    },
    {
     "sourceId": 224446847,
     "sourceType": "kernelVersion"
    },
    {
     "sourceId": 224920880,
     "sourceType": "kernelVersion"
    },
    {
     "sourceId": 225297866,
     "sourceType": "kernelVersion"
    },
    {
     "sourceId": 225326328,
     "sourceType": "kernelVersion"
    },
    {
     "sourceId": 225343712,
     "sourceType": "kernelVersion"
    },
    {
     "sourceId": 225424423,
     "sourceType": "kernelVersion"
    },
    {
     "sourceId": 225426770,
     "sourceType": "kernelVersion"
    },
    {
     "sourceId": 225454357,
     "sourceType": "kernelVersion"
    },
    {
     "sourceId": 225456146,
     "sourceType": "kernelVersion"
    },
    {
     "sourceId": 225456748,
     "sourceType": "kernelVersion"
    },
    {
     "sourceId": 225464407,
     "sourceType": "kernelVersion"
    },
    {
     "sourceId": 225634491,
     "sourceType": "kernelVersion"
    },
    {
     "sourceId": 225640399,
     "sourceType": "kernelVersion"
    },
    {
     "sourceId": 225719412,
     "sourceType": "kernelVersion"
    },
    {
     "sourceId": 225733236,
     "sourceType": "kernelVersion"
    }
   ],
   "dockerImageVersionId": 30822,
   "isGpuEnabled": false,
   "isInternetEnabled": true,
   "language": "python",
   "sourceType": "notebook"
  },
  "kernelspec": {
   "display_name": "Python 3",
   "language": "python",
   "name": "python3"
  },
  "language_info": {
   "codemirror_mode": {
    "name": "ipython",
    "version": 3
   },
   "file_extension": ".py",
   "mimetype": "text/x-python",
   "name": "python",
   "nbconvert_exporter": "python",
   "pygments_lexer": "ipython3",
   "version": "3.10.12"
  },
  "papermill": {
   "default_parameters": {},
   "duration": 27932.532864,
   "end_time": "2025-03-05T02:27:09.929441",
   "environment_variables": {},
   "exception": null,
   "input_path": "__notebook__.ipynb",
   "output_path": "__notebook__.ipynb",
   "parameters": {},
   "start_time": "2025-03-04T18:41:37.396577",
   "version": "2.6.0"
  }
 },
 "nbformat": 4,
 "nbformat_minor": 5
}
