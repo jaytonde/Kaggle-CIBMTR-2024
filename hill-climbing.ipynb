{
 "cells": [
  {
   "cell_type": "markdown",
   "id": "333a0910",
   "metadata": {
    "_cell_guid": "46a264b2-b97f-487b-9a3d-2597a0ecdc21",
    "_uuid": "9daabf89-8847-4537-a0b7-2a722b5c452d",
    "collapsed": false,
    "jupyter": {
     "outputs_hidden": false
    },
    "papermill": {
     "duration": 0.010858,
     "end_time": "2025-02-02T13:11:53.349205",
     "exception": false,
     "start_time": "2025-02-02T13:11:53.338347",
     "status": "completed"
    },
    "tags": []
   },
   "source": [
    "## Installations"
   ]
  },
  {
   "cell_type": "code",
   "execution_count": 1,
   "id": "ee618a9d",
   "metadata": {
    "execution": {
     "iopub.execute_input": "2025-02-02T13:11:53.370658Z",
     "iopub.status.busy": "2025-02-02T13:11:53.370193Z",
     "iopub.status.idle": "2025-02-02T13:12:18.892607Z",
     "shell.execute_reply": "2025-02-02T13:12:18.891227Z"
    },
    "papermill": {
     "duration": 25.535297,
     "end_time": "2025-02-02T13:12:18.894771",
     "exception": false,
     "start_time": "2025-02-02T13:11:53.359474",
     "status": "completed"
    },
    "tags": []
   },
   "outputs": [
    {
     "name": "stdout",
     "output_type": "stream",
     "text": [
      "Processing /kaggle/input/pip-install-lifelines/autograd-1.7.0-py3-none-any.whl\r\n",
      "Requirement already satisfied: numpy in /usr/local/lib/python3.10/dist-packages (from autograd==1.7.0) (1.26.4)\r\n",
      "autograd is already installed with the same version as the provided wheel. Use --force-reinstall to force an installation of the wheel.\r\n",
      "Processing /kaggle/input/pip-install-lifelines/autograd-gamma-0.5.0.tar.gz\r\n",
      "  Preparing metadata (setup.py) ... \u001b[?25l\u001b[?25hdone\r\n",
      "Requirement already satisfied: autograd>=1.2.0 in /usr/local/lib/python3.10/dist-packages (from autograd-gamma==0.5.0) (1.7.0)\r\n",
      "Requirement already satisfied: scipy>=1.2.0 in /usr/local/lib/python3.10/dist-packages (from autograd-gamma==0.5.0) (1.13.1)\r\n",
      "Requirement already satisfied: numpy in /usr/local/lib/python3.10/dist-packages (from autograd>=1.2.0->autograd-gamma==0.5.0) (1.26.4)\r\n",
      "Building wheels for collected packages: autograd-gamma\r\n",
      "  Building wheel for autograd-gamma (setup.py) ... \u001b[?25l\u001b[?25hdone\r\n",
      "  Created wheel for autograd-gamma: filename=autograd_gamma-0.5.0-py3-none-any.whl size=4031 sha256=2a6f09eacd5758a7ef649c06058f12bddfa2a61496f3aee7fe7b3e7ffd3e48d3\r\n",
      "  Stored in directory: /root/.cache/pip/wheels/6b/b5/e0/4c79e15c0b5f2c15ecf613c720bb20daab20a666eb67135155\r\n",
      "Successfully built autograd-gamma\r\n",
      "Installing collected packages: autograd-gamma\r\n",
      "Successfully installed autograd-gamma-0.5.0\r\n",
      "Processing /kaggle/input/pip-install-lifelines/interface_meta-1.3.0-py3-none-any.whl\r\n",
      "Installing collected packages: interface-meta\r\n",
      "Successfully installed interface-meta-1.3.0\r\n",
      "Processing /kaggle/input/pip-install-lifelines/formulaic-1.0.2-py3-none-any.whl\r\n",
      "Requirement already satisfied: interface-meta>=1.2.0 in /usr/local/lib/python3.10/dist-packages (from formulaic==1.0.2) (1.3.0)\r\n",
      "Requirement already satisfied: numpy>=1.16.5 in /usr/local/lib/python3.10/dist-packages (from formulaic==1.0.2) (1.26.4)\r\n",
      "Requirement already satisfied: pandas>=1.0 in /usr/local/lib/python3.10/dist-packages (from formulaic==1.0.2) (2.1.4)\r\n",
      "Requirement already satisfied: scipy>=1.6 in /usr/local/lib/python3.10/dist-packages (from formulaic==1.0.2) (1.13.1)\r\n",
      "Requirement already satisfied: typing-extensions>=4.2.0 in /usr/local/lib/python3.10/dist-packages (from formulaic==1.0.2) (4.12.2)\r\n",
      "Requirement already satisfied: wrapt>=1.0 in /usr/local/lib/python3.10/dist-packages (from formulaic==1.0.2) (1.16.0)\r\n",
      "Requirement already satisfied: python-dateutil>=2.8.2 in /usr/local/lib/python3.10/dist-packages (from pandas>=1.0->formulaic==1.0.2) (2.8.2)\r\n",
      "Requirement already satisfied: pytz>=2020.1 in /usr/local/lib/python3.10/dist-packages (from pandas>=1.0->formulaic==1.0.2) (2024.2)\r\n",
      "Requirement already satisfied: tzdata>=2022.1 in /usr/local/lib/python3.10/dist-packages (from pandas>=1.0->formulaic==1.0.2) (2024.1)\r\n",
      "Requirement already satisfied: six>=1.5 in /usr/local/lib/python3.10/dist-packages (from python-dateutil>=2.8.2->pandas>=1.0->formulaic==1.0.2) (1.16.0)\r\n",
      "Installing collected packages: formulaic\r\n",
      "Successfully installed formulaic-1.0.2\r\n",
      "Processing /kaggle/input/pip-install-lifelines/lifelines-0.30.0-py3-none-any.whl\r\n",
      "Requirement already satisfied: numpy>=1.14.0 in /usr/local/lib/python3.10/dist-packages (from lifelines==0.30.0) (1.26.4)\r\n",
      "Requirement already satisfied: scipy>=1.7.0 in /usr/local/lib/python3.10/dist-packages (from lifelines==0.30.0) (1.13.1)\r\n",
      "Requirement already satisfied: pandas>=2.1 in /usr/local/lib/python3.10/dist-packages (from lifelines==0.30.0) (2.1.4)\r\n",
      "Requirement already satisfied: matplotlib>=3.0 in /usr/local/lib/python3.10/dist-packages (from lifelines==0.30.0) (3.7.1)\r\n",
      "Requirement already satisfied: autograd>=1.5 in /usr/local/lib/python3.10/dist-packages (from lifelines==0.30.0) (1.7.0)\r\n",
      "Requirement already satisfied: autograd-gamma>=0.3 in /usr/local/lib/python3.10/dist-packages (from lifelines==0.30.0) (0.5.0)\r\n",
      "Requirement already satisfied: formulaic>=0.2.2 in /usr/local/lib/python3.10/dist-packages (from lifelines==0.30.0) (1.0.2)\r\n",
      "Requirement already satisfied: interface-meta>=1.2.0 in /usr/local/lib/python3.10/dist-packages (from formulaic>=0.2.2->lifelines==0.30.0) (1.3.0)\r\n",
      "Requirement already satisfied: typing-extensions>=4.2.0 in /usr/local/lib/python3.10/dist-packages (from formulaic>=0.2.2->lifelines==0.30.0) (4.12.2)\r\n",
      "Requirement already satisfied: wrapt>=1.0 in /usr/local/lib/python3.10/dist-packages (from formulaic>=0.2.2->lifelines==0.30.0) (1.16.0)\r\n",
      "Requirement already satisfied: contourpy>=1.0.1 in /usr/local/lib/python3.10/dist-packages (from matplotlib>=3.0->lifelines==0.30.0) (1.3.0)\r\n",
      "Requirement already satisfied: cycler>=0.10 in /usr/local/lib/python3.10/dist-packages (from matplotlib>=3.0->lifelines==0.30.0) (0.12.1)\r\n",
      "Requirement already satisfied: fonttools>=4.22.0 in /usr/local/lib/python3.10/dist-packages (from matplotlib>=3.0->lifelines==0.30.0) (4.53.1)\r\n",
      "Requirement already satisfied: kiwisolver>=1.0.1 in /usr/local/lib/python3.10/dist-packages (from matplotlib>=3.0->lifelines==0.30.0) (1.4.7)\r\n",
      "Requirement already satisfied: packaging>=20.0 in /usr/local/lib/python3.10/dist-packages (from matplotlib>=3.0->lifelines==0.30.0) (24.1)\r\n",
      "Requirement already satisfied: pillow>=6.2.0 in /usr/local/lib/python3.10/dist-packages (from matplotlib>=3.0->lifelines==0.30.0) (10.4.0)\r\n",
      "Requirement already satisfied: pyparsing>=2.3.1 in /usr/local/lib/python3.10/dist-packages (from matplotlib>=3.0->lifelines==0.30.0) (3.1.4)\r\n",
      "Requirement already satisfied: python-dateutil>=2.7 in /usr/local/lib/python3.10/dist-packages (from matplotlib>=3.0->lifelines==0.30.0) (2.8.2)\r\n",
      "Requirement already satisfied: pytz>=2020.1 in /usr/local/lib/python3.10/dist-packages (from pandas>=2.1->lifelines==0.30.0) (2024.2)\r\n",
      "Requirement already satisfied: tzdata>=2022.1 in /usr/local/lib/python3.10/dist-packages (from pandas>=2.1->lifelines==0.30.0) (2024.1)\r\n",
      "Requirement already satisfied: six>=1.5 in /usr/local/lib/python3.10/dist-packages (from python-dateutil>=2.7->matplotlib>=3.0->lifelines==0.30.0) (1.16.0)\r\n",
      "Installing collected packages: lifelines\r\n",
      "Successfully installed lifelines-0.30.0\r\n"
     ]
    }
   ],
   "source": [
    "!pip install /kaggle/input/pip-install-lifelines/autograd-1.7.0-py3-none-any.whl\n",
    "!pip install /kaggle/input/pip-install-lifelines/autograd-gamma-0.5.0.tar.gz\n",
    "!pip install /kaggle/input/pip-install-lifelines/interface_meta-1.3.0-py3-none-any.whl\n",
    "!pip install /kaggle/input/pip-install-lifelines/formulaic-1.0.2-py3-none-any.whl\n",
    "!pip install /kaggle/input/pip-install-lifelines/lifelines-0.30.0-py3-none-any.whl"
   ]
  },
  {
   "cell_type": "code",
   "execution_count": 2,
   "id": "179e687c",
   "metadata": {
    "execution": {
     "iopub.execute_input": "2025-02-02T13:12:18.917365Z",
     "iopub.status.busy": "2025-02-02T13:12:18.916922Z",
     "iopub.status.idle": "2025-02-02T13:12:27.408370Z",
     "shell.execute_reply": "2025-02-02T13:12:27.406827Z"
    },
    "papermill": {
     "duration": 8.505066,
     "end_time": "2025-02-02T13:12:27.410671",
     "exception": false,
     "start_time": "2025-02-02T13:12:18.905605",
     "status": "completed"
    },
    "tags": []
   },
   "outputs": [
    {
     "name": "stdout",
     "output_type": "stream",
     "text": [
      "Looking in links: /kaggle/input/tabm-tabular-dl-library\r\n",
      "Processing /kaggle/input/tabm-tabular-dl-library/tabm-0.0.1.dev0-py3-none-any.whl\r\n",
      "Requirement already satisfied: torch<3,>=1.12 in /usr/local/lib/python3.10/dist-packages (from tabm==0.0.1.dev0) (2.4.1+cu121)\r\n",
      "Processing /kaggle/input/tabm-tabular-dl-library/rtdl_num_embeddings-0.0.11-py3-none-any.whl (from tabm==0.0.1.dev0)\r\n",
      "Requirement already satisfied: filelock in /usr/local/lib/python3.10/dist-packages (from torch<3,>=1.12->tabm==0.0.1.dev0) (3.16.1)\r\n",
      "Requirement already satisfied: typing-extensions>=4.8.0 in /usr/local/lib/python3.10/dist-packages (from torch<3,>=1.12->tabm==0.0.1.dev0) (4.12.2)\r\n",
      "Requirement already satisfied: sympy in /usr/local/lib/python3.10/dist-packages (from torch<3,>=1.12->tabm==0.0.1.dev0) (1.13.3)\r\n",
      "Requirement already satisfied: networkx in /usr/local/lib/python3.10/dist-packages (from torch<3,>=1.12->tabm==0.0.1.dev0) (3.3)\r\n",
      "Requirement already satisfied: jinja2 in /usr/local/lib/python3.10/dist-packages (from torch<3,>=1.12->tabm==0.0.1.dev0) (3.1.4)\r\n",
      "Requirement already satisfied: fsspec in /usr/local/lib/python3.10/dist-packages (from torch<3,>=1.12->tabm==0.0.1.dev0) (2024.6.1)\r\n",
      "Requirement already satisfied: MarkupSafe>=2.0 in /usr/local/lib/python3.10/dist-packages (from jinja2->torch<3,>=1.12->tabm==0.0.1.dev0) (2.1.5)\r\n",
      "Requirement already satisfied: mpmath<1.4,>=1.1.0 in /usr/local/lib/python3.10/dist-packages (from sympy->torch<3,>=1.12->tabm==0.0.1.dev0) (1.3.0)\r\n",
      "Installing collected packages: rtdl_num_embeddings, tabm\r\n",
      "Successfully installed rtdl_num_embeddings-0.0.11 tabm-0.0.1.dev0\r\n"
     ]
    }
   ],
   "source": [
    "!pip install --no-index -U --find-links=/kaggle/input/tabm-tabular-dl-library tabm==0.0.1.dev0\n",
    "!pip -q install /kaggle/input/pytorchtabnet/pytorch_tabnet-4.1.0-py3-none-any.whl"
   ]
  },
  {
   "cell_type": "code",
   "execution_count": 3,
   "id": "250b6217",
   "metadata": {
    "execution": {
     "iopub.execute_input": "2025-02-02T13:12:27.434458Z",
     "iopub.status.busy": "2025-02-02T13:12:27.434058Z",
     "iopub.status.idle": "2025-02-02T13:12:31.768143Z",
     "shell.execute_reply": "2025-02-02T13:12:31.766381Z"
    },
    "papermill": {
     "duration": 4.349547,
     "end_time": "2025-02-02T13:12:31.771229",
     "exception": false,
     "start_time": "2025-02-02T13:12:27.421682",
     "status": "completed"
    },
    "tags": []
   },
   "outputs": [],
   "source": [
    "!pip -q install /kaggle/input/tabpfn-v2/tabpfn-2.0.0-py3-none-any.whl"
   ]
  },
  {
   "cell_type": "markdown",
   "id": "9c45daaf",
   "metadata": {
    "papermill": {
     "duration": 0.010504,
     "end_time": "2025-02-02T13:12:31.792838",
     "exception": false,
     "start_time": "2025-02-02T13:12:31.782334",
     "status": "completed"
    },
    "tags": []
   },
   "source": [
    "## Step 1 : Installations"
   ]
  },
  {
   "cell_type": "code",
   "execution_count": 4,
   "id": "8b9dac3a",
   "metadata": {
    "execution": {
     "iopub.execute_input": "2025-02-02T13:12:31.817325Z",
     "iopub.status.busy": "2025-02-02T13:12:31.816902Z",
     "iopub.status.idle": "2025-02-02T13:12:50.144133Z",
     "shell.execute_reply": "2025-02-02T13:12:50.142709Z"
    },
    "papermill": {
     "duration": 18.341634,
     "end_time": "2025-02-02T13:12:50.146460",
     "exception": false,
     "start_time": "2025-02-02T13:12:31.804826",
     "status": "completed"
    },
    "tags": []
   },
   "outputs": [],
   "source": [
    "import numpy as np\n",
    "import pandas as pd\n",
    "from scipy.stats import rankdata \n",
    "\n",
    "import sys\n",
    "sys.path.append('/kaggle/input/tabm-tabular-dl-library')\n",
    "\n",
    "import os\n",
    "import tabm\n",
    "import math\n",
    "import torch\n",
    "import random\n",
    "import warnings\n",
    "from tqdm import tqdm\n",
    "import pandas as pd\n",
    "import numpy as np\n",
    "import rtdl_num_embeddings\n",
    "import matplotlib.pyplot as plt\n",
    "from typing import Optional, Tuple\n",
    "from sklearn.model_selection import KFold\n",
    "from scipy.stats import rankdata \n",
    "from colorama import Fore, Style\n",
    "from typing import Optional, Tuple\n",
    "from numpy.typing import ArrayLike\n",
    "from sklearn.base import BaseEstimator\n",
    "from sklearn.impute import SimpleImputer\n",
    "from sklearn.model_selection import KFold\n",
    "from tabm_reference import Model, make_parameter_groups\n",
    "from sklearn.preprocessing import OrdinalEncoder, QuantileTransformer\n",
    "from pytorch_tabnet.tab_model import TabNetRegressor\n",
    "\n",
    "import tensorflow as tf\n",
    "from tensorflow.keras.models import Model\n",
    "from tensorflow.keras.layers import Dense, Dropout, Input, Embedding\n",
    "from tensorflow.keras.layers import Concatenate, BatchNormalization\n",
    "import tensorflow.keras.backend as K\n",
    "from pytorch_tabnet.tab_model import TabNetRegressor\n",
    "from tabpfn import TabPFNRegressor"
   ]
  },
  {
   "cell_type": "markdown",
   "id": "52e5cda9",
   "metadata": {
    "papermill": {
     "duration": 0.010768,
     "end_time": "2025-02-02T13:12:50.168485",
     "exception": false,
     "start_time": "2025-02-02T13:12:50.157717",
     "status": "completed"
    },
    "tags": []
   },
   "source": [
    "## Step 2: Experiments Paths  to add in ensemble"
   ]
  },
  {
   "cell_type": "code",
   "execution_count": 5,
   "id": "a6972871",
   "metadata": {
    "execution": {
     "iopub.execute_input": "2025-02-02T13:12:50.192880Z",
     "iopub.status.busy": "2025-02-02T13:12:50.192112Z",
     "iopub.status.idle": "2025-02-02T13:12:50.197978Z",
     "shell.execute_reply": "2025-02-02T13:12:50.196493Z"
    },
    "papermill": {
     "duration": 0.020397,
     "end_time": "2025-02-02T13:12:50.200222",
     "exception": false,
     "start_time": "2025-02-02T13:12:50.179825",
     "status": "completed"
    },
    "tags": []
   },
   "outputs": [],
   "source": [
    "experiments = [\n",
    "\"/kaggle/input/xgboost-exp-01\",\n",
    "\"/kaggle/input/catboost-exp-01\", \n",
    "\"/kaggle/input/lgbm-exp-01\",\n",
    "\"/kaggle/input/xgboost-exp-02\",\n",
    "\"/kaggle/input/catboost-exp-02\",\n",
    "\"/kaggle/input/lgbm-exp-03\",\n",
    "\"/kaggle/input/catboost-exp-03\",\n",
    "\"/kaggle/input/tabm-exp-01\",\n",
    "\"/kaggle/input/nn-exp-01\",\n",
    "\"/kaggle/input/tn-exp-01\",\n",
    "\"/kaggle/input/tf-exp-01\",\n",
    "\"/kaggle/input/svr-exp-01\",\n",
    "\"/kaggle/input/abd-exp-01\",\n",
    "\"/kaggle/input/catboost-exp-04\",\n",
    "\"/kaggle/input/lgbm-exp-04\",\n",
    "\"/kaggle/input/tabm-exp-02\",\n",
    "\"/kaggle/input/ds-exp-01\",\n",
    "\"/kaggle/input/nn-exp-02\",\n",
    "\"/kaggle/input/nn-exp-04\",\n",
    "\"/kaggle/input/tabm-exp-03\",\n",
    "\"/kaggle/input/catboost-exp-05\",\n",
    "\"/kaggle/input/xgboost-exp-05\"\n",
    "# \"/kaggle/input/suv-ran-exp-01\" -> File not found\n",
    "]"
   ]
  },
  {
   "cell_type": "markdown",
   "id": "d067ff22",
   "metadata": {
    "papermill": {
     "duration": 0.010667,
     "end_time": "2025-02-02T13:12:50.222422",
     "exception": false,
     "start_time": "2025-02-02T13:12:50.211755",
     "status": "completed"
    },
    "tags": []
   },
   "source": [
    "## Step 3 : Competition metric"
   ]
  },
  {
   "cell_type": "code",
   "execution_count": 6,
   "id": "84f9d1df",
   "metadata": {
    "execution": {
     "iopub.execute_input": "2025-02-02T13:12:50.245920Z",
     "iopub.status.busy": "2025-02-02T13:12:50.245518Z",
     "iopub.status.idle": "2025-02-02T13:12:50.377868Z",
     "shell.execute_reply": "2025-02-02T13:12:50.376612Z"
    },
    "papermill": {
     "duration": 0.146712,
     "end_time": "2025-02-02T13:12:50.379998",
     "exception": false,
     "start_time": "2025-02-02T13:12:50.233286",
     "status": "completed"
    },
    "tags": []
   },
   "outputs": [],
   "source": [
    "import pandas as pd\n",
    "import pandas.api.types\n",
    "import numpy as np\n",
    "from lifelines.utils import concordance_index\n",
    "\n",
    "class ParticipantVisibleError(Exception):\n",
    "    pass\n",
    "\n",
    "\n",
    "def score(solution: pd.DataFrame, submission: pd.DataFrame, row_id_column_name: str) -> float:\n",
    "    \"\"\"\n",
    "    >>> import pandas as pd\n",
    "    >>> row_id_column_name = \"id\"\n",
    "    >>> y_pred = {'prediction': {0: 1.0, 1: 0.0, 2: 1.0}}\n",
    "    >>> y_pred = pd.DataFrame(y_pred)\n",
    "    >>> y_pred.insert(0, row_id_column_name, range(len(y_pred)))\n",
    "    >>> y_true = { 'efs': {0: 1.0, 1: 0.0, 2: 0.0}, 'efs_time': {0: 25.1234,1: 250.1234,2: 2500.1234}, 'race_group': {0: 'race_group_1', 1: 'race_group_1', 2: 'race_group_1'}}\n",
    "    >>> y_true = pd.DataFrame(y_true)\n",
    "    >>> y_true.insert(0, row_id_column_name, range(len(y_true)))\n",
    "    >>> score(y_true.copy(), y_pred.copy(), row_id_column_name)\n",
    "    0.75\n",
    "    \"\"\"\n",
    "\n",
    "    del solution[row_id_column_name]\n",
    "    del submission[row_id_column_name]\n",
    "    \n",
    "    event_label = 'efs'\n",
    "    interval_label = 'efs_time'\n",
    "    prediction_label = 'predictions'\n",
    "    for col in submission.columns:\n",
    "        if not pandas.api.types.is_numeric_dtype(submission[col]):\n",
    "            raise ParticipantVisibleError(f'Submission column {col} must be a number')\n",
    "    # Merging solution and submission dfs on ID\n",
    "    merged_df = pd.concat([solution, submission], axis=1)\n",
    "    merged_df.reset_index(inplace=True)\n",
    "    merged_df_race_dict = dict(merged_df.groupby(['race_group']).groups)\n",
    "    metric_list = []\n",
    "\n",
    "    for race in merged_df_race_dict.keys():\n",
    "        # Retrieving values from y_test based on index\n",
    "        indices = sorted(merged_df_race_dict[race])\n",
    "        merged_df_race = merged_df.iloc[indices]\n",
    "        # Calculate the concordance index\n",
    "        c_index_race = concordance_index(\n",
    "                        merged_df_race[interval_label],\n",
    "                        -merged_df_race[prediction_label],\n",
    "                        merged_df_race[event_label])\n",
    "        metric_list.append(c_index_race)\n",
    "    return float(np.mean(metric_list)-np.sqrt(np.var(metric_list)))"
   ]
  },
  {
   "cell_type": "markdown",
   "id": "2b864175",
   "metadata": {
    "papermill": {
     "duration": 0.010541,
     "end_time": "2025-02-02T13:12:50.401774",
     "exception": false,
     "start_time": "2025-02-02T13:12:50.391233",
     "status": "completed"
    },
    "tags": []
   },
   "source": [
    "## Step 4: Find best model "
   ]
  },
  {
   "cell_type": "code",
   "execution_count": 7,
   "id": "02d45f08",
   "metadata": {
    "execution": {
     "iopub.execute_input": "2025-02-02T13:12:50.425126Z",
     "iopub.status.busy": "2025-02-02T13:12:50.424700Z",
     "iopub.status.idle": "2025-02-02T13:12:50.429402Z",
     "shell.execute_reply": "2025-02-02T13:12:50.428288Z"
    },
    "papermill": {
     "duration": 0.018548,
     "end_time": "2025-02-02T13:12:50.431325",
     "exception": false,
     "start_time": "2025-02-02T13:12:50.412777",
     "status": "completed"
    },
    "tags": []
   },
   "outputs": [],
   "source": [
    "parquet_experiments = [\n",
    "    \"/kaggle/input/abd-exp-01\",\n",
    "    \"/kaggle/input/lgbm-exp-04\", \n",
    "    \"/kaggle/input/catboost-exp-01\", \n",
    "    \"/kaggle/input/lgbm-exp-01\", \n",
    "    \"/kaggle/input/lgbm-exp-03\", \n",
    "    \"/kaggle/input/ds-exp-01\",\n",
    "    \"/kaggle/input/nn-exp-02\",\n",
    "    \"/kaggle/input/nn-exp-04\",\n",
    "    \"/kaggle/input/tabm-exp-03\",\n",
    "    \"/kaggle/input/catboost-exp-05\",\n",
    "    \"/kaggle/input/xgboost-exp-05\"\n",
    "]"
   ]
  },
  {
   "cell_type": "code",
   "execution_count": 8,
   "id": "7442e483",
   "metadata": {
    "execution": {
     "iopub.execute_input": "2025-02-02T13:12:50.455000Z",
     "iopub.status.busy": "2025-02-02T13:12:50.454587Z",
     "iopub.status.idle": "2025-02-02T13:12:50.461127Z",
     "shell.execute_reply": "2025-02-02T13:12:50.459678Z"
    },
    "papermill": {
     "duration": 0.020712,
     "end_time": "2025-02-02T13:12:50.463210",
     "exception": false,
     "start_time": "2025-02-02T13:12:50.442498",
     "status": "completed"
    },
    "tags": []
   },
   "outputs": [],
   "source": [
    "def compute_metric_cindex(exp_name):\n",
    "    if exp_name in parquet_experiments:\n",
    "        oof    = pd.read_parquet(exp_name+'/'+(exp_name.split('/')[-1]).replace('-','_')+'_oof.parquet')\n",
    "    else:\n",
    "        oof    = pd.read_excel(exp_name+'/'+(exp_name.split('/')[-1]).replace('-','_')+'_oof.xlsx')\n",
    "        \n",
    "    y_true = oof[[\"ID\",\"efs\",\"efs_time\",\"race_group\"]].copy()\n",
    "    y_pred = oof[[\"ID\",\"predictions\"]].copy()\n",
    "    return score(y_true.copy(), y_pred.copy(), \"ID\"), oof"
   ]
  },
  {
   "cell_type": "code",
   "execution_count": 9,
   "id": "66a6520c",
   "metadata": {
    "execution": {
     "iopub.execute_input": "2025-02-02T13:12:50.486353Z",
     "iopub.status.busy": "2025-02-02T13:12:50.485920Z",
     "iopub.status.idle": "2025-02-02T13:17:22.557488Z",
     "shell.execute_reply": "2025-02-02T13:17:22.555695Z"
    },
    "papermill": {
     "duration": 272.085438,
     "end_time": "2025-02-02T13:17:22.559525",
     "exception": false,
     "start_time": "2025-02-02T13:12:50.474087",
     "status": "completed"
    },
    "tags": []
   },
   "outputs": [
    {
     "name": "stdout",
     "output_type": "stream",
     "text": [
      "C-index 0.6743662038463064 /kaggle/input/xgboost-exp-01\n",
      "C-index 0.673797469068503 /kaggle/input/catboost-exp-01\n",
      "C-index 0.6735659109490936 /kaggle/input/lgbm-exp-01\n",
      "C-index 0.6719739976829171 /kaggle/input/xgboost-exp-02\n",
      "C-index 0.6715438291634074 /kaggle/input/catboost-exp-02\n",
      "C-index 0.6744113273004797 /kaggle/input/lgbm-exp-03\n",
      "C-index 0.6750446351219317 /kaggle/input/catboost-exp-03\n",
      "C-index 0.6698445972872783 /kaggle/input/tabm-exp-01\n",
      "C-index 0.6672504731273489 /kaggle/input/nn-exp-01\n",
      "C-index 0.6082304286386713 /kaggle/input/tn-exp-01\n",
      "C-index 0.6609386133349129 /kaggle/input/tf-exp-01\n",
      "C-index 0.6061054384127524 /kaggle/input/svr-exp-01\n"
     ]
    },
    {
     "name": "stderr",
     "output_type": "stream",
     "text": [
      "<ipython-input-6-d61cf6b7d348>:36: FutureWarning: The default of observed=False is deprecated and will be changed to True in a future version of pandas. Pass observed=False to retain current behavior or observed=True to adopt the future default and silence this warning.\n",
      "  merged_df_race_dict = dict(merged_df.groupby(['race_group']).groups)\n"
     ]
    },
    {
     "name": "stdout",
     "output_type": "stream",
     "text": [
      "C-index 0.6775546112659996 /kaggle/input/abd-exp-01\n",
      "C-index 0.6228381497451487 /kaggle/input/catboost-exp-04\n",
      "C-index 0.6216961934710434 /kaggle/input/lgbm-exp-04\n",
      "C-index 0.6777472728532595 /kaggle/input/tabm-exp-02\n",
      "C-index 0.6427991982766067 /kaggle/input/ds-exp-01\n",
      "C-index 0.6541867987232884 /kaggle/input/nn-exp-02\n",
      "C-index 0.6794831551153864 /kaggle/input/nn-exp-04\n",
      "C-index 0.6323296962544612 /kaggle/input/tabm-exp-03\n",
      "C-index 0.6762789019504627 /kaggle/input/catboost-exp-05\n",
      "C-index 0.6784772956895886 /kaggle/input/xgboost-exp-05\n",
      "\n",
      "Best single model is /kaggle/input/nn-exp-04 with C-Index = 0.6794831551153864\n"
     ]
    }
   ],
   "source": [
    "best_score    = 0\n",
    "best_index    = -1\n",
    "best_ensemble = 0\n",
    "\n",
    "for k,name in enumerate(experiments):\n",
    "    s, oof = compute_metric_cindex(name)\n",
    "    if s > best_score:\n",
    "        best_score    = s\n",
    "        best_index    = name\n",
    "        best_ensemble = oof\n",
    "        \n",
    "    print(f'C-index {s} {name}') \n",
    "print()\n",
    "print(f'Best single model is {best_index} with C-Index = {best_score}')\n",
    "experiments.remove(best_index)\n",
    "first_best_index = best_index"
   ]
  },
  {
   "cell_type": "code",
   "execution_count": 10,
   "id": "46c54a61",
   "metadata": {
    "execution": {
     "iopub.execute_input": "2025-02-02T13:17:22.586001Z",
     "iopub.status.busy": "2025-02-02T13:17:22.585237Z",
     "iopub.status.idle": "2025-02-02T13:17:22.593016Z",
     "shell.execute_reply": "2025-02-02T13:17:22.591754Z"
    },
    "papermill": {
     "duration": 0.022722,
     "end_time": "2025-02-02T13:17:22.594904",
     "exception": false,
     "start_time": "2025-02-02T13:17:22.572182",
     "status": "completed"
    },
    "tags": []
   },
   "outputs": [
    {
     "data": {
      "text/plain": [
       "['/kaggle/input/xgboost-exp-01',\n",
       " '/kaggle/input/catboost-exp-01',\n",
       " '/kaggle/input/lgbm-exp-01',\n",
       " '/kaggle/input/xgboost-exp-02',\n",
       " '/kaggle/input/catboost-exp-02',\n",
       " '/kaggle/input/lgbm-exp-03',\n",
       " '/kaggle/input/catboost-exp-03',\n",
       " '/kaggle/input/tabm-exp-01',\n",
       " '/kaggle/input/nn-exp-01',\n",
       " '/kaggle/input/tn-exp-01',\n",
       " '/kaggle/input/tf-exp-01',\n",
       " '/kaggle/input/svr-exp-01',\n",
       " '/kaggle/input/abd-exp-01',\n",
       " '/kaggle/input/catboost-exp-04',\n",
       " '/kaggle/input/lgbm-exp-04',\n",
       " '/kaggle/input/tabm-exp-02',\n",
       " '/kaggle/input/ds-exp-01',\n",
       " '/kaggle/input/nn-exp-02',\n",
       " '/kaggle/input/tabm-exp-03',\n",
       " '/kaggle/input/catboost-exp-05',\n",
       " '/kaggle/input/xgboost-exp-05']"
      ]
     },
     "execution_count": 10,
     "metadata": {},
     "output_type": "execute_result"
    }
   ],
   "source": [
    "experiments"
   ]
  },
  {
   "cell_type": "markdown",
   "id": "bd157f23",
   "metadata": {
    "papermill": {
     "duration": 0.011617,
     "end_time": "2025-02-02T13:17:22.618699",
     "exception": false,
     "start_time": "2025-02-02T13:17:22.607082",
     "status": "completed"
    },
    "tags": []
   },
   "source": [
    "## Step 5: Iterations for hill climbing"
   ]
  },
  {
   "cell_type": "code",
   "execution_count": 11,
   "id": "97d9938b",
   "metadata": {
    "execution": {
     "iopub.execute_input": "2025-02-02T13:17:22.643931Z",
     "iopub.status.busy": "2025-02-02T13:17:22.643582Z",
     "iopub.status.idle": "2025-02-02T13:17:22.648008Z",
     "shell.execute_reply": "2025-02-02T13:17:22.646886Z"
    },
    "papermill": {
     "duration": 0.018891,
     "end_time": "2025-02-02T13:17:22.649754",
     "exception": false,
     "start_time": "2025-02-02T13:17:22.630863",
     "status": "completed"
    },
    "tags": []
   },
   "outputs": [],
   "source": [
    "USE_NEGATIVE_WGT = True"
   ]
  },
  {
   "cell_type": "code",
   "execution_count": 12,
   "id": "b3dba3fd",
   "metadata": {
    "execution": {
     "iopub.execute_input": "2025-02-02T13:17:22.675901Z",
     "iopub.status.busy": "2025-02-02T13:17:22.675483Z",
     "iopub.status.idle": "2025-02-02T13:17:22.679842Z",
     "shell.execute_reply": "2025-02-02T13:17:22.678698Z"
    },
    "papermill": {
     "duration": 0.019702,
     "end_time": "2025-02-02T13:17:22.681807",
     "exception": false,
     "start_time": "2025-02-02T13:17:22.662105",
     "status": "completed"
    },
    "tags": []
   },
   "outputs": [],
   "source": [
    "indices        = [best_index]\n",
    "old_best_score = best_score"
   ]
  },
  {
   "cell_type": "code",
   "execution_count": 13,
   "id": "0b476b73",
   "metadata": {
    "execution": {
     "iopub.execute_input": "2025-02-02T13:17:22.707439Z",
     "iopub.status.busy": "2025-02-02T13:17:22.707039Z",
     "iopub.status.idle": "2025-02-02T13:17:22.712455Z",
     "shell.execute_reply": "2025-02-02T13:17:22.710878Z"
    },
    "papermill": {
     "duration": 0.020547,
     "end_time": "2025-02-02T13:17:22.714580",
     "exception": false,
     "start_time": "2025-02-02T13:17:22.694033",
     "status": "completed"
    },
    "tags": []
   },
   "outputs": [],
   "source": [
    "# PREPARE/MOVE VARIABLES TO GPU FOR SPEED UP\n",
    "best_ensemble = best_ensemble\n",
    "start         = -0.50\n",
    "if not USE_NEGATIVE_WGT: start = 0.01\n",
    "ww            = np.arange(start,0.51,0.01) # GPU\n",
    "nn            = len(ww)"
   ]
  },
  {
   "cell_type": "code",
   "execution_count": 14,
   "id": "26f360ab",
   "metadata": {
    "execution": {
     "iopub.execute_input": "2025-02-02T13:17:22.740663Z",
     "iopub.status.busy": "2025-02-02T13:17:22.740235Z",
     "iopub.status.idle": "2025-02-02T13:17:22.744656Z",
     "shell.execute_reply": "2025-02-02T13:17:22.743558Z"
    },
    "papermill": {
     "duration": 0.019216,
     "end_time": "2025-02-02T13:17:22.746575",
     "exception": false,
     "start_time": "2025-02-02T13:17:22.727359",
     "status": "completed"
    },
    "tags": []
   },
   "outputs": [],
   "source": [
    "# BEGIN HILL CLIMBING\n",
    "models  = [best_index]\n",
    "weights = []\n",
    "metrics = [best_score]"
   ]
  },
  {
   "cell_type": "code",
   "execution_count": 15,
   "id": "04116411",
   "metadata": {
    "execution": {
     "iopub.execute_input": "2025-02-02T13:17:22.772472Z",
     "iopub.status.busy": "2025-02-02T13:17:22.772026Z",
     "iopub.status.idle": "2025-02-02T13:17:22.779591Z",
     "shell.execute_reply": "2025-02-02T13:17:22.778475Z"
    },
    "papermill": {
     "duration": 0.022625,
     "end_time": "2025-02-02T13:17:22.781613",
     "exception": false,
     "start_time": "2025-02-02T13:17:22.758988",
     "status": "completed"
    },
    "tags": []
   },
   "outputs": [
    {
     "data": {
      "text/plain": [
       "(['/kaggle/input/nn-exp-04'],\n",
       " [0.6794831551153864],\n",
       " array([-5.0000000e-01, -4.9000000e-01, -4.8000000e-01, -4.7000000e-01,\n",
       "        -4.6000000e-01, -4.5000000e-01, -4.4000000e-01, -4.3000000e-01,\n",
       "        -4.2000000e-01, -4.1000000e-01, -4.0000000e-01, -3.9000000e-01,\n",
       "        -3.8000000e-01, -3.7000000e-01, -3.6000000e-01, -3.5000000e-01,\n",
       "        -3.4000000e-01, -3.3000000e-01, -3.2000000e-01, -3.1000000e-01,\n",
       "        -3.0000000e-01, -2.9000000e-01, -2.8000000e-01, -2.7000000e-01,\n",
       "        -2.6000000e-01, -2.5000000e-01, -2.4000000e-01, -2.3000000e-01,\n",
       "        -2.2000000e-01, -2.1000000e-01, -2.0000000e-01, -1.9000000e-01,\n",
       "        -1.8000000e-01, -1.7000000e-01, -1.6000000e-01, -1.5000000e-01,\n",
       "        -1.4000000e-01, -1.3000000e-01, -1.2000000e-01, -1.1000000e-01,\n",
       "        -1.0000000e-01, -9.0000000e-02, -8.0000000e-02, -7.0000000e-02,\n",
       "        -6.0000000e-02, -5.0000000e-02, -4.0000000e-02, -3.0000000e-02,\n",
       "        -2.0000000e-02, -1.0000000e-02,  4.4408921e-16,  1.0000000e-02,\n",
       "         2.0000000e-02,  3.0000000e-02,  4.0000000e-02,  5.0000000e-02,\n",
       "         6.0000000e-02,  7.0000000e-02,  8.0000000e-02,  9.0000000e-02,\n",
       "         1.0000000e-01,  1.1000000e-01,  1.2000000e-01,  1.3000000e-01,\n",
       "         1.4000000e-01,  1.5000000e-01,  1.6000000e-01,  1.7000000e-01,\n",
       "         1.8000000e-01,  1.9000000e-01,  2.0000000e-01,  2.1000000e-01,\n",
       "         2.2000000e-01,  2.3000000e-01,  2.4000000e-01,  2.5000000e-01,\n",
       "         2.6000000e-01,  2.7000000e-01,  2.8000000e-01,  2.9000000e-01,\n",
       "         3.0000000e-01,  3.1000000e-01,  3.2000000e-01,  3.3000000e-01,\n",
       "         3.4000000e-01,  3.5000000e-01,  3.6000000e-01,  3.7000000e-01,\n",
       "         3.8000000e-01,  3.9000000e-01,  4.0000000e-01,  4.1000000e-01,\n",
       "         4.2000000e-01,  4.3000000e-01,  4.4000000e-01,  4.5000000e-01,\n",
       "         4.6000000e-01,  4.7000000e-01,  4.8000000e-01,  4.9000000e-01,\n",
       "         5.0000000e-01]))"
      ]
     },
     "execution_count": 15,
     "metadata": {},
     "output_type": "execute_result"
    }
   ],
   "source": [
    "models, metrics, ww"
   ]
  },
  {
   "cell_type": "code",
   "execution_count": 16,
   "id": "e15b60aa",
   "metadata": {
    "execution": {
     "iopub.execute_input": "2025-02-02T13:17:22.807589Z",
     "iopub.status.busy": "2025-02-02T13:17:22.807172Z",
     "iopub.status.idle": "2025-02-02T16:53:14.602621Z",
     "shell.execute_reply": "2025-02-02T16:53:14.601509Z"
    },
    "papermill": {
     "duration": 12951.810598,
     "end_time": "2025-02-02T16:53:14.604591",
     "exception": false,
     "start_time": "2025-02-02T13:17:22.793993",
     "status": "completed"
    },
    "tags": []
   },
   "outputs": [
    {
     "name": "stdout",
     "output_type": "stream",
     "text": [
      "0th iteration\n",
      "here -> /kaggle/input/xgboost-exp-01\n"
     ]
    },
    {
     "name": "stderr",
     "output_type": "stream",
     "text": [
      "Testing weights for xgboost_exp_01: 100%|██████████| 101/101 [00:40<00:00,  2.51it/s]\n"
     ]
    },
    {
     "name": "stdout",
     "output_type": "stream",
     "text": [
      "here -> /kaggle/input/catboost-exp-01\n"
     ]
    },
    {
     "name": "stderr",
     "output_type": "stream",
     "text": [
      "Testing weights for catboost_exp_01: 100%|██████████| 101/101 [00:40<00:00,  2.51it/s]\n"
     ]
    },
    {
     "name": "stdout",
     "output_type": "stream",
     "text": [
      "here -> /kaggle/input/lgbm-exp-01\n"
     ]
    },
    {
     "name": "stderr",
     "output_type": "stream",
     "text": [
      "Testing weights for lgbm_exp_01: 100%|██████████| 101/101 [00:39<00:00,  2.53it/s]\n"
     ]
    },
    {
     "name": "stdout",
     "output_type": "stream",
     "text": [
      "here -> /kaggle/input/xgboost-exp-02\n"
     ]
    },
    {
     "name": "stderr",
     "output_type": "stream",
     "text": [
      "Testing weights for xgboost_exp_02: 100%|██████████| 101/101 [00:39<00:00,  2.53it/s]\n"
     ]
    },
    {
     "name": "stdout",
     "output_type": "stream",
     "text": [
      "here -> /kaggle/input/catboost-exp-02\n"
     ]
    },
    {
     "name": "stderr",
     "output_type": "stream",
     "text": [
      "Testing weights for catboost_exp_02: 100%|██████████| 101/101 [00:40<00:00,  2.50it/s]\n"
     ]
    },
    {
     "name": "stdout",
     "output_type": "stream",
     "text": [
      "here -> /kaggle/input/lgbm-exp-03\n"
     ]
    },
    {
     "name": "stderr",
     "output_type": "stream",
     "text": [
      "Testing weights for lgbm_exp_03: 100%|██████████| 101/101 [00:40<00:00,  2.52it/s]\n"
     ]
    },
    {
     "name": "stdout",
     "output_type": "stream",
     "text": [
      "here -> /kaggle/input/catboost-exp-03\n"
     ]
    },
    {
     "name": "stderr",
     "output_type": "stream",
     "text": [
      "Testing weights for catboost_exp_03: 100%|██████████| 101/101 [00:39<00:00,  2.54it/s]\n"
     ]
    },
    {
     "name": "stdout",
     "output_type": "stream",
     "text": [
      "here -> /kaggle/input/tabm-exp-01\n"
     ]
    },
    {
     "name": "stderr",
     "output_type": "stream",
     "text": [
      "Testing weights for tabm_exp_01: 100%|██████████| 101/101 [00:40<00:00,  2.52it/s]\n"
     ]
    },
    {
     "name": "stdout",
     "output_type": "stream",
     "text": [
      "here -> /kaggle/input/nn-exp-01\n"
     ]
    },
    {
     "name": "stderr",
     "output_type": "stream",
     "text": [
      "Testing weights for nn_exp_01: 100%|██████████| 101/101 [00:39<00:00,  2.54it/s]\n"
     ]
    },
    {
     "name": "stdout",
     "output_type": "stream",
     "text": [
      "here -> /kaggle/input/tn-exp-01\n"
     ]
    },
    {
     "name": "stderr",
     "output_type": "stream",
     "text": [
      "Testing weights for tn_exp_01: 100%|██████████| 101/101 [00:39<00:00,  2.53it/s]\n"
     ]
    },
    {
     "name": "stdout",
     "output_type": "stream",
     "text": [
      "here -> /kaggle/input/tf-exp-01\n"
     ]
    },
    {
     "name": "stderr",
     "output_type": "stream",
     "text": [
      "Testing weights for tf_exp_01: 100%|██████████| 101/101 [00:40<00:00,  2.51it/s]\n"
     ]
    },
    {
     "name": "stdout",
     "output_type": "stream",
     "text": [
      "here -> /kaggle/input/svr-exp-01\n"
     ]
    },
    {
     "name": "stderr",
     "output_type": "stream",
     "text": [
      "Testing weights for svr_exp_01: 100%|██████████| 101/101 [00:40<00:00,  2.52it/s]\n"
     ]
    },
    {
     "name": "stdout",
     "output_type": "stream",
     "text": [
      "here -> /kaggle/input/abd-exp-01\n"
     ]
    },
    {
     "name": "stderr",
     "output_type": "stream",
     "text": [
      "Testing weights for abd_exp_01:   0%|          | 0/101 [00:00<?, ?it/s]<ipython-input-6-d61cf6b7d348>:36: FutureWarning: The default of observed=False is deprecated and will be changed to True in a future version of pandas. Pass observed=False to retain current behavior or observed=True to adopt the future default and silence this warning.\n",
      "  merged_df_race_dict = dict(merged_df.groupby(['race_group']).groups)\n",
      "Testing weights for abd_exp_01:   1%|          | 1/101 [00:00<00:40,  2.48it/s]<ipython-input-6-d61cf6b7d348>:36: FutureWarning: The default of observed=False is deprecated and will be changed to True in a future version of pandas. Pass observed=False to retain current behavior or observed=True to adopt the future default and silence this warning.\n",
      "  merged_df_race_dict = dict(merged_df.groupby(['race_group']).groups)\n",
      "Testing weights for abd_exp_01:   2%|▏         | 2/101 [00:00<00:39,  2.51it/s]<ipython-input-6-d61cf6b7d348>:36: FutureWarning: The default of observed=False is deprecated and will be changed to True in a future version of pandas. Pass observed=False to retain current behavior or observed=True to adopt the future default and silence this warning.\n",
      "  merged_df_race_dict = dict(merged_df.groupby(['race_group']).groups)\n",
      "Testing weights for abd_exp_01:   3%|▎         | 3/101 [00:01<00:38,  2.52it/s]<ipython-input-6-d61cf6b7d348>:36: FutureWarning: The default of observed=False is deprecated and will be changed to True in a future version of pandas. Pass observed=False to retain current behavior or observed=True to adopt the future default and silence this warning.\n",
      "  merged_df_race_dict = dict(merged_df.groupby(['race_group']).groups)\n",
      "Testing weights for abd_exp_01:   4%|▍         | 4/101 [00:01<00:38,  2.52it/s]<ipython-input-6-d61cf6b7d348>:36: FutureWarning: The default of observed=False is deprecated and will be changed to True in a future version of pandas. Pass observed=False to retain current behavior or observed=True to adopt the future default and silence this warning.\n",
      "  merged_df_race_dict = dict(merged_df.groupby(['race_group']).groups)\n",
      "Testing weights for abd_exp_01:   5%|▍         | 5/101 [00:01<00:37,  2.53it/s]<ipython-input-6-d61cf6b7d348>:36: FutureWarning: The default of observed=False is deprecated and will be changed to True in a future version of pandas. Pass observed=False to retain current behavior or observed=True to adopt the future default and silence this warning.\n",
      "  merged_df_race_dict = dict(merged_df.groupby(['race_group']).groups)\n",
      "Testing weights for abd_exp_01:   6%|▌         | 6/101 [00:02<00:37,  2.52it/s]<ipython-input-6-d61cf6b7d348>:36: FutureWarning: The default of observed=False is deprecated and will be changed to True in a future version of pandas. Pass observed=False to retain current behavior or observed=True to adopt the future default and silence this warning.\n",
      "  merged_df_race_dict = dict(merged_df.groupby(['race_group']).groups)\n",
      "Testing weights for abd_exp_01:   7%|▋         | 7/101 [00:02<00:37,  2.52it/s]<ipython-input-6-d61cf6b7d348>:36: FutureWarning: The default of observed=False is deprecated and will be changed to True in a future version of pandas. Pass observed=False to retain current behavior or observed=True to adopt the future default and silence this warning.\n",
      "  merged_df_race_dict = dict(merged_df.groupby(['race_group']).groups)\n",
      "Testing weights for abd_exp_01:   8%|▊         | 8/101 [00:03<00:37,  2.51it/s]<ipython-input-6-d61cf6b7d348>:36: FutureWarning: The default of observed=False is deprecated and will be changed to True in a future version of pandas. Pass observed=False to retain current behavior or observed=True to adopt the future default and silence this warning.\n",
      "  merged_df_race_dict = dict(merged_df.groupby(['race_group']).groups)\n",
      "Testing weights for abd_exp_01:   9%|▉         | 9/101 [00:03<00:36,  2.51it/s]<ipython-input-6-d61cf6b7d348>:36: FutureWarning: The default of observed=False is deprecated and will be changed to True in a future version of pandas. Pass observed=False to retain current behavior or observed=True to adopt the future default and silence this warning.\n",
      "  merged_df_race_dict = dict(merged_df.groupby(['race_group']).groups)\n",
      "Testing weights for abd_exp_01:  10%|▉         | 10/101 [00:03<00:36,  2.52it/s]<ipython-input-6-d61cf6b7d348>:36: FutureWarning: The default of observed=False is deprecated and will be changed to True in a future version of pandas. Pass observed=False to retain current behavior or observed=True to adopt the future default and silence this warning.\n",
      "  merged_df_race_dict = dict(merged_df.groupby(['race_group']).groups)\n",
      "Testing weights for abd_exp_01:  11%|█         | 11/101 [00:04<00:35,  2.52it/s]<ipython-input-6-d61cf6b7d348>:36: FutureWarning: The default of observed=False is deprecated and will be changed to True in a future version of pandas. Pass observed=False to retain current behavior or observed=True to adopt the future default and silence this warning.\n",
      "  merged_df_race_dict = dict(merged_df.groupby(['race_group']).groups)\n",
      "Testing weights for abd_exp_01:  12%|█▏        | 12/101 [00:04<00:35,  2.52it/s]<ipython-input-6-d61cf6b7d348>:36: FutureWarning: The default of observed=False is deprecated and will be changed to True in a future version of pandas. Pass observed=False to retain current behavior or observed=True to adopt the future default and silence this warning.\n",
      "  merged_df_race_dict = dict(merged_df.groupby(['race_group']).groups)\n",
      "Testing weights for abd_exp_01:  13%|█▎        | 13/101 [00:05<00:34,  2.52it/s]<ipython-input-6-d61cf6b7d348>:36: FutureWarning: The default of observed=False is deprecated and will be changed to True in a future version of pandas. Pass observed=False to retain current behavior or observed=True to adopt the future default and silence this warning.\n",
      "  merged_df_race_dict = dict(merged_df.groupby(['race_group']).groups)\n",
      "Testing weights for abd_exp_01:  14%|█▍        | 14/101 [00:05<00:35,  2.45it/s]<ipython-input-6-d61cf6b7d348>:36: FutureWarning: The default of observed=False is deprecated and will be changed to True in a future version of pandas. Pass observed=False to retain current behavior or observed=True to adopt the future default and silence this warning.\n",
      "  merged_df_race_dict = dict(merged_df.groupby(['race_group']).groups)\n",
      "Testing weights for abd_exp_01:  15%|█▍        | 15/101 [00:06<00:35,  2.45it/s]<ipython-input-6-d61cf6b7d348>:36: FutureWarning: The default of observed=False is deprecated and will be changed to True in a future version of pandas. Pass observed=False to retain current behavior or observed=True to adopt the future default and silence this warning.\n",
      "  merged_df_race_dict = dict(merged_df.groupby(['race_group']).groups)\n",
      "Testing weights for abd_exp_01:  16%|█▌        | 16/101 [00:06<00:34,  2.45it/s]<ipython-input-6-d61cf6b7d348>:36: FutureWarning: The default of observed=False is deprecated and will be changed to True in a future version of pandas. Pass observed=False to retain current behavior or observed=True to adopt the future default and silence this warning.\n",
      "  merged_df_race_dict = dict(merged_df.groupby(['race_group']).groups)\n",
      "Testing weights for abd_exp_01:  17%|█▋        | 17/101 [00:06<00:33,  2.47it/s]<ipython-input-6-d61cf6b7d348>:36: FutureWarning: The default of observed=False is deprecated and will be changed to True in a future version of pandas. Pass observed=False to retain current behavior or observed=True to adopt the future default and silence this warning.\n",
      "  merged_df_race_dict = dict(merged_df.groupby(['race_group']).groups)\n",
      "Testing weights for abd_exp_01:  18%|█▊        | 18/101 [00:07<00:33,  2.49it/s]<ipython-input-6-d61cf6b7d348>:36: FutureWarning: The default of observed=False is deprecated and will be changed to True in a future version of pandas. Pass observed=False to retain current behavior or observed=True to adopt the future default and silence this warning.\n",
      "  merged_df_race_dict = dict(merged_df.groupby(['race_group']).groups)\n",
      "Testing weights for abd_exp_01:  19%|█▉        | 19/101 [00:07<00:32,  2.50it/s]<ipython-input-6-d61cf6b7d348>:36: FutureWarning: The default of observed=False is deprecated and will be changed to True in a future version of pandas. Pass observed=False to retain current behavior or observed=True to adopt the future default and silence this warning.\n",
      "  merged_df_race_dict = dict(merged_df.groupby(['race_group']).groups)\n",
      "Testing weights for abd_exp_01:  20%|█▉        | 20/101 [00:08<00:32,  2.47it/s]<ipython-input-6-d61cf6b7d348>:36: FutureWarning: The default of observed=False is deprecated and will be changed to True in a future version of pandas. Pass observed=False to retain current behavior or observed=True to adopt the future default and silence this warning.\n",
      "  merged_df_race_dict = dict(merged_df.groupby(['race_group']).groups)\n",
      "Testing weights for abd_exp_01:  21%|██        | 21/101 [00:08<00:33,  2.42it/s]<ipython-input-6-d61cf6b7d348>:36: FutureWarning: The default of observed=False is deprecated and will be changed to True in a future version of pandas. Pass observed=False to retain current behavior or observed=True to adopt the future default and silence this warning.\n",
      "  merged_df_race_dict = dict(merged_df.groupby(['race_group']).groups)\n",
      "Testing weights for abd_exp_01:  22%|██▏       | 22/101 [00:08<00:32,  2.45it/s]<ipython-input-6-d61cf6b7d348>:36: FutureWarning: The default of observed=False is deprecated and will be changed to True in a future version of pandas. Pass observed=False to retain current behavior or observed=True to adopt the future default and silence this warning.\n",
      "  merged_df_race_dict = dict(merged_df.groupby(['race_group']).groups)\n",
      "Testing weights for abd_exp_01:  23%|██▎       | 23/101 [00:09<00:31,  2.46it/s]<ipython-input-6-d61cf6b7d348>:36: FutureWarning: The default of observed=False is deprecated and will be changed to True in a future version of pandas. Pass observed=False to retain current behavior or observed=True to adopt the future default and silence this warning.\n",
      "  merged_df_race_dict = dict(merged_df.groupby(['race_group']).groups)\n",
      "Testing weights for abd_exp_01:  24%|██▍       | 24/101 [00:09<00:31,  2.45it/s]<ipython-input-6-d61cf6b7d348>:36: FutureWarning: The default of observed=False is deprecated and will be changed to True in a future version of pandas. Pass observed=False to retain current behavior or observed=True to adopt the future default and silence this warning.\n",
      "  merged_df_race_dict = dict(merged_df.groupby(['race_group']).groups)\n",
      "Testing weights for abd_exp_01:  25%|██▍       | 25/101 [00:10<00:30,  2.48it/s]<ipython-input-6-d61cf6b7d348>:36: FutureWarning: The default of observed=False is deprecated and will be changed to True in a future version of pandas. Pass observed=False to retain current behavior or observed=True to adopt the future default and silence this warning.\n",
      "  merged_df_race_dict = dict(merged_df.groupby(['race_group']).groups)\n",
      "Testing weights for abd_exp_01:  26%|██▌       | 26/101 [00:10<00:29,  2.50it/s]<ipython-input-6-d61cf6b7d348>:36: FutureWarning: The default of observed=False is deprecated and will be changed to True in a future version of pandas. Pass observed=False to retain current behavior or observed=True to adopt the future default and silence this warning.\n",
      "  merged_df_race_dict = dict(merged_df.groupby(['race_group']).groups)\n",
      "Testing weights for abd_exp_01:  27%|██▋       | 27/101 [00:10<00:29,  2.51it/s]<ipython-input-6-d61cf6b7d348>:36: FutureWarning: The default of observed=False is deprecated and will be changed to True in a future version of pandas. Pass observed=False to retain current behavior or observed=True to adopt the future default and silence this warning.\n",
      "  merged_df_race_dict = dict(merged_df.groupby(['race_group']).groups)\n",
      "Testing weights for abd_exp_01:  28%|██▊       | 28/101 [00:11<00:28,  2.52it/s]<ipython-input-6-d61cf6b7d348>:36: FutureWarning: The default of observed=False is deprecated and will be changed to True in a future version of pandas. Pass observed=False to retain current behavior or observed=True to adopt the future default and silence this warning.\n",
      "  merged_df_race_dict = dict(merged_df.groupby(['race_group']).groups)\n",
      "Testing weights for abd_exp_01:  29%|██▊       | 29/101 [00:11<00:28,  2.51it/s]<ipython-input-6-d61cf6b7d348>:36: FutureWarning: The default of observed=False is deprecated and will be changed to True in a future version of pandas. Pass observed=False to retain current behavior or observed=True to adopt the future default and silence this warning.\n",
      "  merged_df_race_dict = dict(merged_df.groupby(['race_group']).groups)\n",
      "Testing weights for abd_exp_01:  30%|██▉       | 30/101 [00:12<00:28,  2.52it/s]<ipython-input-6-d61cf6b7d348>:36: FutureWarning: The default of observed=False is deprecated and will be changed to True in a future version of pandas. Pass observed=False to retain current behavior or observed=True to adopt the future default and silence this warning.\n",
      "  merged_df_race_dict = dict(merged_df.groupby(['race_group']).groups)\n",
      "Testing weights for abd_exp_01:  31%|███       | 31/101 [00:12<00:27,  2.52it/s]<ipython-input-6-d61cf6b7d348>:36: FutureWarning: The default of observed=False is deprecated and will be changed to True in a future version of pandas. Pass observed=False to retain current behavior or observed=True to adopt the future default and silence this warning.\n",
      "  merged_df_race_dict = dict(merged_df.groupby(['race_group']).groups)\n",
      "Testing weights for abd_exp_01:  32%|███▏      | 32/101 [00:12<00:27,  2.53it/s]<ipython-input-6-d61cf6b7d348>:36: FutureWarning: The default of observed=False is deprecated and will be changed to True in a future version of pandas. Pass observed=False to retain current behavior or observed=True to adopt the future default and silence this warning.\n",
      "  merged_df_race_dict = dict(merged_df.groupby(['race_group']).groups)\n",
      "Testing weights for abd_exp_01:  33%|███▎      | 33/101 [00:13<00:27,  2.51it/s]<ipython-input-6-d61cf6b7d348>:36: FutureWarning: The default of observed=False is deprecated and will be changed to True in a future version of pandas. Pass observed=False to retain current behavior or observed=True to adopt the future default and silence this warning.\n",
      "  merged_df_race_dict = dict(merged_df.groupby(['race_group']).groups)\n",
      "Testing weights for abd_exp_01:  34%|███▎      | 34/101 [00:13<00:26,  2.52it/s]<ipython-input-6-d61cf6b7d348>:36: FutureWarning: The default of observed=False is deprecated and will be changed to True in a future version of pandas. Pass observed=False to retain current behavior or observed=True to adopt the future default and silence this warning.\n",
      "  merged_df_race_dict = dict(merged_df.groupby(['race_group']).groups)\n",
      "Testing weights for abd_exp_01:  35%|███▍      | 35/101 [00:14<00:26,  2.53it/s]<ipython-input-6-d61cf6b7d348>:36: FutureWarning: The default of observed=False is deprecated and will be changed to True in a future version of pandas. Pass observed=False to retain current behavior or observed=True to adopt the future default and silence this warning.\n",
      "  merged_df_race_dict = dict(merged_df.groupby(['race_group']).groups)\n",
      "Testing weights for abd_exp_01:  36%|███▌      | 36/101 [00:14<00:25,  2.53it/s]<ipython-input-6-d61cf6b7d348>:36: FutureWarning: The default of observed=False is deprecated and will be changed to True in a future version of pandas. Pass observed=False to retain current behavior or observed=True to adopt the future default and silence this warning.\n",
      "  merged_df_race_dict = dict(merged_df.groupby(['race_group']).groups)\n",
      "Testing weights for abd_exp_01:  37%|███▋      | 37/101 [00:14<00:25,  2.54it/s]<ipython-input-6-d61cf6b7d348>:36: FutureWarning: The default of observed=False is deprecated and will be changed to True in a future version of pandas. Pass observed=False to retain current behavior or observed=True to adopt the future default and silence this warning.\n",
      "  merged_df_race_dict = dict(merged_df.groupby(['race_group']).groups)\n",
      "Testing weights for abd_exp_01:  38%|███▊      | 38/101 [00:15<00:24,  2.53it/s]<ipython-input-6-d61cf6b7d348>:36: FutureWarning: The default of observed=False is deprecated and will be changed to True in a future version of pandas. Pass observed=False to retain current behavior or observed=True to adopt the future default and silence this warning.\n",
      "  merged_df_race_dict = dict(merged_df.groupby(['race_group']).groups)\n",
      "Testing weights for abd_exp_01:  39%|███▊      | 39/101 [00:15<00:25,  2.45it/s]<ipython-input-6-d61cf6b7d348>:36: FutureWarning: The default of observed=False is deprecated and will be changed to True in a future version of pandas. Pass observed=False to retain current behavior or observed=True to adopt the future default and silence this warning.\n",
      "  merged_df_race_dict = dict(merged_df.groupby(['race_group']).groups)\n",
      "Testing weights for abd_exp_01:  40%|███▉      | 40/101 [00:16<00:24,  2.47it/s]<ipython-input-6-d61cf6b7d348>:36: FutureWarning: The default of observed=False is deprecated and will be changed to True in a future version of pandas. Pass observed=False to retain current behavior or observed=True to adopt the future default and silence this warning.\n",
      "  merged_df_race_dict = dict(merged_df.groupby(['race_group']).groups)\n",
      "Testing weights for abd_exp_01:  41%|████      | 41/101 [00:16<00:24,  2.48it/s]<ipython-input-6-d61cf6b7d348>:36: FutureWarning: The default of observed=False is deprecated and will be changed to True in a future version of pandas. Pass observed=False to retain current behavior or observed=True to adopt the future default and silence this warning.\n",
      "  merged_df_race_dict = dict(merged_df.groupby(['race_group']).groups)\n",
      "Testing weights for abd_exp_01:  42%|████▏     | 42/101 [00:16<00:23,  2.48it/s]<ipython-input-6-d61cf6b7d348>:36: FutureWarning: The default of observed=False is deprecated and will be changed to True in a future version of pandas. Pass observed=False to retain current behavior or observed=True to adopt the future default and silence this warning.\n",
      "  merged_df_race_dict = dict(merged_df.groupby(['race_group']).groups)\n",
      "Testing weights for abd_exp_01:  43%|████▎     | 43/101 [00:17<00:23,  2.48it/s]<ipython-input-6-d61cf6b7d348>:36: FutureWarning: The default of observed=False is deprecated and will be changed to True in a future version of pandas. Pass observed=False to retain current behavior or observed=True to adopt the future default and silence this warning.\n",
      "  merged_df_race_dict = dict(merged_df.groupby(['race_group']).groups)\n",
      "Testing weights for abd_exp_01:  44%|████▎     | 44/101 [00:17<00:23,  2.48it/s]<ipython-input-6-d61cf6b7d348>:36: FutureWarning: The default of observed=False is deprecated and will be changed to True in a future version of pandas. Pass observed=False to retain current behavior or observed=True to adopt the future default and silence this warning.\n",
      "  merged_df_race_dict = dict(merged_df.groupby(['race_group']).groups)\n",
      "Testing weights for abd_exp_01:  45%|████▍     | 45/101 [00:18<00:22,  2.48it/s]<ipython-input-6-d61cf6b7d348>:36: FutureWarning: The default of observed=False is deprecated and will be changed to True in a future version of pandas. Pass observed=False to retain current behavior or observed=True to adopt the future default and silence this warning.\n",
      "  merged_df_race_dict = dict(merged_df.groupby(['race_group']).groups)\n",
      "Testing weights for abd_exp_01:  46%|████▌     | 46/101 [00:18<00:22,  2.47it/s]<ipython-input-6-d61cf6b7d348>:36: FutureWarning: The default of observed=False is deprecated and will be changed to True in a future version of pandas. Pass observed=False to retain current behavior or observed=True to adopt the future default and silence this warning.\n",
      "  merged_df_race_dict = dict(merged_df.groupby(['race_group']).groups)\n",
      "Testing weights for abd_exp_01:  47%|████▋     | 47/101 [00:18<00:21,  2.46it/s]<ipython-input-6-d61cf6b7d348>:36: FutureWarning: The default of observed=False is deprecated and will be changed to True in a future version of pandas. Pass observed=False to retain current behavior or observed=True to adopt the future default and silence this warning.\n",
      "  merged_df_race_dict = dict(merged_df.groupby(['race_group']).groups)\n",
      "Testing weights for abd_exp_01:  48%|████▊     | 48/101 [00:19<00:21,  2.48it/s]<ipython-input-6-d61cf6b7d348>:36: FutureWarning: The default of observed=False is deprecated and will be changed to True in a future version of pandas. Pass observed=False to retain current behavior or observed=True to adopt the future default and silence this warning.\n",
      "  merged_df_race_dict = dict(merged_df.groupby(['race_group']).groups)\n",
      "Testing weights for abd_exp_01:  49%|████▊     | 49/101 [00:19<00:21,  2.46it/s]<ipython-input-6-d61cf6b7d348>:36: FutureWarning: The default of observed=False is deprecated and will be changed to True in a future version of pandas. Pass observed=False to retain current behavior or observed=True to adopt the future default and silence this warning.\n",
      "  merged_df_race_dict = dict(merged_df.groupby(['race_group']).groups)\n",
      "Testing weights for abd_exp_01:  50%|████▉     | 50/101 [00:20<00:20,  2.47it/s]<ipython-input-6-d61cf6b7d348>:36: FutureWarning: The default of observed=False is deprecated and will be changed to True in a future version of pandas. Pass observed=False to retain current behavior or observed=True to adopt the future default and silence this warning.\n",
      "  merged_df_race_dict = dict(merged_df.groupby(['race_group']).groups)\n",
      "Testing weights for abd_exp_01:  50%|█████     | 51/101 [00:20<00:20,  2.47it/s]<ipython-input-6-d61cf6b7d348>:36: FutureWarning: The default of observed=False is deprecated and will be changed to True in a future version of pandas. Pass observed=False to retain current behavior or observed=True to adopt the future default and silence this warning.\n",
      "  merged_df_race_dict = dict(merged_df.groupby(['race_group']).groups)\n",
      "Testing weights for abd_exp_01:  51%|█████▏    | 52/101 [00:20<00:19,  2.47it/s]<ipython-input-6-d61cf6b7d348>:36: FutureWarning: The default of observed=False is deprecated and will be changed to True in a future version of pandas. Pass observed=False to retain current behavior or observed=True to adopt the future default and silence this warning.\n",
      "  merged_df_race_dict = dict(merged_df.groupby(['race_group']).groups)\n",
      "Testing weights for abd_exp_01:  52%|█████▏    | 53/101 [00:21<00:19,  2.49it/s]<ipython-input-6-d61cf6b7d348>:36: FutureWarning: The default of observed=False is deprecated and will be changed to True in a future version of pandas. Pass observed=False to retain current behavior or observed=True to adopt the future default and silence this warning.\n",
      "  merged_df_race_dict = dict(merged_df.groupby(['race_group']).groups)\n",
      "Testing weights for abd_exp_01:  53%|█████▎    | 54/101 [00:21<00:19,  2.45it/s]<ipython-input-6-d61cf6b7d348>:36: FutureWarning: The default of observed=False is deprecated and will be changed to True in a future version of pandas. Pass observed=False to retain current behavior or observed=True to adopt the future default and silence this warning.\n",
      "  merged_df_race_dict = dict(merged_df.groupby(['race_group']).groups)\n",
      "Testing weights for abd_exp_01:  54%|█████▍    | 55/101 [00:22<00:18,  2.46it/s]<ipython-input-6-d61cf6b7d348>:36: FutureWarning: The default of observed=False is deprecated and will be changed to True in a future version of pandas. Pass observed=False to retain current behavior or observed=True to adopt the future default and silence this warning.\n",
      "  merged_df_race_dict = dict(merged_df.groupby(['race_group']).groups)\n",
      "Testing weights for abd_exp_01:  55%|█████▌    | 56/101 [00:22<00:18,  2.47it/s]<ipython-input-6-d61cf6b7d348>:36: FutureWarning: The default of observed=False is deprecated and will be changed to True in a future version of pandas. Pass observed=False to retain current behavior or observed=True to adopt the future default and silence this warning.\n",
      "  merged_df_race_dict = dict(merged_df.groupby(['race_group']).groups)\n",
      "Testing weights for abd_exp_01:  56%|█████▋    | 57/101 [00:22<00:17,  2.48it/s]<ipython-input-6-d61cf6b7d348>:36: FutureWarning: The default of observed=False is deprecated and will be changed to True in a future version of pandas. Pass observed=False to retain current behavior or observed=True to adopt the future default and silence this warning.\n",
      "  merged_df_race_dict = dict(merged_df.groupby(['race_group']).groups)\n",
      "Testing weights for abd_exp_01:  57%|█████▋    | 58/101 [00:23<00:17,  2.49it/s]<ipython-input-6-d61cf6b7d348>:36: FutureWarning: The default of observed=False is deprecated and will be changed to True in a future version of pandas. Pass observed=False to retain current behavior or observed=True to adopt the future default and silence this warning.\n",
      "  merged_df_race_dict = dict(merged_df.groupby(['race_group']).groups)\n",
      "Testing weights for abd_exp_01:  58%|█████▊    | 59/101 [00:23<00:16,  2.49it/s]<ipython-input-6-d61cf6b7d348>:36: FutureWarning: The default of observed=False is deprecated and will be changed to True in a future version of pandas. Pass observed=False to retain current behavior or observed=True to adopt the future default and silence this warning.\n",
      "  merged_df_race_dict = dict(merged_df.groupby(['race_group']).groups)\n",
      "Testing weights for abd_exp_01:  59%|█████▉    | 60/101 [00:24<00:16,  2.50it/s]<ipython-input-6-d61cf6b7d348>:36: FutureWarning: The default of observed=False is deprecated and will be changed to True in a future version of pandas. Pass observed=False to retain current behavior or observed=True to adopt the future default and silence this warning.\n",
      "  merged_df_race_dict = dict(merged_df.groupby(['race_group']).groups)\n",
      "Testing weights for abd_exp_01:  60%|██████    | 61/101 [00:24<00:15,  2.52it/s]<ipython-input-6-d61cf6b7d348>:36: FutureWarning: The default of observed=False is deprecated and will be changed to True in a future version of pandas. Pass observed=False to retain current behavior or observed=True to adopt the future default and silence this warning.\n",
      "  merged_df_race_dict = dict(merged_df.groupby(['race_group']).groups)\n",
      "Testing weights for abd_exp_01:  61%|██████▏   | 62/101 [00:24<00:15,  2.51it/s]<ipython-input-6-d61cf6b7d348>:36: FutureWarning: The default of observed=False is deprecated and will be changed to True in a future version of pandas. Pass observed=False to retain current behavior or observed=True to adopt the future default and silence this warning.\n",
      "  merged_df_race_dict = dict(merged_df.groupby(['race_group']).groups)\n",
      "Testing weights for abd_exp_01:  62%|██████▏   | 63/101 [00:25<00:15,  2.50it/s]<ipython-input-6-d61cf6b7d348>:36: FutureWarning: The default of observed=False is deprecated and will be changed to True in a future version of pandas. Pass observed=False to retain current behavior or observed=True to adopt the future default and silence this warning.\n",
      "  merged_df_race_dict = dict(merged_df.groupby(['race_group']).groups)\n",
      "Testing weights for abd_exp_01:  63%|██████▎   | 64/101 [00:25<00:15,  2.44it/s]<ipython-input-6-d61cf6b7d348>:36: FutureWarning: The default of observed=False is deprecated and will be changed to True in a future version of pandas. Pass observed=False to retain current behavior or observed=True to adopt the future default and silence this warning.\n",
      "  merged_df_race_dict = dict(merged_df.groupby(['race_group']).groups)\n",
      "Testing weights for abd_exp_01:  64%|██████▍   | 65/101 [00:26<00:14,  2.47it/s]<ipython-input-6-d61cf6b7d348>:36: FutureWarning: The default of observed=False is deprecated and will be changed to True in a future version of pandas. Pass observed=False to retain current behavior or observed=True to adopt the future default and silence this warning.\n",
      "  merged_df_race_dict = dict(merged_df.groupby(['race_group']).groups)\n",
      "Testing weights for abd_exp_01:  65%|██████▌   | 66/101 [00:26<00:14,  2.45it/s]<ipython-input-6-d61cf6b7d348>:36: FutureWarning: The default of observed=False is deprecated and will be changed to True in a future version of pandas. Pass observed=False to retain current behavior or observed=True to adopt the future default and silence this warning.\n",
      "  merged_df_race_dict = dict(merged_df.groupby(['race_group']).groups)\n",
      "Testing weights for abd_exp_01:  66%|██████▋   | 67/101 [00:26<00:13,  2.45it/s]<ipython-input-6-d61cf6b7d348>:36: FutureWarning: The default of observed=False is deprecated and will be changed to True in a future version of pandas. Pass observed=False to retain current behavior or observed=True to adopt the future default and silence this warning.\n",
      "  merged_df_race_dict = dict(merged_df.groupby(['race_group']).groups)\n",
      "Testing weights for abd_exp_01:  67%|██████▋   | 68/101 [00:27<00:13,  2.46it/s]<ipython-input-6-d61cf6b7d348>:36: FutureWarning: The default of observed=False is deprecated and will be changed to True in a future version of pandas. Pass observed=False to retain current behavior or observed=True to adopt the future default and silence this warning.\n",
      "  merged_df_race_dict = dict(merged_df.groupby(['race_group']).groups)\n",
      "Testing weights for abd_exp_01:  68%|██████▊   | 69/101 [00:27<00:12,  2.49it/s]<ipython-input-6-d61cf6b7d348>:36: FutureWarning: The default of observed=False is deprecated and will be changed to True in a future version of pandas. Pass observed=False to retain current behavior or observed=True to adopt the future default and silence this warning.\n",
      "  merged_df_race_dict = dict(merged_df.groupby(['race_group']).groups)\n",
      "Testing weights for abd_exp_01:  69%|██████▉   | 70/101 [00:28<00:12,  2.50it/s]<ipython-input-6-d61cf6b7d348>:36: FutureWarning: The default of observed=False is deprecated and will be changed to True in a future version of pandas. Pass observed=False to retain current behavior or observed=True to adopt the future default and silence this warning.\n",
      "  merged_df_race_dict = dict(merged_df.groupby(['race_group']).groups)\n",
      "Testing weights for abd_exp_01:  70%|███████   | 71/101 [00:28<00:11,  2.50it/s]<ipython-input-6-d61cf6b7d348>:36: FutureWarning: The default of observed=False is deprecated and will be changed to True in a future version of pandas. Pass observed=False to retain current behavior or observed=True to adopt the future default and silence this warning.\n",
      "  merged_df_race_dict = dict(merged_df.groupby(['race_group']).groups)\n",
      "Testing weights for abd_exp_01:  71%|███████▏  | 72/101 [00:28<00:11,  2.51it/s]<ipython-input-6-d61cf6b7d348>:36: FutureWarning: The default of observed=False is deprecated and will be changed to True in a future version of pandas. Pass observed=False to retain current behavior or observed=True to adopt the future default and silence this warning.\n",
      "  merged_df_race_dict = dict(merged_df.groupby(['race_group']).groups)\n",
      "Testing weights for abd_exp_01:  72%|███████▏  | 73/101 [00:29<00:11,  2.51it/s]<ipython-input-6-d61cf6b7d348>:36: FutureWarning: The default of observed=False is deprecated and will be changed to True in a future version of pandas. Pass observed=False to retain current behavior or observed=True to adopt the future default and silence this warning.\n",
      "  merged_df_race_dict = dict(merged_df.groupby(['race_group']).groups)\n",
      "Testing weights for abd_exp_01:  73%|███████▎  | 74/101 [00:29<00:10,  2.50it/s]<ipython-input-6-d61cf6b7d348>:36: FutureWarning: The default of observed=False is deprecated and will be changed to True in a future version of pandas. Pass observed=False to retain current behavior or observed=True to adopt the future default and silence this warning.\n",
      "  merged_df_race_dict = dict(merged_df.groupby(['race_group']).groups)\n",
      "Testing weights for abd_exp_01:  74%|███████▍  | 75/101 [00:30<00:10,  2.51it/s]<ipython-input-6-d61cf6b7d348>:36: FutureWarning: The default of observed=False is deprecated and will be changed to True in a future version of pandas. Pass observed=False to retain current behavior or observed=True to adopt the future default and silence this warning.\n",
      "  merged_df_race_dict = dict(merged_df.groupby(['race_group']).groups)\n",
      "Testing weights for abd_exp_01:  75%|███████▌  | 76/101 [00:30<00:09,  2.50it/s]<ipython-input-6-d61cf6b7d348>:36: FutureWarning: The default of observed=False is deprecated and will be changed to True in a future version of pandas. Pass observed=False to retain current behavior or observed=True to adopt the future default and silence this warning.\n",
      "  merged_df_race_dict = dict(merged_df.groupby(['race_group']).groups)\n",
      "Testing weights for abd_exp_01:  76%|███████▌  | 77/101 [00:30<00:09,  2.50it/s]<ipython-input-6-d61cf6b7d348>:36: FutureWarning: The default of observed=False is deprecated and will be changed to True in a future version of pandas. Pass observed=False to retain current behavior or observed=True to adopt the future default and silence this warning.\n",
      "  merged_df_race_dict = dict(merged_df.groupby(['race_group']).groups)\n",
      "Testing weights for abd_exp_01:  77%|███████▋  | 78/101 [00:31<00:09,  2.51it/s]<ipython-input-6-d61cf6b7d348>:36: FutureWarning: The default of observed=False is deprecated and will be changed to True in a future version of pandas. Pass observed=False to retain current behavior or observed=True to adopt the future default and silence this warning.\n",
      "  merged_df_race_dict = dict(merged_df.groupby(['race_group']).groups)\n",
      "Testing weights for abd_exp_01:  78%|███████▊  | 79/101 [00:31<00:08,  2.50it/s]<ipython-input-6-d61cf6b7d348>:36: FutureWarning: The default of observed=False is deprecated and will be changed to True in a future version of pandas. Pass observed=False to retain current behavior or observed=True to adopt the future default and silence this warning.\n",
      "  merged_df_race_dict = dict(merged_df.groupby(['race_group']).groups)\n",
      "Testing weights for abd_exp_01:  79%|███████▉  | 80/101 [00:32<00:08,  2.50it/s]<ipython-input-6-d61cf6b7d348>:36: FutureWarning: The default of observed=False is deprecated and will be changed to True in a future version of pandas. Pass observed=False to retain current behavior or observed=True to adopt the future default and silence this warning.\n",
      "  merged_df_race_dict = dict(merged_df.groupby(['race_group']).groups)\n",
      "Testing weights for abd_exp_01:  80%|████████  | 81/101 [00:32<00:08,  2.50it/s]<ipython-input-6-d61cf6b7d348>:36: FutureWarning: The default of observed=False is deprecated and will be changed to True in a future version of pandas. Pass observed=False to retain current behavior or observed=True to adopt the future default and silence this warning.\n",
      "  merged_df_race_dict = dict(merged_df.groupby(['race_group']).groups)\n",
      "Testing weights for abd_exp_01:  81%|████████  | 82/101 [00:32<00:07,  2.51it/s]<ipython-input-6-d61cf6b7d348>:36: FutureWarning: The default of observed=False is deprecated and will be changed to True in a future version of pandas. Pass observed=False to retain current behavior or observed=True to adopt the future default and silence this warning.\n",
      "  merged_df_race_dict = dict(merged_df.groupby(['race_group']).groups)\n",
      "Testing weights for abd_exp_01:  82%|████████▏ | 83/101 [00:33<00:07,  2.50it/s]<ipython-input-6-d61cf6b7d348>:36: FutureWarning: The default of observed=False is deprecated and will be changed to True in a future version of pandas. Pass observed=False to retain current behavior or observed=True to adopt the future default and silence this warning.\n",
      "  merged_df_race_dict = dict(merged_df.groupby(['race_group']).groups)\n",
      "Testing weights for abd_exp_01:  83%|████████▎ | 84/101 [00:33<00:06,  2.50it/s]<ipython-input-6-d61cf6b7d348>:36: FutureWarning: The default of observed=False is deprecated and will be changed to True in a future version of pandas. Pass observed=False to retain current behavior or observed=True to adopt the future default and silence this warning.\n",
      "  merged_df_race_dict = dict(merged_df.groupby(['race_group']).groups)\n",
      "Testing weights for abd_exp_01:  84%|████████▍ | 85/101 [00:34<00:06,  2.51it/s]<ipython-input-6-d61cf6b7d348>:36: FutureWarning: The default of observed=False is deprecated and will be changed to True in a future version of pandas. Pass observed=False to retain current behavior or observed=True to adopt the future default and silence this warning.\n",
      "  merged_df_race_dict = dict(merged_df.groupby(['race_group']).groups)\n",
      "Testing weights for abd_exp_01:  85%|████████▌ | 86/101 [00:34<00:05,  2.51it/s]<ipython-input-6-d61cf6b7d348>:36: FutureWarning: The default of observed=False is deprecated and will be changed to True in a future version of pandas. Pass observed=False to retain current behavior or observed=True to adopt the future default and silence this warning.\n",
      "  merged_df_race_dict = dict(merged_df.groupby(['race_group']).groups)\n",
      "Testing weights for abd_exp_01:  86%|████████▌ | 87/101 [00:34<00:05,  2.51it/s]<ipython-input-6-d61cf6b7d348>:36: FutureWarning: The default of observed=False is deprecated and will be changed to True in a future version of pandas. Pass observed=False to retain current behavior or observed=True to adopt the future default and silence this warning.\n",
      "  merged_df_race_dict = dict(merged_df.groupby(['race_group']).groups)\n",
      "Testing weights for abd_exp_01:  87%|████████▋ | 88/101 [00:35<00:05,  2.51it/s]<ipython-input-6-d61cf6b7d348>:36: FutureWarning: The default of observed=False is deprecated and will be changed to True in a future version of pandas. Pass observed=False to retain current behavior or observed=True to adopt the future default and silence this warning.\n",
      "  merged_df_race_dict = dict(merged_df.groupby(['race_group']).groups)\n",
      "Testing weights for abd_exp_01:  88%|████████▊ | 89/101 [00:35<00:04,  2.45it/s]<ipython-input-6-d61cf6b7d348>:36: FutureWarning: The default of observed=False is deprecated and will be changed to True in a future version of pandas. Pass observed=False to retain current behavior or observed=True to adopt the future default and silence this warning.\n",
      "  merged_df_race_dict = dict(merged_df.groupby(['race_group']).groups)\n",
      "Testing weights for abd_exp_01:  89%|████████▉ | 90/101 [00:36<00:04,  2.47it/s]<ipython-input-6-d61cf6b7d348>:36: FutureWarning: The default of observed=False is deprecated and will be changed to True in a future version of pandas. Pass observed=False to retain current behavior or observed=True to adopt the future default and silence this warning.\n",
      "  merged_df_race_dict = dict(merged_df.groupby(['race_group']).groups)\n",
      "Testing weights for abd_exp_01:  90%|█████████ | 91/101 [00:36<00:04,  2.47it/s]<ipython-input-6-d61cf6b7d348>:36: FutureWarning: The default of observed=False is deprecated and will be changed to True in a future version of pandas. Pass observed=False to retain current behavior or observed=True to adopt the future default and silence this warning.\n",
      "  merged_df_race_dict = dict(merged_df.groupby(['race_group']).groups)\n",
      "Testing weights for abd_exp_01:  91%|█████████ | 92/101 [00:36<00:03,  2.47it/s]<ipython-input-6-d61cf6b7d348>:36: FutureWarning: The default of observed=False is deprecated and will be changed to True in a future version of pandas. Pass observed=False to retain current behavior or observed=True to adopt the future default and silence this warning.\n",
      "  merged_df_race_dict = dict(merged_df.groupby(['race_group']).groups)\n",
      "Testing weights for abd_exp_01:  92%|█████████▏| 93/101 [00:37<00:03,  2.48it/s]<ipython-input-6-d61cf6b7d348>:36: FutureWarning: The default of observed=False is deprecated and will be changed to True in a future version of pandas. Pass observed=False to retain current behavior or observed=True to adopt the future default and silence this warning.\n",
      "  merged_df_race_dict = dict(merged_df.groupby(['race_group']).groups)\n",
      "Testing weights for abd_exp_01:  93%|█████████▎| 94/101 [00:37<00:02,  2.49it/s]<ipython-input-6-d61cf6b7d348>:36: FutureWarning: The default of observed=False is deprecated and will be changed to True in a future version of pandas. Pass observed=False to retain current behavior or observed=True to adopt the future default and silence this warning.\n",
      "  merged_df_race_dict = dict(merged_df.groupby(['race_group']).groups)\n",
      "Testing weights for abd_exp_01:  94%|█████████▍| 95/101 [00:38<00:02,  2.51it/s]<ipython-input-6-d61cf6b7d348>:36: FutureWarning: The default of observed=False is deprecated and will be changed to True in a future version of pandas. Pass observed=False to retain current behavior or observed=True to adopt the future default and silence this warning.\n",
      "  merged_df_race_dict = dict(merged_df.groupby(['race_group']).groups)\n",
      "Testing weights for abd_exp_01:  95%|█████████▌| 96/101 [00:38<00:01,  2.51it/s]<ipython-input-6-d61cf6b7d348>:36: FutureWarning: The default of observed=False is deprecated and will be changed to True in a future version of pandas. Pass observed=False to retain current behavior or observed=True to adopt the future default and silence this warning.\n",
      "  merged_df_race_dict = dict(merged_df.groupby(['race_group']).groups)\n",
      "Testing weights for abd_exp_01:  96%|█████████▌| 97/101 [00:38<00:01,  2.49it/s]<ipython-input-6-d61cf6b7d348>:36: FutureWarning: The default of observed=False is deprecated and will be changed to True in a future version of pandas. Pass observed=False to retain current behavior or observed=True to adopt the future default and silence this warning.\n",
      "  merged_df_race_dict = dict(merged_df.groupby(['race_group']).groups)\n",
      "Testing weights for abd_exp_01:  97%|█████████▋| 98/101 [00:39<00:01,  2.48it/s]<ipython-input-6-d61cf6b7d348>:36: FutureWarning: The default of observed=False is deprecated and will be changed to True in a future version of pandas. Pass observed=False to retain current behavior or observed=True to adopt the future default and silence this warning.\n",
      "  merged_df_race_dict = dict(merged_df.groupby(['race_group']).groups)\n",
      "Testing weights for abd_exp_01:  98%|█████████▊| 99/101 [00:39<00:00,  2.46it/s]<ipython-input-6-d61cf6b7d348>:36: FutureWarning: The default of observed=False is deprecated and will be changed to True in a future version of pandas. Pass observed=False to retain current behavior or observed=True to adopt the future default and silence this warning.\n",
      "  merged_df_race_dict = dict(merged_df.groupby(['race_group']).groups)\n",
      "Testing weights for abd_exp_01:  99%|█████████▉| 100/101 [00:40<00:00,  2.42it/s]<ipython-input-6-d61cf6b7d348>:36: FutureWarning: The default of observed=False is deprecated and will be changed to True in a future version of pandas. Pass observed=False to retain current behavior or observed=True to adopt the future default and silence this warning.\n",
      "  merged_df_race_dict = dict(merged_df.groupby(['race_group']).groups)\n",
      "Testing weights for abd_exp_01: 100%|██████████| 101/101 [00:40<00:00,  2.49it/s]\n"
     ]
    },
    {
     "name": "stdout",
     "output_type": "stream",
     "text": [
      "here -> /kaggle/input/catboost-exp-04\n"
     ]
    },
    {
     "name": "stderr",
     "output_type": "stream",
     "text": [
      "Testing weights for catboost_exp_04: 100%|██████████| 101/101 [00:40<00:00,  2.48it/s]\n"
     ]
    },
    {
     "name": "stdout",
     "output_type": "stream",
     "text": [
      "here -> /kaggle/input/lgbm-exp-04\n"
     ]
    },
    {
     "name": "stderr",
     "output_type": "stream",
     "text": [
      "Testing weights for lgbm_exp_04: 100%|██████████| 101/101 [00:39<00:00,  2.53it/s]\n"
     ]
    },
    {
     "name": "stdout",
     "output_type": "stream",
     "text": [
      "here -> /kaggle/input/tabm-exp-02\n"
     ]
    },
    {
     "name": "stderr",
     "output_type": "stream",
     "text": [
      "Testing weights for tabm_exp_02: 100%|██████████| 101/101 [00:40<00:00,  2.52it/s]\n"
     ]
    },
    {
     "name": "stdout",
     "output_type": "stream",
     "text": [
      "here -> /kaggle/input/ds-exp-01\n"
     ]
    },
    {
     "name": "stderr",
     "output_type": "stream",
     "text": [
      "Testing weights for ds_exp_01: 100%|██████████| 101/101 [00:39<00:00,  2.54it/s]\n"
     ]
    },
    {
     "name": "stdout",
     "output_type": "stream",
     "text": [
      "here -> /kaggle/input/nn-exp-02\n"
     ]
    },
    {
     "name": "stderr",
     "output_type": "stream",
     "text": [
      "Testing weights for nn_exp_02: 100%|██████████| 101/101 [00:40<00:00,  2.51it/s]\n"
     ]
    },
    {
     "name": "stdout",
     "output_type": "stream",
     "text": [
      "here -> /kaggle/input/tabm-exp-03\n"
     ]
    },
    {
     "name": "stderr",
     "output_type": "stream",
     "text": [
      "Testing weights for tabm_exp_03: 100%|██████████| 101/101 [00:40<00:00,  2.52it/s]\n"
     ]
    },
    {
     "name": "stdout",
     "output_type": "stream",
     "text": [
      "here -> /kaggle/input/catboost-exp-05\n"
     ]
    },
    {
     "name": "stderr",
     "output_type": "stream",
     "text": [
      "Testing weights for catboost_exp_05: 100%|██████████| 101/101 [00:39<00:00,  2.54it/s]\n"
     ]
    },
    {
     "name": "stdout",
     "output_type": "stream",
     "text": [
      "here -> /kaggle/input/xgboost-exp-05\n"
     ]
    },
    {
     "name": "stderr",
     "output_type": "stream",
     "text": [
      "Testing weights for xgboost_exp_05: 100%|██████████| 101/101 [00:39<00:00,  2.54it/s]\n"
     ]
    },
    {
     "name": "stdout",
     "output_type": "stream",
     "text": [
      "Iteration 1: Added /kaggle/input/xgboost-exp-05 with weight 0.4700, Score: 0.6843\n",
      "1th iteration\n",
      "here -> /kaggle/input/xgboost-exp-01\n"
     ]
    },
    {
     "name": "stderr",
     "output_type": "stream",
     "text": [
      "Testing weights for xgboost_exp_01: 100%|██████████| 101/101 [00:39<00:00,  2.53it/s]\n"
     ]
    },
    {
     "name": "stdout",
     "output_type": "stream",
     "text": [
      "here -> /kaggle/input/catboost-exp-01\n"
     ]
    },
    {
     "name": "stderr",
     "output_type": "stream",
     "text": [
      "Testing weights for catboost_exp_01: 100%|██████████| 101/101 [00:39<00:00,  2.54it/s]\n"
     ]
    },
    {
     "name": "stdout",
     "output_type": "stream",
     "text": [
      "here -> /kaggle/input/lgbm-exp-01\n"
     ]
    },
    {
     "name": "stderr",
     "output_type": "stream",
     "text": [
      "Testing weights for lgbm_exp_01: 100%|██████████| 101/101 [00:39<00:00,  2.53it/s]\n"
     ]
    },
    {
     "name": "stdout",
     "output_type": "stream",
     "text": [
      "here -> /kaggle/input/xgboost-exp-02\n"
     ]
    },
    {
     "name": "stderr",
     "output_type": "stream",
     "text": [
      "Testing weights for xgboost_exp_02: 100%|██████████| 101/101 [00:39<00:00,  2.54it/s]\n"
     ]
    },
    {
     "name": "stdout",
     "output_type": "stream",
     "text": [
      "here -> /kaggle/input/catboost-exp-02\n"
     ]
    },
    {
     "name": "stderr",
     "output_type": "stream",
     "text": [
      "Testing weights for catboost_exp_02: 100%|██████████| 101/101 [00:39<00:00,  2.53it/s]\n"
     ]
    },
    {
     "name": "stdout",
     "output_type": "stream",
     "text": [
      "here -> /kaggle/input/lgbm-exp-03\n"
     ]
    },
    {
     "name": "stderr",
     "output_type": "stream",
     "text": [
      "Testing weights for lgbm_exp_03: 100%|██████████| 101/101 [00:40<00:00,  2.52it/s]\n"
     ]
    },
    {
     "name": "stdout",
     "output_type": "stream",
     "text": [
      "here -> /kaggle/input/catboost-exp-03\n"
     ]
    },
    {
     "name": "stderr",
     "output_type": "stream",
     "text": [
      "Testing weights for catboost_exp_03: 100%|██████████| 101/101 [00:40<00:00,  2.50it/s]\n"
     ]
    },
    {
     "name": "stdout",
     "output_type": "stream",
     "text": [
      "here -> /kaggle/input/tabm-exp-01\n"
     ]
    },
    {
     "name": "stderr",
     "output_type": "stream",
     "text": [
      "Testing weights for tabm_exp_01: 100%|██████████| 101/101 [00:40<00:00,  2.51it/s]\n"
     ]
    },
    {
     "name": "stdout",
     "output_type": "stream",
     "text": [
      "here -> /kaggle/input/nn-exp-01\n"
     ]
    },
    {
     "name": "stderr",
     "output_type": "stream",
     "text": [
      "Testing weights for nn_exp_01: 100%|██████████| 101/101 [00:40<00:00,  2.50it/s]\n"
     ]
    },
    {
     "name": "stdout",
     "output_type": "stream",
     "text": [
      "here -> /kaggle/input/tn-exp-01\n"
     ]
    },
    {
     "name": "stderr",
     "output_type": "stream",
     "text": [
      "Testing weights for tn_exp_01: 100%|██████████| 101/101 [00:40<00:00,  2.49it/s]\n"
     ]
    },
    {
     "name": "stdout",
     "output_type": "stream",
     "text": [
      "here -> /kaggle/input/tf-exp-01\n"
     ]
    },
    {
     "name": "stderr",
     "output_type": "stream",
     "text": [
      "Testing weights for tf_exp_01: 100%|██████████| 101/101 [00:39<00:00,  2.53it/s]\n"
     ]
    },
    {
     "name": "stdout",
     "output_type": "stream",
     "text": [
      "here -> /kaggle/input/svr-exp-01\n"
     ]
    },
    {
     "name": "stderr",
     "output_type": "stream",
     "text": [
      "Testing weights for svr_exp_01: 100%|██████████| 101/101 [00:39<00:00,  2.53it/s]\n"
     ]
    },
    {
     "name": "stdout",
     "output_type": "stream",
     "text": [
      "here -> /kaggle/input/abd-exp-01\n"
     ]
    },
    {
     "name": "stderr",
     "output_type": "stream",
     "text": [
      "Testing weights for abd_exp_01:   0%|          | 0/101 [00:00<?, ?it/s]<ipython-input-6-d61cf6b7d348>:36: FutureWarning: The default of observed=False is deprecated and will be changed to True in a future version of pandas. Pass observed=False to retain current behavior or observed=True to adopt the future default and silence this warning.\n",
      "  merged_df_race_dict = dict(merged_df.groupby(['race_group']).groups)\n",
      "Testing weights for abd_exp_01:   1%|          | 1/101 [00:00<00:39,  2.51it/s]<ipython-input-6-d61cf6b7d348>:36: FutureWarning: The default of observed=False is deprecated and will be changed to True in a future version of pandas. Pass observed=False to retain current behavior or observed=True to adopt the future default and silence this warning.\n",
      "  merged_df_race_dict = dict(merged_df.groupby(['race_group']).groups)\n",
      "Testing weights for abd_exp_01:   2%|▏         | 2/101 [00:00<00:39,  2.52it/s]<ipython-input-6-d61cf6b7d348>:36: FutureWarning: The default of observed=False is deprecated and will be changed to True in a future version of pandas. Pass observed=False to retain current behavior or observed=True to adopt the future default and silence this warning.\n",
      "  merged_df_race_dict = dict(merged_df.groupby(['race_group']).groups)\n",
      "Testing weights for abd_exp_01:   3%|▎         | 3/101 [00:01<00:38,  2.54it/s]<ipython-input-6-d61cf6b7d348>:36: FutureWarning: The default of observed=False is deprecated and will be changed to True in a future version of pandas. Pass observed=False to retain current behavior or observed=True to adopt the future default and silence this warning.\n",
      "  merged_df_race_dict = dict(merged_df.groupby(['race_group']).groups)\n",
      "Testing weights for abd_exp_01:   4%|▍         | 4/101 [00:01<00:38,  2.54it/s]<ipython-input-6-d61cf6b7d348>:36: FutureWarning: The default of observed=False is deprecated and will be changed to True in a future version of pandas. Pass observed=False to retain current behavior or observed=True to adopt the future default and silence this warning.\n",
      "  merged_df_race_dict = dict(merged_df.groupby(['race_group']).groups)\n",
      "Testing weights for abd_exp_01:   5%|▍         | 5/101 [00:01<00:37,  2.54it/s]<ipython-input-6-d61cf6b7d348>:36: FutureWarning: The default of observed=False is deprecated and will be changed to True in a future version of pandas. Pass observed=False to retain current behavior or observed=True to adopt the future default and silence this warning.\n",
      "  merged_df_race_dict = dict(merged_df.groupby(['race_group']).groups)\n",
      "Testing weights for abd_exp_01:   6%|▌         | 6/101 [00:02<00:37,  2.55it/s]<ipython-input-6-d61cf6b7d348>:36: FutureWarning: The default of observed=False is deprecated and will be changed to True in a future version of pandas. Pass observed=False to retain current behavior or observed=True to adopt the future default and silence this warning.\n",
      "  merged_df_race_dict = dict(merged_df.groupby(['race_group']).groups)\n",
      "Testing weights for abd_exp_01:   7%|▋         | 7/101 [00:02<00:37,  2.54it/s]<ipython-input-6-d61cf6b7d348>:36: FutureWarning: The default of observed=False is deprecated and will be changed to True in a future version of pandas. Pass observed=False to retain current behavior or observed=True to adopt the future default and silence this warning.\n",
      "  merged_df_race_dict = dict(merged_df.groupby(['race_group']).groups)\n",
      "Testing weights for abd_exp_01:   8%|▊         | 8/101 [00:03<00:36,  2.54it/s]<ipython-input-6-d61cf6b7d348>:36: FutureWarning: The default of observed=False is deprecated and will be changed to True in a future version of pandas. Pass observed=False to retain current behavior or observed=True to adopt the future default and silence this warning.\n",
      "  merged_df_race_dict = dict(merged_df.groupby(['race_group']).groups)\n",
      "Testing weights for abd_exp_01:   9%|▉         | 9/101 [00:03<00:36,  2.53it/s]<ipython-input-6-d61cf6b7d348>:36: FutureWarning: The default of observed=False is deprecated and will be changed to True in a future version of pandas. Pass observed=False to retain current behavior or observed=True to adopt the future default and silence this warning.\n",
      "  merged_df_race_dict = dict(merged_df.groupby(['race_group']).groups)\n",
      "Testing weights for abd_exp_01:  10%|▉         | 10/101 [00:03<00:36,  2.52it/s]<ipython-input-6-d61cf6b7d348>:36: FutureWarning: The default of observed=False is deprecated and will be changed to True in a future version of pandas. Pass observed=False to retain current behavior or observed=True to adopt the future default and silence this warning.\n",
      "  merged_df_race_dict = dict(merged_df.groupby(['race_group']).groups)\n",
      "Testing weights for abd_exp_01:  11%|█         | 11/101 [00:04<00:35,  2.53it/s]<ipython-input-6-d61cf6b7d348>:36: FutureWarning: The default of observed=False is deprecated and will be changed to True in a future version of pandas. Pass observed=False to retain current behavior or observed=True to adopt the future default and silence this warning.\n",
      "  merged_df_race_dict = dict(merged_df.groupby(['race_group']).groups)\n",
      "Testing weights for abd_exp_01:  12%|█▏        | 12/101 [00:04<00:35,  2.53it/s]<ipython-input-6-d61cf6b7d348>:36: FutureWarning: The default of observed=False is deprecated and will be changed to True in a future version of pandas. Pass observed=False to retain current behavior or observed=True to adopt the future default and silence this warning.\n",
      "  merged_df_race_dict = dict(merged_df.groupby(['race_group']).groups)\n",
      "Testing weights for abd_exp_01:  13%|█▎        | 13/101 [00:05<00:34,  2.53it/s]<ipython-input-6-d61cf6b7d348>:36: FutureWarning: The default of observed=False is deprecated and will be changed to True in a future version of pandas. Pass observed=False to retain current behavior or observed=True to adopt the future default and silence this warning.\n",
      "  merged_df_race_dict = dict(merged_df.groupby(['race_group']).groups)\n",
      "Testing weights for abd_exp_01:  14%|█▍        | 14/101 [00:05<00:34,  2.53it/s]<ipython-input-6-d61cf6b7d348>:36: FutureWarning: The default of observed=False is deprecated and will be changed to True in a future version of pandas. Pass observed=False to retain current behavior or observed=True to adopt the future default and silence this warning.\n",
      "  merged_df_race_dict = dict(merged_df.groupby(['race_group']).groups)\n",
      "Testing weights for abd_exp_01:  15%|█▍        | 15/101 [00:05<00:34,  2.53it/s]<ipython-input-6-d61cf6b7d348>:36: FutureWarning: The default of observed=False is deprecated and will be changed to True in a future version of pandas. Pass observed=False to retain current behavior or observed=True to adopt the future default and silence this warning.\n",
      "  merged_df_race_dict = dict(merged_df.groupby(['race_group']).groups)\n",
      "Testing weights for abd_exp_01:  16%|█▌        | 16/101 [00:06<00:33,  2.53it/s]<ipython-input-6-d61cf6b7d348>:36: FutureWarning: The default of observed=False is deprecated and will be changed to True in a future version of pandas. Pass observed=False to retain current behavior or observed=True to adopt the future default and silence this warning.\n",
      "  merged_df_race_dict = dict(merged_df.groupby(['race_group']).groups)\n",
      "Testing weights for abd_exp_01:  17%|█▋        | 17/101 [00:06<00:33,  2.48it/s]<ipython-input-6-d61cf6b7d348>:36: FutureWarning: The default of observed=False is deprecated and will be changed to True in a future version of pandas. Pass observed=False to retain current behavior or observed=True to adopt the future default and silence this warning.\n",
      "  merged_df_race_dict = dict(merged_df.groupby(['race_group']).groups)\n",
      "Testing weights for abd_exp_01:  18%|█▊        | 18/101 [00:07<00:33,  2.50it/s]<ipython-input-6-d61cf6b7d348>:36: FutureWarning: The default of observed=False is deprecated and will be changed to True in a future version of pandas. Pass observed=False to retain current behavior or observed=True to adopt the future default and silence this warning.\n",
      "  merged_df_race_dict = dict(merged_df.groupby(['race_group']).groups)\n",
      "Testing weights for abd_exp_01:  19%|█▉        | 19/101 [00:07<00:32,  2.52it/s]<ipython-input-6-d61cf6b7d348>:36: FutureWarning: The default of observed=False is deprecated and will be changed to True in a future version of pandas. Pass observed=False to retain current behavior or observed=True to adopt the future default and silence this warning.\n",
      "  merged_df_race_dict = dict(merged_df.groupby(['race_group']).groups)\n",
      "Testing weights for abd_exp_01:  20%|█▉        | 20/101 [00:07<00:32,  2.51it/s]<ipython-input-6-d61cf6b7d348>:36: FutureWarning: The default of observed=False is deprecated and will be changed to True in a future version of pandas. Pass observed=False to retain current behavior or observed=True to adopt the future default and silence this warning.\n",
      "  merged_df_race_dict = dict(merged_df.groupby(['race_group']).groups)\n",
      "Testing weights for abd_exp_01:  21%|██        | 21/101 [00:08<00:31,  2.52it/s]<ipython-input-6-d61cf6b7d348>:36: FutureWarning: The default of observed=False is deprecated and will be changed to True in a future version of pandas. Pass observed=False to retain current behavior or observed=True to adopt the future default and silence this warning.\n",
      "  merged_df_race_dict = dict(merged_df.groupby(['race_group']).groups)\n",
      "Testing weights for abd_exp_01:  22%|██▏       | 22/101 [00:08<00:31,  2.52it/s]<ipython-input-6-d61cf6b7d348>:36: FutureWarning: The default of observed=False is deprecated and will be changed to True in a future version of pandas. Pass observed=False to retain current behavior or observed=True to adopt the future default and silence this warning.\n",
      "  merged_df_race_dict = dict(merged_df.groupby(['race_group']).groups)\n",
      "Testing weights for abd_exp_01:  23%|██▎       | 23/101 [00:09<00:30,  2.52it/s]<ipython-input-6-d61cf6b7d348>:36: FutureWarning: The default of observed=False is deprecated and will be changed to True in a future version of pandas. Pass observed=False to retain current behavior or observed=True to adopt the future default and silence this warning.\n",
      "  merged_df_race_dict = dict(merged_df.groupby(['race_group']).groups)\n",
      "Testing weights for abd_exp_01:  24%|██▍       | 24/101 [00:09<00:30,  2.54it/s]<ipython-input-6-d61cf6b7d348>:36: FutureWarning: The default of observed=False is deprecated and will be changed to True in a future version of pandas. Pass observed=False to retain current behavior or observed=True to adopt the future default and silence this warning.\n",
      "  merged_df_race_dict = dict(merged_df.groupby(['race_group']).groups)\n",
      "Testing weights for abd_exp_01:  25%|██▍       | 25/101 [00:09<00:30,  2.52it/s]<ipython-input-6-d61cf6b7d348>:36: FutureWarning: The default of observed=False is deprecated and will be changed to True in a future version of pandas. Pass observed=False to retain current behavior or observed=True to adopt the future default and silence this warning.\n",
      "  merged_df_race_dict = dict(merged_df.groupby(['race_group']).groups)\n",
      "Testing weights for abd_exp_01:  26%|██▌       | 26/101 [00:10<00:29,  2.53it/s]<ipython-input-6-d61cf6b7d348>:36: FutureWarning: The default of observed=False is deprecated and will be changed to True in a future version of pandas. Pass observed=False to retain current behavior or observed=True to adopt the future default and silence this warning.\n",
      "  merged_df_race_dict = dict(merged_df.groupby(['race_group']).groups)\n",
      "Testing weights for abd_exp_01:  27%|██▋       | 27/101 [00:10<00:29,  2.53it/s]<ipython-input-6-d61cf6b7d348>:36: FutureWarning: The default of observed=False is deprecated and will be changed to True in a future version of pandas. Pass observed=False to retain current behavior or observed=True to adopt the future default and silence this warning.\n",
      "  merged_df_race_dict = dict(merged_df.groupby(['race_group']).groups)\n",
      "Testing weights for abd_exp_01:  28%|██▊       | 28/101 [00:11<00:28,  2.53it/s]<ipython-input-6-d61cf6b7d348>:36: FutureWarning: The default of observed=False is deprecated and will be changed to True in a future version of pandas. Pass observed=False to retain current behavior or observed=True to adopt the future default and silence this warning.\n",
      "  merged_df_race_dict = dict(merged_df.groupby(['race_group']).groups)\n",
      "Testing weights for abd_exp_01:  29%|██▊       | 29/101 [00:11<00:28,  2.54it/s]<ipython-input-6-d61cf6b7d348>:36: FutureWarning: The default of observed=False is deprecated and will be changed to True in a future version of pandas. Pass observed=False to retain current behavior or observed=True to adopt the future default and silence this warning.\n",
      "  merged_df_race_dict = dict(merged_df.groupby(['race_group']).groups)\n",
      "Testing weights for abd_exp_01:  30%|██▉       | 30/101 [00:11<00:28,  2.53it/s]<ipython-input-6-d61cf6b7d348>:36: FutureWarning: The default of observed=False is deprecated and will be changed to True in a future version of pandas. Pass observed=False to retain current behavior or observed=True to adopt the future default and silence this warning.\n",
      "  merged_df_race_dict = dict(merged_df.groupby(['race_group']).groups)\n",
      "Testing weights for abd_exp_01:  31%|███       | 31/101 [00:12<00:27,  2.53it/s]<ipython-input-6-d61cf6b7d348>:36: FutureWarning: The default of observed=False is deprecated and will be changed to True in a future version of pandas. Pass observed=False to retain current behavior or observed=True to adopt the future default and silence this warning.\n",
      "  merged_df_race_dict = dict(merged_df.groupby(['race_group']).groups)\n",
      "Testing weights for abd_exp_01:  32%|███▏      | 32/101 [00:12<00:27,  2.51it/s]<ipython-input-6-d61cf6b7d348>:36: FutureWarning: The default of observed=False is deprecated and will be changed to True in a future version of pandas. Pass observed=False to retain current behavior or observed=True to adopt the future default and silence this warning.\n",
      "  merged_df_race_dict = dict(merged_df.groupby(['race_group']).groups)\n",
      "Testing weights for abd_exp_01:  33%|███▎      | 33/101 [00:13<00:27,  2.51it/s]<ipython-input-6-d61cf6b7d348>:36: FutureWarning: The default of observed=False is deprecated and will be changed to True in a future version of pandas. Pass observed=False to retain current behavior or observed=True to adopt the future default and silence this warning.\n",
      "  merged_df_race_dict = dict(merged_df.groupby(['race_group']).groups)\n",
      "Testing weights for abd_exp_01:  34%|███▎      | 34/101 [00:13<00:26,  2.53it/s]<ipython-input-6-d61cf6b7d348>:36: FutureWarning: The default of observed=False is deprecated and will be changed to True in a future version of pandas. Pass observed=False to retain current behavior or observed=True to adopt the future default and silence this warning.\n",
      "  merged_df_race_dict = dict(merged_df.groupby(['race_group']).groups)\n",
      "Testing weights for abd_exp_01:  35%|███▍      | 35/101 [00:13<00:26,  2.54it/s]<ipython-input-6-d61cf6b7d348>:36: FutureWarning: The default of observed=False is deprecated and will be changed to True in a future version of pandas. Pass observed=False to retain current behavior or observed=True to adopt the future default and silence this warning.\n",
      "  merged_df_race_dict = dict(merged_df.groupby(['race_group']).groups)\n",
      "Testing weights for abd_exp_01:  36%|███▌      | 36/101 [00:14<00:26,  2.48it/s]<ipython-input-6-d61cf6b7d348>:36: FutureWarning: The default of observed=False is deprecated and will be changed to True in a future version of pandas. Pass observed=False to retain current behavior or observed=True to adopt the future default and silence this warning.\n",
      "  merged_df_race_dict = dict(merged_df.groupby(['race_group']).groups)\n",
      "Testing weights for abd_exp_01:  37%|███▋      | 37/101 [00:14<00:26,  2.43it/s]<ipython-input-6-d61cf6b7d348>:36: FutureWarning: The default of observed=False is deprecated and will be changed to True in a future version of pandas. Pass observed=False to retain current behavior or observed=True to adopt the future default and silence this warning.\n",
      "  merged_df_race_dict = dict(merged_df.groupby(['race_group']).groups)\n",
      "Testing weights for abd_exp_01:  38%|███▊      | 38/101 [00:15<00:25,  2.47it/s]<ipython-input-6-d61cf6b7d348>:36: FutureWarning: The default of observed=False is deprecated and will be changed to True in a future version of pandas. Pass observed=False to retain current behavior or observed=True to adopt the future default and silence this warning.\n",
      "  merged_df_race_dict = dict(merged_df.groupby(['race_group']).groups)\n",
      "Testing weights for abd_exp_01:  39%|███▊      | 39/101 [00:15<00:24,  2.49it/s]<ipython-input-6-d61cf6b7d348>:36: FutureWarning: The default of observed=False is deprecated and will be changed to True in a future version of pandas. Pass observed=False to retain current behavior or observed=True to adopt the future default and silence this warning.\n",
      "  merged_df_race_dict = dict(merged_df.groupby(['race_group']).groups)\n",
      "Testing weights for abd_exp_01:  40%|███▉      | 40/101 [00:15<00:24,  2.48it/s]<ipython-input-6-d61cf6b7d348>:36: FutureWarning: The default of observed=False is deprecated and will be changed to True in a future version of pandas. Pass observed=False to retain current behavior or observed=True to adopt the future default and silence this warning.\n",
      "  merged_df_race_dict = dict(merged_df.groupby(['race_group']).groups)\n",
      "Testing weights for abd_exp_01:  41%|████      | 41/101 [00:16<00:24,  2.49it/s]<ipython-input-6-d61cf6b7d348>:36: FutureWarning: The default of observed=False is deprecated and will be changed to True in a future version of pandas. Pass observed=False to retain current behavior or observed=True to adopt the future default and silence this warning.\n",
      "  merged_df_race_dict = dict(merged_df.groupby(['race_group']).groups)\n",
      "Testing weights for abd_exp_01:  42%|████▏     | 42/101 [00:16<00:24,  2.44it/s]<ipython-input-6-d61cf6b7d348>:36: FutureWarning: The default of observed=False is deprecated and will be changed to True in a future version of pandas. Pass observed=False to retain current behavior or observed=True to adopt the future default and silence this warning.\n",
      "  merged_df_race_dict = dict(merged_df.groupby(['race_group']).groups)\n",
      "Testing weights for abd_exp_01:  43%|████▎     | 43/101 [00:17<00:23,  2.45it/s]<ipython-input-6-d61cf6b7d348>:36: FutureWarning: The default of observed=False is deprecated and will be changed to True in a future version of pandas. Pass observed=False to retain current behavior or observed=True to adopt the future default and silence this warning.\n",
      "  merged_df_race_dict = dict(merged_df.groupby(['race_group']).groups)\n",
      "Testing weights for abd_exp_01:  44%|████▎     | 44/101 [00:17<00:23,  2.47it/s]<ipython-input-6-d61cf6b7d348>:36: FutureWarning: The default of observed=False is deprecated and will be changed to True in a future version of pandas. Pass observed=False to retain current behavior or observed=True to adopt the future default and silence this warning.\n",
      "  merged_df_race_dict = dict(merged_df.groupby(['race_group']).groups)\n",
      "Testing weights for abd_exp_01:  45%|████▍     | 45/101 [00:17<00:22,  2.48it/s]<ipython-input-6-d61cf6b7d348>:36: FutureWarning: The default of observed=False is deprecated and will be changed to True in a future version of pandas. Pass observed=False to retain current behavior or observed=True to adopt the future default and silence this warning.\n",
      "  merged_df_race_dict = dict(merged_df.groupby(['race_group']).groups)\n",
      "Testing weights for abd_exp_01:  46%|████▌     | 46/101 [00:18<00:22,  2.50it/s]<ipython-input-6-d61cf6b7d348>:36: FutureWarning: The default of observed=False is deprecated and will be changed to True in a future version of pandas. Pass observed=False to retain current behavior or observed=True to adopt the future default and silence this warning.\n",
      "  merged_df_race_dict = dict(merged_df.groupby(['race_group']).groups)\n",
      "Testing weights for abd_exp_01:  47%|████▋     | 47/101 [00:18<00:21,  2.50it/s]<ipython-input-6-d61cf6b7d348>:36: FutureWarning: The default of observed=False is deprecated and will be changed to True in a future version of pandas. Pass observed=False to retain current behavior or observed=True to adopt the future default and silence this warning.\n",
      "  merged_df_race_dict = dict(merged_df.groupby(['race_group']).groups)\n",
      "Testing weights for abd_exp_01:  48%|████▊     | 48/101 [00:19<00:21,  2.51it/s]<ipython-input-6-d61cf6b7d348>:36: FutureWarning: The default of observed=False is deprecated and will be changed to True in a future version of pandas. Pass observed=False to retain current behavior or observed=True to adopt the future default and silence this warning.\n",
      "  merged_df_race_dict = dict(merged_df.groupby(['race_group']).groups)\n",
      "Testing weights for abd_exp_01:  49%|████▊     | 49/101 [00:19<00:20,  2.52it/s]<ipython-input-6-d61cf6b7d348>:36: FutureWarning: The default of observed=False is deprecated and will be changed to True in a future version of pandas. Pass observed=False to retain current behavior or observed=True to adopt the future default and silence this warning.\n",
      "  merged_df_race_dict = dict(merged_df.groupby(['race_group']).groups)\n",
      "Testing weights for abd_exp_01:  50%|████▉     | 50/101 [00:19<00:20,  2.53it/s]<ipython-input-6-d61cf6b7d348>:36: FutureWarning: The default of observed=False is deprecated and will be changed to True in a future version of pandas. Pass observed=False to retain current behavior or observed=True to adopt the future default and silence this warning.\n",
      "  merged_df_race_dict = dict(merged_df.groupby(['race_group']).groups)\n",
      "Testing weights for abd_exp_01:  50%|█████     | 51/101 [00:20<00:19,  2.53it/s]<ipython-input-6-d61cf6b7d348>:36: FutureWarning: The default of observed=False is deprecated and will be changed to True in a future version of pandas. Pass observed=False to retain current behavior or observed=True to adopt the future default and silence this warning.\n",
      "  merged_df_race_dict = dict(merged_df.groupby(['race_group']).groups)\n",
      "Testing weights for abd_exp_01:  51%|█████▏    | 52/101 [00:20<00:19,  2.50it/s]<ipython-input-6-d61cf6b7d348>:36: FutureWarning: The default of observed=False is deprecated and will be changed to True in a future version of pandas. Pass observed=False to retain current behavior or observed=True to adopt the future default and silence this warning.\n",
      "  merged_df_race_dict = dict(merged_df.groupby(['race_group']).groups)\n",
      "Testing weights for abd_exp_01:  52%|█████▏    | 53/101 [00:21<00:19,  2.51it/s]<ipython-input-6-d61cf6b7d348>:36: FutureWarning: The default of observed=False is deprecated and will be changed to True in a future version of pandas. Pass observed=False to retain current behavior or observed=True to adopt the future default and silence this warning.\n",
      "  merged_df_race_dict = dict(merged_df.groupby(['race_group']).groups)\n",
      "Testing weights for abd_exp_01:  53%|█████▎    | 54/101 [00:21<00:18,  2.52it/s]<ipython-input-6-d61cf6b7d348>:36: FutureWarning: The default of observed=False is deprecated and will be changed to True in a future version of pandas. Pass observed=False to retain current behavior or observed=True to adopt the future default and silence this warning.\n",
      "  merged_df_race_dict = dict(merged_df.groupby(['race_group']).groups)\n",
      "Testing weights for abd_exp_01:  54%|█████▍    | 55/101 [00:21<00:18,  2.51it/s]<ipython-input-6-d61cf6b7d348>:36: FutureWarning: The default of observed=False is deprecated and will be changed to True in a future version of pandas. Pass observed=False to retain current behavior or observed=True to adopt the future default and silence this warning.\n",
      "  merged_df_race_dict = dict(merged_df.groupby(['race_group']).groups)\n",
      "Testing weights for abd_exp_01:  55%|█████▌    | 56/101 [00:22<00:17,  2.52it/s]<ipython-input-6-d61cf6b7d348>:36: FutureWarning: The default of observed=False is deprecated and will be changed to True in a future version of pandas. Pass observed=False to retain current behavior or observed=True to adopt the future default and silence this warning.\n",
      "  merged_df_race_dict = dict(merged_df.groupby(['race_group']).groups)\n",
      "Testing weights for abd_exp_01:  56%|█████▋    | 57/101 [00:22<00:17,  2.53it/s]<ipython-input-6-d61cf6b7d348>:36: FutureWarning: The default of observed=False is deprecated and will be changed to True in a future version of pandas. Pass observed=False to retain current behavior or observed=True to adopt the future default and silence this warning.\n",
      "  merged_df_race_dict = dict(merged_df.groupby(['race_group']).groups)\n",
      "Testing weights for abd_exp_01:  57%|█████▋    | 58/101 [00:23<00:17,  2.52it/s]<ipython-input-6-d61cf6b7d348>:36: FutureWarning: The default of observed=False is deprecated and will be changed to True in a future version of pandas. Pass observed=False to retain current behavior or observed=True to adopt the future default and silence this warning.\n",
      "  merged_df_race_dict = dict(merged_df.groupby(['race_group']).groups)\n",
      "Testing weights for abd_exp_01:  58%|█████▊    | 59/101 [00:23<00:16,  2.53it/s]<ipython-input-6-d61cf6b7d348>:36: FutureWarning: The default of observed=False is deprecated and will be changed to True in a future version of pandas. Pass observed=False to retain current behavior or observed=True to adopt the future default and silence this warning.\n",
      "  merged_df_race_dict = dict(merged_df.groupby(['race_group']).groups)\n",
      "Testing weights for abd_exp_01:  59%|█████▉    | 60/101 [00:23<00:16,  2.53it/s]<ipython-input-6-d61cf6b7d348>:36: FutureWarning: The default of observed=False is deprecated and will be changed to True in a future version of pandas. Pass observed=False to retain current behavior or observed=True to adopt the future default and silence this warning.\n",
      "  merged_df_race_dict = dict(merged_df.groupby(['race_group']).groups)\n",
      "Testing weights for abd_exp_01:  60%|██████    | 61/101 [00:24<00:15,  2.53it/s]<ipython-input-6-d61cf6b7d348>:36: FutureWarning: The default of observed=False is deprecated and will be changed to True in a future version of pandas. Pass observed=False to retain current behavior or observed=True to adopt the future default and silence this warning.\n",
      "  merged_df_race_dict = dict(merged_df.groupby(['race_group']).groups)\n",
      "Testing weights for abd_exp_01:  61%|██████▏   | 62/101 [00:24<00:15,  2.54it/s]<ipython-input-6-d61cf6b7d348>:36: FutureWarning: The default of observed=False is deprecated and will be changed to True in a future version of pandas. Pass observed=False to retain current behavior or observed=True to adopt the future default and silence this warning.\n",
      "  merged_df_race_dict = dict(merged_df.groupby(['race_group']).groups)\n",
      "Testing weights for abd_exp_01:  62%|██████▏   | 63/101 [00:25<00:15,  2.52it/s]<ipython-input-6-d61cf6b7d348>:36: FutureWarning: The default of observed=False is deprecated and will be changed to True in a future version of pandas. Pass observed=False to retain current behavior or observed=True to adopt the future default and silence this warning.\n",
      "  merged_df_race_dict = dict(merged_df.groupby(['race_group']).groups)\n",
      "Testing weights for abd_exp_01:  63%|██████▎   | 64/101 [00:25<00:14,  2.52it/s]<ipython-input-6-d61cf6b7d348>:36: FutureWarning: The default of observed=False is deprecated and will be changed to True in a future version of pandas. Pass observed=False to retain current behavior or observed=True to adopt the future default and silence this warning.\n",
      "  merged_df_race_dict = dict(merged_df.groupby(['race_group']).groups)\n",
      "Testing weights for abd_exp_01:  64%|██████▍   | 65/101 [00:25<00:14,  2.52it/s]<ipython-input-6-d61cf6b7d348>:36: FutureWarning: The default of observed=False is deprecated and will be changed to True in a future version of pandas. Pass observed=False to retain current behavior or observed=True to adopt the future default and silence this warning.\n",
      "  merged_df_race_dict = dict(merged_df.groupby(['race_group']).groups)\n",
      "Testing weights for abd_exp_01:  65%|██████▌   | 66/101 [00:26<00:13,  2.52it/s]<ipython-input-6-d61cf6b7d348>:36: FutureWarning: The default of observed=False is deprecated and will be changed to True in a future version of pandas. Pass observed=False to retain current behavior or observed=True to adopt the future default and silence this warning.\n",
      "  merged_df_race_dict = dict(merged_df.groupby(['race_group']).groups)\n",
      "Testing weights for abd_exp_01:  66%|██████▋   | 67/101 [00:26<00:13,  2.47it/s]<ipython-input-6-d61cf6b7d348>:36: FutureWarning: The default of observed=False is deprecated and will be changed to True in a future version of pandas. Pass observed=False to retain current behavior or observed=True to adopt the future default and silence this warning.\n",
      "  merged_df_race_dict = dict(merged_df.groupby(['race_group']).groups)\n",
      "Testing weights for abd_exp_01:  67%|██████▋   | 68/101 [00:27<00:13,  2.48it/s]<ipython-input-6-d61cf6b7d348>:36: FutureWarning: The default of observed=False is deprecated and will be changed to True in a future version of pandas. Pass observed=False to retain current behavior or observed=True to adopt the future default and silence this warning.\n",
      "  merged_df_race_dict = dict(merged_df.groupby(['race_group']).groups)\n",
      "Testing weights for abd_exp_01:  68%|██████▊   | 69/101 [00:27<00:12,  2.49it/s]<ipython-input-6-d61cf6b7d348>:36: FutureWarning: The default of observed=False is deprecated and will be changed to True in a future version of pandas. Pass observed=False to retain current behavior or observed=True to adopt the future default and silence this warning.\n",
      "  merged_df_race_dict = dict(merged_df.groupby(['race_group']).groups)\n",
      "Testing weights for abd_exp_01:  69%|██████▉   | 70/101 [00:27<00:12,  2.49it/s]<ipython-input-6-d61cf6b7d348>:36: FutureWarning: The default of observed=False is deprecated and will be changed to True in a future version of pandas. Pass observed=False to retain current behavior or observed=True to adopt the future default and silence this warning.\n",
      "  merged_df_race_dict = dict(merged_df.groupby(['race_group']).groups)\n",
      "Testing weights for abd_exp_01:  70%|███████   | 71/101 [00:28<00:11,  2.51it/s]<ipython-input-6-d61cf6b7d348>:36: FutureWarning: The default of observed=False is deprecated and will be changed to True in a future version of pandas. Pass observed=False to retain current behavior or observed=True to adopt the future default and silence this warning.\n",
      "  merged_df_race_dict = dict(merged_df.groupby(['race_group']).groups)\n",
      "Testing weights for abd_exp_01:  71%|███████▏  | 72/101 [00:28<00:11,  2.51it/s]<ipython-input-6-d61cf6b7d348>:36: FutureWarning: The default of observed=False is deprecated and will be changed to True in a future version of pandas. Pass observed=False to retain current behavior or observed=True to adopt the future default and silence this warning.\n",
      "  merged_df_race_dict = dict(merged_df.groupby(['race_group']).groups)\n",
      "Testing weights for abd_exp_01:  72%|███████▏  | 73/101 [00:29<00:11,  2.52it/s]<ipython-input-6-d61cf6b7d348>:36: FutureWarning: The default of observed=False is deprecated and will be changed to True in a future version of pandas. Pass observed=False to retain current behavior or observed=True to adopt the future default and silence this warning.\n",
      "  merged_df_race_dict = dict(merged_df.groupby(['race_group']).groups)\n",
      "Testing weights for abd_exp_01:  73%|███████▎  | 74/101 [00:29<00:10,  2.54it/s]<ipython-input-6-d61cf6b7d348>:36: FutureWarning: The default of observed=False is deprecated and will be changed to True in a future version of pandas. Pass observed=False to retain current behavior or observed=True to adopt the future default and silence this warning.\n",
      "  merged_df_race_dict = dict(merged_df.groupby(['race_group']).groups)\n",
      "Testing weights for abd_exp_01:  74%|███████▍  | 75/101 [00:29<00:10,  2.54it/s]<ipython-input-6-d61cf6b7d348>:36: FutureWarning: The default of observed=False is deprecated and will be changed to True in a future version of pandas. Pass observed=False to retain current behavior or observed=True to adopt the future default and silence this warning.\n",
      "  merged_df_race_dict = dict(merged_df.groupby(['race_group']).groups)\n",
      "Testing weights for abd_exp_01:  75%|███████▌  | 76/101 [00:30<00:09,  2.53it/s]<ipython-input-6-d61cf6b7d348>:36: FutureWarning: The default of observed=False is deprecated and will be changed to True in a future version of pandas. Pass observed=False to retain current behavior or observed=True to adopt the future default and silence this warning.\n",
      "  merged_df_race_dict = dict(merged_df.groupby(['race_group']).groups)\n",
      "Testing weights for abd_exp_01:  76%|███████▌  | 77/101 [00:30<00:09,  2.54it/s]<ipython-input-6-d61cf6b7d348>:36: FutureWarning: The default of observed=False is deprecated and will be changed to True in a future version of pandas. Pass observed=False to retain current behavior or observed=True to adopt the future default and silence this warning.\n",
      "  merged_df_race_dict = dict(merged_df.groupby(['race_group']).groups)\n",
      "Testing weights for abd_exp_01:  77%|███████▋  | 78/101 [00:31<00:09,  2.54it/s]<ipython-input-6-d61cf6b7d348>:36: FutureWarning: The default of observed=False is deprecated and will be changed to True in a future version of pandas. Pass observed=False to retain current behavior or observed=True to adopt the future default and silence this warning.\n",
      "  merged_df_race_dict = dict(merged_df.groupby(['race_group']).groups)\n",
      "Testing weights for abd_exp_01:  78%|███████▊  | 79/101 [00:31<00:08,  2.54it/s]<ipython-input-6-d61cf6b7d348>:36: FutureWarning: The default of observed=False is deprecated and will be changed to True in a future version of pandas. Pass observed=False to retain current behavior or observed=True to adopt the future default and silence this warning.\n",
      "  merged_df_race_dict = dict(merged_df.groupby(['race_group']).groups)\n",
      "Testing weights for abd_exp_01:  79%|███████▉  | 80/101 [00:31<00:08,  2.54it/s]<ipython-input-6-d61cf6b7d348>:36: FutureWarning: The default of observed=False is deprecated and will be changed to True in a future version of pandas. Pass observed=False to retain current behavior or observed=True to adopt the future default and silence this warning.\n",
      "  merged_df_race_dict = dict(merged_df.groupby(['race_group']).groups)\n",
      "Testing weights for abd_exp_01:  80%|████████  | 81/101 [00:32<00:07,  2.55it/s]<ipython-input-6-d61cf6b7d348>:36: FutureWarning: The default of observed=False is deprecated and will be changed to True in a future version of pandas. Pass observed=False to retain current behavior or observed=True to adopt the future default and silence this warning.\n",
      "  merged_df_race_dict = dict(merged_df.groupby(['race_group']).groups)\n",
      "Testing weights for abd_exp_01:  81%|████████  | 82/101 [00:32<00:07,  2.55it/s]<ipython-input-6-d61cf6b7d348>:36: FutureWarning: The default of observed=False is deprecated and will be changed to True in a future version of pandas. Pass observed=False to retain current behavior or observed=True to adopt the future default and silence this warning.\n",
      "  merged_df_race_dict = dict(merged_df.groupby(['race_group']).groups)\n",
      "Testing weights for abd_exp_01:  82%|████████▏ | 83/101 [00:32<00:07,  2.55it/s]<ipython-input-6-d61cf6b7d348>:36: FutureWarning: The default of observed=False is deprecated and will be changed to True in a future version of pandas. Pass observed=False to retain current behavior or observed=True to adopt the future default and silence this warning.\n",
      "  merged_df_race_dict = dict(merged_df.groupby(['race_group']).groups)\n",
      "Testing weights for abd_exp_01:  83%|████████▎ | 84/101 [00:33<00:06,  2.54it/s]<ipython-input-6-d61cf6b7d348>:36: FutureWarning: The default of observed=False is deprecated and will be changed to True in a future version of pandas. Pass observed=False to retain current behavior or observed=True to adopt the future default and silence this warning.\n",
      "  merged_df_race_dict = dict(merged_df.groupby(['race_group']).groups)\n",
      "Testing weights for abd_exp_01:  84%|████████▍ | 85/101 [00:33<00:06,  2.55it/s]<ipython-input-6-d61cf6b7d348>:36: FutureWarning: The default of observed=False is deprecated and will be changed to True in a future version of pandas. Pass observed=False to retain current behavior or observed=True to adopt the future default and silence this warning.\n",
      "  merged_df_race_dict = dict(merged_df.groupby(['race_group']).groups)\n",
      "Testing weights for abd_exp_01:  85%|████████▌ | 86/101 [00:34<00:05,  2.54it/s]<ipython-input-6-d61cf6b7d348>:36: FutureWarning: The default of observed=False is deprecated and will be changed to True in a future version of pandas. Pass observed=False to retain current behavior or observed=True to adopt the future default and silence this warning.\n",
      "  merged_df_race_dict = dict(merged_df.groupby(['race_group']).groups)\n",
      "Testing weights for abd_exp_01:  86%|████████▌ | 87/101 [00:34<00:05,  2.54it/s]<ipython-input-6-d61cf6b7d348>:36: FutureWarning: The default of observed=False is deprecated and will be changed to True in a future version of pandas. Pass observed=False to retain current behavior or observed=True to adopt the future default and silence this warning.\n",
      "  merged_df_race_dict = dict(merged_df.groupby(['race_group']).groups)\n",
      "Testing weights for abd_exp_01:  87%|████████▋ | 88/101 [00:34<00:05,  2.52it/s]<ipython-input-6-d61cf6b7d348>:36: FutureWarning: The default of observed=False is deprecated and will be changed to True in a future version of pandas. Pass observed=False to retain current behavior or observed=True to adopt the future default and silence this warning.\n",
      "  merged_df_race_dict = dict(merged_df.groupby(['race_group']).groups)\n",
      "Testing weights for abd_exp_01:  88%|████████▊ | 89/101 [00:35<00:04,  2.52it/s]<ipython-input-6-d61cf6b7d348>:36: FutureWarning: The default of observed=False is deprecated and will be changed to True in a future version of pandas. Pass observed=False to retain current behavior or observed=True to adopt the future default and silence this warning.\n",
      "  merged_df_race_dict = dict(merged_df.groupby(['race_group']).groups)\n",
      "Testing weights for abd_exp_01:  89%|████████▉ | 90/101 [00:35<00:04,  2.52it/s]<ipython-input-6-d61cf6b7d348>:36: FutureWarning: The default of observed=False is deprecated and will be changed to True in a future version of pandas. Pass observed=False to retain current behavior or observed=True to adopt the future default and silence this warning.\n",
      "  merged_df_race_dict = dict(merged_df.groupby(['race_group']).groups)\n",
      "Testing weights for abd_exp_01:  90%|█████████ | 91/101 [00:36<00:03,  2.53it/s]<ipython-input-6-d61cf6b7d348>:36: FutureWarning: The default of observed=False is deprecated and will be changed to True in a future version of pandas. Pass observed=False to retain current behavior or observed=True to adopt the future default and silence this warning.\n",
      "  merged_df_race_dict = dict(merged_df.groupby(['race_group']).groups)\n",
      "Testing weights for abd_exp_01:  91%|█████████ | 92/101 [00:36<00:03,  2.48it/s]<ipython-input-6-d61cf6b7d348>:36: FutureWarning: The default of observed=False is deprecated and will be changed to True in a future version of pandas. Pass observed=False to retain current behavior or observed=True to adopt the future default and silence this warning.\n",
      "  merged_df_race_dict = dict(merged_df.groupby(['race_group']).groups)\n",
      "Testing weights for abd_exp_01:  92%|█████████▏| 93/101 [00:36<00:03,  2.47it/s]<ipython-input-6-d61cf6b7d348>:36: FutureWarning: The default of observed=False is deprecated and will be changed to True in a future version of pandas. Pass observed=False to retain current behavior or observed=True to adopt the future default and silence this warning.\n",
      "  merged_df_race_dict = dict(merged_df.groupby(['race_group']).groups)\n",
      "Testing weights for abd_exp_01:  93%|█████████▎| 94/101 [00:37<00:02,  2.50it/s]<ipython-input-6-d61cf6b7d348>:36: FutureWarning: The default of observed=False is deprecated and will be changed to True in a future version of pandas. Pass observed=False to retain current behavior or observed=True to adopt the future default and silence this warning.\n",
      "  merged_df_race_dict = dict(merged_df.groupby(['race_group']).groups)\n",
      "Testing weights for abd_exp_01:  94%|█████████▍| 95/101 [00:37<00:02,  2.50it/s]<ipython-input-6-d61cf6b7d348>:36: FutureWarning: The default of observed=False is deprecated and will be changed to True in a future version of pandas. Pass observed=False to retain current behavior or observed=True to adopt the future default and silence this warning.\n",
      "  merged_df_race_dict = dict(merged_df.groupby(['race_group']).groups)\n",
      "Testing weights for abd_exp_01:  95%|█████████▌| 96/101 [00:38<00:01,  2.51it/s]<ipython-input-6-d61cf6b7d348>:36: FutureWarning: The default of observed=False is deprecated and will be changed to True in a future version of pandas. Pass observed=False to retain current behavior or observed=True to adopt the future default and silence this warning.\n",
      "  merged_df_race_dict = dict(merged_df.groupby(['race_group']).groups)\n",
      "Testing weights for abd_exp_01:  96%|█████████▌| 97/101 [00:38<00:01,  2.53it/s]<ipython-input-6-d61cf6b7d348>:36: FutureWarning: The default of observed=False is deprecated and will be changed to True in a future version of pandas. Pass observed=False to retain current behavior or observed=True to adopt the future default and silence this warning.\n",
      "  merged_df_race_dict = dict(merged_df.groupby(['race_group']).groups)\n",
      "Testing weights for abd_exp_01:  97%|█████████▋| 98/101 [00:38<00:01,  2.52it/s]<ipython-input-6-d61cf6b7d348>:36: FutureWarning: The default of observed=False is deprecated and will be changed to True in a future version of pandas. Pass observed=False to retain current behavior or observed=True to adopt the future default and silence this warning.\n",
      "  merged_df_race_dict = dict(merged_df.groupby(['race_group']).groups)\n",
      "Testing weights for abd_exp_01:  98%|█████████▊| 99/101 [00:39<00:00,  2.53it/s]<ipython-input-6-d61cf6b7d348>:36: FutureWarning: The default of observed=False is deprecated and will be changed to True in a future version of pandas. Pass observed=False to retain current behavior or observed=True to adopt the future default and silence this warning.\n",
      "  merged_df_race_dict = dict(merged_df.groupby(['race_group']).groups)\n",
      "Testing weights for abd_exp_01:  99%|█████████▉| 100/101 [00:39<00:00,  2.54it/s]<ipython-input-6-d61cf6b7d348>:36: FutureWarning: The default of observed=False is deprecated and will be changed to True in a future version of pandas. Pass observed=False to retain current behavior or observed=True to adopt the future default and silence this warning.\n",
      "  merged_df_race_dict = dict(merged_df.groupby(['race_group']).groups)\n",
      "Testing weights for abd_exp_01: 100%|██████████| 101/101 [00:40<00:00,  2.52it/s]\n"
     ]
    },
    {
     "name": "stdout",
     "output_type": "stream",
     "text": [
      "here -> /kaggle/input/catboost-exp-04\n"
     ]
    },
    {
     "name": "stderr",
     "output_type": "stream",
     "text": [
      "Testing weights for catboost_exp_04: 100%|██████████| 101/101 [00:39<00:00,  2.53it/s]\n"
     ]
    },
    {
     "name": "stdout",
     "output_type": "stream",
     "text": [
      "here -> /kaggle/input/lgbm-exp-04\n"
     ]
    },
    {
     "name": "stderr",
     "output_type": "stream",
     "text": [
      "Testing weights for lgbm_exp_04: 100%|██████████| 101/101 [00:39<00:00,  2.53it/s]\n"
     ]
    },
    {
     "name": "stdout",
     "output_type": "stream",
     "text": [
      "here -> /kaggle/input/tabm-exp-02\n"
     ]
    },
    {
     "name": "stderr",
     "output_type": "stream",
     "text": [
      "Testing weights for tabm_exp_02: 100%|██████████| 101/101 [00:39<00:00,  2.53it/s]\n"
     ]
    },
    {
     "name": "stdout",
     "output_type": "stream",
     "text": [
      "here -> /kaggle/input/ds-exp-01\n"
     ]
    },
    {
     "name": "stderr",
     "output_type": "stream",
     "text": [
      "Testing weights for ds_exp_01: 100%|██████████| 101/101 [00:40<00:00,  2.52it/s]\n"
     ]
    },
    {
     "name": "stdout",
     "output_type": "stream",
     "text": [
      "here -> /kaggle/input/nn-exp-02\n"
     ]
    },
    {
     "name": "stderr",
     "output_type": "stream",
     "text": [
      "Testing weights for nn_exp_02: 100%|██████████| 101/101 [00:40<00:00,  2.50it/s]\n"
     ]
    },
    {
     "name": "stdout",
     "output_type": "stream",
     "text": [
      "here -> /kaggle/input/tabm-exp-03\n"
     ]
    },
    {
     "name": "stderr",
     "output_type": "stream",
     "text": [
      "Testing weights for tabm_exp_03: 100%|██████████| 101/101 [00:40<00:00,  2.48it/s]\n"
     ]
    },
    {
     "name": "stdout",
     "output_type": "stream",
     "text": [
      "here -> /kaggle/input/catboost-exp-05\n"
     ]
    },
    {
     "name": "stderr",
     "output_type": "stream",
     "text": [
      "Testing weights for catboost_exp_05: 100%|██████████| 101/101 [00:40<00:00,  2.51it/s]\n"
     ]
    },
    {
     "name": "stdout",
     "output_type": "stream",
     "text": [
      "Iteration 2: Added /kaggle/input/catboost-exp-01 with weight 0.2200, Score: 0.6852\n",
      "2th iteration\n",
      "here -> /kaggle/input/xgboost-exp-01\n"
     ]
    },
    {
     "name": "stderr",
     "output_type": "stream",
     "text": [
      "Testing weights for xgboost_exp_01: 100%|██████████| 101/101 [00:40<00:00,  2.50it/s]\n"
     ]
    },
    {
     "name": "stdout",
     "output_type": "stream",
     "text": [
      "here -> /kaggle/input/lgbm-exp-01\n"
     ]
    },
    {
     "name": "stderr",
     "output_type": "stream",
     "text": [
      "Testing weights for lgbm_exp_01: 100%|██████████| 101/101 [00:40<00:00,  2.51it/s]\n"
     ]
    },
    {
     "name": "stdout",
     "output_type": "stream",
     "text": [
      "here -> /kaggle/input/xgboost-exp-02\n"
     ]
    },
    {
     "name": "stderr",
     "output_type": "stream",
     "text": [
      "Testing weights for xgboost_exp_02: 100%|██████████| 101/101 [00:40<00:00,  2.49it/s]\n"
     ]
    },
    {
     "name": "stdout",
     "output_type": "stream",
     "text": [
      "here -> /kaggle/input/catboost-exp-02\n"
     ]
    },
    {
     "name": "stderr",
     "output_type": "stream",
     "text": [
      "Testing weights for catboost_exp_02: 100%|██████████| 101/101 [00:40<00:00,  2.52it/s]\n"
     ]
    },
    {
     "name": "stdout",
     "output_type": "stream",
     "text": [
      "here -> /kaggle/input/lgbm-exp-03\n"
     ]
    },
    {
     "name": "stderr",
     "output_type": "stream",
     "text": [
      "Testing weights for lgbm_exp_03: 100%|██████████| 101/101 [00:39<00:00,  2.53it/s]\n"
     ]
    },
    {
     "name": "stdout",
     "output_type": "stream",
     "text": [
      "here -> /kaggle/input/catboost-exp-03\n"
     ]
    },
    {
     "name": "stderr",
     "output_type": "stream",
     "text": [
      "Testing weights for catboost_exp_03: 100%|██████████| 101/101 [00:39<00:00,  2.54it/s]\n"
     ]
    },
    {
     "name": "stdout",
     "output_type": "stream",
     "text": [
      "here -> /kaggle/input/tabm-exp-01\n"
     ]
    },
    {
     "name": "stderr",
     "output_type": "stream",
     "text": [
      "Testing weights for tabm_exp_01: 100%|██████████| 101/101 [00:41<00:00,  2.43it/s]\n"
     ]
    },
    {
     "name": "stdout",
     "output_type": "stream",
     "text": [
      "here -> /kaggle/input/nn-exp-01\n"
     ]
    },
    {
     "name": "stderr",
     "output_type": "stream",
     "text": [
      "Testing weights for nn_exp_01: 100%|██████████| 101/101 [00:40<00:00,  2.51it/s]\n"
     ]
    },
    {
     "name": "stdout",
     "output_type": "stream",
     "text": [
      "here -> /kaggle/input/tn-exp-01\n"
     ]
    },
    {
     "name": "stderr",
     "output_type": "stream",
     "text": [
      "Testing weights for tn_exp_01: 100%|██████████| 101/101 [00:39<00:00,  2.53it/s]\n"
     ]
    },
    {
     "name": "stdout",
     "output_type": "stream",
     "text": [
      "here -> /kaggle/input/tf-exp-01\n"
     ]
    },
    {
     "name": "stderr",
     "output_type": "stream",
     "text": [
      "Testing weights for tf_exp_01: 100%|██████████| 101/101 [00:39<00:00,  2.53it/s]\n"
     ]
    },
    {
     "name": "stdout",
     "output_type": "stream",
     "text": [
      "here -> /kaggle/input/svr-exp-01\n"
     ]
    },
    {
     "name": "stderr",
     "output_type": "stream",
     "text": [
      "Testing weights for svr_exp_01: 100%|██████████| 101/101 [00:39<00:00,  2.54it/s]\n"
     ]
    },
    {
     "name": "stdout",
     "output_type": "stream",
     "text": [
      "here -> /kaggle/input/abd-exp-01\n"
     ]
    },
    {
     "name": "stderr",
     "output_type": "stream",
     "text": [
      "Testing weights for abd_exp_01:   0%|          | 0/101 [00:00<?, ?it/s]<ipython-input-6-d61cf6b7d348>:36: FutureWarning: The default of observed=False is deprecated and will be changed to True in a future version of pandas. Pass observed=False to retain current behavior or observed=True to adopt the future default and silence this warning.\n",
      "  merged_df_race_dict = dict(merged_df.groupby(['race_group']).groups)\n",
      "Testing weights for abd_exp_01:   1%|          | 1/101 [00:00<00:39,  2.52it/s]<ipython-input-6-d61cf6b7d348>:36: FutureWarning: The default of observed=False is deprecated and will be changed to True in a future version of pandas. Pass observed=False to retain current behavior or observed=True to adopt the future default and silence this warning.\n",
      "  merged_df_race_dict = dict(merged_df.groupby(['race_group']).groups)\n",
      "Testing weights for abd_exp_01:   2%|▏         | 2/101 [00:00<00:38,  2.55it/s]<ipython-input-6-d61cf6b7d348>:36: FutureWarning: The default of observed=False is deprecated and will be changed to True in a future version of pandas. Pass observed=False to retain current behavior or observed=True to adopt the future default and silence this warning.\n",
      "  merged_df_race_dict = dict(merged_df.groupby(['race_group']).groups)\n",
      "Testing weights for abd_exp_01:   3%|▎         | 3/101 [00:01<00:38,  2.56it/s]<ipython-input-6-d61cf6b7d348>:36: FutureWarning: The default of observed=False is deprecated and will be changed to True in a future version of pandas. Pass observed=False to retain current behavior or observed=True to adopt the future default and silence this warning.\n",
      "  merged_df_race_dict = dict(merged_df.groupby(['race_group']).groups)\n",
      "Testing weights for abd_exp_01:   4%|▍         | 4/101 [00:01<00:37,  2.55it/s]<ipython-input-6-d61cf6b7d348>:36: FutureWarning: The default of observed=False is deprecated and will be changed to True in a future version of pandas. Pass observed=False to retain current behavior or observed=True to adopt the future default and silence this warning.\n",
      "  merged_df_race_dict = dict(merged_df.groupby(['race_group']).groups)\n",
      "Testing weights for abd_exp_01:   5%|▍         | 5/101 [00:01<00:37,  2.56it/s]<ipython-input-6-d61cf6b7d348>:36: FutureWarning: The default of observed=False is deprecated and will be changed to True in a future version of pandas. Pass observed=False to retain current behavior or observed=True to adopt the future default and silence this warning.\n",
      "  merged_df_race_dict = dict(merged_df.groupby(['race_group']).groups)\n",
      "Testing weights for abd_exp_01:   6%|▌         | 6/101 [00:02<00:37,  2.54it/s]<ipython-input-6-d61cf6b7d348>:36: FutureWarning: The default of observed=False is deprecated and will be changed to True in a future version of pandas. Pass observed=False to retain current behavior or observed=True to adopt the future default and silence this warning.\n",
      "  merged_df_race_dict = dict(merged_df.groupby(['race_group']).groups)\n",
      "Testing weights for abd_exp_01:   7%|▋         | 7/101 [00:02<00:36,  2.55it/s]<ipython-input-6-d61cf6b7d348>:36: FutureWarning: The default of observed=False is deprecated and will be changed to True in a future version of pandas. Pass observed=False to retain current behavior or observed=True to adopt the future default and silence this warning.\n",
      "  merged_df_race_dict = dict(merged_df.groupby(['race_group']).groups)\n",
      "Testing weights for abd_exp_01:   8%|▊         | 8/101 [00:03<00:36,  2.55it/s]<ipython-input-6-d61cf6b7d348>:36: FutureWarning: The default of observed=False is deprecated and will be changed to True in a future version of pandas. Pass observed=False to retain current behavior or observed=True to adopt the future default and silence this warning.\n",
      "  merged_df_race_dict = dict(merged_df.groupby(['race_group']).groups)\n",
      "Testing weights for abd_exp_01:   9%|▉         | 9/101 [00:03<00:36,  2.53it/s]<ipython-input-6-d61cf6b7d348>:36: FutureWarning: The default of observed=False is deprecated and will be changed to True in a future version of pandas. Pass observed=False to retain current behavior or observed=True to adopt the future default and silence this warning.\n",
      "  merged_df_race_dict = dict(merged_df.groupby(['race_group']).groups)\n",
      "Testing weights for abd_exp_01:  10%|▉         | 10/101 [00:03<00:35,  2.53it/s]<ipython-input-6-d61cf6b7d348>:36: FutureWarning: The default of observed=False is deprecated and will be changed to True in a future version of pandas. Pass observed=False to retain current behavior or observed=True to adopt the future default and silence this warning.\n",
      "  merged_df_race_dict = dict(merged_df.groupby(['race_group']).groups)\n",
      "Testing weights for abd_exp_01:  11%|█         | 11/101 [00:04<00:35,  2.51it/s]<ipython-input-6-d61cf6b7d348>:36: FutureWarning: The default of observed=False is deprecated and will be changed to True in a future version of pandas. Pass observed=False to retain current behavior or observed=True to adopt the future default and silence this warning.\n",
      "  merged_df_race_dict = dict(merged_df.groupby(['race_group']).groups)\n",
      "Testing weights for abd_exp_01:  12%|█▏        | 12/101 [00:04<00:35,  2.52it/s]<ipython-input-6-d61cf6b7d348>:36: FutureWarning: The default of observed=False is deprecated and will be changed to True in a future version of pandas. Pass observed=False to retain current behavior or observed=True to adopt the future default and silence this warning.\n",
      "  merged_df_race_dict = dict(merged_df.groupby(['race_group']).groups)\n",
      "Testing weights for abd_exp_01:  13%|█▎        | 13/101 [00:05<00:34,  2.53it/s]<ipython-input-6-d61cf6b7d348>:36: FutureWarning: The default of observed=False is deprecated and will be changed to True in a future version of pandas. Pass observed=False to retain current behavior or observed=True to adopt the future default and silence this warning.\n",
      "  merged_df_race_dict = dict(merged_df.groupby(['race_group']).groups)\n",
      "Testing weights for abd_exp_01:  14%|█▍        | 14/101 [00:05<00:35,  2.48it/s]<ipython-input-6-d61cf6b7d348>:36: FutureWarning: The default of observed=False is deprecated and will be changed to True in a future version of pandas. Pass observed=False to retain current behavior or observed=True to adopt the future default and silence this warning.\n",
      "  merged_df_race_dict = dict(merged_df.groupby(['race_group']).groups)\n",
      "Testing weights for abd_exp_01:  15%|█▍        | 15/101 [00:05<00:35,  2.44it/s]<ipython-input-6-d61cf6b7d348>:36: FutureWarning: The default of observed=False is deprecated and will be changed to True in a future version of pandas. Pass observed=False to retain current behavior or observed=True to adopt the future default and silence this warning.\n",
      "  merged_df_race_dict = dict(merged_df.groupby(['race_group']).groups)\n",
      "Testing weights for abd_exp_01:  16%|█▌        | 16/101 [00:06<00:34,  2.46it/s]<ipython-input-6-d61cf6b7d348>:36: FutureWarning: The default of observed=False is deprecated and will be changed to True in a future version of pandas. Pass observed=False to retain current behavior or observed=True to adopt the future default and silence this warning.\n",
      "  merged_df_race_dict = dict(merged_df.groupby(['race_group']).groups)\n",
      "Testing weights for abd_exp_01:  17%|█▋        | 17/101 [00:06<00:33,  2.48it/s]<ipython-input-6-d61cf6b7d348>:36: FutureWarning: The default of observed=False is deprecated and will be changed to True in a future version of pandas. Pass observed=False to retain current behavior or observed=True to adopt the future default and silence this warning.\n",
      "  merged_df_race_dict = dict(merged_df.groupby(['race_group']).groups)\n",
      "Testing weights for abd_exp_01:  18%|█▊        | 18/101 [00:07<00:33,  2.50it/s]<ipython-input-6-d61cf6b7d348>:36: FutureWarning: The default of observed=False is deprecated and will be changed to True in a future version of pandas. Pass observed=False to retain current behavior or observed=True to adopt the future default and silence this warning.\n",
      "  merged_df_race_dict = dict(merged_df.groupby(['race_group']).groups)\n",
      "Testing weights for abd_exp_01:  19%|█▉        | 19/101 [00:07<00:32,  2.52it/s]<ipython-input-6-d61cf6b7d348>:36: FutureWarning: The default of observed=False is deprecated and will be changed to True in a future version of pandas. Pass observed=False to retain current behavior or observed=True to adopt the future default and silence this warning.\n",
      "  merged_df_race_dict = dict(merged_df.groupby(['race_group']).groups)\n",
      "Testing weights for abd_exp_01:  20%|█▉        | 20/101 [00:07<00:32,  2.46it/s]<ipython-input-6-d61cf6b7d348>:36: FutureWarning: The default of observed=False is deprecated and will be changed to True in a future version of pandas. Pass observed=False to retain current behavior or observed=True to adopt the future default and silence this warning.\n",
      "  merged_df_race_dict = dict(merged_df.groupby(['race_group']).groups)\n",
      "Testing weights for abd_exp_01:  21%|██        | 21/101 [00:08<00:32,  2.48it/s]<ipython-input-6-d61cf6b7d348>:36: FutureWarning: The default of observed=False is deprecated and will be changed to True in a future version of pandas. Pass observed=False to retain current behavior or observed=True to adopt the future default and silence this warning.\n",
      "  merged_df_race_dict = dict(merged_df.groupby(['race_group']).groups)\n",
      "Testing weights for abd_exp_01:  22%|██▏       | 22/101 [00:08<00:31,  2.49it/s]<ipython-input-6-d61cf6b7d348>:36: FutureWarning: The default of observed=False is deprecated and will be changed to True in a future version of pandas. Pass observed=False to retain current behavior or observed=True to adopt the future default and silence this warning.\n",
      "  merged_df_race_dict = dict(merged_df.groupby(['race_group']).groups)\n",
      "Testing weights for abd_exp_01:  23%|██▎       | 23/101 [00:09<00:31,  2.51it/s]<ipython-input-6-d61cf6b7d348>:36: FutureWarning: The default of observed=False is deprecated and will be changed to True in a future version of pandas. Pass observed=False to retain current behavior or observed=True to adopt the future default and silence this warning.\n",
      "  merged_df_race_dict = dict(merged_df.groupby(['race_group']).groups)\n",
      "Testing weights for abd_exp_01:  24%|██▍       | 24/101 [00:09<00:30,  2.50it/s]<ipython-input-6-d61cf6b7d348>:36: FutureWarning: The default of observed=False is deprecated and will be changed to True in a future version of pandas. Pass observed=False to retain current behavior or observed=True to adopt the future default and silence this warning.\n",
      "  merged_df_race_dict = dict(merged_df.groupby(['race_group']).groups)\n",
      "Testing weights for abd_exp_01:  25%|██▍       | 25/101 [00:09<00:30,  2.52it/s]<ipython-input-6-d61cf6b7d348>:36: FutureWarning: The default of observed=False is deprecated and will be changed to True in a future version of pandas. Pass observed=False to retain current behavior or observed=True to adopt the future default and silence this warning.\n",
      "  merged_df_race_dict = dict(merged_df.groupby(['race_group']).groups)\n",
      "Testing weights for abd_exp_01:  26%|██▌       | 26/101 [00:10<00:29,  2.52it/s]<ipython-input-6-d61cf6b7d348>:36: FutureWarning: The default of observed=False is deprecated and will be changed to True in a future version of pandas. Pass observed=False to retain current behavior or observed=True to adopt the future default and silence this warning.\n",
      "  merged_df_race_dict = dict(merged_df.groupby(['race_group']).groups)\n",
      "Testing weights for abd_exp_01:  27%|██▋       | 27/101 [00:10<00:29,  2.53it/s]<ipython-input-6-d61cf6b7d348>:36: FutureWarning: The default of observed=False is deprecated and will be changed to True in a future version of pandas. Pass observed=False to retain current behavior or observed=True to adopt the future default and silence this warning.\n",
      "  merged_df_race_dict = dict(merged_df.groupby(['race_group']).groups)\n",
      "Testing weights for abd_exp_01:  28%|██▊       | 28/101 [00:11<00:28,  2.53it/s]<ipython-input-6-d61cf6b7d348>:36: FutureWarning: The default of observed=False is deprecated and will be changed to True in a future version of pandas. Pass observed=False to retain current behavior or observed=True to adopt the future default and silence this warning.\n",
      "  merged_df_race_dict = dict(merged_df.groupby(['race_group']).groups)\n",
      "Testing weights for abd_exp_01:  29%|██▊       | 29/101 [00:11<00:28,  2.52it/s]<ipython-input-6-d61cf6b7d348>:36: FutureWarning: The default of observed=False is deprecated and will be changed to True in a future version of pandas. Pass observed=False to retain current behavior or observed=True to adopt the future default and silence this warning.\n",
      "  merged_df_race_dict = dict(merged_df.groupby(['race_group']).groups)\n",
      "Testing weights for abd_exp_01:  30%|██▉       | 30/101 [00:11<00:28,  2.52it/s]<ipython-input-6-d61cf6b7d348>:36: FutureWarning: The default of observed=False is deprecated and will be changed to True in a future version of pandas. Pass observed=False to retain current behavior or observed=True to adopt the future default and silence this warning.\n",
      "  merged_df_race_dict = dict(merged_df.groupby(['race_group']).groups)\n",
      "Testing weights for abd_exp_01:  31%|███       | 31/101 [00:12<00:27,  2.51it/s]<ipython-input-6-d61cf6b7d348>:36: FutureWarning: The default of observed=False is deprecated and will be changed to True in a future version of pandas. Pass observed=False to retain current behavior or observed=True to adopt the future default and silence this warning.\n",
      "  merged_df_race_dict = dict(merged_df.groupby(['race_group']).groups)\n",
      "Testing weights for abd_exp_01:  32%|███▏      | 32/101 [00:12<00:27,  2.52it/s]<ipython-input-6-d61cf6b7d348>:36: FutureWarning: The default of observed=False is deprecated and will be changed to True in a future version of pandas. Pass observed=False to retain current behavior or observed=True to adopt the future default and silence this warning.\n",
      "  merged_df_race_dict = dict(merged_df.groupby(['race_group']).groups)\n",
      "Testing weights for abd_exp_01:  33%|███▎      | 33/101 [00:13<00:26,  2.53it/s]<ipython-input-6-d61cf6b7d348>:36: FutureWarning: The default of observed=False is deprecated and will be changed to True in a future version of pandas. Pass observed=False to retain current behavior or observed=True to adopt the future default and silence this warning.\n",
      "  merged_df_race_dict = dict(merged_df.groupby(['race_group']).groups)\n",
      "Testing weights for abd_exp_01:  34%|███▎      | 34/101 [00:13<00:26,  2.53it/s]<ipython-input-6-d61cf6b7d348>:36: FutureWarning: The default of observed=False is deprecated and will be changed to True in a future version of pandas. Pass observed=False to retain current behavior or observed=True to adopt the future default and silence this warning.\n",
      "  merged_df_race_dict = dict(merged_df.groupby(['race_group']).groups)\n",
      "Testing weights for abd_exp_01:  35%|███▍      | 35/101 [00:13<00:26,  2.54it/s]<ipython-input-6-d61cf6b7d348>:36: FutureWarning: The default of observed=False is deprecated and will be changed to True in a future version of pandas. Pass observed=False to retain current behavior or observed=True to adopt the future default and silence this warning.\n",
      "  merged_df_race_dict = dict(merged_df.groupby(['race_group']).groups)\n",
      "Testing weights for abd_exp_01:  36%|███▌      | 36/101 [00:14<00:25,  2.52it/s]<ipython-input-6-d61cf6b7d348>:36: FutureWarning: The default of observed=False is deprecated and will be changed to True in a future version of pandas. Pass observed=False to retain current behavior or observed=True to adopt the future default and silence this warning.\n",
      "  merged_df_race_dict = dict(merged_df.groupby(['race_group']).groups)\n",
      "Testing weights for abd_exp_01:  37%|███▋      | 37/101 [00:14<00:25,  2.52it/s]<ipython-input-6-d61cf6b7d348>:36: FutureWarning: The default of observed=False is deprecated and will be changed to True in a future version of pandas. Pass observed=False to retain current behavior or observed=True to adopt the future default and silence this warning.\n",
      "  merged_df_race_dict = dict(merged_df.groupby(['race_group']).groups)\n",
      "Testing weights for abd_exp_01:  38%|███▊      | 38/101 [00:15<00:24,  2.52it/s]<ipython-input-6-d61cf6b7d348>:36: FutureWarning: The default of observed=False is deprecated and will be changed to True in a future version of pandas. Pass observed=False to retain current behavior or observed=True to adopt the future default and silence this warning.\n",
      "  merged_df_race_dict = dict(merged_df.groupby(['race_group']).groups)\n",
      "Testing weights for abd_exp_01:  39%|███▊      | 39/101 [00:15<00:24,  2.54it/s]<ipython-input-6-d61cf6b7d348>:36: FutureWarning: The default of observed=False is deprecated and will be changed to True in a future version of pandas. Pass observed=False to retain current behavior or observed=True to adopt the future default and silence this warning.\n",
      "  merged_df_race_dict = dict(merged_df.groupby(['race_group']).groups)\n",
      "Testing weights for abd_exp_01:  40%|███▉      | 40/101 [00:15<00:23,  2.54it/s]<ipython-input-6-d61cf6b7d348>:36: FutureWarning: The default of observed=False is deprecated and will be changed to True in a future version of pandas. Pass observed=False to retain current behavior or observed=True to adopt the future default and silence this warning.\n",
      "  merged_df_race_dict = dict(merged_df.groupby(['race_group']).groups)\n",
      "Testing weights for abd_exp_01:  41%|████      | 41/101 [00:16<00:23,  2.55it/s]<ipython-input-6-d61cf6b7d348>:36: FutureWarning: The default of observed=False is deprecated and will be changed to True in a future version of pandas. Pass observed=False to retain current behavior or observed=True to adopt the future default and silence this warning.\n",
      "  merged_df_race_dict = dict(merged_df.groupby(['race_group']).groups)\n",
      "Testing weights for abd_exp_01:  42%|████▏     | 42/101 [00:16<00:23,  2.54it/s]<ipython-input-6-d61cf6b7d348>:36: FutureWarning: The default of observed=False is deprecated and will be changed to True in a future version of pandas. Pass observed=False to retain current behavior or observed=True to adopt the future default and silence this warning.\n",
      "  merged_df_race_dict = dict(merged_df.groupby(['race_group']).groups)\n",
      "Testing weights for abd_exp_01:  43%|████▎     | 43/101 [00:17<00:22,  2.54it/s]<ipython-input-6-d61cf6b7d348>:36: FutureWarning: The default of observed=False is deprecated and will be changed to True in a future version of pandas. Pass observed=False to retain current behavior or observed=True to adopt the future default and silence this warning.\n",
      "  merged_df_race_dict = dict(merged_df.groupby(['race_group']).groups)\n",
      "Testing weights for abd_exp_01:  44%|████▎     | 44/101 [00:17<00:22,  2.53it/s]<ipython-input-6-d61cf6b7d348>:36: FutureWarning: The default of observed=False is deprecated and will be changed to True in a future version of pandas. Pass observed=False to retain current behavior or observed=True to adopt the future default and silence this warning.\n",
      "  merged_df_race_dict = dict(merged_df.groupby(['race_group']).groups)\n",
      "Testing weights for abd_exp_01:  45%|████▍     | 45/101 [00:17<00:22,  2.52it/s]<ipython-input-6-d61cf6b7d348>:36: FutureWarning: The default of observed=False is deprecated and will be changed to True in a future version of pandas. Pass observed=False to retain current behavior or observed=True to adopt the future default and silence this warning.\n",
      "  merged_df_race_dict = dict(merged_df.groupby(['race_group']).groups)\n",
      "Testing weights for abd_exp_01:  46%|████▌     | 46/101 [00:18<00:22,  2.48it/s]<ipython-input-6-d61cf6b7d348>:36: FutureWarning: The default of observed=False is deprecated and will be changed to True in a future version of pandas. Pass observed=False to retain current behavior or observed=True to adopt the future default and silence this warning.\n",
      "  merged_df_race_dict = dict(merged_df.groupby(['race_group']).groups)\n",
      "Testing weights for abd_exp_01:  47%|████▋     | 47/101 [00:18<00:21,  2.50it/s]<ipython-input-6-d61cf6b7d348>:36: FutureWarning: The default of observed=False is deprecated and will be changed to True in a future version of pandas. Pass observed=False to retain current behavior or observed=True to adopt the future default and silence this warning.\n",
      "  merged_df_race_dict = dict(merged_df.groupby(['race_group']).groups)\n",
      "Testing weights for abd_exp_01:  48%|████▊     | 48/101 [00:19<00:21,  2.48it/s]<ipython-input-6-d61cf6b7d348>:36: FutureWarning: The default of observed=False is deprecated and will be changed to True in a future version of pandas. Pass observed=False to retain current behavior or observed=True to adopt the future default and silence this warning.\n",
      "  merged_df_race_dict = dict(merged_df.groupby(['race_group']).groups)\n",
      "Testing weights for abd_exp_01:  49%|████▊     | 49/101 [00:19<00:20,  2.49it/s]<ipython-input-6-d61cf6b7d348>:36: FutureWarning: The default of observed=False is deprecated and will be changed to True in a future version of pandas. Pass observed=False to retain current behavior or observed=True to adopt the future default and silence this warning.\n",
      "  merged_df_race_dict = dict(merged_df.groupby(['race_group']).groups)\n",
      "Testing weights for abd_exp_01:  50%|████▉     | 50/101 [00:19<00:20,  2.51it/s]<ipython-input-6-d61cf6b7d348>:36: FutureWarning: The default of observed=False is deprecated and will be changed to True in a future version of pandas. Pass observed=False to retain current behavior or observed=True to adopt the future default and silence this warning.\n",
      "  merged_df_race_dict = dict(merged_df.groupby(['race_group']).groups)\n",
      "Testing weights for abd_exp_01:  50%|█████     | 51/101 [00:20<00:19,  2.52it/s]<ipython-input-6-d61cf6b7d348>:36: FutureWarning: The default of observed=False is deprecated and will be changed to True in a future version of pandas. Pass observed=False to retain current behavior or observed=True to adopt the future default and silence this warning.\n",
      "  merged_df_race_dict = dict(merged_df.groupby(['race_group']).groups)\n",
      "Testing weights for abd_exp_01:  51%|█████▏    | 52/101 [00:20<00:19,  2.52it/s]<ipython-input-6-d61cf6b7d348>:36: FutureWarning: The default of observed=False is deprecated and will be changed to True in a future version of pandas. Pass observed=False to retain current behavior or observed=True to adopt the future default and silence this warning.\n",
      "  merged_df_race_dict = dict(merged_df.groupby(['race_group']).groups)\n",
      "Testing weights for abd_exp_01:  52%|█████▏    | 53/101 [00:21<00:19,  2.50it/s]<ipython-input-6-d61cf6b7d348>:36: FutureWarning: The default of observed=False is deprecated and will be changed to True in a future version of pandas. Pass observed=False to retain current behavior or observed=True to adopt the future default and silence this warning.\n",
      "  merged_df_race_dict = dict(merged_df.groupby(['race_group']).groups)\n",
      "Testing weights for abd_exp_01:  53%|█████▎    | 54/101 [00:21<00:18,  2.48it/s]<ipython-input-6-d61cf6b7d348>:36: FutureWarning: The default of observed=False is deprecated and will be changed to True in a future version of pandas. Pass observed=False to retain current behavior or observed=True to adopt the future default and silence this warning.\n",
      "  merged_df_race_dict = dict(merged_df.groupby(['race_group']).groups)\n",
      "Testing weights for abd_exp_01:  54%|█████▍    | 55/101 [00:21<00:18,  2.49it/s]<ipython-input-6-d61cf6b7d348>:36: FutureWarning: The default of observed=False is deprecated and will be changed to True in a future version of pandas. Pass observed=False to retain current behavior or observed=True to adopt the future default and silence this warning.\n",
      "  merged_df_race_dict = dict(merged_df.groupby(['race_group']).groups)\n",
      "Testing weights for abd_exp_01:  55%|█████▌    | 56/101 [00:22<00:18,  2.49it/s]<ipython-input-6-d61cf6b7d348>:36: FutureWarning: The default of observed=False is deprecated and will be changed to True in a future version of pandas. Pass observed=False to retain current behavior or observed=True to adopt the future default and silence this warning.\n",
      "  merged_df_race_dict = dict(merged_df.groupby(['race_group']).groups)\n",
      "Testing weights for abd_exp_01:  56%|█████▋    | 57/101 [00:22<00:17,  2.51it/s]<ipython-input-6-d61cf6b7d348>:36: FutureWarning: The default of observed=False is deprecated and will be changed to True in a future version of pandas. Pass observed=False to retain current behavior or observed=True to adopt the future default and silence this warning.\n",
      "  merged_df_race_dict = dict(merged_df.groupby(['race_group']).groups)\n",
      "Testing weights for abd_exp_01:  57%|█████▋    | 58/101 [00:23<00:17,  2.51it/s]<ipython-input-6-d61cf6b7d348>:36: FutureWarning: The default of observed=False is deprecated and will be changed to True in a future version of pandas. Pass observed=False to retain current behavior or observed=True to adopt the future default and silence this warning.\n",
      "  merged_df_race_dict = dict(merged_df.groupby(['race_group']).groups)\n",
      "Testing weights for abd_exp_01:  58%|█████▊    | 59/101 [00:23<00:16,  2.51it/s]<ipython-input-6-d61cf6b7d348>:36: FutureWarning: The default of observed=False is deprecated and will be changed to True in a future version of pandas. Pass observed=False to retain current behavior or observed=True to adopt the future default and silence this warning.\n",
      "  merged_df_race_dict = dict(merged_df.groupby(['race_group']).groups)\n",
      "Testing weights for abd_exp_01:  59%|█████▉    | 60/101 [00:23<00:16,  2.53it/s]<ipython-input-6-d61cf6b7d348>:36: FutureWarning: The default of observed=False is deprecated and will be changed to True in a future version of pandas. Pass observed=False to retain current behavior or observed=True to adopt the future default and silence this warning.\n",
      "  merged_df_race_dict = dict(merged_df.groupby(['race_group']).groups)\n",
      "Testing weights for abd_exp_01:  60%|██████    | 61/101 [00:24<00:15,  2.53it/s]<ipython-input-6-d61cf6b7d348>:36: FutureWarning: The default of observed=False is deprecated and will be changed to True in a future version of pandas. Pass observed=False to retain current behavior or observed=True to adopt the future default and silence this warning.\n",
      "  merged_df_race_dict = dict(merged_df.groupby(['race_group']).groups)\n",
      "Testing weights for abd_exp_01:  61%|██████▏   | 62/101 [00:24<00:15,  2.54it/s]<ipython-input-6-d61cf6b7d348>:36: FutureWarning: The default of observed=False is deprecated and will be changed to True in a future version of pandas. Pass observed=False to retain current behavior or observed=True to adopt the future default and silence this warning.\n",
      "  merged_df_race_dict = dict(merged_df.groupby(['race_group']).groups)\n",
      "Testing weights for abd_exp_01:  62%|██████▏   | 63/101 [00:25<00:14,  2.55it/s]<ipython-input-6-d61cf6b7d348>:36: FutureWarning: The default of observed=False is deprecated and will be changed to True in a future version of pandas. Pass observed=False to retain current behavior or observed=True to adopt the future default and silence this warning.\n",
      "  merged_df_race_dict = dict(merged_df.groupby(['race_group']).groups)\n",
      "Testing weights for abd_exp_01:  63%|██████▎   | 64/101 [00:25<00:14,  2.54it/s]<ipython-input-6-d61cf6b7d348>:36: FutureWarning: The default of observed=False is deprecated and will be changed to True in a future version of pandas. Pass observed=False to retain current behavior or observed=True to adopt the future default and silence this warning.\n",
      "  merged_df_race_dict = dict(merged_df.groupby(['race_group']).groups)\n",
      "Testing weights for abd_exp_01:  64%|██████▍   | 65/101 [00:25<00:14,  2.53it/s]<ipython-input-6-d61cf6b7d348>:36: FutureWarning: The default of observed=False is deprecated and will be changed to True in a future version of pandas. Pass observed=False to retain current behavior or observed=True to adopt the future default and silence this warning.\n",
      "  merged_df_race_dict = dict(merged_df.groupby(['race_group']).groups)\n",
      "Testing weights for abd_exp_01:  65%|██████▌   | 66/101 [00:26<00:13,  2.54it/s]<ipython-input-6-d61cf6b7d348>:36: FutureWarning: The default of observed=False is deprecated and will be changed to True in a future version of pandas. Pass observed=False to retain current behavior or observed=True to adopt the future default and silence this warning.\n",
      "  merged_df_race_dict = dict(merged_df.groupby(['race_group']).groups)\n",
      "Testing weights for abd_exp_01:  66%|██████▋   | 67/101 [00:26<00:13,  2.54it/s]<ipython-input-6-d61cf6b7d348>:36: FutureWarning: The default of observed=False is deprecated and will be changed to True in a future version of pandas. Pass observed=False to retain current behavior or observed=True to adopt the future default and silence this warning.\n",
      "  merged_df_race_dict = dict(merged_df.groupby(['race_group']).groups)\n",
      "Testing weights for abd_exp_01:  67%|██████▋   | 68/101 [00:27<00:12,  2.55it/s]<ipython-input-6-d61cf6b7d348>:36: FutureWarning: The default of observed=False is deprecated and will be changed to True in a future version of pandas. Pass observed=False to retain current behavior or observed=True to adopt the future default and silence this warning.\n",
      "  merged_df_race_dict = dict(merged_df.groupby(['race_group']).groups)\n",
      "Testing weights for abd_exp_01:  68%|██████▊   | 69/101 [00:27<00:12,  2.54it/s]<ipython-input-6-d61cf6b7d348>:36: FutureWarning: The default of observed=False is deprecated and will be changed to True in a future version of pandas. Pass observed=False to retain current behavior or observed=True to adopt the future default and silence this warning.\n",
      "  merged_df_race_dict = dict(merged_df.groupby(['race_group']).groups)\n",
      "Testing weights for abd_exp_01:  69%|██████▉   | 70/101 [00:27<00:12,  2.54it/s]<ipython-input-6-d61cf6b7d348>:36: FutureWarning: The default of observed=False is deprecated and will be changed to True in a future version of pandas. Pass observed=False to retain current behavior or observed=True to adopt the future default and silence this warning.\n",
      "  merged_df_race_dict = dict(merged_df.groupby(['race_group']).groups)\n",
      "Testing weights for abd_exp_01:  70%|███████   | 71/101 [00:28<00:12,  2.46it/s]<ipython-input-6-d61cf6b7d348>:36: FutureWarning: The default of observed=False is deprecated and will be changed to True in a future version of pandas. Pass observed=False to retain current behavior or observed=True to adopt the future default and silence this warning.\n",
      "  merged_df_race_dict = dict(merged_df.groupby(['race_group']).groups)\n",
      "Testing weights for abd_exp_01:  71%|███████▏  | 72/101 [00:28<00:11,  2.49it/s]<ipython-input-6-d61cf6b7d348>:36: FutureWarning: The default of observed=False is deprecated and will be changed to True in a future version of pandas. Pass observed=False to retain current behavior or observed=True to adopt the future default and silence this warning.\n",
      "  merged_df_race_dict = dict(merged_df.groupby(['race_group']).groups)\n",
      "Testing weights for abd_exp_01:  72%|███████▏  | 73/101 [00:29<00:11,  2.51it/s]<ipython-input-6-d61cf6b7d348>:36: FutureWarning: The default of observed=False is deprecated and will be changed to True in a future version of pandas. Pass observed=False to retain current behavior or observed=True to adopt the future default and silence this warning.\n",
      "  merged_df_race_dict = dict(merged_df.groupby(['race_group']).groups)\n",
      "Testing weights for abd_exp_01:  73%|███████▎  | 74/101 [00:29<00:10,  2.51it/s]<ipython-input-6-d61cf6b7d348>:36: FutureWarning: The default of observed=False is deprecated and will be changed to True in a future version of pandas. Pass observed=False to retain current behavior or observed=True to adopt the future default and silence this warning.\n",
      "  merged_df_race_dict = dict(merged_df.groupby(['race_group']).groups)\n",
      "Testing weights for abd_exp_01:  74%|███████▍  | 75/101 [00:29<00:10,  2.51it/s]<ipython-input-6-d61cf6b7d348>:36: FutureWarning: The default of observed=False is deprecated and will be changed to True in a future version of pandas. Pass observed=False to retain current behavior or observed=True to adopt the future default and silence this warning.\n",
      "  merged_df_race_dict = dict(merged_df.groupby(['race_group']).groups)\n",
      "Testing weights for abd_exp_01:  75%|███████▌  | 76/101 [00:30<00:10,  2.50it/s]<ipython-input-6-d61cf6b7d348>:36: FutureWarning: The default of observed=False is deprecated and will be changed to True in a future version of pandas. Pass observed=False to retain current behavior or observed=True to adopt the future default and silence this warning.\n",
      "  merged_df_race_dict = dict(merged_df.groupby(['race_group']).groups)\n",
      "Testing weights for abd_exp_01:  76%|███████▌  | 77/101 [00:30<00:09,  2.50it/s]<ipython-input-6-d61cf6b7d348>:36: FutureWarning: The default of observed=False is deprecated and will be changed to True in a future version of pandas. Pass observed=False to retain current behavior or observed=True to adopt the future default and silence this warning.\n",
      "  merged_df_race_dict = dict(merged_df.groupby(['race_group']).groups)\n",
      "Testing weights for abd_exp_01:  77%|███████▋  | 78/101 [00:31<00:09,  2.51it/s]<ipython-input-6-d61cf6b7d348>:36: FutureWarning: The default of observed=False is deprecated and will be changed to True in a future version of pandas. Pass observed=False to retain current behavior or observed=True to adopt the future default and silence this warning.\n",
      "  merged_df_race_dict = dict(merged_df.groupby(['race_group']).groups)\n",
      "Testing weights for abd_exp_01:  78%|███████▊  | 79/101 [00:31<00:08,  2.49it/s]<ipython-input-6-d61cf6b7d348>:36: FutureWarning: The default of observed=False is deprecated and will be changed to True in a future version of pandas. Pass observed=False to retain current behavior or observed=True to adopt the future default and silence this warning.\n",
      "  merged_df_race_dict = dict(merged_df.groupby(['race_group']).groups)\n",
      "Testing weights for abd_exp_01:  79%|███████▉  | 80/101 [00:31<00:08,  2.50it/s]<ipython-input-6-d61cf6b7d348>:36: FutureWarning: The default of observed=False is deprecated and will be changed to True in a future version of pandas. Pass observed=False to retain current behavior or observed=True to adopt the future default and silence this warning.\n",
      "  merged_df_race_dict = dict(merged_df.groupby(['race_group']).groups)\n",
      "Testing weights for abd_exp_01:  80%|████████  | 81/101 [00:32<00:07,  2.50it/s]<ipython-input-6-d61cf6b7d348>:36: FutureWarning: The default of observed=False is deprecated and will be changed to True in a future version of pandas. Pass observed=False to retain current behavior or observed=True to adopt the future default and silence this warning.\n",
      "  merged_df_race_dict = dict(merged_df.groupby(['race_group']).groups)\n",
      "Testing weights for abd_exp_01:  81%|████████  | 82/101 [00:32<00:07,  2.50it/s]<ipython-input-6-d61cf6b7d348>:36: FutureWarning: The default of observed=False is deprecated and will be changed to True in a future version of pandas. Pass observed=False to retain current behavior or observed=True to adopt the future default and silence this warning.\n",
      "  merged_df_race_dict = dict(merged_df.groupby(['race_group']).groups)\n",
      "Testing weights for abd_exp_01:  82%|████████▏ | 83/101 [00:33<00:07,  2.51it/s]<ipython-input-6-d61cf6b7d348>:36: FutureWarning: The default of observed=False is deprecated and will be changed to True in a future version of pandas. Pass observed=False to retain current behavior or observed=True to adopt the future default and silence this warning.\n",
      "  merged_df_race_dict = dict(merged_df.groupby(['race_group']).groups)\n",
      "Testing weights for abd_exp_01:  83%|████████▎ | 84/101 [00:33<00:06,  2.51it/s]<ipython-input-6-d61cf6b7d348>:36: FutureWarning: The default of observed=False is deprecated and will be changed to True in a future version of pandas. Pass observed=False to retain current behavior or observed=True to adopt the future default and silence this warning.\n",
      "  merged_df_race_dict = dict(merged_df.groupby(['race_group']).groups)\n",
      "Testing weights for abd_exp_01:  84%|████████▍ | 85/101 [00:33<00:06,  2.50it/s]<ipython-input-6-d61cf6b7d348>:36: FutureWarning: The default of observed=False is deprecated and will be changed to True in a future version of pandas. Pass observed=False to retain current behavior or observed=True to adopt the future default and silence this warning.\n",
      "  merged_df_race_dict = dict(merged_df.groupby(['race_group']).groups)\n",
      "Testing weights for abd_exp_01:  85%|████████▌ | 86/101 [00:34<00:06,  2.46it/s]<ipython-input-6-d61cf6b7d348>:36: FutureWarning: The default of observed=False is deprecated and will be changed to True in a future version of pandas. Pass observed=False to retain current behavior or observed=True to adopt the future default and silence this warning.\n",
      "  merged_df_race_dict = dict(merged_df.groupby(['race_group']).groups)\n",
      "Testing weights for abd_exp_01:  86%|████████▌ | 87/101 [00:34<00:05,  2.48it/s]<ipython-input-6-d61cf6b7d348>:36: FutureWarning: The default of observed=False is deprecated and will be changed to True in a future version of pandas. Pass observed=False to retain current behavior or observed=True to adopt the future default and silence this warning.\n",
      "  merged_df_race_dict = dict(merged_df.groupby(['race_group']).groups)\n",
      "Testing weights for abd_exp_01:  87%|████████▋ | 88/101 [00:35<00:05,  2.50it/s]<ipython-input-6-d61cf6b7d348>:36: FutureWarning: The default of observed=False is deprecated and will be changed to True in a future version of pandas. Pass observed=False to retain current behavior or observed=True to adopt the future default and silence this warning.\n",
      "  merged_df_race_dict = dict(merged_df.groupby(['race_group']).groups)\n",
      "Testing weights for abd_exp_01:  88%|████████▊ | 89/101 [00:35<00:04,  2.51it/s]<ipython-input-6-d61cf6b7d348>:36: FutureWarning: The default of observed=False is deprecated and will be changed to True in a future version of pandas. Pass observed=False to retain current behavior or observed=True to adopt the future default and silence this warning.\n",
      "  merged_df_race_dict = dict(merged_df.groupby(['race_group']).groups)\n",
      "Testing weights for abd_exp_01:  89%|████████▉ | 90/101 [00:35<00:04,  2.52it/s]<ipython-input-6-d61cf6b7d348>:36: FutureWarning: The default of observed=False is deprecated and will be changed to True in a future version of pandas. Pass observed=False to retain current behavior or observed=True to adopt the future default and silence this warning.\n",
      "  merged_df_race_dict = dict(merged_df.groupby(['race_group']).groups)\n",
      "Testing weights for abd_exp_01:  90%|█████████ | 91/101 [00:36<00:03,  2.52it/s]<ipython-input-6-d61cf6b7d348>:36: FutureWarning: The default of observed=False is deprecated and will be changed to True in a future version of pandas. Pass observed=False to retain current behavior or observed=True to adopt the future default and silence this warning.\n",
      "  merged_df_race_dict = dict(merged_df.groupby(['race_group']).groups)\n",
      "Testing weights for abd_exp_01:  91%|█████████ | 92/101 [00:36<00:03,  2.52it/s]<ipython-input-6-d61cf6b7d348>:36: FutureWarning: The default of observed=False is deprecated and will be changed to True in a future version of pandas. Pass observed=False to retain current behavior or observed=True to adopt the future default and silence this warning.\n",
      "  merged_df_race_dict = dict(merged_df.groupby(['race_group']).groups)\n",
      "Testing weights for abd_exp_01:  92%|█████████▏| 93/101 [00:36<00:03,  2.52it/s]<ipython-input-6-d61cf6b7d348>:36: FutureWarning: The default of observed=False is deprecated and will be changed to True in a future version of pandas. Pass observed=False to retain current behavior or observed=True to adopt the future default and silence this warning.\n",
      "  merged_df_race_dict = dict(merged_df.groupby(['race_group']).groups)\n",
      "Testing weights for abd_exp_01:  93%|█████████▎| 94/101 [00:37<00:02,  2.42it/s]<ipython-input-6-d61cf6b7d348>:36: FutureWarning: The default of observed=False is deprecated and will be changed to True in a future version of pandas. Pass observed=False to retain current behavior or observed=True to adopt the future default and silence this warning.\n",
      "  merged_df_race_dict = dict(merged_df.groupby(['race_group']).groups)\n",
      "Testing weights for abd_exp_01:  94%|█████████▍| 95/101 [00:37<00:02,  2.29it/s]<ipython-input-6-d61cf6b7d348>:36: FutureWarning: The default of observed=False is deprecated and will be changed to True in a future version of pandas. Pass observed=False to retain current behavior or observed=True to adopt the future default and silence this warning.\n",
      "  merged_df_race_dict = dict(merged_df.groupby(['race_group']).groups)\n",
      "Testing weights for abd_exp_01:  95%|█████████▌| 96/101 [00:38<00:02,  2.28it/s]<ipython-input-6-d61cf6b7d348>:36: FutureWarning: The default of observed=False is deprecated and will be changed to True in a future version of pandas. Pass observed=False to retain current behavior or observed=True to adopt the future default and silence this warning.\n",
      "  merged_df_race_dict = dict(merged_df.groupby(['race_group']).groups)\n",
      "Testing weights for abd_exp_01:  96%|█████████▌| 97/101 [00:38<00:01,  2.32it/s]<ipython-input-6-d61cf6b7d348>:36: FutureWarning: The default of observed=False is deprecated and will be changed to True in a future version of pandas. Pass observed=False to retain current behavior or observed=True to adopt the future default and silence this warning.\n",
      "  merged_df_race_dict = dict(merged_df.groupby(['race_group']).groups)\n",
      "Testing weights for abd_exp_01:  97%|█████████▋| 98/101 [00:39<00:01,  2.37it/s]<ipython-input-6-d61cf6b7d348>:36: FutureWarning: The default of observed=False is deprecated and will be changed to True in a future version of pandas. Pass observed=False to retain current behavior or observed=True to adopt the future default and silence this warning.\n",
      "  merged_df_race_dict = dict(merged_df.groupby(['race_group']).groups)\n",
      "Testing weights for abd_exp_01:  98%|█████████▊| 99/101 [00:39<00:00,  2.42it/s]<ipython-input-6-d61cf6b7d348>:36: FutureWarning: The default of observed=False is deprecated and will be changed to True in a future version of pandas. Pass observed=False to retain current behavior or observed=True to adopt the future default and silence this warning.\n",
      "  merged_df_race_dict = dict(merged_df.groupby(['race_group']).groups)\n",
      "Testing weights for abd_exp_01:  99%|█████████▉| 100/101 [00:39<00:00,  2.46it/s]<ipython-input-6-d61cf6b7d348>:36: FutureWarning: The default of observed=False is deprecated and will be changed to True in a future version of pandas. Pass observed=False to retain current behavior or observed=True to adopt the future default and silence this warning.\n",
      "  merged_df_race_dict = dict(merged_df.groupby(['race_group']).groups)\n",
      "Testing weights for abd_exp_01: 100%|██████████| 101/101 [00:40<00:00,  2.50it/s]\n"
     ]
    },
    {
     "name": "stdout",
     "output_type": "stream",
     "text": [
      "here -> /kaggle/input/catboost-exp-04\n"
     ]
    },
    {
     "name": "stderr",
     "output_type": "stream",
     "text": [
      "Testing weights for catboost_exp_04: 100%|██████████| 101/101 [00:40<00:00,  2.52it/s]\n"
     ]
    },
    {
     "name": "stdout",
     "output_type": "stream",
     "text": [
      "here -> /kaggle/input/lgbm-exp-04\n"
     ]
    },
    {
     "name": "stderr",
     "output_type": "stream",
     "text": [
      "Testing weights for lgbm_exp_04: 100%|██████████| 101/101 [00:40<00:00,  2.50it/s]\n"
     ]
    },
    {
     "name": "stdout",
     "output_type": "stream",
     "text": [
      "here -> /kaggle/input/tabm-exp-02\n"
     ]
    },
    {
     "name": "stderr",
     "output_type": "stream",
     "text": [
      "Testing weights for tabm_exp_02: 100%|██████████| 101/101 [00:39<00:00,  2.53it/s]\n"
     ]
    },
    {
     "name": "stdout",
     "output_type": "stream",
     "text": [
      "here -> /kaggle/input/ds-exp-01\n"
     ]
    },
    {
     "name": "stderr",
     "output_type": "stream",
     "text": [
      "Testing weights for ds_exp_01: 100%|██████████| 101/101 [00:39<00:00,  2.55it/s]\n"
     ]
    },
    {
     "name": "stdout",
     "output_type": "stream",
     "text": [
      "here -> /kaggle/input/nn-exp-02\n"
     ]
    },
    {
     "name": "stderr",
     "output_type": "stream",
     "text": [
      "Testing weights for nn_exp_02: 100%|██████████| 101/101 [00:39<00:00,  2.53it/s]\n"
     ]
    },
    {
     "name": "stdout",
     "output_type": "stream",
     "text": [
      "here -> /kaggle/input/tabm-exp-03\n"
     ]
    },
    {
     "name": "stderr",
     "output_type": "stream",
     "text": [
      "Testing weights for tabm_exp_03: 100%|██████████| 101/101 [00:40<00:00,  2.51it/s]\n"
     ]
    },
    {
     "name": "stdout",
     "output_type": "stream",
     "text": [
      "here -> /kaggle/input/catboost-exp-05\n"
     ]
    },
    {
     "name": "stderr",
     "output_type": "stream",
     "text": [
      "Testing weights for catboost_exp_05: 100%|██████████| 101/101 [00:39<00:00,  2.53it/s]\n"
     ]
    },
    {
     "name": "stdout",
     "output_type": "stream",
     "text": [
      "Iteration 3: Added /kaggle/input/ds-exp-01 with weight 0.0700, Score: 0.6855\n",
      "3th iteration\n",
      "here -> /kaggle/input/xgboost-exp-01\n"
     ]
    },
    {
     "name": "stderr",
     "output_type": "stream",
     "text": [
      "Testing weights for xgboost_exp_01: 100%|██████████| 101/101 [00:40<00:00,  2.50it/s]\n"
     ]
    },
    {
     "name": "stdout",
     "output_type": "stream",
     "text": [
      "here -> /kaggle/input/lgbm-exp-01\n"
     ]
    },
    {
     "name": "stderr",
     "output_type": "stream",
     "text": [
      "Testing weights for lgbm_exp_01: 100%|██████████| 101/101 [00:39<00:00,  2.53it/s]\n"
     ]
    },
    {
     "name": "stdout",
     "output_type": "stream",
     "text": [
      "here -> /kaggle/input/xgboost-exp-02\n"
     ]
    },
    {
     "name": "stderr",
     "output_type": "stream",
     "text": [
      "Testing weights for xgboost_exp_02: 100%|██████████| 101/101 [00:39<00:00,  2.53it/s]\n"
     ]
    },
    {
     "name": "stdout",
     "output_type": "stream",
     "text": [
      "here -> /kaggle/input/catboost-exp-02\n"
     ]
    },
    {
     "name": "stderr",
     "output_type": "stream",
     "text": [
      "Testing weights for catboost_exp_02: 100%|██████████| 101/101 [00:39<00:00,  2.54it/s]\n"
     ]
    },
    {
     "name": "stdout",
     "output_type": "stream",
     "text": [
      "here -> /kaggle/input/lgbm-exp-03\n"
     ]
    },
    {
     "name": "stderr",
     "output_type": "stream",
     "text": [
      "Testing weights for lgbm_exp_03: 100%|██████████| 101/101 [00:39<00:00,  2.55it/s]\n"
     ]
    },
    {
     "name": "stdout",
     "output_type": "stream",
     "text": [
      "here -> /kaggle/input/catboost-exp-03\n"
     ]
    },
    {
     "name": "stderr",
     "output_type": "stream",
     "text": [
      "Testing weights for catboost_exp_03: 100%|██████████| 101/101 [00:39<00:00,  2.53it/s]\n"
     ]
    },
    {
     "name": "stdout",
     "output_type": "stream",
     "text": [
      "here -> /kaggle/input/tabm-exp-01\n"
     ]
    },
    {
     "name": "stderr",
     "output_type": "stream",
     "text": [
      "Testing weights for tabm_exp_01: 100%|██████████| 101/101 [00:40<00:00,  2.51it/s]\n"
     ]
    },
    {
     "name": "stdout",
     "output_type": "stream",
     "text": [
      "here -> /kaggle/input/nn-exp-01\n"
     ]
    },
    {
     "name": "stderr",
     "output_type": "stream",
     "text": [
      "Testing weights for nn_exp_01: 100%|██████████| 101/101 [00:40<00:00,  2.52it/s]\n"
     ]
    },
    {
     "name": "stdout",
     "output_type": "stream",
     "text": [
      "here -> /kaggle/input/tn-exp-01\n"
     ]
    },
    {
     "name": "stderr",
     "output_type": "stream",
     "text": [
      "Testing weights for tn_exp_01: 100%|██████████| 101/101 [00:39<00:00,  2.53it/s]\n"
     ]
    },
    {
     "name": "stdout",
     "output_type": "stream",
     "text": [
      "here -> /kaggle/input/tf-exp-01\n"
     ]
    },
    {
     "name": "stderr",
     "output_type": "stream",
     "text": [
      "Testing weights for tf_exp_01: 100%|██████████| 101/101 [00:40<00:00,  2.49it/s]\n"
     ]
    },
    {
     "name": "stdout",
     "output_type": "stream",
     "text": [
      "here -> /kaggle/input/svr-exp-01\n"
     ]
    },
    {
     "name": "stderr",
     "output_type": "stream",
     "text": [
      "Testing weights for svr_exp_01: 100%|██████████| 101/101 [00:40<00:00,  2.52it/s]\n"
     ]
    },
    {
     "name": "stdout",
     "output_type": "stream",
     "text": [
      "here -> /kaggle/input/abd-exp-01\n"
     ]
    },
    {
     "name": "stderr",
     "output_type": "stream",
     "text": [
      "Testing weights for abd_exp_01:   0%|          | 0/101 [00:00<?, ?it/s]<ipython-input-6-d61cf6b7d348>:36: FutureWarning: The default of observed=False is deprecated and will be changed to True in a future version of pandas. Pass observed=False to retain current behavior or observed=True to adopt the future default and silence this warning.\n",
      "  merged_df_race_dict = dict(merged_df.groupby(['race_group']).groups)\n",
      "Testing weights for abd_exp_01:   1%|          | 1/101 [00:00<00:41,  2.43it/s]<ipython-input-6-d61cf6b7d348>:36: FutureWarning: The default of observed=False is deprecated and will be changed to True in a future version of pandas. Pass observed=False to retain current behavior or observed=True to adopt the future default and silence this warning.\n",
      "  merged_df_race_dict = dict(merged_df.groupby(['race_group']).groups)\n",
      "Testing weights for abd_exp_01:   2%|▏         | 2/101 [00:00<00:40,  2.44it/s]<ipython-input-6-d61cf6b7d348>:36: FutureWarning: The default of observed=False is deprecated and will be changed to True in a future version of pandas. Pass observed=False to retain current behavior or observed=True to adopt the future default and silence this warning.\n",
      "  merged_df_race_dict = dict(merged_df.groupby(['race_group']).groups)\n",
      "Testing weights for abd_exp_01:   3%|▎         | 3/101 [00:01<00:40,  2.42it/s]<ipython-input-6-d61cf6b7d348>:36: FutureWarning: The default of observed=False is deprecated and will be changed to True in a future version of pandas. Pass observed=False to retain current behavior or observed=True to adopt the future default and silence this warning.\n",
      "  merged_df_race_dict = dict(merged_df.groupby(['race_group']).groups)\n",
      "Testing weights for abd_exp_01:   4%|▍         | 4/101 [00:01<00:39,  2.44it/s]<ipython-input-6-d61cf6b7d348>:36: FutureWarning: The default of observed=False is deprecated and will be changed to True in a future version of pandas. Pass observed=False to retain current behavior or observed=True to adopt the future default and silence this warning.\n",
      "  merged_df_race_dict = dict(merged_df.groupby(['race_group']).groups)\n",
      "Testing weights for abd_exp_01:   5%|▍         | 5/101 [00:02<00:38,  2.47it/s]<ipython-input-6-d61cf6b7d348>:36: FutureWarning: The default of observed=False is deprecated and will be changed to True in a future version of pandas. Pass observed=False to retain current behavior or observed=True to adopt the future default and silence this warning.\n",
      "  merged_df_race_dict = dict(merged_df.groupby(['race_group']).groups)\n",
      "Testing weights for abd_exp_01:   6%|▌         | 6/101 [00:02<00:38,  2.48it/s]<ipython-input-6-d61cf6b7d348>:36: FutureWarning: The default of observed=False is deprecated and will be changed to True in a future version of pandas. Pass observed=False to retain current behavior or observed=True to adopt the future default and silence this warning.\n",
      "  merged_df_race_dict = dict(merged_df.groupby(['race_group']).groups)\n",
      "Testing weights for abd_exp_01:   7%|▋         | 7/101 [00:02<00:37,  2.49it/s]<ipython-input-6-d61cf6b7d348>:36: FutureWarning: The default of observed=False is deprecated and will be changed to True in a future version of pandas. Pass observed=False to retain current behavior or observed=True to adopt the future default and silence this warning.\n",
      "  merged_df_race_dict = dict(merged_df.groupby(['race_group']).groups)\n",
      "Testing weights for abd_exp_01:   8%|▊         | 8/101 [00:03<00:37,  2.50it/s]<ipython-input-6-d61cf6b7d348>:36: FutureWarning: The default of observed=False is deprecated and will be changed to True in a future version of pandas. Pass observed=False to retain current behavior or observed=True to adopt the future default and silence this warning.\n",
      "  merged_df_race_dict = dict(merged_df.groupby(['race_group']).groups)\n",
      "Testing weights for abd_exp_01:   9%|▉         | 9/101 [00:03<00:36,  2.50it/s]<ipython-input-6-d61cf6b7d348>:36: FutureWarning: The default of observed=False is deprecated and will be changed to True in a future version of pandas. Pass observed=False to retain current behavior or observed=True to adopt the future default and silence this warning.\n",
      "  merged_df_race_dict = dict(merged_df.groupby(['race_group']).groups)\n",
      "Testing weights for abd_exp_01:  10%|▉         | 10/101 [00:04<00:36,  2.51it/s]<ipython-input-6-d61cf6b7d348>:36: FutureWarning: The default of observed=False is deprecated and will be changed to True in a future version of pandas. Pass observed=False to retain current behavior or observed=True to adopt the future default and silence this warning.\n",
      "  merged_df_race_dict = dict(merged_df.groupby(['race_group']).groups)\n",
      "Testing weights for abd_exp_01:  11%|█         | 11/101 [00:04<00:35,  2.51it/s]<ipython-input-6-d61cf6b7d348>:36: FutureWarning: The default of observed=False is deprecated and will be changed to True in a future version of pandas. Pass observed=False to retain current behavior or observed=True to adopt the future default and silence this warning.\n",
      "  merged_df_race_dict = dict(merged_df.groupby(['race_group']).groups)\n",
      "Testing weights for abd_exp_01:  12%|█▏        | 12/101 [00:04<00:35,  2.53it/s]<ipython-input-6-d61cf6b7d348>:36: FutureWarning: The default of observed=False is deprecated and will be changed to True in a future version of pandas. Pass observed=False to retain current behavior or observed=True to adopt the future default and silence this warning.\n",
      "  merged_df_race_dict = dict(merged_df.groupby(['race_group']).groups)\n",
      "Testing weights for abd_exp_01:  13%|█▎        | 13/101 [00:05<00:34,  2.54it/s]<ipython-input-6-d61cf6b7d348>:36: FutureWarning: The default of observed=False is deprecated and will be changed to True in a future version of pandas. Pass observed=False to retain current behavior or observed=True to adopt the future default and silence this warning.\n",
      "  merged_df_race_dict = dict(merged_df.groupby(['race_group']).groups)\n",
      "Testing weights for abd_exp_01:  14%|█▍        | 14/101 [00:05<00:34,  2.54it/s]<ipython-input-6-d61cf6b7d348>:36: FutureWarning: The default of observed=False is deprecated and will be changed to True in a future version of pandas. Pass observed=False to retain current behavior or observed=True to adopt the future default and silence this warning.\n",
      "  merged_df_race_dict = dict(merged_df.groupby(['race_group']).groups)\n",
      "Testing weights for abd_exp_01:  15%|█▍        | 15/101 [00:05<00:33,  2.53it/s]<ipython-input-6-d61cf6b7d348>:36: FutureWarning: The default of observed=False is deprecated and will be changed to True in a future version of pandas. Pass observed=False to retain current behavior or observed=True to adopt the future default and silence this warning.\n",
      "  merged_df_race_dict = dict(merged_df.groupby(['race_group']).groups)\n",
      "Testing weights for abd_exp_01:  16%|█▌        | 16/101 [00:06<00:33,  2.53it/s]<ipython-input-6-d61cf6b7d348>:36: FutureWarning: The default of observed=False is deprecated and will be changed to True in a future version of pandas. Pass observed=False to retain current behavior or observed=True to adopt the future default and silence this warning.\n",
      "  merged_df_race_dict = dict(merged_df.groupby(['race_group']).groups)\n",
      "Testing weights for abd_exp_01:  17%|█▋        | 17/101 [00:06<00:33,  2.54it/s]<ipython-input-6-d61cf6b7d348>:36: FutureWarning: The default of observed=False is deprecated and will be changed to True in a future version of pandas. Pass observed=False to retain current behavior or observed=True to adopt the future default and silence this warning.\n",
      "  merged_df_race_dict = dict(merged_df.groupby(['race_group']).groups)\n",
      "Testing weights for abd_exp_01:  18%|█▊        | 18/101 [00:07<00:32,  2.54it/s]<ipython-input-6-d61cf6b7d348>:36: FutureWarning: The default of observed=False is deprecated and will be changed to True in a future version of pandas. Pass observed=False to retain current behavior or observed=True to adopt the future default and silence this warning.\n",
      "  merged_df_race_dict = dict(merged_df.groupby(['race_group']).groups)\n",
      "Testing weights for abd_exp_01:  19%|█▉        | 19/101 [00:07<00:32,  2.54it/s]<ipython-input-6-d61cf6b7d348>:36: FutureWarning: The default of observed=False is deprecated and will be changed to True in a future version of pandas. Pass observed=False to retain current behavior or observed=True to adopt the future default and silence this warning.\n",
      "  merged_df_race_dict = dict(merged_df.groupby(['race_group']).groups)\n",
      "Testing weights for abd_exp_01:  20%|█▉        | 20/101 [00:07<00:31,  2.55it/s]<ipython-input-6-d61cf6b7d348>:36: FutureWarning: The default of observed=False is deprecated and will be changed to True in a future version of pandas. Pass observed=False to retain current behavior or observed=True to adopt the future default and silence this warning.\n",
      "  merged_df_race_dict = dict(merged_df.groupby(['race_group']).groups)\n",
      "Testing weights for abd_exp_01:  21%|██        | 21/101 [00:08<00:31,  2.55it/s]<ipython-input-6-d61cf6b7d348>:36: FutureWarning: The default of observed=False is deprecated and will be changed to True in a future version of pandas. Pass observed=False to retain current behavior or observed=True to adopt the future default and silence this warning.\n",
      "  merged_df_race_dict = dict(merged_df.groupby(['race_group']).groups)\n",
      "Testing weights for abd_exp_01:  22%|██▏       | 22/101 [00:08<00:31,  2.54it/s]<ipython-input-6-d61cf6b7d348>:36: FutureWarning: The default of observed=False is deprecated and will be changed to True in a future version of pandas. Pass observed=False to retain current behavior or observed=True to adopt the future default and silence this warning.\n",
      "  merged_df_race_dict = dict(merged_df.groupby(['race_group']).groups)\n",
      "Testing weights for abd_exp_01:  23%|██▎       | 23/101 [00:09<00:31,  2.48it/s]<ipython-input-6-d61cf6b7d348>:36: FutureWarning: The default of observed=False is deprecated and will be changed to True in a future version of pandas. Pass observed=False to retain current behavior or observed=True to adopt the future default and silence this warning.\n",
      "  merged_df_race_dict = dict(merged_df.groupby(['race_group']).groups)\n",
      "Testing weights for abd_exp_01:  24%|██▍       | 24/101 [00:09<00:30,  2.49it/s]<ipython-input-6-d61cf6b7d348>:36: FutureWarning: The default of observed=False is deprecated and will be changed to True in a future version of pandas. Pass observed=False to retain current behavior or observed=True to adopt the future default and silence this warning.\n",
      "  merged_df_race_dict = dict(merged_df.groupby(['race_group']).groups)\n",
      "Testing weights for abd_exp_01:  25%|██▍       | 25/101 [00:09<00:30,  2.50it/s]<ipython-input-6-d61cf6b7d348>:36: FutureWarning: The default of observed=False is deprecated and will be changed to True in a future version of pandas. Pass observed=False to retain current behavior or observed=True to adopt the future default and silence this warning.\n",
      "  merged_df_race_dict = dict(merged_df.groupby(['race_group']).groups)\n",
      "Testing weights for abd_exp_01:  26%|██▌       | 26/101 [00:10<00:29,  2.50it/s]<ipython-input-6-d61cf6b7d348>:36: FutureWarning: The default of observed=False is deprecated and will be changed to True in a future version of pandas. Pass observed=False to retain current behavior or observed=True to adopt the future default and silence this warning.\n",
      "  merged_df_race_dict = dict(merged_df.groupby(['race_group']).groups)\n",
      "Testing weights for abd_exp_01:  27%|██▋       | 27/101 [00:10<00:29,  2.51it/s]<ipython-input-6-d61cf6b7d348>:36: FutureWarning: The default of observed=False is deprecated and will be changed to True in a future version of pandas. Pass observed=False to retain current behavior or observed=True to adopt the future default and silence this warning.\n",
      "  merged_df_race_dict = dict(merged_df.groupby(['race_group']).groups)\n",
      "Testing weights for abd_exp_01:  28%|██▊       | 28/101 [00:11<00:28,  2.52it/s]<ipython-input-6-d61cf6b7d348>:36: FutureWarning: The default of observed=False is deprecated and will be changed to True in a future version of pandas. Pass observed=False to retain current behavior or observed=True to adopt the future default and silence this warning.\n",
      "  merged_df_race_dict = dict(merged_df.groupby(['race_group']).groups)\n",
      "Testing weights for abd_exp_01:  29%|██▊       | 29/101 [00:11<00:28,  2.53it/s]<ipython-input-6-d61cf6b7d348>:36: FutureWarning: The default of observed=False is deprecated and will be changed to True in a future version of pandas. Pass observed=False to retain current behavior or observed=True to adopt the future default and silence this warning.\n",
      "  merged_df_race_dict = dict(merged_df.groupby(['race_group']).groups)\n",
      "Testing weights for abd_exp_01:  30%|██▉       | 30/101 [00:11<00:28,  2.53it/s]<ipython-input-6-d61cf6b7d348>:36: FutureWarning: The default of observed=False is deprecated and will be changed to True in a future version of pandas. Pass observed=False to retain current behavior or observed=True to adopt the future default and silence this warning.\n",
      "  merged_df_race_dict = dict(merged_df.groupby(['race_group']).groups)\n",
      "Testing weights for abd_exp_01:  31%|███       | 31/101 [00:12<00:27,  2.53it/s]<ipython-input-6-d61cf6b7d348>:36: FutureWarning: The default of observed=False is deprecated and will be changed to True in a future version of pandas. Pass observed=False to retain current behavior or observed=True to adopt the future default and silence this warning.\n",
      "  merged_df_race_dict = dict(merged_df.groupby(['race_group']).groups)\n",
      "Testing weights for abd_exp_01:  32%|███▏      | 32/101 [00:12<00:27,  2.52it/s]<ipython-input-6-d61cf6b7d348>:36: FutureWarning: The default of observed=False is deprecated and will be changed to True in a future version of pandas. Pass observed=False to retain current behavior or observed=True to adopt the future default and silence this warning.\n",
      "  merged_df_race_dict = dict(merged_df.groupby(['race_group']).groups)\n",
      "Testing weights for abd_exp_01:  33%|███▎      | 33/101 [00:13<00:26,  2.52it/s]<ipython-input-6-d61cf6b7d348>:36: FutureWarning: The default of observed=False is deprecated and will be changed to True in a future version of pandas. Pass observed=False to retain current behavior or observed=True to adopt the future default and silence this warning.\n",
      "  merged_df_race_dict = dict(merged_df.groupby(['race_group']).groups)\n",
      "Testing weights for abd_exp_01:  34%|███▎      | 34/101 [00:13<00:26,  2.52it/s]<ipython-input-6-d61cf6b7d348>:36: FutureWarning: The default of observed=False is deprecated and will be changed to True in a future version of pandas. Pass observed=False to retain current behavior or observed=True to adopt the future default and silence this warning.\n",
      "  merged_df_race_dict = dict(merged_df.groupby(['race_group']).groups)\n",
      "Testing weights for abd_exp_01:  35%|███▍      | 35/101 [00:13<00:26,  2.52it/s]<ipython-input-6-d61cf6b7d348>:36: FutureWarning: The default of observed=False is deprecated and will be changed to True in a future version of pandas. Pass observed=False to retain current behavior or observed=True to adopt the future default and silence this warning.\n",
      "  merged_df_race_dict = dict(merged_df.groupby(['race_group']).groups)\n",
      "Testing weights for abd_exp_01:  36%|███▌      | 36/101 [00:14<00:25,  2.52it/s]<ipython-input-6-d61cf6b7d348>:36: FutureWarning: The default of observed=False is deprecated and will be changed to True in a future version of pandas. Pass observed=False to retain current behavior or observed=True to adopt the future default and silence this warning.\n",
      "  merged_df_race_dict = dict(merged_df.groupby(['race_group']).groups)\n",
      "Testing weights for abd_exp_01:  37%|███▋      | 37/101 [00:14<00:25,  2.52it/s]<ipython-input-6-d61cf6b7d348>:36: FutureWarning: The default of observed=False is deprecated and will be changed to True in a future version of pandas. Pass observed=False to retain current behavior or observed=True to adopt the future default and silence this warning.\n",
      "  merged_df_race_dict = dict(merged_df.groupby(['race_group']).groups)\n",
      "Testing weights for abd_exp_01:  38%|███▊      | 38/101 [00:15<00:24,  2.53it/s]<ipython-input-6-d61cf6b7d348>:36: FutureWarning: The default of observed=False is deprecated and will be changed to True in a future version of pandas. Pass observed=False to retain current behavior or observed=True to adopt the future default and silence this warning.\n",
      "  merged_df_race_dict = dict(merged_df.groupby(['race_group']).groups)\n",
      "Testing weights for abd_exp_01:  39%|███▊      | 39/101 [00:15<00:24,  2.53it/s]<ipython-input-6-d61cf6b7d348>:36: FutureWarning: The default of observed=False is deprecated and will be changed to True in a future version of pandas. Pass observed=False to retain current behavior or observed=True to adopt the future default and silence this warning.\n",
      "  merged_df_race_dict = dict(merged_df.groupby(['race_group']).groups)\n",
      "Testing weights for abd_exp_01:  40%|███▉      | 40/101 [00:15<00:24,  2.53it/s]<ipython-input-6-d61cf6b7d348>:36: FutureWarning: The default of observed=False is deprecated and will be changed to True in a future version of pandas. Pass observed=False to retain current behavior or observed=True to adopt the future default and silence this warning.\n",
      "  merged_df_race_dict = dict(merged_df.groupby(['race_group']).groups)\n",
      "Testing weights for abd_exp_01:  41%|████      | 41/101 [00:16<00:23,  2.53it/s]<ipython-input-6-d61cf6b7d348>:36: FutureWarning: The default of observed=False is deprecated and will be changed to True in a future version of pandas. Pass observed=False to retain current behavior or observed=True to adopt the future default and silence this warning.\n",
      "  merged_df_race_dict = dict(merged_df.groupby(['race_group']).groups)\n",
      "Testing weights for abd_exp_01:  42%|████▏     | 42/101 [00:16<00:23,  2.52it/s]<ipython-input-6-d61cf6b7d348>:36: FutureWarning: The default of observed=False is deprecated and will be changed to True in a future version of pandas. Pass observed=False to retain current behavior or observed=True to adopt the future default and silence this warning.\n",
      "  merged_df_race_dict = dict(merged_df.groupby(['race_group']).groups)\n",
      "Testing weights for abd_exp_01:  43%|████▎     | 43/101 [00:17<00:22,  2.53it/s]<ipython-input-6-d61cf6b7d348>:36: FutureWarning: The default of observed=False is deprecated and will be changed to True in a future version of pandas. Pass observed=False to retain current behavior or observed=True to adopt the future default and silence this warning.\n",
      "  merged_df_race_dict = dict(merged_df.groupby(['race_group']).groups)\n",
      "Testing weights for abd_exp_01:  44%|████▎     | 44/101 [00:17<00:22,  2.53it/s]<ipython-input-6-d61cf6b7d348>:36: FutureWarning: The default of observed=False is deprecated and will be changed to True in a future version of pandas. Pass observed=False to retain current behavior or observed=True to adopt the future default and silence this warning.\n",
      "  merged_df_race_dict = dict(merged_df.groupby(['race_group']).groups)\n",
      "Testing weights for abd_exp_01:  45%|████▍     | 45/101 [00:17<00:22,  2.53it/s]<ipython-input-6-d61cf6b7d348>:36: FutureWarning: The default of observed=False is deprecated and will be changed to True in a future version of pandas. Pass observed=False to retain current behavior or observed=True to adopt the future default and silence this warning.\n",
      "  merged_df_race_dict = dict(merged_df.groupby(['race_group']).groups)\n",
      "Testing weights for abd_exp_01:  46%|████▌     | 46/101 [00:18<00:21,  2.52it/s]<ipython-input-6-d61cf6b7d348>:36: FutureWarning: The default of observed=False is deprecated and will be changed to True in a future version of pandas. Pass observed=False to retain current behavior or observed=True to adopt the future default and silence this warning.\n",
      "  merged_df_race_dict = dict(merged_df.groupby(['race_group']).groups)\n",
      "Testing weights for abd_exp_01:  47%|████▋     | 47/101 [00:18<00:21,  2.52it/s]<ipython-input-6-d61cf6b7d348>:36: FutureWarning: The default of observed=False is deprecated and will be changed to True in a future version of pandas. Pass observed=False to retain current behavior or observed=True to adopt the future default and silence this warning.\n",
      "  merged_df_race_dict = dict(merged_df.groupby(['race_group']).groups)\n",
      "Testing weights for abd_exp_01:  48%|████▊     | 48/101 [00:19<00:21,  2.47it/s]<ipython-input-6-d61cf6b7d348>:36: FutureWarning: The default of observed=False is deprecated and will be changed to True in a future version of pandas. Pass observed=False to retain current behavior or observed=True to adopt the future default and silence this warning.\n",
      "  merged_df_race_dict = dict(merged_df.groupby(['race_group']).groups)\n",
      "Testing weights for abd_exp_01:  49%|████▊     | 49/101 [00:19<00:20,  2.48it/s]<ipython-input-6-d61cf6b7d348>:36: FutureWarning: The default of observed=False is deprecated and will be changed to True in a future version of pandas. Pass observed=False to retain current behavior or observed=True to adopt the future default and silence this warning.\n",
      "  merged_df_race_dict = dict(merged_df.groupby(['race_group']).groups)\n",
      "Testing weights for abd_exp_01:  50%|████▉     | 50/101 [00:19<00:20,  2.50it/s]<ipython-input-6-d61cf6b7d348>:36: FutureWarning: The default of observed=False is deprecated and will be changed to True in a future version of pandas. Pass observed=False to retain current behavior or observed=True to adopt the future default and silence this warning.\n",
      "  merged_df_race_dict = dict(merged_df.groupby(['race_group']).groups)\n",
      "Testing weights for abd_exp_01:  50%|█████     | 51/101 [00:20<00:19,  2.51it/s]<ipython-input-6-d61cf6b7d348>:36: FutureWarning: The default of observed=False is deprecated and will be changed to True in a future version of pandas. Pass observed=False to retain current behavior or observed=True to adopt the future default and silence this warning.\n",
      "  merged_df_race_dict = dict(merged_df.groupby(['race_group']).groups)\n",
      "Testing weights for abd_exp_01:  51%|█████▏    | 52/101 [00:20<00:19,  2.52it/s]<ipython-input-6-d61cf6b7d348>:36: FutureWarning: The default of observed=False is deprecated and will be changed to True in a future version of pandas. Pass observed=False to retain current behavior or observed=True to adopt the future default and silence this warning.\n",
      "  merged_df_race_dict = dict(merged_df.groupby(['race_group']).groups)\n",
      "Testing weights for abd_exp_01:  52%|█████▏    | 53/101 [00:21<00:19,  2.52it/s]<ipython-input-6-d61cf6b7d348>:36: FutureWarning: The default of observed=False is deprecated and will be changed to True in a future version of pandas. Pass observed=False to retain current behavior or observed=True to adopt the future default and silence this warning.\n",
      "  merged_df_race_dict = dict(merged_df.groupby(['race_group']).groups)\n",
      "Testing weights for abd_exp_01:  53%|█████▎    | 54/101 [00:21<00:18,  2.50it/s]<ipython-input-6-d61cf6b7d348>:36: FutureWarning: The default of observed=False is deprecated and will be changed to True in a future version of pandas. Pass observed=False to retain current behavior or observed=True to adopt the future default and silence this warning.\n",
      "  merged_df_race_dict = dict(merged_df.groupby(['race_group']).groups)\n",
      "Testing weights for abd_exp_01:  54%|█████▍    | 55/101 [00:21<00:18,  2.52it/s]<ipython-input-6-d61cf6b7d348>:36: FutureWarning: The default of observed=False is deprecated and will be changed to True in a future version of pandas. Pass observed=False to retain current behavior or observed=True to adopt the future default and silence this warning.\n",
      "  merged_df_race_dict = dict(merged_df.groupby(['race_group']).groups)\n",
      "Testing weights for abd_exp_01:  55%|█████▌    | 56/101 [00:22<00:17,  2.53it/s]<ipython-input-6-d61cf6b7d348>:36: FutureWarning: The default of observed=False is deprecated and will be changed to True in a future version of pandas. Pass observed=False to retain current behavior or observed=True to adopt the future default and silence this warning.\n",
      "  merged_df_race_dict = dict(merged_df.groupby(['race_group']).groups)\n",
      "Testing weights for abd_exp_01:  56%|█████▋    | 57/101 [00:22<00:17,  2.53it/s]<ipython-input-6-d61cf6b7d348>:36: FutureWarning: The default of observed=False is deprecated and will be changed to True in a future version of pandas. Pass observed=False to retain current behavior or observed=True to adopt the future default and silence this warning.\n",
      "  merged_df_race_dict = dict(merged_df.groupby(['race_group']).groups)\n",
      "Testing weights for abd_exp_01:  57%|█████▋    | 58/101 [00:23<00:17,  2.53it/s]<ipython-input-6-d61cf6b7d348>:36: FutureWarning: The default of observed=False is deprecated and will be changed to True in a future version of pandas. Pass observed=False to retain current behavior or observed=True to adopt the future default and silence this warning.\n",
      "  merged_df_race_dict = dict(merged_df.groupby(['race_group']).groups)\n",
      "Testing weights for abd_exp_01:  58%|█████▊    | 59/101 [00:23<00:16,  2.53it/s]<ipython-input-6-d61cf6b7d348>:36: FutureWarning: The default of observed=False is deprecated and will be changed to True in a future version of pandas. Pass observed=False to retain current behavior or observed=True to adopt the future default and silence this warning.\n",
      "  merged_df_race_dict = dict(merged_df.groupby(['race_group']).groups)\n",
      "Testing weights for abd_exp_01:  59%|█████▉    | 60/101 [00:23<00:16,  2.54it/s]<ipython-input-6-d61cf6b7d348>:36: FutureWarning: The default of observed=False is deprecated and will be changed to True in a future version of pandas. Pass observed=False to retain current behavior or observed=True to adopt the future default and silence this warning.\n",
      "  merged_df_race_dict = dict(merged_df.groupby(['race_group']).groups)\n",
      "Testing weights for abd_exp_01:  60%|██████    | 61/101 [00:24<00:15,  2.52it/s]<ipython-input-6-d61cf6b7d348>:36: FutureWarning: The default of observed=False is deprecated and will be changed to True in a future version of pandas. Pass observed=False to retain current behavior or observed=True to adopt the future default and silence this warning.\n",
      "  merged_df_race_dict = dict(merged_df.groupby(['race_group']).groups)\n",
      "Testing weights for abd_exp_01:  61%|██████▏   | 62/101 [00:24<00:15,  2.53it/s]<ipython-input-6-d61cf6b7d348>:36: FutureWarning: The default of observed=False is deprecated and will be changed to True in a future version of pandas. Pass observed=False to retain current behavior or observed=True to adopt the future default and silence this warning.\n",
      "  merged_df_race_dict = dict(merged_df.groupby(['race_group']).groups)\n",
      "Testing weights for abd_exp_01:  62%|██████▏   | 63/101 [00:25<00:14,  2.54it/s]<ipython-input-6-d61cf6b7d348>:36: FutureWarning: The default of observed=False is deprecated and will be changed to True in a future version of pandas. Pass observed=False to retain current behavior or observed=True to adopt the future default and silence this warning.\n",
      "  merged_df_race_dict = dict(merged_df.groupby(['race_group']).groups)\n",
      "Testing weights for abd_exp_01:  63%|██████▎   | 64/101 [00:25<00:14,  2.54it/s]<ipython-input-6-d61cf6b7d348>:36: FutureWarning: The default of observed=False is deprecated and will be changed to True in a future version of pandas. Pass observed=False to retain current behavior or observed=True to adopt the future default and silence this warning.\n",
      "  merged_df_race_dict = dict(merged_df.groupby(['race_group']).groups)\n",
      "Testing weights for abd_exp_01:  64%|██████▍   | 65/101 [00:25<00:14,  2.55it/s]<ipython-input-6-d61cf6b7d348>:36: FutureWarning: The default of observed=False is deprecated and will be changed to True in a future version of pandas. Pass observed=False to retain current behavior or observed=True to adopt the future default and silence this warning.\n",
      "  merged_df_race_dict = dict(merged_df.groupby(['race_group']).groups)\n",
      "Testing weights for abd_exp_01:  65%|██████▌   | 66/101 [00:26<00:13,  2.54it/s]<ipython-input-6-d61cf6b7d348>:36: FutureWarning: The default of observed=False is deprecated and will be changed to True in a future version of pandas. Pass observed=False to retain current behavior or observed=True to adopt the future default and silence this warning.\n",
      "  merged_df_race_dict = dict(merged_df.groupby(['race_group']).groups)\n",
      "Testing weights for abd_exp_01:  66%|██████▋   | 67/101 [00:26<00:13,  2.54it/s]<ipython-input-6-d61cf6b7d348>:36: FutureWarning: The default of observed=False is deprecated and will be changed to True in a future version of pandas. Pass observed=False to retain current behavior or observed=True to adopt the future default and silence this warning.\n",
      "  merged_df_race_dict = dict(merged_df.groupby(['race_group']).groups)\n",
      "Testing weights for abd_exp_01:  67%|██████▋   | 68/101 [00:26<00:12,  2.55it/s]<ipython-input-6-d61cf6b7d348>:36: FutureWarning: The default of observed=False is deprecated and will be changed to True in a future version of pandas. Pass observed=False to retain current behavior or observed=True to adopt the future default and silence this warning.\n",
      "  merged_df_race_dict = dict(merged_df.groupby(['race_group']).groups)\n",
      "Testing weights for abd_exp_01:  68%|██████▊   | 69/101 [00:27<00:12,  2.54it/s]<ipython-input-6-d61cf6b7d348>:36: FutureWarning: The default of observed=False is deprecated and will be changed to True in a future version of pandas. Pass observed=False to retain current behavior or observed=True to adopt the future default and silence this warning.\n",
      "  merged_df_race_dict = dict(merged_df.groupby(['race_group']).groups)\n",
      "Testing weights for abd_exp_01:  69%|██████▉   | 70/101 [00:27<00:12,  2.54it/s]<ipython-input-6-d61cf6b7d348>:36: FutureWarning: The default of observed=False is deprecated and will be changed to True in a future version of pandas. Pass observed=False to retain current behavior or observed=True to adopt the future default and silence this warning.\n",
      "  merged_df_race_dict = dict(merged_df.groupby(['race_group']).groups)\n",
      "Testing weights for abd_exp_01:  70%|███████   | 71/101 [00:28<00:11,  2.54it/s]<ipython-input-6-d61cf6b7d348>:36: FutureWarning: The default of observed=False is deprecated and will be changed to True in a future version of pandas. Pass observed=False to retain current behavior or observed=True to adopt the future default and silence this warning.\n",
      "  merged_df_race_dict = dict(merged_df.groupby(['race_group']).groups)\n",
      "Testing weights for abd_exp_01:  71%|███████▏  | 72/101 [00:28<00:11,  2.54it/s]<ipython-input-6-d61cf6b7d348>:36: FutureWarning: The default of observed=False is deprecated and will be changed to True in a future version of pandas. Pass observed=False to retain current behavior or observed=True to adopt the future default and silence this warning.\n",
      "  merged_df_race_dict = dict(merged_df.groupby(['race_group']).groups)\n",
      "Testing weights for abd_exp_01:  72%|███████▏  | 73/101 [00:28<00:11,  2.47it/s]<ipython-input-6-d61cf6b7d348>:36: FutureWarning: The default of observed=False is deprecated and will be changed to True in a future version of pandas. Pass observed=False to retain current behavior or observed=True to adopt the future default and silence this warning.\n",
      "  merged_df_race_dict = dict(merged_df.groupby(['race_group']).groups)\n",
      "Testing weights for abd_exp_01:  73%|███████▎  | 74/101 [00:29<00:10,  2.47it/s]<ipython-input-6-d61cf6b7d348>:36: FutureWarning: The default of observed=False is deprecated and will be changed to True in a future version of pandas. Pass observed=False to retain current behavior or observed=True to adopt the future default and silence this warning.\n",
      "  merged_df_race_dict = dict(merged_df.groupby(['race_group']).groups)\n",
      "Testing weights for abd_exp_01:  74%|███████▍  | 75/101 [00:29<00:10,  2.47it/s]<ipython-input-6-d61cf6b7d348>:36: FutureWarning: The default of observed=False is deprecated and will be changed to True in a future version of pandas. Pass observed=False to retain current behavior or observed=True to adopt the future default and silence this warning.\n",
      "  merged_df_race_dict = dict(merged_df.groupby(['race_group']).groups)\n",
      "Testing weights for abd_exp_01:  75%|███████▌  | 76/101 [00:30<00:10,  2.50it/s]<ipython-input-6-d61cf6b7d348>:36: FutureWarning: The default of observed=False is deprecated and will be changed to True in a future version of pandas. Pass observed=False to retain current behavior or observed=True to adopt the future default and silence this warning.\n",
      "  merged_df_race_dict = dict(merged_df.groupby(['race_group']).groups)\n",
      "Testing weights for abd_exp_01:  76%|███████▌  | 77/101 [00:30<00:09,  2.51it/s]<ipython-input-6-d61cf6b7d348>:36: FutureWarning: The default of observed=False is deprecated and will be changed to True in a future version of pandas. Pass observed=False to retain current behavior or observed=True to adopt the future default and silence this warning.\n",
      "  merged_df_race_dict = dict(merged_df.groupby(['race_group']).groups)\n",
      "Testing weights for abd_exp_01:  77%|███████▋  | 78/101 [00:30<00:09,  2.51it/s]<ipython-input-6-d61cf6b7d348>:36: FutureWarning: The default of observed=False is deprecated and will be changed to True in a future version of pandas. Pass observed=False to retain current behavior or observed=True to adopt the future default and silence this warning.\n",
      "  merged_df_race_dict = dict(merged_df.groupby(['race_group']).groups)\n",
      "Testing weights for abd_exp_01:  78%|███████▊  | 79/101 [00:31<00:08,  2.50it/s]<ipython-input-6-d61cf6b7d348>:36: FutureWarning: The default of observed=False is deprecated and will be changed to True in a future version of pandas. Pass observed=False to retain current behavior or observed=True to adopt the future default and silence this warning.\n",
      "  merged_df_race_dict = dict(merged_df.groupby(['race_group']).groups)\n",
      "Testing weights for abd_exp_01:  79%|███████▉  | 80/101 [00:31<00:08,  2.50it/s]<ipython-input-6-d61cf6b7d348>:36: FutureWarning: The default of observed=False is deprecated and will be changed to True in a future version of pandas. Pass observed=False to retain current behavior or observed=True to adopt the future default and silence this warning.\n",
      "  merged_df_race_dict = dict(merged_df.groupby(['race_group']).groups)\n",
      "Testing weights for abd_exp_01:  80%|████████  | 81/101 [00:32<00:07,  2.51it/s]<ipython-input-6-d61cf6b7d348>:36: FutureWarning: The default of observed=False is deprecated and will be changed to True in a future version of pandas. Pass observed=False to retain current behavior or observed=True to adopt the future default and silence this warning.\n",
      "  merged_df_race_dict = dict(merged_df.groupby(['race_group']).groups)\n",
      "Testing weights for abd_exp_01:  81%|████████  | 82/101 [00:32<00:07,  2.53it/s]<ipython-input-6-d61cf6b7d348>:36: FutureWarning: The default of observed=False is deprecated and will be changed to True in a future version of pandas. Pass observed=False to retain current behavior or observed=True to adopt the future default and silence this warning.\n",
      "  merged_df_race_dict = dict(merged_df.groupby(['race_group']).groups)\n",
      "Testing weights for abd_exp_01:  82%|████████▏ | 83/101 [00:33<00:07,  2.46it/s]<ipython-input-6-d61cf6b7d348>:36: FutureWarning: The default of observed=False is deprecated and will be changed to True in a future version of pandas. Pass observed=False to retain current behavior or observed=True to adopt the future default and silence this warning.\n",
      "  merged_df_race_dict = dict(merged_df.groupby(['race_group']).groups)\n",
      "Testing weights for abd_exp_01:  83%|████████▎ | 84/101 [00:33<00:07,  2.42it/s]<ipython-input-6-d61cf6b7d348>:36: FutureWarning: The default of observed=False is deprecated and will be changed to True in a future version of pandas. Pass observed=False to retain current behavior or observed=True to adopt the future default and silence this warning.\n",
      "  merged_df_race_dict = dict(merged_df.groupby(['race_group']).groups)\n",
      "Testing weights for abd_exp_01:  84%|████████▍ | 85/101 [00:33<00:06,  2.44it/s]<ipython-input-6-d61cf6b7d348>:36: FutureWarning: The default of observed=False is deprecated and will be changed to True in a future version of pandas. Pass observed=False to retain current behavior or observed=True to adopt the future default and silence this warning.\n",
      "  merged_df_race_dict = dict(merged_df.groupby(['race_group']).groups)\n",
      "Testing weights for abd_exp_01:  85%|████████▌ | 86/101 [00:34<00:06,  2.46it/s]<ipython-input-6-d61cf6b7d348>:36: FutureWarning: The default of observed=False is deprecated and will be changed to True in a future version of pandas. Pass observed=False to retain current behavior or observed=True to adopt the future default and silence this warning.\n",
      "  merged_df_race_dict = dict(merged_df.groupby(['race_group']).groups)\n",
      "Testing weights for abd_exp_01:  86%|████████▌ | 87/101 [00:34<00:05,  2.48it/s]<ipython-input-6-d61cf6b7d348>:36: FutureWarning: The default of observed=False is deprecated and will be changed to True in a future version of pandas. Pass observed=False to retain current behavior or observed=True to adopt the future default and silence this warning.\n",
      "  merged_df_race_dict = dict(merged_df.groupby(['race_group']).groups)\n",
      "Testing weights for abd_exp_01:  87%|████████▋ | 88/101 [00:35<00:05,  2.49it/s]<ipython-input-6-d61cf6b7d348>:36: FutureWarning: The default of observed=False is deprecated and will be changed to True in a future version of pandas. Pass observed=False to retain current behavior or observed=True to adopt the future default and silence this warning.\n",
      "  merged_df_race_dict = dict(merged_df.groupby(['race_group']).groups)\n",
      "Testing weights for abd_exp_01:  88%|████████▊ | 89/101 [00:35<00:04,  2.51it/s]<ipython-input-6-d61cf6b7d348>:36: FutureWarning: The default of observed=False is deprecated and will be changed to True in a future version of pandas. Pass observed=False to retain current behavior or observed=True to adopt the future default and silence this warning.\n",
      "  merged_df_race_dict = dict(merged_df.groupby(['race_group']).groups)\n",
      "Testing weights for abd_exp_01:  89%|████████▉ | 90/101 [00:35<00:04,  2.52it/s]<ipython-input-6-d61cf6b7d348>:36: FutureWarning: The default of observed=False is deprecated and will be changed to True in a future version of pandas. Pass observed=False to retain current behavior or observed=True to adopt the future default and silence this warning.\n",
      "  merged_df_race_dict = dict(merged_df.groupby(['race_group']).groups)\n",
      "Testing weights for abd_exp_01:  90%|█████████ | 91/101 [00:36<00:03,  2.51it/s]<ipython-input-6-d61cf6b7d348>:36: FutureWarning: The default of observed=False is deprecated and will be changed to True in a future version of pandas. Pass observed=False to retain current behavior or observed=True to adopt the future default and silence this warning.\n",
      "  merged_df_race_dict = dict(merged_df.groupby(['race_group']).groups)\n",
      "Testing weights for abd_exp_01:  91%|█████████ | 92/101 [00:36<00:03,  2.52it/s]<ipython-input-6-d61cf6b7d348>:36: FutureWarning: The default of observed=False is deprecated and will be changed to True in a future version of pandas. Pass observed=False to retain current behavior or observed=True to adopt the future default and silence this warning.\n",
      "  merged_df_race_dict = dict(merged_df.groupby(['race_group']).groups)\n",
      "Testing weights for abd_exp_01:  92%|█████████▏| 93/101 [00:37<00:03,  2.53it/s]<ipython-input-6-d61cf6b7d348>:36: FutureWarning: The default of observed=False is deprecated and will be changed to True in a future version of pandas. Pass observed=False to retain current behavior or observed=True to adopt the future default and silence this warning.\n",
      "  merged_df_race_dict = dict(merged_df.groupby(['race_group']).groups)\n",
      "Testing weights for abd_exp_01:  93%|█████████▎| 94/101 [00:37<00:02,  2.53it/s]<ipython-input-6-d61cf6b7d348>:36: FutureWarning: The default of observed=False is deprecated and will be changed to True in a future version of pandas. Pass observed=False to retain current behavior or observed=True to adopt the future default and silence this warning.\n",
      "  merged_df_race_dict = dict(merged_df.groupby(['race_group']).groups)\n",
      "Testing weights for abd_exp_01:  94%|█████████▍| 95/101 [00:37<00:02,  2.54it/s]<ipython-input-6-d61cf6b7d348>:36: FutureWarning: The default of observed=False is deprecated and will be changed to True in a future version of pandas. Pass observed=False to retain current behavior or observed=True to adopt the future default and silence this warning.\n",
      "  merged_df_race_dict = dict(merged_df.groupby(['race_group']).groups)\n",
      "Testing weights for abd_exp_01:  95%|█████████▌| 96/101 [00:38<00:01,  2.54it/s]<ipython-input-6-d61cf6b7d348>:36: FutureWarning: The default of observed=False is deprecated and will be changed to True in a future version of pandas. Pass observed=False to retain current behavior or observed=True to adopt the future default and silence this warning.\n",
      "  merged_df_race_dict = dict(merged_df.groupby(['race_group']).groups)\n",
      "Testing weights for abd_exp_01:  96%|█████████▌| 97/101 [00:38<00:01,  2.53it/s]<ipython-input-6-d61cf6b7d348>:36: FutureWarning: The default of observed=False is deprecated and will be changed to True in a future version of pandas. Pass observed=False to retain current behavior or observed=True to adopt the future default and silence this warning.\n",
      "  merged_df_race_dict = dict(merged_df.groupby(['race_group']).groups)\n",
      "Testing weights for abd_exp_01:  97%|█████████▋| 98/101 [00:39<00:01,  2.48it/s]<ipython-input-6-d61cf6b7d348>:36: FutureWarning: The default of observed=False is deprecated and will be changed to True in a future version of pandas. Pass observed=False to retain current behavior or observed=True to adopt the future default and silence this warning.\n",
      "  merged_df_race_dict = dict(merged_df.groupby(['race_group']).groups)\n",
      "Testing weights for abd_exp_01:  98%|█████████▊| 99/101 [00:39<00:00,  2.48it/s]<ipython-input-6-d61cf6b7d348>:36: FutureWarning: The default of observed=False is deprecated and will be changed to True in a future version of pandas. Pass observed=False to retain current behavior or observed=True to adopt the future default and silence this warning.\n",
      "  merged_df_race_dict = dict(merged_df.groupby(['race_group']).groups)\n",
      "Testing weights for abd_exp_01:  99%|█████████▉| 100/101 [00:39<00:00,  2.49it/s]<ipython-input-6-d61cf6b7d348>:36: FutureWarning: The default of observed=False is deprecated and will be changed to True in a future version of pandas. Pass observed=False to retain current behavior or observed=True to adopt the future default and silence this warning.\n",
      "  merged_df_race_dict = dict(merged_df.groupby(['race_group']).groups)\n",
      "Testing weights for abd_exp_01: 100%|██████████| 101/101 [00:40<00:00,  2.51it/s]\n"
     ]
    },
    {
     "name": "stdout",
     "output_type": "stream",
     "text": [
      "here -> /kaggle/input/catboost-exp-04\n"
     ]
    },
    {
     "name": "stderr",
     "output_type": "stream",
     "text": [
      "Testing weights for catboost_exp_04: 100%|██████████| 101/101 [00:39<00:00,  2.53it/s]\n"
     ]
    },
    {
     "name": "stdout",
     "output_type": "stream",
     "text": [
      "here -> /kaggle/input/lgbm-exp-04\n"
     ]
    },
    {
     "name": "stderr",
     "output_type": "stream",
     "text": [
      "Testing weights for lgbm_exp_04: 100%|██████████| 101/101 [00:39<00:00,  2.55it/s]\n"
     ]
    },
    {
     "name": "stdout",
     "output_type": "stream",
     "text": [
      "here -> /kaggle/input/tabm-exp-02\n"
     ]
    },
    {
     "name": "stderr",
     "output_type": "stream",
     "text": [
      "Testing weights for tabm_exp_02: 100%|██████████| 101/101 [00:39<00:00,  2.54it/s]\n"
     ]
    },
    {
     "name": "stdout",
     "output_type": "stream",
     "text": [
      "here -> /kaggle/input/nn-exp-02\n"
     ]
    },
    {
     "name": "stderr",
     "output_type": "stream",
     "text": [
      "Testing weights for nn_exp_02: 100%|██████████| 101/101 [00:40<00:00,  2.51it/s]\n"
     ]
    },
    {
     "name": "stdout",
     "output_type": "stream",
     "text": [
      "here -> /kaggle/input/tabm-exp-03\n"
     ]
    },
    {
     "name": "stderr",
     "output_type": "stream",
     "text": [
      "Testing weights for tabm_exp_03: 100%|██████████| 101/101 [00:40<00:00,  2.51it/s]\n"
     ]
    },
    {
     "name": "stdout",
     "output_type": "stream",
     "text": [
      "here -> /kaggle/input/catboost-exp-05\n"
     ]
    },
    {
     "name": "stderr",
     "output_type": "stream",
     "text": [
      "Testing weights for catboost_exp_05: 100%|██████████| 101/101 [00:40<00:00,  2.52it/s]\n"
     ]
    },
    {
     "name": "stdout",
     "output_type": "stream",
     "text": [
      "Iteration 4: Added /kaggle/input/tabm-exp-02 with weight 0.0900, Score: 0.6855\n",
      "4th iteration\n",
      "here -> /kaggle/input/xgboost-exp-01\n"
     ]
    },
    {
     "name": "stderr",
     "output_type": "stream",
     "text": [
      "Testing weights for xgboost_exp_01: 100%|██████████| 101/101 [00:39<00:00,  2.54it/s]\n"
     ]
    },
    {
     "name": "stdout",
     "output_type": "stream",
     "text": [
      "here -> /kaggle/input/lgbm-exp-01\n"
     ]
    },
    {
     "name": "stderr",
     "output_type": "stream",
     "text": [
      "Testing weights for lgbm_exp_01: 100%|██████████| 101/101 [00:39<00:00,  2.54it/s]\n"
     ]
    },
    {
     "name": "stdout",
     "output_type": "stream",
     "text": [
      "here -> /kaggle/input/xgboost-exp-02\n"
     ]
    },
    {
     "name": "stderr",
     "output_type": "stream",
     "text": [
      "Testing weights for xgboost_exp_02: 100%|██████████| 101/101 [00:40<00:00,  2.52it/s]\n"
     ]
    },
    {
     "name": "stdout",
     "output_type": "stream",
     "text": [
      "here -> /kaggle/input/catboost-exp-02\n"
     ]
    },
    {
     "name": "stderr",
     "output_type": "stream",
     "text": [
      "Testing weights for catboost_exp_02: 100%|██████████| 101/101 [00:40<00:00,  2.52it/s]\n"
     ]
    },
    {
     "name": "stdout",
     "output_type": "stream",
     "text": [
      "here -> /kaggle/input/lgbm-exp-03\n"
     ]
    },
    {
     "name": "stderr",
     "output_type": "stream",
     "text": [
      "Testing weights for lgbm_exp_03: 100%|██████████| 101/101 [00:40<00:00,  2.51it/s]\n"
     ]
    },
    {
     "name": "stdout",
     "output_type": "stream",
     "text": [
      "here -> /kaggle/input/catboost-exp-03\n"
     ]
    },
    {
     "name": "stderr",
     "output_type": "stream",
     "text": [
      "Testing weights for catboost_exp_03: 100%|██████████| 101/101 [00:40<00:00,  2.51it/s]\n"
     ]
    },
    {
     "name": "stdout",
     "output_type": "stream",
     "text": [
      "here -> /kaggle/input/tabm-exp-01\n"
     ]
    },
    {
     "name": "stderr",
     "output_type": "stream",
     "text": [
      "Testing weights for tabm_exp_01: 100%|██████████| 101/101 [00:40<00:00,  2.51it/s]\n"
     ]
    },
    {
     "name": "stdout",
     "output_type": "stream",
     "text": [
      "here -> /kaggle/input/nn-exp-01\n"
     ]
    },
    {
     "name": "stderr",
     "output_type": "stream",
     "text": [
      "Testing weights for nn_exp_01: 100%|██████████| 101/101 [00:39<00:00,  2.53it/s]\n"
     ]
    },
    {
     "name": "stdout",
     "output_type": "stream",
     "text": [
      "here -> /kaggle/input/tn-exp-01\n"
     ]
    },
    {
     "name": "stderr",
     "output_type": "stream",
     "text": [
      "Testing weights for tn_exp_01: 100%|██████████| 101/101 [00:39<00:00,  2.53it/s]\n"
     ]
    },
    {
     "name": "stdout",
     "output_type": "stream",
     "text": [
      "here -> /kaggle/input/tf-exp-01\n"
     ]
    },
    {
     "name": "stderr",
     "output_type": "stream",
     "text": [
      "Testing weights for tf_exp_01: 100%|██████████| 101/101 [00:39<00:00,  2.54it/s]\n"
     ]
    },
    {
     "name": "stdout",
     "output_type": "stream",
     "text": [
      "here -> /kaggle/input/svr-exp-01\n"
     ]
    },
    {
     "name": "stderr",
     "output_type": "stream",
     "text": [
      "Testing weights for svr_exp_01: 100%|██████████| 101/101 [00:40<00:00,  2.52it/s]\n"
     ]
    },
    {
     "name": "stdout",
     "output_type": "stream",
     "text": [
      "here -> /kaggle/input/abd-exp-01\n"
     ]
    },
    {
     "name": "stderr",
     "output_type": "stream",
     "text": [
      "Testing weights for abd_exp_01:   0%|          | 0/101 [00:00<?, ?it/s]<ipython-input-6-d61cf6b7d348>:36: FutureWarning: The default of observed=False is deprecated and will be changed to True in a future version of pandas. Pass observed=False to retain current behavior or observed=True to adopt the future default and silence this warning.\n",
      "  merged_df_race_dict = dict(merged_df.groupby(['race_group']).groups)\n",
      "Testing weights for abd_exp_01:   1%|          | 1/101 [00:00<00:39,  2.55it/s]<ipython-input-6-d61cf6b7d348>:36: FutureWarning: The default of observed=False is deprecated and will be changed to True in a future version of pandas. Pass observed=False to retain current behavior or observed=True to adopt the future default and silence this warning.\n",
      "  merged_df_race_dict = dict(merged_df.groupby(['race_group']).groups)\n",
      "Testing weights for abd_exp_01:   2%|▏         | 2/101 [00:00<00:38,  2.54it/s]<ipython-input-6-d61cf6b7d348>:36: FutureWarning: The default of observed=False is deprecated and will be changed to True in a future version of pandas. Pass observed=False to retain current behavior or observed=True to adopt the future default and silence this warning.\n",
      "  merged_df_race_dict = dict(merged_df.groupby(['race_group']).groups)\n",
      "Testing weights for abd_exp_01:   3%|▎         | 3/101 [00:01<00:38,  2.55it/s]<ipython-input-6-d61cf6b7d348>:36: FutureWarning: The default of observed=False is deprecated and will be changed to True in a future version of pandas. Pass observed=False to retain current behavior or observed=True to adopt the future default and silence this warning.\n",
      "  merged_df_race_dict = dict(merged_df.groupby(['race_group']).groups)\n",
      "Testing weights for abd_exp_01:   4%|▍         | 4/101 [00:01<00:37,  2.55it/s]<ipython-input-6-d61cf6b7d348>:36: FutureWarning: The default of observed=False is deprecated and will be changed to True in a future version of pandas. Pass observed=False to retain current behavior or observed=True to adopt the future default and silence this warning.\n",
      "  merged_df_race_dict = dict(merged_df.groupby(['race_group']).groups)\n",
      "Testing weights for abd_exp_01:   5%|▍         | 5/101 [00:01<00:37,  2.55it/s]<ipython-input-6-d61cf6b7d348>:36: FutureWarning: The default of observed=False is deprecated and will be changed to True in a future version of pandas. Pass observed=False to retain current behavior or observed=True to adopt the future default and silence this warning.\n",
      "  merged_df_race_dict = dict(merged_df.groupby(['race_group']).groups)\n",
      "Testing weights for abd_exp_01:   6%|▌         | 6/101 [00:02<00:37,  2.55it/s]<ipython-input-6-d61cf6b7d348>:36: FutureWarning: The default of observed=False is deprecated and will be changed to True in a future version of pandas. Pass observed=False to retain current behavior or observed=True to adopt the future default and silence this warning.\n",
      "  merged_df_race_dict = dict(merged_df.groupby(['race_group']).groups)\n",
      "Testing weights for abd_exp_01:   7%|▋         | 7/101 [00:02<00:36,  2.55it/s]<ipython-input-6-d61cf6b7d348>:36: FutureWarning: The default of observed=False is deprecated and will be changed to True in a future version of pandas. Pass observed=False to retain current behavior or observed=True to adopt the future default and silence this warning.\n",
      "  merged_df_race_dict = dict(merged_df.groupby(['race_group']).groups)\n",
      "Testing weights for abd_exp_01:   8%|▊         | 8/101 [00:03<00:36,  2.55it/s]<ipython-input-6-d61cf6b7d348>:36: FutureWarning: The default of observed=False is deprecated and will be changed to True in a future version of pandas. Pass observed=False to retain current behavior or observed=True to adopt the future default and silence this warning.\n",
      "  merged_df_race_dict = dict(merged_df.groupby(['race_group']).groups)\n",
      "Testing weights for abd_exp_01:   9%|▉         | 9/101 [00:03<00:37,  2.48it/s]<ipython-input-6-d61cf6b7d348>:36: FutureWarning: The default of observed=False is deprecated and will be changed to True in a future version of pandas. Pass observed=False to retain current behavior or observed=True to adopt the future default and silence this warning.\n",
      "  merged_df_race_dict = dict(merged_df.groupby(['race_group']).groups)\n",
      "Testing weights for abd_exp_01:  10%|▉         | 10/101 [00:03<00:36,  2.50it/s]<ipython-input-6-d61cf6b7d348>:36: FutureWarning: The default of observed=False is deprecated and will be changed to True in a future version of pandas. Pass observed=False to retain current behavior or observed=True to adopt the future default and silence this warning.\n",
      "  merged_df_race_dict = dict(merged_df.groupby(['race_group']).groups)\n",
      "Testing weights for abd_exp_01:  11%|█         | 11/101 [00:04<00:35,  2.52it/s]<ipython-input-6-d61cf6b7d348>:36: FutureWarning: The default of observed=False is deprecated and will be changed to True in a future version of pandas. Pass observed=False to retain current behavior or observed=True to adopt the future default and silence this warning.\n",
      "  merged_df_race_dict = dict(merged_df.groupby(['race_group']).groups)\n",
      "Testing weights for abd_exp_01:  12%|█▏        | 12/101 [00:04<00:35,  2.52it/s]<ipython-input-6-d61cf6b7d348>:36: FutureWarning: The default of observed=False is deprecated and will be changed to True in a future version of pandas. Pass observed=False to retain current behavior or observed=True to adopt the future default and silence this warning.\n",
      "  merged_df_race_dict = dict(merged_df.groupby(['race_group']).groups)\n",
      "Testing weights for abd_exp_01:  13%|█▎        | 13/101 [00:05<00:34,  2.53it/s]<ipython-input-6-d61cf6b7d348>:36: FutureWarning: The default of observed=False is deprecated and will be changed to True in a future version of pandas. Pass observed=False to retain current behavior or observed=True to adopt the future default and silence this warning.\n",
      "  merged_df_race_dict = dict(merged_df.groupby(['race_group']).groups)\n",
      "Testing weights for abd_exp_01:  14%|█▍        | 14/101 [00:05<00:34,  2.53it/s]<ipython-input-6-d61cf6b7d348>:36: FutureWarning: The default of observed=False is deprecated and will be changed to True in a future version of pandas. Pass observed=False to retain current behavior or observed=True to adopt the future default and silence this warning.\n",
      "  merged_df_race_dict = dict(merged_df.groupby(['race_group']).groups)\n",
      "Testing weights for abd_exp_01:  15%|█▍        | 15/101 [00:05<00:33,  2.53it/s]<ipython-input-6-d61cf6b7d348>:36: FutureWarning: The default of observed=False is deprecated and will be changed to True in a future version of pandas. Pass observed=False to retain current behavior or observed=True to adopt the future default and silence this warning.\n",
      "  merged_df_race_dict = dict(merged_df.groupby(['race_group']).groups)\n",
      "Testing weights for abd_exp_01:  16%|█▌        | 16/101 [00:06<00:33,  2.53it/s]<ipython-input-6-d61cf6b7d348>:36: FutureWarning: The default of observed=False is deprecated and will be changed to True in a future version of pandas. Pass observed=False to retain current behavior or observed=True to adopt the future default and silence this warning.\n",
      "  merged_df_race_dict = dict(merged_df.groupby(['race_group']).groups)\n",
      "Testing weights for abd_exp_01:  17%|█▋        | 17/101 [00:06<00:33,  2.53it/s]<ipython-input-6-d61cf6b7d348>:36: FutureWarning: The default of observed=False is deprecated and will be changed to True in a future version of pandas. Pass observed=False to retain current behavior or observed=True to adopt the future default and silence this warning.\n",
      "  merged_df_race_dict = dict(merged_df.groupby(['race_group']).groups)\n",
      "Testing weights for abd_exp_01:  18%|█▊        | 18/101 [00:07<00:32,  2.52it/s]<ipython-input-6-d61cf6b7d348>:36: FutureWarning: The default of observed=False is deprecated and will be changed to True in a future version of pandas. Pass observed=False to retain current behavior or observed=True to adopt the future default and silence this warning.\n",
      "  merged_df_race_dict = dict(merged_df.groupby(['race_group']).groups)\n",
      "Testing weights for abd_exp_01:  19%|█▉        | 19/101 [00:07<00:32,  2.53it/s]<ipython-input-6-d61cf6b7d348>:36: FutureWarning: The default of observed=False is deprecated and will be changed to True in a future version of pandas. Pass observed=False to retain current behavior or observed=True to adopt the future default and silence this warning.\n",
      "  merged_df_race_dict = dict(merged_df.groupby(['race_group']).groups)\n",
      "Testing weights for abd_exp_01:  20%|█▉        | 20/101 [00:07<00:32,  2.53it/s]<ipython-input-6-d61cf6b7d348>:36: FutureWarning: The default of observed=False is deprecated and will be changed to True in a future version of pandas. Pass observed=False to retain current behavior or observed=True to adopt the future default and silence this warning.\n",
      "  merged_df_race_dict = dict(merged_df.groupby(['race_group']).groups)\n",
      "Testing weights for abd_exp_01:  21%|██        | 21/101 [00:08<00:31,  2.53it/s]<ipython-input-6-d61cf6b7d348>:36: FutureWarning: The default of observed=False is deprecated and will be changed to True in a future version of pandas. Pass observed=False to retain current behavior or observed=True to adopt the future default and silence this warning.\n",
      "  merged_df_race_dict = dict(merged_df.groupby(['race_group']).groups)\n",
      "Testing weights for abd_exp_01:  22%|██▏       | 22/101 [00:08<00:31,  2.50it/s]<ipython-input-6-d61cf6b7d348>:36: FutureWarning: The default of observed=False is deprecated and will be changed to True in a future version of pandas. Pass observed=False to retain current behavior or observed=True to adopt the future default and silence this warning.\n",
      "  merged_df_race_dict = dict(merged_df.groupby(['race_group']).groups)\n",
      "Testing weights for abd_exp_01:  23%|██▎       | 23/101 [00:09<00:31,  2.52it/s]<ipython-input-6-d61cf6b7d348>:36: FutureWarning: The default of observed=False is deprecated and will be changed to True in a future version of pandas. Pass observed=False to retain current behavior or observed=True to adopt the future default and silence this warning.\n",
      "  merged_df_race_dict = dict(merged_df.groupby(['race_group']).groups)\n",
      "Testing weights for abd_exp_01:  24%|██▍       | 24/101 [00:09<00:30,  2.51it/s]<ipython-input-6-d61cf6b7d348>:36: FutureWarning: The default of observed=False is deprecated and will be changed to True in a future version of pandas. Pass observed=False to retain current behavior or observed=True to adopt the future default and silence this warning.\n",
      "  merged_df_race_dict = dict(merged_df.groupby(['race_group']).groups)\n",
      "Testing weights for abd_exp_01:  25%|██▍       | 25/101 [00:09<00:30,  2.51it/s]<ipython-input-6-d61cf6b7d348>:36: FutureWarning: The default of observed=False is deprecated and will be changed to True in a future version of pandas. Pass observed=False to retain current behavior or observed=True to adopt the future default and silence this warning.\n",
      "  merged_df_race_dict = dict(merged_df.groupby(['race_group']).groups)\n",
      "Testing weights for abd_exp_01:  26%|██▌       | 26/101 [00:10<00:29,  2.51it/s]<ipython-input-6-d61cf6b7d348>:36: FutureWarning: The default of observed=False is deprecated and will be changed to True in a future version of pandas. Pass observed=False to retain current behavior or observed=True to adopt the future default and silence this warning.\n",
      "  merged_df_race_dict = dict(merged_df.groupby(['race_group']).groups)\n",
      "Testing weights for abd_exp_01:  27%|██▋       | 27/101 [00:10<00:29,  2.49it/s]<ipython-input-6-d61cf6b7d348>:36: FutureWarning: The default of observed=False is deprecated and will be changed to True in a future version of pandas. Pass observed=False to retain current behavior or observed=True to adopt the future default and silence this warning.\n",
      "  merged_df_race_dict = dict(merged_df.groupby(['race_group']).groups)\n",
      "Testing weights for abd_exp_01:  28%|██▊       | 28/101 [00:11<00:29,  2.50it/s]<ipython-input-6-d61cf6b7d348>:36: FutureWarning: The default of observed=False is deprecated and will be changed to True in a future version of pandas. Pass observed=False to retain current behavior or observed=True to adopt the future default and silence this warning.\n",
      "  merged_df_race_dict = dict(merged_df.groupby(['race_group']).groups)\n",
      "Testing weights for abd_exp_01:  29%|██▊       | 29/101 [00:11<00:28,  2.52it/s]<ipython-input-6-d61cf6b7d348>:36: FutureWarning: The default of observed=False is deprecated and will be changed to True in a future version of pandas. Pass observed=False to retain current behavior or observed=True to adopt the future default and silence this warning.\n",
      "  merged_df_race_dict = dict(merged_df.groupby(['race_group']).groups)\n",
      "Testing weights for abd_exp_01:  30%|██▉       | 30/101 [00:11<00:28,  2.52it/s]<ipython-input-6-d61cf6b7d348>:36: FutureWarning: The default of observed=False is deprecated and will be changed to True in a future version of pandas. Pass observed=False to retain current behavior or observed=True to adopt the future default and silence this warning.\n",
      "  merged_df_race_dict = dict(merged_df.groupby(['race_group']).groups)\n",
      "Testing weights for abd_exp_01:  31%|███       | 31/101 [00:12<00:27,  2.52it/s]<ipython-input-6-d61cf6b7d348>:36: FutureWarning: The default of observed=False is deprecated and will be changed to True in a future version of pandas. Pass observed=False to retain current behavior or observed=True to adopt the future default and silence this warning.\n",
      "  merged_df_race_dict = dict(merged_df.groupby(['race_group']).groups)\n",
      "Testing weights for abd_exp_01:  32%|███▏      | 32/101 [00:12<00:27,  2.53it/s]<ipython-input-6-d61cf6b7d348>:36: FutureWarning: The default of observed=False is deprecated and will be changed to True in a future version of pandas. Pass observed=False to retain current behavior or observed=True to adopt the future default and silence this warning.\n",
      "  merged_df_race_dict = dict(merged_df.groupby(['race_group']).groups)\n",
      "Testing weights for abd_exp_01:  33%|███▎      | 33/101 [00:13<00:26,  2.52it/s]<ipython-input-6-d61cf6b7d348>:36: FutureWarning: The default of observed=False is deprecated and will be changed to True in a future version of pandas. Pass observed=False to retain current behavior or observed=True to adopt the future default and silence this warning.\n",
      "  merged_df_race_dict = dict(merged_df.groupby(['race_group']).groups)\n",
      "Testing weights for abd_exp_01:  34%|███▎      | 34/101 [00:13<00:27,  2.46it/s]<ipython-input-6-d61cf6b7d348>:36: FutureWarning: The default of observed=False is deprecated and will be changed to True in a future version of pandas. Pass observed=False to retain current behavior or observed=True to adopt the future default and silence this warning.\n",
      "  merged_df_race_dict = dict(merged_df.groupby(['race_group']).groups)\n",
      "Testing weights for abd_exp_01:  35%|███▍      | 35/101 [00:13<00:26,  2.47it/s]<ipython-input-6-d61cf6b7d348>:36: FutureWarning: The default of observed=False is deprecated and will be changed to True in a future version of pandas. Pass observed=False to retain current behavior or observed=True to adopt the future default and silence this warning.\n",
      "  merged_df_race_dict = dict(merged_df.groupby(['race_group']).groups)\n",
      "Testing weights for abd_exp_01:  36%|███▌      | 36/101 [00:14<00:26,  2.47it/s]<ipython-input-6-d61cf6b7d348>:36: FutureWarning: The default of observed=False is deprecated and will be changed to True in a future version of pandas. Pass observed=False to retain current behavior or observed=True to adopt the future default and silence this warning.\n",
      "  merged_df_race_dict = dict(merged_df.groupby(['race_group']).groups)\n",
      "Testing weights for abd_exp_01:  37%|███▋      | 37/101 [00:14<00:25,  2.48it/s]<ipython-input-6-d61cf6b7d348>:36: FutureWarning: The default of observed=False is deprecated and will be changed to True in a future version of pandas. Pass observed=False to retain current behavior or observed=True to adopt the future default and silence this warning.\n",
      "  merged_df_race_dict = dict(merged_df.groupby(['race_group']).groups)\n",
      "Testing weights for abd_exp_01:  38%|███▊      | 38/101 [00:15<00:26,  2.42it/s]<ipython-input-6-d61cf6b7d348>:36: FutureWarning: The default of observed=False is deprecated and will be changed to True in a future version of pandas. Pass observed=False to retain current behavior or observed=True to adopt the future default and silence this warning.\n",
      "  merged_df_race_dict = dict(merged_df.groupby(['race_group']).groups)\n",
      "Testing weights for abd_exp_01:  39%|███▊      | 39/101 [00:15<00:25,  2.43it/s]<ipython-input-6-d61cf6b7d348>:36: FutureWarning: The default of observed=False is deprecated and will be changed to True in a future version of pandas. Pass observed=False to retain current behavior or observed=True to adopt the future default and silence this warning.\n",
      "  merged_df_race_dict = dict(merged_df.groupby(['race_group']).groups)\n",
      "Testing weights for abd_exp_01:  40%|███▉      | 40/101 [00:15<00:24,  2.46it/s]<ipython-input-6-d61cf6b7d348>:36: FutureWarning: The default of observed=False is deprecated and will be changed to True in a future version of pandas. Pass observed=False to retain current behavior or observed=True to adopt the future default and silence this warning.\n",
      "  merged_df_race_dict = dict(merged_df.groupby(['race_group']).groups)\n",
      "Testing weights for abd_exp_01:  41%|████      | 41/101 [00:16<00:24,  2.48it/s]<ipython-input-6-d61cf6b7d348>:36: FutureWarning: The default of observed=False is deprecated and will be changed to True in a future version of pandas. Pass observed=False to retain current behavior or observed=True to adopt the future default and silence this warning.\n",
      "  merged_df_race_dict = dict(merged_df.groupby(['race_group']).groups)\n",
      "Testing weights for abd_exp_01:  42%|████▏     | 42/101 [00:16<00:23,  2.50it/s]<ipython-input-6-d61cf6b7d348>:36: FutureWarning: The default of observed=False is deprecated and will be changed to True in a future version of pandas. Pass observed=False to retain current behavior or observed=True to adopt the future default and silence this warning.\n",
      "  merged_df_race_dict = dict(merged_df.groupby(['race_group']).groups)\n",
      "Testing weights for abd_exp_01:  43%|████▎     | 43/101 [00:17<00:23,  2.52it/s]<ipython-input-6-d61cf6b7d348>:36: FutureWarning: The default of observed=False is deprecated and will be changed to True in a future version of pandas. Pass observed=False to retain current behavior or observed=True to adopt the future default and silence this warning.\n",
      "  merged_df_race_dict = dict(merged_df.groupby(['race_group']).groups)\n",
      "Testing weights for abd_exp_01:  44%|████▎     | 44/101 [00:17<00:22,  2.53it/s]<ipython-input-6-d61cf6b7d348>:36: FutureWarning: The default of observed=False is deprecated and will be changed to True in a future version of pandas. Pass observed=False to retain current behavior or observed=True to adopt the future default and silence this warning.\n",
      "  merged_df_race_dict = dict(merged_df.groupby(['race_group']).groups)\n",
      "Testing weights for abd_exp_01:  45%|████▍     | 45/101 [00:17<00:22,  2.54it/s]<ipython-input-6-d61cf6b7d348>:36: FutureWarning: The default of observed=False is deprecated and will be changed to True in a future version of pandas. Pass observed=False to retain current behavior or observed=True to adopt the future default and silence this warning.\n",
      "  merged_df_race_dict = dict(merged_df.groupby(['race_group']).groups)\n",
      "Testing weights for abd_exp_01:  46%|████▌     | 46/101 [00:18<00:21,  2.54it/s]<ipython-input-6-d61cf6b7d348>:36: FutureWarning: The default of observed=False is deprecated and will be changed to True in a future version of pandas. Pass observed=False to retain current behavior or observed=True to adopt the future default and silence this warning.\n",
      "  merged_df_race_dict = dict(merged_df.groupby(['race_group']).groups)\n",
      "Testing weights for abd_exp_01:  47%|████▋     | 47/101 [00:18<00:21,  2.55it/s]<ipython-input-6-d61cf6b7d348>:36: FutureWarning: The default of observed=False is deprecated and will be changed to True in a future version of pandas. Pass observed=False to retain current behavior or observed=True to adopt the future default and silence this warning.\n",
      "  merged_df_race_dict = dict(merged_df.groupby(['race_group']).groups)\n",
      "Testing weights for abd_exp_01:  48%|████▊     | 48/101 [00:19<00:20,  2.54it/s]<ipython-input-6-d61cf6b7d348>:36: FutureWarning: The default of observed=False is deprecated and will be changed to True in a future version of pandas. Pass observed=False to retain current behavior or observed=True to adopt the future default and silence this warning.\n",
      "  merged_df_race_dict = dict(merged_df.groupby(['race_group']).groups)\n",
      "Testing weights for abd_exp_01:  49%|████▊     | 49/101 [00:19<00:20,  2.55it/s]<ipython-input-6-d61cf6b7d348>:36: FutureWarning: The default of observed=False is deprecated and will be changed to True in a future version of pandas. Pass observed=False to retain current behavior or observed=True to adopt the future default and silence this warning.\n",
      "  merged_df_race_dict = dict(merged_df.groupby(['race_group']).groups)\n",
      "Testing weights for abd_exp_01:  50%|████▉     | 50/101 [00:19<00:19,  2.55it/s]<ipython-input-6-d61cf6b7d348>:36: FutureWarning: The default of observed=False is deprecated and will be changed to True in a future version of pandas. Pass observed=False to retain current behavior or observed=True to adopt the future default and silence this warning.\n",
      "  merged_df_race_dict = dict(merged_df.groupby(['race_group']).groups)\n",
      "Testing weights for abd_exp_01:  50%|█████     | 51/101 [00:20<00:19,  2.55it/s]<ipython-input-6-d61cf6b7d348>:36: FutureWarning: The default of observed=False is deprecated and will be changed to True in a future version of pandas. Pass observed=False to retain current behavior or observed=True to adopt the future default and silence this warning.\n",
      "  merged_df_race_dict = dict(merged_df.groupby(['race_group']).groups)\n",
      "Testing weights for abd_exp_01:  51%|█████▏    | 52/101 [00:20<00:19,  2.56it/s]<ipython-input-6-d61cf6b7d348>:36: FutureWarning: The default of observed=False is deprecated and will be changed to True in a future version of pandas. Pass observed=False to retain current behavior or observed=True to adopt the future default and silence this warning.\n",
      "  merged_df_race_dict = dict(merged_df.groupby(['race_group']).groups)\n",
      "Testing weights for abd_exp_01:  52%|█████▏    | 53/101 [00:21<00:18,  2.56it/s]<ipython-input-6-d61cf6b7d348>:36: FutureWarning: The default of observed=False is deprecated and will be changed to True in a future version of pandas. Pass observed=False to retain current behavior or observed=True to adopt the future default and silence this warning.\n",
      "  merged_df_race_dict = dict(merged_df.groupby(['race_group']).groups)\n",
      "Testing weights for abd_exp_01:  53%|█████▎    | 54/101 [00:21<00:18,  2.55it/s]<ipython-input-6-d61cf6b7d348>:36: FutureWarning: The default of observed=False is deprecated and will be changed to True in a future version of pandas. Pass observed=False to retain current behavior or observed=True to adopt the future default and silence this warning.\n",
      "  merged_df_race_dict = dict(merged_df.groupby(['race_group']).groups)\n",
      "Testing weights for abd_exp_01:  54%|█████▍    | 55/101 [00:21<00:18,  2.55it/s]<ipython-input-6-d61cf6b7d348>:36: FutureWarning: The default of observed=False is deprecated and will be changed to True in a future version of pandas. Pass observed=False to retain current behavior or observed=True to adopt the future default and silence this warning.\n",
      "  merged_df_race_dict = dict(merged_df.groupby(['race_group']).groups)\n",
      "Testing weights for abd_exp_01:  55%|█████▌    | 56/101 [00:22<00:17,  2.55it/s]<ipython-input-6-d61cf6b7d348>:36: FutureWarning: The default of observed=False is deprecated and will be changed to True in a future version of pandas. Pass observed=False to retain current behavior or observed=True to adopt the future default and silence this warning.\n",
      "  merged_df_race_dict = dict(merged_df.groupby(['race_group']).groups)\n",
      "Testing weights for abd_exp_01:  56%|█████▋    | 57/101 [00:22<00:17,  2.56it/s]<ipython-input-6-d61cf6b7d348>:36: FutureWarning: The default of observed=False is deprecated and will be changed to True in a future version of pandas. Pass observed=False to retain current behavior or observed=True to adopt the future default and silence this warning.\n",
      "  merged_df_race_dict = dict(merged_df.groupby(['race_group']).groups)\n",
      "Testing weights for abd_exp_01:  57%|█████▋    | 58/101 [00:23<00:16,  2.56it/s]<ipython-input-6-d61cf6b7d348>:36: FutureWarning: The default of observed=False is deprecated and will be changed to True in a future version of pandas. Pass observed=False to retain current behavior or observed=True to adopt the future default and silence this warning.\n",
      "  merged_df_race_dict = dict(merged_df.groupby(['race_group']).groups)\n",
      "Testing weights for abd_exp_01:  58%|█████▊    | 59/101 [00:23<00:16,  2.50it/s]<ipython-input-6-d61cf6b7d348>:36: FutureWarning: The default of observed=False is deprecated and will be changed to True in a future version of pandas. Pass observed=False to retain current behavior or observed=True to adopt the future default and silence this warning.\n",
      "  merged_df_race_dict = dict(merged_df.groupby(['race_group']).groups)\n",
      "Testing weights for abd_exp_01:  59%|█████▉    | 60/101 [00:23<00:16,  2.51it/s]<ipython-input-6-d61cf6b7d348>:36: FutureWarning: The default of observed=False is deprecated and will be changed to True in a future version of pandas. Pass observed=False to retain current behavior or observed=True to adopt the future default and silence this warning.\n",
      "  merged_df_race_dict = dict(merged_df.groupby(['race_group']).groups)\n",
      "Testing weights for abd_exp_01:  60%|██████    | 61/101 [00:24<00:15,  2.50it/s]<ipython-input-6-d61cf6b7d348>:36: FutureWarning: The default of observed=False is deprecated and will be changed to True in a future version of pandas. Pass observed=False to retain current behavior or observed=True to adopt the future default and silence this warning.\n",
      "  merged_df_race_dict = dict(merged_df.groupby(['race_group']).groups)\n",
      "Testing weights for abd_exp_01:  61%|██████▏   | 62/101 [00:24<00:15,  2.50it/s]<ipython-input-6-d61cf6b7d348>:36: FutureWarning: The default of observed=False is deprecated and will be changed to True in a future version of pandas. Pass observed=False to retain current behavior or observed=True to adopt the future default and silence this warning.\n",
      "  merged_df_race_dict = dict(merged_df.groupby(['race_group']).groups)\n",
      "Testing weights for abd_exp_01:  62%|██████▏   | 63/101 [00:25<00:15,  2.51it/s]<ipython-input-6-d61cf6b7d348>:36: FutureWarning: The default of observed=False is deprecated and will be changed to True in a future version of pandas. Pass observed=False to retain current behavior or observed=True to adopt the future default and silence this warning.\n",
      "  merged_df_race_dict = dict(merged_df.groupby(['race_group']).groups)\n",
      "Testing weights for abd_exp_01:  63%|██████▎   | 64/101 [00:25<00:14,  2.52it/s]<ipython-input-6-d61cf6b7d348>:36: FutureWarning: The default of observed=False is deprecated and will be changed to True in a future version of pandas. Pass observed=False to retain current behavior or observed=True to adopt the future default and silence this warning.\n",
      "  merged_df_race_dict = dict(merged_df.groupby(['race_group']).groups)\n",
      "Testing weights for abd_exp_01:  64%|██████▍   | 65/101 [00:25<00:14,  2.53it/s]<ipython-input-6-d61cf6b7d348>:36: FutureWarning: The default of observed=False is deprecated and will be changed to True in a future version of pandas. Pass observed=False to retain current behavior or observed=True to adopt the future default and silence this warning.\n",
      "  merged_df_race_dict = dict(merged_df.groupby(['race_group']).groups)\n",
      "Testing weights for abd_exp_01:  65%|██████▌   | 66/101 [00:26<00:13,  2.54it/s]<ipython-input-6-d61cf6b7d348>:36: FutureWarning: The default of observed=False is deprecated and will be changed to True in a future version of pandas. Pass observed=False to retain current behavior or observed=True to adopt the future default and silence this warning.\n",
      "  merged_df_race_dict = dict(merged_df.groupby(['race_group']).groups)\n",
      "Testing weights for abd_exp_01:  66%|██████▋   | 67/101 [00:26<00:13,  2.55it/s]<ipython-input-6-d61cf6b7d348>:36: FutureWarning: The default of observed=False is deprecated and will be changed to True in a future version of pandas. Pass observed=False to retain current behavior or observed=True to adopt the future default and silence this warning.\n",
      "  merged_df_race_dict = dict(merged_df.groupby(['race_group']).groups)\n",
      "Testing weights for abd_exp_01:  67%|██████▋   | 68/101 [00:26<00:13,  2.54it/s]<ipython-input-6-d61cf6b7d348>:36: FutureWarning: The default of observed=False is deprecated and will be changed to True in a future version of pandas. Pass observed=False to retain current behavior or observed=True to adopt the future default and silence this warning.\n",
      "  merged_df_race_dict = dict(merged_df.groupby(['race_group']).groups)\n",
      "Testing weights for abd_exp_01:  68%|██████▊   | 69/101 [00:27<00:12,  2.54it/s]<ipython-input-6-d61cf6b7d348>:36: FutureWarning: The default of observed=False is deprecated and will be changed to True in a future version of pandas. Pass observed=False to retain current behavior or observed=True to adopt the future default and silence this warning.\n",
      "  merged_df_race_dict = dict(merged_df.groupby(['race_group']).groups)\n",
      "Testing weights for abd_exp_01:  69%|██████▉   | 70/101 [00:27<00:12,  2.54it/s]<ipython-input-6-d61cf6b7d348>:36: FutureWarning: The default of observed=False is deprecated and will be changed to True in a future version of pandas. Pass observed=False to retain current behavior or observed=True to adopt the future default and silence this warning.\n",
      "  merged_df_race_dict = dict(merged_df.groupby(['race_group']).groups)\n",
      "Testing weights for abd_exp_01:  70%|███████   | 71/101 [00:28<00:11,  2.54it/s]<ipython-input-6-d61cf6b7d348>:36: FutureWarning: The default of observed=False is deprecated and will be changed to True in a future version of pandas. Pass observed=False to retain current behavior or observed=True to adopt the future default and silence this warning.\n",
      "  merged_df_race_dict = dict(merged_df.groupby(['race_group']).groups)\n",
      "Testing weights for abd_exp_01:  71%|███████▏  | 72/101 [00:28<00:11,  2.55it/s]<ipython-input-6-d61cf6b7d348>:36: FutureWarning: The default of observed=False is deprecated and will be changed to True in a future version of pandas. Pass observed=False to retain current behavior or observed=True to adopt the future default and silence this warning.\n",
      "  merged_df_race_dict = dict(merged_df.groupby(['race_group']).groups)\n",
      "Testing weights for abd_exp_01:  72%|███████▏  | 73/101 [00:28<00:11,  2.54it/s]<ipython-input-6-d61cf6b7d348>:36: FutureWarning: The default of observed=False is deprecated and will be changed to True in a future version of pandas. Pass observed=False to retain current behavior or observed=True to adopt the future default and silence this warning.\n",
      "  merged_df_race_dict = dict(merged_df.groupby(['race_group']).groups)\n",
      "Testing weights for abd_exp_01:  73%|███████▎  | 74/101 [00:29<00:10,  2.53it/s]<ipython-input-6-d61cf6b7d348>:36: FutureWarning: The default of observed=False is deprecated and will be changed to True in a future version of pandas. Pass observed=False to retain current behavior or observed=True to adopt the future default and silence this warning.\n",
      "  merged_df_race_dict = dict(merged_df.groupby(['race_group']).groups)\n",
      "Testing weights for abd_exp_01:  74%|███████▍  | 75/101 [00:29<00:10,  2.52it/s]<ipython-input-6-d61cf6b7d348>:36: FutureWarning: The default of observed=False is deprecated and will be changed to True in a future version of pandas. Pass observed=False to retain current behavior or observed=True to adopt the future default and silence this warning.\n",
      "  merged_df_race_dict = dict(merged_df.groupby(['race_group']).groups)\n",
      "Testing weights for abd_exp_01:  75%|███████▌  | 76/101 [00:30<00:09,  2.53it/s]<ipython-input-6-d61cf6b7d348>:36: FutureWarning: The default of observed=False is deprecated and will be changed to True in a future version of pandas. Pass observed=False to retain current behavior or observed=True to adopt the future default and silence this warning.\n",
      "  merged_df_race_dict = dict(merged_df.groupby(['race_group']).groups)\n",
      "Testing weights for abd_exp_01:  76%|███████▌  | 77/101 [00:30<00:09,  2.54it/s]<ipython-input-6-d61cf6b7d348>:36: FutureWarning: The default of observed=False is deprecated and will be changed to True in a future version of pandas. Pass observed=False to retain current behavior or observed=True to adopt the future default and silence this warning.\n",
      "  merged_df_race_dict = dict(merged_df.groupby(['race_group']).groups)\n",
      "Testing weights for abd_exp_01:  77%|███████▋  | 78/101 [00:30<00:09,  2.54it/s]<ipython-input-6-d61cf6b7d348>:36: FutureWarning: The default of observed=False is deprecated and will be changed to True in a future version of pandas. Pass observed=False to retain current behavior or observed=True to adopt the future default and silence this warning.\n",
      "  merged_df_race_dict = dict(merged_df.groupby(['race_group']).groups)\n",
      "Testing weights for abd_exp_01:  78%|███████▊  | 79/101 [00:31<00:08,  2.54it/s]<ipython-input-6-d61cf6b7d348>:36: FutureWarning: The default of observed=False is deprecated and will be changed to True in a future version of pandas. Pass observed=False to retain current behavior or observed=True to adopt the future default and silence this warning.\n",
      "  merged_df_race_dict = dict(merged_df.groupby(['race_group']).groups)\n",
      "Testing weights for abd_exp_01:  79%|███████▉  | 80/101 [00:31<00:08,  2.53it/s]<ipython-input-6-d61cf6b7d348>:36: FutureWarning: The default of observed=False is deprecated and will be changed to True in a future version of pandas. Pass observed=False to retain current behavior or observed=True to adopt the future default and silence this warning.\n",
      "  merged_df_race_dict = dict(merged_df.groupby(['race_group']).groups)\n",
      "Testing weights for abd_exp_01:  80%|████████  | 81/101 [00:32<00:07,  2.54it/s]<ipython-input-6-d61cf6b7d348>:36: FutureWarning: The default of observed=False is deprecated and will be changed to True in a future version of pandas. Pass observed=False to retain current behavior or observed=True to adopt the future default and silence this warning.\n",
      "  merged_df_race_dict = dict(merged_df.groupby(['race_group']).groups)\n",
      "Testing weights for abd_exp_01:  81%|████████  | 82/101 [00:32<00:07,  2.55it/s]<ipython-input-6-d61cf6b7d348>:36: FutureWarning: The default of observed=False is deprecated and will be changed to True in a future version of pandas. Pass observed=False to retain current behavior or observed=True to adopt the future default and silence this warning.\n",
      "  merged_df_race_dict = dict(merged_df.groupby(['race_group']).groups)\n",
      "Testing weights for abd_exp_01:  82%|████████▏ | 83/101 [00:32<00:07,  2.55it/s]<ipython-input-6-d61cf6b7d348>:36: FutureWarning: The default of observed=False is deprecated and will be changed to True in a future version of pandas. Pass observed=False to retain current behavior or observed=True to adopt the future default and silence this warning.\n",
      "  merged_df_race_dict = dict(merged_df.groupby(['race_group']).groups)\n",
      "Testing weights for abd_exp_01:  83%|████████▎ | 84/101 [00:33<00:06,  2.54it/s]<ipython-input-6-d61cf6b7d348>:36: FutureWarning: The default of observed=False is deprecated and will be changed to True in a future version of pandas. Pass observed=False to retain current behavior or observed=True to adopt the future default and silence this warning.\n",
      "  merged_df_race_dict = dict(merged_df.groupby(['race_group']).groups)\n",
      "Testing weights for abd_exp_01:  84%|████████▍ | 85/101 [00:33<00:06,  2.50it/s]<ipython-input-6-d61cf6b7d348>:36: FutureWarning: The default of observed=False is deprecated and will be changed to True in a future version of pandas. Pass observed=False to retain current behavior or observed=True to adopt the future default and silence this warning.\n",
      "  merged_df_race_dict = dict(merged_df.groupby(['race_group']).groups)\n",
      "Testing weights for abd_exp_01:  85%|████████▌ | 86/101 [00:34<00:05,  2.52it/s]<ipython-input-6-d61cf6b7d348>:36: FutureWarning: The default of observed=False is deprecated and will be changed to True in a future version of pandas. Pass observed=False to retain current behavior or observed=True to adopt the future default and silence this warning.\n",
      "  merged_df_race_dict = dict(merged_df.groupby(['race_group']).groups)\n",
      "Testing weights for abd_exp_01:  86%|████████▌ | 87/101 [00:34<00:05,  2.52it/s]<ipython-input-6-d61cf6b7d348>:36: FutureWarning: The default of observed=False is deprecated and will be changed to True in a future version of pandas. Pass observed=False to retain current behavior or observed=True to adopt the future default and silence this warning.\n",
      "  merged_df_race_dict = dict(merged_df.groupby(['race_group']).groups)\n",
      "Testing weights for abd_exp_01:  87%|████████▋ | 88/101 [00:34<00:05,  2.51it/s]<ipython-input-6-d61cf6b7d348>:36: FutureWarning: The default of observed=False is deprecated and will be changed to True in a future version of pandas. Pass observed=False to retain current behavior or observed=True to adopt the future default and silence this warning.\n",
      "  merged_df_race_dict = dict(merged_df.groupby(['race_group']).groups)\n",
      "Testing weights for abd_exp_01:  88%|████████▊ | 89/101 [00:35<00:04,  2.52it/s]<ipython-input-6-d61cf6b7d348>:36: FutureWarning: The default of observed=False is deprecated and will be changed to True in a future version of pandas. Pass observed=False to retain current behavior or observed=True to adopt the future default and silence this warning.\n",
      "  merged_df_race_dict = dict(merged_df.groupby(['race_group']).groups)\n",
      "Testing weights for abd_exp_01:  89%|████████▉ | 90/101 [00:35<00:04,  2.53it/s]<ipython-input-6-d61cf6b7d348>:36: FutureWarning: The default of observed=False is deprecated and will be changed to True in a future version of pandas. Pass observed=False to retain current behavior or observed=True to adopt the future default and silence this warning.\n",
      "  merged_df_race_dict = dict(merged_df.groupby(['race_group']).groups)\n",
      "Testing weights for abd_exp_01:  90%|█████████ | 91/101 [00:36<00:03,  2.53it/s]<ipython-input-6-d61cf6b7d348>:36: FutureWarning: The default of observed=False is deprecated and will be changed to True in a future version of pandas. Pass observed=False to retain current behavior or observed=True to adopt the future default and silence this warning.\n",
      "  merged_df_race_dict = dict(merged_df.groupby(['race_group']).groups)\n",
      "Testing weights for abd_exp_01:  91%|█████████ | 92/101 [00:36<00:03,  2.53it/s]<ipython-input-6-d61cf6b7d348>:36: FutureWarning: The default of observed=False is deprecated and will be changed to True in a future version of pandas. Pass observed=False to retain current behavior or observed=True to adopt the future default and silence this warning.\n",
      "  merged_df_race_dict = dict(merged_df.groupby(['race_group']).groups)\n",
      "Testing weights for abd_exp_01:  92%|█████████▏| 93/101 [00:36<00:03,  2.53it/s]<ipython-input-6-d61cf6b7d348>:36: FutureWarning: The default of observed=False is deprecated and will be changed to True in a future version of pandas. Pass observed=False to retain current behavior or observed=True to adopt the future default and silence this warning.\n",
      "  merged_df_race_dict = dict(merged_df.groupby(['race_group']).groups)\n",
      "Testing weights for abd_exp_01:  93%|█████████▎| 94/101 [00:37<00:02,  2.54it/s]<ipython-input-6-d61cf6b7d348>:36: FutureWarning: The default of observed=False is deprecated and will be changed to True in a future version of pandas. Pass observed=False to retain current behavior or observed=True to adopt the future default and silence this warning.\n",
      "  merged_df_race_dict = dict(merged_df.groupby(['race_group']).groups)\n",
      "Testing weights for abd_exp_01:  94%|█████████▍| 95/101 [00:37<00:02,  2.53it/s]<ipython-input-6-d61cf6b7d348>:36: FutureWarning: The default of observed=False is deprecated and will be changed to True in a future version of pandas. Pass observed=False to retain current behavior or observed=True to adopt the future default and silence this warning.\n",
      "  merged_df_race_dict = dict(merged_df.groupby(['race_group']).groups)\n",
      "Testing weights for abd_exp_01:  95%|█████████▌| 96/101 [00:38<00:01,  2.53it/s]<ipython-input-6-d61cf6b7d348>:36: FutureWarning: The default of observed=False is deprecated and will be changed to True in a future version of pandas. Pass observed=False to retain current behavior or observed=True to adopt the future default and silence this warning.\n",
      "  merged_df_race_dict = dict(merged_df.groupby(['race_group']).groups)\n",
      "Testing weights for abd_exp_01:  96%|█████████▌| 97/101 [00:38<00:01,  2.53it/s]<ipython-input-6-d61cf6b7d348>:36: FutureWarning: The default of observed=False is deprecated and will be changed to True in a future version of pandas. Pass observed=False to retain current behavior or observed=True to adopt the future default and silence this warning.\n",
      "  merged_df_race_dict = dict(merged_df.groupby(['race_group']).groups)\n",
      "Testing weights for abd_exp_01:  97%|█████████▋| 98/101 [00:38<00:01,  2.54it/s]<ipython-input-6-d61cf6b7d348>:36: FutureWarning: The default of observed=False is deprecated and will be changed to True in a future version of pandas. Pass observed=False to retain current behavior or observed=True to adopt the future default and silence this warning.\n",
      "  merged_df_race_dict = dict(merged_df.groupby(['race_group']).groups)\n",
      "Testing weights for abd_exp_01:  98%|█████████▊| 99/101 [00:39<00:00,  2.54it/s]<ipython-input-6-d61cf6b7d348>:36: FutureWarning: The default of observed=False is deprecated and will be changed to True in a future version of pandas. Pass observed=False to retain current behavior or observed=True to adopt the future default and silence this warning.\n",
      "  merged_df_race_dict = dict(merged_df.groupby(['race_group']).groups)\n",
      "Testing weights for abd_exp_01:  99%|█████████▉| 100/101 [00:39<00:00,  2.56it/s]<ipython-input-6-d61cf6b7d348>:36: FutureWarning: The default of observed=False is deprecated and will be changed to True in a future version of pandas. Pass observed=False to retain current behavior or observed=True to adopt the future default and silence this warning.\n",
      "  merged_df_race_dict = dict(merged_df.groupby(['race_group']).groups)\n",
      "Testing weights for abd_exp_01: 100%|██████████| 101/101 [00:39<00:00,  2.53it/s]\n"
     ]
    },
    {
     "name": "stdout",
     "output_type": "stream",
     "text": [
      "here -> /kaggle/input/catboost-exp-04\n"
     ]
    },
    {
     "name": "stderr",
     "output_type": "stream",
     "text": [
      "Testing weights for catboost_exp_04: 100%|██████████| 101/101 [00:39<00:00,  2.54it/s]\n"
     ]
    },
    {
     "name": "stdout",
     "output_type": "stream",
     "text": [
      "here -> /kaggle/input/lgbm-exp-04\n"
     ]
    },
    {
     "name": "stderr",
     "output_type": "stream",
     "text": [
      "Testing weights for lgbm_exp_04: 100%|██████████| 101/101 [00:39<00:00,  2.53it/s]\n"
     ]
    },
    {
     "name": "stdout",
     "output_type": "stream",
     "text": [
      "here -> /kaggle/input/nn-exp-02\n"
     ]
    },
    {
     "name": "stderr",
     "output_type": "stream",
     "text": [
      "Testing weights for nn_exp_02: 100%|██████████| 101/101 [00:40<00:00,  2.51it/s]\n"
     ]
    },
    {
     "name": "stdout",
     "output_type": "stream",
     "text": [
      "here -> /kaggle/input/tabm-exp-03\n"
     ]
    },
    {
     "name": "stderr",
     "output_type": "stream",
     "text": [
      "Testing weights for tabm_exp_03: 100%|██████████| 101/101 [00:40<00:00,  2.51it/s]\n"
     ]
    },
    {
     "name": "stdout",
     "output_type": "stream",
     "text": [
      "here -> /kaggle/input/catboost-exp-05\n"
     ]
    },
    {
     "name": "stderr",
     "output_type": "stream",
     "text": [
      "Testing weights for catboost_exp_05: 100%|██████████| 101/101 [00:39<00:00,  2.54it/s]\n"
     ]
    },
    {
     "name": "stdout",
     "output_type": "stream",
     "text": [
      "Iteration 5: Added /kaggle/input/nn-exp-02 with weight -0.0700, Score: 0.6856\n",
      "5th iteration\n",
      "here -> /kaggle/input/xgboost-exp-01\n"
     ]
    },
    {
     "name": "stderr",
     "output_type": "stream",
     "text": [
      "Testing weights for xgboost_exp_01: 100%|██████████| 101/101 [00:40<00:00,  2.52it/s]\n"
     ]
    },
    {
     "name": "stdout",
     "output_type": "stream",
     "text": [
      "here -> /kaggle/input/lgbm-exp-01\n"
     ]
    },
    {
     "name": "stderr",
     "output_type": "stream",
     "text": [
      "Testing weights for lgbm_exp_01: 100%|██████████| 101/101 [00:39<00:00,  2.54it/s]\n"
     ]
    },
    {
     "name": "stdout",
     "output_type": "stream",
     "text": [
      "here -> /kaggle/input/xgboost-exp-02\n"
     ]
    },
    {
     "name": "stderr",
     "output_type": "stream",
     "text": [
      "Testing weights for xgboost_exp_02: 100%|██████████| 101/101 [00:40<00:00,  2.51it/s]\n"
     ]
    },
    {
     "name": "stdout",
     "output_type": "stream",
     "text": [
      "here -> /kaggle/input/catboost-exp-02\n"
     ]
    },
    {
     "name": "stderr",
     "output_type": "stream",
     "text": [
      "Testing weights for catboost_exp_02: 100%|██████████| 101/101 [00:39<00:00,  2.53it/s]\n"
     ]
    },
    {
     "name": "stdout",
     "output_type": "stream",
     "text": [
      "here -> /kaggle/input/lgbm-exp-03\n"
     ]
    },
    {
     "name": "stderr",
     "output_type": "stream",
     "text": [
      "Testing weights for lgbm_exp_03: 100%|██████████| 101/101 [00:40<00:00,  2.52it/s]\n"
     ]
    },
    {
     "name": "stdout",
     "output_type": "stream",
     "text": [
      "here -> /kaggle/input/catboost-exp-03\n"
     ]
    },
    {
     "name": "stderr",
     "output_type": "stream",
     "text": [
      "Testing weights for catboost_exp_03: 100%|██████████| 101/101 [00:40<00:00,  2.49it/s]\n"
     ]
    },
    {
     "name": "stdout",
     "output_type": "stream",
     "text": [
      "here -> /kaggle/input/tabm-exp-01\n"
     ]
    },
    {
     "name": "stderr",
     "output_type": "stream",
     "text": [
      "Testing weights for tabm_exp_01: 100%|██████████| 101/101 [00:40<00:00,  2.50it/s]\n"
     ]
    },
    {
     "name": "stdout",
     "output_type": "stream",
     "text": [
      "here -> /kaggle/input/nn-exp-01\n"
     ]
    },
    {
     "name": "stderr",
     "output_type": "stream",
     "text": [
      "Testing weights for nn_exp_01: 100%|██████████| 101/101 [00:40<00:00,  2.52it/s]\n"
     ]
    },
    {
     "name": "stdout",
     "output_type": "stream",
     "text": [
      "here -> /kaggle/input/tn-exp-01\n"
     ]
    },
    {
     "name": "stderr",
     "output_type": "stream",
     "text": [
      "Testing weights for tn_exp_01: 100%|██████████| 101/101 [00:40<00:00,  2.52it/s]\n"
     ]
    },
    {
     "name": "stdout",
     "output_type": "stream",
     "text": [
      "here -> /kaggle/input/tf-exp-01\n"
     ]
    },
    {
     "name": "stderr",
     "output_type": "stream",
     "text": [
      "Testing weights for tf_exp_01: 100%|██████████| 101/101 [00:40<00:00,  2.51it/s]\n"
     ]
    },
    {
     "name": "stdout",
     "output_type": "stream",
     "text": [
      "here -> /kaggle/input/svr-exp-01\n"
     ]
    },
    {
     "name": "stderr",
     "output_type": "stream",
     "text": [
      "Testing weights for svr_exp_01: 100%|██████████| 101/101 [00:40<00:00,  2.48it/s]\n"
     ]
    },
    {
     "name": "stdout",
     "output_type": "stream",
     "text": [
      "here -> /kaggle/input/abd-exp-01\n"
     ]
    },
    {
     "name": "stderr",
     "output_type": "stream",
     "text": [
      "Testing weights for abd_exp_01:   0%|          | 0/101 [00:00<?, ?it/s]<ipython-input-6-d61cf6b7d348>:36: FutureWarning: The default of observed=False is deprecated and will be changed to True in a future version of pandas. Pass observed=False to retain current behavior or observed=True to adopt the future default and silence this warning.\n",
      "  merged_df_race_dict = dict(merged_df.groupby(['race_group']).groups)\n",
      "Testing weights for abd_exp_01:   1%|          | 1/101 [00:00<00:39,  2.54it/s]<ipython-input-6-d61cf6b7d348>:36: FutureWarning: The default of observed=False is deprecated and will be changed to True in a future version of pandas. Pass observed=False to retain current behavior or observed=True to adopt the future default and silence this warning.\n",
      "  merged_df_race_dict = dict(merged_df.groupby(['race_group']).groups)\n",
      "Testing weights for abd_exp_01:   2%|▏         | 2/101 [00:00<00:38,  2.55it/s]<ipython-input-6-d61cf6b7d348>:36: FutureWarning: The default of observed=False is deprecated and will be changed to True in a future version of pandas. Pass observed=False to retain current behavior or observed=True to adopt the future default and silence this warning.\n",
      "  merged_df_race_dict = dict(merged_df.groupby(['race_group']).groups)\n",
      "Testing weights for abd_exp_01:   3%|▎         | 3/101 [00:01<00:38,  2.55it/s]<ipython-input-6-d61cf6b7d348>:36: FutureWarning: The default of observed=False is deprecated and will be changed to True in a future version of pandas. Pass observed=False to retain current behavior or observed=True to adopt the future default and silence this warning.\n",
      "  merged_df_race_dict = dict(merged_df.groupby(['race_group']).groups)\n",
      "Testing weights for abd_exp_01:   4%|▍         | 4/101 [00:01<00:38,  2.55it/s]<ipython-input-6-d61cf6b7d348>:36: FutureWarning: The default of observed=False is deprecated and will be changed to True in a future version of pandas. Pass observed=False to retain current behavior or observed=True to adopt the future default and silence this warning.\n",
      "  merged_df_race_dict = dict(merged_df.groupby(['race_group']).groups)\n",
      "Testing weights for abd_exp_01:   5%|▍         | 5/101 [00:01<00:37,  2.56it/s]<ipython-input-6-d61cf6b7d348>:36: FutureWarning: The default of observed=False is deprecated and will be changed to True in a future version of pandas. Pass observed=False to retain current behavior or observed=True to adopt the future default and silence this warning.\n",
      "  merged_df_race_dict = dict(merged_df.groupby(['race_group']).groups)\n",
      "Testing weights for abd_exp_01:   6%|▌         | 6/101 [00:02<00:37,  2.55it/s]<ipython-input-6-d61cf6b7d348>:36: FutureWarning: The default of observed=False is deprecated and will be changed to True in a future version of pandas. Pass observed=False to retain current behavior or observed=True to adopt the future default and silence this warning.\n",
      "  merged_df_race_dict = dict(merged_df.groupby(['race_group']).groups)\n",
      "Testing weights for abd_exp_01:   7%|▋         | 7/101 [00:02<00:36,  2.55it/s]<ipython-input-6-d61cf6b7d348>:36: FutureWarning: The default of observed=False is deprecated and will be changed to True in a future version of pandas. Pass observed=False to retain current behavior or observed=True to adopt the future default and silence this warning.\n",
      "  merged_df_race_dict = dict(merged_df.groupby(['race_group']).groups)\n",
      "Testing weights for abd_exp_01:   8%|▊         | 8/101 [00:03<00:36,  2.55it/s]<ipython-input-6-d61cf6b7d348>:36: FutureWarning: The default of observed=False is deprecated and will be changed to True in a future version of pandas. Pass observed=False to retain current behavior or observed=True to adopt the future default and silence this warning.\n",
      "  merged_df_race_dict = dict(merged_df.groupby(['race_group']).groups)\n",
      "Testing weights for abd_exp_01:   9%|▉         | 9/101 [00:03<00:36,  2.55it/s]<ipython-input-6-d61cf6b7d348>:36: FutureWarning: The default of observed=False is deprecated and will be changed to True in a future version of pandas. Pass observed=False to retain current behavior or observed=True to adopt the future default and silence this warning.\n",
      "  merged_df_race_dict = dict(merged_df.groupby(['race_group']).groups)\n",
      "Testing weights for abd_exp_01:  10%|▉         | 10/101 [00:03<00:35,  2.55it/s]<ipython-input-6-d61cf6b7d348>:36: FutureWarning: The default of observed=False is deprecated and will be changed to True in a future version of pandas. Pass observed=False to retain current behavior or observed=True to adopt the future default and silence this warning.\n",
      "  merged_df_race_dict = dict(merged_df.groupby(['race_group']).groups)\n",
      "Testing weights for abd_exp_01:  11%|█         | 11/101 [00:04<00:35,  2.54it/s]<ipython-input-6-d61cf6b7d348>:36: FutureWarning: The default of observed=False is deprecated and will be changed to True in a future version of pandas. Pass observed=False to retain current behavior or observed=True to adopt the future default and silence this warning.\n",
      "  merged_df_race_dict = dict(merged_df.groupby(['race_group']).groups)\n",
      "Testing weights for abd_exp_01:  12%|█▏        | 12/101 [00:04<00:35,  2.53it/s]<ipython-input-6-d61cf6b7d348>:36: FutureWarning: The default of observed=False is deprecated and will be changed to True in a future version of pandas. Pass observed=False to retain current behavior or observed=True to adopt the future default and silence this warning.\n",
      "  merged_df_race_dict = dict(merged_df.groupby(['race_group']).groups)\n",
      "Testing weights for abd_exp_01:  13%|█▎        | 13/101 [00:05<00:34,  2.54it/s]<ipython-input-6-d61cf6b7d348>:36: FutureWarning: The default of observed=False is deprecated and will be changed to True in a future version of pandas. Pass observed=False to retain current behavior or observed=True to adopt the future default and silence this warning.\n",
      "  merged_df_race_dict = dict(merged_df.groupby(['race_group']).groups)\n",
      "Testing weights for abd_exp_01:  14%|█▍        | 14/101 [00:05<00:34,  2.53it/s]<ipython-input-6-d61cf6b7d348>:36: FutureWarning: The default of observed=False is deprecated and will be changed to True in a future version of pandas. Pass observed=False to retain current behavior or observed=True to adopt the future default and silence this warning.\n",
      "  merged_df_race_dict = dict(merged_df.groupby(['race_group']).groups)\n",
      "Testing weights for abd_exp_01:  15%|█▍        | 15/101 [00:05<00:33,  2.53it/s]<ipython-input-6-d61cf6b7d348>:36: FutureWarning: The default of observed=False is deprecated and will be changed to True in a future version of pandas. Pass observed=False to retain current behavior or observed=True to adopt the future default and silence this warning.\n",
      "  merged_df_race_dict = dict(merged_df.groupby(['race_group']).groups)\n",
      "Testing weights for abd_exp_01:  16%|█▌        | 16/101 [00:06<00:33,  2.52it/s]<ipython-input-6-d61cf6b7d348>:36: FutureWarning: The default of observed=False is deprecated and will be changed to True in a future version of pandas. Pass observed=False to retain current behavior or observed=True to adopt the future default and silence this warning.\n",
      "  merged_df_race_dict = dict(merged_df.groupby(['race_group']).groups)\n",
      "Testing weights for abd_exp_01:  17%|█▋        | 17/101 [00:06<00:33,  2.52it/s]<ipython-input-6-d61cf6b7d348>:36: FutureWarning: The default of observed=False is deprecated and will be changed to True in a future version of pandas. Pass observed=False to retain current behavior or observed=True to adopt the future default and silence this warning.\n",
      "  merged_df_race_dict = dict(merged_df.groupby(['race_group']).groups)\n",
      "Testing weights for abd_exp_01:  18%|█▊        | 18/101 [00:07<00:32,  2.52it/s]<ipython-input-6-d61cf6b7d348>:36: FutureWarning: The default of observed=False is deprecated and will be changed to True in a future version of pandas. Pass observed=False to retain current behavior or observed=True to adopt the future default and silence this warning.\n",
      "  merged_df_race_dict = dict(merged_df.groupby(['race_group']).groups)\n",
      "Testing weights for abd_exp_01:  19%|█▉        | 19/101 [00:07<00:32,  2.52it/s]<ipython-input-6-d61cf6b7d348>:36: FutureWarning: The default of observed=False is deprecated and will be changed to True in a future version of pandas. Pass observed=False to retain current behavior or observed=True to adopt the future default and silence this warning.\n",
      "  merged_df_race_dict = dict(merged_df.groupby(['race_group']).groups)\n",
      "Testing weights for abd_exp_01:  20%|█▉        | 20/101 [00:07<00:31,  2.53it/s]<ipython-input-6-d61cf6b7d348>:36: FutureWarning: The default of observed=False is deprecated and will be changed to True in a future version of pandas. Pass observed=False to retain current behavior or observed=True to adopt the future default and silence this warning.\n",
      "  merged_df_race_dict = dict(merged_df.groupby(['race_group']).groups)\n",
      "Testing weights for abd_exp_01:  21%|██        | 21/101 [00:08<00:31,  2.52it/s]<ipython-input-6-d61cf6b7d348>:36: FutureWarning: The default of observed=False is deprecated and will be changed to True in a future version of pandas. Pass observed=False to retain current behavior or observed=True to adopt the future default and silence this warning.\n",
      "  merged_df_race_dict = dict(merged_df.groupby(['race_group']).groups)\n",
      "Testing weights for abd_exp_01:  22%|██▏       | 22/101 [00:08<00:31,  2.48it/s]<ipython-input-6-d61cf6b7d348>:36: FutureWarning: The default of observed=False is deprecated and will be changed to True in a future version of pandas. Pass observed=False to retain current behavior or observed=True to adopt the future default and silence this warning.\n",
      "  merged_df_race_dict = dict(merged_df.groupby(['race_group']).groups)\n",
      "Testing weights for abd_exp_01:  23%|██▎       | 23/101 [00:09<00:31,  2.50it/s]<ipython-input-6-d61cf6b7d348>:36: FutureWarning: The default of observed=False is deprecated and will be changed to True in a future version of pandas. Pass observed=False to retain current behavior or observed=True to adopt the future default and silence this warning.\n",
      "  merged_df_race_dict = dict(merged_df.groupby(['race_group']).groups)\n",
      "Testing weights for abd_exp_01:  24%|██▍       | 24/101 [00:09<00:30,  2.51it/s]<ipython-input-6-d61cf6b7d348>:36: FutureWarning: The default of observed=False is deprecated and will be changed to True in a future version of pandas. Pass observed=False to retain current behavior or observed=True to adopt the future default and silence this warning.\n",
      "  merged_df_race_dict = dict(merged_df.groupby(['race_group']).groups)\n",
      "Testing weights for abd_exp_01:  25%|██▍       | 25/101 [00:09<00:30,  2.52it/s]<ipython-input-6-d61cf6b7d348>:36: FutureWarning: The default of observed=False is deprecated and will be changed to True in a future version of pandas. Pass observed=False to retain current behavior or observed=True to adopt the future default and silence this warning.\n",
      "  merged_df_race_dict = dict(merged_df.groupby(['race_group']).groups)\n",
      "Testing weights for abd_exp_01:  26%|██▌       | 26/101 [00:10<00:29,  2.52it/s]<ipython-input-6-d61cf6b7d348>:36: FutureWarning: The default of observed=False is deprecated and will be changed to True in a future version of pandas. Pass observed=False to retain current behavior or observed=True to adopt the future default and silence this warning.\n",
      "  merged_df_race_dict = dict(merged_df.groupby(['race_group']).groups)\n",
      "Testing weights for abd_exp_01:  27%|██▋       | 27/101 [00:10<00:29,  2.53it/s]<ipython-input-6-d61cf6b7d348>:36: FutureWarning: The default of observed=False is deprecated and will be changed to True in a future version of pandas. Pass observed=False to retain current behavior or observed=True to adopt the future default and silence this warning.\n",
      "  merged_df_race_dict = dict(merged_df.groupby(['race_group']).groups)\n",
      "Testing weights for abd_exp_01:  28%|██▊       | 28/101 [00:11<00:28,  2.54it/s]<ipython-input-6-d61cf6b7d348>:36: FutureWarning: The default of observed=False is deprecated and will be changed to True in a future version of pandas. Pass observed=False to retain current behavior or observed=True to adopt the future default and silence this warning.\n",
      "  merged_df_race_dict = dict(merged_df.groupby(['race_group']).groups)\n",
      "Testing weights for abd_exp_01:  29%|██▊       | 29/101 [00:11<00:28,  2.54it/s]<ipython-input-6-d61cf6b7d348>:36: FutureWarning: The default of observed=False is deprecated and will be changed to True in a future version of pandas. Pass observed=False to retain current behavior or observed=True to adopt the future default and silence this warning.\n",
      "  merged_df_race_dict = dict(merged_df.groupby(['race_group']).groups)\n",
      "Testing weights for abd_exp_01:  30%|██▉       | 30/101 [00:11<00:28,  2.52it/s]<ipython-input-6-d61cf6b7d348>:36: FutureWarning: The default of observed=False is deprecated and will be changed to True in a future version of pandas. Pass observed=False to retain current behavior or observed=True to adopt the future default and silence this warning.\n",
      "  merged_df_race_dict = dict(merged_df.groupby(['race_group']).groups)\n",
      "Testing weights for abd_exp_01:  31%|███       | 31/101 [00:12<00:27,  2.53it/s]<ipython-input-6-d61cf6b7d348>:36: FutureWarning: The default of observed=False is deprecated and will be changed to True in a future version of pandas. Pass observed=False to retain current behavior or observed=True to adopt the future default and silence this warning.\n",
      "  merged_df_race_dict = dict(merged_df.groupby(['race_group']).groups)\n",
      "Testing weights for abd_exp_01:  32%|███▏      | 32/101 [00:12<00:27,  2.54it/s]<ipython-input-6-d61cf6b7d348>:36: FutureWarning: The default of observed=False is deprecated and will be changed to True in a future version of pandas. Pass observed=False to retain current behavior or observed=True to adopt the future default and silence this warning.\n",
      "  merged_df_race_dict = dict(merged_df.groupby(['race_group']).groups)\n",
      "Testing weights for abd_exp_01:  33%|███▎      | 33/101 [00:13<00:26,  2.55it/s]<ipython-input-6-d61cf6b7d348>:36: FutureWarning: The default of observed=False is deprecated and will be changed to True in a future version of pandas. Pass observed=False to retain current behavior or observed=True to adopt the future default and silence this warning.\n",
      "  merged_df_race_dict = dict(merged_df.groupby(['race_group']).groups)\n",
      "Testing weights for abd_exp_01:  34%|███▎      | 34/101 [00:13<00:26,  2.54it/s]<ipython-input-6-d61cf6b7d348>:36: FutureWarning: The default of observed=False is deprecated and will be changed to True in a future version of pandas. Pass observed=False to retain current behavior or observed=True to adopt the future default and silence this warning.\n",
      "  merged_df_race_dict = dict(merged_df.groupby(['race_group']).groups)\n",
      "Testing weights for abd_exp_01:  35%|███▍      | 35/101 [00:13<00:26,  2.47it/s]<ipython-input-6-d61cf6b7d348>:36: FutureWarning: The default of observed=False is deprecated and will be changed to True in a future version of pandas. Pass observed=False to retain current behavior or observed=True to adopt the future default and silence this warning.\n",
      "  merged_df_race_dict = dict(merged_df.groupby(['race_group']).groups)\n",
      "Testing weights for abd_exp_01:  36%|███▌      | 36/101 [00:14<00:26,  2.45it/s]<ipython-input-6-d61cf6b7d348>:36: FutureWarning: The default of observed=False is deprecated and will be changed to True in a future version of pandas. Pass observed=False to retain current behavior or observed=True to adopt the future default and silence this warning.\n",
      "  merged_df_race_dict = dict(merged_df.groupby(['race_group']).groups)\n",
      "Testing weights for abd_exp_01:  37%|███▋      | 37/101 [00:14<00:26,  2.46it/s]<ipython-input-6-d61cf6b7d348>:36: FutureWarning: The default of observed=False is deprecated and will be changed to True in a future version of pandas. Pass observed=False to retain current behavior or observed=True to adopt the future default and silence this warning.\n",
      "  merged_df_race_dict = dict(merged_df.groupby(['race_group']).groups)\n",
      "Testing weights for abd_exp_01:  38%|███▊      | 38/101 [00:15<00:25,  2.47it/s]<ipython-input-6-d61cf6b7d348>:36: FutureWarning: The default of observed=False is deprecated and will be changed to True in a future version of pandas. Pass observed=False to retain current behavior or observed=True to adopt the future default and silence this warning.\n",
      "  merged_df_race_dict = dict(merged_df.groupby(['race_group']).groups)\n",
      "Testing weights for abd_exp_01:  39%|███▊      | 39/101 [00:15<00:24,  2.49it/s]<ipython-input-6-d61cf6b7d348>:36: FutureWarning: The default of observed=False is deprecated and will be changed to True in a future version of pandas. Pass observed=False to retain current behavior or observed=True to adopt the future default and silence this warning.\n",
      "  merged_df_race_dict = dict(merged_df.groupby(['race_group']).groups)\n",
      "Testing weights for abd_exp_01:  40%|███▉      | 40/101 [00:15<00:24,  2.50it/s]<ipython-input-6-d61cf6b7d348>:36: FutureWarning: The default of observed=False is deprecated and will be changed to True in a future version of pandas. Pass observed=False to retain current behavior or observed=True to adopt the future default and silence this warning.\n",
      "  merged_df_race_dict = dict(merged_df.groupby(['race_group']).groups)\n",
      "Testing weights for abd_exp_01:  41%|████      | 41/101 [00:16<00:23,  2.50it/s]<ipython-input-6-d61cf6b7d348>:36: FutureWarning: The default of observed=False is deprecated and will be changed to True in a future version of pandas. Pass observed=False to retain current behavior or observed=True to adopt the future default and silence this warning.\n",
      "  merged_df_race_dict = dict(merged_df.groupby(['race_group']).groups)\n",
      "Testing weights for abd_exp_01:  42%|████▏     | 42/101 [00:16<00:23,  2.51it/s]<ipython-input-6-d61cf6b7d348>:36: FutureWarning: The default of observed=False is deprecated and will be changed to True in a future version of pandas. Pass observed=False to retain current behavior or observed=True to adopt the future default and silence this warning.\n",
      "  merged_df_race_dict = dict(merged_df.groupby(['race_group']).groups)\n",
      "Testing weights for abd_exp_01:  43%|████▎     | 43/101 [00:17<00:22,  2.53it/s]<ipython-input-6-d61cf6b7d348>:36: FutureWarning: The default of observed=False is deprecated and will be changed to True in a future version of pandas. Pass observed=False to retain current behavior or observed=True to adopt the future default and silence this warning.\n",
      "  merged_df_race_dict = dict(merged_df.groupby(['race_group']).groups)\n",
      "Testing weights for abd_exp_01:  44%|████▎     | 44/101 [00:17<00:22,  2.53it/s]<ipython-input-6-d61cf6b7d348>:36: FutureWarning: The default of observed=False is deprecated and will be changed to True in a future version of pandas. Pass observed=False to retain current behavior or observed=True to adopt the future default and silence this warning.\n",
      "  merged_df_race_dict = dict(merged_df.groupby(['race_group']).groups)\n",
      "Testing weights for abd_exp_01:  45%|████▍     | 45/101 [00:17<00:22,  2.54it/s]<ipython-input-6-d61cf6b7d348>:36: FutureWarning: The default of observed=False is deprecated and will be changed to True in a future version of pandas. Pass observed=False to retain current behavior or observed=True to adopt the future default and silence this warning.\n",
      "  merged_df_race_dict = dict(merged_df.groupby(['race_group']).groups)\n",
      "Testing weights for abd_exp_01:  46%|████▌     | 46/101 [00:18<00:21,  2.54it/s]<ipython-input-6-d61cf6b7d348>:36: FutureWarning: The default of observed=False is deprecated and will be changed to True in a future version of pandas. Pass observed=False to retain current behavior or observed=True to adopt the future default and silence this warning.\n",
      "  merged_df_race_dict = dict(merged_df.groupby(['race_group']).groups)\n",
      "Testing weights for abd_exp_01:  47%|████▋     | 47/101 [00:18<00:21,  2.49it/s]<ipython-input-6-d61cf6b7d348>:36: FutureWarning: The default of observed=False is deprecated and will be changed to True in a future version of pandas. Pass observed=False to retain current behavior or observed=True to adopt the future default and silence this warning.\n",
      "  merged_df_race_dict = dict(merged_df.groupby(['race_group']).groups)\n",
      "Testing weights for abd_exp_01:  48%|████▊     | 48/101 [00:19<00:21,  2.51it/s]<ipython-input-6-d61cf6b7d348>:36: FutureWarning: The default of observed=False is deprecated and will be changed to True in a future version of pandas. Pass observed=False to retain current behavior or observed=True to adopt the future default and silence this warning.\n",
      "  merged_df_race_dict = dict(merged_df.groupby(['race_group']).groups)\n",
      "Testing weights for abd_exp_01:  49%|████▊     | 49/101 [00:19<00:20,  2.50it/s]<ipython-input-6-d61cf6b7d348>:36: FutureWarning: The default of observed=False is deprecated and will be changed to True in a future version of pandas. Pass observed=False to retain current behavior or observed=True to adopt the future default and silence this warning.\n",
      "  merged_df_race_dict = dict(merged_df.groupby(['race_group']).groups)\n",
      "Testing weights for abd_exp_01:  50%|████▉     | 50/101 [00:19<00:20,  2.51it/s]<ipython-input-6-d61cf6b7d348>:36: FutureWarning: The default of observed=False is deprecated and will be changed to True in a future version of pandas. Pass observed=False to retain current behavior or observed=True to adopt the future default and silence this warning.\n",
      "  merged_df_race_dict = dict(merged_df.groupby(['race_group']).groups)\n",
      "Testing weights for abd_exp_01:  50%|█████     | 51/101 [00:20<00:19,  2.53it/s]<ipython-input-6-d61cf6b7d348>:36: FutureWarning: The default of observed=False is deprecated and will be changed to True in a future version of pandas. Pass observed=False to retain current behavior or observed=True to adopt the future default and silence this warning.\n",
      "  merged_df_race_dict = dict(merged_df.groupby(['race_group']).groups)\n",
      "Testing weights for abd_exp_01:  51%|█████▏    | 52/101 [00:20<00:19,  2.53it/s]<ipython-input-6-d61cf6b7d348>:36: FutureWarning: The default of observed=False is deprecated and will be changed to True in a future version of pandas. Pass observed=False to retain current behavior or observed=True to adopt the future default and silence this warning.\n",
      "  merged_df_race_dict = dict(merged_df.groupby(['race_group']).groups)\n",
      "Testing weights for abd_exp_01:  52%|█████▏    | 53/101 [00:21<00:19,  2.52it/s]<ipython-input-6-d61cf6b7d348>:36: FutureWarning: The default of observed=False is deprecated and will be changed to True in a future version of pandas. Pass observed=False to retain current behavior or observed=True to adopt the future default and silence this warning.\n",
      "  merged_df_race_dict = dict(merged_df.groupby(['race_group']).groups)\n",
      "Testing weights for abd_exp_01:  53%|█████▎    | 54/101 [00:21<00:18,  2.51it/s]<ipython-input-6-d61cf6b7d348>:36: FutureWarning: The default of observed=False is deprecated and will be changed to True in a future version of pandas. Pass observed=False to retain current behavior or observed=True to adopt the future default and silence this warning.\n",
      "  merged_df_race_dict = dict(merged_df.groupby(['race_group']).groups)\n",
      "Testing weights for abd_exp_01:  54%|█████▍    | 55/101 [00:21<00:18,  2.51it/s]<ipython-input-6-d61cf6b7d348>:36: FutureWarning: The default of observed=False is deprecated and will be changed to True in a future version of pandas. Pass observed=False to retain current behavior or observed=True to adopt the future default and silence this warning.\n",
      "  merged_df_race_dict = dict(merged_df.groupby(['race_group']).groups)\n",
      "Testing weights for abd_exp_01:  55%|█████▌    | 56/101 [00:22<00:17,  2.52it/s]<ipython-input-6-d61cf6b7d348>:36: FutureWarning: The default of observed=False is deprecated and will be changed to True in a future version of pandas. Pass observed=False to retain current behavior or observed=True to adopt the future default and silence this warning.\n",
      "  merged_df_race_dict = dict(merged_df.groupby(['race_group']).groups)\n",
      "Testing weights for abd_exp_01:  56%|█████▋    | 57/101 [00:22<00:17,  2.53it/s]<ipython-input-6-d61cf6b7d348>:36: FutureWarning: The default of observed=False is deprecated and will be changed to True in a future version of pandas. Pass observed=False to retain current behavior or observed=True to adopt the future default and silence this warning.\n",
      "  merged_df_race_dict = dict(merged_df.groupby(['race_group']).groups)\n",
      "Testing weights for abd_exp_01:  57%|█████▋    | 58/101 [00:22<00:16,  2.54it/s]<ipython-input-6-d61cf6b7d348>:36: FutureWarning: The default of observed=False is deprecated and will be changed to True in a future version of pandas. Pass observed=False to retain current behavior or observed=True to adopt the future default and silence this warning.\n",
      "  merged_df_race_dict = dict(merged_df.groupby(['race_group']).groups)\n",
      "Testing weights for abd_exp_01:  58%|█████▊    | 59/101 [00:23<00:16,  2.53it/s]<ipython-input-6-d61cf6b7d348>:36: FutureWarning: The default of observed=False is deprecated and will be changed to True in a future version of pandas. Pass observed=False to retain current behavior or observed=True to adopt the future default and silence this warning.\n",
      "  merged_df_race_dict = dict(merged_df.groupby(['race_group']).groups)\n",
      "Testing weights for abd_exp_01:  59%|█████▉    | 60/101 [00:23<00:16,  2.53it/s]<ipython-input-6-d61cf6b7d348>:36: FutureWarning: The default of observed=False is deprecated and will be changed to True in a future version of pandas. Pass observed=False to retain current behavior or observed=True to adopt the future default and silence this warning.\n",
      "  merged_df_race_dict = dict(merged_df.groupby(['race_group']).groups)\n",
      "Testing weights for abd_exp_01:  60%|██████    | 61/101 [00:24<00:15,  2.53it/s]<ipython-input-6-d61cf6b7d348>:36: FutureWarning: The default of observed=False is deprecated and will be changed to True in a future version of pandas. Pass observed=False to retain current behavior or observed=True to adopt the future default and silence this warning.\n",
      "  merged_df_race_dict = dict(merged_df.groupby(['race_group']).groups)\n",
      "Testing weights for abd_exp_01:  61%|██████▏   | 62/101 [00:24<00:15,  2.53it/s]<ipython-input-6-d61cf6b7d348>:36: FutureWarning: The default of observed=False is deprecated and will be changed to True in a future version of pandas. Pass observed=False to retain current behavior or observed=True to adopt the future default and silence this warning.\n",
      "  merged_df_race_dict = dict(merged_df.groupby(['race_group']).groups)\n",
      "Testing weights for abd_exp_01:  62%|██████▏   | 63/101 [00:24<00:14,  2.54it/s]<ipython-input-6-d61cf6b7d348>:36: FutureWarning: The default of observed=False is deprecated and will be changed to True in a future version of pandas. Pass observed=False to retain current behavior or observed=True to adopt the future default and silence this warning.\n",
      "  merged_df_race_dict = dict(merged_df.groupby(['race_group']).groups)\n",
      "Testing weights for abd_exp_01:  63%|██████▎   | 64/101 [00:25<00:14,  2.53it/s]<ipython-input-6-d61cf6b7d348>:36: FutureWarning: The default of observed=False is deprecated and will be changed to True in a future version of pandas. Pass observed=False to retain current behavior or observed=True to adopt the future default and silence this warning.\n",
      "  merged_df_race_dict = dict(merged_df.groupby(['race_group']).groups)\n",
      "Testing weights for abd_exp_01:  64%|██████▍   | 65/101 [00:25<00:14,  2.54it/s]<ipython-input-6-d61cf6b7d348>:36: FutureWarning: The default of observed=False is deprecated and will be changed to True in a future version of pandas. Pass observed=False to retain current behavior or observed=True to adopt the future default and silence this warning.\n",
      "  merged_df_race_dict = dict(merged_df.groupby(['race_group']).groups)\n",
      "Testing weights for abd_exp_01:  65%|██████▌   | 66/101 [00:26<00:13,  2.54it/s]<ipython-input-6-d61cf6b7d348>:36: FutureWarning: The default of observed=False is deprecated and will be changed to True in a future version of pandas. Pass observed=False to retain current behavior or observed=True to adopt the future default and silence this warning.\n",
      "  merged_df_race_dict = dict(merged_df.groupby(['race_group']).groups)\n",
      "Testing weights for abd_exp_01:  66%|██████▋   | 67/101 [00:26<00:13,  2.54it/s]<ipython-input-6-d61cf6b7d348>:36: FutureWarning: The default of observed=False is deprecated and will be changed to True in a future version of pandas. Pass observed=False to retain current behavior or observed=True to adopt the future default and silence this warning.\n",
      "  merged_df_race_dict = dict(merged_df.groupby(['race_group']).groups)\n",
      "Testing weights for abd_exp_01:  67%|██████▋   | 68/101 [00:26<00:12,  2.54it/s]<ipython-input-6-d61cf6b7d348>:36: FutureWarning: The default of observed=False is deprecated and will be changed to True in a future version of pandas. Pass observed=False to retain current behavior or observed=True to adopt the future default and silence this warning.\n",
      "  merged_df_race_dict = dict(merged_df.groupby(['race_group']).groups)\n",
      "Testing weights for abd_exp_01:  68%|██████▊   | 69/101 [00:27<00:12,  2.54it/s]<ipython-input-6-d61cf6b7d348>:36: FutureWarning: The default of observed=False is deprecated and will be changed to True in a future version of pandas. Pass observed=False to retain current behavior or observed=True to adopt the future default and silence this warning.\n",
      "  merged_df_race_dict = dict(merged_df.groupby(['race_group']).groups)\n",
      "Testing weights for abd_exp_01:  69%|██████▉   | 70/101 [00:27<00:12,  2.54it/s]<ipython-input-6-d61cf6b7d348>:36: FutureWarning: The default of observed=False is deprecated and will be changed to True in a future version of pandas. Pass observed=False to retain current behavior or observed=True to adopt the future default and silence this warning.\n",
      "  merged_df_race_dict = dict(merged_df.groupby(['race_group']).groups)\n",
      "Testing weights for abd_exp_01:  70%|███████   | 71/101 [00:28<00:11,  2.54it/s]<ipython-input-6-d61cf6b7d348>:36: FutureWarning: The default of observed=False is deprecated and will be changed to True in a future version of pandas. Pass observed=False to retain current behavior or observed=True to adopt the future default and silence this warning.\n",
      "  merged_df_race_dict = dict(merged_df.groupby(['race_group']).groups)\n",
      "Testing weights for abd_exp_01:  71%|███████▏  | 72/101 [00:28<00:11,  2.45it/s]<ipython-input-6-d61cf6b7d348>:36: FutureWarning: The default of observed=False is deprecated and will be changed to True in a future version of pandas. Pass observed=False to retain current behavior or observed=True to adopt the future default and silence this warning.\n",
      "  merged_df_race_dict = dict(merged_df.groupby(['race_group']).groups)\n",
      "Testing weights for abd_exp_01:  72%|███████▏  | 73/101 [00:28<00:11,  2.48it/s]<ipython-input-6-d61cf6b7d348>:36: FutureWarning: The default of observed=False is deprecated and will be changed to True in a future version of pandas. Pass observed=False to retain current behavior or observed=True to adopt the future default and silence this warning.\n",
      "  merged_df_race_dict = dict(merged_df.groupby(['race_group']).groups)\n",
      "Testing weights for abd_exp_01:  73%|███████▎  | 74/101 [00:29<00:10,  2.50it/s]<ipython-input-6-d61cf6b7d348>:36: FutureWarning: The default of observed=False is deprecated and will be changed to True in a future version of pandas. Pass observed=False to retain current behavior or observed=True to adopt the future default and silence this warning.\n",
      "  merged_df_race_dict = dict(merged_df.groupby(['race_group']).groups)\n",
      "Testing weights for abd_exp_01:  74%|███████▍  | 75/101 [00:29<00:10,  2.51it/s]<ipython-input-6-d61cf6b7d348>:36: FutureWarning: The default of observed=False is deprecated and will be changed to True in a future version of pandas. Pass observed=False to retain current behavior or observed=True to adopt the future default and silence this warning.\n",
      "  merged_df_race_dict = dict(merged_df.groupby(['race_group']).groups)\n",
      "Testing weights for abd_exp_01:  75%|███████▌  | 76/101 [00:30<00:09,  2.52it/s]<ipython-input-6-d61cf6b7d348>:36: FutureWarning: The default of observed=False is deprecated and will be changed to True in a future version of pandas. Pass observed=False to retain current behavior or observed=True to adopt the future default and silence this warning.\n",
      "  merged_df_race_dict = dict(merged_df.groupby(['race_group']).groups)\n",
      "Testing weights for abd_exp_01:  76%|███████▌  | 77/101 [00:30<00:09,  2.53it/s]<ipython-input-6-d61cf6b7d348>:36: FutureWarning: The default of observed=False is deprecated and will be changed to True in a future version of pandas. Pass observed=False to retain current behavior or observed=True to adopt the future default and silence this warning.\n",
      "  merged_df_race_dict = dict(merged_df.groupby(['race_group']).groups)\n",
      "Testing weights for abd_exp_01:  77%|███████▋  | 78/101 [00:30<00:09,  2.54it/s]<ipython-input-6-d61cf6b7d348>:36: FutureWarning: The default of observed=False is deprecated and will be changed to True in a future version of pandas. Pass observed=False to retain current behavior or observed=True to adopt the future default and silence this warning.\n",
      "  merged_df_race_dict = dict(merged_df.groupby(['race_group']).groups)\n",
      "Testing weights for abd_exp_01:  78%|███████▊  | 79/101 [00:31<00:08,  2.54it/s]<ipython-input-6-d61cf6b7d348>:36: FutureWarning: The default of observed=False is deprecated and will be changed to True in a future version of pandas. Pass observed=False to retain current behavior or observed=True to adopt the future default and silence this warning.\n",
      "  merged_df_race_dict = dict(merged_df.groupby(['race_group']).groups)\n",
      "Testing weights for abd_exp_01:  79%|███████▉  | 80/101 [00:31<00:08,  2.54it/s]<ipython-input-6-d61cf6b7d348>:36: FutureWarning: The default of observed=False is deprecated and will be changed to True in a future version of pandas. Pass observed=False to retain current behavior or observed=True to adopt the future default and silence this warning.\n",
      "  merged_df_race_dict = dict(merged_df.groupby(['race_group']).groups)\n",
      "Testing weights for abd_exp_01:  80%|████████  | 81/101 [00:32<00:07,  2.55it/s]<ipython-input-6-d61cf6b7d348>:36: FutureWarning: The default of observed=False is deprecated and will be changed to True in a future version of pandas. Pass observed=False to retain current behavior or observed=True to adopt the future default and silence this warning.\n",
      "  merged_df_race_dict = dict(merged_df.groupby(['race_group']).groups)\n",
      "Testing weights for abd_exp_01:  81%|████████  | 82/101 [00:32<00:07,  2.54it/s]<ipython-input-6-d61cf6b7d348>:36: FutureWarning: The default of observed=False is deprecated and will be changed to True in a future version of pandas. Pass observed=False to retain current behavior or observed=True to adopt the future default and silence this warning.\n",
      "  merged_df_race_dict = dict(merged_df.groupby(['race_group']).groups)\n",
      "Testing weights for abd_exp_01:  82%|████████▏ | 83/101 [00:32<00:07,  2.54it/s]<ipython-input-6-d61cf6b7d348>:36: FutureWarning: The default of observed=False is deprecated and will be changed to True in a future version of pandas. Pass observed=False to retain current behavior or observed=True to adopt the future default and silence this warning.\n",
      "  merged_df_race_dict = dict(merged_df.groupby(['race_group']).groups)\n",
      "Testing weights for abd_exp_01:  83%|████████▎ | 84/101 [00:33<00:06,  2.55it/s]<ipython-input-6-d61cf6b7d348>:36: FutureWarning: The default of observed=False is deprecated and will be changed to True in a future version of pandas. Pass observed=False to retain current behavior or observed=True to adopt the future default and silence this warning.\n",
      "  merged_df_race_dict = dict(merged_df.groupby(['race_group']).groups)\n",
      "Testing weights for abd_exp_01:  84%|████████▍ | 85/101 [00:33<00:06,  2.55it/s]<ipython-input-6-d61cf6b7d348>:36: FutureWarning: The default of observed=False is deprecated and will be changed to True in a future version of pandas. Pass observed=False to retain current behavior or observed=True to adopt the future default and silence this warning.\n",
      "  merged_df_race_dict = dict(merged_df.groupby(['race_group']).groups)\n",
      "Testing weights for abd_exp_01:  85%|████████▌ | 86/101 [00:34<00:05,  2.55it/s]<ipython-input-6-d61cf6b7d348>:36: FutureWarning: The default of observed=False is deprecated and will be changed to True in a future version of pandas. Pass observed=False to retain current behavior or observed=True to adopt the future default and silence this warning.\n",
      "  merged_df_race_dict = dict(merged_df.groupby(['race_group']).groups)\n",
      "Testing weights for abd_exp_01:  86%|████████▌ | 87/101 [00:34<00:05,  2.54it/s]<ipython-input-6-d61cf6b7d348>:36: FutureWarning: The default of observed=False is deprecated and will be changed to True in a future version of pandas. Pass observed=False to retain current behavior or observed=True to adopt the future default and silence this warning.\n",
      "  merged_df_race_dict = dict(merged_df.groupby(['race_group']).groups)\n",
      "Testing weights for abd_exp_01:  87%|████████▋ | 88/101 [00:34<00:05,  2.54it/s]<ipython-input-6-d61cf6b7d348>:36: FutureWarning: The default of observed=False is deprecated and will be changed to True in a future version of pandas. Pass observed=False to retain current behavior or observed=True to adopt the future default and silence this warning.\n",
      "  merged_df_race_dict = dict(merged_df.groupby(['race_group']).groups)\n",
      "Testing weights for abd_exp_01:  88%|████████▊ | 89/101 [00:35<00:04,  2.54it/s]<ipython-input-6-d61cf6b7d348>:36: FutureWarning: The default of observed=False is deprecated and will be changed to True in a future version of pandas. Pass observed=False to retain current behavior or observed=True to adopt the future default and silence this warning.\n",
      "  merged_df_race_dict = dict(merged_df.groupby(['race_group']).groups)\n",
      "Testing weights for abd_exp_01:  89%|████████▉ | 90/101 [00:35<00:04,  2.54it/s]<ipython-input-6-d61cf6b7d348>:36: FutureWarning: The default of observed=False is deprecated and will be changed to True in a future version of pandas. Pass observed=False to retain current behavior or observed=True to adopt the future default and silence this warning.\n",
      "  merged_df_race_dict = dict(merged_df.groupby(['race_group']).groups)\n",
      "Testing weights for abd_exp_01:  90%|█████████ | 91/101 [00:36<00:03,  2.55it/s]<ipython-input-6-d61cf6b7d348>:36: FutureWarning: The default of observed=False is deprecated and will be changed to True in a future version of pandas. Pass observed=False to retain current behavior or observed=True to adopt the future default and silence this warning.\n",
      "  merged_df_race_dict = dict(merged_df.groupby(['race_group']).groups)\n",
      "Testing weights for abd_exp_01:  91%|█████████ | 92/101 [00:36<00:03,  2.55it/s]<ipython-input-6-d61cf6b7d348>:36: FutureWarning: The default of observed=False is deprecated and will be changed to True in a future version of pandas. Pass observed=False to retain current behavior or observed=True to adopt the future default and silence this warning.\n",
      "  merged_df_race_dict = dict(merged_df.groupby(['race_group']).groups)\n",
      "Testing weights for abd_exp_01:  92%|█████████▏| 93/101 [00:36<00:03,  2.55it/s]<ipython-input-6-d61cf6b7d348>:36: FutureWarning: The default of observed=False is deprecated and will be changed to True in a future version of pandas. Pass observed=False to retain current behavior or observed=True to adopt the future default and silence this warning.\n",
      "  merged_df_race_dict = dict(merged_df.groupby(['race_group']).groups)\n",
      "Testing weights for abd_exp_01:  93%|█████████▎| 94/101 [00:37<00:02,  2.55it/s]<ipython-input-6-d61cf6b7d348>:36: FutureWarning: The default of observed=False is deprecated and will be changed to True in a future version of pandas. Pass observed=False to retain current behavior or observed=True to adopt the future default and silence this warning.\n",
      "  merged_df_race_dict = dict(merged_df.groupby(['race_group']).groups)\n",
      "Testing weights for abd_exp_01:  94%|█████████▍| 95/101 [00:37<00:02,  2.55it/s]<ipython-input-6-d61cf6b7d348>:36: FutureWarning: The default of observed=False is deprecated and will be changed to True in a future version of pandas. Pass observed=False to retain current behavior or observed=True to adopt the future default and silence this warning.\n",
      "  merged_df_race_dict = dict(merged_df.groupby(['race_group']).groups)\n",
      "Testing weights for abd_exp_01:  95%|█████████▌| 96/101 [00:37<00:01,  2.55it/s]<ipython-input-6-d61cf6b7d348>:36: FutureWarning: The default of observed=False is deprecated and will be changed to True in a future version of pandas. Pass observed=False to retain current behavior or observed=True to adopt the future default and silence this warning.\n",
      "  merged_df_race_dict = dict(merged_df.groupby(['race_group']).groups)\n",
      "Testing weights for abd_exp_01:  96%|█████████▌| 97/101 [00:38<00:01,  2.50it/s]<ipython-input-6-d61cf6b7d348>:36: FutureWarning: The default of observed=False is deprecated and will be changed to True in a future version of pandas. Pass observed=False to retain current behavior or observed=True to adopt the future default and silence this warning.\n",
      "  merged_df_race_dict = dict(merged_df.groupby(['race_group']).groups)\n",
      "Testing weights for abd_exp_01:  97%|█████████▋| 98/101 [00:38<00:01,  2.50it/s]<ipython-input-6-d61cf6b7d348>:36: FutureWarning: The default of observed=False is deprecated and will be changed to True in a future version of pandas. Pass observed=False to retain current behavior or observed=True to adopt the future default and silence this warning.\n",
      "  merged_df_race_dict = dict(merged_df.groupby(['race_group']).groups)\n",
      "Testing weights for abd_exp_01:  98%|█████████▊| 99/101 [00:39<00:00,  2.51it/s]<ipython-input-6-d61cf6b7d348>:36: FutureWarning: The default of observed=False is deprecated and will be changed to True in a future version of pandas. Pass observed=False to retain current behavior or observed=True to adopt the future default and silence this warning.\n",
      "  merged_df_race_dict = dict(merged_df.groupby(['race_group']).groups)\n",
      "Testing weights for abd_exp_01:  99%|█████████▉| 100/101 [00:39<00:00,  2.52it/s]<ipython-input-6-d61cf6b7d348>:36: FutureWarning: The default of observed=False is deprecated and will be changed to True in a future version of pandas. Pass observed=False to retain current behavior or observed=True to adopt the future default and silence this warning.\n",
      "  merged_df_race_dict = dict(merged_df.groupby(['race_group']).groups)\n",
      "Testing weights for abd_exp_01: 100%|██████████| 101/101 [00:39<00:00,  2.53it/s]\n"
     ]
    },
    {
     "name": "stdout",
     "output_type": "stream",
     "text": [
      "here -> /kaggle/input/catboost-exp-04\n"
     ]
    },
    {
     "name": "stderr",
     "output_type": "stream",
     "text": [
      "Testing weights for catboost_exp_04: 100%|██████████| 101/101 [00:39<00:00,  2.53it/s]\n"
     ]
    },
    {
     "name": "stdout",
     "output_type": "stream",
     "text": [
      "here -> /kaggle/input/lgbm-exp-04\n"
     ]
    },
    {
     "name": "stderr",
     "output_type": "stream",
     "text": [
      "Testing weights for lgbm_exp_04: 100%|██████████| 101/101 [00:39<00:00,  2.54it/s]\n"
     ]
    },
    {
     "name": "stdout",
     "output_type": "stream",
     "text": [
      "here -> /kaggle/input/tabm-exp-03\n"
     ]
    },
    {
     "name": "stderr",
     "output_type": "stream",
     "text": [
      "Testing weights for tabm_exp_03: 100%|██████████| 101/101 [00:40<00:00,  2.51it/s]\n"
     ]
    },
    {
     "name": "stdout",
     "output_type": "stream",
     "text": [
      "here -> /kaggle/input/catboost-exp-05\n"
     ]
    },
    {
     "name": "stderr",
     "output_type": "stream",
     "text": [
      "Testing weights for catboost_exp_05: 100%|██████████| 101/101 [00:40<00:00,  2.52it/s]\n"
     ]
    },
    {
     "name": "stdout",
     "output_type": "stream",
     "text": [
      "Iteration 6: Added /kaggle/input/lgbm-exp-03 with weight -0.0700, Score: 0.6857\n",
      "6th iteration\n",
      "here -> /kaggle/input/xgboost-exp-01\n"
     ]
    },
    {
     "name": "stderr",
     "output_type": "stream",
     "text": [
      "Testing weights for xgboost_exp_01: 100%|██████████| 101/101 [00:39<00:00,  2.53it/s]\n"
     ]
    },
    {
     "name": "stdout",
     "output_type": "stream",
     "text": [
      "here -> /kaggle/input/lgbm-exp-01\n"
     ]
    },
    {
     "name": "stderr",
     "output_type": "stream",
     "text": [
      "Testing weights for lgbm_exp_01: 100%|██████████| 101/101 [00:39<00:00,  2.54it/s]\n"
     ]
    },
    {
     "name": "stdout",
     "output_type": "stream",
     "text": [
      "here -> /kaggle/input/xgboost-exp-02\n"
     ]
    },
    {
     "name": "stderr",
     "output_type": "stream",
     "text": [
      "Testing weights for xgboost_exp_02: 100%|██████████| 101/101 [00:39<00:00,  2.53it/s]\n"
     ]
    },
    {
     "name": "stdout",
     "output_type": "stream",
     "text": [
      "here -> /kaggle/input/catboost-exp-02\n"
     ]
    },
    {
     "name": "stderr",
     "output_type": "stream",
     "text": [
      "Testing weights for catboost_exp_02: 100%|██████████| 101/101 [00:39<00:00,  2.53it/s]\n"
     ]
    },
    {
     "name": "stdout",
     "output_type": "stream",
     "text": [
      "here -> /kaggle/input/catboost-exp-03\n"
     ]
    },
    {
     "name": "stderr",
     "output_type": "stream",
     "text": [
      "Testing weights for catboost_exp_03: 100%|██████████| 101/101 [00:39<00:00,  2.53it/s]\n"
     ]
    },
    {
     "name": "stdout",
     "output_type": "stream",
     "text": [
      "here -> /kaggle/input/tabm-exp-01\n"
     ]
    },
    {
     "name": "stderr",
     "output_type": "stream",
     "text": [
      "Testing weights for tabm_exp_01: 100%|██████████| 101/101 [00:40<00:00,  2.47it/s]\n"
     ]
    },
    {
     "name": "stdout",
     "output_type": "stream",
     "text": [
      "here -> /kaggle/input/nn-exp-01\n"
     ]
    },
    {
     "name": "stderr",
     "output_type": "stream",
     "text": [
      "Testing weights for nn_exp_01: 100%|██████████| 101/101 [00:40<00:00,  2.51it/s]\n"
     ]
    },
    {
     "name": "stdout",
     "output_type": "stream",
     "text": [
      "here -> /kaggle/input/tn-exp-01\n"
     ]
    },
    {
     "name": "stderr",
     "output_type": "stream",
     "text": [
      "Testing weights for tn_exp_01: 100%|██████████| 101/101 [00:40<00:00,  2.50it/s]\n"
     ]
    },
    {
     "name": "stdout",
     "output_type": "stream",
     "text": [
      "here -> /kaggle/input/tf-exp-01\n"
     ]
    },
    {
     "name": "stderr",
     "output_type": "stream",
     "text": [
      "Testing weights for tf_exp_01: 100%|██████████| 101/101 [00:40<00:00,  2.52it/s]\n"
     ]
    },
    {
     "name": "stdout",
     "output_type": "stream",
     "text": [
      "here -> /kaggle/input/svr-exp-01\n"
     ]
    },
    {
     "name": "stderr",
     "output_type": "stream",
     "text": [
      "Testing weights for svr_exp_01: 100%|██████████| 101/101 [00:40<00:00,  2.52it/s]\n"
     ]
    },
    {
     "name": "stdout",
     "output_type": "stream",
     "text": [
      "here -> /kaggle/input/abd-exp-01\n"
     ]
    },
    {
     "name": "stderr",
     "output_type": "stream",
     "text": [
      "Testing weights for abd_exp_01:   0%|          | 0/101 [00:00<?, ?it/s]<ipython-input-6-d61cf6b7d348>:36: FutureWarning: The default of observed=False is deprecated and will be changed to True in a future version of pandas. Pass observed=False to retain current behavior or observed=True to adopt the future default and silence this warning.\n",
      "  merged_df_race_dict = dict(merged_df.groupby(['race_group']).groups)\n",
      "Testing weights for abd_exp_01:   1%|          | 1/101 [00:00<00:39,  2.52it/s]<ipython-input-6-d61cf6b7d348>:36: FutureWarning: The default of observed=False is deprecated and will be changed to True in a future version of pandas. Pass observed=False to retain current behavior or observed=True to adopt the future default and silence this warning.\n",
      "  merged_df_race_dict = dict(merged_df.groupby(['race_group']).groups)\n",
      "Testing weights for abd_exp_01:   2%|▏         | 2/101 [00:00<00:40,  2.45it/s]<ipython-input-6-d61cf6b7d348>:36: FutureWarning: The default of observed=False is deprecated and will be changed to True in a future version of pandas. Pass observed=False to retain current behavior or observed=True to adopt the future default and silence this warning.\n",
      "  merged_df_race_dict = dict(merged_df.groupby(['race_group']).groups)\n",
      "Testing weights for abd_exp_01:   3%|▎         | 3/101 [00:01<00:41,  2.34it/s]<ipython-input-6-d61cf6b7d348>:36: FutureWarning: The default of observed=False is deprecated and will be changed to True in a future version of pandas. Pass observed=False to retain current behavior or observed=True to adopt the future default and silence this warning.\n",
      "  merged_df_race_dict = dict(merged_df.groupby(['race_group']).groups)\n",
      "Testing weights for abd_exp_01:   4%|▍         | 4/101 [00:01<00:40,  2.39it/s]<ipython-input-6-d61cf6b7d348>:36: FutureWarning: The default of observed=False is deprecated and will be changed to True in a future version of pandas. Pass observed=False to retain current behavior or observed=True to adopt the future default and silence this warning.\n",
      "  merged_df_race_dict = dict(merged_df.groupby(['race_group']).groups)\n",
      "Testing weights for abd_exp_01:   5%|▍         | 5/101 [00:02<00:39,  2.41it/s]<ipython-input-6-d61cf6b7d348>:36: FutureWarning: The default of observed=False is deprecated and will be changed to True in a future version of pandas. Pass observed=False to retain current behavior or observed=True to adopt the future default and silence this warning.\n",
      "  merged_df_race_dict = dict(merged_df.groupby(['race_group']).groups)\n",
      "Testing weights for abd_exp_01:   6%|▌         | 6/101 [00:02<00:38,  2.45it/s]<ipython-input-6-d61cf6b7d348>:36: FutureWarning: The default of observed=False is deprecated and will be changed to True in a future version of pandas. Pass observed=False to retain current behavior or observed=True to adopt the future default and silence this warning.\n",
      "  merged_df_race_dict = dict(merged_df.groupby(['race_group']).groups)\n",
      "Testing weights for abd_exp_01:   7%|▋         | 7/101 [00:02<00:37,  2.48it/s]<ipython-input-6-d61cf6b7d348>:36: FutureWarning: The default of observed=False is deprecated and will be changed to True in a future version of pandas. Pass observed=False to retain current behavior or observed=True to adopt the future default and silence this warning.\n",
      "  merged_df_race_dict = dict(merged_df.groupby(['race_group']).groups)\n",
      "Testing weights for abd_exp_01:   8%|▊         | 8/101 [00:03<00:37,  2.48it/s]<ipython-input-6-d61cf6b7d348>:36: FutureWarning: The default of observed=False is deprecated and will be changed to True in a future version of pandas. Pass observed=False to retain current behavior or observed=True to adopt the future default and silence this warning.\n",
      "  merged_df_race_dict = dict(merged_df.groupby(['race_group']).groups)\n",
      "Testing weights for abd_exp_01:   9%|▉         | 9/101 [00:03<00:36,  2.50it/s]<ipython-input-6-d61cf6b7d348>:36: FutureWarning: The default of observed=False is deprecated and will be changed to True in a future version of pandas. Pass observed=False to retain current behavior or observed=True to adopt the future default and silence this warning.\n",
      "  merged_df_race_dict = dict(merged_df.groupby(['race_group']).groups)\n",
      "Testing weights for abd_exp_01:  10%|▉         | 10/101 [00:04<00:36,  2.51it/s]<ipython-input-6-d61cf6b7d348>:36: FutureWarning: The default of observed=False is deprecated and will be changed to True in a future version of pandas. Pass observed=False to retain current behavior or observed=True to adopt the future default and silence this warning.\n",
      "  merged_df_race_dict = dict(merged_df.groupby(['race_group']).groups)\n",
      "Testing weights for abd_exp_01:  11%|█         | 11/101 [00:04<00:35,  2.52it/s]<ipython-input-6-d61cf6b7d348>:36: FutureWarning: The default of observed=False is deprecated and will be changed to True in a future version of pandas. Pass observed=False to retain current behavior or observed=True to adopt the future default and silence this warning.\n",
      "  merged_df_race_dict = dict(merged_df.groupby(['race_group']).groups)\n",
      "Testing weights for abd_exp_01:  12%|█▏        | 12/101 [00:04<00:35,  2.53it/s]<ipython-input-6-d61cf6b7d348>:36: FutureWarning: The default of observed=False is deprecated and will be changed to True in a future version of pandas. Pass observed=False to retain current behavior or observed=True to adopt the future default and silence this warning.\n",
      "  merged_df_race_dict = dict(merged_df.groupby(['race_group']).groups)\n",
      "Testing weights for abd_exp_01:  13%|█▎        | 13/101 [00:05<00:35,  2.51it/s]<ipython-input-6-d61cf6b7d348>:36: FutureWarning: The default of observed=False is deprecated and will be changed to True in a future version of pandas. Pass observed=False to retain current behavior or observed=True to adopt the future default and silence this warning.\n",
      "  merged_df_race_dict = dict(merged_df.groupby(['race_group']).groups)\n",
      "Testing weights for abd_exp_01:  14%|█▍        | 14/101 [00:05<00:34,  2.51it/s]<ipython-input-6-d61cf6b7d348>:36: FutureWarning: The default of observed=False is deprecated and will be changed to True in a future version of pandas. Pass observed=False to retain current behavior or observed=True to adopt the future default and silence this warning.\n",
      "  merged_df_race_dict = dict(merged_df.groupby(['race_group']).groups)\n",
      "Testing weights for abd_exp_01:  15%|█▍        | 15/101 [00:06<00:34,  2.50it/s]<ipython-input-6-d61cf6b7d348>:36: FutureWarning: The default of observed=False is deprecated and will be changed to True in a future version of pandas. Pass observed=False to retain current behavior or observed=True to adopt the future default and silence this warning.\n",
      "  merged_df_race_dict = dict(merged_df.groupby(['race_group']).groups)\n",
      "Testing weights for abd_exp_01:  16%|█▌        | 16/101 [00:06<00:33,  2.50it/s]<ipython-input-6-d61cf6b7d348>:36: FutureWarning: The default of observed=False is deprecated and will be changed to True in a future version of pandas. Pass observed=False to retain current behavior or observed=True to adopt the future default and silence this warning.\n",
      "  merged_df_race_dict = dict(merged_df.groupby(['race_group']).groups)\n",
      "Testing weights for abd_exp_01:  17%|█▋        | 17/101 [00:06<00:33,  2.51it/s]<ipython-input-6-d61cf6b7d348>:36: FutureWarning: The default of observed=False is deprecated and will be changed to True in a future version of pandas. Pass observed=False to retain current behavior or observed=True to adopt the future default and silence this warning.\n",
      "  merged_df_race_dict = dict(merged_df.groupby(['race_group']).groups)\n",
      "Testing weights for abd_exp_01:  18%|█▊        | 18/101 [00:07<00:33,  2.50it/s]<ipython-input-6-d61cf6b7d348>:36: FutureWarning: The default of observed=False is deprecated and will be changed to True in a future version of pandas. Pass observed=False to retain current behavior or observed=True to adopt the future default and silence this warning.\n",
      "  merged_df_race_dict = dict(merged_df.groupby(['race_group']).groups)\n",
      "Testing weights for abd_exp_01:  19%|█▉        | 19/101 [00:07<00:33,  2.45it/s]<ipython-input-6-d61cf6b7d348>:36: FutureWarning: The default of observed=False is deprecated and will be changed to True in a future version of pandas. Pass observed=False to retain current behavior or observed=True to adopt the future default and silence this warning.\n",
      "  merged_df_race_dict = dict(merged_df.groupby(['race_group']).groups)\n",
      "Testing weights for abd_exp_01:  20%|█▉        | 20/101 [00:08<00:32,  2.47it/s]<ipython-input-6-d61cf6b7d348>:36: FutureWarning: The default of observed=False is deprecated and will be changed to True in a future version of pandas. Pass observed=False to retain current behavior or observed=True to adopt the future default and silence this warning.\n",
      "  merged_df_race_dict = dict(merged_df.groupby(['race_group']).groups)\n",
      "Testing weights for abd_exp_01:  21%|██        | 21/101 [00:08<00:32,  2.49it/s]<ipython-input-6-d61cf6b7d348>:36: FutureWarning: The default of observed=False is deprecated and will be changed to True in a future version of pandas. Pass observed=False to retain current behavior or observed=True to adopt the future default and silence this warning.\n",
      "  merged_df_race_dict = dict(merged_df.groupby(['race_group']).groups)\n",
      "Testing weights for abd_exp_01:  22%|██▏       | 22/101 [00:08<00:31,  2.50it/s]<ipython-input-6-d61cf6b7d348>:36: FutureWarning: The default of observed=False is deprecated and will be changed to True in a future version of pandas. Pass observed=False to retain current behavior or observed=True to adopt the future default and silence this warning.\n",
      "  merged_df_race_dict = dict(merged_df.groupby(['race_group']).groups)\n",
      "Testing weights for abd_exp_01:  23%|██▎       | 23/101 [00:09<00:31,  2.50it/s]<ipython-input-6-d61cf6b7d348>:36: FutureWarning: The default of observed=False is deprecated and will be changed to True in a future version of pandas. Pass observed=False to retain current behavior or observed=True to adopt the future default and silence this warning.\n",
      "  merged_df_race_dict = dict(merged_df.groupby(['race_group']).groups)\n",
      "Testing weights for abd_exp_01:  24%|██▍       | 24/101 [00:09<00:30,  2.51it/s]<ipython-input-6-d61cf6b7d348>:36: FutureWarning: The default of observed=False is deprecated and will be changed to True in a future version of pandas. Pass observed=False to retain current behavior or observed=True to adopt the future default and silence this warning.\n",
      "  merged_df_race_dict = dict(merged_df.groupby(['race_group']).groups)\n",
      "Testing weights for abd_exp_01:  25%|██▍       | 25/101 [00:10<00:30,  2.50it/s]<ipython-input-6-d61cf6b7d348>:36: FutureWarning: The default of observed=False is deprecated and will be changed to True in a future version of pandas. Pass observed=False to retain current behavior or observed=True to adopt the future default and silence this warning.\n",
      "  merged_df_race_dict = dict(merged_df.groupby(['race_group']).groups)\n",
      "Testing weights for abd_exp_01:  26%|██▌       | 26/101 [00:10<00:29,  2.52it/s]<ipython-input-6-d61cf6b7d348>:36: FutureWarning: The default of observed=False is deprecated and will be changed to True in a future version of pandas. Pass observed=False to retain current behavior or observed=True to adopt the future default and silence this warning.\n",
      "  merged_df_race_dict = dict(merged_df.groupby(['race_group']).groups)\n",
      "Testing weights for abd_exp_01:  27%|██▋       | 27/101 [00:10<00:29,  2.53it/s]<ipython-input-6-d61cf6b7d348>:36: FutureWarning: The default of observed=False is deprecated and will be changed to True in a future version of pandas. Pass observed=False to retain current behavior or observed=True to adopt the future default and silence this warning.\n",
      "  merged_df_race_dict = dict(merged_df.groupby(['race_group']).groups)\n",
      "Testing weights for abd_exp_01:  28%|██▊       | 28/101 [00:11<00:28,  2.54it/s]<ipython-input-6-d61cf6b7d348>:36: FutureWarning: The default of observed=False is deprecated and will be changed to True in a future version of pandas. Pass observed=False to retain current behavior or observed=True to adopt the future default and silence this warning.\n",
      "  merged_df_race_dict = dict(merged_df.groupby(['race_group']).groups)\n",
      "Testing weights for abd_exp_01:  29%|██▊       | 29/101 [00:11<00:28,  2.54it/s]<ipython-input-6-d61cf6b7d348>:36: FutureWarning: The default of observed=False is deprecated and will be changed to True in a future version of pandas. Pass observed=False to retain current behavior or observed=True to adopt the future default and silence this warning.\n",
      "  merged_df_race_dict = dict(merged_df.groupby(['race_group']).groups)\n",
      "Testing weights for abd_exp_01:  30%|██▉       | 30/101 [00:12<00:28,  2.53it/s]<ipython-input-6-d61cf6b7d348>:36: FutureWarning: The default of observed=False is deprecated and will be changed to True in a future version of pandas. Pass observed=False to retain current behavior or observed=True to adopt the future default and silence this warning.\n",
      "  merged_df_race_dict = dict(merged_df.groupby(['race_group']).groups)\n",
      "Testing weights for abd_exp_01:  31%|███       | 31/101 [00:12<00:27,  2.53it/s]<ipython-input-6-d61cf6b7d348>:36: FutureWarning: The default of observed=False is deprecated and will be changed to True in a future version of pandas. Pass observed=False to retain current behavior or observed=True to adopt the future default and silence this warning.\n",
      "  merged_df_race_dict = dict(merged_df.groupby(['race_group']).groups)\n",
      "Testing weights for abd_exp_01:  32%|███▏      | 32/101 [00:12<00:27,  2.54it/s]<ipython-input-6-d61cf6b7d348>:36: FutureWarning: The default of observed=False is deprecated and will be changed to True in a future version of pandas. Pass observed=False to retain current behavior or observed=True to adopt the future default and silence this warning.\n",
      "  merged_df_race_dict = dict(merged_df.groupby(['race_group']).groups)\n",
      "Testing weights for abd_exp_01:  33%|███▎      | 33/101 [00:13<00:26,  2.54it/s]<ipython-input-6-d61cf6b7d348>:36: FutureWarning: The default of observed=False is deprecated and will be changed to True in a future version of pandas. Pass observed=False to retain current behavior or observed=True to adopt the future default and silence this warning.\n",
      "  merged_df_race_dict = dict(merged_df.groupby(['race_group']).groups)\n",
      "Testing weights for abd_exp_01:  34%|███▎      | 34/101 [00:13<00:26,  2.55it/s]<ipython-input-6-d61cf6b7d348>:36: FutureWarning: The default of observed=False is deprecated and will be changed to True in a future version of pandas. Pass observed=False to retain current behavior or observed=True to adopt the future default and silence this warning.\n",
      "  merged_df_race_dict = dict(merged_df.groupby(['race_group']).groups)\n",
      "Testing weights for abd_exp_01:  35%|███▍      | 35/101 [00:13<00:25,  2.54it/s]<ipython-input-6-d61cf6b7d348>:36: FutureWarning: The default of observed=False is deprecated and will be changed to True in a future version of pandas. Pass observed=False to retain current behavior or observed=True to adopt the future default and silence this warning.\n",
      "  merged_df_race_dict = dict(merged_df.groupby(['race_group']).groups)\n",
      "Testing weights for abd_exp_01:  36%|███▌      | 36/101 [00:14<00:25,  2.52it/s]<ipython-input-6-d61cf6b7d348>:36: FutureWarning: The default of observed=False is deprecated and will be changed to True in a future version of pandas. Pass observed=False to retain current behavior or observed=True to adopt the future default and silence this warning.\n",
      "  merged_df_race_dict = dict(merged_df.groupby(['race_group']).groups)\n",
      "Testing weights for abd_exp_01:  37%|███▋      | 37/101 [00:14<00:25,  2.53it/s]<ipython-input-6-d61cf6b7d348>:36: FutureWarning: The default of observed=False is deprecated and will be changed to True in a future version of pandas. Pass observed=False to retain current behavior or observed=True to adopt the future default and silence this warning.\n",
      "  merged_df_race_dict = dict(merged_df.groupby(['race_group']).groups)\n",
      "Testing weights for abd_exp_01:  38%|███▊      | 38/101 [00:15<00:24,  2.52it/s]<ipython-input-6-d61cf6b7d348>:36: FutureWarning: The default of observed=False is deprecated and will be changed to True in a future version of pandas. Pass observed=False to retain current behavior or observed=True to adopt the future default and silence this warning.\n",
      "  merged_df_race_dict = dict(merged_df.groupby(['race_group']).groups)\n",
      "Testing weights for abd_exp_01:  39%|███▊      | 39/101 [00:15<00:24,  2.53it/s]<ipython-input-6-d61cf6b7d348>:36: FutureWarning: The default of observed=False is deprecated and will be changed to True in a future version of pandas. Pass observed=False to retain current behavior or observed=True to adopt the future default and silence this warning.\n",
      "  merged_df_race_dict = dict(merged_df.groupby(['race_group']).groups)\n",
      "Testing weights for abd_exp_01:  40%|███▉      | 40/101 [00:15<00:24,  2.51it/s]<ipython-input-6-d61cf6b7d348>:36: FutureWarning: The default of observed=False is deprecated and will be changed to True in a future version of pandas. Pass observed=False to retain current behavior or observed=True to adopt the future default and silence this warning.\n",
      "  merged_df_race_dict = dict(merged_df.groupby(['race_group']).groups)\n",
      "Testing weights for abd_exp_01:  41%|████      | 41/101 [00:16<00:23,  2.51it/s]<ipython-input-6-d61cf6b7d348>:36: FutureWarning: The default of observed=False is deprecated and will be changed to True in a future version of pandas. Pass observed=False to retain current behavior or observed=True to adopt the future default and silence this warning.\n",
      "  merged_df_race_dict = dict(merged_df.groupby(['race_group']).groups)\n",
      "Testing weights for abd_exp_01:  42%|████▏     | 42/101 [00:16<00:23,  2.53it/s]<ipython-input-6-d61cf6b7d348>:36: FutureWarning: The default of observed=False is deprecated and will be changed to True in a future version of pandas. Pass observed=False to retain current behavior or observed=True to adopt the future default and silence this warning.\n",
      "  merged_df_race_dict = dict(merged_df.groupby(['race_group']).groups)\n",
      "Testing weights for abd_exp_01:  43%|████▎     | 43/101 [00:17<00:22,  2.53it/s]<ipython-input-6-d61cf6b7d348>:36: FutureWarning: The default of observed=False is deprecated and will be changed to True in a future version of pandas. Pass observed=False to retain current behavior or observed=True to adopt the future default and silence this warning.\n",
      "  merged_df_race_dict = dict(merged_df.groupby(['race_group']).groups)\n",
      "Testing weights for abd_exp_01:  44%|████▎     | 44/101 [00:17<00:22,  2.48it/s]<ipython-input-6-d61cf6b7d348>:36: FutureWarning: The default of observed=False is deprecated and will be changed to True in a future version of pandas. Pass observed=False to retain current behavior or observed=True to adopt the future default and silence this warning.\n",
      "  merged_df_race_dict = dict(merged_df.groupby(['race_group']).groups)\n",
      "Testing weights for abd_exp_01:  45%|████▍     | 45/101 [00:17<00:22,  2.50it/s]<ipython-input-6-d61cf6b7d348>:36: FutureWarning: The default of observed=False is deprecated and will be changed to True in a future version of pandas. Pass observed=False to retain current behavior or observed=True to adopt the future default and silence this warning.\n",
      "  merged_df_race_dict = dict(merged_df.groupby(['race_group']).groups)\n",
      "Testing weights for abd_exp_01:  46%|████▌     | 46/101 [00:18<00:22,  2.50it/s]<ipython-input-6-d61cf6b7d348>:36: FutureWarning: The default of observed=False is deprecated and will be changed to True in a future version of pandas. Pass observed=False to retain current behavior or observed=True to adopt the future default and silence this warning.\n",
      "  merged_df_race_dict = dict(merged_df.groupby(['race_group']).groups)\n",
      "Testing weights for abd_exp_01:  47%|████▋     | 47/101 [00:18<00:21,  2.51it/s]<ipython-input-6-d61cf6b7d348>:36: FutureWarning: The default of observed=False is deprecated and will be changed to True in a future version of pandas. Pass observed=False to retain current behavior or observed=True to adopt the future default and silence this warning.\n",
      "  merged_df_race_dict = dict(merged_df.groupby(['race_group']).groups)\n",
      "Testing weights for abd_exp_01:  48%|████▊     | 48/101 [00:19<00:21,  2.52it/s]<ipython-input-6-d61cf6b7d348>:36: FutureWarning: The default of observed=False is deprecated and will be changed to True in a future version of pandas. Pass observed=False to retain current behavior or observed=True to adopt the future default and silence this warning.\n",
      "  merged_df_race_dict = dict(merged_df.groupby(['race_group']).groups)\n",
      "Testing weights for abd_exp_01:  49%|████▊     | 49/101 [00:19<00:20,  2.53it/s]<ipython-input-6-d61cf6b7d348>:36: FutureWarning: The default of observed=False is deprecated and will be changed to True in a future version of pandas. Pass observed=False to retain current behavior or observed=True to adopt the future default and silence this warning.\n",
      "  merged_df_race_dict = dict(merged_df.groupby(['race_group']).groups)\n",
      "Testing weights for abd_exp_01:  50%|████▉     | 50/101 [00:19<00:20,  2.54it/s]<ipython-input-6-d61cf6b7d348>:36: FutureWarning: The default of observed=False is deprecated and will be changed to True in a future version of pandas. Pass observed=False to retain current behavior or observed=True to adopt the future default and silence this warning.\n",
      "  merged_df_race_dict = dict(merged_df.groupby(['race_group']).groups)\n",
      "Testing weights for abd_exp_01:  50%|█████     | 51/101 [00:20<00:19,  2.53it/s]<ipython-input-6-d61cf6b7d348>:36: FutureWarning: The default of observed=False is deprecated and will be changed to True in a future version of pandas. Pass observed=False to retain current behavior or observed=True to adopt the future default and silence this warning.\n",
      "  merged_df_race_dict = dict(merged_df.groupby(['race_group']).groups)\n",
      "Testing weights for abd_exp_01:  51%|█████▏    | 52/101 [00:20<00:19,  2.54it/s]<ipython-input-6-d61cf6b7d348>:36: FutureWarning: The default of observed=False is deprecated and will be changed to True in a future version of pandas. Pass observed=False to retain current behavior or observed=True to adopt the future default and silence this warning.\n",
      "  merged_df_race_dict = dict(merged_df.groupby(['race_group']).groups)\n",
      "Testing weights for abd_exp_01:  52%|█████▏    | 53/101 [00:21<00:18,  2.54it/s]<ipython-input-6-d61cf6b7d348>:36: FutureWarning: The default of observed=False is deprecated and will be changed to True in a future version of pandas. Pass observed=False to retain current behavior or observed=True to adopt the future default and silence this warning.\n",
      "  merged_df_race_dict = dict(merged_df.groupby(['race_group']).groups)\n",
      "Testing weights for abd_exp_01:  53%|█████▎    | 54/101 [00:21<00:18,  2.53it/s]<ipython-input-6-d61cf6b7d348>:36: FutureWarning: The default of observed=False is deprecated and will be changed to True in a future version of pandas. Pass observed=False to retain current behavior or observed=True to adopt the future default and silence this warning.\n",
      "  merged_df_race_dict = dict(merged_df.groupby(['race_group']).groups)\n",
      "Testing weights for abd_exp_01:  54%|█████▍    | 55/101 [00:21<00:18,  2.50it/s]<ipython-input-6-d61cf6b7d348>:36: FutureWarning: The default of observed=False is deprecated and will be changed to True in a future version of pandas. Pass observed=False to retain current behavior or observed=True to adopt the future default and silence this warning.\n",
      "  merged_df_race_dict = dict(merged_df.groupby(['race_group']).groups)\n",
      "Testing weights for abd_exp_01:  55%|█████▌    | 56/101 [00:22<00:18,  2.48it/s]<ipython-input-6-d61cf6b7d348>:36: FutureWarning: The default of observed=False is deprecated and will be changed to True in a future version of pandas. Pass observed=False to retain current behavior or observed=True to adopt the future default and silence this warning.\n",
      "  merged_df_race_dict = dict(merged_df.groupby(['race_group']).groups)\n",
      "Testing weights for abd_exp_01:  56%|█████▋    | 57/101 [00:22<00:17,  2.49it/s]<ipython-input-6-d61cf6b7d348>:36: FutureWarning: The default of observed=False is deprecated and will be changed to True in a future version of pandas. Pass observed=False to retain current behavior or observed=True to adopt the future default and silence this warning.\n",
      "  merged_df_race_dict = dict(merged_df.groupby(['race_group']).groups)\n",
      "Testing weights for abd_exp_01:  57%|█████▋    | 58/101 [00:23<00:17,  2.51it/s]<ipython-input-6-d61cf6b7d348>:36: FutureWarning: The default of observed=False is deprecated and will be changed to True in a future version of pandas. Pass observed=False to retain current behavior or observed=True to adopt the future default and silence this warning.\n",
      "  merged_df_race_dict = dict(merged_df.groupby(['race_group']).groups)\n",
      "Testing weights for abd_exp_01:  58%|█████▊    | 59/101 [00:23<00:16,  2.52it/s]<ipython-input-6-d61cf6b7d348>:36: FutureWarning: The default of observed=False is deprecated and will be changed to True in a future version of pandas. Pass observed=False to retain current behavior or observed=True to adopt the future default and silence this warning.\n",
      "  merged_df_race_dict = dict(merged_df.groupby(['race_group']).groups)\n",
      "Testing weights for abd_exp_01:  59%|█████▉    | 60/101 [00:23<00:16,  2.52it/s]<ipython-input-6-d61cf6b7d348>:36: FutureWarning: The default of observed=False is deprecated and will be changed to True in a future version of pandas. Pass observed=False to retain current behavior or observed=True to adopt the future default and silence this warning.\n",
      "  merged_df_race_dict = dict(merged_df.groupby(['race_group']).groups)\n",
      "Testing weights for abd_exp_01:  60%|██████    | 61/101 [00:24<00:15,  2.53it/s]<ipython-input-6-d61cf6b7d348>:36: FutureWarning: The default of observed=False is deprecated and will be changed to True in a future version of pandas. Pass observed=False to retain current behavior or observed=True to adopt the future default and silence this warning.\n",
      "  merged_df_race_dict = dict(merged_df.groupby(['race_group']).groups)\n",
      "Testing weights for abd_exp_01:  61%|██████▏   | 62/101 [00:24<00:15,  2.54it/s]<ipython-input-6-d61cf6b7d348>:36: FutureWarning: The default of observed=False is deprecated and will be changed to True in a future version of pandas. Pass observed=False to retain current behavior or observed=True to adopt the future default and silence this warning.\n",
      "  merged_df_race_dict = dict(merged_df.groupby(['race_group']).groups)\n",
      "Testing weights for abd_exp_01:  62%|██████▏   | 63/101 [00:25<00:14,  2.54it/s]<ipython-input-6-d61cf6b7d348>:36: FutureWarning: The default of observed=False is deprecated and will be changed to True in a future version of pandas. Pass observed=False to retain current behavior or observed=True to adopt the future default and silence this warning.\n",
      "  merged_df_race_dict = dict(merged_df.groupby(['race_group']).groups)\n",
      "Testing weights for abd_exp_01:  63%|██████▎   | 64/101 [00:25<00:14,  2.54it/s]<ipython-input-6-d61cf6b7d348>:36: FutureWarning: The default of observed=False is deprecated and will be changed to True in a future version of pandas. Pass observed=False to retain current behavior or observed=True to adopt the future default and silence this warning.\n",
      "  merged_df_race_dict = dict(merged_df.groupby(['race_group']).groups)\n",
      "Testing weights for abd_exp_01:  64%|██████▍   | 65/101 [00:25<00:14,  2.54it/s]<ipython-input-6-d61cf6b7d348>:36: FutureWarning: The default of observed=False is deprecated and will be changed to True in a future version of pandas. Pass observed=False to retain current behavior or observed=True to adopt the future default and silence this warning.\n",
      "  merged_df_race_dict = dict(merged_df.groupby(['race_group']).groups)\n",
      "Testing weights for abd_exp_01:  65%|██████▌   | 66/101 [00:26<00:13,  2.54it/s]<ipython-input-6-d61cf6b7d348>:36: FutureWarning: The default of observed=False is deprecated and will be changed to True in a future version of pandas. Pass observed=False to retain current behavior or observed=True to adopt the future default and silence this warning.\n",
      "  merged_df_race_dict = dict(merged_df.groupby(['race_group']).groups)\n",
      "Testing weights for abd_exp_01:  66%|██████▋   | 67/101 [00:26<00:13,  2.54it/s]<ipython-input-6-d61cf6b7d348>:36: FutureWarning: The default of observed=False is deprecated and will be changed to True in a future version of pandas. Pass observed=False to retain current behavior or observed=True to adopt the future default and silence this warning.\n",
      "  merged_df_race_dict = dict(merged_df.groupby(['race_group']).groups)\n",
      "Testing weights for abd_exp_01:  67%|██████▋   | 68/101 [00:27<00:13,  2.52it/s]<ipython-input-6-d61cf6b7d348>:36: FutureWarning: The default of observed=False is deprecated and will be changed to True in a future version of pandas. Pass observed=False to retain current behavior or observed=True to adopt the future default and silence this warning.\n",
      "  merged_df_race_dict = dict(merged_df.groupby(['race_group']).groups)\n",
      "Testing weights for abd_exp_01:  68%|██████▊   | 69/101 [00:27<00:12,  2.48it/s]<ipython-input-6-d61cf6b7d348>:36: FutureWarning: The default of observed=False is deprecated and will be changed to True in a future version of pandas. Pass observed=False to retain current behavior or observed=True to adopt the future default and silence this warning.\n",
      "  merged_df_race_dict = dict(merged_df.groupby(['race_group']).groups)\n",
      "Testing weights for abd_exp_01:  69%|██████▉   | 70/101 [00:27<00:12,  2.49it/s]<ipython-input-6-d61cf6b7d348>:36: FutureWarning: The default of observed=False is deprecated and will be changed to True in a future version of pandas. Pass observed=False to retain current behavior or observed=True to adopt the future default and silence this warning.\n",
      "  merged_df_race_dict = dict(merged_df.groupby(['race_group']).groups)\n",
      "Testing weights for abd_exp_01:  70%|███████   | 71/101 [00:28<00:12,  2.49it/s]<ipython-input-6-d61cf6b7d348>:36: FutureWarning: The default of observed=False is deprecated and will be changed to True in a future version of pandas. Pass observed=False to retain current behavior or observed=True to adopt the future default and silence this warning.\n",
      "  merged_df_race_dict = dict(merged_df.groupby(['race_group']).groups)\n",
      "Testing weights for abd_exp_01:  71%|███████▏  | 72/101 [00:28<00:11,  2.49it/s]<ipython-input-6-d61cf6b7d348>:36: FutureWarning: The default of observed=False is deprecated and will be changed to True in a future version of pandas. Pass observed=False to retain current behavior or observed=True to adopt the future default and silence this warning.\n",
      "  merged_df_race_dict = dict(merged_df.groupby(['race_group']).groups)\n",
      "Testing weights for abd_exp_01:  72%|███████▏  | 73/101 [00:29<00:11,  2.50it/s]<ipython-input-6-d61cf6b7d348>:36: FutureWarning: The default of observed=False is deprecated and will be changed to True in a future version of pandas. Pass observed=False to retain current behavior or observed=True to adopt the future default and silence this warning.\n",
      "  merged_df_race_dict = dict(merged_df.groupby(['race_group']).groups)\n",
      "Testing weights for abd_exp_01:  73%|███████▎  | 74/101 [00:29<00:10,  2.52it/s]<ipython-input-6-d61cf6b7d348>:36: FutureWarning: The default of observed=False is deprecated and will be changed to True in a future version of pandas. Pass observed=False to retain current behavior or observed=True to adopt the future default and silence this warning.\n",
      "  merged_df_race_dict = dict(merged_df.groupby(['race_group']).groups)\n",
      "Testing weights for abd_exp_01:  74%|███████▍  | 75/101 [00:29<00:10,  2.51it/s]<ipython-input-6-d61cf6b7d348>:36: FutureWarning: The default of observed=False is deprecated and will be changed to True in a future version of pandas. Pass observed=False to retain current behavior or observed=True to adopt the future default and silence this warning.\n",
      "  merged_df_race_dict = dict(merged_df.groupby(['race_group']).groups)\n",
      "Testing weights for abd_exp_01:  75%|███████▌  | 76/101 [00:30<00:09,  2.52it/s]<ipython-input-6-d61cf6b7d348>:36: FutureWarning: The default of observed=False is deprecated and will be changed to True in a future version of pandas. Pass observed=False to retain current behavior or observed=True to adopt the future default and silence this warning.\n",
      "  merged_df_race_dict = dict(merged_df.groupby(['race_group']).groups)\n",
      "Testing weights for abd_exp_01:  76%|███████▌  | 77/101 [00:30<00:09,  2.53it/s]<ipython-input-6-d61cf6b7d348>:36: FutureWarning: The default of observed=False is deprecated and will be changed to True in a future version of pandas. Pass observed=False to retain current behavior or observed=True to adopt the future default and silence this warning.\n",
      "  merged_df_race_dict = dict(merged_df.groupby(['race_group']).groups)\n",
      "Testing weights for abd_exp_01:  77%|███████▋  | 78/101 [00:31<00:09,  2.53it/s]<ipython-input-6-d61cf6b7d348>:36: FutureWarning: The default of observed=False is deprecated and will be changed to True in a future version of pandas. Pass observed=False to retain current behavior or observed=True to adopt the future default and silence this warning.\n",
      "  merged_df_race_dict = dict(merged_df.groupby(['race_group']).groups)\n",
      "Testing weights for abd_exp_01:  78%|███████▊  | 79/101 [00:31<00:08,  2.53it/s]<ipython-input-6-d61cf6b7d348>:36: FutureWarning: The default of observed=False is deprecated and will be changed to True in a future version of pandas. Pass observed=False to retain current behavior or observed=True to adopt the future default and silence this warning.\n",
      "  merged_df_race_dict = dict(merged_df.groupby(['race_group']).groups)\n",
      "Testing weights for abd_exp_01:  79%|███████▉  | 80/101 [00:31<00:08,  2.53it/s]<ipython-input-6-d61cf6b7d348>:36: FutureWarning: The default of observed=False is deprecated and will be changed to True in a future version of pandas. Pass observed=False to retain current behavior or observed=True to adopt the future default and silence this warning.\n",
      "  merged_df_race_dict = dict(merged_df.groupby(['race_group']).groups)\n",
      "Testing weights for abd_exp_01:  80%|████████  | 81/101 [00:32<00:07,  2.52it/s]<ipython-input-6-d61cf6b7d348>:36: FutureWarning: The default of observed=False is deprecated and will be changed to True in a future version of pandas. Pass observed=False to retain current behavior or observed=True to adopt the future default and silence this warning.\n",
      "  merged_df_race_dict = dict(merged_df.groupby(['race_group']).groups)\n",
      "Testing weights for abd_exp_01:  81%|████████  | 82/101 [00:32<00:07,  2.48it/s]<ipython-input-6-d61cf6b7d348>:36: FutureWarning: The default of observed=False is deprecated and will be changed to True in a future version of pandas. Pass observed=False to retain current behavior or observed=True to adopt the future default and silence this warning.\n",
      "  merged_df_race_dict = dict(merged_df.groupby(['race_group']).groups)\n",
      "Testing weights for abd_exp_01:  82%|████████▏ | 83/101 [00:33<00:07,  2.42it/s]<ipython-input-6-d61cf6b7d348>:36: FutureWarning: The default of observed=False is deprecated and will be changed to True in a future version of pandas. Pass observed=False to retain current behavior or observed=True to adopt the future default and silence this warning.\n",
      "  merged_df_race_dict = dict(merged_df.groupby(['race_group']).groups)\n",
      "Testing weights for abd_exp_01:  83%|████████▎ | 84/101 [00:33<00:07,  2.41it/s]<ipython-input-6-d61cf6b7d348>:36: FutureWarning: The default of observed=False is deprecated and will be changed to True in a future version of pandas. Pass observed=False to retain current behavior or observed=True to adopt the future default and silence this warning.\n",
      "  merged_df_race_dict = dict(merged_df.groupby(['race_group']).groups)\n",
      "Testing weights for abd_exp_01:  84%|████████▍ | 85/101 [00:33<00:06,  2.43it/s]<ipython-input-6-d61cf6b7d348>:36: FutureWarning: The default of observed=False is deprecated and will be changed to True in a future version of pandas. Pass observed=False to retain current behavior or observed=True to adopt the future default and silence this warning.\n",
      "  merged_df_race_dict = dict(merged_df.groupby(['race_group']).groups)\n",
      "Testing weights for abd_exp_01:  85%|████████▌ | 86/101 [00:34<00:06,  2.45it/s]<ipython-input-6-d61cf6b7d348>:36: FutureWarning: The default of observed=False is deprecated and will be changed to True in a future version of pandas. Pass observed=False to retain current behavior or observed=True to adopt the future default and silence this warning.\n",
      "  merged_df_race_dict = dict(merged_df.groupby(['race_group']).groups)\n",
      "Testing weights for abd_exp_01:  86%|████████▌ | 87/101 [00:34<00:05,  2.46it/s]<ipython-input-6-d61cf6b7d348>:36: FutureWarning: The default of observed=False is deprecated and will be changed to True in a future version of pandas. Pass observed=False to retain current behavior or observed=True to adopt the future default and silence this warning.\n",
      "  merged_df_race_dict = dict(merged_df.groupby(['race_group']).groups)\n",
      "Testing weights for abd_exp_01:  87%|████████▋ | 88/101 [00:35<00:05,  2.47it/s]<ipython-input-6-d61cf6b7d348>:36: FutureWarning: The default of observed=False is deprecated and will be changed to True in a future version of pandas. Pass observed=False to retain current behavior or observed=True to adopt the future default and silence this warning.\n",
      "  merged_df_race_dict = dict(merged_df.groupby(['race_group']).groups)\n",
      "Testing weights for abd_exp_01:  88%|████████▊ | 89/101 [00:35<00:04,  2.50it/s]<ipython-input-6-d61cf6b7d348>:36: FutureWarning: The default of observed=False is deprecated and will be changed to True in a future version of pandas. Pass observed=False to retain current behavior or observed=True to adopt the future default and silence this warning.\n",
      "  merged_df_race_dict = dict(merged_df.groupby(['race_group']).groups)\n",
      "Testing weights for abd_exp_01:  89%|████████▉ | 90/101 [00:35<00:04,  2.51it/s]<ipython-input-6-d61cf6b7d348>:36: FutureWarning: The default of observed=False is deprecated and will be changed to True in a future version of pandas. Pass observed=False to retain current behavior or observed=True to adopt the future default and silence this warning.\n",
      "  merged_df_race_dict = dict(merged_df.groupby(['race_group']).groups)\n",
      "Testing weights for abd_exp_01:  90%|█████████ | 91/101 [00:36<00:03,  2.52it/s]<ipython-input-6-d61cf6b7d348>:36: FutureWarning: The default of observed=False is deprecated and will be changed to True in a future version of pandas. Pass observed=False to retain current behavior or observed=True to adopt the future default and silence this warning.\n",
      "  merged_df_race_dict = dict(merged_df.groupby(['race_group']).groups)\n",
      "Testing weights for abd_exp_01:  91%|█████████ | 92/101 [00:36<00:03,  2.53it/s]<ipython-input-6-d61cf6b7d348>:36: FutureWarning: The default of observed=False is deprecated and will be changed to True in a future version of pandas. Pass observed=False to retain current behavior or observed=True to adopt the future default and silence this warning.\n",
      "  merged_df_race_dict = dict(merged_df.groupby(['race_group']).groups)\n",
      "Testing weights for abd_exp_01:  92%|█████████▏| 93/101 [00:37<00:03,  2.52it/s]<ipython-input-6-d61cf6b7d348>:36: FutureWarning: The default of observed=False is deprecated and will be changed to True in a future version of pandas. Pass observed=False to retain current behavior or observed=True to adopt the future default and silence this warning.\n",
      "  merged_df_race_dict = dict(merged_df.groupby(['race_group']).groups)\n",
      "Testing weights for abd_exp_01:  93%|█████████▎| 94/101 [00:37<00:02,  2.46it/s]<ipython-input-6-d61cf6b7d348>:36: FutureWarning: The default of observed=False is deprecated and will be changed to True in a future version of pandas. Pass observed=False to retain current behavior or observed=True to adopt the future default and silence this warning.\n",
      "  merged_df_race_dict = dict(merged_df.groupby(['race_group']).groups)\n",
      "Testing weights for abd_exp_01:  94%|█████████▍| 95/101 [00:37<00:02,  2.48it/s]<ipython-input-6-d61cf6b7d348>:36: FutureWarning: The default of observed=False is deprecated and will be changed to True in a future version of pandas. Pass observed=False to retain current behavior or observed=True to adopt the future default and silence this warning.\n",
      "  merged_df_race_dict = dict(merged_df.groupby(['race_group']).groups)\n",
      "Testing weights for abd_exp_01:  95%|█████████▌| 96/101 [00:38<00:02,  2.50it/s]<ipython-input-6-d61cf6b7d348>:36: FutureWarning: The default of observed=False is deprecated and will be changed to True in a future version of pandas. Pass observed=False to retain current behavior or observed=True to adopt the future default and silence this warning.\n",
      "  merged_df_race_dict = dict(merged_df.groupby(['race_group']).groups)\n",
      "Testing weights for abd_exp_01:  96%|█████████▌| 97/101 [00:38<00:01,  2.50it/s]<ipython-input-6-d61cf6b7d348>:36: FutureWarning: The default of observed=False is deprecated and will be changed to True in a future version of pandas. Pass observed=False to retain current behavior or observed=True to adopt the future default and silence this warning.\n",
      "  merged_df_race_dict = dict(merged_df.groupby(['race_group']).groups)\n",
      "Testing weights for abd_exp_01:  97%|█████████▋| 98/101 [00:39<00:01,  2.50it/s]<ipython-input-6-d61cf6b7d348>:36: FutureWarning: The default of observed=False is deprecated and will be changed to True in a future version of pandas. Pass observed=False to retain current behavior or observed=True to adopt the future default and silence this warning.\n",
      "  merged_df_race_dict = dict(merged_df.groupby(['race_group']).groups)\n",
      "Testing weights for abd_exp_01:  98%|█████████▊| 99/101 [00:39<00:00,  2.51it/s]<ipython-input-6-d61cf6b7d348>:36: FutureWarning: The default of observed=False is deprecated and will be changed to True in a future version of pandas. Pass observed=False to retain current behavior or observed=True to adopt the future default and silence this warning.\n",
      "  merged_df_race_dict = dict(merged_df.groupby(['race_group']).groups)\n",
      "Testing weights for abd_exp_01:  99%|█████████▉| 100/101 [00:39<00:00,  2.51it/s]<ipython-input-6-d61cf6b7d348>:36: FutureWarning: The default of observed=False is deprecated and will be changed to True in a future version of pandas. Pass observed=False to retain current behavior or observed=True to adopt the future default and silence this warning.\n",
      "  merged_df_race_dict = dict(merged_df.groupby(['race_group']).groups)\n",
      "Testing weights for abd_exp_01: 100%|██████████| 101/101 [00:40<00:00,  2.51it/s]\n"
     ]
    },
    {
     "name": "stdout",
     "output_type": "stream",
     "text": [
      "here -> /kaggle/input/catboost-exp-04\n"
     ]
    },
    {
     "name": "stderr",
     "output_type": "stream",
     "text": [
      "Testing weights for catboost_exp_04: 100%|██████████| 101/101 [00:40<00:00,  2.50it/s]\n"
     ]
    },
    {
     "name": "stdout",
     "output_type": "stream",
     "text": [
      "here -> /kaggle/input/lgbm-exp-04\n"
     ]
    },
    {
     "name": "stderr",
     "output_type": "stream",
     "text": [
      "Testing weights for lgbm_exp_04: 100%|██████████| 101/101 [00:40<00:00,  2.51it/s]\n"
     ]
    },
    {
     "name": "stdout",
     "output_type": "stream",
     "text": [
      "here -> /kaggle/input/tabm-exp-03\n"
     ]
    },
    {
     "name": "stderr",
     "output_type": "stream",
     "text": [
      "Testing weights for tabm_exp_03: 100%|██████████| 101/101 [00:40<00:00,  2.51it/s]\n"
     ]
    },
    {
     "name": "stdout",
     "output_type": "stream",
     "text": [
      "here -> /kaggle/input/catboost-exp-05\n"
     ]
    },
    {
     "name": "stderr",
     "output_type": "stream",
     "text": [
      "Testing weights for catboost_exp_05: 100%|██████████| 101/101 [00:40<00:00,  2.52it/s]\n"
     ]
    },
    {
     "name": "stdout",
     "output_type": "stream",
     "text": [
      "Iteration 7: Added /kaggle/input/catboost-exp-05 with weight 0.0800, Score: 0.6858\n",
      "7th iteration\n",
      "here -> /kaggle/input/xgboost-exp-01\n"
     ]
    },
    {
     "name": "stderr",
     "output_type": "stream",
     "text": [
      "Testing weights for xgboost_exp_01: 100%|██████████| 101/101 [00:39<00:00,  2.53it/s]\n"
     ]
    },
    {
     "name": "stdout",
     "output_type": "stream",
     "text": [
      "here -> /kaggle/input/lgbm-exp-01\n"
     ]
    },
    {
     "name": "stderr",
     "output_type": "stream",
     "text": [
      "Testing weights for lgbm_exp_01: 100%|██████████| 101/101 [00:39<00:00,  2.54it/s]\n"
     ]
    },
    {
     "name": "stdout",
     "output_type": "stream",
     "text": [
      "here -> /kaggle/input/xgboost-exp-02\n"
     ]
    },
    {
     "name": "stderr",
     "output_type": "stream",
     "text": [
      "Testing weights for xgboost_exp_02: 100%|██████████| 101/101 [00:40<00:00,  2.52it/s]\n"
     ]
    },
    {
     "name": "stdout",
     "output_type": "stream",
     "text": [
      "here -> /kaggle/input/catboost-exp-02\n"
     ]
    },
    {
     "name": "stderr",
     "output_type": "stream",
     "text": [
      "Testing weights for catboost_exp_02: 100%|██████████| 101/101 [00:40<00:00,  2.47it/s]\n"
     ]
    },
    {
     "name": "stdout",
     "output_type": "stream",
     "text": [
      "here -> /kaggle/input/catboost-exp-03\n"
     ]
    },
    {
     "name": "stderr",
     "output_type": "stream",
     "text": [
      "Testing weights for catboost_exp_03: 100%|██████████| 101/101 [00:39<00:00,  2.53it/s]\n"
     ]
    },
    {
     "name": "stdout",
     "output_type": "stream",
     "text": [
      "here -> /kaggle/input/tabm-exp-01\n"
     ]
    },
    {
     "name": "stderr",
     "output_type": "stream",
     "text": [
      "Testing weights for tabm_exp_01: 100%|██████████| 101/101 [00:40<00:00,  2.51it/s]\n"
     ]
    },
    {
     "name": "stdout",
     "output_type": "stream",
     "text": [
      "here -> /kaggle/input/nn-exp-01\n"
     ]
    },
    {
     "name": "stderr",
     "output_type": "stream",
     "text": [
      "Testing weights for nn_exp_01: 100%|██████████| 101/101 [00:39<00:00,  2.54it/s]\n"
     ]
    },
    {
     "name": "stdout",
     "output_type": "stream",
     "text": [
      "here -> /kaggle/input/tn-exp-01\n"
     ]
    },
    {
     "name": "stderr",
     "output_type": "stream",
     "text": [
      "Testing weights for tn_exp_01: 100%|██████████| 101/101 [00:39<00:00,  2.53it/s]\n"
     ]
    },
    {
     "name": "stdout",
     "output_type": "stream",
     "text": [
      "here -> /kaggle/input/tf-exp-01\n"
     ]
    },
    {
     "name": "stderr",
     "output_type": "stream",
     "text": [
      "Testing weights for tf_exp_01: 100%|██████████| 101/101 [00:40<00:00,  2.52it/s]\n"
     ]
    },
    {
     "name": "stdout",
     "output_type": "stream",
     "text": [
      "here -> /kaggle/input/svr-exp-01\n"
     ]
    },
    {
     "name": "stderr",
     "output_type": "stream",
     "text": [
      "Testing weights for svr_exp_01: 100%|██████████| 101/101 [00:40<00:00,  2.52it/s]\n"
     ]
    },
    {
     "name": "stdout",
     "output_type": "stream",
     "text": [
      "here -> /kaggle/input/abd-exp-01\n"
     ]
    },
    {
     "name": "stderr",
     "output_type": "stream",
     "text": [
      "Testing weights for abd_exp_01:   0%|          | 0/101 [00:00<?, ?it/s]<ipython-input-6-d61cf6b7d348>:36: FutureWarning: The default of observed=False is deprecated and will be changed to True in a future version of pandas. Pass observed=False to retain current behavior or observed=True to adopt the future default and silence this warning.\n",
      "  merged_df_race_dict = dict(merged_df.groupby(['race_group']).groups)\n",
      "Testing weights for abd_exp_01:   1%|          | 1/101 [00:00<00:40,  2.48it/s]<ipython-input-6-d61cf6b7d348>:36: FutureWarning: The default of observed=False is deprecated and will be changed to True in a future version of pandas. Pass observed=False to retain current behavior or observed=True to adopt the future default and silence this warning.\n",
      "  merged_df_race_dict = dict(merged_df.groupby(['race_group']).groups)\n",
      "Testing weights for abd_exp_01:   2%|▏         | 2/101 [00:00<00:40,  2.47it/s]<ipython-input-6-d61cf6b7d348>:36: FutureWarning: The default of observed=False is deprecated and will be changed to True in a future version of pandas. Pass observed=False to retain current behavior or observed=True to adopt the future default and silence this warning.\n",
      "  merged_df_race_dict = dict(merged_df.groupby(['race_group']).groups)\n",
      "Testing weights for abd_exp_01:   3%|▎         | 3/101 [00:01<00:39,  2.47it/s]<ipython-input-6-d61cf6b7d348>:36: FutureWarning: The default of observed=False is deprecated and will be changed to True in a future version of pandas. Pass observed=False to retain current behavior or observed=True to adopt the future default and silence this warning.\n",
      "  merged_df_race_dict = dict(merged_df.groupby(['race_group']).groups)\n",
      "Testing weights for abd_exp_01:   4%|▍         | 4/101 [00:01<00:39,  2.46it/s]<ipython-input-6-d61cf6b7d348>:36: FutureWarning: The default of observed=False is deprecated and will be changed to True in a future version of pandas. Pass observed=False to retain current behavior or observed=True to adopt the future default and silence this warning.\n",
      "  merged_df_race_dict = dict(merged_df.groupby(['race_group']).groups)\n",
      "Testing weights for abd_exp_01:   5%|▍         | 5/101 [00:02<00:39,  2.46it/s]<ipython-input-6-d61cf6b7d348>:36: FutureWarning: The default of observed=False is deprecated and will be changed to True in a future version of pandas. Pass observed=False to retain current behavior or observed=True to adopt the future default and silence this warning.\n",
      "  merged_df_race_dict = dict(merged_df.groupby(['race_group']).groups)\n",
      "Testing weights for abd_exp_01:   6%|▌         | 6/101 [00:02<00:38,  2.47it/s]<ipython-input-6-d61cf6b7d348>:36: FutureWarning: The default of observed=False is deprecated and will be changed to True in a future version of pandas. Pass observed=False to retain current behavior or observed=True to adopt the future default and silence this warning.\n",
      "  merged_df_race_dict = dict(merged_df.groupby(['race_group']).groups)\n",
      "Testing weights for abd_exp_01:   7%|▋         | 7/101 [00:02<00:37,  2.49it/s]<ipython-input-6-d61cf6b7d348>:36: FutureWarning: The default of observed=False is deprecated and will be changed to True in a future version of pandas. Pass observed=False to retain current behavior or observed=True to adopt the future default and silence this warning.\n",
      "  merged_df_race_dict = dict(merged_df.groupby(['race_group']).groups)\n",
      "Testing weights for abd_exp_01:   8%|▊         | 8/101 [00:03<00:37,  2.50it/s]<ipython-input-6-d61cf6b7d348>:36: FutureWarning: The default of observed=False is deprecated and will be changed to True in a future version of pandas. Pass observed=False to retain current behavior or observed=True to adopt the future default and silence this warning.\n",
      "  merged_df_race_dict = dict(merged_df.groupby(['race_group']).groups)\n",
      "Testing weights for abd_exp_01:   9%|▉         | 9/101 [00:03<00:37,  2.47it/s]<ipython-input-6-d61cf6b7d348>:36: FutureWarning: The default of observed=False is deprecated and will be changed to True in a future version of pandas. Pass observed=False to retain current behavior or observed=True to adopt the future default and silence this warning.\n",
      "  merged_df_race_dict = dict(merged_df.groupby(['race_group']).groups)\n",
      "Testing weights for abd_exp_01:  10%|▉         | 10/101 [00:04<00:38,  2.39it/s]<ipython-input-6-d61cf6b7d348>:36: FutureWarning: The default of observed=False is deprecated and will be changed to True in a future version of pandas. Pass observed=False to retain current behavior or observed=True to adopt the future default and silence this warning.\n",
      "  merged_df_race_dict = dict(merged_df.groupby(['race_group']).groups)\n",
      "Testing weights for abd_exp_01:  11%|█         | 11/101 [00:04<00:42,  2.13it/s]<ipython-input-6-d61cf6b7d348>:36: FutureWarning: The default of observed=False is deprecated and will be changed to True in a future version of pandas. Pass observed=False to retain current behavior or observed=True to adopt the future default and silence this warning.\n",
      "  merged_df_race_dict = dict(merged_df.groupby(['race_group']).groups)\n",
      "Testing weights for abd_exp_01:  12%|█▏        | 12/101 [00:05<00:44,  2.01it/s]<ipython-input-6-d61cf6b7d348>:36: FutureWarning: The default of observed=False is deprecated and will be changed to True in a future version of pandas. Pass observed=False to retain current behavior or observed=True to adopt the future default and silence this warning.\n",
      "  merged_df_race_dict = dict(merged_df.groupby(['race_group']).groups)\n",
      "Testing weights for abd_exp_01:  13%|█▎        | 13/101 [00:05<00:41,  2.10it/s]<ipython-input-6-d61cf6b7d348>:36: FutureWarning: The default of observed=False is deprecated and will be changed to True in a future version of pandas. Pass observed=False to retain current behavior or observed=True to adopt the future default and silence this warning.\n",
      "  merged_df_race_dict = dict(merged_df.groupby(['race_group']).groups)\n",
      "Testing weights for abd_exp_01:  14%|█▍        | 14/101 [00:06<00:39,  2.22it/s]<ipython-input-6-d61cf6b7d348>:36: FutureWarning: The default of observed=False is deprecated and will be changed to True in a future version of pandas. Pass observed=False to retain current behavior or observed=True to adopt the future default and silence this warning.\n",
      "  merged_df_race_dict = dict(merged_df.groupby(['race_group']).groups)\n",
      "Testing weights for abd_exp_01:  15%|█▍        | 15/101 [00:06<00:37,  2.32it/s]<ipython-input-6-d61cf6b7d348>:36: FutureWarning: The default of observed=False is deprecated and will be changed to True in a future version of pandas. Pass observed=False to retain current behavior or observed=True to adopt the future default and silence this warning.\n",
      "  merged_df_race_dict = dict(merged_df.groupby(['race_group']).groups)\n",
      "Testing weights for abd_exp_01:  16%|█▌        | 16/101 [00:06<00:35,  2.38it/s]<ipython-input-6-d61cf6b7d348>:36: FutureWarning: The default of observed=False is deprecated and will be changed to True in a future version of pandas. Pass observed=False to retain current behavior or observed=True to adopt the future default and silence this warning.\n",
      "  merged_df_race_dict = dict(merged_df.groupby(['race_group']).groups)\n",
      "Testing weights for abd_exp_01:  17%|█▋        | 17/101 [00:07<00:34,  2.42it/s]<ipython-input-6-d61cf6b7d348>:36: FutureWarning: The default of observed=False is deprecated and will be changed to True in a future version of pandas. Pass observed=False to retain current behavior or observed=True to adopt the future default and silence this warning.\n",
      "  merged_df_race_dict = dict(merged_df.groupby(['race_group']).groups)\n",
      "Testing weights for abd_exp_01:  18%|█▊        | 18/101 [00:07<00:39,  2.12it/s]<ipython-input-6-d61cf6b7d348>:36: FutureWarning: The default of observed=False is deprecated and will be changed to True in a future version of pandas. Pass observed=False to retain current behavior or observed=True to adopt the future default and silence this warning.\n",
      "  merged_df_race_dict = dict(merged_df.groupby(['race_group']).groups)\n",
      "Testing weights for abd_exp_01:  19%|█▉        | 19/101 [00:08<00:39,  2.09it/s]<ipython-input-6-d61cf6b7d348>:36: FutureWarning: The default of observed=False is deprecated and will be changed to True in a future version of pandas. Pass observed=False to retain current behavior or observed=True to adopt the future default and silence this warning.\n",
      "  merged_df_race_dict = dict(merged_df.groupby(['race_group']).groups)\n",
      "Testing weights for abd_exp_01:  20%|█▉        | 20/101 [00:08<00:36,  2.21it/s]<ipython-input-6-d61cf6b7d348>:36: FutureWarning: The default of observed=False is deprecated and will be changed to True in a future version of pandas. Pass observed=False to retain current behavior or observed=True to adopt the future default and silence this warning.\n",
      "  merged_df_race_dict = dict(merged_df.groupby(['race_group']).groups)\n",
      "Testing weights for abd_exp_01:  21%|██        | 21/101 [00:09<00:34,  2.30it/s]<ipython-input-6-d61cf6b7d348>:36: FutureWarning: The default of observed=False is deprecated and will be changed to True in a future version of pandas. Pass observed=False to retain current behavior or observed=True to adopt the future default and silence this warning.\n",
      "  merged_df_race_dict = dict(merged_df.groupby(['race_group']).groups)\n",
      "Testing weights for abd_exp_01:  22%|██▏       | 22/101 [00:09<00:33,  2.37it/s]<ipython-input-6-d61cf6b7d348>:36: FutureWarning: The default of observed=False is deprecated and will be changed to True in a future version of pandas. Pass observed=False to retain current behavior or observed=True to adopt the future default and silence this warning.\n",
      "  merged_df_race_dict = dict(merged_df.groupby(['race_group']).groups)\n",
      "Testing weights for abd_exp_01:  23%|██▎       | 23/101 [00:09<00:32,  2.42it/s]<ipython-input-6-d61cf6b7d348>:36: FutureWarning: The default of observed=False is deprecated and will be changed to True in a future version of pandas. Pass observed=False to retain current behavior or observed=True to adopt the future default and silence this warning.\n",
      "  merged_df_race_dict = dict(merged_df.groupby(['race_group']).groups)\n",
      "Testing weights for abd_exp_01:  24%|██▍       | 24/101 [00:10<00:31,  2.46it/s]<ipython-input-6-d61cf6b7d348>:36: FutureWarning: The default of observed=False is deprecated and will be changed to True in a future version of pandas. Pass observed=False to retain current behavior or observed=True to adopt the future default and silence this warning.\n",
      "  merged_df_race_dict = dict(merged_df.groupby(['race_group']).groups)\n",
      "Testing weights for abd_exp_01:  25%|██▍       | 25/101 [00:10<00:30,  2.45it/s]<ipython-input-6-d61cf6b7d348>:36: FutureWarning: The default of observed=False is deprecated and will be changed to True in a future version of pandas. Pass observed=False to retain current behavior or observed=True to adopt the future default and silence this warning.\n",
      "  merged_df_race_dict = dict(merged_df.groupby(['race_group']).groups)\n",
      "Testing weights for abd_exp_01:  26%|██▌       | 26/101 [00:11<00:30,  2.48it/s]<ipython-input-6-d61cf6b7d348>:36: FutureWarning: The default of observed=False is deprecated and will be changed to True in a future version of pandas. Pass observed=False to retain current behavior or observed=True to adopt the future default and silence this warning.\n",
      "  merged_df_race_dict = dict(merged_df.groupby(['race_group']).groups)\n",
      "Testing weights for abd_exp_01:  27%|██▋       | 27/101 [00:11<00:29,  2.49it/s]<ipython-input-6-d61cf6b7d348>:36: FutureWarning: The default of observed=False is deprecated and will be changed to True in a future version of pandas. Pass observed=False to retain current behavior or observed=True to adopt the future default and silence this warning.\n",
      "  merged_df_race_dict = dict(merged_df.groupby(['race_group']).groups)\n",
      "Testing weights for abd_exp_01:  28%|██▊       | 28/101 [00:11<00:29,  2.51it/s]<ipython-input-6-d61cf6b7d348>:36: FutureWarning: The default of observed=False is deprecated and will be changed to True in a future version of pandas. Pass observed=False to retain current behavior or observed=True to adopt the future default and silence this warning.\n",
      "  merged_df_race_dict = dict(merged_df.groupby(['race_group']).groups)\n",
      "Testing weights for abd_exp_01:  29%|██▊       | 29/101 [00:12<00:28,  2.52it/s]<ipython-input-6-d61cf6b7d348>:36: FutureWarning: The default of observed=False is deprecated and will be changed to True in a future version of pandas. Pass observed=False to retain current behavior or observed=True to adopt the future default and silence this warning.\n",
      "  merged_df_race_dict = dict(merged_df.groupby(['race_group']).groups)\n",
      "Testing weights for abd_exp_01:  30%|██▉       | 30/101 [00:12<00:28,  2.53it/s]<ipython-input-6-d61cf6b7d348>:36: FutureWarning: The default of observed=False is deprecated and will be changed to True in a future version of pandas. Pass observed=False to retain current behavior or observed=True to adopt the future default and silence this warning.\n",
      "  merged_df_race_dict = dict(merged_df.groupby(['race_group']).groups)\n",
      "Testing weights for abd_exp_01:  31%|███       | 31/101 [00:13<00:27,  2.54it/s]<ipython-input-6-d61cf6b7d348>:36: FutureWarning: The default of observed=False is deprecated and will be changed to True in a future version of pandas. Pass observed=False to retain current behavior or observed=True to adopt the future default and silence this warning.\n",
      "  merged_df_race_dict = dict(merged_df.groupby(['race_group']).groups)\n",
      "Testing weights for abd_exp_01:  32%|███▏      | 32/101 [00:13<00:27,  2.54it/s]<ipython-input-6-d61cf6b7d348>:36: FutureWarning: The default of observed=False is deprecated and will be changed to True in a future version of pandas. Pass observed=False to retain current behavior or observed=True to adopt the future default and silence this warning.\n",
      "  merged_df_race_dict = dict(merged_df.groupby(['race_group']).groups)\n",
      "Testing weights for abd_exp_01:  33%|███▎      | 33/101 [00:13<00:26,  2.55it/s]<ipython-input-6-d61cf6b7d348>:36: FutureWarning: The default of observed=False is deprecated and will be changed to True in a future version of pandas. Pass observed=False to retain current behavior or observed=True to adopt the future default and silence this warning.\n",
      "  merged_df_race_dict = dict(merged_df.groupby(['race_group']).groups)\n",
      "Testing weights for abd_exp_01:  34%|███▎      | 34/101 [00:14<00:26,  2.52it/s]<ipython-input-6-d61cf6b7d348>:36: FutureWarning: The default of observed=False is deprecated and will be changed to True in a future version of pandas. Pass observed=False to retain current behavior or observed=True to adopt the future default and silence this warning.\n",
      "  merged_df_race_dict = dict(merged_df.groupby(['race_group']).groups)\n",
      "Testing weights for abd_exp_01:  35%|███▍      | 35/101 [00:14<00:26,  2.53it/s]<ipython-input-6-d61cf6b7d348>:36: FutureWarning: The default of observed=False is deprecated and will be changed to True in a future version of pandas. Pass observed=False to retain current behavior or observed=True to adopt the future default and silence this warning.\n",
      "  merged_df_race_dict = dict(merged_df.groupby(['race_group']).groups)\n",
      "Testing weights for abd_exp_01:  36%|███▌      | 36/101 [00:15<00:25,  2.53it/s]<ipython-input-6-d61cf6b7d348>:36: FutureWarning: The default of observed=False is deprecated and will be changed to True in a future version of pandas. Pass observed=False to retain current behavior or observed=True to adopt the future default and silence this warning.\n",
      "  merged_df_race_dict = dict(merged_df.groupby(['race_group']).groups)\n",
      "Testing weights for abd_exp_01:  37%|███▋      | 37/101 [00:15<00:25,  2.52it/s]<ipython-input-6-d61cf6b7d348>:36: FutureWarning: The default of observed=False is deprecated and will be changed to True in a future version of pandas. Pass observed=False to retain current behavior or observed=True to adopt the future default and silence this warning.\n",
      "  merged_df_race_dict = dict(merged_df.groupby(['race_group']).groups)\n",
      "Testing weights for abd_exp_01:  38%|███▊      | 38/101 [00:15<00:25,  2.48it/s]<ipython-input-6-d61cf6b7d348>:36: FutureWarning: The default of observed=False is deprecated and will be changed to True in a future version of pandas. Pass observed=False to retain current behavior or observed=True to adopt the future default and silence this warning.\n",
      "  merged_df_race_dict = dict(merged_df.groupby(['race_group']).groups)\n",
      "Testing weights for abd_exp_01:  39%|███▊      | 39/101 [00:16<00:25,  2.47it/s]<ipython-input-6-d61cf6b7d348>:36: FutureWarning: The default of observed=False is deprecated and will be changed to True in a future version of pandas. Pass observed=False to retain current behavior or observed=True to adopt the future default and silence this warning.\n",
      "  merged_df_race_dict = dict(merged_df.groupby(['race_group']).groups)\n",
      "Testing weights for abd_exp_01:  40%|███▉      | 40/101 [00:16<00:24,  2.49it/s]<ipython-input-6-d61cf6b7d348>:36: FutureWarning: The default of observed=False is deprecated and will be changed to True in a future version of pandas. Pass observed=False to retain current behavior or observed=True to adopt the future default and silence this warning.\n",
      "  merged_df_race_dict = dict(merged_df.groupby(['race_group']).groups)\n",
      "Testing weights for abd_exp_01:  41%|████      | 41/101 [00:17<00:23,  2.51it/s]<ipython-input-6-d61cf6b7d348>:36: FutureWarning: The default of observed=False is deprecated and will be changed to True in a future version of pandas. Pass observed=False to retain current behavior or observed=True to adopt the future default and silence this warning.\n",
      "  merged_df_race_dict = dict(merged_df.groupby(['race_group']).groups)\n",
      "Testing weights for abd_exp_01:  42%|████▏     | 42/101 [00:17<00:23,  2.50it/s]<ipython-input-6-d61cf6b7d348>:36: FutureWarning: The default of observed=False is deprecated and will be changed to True in a future version of pandas. Pass observed=False to retain current behavior or observed=True to adopt the future default and silence this warning.\n",
      "  merged_df_race_dict = dict(merged_df.groupby(['race_group']).groups)\n",
      "Testing weights for abd_exp_01:  43%|████▎     | 43/101 [00:17<00:23,  2.50it/s]<ipython-input-6-d61cf6b7d348>:36: FutureWarning: The default of observed=False is deprecated and will be changed to True in a future version of pandas. Pass observed=False to retain current behavior or observed=True to adopt the future default and silence this warning.\n",
      "  merged_df_race_dict = dict(merged_df.groupby(['race_group']).groups)\n",
      "Testing weights for abd_exp_01:  44%|████▎     | 44/101 [00:18<00:22,  2.51it/s]<ipython-input-6-d61cf6b7d348>:36: FutureWarning: The default of observed=False is deprecated and will be changed to True in a future version of pandas. Pass observed=False to retain current behavior or observed=True to adopt the future default and silence this warning.\n",
      "  merged_df_race_dict = dict(merged_df.groupby(['race_group']).groups)\n",
      "Testing weights for abd_exp_01:  45%|████▍     | 45/101 [00:18<00:22,  2.52it/s]<ipython-input-6-d61cf6b7d348>:36: FutureWarning: The default of observed=False is deprecated and will be changed to True in a future version of pandas. Pass observed=False to retain current behavior or observed=True to adopt the future default and silence this warning.\n",
      "  merged_df_race_dict = dict(merged_df.groupby(['race_group']).groups)\n",
      "Testing weights for abd_exp_01:  46%|████▌     | 46/101 [00:19<00:22,  2.48it/s]<ipython-input-6-d61cf6b7d348>:36: FutureWarning: The default of observed=False is deprecated and will be changed to True in a future version of pandas. Pass observed=False to retain current behavior or observed=True to adopt the future default and silence this warning.\n",
      "  merged_df_race_dict = dict(merged_df.groupby(['race_group']).groups)\n",
      "Testing weights for abd_exp_01:  47%|████▋     | 47/101 [00:19<00:21,  2.48it/s]<ipython-input-6-d61cf6b7d348>:36: FutureWarning: The default of observed=False is deprecated and will be changed to True in a future version of pandas. Pass observed=False to retain current behavior or observed=True to adopt the future default and silence this warning.\n",
      "  merged_df_race_dict = dict(merged_df.groupby(['race_group']).groups)\n",
      "Testing weights for abd_exp_01:  48%|████▊     | 48/101 [00:19<00:21,  2.49it/s]<ipython-input-6-d61cf6b7d348>:36: FutureWarning: The default of observed=False is deprecated and will be changed to True in a future version of pandas. Pass observed=False to retain current behavior or observed=True to adopt the future default and silence this warning.\n",
      "  merged_df_race_dict = dict(merged_df.groupby(['race_group']).groups)\n",
      "Testing weights for abd_exp_01:  49%|████▊     | 49/101 [00:20<00:20,  2.49it/s]<ipython-input-6-d61cf6b7d348>:36: FutureWarning: The default of observed=False is deprecated and will be changed to True in a future version of pandas. Pass observed=False to retain current behavior or observed=True to adopt the future default and silence this warning.\n",
      "  merged_df_race_dict = dict(merged_df.groupby(['race_group']).groups)\n",
      "Testing weights for abd_exp_01:  50%|████▉     | 50/101 [00:20<00:20,  2.51it/s]<ipython-input-6-d61cf6b7d348>:36: FutureWarning: The default of observed=False is deprecated and will be changed to True in a future version of pandas. Pass observed=False to retain current behavior or observed=True to adopt the future default and silence this warning.\n",
      "  merged_df_race_dict = dict(merged_df.groupby(['race_group']).groups)\n",
      "Testing weights for abd_exp_01:  50%|█████     | 51/101 [00:21<00:19,  2.52it/s]<ipython-input-6-d61cf6b7d348>:36: FutureWarning: The default of observed=False is deprecated and will be changed to True in a future version of pandas. Pass observed=False to retain current behavior or observed=True to adopt the future default and silence this warning.\n",
      "  merged_df_race_dict = dict(merged_df.groupby(['race_group']).groups)\n",
      "Testing weights for abd_exp_01:  51%|█████▏    | 52/101 [00:21<00:19,  2.52it/s]<ipython-input-6-d61cf6b7d348>:36: FutureWarning: The default of observed=False is deprecated and will be changed to True in a future version of pandas. Pass observed=False to retain current behavior or observed=True to adopt the future default and silence this warning.\n",
      "  merged_df_race_dict = dict(merged_df.groupby(['race_group']).groups)\n",
      "Testing weights for abd_exp_01:  52%|█████▏    | 53/101 [00:21<00:19,  2.50it/s]<ipython-input-6-d61cf6b7d348>:36: FutureWarning: The default of observed=False is deprecated and will be changed to True in a future version of pandas. Pass observed=False to retain current behavior or observed=True to adopt the future default and silence this warning.\n",
      "  merged_df_race_dict = dict(merged_df.groupby(['race_group']).groups)\n",
      "Testing weights for abd_exp_01:  53%|█████▎    | 54/101 [00:22<00:18,  2.48it/s]<ipython-input-6-d61cf6b7d348>:36: FutureWarning: The default of observed=False is deprecated and will be changed to True in a future version of pandas. Pass observed=False to retain current behavior or observed=True to adopt the future default and silence this warning.\n",
      "  merged_df_race_dict = dict(merged_df.groupby(['race_group']).groups)\n",
      "Testing weights for abd_exp_01:  54%|█████▍    | 55/101 [00:22<00:18,  2.48it/s]<ipython-input-6-d61cf6b7d348>:36: FutureWarning: The default of observed=False is deprecated and will be changed to True in a future version of pandas. Pass observed=False to retain current behavior or observed=True to adopt the future default and silence this warning.\n",
      "  merged_df_race_dict = dict(merged_df.groupby(['race_group']).groups)\n",
      "Testing weights for abd_exp_01:  55%|█████▌    | 56/101 [00:23<00:18,  2.49it/s]<ipython-input-6-d61cf6b7d348>:36: FutureWarning: The default of observed=False is deprecated and will be changed to True in a future version of pandas. Pass observed=False to retain current behavior or observed=True to adopt the future default and silence this warning.\n",
      "  merged_df_race_dict = dict(merged_df.groupby(['race_group']).groups)\n",
      "Testing weights for abd_exp_01:  56%|█████▋    | 57/101 [00:23<00:17,  2.49it/s]<ipython-input-6-d61cf6b7d348>:36: FutureWarning: The default of observed=False is deprecated and will be changed to True in a future version of pandas. Pass observed=False to retain current behavior or observed=True to adopt the future default and silence this warning.\n",
      "  merged_df_race_dict = dict(merged_df.groupby(['race_group']).groups)\n",
      "Testing weights for abd_exp_01:  57%|█████▋    | 58/101 [00:23<00:17,  2.51it/s]<ipython-input-6-d61cf6b7d348>:36: FutureWarning: The default of observed=False is deprecated and will be changed to True in a future version of pandas. Pass observed=False to retain current behavior or observed=True to adopt the future default and silence this warning.\n",
      "  merged_df_race_dict = dict(merged_df.groupby(['race_group']).groups)\n",
      "Testing weights for abd_exp_01:  58%|█████▊    | 59/101 [00:24<00:16,  2.52it/s]<ipython-input-6-d61cf6b7d348>:36: FutureWarning: The default of observed=False is deprecated and will be changed to True in a future version of pandas. Pass observed=False to retain current behavior or observed=True to adopt the future default and silence this warning.\n",
      "  merged_df_race_dict = dict(merged_df.groupby(['race_group']).groups)\n",
      "Testing weights for abd_exp_01:  59%|█████▉    | 60/101 [00:24<00:16,  2.53it/s]<ipython-input-6-d61cf6b7d348>:36: FutureWarning: The default of observed=False is deprecated and will be changed to True in a future version of pandas. Pass observed=False to retain current behavior or observed=True to adopt the future default and silence this warning.\n",
      "  merged_df_race_dict = dict(merged_df.groupby(['race_group']).groups)\n",
      "Testing weights for abd_exp_01:  60%|██████    | 61/101 [00:25<00:15,  2.51it/s]<ipython-input-6-d61cf6b7d348>:36: FutureWarning: The default of observed=False is deprecated and will be changed to True in a future version of pandas. Pass observed=False to retain current behavior or observed=True to adopt the future default and silence this warning.\n",
      "  merged_df_race_dict = dict(merged_df.groupby(['race_group']).groups)\n",
      "Testing weights for abd_exp_01:  61%|██████▏   | 62/101 [00:25<00:15,  2.51it/s]<ipython-input-6-d61cf6b7d348>:36: FutureWarning: The default of observed=False is deprecated and will be changed to True in a future version of pandas. Pass observed=False to retain current behavior or observed=True to adopt the future default and silence this warning.\n",
      "  merged_df_race_dict = dict(merged_df.groupby(['race_group']).groups)\n",
      "Testing weights for abd_exp_01:  62%|██████▏   | 63/101 [00:25<00:15,  2.47it/s]<ipython-input-6-d61cf6b7d348>:36: FutureWarning: The default of observed=False is deprecated and will be changed to True in a future version of pandas. Pass observed=False to retain current behavior or observed=True to adopt the future default and silence this warning.\n",
      "  merged_df_race_dict = dict(merged_df.groupby(['race_group']).groups)\n",
      "Testing weights for abd_exp_01:  63%|██████▎   | 64/101 [00:26<00:14,  2.48it/s]<ipython-input-6-d61cf6b7d348>:36: FutureWarning: The default of observed=False is deprecated and will be changed to True in a future version of pandas. Pass observed=False to retain current behavior or observed=True to adopt the future default and silence this warning.\n",
      "  merged_df_race_dict = dict(merged_df.groupby(['race_group']).groups)\n",
      "Testing weights for abd_exp_01:  64%|██████▍   | 65/101 [00:26<00:14,  2.49it/s]<ipython-input-6-d61cf6b7d348>:36: FutureWarning: The default of observed=False is deprecated and will be changed to True in a future version of pandas. Pass observed=False to retain current behavior or observed=True to adopt the future default and silence this warning.\n",
      "  merged_df_race_dict = dict(merged_df.groupby(['race_group']).groups)\n",
      "Testing weights for abd_exp_01:  65%|██████▌   | 66/101 [00:27<00:14,  2.50it/s]<ipython-input-6-d61cf6b7d348>:36: FutureWarning: The default of observed=False is deprecated and will be changed to True in a future version of pandas. Pass observed=False to retain current behavior or observed=True to adopt the future default and silence this warning.\n",
      "  merged_df_race_dict = dict(merged_df.groupby(['race_group']).groups)\n",
      "Testing weights for abd_exp_01:  66%|██████▋   | 67/101 [00:27<00:13,  2.50it/s]<ipython-input-6-d61cf6b7d348>:36: FutureWarning: The default of observed=False is deprecated and will be changed to True in a future version of pandas. Pass observed=False to retain current behavior or observed=True to adopt the future default and silence this warning.\n",
      "  merged_df_race_dict = dict(merged_df.groupby(['race_group']).groups)\n",
      "Testing weights for abd_exp_01:  67%|██████▋   | 68/101 [00:27<00:13,  2.51it/s]<ipython-input-6-d61cf6b7d348>:36: FutureWarning: The default of observed=False is deprecated and will be changed to True in a future version of pandas. Pass observed=False to retain current behavior or observed=True to adopt the future default and silence this warning.\n",
      "  merged_df_race_dict = dict(merged_df.groupby(['race_group']).groups)\n",
      "Testing weights for abd_exp_01:  68%|██████▊   | 69/101 [00:28<00:12,  2.51it/s]<ipython-input-6-d61cf6b7d348>:36: FutureWarning: The default of observed=False is deprecated and will be changed to True in a future version of pandas. Pass observed=False to retain current behavior or observed=True to adopt the future default and silence this warning.\n",
      "  merged_df_race_dict = dict(merged_df.groupby(['race_group']).groups)\n",
      "Testing weights for abd_exp_01:  69%|██████▉   | 70/101 [00:28<00:12,  2.52it/s]<ipython-input-6-d61cf6b7d348>:36: FutureWarning: The default of observed=False is deprecated and will be changed to True in a future version of pandas. Pass observed=False to retain current behavior or observed=True to adopt the future default and silence this warning.\n",
      "  merged_df_race_dict = dict(merged_df.groupby(['race_group']).groups)\n",
      "Testing weights for abd_exp_01:  70%|███████   | 71/101 [00:29<00:11,  2.52it/s]<ipython-input-6-d61cf6b7d348>:36: FutureWarning: The default of observed=False is deprecated and will be changed to True in a future version of pandas. Pass observed=False to retain current behavior or observed=True to adopt the future default and silence this warning.\n",
      "  merged_df_race_dict = dict(merged_df.groupby(['race_group']).groups)\n",
      "Testing weights for abd_exp_01:  71%|███████▏  | 72/101 [00:29<00:11,  2.52it/s]<ipython-input-6-d61cf6b7d348>:36: FutureWarning: The default of observed=False is deprecated and will be changed to True in a future version of pandas. Pass observed=False to retain current behavior or observed=True to adopt the future default and silence this warning.\n",
      "  merged_df_race_dict = dict(merged_df.groupby(['race_group']).groups)\n",
      "Testing weights for abd_exp_01:  72%|███████▏  | 73/101 [00:29<00:11,  2.53it/s]<ipython-input-6-d61cf6b7d348>:36: FutureWarning: The default of observed=False is deprecated and will be changed to True in a future version of pandas. Pass observed=False to retain current behavior or observed=True to adopt the future default and silence this warning.\n",
      "  merged_df_race_dict = dict(merged_df.groupby(['race_group']).groups)\n",
      "Testing weights for abd_exp_01:  73%|███████▎  | 74/101 [00:30<00:10,  2.52it/s]<ipython-input-6-d61cf6b7d348>:36: FutureWarning: The default of observed=False is deprecated and will be changed to True in a future version of pandas. Pass observed=False to retain current behavior or observed=True to adopt the future default and silence this warning.\n",
      "  merged_df_race_dict = dict(merged_df.groupby(['race_group']).groups)\n",
      "Testing weights for abd_exp_01:  74%|███████▍  | 75/101 [00:30<00:10,  2.52it/s]<ipython-input-6-d61cf6b7d348>:36: FutureWarning: The default of observed=False is deprecated and will be changed to True in a future version of pandas. Pass observed=False to retain current behavior or observed=True to adopt the future default and silence this warning.\n",
      "  merged_df_race_dict = dict(merged_df.groupby(['race_group']).groups)\n",
      "Testing weights for abd_exp_01:  75%|███████▌  | 76/101 [00:31<00:09,  2.50it/s]<ipython-input-6-d61cf6b7d348>:36: FutureWarning: The default of observed=False is deprecated and will be changed to True in a future version of pandas. Pass observed=False to retain current behavior or observed=True to adopt the future default and silence this warning.\n",
      "  merged_df_race_dict = dict(merged_df.groupby(['race_group']).groups)\n",
      "Testing weights for abd_exp_01:  76%|███████▌  | 77/101 [00:31<00:09,  2.51it/s]<ipython-input-6-d61cf6b7d348>:36: FutureWarning: The default of observed=False is deprecated and will be changed to True in a future version of pandas. Pass observed=False to retain current behavior or observed=True to adopt the future default and silence this warning.\n",
      "  merged_df_race_dict = dict(merged_df.groupby(['race_group']).groups)\n",
      "Testing weights for abd_exp_01:  77%|███████▋  | 78/101 [00:31<00:09,  2.52it/s]<ipython-input-6-d61cf6b7d348>:36: FutureWarning: The default of observed=False is deprecated and will be changed to True in a future version of pandas. Pass observed=False to retain current behavior or observed=True to adopt the future default and silence this warning.\n",
      "  merged_df_race_dict = dict(merged_df.groupby(['race_group']).groups)\n",
      "Testing weights for abd_exp_01:  78%|███████▊  | 79/101 [00:32<00:08,  2.52it/s]<ipython-input-6-d61cf6b7d348>:36: FutureWarning: The default of observed=False is deprecated and will be changed to True in a future version of pandas. Pass observed=False to retain current behavior or observed=True to adopt the future default and silence this warning.\n",
      "  merged_df_race_dict = dict(merged_df.groupby(['race_group']).groups)\n",
      "Testing weights for abd_exp_01:  79%|███████▉  | 80/101 [00:32<00:08,  2.54it/s]<ipython-input-6-d61cf6b7d348>:36: FutureWarning: The default of observed=False is deprecated and will be changed to True in a future version of pandas. Pass observed=False to retain current behavior or observed=True to adopt the future default and silence this warning.\n",
      "  merged_df_race_dict = dict(merged_df.groupby(['race_group']).groups)\n",
      "Testing weights for abd_exp_01:  80%|████████  | 81/101 [00:32<00:07,  2.53it/s]<ipython-input-6-d61cf6b7d348>:36: FutureWarning: The default of observed=False is deprecated and will be changed to True in a future version of pandas. Pass observed=False to retain current behavior or observed=True to adopt the future default and silence this warning.\n",
      "  merged_df_race_dict = dict(merged_df.groupby(['race_group']).groups)\n",
      "Testing weights for abd_exp_01:  81%|████████  | 82/101 [00:33<00:07,  2.53it/s]<ipython-input-6-d61cf6b7d348>:36: FutureWarning: The default of observed=False is deprecated and will be changed to True in a future version of pandas. Pass observed=False to retain current behavior or observed=True to adopt the future default and silence this warning.\n",
      "  merged_df_race_dict = dict(merged_df.groupby(['race_group']).groups)\n",
      "Testing weights for abd_exp_01:  82%|████████▏ | 83/101 [00:33<00:07,  2.54it/s]<ipython-input-6-d61cf6b7d348>:36: FutureWarning: The default of observed=False is deprecated and will be changed to True in a future version of pandas. Pass observed=False to retain current behavior or observed=True to adopt the future default and silence this warning.\n",
      "  merged_df_race_dict = dict(merged_df.groupby(['race_group']).groups)\n",
      "Testing weights for abd_exp_01:  83%|████████▎ | 84/101 [00:34<00:06,  2.53it/s]<ipython-input-6-d61cf6b7d348>:36: FutureWarning: The default of observed=False is deprecated and will be changed to True in a future version of pandas. Pass observed=False to retain current behavior or observed=True to adopt the future default and silence this warning.\n",
      "  merged_df_race_dict = dict(merged_df.groupby(['race_group']).groups)\n",
      "Testing weights for abd_exp_01:  84%|████████▍ | 85/101 [00:34<00:06,  2.53it/s]<ipython-input-6-d61cf6b7d348>:36: FutureWarning: The default of observed=False is deprecated and will be changed to True in a future version of pandas. Pass observed=False to retain current behavior or observed=True to adopt the future default and silence this warning.\n",
      "  merged_df_race_dict = dict(merged_df.groupby(['race_group']).groups)\n",
      "Testing weights for abd_exp_01:  85%|████████▌ | 86/101 [00:34<00:05,  2.53it/s]<ipython-input-6-d61cf6b7d348>:36: FutureWarning: The default of observed=False is deprecated and will be changed to True in a future version of pandas. Pass observed=False to retain current behavior or observed=True to adopt the future default and silence this warning.\n",
      "  merged_df_race_dict = dict(merged_df.groupby(['race_group']).groups)\n",
      "Testing weights for abd_exp_01:  86%|████████▌ | 87/101 [00:35<00:05,  2.53it/s]<ipython-input-6-d61cf6b7d348>:36: FutureWarning: The default of observed=False is deprecated and will be changed to True in a future version of pandas. Pass observed=False to retain current behavior or observed=True to adopt the future default and silence this warning.\n",
      "  merged_df_race_dict = dict(merged_df.groupby(['race_group']).groups)\n",
      "Testing weights for abd_exp_01:  87%|████████▋ | 88/101 [00:35<00:05,  2.45it/s]<ipython-input-6-d61cf6b7d348>:36: FutureWarning: The default of observed=False is deprecated and will be changed to True in a future version of pandas. Pass observed=False to retain current behavior or observed=True to adopt the future default and silence this warning.\n",
      "  merged_df_race_dict = dict(merged_df.groupby(['race_group']).groups)\n",
      "Testing weights for abd_exp_01:  88%|████████▊ | 89/101 [00:36<00:04,  2.47it/s]<ipython-input-6-d61cf6b7d348>:36: FutureWarning: The default of observed=False is deprecated and will be changed to True in a future version of pandas. Pass observed=False to retain current behavior or observed=True to adopt the future default and silence this warning.\n",
      "  merged_df_race_dict = dict(merged_df.groupby(['race_group']).groups)\n",
      "Testing weights for abd_exp_01:  89%|████████▉ | 90/101 [00:36<00:04,  2.49it/s]<ipython-input-6-d61cf6b7d348>:36: FutureWarning: The default of observed=False is deprecated and will be changed to True in a future version of pandas. Pass observed=False to retain current behavior or observed=True to adopt the future default and silence this warning.\n",
      "  merged_df_race_dict = dict(merged_df.groupby(['race_group']).groups)\n",
      "Testing weights for abd_exp_01:  90%|█████████ | 91/101 [00:36<00:03,  2.50it/s]<ipython-input-6-d61cf6b7d348>:36: FutureWarning: The default of observed=False is deprecated and will be changed to True in a future version of pandas. Pass observed=False to retain current behavior or observed=True to adopt the future default and silence this warning.\n",
      "  merged_df_race_dict = dict(merged_df.groupby(['race_group']).groups)\n",
      "Testing weights for abd_exp_01:  91%|█████████ | 92/101 [00:37<00:03,  2.50it/s]<ipython-input-6-d61cf6b7d348>:36: FutureWarning: The default of observed=False is deprecated and will be changed to True in a future version of pandas. Pass observed=False to retain current behavior or observed=True to adopt the future default and silence this warning.\n",
      "  merged_df_race_dict = dict(merged_df.groupby(['race_group']).groups)\n",
      "Testing weights for abd_exp_01:  92%|█████████▏| 93/101 [00:37<00:03,  2.51it/s]<ipython-input-6-d61cf6b7d348>:36: FutureWarning: The default of observed=False is deprecated and will be changed to True in a future version of pandas. Pass observed=False to retain current behavior or observed=True to adopt the future default and silence this warning.\n",
      "  merged_df_race_dict = dict(merged_df.groupby(['race_group']).groups)\n",
      "Testing weights for abd_exp_01:  93%|█████████▎| 94/101 [00:38<00:02,  2.50it/s]<ipython-input-6-d61cf6b7d348>:36: FutureWarning: The default of observed=False is deprecated and will be changed to True in a future version of pandas. Pass observed=False to retain current behavior or observed=True to adopt the future default and silence this warning.\n",
      "  merged_df_race_dict = dict(merged_df.groupby(['race_group']).groups)\n",
      "Testing weights for abd_exp_01:  94%|█████████▍| 95/101 [00:38<00:02,  2.49it/s]<ipython-input-6-d61cf6b7d348>:36: FutureWarning: The default of observed=False is deprecated and will be changed to True in a future version of pandas. Pass observed=False to retain current behavior or observed=True to adopt the future default and silence this warning.\n",
      "  merged_df_race_dict = dict(merged_df.groupby(['race_group']).groups)\n",
      "Testing weights for abd_exp_01:  95%|█████████▌| 96/101 [00:38<00:01,  2.51it/s]<ipython-input-6-d61cf6b7d348>:36: FutureWarning: The default of observed=False is deprecated and will be changed to True in a future version of pandas. Pass observed=False to retain current behavior or observed=True to adopt the future default and silence this warning.\n",
      "  merged_df_race_dict = dict(merged_df.groupby(['race_group']).groups)\n",
      "Testing weights for abd_exp_01:  96%|█████████▌| 97/101 [00:39<00:01,  2.52it/s]<ipython-input-6-d61cf6b7d348>:36: FutureWarning: The default of observed=False is deprecated and will be changed to True in a future version of pandas. Pass observed=False to retain current behavior or observed=True to adopt the future default and silence this warning.\n",
      "  merged_df_race_dict = dict(merged_df.groupby(['race_group']).groups)\n",
      "Testing weights for abd_exp_01:  97%|█████████▋| 98/101 [00:39<00:01,  2.53it/s]<ipython-input-6-d61cf6b7d348>:36: FutureWarning: The default of observed=False is deprecated and will be changed to True in a future version of pandas. Pass observed=False to retain current behavior or observed=True to adopt the future default and silence this warning.\n",
      "  merged_df_race_dict = dict(merged_df.groupby(['race_group']).groups)\n",
      "Testing weights for abd_exp_01:  98%|█████████▊| 99/101 [00:40<00:00,  2.53it/s]<ipython-input-6-d61cf6b7d348>:36: FutureWarning: The default of observed=False is deprecated and will be changed to True in a future version of pandas. Pass observed=False to retain current behavior or observed=True to adopt the future default and silence this warning.\n",
      "  merged_df_race_dict = dict(merged_df.groupby(['race_group']).groups)\n",
      "Testing weights for abd_exp_01:  99%|█████████▉| 100/101 [00:40<00:00,  2.52it/s]<ipython-input-6-d61cf6b7d348>:36: FutureWarning: The default of observed=False is deprecated and will be changed to True in a future version of pandas. Pass observed=False to retain current behavior or observed=True to adopt the future default and silence this warning.\n",
      "  merged_df_race_dict = dict(merged_df.groupby(['race_group']).groups)\n",
      "Testing weights for abd_exp_01: 100%|██████████| 101/101 [00:40<00:00,  2.47it/s]\n"
     ]
    },
    {
     "name": "stdout",
     "output_type": "stream",
     "text": [
      "here -> /kaggle/input/catboost-exp-04\n"
     ]
    },
    {
     "name": "stderr",
     "output_type": "stream",
     "text": [
      "Testing weights for catboost_exp_04: 100%|██████████| 101/101 [00:40<00:00,  2.51it/s]\n"
     ]
    },
    {
     "name": "stdout",
     "output_type": "stream",
     "text": [
      "here -> /kaggle/input/lgbm-exp-04\n"
     ]
    },
    {
     "name": "stderr",
     "output_type": "stream",
     "text": [
      "Testing weights for lgbm_exp_04: 100%|██████████| 101/101 [00:39<00:00,  2.53it/s]\n"
     ]
    },
    {
     "name": "stdout",
     "output_type": "stream",
     "text": [
      "here -> /kaggle/input/tabm-exp-03\n"
     ]
    },
    {
     "name": "stderr",
     "output_type": "stream",
     "text": [
      "Testing weights for tabm_exp_03: 100%|██████████| 101/101 [00:40<00:00,  2.49it/s]\n"
     ]
    },
    {
     "name": "stdout",
     "output_type": "stream",
     "text": [
      "Iteration 8: Added /kaggle/input/tn-exp-01 with weight -0.0200, Score: 0.6858\n",
      "8th iteration\n",
      "here -> /kaggle/input/xgboost-exp-01\n"
     ]
    },
    {
     "name": "stderr",
     "output_type": "stream",
     "text": [
      "Testing weights for xgboost_exp_01: 100%|██████████| 101/101 [00:39<00:00,  2.53it/s]\n"
     ]
    },
    {
     "name": "stdout",
     "output_type": "stream",
     "text": [
      "here -> /kaggle/input/lgbm-exp-01\n"
     ]
    },
    {
     "name": "stderr",
     "output_type": "stream",
     "text": [
      "Testing weights for lgbm_exp_01: 100%|██████████| 101/101 [00:39<00:00,  2.54it/s]\n"
     ]
    },
    {
     "name": "stdout",
     "output_type": "stream",
     "text": [
      "here -> /kaggle/input/xgboost-exp-02\n"
     ]
    },
    {
     "name": "stderr",
     "output_type": "stream",
     "text": [
      "Testing weights for xgboost_exp_02: 100%|██████████| 101/101 [00:40<00:00,  2.52it/s]\n"
     ]
    },
    {
     "name": "stdout",
     "output_type": "stream",
     "text": [
      "here -> /kaggle/input/catboost-exp-02\n"
     ]
    },
    {
     "name": "stderr",
     "output_type": "stream",
     "text": [
      "Testing weights for catboost_exp_02: 100%|██████████| 101/101 [00:40<00:00,  2.52it/s]\n"
     ]
    },
    {
     "name": "stdout",
     "output_type": "stream",
     "text": [
      "here -> /kaggle/input/catboost-exp-03\n"
     ]
    },
    {
     "name": "stderr",
     "output_type": "stream",
     "text": [
      "Testing weights for catboost_exp_03: 100%|██████████| 101/101 [00:40<00:00,  2.52it/s]\n"
     ]
    },
    {
     "name": "stdout",
     "output_type": "stream",
     "text": [
      "here -> /kaggle/input/tabm-exp-01\n"
     ]
    },
    {
     "name": "stderr",
     "output_type": "stream",
     "text": [
      "Testing weights for tabm_exp_01: 100%|██████████| 101/101 [00:40<00:00,  2.50it/s]\n"
     ]
    },
    {
     "name": "stdout",
     "output_type": "stream",
     "text": [
      "here -> /kaggle/input/nn-exp-01\n"
     ]
    },
    {
     "name": "stderr",
     "output_type": "stream",
     "text": [
      "Testing weights for nn_exp_01: 100%|██████████| 101/101 [00:39<00:00,  2.53it/s]\n"
     ]
    },
    {
     "name": "stdout",
     "output_type": "stream",
     "text": [
      "here -> /kaggle/input/tf-exp-01\n"
     ]
    },
    {
     "name": "stderr",
     "output_type": "stream",
     "text": [
      "Testing weights for tf_exp_01: 100%|██████████| 101/101 [00:39<00:00,  2.53it/s]\n"
     ]
    },
    {
     "name": "stdout",
     "output_type": "stream",
     "text": [
      "here -> /kaggle/input/svr-exp-01\n"
     ]
    },
    {
     "name": "stderr",
     "output_type": "stream",
     "text": [
      "Testing weights for svr_exp_01: 100%|██████████| 101/101 [00:39<00:00,  2.54it/s]\n"
     ]
    },
    {
     "name": "stdout",
     "output_type": "stream",
     "text": [
      "here -> /kaggle/input/abd-exp-01\n"
     ]
    },
    {
     "name": "stderr",
     "output_type": "stream",
     "text": [
      "Testing weights for abd_exp_01:   0%|          | 0/101 [00:00<?, ?it/s]<ipython-input-6-d61cf6b7d348>:36: FutureWarning: The default of observed=False is deprecated and will be changed to True in a future version of pandas. Pass observed=False to retain current behavior or observed=True to adopt the future default and silence this warning.\n",
      "  merged_df_race_dict = dict(merged_df.groupby(['race_group']).groups)\n",
      "Testing weights for abd_exp_01:   1%|          | 1/101 [00:00<00:39,  2.55it/s]<ipython-input-6-d61cf6b7d348>:36: FutureWarning: The default of observed=False is deprecated and will be changed to True in a future version of pandas. Pass observed=False to retain current behavior or observed=True to adopt the future default and silence this warning.\n",
      "  merged_df_race_dict = dict(merged_df.groupby(['race_group']).groups)\n",
      "Testing weights for abd_exp_01:   2%|▏         | 2/101 [00:00<00:38,  2.55it/s]<ipython-input-6-d61cf6b7d348>:36: FutureWarning: The default of observed=False is deprecated and will be changed to True in a future version of pandas. Pass observed=False to retain current behavior or observed=True to adopt the future default and silence this warning.\n",
      "  merged_df_race_dict = dict(merged_df.groupby(['race_group']).groups)\n",
      "Testing weights for abd_exp_01:   3%|▎         | 3/101 [00:01<00:38,  2.55it/s]<ipython-input-6-d61cf6b7d348>:36: FutureWarning: The default of observed=False is deprecated and will be changed to True in a future version of pandas. Pass observed=False to retain current behavior or observed=True to adopt the future default and silence this warning.\n",
      "  merged_df_race_dict = dict(merged_df.groupby(['race_group']).groups)\n",
      "Testing weights for abd_exp_01:   4%|▍         | 4/101 [00:01<00:38,  2.55it/s]<ipython-input-6-d61cf6b7d348>:36: FutureWarning: The default of observed=False is deprecated and will be changed to True in a future version of pandas. Pass observed=False to retain current behavior or observed=True to adopt the future default and silence this warning.\n",
      "  merged_df_race_dict = dict(merged_df.groupby(['race_group']).groups)\n",
      "Testing weights for abd_exp_01:   5%|▍         | 5/101 [00:01<00:37,  2.55it/s]<ipython-input-6-d61cf6b7d348>:36: FutureWarning: The default of observed=False is deprecated and will be changed to True in a future version of pandas. Pass observed=False to retain current behavior or observed=True to adopt the future default and silence this warning.\n",
      "  merged_df_race_dict = dict(merged_df.groupby(['race_group']).groups)\n",
      "Testing weights for abd_exp_01:   6%|▌         | 6/101 [00:02<00:37,  2.55it/s]<ipython-input-6-d61cf6b7d348>:36: FutureWarning: The default of observed=False is deprecated and will be changed to True in a future version of pandas. Pass observed=False to retain current behavior or observed=True to adopt the future default and silence this warning.\n",
      "  merged_df_race_dict = dict(merged_df.groupby(['race_group']).groups)\n",
      "Testing weights for abd_exp_01:   7%|▋         | 7/101 [00:02<00:36,  2.55it/s]<ipython-input-6-d61cf6b7d348>:36: FutureWarning: The default of observed=False is deprecated and will be changed to True in a future version of pandas. Pass observed=False to retain current behavior or observed=True to adopt the future default and silence this warning.\n",
      "  merged_df_race_dict = dict(merged_df.groupby(['race_group']).groups)\n",
      "Testing weights for abd_exp_01:   8%|▊         | 8/101 [00:03<00:36,  2.54it/s]<ipython-input-6-d61cf6b7d348>:36: FutureWarning: The default of observed=False is deprecated and will be changed to True in a future version of pandas. Pass observed=False to retain current behavior or observed=True to adopt the future default and silence this warning.\n",
      "  merged_df_race_dict = dict(merged_df.groupby(['race_group']).groups)\n",
      "Testing weights for abd_exp_01:   9%|▉         | 9/101 [00:03<00:36,  2.52it/s]<ipython-input-6-d61cf6b7d348>:36: FutureWarning: The default of observed=False is deprecated and will be changed to True in a future version of pandas. Pass observed=False to retain current behavior or observed=True to adopt the future default and silence this warning.\n",
      "  merged_df_race_dict = dict(merged_df.groupby(['race_group']).groups)\n",
      "Testing weights for abd_exp_01:  10%|▉         | 10/101 [00:03<00:36,  2.48it/s]<ipython-input-6-d61cf6b7d348>:36: FutureWarning: The default of observed=False is deprecated and will be changed to True in a future version of pandas. Pass observed=False to retain current behavior or observed=True to adopt the future default and silence this warning.\n",
      "  merged_df_race_dict = dict(merged_df.groupby(['race_group']).groups)\n",
      "Testing weights for abd_exp_01:  11%|█         | 11/101 [00:04<00:36,  2.49it/s]<ipython-input-6-d61cf6b7d348>:36: FutureWarning: The default of observed=False is deprecated and will be changed to True in a future version of pandas. Pass observed=False to retain current behavior or observed=True to adopt the future default and silence this warning.\n",
      "  merged_df_race_dict = dict(merged_df.groupby(['race_group']).groups)\n",
      "Testing weights for abd_exp_01:  12%|█▏        | 12/101 [00:04<00:35,  2.51it/s]<ipython-input-6-d61cf6b7d348>:36: FutureWarning: The default of observed=False is deprecated and will be changed to True in a future version of pandas. Pass observed=False to retain current behavior or observed=True to adopt the future default and silence this warning.\n",
      "  merged_df_race_dict = dict(merged_df.groupby(['race_group']).groups)\n",
      "Testing weights for abd_exp_01:  13%|█▎        | 13/101 [00:05<00:35,  2.51it/s]<ipython-input-6-d61cf6b7d348>:36: FutureWarning: The default of observed=False is deprecated and will be changed to True in a future version of pandas. Pass observed=False to retain current behavior or observed=True to adopt the future default and silence this warning.\n",
      "  merged_df_race_dict = dict(merged_df.groupby(['race_group']).groups)\n",
      "Testing weights for abd_exp_01:  14%|█▍        | 14/101 [00:05<00:34,  2.52it/s]<ipython-input-6-d61cf6b7d348>:36: FutureWarning: The default of observed=False is deprecated and will be changed to True in a future version of pandas. Pass observed=False to retain current behavior or observed=True to adopt the future default and silence this warning.\n",
      "  merged_df_race_dict = dict(merged_df.groupby(['race_group']).groups)\n",
      "Testing weights for abd_exp_01:  15%|█▍        | 15/101 [00:05<00:33,  2.53it/s]<ipython-input-6-d61cf6b7d348>:36: FutureWarning: The default of observed=False is deprecated and will be changed to True in a future version of pandas. Pass observed=False to retain current behavior or observed=True to adopt the future default and silence this warning.\n",
      "  merged_df_race_dict = dict(merged_df.groupby(['race_group']).groups)\n",
      "Testing weights for abd_exp_01:  16%|█▌        | 16/101 [00:06<00:33,  2.54it/s]<ipython-input-6-d61cf6b7d348>:36: FutureWarning: The default of observed=False is deprecated and will be changed to True in a future version of pandas. Pass observed=False to retain current behavior or observed=True to adopt the future default and silence this warning.\n",
      "  merged_df_race_dict = dict(merged_df.groupby(['race_group']).groups)\n",
      "Testing weights for abd_exp_01:  17%|█▋        | 17/101 [00:06<00:33,  2.54it/s]<ipython-input-6-d61cf6b7d348>:36: FutureWarning: The default of observed=False is deprecated and will be changed to True in a future version of pandas. Pass observed=False to retain current behavior or observed=True to adopt the future default and silence this warning.\n",
      "  merged_df_race_dict = dict(merged_df.groupby(['race_group']).groups)\n",
      "Testing weights for abd_exp_01:  18%|█▊        | 18/101 [00:07<00:32,  2.55it/s]<ipython-input-6-d61cf6b7d348>:36: FutureWarning: The default of observed=False is deprecated and will be changed to True in a future version of pandas. Pass observed=False to retain current behavior or observed=True to adopt the future default and silence this warning.\n",
      "  merged_df_race_dict = dict(merged_df.groupby(['race_group']).groups)\n",
      "Testing weights for abd_exp_01:  19%|█▉        | 19/101 [00:07<00:32,  2.55it/s]<ipython-input-6-d61cf6b7d348>:36: FutureWarning: The default of observed=False is deprecated and will be changed to True in a future version of pandas. Pass observed=False to retain current behavior or observed=True to adopt the future default and silence this warning.\n",
      "  merged_df_race_dict = dict(merged_df.groupby(['race_group']).groups)\n",
      "Testing weights for abd_exp_01:  20%|█▉        | 20/101 [00:07<00:32,  2.53it/s]<ipython-input-6-d61cf6b7d348>:36: FutureWarning: The default of observed=False is deprecated and will be changed to True in a future version of pandas. Pass observed=False to retain current behavior or observed=True to adopt the future default and silence this warning.\n",
      "  merged_df_race_dict = dict(merged_df.groupby(['race_group']).groups)\n",
      "Testing weights for abd_exp_01:  21%|██        | 21/101 [00:08<00:31,  2.53it/s]<ipython-input-6-d61cf6b7d348>:36: FutureWarning: The default of observed=False is deprecated and will be changed to True in a future version of pandas. Pass observed=False to retain current behavior or observed=True to adopt the future default and silence this warning.\n",
      "  merged_df_race_dict = dict(merged_df.groupby(['race_group']).groups)\n",
      "Testing weights for abd_exp_01:  22%|██▏       | 22/101 [00:08<00:31,  2.54it/s]<ipython-input-6-d61cf6b7d348>:36: FutureWarning: The default of observed=False is deprecated and will be changed to True in a future version of pandas. Pass observed=False to retain current behavior or observed=True to adopt the future default and silence this warning.\n",
      "  merged_df_race_dict = dict(merged_df.groupby(['race_group']).groups)\n",
      "Testing weights for abd_exp_01:  23%|██▎       | 23/101 [00:09<00:30,  2.52it/s]<ipython-input-6-d61cf6b7d348>:36: FutureWarning: The default of observed=False is deprecated and will be changed to True in a future version of pandas. Pass observed=False to retain current behavior or observed=True to adopt the future default and silence this warning.\n",
      "  merged_df_race_dict = dict(merged_df.groupby(['race_group']).groups)\n",
      "Testing weights for abd_exp_01:  24%|██▍       | 24/101 [00:09<00:30,  2.52it/s]<ipython-input-6-d61cf6b7d348>:36: FutureWarning: The default of observed=False is deprecated and will be changed to True in a future version of pandas. Pass observed=False to retain current behavior or observed=True to adopt the future default and silence this warning.\n",
      "  merged_df_race_dict = dict(merged_df.groupby(['race_group']).groups)\n",
      "Testing weights for abd_exp_01:  25%|██▍       | 25/101 [00:09<00:30,  2.53it/s]<ipython-input-6-d61cf6b7d348>:36: FutureWarning: The default of observed=False is deprecated and will be changed to True in a future version of pandas. Pass observed=False to retain current behavior or observed=True to adopt the future default and silence this warning.\n",
      "  merged_df_race_dict = dict(merged_df.groupby(['race_group']).groups)\n",
      "Testing weights for abd_exp_01:  26%|██▌       | 26/101 [00:10<00:29,  2.53it/s]<ipython-input-6-d61cf6b7d348>:36: FutureWarning: The default of observed=False is deprecated and will be changed to True in a future version of pandas. Pass observed=False to retain current behavior or observed=True to adopt the future default and silence this warning.\n",
      "  merged_df_race_dict = dict(merged_df.groupby(['race_group']).groups)\n",
      "Testing weights for abd_exp_01:  27%|██▋       | 27/101 [00:10<00:29,  2.54it/s]<ipython-input-6-d61cf6b7d348>:36: FutureWarning: The default of observed=False is deprecated and will be changed to True in a future version of pandas. Pass observed=False to retain current behavior or observed=True to adopt the future default and silence this warning.\n",
      "  merged_df_race_dict = dict(merged_df.groupby(['race_group']).groups)\n",
      "Testing weights for abd_exp_01:  28%|██▊       | 28/101 [00:11<00:28,  2.54it/s]<ipython-input-6-d61cf6b7d348>:36: FutureWarning: The default of observed=False is deprecated and will be changed to True in a future version of pandas. Pass observed=False to retain current behavior or observed=True to adopt the future default and silence this warning.\n",
      "  merged_df_race_dict = dict(merged_df.groupby(['race_group']).groups)\n",
      "Testing weights for abd_exp_01:  29%|██▊       | 29/101 [00:11<00:28,  2.54it/s]<ipython-input-6-d61cf6b7d348>:36: FutureWarning: The default of observed=False is deprecated and will be changed to True in a future version of pandas. Pass observed=False to retain current behavior or observed=True to adopt the future default and silence this warning.\n",
      "  merged_df_race_dict = dict(merged_df.groupby(['race_group']).groups)\n",
      "Testing weights for abd_exp_01:  30%|██▉       | 30/101 [00:11<00:27,  2.55it/s]<ipython-input-6-d61cf6b7d348>:36: FutureWarning: The default of observed=False is deprecated and will be changed to True in a future version of pandas. Pass observed=False to retain current behavior or observed=True to adopt the future default and silence this warning.\n",
      "  merged_df_race_dict = dict(merged_df.groupby(['race_group']).groups)\n",
      "Testing weights for abd_exp_01:  31%|███       | 31/101 [00:12<00:27,  2.55it/s]<ipython-input-6-d61cf6b7d348>:36: FutureWarning: The default of observed=False is deprecated and will be changed to True in a future version of pandas. Pass observed=False to retain current behavior or observed=True to adopt the future default and silence this warning.\n",
      "  merged_df_race_dict = dict(merged_df.groupby(['race_group']).groups)\n",
      "Testing weights for abd_exp_01:  32%|███▏      | 32/101 [00:12<00:27,  2.55it/s]<ipython-input-6-d61cf6b7d348>:36: FutureWarning: The default of observed=False is deprecated and will be changed to True in a future version of pandas. Pass observed=False to retain current behavior or observed=True to adopt the future default and silence this warning.\n",
      "  merged_df_race_dict = dict(merged_df.groupby(['race_group']).groups)\n",
      "Testing weights for abd_exp_01:  33%|███▎      | 33/101 [00:13<00:26,  2.54it/s]<ipython-input-6-d61cf6b7d348>:36: FutureWarning: The default of observed=False is deprecated and will be changed to True in a future version of pandas. Pass observed=False to retain current behavior or observed=True to adopt the future default and silence this warning.\n",
      "  merged_df_race_dict = dict(merged_df.groupby(['race_group']).groups)\n",
      "Testing weights for abd_exp_01:  34%|███▎      | 34/101 [00:13<00:26,  2.54it/s]<ipython-input-6-d61cf6b7d348>:36: FutureWarning: The default of observed=False is deprecated and will be changed to True in a future version of pandas. Pass observed=False to retain current behavior or observed=True to adopt the future default and silence this warning.\n",
      "  merged_df_race_dict = dict(merged_df.groupby(['race_group']).groups)\n",
      "Testing weights for abd_exp_01:  35%|███▍      | 35/101 [00:13<00:26,  2.49it/s]<ipython-input-6-d61cf6b7d348>:36: FutureWarning: The default of observed=False is deprecated and will be changed to True in a future version of pandas. Pass observed=False to retain current behavior or observed=True to adopt the future default and silence this warning.\n",
      "  merged_df_race_dict = dict(merged_df.groupby(['race_group']).groups)\n",
      "Testing weights for abd_exp_01:  36%|███▌      | 36/101 [00:14<00:25,  2.50it/s]<ipython-input-6-d61cf6b7d348>:36: FutureWarning: The default of observed=False is deprecated and will be changed to True in a future version of pandas. Pass observed=False to retain current behavior or observed=True to adopt the future default and silence this warning.\n",
      "  merged_df_race_dict = dict(merged_df.groupby(['race_group']).groups)\n",
      "Testing weights for abd_exp_01:  37%|███▋      | 37/101 [00:14<00:25,  2.51it/s]<ipython-input-6-d61cf6b7d348>:36: FutureWarning: The default of observed=False is deprecated and will be changed to True in a future version of pandas. Pass observed=False to retain current behavior or observed=True to adopt the future default and silence this warning.\n",
      "  merged_df_race_dict = dict(merged_df.groupby(['race_group']).groups)\n",
      "Testing weights for abd_exp_01:  38%|███▊      | 38/101 [00:15<00:25,  2.51it/s]<ipython-input-6-d61cf6b7d348>:36: FutureWarning: The default of observed=False is deprecated and will be changed to True in a future version of pandas. Pass observed=False to retain current behavior or observed=True to adopt the future default and silence this warning.\n",
      "  merged_df_race_dict = dict(merged_df.groupby(['race_group']).groups)\n",
      "Testing weights for abd_exp_01:  39%|███▊      | 39/101 [00:15<00:24,  2.52it/s]<ipython-input-6-d61cf6b7d348>:36: FutureWarning: The default of observed=False is deprecated and will be changed to True in a future version of pandas. Pass observed=False to retain current behavior or observed=True to adopt the future default and silence this warning.\n",
      "  merged_df_race_dict = dict(merged_df.groupby(['race_group']).groups)\n",
      "Testing weights for abd_exp_01:  40%|███▉      | 40/101 [00:15<00:24,  2.53it/s]<ipython-input-6-d61cf6b7d348>:36: FutureWarning: The default of observed=False is deprecated and will be changed to True in a future version of pandas. Pass observed=False to retain current behavior or observed=True to adopt the future default and silence this warning.\n",
      "  merged_df_race_dict = dict(merged_df.groupby(['race_group']).groups)\n",
      "Testing weights for abd_exp_01:  41%|████      | 41/101 [00:16<00:23,  2.53it/s]<ipython-input-6-d61cf6b7d348>:36: FutureWarning: The default of observed=False is deprecated and will be changed to True in a future version of pandas. Pass observed=False to retain current behavior or observed=True to adopt the future default and silence this warning.\n",
      "  merged_df_race_dict = dict(merged_df.groupby(['race_group']).groups)\n",
      "Testing weights for abd_exp_01:  42%|████▏     | 42/101 [00:16<00:23,  2.51it/s]<ipython-input-6-d61cf6b7d348>:36: FutureWarning: The default of observed=False is deprecated and will be changed to True in a future version of pandas. Pass observed=False to retain current behavior or observed=True to adopt the future default and silence this warning.\n",
      "  merged_df_race_dict = dict(merged_df.groupby(['race_group']).groups)\n",
      "Testing weights for abd_exp_01:  43%|████▎     | 43/101 [00:17<00:22,  2.53it/s]<ipython-input-6-d61cf6b7d348>:36: FutureWarning: The default of observed=False is deprecated and will be changed to True in a future version of pandas. Pass observed=False to retain current behavior or observed=True to adopt the future default and silence this warning.\n",
      "  merged_df_race_dict = dict(merged_df.groupby(['race_group']).groups)\n",
      "Testing weights for abd_exp_01:  44%|████▎     | 44/101 [00:17<00:22,  2.52it/s]<ipython-input-6-d61cf6b7d348>:36: FutureWarning: The default of observed=False is deprecated and will be changed to True in a future version of pandas. Pass observed=False to retain current behavior or observed=True to adopt the future default and silence this warning.\n",
      "  merged_df_race_dict = dict(merged_df.groupby(['race_group']).groups)\n",
      "Testing weights for abd_exp_01:  45%|████▍     | 45/101 [00:17<00:22,  2.52it/s]<ipython-input-6-d61cf6b7d348>:36: FutureWarning: The default of observed=False is deprecated and will be changed to True in a future version of pandas. Pass observed=False to retain current behavior or observed=True to adopt the future default and silence this warning.\n",
      "  merged_df_race_dict = dict(merged_df.groupby(['race_group']).groups)\n",
      "Testing weights for abd_exp_01:  46%|████▌     | 46/101 [00:18<00:21,  2.53it/s]<ipython-input-6-d61cf6b7d348>:36: FutureWarning: The default of observed=False is deprecated and will be changed to True in a future version of pandas. Pass observed=False to retain current behavior or observed=True to adopt the future default and silence this warning.\n",
      "  merged_df_race_dict = dict(merged_df.groupby(['race_group']).groups)\n",
      "Testing weights for abd_exp_01:  47%|████▋     | 47/101 [00:18<00:21,  2.54it/s]<ipython-input-6-d61cf6b7d348>:36: FutureWarning: The default of observed=False is deprecated and will be changed to True in a future version of pandas. Pass observed=False to retain current behavior or observed=True to adopt the future default and silence this warning.\n",
      "  merged_df_race_dict = dict(merged_df.groupby(['race_group']).groups)\n",
      "Testing weights for abd_exp_01:  48%|████▊     | 48/101 [00:18<00:20,  2.54it/s]<ipython-input-6-d61cf6b7d348>:36: FutureWarning: The default of observed=False is deprecated and will be changed to True in a future version of pandas. Pass observed=False to retain current behavior or observed=True to adopt the future default and silence this warning.\n",
      "  merged_df_race_dict = dict(merged_df.groupby(['race_group']).groups)\n",
      "Testing weights for abd_exp_01:  49%|████▊     | 49/101 [00:19<00:20,  2.54it/s]<ipython-input-6-d61cf6b7d348>:36: FutureWarning: The default of observed=False is deprecated and will be changed to True in a future version of pandas. Pass observed=False to retain current behavior or observed=True to adopt the future default and silence this warning.\n",
      "  merged_df_race_dict = dict(merged_df.groupby(['race_group']).groups)\n",
      "Testing weights for abd_exp_01:  50%|████▉     | 50/101 [00:19<00:20,  2.54it/s]<ipython-input-6-d61cf6b7d348>:36: FutureWarning: The default of observed=False is deprecated and will be changed to True in a future version of pandas. Pass observed=False to retain current behavior or observed=True to adopt the future default and silence this warning.\n",
      "  merged_df_race_dict = dict(merged_df.groupby(['race_group']).groups)\n",
      "Testing weights for abd_exp_01:  50%|█████     | 51/101 [00:20<00:19,  2.55it/s]<ipython-input-6-d61cf6b7d348>:36: FutureWarning: The default of observed=False is deprecated and will be changed to True in a future version of pandas. Pass observed=False to retain current behavior or observed=True to adopt the future default and silence this warning.\n",
      "  merged_df_race_dict = dict(merged_df.groupby(['race_group']).groups)\n",
      "Testing weights for abd_exp_01:  51%|█████▏    | 52/101 [00:20<00:19,  2.55it/s]<ipython-input-6-d61cf6b7d348>:36: FutureWarning: The default of observed=False is deprecated and will be changed to True in a future version of pandas. Pass observed=False to retain current behavior or observed=True to adopt the future default and silence this warning.\n",
      "  merged_df_race_dict = dict(merged_df.groupby(['race_group']).groups)\n",
      "Testing weights for abd_exp_01:  52%|█████▏    | 53/101 [00:20<00:18,  2.55it/s]<ipython-input-6-d61cf6b7d348>:36: FutureWarning: The default of observed=False is deprecated and will be changed to True in a future version of pandas. Pass observed=False to retain current behavior or observed=True to adopt the future default and silence this warning.\n",
      "  merged_df_race_dict = dict(merged_df.groupby(['race_group']).groups)\n",
      "Testing weights for abd_exp_01:  53%|█████▎    | 54/101 [00:21<00:18,  2.52it/s]<ipython-input-6-d61cf6b7d348>:36: FutureWarning: The default of observed=False is deprecated and will be changed to True in a future version of pandas. Pass observed=False to retain current behavior or observed=True to adopt the future default and silence this warning.\n",
      "  merged_df_race_dict = dict(merged_df.groupby(['race_group']).groups)\n",
      "Testing weights for abd_exp_01:  54%|█████▍    | 55/101 [00:21<00:19,  2.40it/s]<ipython-input-6-d61cf6b7d348>:36: FutureWarning: The default of observed=False is deprecated and will be changed to True in a future version of pandas. Pass observed=False to retain current behavior or observed=True to adopt the future default and silence this warning.\n",
      "  merged_df_race_dict = dict(merged_df.groupby(['race_group']).groups)\n",
      "Testing weights for abd_exp_01:  55%|█████▌    | 56/101 [00:22<00:18,  2.42it/s]<ipython-input-6-d61cf6b7d348>:36: FutureWarning: The default of observed=False is deprecated and will be changed to True in a future version of pandas. Pass observed=False to retain current behavior or observed=True to adopt the future default and silence this warning.\n",
      "  merged_df_race_dict = dict(merged_df.groupby(['race_group']).groups)\n",
      "Testing weights for abd_exp_01:  56%|█████▋    | 57/101 [00:22<00:20,  2.14it/s]<ipython-input-6-d61cf6b7d348>:36: FutureWarning: The default of observed=False is deprecated and will be changed to True in a future version of pandas. Pass observed=False to retain current behavior or observed=True to adopt the future default and silence this warning.\n",
      "  merged_df_race_dict = dict(merged_df.groupby(['race_group']).groups)\n",
      "Testing weights for abd_exp_01:  57%|█████▋    | 58/101 [00:23<00:19,  2.21it/s]<ipython-input-6-d61cf6b7d348>:36: FutureWarning: The default of observed=False is deprecated and will be changed to True in a future version of pandas. Pass observed=False to retain current behavior or observed=True to adopt the future default and silence this warning.\n",
      "  merged_df_race_dict = dict(merged_df.groupby(['race_group']).groups)\n",
      "Testing weights for abd_exp_01:  58%|█████▊    | 59/101 [00:23<00:18,  2.21it/s]<ipython-input-6-d61cf6b7d348>:36: FutureWarning: The default of observed=False is deprecated and will be changed to True in a future version of pandas. Pass observed=False to retain current behavior or observed=True to adopt the future default and silence this warning.\n",
      "  merged_df_race_dict = dict(merged_df.groupby(['race_group']).groups)\n",
      "Testing weights for abd_exp_01:  59%|█████▉    | 60/101 [00:24<00:17,  2.29it/s]<ipython-input-6-d61cf6b7d348>:36: FutureWarning: The default of observed=False is deprecated and will be changed to True in a future version of pandas. Pass observed=False to retain current behavior or observed=True to adopt the future default and silence this warning.\n",
      "  merged_df_race_dict = dict(merged_df.groupby(['race_group']).groups)\n",
      "Testing weights for abd_exp_01:  60%|██████    | 61/101 [00:24<00:17,  2.35it/s]<ipython-input-6-d61cf6b7d348>:36: FutureWarning: The default of observed=False is deprecated and will be changed to True in a future version of pandas. Pass observed=False to retain current behavior or observed=True to adopt the future default and silence this warning.\n",
      "  merged_df_race_dict = dict(merged_df.groupby(['race_group']).groups)\n",
      "Testing weights for abd_exp_01:  61%|██████▏   | 62/101 [00:24<00:16,  2.40it/s]<ipython-input-6-d61cf6b7d348>:36: FutureWarning: The default of observed=False is deprecated and will be changed to True in a future version of pandas. Pass observed=False to retain current behavior or observed=True to adopt the future default and silence this warning.\n",
      "  merged_df_race_dict = dict(merged_df.groupby(['race_group']).groups)\n",
      "Testing weights for abd_exp_01:  62%|██████▏   | 63/101 [00:25<00:15,  2.44it/s]<ipython-input-6-d61cf6b7d348>:36: FutureWarning: The default of observed=False is deprecated and will be changed to True in a future version of pandas. Pass observed=False to retain current behavior or observed=True to adopt the future default and silence this warning.\n",
      "  merged_df_race_dict = dict(merged_df.groupby(['race_group']).groups)\n",
      "Testing weights for abd_exp_01:  63%|██████▎   | 64/101 [00:25<00:15,  2.45it/s]<ipython-input-6-d61cf6b7d348>:36: FutureWarning: The default of observed=False is deprecated and will be changed to True in a future version of pandas. Pass observed=False to retain current behavior or observed=True to adopt the future default and silence this warning.\n",
      "  merged_df_race_dict = dict(merged_df.groupby(['race_group']).groups)\n",
      "Testing weights for abd_exp_01:  64%|██████▍   | 65/101 [00:26<00:14,  2.48it/s]<ipython-input-6-d61cf6b7d348>:36: FutureWarning: The default of observed=False is deprecated and will be changed to True in a future version of pandas. Pass observed=False to retain current behavior or observed=True to adopt the future default and silence this warning.\n",
      "  merged_df_race_dict = dict(merged_df.groupby(['race_group']).groups)\n",
      "Testing weights for abd_exp_01:  65%|██████▌   | 66/101 [00:26<00:14,  2.49it/s]<ipython-input-6-d61cf6b7d348>:36: FutureWarning: The default of observed=False is deprecated and will be changed to True in a future version of pandas. Pass observed=False to retain current behavior or observed=True to adopt the future default and silence this warning.\n",
      "  merged_df_race_dict = dict(merged_df.groupby(['race_group']).groups)\n",
      "Testing weights for abd_exp_01:  66%|██████▋   | 67/101 [00:26<00:13,  2.52it/s]<ipython-input-6-d61cf6b7d348>:36: FutureWarning: The default of observed=False is deprecated and will be changed to True in a future version of pandas. Pass observed=False to retain current behavior or observed=True to adopt the future default and silence this warning.\n",
      "  merged_df_race_dict = dict(merged_df.groupby(['race_group']).groups)\n",
      "Testing weights for abd_exp_01:  67%|██████▋   | 68/101 [00:27<00:13,  2.51it/s]<ipython-input-6-d61cf6b7d348>:36: FutureWarning: The default of observed=False is deprecated and will be changed to True in a future version of pandas. Pass observed=False to retain current behavior or observed=True to adopt the future default and silence this warning.\n",
      "  merged_df_race_dict = dict(merged_df.groupby(['race_group']).groups)\n",
      "Testing weights for abd_exp_01:  68%|██████▊   | 69/101 [00:27<00:12,  2.52it/s]<ipython-input-6-d61cf6b7d348>:36: FutureWarning: The default of observed=False is deprecated and will be changed to True in a future version of pandas. Pass observed=False to retain current behavior or observed=True to adopt the future default and silence this warning.\n",
      "  merged_df_race_dict = dict(merged_df.groupby(['race_group']).groups)\n",
      "Testing weights for abd_exp_01:  69%|██████▉   | 70/101 [00:28<00:12,  2.52it/s]<ipython-input-6-d61cf6b7d348>:36: FutureWarning: The default of observed=False is deprecated and will be changed to True in a future version of pandas. Pass observed=False to retain current behavior or observed=True to adopt the future default and silence this warning.\n",
      "  merged_df_race_dict = dict(merged_df.groupby(['race_group']).groups)\n",
      "Testing weights for abd_exp_01:  70%|███████   | 71/101 [00:28<00:11,  2.52it/s]<ipython-input-6-d61cf6b7d348>:36: FutureWarning: The default of observed=False is deprecated and will be changed to True in a future version of pandas. Pass observed=False to retain current behavior or observed=True to adopt the future default and silence this warning.\n",
      "  merged_df_race_dict = dict(merged_df.groupby(['race_group']).groups)\n",
      "Testing weights for abd_exp_01:  71%|███████▏  | 72/101 [00:28<00:11,  2.53it/s]<ipython-input-6-d61cf6b7d348>:36: FutureWarning: The default of observed=False is deprecated and will be changed to True in a future version of pandas. Pass observed=False to retain current behavior or observed=True to adopt the future default and silence this warning.\n",
      "  merged_df_race_dict = dict(merged_df.groupby(['race_group']).groups)\n",
      "Testing weights for abd_exp_01:  72%|███████▏  | 73/101 [00:29<00:11,  2.54it/s]<ipython-input-6-d61cf6b7d348>:36: FutureWarning: The default of observed=False is deprecated and will be changed to True in a future version of pandas. Pass observed=False to retain current behavior or observed=True to adopt the future default and silence this warning.\n",
      "  merged_df_race_dict = dict(merged_df.groupby(['race_group']).groups)\n",
      "Testing weights for abd_exp_01:  73%|███████▎  | 74/101 [00:29<00:10,  2.52it/s]<ipython-input-6-d61cf6b7d348>:36: FutureWarning: The default of observed=False is deprecated and will be changed to True in a future version of pandas. Pass observed=False to retain current behavior or observed=True to adopt the future default and silence this warning.\n",
      "  merged_df_race_dict = dict(merged_df.groupby(['race_group']).groups)\n",
      "Testing weights for abd_exp_01:  74%|███████▍  | 75/101 [00:30<00:10,  2.53it/s]<ipython-input-6-d61cf6b7d348>:36: FutureWarning: The default of observed=False is deprecated and will be changed to True in a future version of pandas. Pass observed=False to retain current behavior or observed=True to adopt the future default and silence this warning.\n",
      "  merged_df_race_dict = dict(merged_df.groupby(['race_group']).groups)\n",
      "Testing weights for abd_exp_01:  75%|███████▌  | 76/101 [00:30<00:09,  2.53it/s]<ipython-input-6-d61cf6b7d348>:36: FutureWarning: The default of observed=False is deprecated and will be changed to True in a future version of pandas. Pass observed=False to retain current behavior or observed=True to adopt the future default and silence this warning.\n",
      "  merged_df_race_dict = dict(merged_df.groupby(['race_group']).groups)\n",
      "Testing weights for abd_exp_01:  76%|███████▌  | 77/101 [00:30<00:09,  2.53it/s]<ipython-input-6-d61cf6b7d348>:36: FutureWarning: The default of observed=False is deprecated and will be changed to True in a future version of pandas. Pass observed=False to retain current behavior or observed=True to adopt the future default and silence this warning.\n",
      "  merged_df_race_dict = dict(merged_df.groupby(['race_group']).groups)\n",
      "Testing weights for abd_exp_01:  77%|███████▋  | 78/101 [00:31<00:09,  2.53it/s]<ipython-input-6-d61cf6b7d348>:36: FutureWarning: The default of observed=False is deprecated and will be changed to True in a future version of pandas. Pass observed=False to retain current behavior or observed=True to adopt the future default and silence this warning.\n",
      "  merged_df_race_dict = dict(merged_df.groupby(['race_group']).groups)\n",
      "Testing weights for abd_exp_01:  78%|███████▊  | 79/101 [00:31<00:08,  2.54it/s]<ipython-input-6-d61cf6b7d348>:36: FutureWarning: The default of observed=False is deprecated and will be changed to True in a future version of pandas. Pass observed=False to retain current behavior or observed=True to adopt the future default and silence this warning.\n",
      "  merged_df_race_dict = dict(merged_df.groupby(['race_group']).groups)\n",
      "Testing weights for abd_exp_01:  79%|███████▉  | 80/101 [00:31<00:08,  2.54it/s]<ipython-input-6-d61cf6b7d348>:36: FutureWarning: The default of observed=False is deprecated and will be changed to True in a future version of pandas. Pass observed=False to retain current behavior or observed=True to adopt the future default and silence this warning.\n",
      "  merged_df_race_dict = dict(merged_df.groupby(['race_group']).groups)\n",
      "Testing weights for abd_exp_01:  80%|████████  | 81/101 [00:32<00:07,  2.54it/s]<ipython-input-6-d61cf6b7d348>:36: FutureWarning: The default of observed=False is deprecated and will be changed to True in a future version of pandas. Pass observed=False to retain current behavior or observed=True to adopt the future default and silence this warning.\n",
      "  merged_df_race_dict = dict(merged_df.groupby(['race_group']).groups)\n",
      "Testing weights for abd_exp_01:  81%|████████  | 82/101 [00:32<00:07,  2.54it/s]<ipython-input-6-d61cf6b7d348>:36: FutureWarning: The default of observed=False is deprecated and will be changed to True in a future version of pandas. Pass observed=False to retain current behavior or observed=True to adopt the future default and silence this warning.\n",
      "  merged_df_race_dict = dict(merged_df.groupby(['race_group']).groups)\n",
      "Testing weights for abd_exp_01:  82%|████████▏ | 83/101 [00:33<00:07,  2.54it/s]<ipython-input-6-d61cf6b7d348>:36: FutureWarning: The default of observed=False is deprecated and will be changed to True in a future version of pandas. Pass observed=False to retain current behavior or observed=True to adopt the future default and silence this warning.\n",
      "  merged_df_race_dict = dict(merged_df.groupby(['race_group']).groups)\n",
      "Testing weights for abd_exp_01:  83%|████████▎ | 84/101 [00:33<00:06,  2.53it/s]<ipython-input-6-d61cf6b7d348>:36: FutureWarning: The default of observed=False is deprecated and will be changed to True in a future version of pandas. Pass observed=False to retain current behavior or observed=True to adopt the future default and silence this warning.\n",
      "  merged_df_race_dict = dict(merged_df.groupby(['race_group']).groups)\n",
      "Testing weights for abd_exp_01:  84%|████████▍ | 85/101 [00:33<00:06,  2.48it/s]<ipython-input-6-d61cf6b7d348>:36: FutureWarning: The default of observed=False is deprecated and will be changed to True in a future version of pandas. Pass observed=False to retain current behavior or observed=True to adopt the future default and silence this warning.\n",
      "  merged_df_race_dict = dict(merged_df.groupby(['race_group']).groups)\n",
      "Testing weights for abd_exp_01:  85%|████████▌ | 86/101 [00:34<00:06,  2.49it/s]<ipython-input-6-d61cf6b7d348>:36: FutureWarning: The default of observed=False is deprecated and will be changed to True in a future version of pandas. Pass observed=False to retain current behavior or observed=True to adopt the future default and silence this warning.\n",
      "  merged_df_race_dict = dict(merged_df.groupby(['race_group']).groups)\n",
      "Testing weights for abd_exp_01:  86%|████████▌ | 87/101 [00:34<00:05,  2.50it/s]<ipython-input-6-d61cf6b7d348>:36: FutureWarning: The default of observed=False is deprecated and will be changed to True in a future version of pandas. Pass observed=False to retain current behavior or observed=True to adopt the future default and silence this warning.\n",
      "  merged_df_race_dict = dict(merged_df.groupby(['race_group']).groups)\n",
      "Testing weights for abd_exp_01:  87%|████████▋ | 88/101 [00:35<00:05,  2.51it/s]<ipython-input-6-d61cf6b7d348>:36: FutureWarning: The default of observed=False is deprecated and will be changed to True in a future version of pandas. Pass observed=False to retain current behavior or observed=True to adopt the future default and silence this warning.\n",
      "  merged_df_race_dict = dict(merged_df.groupby(['race_group']).groups)\n",
      "Testing weights for abd_exp_01:  88%|████████▊ | 89/101 [00:35<00:04,  2.52it/s]<ipython-input-6-d61cf6b7d348>:36: FutureWarning: The default of observed=False is deprecated and will be changed to True in a future version of pandas. Pass observed=False to retain current behavior or observed=True to adopt the future default and silence this warning.\n",
      "  merged_df_race_dict = dict(merged_df.groupby(['race_group']).groups)\n",
      "Testing weights for abd_exp_01:  89%|████████▉ | 90/101 [00:35<00:04,  2.53it/s]<ipython-input-6-d61cf6b7d348>:36: FutureWarning: The default of observed=False is deprecated and will be changed to True in a future version of pandas. Pass observed=False to retain current behavior or observed=True to adopt the future default and silence this warning.\n",
      "  merged_df_race_dict = dict(merged_df.groupby(['race_group']).groups)\n",
      "Testing weights for abd_exp_01:  90%|█████████ | 91/101 [00:36<00:03,  2.52it/s]<ipython-input-6-d61cf6b7d348>:36: FutureWarning: The default of observed=False is deprecated and will be changed to True in a future version of pandas. Pass observed=False to retain current behavior or observed=True to adopt the future default and silence this warning.\n",
      "  merged_df_race_dict = dict(merged_df.groupby(['race_group']).groups)\n",
      "Testing weights for abd_exp_01:  91%|█████████ | 92/101 [00:36<00:03,  2.54it/s]<ipython-input-6-d61cf6b7d348>:36: FutureWarning: The default of observed=False is deprecated and will be changed to True in a future version of pandas. Pass observed=False to retain current behavior or observed=True to adopt the future default and silence this warning.\n",
      "  merged_df_race_dict = dict(merged_df.groupby(['race_group']).groups)\n",
      "Testing weights for abd_exp_01:  92%|█████████▏| 93/101 [00:37<00:03,  2.53it/s]<ipython-input-6-d61cf6b7d348>:36: FutureWarning: The default of observed=False is deprecated and will be changed to True in a future version of pandas. Pass observed=False to retain current behavior or observed=True to adopt the future default and silence this warning.\n",
      "  merged_df_race_dict = dict(merged_df.groupby(['race_group']).groups)\n",
      "Testing weights for abd_exp_01:  93%|█████████▎| 94/101 [00:37<00:02,  2.54it/s]<ipython-input-6-d61cf6b7d348>:36: FutureWarning: The default of observed=False is deprecated and will be changed to True in a future version of pandas. Pass observed=False to retain current behavior or observed=True to adopt the future default and silence this warning.\n",
      "  merged_df_race_dict = dict(merged_df.groupby(['race_group']).groups)\n",
      "Testing weights for abd_exp_01:  94%|█████████▍| 95/101 [00:37<00:02,  2.54it/s]<ipython-input-6-d61cf6b7d348>:36: FutureWarning: The default of observed=False is deprecated and will be changed to True in a future version of pandas. Pass observed=False to retain current behavior or observed=True to adopt the future default and silence this warning.\n",
      "  merged_df_race_dict = dict(merged_df.groupby(['race_group']).groups)\n",
      "Testing weights for abd_exp_01:  95%|█████████▌| 96/101 [00:38<00:01,  2.53it/s]<ipython-input-6-d61cf6b7d348>:36: FutureWarning: The default of observed=False is deprecated and will be changed to True in a future version of pandas. Pass observed=False to retain current behavior or observed=True to adopt the future default and silence this warning.\n",
      "  merged_df_race_dict = dict(merged_df.groupby(['race_group']).groups)\n",
      "Testing weights for abd_exp_01:  96%|█████████▌| 97/101 [00:38<00:01,  2.54it/s]<ipython-input-6-d61cf6b7d348>:36: FutureWarning: The default of observed=False is deprecated and will be changed to True in a future version of pandas. Pass observed=False to retain current behavior or observed=True to adopt the future default and silence this warning.\n",
      "  merged_df_race_dict = dict(merged_df.groupby(['race_group']).groups)\n",
      "Testing weights for abd_exp_01:  97%|█████████▋| 98/101 [00:39<00:01,  2.52it/s]<ipython-input-6-d61cf6b7d348>:36: FutureWarning: The default of observed=False is deprecated and will be changed to True in a future version of pandas. Pass observed=False to retain current behavior or observed=True to adopt the future default and silence this warning.\n",
      "  merged_df_race_dict = dict(merged_df.groupby(['race_group']).groups)\n",
      "Testing weights for abd_exp_01:  98%|█████████▊| 99/101 [00:39<00:00,  2.52it/s]<ipython-input-6-d61cf6b7d348>:36: FutureWarning: The default of observed=False is deprecated and will be changed to True in a future version of pandas. Pass observed=False to retain current behavior or observed=True to adopt the future default and silence this warning.\n",
      "  merged_df_race_dict = dict(merged_df.groupby(['race_group']).groups)\n",
      "Testing weights for abd_exp_01:  99%|█████████▉| 100/101 [00:39<00:00,  2.53it/s]<ipython-input-6-d61cf6b7d348>:36: FutureWarning: The default of observed=False is deprecated and will be changed to True in a future version of pandas. Pass observed=False to retain current behavior or observed=True to adopt the future default and silence this warning.\n",
      "  merged_df_race_dict = dict(merged_df.groupby(['race_group']).groups)\n",
      "Testing weights for abd_exp_01: 100%|██████████| 101/101 [00:40<00:00,  2.51it/s]\n"
     ]
    },
    {
     "name": "stdout",
     "output_type": "stream",
     "text": [
      "here -> /kaggle/input/catboost-exp-04\n"
     ]
    },
    {
     "name": "stderr",
     "output_type": "stream",
     "text": [
      "Testing weights for catboost_exp_04: 100%|██████████| 101/101 [00:39<00:00,  2.53it/s]\n"
     ]
    },
    {
     "name": "stdout",
     "output_type": "stream",
     "text": [
      "here -> /kaggle/input/lgbm-exp-04\n"
     ]
    },
    {
     "name": "stderr",
     "output_type": "stream",
     "text": [
      "Testing weights for lgbm_exp_04: 100%|██████████| 101/101 [00:39<00:00,  2.53it/s]\n"
     ]
    },
    {
     "name": "stdout",
     "output_type": "stream",
     "text": [
      "here -> /kaggle/input/tabm-exp-03\n"
     ]
    },
    {
     "name": "stderr",
     "output_type": "stream",
     "text": [
      "Testing weights for tabm_exp_03: 100%|██████████| 101/101 [00:40<00:00,  2.51it/s]\n"
     ]
    },
    {
     "name": "stdout",
     "output_type": "stream",
     "text": [
      "Iteration 9: Added /kaggle/input/abd-exp-01 with weight 0.0400, Score: 0.6858\n",
      "9th iteration\n",
      "here -> /kaggle/input/xgboost-exp-01\n"
     ]
    },
    {
     "name": "stderr",
     "output_type": "stream",
     "text": [
      "Testing weights for xgboost_exp_01: 100%|██████████| 101/101 [00:39<00:00,  2.53it/s]\n"
     ]
    },
    {
     "name": "stdout",
     "output_type": "stream",
     "text": [
      "here -> /kaggle/input/lgbm-exp-01\n"
     ]
    },
    {
     "name": "stderr",
     "output_type": "stream",
     "text": [
      "Testing weights for lgbm_exp_01: 100%|██████████| 101/101 [00:39<00:00,  2.55it/s]\n"
     ]
    },
    {
     "name": "stdout",
     "output_type": "stream",
     "text": [
      "here -> /kaggle/input/xgboost-exp-02\n"
     ]
    },
    {
     "name": "stderr",
     "output_type": "stream",
     "text": [
      "Testing weights for xgboost_exp_02: 100%|██████████| 101/101 [00:40<00:00,  2.52it/s]\n"
     ]
    },
    {
     "name": "stdout",
     "output_type": "stream",
     "text": [
      "here -> /kaggle/input/catboost-exp-02\n"
     ]
    },
    {
     "name": "stderr",
     "output_type": "stream",
     "text": [
      "Testing weights for catboost_exp_02: 100%|██████████| 101/101 [00:39<00:00,  2.53it/s]\n"
     ]
    },
    {
     "name": "stdout",
     "output_type": "stream",
     "text": [
      "here -> /kaggle/input/catboost-exp-03\n"
     ]
    },
    {
     "name": "stderr",
     "output_type": "stream",
     "text": [
      "Testing weights for catboost_exp_03: 100%|██████████| 101/101 [00:40<00:00,  2.52it/s]\n"
     ]
    },
    {
     "name": "stdout",
     "output_type": "stream",
     "text": [
      "here -> /kaggle/input/tabm-exp-01\n"
     ]
    },
    {
     "name": "stderr",
     "output_type": "stream",
     "text": [
      "Testing weights for tabm_exp_01: 100%|██████████| 101/101 [00:40<00:00,  2.50it/s]\n"
     ]
    },
    {
     "name": "stdout",
     "output_type": "stream",
     "text": [
      "here -> /kaggle/input/nn-exp-01\n"
     ]
    },
    {
     "name": "stderr",
     "output_type": "stream",
     "text": [
      "Testing weights for nn_exp_01: 100%|██████████| 101/101 [00:40<00:00,  2.51it/s]\n"
     ]
    },
    {
     "name": "stdout",
     "output_type": "stream",
     "text": [
      "here -> /kaggle/input/tf-exp-01\n"
     ]
    },
    {
     "name": "stderr",
     "output_type": "stream",
     "text": [
      "Testing weights for tf_exp_01: 100%|██████████| 101/101 [00:40<00:00,  2.52it/s]\n"
     ]
    },
    {
     "name": "stdout",
     "output_type": "stream",
     "text": [
      "here -> /kaggle/input/svr-exp-01\n"
     ]
    },
    {
     "name": "stderr",
     "output_type": "stream",
     "text": [
      "Testing weights for svr_exp_01: 100%|██████████| 101/101 [00:39<00:00,  2.54it/s]\n"
     ]
    },
    {
     "name": "stdout",
     "output_type": "stream",
     "text": [
      "here -> /kaggle/input/catboost-exp-04\n"
     ]
    },
    {
     "name": "stderr",
     "output_type": "stream",
     "text": [
      "Testing weights for catboost_exp_04: 100%|██████████| 101/101 [00:39<00:00,  2.53it/s]\n"
     ]
    },
    {
     "name": "stdout",
     "output_type": "stream",
     "text": [
      "here -> /kaggle/input/lgbm-exp-04\n"
     ]
    },
    {
     "name": "stderr",
     "output_type": "stream",
     "text": [
      "Testing weights for lgbm_exp_04: 100%|██████████| 101/101 [00:39<00:00,  2.53it/s]\n"
     ]
    },
    {
     "name": "stdout",
     "output_type": "stream",
     "text": [
      "here -> /kaggle/input/tabm-exp-03\n"
     ]
    },
    {
     "name": "stderr",
     "output_type": "stream",
     "text": [
      "Testing weights for tabm_exp_03: 100%|██████████| 101/101 [00:40<00:00,  2.52it/s]\n"
     ]
    },
    {
     "name": "stdout",
     "output_type": "stream",
     "text": [
      "Iteration 10: Added /kaggle/input/catboost-exp-03 with weight -0.0400, Score: 0.6858\n",
      "10th iteration\n",
      "here -> /kaggle/input/xgboost-exp-01\n"
     ]
    },
    {
     "name": "stderr",
     "output_type": "stream",
     "text": [
      "Testing weights for xgboost_exp_01: 100%|██████████| 101/101 [00:40<00:00,  2.49it/s]\n"
     ]
    },
    {
     "name": "stdout",
     "output_type": "stream",
     "text": [
      "here -> /kaggle/input/lgbm-exp-01\n"
     ]
    },
    {
     "name": "stderr",
     "output_type": "stream",
     "text": [
      "Testing weights for lgbm_exp_01: 100%|██████████| 101/101 [00:40<00:00,  2.52it/s]\n"
     ]
    },
    {
     "name": "stdout",
     "output_type": "stream",
     "text": [
      "here -> /kaggle/input/xgboost-exp-02\n"
     ]
    },
    {
     "name": "stderr",
     "output_type": "stream",
     "text": [
      "Testing weights for xgboost_exp_02: 100%|██████████| 101/101 [00:39<00:00,  2.53it/s]\n"
     ]
    },
    {
     "name": "stdout",
     "output_type": "stream",
     "text": [
      "here -> /kaggle/input/catboost-exp-02\n"
     ]
    },
    {
     "name": "stderr",
     "output_type": "stream",
     "text": [
      "Testing weights for catboost_exp_02: 100%|██████████| 101/101 [00:39<00:00,  2.53it/s]\n"
     ]
    },
    {
     "name": "stdout",
     "output_type": "stream",
     "text": [
      "here -> /kaggle/input/tabm-exp-01\n"
     ]
    },
    {
     "name": "stderr",
     "output_type": "stream",
     "text": [
      "Testing weights for tabm_exp_01: 100%|██████████| 101/101 [00:41<00:00,  2.44it/s]\n"
     ]
    },
    {
     "name": "stdout",
     "output_type": "stream",
     "text": [
      "here -> /kaggle/input/nn-exp-01\n"
     ]
    },
    {
     "name": "stderr",
     "output_type": "stream",
     "text": [
      "Testing weights for nn_exp_01: 100%|██████████| 101/101 [00:40<00:00,  2.48it/s]\n"
     ]
    },
    {
     "name": "stdout",
     "output_type": "stream",
     "text": [
      "here -> /kaggle/input/tf-exp-01\n"
     ]
    },
    {
     "name": "stderr",
     "output_type": "stream",
     "text": [
      "Testing weights for tf_exp_01: 100%|██████████| 101/101 [00:40<00:00,  2.48it/s]\n"
     ]
    },
    {
     "name": "stdout",
     "output_type": "stream",
     "text": [
      "here -> /kaggle/input/svr-exp-01\n"
     ]
    },
    {
     "name": "stderr",
     "output_type": "stream",
     "text": [
      "Testing weights for svr_exp_01: 100%|██████████| 101/101 [00:40<00:00,  2.51it/s]\n"
     ]
    },
    {
     "name": "stdout",
     "output_type": "stream",
     "text": [
      "here -> /kaggle/input/catboost-exp-04\n"
     ]
    },
    {
     "name": "stderr",
     "output_type": "stream",
     "text": [
      "Testing weights for catboost_exp_04: 100%|██████████| 101/101 [00:39<00:00,  2.54it/s]\n"
     ]
    },
    {
     "name": "stdout",
     "output_type": "stream",
     "text": [
      "here -> /kaggle/input/lgbm-exp-04\n"
     ]
    },
    {
     "name": "stderr",
     "output_type": "stream",
     "text": [
      "Testing weights for lgbm_exp_04: 100%|██████████| 101/101 [00:39<00:00,  2.55it/s]\n"
     ]
    },
    {
     "name": "stdout",
     "output_type": "stream",
     "text": [
      "here -> /kaggle/input/tabm-exp-03\n"
     ]
    },
    {
     "name": "stderr",
     "output_type": "stream",
     "text": [
      "Testing weights for tabm_exp_03: 100%|██████████| 101/101 [00:40<00:00,  2.51it/s]\n"
     ]
    },
    {
     "name": "stdout",
     "output_type": "stream",
     "text": [
      "Iteration 11: Added /kaggle/input/tf-exp-01 with weight 0.0300, Score: 0.6858\n",
      "11th iteration\n",
      "here -> /kaggle/input/xgboost-exp-01\n"
     ]
    },
    {
     "name": "stderr",
     "output_type": "stream",
     "text": [
      "Testing weights for xgboost_exp_01: 100%|██████████| 101/101 [00:40<00:00,  2.48it/s]\n"
     ]
    },
    {
     "name": "stdout",
     "output_type": "stream",
     "text": [
      "here -> /kaggle/input/lgbm-exp-01\n"
     ]
    },
    {
     "name": "stderr",
     "output_type": "stream",
     "text": [
      "Testing weights for lgbm_exp_01: 100%|██████████| 101/101 [00:40<00:00,  2.50it/s]\n"
     ]
    },
    {
     "name": "stdout",
     "output_type": "stream",
     "text": [
      "here -> /kaggle/input/xgboost-exp-02\n"
     ]
    },
    {
     "name": "stderr",
     "output_type": "stream",
     "text": [
      "Testing weights for xgboost_exp_02: 100%|██████████| 101/101 [00:40<00:00,  2.51it/s]\n"
     ]
    },
    {
     "name": "stdout",
     "output_type": "stream",
     "text": [
      "here -> /kaggle/input/catboost-exp-02\n"
     ]
    },
    {
     "name": "stderr",
     "output_type": "stream",
     "text": [
      "Testing weights for catboost_exp_02: 100%|██████████| 101/101 [00:39<00:00,  2.53it/s]\n"
     ]
    },
    {
     "name": "stdout",
     "output_type": "stream",
     "text": [
      "here -> /kaggle/input/tabm-exp-01\n"
     ]
    },
    {
     "name": "stderr",
     "output_type": "stream",
     "text": [
      "Testing weights for tabm_exp_01: 100%|██████████| 101/101 [00:40<00:00,  2.49it/s]\n"
     ]
    },
    {
     "name": "stdout",
     "output_type": "stream",
     "text": [
      "here -> /kaggle/input/nn-exp-01\n"
     ]
    },
    {
     "name": "stderr",
     "output_type": "stream",
     "text": [
      "Testing weights for nn_exp_01: 100%|██████████| 101/101 [00:40<00:00,  2.51it/s]\n"
     ]
    },
    {
     "name": "stdout",
     "output_type": "stream",
     "text": [
      "here -> /kaggle/input/svr-exp-01\n"
     ]
    },
    {
     "name": "stderr",
     "output_type": "stream",
     "text": [
      "Testing weights for svr_exp_01: 100%|██████████| 101/101 [00:40<00:00,  2.50it/s]\n"
     ]
    },
    {
     "name": "stdout",
     "output_type": "stream",
     "text": [
      "here -> /kaggle/input/catboost-exp-04\n"
     ]
    },
    {
     "name": "stderr",
     "output_type": "stream",
     "text": [
      "Testing weights for catboost_exp_04: 100%|██████████| 101/101 [00:40<00:00,  2.52it/s]\n"
     ]
    },
    {
     "name": "stdout",
     "output_type": "stream",
     "text": [
      "here -> /kaggle/input/lgbm-exp-04\n"
     ]
    },
    {
     "name": "stderr",
     "output_type": "stream",
     "text": [
      "Testing weights for lgbm_exp_04: 100%|██████████| 101/101 [00:40<00:00,  2.52it/s]\n"
     ]
    },
    {
     "name": "stdout",
     "output_type": "stream",
     "text": [
      "here -> /kaggle/input/tabm-exp-03\n"
     ]
    },
    {
     "name": "stderr",
     "output_type": "stream",
     "text": [
      "Testing weights for tabm_exp_03: 100%|██████████| 101/101 [00:40<00:00,  2.50it/s]\n"
     ]
    },
    {
     "name": "stdout",
     "output_type": "stream",
     "text": [
      "Iteration 12: Added /kaggle/input/catboost-exp-02 with weight 0.0600, Score: 0.6859\n",
      "12th iteration\n",
      "here -> /kaggle/input/xgboost-exp-01\n"
     ]
    },
    {
     "name": "stderr",
     "output_type": "stream",
     "text": [
      "Testing weights for xgboost_exp_01: 100%|██████████| 101/101 [00:40<00:00,  2.47it/s]\n"
     ]
    },
    {
     "name": "stdout",
     "output_type": "stream",
     "text": [
      "here -> /kaggle/input/lgbm-exp-01\n"
     ]
    },
    {
     "name": "stderr",
     "output_type": "stream",
     "text": [
      "Testing weights for lgbm_exp_01: 100%|██████████| 101/101 [00:39<00:00,  2.53it/s]\n"
     ]
    },
    {
     "name": "stdout",
     "output_type": "stream",
     "text": [
      "here -> /kaggle/input/xgboost-exp-02\n"
     ]
    },
    {
     "name": "stderr",
     "output_type": "stream",
     "text": [
      "Testing weights for xgboost_exp_02: 100%|██████████| 101/101 [00:39<00:00,  2.53it/s]\n"
     ]
    },
    {
     "name": "stdout",
     "output_type": "stream",
     "text": [
      "here -> /kaggle/input/tabm-exp-01\n"
     ]
    },
    {
     "name": "stderr",
     "output_type": "stream",
     "text": [
      "Testing weights for tabm_exp_01: 100%|██████████| 101/101 [00:40<00:00,  2.52it/s]\n"
     ]
    },
    {
     "name": "stdout",
     "output_type": "stream",
     "text": [
      "here -> /kaggle/input/nn-exp-01\n"
     ]
    },
    {
     "name": "stderr",
     "output_type": "stream",
     "text": [
      "Testing weights for nn_exp_01: 100%|██████████| 101/101 [00:40<00:00,  2.52it/s]\n"
     ]
    },
    {
     "name": "stdout",
     "output_type": "stream",
     "text": [
      "here -> /kaggle/input/svr-exp-01\n"
     ]
    },
    {
     "name": "stderr",
     "output_type": "stream",
     "text": [
      "Testing weights for svr_exp_01: 100%|██████████| 101/101 [00:40<00:00,  2.52it/s]\n"
     ]
    },
    {
     "name": "stdout",
     "output_type": "stream",
     "text": [
      "here -> /kaggle/input/catboost-exp-04\n"
     ]
    },
    {
     "name": "stderr",
     "output_type": "stream",
     "text": [
      "Testing weights for catboost_exp_04: 100%|██████████| 101/101 [00:40<00:00,  2.52it/s]\n"
     ]
    },
    {
     "name": "stdout",
     "output_type": "stream",
     "text": [
      "here -> /kaggle/input/lgbm-exp-04\n"
     ]
    },
    {
     "name": "stderr",
     "output_type": "stream",
     "text": [
      "Testing weights for lgbm_exp_04: 100%|██████████| 101/101 [00:39<00:00,  2.53it/s]\n"
     ]
    },
    {
     "name": "stdout",
     "output_type": "stream",
     "text": [
      "here -> /kaggle/input/tabm-exp-03\n"
     ]
    },
    {
     "name": "stderr",
     "output_type": "stream",
     "text": [
      "Testing weights for tabm_exp_03: 100%|██████████| 101/101 [00:40<00:00,  2.51it/s]\n"
     ]
    },
    {
     "name": "stdout",
     "output_type": "stream",
     "text": [
      "Iteration 13: Added /kaggle/input/xgboost-exp-02 with weight -0.0600, Score: 0.6859\n",
      "13th iteration\n",
      "here -> /kaggle/input/xgboost-exp-01\n"
     ]
    },
    {
     "name": "stderr",
     "output_type": "stream",
     "text": [
      "Testing weights for xgboost_exp_01: 100%|██████████| 101/101 [00:39<00:00,  2.54it/s]\n"
     ]
    },
    {
     "name": "stdout",
     "output_type": "stream",
     "text": [
      "here -> /kaggle/input/lgbm-exp-01\n"
     ]
    },
    {
     "name": "stderr",
     "output_type": "stream",
     "text": [
      "Testing weights for lgbm_exp_01: 100%|██████████| 101/101 [00:39<00:00,  2.53it/s]\n"
     ]
    },
    {
     "name": "stdout",
     "output_type": "stream",
     "text": [
      "here -> /kaggle/input/tabm-exp-01\n"
     ]
    },
    {
     "name": "stderr",
     "output_type": "stream",
     "text": [
      "Testing weights for tabm_exp_01: 100%|██████████| 101/101 [00:40<00:00,  2.51it/s]\n"
     ]
    },
    {
     "name": "stdout",
     "output_type": "stream",
     "text": [
      "here -> /kaggle/input/nn-exp-01\n"
     ]
    },
    {
     "name": "stderr",
     "output_type": "stream",
     "text": [
      "Testing weights for nn_exp_01: 100%|██████████| 101/101 [00:39<00:00,  2.53it/s]\n"
     ]
    },
    {
     "name": "stdout",
     "output_type": "stream",
     "text": [
      "here -> /kaggle/input/svr-exp-01\n"
     ]
    },
    {
     "name": "stderr",
     "output_type": "stream",
     "text": [
      "Testing weights for svr_exp_01: 100%|██████████| 101/101 [00:39<00:00,  2.53it/s]\n"
     ]
    },
    {
     "name": "stdout",
     "output_type": "stream",
     "text": [
      "here -> /kaggle/input/catboost-exp-04\n"
     ]
    },
    {
     "name": "stderr",
     "output_type": "stream",
     "text": [
      "Testing weights for catboost_exp_04: 100%|██████████| 101/101 [00:39<00:00,  2.54it/s]\n"
     ]
    },
    {
     "name": "stdout",
     "output_type": "stream",
     "text": [
      "here -> /kaggle/input/lgbm-exp-04\n"
     ]
    },
    {
     "name": "stderr",
     "output_type": "stream",
     "text": [
      "Testing weights for lgbm_exp_04: 100%|██████████| 101/101 [00:39<00:00,  2.55it/s]\n"
     ]
    },
    {
     "name": "stdout",
     "output_type": "stream",
     "text": [
      "here -> /kaggle/input/tabm-exp-03\n"
     ]
    },
    {
     "name": "stderr",
     "output_type": "stream",
     "text": [
      "Testing weights for tabm_exp_03: 100%|██████████| 101/101 [00:40<00:00,  2.52it/s]\n"
     ]
    },
    {
     "name": "stdout",
     "output_type": "stream",
     "text": [
      "Iteration 14: Added /kaggle/input/svr-exp-01 with weight -0.0200, Score: 0.6859\n",
      "14th iteration\n",
      "here -> /kaggle/input/xgboost-exp-01\n"
     ]
    },
    {
     "name": "stderr",
     "output_type": "stream",
     "text": [
      "Testing weights for xgboost_exp_01: 100%|██████████| 101/101 [00:39<00:00,  2.53it/s]\n"
     ]
    },
    {
     "name": "stdout",
     "output_type": "stream",
     "text": [
      "here -> /kaggle/input/lgbm-exp-01\n"
     ]
    },
    {
     "name": "stderr",
     "output_type": "stream",
     "text": [
      "Testing weights for lgbm_exp_01: 100%|██████████| 101/101 [00:39<00:00,  2.53it/s]\n"
     ]
    },
    {
     "name": "stdout",
     "output_type": "stream",
     "text": [
      "here -> /kaggle/input/tabm-exp-01\n"
     ]
    },
    {
     "name": "stderr",
     "output_type": "stream",
     "text": [
      "Testing weights for tabm_exp_01: 100%|██████████| 101/101 [00:41<00:00,  2.46it/s]\n"
     ]
    },
    {
     "name": "stdout",
     "output_type": "stream",
     "text": [
      "here -> /kaggle/input/nn-exp-01\n"
     ]
    },
    {
     "name": "stderr",
     "output_type": "stream",
     "text": [
      "Testing weights for nn_exp_01: 100%|██████████| 101/101 [00:40<00:00,  2.51it/s]\n"
     ]
    },
    {
     "name": "stdout",
     "output_type": "stream",
     "text": [
      "here -> /kaggle/input/catboost-exp-04\n"
     ]
    },
    {
     "name": "stderr",
     "output_type": "stream",
     "text": [
      "Testing weights for catboost_exp_04: 100%|██████████| 101/101 [00:40<00:00,  2.51it/s]\n"
     ]
    },
    {
     "name": "stdout",
     "output_type": "stream",
     "text": [
      "here -> /kaggle/input/lgbm-exp-04\n"
     ]
    },
    {
     "name": "stderr",
     "output_type": "stream",
     "text": [
      "Testing weights for lgbm_exp_04: 100%|██████████| 101/101 [00:39<00:00,  2.54it/s]\n"
     ]
    },
    {
     "name": "stdout",
     "output_type": "stream",
     "text": [
      "here -> /kaggle/input/tabm-exp-03\n"
     ]
    },
    {
     "name": "stderr",
     "output_type": "stream",
     "text": [
      "Testing weights for tabm_exp_03: 100%|██████████| 101/101 [00:40<00:00,  2.52it/s]\n"
     ]
    },
    {
     "name": "stdout",
     "output_type": "stream",
     "text": [
      "Iteration 15: Added /kaggle/input/tabm-exp-01 with weight 0.0300, Score: 0.6859\n",
      "15th iteration\n",
      "here -> /kaggle/input/xgboost-exp-01\n"
     ]
    },
    {
     "name": "stderr",
     "output_type": "stream",
     "text": [
      "Testing weights for xgboost_exp_01: 100%|██████████| 101/101 [00:40<00:00,  2.52it/s]\n"
     ]
    },
    {
     "name": "stdout",
     "output_type": "stream",
     "text": [
      "here -> /kaggle/input/lgbm-exp-01\n"
     ]
    },
    {
     "name": "stderr",
     "output_type": "stream",
     "text": [
      "Testing weights for lgbm_exp_01: 100%|██████████| 101/101 [00:40<00:00,  2.52it/s]\n"
     ]
    },
    {
     "name": "stdout",
     "output_type": "stream",
     "text": [
      "here -> /kaggle/input/nn-exp-01\n"
     ]
    },
    {
     "name": "stderr",
     "output_type": "stream",
     "text": [
      "Testing weights for nn_exp_01: 100%|██████████| 101/101 [00:39<00:00,  2.54it/s]\n"
     ]
    },
    {
     "name": "stdout",
     "output_type": "stream",
     "text": [
      "here -> /kaggle/input/catboost-exp-04\n"
     ]
    },
    {
     "name": "stderr",
     "output_type": "stream",
     "text": [
      "Testing weights for catboost_exp_04: 100%|██████████| 101/101 [00:39<00:00,  2.53it/s]\n"
     ]
    },
    {
     "name": "stdout",
     "output_type": "stream",
     "text": [
      "here -> /kaggle/input/lgbm-exp-04\n"
     ]
    },
    {
     "name": "stderr",
     "output_type": "stream",
     "text": [
      "Testing weights for lgbm_exp_04: 100%|██████████| 101/101 [00:39<00:00,  2.53it/s]\n"
     ]
    },
    {
     "name": "stdout",
     "output_type": "stream",
     "text": [
      "here -> /kaggle/input/tabm-exp-03\n"
     ]
    },
    {
     "name": "stderr",
     "output_type": "stream",
     "text": [
      "Testing weights for tabm_exp_03: 100%|██████████| 101/101 [00:40<00:00,  2.50it/s]\n"
     ]
    },
    {
     "name": "stdout",
     "output_type": "stream",
     "text": [
      "Iteration 16: Added /kaggle/input/lgbm-exp-01 with weight -0.0200, Score: 0.6859\n",
      "16th iteration\n",
      "here -> /kaggle/input/xgboost-exp-01\n"
     ]
    },
    {
     "name": "stderr",
     "output_type": "stream",
     "text": [
      "Testing weights for xgboost_exp_01: 100%|██████████| 101/101 [00:40<00:00,  2.52it/s]\n"
     ]
    },
    {
     "name": "stdout",
     "output_type": "stream",
     "text": [
      "here -> /kaggle/input/nn-exp-01\n"
     ]
    },
    {
     "name": "stderr",
     "output_type": "stream",
     "text": [
      "Testing weights for nn_exp_01: 100%|██████████| 101/101 [00:40<00:00,  2.52it/s]\n"
     ]
    },
    {
     "name": "stdout",
     "output_type": "stream",
     "text": [
      "here -> /kaggle/input/catboost-exp-04\n"
     ]
    },
    {
     "name": "stderr",
     "output_type": "stream",
     "text": [
      "Testing weights for catboost_exp_04: 100%|██████████| 101/101 [00:39<00:00,  2.54it/s]\n"
     ]
    },
    {
     "name": "stdout",
     "output_type": "stream",
     "text": [
      "here -> /kaggle/input/lgbm-exp-04\n"
     ]
    },
    {
     "name": "stderr",
     "output_type": "stream",
     "text": [
      "Testing weights for lgbm_exp_04: 100%|██████████| 101/101 [00:39<00:00,  2.53it/s]\n"
     ]
    },
    {
     "name": "stdout",
     "output_type": "stream",
     "text": [
      "here -> /kaggle/input/tabm-exp-03\n"
     ]
    },
    {
     "name": "stderr",
     "output_type": "stream",
     "text": [
      "Testing weights for tabm_exp_03: 100%|██████████| 101/101 [00:40<00:00,  2.51it/s]\n"
     ]
    },
    {
     "name": "stdout",
     "output_type": "stream",
     "text": [
      "Iteration 17: Added /kaggle/input/nn-exp-01 with weight -0.0100, Score: 0.6859\n",
      "17th iteration\n",
      "here -> /kaggle/input/xgboost-exp-01\n"
     ]
    },
    {
     "name": "stderr",
     "output_type": "stream",
     "text": [
      "Testing weights for xgboost_exp_01: 100%|██████████| 101/101 [00:40<00:00,  2.52it/s]\n"
     ]
    },
    {
     "name": "stdout",
     "output_type": "stream",
     "text": [
      "here -> /kaggle/input/catboost-exp-04\n"
     ]
    },
    {
     "name": "stderr",
     "output_type": "stream",
     "text": [
      "Testing weights for catboost_exp_04: 100%|██████████| 101/101 [00:40<00:00,  2.51it/s]\n"
     ]
    },
    {
     "name": "stdout",
     "output_type": "stream",
     "text": [
      "here -> /kaggle/input/lgbm-exp-04\n"
     ]
    },
    {
     "name": "stderr",
     "output_type": "stream",
     "text": [
      "Testing weights for lgbm_exp_04: 100%|██████████| 101/101 [00:39<00:00,  2.55it/s]\n"
     ]
    },
    {
     "name": "stdout",
     "output_type": "stream",
     "text": [
      "here -> /kaggle/input/tabm-exp-03\n"
     ]
    },
    {
     "name": "stderr",
     "output_type": "stream",
     "text": [
      "Testing weights for tabm_exp_03: 100%|██████████| 101/101 [00:40<00:00,  2.52it/s]\n"
     ]
    },
    {
     "name": "stdout",
     "output_type": "stream",
     "text": [
      "Iteration 18: Added /kaggle/input/xgboost-exp-01 with weight 0.0500, Score: 0.6859\n",
      "18th iteration\n",
      "here -> /kaggle/input/catboost-exp-04\n"
     ]
    },
    {
     "name": "stderr",
     "output_type": "stream",
     "text": [
      "Testing weights for catboost_exp_04: 100%|██████████| 101/101 [00:39<00:00,  2.54it/s]\n"
     ]
    },
    {
     "name": "stdout",
     "output_type": "stream",
     "text": [
      "here -> /kaggle/input/lgbm-exp-04\n"
     ]
    },
    {
     "name": "stderr",
     "output_type": "stream",
     "text": [
      "Testing weights for lgbm_exp_04: 100%|██████████| 101/101 [00:39<00:00,  2.53it/s]\n"
     ]
    },
    {
     "name": "stdout",
     "output_type": "stream",
     "text": [
      "here -> /kaggle/input/tabm-exp-03\n"
     ]
    },
    {
     "name": "stderr",
     "output_type": "stream",
     "text": [
      "Testing weights for tabm_exp_03: 100%|██████████| 101/101 [00:40<00:00,  2.51it/s]\n"
     ]
    },
    {
     "name": "stdout",
     "output_type": "stream",
     "text": [
      "Iteration 19: Added /kaggle/input/tabm-exp-03 with weight 0.0000, Score: 0.6859\n",
      "19th iteration\n",
      "here -> /kaggle/input/catboost-exp-04\n"
     ]
    },
    {
     "name": "stderr",
     "output_type": "stream",
     "text": [
      "Testing weights for catboost_exp_04: 100%|██████████| 101/101 [00:40<00:00,  2.50it/s]\n"
     ]
    },
    {
     "name": "stdout",
     "output_type": "stream",
     "text": [
      "here -> /kaggle/input/lgbm-exp-04\n"
     ]
    },
    {
     "name": "stderr",
     "output_type": "stream",
     "text": [
      "Testing weights for lgbm_exp_04: 100%|██████████| 101/101 [00:39<00:00,  2.53it/s]\n"
     ]
    },
    {
     "name": "stdout",
     "output_type": "stream",
     "text": [
      "Iteration 20: Added /kaggle/input/lgbm-exp-04 with weight 0.0000, Score: 0.6859\n",
      "20th iteration\n",
      "here -> /kaggle/input/catboost-exp-04\n"
     ]
    },
    {
     "name": "stderr",
     "output_type": "stream",
     "text": [
      "Testing weights for catboost_exp_04: 100%|██████████| 101/101 [00:39<00:00,  2.53it/s]\n"
     ]
    },
    {
     "name": "stdout",
     "output_type": "stream",
     "text": [
      "No improvement found, stopping\n",
      "{'index': -1, 'weight': 0, 'score': 0.685937619547016}\n",
      "CPU times: user 3h 35min 43s, sys: 17.3 s, total: 3h 36min 1s\n",
      "Wall time: 3h 35min 51s\n"
     ]
    }
   ],
   "source": [
    "%%time\n",
    "\n",
    "from tqdm import tqdm\n",
    "import pandas as pd\n",
    "import numpy as np\n",
    "from typing import List, Dict, Tuple\n",
    "import logging\n",
    "import gc\n",
    "\n",
    "def optimize_ensemble(experiments, initial_ensemble, weights_range, score_function, max_iterations = 100):\n",
    "    \n",
    "    # Initialize variables\n",
    "    iteration  = 0\n",
    "    best_score = score_function(\n",
    "        initial_ensemble[[\"ID\", \"efs\", \"efs_time\", \"race_group\"]].copy(),\n",
    "        initial_ensemble[[\"ID\", \"predictions\"]].copy(),\n",
    "        \"ID\"\n",
    "    )\n",
    "    \n",
    "    model_weights         = {}\n",
    "    remaining_experiments = experiments.copy()\n",
    "    best_ensemble         = initial_ensemble.copy()\n",
    "    \n",
    "    while remaining_experiments and iteration < max_iterations:\n",
    "        print(f\"{iteration}th iteration\")\n",
    "        iteration += 1\n",
    "        best_iteration = {\n",
    "            'index' : -1,\n",
    "            'weight': 0,\n",
    "            'score' : best_score\n",
    "        }\n",
    "        \n",
    "        # Try each remaining model\n",
    "        for model_path in remaining_experiments:\n",
    "            try:\n",
    "                #print(f\"Iteration {iteration}: Trying model {model_path}\")\n",
    "                \n",
    "                # Load model OOF predictions\n",
    "                model_name = model_path.split(\"/\")[-1].replace('-', '_')\n",
    "                print(f\"here -> {model_path}\")\n",
    "                if model_path in parquet_experiments:\n",
    "                    oof_path   = f\"{model_path}/{model_name}_oof.parquet\"\n",
    "                    model_oof  = pd.read_parquet(oof_path)\n",
    "                else:\n",
    "                    oof_path   = f\"{model_path}/{model_name}_oof.xlsx\"\n",
    "                    model_oof  = pd.read_excel(oof_path)\n",
    "                \n",
    "                # Try different weights\n",
    "                for weight in tqdm(weights_range, desc=f\"Testing weights for {model_name}\"):\n",
    "                    # Create potential ensemble\n",
    "                    potential_ensemble = pd.DataFrame({\n",
    "                        \"ID\": best_ensemble[\"ID\"],\n",
    "                        \"predictions\": (1 - weight) * rankdata(best_ensemble[\"predictions\"]) + \n",
    "                                     weight * rankdata(model_oof[\"predictions\"])\n",
    "                    })\n",
    "                    \n",
    "                    # Evaluate new ensemble\n",
    "                    new_score = score_function(\n",
    "                        model_oof[[\"ID\", \"efs\", \"efs_time\", \"race_group\"]].copy(),\n",
    "                        potential_ensemble.copy(),\n",
    "                        \"ID\"\n",
    "                    )\n",
    "                    \n",
    "                    # Update best if improved\n",
    "                    if new_score > best_iteration['score']:\n",
    "                        best_iteration.update({\n",
    "                            'index' : model_path,\n",
    "                            'weight': weight,\n",
    "                            'score' : new_score\n",
    "                        })\n",
    "                \n",
    "                # Clean up\n",
    "                del model_oof\n",
    "                gc.collect()\n",
    "                \n",
    "            except Exception as e:\n",
    "                print(f\"Error processing {model_path}: {str(e)}\")\n",
    "                continue\n",
    "        \n",
    "        # Check if we found an improvement\n",
    "        if best_iteration['index'] == -1:\n",
    "            print(\"No improvement found, stopping\")\n",
    "            print(best_iteration)\n",
    "            break\n",
    "            \n",
    "        # Update ensemble with best model found\n",
    "        best_score                             = best_iteration['score']\n",
    "        model_weights[best_iteration['index']] = best_iteration['weight']\n",
    "        remaining_experiments.remove(best_iteration['index'])\n",
    "        \n",
    "        print(\n",
    "            f\"Iteration {iteration}: Added {best_iteration['index']} \"\n",
    "            f\"with weight {best_iteration['weight']:.4f}, \"\n",
    "            f\"Score: {best_iteration['score']:.4f}\"\n",
    "        )\n",
    "        \n",
    "        # Update best ensemble for next iteration\n",
    "        if best_iteration['index'] in parquet_experiments:\n",
    "            model_oof = pd.read_parquet(\n",
    "            f\"{best_iteration['index']}/{best_iteration['index'].split('/')[-1].replace('-', '_')}_oof.parquet\"\n",
    "            )\n",
    "        else:\n",
    "            model_oof = pd.read_excel(\n",
    "            f\"{best_iteration['index']}/{best_iteration['index'].split('/')[-1].replace('-', '_')}_oof.xlsx\"\n",
    "            )\n",
    "                    \n",
    "        \n",
    "        best_ensemble[\"predictions\"] = (\n",
    "            (1 - best_iteration['weight']) * rankdata(best_ensemble[\"predictions\"]) + \n",
    "            best_iteration['weight'] * rankdata(model_oof[\"predictions\"])\n",
    "        )\n",
    "        \n",
    "    return model_weights, best_score\n",
    "\n",
    "\n",
    "model_weights, best_score = optimize_ensemble(experiments, best_ensemble, ww, score)"
   ]
  },
  {
   "cell_type": "code",
   "execution_count": 17,
   "id": "19a5b689",
   "metadata": {
    "execution": {
     "iopub.execute_input": "2025-02-02T16:53:17.688746Z",
     "iopub.status.busy": "2025-02-02T16:53:17.688386Z",
     "iopub.status.idle": "2025-02-02T16:53:17.695385Z",
     "shell.execute_reply": "2025-02-02T16:53:17.694186Z"
    },
    "papermill": {
     "duration": 1.563527,
     "end_time": "2025-02-02T16:53:17.696993",
     "exception": false,
     "start_time": "2025-02-02T16:53:16.133466",
     "status": "completed"
    },
    "tags": []
   },
   "outputs": [
    {
     "data": {
      "text/plain": [
       "({'/kaggle/input/xgboost-exp-05': 0.47000000000000086,\n",
       "  '/kaggle/input/catboost-exp-01': 0.22000000000000064,\n",
       "  '/kaggle/input/ds-exp-01': 0.0700000000000005,\n",
       "  '/kaggle/input/tabm-exp-02': 0.09000000000000052,\n",
       "  '/kaggle/input/nn-exp-02': -0.06999999999999962,\n",
       "  '/kaggle/input/lgbm-exp-03': -0.06999999999999962,\n",
       "  '/kaggle/input/catboost-exp-05': 0.08000000000000052,\n",
       "  '/kaggle/input/tn-exp-01': -0.019999999999999574,\n",
       "  '/kaggle/input/abd-exp-01': 0.04000000000000048,\n",
       "  '/kaggle/input/catboost-exp-03': -0.03999999999999959,\n",
       "  '/kaggle/input/tf-exp-01': 0.03000000000000047,\n",
       "  '/kaggle/input/catboost-exp-02': 0.0600000000000005,\n",
       "  '/kaggle/input/xgboost-exp-02': -0.05999999999999961,\n",
       "  '/kaggle/input/svr-exp-01': -0.019999999999999574,\n",
       "  '/kaggle/input/tabm-exp-01': 0.03000000000000047,\n",
       "  '/kaggle/input/lgbm-exp-01': -0.019999999999999574,\n",
       "  '/kaggle/input/nn-exp-01': -0.009999999999999565,\n",
       "  '/kaggle/input/xgboost-exp-01': 0.05000000000000049,\n",
       "  '/kaggle/input/tabm-exp-03': 4.440892098500626e-16,\n",
       "  '/kaggle/input/lgbm-exp-04': 4.440892098500626e-16},\n",
       " 0.685937619547016)"
      ]
     },
     "execution_count": 17,
     "metadata": {},
     "output_type": "execute_result"
    }
   ],
   "source": [
    "model_weights, best_score"
   ]
  },
  {
   "cell_type": "code",
   "execution_count": 18,
   "id": "b8098289",
   "metadata": {
    "execution": {
     "iopub.execute_input": "2025-02-02T16:53:20.622068Z",
     "iopub.status.busy": "2025-02-02T16:53:20.621666Z",
     "iopub.status.idle": "2025-02-02T16:53:20.627736Z",
     "shell.execute_reply": "2025-02-02T16:53:20.626495Z"
    },
    "papermill": {
     "duration": 1.529608,
     "end_time": "2025-02-02T16:53:20.629527",
     "exception": false,
     "start_time": "2025-02-02T16:53:19.099919",
     "status": "completed"
    },
    "tags": []
   },
   "outputs": [
    {
     "data": {
      "text/plain": [
       "('/kaggle/input/nn-exp-04',\n",
       " ['/kaggle/input/xgboost-exp-01',\n",
       "  '/kaggle/input/catboost-exp-01',\n",
       "  '/kaggle/input/lgbm-exp-01',\n",
       "  '/kaggle/input/xgboost-exp-02',\n",
       "  '/kaggle/input/catboost-exp-02',\n",
       "  '/kaggle/input/lgbm-exp-03',\n",
       "  '/kaggle/input/catboost-exp-03',\n",
       "  '/kaggle/input/tabm-exp-01',\n",
       "  '/kaggle/input/nn-exp-01',\n",
       "  '/kaggle/input/tn-exp-01',\n",
       "  '/kaggle/input/tf-exp-01',\n",
       "  '/kaggle/input/svr-exp-01',\n",
       "  '/kaggle/input/abd-exp-01',\n",
       "  '/kaggle/input/catboost-exp-04',\n",
       "  '/kaggle/input/lgbm-exp-04',\n",
       "  '/kaggle/input/tabm-exp-02',\n",
       "  '/kaggle/input/ds-exp-01',\n",
       "  '/kaggle/input/nn-exp-02',\n",
       "  '/kaggle/input/tabm-exp-03',\n",
       "  '/kaggle/input/catboost-exp-05',\n",
       "  '/kaggle/input/xgboost-exp-05'])"
      ]
     },
     "execution_count": 18,
     "metadata": {},
     "output_type": "execute_result"
    }
   ],
   "source": [
    "first_best_index, experiments"
   ]
  },
  {
   "cell_type": "markdown",
   "id": "b85efdbc",
   "metadata": {
    "papermill": {
     "duration": 1.538732,
     "end_time": "2025-02-02T16:53:23.586335",
     "exception": false,
     "start_time": "2025-02-02T16:53:22.047603",
     "status": "completed"
    },
    "tags": []
   },
   "source": [
    "## Step 6: Inference on test"
   ]
  },
  {
   "cell_type": "code",
   "execution_count": 19,
   "id": "0da02782",
   "metadata": {
    "execution": {
     "iopub.execute_input": "2025-02-02T16:53:26.616070Z",
     "iopub.status.busy": "2025-02-02T16:53:26.615659Z",
     "iopub.status.idle": "2025-02-02T16:53:26.623192Z",
     "shell.execute_reply": "2025-02-02T16:53:26.621988Z"
    },
    "jupyter": {
     "source_hidden": true
    },
    "papermill": {
     "duration": 1.523333,
     "end_time": "2025-02-02T16:53:26.625108",
     "exception": false,
     "start_time": "2025-02-02T16:53:25.101775",
     "status": "completed"
    },
    "tags": []
   },
   "outputs": [],
   "source": [
    "# class CFG:\n",
    "#     folds = 10\n",
    "\n",
    "# # https://www.kaggle.com/datasets/jsday96/mcts-tabm-models/data?select=TabMRegressor.py\n",
    "# class TabMRegressor:\n",
    "#     def __init__(\n",
    "#         self,\n",
    "#         arch_type: str        = 'tabm-mini',\n",
    "#         backbone: dict        = {'type': 'MLP', 'n_blocks': 3, 'd_block': 512, 'dropout': 0.1},\n",
    "#         d_embedding: int      = 64,  # Only used for 'tabm-mini'\n",
    "#         bin_count: int        = 48,  # Only used for 'tabm-mini'\n",
    "#         k: int                = 32,\n",
    "#         learning_rate: float  = 1e-4,\n",
    "#         weight_decay: float   = 1e-3,\n",
    "#         clip_grad_norm: bool  = True,\n",
    "#         max_epochs: int       = 100,\n",
    "#         patience: int         = 15,\n",
    "#         batch_size: int       = 32,\n",
    "#         compile_model: bool   = False,\n",
    "#         device: Optional[str] = 'cuda:0',\n",
    "#         random_state: int     = 0,\n",
    "#         verbose: bool         = True\n",
    "#     ):\n",
    "#         self.arch_type = arch_type\n",
    "#         self.backbone = backbone\n",
    "#         self.d_embedding = d_embedding\n",
    "#         self.bin_count = bin_count\n",
    "#         self.k = k\n",
    "#         self.learning_rate = learning_rate\n",
    "#         self.weight_decay = weight_decay\n",
    "#         self.clip_grad_norm = clip_grad_norm\n",
    "#         self.max_epochs = max_epochs\n",
    "#         self.patience = patience\n",
    "#         self.batch_size = batch_size\n",
    "#         self.compile_model = compile_model\n",
    "#         self.device = torch.device(device if device else ('cuda' if torch.cuda.is_available() else 'cpu'))\n",
    "#         self.random_state = random_state\n",
    "#         self.verbose = verbose\n",
    "\n",
    "#     def fit(\n",
    "#         self,\n",
    "#         X: pd.DataFrame,\n",
    "#         y: np.array,\n",
    "#         eval_set: Tuple[pd.DataFrame, np.array]\n",
    "#     ):\n",
    "#         # PREPROCESS DATA.\n",
    "#         X_cat_train, X_cont_train, cat_cardinalities, y_train = self._preprocess_data(X, y, training=True)\n",
    "#         X_cat_val, X_cont_val, _, y_val = self._preprocess_data(eval_set[0], eval_set[1], training=False)\n",
    "\n",
    "#         # CREATE MODEL & TRAINING ALGO.\n",
    "#         bins = rtdl_num_embeddings.compute_bins(X_cont_train, n_bins=self.bin_count) if self.arch_type == 'tabm-mini' else None\n",
    "#         self.model = Model(\n",
    "#             n_num_features=X_cont_train.shape[1],\n",
    "#             cat_cardinalities=cat_cardinalities,\n",
    "#             n_classes=None,\n",
    "#             backbone=self.backbone,\n",
    "#             bins=bins,\n",
    "#             num_embeddings=(\n",
    "#                 None\n",
    "#                 if bins is None\n",
    "#                 else {\n",
    "#                     'type': 'PiecewiseLinearEmbeddings',\n",
    "#                     'd_embedding': self.d_embedding,\n",
    "#                     'activation': True,\n",
    "#                     'version': 'B',\n",
    "#                 }\n",
    "#             ),\n",
    "#             arch_type=self.arch_type,\n",
    "#             k=self.k,\n",
    "#         ).to(self.device)\n",
    "#         optimizer = torch.optim.AdamW(make_parameter_groups(self.model), lr=self.learning_rate, weight_decay=self.weight_decay)\n",
    "#         if self.compile_model:\n",
    "#             self.model = torch.compile(self.model)\n",
    "\n",
    "#         loss_fn = torch.nn.MSELoss().to(self.device)\n",
    "#         # TRAIN & TEST MODEL.\n",
    "#         best = {\n",
    "#             'epoch': -1,\n",
    "#             'eval_loss': math.inf,\n",
    "#             'model_state_dict': None,\n",
    "#         }\n",
    "#         remaining_patience = self.patience\n",
    "#         epoch_size = math.ceil(len(X) / self.batch_size)\n",
    "\n",
    "\n",
    "#         for epoch in range(self.max_epochs):\n",
    "#             # TRAIN.\n",
    "#             optimizer.zero_grad()\n",
    "#             train_losses = []\n",
    "#             progress_bar = torch.randperm(len(y_train), device=self.device).split(self.batch_size)\n",
    "#             progress_bar = tqdm(progress_bar, desc=f'Epoch {epoch}', total=epoch_size) if self.verbose else progress_bar\n",
    "#             for batch_idx in progress_bar:\n",
    "#                 self.model.train()\n",
    "\n",
    "#                 with torch.amp.autocast(device_type='cuda', dtype = torch.bfloat16):\n",
    "#                     y_pred = self.model(\n",
    "#                         X_cont_train[batch_idx],\n",
    "#                         X_cat_train[batch_idx],\n",
    "#                     ).squeeze(-1).float()\n",
    "\n",
    "#                 loss = loss_fn(y_pred.flatten(0, 1), y_train[batch_idx].repeat_interleave(self.k))\n",
    "#                 loss.backward()\n",
    "#                 if self.clip_grad_norm:\n",
    "#                     torch.nn.utils.clip_grad_norm_(self.model.parameters(), 1.0)\n",
    "#                 optimizer.step()\n",
    "\n",
    "#                 train_losses.append(loss.item())\n",
    "\n",
    "\n",
    "#              # EVALUATE.\n",
    "#             self.model.eval()\n",
    "#             val_losses = []\n",
    "#             with torch.no_grad():\n",
    "#                 for batch_idx in torch.arange(0, len(y_val), self.batch_size, device=self.device):\n",
    "#                     y_pred = self.model(\n",
    "#                         X_cont_val[batch_idx:batch_idx+self.batch_size],\n",
    "#                         X_cat_val[batch_idx:batch_idx+self.batch_size],\n",
    "#                     ).squeeze(-1).float()\n",
    "\n",
    "#                     loss = loss_fn(y_pred.flatten(0, 1), y_val[batch_idx:batch_idx+self.batch_size].repeat_interleave(self.k))\n",
    "#                     val_losses.append(loss.item())\n",
    "\n",
    "\n",
    "#             # PRINT INFO.\n",
    "#             mean_train_loss = np.mean(train_losses)\n",
    "#             mean_val_loss = np.mean(val_losses)\n",
    "#             if self.verbose:\n",
    "#                 print(f'Epoch {epoch} | Train Loss: {mean_train_loss} | Val Loss: {mean_val_loss}')\n",
    "\n",
    "\n",
    "#             # COMPARE TO BEST.\n",
    "#             if mean_val_loss < best['eval_loss']:\n",
    "#                 best['epoch'] = epoch\n",
    "#                 best['eval_loss'] = mean_val_loss\n",
    "#                 best['model_state_dict'] = self.model.state_dict()\n",
    "#                 remaining_patience = self.patience\n",
    "                \n",
    "#                 if self.verbose:\n",
    "#                     print('🌸 New best epoch! 🌸')\n",
    "#             else:\n",
    "#                 remaining_patience -= 1\n",
    "\n",
    "#             # EARLY STOPPING.\n",
    "#             if remaining_patience == 0:\n",
    "#                 break\n",
    "\n",
    "#             # RESTORE BEST MODEL.\n",
    "#             self.model.load_state_dict(best['model_state_dict'])\n",
    "\n",
    "\n",
    "#     def predict(\n",
    "#         self,\n",
    "#         X: pd.DataFrame,\n",
    "#         batch_size: Optional[int] = 8096\n",
    "#     ) -> np.ndarray:\n",
    "#         # PREPROCESS DATA.\n",
    "#         X_cat, X_cont, _, _ = self._preprocess_data(X, y=None, training=False)\n",
    "\n",
    "#         # PREDICT.\n",
    "#         self.model.eval()\n",
    "#         y_pred = []\n",
    "#         with torch.no_grad():\n",
    "#             for batch_idx in torch.arange(0, len(X), batch_size, device=self.device):\n",
    "#                 y_pred.append(\n",
    "#                     self.model(\n",
    "#                         X_cont[batch_idx:batch_idx+batch_size],\n",
    "#                         X_cat[batch_idx:batch_idx+batch_size],\n",
    "#                     ).squeeze(-1).float().cpu().numpy()\n",
    "#                 )\n",
    "\n",
    "#         y_pred = np.concatenate(y_pred)\n",
    "\n",
    "\n",
    "#         # DENORMALIZE TARGETS.\n",
    "#         y_pred = y_pred * self._target_std + self._target_mean\n",
    "\n",
    "\n",
    "#         # COMPUTE ENSEMBLE MEAN.\n",
    "#         y_pred = np.mean(y_pred, axis=1)\n",
    "\n",
    "#         return y_pred\n",
    "\n",
    "\n",
    "#     def _preprocess_data(self, X: pd.DataFrame, y: pd.Series, training: bool):\n",
    "#         # PICK NON-CONSTANT COLUMNS.\n",
    "#         if training:\n",
    "#             self._non_constant_columns = X.columns[X.nunique() > 1]\n",
    "\n",
    "#         X = X[self._non_constant_columns]\n",
    "\n",
    "#         # SEPARATE CATEGORICAL & CONTINUOUS FEATURES.\n",
    "#         categorical_features = [col for col in X.columns if X[col].dtype.name == 'object']\n",
    "#         X_cat = X[categorical_features].to_numpy()\n",
    "#         X_cont = X.drop(columns=categorical_features).to_numpy()\n",
    "\n",
    "#         # ENCODE CATEGORICAL FEATURES.\n",
    "#         cat_cardinalities = [X[col].nunique() for col in categorical_features]\n",
    "\n",
    "#         if training:\n",
    "#             self._categorical_encoders = [\n",
    "#                 OrdinalEncoder()\n",
    "#                 for _ in range(X_cat.shape[1])\n",
    "#             ]\n",
    "#         X_cat = np.concatenate([\n",
    "#             encoder.fit_transform(X_cat[:, i:i+1])\n",
    "#             for i, encoder in enumerate(self._categorical_encoders)\n",
    "#         ], axis=1)\n",
    "\n",
    "#         # NORMALIZE TARGETS.\n",
    "#         if training:\n",
    "#             self._target_mean = y.mean()\n",
    "#             self._target_std = y.std()\n",
    "\n",
    "#             y = (y - self._target_mean) / self._target_std\n",
    "\n",
    "\n",
    "#         # SCALE CONTINUOUS FEATURES.\n",
    "#         if training:\n",
    "#             noise = (\n",
    "#                 np.random.default_rng(0)\n",
    "#                 .normal(0.0, 1e-5, X_cont.shape)\n",
    "#                 .astype(X_cont.dtype)\n",
    "#             )\n",
    "#             self._cont_feature_preprocessor = QuantileTransformer(\n",
    "#                 n_quantiles=max(min(len(X) // 30, 1000), 10),\n",
    "#                 output_distribution='normal',\n",
    "#                 subsample=10**9,\n",
    "#             ).fit(X_cont + noise)\n",
    "\n",
    "#         X_cont = self._cont_feature_preprocessor.transform(X_cont)\n",
    "\n",
    "\n",
    "#         # CONVERT TO TENSORS.\n",
    "#         X_cat = torch.tensor(X_cat, dtype=torch.long, device=self.device)\n",
    "#         X_cont = torch.tensor(X_cont, dtype=torch.float32, device=self.device)\n",
    "\n",
    "#         if y is not None:\n",
    "#             y = torch.tensor(y, dtype=torch.float32, device=self.device)\n",
    "\n",
    "#         return X_cat, X_cont, cat_cardinalities, y\n"
   ]
  },
  {
   "cell_type": "code",
   "execution_count": 20,
   "id": "22245300",
   "metadata": {
    "execution": {
     "iopub.execute_input": "2025-02-02T16:53:29.592896Z",
     "iopub.status.busy": "2025-02-02T16:53:29.592540Z",
     "iopub.status.idle": "2025-02-02T16:53:29.596799Z",
     "shell.execute_reply": "2025-02-02T16:53:29.595707Z"
    },
    "jupyter": {
     "source_hidden": true
    },
    "papermill": {
     "duration": 1.520053,
     "end_time": "2025-02-02T16:53:29.598712",
     "exception": false,
     "start_time": "2025-02-02T16:53:28.078659",
     "status": "completed"
    },
    "tags": []
   },
   "outputs": [],
   "source": [
    "# def get_tabm_features(data):\n",
    "#     RMV = [\"ID\",\"efs\",\"efs_time\",\"y\",\"fold\"]\n",
    "#     FEATURES = [c for c in data.columns if not c in RMV]\n",
    "    \n",
    "#     RMV              = ['ID']\n",
    "#     X_test           = data.drop(RMV, axis=1)\n",
    "#     y_pred           = data[['ID']]\n",
    "    \n",
    "#     #print(\"X_test shape:\", X_test.shape, '\\n')\n",
    "    \n",
    "#     cat_cols         = X_test.select_dtypes(include=['object']).columns.tolist()\n",
    "#     num_cols         = X_test.select_dtypes(exclude=['object']).columns.tolist()\n",
    "    \n",
    "#     # Preprocessing categorical\n",
    "#     imputer          = SimpleImputer(strategy='constant', fill_value='NAN')\n",
    "#     X_test[cat_cols] = imputer.fit_transform(X_test[cat_cols])\n",
    "\n",
    "#     # Preprocessing numerical\n",
    "#     imputer          = SimpleImputer(strategy=\"median\")\n",
    "#     X_test[num_cols] = imputer.fit_transform(X_test[num_cols])\n",
    "\n",
    "#     return X_test,FEATURES"
   ]
  },
  {
   "cell_type": "code",
   "execution_count": 21,
   "id": "29f54f15",
   "metadata": {
    "execution": {
     "iopub.execute_input": "2025-02-02T16:53:32.575939Z",
     "iopub.status.busy": "2025-02-02T16:53:32.575572Z",
     "iopub.status.idle": "2025-02-02T16:53:32.580025Z",
     "shell.execute_reply": "2025-02-02T16:53:32.578956Z"
    },
    "jupyter": {
     "source_hidden": true
    },
    "papermill": {
     "duration": 1.440027,
     "end_time": "2025-02-02T16:53:32.581787",
     "exception": false,
     "start_time": "2025-02-02T16:53:31.141760",
     "status": "completed"
    },
    "tags": []
   },
   "outputs": [],
   "source": [
    "# def prepare_features(model_path, train, test):\n",
    "\n",
    "#     RMV = [\"ID\",\"efs\",\"efs_time\",\"y\"]\n",
    "#     FEATURES = [c for c in train.columns if not c in RMV]\n",
    "#     #print(f\"There are {len(FEATURES)} FEATURES: {FEATURES}\")\n",
    "    \n",
    "\n",
    "#     CATS = []\n",
    "#     for c in FEATURES:\n",
    "#         if train[c].dtype==\"object\":\n",
    "#             CATS.append(c)\n",
    "#             train[c] = train[c].fillna(\"NAN\")\n",
    "#             test[c]  = test[c].fillna(\"NAN\")\n",
    "#         elif \"DeepTabels\" in model_path or \"tn\" in model_path or \"svr\" in model_path:\n",
    "#             train[c] = train[c].fillna(-1)\n",
    "#             test[c]  = test[c].fillna(-1)\n",
    "            \n",
    "        \n",
    "#     #print(f\"In these features, there are {len(CATS)} CATEGORICAL FEATURES: {CATS}\")\n",
    "    \n",
    "#     combined = pd.concat([train,test],axis=0,ignore_index=True)\n",
    "#     #print(\"Combined data shape:\", combined.shape )\n",
    "    \n",
    "#     # LABEL ENCODE CATEGORICAL FEATURES\n",
    "#     #print(\"We LABEL ENCODE the CATEGORICAL FEATURES: \",end=\"\")\n",
    "#     for c in FEATURES:\n",
    "    \n",
    "#         # LABEL ENCODE CATEGORICAL AND CONVERT TO INT32 CATEGORY\n",
    "#         if c in CATS:\n",
    "#             #print(f\"{c}, \",end=\"\")\n",
    "#             combined[c],_ = combined[c].factorize()\n",
    "#             combined[c]  -= combined[c].min()\n",
    "#             combined[c]   = combined[c].astype(\"int32\")\n",
    "#             combined[c]   = combined[c].astype(\"category\")\n",
    "            \n",
    "#         # REDUCE PRECISION OF NUMERICAL TO 32BIT TO SAVE MEMORY\n",
    "#         else:\n",
    "#             if combined[c].dtype ==\"float64\":\n",
    "#                 combined[c]      = combined[c].astype(\"float32\")\n",
    "#             if combined[c].dtype ==\"int64\":\n",
    "#                 combined[c]      = combined[c].astype(\"int32\")\n",
    "        \n",
    "#     train = combined.iloc[:len(train)].copy()\n",
    "#     test  = combined.iloc[len(train):].reset_index(drop=True).copy()\n",
    "                \n",
    "#     return train, test, FEATURES"
   ]
  },
  {
   "cell_type": "code",
   "execution_count": 22,
   "id": "bbc46f3c",
   "metadata": {
    "execution": {
     "iopub.execute_input": "2025-02-02T16:53:35.631083Z",
     "iopub.status.busy": "2025-02-02T16:53:35.630739Z",
     "iopub.status.idle": "2025-02-02T16:53:35.635200Z",
     "shell.execute_reply": "2025-02-02T16:53:35.634186Z"
    },
    "jupyter": {
     "source_hidden": true
    },
    "papermill": {
     "duration": 1.540073,
     "end_time": "2025-02-02T16:53:35.636839",
     "exception": false,
     "start_time": "2025-02-02T16:53:34.096766",
     "status": "completed"
    },
    "tags": []
   },
   "outputs": [],
   "source": [
    "# def get_nn_features(train, test):\n",
    "    \n",
    "#     CAT_SIZE = []\n",
    "#     CAT_EMB  = []\n",
    "#     NUMS     = []\n",
    "#     CATS     = []\n",
    "\n",
    "#     RMV = [\"ID\",\"efs\",\"efs_time\",\"y\",\"fold\"]\n",
    "#     FEATURES = [c for c in train.columns if not c in RMV]\n",
    "    \n",
    "#     for c in FEATURES:\n",
    "#         if train[c].dtype==\"object\":\n",
    "#             train[c] = train[c].fillna(\"NAN\")\n",
    "#             test[c]  = test[c].fillna(\"NAN\")\n",
    "#             CATS.append(c)\n",
    "#         elif not \"age\" in c:\n",
    "#             train[c] = train[c].astype(\"str\")\n",
    "#             test[c]  = test[c].astype(\"str\")\n",
    "#             CATS.append(c)\n",
    "\n",
    "\n",
    "#     combined = pd.concat([train,test],axis=0,ignore_index=True)\n",
    "#     for c in FEATURES:\n",
    "#         if c in CATS:\n",
    "#             # LABEL ENCODE\n",
    "#             combined[c],_ = combined[c].factorize()\n",
    "#             combined[c] -= combined[c].min()\n",
    "#             combined[c] = combined[c].astype(\"int32\")\n",
    "#             #combined[c] = combined[c].astype(\"category\")\n",
    "\n",
    "#             n = combined[c].nunique()\n",
    "#             mn = combined[c].min()\n",
    "#             mx = combined[c].max()\n",
    "#             #print(f'{c} has ({n}) unique values')\n",
    "    \n",
    "#             CAT_SIZE.append(mx+1) \n",
    "#             CAT_EMB.append( int(np.ceil( np.sqrt(mx+1))) ) \n",
    "#         else:\n",
    "#             if combined[c].dtype==\"float64\":\n",
    "#                 combined[c] = combined[c].astype(\"float32\")\n",
    "#             if combined[c].dtype==\"int64\":\n",
    "#                 combined[c] = combined[c].astype(\"int32\")\n",
    "                \n",
    "#             m = combined[c].mean()\n",
    "#             s = combined[c].std()\n",
    "#             combined[c] = (combined[c]-m)/s\n",
    "#             combined[c] = combined[c].fillna(0)\n",
    "            \n",
    "#             NUMS.append(c)\n",
    "\n",
    "#     train = combined.iloc[:len(train)].copy()\n",
    "#     test = combined.iloc[len(train):].reset_index(drop=True).copy()\n",
    "\n",
    "#     return test[CATS], test[NUMS]"
   ]
  },
  {
   "cell_type": "code",
   "execution_count": 23,
   "id": "70c7482a",
   "metadata": {
    "execution": {
     "iopub.execute_input": "2025-02-02T16:53:38.648861Z",
     "iopub.status.busy": "2025-02-02T16:53:38.648381Z",
     "iopub.status.idle": "2025-02-02T16:53:38.653721Z",
     "shell.execute_reply": "2025-02-02T16:53:38.652655Z"
    },
    "jupyter": {
     "source_hidden": true
    },
    "papermill": {
     "duration": 1.498063,
     "end_time": "2025-02-02T16:53:38.655678",
     "exception": false,
     "start_time": "2025-02-02T16:53:37.157615",
     "status": "completed"
    },
    "tags": []
   },
   "outputs": [],
   "source": [
    "# def get_tf_features(train, test):\n",
    "#     RMV = [\"ID\",\"efs\",\"efs_time\",\"y\",\"y_na\",\"fold\"]\n",
    "#     FEATURES = [c for c in train.columns if not c in RMV]\n",
    "\n",
    "\n",
    "#     test                             = test.replace('Not done', 'missing')\n",
    "#     test                             = test.replace('Not tested', 'missing')\n",
    "    \n",
    "#     test['na_count']                 = test.isna().sum(axis=1)\n",
    "#     test['age_karnofsky']            = test['age_at_hct'] * test['karnofsky_score']\n",
    "#     test['age_comorbidity']          = test['age_at_hct'] * test['comorbidity_score']\n",
    "#     test['donor_recipient_age_diff'] = abs(test['donor_age'] - test['age_at_hct'])\n",
    "#     test['hla_match_ratio']          = (test['hla_high_res_8'] + test['hla_low_res_8']) / 16\n",
    "#     test['age_squared']              = test['age_at_hct'] ** 2\n",
    "#     test['karnofsky_squared']        = test['karnofsky_score'] ** 2\n",
    "#     test['16?']                      = np.where(test['age_at_hct']<=16,1,0)\n",
    "    \n",
    "#     FEATURES.extend([\"na_count\", \"age_karnofsky\", \"age_comorbidity\", \"donor_recipient_age_diff\", \"hla_match_ratio\", \"age_squared\", \"karnofsky_squared\", \"16?\"])\n",
    "\n",
    "#     CATS = []\n",
    "#     for c in FEATURES:\n",
    "#         if test[c].dtype==\"object\":\n",
    "#             CATS.append(c)\n",
    "#             test[c] = test[c].fillna(\"missing\")\n",
    "\n",
    "#     for c in FEATURES:\n",
    "#         # LABEL ENCODE CATEGORICAL AND CONVERT TO INT32 CATEGORY\n",
    "#         if c in CATS:\n",
    "#             #print(f\"{c}, \",end=\"\")\n",
    "#             test[c],_ = test[c].factorize()\n",
    "#             test[c]  -= test[c].min()\n",
    "#             test[c]   = test[c].astype(\"int32\")\n",
    "#             test[c]   = test[c].astype(\"category\")\n",
    "#         else:\n",
    "#             if test[c].dtype == \"float64\":\n",
    "#                 test[c]      = test[c].astype(\"float32\")\n",
    "#             if test[c].dtype ==\"int64\":\n",
    "#                 test[c]      = test[c].astype(\"int32\")\n",
    "    \n",
    "#     return test, FEATURES"
   ]
  },
  {
   "cell_type": "code",
   "execution_count": 24,
   "id": "8d64eb96",
   "metadata": {
    "execution": {
     "iopub.execute_input": "2025-02-02T16:53:41.715838Z",
     "iopub.status.busy": "2025-02-02T16:53:41.715494Z",
     "iopub.status.idle": "2025-02-02T16:53:41.720575Z",
     "shell.execute_reply": "2025-02-02T16:53:41.719577Z"
    },
    "papermill": {
     "duration": 1.537915,
     "end_time": "2025-02-02T16:53:41.722351",
     "exception": false,
     "start_time": "2025-02-02T16:53:40.184436",
     "status": "completed"
    },
    "tags": []
   },
   "outputs": [],
   "source": [
    "# import pickle\n",
    "# from tqdm import tqdm\n",
    "# from sklearn.svm import SVR\n",
    "# from sklearn.preprocessing import StandardScaler\n",
    "# from sklearn.impute import KNNImputer\n",
    "\n",
    "# imputer               = KNNImputer(n_neighbors=5, weights='uniform')\n",
    "\n",
    "# scaler = StandardScaler()\n",
    "\n",
    "# FOLDS = 10\n",
    "\n",
    "# def inference(model_path, train, test_df):\n",
    "    \n",
    "#     path = model_path.split('/')[-1]\n",
    "#     file = path.replace('-','_')\n",
    "\n",
    "#     if \"dt\" not in model_path:\n",
    "#         with open(f\"/kaggle/input/{path}/{file}.pkl\", 'rb') as f:\n",
    "#             models = pickle.load(f)\n",
    "            \n",
    "#     print(\"All models are loaded successfully....!\")\n",
    "\n",
    "#     test_predictions = np.zeros(len(test_df))\n",
    "\n",
    "#     for fold in tqdm(range(FOLDS)):\n",
    "#         if \"dt\" in model_path:\n",
    "#             # model = keras.models.load_model(model_path, custom_objects=custom_objects)\n",
    "#             # train, test, FEATURES   = prepare_features(model_path, train, test_df)\n",
    "#             # model                   = tf.keras.models.load_model(model_path+f\"/model_fold_{fold}.keras\", custom_objects=dt.__dict__, compile=)\n",
    "#             # fold_preds              = model.predict(test.copy())\n",
    "#             # fold_preds              = fold_preds.flatten()\n",
    "#             pass\n",
    "#         else:\n",
    "#             model  = models[fold]\n",
    "            \n",
    "            \n",
    "#         if \"svr\" in model_path:\n",
    "#             if fold==0:\n",
    "#                 train, test, FEATURES = prepare_features(model_path, train.copy(), test_df.copy())\n",
    "\n",
    "#             # Handle missing values\n",
    "#             train_imputed         = imputer.fit_transform(train[FEATURES].copy())\n",
    "#             test_imputed          = imputer.transform(test[FEATURES])\n",
    "\n",
    "#             # Convert back to DataFrame to maintain feature names\n",
    "#             train_imputed         = pd.DataFrame(train_imputed, columns=FEATURES, index=train.index)\n",
    "#             test_imputed          = pd.DataFrame(test_imputed, columns=FEATURES, index=test.index)\n",
    "            \n",
    "#             # Scale features\n",
    "#             scaler.fit(train_imputed)\n",
    "#             test_scaled           = scaler.transform(test_imputed)\n",
    "            \n",
    "#             fold_preds            = model.predict(test_scaled)\n",
    "\n",
    "#         elif \"tn\" in model_path:\n",
    "#             if fold == 0:\n",
    "#                 train, test, FEATURES   = prepare_features(model_path, train, test_df)\n",
    "                \n",
    "#             fold_preds              = model.predict(test[FEATURES].values).flatten()\n",
    "            \n",
    "#         elif \"nn\" in model_path:\n",
    "#             if fold == 0:\n",
    "#                 X_cat, X_num      = get_nn_features(train, test_df.copy())\n",
    "#             fold_preds        = model.predict([X_cat.values, X_num.values])\n",
    "#             fold_preds        = fold_preds.flatten()\n",
    "\n",
    "#         elif \"tf\" in model_path:\n",
    "#             if fold == 0:\n",
    "#                 test, FEATURES = get_tf_features(train.copy(),test_df.copy())\n",
    "#                 fold_preds     = model.predict(test[FEATURES].copy())\n",
    "\n",
    "#         elif \"tabm\" in model_path:\n",
    "#             if fold == 0:\n",
    "#                 test, FEATURES = get_tabm_features(test_df.copy())\n",
    "#             fold_preds              = model.predict(test[FEATURES].copy())\n",
    "            \n",
    "#         else: \n",
    "#             if fold == 0:\n",
    "#                 train, test, FEATURES   = prepare_features(model_path, train, test_df)\n",
    "#             fold_preds              = model.predict(test[FEATURES].copy())\n",
    "            \n",
    "#         test_predictions += fold_preds\n",
    "    \n",
    "#     # Get the average predictionr\n",
    "#     test_predictions /= FOLDS\n",
    "        \n",
    "#     return test_predictions"
   ]
  },
  {
   "cell_type": "code",
   "execution_count": 25,
   "id": "52f585c5",
   "metadata": {
    "execution": {
     "iopub.execute_input": "2025-02-02T16:53:44.682455Z",
     "iopub.status.busy": "2025-02-02T16:53:44.682056Z",
     "iopub.status.idle": "2025-02-02T16:53:44.686416Z",
     "shell.execute_reply": "2025-02-02T16:53:44.685329Z"
    },
    "jupyter": {
     "source_hidden": true
    },
    "papermill": {
     "duration": 1.522772,
     "end_time": "2025-02-02T16:53:44.688206",
     "exception": false,
     "start_time": "2025-02-02T16:53:43.165434",
     "status": "completed"
    },
    "tags": []
   },
   "outputs": [],
   "source": [
    "# train_df = pd.read_csv(\"/kaggle/input/equity-post-HCT-survival-predictions/train.csv\")\n",
    "# test_df  = pd.read_csv(\"/kaggle/input/equity-post-HCT-survival-predictions/test.csv\")"
   ]
  },
  {
   "cell_type": "code",
   "execution_count": 26,
   "id": "8f93ad0d",
   "metadata": {
    "execution": {
     "iopub.execute_input": "2025-02-02T16:53:47.716317Z",
     "iopub.status.busy": "2025-02-02T16:53:47.715937Z",
     "iopub.status.idle": "2025-02-02T16:53:47.719999Z",
     "shell.execute_reply": "2025-02-02T16:53:47.718914Z"
    },
    "jupyter": {
     "source_hidden": true
    },
    "papermill": {
     "duration": 1.522323,
     "end_time": "2025-02-02T16:53:47.721647",
     "exception": false,
     "start_time": "2025-02-02T16:53:46.199324",
     "status": "completed"
    },
    "tags": []
   },
   "outputs": [],
   "source": [
    "# first_best_index"
   ]
  },
  {
   "cell_type": "code",
   "execution_count": 27,
   "id": "4fd50d2e",
   "metadata": {
    "execution": {
     "iopub.execute_input": "2025-02-02T16:53:50.631179Z",
     "iopub.status.busy": "2025-02-02T16:53:50.630830Z",
     "iopub.status.idle": "2025-02-02T16:53:50.634805Z",
     "shell.execute_reply": "2025-02-02T16:53:50.633734Z"
    },
    "jupyter": {
     "source_hidden": true
    },
    "papermill": {
     "duration": 1.524744,
     "end_time": "2025-02-02T16:53:50.636512",
     "exception": false,
     "start_time": "2025-02-02T16:53:49.111768",
     "status": "completed"
    },
    "tags": []
   },
   "outputs": [],
   "source": [
    "# initial_test_preds = inference(first_best_index, train_df, test_df)\n",
    "# initial_test_preds"
   ]
  },
  {
   "cell_type": "code",
   "execution_count": 28,
   "id": "27d501ac",
   "metadata": {
    "execution": {
     "iopub.execute_input": "2025-02-02T16:53:53.610444Z",
     "iopub.status.busy": "2025-02-02T16:53:53.610028Z",
     "iopub.status.idle": "2025-02-02T16:53:53.614293Z",
     "shell.execute_reply": "2025-02-02T16:53:53.613132Z"
    },
    "jupyter": {
     "source_hidden": true
    },
    "papermill": {
     "duration": 1.465544,
     "end_time": "2025-02-02T16:53:53.616212",
     "exception": false,
     "start_time": "2025-02-02T16:53:52.150668",
     "status": "completed"
    },
    "tags": []
   },
   "outputs": [],
   "source": [
    "# model_weights"
   ]
  },
  {
   "cell_type": "code",
   "execution_count": 29,
   "id": "80eff220",
   "metadata": {
    "execution": {
     "iopub.execute_input": "2025-02-02T16:53:56.657278Z",
     "iopub.status.busy": "2025-02-02T16:53:56.656869Z",
     "iopub.status.idle": "2025-02-02T16:53:56.661382Z",
     "shell.execute_reply": "2025-02-02T16:53:56.660071Z"
    },
    "jupyter": {
     "source_hidden": true
    },
    "papermill": {
     "duration": 1.533176,
     "end_time": "2025-02-02T16:53:56.663407",
     "exception": false,
     "start_time": "2025-02-02T16:53:55.130231",
     "status": "completed"
    },
    "tags": []
   },
   "outputs": [],
   "source": [
    "# test_preds = []\n",
    "# for model, weight in model_weights.items():\n",
    "#     print(f\"Using model : {model}\")\n",
    "#     test_df            = pd.read_csv(\"/kaggle/input/equity-post-HCT-survival-predictions/test.csv\")\n",
    "    \n",
    "#     test_preds         = inference(model, train_df.copy(), test_df)\n",
    "#     test_preds         = (1-weight) * rankdata(initial_test_preds) + weight * rankdata(test_preds)\n",
    "#     initial_test_preds = test_preds"
   ]
  },
  {
   "cell_type": "code",
   "execution_count": 30,
   "id": "25324001",
   "metadata": {
    "execution": {
     "iopub.execute_input": "2025-02-02T16:53:59.613576Z",
     "iopub.status.busy": "2025-02-02T16:53:59.613130Z",
     "iopub.status.idle": "2025-02-02T16:53:59.618223Z",
     "shell.execute_reply": "2025-02-02T16:53:59.616975Z"
    },
    "jupyter": {
     "source_hidden": true
    },
    "papermill": {
     "duration": 1.415827,
     "end_time": "2025-02-02T16:53:59.619980",
     "exception": false,
     "start_time": "2025-02-02T16:53:58.204153",
     "status": "completed"
    },
    "tags": []
   },
   "outputs": [],
   "source": [
    "# train_df               = pd.read_csv(\"/kaggle/input/equity-post-HCT-survival-predictions/train.csv\")\n",
    "# test_df                = pd.read_csv(\"/kaggle/input/equity-post-HCT-survival-predictions/test.csv\")\n",
    "# test_preds             = np.zeros(len(test_df))\n",
    "\n",
    "\n",
    "# preds_dict = {}\n",
    "# for model, weight in model_weights.items():\n",
    "#     print(f\"exp name : {model}\\n\")\n",
    "#     test_df                = pd.read_csv(\"/kaggle/input/equity-post-HCT-survival-predictions/test.csv\")\n",
    "#     test_preds             = inference(model, train_df.copy(), test_df.copy())\n",
    "#     test_preds             = (1-weight) * rankdata(initial_test_preds) + weight * rankdata(test_preds)\n",
    "#     initial_test_preds     = test_preds"
   ]
  },
  {
   "cell_type": "code",
   "execution_count": 31,
   "id": "dc42ec93",
   "metadata": {
    "execution": {
     "iopub.execute_input": "2025-02-02T16:54:02.709272Z",
     "iopub.status.busy": "2025-02-02T16:54:02.708899Z",
     "iopub.status.idle": "2025-02-02T16:54:02.713059Z",
     "shell.execute_reply": "2025-02-02T16:54:02.711887Z"
    },
    "papermill": {
     "duration": 1.56204,
     "end_time": "2025-02-02T16:54:02.714967",
     "exception": false,
     "start_time": "2025-02-02T16:54:01.152927",
     "status": "completed"
    },
    "tags": []
   },
   "outputs": [],
   "source": [
    "# test_preds"
   ]
  },
  {
   "cell_type": "code",
   "execution_count": 32,
   "id": "8d505ae5",
   "metadata": {
    "execution": {
     "iopub.execute_input": "2025-02-02T16:54:05.642806Z",
     "iopub.status.busy": "2025-02-02T16:54:05.642421Z",
     "iopub.status.idle": "2025-02-02T16:54:05.646346Z",
     "shell.execute_reply": "2025-02-02T16:54:05.645293Z"
    },
    "papermill": {
     "duration": 1.521396,
     "end_time": "2025-02-02T16:54:05.648090",
     "exception": false,
     "start_time": "2025-02-02T16:54:04.126694",
     "status": "completed"
    },
    "tags": []
   },
   "outputs": [],
   "source": [
    "# potential_ensemble                = pd.DataFrame()\n",
    "# potential_ensemble[\"predictions\"] = test_preds\n",
    "# potential_ensemble[\"ID\"]          = test_df[\"ID\"]\n",
    "# new_score                         = score(test_df[[\"ID\",\"efs\",\"efs_time\",\"race_group\"]].copy(), potential_ensemble.copy(), \"ID\")\n",
    "# new_score"
   ]
  },
  {
   "cell_type": "code",
   "execution_count": 33,
   "id": "40e72791",
   "metadata": {
    "execution": {
     "iopub.execute_input": "2025-02-02T16:54:08.698517Z",
     "iopub.status.busy": "2025-02-02T16:54:08.698129Z",
     "iopub.status.idle": "2025-02-02T16:54:08.702208Z",
     "shell.execute_reply": "2025-02-02T16:54:08.701154Z"
    },
    "papermill": {
     "duration": 1.527426,
     "end_time": "2025-02-02T16:54:08.704359",
     "exception": false,
     "start_time": "2025-02-02T16:54:07.176933",
     "status": "completed"
    },
    "tags": []
   },
   "outputs": [],
   "source": [
    "# best_score"
   ]
  },
  {
   "cell_type": "markdown",
   "id": "dcc6508f",
   "metadata": {
    "papermill": {
     "duration": 1.537691,
     "end_time": "2025-02-02T16:54:11.698711",
     "exception": false,
     "start_time": "2025-02-02T16:54:10.161020",
     "status": "completed"
    },
    "tags": []
   },
   "source": [
    "## Step 7: Create submission file"
   ]
  },
  {
   "cell_type": "code",
   "execution_count": 34,
   "id": "072e2541",
   "metadata": {
    "execution": {
     "iopub.execute_input": "2025-02-02T16:54:14.689392Z",
     "iopub.status.busy": "2025-02-02T16:54:14.688974Z",
     "iopub.status.idle": "2025-02-02T16:54:14.693317Z",
     "shell.execute_reply": "2025-02-02T16:54:14.692162Z"
    },
    "papermill": {
     "duration": 1.423644,
     "end_time": "2025-02-02T16:54:14.695145",
     "exception": false,
     "start_time": "2025-02-02T16:54:13.271501",
     "status": "completed"
    },
    "tags": []
   },
   "outputs": [],
   "source": [
    "# sub            = pd.read_csv(\"/kaggle/input/equity-post-HCT-survival-predictions/sample_submission.csv\")\n",
    "# sub.prediction = test_preds\n",
    "# sub.to_csv(\"submission.csv\",index=False)\n",
    "# print(\"Sub shape:\",sub.shape)\n",
    "# sub.head()"
   ]
  },
  {
   "cell_type": "code",
   "execution_count": null,
   "id": "9af94586",
   "metadata": {
    "papermill": {
     "duration": 1.532203,
     "end_time": "2025-02-02T16:54:17.755247",
     "exception": false,
     "start_time": "2025-02-02T16:54:16.223044",
     "status": "completed"
    },
    "tags": []
   },
   "outputs": [],
   "source": []
  }
 ],
 "metadata": {
  "kaggle": {
   "accelerator": "none",
   "dataSources": [
    {
     "databundleVersionId": 10381525,
     "sourceId": 70942,
     "sourceType": "competition"
    },
    {
     "datasetId": 921302,
     "sourceId": 7453542,
     "sourceType": "datasetVersion"
    },
    {
     "datasetId": 6226248,
     "sourceId": 10097128,
     "sourceType": "datasetVersion"
    },
    {
     "datasetId": 6415434,
     "sourceId": 10370860,
     "sourceType": "datasetVersion"
    },
    {
     "datasetId": 6450507,
     "sourceId": 10409094,
     "sourceType": "datasetVersion"
    },
    {
     "sourceId": 211322530,
     "sourceType": "kernelVersion"
    },
    {
     "sourceId": 216172723,
     "sourceType": "kernelVersion"
    },
    {
     "sourceId": 217481514,
     "sourceType": "kernelVersion"
    },
    {
     "sourceId": 217813503,
     "sourceType": "kernelVersion"
    },
    {
     "sourceId": 217931837,
     "sourceType": "kernelVersion"
    },
    {
     "sourceId": 217941306,
     "sourceType": "kernelVersion"
    },
    {
     "sourceId": 218131499,
     "sourceType": "kernelVersion"
    },
    {
     "sourceId": 218144682,
     "sourceType": "kernelVersion"
    },
    {
     "sourceId": 218801338,
     "sourceType": "kernelVersion"
    },
    {
     "sourceId": 218802756,
     "sourceType": "kernelVersion"
    },
    {
     "sourceId": 219153168,
     "sourceType": "kernelVersion"
    },
    {
     "sourceId": 219154661,
     "sourceType": "kernelVersion"
    },
    {
     "sourceId": 219195490,
     "sourceType": "kernelVersion"
    },
    {
     "sourceId": 219311236,
     "sourceType": "kernelVersion"
    },
    {
     "sourceId": 219519933,
     "sourceType": "kernelVersion"
    },
    {
     "sourceId": 219788453,
     "sourceType": "kernelVersion"
    },
    {
     "sourceId": 219953795,
     "sourceType": "kernelVersion"
    },
    {
     "sourceId": 220208646,
     "sourceType": "kernelVersion"
    },
    {
     "sourceId": 220212754,
     "sourceType": "kernelVersion"
    },
    {
     "sourceId": 220243528,
     "sourceType": "kernelVersion"
    },
    {
     "sourceId": 220393279,
     "sourceType": "kernelVersion"
    },
    {
     "sourceId": 220434668,
     "sourceType": "kernelVersion"
    },
    {
     "sourceId": 220435009,
     "sourceType": "kernelVersion"
    }
   ],
   "dockerImageVersionId": 30822,
   "isGpuEnabled": false,
   "isInternetEnabled": false,
   "language": "python",
   "sourceType": "notebook"
  },
  "kernelspec": {
   "display_name": "Python 3",
   "language": "python",
   "name": "python3"
  },
  "language_info": {
   "codemirror_mode": {
    "name": "ipython",
    "version": 3
   },
   "file_extension": ".py",
   "mimetype": "text/x-python",
   "name": "python",
   "nbconvert_exporter": "python",
   "pygments_lexer": "ipython3",
   "version": "3.10.12"
  },
  "papermill": {
   "default_parameters": {},
   "duration": 13351.939981,
   "end_time": "2025-02-02T16:54:22.172932",
   "environment_variables": {},
   "exception": null,
   "input_path": "__notebook__.ipynb",
   "output_path": "__notebook__.ipynb",
   "parameters": {},
   "start_time": "2025-02-02T13:11:50.232951",
   "version": "2.6.0"
  }
 },
 "nbformat": 4,
 "nbformat_minor": 5
}
