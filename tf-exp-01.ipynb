{
 "cells": [
  {
   "cell_type": "markdown",
   "id": "fec61cf4",
   "metadata": {
    "_cell_guid": "b1076dfc-b9ad-4769-8c92-a6c4dae69d19",
    "_uuid": "8f2839f25d086af736a60e9eeb907d3b93b6e0e5",
    "execution": {
     "iopub.execute_input": "2025-01-09T18:44:39.261501Z",
     "iopub.status.busy": "2025-01-09T18:44:39.261294Z",
     "iopub.status.idle": "2025-01-09T18:44:58.778499Z",
     "shell.execute_reply": "2025-01-09T18:44:58.777481Z",
     "shell.execute_reply.started": "2025-01-09T18:44:39.261481Z"
    },
    "papermill": {
     "duration": 0.003924,
     "end_time": "2025-01-14T04:58:50.135534",
     "exception": false,
     "start_time": "2025-01-14T04:58:50.131610",
     "status": "completed"
    },
    "tags": []
   },
   "source": [
    "# Tabpfn\n",
    "\n",
    "The following starter package takes the starting notebook from Chris (https://www.kaggle.com/code/cdeotte/xgboost-catboost-baseline-cv-668-lb-668)\n",
    "and applys the newly released tabpfn with minimal feat engineering. In order to use it, you have to attach Carls tabpfn notebook (https://www.kaggle.com/code/carlmcbrideellis/tabpfn-2-0-1)"
   ]
  },
  {
   "cell_type": "code",
   "execution_count": 1,
   "id": "b9e1f8a1",
   "metadata": {
    "execution": {
     "iopub.execute_input": "2025-01-14T04:58:50.142989Z",
     "iopub.status.busy": "2025-01-14T04:58:50.142677Z",
     "iopub.status.idle": "2025-01-14T04:59:09.555859Z",
     "shell.execute_reply": "2025-01-14T04:59:09.554985Z"
    },
    "papermill": {
     "duration": 19.419384,
     "end_time": "2025-01-14T04:59:09.558173",
     "exception": false,
     "start_time": "2025-01-14T04:58:50.138789",
     "status": "completed"
    },
    "tags": []
   },
   "outputs": [
    {
     "name": "stdout",
     "output_type": "stream",
     "text": [
      "Processing /kaggle/input/pip-install-lifelines/autograd-1.7.0-py3-none-any.whl\r\n",
      "Requirement already satisfied: numpy in /usr/local/lib/python3.10/dist-packages (from autograd==1.7.0) (1.26.4)\r\n",
      "autograd is already installed with the same version as the provided wheel. Use --force-reinstall to force an installation of the wheel.\r\n",
      "Processing /kaggle/input/pip-install-lifelines/autograd-gamma-0.5.0.tar.gz\r\n",
      "  Preparing metadata (setup.py) ... \u001b[?25l\u001b[?25hdone\r\n",
      "Requirement already satisfied: autograd>=1.2.0 in /usr/local/lib/python3.10/dist-packages (from autograd-gamma==0.5.0) (1.7.0)\r\n",
      "Requirement already satisfied: scipy>=1.2.0 in /usr/local/lib/python3.10/dist-packages (from autograd-gamma==0.5.0) (1.13.1)\r\n",
      "Requirement already satisfied: numpy in /usr/local/lib/python3.10/dist-packages (from autograd>=1.2.0->autograd-gamma==0.5.0) (1.26.4)\r\n",
      "Building wheels for collected packages: autograd-gamma\r\n",
      "  Building wheel for autograd-gamma (setup.py) ... \u001b[?25l\u001b[?25hdone\r\n",
      "  Created wheel for autograd-gamma: filename=autograd_gamma-0.5.0-py3-none-any.whl size=4031 sha256=62051a1640e707da88dba952bfb2144ee54dc2884fe29ebdabfb4239bf19616d\r\n",
      "  Stored in directory: /root/.cache/pip/wheels/6b/b5/e0/4c79e15c0b5f2c15ecf613c720bb20daab20a666eb67135155\r\n",
      "Successfully built autograd-gamma\r\n",
      "Installing collected packages: autograd-gamma\r\n",
      "Successfully installed autograd-gamma-0.5.0\r\n",
      "Processing /kaggle/input/pip-install-lifelines/interface_meta-1.3.0-py3-none-any.whl\r\n",
      "Installing collected packages: interface-meta\r\n",
      "Successfully installed interface-meta-1.3.0\r\n",
      "Processing /kaggle/input/pip-install-lifelines/formulaic-1.0.2-py3-none-any.whl\r\n",
      "Requirement already satisfied: interface-meta>=1.2.0 in /usr/local/lib/python3.10/dist-packages (from formulaic==1.0.2) (1.3.0)\r\n",
      "Requirement already satisfied: numpy>=1.16.5 in /usr/local/lib/python3.10/dist-packages (from formulaic==1.0.2) (1.26.4)\r\n",
      "Requirement already satisfied: pandas>=1.0 in /usr/local/lib/python3.10/dist-packages (from formulaic==1.0.2) (2.1.4)\r\n",
      "Requirement already satisfied: scipy>=1.6 in /usr/local/lib/python3.10/dist-packages (from formulaic==1.0.2) (1.13.1)\r\n",
      "Requirement already satisfied: typing-extensions>=4.2.0 in /usr/local/lib/python3.10/dist-packages (from formulaic==1.0.2) (4.12.2)\r\n",
      "Requirement already satisfied: wrapt>=1.0 in /usr/local/lib/python3.10/dist-packages (from formulaic==1.0.2) (1.16.0)\r\n",
      "Requirement already satisfied: python-dateutil>=2.8.2 in /usr/local/lib/python3.10/dist-packages (from pandas>=1.0->formulaic==1.0.2) (2.8.2)\r\n",
      "Requirement already satisfied: pytz>=2020.1 in /usr/local/lib/python3.10/dist-packages (from pandas>=1.0->formulaic==1.0.2) (2024.2)\r\n",
      "Requirement already satisfied: tzdata>=2022.1 in /usr/local/lib/python3.10/dist-packages (from pandas>=1.0->formulaic==1.0.2) (2024.1)\r\n",
      "Requirement already satisfied: six>=1.5 in /usr/local/lib/python3.10/dist-packages (from python-dateutil>=2.8.2->pandas>=1.0->formulaic==1.0.2) (1.16.0)\r\n",
      "Installing collected packages: formulaic\r\n",
      "Successfully installed formulaic-1.0.2\r\n",
      "Processing /kaggle/input/pip-install-lifelines/lifelines-0.30.0-py3-none-any.whl\r\n",
      "Requirement already satisfied: numpy>=1.14.0 in /usr/local/lib/python3.10/dist-packages (from lifelines==0.30.0) (1.26.4)\r\n",
      "Requirement already satisfied: scipy>=1.7.0 in /usr/local/lib/python3.10/dist-packages (from lifelines==0.30.0) (1.13.1)\r\n",
      "Requirement already satisfied: pandas>=2.1 in /usr/local/lib/python3.10/dist-packages (from lifelines==0.30.0) (2.1.4)\r\n",
      "Requirement already satisfied: matplotlib>=3.0 in /usr/local/lib/python3.10/dist-packages (from lifelines==0.30.0) (3.7.1)\r\n",
      "Requirement already satisfied: autograd>=1.5 in /usr/local/lib/python3.10/dist-packages (from lifelines==0.30.0) (1.7.0)\r\n",
      "Requirement already satisfied: autograd-gamma>=0.3 in /usr/local/lib/python3.10/dist-packages (from lifelines==0.30.0) (0.5.0)\r\n",
      "Requirement already satisfied: formulaic>=0.2.2 in /usr/local/lib/python3.10/dist-packages (from lifelines==0.30.0) (1.0.2)\r\n",
      "Requirement already satisfied: interface-meta>=1.2.0 in /usr/local/lib/python3.10/dist-packages (from formulaic>=0.2.2->lifelines==0.30.0) (1.3.0)\r\n",
      "Requirement already satisfied: typing-extensions>=4.2.0 in /usr/local/lib/python3.10/dist-packages (from formulaic>=0.2.2->lifelines==0.30.0) (4.12.2)\r\n",
      "Requirement already satisfied: wrapt>=1.0 in /usr/local/lib/python3.10/dist-packages (from formulaic>=0.2.2->lifelines==0.30.0) (1.16.0)\r\n",
      "Requirement already satisfied: contourpy>=1.0.1 in /usr/local/lib/python3.10/dist-packages (from matplotlib>=3.0->lifelines==0.30.0) (1.3.0)\r\n",
      "Requirement already satisfied: cycler>=0.10 in /usr/local/lib/python3.10/dist-packages (from matplotlib>=3.0->lifelines==0.30.0) (0.12.1)\r\n",
      "Requirement already satisfied: fonttools>=4.22.0 in /usr/local/lib/python3.10/dist-packages (from matplotlib>=3.0->lifelines==0.30.0) (4.53.1)\r\n",
      "Requirement already satisfied: kiwisolver>=1.0.1 in /usr/local/lib/python3.10/dist-packages (from matplotlib>=3.0->lifelines==0.30.0) (1.4.7)\r\n",
      "Requirement already satisfied: packaging>=20.0 in /usr/local/lib/python3.10/dist-packages (from matplotlib>=3.0->lifelines==0.30.0) (24.1)\r\n",
      "Requirement already satisfied: pillow>=6.2.0 in /usr/local/lib/python3.10/dist-packages (from matplotlib>=3.0->lifelines==0.30.0) (10.4.0)\r\n",
      "Requirement already satisfied: pyparsing>=2.3.1 in /usr/local/lib/python3.10/dist-packages (from matplotlib>=3.0->lifelines==0.30.0) (3.1.4)\r\n",
      "Requirement already satisfied: python-dateutil>=2.7 in /usr/local/lib/python3.10/dist-packages (from matplotlib>=3.0->lifelines==0.30.0) (2.8.2)\r\n",
      "Requirement already satisfied: pytz>=2020.1 in /usr/local/lib/python3.10/dist-packages (from pandas>=2.1->lifelines==0.30.0) (2024.2)\r\n",
      "Requirement already satisfied: tzdata>=2022.1 in /usr/local/lib/python3.10/dist-packages (from pandas>=2.1->lifelines==0.30.0) (2024.1)\r\n",
      "Requirement already satisfied: six>=1.5 in /usr/local/lib/python3.10/dist-packages (from python-dateutil>=2.7->matplotlib>=3.0->lifelines==0.30.0) (1.16.0)\r\n",
      "Installing collected packages: lifelines\r\n",
      "Successfully installed lifelines-0.30.0\r\n"
     ]
    }
   ],
   "source": [
    "# Huge thanks to Chris Deotte\n",
    "!pip install /kaggle/input/pip-install-lifelines/autograd-1.7.0-py3-none-any.whl\n",
    "!pip install /kaggle/input/pip-install-lifelines/autograd-gamma-0.5.0.tar.gz\n",
    "!pip install /kaggle/input/pip-install-lifelines/interface_meta-1.3.0-py3-none-any.whl\n",
    "!pip install /kaggle/input/pip-install-lifelines/formulaic-1.0.2-py3-none-any.whl\n",
    "!pip install /kaggle/input/pip-install-lifelines/lifelines-0.30.0-py3-none-any.whl"
   ]
  },
  {
   "cell_type": "code",
   "execution_count": 2,
   "id": "c103bf38",
   "metadata": {
    "execution": {
     "iopub.execute_input": "2025-01-14T04:59:09.567521Z",
     "iopub.status.busy": "2025-01-14T04:59:09.567266Z",
     "iopub.status.idle": "2025-01-14T04:59:13.316885Z",
     "shell.execute_reply": "2025-01-14T04:59:13.315875Z"
    },
    "papermill": {
     "duration": 3.755979,
     "end_time": "2025-01-14T04:59:13.318592",
     "exception": false,
     "start_time": "2025-01-14T04:59:09.562613",
     "status": "completed"
    },
    "tags": []
   },
   "outputs": [],
   "source": [
    "# install TABPFN thanks to Carl McBride Ellis\n",
    "!pip install -q --no-index --find-links /kaggle/input/tabpfn-2-0-1 tabpfn\n",
    "!mkdir -p /root/.cache/tabpfn/\n",
    "!cp /kaggle/input/tabpfn-2-0-1/tabpfn-v2-regressor.ckpt /root/.cache/tabpfn/tabpfn-v2-regressor.ckpt"
   ]
  },
  {
   "cell_type": "code",
   "execution_count": 3,
   "id": "d7313e5c",
   "metadata": {
    "execution": {
     "iopub.execute_input": "2025-01-14T04:59:13.327988Z",
     "iopub.status.busy": "2025-01-14T04:59:13.327735Z",
     "iopub.status.idle": "2025-01-14T04:59:44.957942Z",
     "shell.execute_reply": "2025-01-14T04:59:44.957085Z"
    },
    "papermill": {
     "duration": 31.640418,
     "end_time": "2025-01-14T04:59:44.963532",
     "exception": false,
     "start_time": "2025-01-14T04:59:13.323114",
     "status": "completed"
    },
    "tags": []
   },
   "outputs": [
    {
     "name": "stdout",
     "output_type": "stream",
     "text": [
      "Test shape: (3, 58)\n",
      "Train shape: (28800, 61)\n"
     ]
    },
    {
     "data": {
      "text/html": [
       "<div>\n",
       "<style scoped>\n",
       "    .dataframe tbody tr th:only-of-type {\n",
       "        vertical-align: middle;\n",
       "    }\n",
       "\n",
       "    .dataframe tbody tr th {\n",
       "        vertical-align: top;\n",
       "    }\n",
       "\n",
       "    .dataframe thead th {\n",
       "        text-align: right;\n",
       "    }\n",
       "</style>\n",
       "<table border=\"1\" class=\"dataframe\">\n",
       "  <thead>\n",
       "    <tr style=\"text-align: right;\">\n",
       "      <th></th>\n",
       "      <th>ID</th>\n",
       "      <th>dri_score</th>\n",
       "      <th>psych_disturb</th>\n",
       "      <th>cyto_score</th>\n",
       "      <th>diabetes</th>\n",
       "      <th>hla_match_c_high</th>\n",
       "      <th>hla_high_res_8</th>\n",
       "      <th>tbi_status</th>\n",
       "      <th>arrhythmia</th>\n",
       "      <th>hla_low_res_6</th>\n",
       "      <th>graft_type</th>\n",
       "      <th>vent_hist</th>\n",
       "      <th>renal_issue</th>\n",
       "      <th>pulm_severe</th>\n",
       "      <th>prim_disease_hct</th>\n",
       "      <th>hla_high_res_6</th>\n",
       "      <th>cmv_status</th>\n",
       "      <th>hla_high_res_10</th>\n",
       "      <th>hla_match_dqb1_high</th>\n",
       "      <th>tce_imm_match</th>\n",
       "      <th>hla_nmdp_6</th>\n",
       "      <th>hla_match_c_low</th>\n",
       "      <th>rituximab</th>\n",
       "      <th>hla_match_drb1_low</th>\n",
       "      <th>hla_match_dqb1_low</th>\n",
       "      <th>prod_type</th>\n",
       "      <th>cyto_score_detail</th>\n",
       "      <th>conditioning_intensity</th>\n",
       "      <th>ethnicity</th>\n",
       "      <th>year_hct</th>\n",
       "      <th>obesity</th>\n",
       "      <th>mrd_hct</th>\n",
       "      <th>in_vivo_tcd</th>\n",
       "      <th>tce_match</th>\n",
       "      <th>hla_match_a_high</th>\n",
       "      <th>hepatic_severe</th>\n",
       "      <th>donor_age</th>\n",
       "      <th>prior_tumor</th>\n",
       "      <th>hla_match_b_low</th>\n",
       "      <th>peptic_ulcer</th>\n",
       "      <th>age_at_hct</th>\n",
       "      <th>hla_match_a_low</th>\n",
       "      <th>gvhd_proph</th>\n",
       "      <th>rheum_issue</th>\n",
       "      <th>sex_match</th>\n",
       "      <th>hla_match_b_high</th>\n",
       "      <th>race_group</th>\n",
       "      <th>comorbidity_score</th>\n",
       "      <th>karnofsky_score</th>\n",
       "      <th>hepatic_mild</th>\n",
       "      <th>tce_div_match</th>\n",
       "      <th>donor_related</th>\n",
       "      <th>melphalan_dose</th>\n",
       "      <th>hla_low_res_8</th>\n",
       "      <th>cardiac</th>\n",
       "      <th>hla_match_drb1_high</th>\n",
       "      <th>pulm_moderate</th>\n",
       "      <th>hla_low_res_10</th>\n",
       "      <th>efs</th>\n",
       "      <th>efs_time</th>\n",
       "      <th>fold</th>\n",
       "    </tr>\n",
       "  </thead>\n",
       "  <tbody>\n",
       "    <tr>\n",
       "      <th>0</th>\n",
       "      <td>0</td>\n",
       "      <td>N/A - non-malignant indication</td>\n",
       "      <td>No</td>\n",
       "      <td>NaN</td>\n",
       "      <td>No</td>\n",
       "      <td>NaN</td>\n",
       "      <td>NaN</td>\n",
       "      <td>No TBI</td>\n",
       "      <td>No</td>\n",
       "      <td>6.0</td>\n",
       "      <td>Bone marrow</td>\n",
       "      <td>No</td>\n",
       "      <td>No</td>\n",
       "      <td>No</td>\n",
       "      <td>IEA</td>\n",
       "      <td>6.0</td>\n",
       "      <td>+/+</td>\n",
       "      <td>NaN</td>\n",
       "      <td>2.0</td>\n",
       "      <td>NaN</td>\n",
       "      <td>6.0</td>\n",
       "      <td>2.0</td>\n",
       "      <td>No</td>\n",
       "      <td>2.0</td>\n",
       "      <td>2.0</td>\n",
       "      <td>BM</td>\n",
       "      <td>NaN</td>\n",
       "      <td>NaN</td>\n",
       "      <td>Not Hispanic or Latino</td>\n",
       "      <td>2016</td>\n",
       "      <td>No</td>\n",
       "      <td>NaN</td>\n",
       "      <td>Yes</td>\n",
       "      <td>NaN</td>\n",
       "      <td>2.0</td>\n",
       "      <td>No</td>\n",
       "      <td>NaN</td>\n",
       "      <td>No</td>\n",
       "      <td>2.0</td>\n",
       "      <td>No</td>\n",
       "      <td>9.942</td>\n",
       "      <td>2.0</td>\n",
       "      <td>FKalone</td>\n",
       "      <td>No</td>\n",
       "      <td>M-F</td>\n",
       "      <td>2.0</td>\n",
       "      <td>More than one race</td>\n",
       "      <td>0.0</td>\n",
       "      <td>90.0</td>\n",
       "      <td>No</td>\n",
       "      <td>NaN</td>\n",
       "      <td>Unrelated</td>\n",
       "      <td>N/A, Mel not given</td>\n",
       "      <td>8.0</td>\n",
       "      <td>No</td>\n",
       "      <td>2.0</td>\n",
       "      <td>No</td>\n",
       "      <td>10.0</td>\n",
       "      <td>0</td>\n",
       "      <td>42.356</td>\n",
       "      <td>3</td>\n",
       "    </tr>\n",
       "    <tr>\n",
       "      <th>1</th>\n",
       "      <td>1</td>\n",
       "      <td>Intermediate</td>\n",
       "      <td>No</td>\n",
       "      <td>Intermediate</td>\n",
       "      <td>No</td>\n",
       "      <td>2.0</td>\n",
       "      <td>8.0</td>\n",
       "      <td>TBI +- Other, &gt;cGy</td>\n",
       "      <td>No</td>\n",
       "      <td>6.0</td>\n",
       "      <td>Peripheral blood</td>\n",
       "      <td>No</td>\n",
       "      <td>No</td>\n",
       "      <td>No</td>\n",
       "      <td>AML</td>\n",
       "      <td>6.0</td>\n",
       "      <td>+/+</td>\n",
       "      <td>10.0</td>\n",
       "      <td>2.0</td>\n",
       "      <td>P/P</td>\n",
       "      <td>6.0</td>\n",
       "      <td>2.0</td>\n",
       "      <td>No</td>\n",
       "      <td>2.0</td>\n",
       "      <td>2.0</td>\n",
       "      <td>PB</td>\n",
       "      <td>Intermediate</td>\n",
       "      <td>MAC</td>\n",
       "      <td>Not Hispanic or Latino</td>\n",
       "      <td>2008</td>\n",
       "      <td>No</td>\n",
       "      <td>Positive</td>\n",
       "      <td>No</td>\n",
       "      <td>Permissive</td>\n",
       "      <td>2.0</td>\n",
       "      <td>No</td>\n",
       "      <td>72.29</td>\n",
       "      <td>No</td>\n",
       "      <td>2.0</td>\n",
       "      <td>No</td>\n",
       "      <td>43.705</td>\n",
       "      <td>2.0</td>\n",
       "      <td>Other GVHD Prophylaxis</td>\n",
       "      <td>No</td>\n",
       "      <td>F-F</td>\n",
       "      <td>2.0</td>\n",
       "      <td>Asian</td>\n",
       "      <td>3.0</td>\n",
       "      <td>90.0</td>\n",
       "      <td>No</td>\n",
       "      <td>Permissive mismatched</td>\n",
       "      <td>Related</td>\n",
       "      <td>N/A, Mel not given</td>\n",
       "      <td>8.0</td>\n",
       "      <td>No</td>\n",
       "      <td>2.0</td>\n",
       "      <td>Yes</td>\n",
       "      <td>10.0</td>\n",
       "      <td>1</td>\n",
       "      <td>4.672</td>\n",
       "      <td>7</td>\n",
       "    </tr>\n",
       "    <tr>\n",
       "      <th>2</th>\n",
       "      <td>2</td>\n",
       "      <td>N/A - non-malignant indication</td>\n",
       "      <td>No</td>\n",
       "      <td>NaN</td>\n",
       "      <td>No</td>\n",
       "      <td>2.0</td>\n",
       "      <td>8.0</td>\n",
       "      <td>No TBI</td>\n",
       "      <td>No</td>\n",
       "      <td>6.0</td>\n",
       "      <td>Bone marrow</td>\n",
       "      <td>No</td>\n",
       "      <td>No</td>\n",
       "      <td>No</td>\n",
       "      <td>HIS</td>\n",
       "      <td>6.0</td>\n",
       "      <td>+/+</td>\n",
       "      <td>10.0</td>\n",
       "      <td>2.0</td>\n",
       "      <td>P/P</td>\n",
       "      <td>6.0</td>\n",
       "      <td>2.0</td>\n",
       "      <td>No</td>\n",
       "      <td>2.0</td>\n",
       "      <td>2.0</td>\n",
       "      <td>BM</td>\n",
       "      <td>NaN</td>\n",
       "      <td>NaN</td>\n",
       "      <td>Not Hispanic or Latino</td>\n",
       "      <td>2019</td>\n",
       "      <td>No</td>\n",
       "      <td>NaN</td>\n",
       "      <td>Yes</td>\n",
       "      <td>NaN</td>\n",
       "      <td>2.0</td>\n",
       "      <td>No</td>\n",
       "      <td>NaN</td>\n",
       "      <td>No</td>\n",
       "      <td>2.0</td>\n",
       "      <td>No</td>\n",
       "      <td>33.997</td>\n",
       "      <td>2.0</td>\n",
       "      <td>Cyclophosphamide alone</td>\n",
       "      <td>No</td>\n",
       "      <td>F-M</td>\n",
       "      <td>2.0</td>\n",
       "      <td>More than one race</td>\n",
       "      <td>0.0</td>\n",
       "      <td>90.0</td>\n",
       "      <td>No</td>\n",
       "      <td>Permissive mismatched</td>\n",
       "      <td>Related</td>\n",
       "      <td>N/A, Mel not given</td>\n",
       "      <td>8.0</td>\n",
       "      <td>No</td>\n",
       "      <td>2.0</td>\n",
       "      <td>No</td>\n",
       "      <td>10.0</td>\n",
       "      <td>0</td>\n",
       "      <td>19.793</td>\n",
       "      <td>6</td>\n",
       "    </tr>\n",
       "    <tr>\n",
       "      <th>3</th>\n",
       "      <td>3</td>\n",
       "      <td>High</td>\n",
       "      <td>No</td>\n",
       "      <td>Intermediate</td>\n",
       "      <td>No</td>\n",
       "      <td>2.0</td>\n",
       "      <td>8.0</td>\n",
       "      <td>No TBI</td>\n",
       "      <td>No</td>\n",
       "      <td>6.0</td>\n",
       "      <td>Bone marrow</td>\n",
       "      <td>No</td>\n",
       "      <td>No</td>\n",
       "      <td>No</td>\n",
       "      <td>ALL</td>\n",
       "      <td>6.0</td>\n",
       "      <td>+/+</td>\n",
       "      <td>10.0</td>\n",
       "      <td>2.0</td>\n",
       "      <td>P/P</td>\n",
       "      <td>6.0</td>\n",
       "      <td>2.0</td>\n",
       "      <td>No</td>\n",
       "      <td>2.0</td>\n",
       "      <td>2.0</td>\n",
       "      <td>BM</td>\n",
       "      <td>Intermediate</td>\n",
       "      <td>MAC</td>\n",
       "      <td>Not Hispanic or Latino</td>\n",
       "      <td>2009</td>\n",
       "      <td>No</td>\n",
       "      <td>Positive</td>\n",
       "      <td>No</td>\n",
       "      <td>Permissive</td>\n",
       "      <td>2.0</td>\n",
       "      <td>No</td>\n",
       "      <td>29.23</td>\n",
       "      <td>No</td>\n",
       "      <td>2.0</td>\n",
       "      <td>No</td>\n",
       "      <td>43.245</td>\n",
       "      <td>2.0</td>\n",
       "      <td>FK+ MMF +- others</td>\n",
       "      <td>No</td>\n",
       "      <td>M-M</td>\n",
       "      <td>2.0</td>\n",
       "      <td>White</td>\n",
       "      <td>0.0</td>\n",
       "      <td>90.0</td>\n",
       "      <td>Yes</td>\n",
       "      <td>Permissive mismatched</td>\n",
       "      <td>Unrelated</td>\n",
       "      <td>N/A, Mel not given</td>\n",
       "      <td>8.0</td>\n",
       "      <td>No</td>\n",
       "      <td>2.0</td>\n",
       "      <td>No</td>\n",
       "      <td>10.0</td>\n",
       "      <td>0</td>\n",
       "      <td>102.349</td>\n",
       "      <td>1</td>\n",
       "    </tr>\n",
       "    <tr>\n",
       "      <th>4</th>\n",
       "      <td>4</td>\n",
       "      <td>High</td>\n",
       "      <td>No</td>\n",
       "      <td>NaN</td>\n",
       "      <td>No</td>\n",
       "      <td>2.0</td>\n",
       "      <td>8.0</td>\n",
       "      <td>No TBI</td>\n",
       "      <td>No</td>\n",
       "      <td>6.0</td>\n",
       "      <td>Peripheral blood</td>\n",
       "      <td>No</td>\n",
       "      <td>No</td>\n",
       "      <td>No</td>\n",
       "      <td>MPN</td>\n",
       "      <td>6.0</td>\n",
       "      <td>+/+</td>\n",
       "      <td>10.0</td>\n",
       "      <td>2.0</td>\n",
       "      <td>NaN</td>\n",
       "      <td>5.0</td>\n",
       "      <td>2.0</td>\n",
       "      <td>No</td>\n",
       "      <td>2.0</td>\n",
       "      <td>2.0</td>\n",
       "      <td>PB</td>\n",
       "      <td>NaN</td>\n",
       "      <td>MAC</td>\n",
       "      <td>Hispanic or Latino</td>\n",
       "      <td>2018</td>\n",
       "      <td>No</td>\n",
       "      <td>NaN</td>\n",
       "      <td>Yes</td>\n",
       "      <td>NaN</td>\n",
       "      <td>2.0</td>\n",
       "      <td>No</td>\n",
       "      <td>56.81</td>\n",
       "      <td>No</td>\n",
       "      <td>2.0</td>\n",
       "      <td>No</td>\n",
       "      <td>29.740</td>\n",
       "      <td>2.0</td>\n",
       "      <td>TDEPLETION +- other</td>\n",
       "      <td>No</td>\n",
       "      <td>M-F</td>\n",
       "      <td>2.0</td>\n",
       "      <td>American Indian or Alaska Native</td>\n",
       "      <td>1.0</td>\n",
       "      <td>90.0</td>\n",
       "      <td>No</td>\n",
       "      <td>Permissive mismatched</td>\n",
       "      <td>Related</td>\n",
       "      <td>MEL</td>\n",
       "      <td>8.0</td>\n",
       "      <td>No</td>\n",
       "      <td>2.0</td>\n",
       "      <td>No</td>\n",
       "      <td>10.0</td>\n",
       "      <td>0</td>\n",
       "      <td>16.223</td>\n",
       "      <td>4</td>\n",
       "    </tr>\n",
       "  </tbody>\n",
       "</table>\n",
       "</div>"
      ],
      "text/plain": [
       "   ID                       dri_score psych_disturb    cyto_score diabetes  \\\n",
       "0   0  N/A - non-malignant indication            No           NaN       No   \n",
       "1   1                    Intermediate            No  Intermediate       No   \n",
       "2   2  N/A - non-malignant indication            No           NaN       No   \n",
       "3   3                            High            No  Intermediate       No   \n",
       "4   4                            High            No           NaN       No   \n",
       "\n",
       "   hla_match_c_high  hla_high_res_8          tbi_status arrhythmia  \\\n",
       "0               NaN             NaN              No TBI         No   \n",
       "1               2.0             8.0  TBI +- Other, >cGy         No   \n",
       "2               2.0             8.0              No TBI         No   \n",
       "3               2.0             8.0              No TBI         No   \n",
       "4               2.0             8.0              No TBI         No   \n",
       "\n",
       "   hla_low_res_6        graft_type vent_hist renal_issue pulm_severe  \\\n",
       "0            6.0       Bone marrow        No          No          No   \n",
       "1            6.0  Peripheral blood        No          No          No   \n",
       "2            6.0       Bone marrow        No          No          No   \n",
       "3            6.0       Bone marrow        No          No          No   \n",
       "4            6.0  Peripheral blood        No          No          No   \n",
       "\n",
       "  prim_disease_hct  hla_high_res_6 cmv_status  hla_high_res_10  \\\n",
       "0              IEA             6.0        +/+              NaN   \n",
       "1              AML             6.0        +/+             10.0   \n",
       "2              HIS             6.0        +/+             10.0   \n",
       "3              ALL             6.0        +/+             10.0   \n",
       "4              MPN             6.0        +/+             10.0   \n",
       "\n",
       "   hla_match_dqb1_high tce_imm_match  hla_nmdp_6  hla_match_c_low rituximab  \\\n",
       "0                  2.0           NaN         6.0              2.0        No   \n",
       "1                  2.0           P/P         6.0              2.0        No   \n",
       "2                  2.0           P/P         6.0              2.0        No   \n",
       "3                  2.0           P/P         6.0              2.0        No   \n",
       "4                  2.0           NaN         5.0              2.0        No   \n",
       "\n",
       "   hla_match_drb1_low  hla_match_dqb1_low prod_type cyto_score_detail  \\\n",
       "0                 2.0                 2.0        BM               NaN   \n",
       "1                 2.0                 2.0        PB      Intermediate   \n",
       "2                 2.0                 2.0        BM               NaN   \n",
       "3                 2.0                 2.0        BM      Intermediate   \n",
       "4                 2.0                 2.0        PB               NaN   \n",
       "\n",
       "  conditioning_intensity               ethnicity  year_hct obesity   mrd_hct  \\\n",
       "0                    NaN  Not Hispanic or Latino      2016      No       NaN   \n",
       "1                    MAC  Not Hispanic or Latino      2008      No  Positive   \n",
       "2                    NaN  Not Hispanic or Latino      2019      No       NaN   \n",
       "3                    MAC  Not Hispanic or Latino      2009      No  Positive   \n",
       "4                    MAC      Hispanic or Latino      2018      No       NaN   \n",
       "\n",
       "  in_vivo_tcd   tce_match  hla_match_a_high hepatic_severe  donor_age  \\\n",
       "0         Yes         NaN               2.0             No        NaN   \n",
       "1          No  Permissive               2.0             No      72.29   \n",
       "2         Yes         NaN               2.0             No        NaN   \n",
       "3          No  Permissive               2.0             No      29.23   \n",
       "4         Yes         NaN               2.0             No      56.81   \n",
       "\n",
       "  prior_tumor  hla_match_b_low peptic_ulcer  age_at_hct  hla_match_a_low  \\\n",
       "0          No              2.0           No       9.942              2.0   \n",
       "1          No              2.0           No      43.705              2.0   \n",
       "2          No              2.0           No      33.997              2.0   \n",
       "3          No              2.0           No      43.245              2.0   \n",
       "4          No              2.0           No      29.740              2.0   \n",
       "\n",
       "               gvhd_proph rheum_issue sex_match  hla_match_b_high  \\\n",
       "0                 FKalone          No       M-F               2.0   \n",
       "1  Other GVHD Prophylaxis          No       F-F               2.0   \n",
       "2  Cyclophosphamide alone          No       F-M               2.0   \n",
       "3       FK+ MMF +- others          No       M-M               2.0   \n",
       "4     TDEPLETION +- other          No       M-F               2.0   \n",
       "\n",
       "                         race_group  comorbidity_score  karnofsky_score  \\\n",
       "0                More than one race                0.0             90.0   \n",
       "1                             Asian                3.0             90.0   \n",
       "2                More than one race                0.0             90.0   \n",
       "3                             White                0.0             90.0   \n",
       "4  American Indian or Alaska Native                1.0             90.0   \n",
       "\n",
       "  hepatic_mild          tce_div_match donor_related      melphalan_dose  \\\n",
       "0           No                    NaN     Unrelated  N/A, Mel not given   \n",
       "1           No  Permissive mismatched       Related  N/A, Mel not given   \n",
       "2           No  Permissive mismatched       Related  N/A, Mel not given   \n",
       "3          Yes  Permissive mismatched     Unrelated  N/A, Mel not given   \n",
       "4           No  Permissive mismatched       Related                 MEL   \n",
       "\n",
       "   hla_low_res_8 cardiac  hla_match_drb1_high pulm_moderate  hla_low_res_10  \\\n",
       "0            8.0      No                  2.0            No            10.0   \n",
       "1            8.0      No                  2.0           Yes            10.0   \n",
       "2            8.0      No                  2.0            No            10.0   \n",
       "3            8.0      No                  2.0            No            10.0   \n",
       "4            8.0      No                  2.0            No            10.0   \n",
       "\n",
       "   efs  efs_time  fold  \n",
       "0    0    42.356     3  \n",
       "1    1     4.672     7  \n",
       "2    0    19.793     6  \n",
       "3    0   102.349     1  \n",
       "4    0    16.223     4  "
      ]
     },
     "execution_count": 3,
     "metadata": {},
     "output_type": "execute_result"
    }
   ],
   "source": [
    "import numpy as np, pandas as pd\n",
    "import matplotlib.pyplot as plt\n",
    "from sklearn.model_selection import KFold\n",
    "from tabpfn import TabPFNRegressor\n",
    "\n",
    "pd.set_option('display.max_columns', 500)\n",
    "pd.set_option('display.max_rows', 500)\n",
    "\n",
    "test = pd.read_csv(\"/kaggle/input/equity-post-HCT-survival-predictions/test.csv\")\n",
    "print(\"Test shape:\", test.shape )\n",
    "\n",
    "train = pd.read_excel(\"/kaggle/input/dataset-folding-strategy/random_folding.xlsx\")\n",
    "print(\"Train shape:\",train.shape)\n",
    "train.head()"
   ]
  },
  {
   "cell_type": "code",
   "execution_count": 4,
   "id": "fb18d58e",
   "metadata": {
    "execution": {
     "iopub.execute_input": "2025-01-14T04:59:44.973534Z",
     "iopub.status.busy": "2025-01-14T04:59:44.973128Z",
     "iopub.status.idle": "2025-01-14T04:59:45.475205Z",
     "shell.execute_reply": "2025-01-14T04:59:45.474415Z"
    },
    "papermill": {
     "duration": 0.508588,
     "end_time": "2025-01-14T04:59:45.476688",
     "exception": false,
     "start_time": "2025-01-14T04:59:44.968100",
     "status": "completed"
    },
    "tags": []
   },
   "outputs": [],
   "source": [
    "# create target\n",
    "from lifelines import KaplanMeierFitter, NelsonAalenFitter, CoxPHFitter\n",
    "\n",
    "def create_km_target(data, n_splits=5, random_state=42):\n",
    "    \"\"\"\n",
    "    Uses Kaplan-Meier\n",
    "    \"\"\"\n",
    "    kmf = KaplanMeierFitter()\n",
    "    oof_preds = np.zeros(len(data))\n",
    "    \n",
    "    cv = KFold(n_splits=n_splits, shuffle=True, random_state=random_state)\n",
    "    for fold, (train_idx, valid_idx) in enumerate(cv.split(data)):\n",
    "        train_data = data.iloc[train_idx]\n",
    "        valid_data = data.iloc[valid_idx]\n",
    "\n",
    "        kmf.fit(durations=train_data['efs_time'], event_observed=train_data['efs'])\n",
    "        oof_preds[valid_idx] = kmf.survival_function_at_times(\n",
    "            valid_data['efs_time']\n",
    "        ).values\n",
    "\n",
    "    data['y'] = oof_preds\n",
    "    return data\n",
    "\n",
    "\n",
    "def create_na_target(data, n_splits=5, random_state=42):\n",
    "    \"\"\"\n",
    "    Uses Nelson-Aalen\n",
    "    \"\"\"\n",
    "    naf = NelsonAalenFitter()\n",
    "    oof_preds = np.zeros(len(data))\n",
    "\n",
    "    cv = KFold(n_splits=n_splits, shuffle=True, random_state=random_state)\n",
    "    for fold, (train_idx, valid_idx) in enumerate(cv.split(data)):\n",
    "        train_data = data.iloc[train_idx]\n",
    "        valid_data = data.iloc[valid_idx]\n",
    "\n",
    "        naf.fit(durations=train_data['efs_time'], event_observed=train_data['efs'])\n",
    "        survival_vals = np.exp(-naf.cumulative_hazard_at_times(valid_data['efs_time']).values)\n",
    "        oof_preds[valid_idx] = survival_vals\n",
    "\n",
    "    data['y_na'] = oof_preds\n",
    "    return data\n",
    "\n",
    "train = create_km_target(train)\n",
    "train = create_na_target(train)"
   ]
  },
  {
   "cell_type": "code",
   "execution_count": 5,
   "id": "81c20d49",
   "metadata": {
    "execution": {
     "iopub.execute_input": "2025-01-14T04:59:45.487008Z",
     "iopub.status.busy": "2025-01-14T04:59:45.486758Z",
     "iopub.status.idle": "2025-01-14T04:59:45.682744Z",
     "shell.execute_reply": "2025-01-14T04:59:45.681707Z"
    },
    "papermill": {
     "duration": 0.202886,
     "end_time": "2025-01-14T04:59:45.684499",
     "exception": false,
     "start_time": "2025-01-14T04:59:45.481613",
     "status": "completed"
    },
    "tags": []
   },
   "outputs": [
    {
     "name": "stdout",
     "output_type": "stream",
     "text": [
      "There are 65 FEATURES: ['dri_score', 'psych_disturb', 'cyto_score', 'diabetes', 'hla_match_c_high', 'hla_high_res_8', 'tbi_status', 'arrhythmia', 'hla_low_res_6', 'graft_type', 'vent_hist', 'renal_issue', 'pulm_severe', 'prim_disease_hct', 'hla_high_res_6', 'cmv_status', 'hla_high_res_10', 'hla_match_dqb1_high', 'tce_imm_match', 'hla_nmdp_6', 'hla_match_c_low', 'rituximab', 'hla_match_drb1_low', 'hla_match_dqb1_low', 'prod_type', 'cyto_score_detail', 'conditioning_intensity', 'ethnicity', 'year_hct', 'obesity', 'mrd_hct', 'in_vivo_tcd', 'tce_match', 'hla_match_a_high', 'hepatic_severe', 'donor_age', 'prior_tumor', 'hla_match_b_low', 'peptic_ulcer', 'age_at_hct', 'hla_match_a_low', 'gvhd_proph', 'rheum_issue', 'sex_match', 'hla_match_b_high', 'race_group', 'comorbidity_score', 'karnofsky_score', 'hepatic_mild', 'tce_div_match', 'donor_related', 'melphalan_dose', 'hla_low_res_8', 'cardiac', 'hla_match_drb1_high', 'pulm_moderate', 'hla_low_res_10', 'na_count', 'age_karnofsky', 'age_comorbidity', 'donor_recipient_age_diff', 'hla_match_ratio', 'age_squared', 'karnofsky_squared', '16?']\n"
     ]
    }
   ],
   "source": [
    "# missing and note done as same\n",
    "train = train.replace('Not done', 'missing')\n",
    "test = test.replace('Not done', 'missing')\n",
    "\n",
    "train = train.replace('Not tested', 'missing')\n",
    "test = test.replace('Not tested', 'missing')\n",
    "\n",
    "train['na_count'] = train.isna().sum(axis=1)\n",
    "test['na_count'] = test.isna().sum(axis=1)\n",
    "\n",
    "train['age_karnofsky'] = train['age_at_hct'] * train['karnofsky_score']\n",
    "train['age_comorbidity'] = train['age_at_hct'] * train['comorbidity_score']\n",
    "train['donor_recipient_age_diff'] = abs(train['donor_age'] - train['age_at_hct'])\n",
    "train['hla_match_ratio'] = (train['hla_high_res_8'] + train['hla_low_res_8']) / 16\n",
    "train['age_squared'] = train['age_at_hct'] ** 2\n",
    "train['karnofsky_squared'] = train['karnofsky_score'] ** 2\n",
    "train['16?'] = np.where(train['age_at_hct']<=16,1,0)\n",
    "\n",
    "test['age_karnofsky'] = test['age_at_hct'] * test['karnofsky_score']\n",
    "test['age_comorbidity'] = train['age_at_hct'] * test['comorbidity_score']\n",
    "test['donor_recipient_age_diff'] = abs(test['donor_age'] - test['age_at_hct'])\n",
    "test['hla_match_ratio'] = (test['hla_high_res_8'] + test['hla_low_res_8']) / 16\n",
    "test['age_squared'] = test['age_at_hct'] ** 2\n",
    "test['karnofsky_squared'] = test['karnofsky_score'] ** 2\n",
    "test['16?'] = np.where(test['age_at_hct']<=16,1,0)\n",
    "\n",
    "\n",
    "RMV = [\"ID\",\"efs\",\"efs_time\",\"y\",\"y_na\",\"fold\"]\n",
    "FEATURES = [c for c in train.columns if not c in RMV]\n",
    "print(f\"There are {len(FEATURES)} FEATURES: {FEATURES}\")"
   ]
  },
  {
   "cell_type": "code",
   "execution_count": 6,
   "id": "4f5b19d3",
   "metadata": {
    "execution": {
     "iopub.execute_input": "2025-01-14T04:59:45.695146Z",
     "iopub.status.busy": "2025-01-14T04:59:45.694842Z",
     "iopub.status.idle": "2025-01-14T04:59:45.783132Z",
     "shell.execute_reply": "2025-01-14T04:59:45.782121Z"
    },
    "papermill": {
     "duration": 0.094817,
     "end_time": "2025-01-14T04:59:45.784502",
     "exception": false,
     "start_time": "2025-01-14T04:59:45.689685",
     "status": "completed"
    },
    "tags": []
   },
   "outputs": [
    {
     "name": "stdout",
     "output_type": "stream",
     "text": [
      "In these features, there are 35 CATEGORICAL FEATURES: ['dri_score', 'psych_disturb', 'cyto_score', 'diabetes', 'tbi_status', 'arrhythmia', 'graft_type', 'vent_hist', 'renal_issue', 'pulm_severe', 'prim_disease_hct', 'cmv_status', 'tce_imm_match', 'rituximab', 'prod_type', 'cyto_score_detail', 'conditioning_intensity', 'ethnicity', 'obesity', 'mrd_hct', 'in_vivo_tcd', 'tce_match', 'hepatic_severe', 'prior_tumor', 'peptic_ulcer', 'gvhd_proph', 'rheum_issue', 'sex_match', 'race_group', 'hepatic_mild', 'tce_div_match', 'donor_related', 'melphalan_dose', 'cardiac', 'pulm_moderate']\n"
     ]
    }
   ],
   "source": [
    "CATS = []\n",
    "for c in FEATURES:\n",
    "    if train[c].dtype==\"object\":\n",
    "        CATS.append(c)\n",
    "        train[c] = train[c].fillna(\"missing\")\n",
    "        test[c] = test[c].fillna(\"missing\")\n",
    "print(f\"In these features, there are {len(CATS)} CATEGORICAL FEATURES: {CATS}\")"
   ]
  },
  {
   "cell_type": "code",
   "execution_count": 7,
   "id": "1871f46f",
   "metadata": {
    "execution": {
     "iopub.execute_input": "2025-01-14T04:59:45.795146Z",
     "iopub.status.busy": "2025-01-14T04:59:45.794839Z",
     "iopub.status.idle": "2025-01-14T04:59:45.932871Z",
     "shell.execute_reply": "2025-01-14T04:59:45.931974Z"
    },
    "papermill": {
     "duration": 0.144819,
     "end_time": "2025-01-14T04:59:45.934382",
     "exception": false,
     "start_time": "2025-01-14T04:59:45.789563",
     "status": "completed"
    },
    "tags": []
   },
   "outputs": [
    {
     "name": "stdout",
     "output_type": "stream",
     "text": [
      "We LABEL ENCODE the CATEGORICAL FEATURES: dri_score, psych_disturb, cyto_score, diabetes, tbi_status, arrhythmia, graft_type, vent_hist, renal_issue, pulm_severe, prim_disease_hct, cmv_status, tce_imm_match, rituximab, prod_type, cyto_score_detail, conditioning_intensity, ethnicity, obesity, mrd_hct, in_vivo_tcd, tce_match, hepatic_severe, prior_tumor, peptic_ulcer, gvhd_proph, rheum_issue, sex_match, race_group, hepatic_mild, tce_div_match, donor_related, melphalan_dose, cardiac, pulm_moderate, "
     ]
    }
   ],
   "source": [
    "combined = pd.concat([train,test],axis=0,ignore_index=True)\n",
    "#print(\"Combined data shape:\", combined.shape )\n",
    "\n",
    "# LABEL ENCODE CATEGORICAL FEATURES\n",
    "print(\"We LABEL ENCODE the CATEGORICAL FEATURES: \",end=\"\")\n",
    "for c in FEATURES:\n",
    "\n",
    "    # LABEL ENCODE CATEGORICAL AND CONVERT TO INT32 CATEGORY\n",
    "    if c in CATS:\n",
    "        print(f\"{c}, \",end=\"\")\n",
    "        combined[c],_ = combined[c].factorize()\n",
    "        combined[c] -= combined[c].min()\n",
    "        combined[c] = combined[c].astype(\"int32\")\n",
    "        combined[c] = combined[c].astype(\"category\")\n",
    "        \n",
    "    # REDUCE PRECISION OF NUMERICAL TO 32BIT TO SAVE MEMORY\n",
    "    else:\n",
    "        if combined[c].dtype==\"float64\":\n",
    "            combined[c] = combined[c].astype(\"float32\")\n",
    "        if combined[c].dtype==\"int64\":\n",
    "            combined[c] = combined[c].astype(\"int32\")\n",
    "    \n",
    "train = combined.iloc[:len(train)].copy()\n",
    "test = combined.iloc[len(train):].reset_index(drop=True).copy()"
   ]
  },
  {
   "cell_type": "code",
   "execution_count": 8,
   "id": "b6d07a86",
   "metadata": {
    "execution": {
     "iopub.execute_input": "2025-01-14T04:59:45.944811Z",
     "iopub.status.busy": "2025-01-14T04:59:45.944552Z",
     "iopub.status.idle": "2025-01-14T07:36:58.777114Z",
     "shell.execute_reply": "2025-01-14T07:36:58.776183Z"
    },
    "papermill": {
     "duration": 9432.846327,
     "end_time": "2025-01-14T07:36:58.785676",
     "exception": false,
     "start_time": "2025-01-14T04:59:45.939349",
     "status": "completed"
    },
    "tags": []
   },
   "outputs": [
    {
     "name": "stdout",
     "output_type": "stream",
     "text": [
      "#########################\n",
      "### Fold 1\n",
      "#########################\n"
     ]
    },
    {
     "name": "stderr",
     "output_type": "stream",
     "text": [
      "/usr/local/lib/python3.10/dist-packages/tabpfn/regressor.py:425: UserWarning: Number of samples 25920 is greater than the maximum Number of samples 10000 supported by the model. You may see degraded performance.\n",
      "  X, y, feature_names_in, n_features_in = validate_Xy_fit(\n"
     ]
    },
    {
     "name": "stdout",
     "output_type": "stream",
     "text": [
      "#########################\n",
      "### Fold 2\n",
      "#########################\n"
     ]
    },
    {
     "name": "stderr",
     "output_type": "stream",
     "text": [
      "/usr/local/lib/python3.10/dist-packages/tabpfn/regressor.py:425: UserWarning: Number of samples 25920 is greater than the maximum Number of samples 10000 supported by the model. You may see degraded performance.\n",
      "  X, y, feature_names_in, n_features_in = validate_Xy_fit(\n"
     ]
    },
    {
     "name": "stdout",
     "output_type": "stream",
     "text": [
      "#########################\n",
      "### Fold 3\n",
      "#########################\n"
     ]
    },
    {
     "name": "stderr",
     "output_type": "stream",
     "text": [
      "/usr/local/lib/python3.10/dist-packages/tabpfn/regressor.py:425: UserWarning: Number of samples 25920 is greater than the maximum Number of samples 10000 supported by the model. You may see degraded performance.\n",
      "  X, y, feature_names_in, n_features_in = validate_Xy_fit(\n"
     ]
    },
    {
     "name": "stdout",
     "output_type": "stream",
     "text": [
      "#########################\n",
      "### Fold 4\n",
      "#########################\n"
     ]
    },
    {
     "name": "stderr",
     "output_type": "stream",
     "text": [
      "/usr/local/lib/python3.10/dist-packages/tabpfn/regressor.py:425: UserWarning: Number of samples 25920 is greater than the maximum Number of samples 10000 supported by the model. You may see degraded performance.\n",
      "  X, y, feature_names_in, n_features_in = validate_Xy_fit(\n"
     ]
    },
    {
     "name": "stdout",
     "output_type": "stream",
     "text": [
      "#########################\n",
      "### Fold 5\n",
      "#########################\n"
     ]
    },
    {
     "name": "stderr",
     "output_type": "stream",
     "text": [
      "/usr/local/lib/python3.10/dist-packages/tabpfn/regressor.py:425: UserWarning: Number of samples 25920 is greater than the maximum Number of samples 10000 supported by the model. You may see degraded performance.\n",
      "  X, y, feature_names_in, n_features_in = validate_Xy_fit(\n"
     ]
    },
    {
     "name": "stdout",
     "output_type": "stream",
     "text": [
      "#########################\n",
      "### Fold 6\n",
      "#########################\n"
     ]
    },
    {
     "name": "stderr",
     "output_type": "stream",
     "text": [
      "/usr/local/lib/python3.10/dist-packages/tabpfn/regressor.py:425: UserWarning: Number of samples 25920 is greater than the maximum Number of samples 10000 supported by the model. You may see degraded performance.\n",
      "  X, y, feature_names_in, n_features_in = validate_Xy_fit(\n"
     ]
    },
    {
     "name": "stdout",
     "output_type": "stream",
     "text": [
      "#########################\n",
      "### Fold 7\n",
      "#########################\n"
     ]
    },
    {
     "name": "stderr",
     "output_type": "stream",
     "text": [
      "/usr/local/lib/python3.10/dist-packages/tabpfn/regressor.py:425: UserWarning: Number of samples 25920 is greater than the maximum Number of samples 10000 supported by the model. You may see degraded performance.\n",
      "  X, y, feature_names_in, n_features_in = validate_Xy_fit(\n"
     ]
    },
    {
     "name": "stdout",
     "output_type": "stream",
     "text": [
      "#########################\n",
      "### Fold 8\n",
      "#########################\n"
     ]
    },
    {
     "name": "stderr",
     "output_type": "stream",
     "text": [
      "/usr/local/lib/python3.10/dist-packages/tabpfn/regressor.py:425: UserWarning: Number of samples 25920 is greater than the maximum Number of samples 10000 supported by the model. You may see degraded performance.\n",
      "  X, y, feature_names_in, n_features_in = validate_Xy_fit(\n"
     ]
    },
    {
     "name": "stdout",
     "output_type": "stream",
     "text": [
      "#########################\n",
      "### Fold 9\n",
      "#########################\n"
     ]
    },
    {
     "name": "stderr",
     "output_type": "stream",
     "text": [
      "/usr/local/lib/python3.10/dist-packages/tabpfn/regressor.py:425: UserWarning: Number of samples 25920 is greater than the maximum Number of samples 10000 supported by the model. You may see degraded performance.\n",
      "  X, y, feature_names_in, n_features_in = validate_Xy_fit(\n"
     ]
    },
    {
     "name": "stdout",
     "output_type": "stream",
     "text": [
      "#########################\n",
      "### Fold 10\n",
      "#########################\n"
     ]
    },
    {
     "name": "stderr",
     "output_type": "stream",
     "text": [
      "/usr/local/lib/python3.10/dist-packages/tabpfn/regressor.py:425: UserWarning: Number of samples 25920 is greater than the maximum Number of samples 10000 supported by the model. You may see degraded performance.\n",
      "  X, y, feature_names_in, n_features_in = validate_Xy_fit(\n"
     ]
    },
    {
     "name": "stdout",
     "output_type": "stream",
     "text": [
      "CPU times: user 2h 33min 1s, sys: 32 s, total: 2h 33min 33s\n",
      "Wall time: 2h 37min 12s\n"
     ]
    }
   ],
   "source": [
    "%%time\n",
    "FOLDS = 10\n",
    "    \n",
    "oof_tabpfn_kap= np.zeros(len(train))\n",
    "pred_tabpfn_kap = np.zeros(len(test))\n",
    "models = {}\n",
    "\n",
    "for idx, fold in enumerate(range(FOLDS)):\n",
    "\n",
    "    print(\"#\"*25)\n",
    "    print(f\"### Fold {fold+1}\")\n",
    "    print(\"#\"*25)\n",
    "    \n",
    "    x_train = train[train[\"fold\"]!=fold][FEATURES].copy()\n",
    "    y_train = train[train[\"fold\"]!=fold][\"y\"]\n",
    "    x_valid = train[train[\"fold\"]==fold][FEATURES].copy()\n",
    "    y_valid = train[train[\"fold\"]==fold][\"y\"]\n",
    "    x_test = test[FEATURES].copy()\n",
    "    \n",
    "    tabpfn_kap = TabPFNRegressor(random_state=42,ignore_pretraining_limits=True,device=\"cuda\")\n",
    "    tabpfn_kap.fit(x_train, y_train)\n",
    "\n",
    "    # INFER OOF\n",
    "    oof_tabpfn_kap[x_valid.index] = tabpfn_kap.predict(x_valid)\n",
    "    # INFER TEST\n",
    "    pred_tabpfn_kap += tabpfn_kap.predict(x_test)\n",
    "\n",
    "    models[fold] = tabpfn_kap\n",
    "\n",
    "# COMPUTE AVERAGE TEST PREDS\n",
    "pred_tabpfn_kap /= FOLDS"
   ]
  },
  {
   "cell_type": "code",
   "execution_count": 9,
   "id": "5782078b",
   "metadata": {
    "execution": {
     "iopub.execute_input": "2025-01-14T07:36:58.799831Z",
     "iopub.status.busy": "2025-01-14T07:36:58.799312Z",
     "iopub.status.idle": "2025-01-14T07:36:59.138392Z",
     "shell.execute_reply": "2025-01-14T07:36:59.137633Z"
    },
    "papermill": {
     "duration": 0.347507,
     "end_time": "2025-01-14T07:36:59.139754",
     "exception": false,
     "start_time": "2025-01-14T07:36:58.792247",
     "status": "completed"
    },
    "tags": []
   },
   "outputs": [
    {
     "name": "stderr",
     "output_type": "stream",
     "text": [
      "/kaggle/usr/lib/eefs-concordance-index/metric.py:59: FutureWarning: The default of observed=False is deprecated and will be changed to True in a future version of pandas. Pass observed=False to retain current behavior or observed=True to adopt the future default and silence this warning.\n",
      "  merged_df_race_dict = dict(merged_df.groupby(['race_group']).groups)\n"
     ]
    },
    {
     "name": "stdout",
     "output_type": "stream",
     "text": [
      "\n",
      "Overall CV for Tabpfn KaplanMeier = 0.6609106027219831\n"
     ]
    }
   ],
   "source": [
    "from metric import score\n",
    "\n",
    "y_true = train[[\"ID\",\"efs\",\"efs_time\",\"race_group\"]].copy()\n",
    "y_pred = train[[\"ID\"]].copy()\n",
    "y_pred[\"prediction\"] = oof_tabpfn_kap\n",
    "m = score(y_true.copy(), y_pred.copy(), \"ID\")\n",
    "print(f\"\\nOverall CV for Tabpfn KaplanMeier =\",m)"
   ]
  },
  {
   "cell_type": "code",
   "execution_count": 10,
   "id": "bb656d52",
   "metadata": {
    "execution": {
     "iopub.execute_input": "2025-01-14T07:36:59.152407Z",
     "iopub.status.busy": "2025-01-14T07:36:59.152164Z",
     "iopub.status.idle": "2025-01-14T07:36:59.155086Z",
     "shell.execute_reply": "2025-01-14T07:36:59.154477Z"
    },
    "papermill": {
     "duration": 0.010462,
     "end_time": "2025-01-14T07:36:59.156275",
     "exception": false,
     "start_time": "2025-01-14T07:36:59.145813",
     "status": "completed"
    },
    "tags": []
   },
   "outputs": [],
   "source": [
    "# %%time\n",
    "# FOLDS = 3\n",
    "# kf = KFold(n_splits=FOLDS, shuffle=True, random_state=42)\n",
    "    \n",
    "# oof_tabpfn_aal= np.zeros(len(train))\n",
    "# pred_tabpfn_aal = np.zeros(len(test))\n",
    "\n",
    "# for i, (train_index, test_index) in enumerate(kf.split(train)):\n",
    "\n",
    "#     print(\"#\"*25)\n",
    "#     print(f\"### Fold {i+1}\")\n",
    "#     print(\"#\"*25)\n",
    "    \n",
    "#     x_train = train.loc[train_index,FEATURES].copy()\n",
    "#     y_train = train.loc[train_index,\"y_na\"]\n",
    "#     x_valid = train.loc[test_index,FEATURES].copy()\n",
    "#     y_valid = train.loc[test_index,\"y_na\"]\n",
    "#     x_test = test[FEATURES].copy()\n",
    "#     tabpfn_aal = TabPFNRegressor(random_state=42,ignore_pretraining_limits=True,device=\"cuda\")\n",
    "#     tabpfn_aal.fit(x_train, y_train)\n",
    "\n",
    "#     # INFER OOF\n",
    "#     oof_tabpfn_aal[test_index] = tabpfn_aal.predict(x_valid)\n",
    "#     # INFER TEST\n",
    "#     pred_tabpfn_aal += tabpfn_aal.predict(x_test)\n",
    "\n",
    "# # COMPUTE AVERAGE TEST PREDS\n",
    "# pred_tabpfn_aal /= FOLDS"
   ]
  },
  {
   "cell_type": "code",
   "execution_count": 11,
   "id": "7f065721",
   "metadata": {
    "execution": {
     "iopub.execute_input": "2025-01-14T07:36:59.168189Z",
     "iopub.status.busy": "2025-01-14T07:36:59.167941Z",
     "iopub.status.idle": "2025-01-14T07:36:59.170711Z",
     "shell.execute_reply": "2025-01-14T07:36:59.170118Z"
    },
    "papermill": {
     "duration": 0.009926,
     "end_time": "2025-01-14T07:36:59.171798",
     "exception": false,
     "start_time": "2025-01-14T07:36:59.161872",
     "status": "completed"
    },
    "tags": []
   },
   "outputs": [],
   "source": [
    "# from metric import score\n",
    "\n",
    "# y_true = train[[\"ID\",\"efs\",\"efs_time\",\"race_group\"]].copy()\n",
    "# y_pred = train[[\"ID\"]].copy()\n",
    "# y_pred[\"prediction\"] = oof_tabpfn_aal\n",
    "# m = score(y_true.copy(), y_pred.copy(), \"ID\")\n",
    "# print(f\"\\nOverall CV for Tabpfn AAlon =\",m)"
   ]
  },
  {
   "cell_type": "code",
   "execution_count": 12,
   "id": "5d477e08",
   "metadata": {
    "execution": {
     "iopub.execute_input": "2025-01-14T07:36:59.183554Z",
     "iopub.status.busy": "2025-01-14T07:36:59.183360Z",
     "iopub.status.idle": "2025-01-14T07:36:59.503251Z",
     "shell.execute_reply": "2025-01-14T07:36:59.502400Z"
    },
    "papermill": {
     "duration": 0.327303,
     "end_time": "2025-01-14T07:36:59.504634",
     "exception": false,
     "start_time": "2025-01-14T07:36:59.177331",
     "status": "completed"
    },
    "tags": []
   },
   "outputs": [
    {
     "name": "stderr",
     "output_type": "stream",
     "text": [
      "/kaggle/usr/lib/eefs-concordance-index/metric.py:59: FutureWarning: The default of observed=False is deprecated and will be changed to True in a future version of pandas. Pass observed=False to retain current behavior or observed=True to adopt the future default and silence this warning.\n",
      "  merged_df_race_dict = dict(merged_df.groupby(['race_group']).groups)\n"
     ]
    },
    {
     "name": "stdout",
     "output_type": "stream",
     "text": [
      "\n",
      "Overall CV for TabFn target Ensemble = 0.6609106027219831\n"
     ]
    }
   ],
   "source": [
    "from scipy.stats import rankdata \n",
    "\n",
    "y_true = train[[\"ID\",\"efs\",\"efs_time\",\"race_group\"]].copy()\n",
    "y_pred = train[[\"ID\"]].copy()\n",
    "y_pred[\"prediction\"] = rankdata(oof_tabpfn_kap) #+ rankdata(oof_tabpfn_aal)\n",
    "m = score(y_true.copy(), y_pred.copy(), \"ID\")\n",
    "print(f\"\\nOverall CV for TabFn target Ensemble =\",m)"
   ]
  },
  {
   "cell_type": "code",
   "execution_count": 13,
   "id": "5c32d8f9",
   "metadata": {
    "execution": {
     "iopub.execute_input": "2025-01-14T07:36:59.517246Z",
     "iopub.status.busy": "2025-01-14T07:36:59.516986Z",
     "iopub.status.idle": "2025-01-14T07:36:59.531989Z",
     "shell.execute_reply": "2025-01-14T07:36:59.531137Z"
    },
    "papermill": {
     "duration": 0.022626,
     "end_time": "2025-01-14T07:36:59.533434",
     "exception": false,
     "start_time": "2025-01-14T07:36:59.510808",
     "status": "completed"
    },
    "tags": []
   },
   "outputs": [
    {
     "name": "stdout",
     "output_type": "stream",
     "text": [
      "Sub shape: (3, 2)\n"
     ]
    },
    {
     "data": {
      "text/html": [
       "<div>\n",
       "<style scoped>\n",
       "    .dataframe tbody tr th:only-of-type {\n",
       "        vertical-align: middle;\n",
       "    }\n",
       "\n",
       "    .dataframe tbody tr th {\n",
       "        vertical-align: top;\n",
       "    }\n",
       "\n",
       "    .dataframe thead th {\n",
       "        text-align: right;\n",
       "    }\n",
       "</style>\n",
       "<table border=\"1\" class=\"dataframe\">\n",
       "  <thead>\n",
       "    <tr style=\"text-align: right;\">\n",
       "      <th></th>\n",
       "      <th>ID</th>\n",
       "      <th>prediction</th>\n",
       "    </tr>\n",
       "  </thead>\n",
       "  <tbody>\n",
       "    <tr>\n",
       "      <th>0</th>\n",
       "      <td>28800</td>\n",
       "      <td>2.0</td>\n",
       "    </tr>\n",
       "    <tr>\n",
       "      <th>1</th>\n",
       "      <td>28801</td>\n",
       "      <td>3.0</td>\n",
       "    </tr>\n",
       "    <tr>\n",
       "      <th>2</th>\n",
       "      <td>28802</td>\n",
       "      <td>1.0</td>\n",
       "    </tr>\n",
       "  </tbody>\n",
       "</table>\n",
       "</div>"
      ],
      "text/plain": [
       "      ID  prediction\n",
       "0  28800         2.0\n",
       "1  28801         3.0\n",
       "2  28802         1.0"
      ]
     },
     "execution_count": 13,
     "metadata": {},
     "output_type": "execute_result"
    }
   ],
   "source": [
    "sub = pd.read_csv(\"/kaggle/input/equity-post-HCT-survival-predictions/sample_submission.csv\")\n",
    "sub.prediction = rankdata(pred_tabpfn_kap) #+ rankdata(pred_tabpfn_aal)\n",
    "\n",
    "sub.to_csv(\"submission.csv\",index=False)\n",
    "print(\"Sub shape:\",sub.shape)\n",
    "sub.head()"
   ]
  },
  {
   "cell_type": "code",
   "execution_count": 14,
   "id": "e2f46a3d",
   "metadata": {
    "execution": {
     "iopub.execute_input": "2025-01-14T07:36:59.546284Z",
     "iopub.status.busy": "2025-01-14T07:36:59.546024Z",
     "iopub.status.idle": "2025-01-14T07:37:03.307352Z",
     "shell.execute_reply": "2025-01-14T07:37:03.306408Z"
    },
    "papermill": {
     "duration": 3.76931,
     "end_time": "2025-01-14T07:37:03.308923",
     "exception": false,
     "start_time": "2025-01-14T07:36:59.539613",
     "status": "completed"
    },
    "tags": []
   },
   "outputs": [],
   "source": [
    "import pickle\n",
    "with open('tf_exp_01.pkl', 'wb') as f:\n",
    "    pickle.dump(models, f)"
   ]
  },
  {
   "cell_type": "code",
   "execution_count": 15,
   "id": "126f6086",
   "metadata": {
    "execution": {
     "iopub.execute_input": "2025-01-14T07:37:03.322363Z",
     "iopub.status.busy": "2025-01-14T07:37:03.322080Z",
     "iopub.status.idle": "2025-01-14T07:37:36.706201Z",
     "shell.execute_reply": "2025-01-14T07:37:36.705463Z"
    },
    "papermill": {
     "duration": 33.392513,
     "end_time": "2025-01-14T07:37:36.707936",
     "exception": false,
     "start_time": "2025-01-14T07:37:03.315423",
     "status": "completed"
    },
    "tags": []
   },
   "outputs": [],
   "source": [
    "train['predictions'] = oof_tabpfn_kap\n",
    "train.to_excel(\"tf_exp_01_oof.xlsx\")"
   ]
  }
 ],
 "metadata": {
  "kaggle": {
   "accelerator": "nvidiaTeslaT4",
   "dataSources": [
    {
     "databundleVersionId": 10381525,
     "sourceId": 70942,
     "sourceType": "competition"
    },
    {
     "sourceId": 211253469,
     "sourceType": "kernelVersion"
    },
    {
     "sourceId": 211322530,
     "sourceType": "kernelVersion"
    },
    {
     "sourceId": 216079280,
     "sourceType": "kernelVersion"
    },
    {
     "sourceId": 216857635,
     "sourceType": "kernelVersion"
    }
   ],
   "dockerImageVersionId": 30823,
   "isGpuEnabled": true,
   "isInternetEnabled": false,
   "language": "python",
   "sourceType": "notebook"
  },
  "kernelspec": {
   "display_name": "Python 3",
   "language": "python",
   "name": "python3"
  },
  "language_info": {
   "codemirror_mode": {
    "name": "ipython",
    "version": 3
   },
   "file_extension": ".py",
   "mimetype": "text/x-python",
   "name": "python",
   "nbconvert_exporter": "python",
   "pygments_lexer": "ipython3",
   "version": "3.10.12"
  },
  "papermill": {
   "default_parameters": {},
   "duration": 9531.781969,
   "end_time": "2025-01-14T07:37:39.716016",
   "environment_variables": {},
   "exception": null,
   "input_path": "__notebook__.ipynb",
   "output_path": "__notebook__.ipynb",
   "parameters": {},
   "start_time": "2025-01-14T04:58:47.934047",
   "version": "2.6.0"
  }
 },
 "nbformat": 4,
 "nbformat_minor": 5
}
