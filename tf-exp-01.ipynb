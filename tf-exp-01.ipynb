{
 "cells": [
  {
   "cell_type": "markdown",
   "id": "79ab5faa",
   "metadata": {
    "_cell_guid": "b1076dfc-b9ad-4769-8c92-a6c4dae69d19",
    "_uuid": "8f2839f25d086af736a60e9eeb907d3b93b6e0e5",
    "execution": {
     "iopub.execute_input": "2025-01-09T18:44:39.261501Z",
     "iopub.status.busy": "2025-01-09T18:44:39.261294Z",
     "iopub.status.idle": "2025-01-09T18:44:58.778499Z",
     "shell.execute_reply": "2025-01-09T18:44:58.777481Z",
     "shell.execute_reply.started": "2025-01-09T18:44:39.261481Z"
    },
    "papermill": {
     "duration": 0.005602,
     "end_time": "2025-01-31T04:44:01.573421",
     "exception": false,
     "start_time": "2025-01-31T04:44:01.567819",
     "status": "completed"
    },
    "tags": []
   },
   "source": [
    "# Tabpfn\n",
    "\n",
    "The following starter package takes the starting notebook from Chris (https://www.kaggle.com/code/cdeotte/xgboost-catboost-baseline-cv-668-lb-668)\n",
    "and applys the newly released tabpfn with minimal feat engineering. In order to use it, you have to attach Carls tabpfn notebook (https://www.kaggle.com/code/carlmcbrideellis/tabpfn-2-0-1)"
   ]
  },
  {
   "cell_type": "code",
   "execution_count": 1,
   "id": "d887ba68",
   "metadata": {
    "execution": {
     "iopub.execute_input": "2025-01-31T04:44:01.581308Z",
     "iopub.status.busy": "2025-01-31T04:44:01.580942Z",
     "iopub.status.idle": "2025-01-31T04:44:22.926012Z",
     "shell.execute_reply": "2025-01-31T04:44:22.925137Z"
    },
    "papermill": {
     "duration": 21.350785,
     "end_time": "2025-01-31T04:44:22.927723",
     "exception": false,
     "start_time": "2025-01-31T04:44:01.576938",
     "status": "completed"
    },
    "tags": []
   },
   "outputs": [
    {
     "name": "stdout",
     "output_type": "stream",
     "text": [
      "Processing /kaggle/input/pip-install-lifelines/autograd-1.7.0-py3-none-any.whl\r\n",
      "Requirement already satisfied: numpy in /usr/local/lib/python3.10/dist-packages (from autograd==1.7.0) (1.26.4)\r\n",
      "autograd is already installed with the same version as the provided wheel. Use --force-reinstall to force an installation of the wheel.\r\n",
      "Processing /kaggle/input/pip-install-lifelines/autograd-gamma-0.5.0.tar.gz\r\n",
      "  Preparing metadata (setup.py) ... \u001b[?25l\u001b[?25hdone\r\n",
      "Requirement already satisfied: autograd>=1.2.0 in /usr/local/lib/python3.10/dist-packages (from autograd-gamma==0.5.0) (1.7.0)\r\n",
      "Requirement already satisfied: scipy>=1.2.0 in /usr/local/lib/python3.10/dist-packages (from autograd-gamma==0.5.0) (1.13.1)\r\n",
      "Requirement already satisfied: numpy in /usr/local/lib/python3.10/dist-packages (from autograd>=1.2.0->autograd-gamma==0.5.0) (1.26.4)\r\n",
      "Building wheels for collected packages: autograd-gamma\r\n",
      "  Building wheel for autograd-gamma (setup.py) ... \u001b[?25l\u001b[?25hdone\r\n",
      "  Created wheel for autograd-gamma: filename=autograd_gamma-0.5.0-py3-none-any.whl size=4031 sha256=09c56d799b1fd9fa044ee1d720110cba0b93a7ddc4984a64a92b9ede8c95800b\r\n",
      "  Stored in directory: /root/.cache/pip/wheels/6b/b5/e0/4c79e15c0b5f2c15ecf613c720bb20daab20a666eb67135155\r\n",
      "Successfully built autograd-gamma\r\n",
      "Installing collected packages: autograd-gamma\r\n",
      "Successfully installed autograd-gamma-0.5.0\r\n",
      "Processing /kaggle/input/pip-install-lifelines/interface_meta-1.3.0-py3-none-any.whl\r\n",
      "Installing collected packages: interface-meta\r\n",
      "Successfully installed interface-meta-1.3.0\r\n",
      "Processing /kaggle/input/pip-install-lifelines/formulaic-1.0.2-py3-none-any.whl\r\n",
      "Requirement already satisfied: interface-meta>=1.2.0 in /usr/local/lib/python3.10/dist-packages (from formulaic==1.0.2) (1.3.0)\r\n",
      "Requirement already satisfied: numpy>=1.16.5 in /usr/local/lib/python3.10/dist-packages (from formulaic==1.0.2) (1.26.4)\r\n",
      "Requirement already satisfied: pandas>=1.0 in /usr/local/lib/python3.10/dist-packages (from formulaic==1.0.2) (2.1.4)\r\n",
      "Requirement already satisfied: scipy>=1.6 in /usr/local/lib/python3.10/dist-packages (from formulaic==1.0.2) (1.13.1)\r\n",
      "Requirement already satisfied: typing-extensions>=4.2.0 in /usr/local/lib/python3.10/dist-packages (from formulaic==1.0.2) (4.12.2)\r\n",
      "Requirement already satisfied: wrapt>=1.0 in /usr/local/lib/python3.10/dist-packages (from formulaic==1.0.2) (1.16.0)\r\n",
      "Requirement already satisfied: python-dateutil>=2.8.2 in /usr/local/lib/python3.10/dist-packages (from pandas>=1.0->formulaic==1.0.2) (2.8.2)\r\n",
      "Requirement already satisfied: pytz>=2020.1 in /usr/local/lib/python3.10/dist-packages (from pandas>=1.0->formulaic==1.0.2) (2024.2)\r\n",
      "Requirement already satisfied: tzdata>=2022.1 in /usr/local/lib/python3.10/dist-packages (from pandas>=1.0->formulaic==1.0.2) (2024.1)\r\n",
      "Requirement already satisfied: six>=1.5 in /usr/local/lib/python3.10/dist-packages (from python-dateutil>=2.8.2->pandas>=1.0->formulaic==1.0.2) (1.16.0)\r\n",
      "Installing collected packages: formulaic\r\n",
      "Successfully installed formulaic-1.0.2\r\n",
      "Processing /kaggle/input/pip-install-lifelines/lifelines-0.30.0-py3-none-any.whl\r\n",
      "Requirement already satisfied: numpy>=1.14.0 in /usr/local/lib/python3.10/dist-packages (from lifelines==0.30.0) (1.26.4)\r\n",
      "Requirement already satisfied: scipy>=1.7.0 in /usr/local/lib/python3.10/dist-packages (from lifelines==0.30.0) (1.13.1)\r\n",
      "Requirement already satisfied: pandas>=2.1 in /usr/local/lib/python3.10/dist-packages (from lifelines==0.30.0) (2.1.4)\r\n",
      "Requirement already satisfied: matplotlib>=3.0 in /usr/local/lib/python3.10/dist-packages (from lifelines==0.30.0) (3.7.1)\r\n",
      "Requirement already satisfied: autograd>=1.5 in /usr/local/lib/python3.10/dist-packages (from lifelines==0.30.0) (1.7.0)\r\n",
      "Requirement already satisfied: autograd-gamma>=0.3 in /usr/local/lib/python3.10/dist-packages (from lifelines==0.30.0) (0.5.0)\r\n",
      "Requirement already satisfied: formulaic>=0.2.2 in /usr/local/lib/python3.10/dist-packages (from lifelines==0.30.0) (1.0.2)\r\n",
      "Requirement already satisfied: interface-meta>=1.2.0 in /usr/local/lib/python3.10/dist-packages (from formulaic>=0.2.2->lifelines==0.30.0) (1.3.0)\r\n",
      "Requirement already satisfied: typing-extensions>=4.2.0 in /usr/local/lib/python3.10/dist-packages (from formulaic>=0.2.2->lifelines==0.30.0) (4.12.2)\r\n",
      "Requirement already satisfied: wrapt>=1.0 in /usr/local/lib/python3.10/dist-packages (from formulaic>=0.2.2->lifelines==0.30.0) (1.16.0)\r\n",
      "Requirement already satisfied: contourpy>=1.0.1 in /usr/local/lib/python3.10/dist-packages (from matplotlib>=3.0->lifelines==0.30.0) (1.3.0)\r\n",
      "Requirement already satisfied: cycler>=0.10 in /usr/local/lib/python3.10/dist-packages (from matplotlib>=3.0->lifelines==0.30.0) (0.12.1)\r\n",
      "Requirement already satisfied: fonttools>=4.22.0 in /usr/local/lib/python3.10/dist-packages (from matplotlib>=3.0->lifelines==0.30.0) (4.53.1)\r\n",
      "Requirement already satisfied: kiwisolver>=1.0.1 in /usr/local/lib/python3.10/dist-packages (from matplotlib>=3.0->lifelines==0.30.0) (1.4.7)\r\n",
      "Requirement already satisfied: packaging>=20.0 in /usr/local/lib/python3.10/dist-packages (from matplotlib>=3.0->lifelines==0.30.0) (24.1)\r\n",
      "Requirement already satisfied: pillow>=6.2.0 in /usr/local/lib/python3.10/dist-packages (from matplotlib>=3.0->lifelines==0.30.0) (10.4.0)\r\n",
      "Requirement already satisfied: pyparsing>=2.3.1 in /usr/local/lib/python3.10/dist-packages (from matplotlib>=3.0->lifelines==0.30.0) (3.1.4)\r\n",
      "Requirement already satisfied: python-dateutil>=2.7 in /usr/local/lib/python3.10/dist-packages (from matplotlib>=3.0->lifelines==0.30.0) (2.8.2)\r\n",
      "Requirement already satisfied: pytz>=2020.1 in /usr/local/lib/python3.10/dist-packages (from pandas>=2.1->lifelines==0.30.0) (2024.2)\r\n",
      "Requirement already satisfied: tzdata>=2022.1 in /usr/local/lib/python3.10/dist-packages (from pandas>=2.1->lifelines==0.30.0) (2024.1)\r\n",
      "Requirement already satisfied: six>=1.5 in /usr/local/lib/python3.10/dist-packages (from python-dateutil>=2.7->matplotlib>=3.0->lifelines==0.30.0) (1.16.0)\r\n",
      "Installing collected packages: lifelines\r\n",
      "Successfully installed lifelines-0.30.0\r\n"
     ]
    }
   ],
   "source": [
    "# Huge thanks to Chris Deotte\n",
    "!pip install /kaggle/input/pip-install-lifelines/autograd-1.7.0-py3-none-any.whl\n",
    "!pip install /kaggle/input/pip-install-lifelines/autograd-gamma-0.5.0.tar.gz\n",
    "!pip install /kaggle/input/pip-install-lifelines/interface_meta-1.3.0-py3-none-any.whl\n",
    "!pip install /kaggle/input/pip-install-lifelines/formulaic-1.0.2-py3-none-any.whl\n",
    "!pip install /kaggle/input/pip-install-lifelines/lifelines-0.30.0-py3-none-any.whl"
   ]
  },
  {
   "cell_type": "code",
   "execution_count": 2,
   "id": "808692e8",
   "metadata": {
    "execution": {
     "iopub.execute_input": "2025-01-31T04:44:22.937395Z",
     "iopub.status.busy": "2025-01-31T04:44:22.937148Z",
     "iopub.status.idle": "2025-01-31T04:44:26.980931Z",
     "shell.execute_reply": "2025-01-31T04:44:26.979751Z"
    },
    "papermill": {
     "duration": 4.050295,
     "end_time": "2025-01-31T04:44:26.982568",
     "exception": false,
     "start_time": "2025-01-31T04:44:22.932273",
     "status": "completed"
    },
    "tags": []
   },
   "outputs": [],
   "source": [
    "# install TABPFN thanks to Carl McBride Ellis\n",
    "!pip install -q --no-index --find-links /kaggle/input/tabpfn-2-0-1 tabpfn\n",
    "!mkdir -p /root/.cache/tabpfn/\n",
    "!cp /kaggle/input/tabpfn-2-0-1/tabpfn-v2-regressor.ckpt /root/.cache/tabpfn/tabpfn-v2-regressor.ckpt"
   ]
  },
  {
   "cell_type": "code",
   "execution_count": 3,
   "id": "babd5d25",
   "metadata": {
    "execution": {
     "iopub.execute_input": "2025-01-31T04:44:26.992381Z",
     "iopub.status.busy": "2025-01-31T04:44:26.992105Z",
     "iopub.status.idle": "2025-01-31T04:44:34.062625Z",
     "shell.execute_reply": "2025-01-31T04:44:34.061627Z"
    },
    "papermill": {
     "duration": 7.07695,
     "end_time": "2025-01-31T04:44:34.064233",
     "exception": false,
     "start_time": "2025-01-31T04:44:26.987283",
     "status": "completed"
    },
    "tags": []
   },
   "outputs": [],
   "source": [
    "!pip install -q /kaggle/input/wheelhouse-cibmtr/scikit_learn-1.4.2-cp310-cp310-manylinux_2_17_x86_64.manylinux2014_x86_64.whl"
   ]
  },
  {
   "cell_type": "code",
   "execution_count": 4,
   "id": "41134427",
   "metadata": {
    "execution": {
     "iopub.execute_input": "2025-01-31T04:44:34.073958Z",
     "iopub.status.busy": "2025-01-31T04:44:34.073669Z",
     "iopub.status.idle": "2025-01-31T04:45:10.967527Z",
     "shell.execute_reply": "2025-01-31T04:45:10.966575Z"
    },
    "papermill": {
     "duration": 36.904192,
     "end_time": "2025-01-31T04:45:10.972999",
     "exception": false,
     "start_time": "2025-01-31T04:44:34.068807",
     "status": "completed"
    },
    "tags": []
   },
   "outputs": [
    {
     "name": "stdout",
     "output_type": "stream",
     "text": [
      "Test shape: (3, 58)\n",
      "Train shape: (28800, 61)\n"
     ]
    },
    {
     "data": {
      "text/html": [
       "<div>\n",
       "<style scoped>\n",
       "    .dataframe tbody tr th:only-of-type {\n",
       "        vertical-align: middle;\n",
       "    }\n",
       "\n",
       "    .dataframe tbody tr th {\n",
       "        vertical-align: top;\n",
       "    }\n",
       "\n",
       "    .dataframe thead th {\n",
       "        text-align: right;\n",
       "    }\n",
       "</style>\n",
       "<table border=\"1\" class=\"dataframe\">\n",
       "  <thead>\n",
       "    <tr style=\"text-align: right;\">\n",
       "      <th></th>\n",
       "      <th>ID</th>\n",
       "      <th>dri_score</th>\n",
       "      <th>psych_disturb</th>\n",
       "      <th>cyto_score</th>\n",
       "      <th>diabetes</th>\n",
       "      <th>hla_match_c_high</th>\n",
       "      <th>hla_high_res_8</th>\n",
       "      <th>tbi_status</th>\n",
       "      <th>arrhythmia</th>\n",
       "      <th>hla_low_res_6</th>\n",
       "      <th>graft_type</th>\n",
       "      <th>vent_hist</th>\n",
       "      <th>renal_issue</th>\n",
       "      <th>pulm_severe</th>\n",
       "      <th>prim_disease_hct</th>\n",
       "      <th>hla_high_res_6</th>\n",
       "      <th>cmv_status</th>\n",
       "      <th>hla_high_res_10</th>\n",
       "      <th>hla_match_dqb1_high</th>\n",
       "      <th>tce_imm_match</th>\n",
       "      <th>hla_nmdp_6</th>\n",
       "      <th>hla_match_c_low</th>\n",
       "      <th>rituximab</th>\n",
       "      <th>hla_match_drb1_low</th>\n",
       "      <th>hla_match_dqb1_low</th>\n",
       "      <th>prod_type</th>\n",
       "      <th>cyto_score_detail</th>\n",
       "      <th>conditioning_intensity</th>\n",
       "      <th>ethnicity</th>\n",
       "      <th>year_hct</th>\n",
       "      <th>obesity</th>\n",
       "      <th>mrd_hct</th>\n",
       "      <th>in_vivo_tcd</th>\n",
       "      <th>tce_match</th>\n",
       "      <th>hla_match_a_high</th>\n",
       "      <th>hepatic_severe</th>\n",
       "      <th>donor_age</th>\n",
       "      <th>prior_tumor</th>\n",
       "      <th>hla_match_b_low</th>\n",
       "      <th>peptic_ulcer</th>\n",
       "      <th>age_at_hct</th>\n",
       "      <th>hla_match_a_low</th>\n",
       "      <th>gvhd_proph</th>\n",
       "      <th>rheum_issue</th>\n",
       "      <th>sex_match</th>\n",
       "      <th>hla_match_b_high</th>\n",
       "      <th>race_group</th>\n",
       "      <th>comorbidity_score</th>\n",
       "      <th>karnofsky_score</th>\n",
       "      <th>hepatic_mild</th>\n",
       "      <th>tce_div_match</th>\n",
       "      <th>donor_related</th>\n",
       "      <th>melphalan_dose</th>\n",
       "      <th>hla_low_res_8</th>\n",
       "      <th>cardiac</th>\n",
       "      <th>hla_match_drb1_high</th>\n",
       "      <th>pulm_moderate</th>\n",
       "      <th>hla_low_res_10</th>\n",
       "      <th>efs</th>\n",
       "      <th>efs_time</th>\n",
       "      <th>fold</th>\n",
       "    </tr>\n",
       "  </thead>\n",
       "  <tbody>\n",
       "    <tr>\n",
       "      <th>0</th>\n",
       "      <td>0</td>\n",
       "      <td>N/A - non-malignant indication</td>\n",
       "      <td>No</td>\n",
       "      <td>NaN</td>\n",
       "      <td>No</td>\n",
       "      <td>NaN</td>\n",
       "      <td>NaN</td>\n",
       "      <td>No TBI</td>\n",
       "      <td>No</td>\n",
       "      <td>6.0</td>\n",
       "      <td>Bone marrow</td>\n",
       "      <td>No</td>\n",
       "      <td>No</td>\n",
       "      <td>No</td>\n",
       "      <td>IEA</td>\n",
       "      <td>6.0</td>\n",
       "      <td>+/+</td>\n",
       "      <td>NaN</td>\n",
       "      <td>2.0</td>\n",
       "      <td>NaN</td>\n",
       "      <td>6.0</td>\n",
       "      <td>2.0</td>\n",
       "      <td>No</td>\n",
       "      <td>2.0</td>\n",
       "      <td>2.0</td>\n",
       "      <td>BM</td>\n",
       "      <td>NaN</td>\n",
       "      <td>NaN</td>\n",
       "      <td>Not Hispanic or Latino</td>\n",
       "      <td>2016</td>\n",
       "      <td>No</td>\n",
       "      <td>NaN</td>\n",
       "      <td>Yes</td>\n",
       "      <td>NaN</td>\n",
       "      <td>2.0</td>\n",
       "      <td>No</td>\n",
       "      <td>NaN</td>\n",
       "      <td>No</td>\n",
       "      <td>2.0</td>\n",
       "      <td>No</td>\n",
       "      <td>9.942</td>\n",
       "      <td>2.0</td>\n",
       "      <td>FKalone</td>\n",
       "      <td>No</td>\n",
       "      <td>M-F</td>\n",
       "      <td>2.0</td>\n",
       "      <td>More than one race</td>\n",
       "      <td>0.0</td>\n",
       "      <td>90.0</td>\n",
       "      <td>No</td>\n",
       "      <td>NaN</td>\n",
       "      <td>Unrelated</td>\n",
       "      <td>N/A, Mel not given</td>\n",
       "      <td>8.0</td>\n",
       "      <td>No</td>\n",
       "      <td>2.0</td>\n",
       "      <td>No</td>\n",
       "      <td>10.0</td>\n",
       "      <td>0</td>\n",
       "      <td>42.356</td>\n",
       "      <td>3</td>\n",
       "    </tr>\n",
       "    <tr>\n",
       "      <th>1</th>\n",
       "      <td>1</td>\n",
       "      <td>Intermediate</td>\n",
       "      <td>No</td>\n",
       "      <td>Intermediate</td>\n",
       "      <td>No</td>\n",
       "      <td>2.0</td>\n",
       "      <td>8.0</td>\n",
       "      <td>TBI +- Other, &gt;cGy</td>\n",
       "      <td>No</td>\n",
       "      <td>6.0</td>\n",
       "      <td>Peripheral blood</td>\n",
       "      <td>No</td>\n",
       "      <td>No</td>\n",
       "      <td>No</td>\n",
       "      <td>AML</td>\n",
       "      <td>6.0</td>\n",
       "      <td>+/+</td>\n",
       "      <td>10.0</td>\n",
       "      <td>2.0</td>\n",
       "      <td>P/P</td>\n",
       "      <td>6.0</td>\n",
       "      <td>2.0</td>\n",
       "      <td>No</td>\n",
       "      <td>2.0</td>\n",
       "      <td>2.0</td>\n",
       "      <td>PB</td>\n",
       "      <td>Intermediate</td>\n",
       "      <td>MAC</td>\n",
       "      <td>Not Hispanic or Latino</td>\n",
       "      <td>2008</td>\n",
       "      <td>No</td>\n",
       "      <td>Positive</td>\n",
       "      <td>No</td>\n",
       "      <td>Permissive</td>\n",
       "      <td>2.0</td>\n",
       "      <td>No</td>\n",
       "      <td>72.29</td>\n",
       "      <td>No</td>\n",
       "      <td>2.0</td>\n",
       "      <td>No</td>\n",
       "      <td>43.705</td>\n",
       "      <td>2.0</td>\n",
       "      <td>Other GVHD Prophylaxis</td>\n",
       "      <td>No</td>\n",
       "      <td>F-F</td>\n",
       "      <td>2.0</td>\n",
       "      <td>Asian</td>\n",
       "      <td>3.0</td>\n",
       "      <td>90.0</td>\n",
       "      <td>No</td>\n",
       "      <td>Permissive mismatched</td>\n",
       "      <td>Related</td>\n",
       "      <td>N/A, Mel not given</td>\n",
       "      <td>8.0</td>\n",
       "      <td>No</td>\n",
       "      <td>2.0</td>\n",
       "      <td>Yes</td>\n",
       "      <td>10.0</td>\n",
       "      <td>1</td>\n",
       "      <td>4.672</td>\n",
       "      <td>7</td>\n",
       "    </tr>\n",
       "    <tr>\n",
       "      <th>2</th>\n",
       "      <td>2</td>\n",
       "      <td>N/A - non-malignant indication</td>\n",
       "      <td>No</td>\n",
       "      <td>NaN</td>\n",
       "      <td>No</td>\n",
       "      <td>2.0</td>\n",
       "      <td>8.0</td>\n",
       "      <td>No TBI</td>\n",
       "      <td>No</td>\n",
       "      <td>6.0</td>\n",
       "      <td>Bone marrow</td>\n",
       "      <td>No</td>\n",
       "      <td>No</td>\n",
       "      <td>No</td>\n",
       "      <td>HIS</td>\n",
       "      <td>6.0</td>\n",
       "      <td>+/+</td>\n",
       "      <td>10.0</td>\n",
       "      <td>2.0</td>\n",
       "      <td>P/P</td>\n",
       "      <td>6.0</td>\n",
       "      <td>2.0</td>\n",
       "      <td>No</td>\n",
       "      <td>2.0</td>\n",
       "      <td>2.0</td>\n",
       "      <td>BM</td>\n",
       "      <td>NaN</td>\n",
       "      <td>NaN</td>\n",
       "      <td>Not Hispanic or Latino</td>\n",
       "      <td>2019</td>\n",
       "      <td>No</td>\n",
       "      <td>NaN</td>\n",
       "      <td>Yes</td>\n",
       "      <td>NaN</td>\n",
       "      <td>2.0</td>\n",
       "      <td>No</td>\n",
       "      <td>NaN</td>\n",
       "      <td>No</td>\n",
       "      <td>2.0</td>\n",
       "      <td>No</td>\n",
       "      <td>33.997</td>\n",
       "      <td>2.0</td>\n",
       "      <td>Cyclophosphamide alone</td>\n",
       "      <td>No</td>\n",
       "      <td>F-M</td>\n",
       "      <td>2.0</td>\n",
       "      <td>More than one race</td>\n",
       "      <td>0.0</td>\n",
       "      <td>90.0</td>\n",
       "      <td>No</td>\n",
       "      <td>Permissive mismatched</td>\n",
       "      <td>Related</td>\n",
       "      <td>N/A, Mel not given</td>\n",
       "      <td>8.0</td>\n",
       "      <td>No</td>\n",
       "      <td>2.0</td>\n",
       "      <td>No</td>\n",
       "      <td>10.0</td>\n",
       "      <td>0</td>\n",
       "      <td>19.793</td>\n",
       "      <td>6</td>\n",
       "    </tr>\n",
       "    <tr>\n",
       "      <th>3</th>\n",
       "      <td>3</td>\n",
       "      <td>High</td>\n",
       "      <td>No</td>\n",
       "      <td>Intermediate</td>\n",
       "      <td>No</td>\n",
       "      <td>2.0</td>\n",
       "      <td>8.0</td>\n",
       "      <td>No TBI</td>\n",
       "      <td>No</td>\n",
       "      <td>6.0</td>\n",
       "      <td>Bone marrow</td>\n",
       "      <td>No</td>\n",
       "      <td>No</td>\n",
       "      <td>No</td>\n",
       "      <td>ALL</td>\n",
       "      <td>6.0</td>\n",
       "      <td>+/+</td>\n",
       "      <td>10.0</td>\n",
       "      <td>2.0</td>\n",
       "      <td>P/P</td>\n",
       "      <td>6.0</td>\n",
       "      <td>2.0</td>\n",
       "      <td>No</td>\n",
       "      <td>2.0</td>\n",
       "      <td>2.0</td>\n",
       "      <td>BM</td>\n",
       "      <td>Intermediate</td>\n",
       "      <td>MAC</td>\n",
       "      <td>Not Hispanic or Latino</td>\n",
       "      <td>2009</td>\n",
       "      <td>No</td>\n",
       "      <td>Positive</td>\n",
       "      <td>No</td>\n",
       "      <td>Permissive</td>\n",
       "      <td>2.0</td>\n",
       "      <td>No</td>\n",
       "      <td>29.23</td>\n",
       "      <td>No</td>\n",
       "      <td>2.0</td>\n",
       "      <td>No</td>\n",
       "      <td>43.245</td>\n",
       "      <td>2.0</td>\n",
       "      <td>FK+ MMF +- others</td>\n",
       "      <td>No</td>\n",
       "      <td>M-M</td>\n",
       "      <td>2.0</td>\n",
       "      <td>White</td>\n",
       "      <td>0.0</td>\n",
       "      <td>90.0</td>\n",
       "      <td>Yes</td>\n",
       "      <td>Permissive mismatched</td>\n",
       "      <td>Unrelated</td>\n",
       "      <td>N/A, Mel not given</td>\n",
       "      <td>8.0</td>\n",
       "      <td>No</td>\n",
       "      <td>2.0</td>\n",
       "      <td>No</td>\n",
       "      <td>10.0</td>\n",
       "      <td>0</td>\n",
       "      <td>102.349</td>\n",
       "      <td>1</td>\n",
       "    </tr>\n",
       "    <tr>\n",
       "      <th>4</th>\n",
       "      <td>4</td>\n",
       "      <td>High</td>\n",
       "      <td>No</td>\n",
       "      <td>NaN</td>\n",
       "      <td>No</td>\n",
       "      <td>2.0</td>\n",
       "      <td>8.0</td>\n",
       "      <td>No TBI</td>\n",
       "      <td>No</td>\n",
       "      <td>6.0</td>\n",
       "      <td>Peripheral blood</td>\n",
       "      <td>No</td>\n",
       "      <td>No</td>\n",
       "      <td>No</td>\n",
       "      <td>MPN</td>\n",
       "      <td>6.0</td>\n",
       "      <td>+/+</td>\n",
       "      <td>10.0</td>\n",
       "      <td>2.0</td>\n",
       "      <td>NaN</td>\n",
       "      <td>5.0</td>\n",
       "      <td>2.0</td>\n",
       "      <td>No</td>\n",
       "      <td>2.0</td>\n",
       "      <td>2.0</td>\n",
       "      <td>PB</td>\n",
       "      <td>NaN</td>\n",
       "      <td>MAC</td>\n",
       "      <td>Hispanic or Latino</td>\n",
       "      <td>2018</td>\n",
       "      <td>No</td>\n",
       "      <td>NaN</td>\n",
       "      <td>Yes</td>\n",
       "      <td>NaN</td>\n",
       "      <td>2.0</td>\n",
       "      <td>No</td>\n",
       "      <td>56.81</td>\n",
       "      <td>No</td>\n",
       "      <td>2.0</td>\n",
       "      <td>No</td>\n",
       "      <td>29.740</td>\n",
       "      <td>2.0</td>\n",
       "      <td>TDEPLETION +- other</td>\n",
       "      <td>No</td>\n",
       "      <td>M-F</td>\n",
       "      <td>2.0</td>\n",
       "      <td>American Indian or Alaska Native</td>\n",
       "      <td>1.0</td>\n",
       "      <td>90.0</td>\n",
       "      <td>No</td>\n",
       "      <td>Permissive mismatched</td>\n",
       "      <td>Related</td>\n",
       "      <td>MEL</td>\n",
       "      <td>8.0</td>\n",
       "      <td>No</td>\n",
       "      <td>2.0</td>\n",
       "      <td>No</td>\n",
       "      <td>10.0</td>\n",
       "      <td>0</td>\n",
       "      <td>16.223</td>\n",
       "      <td>4</td>\n",
       "    </tr>\n",
       "  </tbody>\n",
       "</table>\n",
       "</div>"
      ],
      "text/plain": [
       "   ID                       dri_score psych_disturb    cyto_score diabetes  \\\n",
       "0   0  N/A - non-malignant indication            No           NaN       No   \n",
       "1   1                    Intermediate            No  Intermediate       No   \n",
       "2   2  N/A - non-malignant indication            No           NaN       No   \n",
       "3   3                            High            No  Intermediate       No   \n",
       "4   4                            High            No           NaN       No   \n",
       "\n",
       "   hla_match_c_high  hla_high_res_8          tbi_status arrhythmia  \\\n",
       "0               NaN             NaN              No TBI         No   \n",
       "1               2.0             8.0  TBI +- Other, >cGy         No   \n",
       "2               2.0             8.0              No TBI         No   \n",
       "3               2.0             8.0              No TBI         No   \n",
       "4               2.0             8.0              No TBI         No   \n",
       "\n",
       "   hla_low_res_6        graft_type vent_hist renal_issue pulm_severe  \\\n",
       "0            6.0       Bone marrow        No          No          No   \n",
       "1            6.0  Peripheral blood        No          No          No   \n",
       "2            6.0       Bone marrow        No          No          No   \n",
       "3            6.0       Bone marrow        No          No          No   \n",
       "4            6.0  Peripheral blood        No          No          No   \n",
       "\n",
       "  prim_disease_hct  hla_high_res_6 cmv_status  hla_high_res_10  \\\n",
       "0              IEA             6.0        +/+              NaN   \n",
       "1              AML             6.0        +/+             10.0   \n",
       "2              HIS             6.0        +/+             10.0   \n",
       "3              ALL             6.0        +/+             10.0   \n",
       "4              MPN             6.0        +/+             10.0   \n",
       "\n",
       "   hla_match_dqb1_high tce_imm_match  hla_nmdp_6  hla_match_c_low rituximab  \\\n",
       "0                  2.0           NaN         6.0              2.0        No   \n",
       "1                  2.0           P/P         6.0              2.0        No   \n",
       "2                  2.0           P/P         6.0              2.0        No   \n",
       "3                  2.0           P/P         6.0              2.0        No   \n",
       "4                  2.0           NaN         5.0              2.0        No   \n",
       "\n",
       "   hla_match_drb1_low  hla_match_dqb1_low prod_type cyto_score_detail  \\\n",
       "0                 2.0                 2.0        BM               NaN   \n",
       "1                 2.0                 2.0        PB      Intermediate   \n",
       "2                 2.0                 2.0        BM               NaN   \n",
       "3                 2.0                 2.0        BM      Intermediate   \n",
       "4                 2.0                 2.0        PB               NaN   \n",
       "\n",
       "  conditioning_intensity               ethnicity  year_hct obesity   mrd_hct  \\\n",
       "0                    NaN  Not Hispanic or Latino      2016      No       NaN   \n",
       "1                    MAC  Not Hispanic or Latino      2008      No  Positive   \n",
       "2                    NaN  Not Hispanic or Latino      2019      No       NaN   \n",
       "3                    MAC  Not Hispanic or Latino      2009      No  Positive   \n",
       "4                    MAC      Hispanic or Latino      2018      No       NaN   \n",
       "\n",
       "  in_vivo_tcd   tce_match  hla_match_a_high hepatic_severe  donor_age  \\\n",
       "0         Yes         NaN               2.0             No        NaN   \n",
       "1          No  Permissive               2.0             No      72.29   \n",
       "2         Yes         NaN               2.0             No        NaN   \n",
       "3          No  Permissive               2.0             No      29.23   \n",
       "4         Yes         NaN               2.0             No      56.81   \n",
       "\n",
       "  prior_tumor  hla_match_b_low peptic_ulcer  age_at_hct  hla_match_a_low  \\\n",
       "0          No              2.0           No       9.942              2.0   \n",
       "1          No              2.0           No      43.705              2.0   \n",
       "2          No              2.0           No      33.997              2.0   \n",
       "3          No              2.0           No      43.245              2.0   \n",
       "4          No              2.0           No      29.740              2.0   \n",
       "\n",
       "               gvhd_proph rheum_issue sex_match  hla_match_b_high  \\\n",
       "0                 FKalone          No       M-F               2.0   \n",
       "1  Other GVHD Prophylaxis          No       F-F               2.0   \n",
       "2  Cyclophosphamide alone          No       F-M               2.0   \n",
       "3       FK+ MMF +- others          No       M-M               2.0   \n",
       "4     TDEPLETION +- other          No       M-F               2.0   \n",
       "\n",
       "                         race_group  comorbidity_score  karnofsky_score  \\\n",
       "0                More than one race                0.0             90.0   \n",
       "1                             Asian                3.0             90.0   \n",
       "2                More than one race                0.0             90.0   \n",
       "3                             White                0.0             90.0   \n",
       "4  American Indian or Alaska Native                1.0             90.0   \n",
       "\n",
       "  hepatic_mild          tce_div_match donor_related      melphalan_dose  \\\n",
       "0           No                    NaN     Unrelated  N/A, Mel not given   \n",
       "1           No  Permissive mismatched       Related  N/A, Mel not given   \n",
       "2           No  Permissive mismatched       Related  N/A, Mel not given   \n",
       "3          Yes  Permissive mismatched     Unrelated  N/A, Mel not given   \n",
       "4           No  Permissive mismatched       Related                 MEL   \n",
       "\n",
       "   hla_low_res_8 cardiac  hla_match_drb1_high pulm_moderate  hla_low_res_10  \\\n",
       "0            8.0      No                  2.0            No            10.0   \n",
       "1            8.0      No                  2.0           Yes            10.0   \n",
       "2            8.0      No                  2.0            No            10.0   \n",
       "3            8.0      No                  2.0            No            10.0   \n",
       "4            8.0      No                  2.0            No            10.0   \n",
       "\n",
       "   efs  efs_time  fold  \n",
       "0    0    42.356     3  \n",
       "1    1     4.672     7  \n",
       "2    0    19.793     6  \n",
       "3    0   102.349     1  \n",
       "4    0    16.223     4  "
      ]
     },
     "execution_count": 4,
     "metadata": {},
     "output_type": "execute_result"
    }
   ],
   "source": [
    "import numpy as np, pandas as pd\n",
    "import matplotlib.pyplot as plt\n",
    "from sklearn.model_selection import KFold\n",
    "from tabpfn import TabPFNRegressor\n",
    "\n",
    "pd.set_option('display.max_columns', 500)\n",
    "pd.set_option('display.max_rows', 500)\n",
    "\n",
    "test = pd.read_csv(\"/kaggle/input/equity-post-HCT-survival-predictions/test.csv\")\n",
    "print(\"Test shape:\", test.shape )\n",
    "\n",
    "train = pd.read_excel(\"/kaggle/input/dataset-folding-strategy/random_folding.xlsx\")\n",
    "print(\"Train shape:\",train.shape)\n",
    "train.head()"
   ]
  },
  {
   "cell_type": "code",
   "execution_count": 5,
   "id": "4da0a71a",
   "metadata": {
    "execution": {
     "iopub.execute_input": "2025-01-31T04:45:10.984558Z",
     "iopub.status.busy": "2025-01-31T04:45:10.984147Z",
     "iopub.status.idle": "2025-01-31T04:45:11.530098Z",
     "shell.execute_reply": "2025-01-31T04:45:11.529131Z"
    },
    "papermill": {
     "duration": 0.553404,
     "end_time": "2025-01-31T04:45:11.531804",
     "exception": false,
     "start_time": "2025-01-31T04:45:10.978400",
     "status": "completed"
    },
    "tags": []
   },
   "outputs": [],
   "source": [
    "# create target\n",
    "from lifelines import KaplanMeierFitter, NelsonAalenFitter, CoxPHFitter\n",
    "\n",
    "def create_km_target(data, n_splits=5, random_state=42):\n",
    "    \"\"\"\n",
    "    Uses Kaplan-Meier\n",
    "    \"\"\"\n",
    "    kmf = KaplanMeierFitter()\n",
    "    oof_preds = np.zeros(len(data))\n",
    "    \n",
    "    cv = KFold(n_splits=n_splits, shuffle=True, random_state=random_state)\n",
    "    for fold, (train_idx, valid_idx) in enumerate(cv.split(data)):\n",
    "        train_data = data.iloc[train_idx]\n",
    "        valid_data = data.iloc[valid_idx]\n",
    "\n",
    "        kmf.fit(durations=train_data['efs_time'], event_observed=train_data['efs'])\n",
    "        oof_preds[valid_idx] = kmf.survival_function_at_times(\n",
    "            valid_data['efs_time']\n",
    "        ).values\n",
    "\n",
    "    data['y'] = oof_preds\n",
    "    return data\n",
    "\n",
    "\n",
    "def create_na_target(data, n_splits=5, random_state=42):\n",
    "    \"\"\"\n",
    "    Uses Nelson-Aalen\n",
    "    \"\"\"\n",
    "    naf = NelsonAalenFitter()\n",
    "    oof_preds = np.zeros(len(data))\n",
    "\n",
    "    cv = KFold(n_splits=n_splits, shuffle=True, random_state=random_state)\n",
    "    for fold, (train_idx, valid_idx) in enumerate(cv.split(data)):\n",
    "        train_data = data.iloc[train_idx]\n",
    "        valid_data = data.iloc[valid_idx]\n",
    "\n",
    "        naf.fit(durations=train_data['efs_time'], event_observed=train_data['efs'])\n",
    "        survival_vals = np.exp(-naf.cumulative_hazard_at_times(valid_data['efs_time']).values)\n",
    "        oof_preds[valid_idx] = survival_vals\n",
    "\n",
    "    data['y_na'] = oof_preds\n",
    "    return data\n",
    "\n",
    "train = create_km_target(train)\n",
    "train = create_na_target(train)"
   ]
  },
  {
   "cell_type": "code",
   "execution_count": 6,
   "id": "42cac052",
   "metadata": {
    "execution": {
     "iopub.execute_input": "2025-01-31T04:45:11.542585Z",
     "iopub.status.busy": "2025-01-31T04:45:11.542327Z",
     "iopub.status.idle": "2025-01-31T04:45:11.763063Z",
     "shell.execute_reply": "2025-01-31T04:45:11.762113Z"
    },
    "papermill": {
     "duration": 0.227871,
     "end_time": "2025-01-31T04:45:11.764690",
     "exception": false,
     "start_time": "2025-01-31T04:45:11.536819",
     "status": "completed"
    },
    "tags": []
   },
   "outputs": [
    {
     "name": "stdout",
     "output_type": "stream",
     "text": [
      "There are 65 FEATURES: ['dri_score', 'psych_disturb', 'cyto_score', 'diabetes', 'hla_match_c_high', 'hla_high_res_8', 'tbi_status', 'arrhythmia', 'hla_low_res_6', 'graft_type', 'vent_hist', 'renal_issue', 'pulm_severe', 'prim_disease_hct', 'hla_high_res_6', 'cmv_status', 'hla_high_res_10', 'hla_match_dqb1_high', 'tce_imm_match', 'hla_nmdp_6', 'hla_match_c_low', 'rituximab', 'hla_match_drb1_low', 'hla_match_dqb1_low', 'prod_type', 'cyto_score_detail', 'conditioning_intensity', 'ethnicity', 'year_hct', 'obesity', 'mrd_hct', 'in_vivo_tcd', 'tce_match', 'hla_match_a_high', 'hepatic_severe', 'donor_age', 'prior_tumor', 'hla_match_b_low', 'peptic_ulcer', 'age_at_hct', 'hla_match_a_low', 'gvhd_proph', 'rheum_issue', 'sex_match', 'hla_match_b_high', 'race_group', 'comorbidity_score', 'karnofsky_score', 'hepatic_mild', 'tce_div_match', 'donor_related', 'melphalan_dose', 'hla_low_res_8', 'cardiac', 'hla_match_drb1_high', 'pulm_moderate', 'hla_low_res_10', 'na_count', 'age_karnofsky', 'age_comorbidity', 'donor_recipient_age_diff', 'hla_match_ratio', 'age_squared', 'karnofsky_squared', '16?']\n"
     ]
    }
   ],
   "source": [
    "# missing and note done as same\n",
    "train = train.replace('Not done', 'missing')\n",
    "test = test.replace('Not done', 'missing')\n",
    "\n",
    "train = train.replace('Not tested', 'missing')\n",
    "test = test.replace('Not tested', 'missing')\n",
    "\n",
    "train['na_count'] = train.isna().sum(axis=1)\n",
    "test['na_count'] = test.isna().sum(axis=1)\n",
    "\n",
    "train['age_karnofsky'] = train['age_at_hct'] * train['karnofsky_score']\n",
    "train['age_comorbidity'] = train['age_at_hct'] * train['comorbidity_score']\n",
    "train['donor_recipient_age_diff'] = abs(train['donor_age'] - train['age_at_hct'])\n",
    "train['hla_match_ratio'] = (train['hla_high_res_8'] + train['hla_low_res_8']) / 16\n",
    "train['age_squared'] = train['age_at_hct'] ** 2\n",
    "train['karnofsky_squared'] = train['karnofsky_score'] ** 2\n",
    "train['16?'] = np.where(train['age_at_hct']<=16,1,0)\n",
    "\n",
    "test['age_karnofsky'] = test['age_at_hct'] * test['karnofsky_score']\n",
    "test['age_comorbidity'] = train['age_at_hct'] * test['comorbidity_score']\n",
    "test['donor_recipient_age_diff'] = abs(test['donor_age'] - test['age_at_hct'])\n",
    "test['hla_match_ratio'] = (test['hla_high_res_8'] + test['hla_low_res_8']) / 16\n",
    "test['age_squared'] = test['age_at_hct'] ** 2\n",
    "test['karnofsky_squared'] = test['karnofsky_score'] ** 2\n",
    "test['16?'] = np.where(test['age_at_hct']<=16,1,0)\n",
    "\n",
    "\n",
    "RMV = [\"ID\",\"efs\",\"efs_time\",\"y\",\"y_na\",\"fold\"]\n",
    "FEATURES = [c for c in train.columns if not c in RMV]\n",
    "print(f\"There are {len(FEATURES)} FEATURES: {FEATURES}\")"
   ]
  },
  {
   "cell_type": "code",
   "execution_count": 7,
   "id": "21f754d2",
   "metadata": {
    "execution": {
     "iopub.execute_input": "2025-01-31T04:45:11.776392Z",
     "iopub.status.busy": "2025-01-31T04:45:11.776143Z",
     "iopub.status.idle": "2025-01-31T04:45:11.858766Z",
     "shell.execute_reply": "2025-01-31T04:45:11.857991Z"
    },
    "papermill": {
     "duration": 0.089813,
     "end_time": "2025-01-31T04:45:11.860112",
     "exception": false,
     "start_time": "2025-01-31T04:45:11.770299",
     "status": "completed"
    },
    "tags": []
   },
   "outputs": [
    {
     "name": "stdout",
     "output_type": "stream",
     "text": [
      "In these features, there are 35 CATEGORICAL FEATURES: ['dri_score', 'psych_disturb', 'cyto_score', 'diabetes', 'tbi_status', 'arrhythmia', 'graft_type', 'vent_hist', 'renal_issue', 'pulm_severe', 'prim_disease_hct', 'cmv_status', 'tce_imm_match', 'rituximab', 'prod_type', 'cyto_score_detail', 'conditioning_intensity', 'ethnicity', 'obesity', 'mrd_hct', 'in_vivo_tcd', 'tce_match', 'hepatic_severe', 'prior_tumor', 'peptic_ulcer', 'gvhd_proph', 'rheum_issue', 'sex_match', 'race_group', 'hepatic_mild', 'tce_div_match', 'donor_related', 'melphalan_dose', 'cardiac', 'pulm_moderate']\n"
     ]
    }
   ],
   "source": [
    "CATS = []\n",
    "for c in FEATURES:\n",
    "    if train[c].dtype==\"object\":\n",
    "        CATS.append(c)\n",
    "        train[c] = train[c].fillna(\"missing\")\n",
    "        test[c] = test[c].fillna(\"missing\")\n",
    "print(f\"In these features, there are {len(CATS)} CATEGORICAL FEATURES: {CATS}\")"
   ]
  },
  {
   "cell_type": "code",
   "execution_count": 8,
   "id": "2101b4ff",
   "metadata": {
    "execution": {
     "iopub.execute_input": "2025-01-31T04:45:11.871041Z",
     "iopub.status.busy": "2025-01-31T04:45:11.870796Z",
     "iopub.status.idle": "2025-01-31T04:45:12.007505Z",
     "shell.execute_reply": "2025-01-31T04:45:12.006507Z"
    },
    "papermill": {
     "duration": 0.143696,
     "end_time": "2025-01-31T04:45:12.008946",
     "exception": false,
     "start_time": "2025-01-31T04:45:11.865250",
     "status": "completed"
    },
    "tags": []
   },
   "outputs": [
    {
     "name": "stdout",
     "output_type": "stream",
     "text": [
      "We LABEL ENCODE the CATEGORICAL FEATURES: dri_score, psych_disturb, cyto_score, diabetes, tbi_status, arrhythmia, graft_type, vent_hist, renal_issue, pulm_severe, prim_disease_hct, cmv_status, tce_imm_match, rituximab, prod_type, cyto_score_detail, conditioning_intensity, ethnicity, obesity, mrd_hct, in_vivo_tcd, tce_match, hepatic_severe, prior_tumor, peptic_ulcer, gvhd_proph, rheum_issue, sex_match, race_group, hepatic_mild, tce_div_match, donor_related, melphalan_dose, cardiac, pulm_moderate, "
     ]
    }
   ],
   "source": [
    "combined = pd.concat([train,test],axis=0,ignore_index=True)\n",
    "#print(\"Combined data shape:\", combined.shape )\n",
    "\n",
    "# LABEL ENCODE CATEGORICAL FEATURES\n",
    "print(\"We LABEL ENCODE the CATEGORICAL FEATURES: \",end=\"\")\n",
    "for c in FEATURES:\n",
    "\n",
    "    # LABEL ENCODE CATEGORICAL AND CONVERT TO INT32 CATEGORY\n",
    "    if c in CATS:\n",
    "        print(f\"{c}, \",end=\"\")\n",
    "        combined[c],_ = combined[c].factorize()\n",
    "        combined[c] -= combined[c].min()\n",
    "        combined[c] = combined[c].astype(\"int32\")\n",
    "        combined[c] = combined[c].astype(\"category\")\n",
    "        \n",
    "    # REDUCE PRECISION OF NUMERICAL TO 32BIT TO SAVE MEMORY\n",
    "    else:\n",
    "        if combined[c].dtype==\"float64\":\n",
    "            combined[c] = combined[c].astype(\"float32\")\n",
    "        if combined[c].dtype==\"int64\":\n",
    "            combined[c] = combined[c].astype(\"int32\")\n",
    "    \n",
    "train = combined.iloc[:len(train)].copy()\n",
    "test = combined.iloc[len(train):].reset_index(drop=True).copy()"
   ]
  },
  {
   "cell_type": "code",
   "execution_count": 9,
   "id": "5da68ed3",
   "metadata": {
    "execution": {
     "iopub.execute_input": "2025-01-31T04:45:12.019928Z",
     "iopub.status.busy": "2025-01-31T04:45:12.019669Z",
     "iopub.status.idle": "2025-01-31T07:21:18.551590Z",
     "shell.execute_reply": "2025-01-31T07:21:18.550452Z"
    },
    "papermill": {
     "duration": 9366.544815,
     "end_time": "2025-01-31T07:21:18.558903",
     "exception": false,
     "start_time": "2025-01-31T04:45:12.014088",
     "status": "completed"
    },
    "tags": []
   },
   "outputs": [
    {
     "name": "stdout",
     "output_type": "stream",
     "text": [
      "#########################\n",
      "### Fold 1\n",
      "#########################\n"
     ]
    },
    {
     "name": "stderr",
     "output_type": "stream",
     "text": [
      "/usr/local/lib/python3.10/dist-packages/tabpfn/regressor.py:425: UserWarning: Number of samples 25920 is greater than the maximum Number of samples 10000 supported by the model. You may see degraded performance.\n",
      "  X, y, feature_names_in, n_features_in = validate_Xy_fit(\n"
     ]
    },
    {
     "name": "stdout",
     "output_type": "stream",
     "text": [
      "#########################\n",
      "### Fold 2\n",
      "#########################\n"
     ]
    },
    {
     "name": "stderr",
     "output_type": "stream",
     "text": [
      "/usr/local/lib/python3.10/dist-packages/tabpfn/regressor.py:425: UserWarning: Number of samples 25920 is greater than the maximum Number of samples 10000 supported by the model. You may see degraded performance.\n",
      "  X, y, feature_names_in, n_features_in = validate_Xy_fit(\n"
     ]
    },
    {
     "name": "stdout",
     "output_type": "stream",
     "text": [
      "#########################\n",
      "### Fold 3\n",
      "#########################\n"
     ]
    },
    {
     "name": "stderr",
     "output_type": "stream",
     "text": [
      "/usr/local/lib/python3.10/dist-packages/tabpfn/regressor.py:425: UserWarning: Number of samples 25920 is greater than the maximum Number of samples 10000 supported by the model. You may see degraded performance.\n",
      "  X, y, feature_names_in, n_features_in = validate_Xy_fit(\n"
     ]
    },
    {
     "name": "stdout",
     "output_type": "stream",
     "text": [
      "#########################\n",
      "### Fold 4\n",
      "#########################\n"
     ]
    },
    {
     "name": "stderr",
     "output_type": "stream",
     "text": [
      "/usr/local/lib/python3.10/dist-packages/tabpfn/regressor.py:425: UserWarning: Number of samples 25920 is greater than the maximum Number of samples 10000 supported by the model. You may see degraded performance.\n",
      "  X, y, feature_names_in, n_features_in = validate_Xy_fit(\n"
     ]
    },
    {
     "name": "stdout",
     "output_type": "stream",
     "text": [
      "#########################\n",
      "### Fold 5\n",
      "#########################\n"
     ]
    },
    {
     "name": "stderr",
     "output_type": "stream",
     "text": [
      "/usr/local/lib/python3.10/dist-packages/tabpfn/regressor.py:425: UserWarning: Number of samples 25920 is greater than the maximum Number of samples 10000 supported by the model. You may see degraded performance.\n",
      "  X, y, feature_names_in, n_features_in = validate_Xy_fit(\n"
     ]
    },
    {
     "name": "stdout",
     "output_type": "stream",
     "text": [
      "#########################\n",
      "### Fold 6\n",
      "#########################\n"
     ]
    },
    {
     "name": "stderr",
     "output_type": "stream",
     "text": [
      "/usr/local/lib/python3.10/dist-packages/tabpfn/regressor.py:425: UserWarning: Number of samples 25920 is greater than the maximum Number of samples 10000 supported by the model. You may see degraded performance.\n",
      "  X, y, feature_names_in, n_features_in = validate_Xy_fit(\n"
     ]
    },
    {
     "name": "stdout",
     "output_type": "stream",
     "text": [
      "#########################\n",
      "### Fold 7\n",
      "#########################\n"
     ]
    },
    {
     "name": "stderr",
     "output_type": "stream",
     "text": [
      "/usr/local/lib/python3.10/dist-packages/tabpfn/regressor.py:425: UserWarning: Number of samples 25920 is greater than the maximum Number of samples 10000 supported by the model. You may see degraded performance.\n",
      "  X, y, feature_names_in, n_features_in = validate_Xy_fit(\n"
     ]
    },
    {
     "name": "stdout",
     "output_type": "stream",
     "text": [
      "#########################\n",
      "### Fold 8\n",
      "#########################\n"
     ]
    },
    {
     "name": "stderr",
     "output_type": "stream",
     "text": [
      "/usr/local/lib/python3.10/dist-packages/tabpfn/regressor.py:425: UserWarning: Number of samples 25920 is greater than the maximum Number of samples 10000 supported by the model. You may see degraded performance.\n",
      "  X, y, feature_names_in, n_features_in = validate_Xy_fit(\n"
     ]
    },
    {
     "name": "stdout",
     "output_type": "stream",
     "text": [
      "#########################\n",
      "### Fold 9\n",
      "#########################\n"
     ]
    },
    {
     "name": "stderr",
     "output_type": "stream",
     "text": [
      "/usr/local/lib/python3.10/dist-packages/tabpfn/regressor.py:425: UserWarning: Number of samples 25920 is greater than the maximum Number of samples 10000 supported by the model. You may see degraded performance.\n",
      "  X, y, feature_names_in, n_features_in = validate_Xy_fit(\n"
     ]
    },
    {
     "name": "stdout",
     "output_type": "stream",
     "text": [
      "#########################\n",
      "### Fold 10\n",
      "#########################\n"
     ]
    },
    {
     "name": "stderr",
     "output_type": "stream",
     "text": [
      "/usr/local/lib/python3.10/dist-packages/tabpfn/regressor.py:425: UserWarning: Number of samples 25920 is greater than the maximum Number of samples 10000 supported by the model. You may see degraded performance.\n",
      "  X, y, feature_names_in, n_features_in = validate_Xy_fit(\n"
     ]
    },
    {
     "name": "stdout",
     "output_type": "stream",
     "text": [
      "CPU times: user 2h 31min 51s, sys: 31 s, total: 2h 32min 22s\n",
      "Wall time: 2h 36min 6s\n"
     ]
    }
   ],
   "source": [
    "%%time\n",
    "FOLDS = 10\n",
    "    \n",
    "oof_tabpfn_kap= np.zeros(len(train))\n",
    "pred_tabpfn_kap = np.zeros(len(test))\n",
    "models = {}\n",
    "\n",
    "for idx, fold in enumerate(range(FOLDS)):\n",
    "\n",
    "    print(\"#\"*25)\n",
    "    print(f\"### Fold {fold+1}\")\n",
    "    print(\"#\"*25)\n",
    "    \n",
    "    x_train = train[train[\"fold\"]!=fold][FEATURES].copy()\n",
    "    y_train = train[train[\"fold\"]!=fold][\"y\"]\n",
    "    x_valid = train[train[\"fold\"]==fold][FEATURES].copy()\n",
    "    y_valid = train[train[\"fold\"]==fold][\"y\"]\n",
    "    x_test = test[FEATURES].copy()\n",
    "    \n",
    "    tabpfn_kap = TabPFNRegressor(random_state=42,ignore_pretraining_limits=True,device=\"cuda\")\n",
    "    tabpfn_kap.fit(x_train, y_train)\n",
    "\n",
    "    # INFER OOF\n",
    "    oof_tabpfn_kap[x_valid.index] = tabpfn_kap.predict(x_valid)\n",
    "    # INFER TEST\n",
    "    pred_tabpfn_kap += tabpfn_kap.predict(x_test)\n",
    "\n",
    "    models[fold] = tabpfn_kap\n",
    "\n",
    "# COMPUTE AVERAGE TEST PREDS\n",
    "pred_tabpfn_kap /= FOLDS"
   ]
  },
  {
   "cell_type": "code",
   "execution_count": 10,
   "id": "a82f6eb6",
   "metadata": {
    "execution": {
     "iopub.execute_input": "2025-01-31T07:21:18.572161Z",
     "iopub.status.busy": "2025-01-31T07:21:18.571629Z",
     "iopub.status.idle": "2025-01-31T07:21:18.909185Z",
     "shell.execute_reply": "2025-01-31T07:21:18.908329Z"
    },
    "papermill": {
     "duration": 0.345268,
     "end_time": "2025-01-31T07:21:18.910551",
     "exception": false,
     "start_time": "2025-01-31T07:21:18.565283",
     "status": "completed"
    },
    "tags": []
   },
   "outputs": [
    {
     "name": "stderr",
     "output_type": "stream",
     "text": [
      "/kaggle/usr/lib/eefs-concordance-index/metric.py:59: FutureWarning: The default of observed=False is deprecated and will be changed to True in a future version of pandas. Pass observed=False to retain current behavior or observed=True to adopt the future default and silence this warning.\n",
      "  merged_df_race_dict = dict(merged_df.groupby(['race_group']).groups)\n"
     ]
    },
    {
     "name": "stdout",
     "output_type": "stream",
     "text": [
      "\n",
      "Overall CV for Tabpfn KaplanMeier = 0.6608750819039065\n"
     ]
    }
   ],
   "source": [
    "from metric import score\n",
    "\n",
    "y_true = train[[\"ID\",\"efs\",\"efs_time\",\"race_group\"]].copy()\n",
    "y_pred = train[[\"ID\"]].copy()\n",
    "y_pred[\"prediction\"] = oof_tabpfn_kap\n",
    "m = score(y_true.copy(), y_pred.copy(), \"ID\")\n",
    "print(f\"\\nOverall CV for Tabpfn KaplanMeier =\",m)"
   ]
  },
  {
   "cell_type": "code",
   "execution_count": 11,
   "id": "ba6a3d39",
   "metadata": {
    "execution": {
     "iopub.execute_input": "2025-01-31T07:21:18.923584Z",
     "iopub.status.busy": "2025-01-31T07:21:18.923346Z",
     "iopub.status.idle": "2025-01-31T07:21:18.926437Z",
     "shell.execute_reply": "2025-01-31T07:21:18.925796Z"
    },
    "papermill": {
     "duration": 0.010712,
     "end_time": "2025-01-31T07:21:18.927536",
     "exception": false,
     "start_time": "2025-01-31T07:21:18.916824",
     "status": "completed"
    },
    "tags": []
   },
   "outputs": [],
   "source": [
    "# %%time\n",
    "# FOLDS = 3\n",
    "# kf = KFold(n_splits=FOLDS, shuffle=True, random_state=42)\n",
    "    \n",
    "# oof_tabpfn_aal= np.zeros(len(train))\n",
    "# pred_tabpfn_aal = np.zeros(len(test))\n",
    "\n",
    "# for i, (train_index, test_index) in enumerate(kf.split(train)):\n",
    "\n",
    "#     print(\"#\"*25)\n",
    "#     print(f\"### Fold {i+1}\")\n",
    "#     print(\"#\"*25)\n",
    "    \n",
    "#     x_train = train.loc[train_index,FEATURES].copy()\n",
    "#     y_train = train.loc[train_index,\"y_na\"]\n",
    "#     x_valid = train.loc[test_index,FEATURES].copy()\n",
    "#     y_valid = train.loc[test_index,\"y_na\"]\n",
    "#     x_test = test[FEATURES].copy()\n",
    "#     tabpfn_aal = TabPFNRegressor(random_state=42,ignore_pretraining_limits=True,device=\"cuda\")\n",
    "#     tabpfn_aal.fit(x_train, y_train)\n",
    "\n",
    "#     # INFER OOF\n",
    "#     oof_tabpfn_aal[test_index] = tabpfn_aal.predict(x_valid)\n",
    "#     # INFER TEST\n",
    "#     pred_tabpfn_aal += tabpfn_aal.predict(x_test)\n",
    "\n",
    "# # COMPUTE AVERAGE TEST PREDS\n",
    "# pred_tabpfn_aal /= FOLDS"
   ]
  },
  {
   "cell_type": "code",
   "execution_count": 12,
   "id": "d07660be",
   "metadata": {
    "execution": {
     "iopub.execute_input": "2025-01-31T07:21:18.940183Z",
     "iopub.status.busy": "2025-01-31T07:21:18.939929Z",
     "iopub.status.idle": "2025-01-31T07:21:18.942650Z",
     "shell.execute_reply": "2025-01-31T07:21:18.942005Z"
    },
    "papermill": {
     "duration": 0.010371,
     "end_time": "2025-01-31T07:21:18.943741",
     "exception": false,
     "start_time": "2025-01-31T07:21:18.933370",
     "status": "completed"
    },
    "tags": []
   },
   "outputs": [],
   "source": [
    "# from metric import score\n",
    "\n",
    "# y_true = train[[\"ID\",\"efs\",\"efs_time\",\"race_group\"]].copy()\n",
    "# y_pred = train[[\"ID\"]].copy()\n",
    "# y_pred[\"prediction\"] = oof_tabpfn_aal\n",
    "# m = score(y_true.copy(), y_pred.copy(), \"ID\")\n",
    "# print(f\"\\nOverall CV for Tabpfn AAlon =\",m)"
   ]
  },
  {
   "cell_type": "code",
   "execution_count": 13,
   "id": "1afd92a2",
   "metadata": {
    "execution": {
     "iopub.execute_input": "2025-01-31T07:21:18.957356Z",
     "iopub.status.busy": "2025-01-31T07:21:18.957151Z",
     "iopub.status.idle": "2025-01-31T07:21:19.278905Z",
     "shell.execute_reply": "2025-01-31T07:21:19.278154Z"
    },
    "papermill": {
     "duration": 0.329641,
     "end_time": "2025-01-31T07:21:19.280235",
     "exception": false,
     "start_time": "2025-01-31T07:21:18.950594",
     "status": "completed"
    },
    "tags": []
   },
   "outputs": [
    {
     "name": "stderr",
     "output_type": "stream",
     "text": [
      "/kaggle/usr/lib/eefs-concordance-index/metric.py:59: FutureWarning: The default of observed=False is deprecated and will be changed to True in a future version of pandas. Pass observed=False to retain current behavior or observed=True to adopt the future default and silence this warning.\n",
      "  merged_df_race_dict = dict(merged_df.groupby(['race_group']).groups)\n"
     ]
    },
    {
     "name": "stdout",
     "output_type": "stream",
     "text": [
      "\n",
      "Overall CV for TabFn target Ensemble = 0.6608750819039065\n"
     ]
    }
   ],
   "source": [
    "from scipy.stats import rankdata \n",
    "\n",
    "y_true = train[[\"ID\",\"efs\",\"efs_time\",\"race_group\"]].copy()\n",
    "y_pred = train[[\"ID\"]].copy()\n",
    "y_pred[\"prediction\"] = rankdata(oof_tabpfn_kap) #+ rankdata(oof_tabpfn_aal)\n",
    "m = score(y_true.copy(), y_pred.copy(), \"ID\")\n",
    "print(f\"\\nOverall CV for TabFn target Ensemble =\",m)"
   ]
  },
  {
   "cell_type": "code",
   "execution_count": 14,
   "id": "c91adda5",
   "metadata": {
    "execution": {
     "iopub.execute_input": "2025-01-31T07:21:19.293700Z",
     "iopub.status.busy": "2025-01-31T07:21:19.293489Z",
     "iopub.status.idle": "2025-01-31T07:21:19.318653Z",
     "shell.execute_reply": "2025-01-31T07:21:19.318062Z"
    },
    "papermill": {
     "duration": 0.033414,
     "end_time": "2025-01-31T07:21:19.319884",
     "exception": false,
     "start_time": "2025-01-31T07:21:19.286470",
     "status": "completed"
    },
    "tags": []
   },
   "outputs": [
    {
     "name": "stdout",
     "output_type": "stream",
     "text": [
      "Sub shape: (3, 2)\n"
     ]
    },
    {
     "data": {
      "text/html": [
       "<div>\n",
       "<style scoped>\n",
       "    .dataframe tbody tr th:only-of-type {\n",
       "        vertical-align: middle;\n",
       "    }\n",
       "\n",
       "    .dataframe tbody tr th {\n",
       "        vertical-align: top;\n",
       "    }\n",
       "\n",
       "    .dataframe thead th {\n",
       "        text-align: right;\n",
       "    }\n",
       "</style>\n",
       "<table border=\"1\" class=\"dataframe\">\n",
       "  <thead>\n",
       "    <tr style=\"text-align: right;\">\n",
       "      <th></th>\n",
       "      <th>ID</th>\n",
       "      <th>prediction</th>\n",
       "    </tr>\n",
       "  </thead>\n",
       "  <tbody>\n",
       "    <tr>\n",
       "      <th>0</th>\n",
       "      <td>28800</td>\n",
       "      <td>2.0</td>\n",
       "    </tr>\n",
       "    <tr>\n",
       "      <th>1</th>\n",
       "      <td>28801</td>\n",
       "      <td>3.0</td>\n",
       "    </tr>\n",
       "    <tr>\n",
       "      <th>2</th>\n",
       "      <td>28802</td>\n",
       "      <td>1.0</td>\n",
       "    </tr>\n",
       "  </tbody>\n",
       "</table>\n",
       "</div>"
      ],
      "text/plain": [
       "      ID  prediction\n",
       "0  28800         2.0\n",
       "1  28801         3.0\n",
       "2  28802         1.0"
      ]
     },
     "execution_count": 14,
     "metadata": {},
     "output_type": "execute_result"
    }
   ],
   "source": [
    "sub = pd.read_csv(\"/kaggle/input/equity-post-HCT-survival-predictions/sample_submission.csv\")\n",
    "sub.prediction = rankdata(pred_tabpfn_kap) #+ rankdata(pred_tabpfn_aal)\n",
    "\n",
    "sub.to_csv(\"submission.csv\",index=False)\n",
    "print(\"Sub shape:\",sub.shape)\n",
    "sub.head()"
   ]
  },
  {
   "cell_type": "code",
   "execution_count": 15,
   "id": "c3da404e",
   "metadata": {
    "execution": {
     "iopub.execute_input": "2025-01-31T07:21:19.333350Z",
     "iopub.status.busy": "2025-01-31T07:21:19.333130Z",
     "iopub.status.idle": "2025-01-31T07:21:23.123334Z",
     "shell.execute_reply": "2025-01-31T07:21:23.122584Z"
    },
    "papermill": {
     "duration": 3.798638,
     "end_time": "2025-01-31T07:21:23.124866",
     "exception": false,
     "start_time": "2025-01-31T07:21:19.326228",
     "status": "completed"
    },
    "tags": []
   },
   "outputs": [],
   "source": [
    "import pickle\n",
    "with open('tf_exp_01.pkl', 'wb') as f:\n",
    "    pickle.dump(models, f)"
   ]
  },
  {
   "cell_type": "code",
   "execution_count": 16,
   "id": "289338c3",
   "metadata": {
    "execution": {
     "iopub.execute_input": "2025-01-31T07:21:23.138620Z",
     "iopub.status.busy": "2025-01-31T07:21:23.138365Z",
     "iopub.status.idle": "2025-01-31T07:21:56.446849Z",
     "shell.execute_reply": "2025-01-31T07:21:56.446071Z"
    },
    "papermill": {
     "duration": 33.317072,
     "end_time": "2025-01-31T07:21:56.448424",
     "exception": false,
     "start_time": "2025-01-31T07:21:23.131352",
     "status": "completed"
    },
    "tags": []
   },
   "outputs": [],
   "source": [
    "train['predictions'] = oof_tabpfn_kap\n",
    "train.to_excel(\"tf_exp_01_oof.xlsx\")"
   ]
  }
 ],
 "metadata": {
  "kaggle": {
   "accelerator": "nvidiaTeslaT4",
   "dataSources": [
    {
     "databundleVersionId": 10381525,
     "sourceId": 70942,
     "sourceType": "competition"
    },
    {
     "sourceId": 211253469,
     "sourceType": "kernelVersion"
    },
    {
     "sourceId": 211322530,
     "sourceType": "kernelVersion"
    },
    {
     "sourceId": 216079280,
     "sourceType": "kernelVersion"
    },
    {
     "sourceId": 216857635,
     "sourceType": "kernelVersion"
    },
    {
     "sourceId": 220019949,
     "sourceType": "kernelVersion"
    }
   ],
   "dockerImageVersionId": 30823,
   "isGpuEnabled": true,
   "isInternetEnabled": false,
   "language": "python",
   "sourceType": "notebook"
  },
  "kernelspec": {
   "display_name": "Python 3",
   "language": "python",
   "name": "python3"
  },
  "language_info": {
   "codemirror_mode": {
    "name": "ipython",
    "version": 3
   },
   "file_extension": ".py",
   "mimetype": "text/x-python",
   "name": "python",
   "nbconvert_exporter": "python",
   "pygments_lexer": "ipython3",
   "version": "3.10.12"
  },
  "papermill": {
   "default_parameters": {},
   "duration": 9481.247231,
   "end_time": "2025-01-31T07:21:59.627459",
   "environment_variables": {},
   "exception": null,
   "input_path": "__notebook__.ipynb",
   "output_path": "__notebook__.ipynb",
   "parameters": {},
   "start_time": "2025-01-31T04:43:58.380228",
   "version": "2.6.0"
  }
 },
 "nbformat": 4,
 "nbformat_minor": 5
}
