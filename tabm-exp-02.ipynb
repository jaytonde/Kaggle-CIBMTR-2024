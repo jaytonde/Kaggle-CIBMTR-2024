{
 "cells": [
  {
   "cell_type": "code",
   "execution_count": 1,
   "id": "f833b818",
   "metadata": {
    "execution": {
     "iopub.execute_input": "2025-01-26T09:52:07.064632Z",
     "iopub.status.busy": "2025-01-26T09:52:07.064361Z",
     "iopub.status.idle": "2025-01-26T09:55:34.263091Z",
     "shell.execute_reply": "2025-01-26T09:55:34.261934Z"
    },
    "papermill": {
     "duration": 207.209129,
     "end_time": "2025-01-26T09:55:34.265600",
     "exception": false,
     "start_time": "2025-01-26T09:52:07.056471",
     "status": "completed"
    },
    "tags": []
   },
   "outputs": [
    {
     "name": "stdout",
     "output_type": "stream",
     "text": [
      "Processing /kaggle/input/pip-install-lifelines/autograd-1.7.0-py3-none-any.whl\r\n",
      "Requirement already satisfied: numpy in /opt/conda/lib/python3.10/site-packages (from autograd==1.7.0) (1.26.4)\r\n",
      "Installing collected packages: autograd\r\n",
      "Successfully installed autograd-1.7.0\r\n",
      "Processing /kaggle/input/pip-install-lifelines/autograd-gamma-0.5.0.tar.gz\r\n",
      "  Preparing metadata (setup.py) ... \u001b[?25l-\b \bdone\r\n",
      "\u001b[?25hRequirement already satisfied: autograd>=1.2.0 in /opt/conda/lib/python3.10/site-packages (from autograd-gamma==0.5.0) (1.7.0)\r\n",
      "Requirement already satisfied: scipy>=1.2.0 in /opt/conda/lib/python3.10/site-packages (from autograd-gamma==0.5.0) (1.14.1)\r\n",
      "Requirement already satisfied: numpy in /opt/conda/lib/python3.10/site-packages (from autograd>=1.2.0->autograd-gamma==0.5.0) (1.26.4)\r\n",
      "Building wheels for collected packages: autograd-gamma\r\n",
      "  Building wheel for autograd-gamma (setup.py) ... \u001b[?25l-\b \b\\\b \bdone\r\n",
      "\u001b[?25h  Created wheel for autograd-gamma: filename=autograd_gamma-0.5.0-py3-none-any.whl size=4030 sha256=c271cbf61ab8e235776c937ba838bd9816e72aa4603dba5bb7d0d7cd6af0fcb6\r\n",
      "  Stored in directory: /root/.cache/pip/wheels/6b/b5/e0/4c79e15c0b5f2c15ecf613c720bb20daab20a666eb67135155\r\n",
      "Successfully built autograd-gamma\r\n",
      "Installing collected packages: autograd-gamma\r\n",
      "Successfully installed autograd-gamma-0.5.0\r\n",
      "Processing /kaggle/input/pip-install-lifelines/interface_meta-1.3.0-py3-none-any.whl\r\n",
      "Installing collected packages: interface-meta\r\n",
      "Successfully installed interface-meta-1.3.0\r\n",
      "Processing /kaggle/input/pip-install-lifelines/formulaic-1.0.2-py3-none-any.whl\r\n",
      "Requirement already satisfied: interface-meta>=1.2.0 in /opt/conda/lib/python3.10/site-packages (from formulaic==1.0.2) (1.3.0)\r\n",
      "Requirement already satisfied: numpy>=1.16.5 in /opt/conda/lib/python3.10/site-packages (from formulaic==1.0.2) (1.26.4)\r\n",
      "Requirement already satisfied: pandas>=1.0 in /opt/conda/lib/python3.10/site-packages (from formulaic==1.0.2) (2.2.3)\r\n",
      "Requirement already satisfied: scipy>=1.6 in /opt/conda/lib/python3.10/site-packages (from formulaic==1.0.2) (1.14.1)\r\n",
      "Requirement already satisfied: typing-extensions>=4.2.0 in /opt/conda/lib/python3.10/site-packages (from formulaic==1.0.2) (4.12.2)\r\n",
      "Requirement already satisfied: wrapt>=1.0 in /opt/conda/lib/python3.10/site-packages (from formulaic==1.0.2) (1.16.0)\r\n",
      "Requirement already satisfied: python-dateutil>=2.8.2 in /opt/conda/lib/python3.10/site-packages (from pandas>=1.0->formulaic==1.0.2) (2.9.0.post0)\r\n",
      "Requirement already satisfied: pytz>=2020.1 in /opt/conda/lib/python3.10/site-packages (from pandas>=1.0->formulaic==1.0.2) (2024.1)\r\n",
      "Requirement already satisfied: tzdata>=2022.7 in /opt/conda/lib/python3.10/site-packages (from pandas>=1.0->formulaic==1.0.2) (2024.1)\r\n",
      "Requirement already satisfied: six>=1.5 in /opt/conda/lib/python3.10/site-packages (from python-dateutil>=2.8.2->pandas>=1.0->formulaic==1.0.2) (1.16.0)\r\n",
      "Installing collected packages: formulaic\r\n",
      "Successfully installed formulaic-1.0.2\r\n",
      "Processing /kaggle/input/pip-install-lifelines/lifelines-0.30.0-py3-none-any.whl\r\n",
      "Requirement already satisfied: numpy>=1.14.0 in /opt/conda/lib/python3.10/site-packages (from lifelines==0.30.0) (1.26.4)\r\n",
      "Requirement already satisfied: scipy>=1.7.0 in /opt/conda/lib/python3.10/site-packages (from lifelines==0.30.0) (1.14.1)\r\n",
      "Requirement already satisfied: pandas>=2.1 in /opt/conda/lib/python3.10/site-packages (from lifelines==0.30.0) (2.2.3)\r\n",
      "Requirement already satisfied: matplotlib>=3.0 in /opt/conda/lib/python3.10/site-packages (from lifelines==0.30.0) (3.7.5)\r\n",
      "Requirement already satisfied: autograd>=1.5 in /opt/conda/lib/python3.10/site-packages (from lifelines==0.30.0) (1.7.0)\r\n",
      "Requirement already satisfied: autograd-gamma>=0.3 in /opt/conda/lib/python3.10/site-packages (from lifelines==0.30.0) (0.5.0)\r\n",
      "Requirement already satisfied: formulaic>=0.2.2 in /opt/conda/lib/python3.10/site-packages (from lifelines==0.30.0) (1.0.2)\r\n",
      "Requirement already satisfied: interface-meta>=1.2.0 in /opt/conda/lib/python3.10/site-packages (from formulaic>=0.2.2->lifelines==0.30.0) (1.3.0)\r\n",
      "Requirement already satisfied: typing-extensions>=4.2.0 in /opt/conda/lib/python3.10/site-packages (from formulaic>=0.2.2->lifelines==0.30.0) (4.12.2)\r\n",
      "Requirement already satisfied: wrapt>=1.0 in /opt/conda/lib/python3.10/site-packages (from formulaic>=0.2.2->lifelines==0.30.0) (1.16.0)\r\n",
      "Requirement already satisfied: contourpy>=1.0.1 in /opt/conda/lib/python3.10/site-packages (from matplotlib>=3.0->lifelines==0.30.0) (1.2.1)\r\n",
      "Requirement already satisfied: cycler>=0.10 in /opt/conda/lib/python3.10/site-packages (from matplotlib>=3.0->lifelines==0.30.0) (0.12.1)\r\n",
      "Requirement already satisfied: fonttools>=4.22.0 in /opt/conda/lib/python3.10/site-packages (from matplotlib>=3.0->lifelines==0.30.0) (4.53.0)\r\n",
      "Requirement already satisfied: kiwisolver>=1.0.1 in /opt/conda/lib/python3.10/site-packages (from matplotlib>=3.0->lifelines==0.30.0) (1.4.5)\r\n",
      "Requirement already satisfied: packaging>=20.0 in /opt/conda/lib/python3.10/site-packages (from matplotlib>=3.0->lifelines==0.30.0) (21.3)\r\n",
      "Requirement already satisfied: pillow>=6.2.0 in /opt/conda/lib/python3.10/site-packages (from matplotlib>=3.0->lifelines==0.30.0) (10.3.0)\r\n",
      "Requirement already satisfied: pyparsing>=2.3.1 in /opt/conda/lib/python3.10/site-packages (from matplotlib>=3.0->lifelines==0.30.0) (3.1.2)\r\n",
      "Requirement already satisfied: python-dateutil>=2.7 in /opt/conda/lib/python3.10/site-packages (from matplotlib>=3.0->lifelines==0.30.0) (2.9.0.post0)\r\n",
      "Requirement already satisfied: pytz>=2020.1 in /opt/conda/lib/python3.10/site-packages (from pandas>=2.1->lifelines==0.30.0) (2024.1)\r\n",
      "Requirement already satisfied: tzdata>=2022.7 in /opt/conda/lib/python3.10/site-packages (from pandas>=2.1->lifelines==0.30.0) (2024.1)\r\n",
      "Requirement already satisfied: six>=1.5 in /opt/conda/lib/python3.10/site-packages (from python-dateutil>=2.7->matplotlib>=3.0->lifelines==0.30.0) (1.16.0)\r\n",
      "Installing collected packages: lifelines\r\n",
      "Successfully installed lifelines-0.30.0\r\n"
     ]
    }
   ],
   "source": [
    "!pip install /kaggle/input/pip-install-lifelines/autograd-1.7.0-py3-none-any.whl\n",
    "!pip install /kaggle/input/pip-install-lifelines/autograd-gamma-0.5.0.tar.gz\n",
    "!pip install /kaggle/input/pip-install-lifelines/interface_meta-1.3.0-py3-none-any.whl\n",
    "!pip install /kaggle/input/pip-install-lifelines/formulaic-1.0.2-py3-none-any.whl\n",
    "!pip install /kaggle/input/pip-install-lifelines/lifelines-0.30.0-py3-none-any.whl"
   ]
  },
  {
   "cell_type": "code",
   "execution_count": 2,
   "id": "0e556636",
   "metadata": {
    "execution": {
     "iopub.execute_input": "2025-01-26T09:55:34.282975Z",
     "iopub.status.busy": "2025-01-26T09:55:34.282599Z",
     "iopub.status.idle": "2025-01-26T09:55:43.098919Z",
     "shell.execute_reply": "2025-01-26T09:55:43.097872Z"
    },
    "papermill": {
     "duration": 8.827944,
     "end_time": "2025-01-26T09:55:43.101396",
     "exception": false,
     "start_time": "2025-01-26T09:55:34.273452",
     "status": "completed"
    },
    "tags": []
   },
   "outputs": [
    {
     "name": "stdout",
     "output_type": "stream",
     "text": [
      "Looking in links: /kaggle/input/tabm-tabular-dl-library\r\n",
      "Processing /kaggle/input/tabm-tabular-dl-library/tabm-0.0.1.dev0-py3-none-any.whl\r\n",
      "Requirement already satisfied: torch<3,>=1.12 in /opt/conda/lib/python3.10/site-packages (from tabm==0.0.1.dev0) (2.4.0)\r\n",
      "Processing /kaggle/input/tabm-tabular-dl-library/rtdl_num_embeddings-0.0.11-py3-none-any.whl (from tabm==0.0.1.dev0)\r\n",
      "Requirement already satisfied: filelock in /opt/conda/lib/python3.10/site-packages (from torch<3,>=1.12->tabm==0.0.1.dev0) (3.15.1)\r\n",
      "Requirement already satisfied: typing-extensions>=4.8.0 in /opt/conda/lib/python3.10/site-packages (from torch<3,>=1.12->tabm==0.0.1.dev0) (4.12.2)\r\n",
      "Requirement already satisfied: sympy in /opt/conda/lib/python3.10/site-packages (from torch<3,>=1.12->tabm==0.0.1.dev0) (1.13.3)\r\n",
      "Requirement already satisfied: networkx in /opt/conda/lib/python3.10/site-packages (from torch<3,>=1.12->tabm==0.0.1.dev0) (3.3)\r\n",
      "Requirement already satisfied: jinja2 in /opt/conda/lib/python3.10/site-packages (from torch<3,>=1.12->tabm==0.0.1.dev0) (3.1.4)\r\n",
      "Requirement already satisfied: fsspec in /opt/conda/lib/python3.10/site-packages (from torch<3,>=1.12->tabm==0.0.1.dev0) (2024.6.0)\r\n",
      "Requirement already satisfied: MarkupSafe>=2.0 in /opt/conda/lib/python3.10/site-packages (from jinja2->torch<3,>=1.12->tabm==0.0.1.dev0) (2.1.5)\r\n",
      "Requirement already satisfied: mpmath<1.4,>=1.1.0 in /opt/conda/lib/python3.10/site-packages (from sympy->torch<3,>=1.12->tabm==0.0.1.dev0) (1.3.0)\r\n",
      "Installing collected packages: rtdl_num_embeddings, tabm\r\n",
      "Successfully installed rtdl_num_embeddings-0.0.11 tabm-0.0.1.dev0\r\n"
     ]
    }
   ],
   "source": [
    "!pip install --no-index -U --find-links=/kaggle/input/tabm-tabular-dl-library tabm==0.0.1.dev0"
   ]
  },
  {
   "cell_type": "code",
   "execution_count": 3,
   "id": "bfa0762b",
   "metadata": {
    "execution": {
     "iopub.execute_input": "2025-01-26T09:55:43.118622Z",
     "iopub.status.busy": "2025-01-26T09:55:43.117932Z",
     "iopub.status.idle": "2025-01-26T09:56:27.627546Z",
     "shell.execute_reply": "2025-01-26T09:56:27.626686Z"
    },
    "papermill": {
     "duration": 44.520399,
     "end_time": "2025-01-26T09:56:27.629760",
     "exception": false,
     "start_time": "2025-01-26T09:55:43.109361",
     "status": "completed"
    },
    "tags": []
   },
   "outputs": [
    {
     "name": "stdout",
     "output_type": "stream",
     "text": [
      "Processing /kaggle/input/cibmtr2024-import/scikit_learn/scikit_learn-1.4.0-1-cp310-cp310-manylinux_2_17_x86_64.manylinux2014_x86_64.whl\r\n",
      "Requirement already satisfied: numpy<2.0,>=1.19.5 in /opt/conda/lib/python3.10/site-packages (from scikit-learn==1.4.0) (1.26.4)\r\n",
      "Requirement already satisfied: scipy>=1.6.0 in /opt/conda/lib/python3.10/site-packages (from scikit-learn==1.4.0) (1.14.1)\r\n",
      "Requirement already satisfied: joblib>=1.2.0 in /opt/conda/lib/python3.10/site-packages (from scikit-learn==1.4.0) (1.4.2)\r\n",
      "Requirement already satisfied: threadpoolctl>=2.0.0 in /opt/conda/lib/python3.10/site-packages (from scikit-learn==1.4.0) (3.5.0)\r\n",
      "Installing collected packages: scikit-learn\r\n",
      "  Attempting uninstall: scikit-learn\r\n",
      "    Found existing installation: scikit-learn 1.2.2\r\n",
      "    Uninstalling scikit-learn-1.2.2:\r\n",
      "      Successfully uninstalled scikit-learn-1.2.2\r\n",
      "\u001b[31mERROR: pip's dependency resolver does not currently take into account all the packages that are installed. This behaviour is the source of the following dependency conflicts.\r\n",
      "bigframes 0.22.0 requires google-cloud-bigquery[bqstorage,pandas]>=3.10.0, but you have google-cloud-bigquery 2.34.4 which is incompatible.\r\n",
      "bigframes 0.22.0 requires google-cloud-storage>=2.0.0, but you have google-cloud-storage 1.44.0 which is incompatible.\r\n",
      "bigframes 0.22.0 requires pandas<2.1.4,>=1.5.0, but you have pandas 2.2.3 which is incompatible.\r\n",
      "cesium 0.12.3 requires numpy<3.0,>=2.0, but you have numpy 1.26.4 which is incompatible.\r\n",
      "dataproc-jupyter-plugin 0.1.79 requires pydantic~=1.10.0, but you have pydantic 2.10.1 which is incompatible.\u001b[0m\u001b[31m\r\n",
      "\u001b[0mSuccessfully installed scikit-learn-1.4.0\r\n"
     ]
    }
   ],
   "source": [
    "!pip install /kaggle/input/cibmtr2024-import/scikit_learn/scikit_learn-1.4.0-1-cp310-cp310-manylinux_2_17_x86_64.manylinux2014_x86_64.whl"
   ]
  },
  {
   "cell_type": "code",
   "execution_count": 4,
   "id": "a9a7df0a",
   "metadata": {
    "execution": {
     "iopub.execute_input": "2025-01-26T09:56:27.646528Z",
     "iopub.status.busy": "2025-01-26T09:56:27.646236Z",
     "iopub.status.idle": "2025-01-26T09:57:08.599720Z",
     "shell.execute_reply": "2025-01-26T09:57:08.598928Z"
    },
    "papermill": {
     "duration": 40.964777,
     "end_time": "2025-01-26T09:57:08.602409",
     "exception": false,
     "start_time": "2025-01-26T09:56:27.637632",
     "status": "completed"
    },
    "tags": []
   },
   "outputs": [
    {
     "name": "stdout",
     "output_type": "stream",
     "text": [
      "Processing /kaggle/input/cibmtr2024-import/delu/delu-0.0.26-py3-none-any.whl\r\n",
      "Requirement already satisfied: numpy<3,>=1.21 in /opt/conda/lib/python3.10/site-packages (from delu==0.0.26) (1.26.4)\r\n",
      "Requirement already satisfied: torch<3,>=1.9 in /opt/conda/lib/python3.10/site-packages (from delu==0.0.26) (2.4.0)\r\n",
      "Requirement already satisfied: filelock in /opt/conda/lib/python3.10/site-packages (from torch<3,>=1.9->delu==0.0.26) (3.15.1)\r\n",
      "Requirement already satisfied: typing-extensions>=4.8.0 in /opt/conda/lib/python3.10/site-packages (from torch<3,>=1.9->delu==0.0.26) (4.12.2)\r\n",
      "Requirement already satisfied: sympy in /opt/conda/lib/python3.10/site-packages (from torch<3,>=1.9->delu==0.0.26) (1.13.3)\r\n",
      "Requirement already satisfied: networkx in /opt/conda/lib/python3.10/site-packages (from torch<3,>=1.9->delu==0.0.26) (3.3)\r\n",
      "Requirement already satisfied: jinja2 in /opt/conda/lib/python3.10/site-packages (from torch<3,>=1.9->delu==0.0.26) (3.1.4)\r\n",
      "Requirement already satisfied: fsspec in /opt/conda/lib/python3.10/site-packages (from torch<3,>=1.9->delu==0.0.26) (2024.6.0)\r\n",
      "Requirement already satisfied: MarkupSafe>=2.0 in /opt/conda/lib/python3.10/site-packages (from jinja2->torch<3,>=1.9->delu==0.0.26) (2.1.5)\r\n",
      "Requirement already satisfied: mpmath<1.4,>=1.1.0 in /opt/conda/lib/python3.10/site-packages (from sympy->torch<3,>=1.9->delu==0.0.26) (1.3.0)\r\n",
      "Installing collected packages: delu\r\n",
      "Successfully installed delu-0.0.26\r\n"
     ]
    }
   ],
   "source": [
    "!pip install /kaggle/input/cibmtr2024-import/delu/delu-0.0.26-py3-none-any.whl"
   ]
  },
  {
   "cell_type": "markdown",
   "id": "46b5972a",
   "metadata": {
    "papermill": {
     "duration": 0.007703,
     "end_time": "2025-01-26T09:57:08.618030",
     "exception": false,
     "start_time": "2025-01-26T09:57:08.610327",
     "status": "completed"
    },
    "tags": []
   },
   "source": [
    "## Step 2: Imports"
   ]
  },
  {
   "cell_type": "code",
   "execution_count": 5,
   "id": "0382aff0",
   "metadata": {
    "_cell_guid": "f9153f3d-b8cd-4900-8ad0-41c0c533817a",
    "_uuid": "02935884-0633-4f67-8ded-1fed6a1abea9",
    "collapsed": false,
    "execution": {
     "iopub.execute_input": "2025-01-26T09:57:08.635083Z",
     "iopub.status.busy": "2025-01-26T09:57:08.634753Z",
     "iopub.status.idle": "2025-01-26T09:57:14.391638Z",
     "shell.execute_reply": "2025-01-26T09:57:14.390895Z"
    },
    "jupyter": {
     "outputs_hidden": false
    },
    "papermill": {
     "duration": 5.768185,
     "end_time": "2025-01-26T09:57:14.393967",
     "exception": false,
     "start_time": "2025-01-26T09:57:08.625782",
     "status": "completed"
    },
    "tags": []
   },
   "outputs": [],
   "source": [
    "from tabm_reference import Model, make_parameter_groups\n",
    "\n",
    "import torch\n",
    "import torch.nn as nn\n",
    "import torch.nn.functional as F\n",
    "import torch.optim\n",
    "import rtdl_num_embeddings\n",
    "\n",
    "import pandas as pd\n",
    "import numpy as np\n",
    "\n",
    "import matplotlib.pyplot as plt\n",
    "\n",
    "\n",
    "from sklearn.model_selection import train_test_split, KFold\n",
    "from sklearn.metrics import mean_squared_error, root_mean_squared_error, roc_auc_score, root_mean_squared_log_error, mean_squared_log_error\n",
    "\n",
    "from IPython.display import clear_output\n",
    "\n",
    "from metric import score\n",
    "import warnings\n",
    "warnings.filterwarnings('ignore')\n",
    "\n",
    "import joblib\n",
    "from torch.utils.data import TensorDataset, DataLoader, Dataset, ConcatDataset\n",
    "\n",
    "import delu\n",
    "import math\n",
    "\n",
    "from collections import OrderedDict\n",
    "from tqdm import tqdm"
   ]
  },
  {
   "cell_type": "markdown",
   "id": "badde5bd",
   "metadata": {
    "papermill": {
     "duration": 0.008462,
     "end_time": "2025-01-26T09:57:14.411071",
     "exception": false,
     "start_time": "2025-01-26T09:57:14.402609",
     "status": "completed"
    },
    "tags": []
   },
   "source": [
    "## Step 3: Read the data"
   ]
  },
  {
   "cell_type": "code",
   "execution_count": 6,
   "id": "3b8211f4",
   "metadata": {
    "execution": {
     "iopub.execute_input": "2025-01-26T09:57:14.428291Z",
     "iopub.status.busy": "2025-01-26T09:57:14.427903Z",
     "iopub.status.idle": "2025-01-26T09:57:41.266443Z",
     "shell.execute_reply": "2025-01-26T09:57:41.265662Z"
    },
    "papermill": {
     "duration": 26.849195,
     "end_time": "2025-01-26T09:57:41.268442",
     "exception": false,
     "start_time": "2025-01-26T09:57:14.419247",
     "status": "completed"
    },
    "tags": []
   },
   "outputs": [],
   "source": [
    "train = pd.read_excel('/kaggle/input/cibmtr-2024-dataset/random_folding.xlsx')\n",
    "test = pd.read_csv('/kaggle/input/equity-post-HCT-survival-predictions/test.csv')"
   ]
  },
  {
   "cell_type": "markdown",
   "id": "5a9cb5c6",
   "metadata": {
    "papermill": {
     "duration": 0.008018,
     "end_time": "2025-01-26T09:57:41.284901",
     "exception": false,
     "start_time": "2025-01-26T09:57:41.276883",
     "status": "completed"
    },
    "tags": []
   },
   "source": [
    "## Step 4:  Transform Targets"
   ]
  },
  {
   "cell_type": "code",
   "execution_count": 7,
   "id": "6192aa6a",
   "metadata": {
    "execution": {
     "iopub.execute_input": "2025-01-26T09:57:41.301875Z",
     "iopub.status.busy": "2025-01-26T09:57:41.301585Z",
     "iopub.status.idle": "2025-01-26T09:57:41.316652Z",
     "shell.execute_reply": "2025-01-26T09:57:41.315773Z"
    },
    "papermill": {
     "duration": 0.025489,
     "end_time": "2025-01-26T09:57:41.318168",
     "exception": false,
     "start_time": "2025-01-26T09:57:41.292679",
     "status": "completed"
    },
    "tags": []
   },
   "outputs": [],
   "source": [
    "from lifelines import KaplanMeierFitter\n",
    "from lifelines import NelsonAalenFitter\n",
    "from lifelines import CoxPHFitter\n",
    "import numpy as np\n",
    "\n",
    "def update_target_with_probabilities(df, probability_func, target_name, time_col='efs_time', event_col='efs', sep=0):\n",
    "    race_group = sorted(df['race_group'].unique())\n",
    "    probs_dict = {}\n",
    "    \n",
    "    # Compute probabilities for each race group\n",
    "    for race in race_group:\n",
    "        race_df = df[df['race_group'] == race]\n",
    "        probs_dict[race] = probability_func(race_df, time_col, event_col)\n",
    "    \n",
    "    # Update target values using the target_name parameter\n",
    "    for race in race_group:\n",
    "        df.loc[df['race_group'] == race, target_name] = probs_dict[race]\n",
    "    \n",
    "    # Adjust target for non-events\n",
    "    df.loc[df[event_col] == 0, target_name] -= sep\n",
    "    \n",
    "    return df[[event_col,target_name]]\n",
    "\n",
    "# Other functions remain the same\n",
    "def min_max_scale(x):\n",
    "    return (x - x.min()) / (x.max() - x.min())\n",
    "\n",
    "def KaplanMeier(in_data, time_col='efs_time', event_col='efs'):\n",
    "    kmf = KaplanMeierFitter()\n",
    "    kmf.fit(durations=in_data[time_col], event_observed=in_data[event_col])\n",
    "    return kmf.survival_function_at_times(in_data[time_col]).values.flatten()\n",
    "\n",
    "def NelsonAalen(in_data, time_col='efs_time', event_col='efs'):\n",
    "    naf = NelsonAalenFitter()\n",
    "    naf.fit(durations=in_data[time_col], event_observed=in_data[event_col])\n",
    "    return -1 * naf.cumulative_hazard_at_times(in_data[time_col]).values.flatten()\n",
    "\n",
    "def chris_nn(df, time_col='efs_time', event_col='efs'):\n",
    "    train = df.copy()\n",
    "    train[\"y\"] = train[time_col].values\n",
    "    mx = train.loc[train[event_col]==1, time_col].max()\n",
    "    mn = train.loc[train[event_col]==0, time_col].min()\n",
    "    train.loc[train[event_col]==0, \"y\"] = train.loc[train[event_col]==0, \"y\"] + mx - mn\n",
    "    train.y = train.y.rank()\n",
    "    train.loc[train[event_col]==0, \"y\"] += 1*len(train)\n",
    "    train.y = train.y / train.y.max()\n",
    "    train.y = np.log(train.y)\n",
    "    train.y -= train.y.mean()\n",
    "    train.y *= -1.0\n",
    "    return train.y.values\n",
    "\n",
    "def compare_risk_transforms(df, time_col='efs_time', event_col='efs'):\n",
    "    transforms = {}\n",
    "    transform_configs = {\n",
    "        'chris_nn_0': (chris_nn, 0),\n",
    "        'chris_nn_0.3': (chris_nn, 0.3),\n",
    "        'chris_nn_0.5': (chris_nn, 0.5),\n",
    "        'chris_nn_0.6': (chris_nn, 0.6),\n",
    "        'chris_nn_m0.3': (chris_nn, -0.3),\n",
    "        \n",
    "        'NelsonAalen_0': (NelsonAalen, 0),\n",
    "        'NelsonAalen_005': (NelsonAalen, 0.05),\n",
    "        'NelsonAalen_01': (NelsonAalen, 0.1),\n",
    "        'NelsonAalen_015': (NelsonAalen, 0.15),\n",
    "        'NelsonAalen_02': (NelsonAalen, 0.2),\n",
    "        'NelsonAalen_025': (NelsonAalen, 0.25),\n",
    "        \n",
    "        'KaplanMeier_005': (KaplanMeier, 0.05),\n",
    "        'KaplanMeier_01': (KaplanMeier, 0.1),\n",
    "        'KaplanMeier_015': (KaplanMeier, 0.15),\n",
    "        'KaplanMeier_02': (KaplanMeier, 0.2),\n",
    "        'KaplanMeier_025': (KaplanMeier, 0.25),\n",
    "    }\n",
    "    \n",
    "    # Create transforms with named targets\n",
    "    for name, (func, sep) in transform_configs.items():\n",
    "        transforms[name] = update_target_with_probabilities(\n",
    "            df.copy(), func, target_name=name, sep=sep\n",
    "        )\n",
    "\n",
    "    fig, axes = plt.subplots(6, 5, figsize=(15, 10))\n",
    "    axes = axes.ravel()\n",
    "\n",
    "    for i, (name, risk) in enumerate(transforms.items()):\n",
    "        axes[i].hist(risk[risk[event_col]==1][name], bins=50, alpha=0.5, label='Event')\n",
    "        axes[i].hist(risk[risk[event_col]==0][name], bins=50, alpha=0.5, label='Censored')\n",
    "        axes[i].set_title(f'{name} Transform')\n",
    "        axes[i].set_xlabel('Risk Score')\n",
    "        axes[i].set_ylabel('Count')\n",
    "        axes[i].legend()\n",
    "    plt.tight_layout()\n",
    "    plt.show()\n",
    "    return transforms"
   ]
  },
  {
   "cell_type": "code",
   "execution_count": 8,
   "id": "5e1c304f",
   "metadata": {
    "execution": {
     "iopub.execute_input": "2025-01-26T09:57:41.338238Z",
     "iopub.status.busy": "2025-01-26T09:57:41.337511Z",
     "iopub.status.idle": "2025-01-26T09:57:49.782602Z",
     "shell.execute_reply": "2025-01-26T09:57:49.781624Z"
    },
    "papermill": {
     "duration": 8.458913,
     "end_time": "2025-01-26T09:57:49.784728",
     "exception": false,
     "start_time": "2025-01-26T09:57:41.325815",
     "status": "completed"
    },
    "tags": []
   },
   "outputs": [
    {
     "data": {
      "image/png": "[encoded data removed]",
      "text/plain": [
       "<Figure size 1500x1000 with 30 Axes>"
      ]
     },
     "metadata": {},
     "output_type": "display_data"
    }
   ],
   "source": [
    "transforms = compare_risk_transforms(train)"
   ]
  },
  {
   "cell_type": "code",
   "execution_count": 9,
   "id": "1a4e7440",
   "metadata": {
    "execution": {
     "iopub.execute_input": "2025-01-26T09:57:49.806500Z",
     "iopub.status.busy": "2025-01-26T09:57:49.806221Z",
     "iopub.status.idle": "2025-01-26T09:57:49.813960Z",
     "shell.execute_reply": "2025-01-26T09:57:49.813070Z"
    },
    "papermill": {
     "duration": 0.020125,
     "end_time": "2025-01-26T09:57:49.815790",
     "exception": false,
     "start_time": "2025-01-26T09:57:49.795665",
     "status": "completed"
    },
    "tags": []
   },
   "outputs": [
    {
     "data": {
      "text/plain": [
       "'\\nfrom lifelines import KaplanMeierFitter\\nfrom lifelines import NelsonAalenFitter\\nfrom lifelines import CoxPHFitter\\n\\ndef min_max_scale(x):\\n    return (x - x.min()) / (x.max() - x.min())\\n\\ndef Cox(in_data, penalizer=1, sep=0):\\n    data = in_data.copy()\\n    cph = CoxPHFitter(penalizer=penalizer)\\n    cph.fit(data, duration_col=\\'efs_time\\', event_col=\\'efs\\')\\n    data[\\'target1\\'] = cph.predict_partial_hazard(data)\\n    data[\\'target1\\'][in_data[\\'efs\\']==0] -= sep\\n    return data[\\'target1\\'].values\\n\\ndef KaplanMeier(in_data, sep=0):\\n    data = in_data.copy()\\n    kmf = KaplanMeierFitter()\\n    kmf.fit(durations=data[\\'efs_time\\'], event_observed=data[\\'efs\\'])\\n    data[\\'target2\\'] = kmf.survival_function_at_times(data[\\'efs_time\\']).values\\n    data[\\'target2\\'][in_data[\\'efs\\']==0] -= sep\\n    return data[\\'target2\\'].values\\n\\ndef NelsonAalen(in_data, sep=0):\\n    data = in_data.copy()\\n    naf = NelsonAalenFitter()\\n    naf.fit(durations=data[\\'efs_time\\'], event_observed=data[\\'efs\\'])\\n    data[\\'target3\\'] = naf.cumulative_hazard_at_times(data[\\'efs_time\\']).values\\n    data[\\'target3\\'] = data[\\'target3\\'] * -1\\n    data[\\'target3\\'][in_data[\\'efs\\']==0] -= sep\\n    return data[\\'target3\\'].values\\n\\ndef chris_nn(df, time_col=\\'efs_time\\', event_col=\\'efs\\', sep=0):\\n    train = df.copy()\\n    train[\"y\"] = train.efs_time.values\\n    mx = train.loc[train.efs==1,\"efs_time\"].max()\\n    mn = train.loc[train.efs==0,\"efs_time\"].min()\\n    train.loc[train.efs==0,\"y\"] = train.loc[train.efs==0,\"y\"] + mx - mn\\n    train.y = train.y.rank()\\n    train.loc[train.efs==0,\"y\"] += 1*len(train)\\n    train.y = train.y / train.y.max()\\n    train.y = np.log( train.y )\\n    train.y -= train.y.mean()\\n    train.y *= -1.0\\n    #train[\\'y\\'] = min_max_scale(train[\\'y\\'])\\n    train[\\'y\\'][df[\\'efs\\']==0] += sep\\n    return  train.y.values\\n\\n\\n\\n# Compare different transformations\\ndef compare_risk_transforms_(df, time_col=\\'efs_time\\', event_col=\\'efs\\'):\\n    transforms = {\\n        \\n         \\'chris_nn_0\\': chris_nn(df,sep=0),\\n         \\'chris_nn_0.3\\': chris_nn(df,sep=0.3),\\n         \\'chris_nn_0.5\\': chris_nn(df,sep=0.5),\\n         \\'chris_nn_0.6\\': chris_nn(df,sep=0.6),\\n         \\n         \\'CoxMeier_0\\': Cox(df,penalizer=0.0),\\n         \\'CoxMeier_0_1\\': Cox(df,penalizer=0.0,sep=1),\\n         \\'CoxMeier_0_2\\': Cox(df,penalizer=0.0,sep=2),\\n         \\'CoxMeier_0_3\\': Cox(df,penalizer=0.0,sep=3),\\n         \\n        \\'CoxMeier_005\\': Cox(df,penalizer=0.05),\\n         \\'CoxMeier_005_1\\': Cox(df,penalizer=0.05,sep=1),\\n         \\'CoxMeier_005_2\\': Cox(df,penalizer=0.05,sep=2),\\n         \\'CoxMeier_005_3\\': Cox(df,penalizer=0.05,sep=3),\\n         \\n         \\'CoxMeier_1_0\\': Cox(df,penalizer=1),\\n         \\'CoxMeier_1_1\\': Cox(df,penalizer=1,sep=1),\\n         \\'CoxMeier_1_2\\': Cox(df,penalizer=1,sep=2),\\n         \\'CoxMeier_1_3\\': Cox(df,penalizer=1,sep=3),\\n        \\n        \\n         \\'NelsonAalen_0\\': NelsonAalen(df,sep=0),\\n         \\'NelsonAalen_005\\':NelsonAalen(df,sep=0.05),\\n         \\'NelsonAalen_01\\':NelsonAalen(df,sep=0.1),\\n         \\'NelsonAalen_015\\':NelsonAalen(df,sep=0.15),\\n         \\'NelsonAalen_02\\':NelsonAalen(df,sep=0.2),\\n         \\'NelsonAalen_025\\':NelsonAalen(df,sep=0.25),\\n        \\n        \\'KaplanMeier_005\\': KaplanMeier(df,sep=0.05),\\n        \\'KaplanMeier_01\\': KaplanMeier(df,sep=0.1),\\n        \\'KaplanMeier_015\\': KaplanMeier(df,sep=0.15),\\n        \\'KaplanMeier_02\\': KaplanMeier(df,sep=0.2),\\n        \\'KaplanMeier_025\\': KaplanMeier(df,sep=0.25),\\n\\n    }\\n\\n    fig, axes = plt.subplots(6, 5, figsize=(15, 10))\\n    axes = axes.ravel()\\n\\n    for i, (name, risk) in enumerate(transforms.items()):\\n        axes[i].hist(risk[df[event_col]==1], bins=50, alpha=0.5, label=\\'Event\\')\\n        axes[i].hist(risk[df[event_col]==0], bins=50, alpha=0.5, label=\\'Censored\\')\\n        axes[i].set_title(f\\'{name} Transform\\')\\n        axes[i].set_xlabel(\\'Risk Score\\')\\n        axes[i].set_ylabel(\\'Count\\')\\n        axes[i].legend()\\n    plt.tight_layout()\\n    plt.show()\\n    return transforms\\n\\n'"
      ]
     },
     "execution_count": 9,
     "metadata": {},
     "output_type": "execute_result"
    }
   ],
   "source": [
    "'''\n",
    "from lifelines import KaplanMeierFitter\n",
    "from lifelines import NelsonAalenFitter\n",
    "from lifelines import CoxPHFitter\n",
    "\n",
    "def min_max_scale(x):\n",
    "    return (x - x.min()) / (x.max() - x.min())\n",
    "\n",
    "def Cox(in_data, penalizer=1, sep=0):\n",
    "    data = in_data.copy()\n",
    "    cph = CoxPHFitter(penalizer=penalizer)\n",
    "    cph.fit(data, duration_col='efs_time', event_col='efs')\n",
    "    data['target1'] = cph.predict_partial_hazard(data)\n",
    "    data['target1'][in_data['efs']==0] -= sep\n",
    "    return data['target1'].values\n",
    "\n",
    "def KaplanMeier(in_data, sep=0):\n",
    "    data = in_data.copy()\n",
    "    kmf = KaplanMeierFitter()\n",
    "    kmf.fit(durations=data['efs_time'], event_observed=data['efs'])\n",
    "    data['target2'] = kmf.survival_function_at_times(data['efs_time']).values\n",
    "    data['target2'][in_data['efs']==0] -= sep\n",
    "    return data['target2'].values\n",
    "\n",
    "def NelsonAalen(in_data, sep=0):\n",
    "    data = in_data.copy()\n",
    "    naf = NelsonAalenFitter()\n",
    "    naf.fit(durations=data['efs_time'], event_observed=data['efs'])\n",
    "    data['target3'] = naf.cumulative_hazard_at_times(data['efs_time']).values\n",
    "    data['target3'] = data['target3'] * -1\n",
    "    data['target3'][in_data['efs']==0] -= sep\n",
    "    return data['target3'].values\n",
    "\n",
    "def chris_nn(df, time_col='efs_time', event_col='efs', sep=0):\n",
    "    train = df.copy()\n",
    "    train[\"y\"] = train.efs_time.values\n",
    "    mx = train.loc[train.efs==1,\"efs_time\"].max()\n",
    "    mn = train.loc[train.efs==0,\"efs_time\"].min()\n",
    "    train.loc[train.efs==0,\"y\"] = train.loc[train.efs==0,\"y\"] + mx - mn\n",
    "    train.y = train.y.rank()\n",
    "    train.loc[train.efs==0,\"y\"] += 1*len(train)\n",
    "    train.y = train.y / train.y.max()\n",
    "    train.y = np.log( train.y )\n",
    "    train.y -= train.y.mean()\n",
    "    train.y *= -1.0\n",
    "    #train['y'] = min_max_scale(train['y'])\n",
    "    train['y'][df['efs']==0] += sep\n",
    "    return  train.y.values\n",
    "\n",
    "\n",
    "\n",
    "# Compare different transformations\n",
    "def compare_risk_transforms_(df, time_col='efs_time', event_col='efs'):\n",
    "    transforms = {\n",
    "        \n",
    "         'chris_nn_0': chris_nn(df,sep=0),\n",
    "         'chris_nn_0.3': chris_nn(df,sep=0.3),\n",
    "         'chris_nn_0.5': chris_nn(df,sep=0.5),\n",
    "         'chris_nn_0.6': chris_nn(df,sep=0.6),\n",
    "         \n",
    "         'CoxMeier_0': Cox(df,penalizer=0.0),\n",
    "         'CoxMeier_0_1': Cox(df,penalizer=0.0,sep=1),\n",
    "         'CoxMeier_0_2': Cox(df,penalizer=0.0,sep=2),\n",
    "         'CoxMeier_0_3': Cox(df,penalizer=0.0,sep=3),\n",
    "         \n",
    "        'CoxMeier_005': Cox(df,penalizer=0.05),\n",
    "         'CoxMeier_005_1': Cox(df,penalizer=0.05,sep=1),\n",
    "         'CoxMeier_005_2': Cox(df,penalizer=0.05,sep=2),\n",
    "         'CoxMeier_005_3': Cox(df,penalizer=0.05,sep=3),\n",
    "         \n",
    "         'CoxMeier_1_0': Cox(df,penalizer=1),\n",
    "         'CoxMeier_1_1': Cox(df,penalizer=1,sep=1),\n",
    "         'CoxMeier_1_2': Cox(df,penalizer=1,sep=2),\n",
    "         'CoxMeier_1_3': Cox(df,penalizer=1,sep=3),\n",
    "        \n",
    "        \n",
    "         'NelsonAalen_0': NelsonAalen(df,sep=0),\n",
    "         'NelsonAalen_005':NelsonAalen(df,sep=0.05),\n",
    "         'NelsonAalen_01':NelsonAalen(df,sep=0.1),\n",
    "         'NelsonAalen_015':NelsonAalen(df,sep=0.15),\n",
    "         'NelsonAalen_02':NelsonAalen(df,sep=0.2),\n",
    "         'NelsonAalen_025':NelsonAalen(df,sep=0.25),\n",
    "        \n",
    "        'KaplanMeier_005': KaplanMeier(df,sep=0.05),\n",
    "        'KaplanMeier_01': KaplanMeier(df,sep=0.1),\n",
    "        'KaplanMeier_015': KaplanMeier(df,sep=0.15),\n",
    "        'KaplanMeier_02': KaplanMeier(df,sep=0.2),\n",
    "        'KaplanMeier_025': KaplanMeier(df,sep=0.25),\n",
    "\n",
    "    }\n",
    "\n",
    "    fig, axes = plt.subplots(6, 5, figsize=(15, 10))\n",
    "    axes = axes.ravel()\n",
    "\n",
    "    for i, (name, risk) in enumerate(transforms.items()):\n",
    "        axes[i].hist(risk[df[event_col]==1], bins=50, alpha=0.5, label='Event')\n",
    "        axes[i].hist(risk[df[event_col]==0], bins=50, alpha=0.5, label='Censored')\n",
    "        axes[i].set_title(f'{name} Transform')\n",
    "        axes[i].set_xlabel('Risk Score')\n",
    "        axes[i].set_ylabel('Count')\n",
    "        axes[i].legend()\n",
    "    plt.tight_layout()\n",
    "    plt.show()\n",
    "    return transforms\n",
    "\n",
    "'''"
   ]
  },
  {
   "cell_type": "code",
   "execution_count": 10,
   "id": "d0b10d1a",
   "metadata": {
    "execution": {
     "iopub.execute_input": "2025-01-26T09:57:49.836455Z",
     "iopub.status.busy": "2025-01-26T09:57:49.836199Z",
     "iopub.status.idle": "2025-01-26T09:57:49.839753Z",
     "shell.execute_reply": "2025-01-26T09:57:49.838950Z"
    },
    "papermill": {
     "duration": 0.015699,
     "end_time": "2025-01-26T09:57:49.841413",
     "exception": false,
     "start_time": "2025-01-26T09:57:49.825714",
     "status": "completed"
    },
    "tags": []
   },
   "outputs": [],
   "source": [
    "#transforms = compare_risk_transforms_(train)"
   ]
  },
  {
   "cell_type": "code",
   "execution_count": 11,
   "id": "efe0eab2",
   "metadata": {
    "execution": {
     "iopub.execute_input": "2025-01-26T09:57:49.862035Z",
     "iopub.status.busy": "2025-01-26T09:57:49.861725Z",
     "iopub.status.idle": "2025-01-26T09:57:49.867016Z",
     "shell.execute_reply": "2025-01-26T09:57:49.866337Z"
    },
    "papermill": {
     "duration": 0.01764,
     "end_time": "2025-01-26T09:57:49.868706",
     "exception": false,
     "start_time": "2025-01-26T09:57:49.851066",
     "status": "completed"
    },
    "tags": []
   },
   "outputs": [],
   "source": [
    "'''\n",
    "from lifelines import KaplanMeierFitter\n",
    "def transform_survival_probability(df, time_col='efs_time', event_col='efs'):\n",
    "    kmf = KaplanMeierFitter()\n",
    "    kmf.fit(df[time_col], df[event_col])\n",
    "    y = kmf.survival_function_at_times(df[time_col]).values\n",
    "    return y\n",
    "\n",
    "train[\"y\"] = transform_survival_probability(train, time_col='efs_time', event_col='efs')\n",
    "\n",
    "train[\"label\"] = transform_survival_probability(train, time_col='efs_time', event_col='efs')\n",
    "train.loc[train['efs']==0, 'label'] -= 0.2\n",
    "\n",
    "train[\"efs_time2\"] = train.efs_time.copy()\n",
    "train.loc[train.efs==0,\"efs_time2\"] *= -1\n",
    "'''\n",
    "target_names = []\n",
    "for i, (name, risk) in enumerate(transforms.items()):\n",
    "    if name == 'KaplanMeier_015':\n",
    "        train['label'] = risk[name]\n",
    "    #target_names.append(name)"
   ]
  },
  {
   "cell_type": "code",
   "execution_count": 12,
   "id": "aac278f0",
   "metadata": {
    "execution": {
     "iopub.execute_input": "2025-01-26T09:57:49.889367Z",
     "iopub.status.busy": "2025-01-26T09:57:49.889091Z",
     "iopub.status.idle": "2025-01-26T09:57:49.892319Z",
     "shell.execute_reply": "2025-01-26T09:57:49.891581Z"
    },
    "papermill": {
     "duration": 0.015342,
     "end_time": "2025-01-26T09:57:49.894003",
     "exception": false,
     "start_time": "2025-01-26T09:57:49.878661",
     "status": "completed"
    },
    "tags": []
   },
   "outputs": [],
   "source": [
    "#risk"
   ]
  },
  {
   "cell_type": "markdown",
   "id": "d38fc804",
   "metadata": {
    "papermill": {
     "duration": 0.009609,
     "end_time": "2025-01-26T09:57:49.913253",
     "exception": false,
     "start_time": "2025-01-26T09:57:49.903644",
     "status": "completed"
    },
    "tags": []
   },
   "source": [
    "## Step 5: Features Enginnering"
   ]
  },
  {
   "cell_type": "code",
   "execution_count": 13,
   "id": "46cb715c",
   "metadata": {
    "execution": {
     "iopub.execute_input": "2025-01-26T09:57:49.933686Z",
     "iopub.status.busy": "2025-01-26T09:57:49.933403Z",
     "iopub.status.idle": "2025-01-26T09:57:49.995379Z",
     "shell.execute_reply": "2025-01-26T09:57:49.994351Z"
    },
    "papermill": {
     "duration": 0.074275,
     "end_time": "2025-01-26T09:57:49.997237",
     "exception": false,
     "start_time": "2025-01-26T09:57:49.922962",
     "status": "completed"
    },
    "tags": []
   },
   "outputs": [
    {
     "name": "stdout",
     "output_type": "stream",
     "text": [
      "There are 57 FEATURES: ['dri_score', 'psych_disturb', 'cyto_score', 'diabetes', 'hla_match_c_high', 'hla_high_res_8', 'tbi_status', 'arrhythmia', 'hla_low_res_6', 'graft_type', 'vent_hist', 'renal_issue', 'pulm_severe', 'prim_disease_hct', 'hla_high_res_6', 'cmv_status', 'hla_high_res_10', 'hla_match_dqb1_high', 'tce_imm_match', 'hla_nmdp_6', 'hla_match_c_low', 'rituximab', 'hla_match_drb1_low', 'hla_match_dqb1_low', 'prod_type', 'cyto_score_detail', 'conditioning_intensity', 'ethnicity', 'year_hct', 'obesity', 'mrd_hct', 'in_vivo_tcd', 'tce_match', 'hla_match_a_high', 'hepatic_severe', 'donor_age', 'prior_tumor', 'hla_match_b_low', 'peptic_ulcer', 'age_at_hct', 'hla_match_a_low', 'gvhd_proph', 'rheum_issue', 'sex_match', 'hla_match_b_high', 'race_group', 'comorbidity_score', 'karnofsky_score', 'hepatic_mild', 'tce_div_match', 'donor_related', 'melphalan_dose', 'hla_low_res_8', 'cardiac', 'hla_match_drb1_high', 'pulm_moderate', 'hla_low_res_10']\n"
     ]
    }
   ],
   "source": [
    "combined = pd.concat([train, test], axis=0)\n",
    "\n",
    "RMV      = [\"ID\",\"efs\",\"efs_time\", \"label\", \"y\", \"efs_time2\", \"fold\"]\n",
    "FEATURES = [c for c in train.columns if not c in RMV]\n",
    "print(f\"There are {len(FEATURES)} FEATURES: {FEATURES}\")\n",
    "\n",
    "\n",
    "train['isna'] = train.isna().sum(axis=1)\n",
    "test['isna']  = test.isna().sum(axis=1)"
   ]
  },
  {
   "cell_type": "code",
   "execution_count": 14,
   "id": "ae31969b",
   "metadata": {
    "execution": {
     "iopub.execute_input": "2025-01-26T09:57:50.018683Z",
     "iopub.status.busy": "2025-01-26T09:57:50.018411Z",
     "iopub.status.idle": "2025-01-26T09:57:50.166306Z",
     "shell.execute_reply": "2025-01-26T09:57:50.165328Z"
    },
    "papermill": {
     "duration": 0.160779,
     "end_time": "2025-01-26T09:57:50.168291",
     "exception": false,
     "start_time": "2025-01-26T09:57:50.007512",
     "status": "completed"
    },
    "tags": []
   },
   "outputs": [
    {
     "name": "stdout",
     "output_type": "stream",
     "text": [
      "In these features, there are 55 CATEGORICAL FEATURES: ['dri_score', 'psych_disturb', 'cyto_score', 'diabetes', 'hla_match_c_high', 'hla_high_res_8', 'tbi_status', 'arrhythmia', 'hla_low_res_6', 'graft_type', 'vent_hist', 'renal_issue', 'pulm_severe', 'prim_disease_hct', 'hla_high_res_6', 'cmv_status', 'hla_high_res_10', 'hla_match_dqb1_high', 'tce_imm_match', 'hla_nmdp_6', 'hla_match_c_low', 'rituximab', 'hla_match_drb1_low', 'hla_match_dqb1_low', 'prod_type', 'cyto_score_detail', 'conditioning_intensity', 'ethnicity', 'year_hct', 'obesity', 'mrd_hct', 'in_vivo_tcd', 'tce_match', 'hla_match_a_high', 'hepatic_severe', 'prior_tumor', 'hla_match_b_low', 'peptic_ulcer', 'hla_match_a_low', 'gvhd_proph', 'rheum_issue', 'sex_match', 'hla_match_b_high', 'race_group', 'comorbidity_score', 'karnofsky_score', 'hepatic_mild', 'tce_div_match', 'donor_related', 'melphalan_dose', 'hla_low_res_8', 'cardiac', 'hla_match_drb1_high', 'pulm_moderate', 'hla_low_res_10']\n"
     ]
    }
   ],
   "source": [
    "CATS = []\n",
    "for c in FEATURES:\n",
    "    num_unique = combined[c].nunique()\n",
    "    if num_unique < 100:\n",
    "        CATS.append(c)\n",
    "        train[c] = train[c].fillna(999)\n",
    "        test[c]  = test[c].fillna(999)\n",
    "print(f\"In these features, there are {len(CATS)} CATEGORICAL FEATURES: {CATS}\")\n",
    "\n",
    "NUMS = [c for c in FEATURES if not c in CATS]+['isna']"
   ]
  },
  {
   "cell_type": "code",
   "execution_count": 15,
   "id": "aaeaa826",
   "metadata": {
    "execution": {
     "iopub.execute_input": "2025-01-26T09:57:50.189431Z",
     "iopub.status.busy": "2025-01-26T09:57:50.189164Z",
     "iopub.status.idle": "2025-01-26T09:57:50.396178Z",
     "shell.execute_reply": "2025-01-26T09:57:50.395060Z"
    },
    "papermill": {
     "duration": 0.21945,
     "end_time": "2025-01-26T09:57:50.397884",
     "exception": false,
     "start_time": "2025-01-26T09:57:50.178434",
     "status": "completed"
    },
    "tags": []
   },
   "outputs": [
    {
     "name": "stdout",
     "output_type": "stream",
     "text": [
      "We LABEL ENCODE the CATEGORICAL FEATURES: dri_score, psych_disturb, cyto_score, diabetes, hla_match_c_high, hla_high_res_8, tbi_status, arrhythmia, hla_low_res_6, graft_type, vent_hist, renal_issue, pulm_severe, prim_disease_hct, hla_high_res_6, cmv_status, hla_high_res_10, hla_match_dqb1_high, tce_imm_match, hla_nmdp_6, hla_match_c_low, rituximab, hla_match_drb1_low, hla_match_dqb1_low, prod_type, cyto_score_detail, conditioning_intensity, ethnicity, year_hct, obesity, mrd_hct, in_vivo_tcd, tce_match, hla_match_a_high, hepatic_severe, prior_tumor, hla_match_b_low, peptic_ulcer, hla_match_a_low, gvhd_proph, rheum_issue, sex_match, hla_match_b_high, race_group, comorbidity_score, karnofsky_score, hepatic_mild, tce_div_match, donor_related, melphalan_dose, hla_low_res_8, cardiac, hla_match_drb1_high, pulm_moderate, hla_low_res_10, "
     ]
    }
   ],
   "source": [
    "combined = pd.concat([train,test],axis=0,ignore_index=True)\n",
    "\n",
    "# LABEL ENCODE CATEGORICAL FEATURES\n",
    "print(\"We LABEL ENCODE the CATEGORICAL FEATURES: \",end=\"\")\n",
    "for c in FEATURES:\n",
    "\n",
    "    # LABEL ENCODE CATEGORICAL AND CONVERT TO INT32 CATEGORY\n",
    "    if c in CATS:\n",
    "        print(f\"{c}, \",end=\"\")\n",
    "        combined[c],_ = combined[c].factorize()\n",
    "        combined[c]  -= combined[c].min()\n",
    "        combined[c]   = combined[c].astype(\"int32\")\n",
    "        combined[c]   = combined[c].astype(\"category\")\n",
    "        \n",
    "    # REDUCE PRECISION OF NUMERICAL TO 32BIT TO SAVE MEMORY\n",
    "    else:\n",
    "        if combined[c].dtype == \"float64\":\n",
    "            combined[c]      = combined[c].astype(\"float32\")\n",
    "        if combined[c].dtype == \"int64\":\n",
    "            combined[c]      = combined[c].astype(\"int32\")\n",
    "    \n",
    "cat_unique = combined[CATS].nunique().to_list()\n",
    "\n",
    "\n",
    "for c in NUMS:\n",
    "    combined[c] = combined[c].fillna(0)\n",
    "\n",
    "train = combined.iloc[:len(train)].copy()\n",
    "test  = combined.iloc[len(train):].reset_index(drop=True).copy()"
   ]
  },
  {
   "cell_type": "code",
   "execution_count": 16,
   "id": "a30f3e53",
   "metadata": {
    "execution": {
     "iopub.execute_input": "2025-01-26T09:57:50.419659Z",
     "iopub.status.busy": "2025-01-26T09:57:50.419372Z",
     "iopub.status.idle": "2025-01-26T09:57:50.480940Z",
     "shell.execute_reply": "2025-01-26T09:57:50.480274Z"
    },
    "papermill": {
     "duration": 0.07428,
     "end_time": "2025-01-26T09:57:50.482530",
     "exception": false,
     "start_time": "2025-01-26T09:57:50.408250",
     "status": "completed"
    },
    "tags": []
   },
   "outputs": [],
   "source": [
    "from sklearn.preprocessing import StandardScaler\n",
    "\n",
    "cats_index  = [train[FEATURES].columns.get_loc(cat) for cat in CATS]\n",
    "\n",
    "scaler      = StandardScaler()\n",
    "train[NUMS] = scaler.fit_transform(train[NUMS])\n",
    "test[NUMS]  = scaler.transform(test[NUMS])"
   ]
  },
  {
   "cell_type": "markdown",
   "id": "5d1a502a",
   "metadata": {
    "papermill": {
     "duration": 0.009642,
     "end_time": "2025-01-26T09:57:50.501950",
     "exception": false,
     "start_time": "2025-01-26T09:57:50.492308",
     "status": "completed"
    },
    "tags": []
   },
   "source": [
    "## Step 6: Data folding"
   ]
  },
  {
   "cell_type": "code",
   "execution_count": 17,
   "id": "ce1f42ba",
   "metadata": {
    "execution": {
     "iopub.execute_input": "2025-01-26T09:57:50.523442Z",
     "iopub.status.busy": "2025-01-26T09:57:50.523146Z",
     "iopub.status.idle": "2025-01-26T09:57:50.618675Z",
     "shell.execute_reply": "2025-01-26T09:57:50.617734Z"
    },
    "papermill": {
     "duration": 0.109085,
     "end_time": "2025-01-26T09:57:50.620717",
     "exception": false,
     "start_time": "2025-01-26T09:57:50.511632",
     "status": "completed"
    },
    "tags": []
   },
   "outputs": [],
   "source": [
    "folds          = 10\n",
    "# train['kfold'] = -1  \n",
    "\n",
    "target         = 'label'\n",
    "# kf             = KFold(n_splits=10, random_state=1972, shuffle=True)\n",
    "# groups         = train['efs'].astype(str)\n",
    "\n",
    "# for fold, (train_idx, val_idx) in enumerate(kf.split(X=train)):\n",
    "#     train.loc[val_idx, 'kfold'] = fold\n",
    "\n",
    "# oof_metric               = train[['kfold','ID','efs','efs_time','label','race_group']].copy()\n",
    "# oof_metric['prediction'] = 0.0\n",
    "\n",
    "oof_tabm  = np.zeros(train.shape[0])\n",
    "test_tabm = np.zeros((folds, test.shape[0]))\n",
    "\n",
    "n_cont_features   = len(NUMS)\n",
    "n_cat_features    = len(CATS)\n",
    "n_classes         = None\n",
    "cat_cardinalities = cat_unique\n",
    "\n",
    "device            = torch.device('cuda' if torch.cuda.is_available() else 'cpu')"
   ]
  },
  {
   "cell_type": "code",
   "execution_count": 18,
   "id": "2726d2fd",
   "metadata": {
    "execution": {
     "iopub.execute_input": "2025-01-26T09:57:50.641872Z",
     "iopub.status.busy": "2025-01-26T09:57:50.641484Z",
     "iopub.status.idle": "2025-01-26T09:57:50.695045Z",
     "shell.execute_reply": "2025-01-26T09:57:50.694298Z"
    },
    "papermill": {
     "duration": 0.066125,
     "end_time": "2025-01-26T09:57:50.696908",
     "exception": false,
     "start_time": "2025-01-26T09:57:50.630783",
     "status": "completed"
    },
    "tags": []
   },
   "outputs": [],
   "source": [
    "X_num     = train[NUMS].values\n",
    "X_cat     = train[CATS].values\n",
    "\n",
    "X_num_test = test[NUMS].values\n",
    "X_cat_test = test[CATS].values\n",
    "\n",
    "y          = train[target].values\n",
    "\n",
    "\n",
    "test_dl    = DataLoader(TensorDataset(torch.tensor(X_num_test, dtype=torch.float32), torch.tensor(X_cat_test, dtype=torch.int64)), batch_size=1024, shuffle=False)"
   ]
  },
  {
   "cell_type": "markdown",
   "id": "b5de8ae6",
   "metadata": {
    "papermill": {
     "duration": 0.010234,
     "end_time": "2025-01-26T09:57:50.717221",
     "exception": false,
     "start_time": "2025-01-26T09:57:50.706987",
     "status": "completed"
    },
    "tags": []
   },
   "source": [
    "## Step 7: Model structure"
   ]
  },
  {
   "cell_type": "code",
   "execution_count": 19,
   "id": "c7d6c299",
   "metadata": {
    "execution": {
     "iopub.execute_input": "2025-01-26T09:57:50.738224Z",
     "iopub.status.busy": "2025-01-26T09:57:50.737969Z",
     "iopub.status.idle": "2025-01-26T09:57:50.741621Z",
     "shell.execute_reply": "2025-01-26T09:57:50.740827Z"
    },
    "papermill": {
     "duration": 0.016009,
     "end_time": "2025-01-26T09:57:50.743236",
     "exception": false,
     "start_time": "2025-01-26T09:57:50.727227",
     "status": "completed"
    },
    "tags": []
   },
   "outputs": [],
   "source": [
    "#nn.L1Loss??\n",
    "# TabM\n",
    "# arch_type = 'tabm'\n",
    "# bins = None\n",
    "\n",
    "# TabM-mini with the piecewise-linear embeddings."
   ]
  },
  {
   "cell_type": "code",
   "execution_count": 20,
   "id": "4f6640b3",
   "metadata": {
    "execution": {
     "iopub.execute_input": "2025-01-26T09:57:50.764522Z",
     "iopub.status.busy": "2025-01-26T09:57:50.764285Z",
     "iopub.status.idle": "2025-01-26T09:57:50.769108Z",
     "shell.execute_reply": "2025-01-26T09:57:50.768355Z"
    },
    "papermill": {
     "duration": 0.01735,
     "end_time": "2025-01-26T09:57:50.770592",
     "exception": false,
     "start_time": "2025-01-26T09:57:50.753242",
     "status": "completed"
    },
    "tags": []
   },
   "outputs": [],
   "source": [
    "arch_type = 'tabm-mini'\n",
    "\n",
    "class RMSELoss(nn.Module):\n",
    "    def __init__(self):\n",
    "        super().__init__()\n",
    "        self.mse = nn.MSELoss()\n",
    "        \n",
    "    def forward(self, y_pred, y_true):\n",
    "        return torch.sqrt(self.mse(y_pred, y_true))\n",
    "\n",
    "loss_fn = RMSELoss()\n",
    "\n",
    "#loss_fn = nn.L1Loss()"
   ]
  },
  {
   "cell_type": "code",
   "execution_count": 21,
   "id": "43a81cc5",
   "metadata": {
    "execution": {
     "iopub.execute_input": "2025-01-26T09:57:50.791295Z",
     "iopub.status.busy": "2025-01-26T09:57:50.791079Z",
     "iopub.status.idle": "2025-01-26T10:49:44.195974Z",
     "shell.execute_reply": "2025-01-26T10:49:44.195003Z"
    },
    "papermill": {
     "duration": 3120.530947,
     "end_time": "2025-01-26T10:49:51.311515",
     "exception": false,
     "start_time": "2025-01-26T09:57:50.780568",
     "status": "completed"
    },
    "tags": []
   },
   "outputs": [
    {
     "name": "stderr",
     "output_type": "stream",
     "text": [
      "100%|██████████| 810/810 [00:06<00:00, 125.79it/s, epoch=1/100, loss=0.209605]\n"
     ]
    },
    {
     "name": "stdout",
     "output_type": "stream",
     "text": [
      "🌸 New best epoch! 🌸 with cindex:  0.65262078962655\n"
     ]
    },
    {
     "name": "stderr",
     "output_type": "stream",
     "text": [
      "100%|██████████| 810/810 [00:05<00:00, 143.17it/s, epoch=2/100, loss=0.215479]\n"
     ]
    },
    {
     "name": "stdout",
     "output_type": "stream",
     "text": [
      "🌸 New best epoch! 🌸 with cindex:  0.6562151963353374\n"
     ]
    },
    {
     "name": "stderr",
     "output_type": "stream",
     "text": [
      "100%|██████████| 810/810 [00:05<00:00, 139.79it/s, epoch=3/100, loss=0.236022]\n"
     ]
    },
    {
     "name": "stdout",
     "output_type": "stream",
     "text": [
      "🌸 New best epoch! 🌸 with cindex:  0.663062873017011\n"
     ]
    },
    {
     "name": "stderr",
     "output_type": "stream",
     "text": [
      "100%|██████████| 810/810 [00:05<00:00, 143.70it/s, epoch=4/100, loss=0.230887]\n",
      "100%|██████████| 810/810 [00:05<00:00, 142.52it/s, epoch=5/100, loss=0.251496]\n"
     ]
    },
    {
     "name": "stdout",
     "output_type": "stream",
     "text": [
      "🌸 New best epoch! 🌸 with cindex:  0.6634436892449462\n"
     ]
    },
    {
     "name": "stderr",
     "output_type": "stream",
     "text": [
      "100%|██████████| 810/810 [00:05<00:00, 145.35it/s, epoch=6/100, loss=0.186550]\n"
     ]
    },
    {
     "name": "stdout",
     "output_type": "stream",
     "text": [
      "🌸 New best epoch! 🌸 with cindex:  0.6651723811798872\n"
     ]
    },
    {
     "name": "stderr",
     "output_type": "stream",
     "text": [
      "100%|██████████| 810/810 [00:05<00:00, 142.79it/s, epoch=7/100, loss=0.192820]\n"
     ]
    },
    {
     "name": "stdout",
     "output_type": "stream",
     "text": [
      "🌸 New best epoch! 🌸 with cindex:  0.6669276205514044\n"
     ]
    },
    {
     "name": "stderr",
     "output_type": "stream",
     "text": [
      "100%|██████████| 810/810 [00:05<00:00, 140.80it/s, epoch=8/100, loss=0.193669]\n"
     ]
    },
    {
     "name": "stdout",
     "output_type": "stream",
     "text": [
      "🌸 New best epoch! 🌸 with cindex:  0.6678369148903127\n"
     ]
    },
    {
     "name": "stderr",
     "output_type": "stream",
     "text": [
      "100%|██████████| 810/810 [00:05<00:00, 142.78it/s, epoch=9/100, loss=0.253498]\n",
      "100%|██████████| 810/810 [00:05<00:00, 142.26it/s, epoch=10/100, loss=0.239482]\n",
      "100%|██████████| 810/810 [00:05<00:00, 144.77it/s, epoch=11/100, loss=0.208893]\n",
      "100%|██████████| 810/810 [00:05<00:00, 143.38it/s, epoch=12/100, loss=0.235505]\n"
     ]
    },
    {
     "name": "stdout",
     "output_type": "stream",
     "text": [
      "🌸 New best epoch! 🌸 with cindex:  0.6688504324114921\n"
     ]
    },
    {
     "name": "stderr",
     "output_type": "stream",
     "text": [
      "100%|██████████| 810/810 [00:05<00:00, 145.01it/s, epoch=13/100, loss=0.254559]\n",
      "100%|██████████| 810/810 [00:05<00:00, 140.38it/s, epoch=14/100, loss=0.198664]\n"
     ]
    },
    {
     "name": "stdout",
     "output_type": "stream",
     "text": [
      "🌸 New best epoch! 🌸 with cindex:  0.6692533042471656\n"
     ]
    },
    {
     "name": "stderr",
     "output_type": "stream",
     "text": [
      "100%|██████████| 810/810 [00:05<00:00, 140.22it/s, epoch=15/100, loss=0.245965]\n",
      "100%|██████████| 810/810 [00:05<00:00, 145.05it/s, epoch=16/100, loss=0.202937]\n"
     ]
    },
    {
     "name": "stdout",
     "output_type": "stream",
     "text": [
      "🌸 New best epoch! 🌸 with cindex:  0.6697737915714932\n"
     ]
    },
    {
     "name": "stderr",
     "output_type": "stream",
     "text": [
      "100%|██████████| 810/810 [00:05<00:00, 145.18it/s, epoch=17/100, loss=0.213090]\n"
     ]
    },
    {
     "name": "stdout",
     "output_type": "stream",
     "text": [
      "🌸 New best epoch! 🌸 with cindex:  0.6704094735102443\n"
     ]
    },
    {
     "name": "stderr",
     "output_type": "stream",
     "text": [
      "100%|██████████| 810/810 [00:05<00:00, 144.95it/s, epoch=18/100, loss=0.193892]\n",
      "100%|██████████| 810/810 [00:05<00:00, 142.24it/s, epoch=19/100, loss=0.169095]\n",
      "100%|██████████| 810/810 [00:05<00:00, 141.07it/s, epoch=20/100, loss=0.191776]\n"
     ]
    },
    {
     "name": "stdout",
     "output_type": "stream",
     "text": [
      "🌸 New best epoch! 🌸 with cindex:  0.6707524003462595\n"
     ]
    },
    {
     "name": "stderr",
     "output_type": "stream",
     "text": [
      "100%|██████████| 810/810 [00:05<00:00, 143.84it/s, epoch=21/100, loss=0.222977]\n",
      "100%|██████████| 810/810 [00:05<00:00, 143.00it/s, epoch=22/100, loss=0.208819]\n"
     ]
    },
    {
     "name": "stdout",
     "output_type": "stream",
     "text": [
      "🌸 New best epoch! 🌸 with cindex:  0.670887846883535\n"
     ]
    },
    {
     "name": "stderr",
     "output_type": "stream",
     "text": [
      "100%|██████████| 810/810 [00:05<00:00, 144.17it/s, epoch=23/100, loss=0.203045]\n"
     ]
    },
    {
     "name": "stdout",
     "output_type": "stream",
     "text": [
      "🌸 New best epoch! 🌸 with cindex:  0.6712534157015304\n"
     ]
    },
    {
     "name": "stderr",
     "output_type": "stream",
     "text": [
      "100%|██████████| 810/810 [00:05<00:00, 141.08it/s, epoch=24/100, loss=0.199475]\n"
     ]
    },
    {
     "name": "stdout",
     "output_type": "stream",
     "text": [
      "🌸 New best epoch! 🌸 with cindex:  0.6715178263405963\n"
     ]
    },
    {
     "name": "stderr",
     "output_type": "stream",
     "text": [
      "100%|██████████| 810/810 [00:05<00:00, 142.88it/s, epoch=25/100, loss=0.202280]\n"
     ]
    },
    {
     "name": "stdout",
     "output_type": "stream",
     "text": [
      "🌸 New best epoch! 🌸 with cindex:  0.6723772735445024\n"
     ]
    },
    {
     "name": "stderr",
     "output_type": "stream",
     "text": [
      "100%|██████████| 810/810 [00:05<00:00, 145.14it/s, epoch=26/100, loss=0.205475]\n",
      "100%|██████████| 810/810 [00:05<00:00, 143.42it/s, epoch=27/100, loss=0.215309]\n"
     ]
    },
    {
     "name": "stdout",
     "output_type": "stream",
     "text": [
      "🌸 New best epoch! 🌸 with cindex:  0.6734965359653564\n"
     ]
    },
    {
     "name": "stderr",
     "output_type": "stream",
     "text": [
      "100%|██████████| 810/810 [00:05<00:00, 145.62it/s, epoch=28/100, loss=0.208027]\n",
      "100%|██████████| 810/810 [00:05<00:00, 145.06it/s, epoch=29/100, loss=0.187154]\n",
      "100%|██████████| 810/810 [00:05<00:00, 140.58it/s, epoch=30/100, loss=0.191295]\n"
     ]
    },
    {
     "name": "stdout",
     "output_type": "stream",
     "text": [
      "🌸 New best epoch! 🌸 with cindex:  0.673766778349231\n"
     ]
    },
    {
     "name": "stderr",
     "output_type": "stream",
     "text": [
      "100%|██████████| 810/810 [00:05<00:00, 140.98it/s, epoch=31/100, loss=0.216955]\n",
      "100%|██████████| 810/810 [00:05<00:00, 143.57it/s, epoch=32/100, loss=0.173362]\n",
      "100%|██████████| 810/810 [00:05<00:00, 145.20it/s, epoch=33/100, loss=0.188959]\n",
      "100%|██████████| 810/810 [00:05<00:00, 145.37it/s, epoch=34/100, loss=0.197406]\n",
      "100%|██████████| 810/810 [00:05<00:00, 140.51it/s, epoch=35/100, loss=0.196796]\n",
      "100%|██████████| 810/810 [00:05<00:00, 139.83it/s, epoch=36/100, loss=0.193779]\n",
      "100%|██████████| 810/810 [00:05<00:00, 146.05it/s, epoch=37/100, loss=0.205265]\n",
      "100%|██████████| 810/810 [00:05<00:00, 145.81it/s, epoch=38/100, loss=0.234775]\n",
      "100%|██████████| 810/810 [00:05<00:00, 148.29it/s, epoch=39/100, loss=0.205691]\n",
      "100%|██████████| 810/810 [00:05<00:00, 142.33it/s, epoch=40/100, loss=0.189142]\n",
      "100%|██████████| 810/810 [00:05<00:00, 147.05it/s, epoch=41/100, loss=0.191357]\n",
      "100%|██████████| 810/810 [00:05<00:00, 142.18it/s, epoch=42/100, loss=0.173793]\n"
     ]
    },
    {
     "name": "stdout",
     "output_type": "stream",
     "text": [
      "🌸 New best epoch! 🌸 with cindex:  0.6742776968559487\n"
     ]
    },
    {
     "name": "stderr",
     "output_type": "stream",
     "text": [
      "100%|██████████| 810/810 [00:05<00:00, 145.13it/s, epoch=43/100, loss=0.181697]\n",
      "100%|██████████| 810/810 [00:05<00:00, 144.94it/s, epoch=44/100, loss=0.215953]\n",
      "100%|██████████| 810/810 [00:05<00:00, 144.13it/s, epoch=45/100, loss=0.200216]\n",
      "100%|██████████| 810/810 [00:05<00:00, 143.85it/s, epoch=46/100, loss=0.206779]\n",
      "100%|██████████| 810/810 [00:05<00:00, 140.02it/s, epoch=47/100, loss=0.183453]\n",
      "100%|██████████| 810/810 [00:05<00:00, 144.92it/s, epoch=48/100, loss=0.194565]\n"
     ]
    },
    {
     "name": "stdout",
     "output_type": "stream",
     "text": [
      "🌸 New best epoch! 🌸 with cindex:  0.6746891263860075\n"
     ]
    },
    {
     "name": "stderr",
     "output_type": "stream",
     "text": [
      "100%|██████████| 810/810 [00:05<00:00, 144.43it/s, epoch=49/100, loss=0.198706]\n",
      "100%|██████████| 810/810 [00:05<00:00, 144.68it/s, epoch=50/100, loss=0.189892]\n",
      "100%|██████████| 810/810 [00:05<00:00, 141.78it/s, epoch=51/100, loss=0.187510]\n",
      "100%|██████████| 810/810 [00:05<00:00, 139.98it/s, epoch=52/100, loss=0.179076]\n",
      "100%|██████████| 810/810 [00:05<00:00, 143.91it/s, epoch=53/100, loss=0.172450]\n",
      "100%|██████████| 810/810 [00:05<00:00, 145.18it/s, epoch=54/100, loss=0.162181]\n",
      "100%|██████████| 810/810 [00:05<00:00, 145.57it/s, epoch=55/100, loss=0.180732]\n",
      "100%|██████████| 810/810 [00:05<00:00, 142.19it/s, epoch=56/100, loss=0.173662]\n",
      "100%|██████████| 810/810 [00:05<00:00, 144.85it/s, epoch=57/100, loss=0.199048]\n",
      "100%|██████████| 810/810 [00:05<00:00, 141.48it/s, epoch=58/100, loss=0.183789]\n",
      "100%|██████████| 810/810 [00:05<00:00, 146.74it/s, epoch=59/100, loss=0.207966]\n",
      "100%|██████████| 810/810 [00:05<00:00, 146.48it/s, epoch=60/100, loss=0.182588]\n"
     ]
    },
    {
     "name": "stdout",
     "output_type": "stream",
     "text": [
      "🌸 New best epoch! 🌸 with cindex:  0.6747260023089711\n"
     ]
    },
    {
     "name": "stderr",
     "output_type": "stream",
     "text": [
      "100%|██████████| 810/810 [00:05<00:00, 146.59it/s, epoch=61/100, loss=0.179353]\n"
     ]
    },
    {
     "name": "stdout",
     "output_type": "stream",
     "text": [
      "🌸 New best epoch! 🌸 with cindex:  0.6753572884142724\n"
     ]
    },
    {
     "name": "stderr",
     "output_type": "stream",
     "text": [
      "100%|██████████| 810/810 [00:05<00:00, 142.46it/s, epoch=62/100, loss=0.200403]\n",
      "100%|██████████| 810/810 [00:05<00:00, 145.57it/s, epoch=63/100, loss=0.226281]\n",
      "100%|██████████| 810/810 [00:05<00:00, 142.99it/s, epoch=64/100, loss=0.195193]\n",
      "100%|██████████| 810/810 [00:05<00:00, 144.45it/s, epoch=65/100, loss=0.194293]\n",
      "100%|██████████| 810/810 [00:05<00:00, 146.76it/s, epoch=66/100, loss=0.190931]\n",
      "100%|██████████| 810/810 [00:05<00:00, 139.70it/s, epoch=67/100, loss=0.186068]\n",
      "100%|██████████| 810/810 [00:05<00:00, 145.46it/s, epoch=68/100, loss=0.190996]\n",
      "100%|██████████| 810/810 [00:05<00:00, 143.44it/s, epoch=69/100, loss=0.176481]\n",
      "100%|██████████| 810/810 [00:05<00:00, 145.61it/s, epoch=70/100, loss=0.180001]\n",
      "100%|██████████| 810/810 [00:05<00:00, 145.87it/s, epoch=71/100, loss=0.205763]\n",
      "100%|██████████| 810/810 [00:05<00:00, 139.27it/s, epoch=72/100, loss=0.198151]\n",
      "100%|██████████| 810/810 [00:05<00:00, 145.73it/s, epoch=73/100, loss=0.204458]\n",
      "100%|██████████| 810/810 [00:05<00:00, 144.77it/s, epoch=74/100, loss=0.174581]\n",
      "100%|██████████| 810/810 [00:05<00:00, 144.02it/s, epoch=75/100, loss=0.200053]\n",
      "100%|██████████| 810/810 [00:05<00:00, 144.42it/s, epoch=76/100, loss=0.208000]\n"
     ]
    },
    {
     "name": "stdout",
     "output_type": "stream",
     "text": [
      "Early stopping\n",
      " *************************************************************************************** \n",
      "Fold 16 RMSE: 0.214229 Fold 16 C-Index: 0.675357\n",
      "\n",
      "\n",
      " *************************************************************************************** \n"
     ]
    },
    {
     "name": "stderr",
     "output_type": "stream",
     "text": [
      "100%|██████████| 810/810 [00:05<00:00, 141.62it/s, epoch=1/100, loss=0.234107]\n"
     ]
    },
    {
     "name": "stdout",
     "output_type": "stream",
     "text": [
      "🌸 New best epoch! 🌸 with cindex:  0.6524262176161033\n"
     ]
    },
    {
     "name": "stderr",
     "output_type": "stream",
     "text": [
      "100%|██████████| 810/810 [00:05<00:00, 142.95it/s, epoch=2/100, loss=0.188607]\n"
     ]
    },
    {
     "name": "stdout",
     "output_type": "stream",
     "text": [
      "🌸 New best epoch! 🌸 with cindex:  0.6636789066377708\n"
     ]
    },
    {
     "name": "stderr",
     "output_type": "stream",
     "text": [
      "100%|██████████| 810/810 [00:05<00:00, 144.85it/s, epoch=3/100, loss=0.184159]\n"
     ]
    },
    {
     "name": "stdout",
     "output_type": "stream",
     "text": [
      "🌸 New best epoch! 🌸 with cindex:  0.6647785469208346\n"
     ]
    },
    {
     "name": "stderr",
     "output_type": "stream",
     "text": [
      "100%|██████████| 810/810 [00:05<00:00, 141.44it/s, epoch=4/100, loss=0.232327]\n"
     ]
    },
    {
     "name": "stdout",
     "output_type": "stream",
     "text": [
      "🌸 New best epoch! 🌸 with cindex:  0.6670203782619318\n"
     ]
    },
    {
     "name": "stderr",
     "output_type": "stream",
     "text": [
      "100%|██████████| 810/810 [00:05<00:00, 145.62it/s, epoch=5/100, loss=0.230999]\n"
     ]
    },
    {
     "name": "stdout",
     "output_type": "stream",
     "text": [
      "🌸 New best epoch! 🌸 with cindex:  0.6671556840829673\n"
     ]
    },
    {
     "name": "stderr",
     "output_type": "stream",
     "text": [
      "100%|██████████| 810/810 [00:05<00:00, 143.67it/s, epoch=6/100, loss=0.244984]\n"
     ]
    },
    {
     "name": "stdout",
     "output_type": "stream",
     "text": [
      "🌸 New best epoch! 🌸 with cindex:  0.6679744758770859\n"
     ]
    },
    {
     "name": "stderr",
     "output_type": "stream",
     "text": [
      "100%|██████████| 810/810 [00:05<00:00, 140.71it/s, epoch=7/100, loss=0.237645]\n"
     ]
    },
    {
     "name": "stdout",
     "output_type": "stream",
     "text": [
      "🌸 New best epoch! 🌸 with cindex:  0.6695644472302844\n"
     ]
    },
    {
     "name": "stderr",
     "output_type": "stream",
     "text": [
      "100%|██████████| 810/810 [00:05<00:00, 144.66it/s, epoch=8/100, loss=0.243752]\n"
     ]
    },
    {
     "name": "stdout",
     "output_type": "stream",
     "text": [
      "🌸 New best epoch! 🌸 with cindex:  0.6699996949516994\n"
     ]
    },
    {
     "name": "stderr",
     "output_type": "stream",
     "text": [
      "100%|██████████| 810/810 [00:05<00:00, 145.12it/s, epoch=9/100, loss=0.225881]\n"
     ]
    },
    {
     "name": "stdout",
     "output_type": "stream",
     "text": [
      "🌸 New best epoch! 🌸 with cindex:  0.6709025335385356\n"
     ]
    },
    {
     "name": "stderr",
     "output_type": "stream",
     "text": [
      "100%|██████████| 810/810 [00:05<00:00, 139.95it/s, epoch=10/100, loss=0.248177]\n"
     ]
    },
    {
     "name": "stdout",
     "output_type": "stream",
     "text": [
      "🌸 New best epoch! 🌸 with cindex:  0.6729717827598732\n"
     ]
    },
    {
     "name": "stderr",
     "output_type": "stream",
     "text": [
      "100%|██████████| 810/810 [00:05<00:00, 144.36it/s, epoch=11/100, loss=0.206167]\n"
     ]
    },
    {
     "name": "stdout",
     "output_type": "stream",
     "text": [
      "🌸 New best epoch! 🌸 with cindex:  0.6735407620996627\n"
     ]
    },
    {
     "name": "stderr",
     "output_type": "stream",
     "text": [
      "100%|██████████| 810/810 [00:05<00:00, 140.45it/s, epoch=12/100, loss=0.236173]\n"
     ]
    },
    {
     "name": "stdout",
     "output_type": "stream",
     "text": [
      "🌸 New best epoch! 🌸 with cindex:  0.6735435249459522\n"
     ]
    },
    {
     "name": "stderr",
     "output_type": "stream",
     "text": [
      "100%|██████████| 810/810 [00:05<00:00, 142.93it/s, epoch=13/100, loss=0.215748]\n",
      "100%|██████████| 810/810 [00:05<00:00, 144.28it/s, epoch=14/100, loss=0.201118]\n"
     ]
    },
    {
     "name": "stdout",
     "output_type": "stream",
     "text": [
      "🌸 New best epoch! 🌸 with cindex:  0.6753782362552566\n"
     ]
    },
    {
     "name": "stderr",
     "output_type": "stream",
     "text": [
      "100%|██████████| 810/810 [00:05<00:00, 143.17it/s, epoch=15/100, loss=0.218338]\n"
     ]
    },
    {
     "name": "stdout",
     "output_type": "stream",
     "text": [
      "🌸 New best epoch! 🌸 with cindex:  0.6761647694024898\n"
     ]
    },
    {
     "name": "stderr",
     "output_type": "stream",
     "text": [
      "100%|██████████| 810/810 [00:05<00:00, 138.67it/s, epoch=16/100, loss=0.185945]\n",
      "100%|██████████| 810/810 [00:05<00:00, 141.48it/s, epoch=17/100, loss=0.264385]\n",
      "100%|██████████| 810/810 [00:05<00:00, 143.69it/s, epoch=18/100, loss=0.193337]\n",
      "100%|██████████| 810/810 [00:05<00:00, 142.03it/s, epoch=19/100, loss=0.209621]\n",
      "100%|██████████| 810/810 [00:05<00:00, 143.77it/s, epoch=20/100, loss=0.226645]\n",
      "100%|██████████| 810/810 [00:05<00:00, 143.37it/s, epoch=21/100, loss=0.220726]\n"
     ]
    },
    {
     "name": "stdout",
     "output_type": "stream",
     "text": [
      "🌸 New best epoch! 🌸 with cindex:  0.6763900750157887\n"
     ]
    },
    {
     "name": "stderr",
     "output_type": "stream",
     "text": [
      "100%|██████████| 810/810 [00:05<00:00, 141.76it/s, epoch=22/100, loss=0.221474]\n",
      "100%|██████████| 810/810 [00:05<00:00, 140.56it/s, epoch=23/100, loss=0.213459]\n"
     ]
    },
    {
     "name": "stdout",
     "output_type": "stream",
     "text": [
      "🌸 New best epoch! 🌸 with cindex:  0.6765224405781919\n"
     ]
    },
    {
     "name": "stderr",
     "output_type": "stream",
     "text": [
      "100%|██████████| 810/810 [00:05<00:00, 144.93it/s, epoch=24/100, loss=0.192777]\n"
     ]
    },
    {
     "name": "stdout",
     "output_type": "stream",
     "text": [
      "🌸 New best epoch! 🌸 with cindex:  0.6769742905831643\n"
     ]
    },
    {
     "name": "stderr",
     "output_type": "stream",
     "text": [
      "100%|██████████| 810/810 [00:05<00:00, 146.09it/s, epoch=25/100, loss=0.232860]\n",
      "100%|██████████| 810/810 [00:05<00:00, 143.71it/s, epoch=26/100, loss=0.235611]\n"
     ]
    },
    {
     "name": "stdout",
     "output_type": "stream",
     "text": [
      "🌸 New best epoch! 🌸 with cindex:  0.6770203021166827\n"
     ]
    },
    {
     "name": "stderr",
     "output_type": "stream",
     "text": [
      "100%|██████████| 810/810 [00:05<00:00, 143.71it/s, epoch=27/100, loss=0.181563]\n",
      "100%|██████████| 810/810 [00:05<00:00, 136.28it/s, epoch=28/100, loss=0.198494]\n",
      "100%|██████████| 810/810 [00:05<00:00, 143.81it/s, epoch=29/100, loss=0.181571]\n",
      "100%|██████████| 810/810 [00:05<00:00, 144.85it/s, epoch=30/100, loss=0.226368]\n"
     ]
    },
    {
     "name": "stdout",
     "output_type": "stream",
     "text": [
      "🌸 New best epoch! 🌸 with cindex:  0.6778378934285859\n"
     ]
    },
    {
     "name": "stderr",
     "output_type": "stream",
     "text": [
      "100%|██████████| 810/810 [00:05<00:00, 144.03it/s, epoch=31/100, loss=0.233332]\n",
      "100%|██████████| 810/810 [00:05<00:00, 145.83it/s, epoch=32/100, loss=0.195120]\n",
      "100%|██████████| 810/810 [00:05<00:00, 138.95it/s, epoch=33/100, loss=0.164059]\n"
     ]
    },
    {
     "name": "stdout",
     "output_type": "stream",
     "text": [
      "🌸 New best epoch! 🌸 with cindex:  0.6787503403240989\n"
     ]
    },
    {
     "name": "stderr",
     "output_type": "stream",
     "text": [
      "100%|██████████| 810/810 [00:05<00:00, 140.02it/s, epoch=34/100, loss=0.208754]\n",
      "100%|██████████| 810/810 [00:05<00:00, 145.56it/s, epoch=35/100, loss=0.187845]\n",
      "100%|██████████| 810/810 [00:05<00:00, 143.69it/s, epoch=36/100, loss=0.184497]\n",
      "100%|██████████| 810/810 [00:05<00:00, 144.48it/s, epoch=37/100, loss=0.243196]\n",
      "100%|██████████| 810/810 [00:05<00:00, 145.14it/s, epoch=38/100, loss=0.186614]\n",
      "100%|██████████| 810/810 [00:06<00:00, 132.06it/s, epoch=39/100, loss=0.196001]\n",
      "100%|██████████| 810/810 [00:05<00:00, 142.18it/s, epoch=40/100, loss=0.193793]\n",
      "100%|██████████| 810/810 [00:05<00:00, 144.82it/s, epoch=41/100, loss=0.174574]\n",
      "100%|██████████| 810/810 [00:05<00:00, 144.77it/s, epoch=42/100, loss=0.203457]\n",
      "100%|██████████| 810/810 [00:05<00:00, 142.68it/s, epoch=43/100, loss=0.171029]\n",
      "100%|██████████| 810/810 [00:05<00:00, 138.66it/s, epoch=44/100, loss=0.214400]\n"
     ]
    },
    {
     "name": "stdout",
     "output_type": "stream",
     "text": [
      "🌸 New best epoch! 🌸 with cindex:  0.6794196266981931\n"
     ]
    },
    {
     "name": "stderr",
     "output_type": "stream",
     "text": [
      "100%|██████████| 810/810 [00:05<00:00, 138.95it/s, epoch=45/100, loss=0.201103]\n",
      "100%|██████████| 810/810 [00:05<00:00, 141.47it/s, epoch=46/100, loss=0.232406]\n",
      "100%|██████████| 810/810 [00:05<00:00, 143.02it/s, epoch=47/100, loss=0.184085]\n",
      "100%|██████████| 810/810 [00:05<00:00, 143.84it/s, epoch=48/100, loss=0.185496]\n",
      "100%|██████████| 810/810 [00:05<00:00, 136.93it/s, epoch=49/100, loss=0.220162]\n",
      "100%|██████████| 810/810 [00:05<00:00, 142.24it/s, epoch=50/100, loss=0.186125]\n",
      "100%|██████████| 810/810 [00:05<00:00, 140.11it/s, epoch=51/100, loss=0.190339]\n",
      "100%|██████████| 810/810 [00:05<00:00, 142.58it/s, epoch=52/100, loss=0.171663]\n",
      "100%|██████████| 810/810 [00:05<00:00, 143.16it/s, epoch=53/100, loss=0.185242]\n",
      "100%|██████████| 810/810 [00:05<00:00, 139.18it/s, epoch=54/100, loss=0.172517]\n",
      "100%|██████████| 810/810 [00:05<00:00, 143.44it/s, epoch=55/100, loss=0.222168]\n",
      "100%|██████████| 810/810 [00:05<00:00, 140.58it/s, epoch=56/100, loss=0.211888]\n"
     ]
    },
    {
     "name": "stdout",
     "output_type": "stream",
     "text": [
      "🌸 New best epoch! 🌸 with cindex:  0.6795272046103652\n"
     ]
    },
    {
     "name": "stderr",
     "output_type": "stream",
     "text": [
      "100%|██████████| 810/810 [00:06<00:00, 134.22it/s, epoch=57/100, loss=0.203215]\n"
     ]
    },
    {
     "name": "stdout",
     "output_type": "stream",
     "text": [
      "🌸 New best epoch! 🌸 with cindex:  0.6796852383034543\n"
     ]
    },
    {
     "name": "stderr",
     "output_type": "stream",
     "text": [
      "100%|██████████| 810/810 [00:05<00:00, 143.87it/s, epoch=58/100, loss=0.182288]\n",
      "100%|██████████| 810/810 [00:05<00:00, 140.24it/s, epoch=59/100, loss=0.188469]\n",
      "100%|██████████| 810/810 [00:05<00:00, 142.99it/s, epoch=60/100, loss=0.201178]\n",
      "100%|██████████| 810/810 [00:05<00:00, 142.96it/s, epoch=61/100, loss=0.167529]\n",
      "100%|██████████| 810/810 [00:05<00:00, 142.50it/s, epoch=62/100, loss=0.192337]\n",
      "100%|██████████| 810/810 [00:05<00:00, 142.95it/s, epoch=63/100, loss=0.179940]\n",
      "100%|██████████| 810/810 [00:05<00:00, 141.84it/s, epoch=64/100, loss=0.193044]\n",
      "100%|██████████| 810/810 [00:05<00:00, 139.94it/s, epoch=65/100, loss=0.166173]\n",
      "100%|██████████| 810/810 [00:05<00:00, 145.12it/s, epoch=66/100, loss=0.185569]\n",
      "100%|██████████| 810/810 [00:05<00:00, 143.96it/s, epoch=67/100, loss=0.193753]\n",
      "100%|██████████| 810/810 [00:05<00:00, 146.10it/s, epoch=68/100, loss=0.188607]\n",
      "100%|██████████| 810/810 [00:06<00:00, 134.56it/s, epoch=69/100, loss=0.212546]\n",
      "100%|██████████| 810/810 [00:06<00:00, 132.57it/s, epoch=70/100, loss=0.209400]\n",
      "100%|██████████| 810/810 [00:05<00:00, 142.57it/s, epoch=71/100, loss=0.209379]\n",
      "100%|██████████| 810/810 [00:05<00:00, 143.62it/s, epoch=72/100, loss=0.203675]\n"
     ]
    },
    {
     "name": "stdout",
     "output_type": "stream",
     "text": [
      "Early stopping\n",
      " *************************************************************************************** \n",
      "Fold 16 RMSE: 0.208941 Fold 16 C-Index: 0.679685\n",
      "\n",
      "\n",
      " *************************************************************************************** \n"
     ]
    },
    {
     "name": "stderr",
     "output_type": "stream",
     "text": [
      "100%|██████████| 810/810 [00:05<00:00, 146.30it/s, epoch=1/100, loss=0.223970]\n"
     ]
    },
    {
     "name": "stdout",
     "output_type": "stream",
     "text": [
      "🌸 New best epoch! 🌸 with cindex:  0.6610072219660814\n"
     ]
    },
    {
     "name": "stderr",
     "output_type": "stream",
     "text": [
      "100%|██████████| 810/810 [00:05<00:00, 145.18it/s, epoch=2/100, loss=0.228334]\n"
     ]
    },
    {
     "name": "stdout",
     "output_type": "stream",
     "text": [
      "🌸 New best epoch! 🌸 with cindex:  0.6680737564007859\n"
     ]
    },
    {
     "name": "stderr",
     "output_type": "stream",
     "text": [
      "100%|██████████| 810/810 [00:06<00:00, 131.57it/s, epoch=3/100, loss=0.231701]\n"
     ]
    },
    {
     "name": "stdout",
     "output_type": "stream",
     "text": [
      "🌸 New best epoch! 🌸 with cindex:  0.6693857964804305\n"
     ]
    },
    {
     "name": "stderr",
     "output_type": "stream",
     "text": [
      "100%|██████████| 810/810 [00:05<00:00, 138.57it/s, epoch=4/100, loss=0.219086]\n"
     ]
    },
    {
     "name": "stdout",
     "output_type": "stream",
     "text": [
      "🌸 New best epoch! 🌸 with cindex:  0.6699266120833807\n"
     ]
    },
    {
     "name": "stderr",
     "output_type": "stream",
     "text": [
      "100%|██████████| 810/810 [00:05<00:00, 144.75it/s, epoch=5/100, loss=0.210329]\n"
     ]
    },
    {
     "name": "stdout",
     "output_type": "stream",
     "text": [
      "🌸 New best epoch! 🌸 with cindex:  0.6727088284118876\n"
     ]
    },
    {
     "name": "stderr",
     "output_type": "stream",
     "text": [
      "100%|██████████| 810/810 [00:05<00:00, 145.56it/s, epoch=6/100, loss=0.245624]\n"
     ]
    },
    {
     "name": "stdout",
     "output_type": "stream",
     "text": [
      "🌸 New best epoch! 🌸 with cindex:  0.6735560481107716\n"
     ]
    },
    {
     "name": "stderr",
     "output_type": "stream",
     "text": [
      "100%|██████████| 810/810 [00:05<00:00, 144.42it/s, epoch=7/100, loss=0.202834]\n"
     ]
    },
    {
     "name": "stdout",
     "output_type": "stream",
     "text": [
      "🌸 New best epoch! 🌸 with cindex:  0.6751935735558322\n"
     ]
    },
    {
     "name": "stderr",
     "output_type": "stream",
     "text": [
      "100%|██████████| 810/810 [00:05<00:00, 141.37it/s, epoch=8/100, loss=0.226698]\n",
      "100%|██████████| 810/810 [00:05<00:00, 143.03it/s, epoch=9/100, loss=0.209438]\n"
     ]
    },
    {
     "name": "stdout",
     "output_type": "stream",
     "text": [
      "🌸 New best epoch! 🌸 with cindex:  0.6753474784200139\n"
     ]
    },
    {
     "name": "stderr",
     "output_type": "stream",
     "text": [
      "100%|██████████| 810/810 [00:05<00:00, 142.78it/s, epoch=10/100, loss=0.206205]\n",
      "100%|██████████| 810/810 [00:05<00:00, 143.58it/s, epoch=11/100, loss=0.210487]\n"
     ]
    },
    {
     "name": "stdout",
     "output_type": "stream",
     "text": [
      "🌸 New best epoch! 🌸 with cindex:  0.6763931307999644\n"
     ]
    },
    {
     "name": "stderr",
     "output_type": "stream",
     "text": [
      "100%|██████████| 810/810 [00:05<00:00, 141.80it/s, epoch=12/100, loss=0.209726]\n",
      "100%|██████████| 810/810 [00:05<00:00, 143.15it/s, epoch=13/100, loss=0.246354]\n",
      "100%|██████████| 810/810 [00:05<00:00, 140.66it/s, epoch=14/100, loss=0.196333]\n"
     ]
    },
    {
     "name": "stdout",
     "output_type": "stream",
     "text": [
      "🌸 New best epoch! 🌸 with cindex:  0.6766174310101682\n"
     ]
    },
    {
     "name": "stderr",
     "output_type": "stream",
     "text": [
      "100%|██████████| 810/810 [00:06<00:00, 134.31it/s, epoch=15/100, loss=0.245532]\n"
     ]
    },
    {
     "name": "stdout",
     "output_type": "stream",
     "text": [
      "🌸 New best epoch! 🌸 with cindex:  0.6774489245088027\n"
     ]
    },
    {
     "name": "stderr",
     "output_type": "stream",
     "text": [
      "100%|██████████| 810/810 [00:05<00:00, 143.63it/s, epoch=16/100, loss=0.263298]\n"
     ]
    },
    {
     "name": "stdout",
     "output_type": "stream",
     "text": [
      "🌸 New best epoch! 🌸 with cindex:  0.6782957415606706\n"
     ]
    },
    {
     "name": "stderr",
     "output_type": "stream",
     "text": [
      "100%|██████████| 810/810 [00:05<00:00, 143.57it/s, epoch=17/100, loss=0.197251]\n",
      "100%|██████████| 810/810 [00:05<00:00, 142.16it/s, epoch=18/100, loss=0.245553]\n"
     ]
    },
    {
     "name": "stdout",
     "output_type": "stream",
     "text": [
      "🌸 New best epoch! 🌸 with cindex:  0.6785777363136937\n"
     ]
    },
    {
     "name": "stderr",
     "output_type": "stream",
     "text": [
      "100%|██████████| 810/810 [00:05<00:00, 141.54it/s, epoch=19/100, loss=0.199187]\n",
      "100%|██████████| 810/810 [00:05<00:00, 141.97it/s, epoch=20/100, loss=0.219039]\n",
      "100%|██████████| 810/810 [00:05<00:00, 143.32it/s, epoch=21/100, loss=0.196394]\n",
      "100%|██████████| 810/810 [00:05<00:00, 143.97it/s, epoch=22/100, loss=0.195907]\n",
      "100%|██████████| 810/810 [00:05<00:00, 143.67it/s, epoch=23/100, loss=0.189312]\n",
      "100%|██████████| 810/810 [00:05<00:00, 140.59it/s, epoch=24/100, loss=0.185437]\n",
      "100%|██████████| 810/810 [00:05<00:00, 141.58it/s, epoch=25/100, loss=0.183046]\n",
      "100%|██████████| 810/810 [00:05<00:00, 145.44it/s, epoch=26/100, loss=0.203814]\n",
      "100%|██████████| 810/810 [00:05<00:00, 139.59it/s, epoch=27/100, loss=0.208944]\n",
      "100%|██████████| 810/810 [00:05<00:00, 143.01it/s, epoch=28/100, loss=0.210014]\n",
      "100%|██████████| 810/810 [00:05<00:00, 145.23it/s, epoch=29/100, loss=0.222778]\n",
      "100%|██████████| 810/810 [00:05<00:00, 140.17it/s, epoch=30/100, loss=0.202476]\n",
      "100%|██████████| 810/810 [00:05<00:00, 144.49it/s, epoch=31/100, loss=0.202488]\n",
      "100%|██████████| 810/810 [00:05<00:00, 144.03it/s, epoch=32/100, loss=0.179133]\n",
      "100%|██████████| 810/810 [00:05<00:00, 142.37it/s, epoch=33/100, loss=0.179740]\n"
     ]
    },
    {
     "name": "stdout",
     "output_type": "stream",
     "text": [
      "Early stopping\n",
      " *************************************************************************************** \n",
      "Fold 16 RMSE: 0.211613 Fold 16 C-Index: 0.678578\n",
      "\n",
      "\n",
      " *************************************************************************************** \n"
     ]
    },
    {
     "name": "stderr",
     "output_type": "stream",
     "text": [
      "100%|██████████| 810/810 [00:05<00:00, 142.79it/s, epoch=1/100, loss=0.228026]\n"
     ]
    },
    {
     "name": "stdout",
     "output_type": "stream",
     "text": [
      "🌸 New best epoch! 🌸 with cindex:  0.6535243427489118\n"
     ]
    },
    {
     "name": "stderr",
     "output_type": "stream",
     "text": [
      "100%|██████████| 810/810 [00:05<00:00, 140.91it/s, epoch=2/100, loss=0.202489]\n"
     ]
    },
    {
     "name": "stdout",
     "output_type": "stream",
     "text": [
      "🌸 New best epoch! 🌸 with cindex:  0.6585756813538068\n"
     ]
    },
    {
     "name": "stderr",
     "output_type": "stream",
     "text": [
      "100%|██████████| 810/810 [00:05<00:00, 144.31it/s, epoch=3/100, loss=0.210533]\n"
     ]
    },
    {
     "name": "stdout",
     "output_type": "stream",
     "text": [
      "🌸 New best epoch! 🌸 with cindex:  0.6627912731884976\n"
     ]
    },
    {
     "name": "stderr",
     "output_type": "stream",
     "text": [
      "100%|██████████| 810/810 [00:05<00:00, 144.04it/s, epoch=4/100, loss=0.208559]\n",
      "100%|██████████| 810/810 [00:05<00:00, 138.14it/s, epoch=5/100, loss=0.230672]\n"
     ]
    },
    {
     "name": "stdout",
     "output_type": "stream",
     "text": [
      "🌸 New best epoch! 🌸 with cindex:  0.6653526404861465\n"
     ]
    },
    {
     "name": "stderr",
     "output_type": "stream",
     "text": [
      "100%|██████████| 810/810 [00:05<00:00, 147.53it/s, epoch=6/100, loss=0.208548]\n",
      "100%|██████████| 810/810 [00:05<00:00, 141.18it/s, epoch=7/100, loss=0.221440]\n",
      "100%|██████████| 810/810 [00:05<00:00, 145.71it/s, epoch=8/100, loss=0.208978]\n",
      "100%|██████████| 810/810 [00:05<00:00, 145.40it/s, epoch=9/100, loss=0.232680]\n",
      "100%|██████████| 810/810 [00:05<00:00, 144.19it/s, epoch=10/100, loss=0.211708]\n",
      "100%|██████████| 810/810 [00:05<00:00, 146.06it/s, epoch=11/100, loss=0.248142]\n",
      "100%|██████████| 810/810 [00:05<00:00, 142.88it/s, epoch=12/100, loss=0.234592]\n",
      "100%|██████████| 810/810 [00:05<00:00, 145.14it/s, epoch=13/100, loss=0.210179]\n",
      "100%|██████████| 810/810 [00:05<00:00, 144.38it/s, epoch=14/100, loss=0.208822]\n"
     ]
    },
    {
     "name": "stdout",
     "output_type": "stream",
     "text": [
      "🌸 New best epoch! 🌸 with cindex:  0.6674283340518898\n"
     ]
    },
    {
     "name": "stderr",
     "output_type": "stream",
     "text": [
      "100%|██████████| 810/810 [00:05<00:00, 141.22it/s, epoch=15/100, loss=0.201886]\n",
      "100%|██████████| 810/810 [00:05<00:00, 142.56it/s, epoch=16/100, loss=0.199716]\n",
      "100%|██████████| 810/810 [00:05<00:00, 136.91it/s, epoch=17/100, loss=0.249101]\n",
      "100%|██████████| 810/810 [00:05<00:00, 140.18it/s, epoch=18/100, loss=0.207868]\n",
      "100%|██████████| 810/810 [00:05<00:00, 145.85it/s, epoch=19/100, loss=0.216285]\n",
      "100%|██████████| 810/810 [00:05<00:00, 144.97it/s, epoch=20/100, loss=0.210261]\n"
     ]
    },
    {
     "name": "stdout",
     "output_type": "stream",
     "text": [
      "🌸 New best epoch! 🌸 with cindex:  0.6678111931120025\n"
     ]
    },
    {
     "name": "stderr",
     "output_type": "stream",
     "text": [
      "100%|██████████| 810/810 [00:05<00:00, 144.78it/s, epoch=21/100, loss=0.236849]\n",
      "100%|██████████| 810/810 [00:05<00:00, 144.32it/s, epoch=22/100, loss=0.205694]\n"
     ]
    },
    {
     "name": "stdout",
     "output_type": "stream",
     "text": [
      "🌸 New best epoch! 🌸 with cindex:  0.6680005149002127\n"
     ]
    },
    {
     "name": "stderr",
     "output_type": "stream",
     "text": [
      "100%|██████████| 810/810 [00:05<00:00, 140.01it/s, epoch=23/100, loss=0.232315]\n",
      "100%|██████████| 810/810 [00:05<00:00, 145.44it/s, epoch=24/100, loss=0.215887]\n",
      "100%|██████████| 810/810 [00:05<00:00, 145.01it/s, epoch=25/100, loss=0.202090]\n",
      "100%|██████████| 810/810 [00:05<00:00, 147.36it/s, epoch=26/100, loss=0.211781]\n",
      "100%|██████████| 810/810 [00:05<00:00, 139.57it/s, epoch=27/100, loss=0.219398]\n",
      "100%|██████████| 810/810 [00:06<00:00, 132.66it/s, epoch=28/100, loss=0.195749]\n",
      "100%|██████████| 810/810 [00:05<00:00, 144.99it/s, epoch=29/100, loss=0.223309]\n",
      "100%|██████████| 810/810 [00:05<00:00, 144.27it/s, epoch=30/100, loss=0.193508]\n",
      "100%|██████████| 810/810 [00:05<00:00, 143.95it/s, epoch=31/100, loss=0.210002]\n",
      "100%|██████████| 810/810 [00:05<00:00, 145.00it/s, epoch=32/100, loss=0.201277]\n",
      "100%|██████████| 810/810 [00:05<00:00, 145.19it/s, epoch=33/100, loss=0.213756]\n",
      "100%|██████████| 810/810 [00:05<00:00, 142.16it/s, epoch=34/100, loss=0.189623]\n",
      "100%|██████████| 810/810 [00:05<00:00, 143.69it/s, epoch=35/100, loss=0.178849]\n",
      "100%|██████████| 810/810 [00:05<00:00, 146.05it/s, epoch=36/100, loss=0.197331]\n",
      "100%|██████████| 810/810 [00:05<00:00, 145.18it/s, epoch=37/100, loss=0.201788]\n"
     ]
    },
    {
     "name": "stdout",
     "output_type": "stream",
     "text": [
      "Early stopping\n",
      " *************************************************************************************** \n",
      "Fold 16 RMSE: 0.216340 Fold 16 C-Index: 0.668001\n",
      "\n",
      "\n",
      " *************************************************************************************** \n"
     ]
    },
    {
     "name": "stderr",
     "output_type": "stream",
     "text": [
      "100%|██████████| 810/810 [00:05<00:00, 142.98it/s, epoch=1/100, loss=0.248046]\n"
     ]
    },
    {
     "name": "stdout",
     "output_type": "stream",
     "text": [
      "🌸 New best epoch! 🌸 with cindex:  0.6432522816859925\n"
     ]
    },
    {
     "name": "stderr",
     "output_type": "stream",
     "text": [
      "100%|██████████| 810/810 [00:06<00:00, 130.68it/s, epoch=2/100, loss=0.225978]\n"
     ]
    },
    {
     "name": "stdout",
     "output_type": "stream",
     "text": [
      "🌸 New best epoch! 🌸 with cindex:  0.6520119021508624\n"
     ]
    },
    {
     "name": "stderr",
     "output_type": "stream",
     "text": [
      "100%|██████████| 810/810 [00:06<00:00, 131.99it/s, epoch=3/100, loss=0.198647]\n"
     ]
    },
    {
     "name": "stdout",
     "output_type": "stream",
     "text": [
      "🌸 New best epoch! 🌸 with cindex:  0.6533221425600505\n"
     ]
    },
    {
     "name": "stderr",
     "output_type": "stream",
     "text": [
      "100%|██████████| 810/810 [00:05<00:00, 144.85it/s, epoch=4/100, loss=0.255732]\n"
     ]
    },
    {
     "name": "stdout",
     "output_type": "stream",
     "text": [
      "🌸 New best epoch! 🌸 with cindex:  0.6552968734032811\n"
     ]
    },
    {
     "name": "stderr",
     "output_type": "stream",
     "text": [
      "100%|██████████| 810/810 [00:05<00:00, 145.36it/s, epoch=5/100, loss=0.223916]\n"
     ]
    },
    {
     "name": "stdout",
     "output_type": "stream",
     "text": [
      "🌸 New best epoch! 🌸 with cindex:  0.6586620427606935\n"
     ]
    },
    {
     "name": "stderr",
     "output_type": "stream",
     "text": [
      "100%|██████████| 810/810 [00:05<00:00, 144.79it/s, epoch=6/100, loss=0.219727]\n",
      "100%|██████████| 810/810 [00:05<00:00, 143.03it/s, epoch=7/100, loss=0.218418]\n"
     ]
    },
    {
     "name": "stdout",
     "output_type": "stream",
     "text": [
      "🌸 New best epoch! 🌸 with cindex:  0.659908420593989\n"
     ]
    },
    {
     "name": "stderr",
     "output_type": "stream",
     "text": [
      "100%|██████████| 810/810 [00:05<00:00, 146.29it/s, epoch=8/100, loss=0.210552]\n",
      "100%|██████████| 810/810 [00:05<00:00, 148.15it/s, epoch=9/100, loss=0.212057]\n"
     ]
    },
    {
     "name": "stdout",
     "output_type": "stream",
     "text": [
      "🌸 New best epoch! 🌸 with cindex:  0.6606167466688934\n"
     ]
    },
    {
     "name": "stderr",
     "output_type": "stream",
     "text": [
      "100%|██████████| 810/810 [00:05<00:00, 145.07it/s, epoch=10/100, loss=0.229171]\n"
     ]
    },
    {
     "name": "stdout",
     "output_type": "stream",
     "text": [
      "🌸 New best epoch! 🌸 with cindex:  0.6613279526072658\n"
     ]
    },
    {
     "name": "stderr",
     "output_type": "stream",
     "text": [
      "100%|██████████| 810/810 [00:05<00:00, 146.77it/s, epoch=11/100, loss=0.201299]\n"
     ]
    },
    {
     "name": "stdout",
     "output_type": "stream",
     "text": [
      "🌸 New best epoch! 🌸 with cindex:  0.6633076330155917\n"
     ]
    },
    {
     "name": "stderr",
     "output_type": "stream",
     "text": [
      "100%|██████████| 810/810 [00:05<00:00, 143.61it/s, epoch=12/100, loss=0.222460]\n",
      "100%|██████████| 810/810 [00:05<00:00, 142.15it/s, epoch=13/100, loss=0.247046]\n",
      "100%|██████████| 810/810 [00:05<00:00, 138.29it/s, epoch=14/100, loss=0.194718]\n",
      "100%|██████████| 810/810 [00:06<00:00, 134.27it/s, epoch=15/100, loss=0.188930]\n",
      "100%|██████████| 810/810 [00:05<00:00, 145.66it/s, epoch=16/100, loss=0.185028]\n",
      "100%|██████████| 810/810 [00:05<00:00, 146.07it/s, epoch=17/100, loss=0.209037]\n",
      "100%|██████████| 810/810 [00:05<00:00, 140.90it/s, epoch=18/100, loss=0.202552]\n"
     ]
    },
    {
     "name": "stdout",
     "output_type": "stream",
     "text": [
      "🌸 New best epoch! 🌸 with cindex:  0.6651729591587222\n"
     ]
    },
    {
     "name": "stderr",
     "output_type": "stream",
     "text": [
      "100%|██████████| 810/810 [00:05<00:00, 146.80it/s, epoch=19/100, loss=0.195976]\n"
     ]
    },
    {
     "name": "stdout",
     "output_type": "stream",
     "text": [
      "🌸 New best epoch! 🌸 with cindex:  0.6665211453065814\n"
     ]
    },
    {
     "name": "stderr",
     "output_type": "stream",
     "text": [
      "100%|██████████| 810/810 [00:05<00:00, 145.16it/s, epoch=20/100, loss=0.191325]\n",
      "100%|██████████| 810/810 [00:05<00:00, 145.40it/s, epoch=21/100, loss=0.254059]\n",
      "100%|██████████| 810/810 [00:05<00:00, 146.70it/s, epoch=22/100, loss=0.206118]\n"
     ]
    },
    {
     "name": "stdout",
     "output_type": "stream",
     "text": [
      "🌸 New best epoch! 🌸 with cindex:  0.6672452083706258\n"
     ]
    },
    {
     "name": "stderr",
     "output_type": "stream",
     "text": [
      "100%|██████████| 810/810 [00:05<00:00, 140.72it/s, epoch=23/100, loss=0.209030]\n",
      "100%|██████████| 810/810 [00:05<00:00, 145.97it/s, epoch=24/100, loss=0.156424]\n"
     ]
    },
    {
     "name": "stdout",
     "output_type": "stream",
     "text": [
      "🌸 New best epoch! 🌸 with cindex:  0.6690970740604125\n"
     ]
    },
    {
     "name": "stderr",
     "output_type": "stream",
     "text": [
      "100%|██████████| 810/810 [00:05<00:00, 139.96it/s, epoch=25/100, loss=0.258902]\n",
      "100%|██████████| 810/810 [00:05<00:00, 136.90it/s, epoch=26/100, loss=0.172624]\n",
      "100%|██████████| 810/810 [00:06<00:00, 132.96it/s, epoch=27/100, loss=0.167238]\n",
      "100%|██████████| 810/810 [00:05<00:00, 139.20it/s, epoch=28/100, loss=0.203966]\n",
      "100%|██████████| 810/810 [00:05<00:00, 149.04it/s, epoch=29/100, loss=0.239318]\n",
      "100%|██████████| 810/810 [00:05<00:00, 146.81it/s, epoch=30/100, loss=0.245894]\n",
      "100%|██████████| 810/810 [00:05<00:00, 144.04it/s, epoch=31/100, loss=0.231966]\n",
      "100%|██████████| 810/810 [00:05<00:00, 144.03it/s, epoch=32/100, loss=0.233359]\n",
      "100%|██████████| 810/810 [00:05<00:00, 143.74it/s, epoch=33/100, loss=0.213356]\n",
      "100%|██████████| 810/810 [00:05<00:00, 143.39it/s, epoch=34/100, loss=0.182574]\n"
     ]
    },
    {
     "name": "stdout",
     "output_type": "stream",
     "text": [
      "🌸 New best epoch! 🌸 with cindex:  0.66931495972751\n"
     ]
    },
    {
     "name": "stderr",
     "output_type": "stream",
     "text": [
      "100%|██████████| 810/810 [00:05<00:00, 145.71it/s, epoch=35/100, loss=0.210070]\n",
      "100%|██████████| 810/810 [00:05<00:00, 144.49it/s, epoch=36/100, loss=0.183180]\n",
      "100%|██████████| 810/810 [00:05<00:00, 142.00it/s, epoch=37/100, loss=0.198442]\n",
      "100%|██████████| 810/810 [00:05<00:00, 138.54it/s, epoch=38/100, loss=0.222974]\n",
      "100%|██████████| 810/810 [00:06<00:00, 126.24it/s, epoch=39/100, loss=0.174258]\n",
      "100%|██████████| 810/810 [00:05<00:00, 143.42it/s, epoch=40/100, loss=0.227518]\n",
      "100%|██████████| 810/810 [00:05<00:00, 144.40it/s, epoch=41/100, loss=0.209068]\n",
      "100%|██████████| 810/810 [00:05<00:00, 147.21it/s, epoch=42/100, loss=0.191183]\n",
      "100%|██████████| 810/810 [00:05<00:00, 146.54it/s, epoch=43/100, loss=0.188995]\n",
      "100%|██████████| 810/810 [00:05<00:00, 140.95it/s, epoch=44/100, loss=0.206196]\n",
      "100%|██████████| 810/810 [00:05<00:00, 144.87it/s, epoch=45/100, loss=0.174307]\n",
      "100%|██████████| 810/810 [00:05<00:00, 145.51it/s, epoch=46/100, loss=0.181111]\n",
      "100%|██████████| 810/810 [00:05<00:00, 145.31it/s, epoch=47/100, loss=0.196696]\n",
      "100%|██████████| 810/810 [00:05<00:00, 143.35it/s, epoch=48/100, loss=0.199139]\n",
      "100%|██████████| 810/810 [00:05<00:00, 138.61it/s, epoch=49/100, loss=0.152130]\n"
     ]
    },
    {
     "name": "stdout",
     "output_type": "stream",
     "text": [
      "Early stopping\n",
      " *************************************************************************************** \n",
      "Fold 16 RMSE: 0.209627 Fold 16 C-Index: 0.669315\n",
      "\n",
      "\n",
      " *************************************************************************************** \n"
     ]
    },
    {
     "name": "stderr",
     "output_type": "stream",
     "text": [
      "100%|██████████| 810/810 [00:05<00:00, 139.54it/s, epoch=1/100, loss=0.240547]\n"
     ]
    },
    {
     "name": "stdout",
     "output_type": "stream",
     "text": [
      "🌸 New best epoch! 🌸 with cindex:  0.6557084885678031\n"
     ]
    },
    {
     "name": "stderr",
     "output_type": "stream",
     "text": [
      "100%|██████████| 810/810 [00:05<00:00, 143.53it/s, epoch=2/100, loss=0.209519]\n"
     ]
    },
    {
     "name": "stdout",
     "output_type": "stream",
     "text": [
      "🌸 New best epoch! 🌸 with cindex:  0.6649314740540941\n"
     ]
    },
    {
     "name": "stderr",
     "output_type": "stream",
     "text": [
      "100%|██████████| 810/810 [00:05<00:00, 142.19it/s, epoch=3/100, loss=0.232591]\n"
     ]
    },
    {
     "name": "stdout",
     "output_type": "stream",
     "text": [
      "🌸 New best epoch! 🌸 with cindex:  0.6667515904852844\n"
     ]
    },
    {
     "name": "stderr",
     "output_type": "stream",
     "text": [
      "100%|██████████| 810/810 [00:05<00:00, 143.12it/s, epoch=4/100, loss=0.220317]\n"
     ]
    },
    {
     "name": "stdout",
     "output_type": "stream",
     "text": [
      "🌸 New best epoch! 🌸 with cindex:  0.6675789236953527\n"
     ]
    },
    {
     "name": "stderr",
     "output_type": "stream",
     "text": [
      "100%|██████████| 810/810 [00:05<00:00, 144.94it/s, epoch=5/100, loss=0.213644]\n"
     ]
    },
    {
     "name": "stdout",
     "output_type": "stream",
     "text": [
      "🌸 New best epoch! 🌸 with cindex:  0.6692927174434332\n"
     ]
    },
    {
     "name": "stderr",
     "output_type": "stream",
     "text": [
      "100%|██████████| 810/810 [00:05<00:00, 140.93it/s, epoch=6/100, loss=0.229495]\n"
     ]
    },
    {
     "name": "stdout",
     "output_type": "stream",
     "text": [
      "🌸 New best epoch! 🌸 with cindex:  0.6703352298655338\n"
     ]
    },
    {
     "name": "stderr",
     "output_type": "stream",
     "text": [
      "100%|██████████| 810/810 [00:05<00:00, 145.69it/s, epoch=7/100, loss=0.184447]\n",
      "100%|██████████| 810/810 [00:05<00:00, 145.02it/s, epoch=8/100, loss=0.217539]\n",
      "100%|██████████| 810/810 [00:05<00:00, 144.61it/s, epoch=9/100, loss=0.199599]\n"
     ]
    },
    {
     "name": "stdout",
     "output_type": "stream",
     "text": [
      "🌸 New best epoch! 🌸 with cindex:  0.6708308833486242\n"
     ]
    },
    {
     "name": "stderr",
     "output_type": "stream",
     "text": [
      "100%|██████████| 810/810 [00:05<00:00, 144.93it/s, epoch=10/100, loss=0.168958]\n"
     ]
    },
    {
     "name": "stdout",
     "output_type": "stream",
     "text": [
      "🌸 New best epoch! 🌸 with cindex:  0.672538668238807\n"
     ]
    },
    {
     "name": "stderr",
     "output_type": "stream",
     "text": [
      "100%|██████████| 810/810 [00:05<00:00, 139.95it/s, epoch=11/100, loss=0.204459]\n",
      "100%|██████████| 810/810 [00:05<00:00, 144.05it/s, epoch=12/100, loss=0.202233]\n"
     ]
    },
    {
     "name": "stdout",
     "output_type": "stream",
     "text": [
      "🌸 New best epoch! 🌸 with cindex:  0.6728942447406594\n"
     ]
    },
    {
     "name": "stderr",
     "output_type": "stream",
     "text": [
      "100%|██████████| 810/810 [00:05<00:00, 143.89it/s, epoch=13/100, loss=0.229243]\n"
     ]
    },
    {
     "name": "stdout",
     "output_type": "stream",
     "text": [
      "🌸 New best epoch! 🌸 with cindex:  0.6729291003992875\n"
     ]
    },
    {
     "name": "stderr",
     "output_type": "stream",
     "text": [
      "100%|██████████| 810/810 [00:05<00:00, 138.29it/s, epoch=14/100, loss=0.220263]\n"
     ]
    },
    {
     "name": "stdout",
     "output_type": "stream",
     "text": [
      "🌸 New best epoch! 🌸 with cindex:  0.6735073941746458\n"
     ]
    },
    {
     "name": "stderr",
     "output_type": "stream",
     "text": [
      "100%|██████████| 810/810 [00:06<00:00, 133.59it/s, epoch=15/100, loss=0.231076]\n",
      "100%|██████████| 810/810 [00:05<00:00, 142.23it/s, epoch=16/100, loss=0.190441]\n",
      "100%|██████████| 810/810 [00:05<00:00, 144.74it/s, epoch=17/100, loss=0.216538]\n"
     ]
    },
    {
     "name": "stdout",
     "output_type": "stream",
     "text": [
      "🌸 New best epoch! 🌸 with cindex:  0.6741641273058524\n"
     ]
    },
    {
     "name": "stderr",
     "output_type": "stream",
     "text": [
      "100%|██████████| 810/810 [00:05<00:00, 144.23it/s, epoch=18/100, loss=0.201603]\n",
      "100%|██████████| 810/810 [00:05<00:00, 144.13it/s, epoch=19/100, loss=0.225298]\n"
     ]
    },
    {
     "name": "stdout",
     "output_type": "stream",
     "text": [
      "🌸 New best epoch! 🌸 with cindex:  0.6749298191555021\n"
     ]
    },
    {
     "name": "stderr",
     "output_type": "stream",
     "text": [
      "100%|██████████| 810/810 [00:05<00:00, 146.25it/s, epoch=20/100, loss=0.256594]\n",
      "100%|██████████| 810/810 [00:05<00:00, 143.78it/s, epoch=21/100, loss=0.219043]\n",
      "100%|██████████| 810/810 [00:05<00:00, 144.95it/s, epoch=22/100, loss=0.188965]\n"
     ]
    },
    {
     "name": "stdout",
     "output_type": "stream",
     "text": [
      "🌸 New best epoch! 🌸 with cindex:  0.6754944480219902\n"
     ]
    },
    {
     "name": "stderr",
     "output_type": "stream",
     "text": [
      "100%|██████████| 810/810 [00:05<00:00, 147.47it/s, epoch=23/100, loss=0.211332]\n",
      "100%|██████████| 810/810 [00:05<00:00, 145.41it/s, epoch=24/100, loss=0.198431]\n",
      "100%|██████████| 810/810 [00:05<00:00, 138.13it/s, epoch=25/100, loss=0.228873]\n",
      "100%|██████████| 810/810 [00:05<00:00, 145.30it/s, epoch=26/100, loss=0.180307]\n",
      "100%|██████████| 810/810 [00:06<00:00, 121.18it/s, epoch=27/100, loss=0.210977]\n"
     ]
    },
    {
     "name": "stdout",
     "output_type": "stream",
     "text": [
      "🌸 New best epoch! 🌸 with cindex:  0.675582275688262\n"
     ]
    },
    {
     "name": "stderr",
     "output_type": "stream",
     "text": [
      "100%|██████████| 810/810 [00:05<00:00, 146.40it/s, epoch=28/100, loss=0.211390]\n",
      "100%|██████████| 810/810 [00:05<00:00, 143.47it/s, epoch=29/100, loss=0.187310]\n",
      "100%|██████████| 810/810 [00:05<00:00, 146.03it/s, epoch=30/100, loss=0.204313]\n",
      "100%|██████████| 810/810 [00:05<00:00, 145.38it/s, epoch=31/100, loss=0.175291]\n",
      "100%|██████████| 810/810 [00:05<00:00, 138.25it/s, epoch=32/100, loss=0.189656]\n"
     ]
    },
    {
     "name": "stdout",
     "output_type": "stream",
     "text": [
      "🌸 New best epoch! 🌸 with cindex:  0.6757823789582972\n"
     ]
    },
    {
     "name": "stderr",
     "output_type": "stream",
     "text": [
      "100%|██████████| 810/810 [00:05<00:00, 144.25it/s, epoch=33/100, loss=0.203727]\n",
      "100%|██████████| 810/810 [00:05<00:00, 142.00it/s, epoch=34/100, loss=0.201101]\n",
      "100%|██████████| 810/810 [00:05<00:00, 142.63it/s, epoch=35/100, loss=0.179729]\n",
      "100%|██████████| 810/810 [00:05<00:00, 146.08it/s, epoch=36/100, loss=0.174364]\n",
      "100%|██████████| 810/810 [00:05<00:00, 136.96it/s, epoch=37/100, loss=0.228986]\n",
      "100%|██████████| 810/810 [00:06<00:00, 134.05it/s, epoch=38/100, loss=0.215117]\n",
      "100%|██████████| 810/810 [00:05<00:00, 144.87it/s, epoch=39/100, loss=0.205591]\n",
      "100%|██████████| 810/810 [00:06<00:00, 132.20it/s, epoch=40/100, loss=0.197489]\n",
      "100%|██████████| 810/810 [00:05<00:00, 145.60it/s, epoch=41/100, loss=0.180160]\n",
      "100%|██████████| 810/810 [00:05<00:00, 144.85it/s, epoch=42/100, loss=0.207438]\n",
      "100%|██████████| 810/810 [00:05<00:00, 143.94it/s, epoch=43/100, loss=0.189597]\n",
      "100%|██████████| 810/810 [00:05<00:00, 146.62it/s, epoch=44/100, loss=0.192615]\n",
      "100%|██████████| 810/810 [00:05<00:00, 145.06it/s, epoch=45/100, loss=0.161352]\n",
      "100%|██████████| 810/810 [00:05<00:00, 146.84it/s, epoch=46/100, loss=0.206107]\n",
      "100%|██████████| 810/810 [00:05<00:00, 145.91it/s, epoch=47/100, loss=0.222902]\n"
     ]
    },
    {
     "name": "stdout",
     "output_type": "stream",
     "text": [
      "Early stopping\n",
      " *************************************************************************************** \n",
      "Fold 16 RMSE: 0.214803 Fold 16 C-Index: 0.675782\n",
      "\n",
      "\n",
      " *************************************************************************************** \n"
     ]
    },
    {
     "name": "stderr",
     "output_type": "stream",
     "text": [
      "100%|██████████| 810/810 [00:05<00:00, 140.40it/s, epoch=1/100, loss=0.240476]\n"
     ]
    },
    {
     "name": "stdout",
     "output_type": "stream",
     "text": [
      "🌸 New best epoch! 🌸 with cindex:  0.6412567636205873\n"
     ]
    },
    {
     "name": "stderr",
     "output_type": "stream",
     "text": [
      "100%|██████████| 810/810 [00:05<00:00, 145.09it/s, epoch=2/100, loss=0.226853]\n"
     ]
    },
    {
     "name": "stdout",
     "output_type": "stream",
     "text": [
      "🌸 New best epoch! 🌸 with cindex:  0.6509403069082857\n"
     ]
    },
    {
     "name": "stderr",
     "output_type": "stream",
     "text": [
      "100%|██████████| 810/810 [00:05<00:00, 144.63it/s, epoch=3/100, loss=0.225345]\n"
     ]
    },
    {
     "name": "stdout",
     "output_type": "stream",
     "text": [
      "🌸 New best epoch! 🌸 with cindex:  0.6569670337645259\n"
     ]
    },
    {
     "name": "stderr",
     "output_type": "stream",
     "text": [
      "100%|██████████| 810/810 [00:05<00:00, 145.85it/s, epoch=4/100, loss=0.240931]\n"
     ]
    },
    {
     "name": "stdout",
     "output_type": "stream",
     "text": [
      "🌸 New best epoch! 🌸 with cindex:  0.6580533026686124\n"
     ]
    },
    {
     "name": "stderr",
     "output_type": "stream",
     "text": [
      "100%|██████████| 810/810 [00:05<00:00, 143.96it/s, epoch=5/100, loss=0.175541]\n"
     ]
    },
    {
     "name": "stdout",
     "output_type": "stream",
     "text": [
      "🌸 New best epoch! 🌸 with cindex:  0.6591172124920956\n"
     ]
    },
    {
     "name": "stderr",
     "output_type": "stream",
     "text": [
      "100%|██████████| 810/810 [00:05<00:00, 139.60it/s, epoch=6/100, loss=0.202813]\n"
     ]
    },
    {
     "name": "stdout",
     "output_type": "stream",
     "text": [
      "🌸 New best epoch! 🌸 with cindex:  0.6623541440031424\n"
     ]
    },
    {
     "name": "stderr",
     "output_type": "stream",
     "text": [
      "100%|██████████| 810/810 [00:05<00:00, 142.55it/s, epoch=7/100, loss=0.207728]\n"
     ]
    },
    {
     "name": "stdout",
     "output_type": "stream",
     "text": [
      "🌸 New best epoch! 🌸 with cindex:  0.6624340348220307\n"
     ]
    },
    {
     "name": "stderr",
     "output_type": "stream",
     "text": [
      "100%|██████████| 810/810 [00:05<00:00, 144.67it/s, epoch=8/100, loss=0.251050]\n"
     ]
    },
    {
     "name": "stdout",
     "output_type": "stream",
     "text": [
      "🌸 New best epoch! 🌸 with cindex:  0.6638530805664641\n"
     ]
    },
    {
     "name": "stderr",
     "output_type": "stream",
     "text": [
      "100%|██████████| 810/810 [00:05<00:00, 145.43it/s, epoch=9/100, loss=0.211353]\n"
     ]
    },
    {
     "name": "stdout",
     "output_type": "stream",
     "text": [
      "🌸 New best epoch! 🌸 with cindex:  0.664780443990814\n"
     ]
    },
    {
     "name": "stderr",
     "output_type": "stream",
     "text": [
      "100%|██████████| 810/810 [00:05<00:00, 144.40it/s, epoch=10/100, loss=0.258006]\n",
      "100%|██████████| 810/810 [00:05<00:00, 144.15it/s, epoch=11/100, loss=0.201798]\n"
     ]
    },
    {
     "name": "stdout",
     "output_type": "stream",
     "text": [
      "🌸 New best epoch! 🌸 with cindex:  0.6652808440917335\n"
     ]
    },
    {
     "name": "stderr",
     "output_type": "stream",
     "text": [
      "100%|██████████| 810/810 [00:05<00:00, 141.56it/s, epoch=12/100, loss=0.212061]\n",
      "100%|██████████| 810/810 [00:05<00:00, 143.66it/s, epoch=13/100, loss=0.183977]\n"
     ]
    },
    {
     "name": "stdout",
     "output_type": "stream",
     "text": [
      "🌸 New best epoch! 🌸 with cindex:  0.6670078508094025\n"
     ]
    },
    {
     "name": "stderr",
     "output_type": "stream",
     "text": [
      "100%|██████████| 810/810 [00:05<00:00, 143.42it/s, epoch=14/100, loss=0.213730]\n",
      "100%|██████████| 810/810 [00:06<00:00, 130.53it/s, epoch=15/100, loss=0.218590]\n",
      "100%|██████████| 810/810 [00:05<00:00, 143.05it/s, epoch=16/100, loss=0.230595]\n",
      "100%|██████████| 810/810 [00:05<00:00, 140.80it/s, epoch=17/100, loss=0.227745]\n",
      "100%|██████████| 810/810 [00:05<00:00, 144.63it/s, epoch=18/100, loss=0.262319]\n"
     ]
    },
    {
     "name": "stdout",
     "output_type": "stream",
     "text": [
      "🌸 New best epoch! 🌸 with cindex:  0.6672028840288267\n"
     ]
    },
    {
     "name": "stderr",
     "output_type": "stream",
     "text": [
      "100%|██████████| 810/810 [00:05<00:00, 146.00it/s, epoch=19/100, loss=0.193292]\n"
     ]
    },
    {
     "name": "stdout",
     "output_type": "stream",
     "text": [
      "🌸 New best epoch! 🌸 with cindex:  0.6673145945404133\n"
     ]
    },
    {
     "name": "stderr",
     "output_type": "stream",
     "text": [
      "100%|██████████| 810/810 [00:05<00:00, 144.97it/s, epoch=20/100, loss=0.203812]\n",
      "100%|██████████| 810/810 [00:05<00:00, 145.25it/s, epoch=21/100, loss=0.217357]\n"
     ]
    },
    {
     "name": "stdout",
     "output_type": "stream",
     "text": [
      "🌸 New best epoch! 🌸 with cindex:  0.6687924092130549\n"
     ]
    },
    {
     "name": "stderr",
     "output_type": "stream",
     "text": [
      "100%|██████████| 810/810 [00:05<00:00, 138.12it/s, epoch=22/100, loss=0.189606]\n",
      "100%|██████████| 810/810 [00:05<00:00, 144.54it/s, epoch=23/100, loss=0.229225]\n",
      "100%|██████████| 810/810 [00:05<00:00, 146.03it/s, epoch=24/100, loss=0.195361]\n",
      "100%|██████████| 810/810 [00:05<00:00, 144.84it/s, epoch=25/100, loss=0.198052]\n",
      "100%|██████████| 810/810 [00:05<00:00, 146.17it/s, epoch=26/100, loss=0.205814]\n",
      "100%|██████████| 810/810 [00:05<00:00, 142.40it/s, epoch=27/100, loss=0.204053]\n",
      "100%|██████████| 810/810 [00:05<00:00, 143.90it/s, epoch=28/100, loss=0.236957]\n"
     ]
    },
    {
     "name": "stdout",
     "output_type": "stream",
     "text": [
      "🌸 New best epoch! 🌸 with cindex:  0.6690042248719754\n"
     ]
    },
    {
     "name": "stderr",
     "output_type": "stream",
     "text": [
      "100%|██████████| 810/810 [00:05<00:00, 146.91it/s, epoch=29/100, loss=0.199720]\n",
      "100%|██████████| 810/810 [00:05<00:00, 144.52it/s, epoch=30/100, loss=0.214148]\n",
      "100%|██████████| 810/810 [00:05<00:00, 146.18it/s, epoch=31/100, loss=0.214693]\n"
     ]
    },
    {
     "name": "stdout",
     "output_type": "stream",
     "text": [
      "🌸 New best epoch! 🌸 with cindex:  0.6695137308153191\n"
     ]
    },
    {
     "name": "stderr",
     "output_type": "stream",
     "text": [
      "100%|██████████| 810/810 [00:05<00:00, 145.06it/s, epoch=32/100, loss=0.199693]\n"
     ]
    },
    {
     "name": "stdout",
     "output_type": "stream",
     "text": [
      "🌸 New best epoch! 🌸 with cindex:  0.6702212853885554\n"
     ]
    },
    {
     "name": "stderr",
     "output_type": "stream",
     "text": [
      "100%|██████████| 810/810 [00:05<00:00, 141.20it/s, epoch=33/100, loss=0.201452]\n",
      "100%|██████████| 810/810 [00:05<00:00, 145.54it/s, epoch=34/100, loss=0.158494]\n",
      "100%|██████████| 810/810 [00:05<00:00, 142.98it/s, epoch=35/100, loss=0.197617]\n",
      "100%|██████████| 810/810 [00:05<00:00, 142.10it/s, epoch=36/100, loss=0.176649]\n",
      "100%|██████████| 810/810 [00:05<00:00, 145.32it/s, epoch=37/100, loss=0.198154]\n",
      "100%|██████████| 810/810 [00:06<00:00, 124.58it/s, epoch=38/100, loss=0.215118]\n",
      "100%|██████████| 810/810 [00:05<00:00, 144.00it/s, epoch=39/100, loss=0.167436]\n",
      "100%|██████████| 810/810 [00:05<00:00, 145.15it/s, epoch=40/100, loss=0.212998]\n",
      "100%|██████████| 810/810 [00:05<00:00, 146.64it/s, epoch=41/100, loss=0.196720]\n",
      "100%|██████████| 810/810 [00:05<00:00, 145.22it/s, epoch=42/100, loss=0.199513]\n",
      "100%|██████████| 810/810 [00:05<00:00, 140.68it/s, epoch=43/100, loss=0.187053]\n",
      "100%|██████████| 810/810 [00:05<00:00, 145.22it/s, epoch=44/100, loss=0.187446]\n",
      "100%|██████████| 810/810 [00:05<00:00, 143.52it/s, epoch=45/100, loss=0.173232]\n",
      "100%|██████████| 810/810 [00:05<00:00, 143.85it/s, epoch=46/100, loss=0.231678]\n",
      "100%|██████████| 810/810 [00:05<00:00, 143.81it/s, epoch=47/100, loss=0.235637]\n"
     ]
    },
    {
     "name": "stdout",
     "output_type": "stream",
     "text": [
      "Early stopping\n",
      " *************************************************************************************** \n",
      "Fold 16 RMSE: 0.214864 Fold 16 C-Index: 0.670221\n",
      "\n",
      "\n",
      " *************************************************************************************** \n"
     ]
    },
    {
     "name": "stderr",
     "output_type": "stream",
     "text": [
      "100%|██████████| 810/810 [00:05<00:00, 142.27it/s, epoch=1/100, loss=0.259198]\n"
     ]
    },
    {
     "name": "stdout",
     "output_type": "stream",
     "text": [
      "🌸 New best epoch! 🌸 with cindex:  0.6404296128165173\n"
     ]
    },
    {
     "name": "stderr",
     "output_type": "stream",
     "text": [
      "100%|██████████| 810/810 [00:05<00:00, 141.25it/s, epoch=2/100, loss=0.220799]\n"
     ]
    },
    {
     "name": "stdout",
     "output_type": "stream",
     "text": [
      "🌸 New best epoch! 🌸 with cindex:  0.6465220606823515\n"
     ]
    },
    {
     "name": "stderr",
     "output_type": "stream",
     "text": [
      "100%|██████████| 810/810 [00:05<00:00, 143.24it/s, epoch=3/100, loss=0.231637]\n"
     ]
    },
    {
     "name": "stdout",
     "output_type": "stream",
     "text": [
      "🌸 New best epoch! 🌸 with cindex:  0.6483364417339443\n"
     ]
    },
    {
     "name": "stderr",
     "output_type": "stream",
     "text": [
      "100%|██████████| 810/810 [00:05<00:00, 143.60it/s, epoch=4/100, loss=0.200876]\n"
     ]
    },
    {
     "name": "stdout",
     "output_type": "stream",
     "text": [
      "🌸 New best epoch! 🌸 with cindex:  0.6520511021693195\n"
     ]
    },
    {
     "name": "stderr",
     "output_type": "stream",
     "text": [
      "100%|██████████| 810/810 [00:05<00:00, 142.26it/s, epoch=5/100, loss=0.265584]\n",
      "100%|██████████| 810/810 [00:05<00:00, 142.63it/s, epoch=6/100, loss=0.236799]\n"
     ]
    },
    {
     "name": "stdout",
     "output_type": "stream",
     "text": [
      "🌸 New best epoch! 🌸 with cindex:  0.657640009897124\n"
     ]
    },
    {
     "name": "stderr",
     "output_type": "stream",
     "text": [
      "100%|██████████| 810/810 [00:05<00:00, 140.50it/s, epoch=7/100, loss=0.213203]\n"
     ]
    },
    {
     "name": "stdout",
     "output_type": "stream",
     "text": [
      "🌸 New best epoch! 🌸 with cindex:  0.6578212233378434\n"
     ]
    },
    {
     "name": "stderr",
     "output_type": "stream",
     "text": [
      "100%|██████████| 810/810 [00:05<00:00, 142.38it/s, epoch=8/100, loss=0.175016]\n",
      "100%|██████████| 810/810 [00:05<00:00, 141.92it/s, epoch=9/100, loss=0.229264]\n",
      "100%|██████████| 810/810 [00:05<00:00, 141.34it/s, epoch=10/100, loss=0.217434]\n",
      "100%|██████████| 810/810 [00:05<00:00, 137.95it/s, epoch=11/100, loss=0.197775]\n"
     ]
    },
    {
     "name": "stdout",
     "output_type": "stream",
     "text": [
      "🌸 New best epoch! 🌸 with cindex:  0.6590029253324966\n"
     ]
    },
    {
     "name": "stderr",
     "output_type": "stream",
     "text": [
      "100%|██████████| 810/810 [00:05<00:00, 135.31it/s, epoch=12/100, loss=0.211528]\n",
      "100%|██████████| 810/810 [00:05<00:00, 139.97it/s, epoch=13/100, loss=0.206431]\n"
     ]
    },
    {
     "name": "stdout",
     "output_type": "stream",
     "text": [
      "🌸 New best epoch! 🌸 with cindex:  0.6613887825262583\n"
     ]
    },
    {
     "name": "stderr",
     "output_type": "stream",
     "text": [
      "100%|██████████| 810/810 [00:06<00:00, 132.64it/s, epoch=14/100, loss=0.252307]\n"
     ]
    },
    {
     "name": "stdout",
     "output_type": "stream",
     "text": [
      "🌸 New best epoch! 🌸 with cindex:  0.6617852765644404\n"
     ]
    },
    {
     "name": "stderr",
     "output_type": "stream",
     "text": [
      "100%|██████████| 810/810 [00:05<00:00, 140.35it/s, epoch=15/100, loss=0.213563]\n"
     ]
    },
    {
     "name": "stdout",
     "output_type": "stream",
     "text": [
      "🌸 New best epoch! 🌸 with cindex:  0.6621426795945936\n"
     ]
    },
    {
     "name": "stderr",
     "output_type": "stream",
     "text": [
      "100%|██████████| 810/810 [00:05<00:00, 142.60it/s, epoch=16/100, loss=0.199300]\n"
     ]
    },
    {
     "name": "stdout",
     "output_type": "stream",
     "text": [
      "🌸 New best epoch! 🌸 with cindex:  0.6635197203899194\n"
     ]
    },
    {
     "name": "stderr",
     "output_type": "stream",
     "text": [
      "100%|██████████| 810/810 [00:05<00:00, 139.87it/s, epoch=17/100, loss=0.213071]\n"
     ]
    },
    {
     "name": "stdout",
     "output_type": "stream",
     "text": [
      "🌸 New best epoch! 🌸 with cindex:  0.6642167798590815\n"
     ]
    },
    {
     "name": "stderr",
     "output_type": "stream",
     "text": [
      "100%|██████████| 810/810 [00:05<00:00, 142.86it/s, epoch=18/100, loss=0.183331]\n",
      "100%|██████████| 810/810 [00:05<00:00, 142.89it/s, epoch=19/100, loss=0.223697]\n",
      "100%|██████████| 810/810 [00:05<00:00, 144.39it/s, epoch=20/100, loss=0.198324]\n",
      "100%|██████████| 810/810 [00:05<00:00, 143.89it/s, epoch=21/100, loss=0.233942]\n",
      "100%|██████████| 810/810 [00:05<00:00, 141.67it/s, epoch=22/100, loss=0.210797]\n"
     ]
    },
    {
     "name": "stdout",
     "output_type": "stream",
     "text": [
      "🌸 New best epoch! 🌸 with cindex:  0.6653350242565725\n"
     ]
    },
    {
     "name": "stderr",
     "output_type": "stream",
     "text": [
      "100%|██████████| 810/810 [00:05<00:00, 141.66it/s, epoch=23/100, loss=0.232773]\n",
      "100%|██████████| 810/810 [00:05<00:00, 142.30it/s, epoch=24/100, loss=0.211652]\n"
     ]
    },
    {
     "name": "stdout",
     "output_type": "stream",
     "text": [
      "🌸 New best epoch! 🌸 with cindex:  0.6662509201082769\n"
     ]
    },
    {
     "name": "stderr",
     "output_type": "stream",
     "text": [
      "100%|██████████| 810/810 [00:05<00:00, 143.33it/s, epoch=25/100, loss=0.232000]\n",
      "100%|██████████| 810/810 [00:05<00:00, 143.12it/s, epoch=26/100, loss=0.215331]\n",
      "100%|██████████| 810/810 [00:05<00:00, 144.55it/s, epoch=27/100, loss=0.233916]\n"
     ]
    },
    {
     "name": "stdout",
     "output_type": "stream",
     "text": [
      "🌸 New best epoch! 🌸 with cindex:  0.6680439799976927\n"
     ]
    },
    {
     "name": "stderr",
     "output_type": "stream",
     "text": [
      "100%|██████████| 810/810 [00:05<00:00, 139.33it/s, epoch=28/100, loss=0.229351]\n",
      "100%|██████████| 810/810 [00:05<00:00, 142.64it/s, epoch=29/100, loss=0.221272]\n"
     ]
    },
    {
     "name": "stdout",
     "output_type": "stream",
     "text": [
      "🌸 New best epoch! 🌸 with cindex:  0.6691676339683958\n"
     ]
    },
    {
     "name": "stderr",
     "output_type": "stream",
     "text": [
      "100%|██████████| 810/810 [00:05<00:00, 142.99it/s, epoch=30/100, loss=0.197947]\n"
     ]
    },
    {
     "name": "stdout",
     "output_type": "stream",
     "text": [
      "🌸 New best epoch! 🌸 with cindex:  0.6698140718736391\n"
     ]
    },
    {
     "name": "stderr",
     "output_type": "stream",
     "text": [
      "100%|██████████| 810/810 [00:05<00:00, 142.42it/s, epoch=31/100, loss=0.223138]\n",
      "100%|██████████| 810/810 [00:05<00:00, 144.36it/s, epoch=32/100, loss=0.175898]\n",
      "100%|██████████| 810/810 [00:05<00:00, 139.87it/s, epoch=33/100, loss=0.221099]\n",
      "100%|██████████| 810/810 [00:05<00:00, 140.12it/s, epoch=34/100, loss=0.205185]\n",
      "100%|██████████| 810/810 [00:06<00:00, 133.76it/s, epoch=35/100, loss=0.196471]\n",
      "100%|██████████| 810/810 [00:05<00:00, 142.20it/s, epoch=36/100, loss=0.190347]\n",
      "100%|██████████| 810/810 [00:06<00:00, 133.83it/s, epoch=37/100, loss=0.200371]\n",
      "100%|██████████| 810/810 [00:06<00:00, 133.22it/s, epoch=38/100, loss=0.157957]\n",
      "100%|██████████| 810/810 [00:05<00:00, 142.96it/s, epoch=39/100, loss=0.230191]\n",
      "100%|██████████| 810/810 [00:05<00:00, 143.37it/s, epoch=40/100, loss=0.177639]\n",
      "100%|██████████| 810/810 [00:05<00:00, 142.17it/s, epoch=41/100, loss=0.228543]\n",
      "100%|██████████| 810/810 [00:05<00:00, 141.99it/s, epoch=42/100, loss=0.198825]\n",
      "100%|██████████| 810/810 [00:05<00:00, 140.29it/s, epoch=43/100, loss=0.213180]\n",
      "100%|██████████| 810/810 [00:05<00:00, 141.64it/s, epoch=44/100, loss=0.175956]\n",
      "100%|██████████| 810/810 [00:05<00:00, 144.77it/s, epoch=45/100, loss=0.201508]\n"
     ]
    },
    {
     "name": "stdout",
     "output_type": "stream",
     "text": [
      "Early stopping\n",
      " *************************************************************************************** \n",
      "Fold 16 RMSE: 0.210461 Fold 16 C-Index: 0.669814\n",
      "\n",
      "\n",
      " *************************************************************************************** \n"
     ]
    },
    {
     "name": "stderr",
     "output_type": "stream",
     "text": [
      "100%|██████████| 810/810 [00:05<00:00, 143.22it/s, epoch=1/100, loss=0.193413]\n"
     ]
    },
    {
     "name": "stdout",
     "output_type": "stream",
     "text": [
      "🌸 New best epoch! 🌸 with cindex:  0.627133026409036\n"
     ]
    },
    {
     "name": "stderr",
     "output_type": "stream",
     "text": [
      "100%|██████████| 810/810 [00:05<00:00, 144.45it/s, epoch=2/100, loss=0.196245]\n"
     ]
    },
    {
     "name": "stdout",
     "output_type": "stream",
     "text": [
      "🌸 New best epoch! 🌸 with cindex:  0.6435269256090544\n"
     ]
    },
    {
     "name": "stderr",
     "output_type": "stream",
     "text": [
      "100%|██████████| 810/810 [00:05<00:00, 145.09it/s, epoch=3/100, loss=0.221908]\n"
     ]
    },
    {
     "name": "stdout",
     "output_type": "stream",
     "text": [
      "🌸 New best epoch! 🌸 with cindex:  0.6460628007407258\n"
     ]
    },
    {
     "name": "stderr",
     "output_type": "stream",
     "text": [
      "100%|██████████| 810/810 [00:05<00:00, 140.48it/s, epoch=4/100, loss=0.215063]\n"
     ]
    },
    {
     "name": "stdout",
     "output_type": "stream",
     "text": [
      "🌸 New best epoch! 🌸 with cindex:  0.6513105985501572\n"
     ]
    },
    {
     "name": "stderr",
     "output_type": "stream",
     "text": [
      "100%|██████████| 810/810 [00:05<00:00, 144.71it/s, epoch=5/100, loss=0.216044]\n"
     ]
    },
    {
     "name": "stdout",
     "output_type": "stream",
     "text": [
      "🌸 New best epoch! 🌸 with cindex:  0.6534541788991993\n"
     ]
    },
    {
     "name": "stderr",
     "output_type": "stream",
     "text": [
      "100%|██████████| 810/810 [00:05<00:00, 144.47it/s, epoch=6/100, loss=0.200032]\n",
      "100%|██████████| 810/810 [00:05<00:00, 143.96it/s, epoch=7/100, loss=0.197609]\n"
     ]
    },
    {
     "name": "stdout",
     "output_type": "stream",
     "text": [
      "🌸 New best epoch! 🌸 with cindex:  0.6553884407663165\n"
     ]
    },
    {
     "name": "stderr",
     "output_type": "stream",
     "text": [
      "100%|██████████| 810/810 [00:05<00:00, 146.29it/s, epoch=8/100, loss=0.194002]\n"
     ]
    },
    {
     "name": "stdout",
     "output_type": "stream",
     "text": [
      "🌸 New best epoch! 🌸 with cindex:  0.6555389239094276\n"
     ]
    },
    {
     "name": "stderr",
     "output_type": "stream",
     "text": [
      "100%|██████████| 810/810 [00:05<00:00, 139.32it/s, epoch=9/100, loss=0.222466]\n"
     ]
    },
    {
     "name": "stdout",
     "output_type": "stream",
     "text": [
      "🌸 New best epoch! 🌸 with cindex:  0.6577583222071076\n"
     ]
    },
    {
     "name": "stderr",
     "output_type": "stream",
     "text": [
      "100%|██████████| 810/810 [00:05<00:00, 146.30it/s, epoch=10/100, loss=0.223487]\n",
      "100%|██████████| 810/810 [00:05<00:00, 144.18it/s, epoch=11/100, loss=0.173955]\n",
      "100%|██████████| 810/810 [00:05<00:00, 141.96it/s, epoch=12/100, loss=0.218570]\n",
      "100%|██████████| 810/810 [00:05<00:00, 138.78it/s, epoch=13/100, loss=0.240949]\n"
     ]
    },
    {
     "name": "stdout",
     "output_type": "stream",
     "text": [
      "🌸 New best epoch! 🌸 with cindex:  0.6583908567597301\n"
     ]
    },
    {
     "name": "stderr",
     "output_type": "stream",
     "text": [
      "100%|██████████| 810/810 [00:06<00:00, 131.79it/s, epoch=14/100, loss=0.196387]\n",
      "100%|██████████| 810/810 [00:05<00:00, 147.18it/s, epoch=15/100, loss=0.182137]\n",
      "100%|██████████| 810/810 [00:06<00:00, 130.89it/s, epoch=16/100, loss=0.252249]\n"
     ]
    },
    {
     "name": "stdout",
     "output_type": "stream",
     "text": [
      "🌸 New best epoch! 🌸 with cindex:  0.6600098576213784\n"
     ]
    },
    {
     "name": "stderr",
     "output_type": "stream",
     "text": [
      "100%|██████████| 810/810 [00:05<00:00, 142.87it/s, epoch=17/100, loss=0.224726]\n",
      "100%|██████████| 810/810 [00:05<00:00, 142.73it/s, epoch=18/100, loss=0.196230]\n"
     ]
    },
    {
     "name": "stdout",
     "output_type": "stream",
     "text": [
      "🌸 New best epoch! 🌸 with cindex:  0.6621797746428376\n"
     ]
    },
    {
     "name": "stderr",
     "output_type": "stream",
     "text": [
      "100%|██████████| 810/810 [00:05<00:00, 138.94it/s, epoch=19/100, loss=0.227568]\n"
     ]
    },
    {
     "name": "stdout",
     "output_type": "stream",
     "text": [
      "🌸 New best epoch! 🌸 with cindex:  0.6623991822052524\n"
     ]
    },
    {
     "name": "stderr",
     "output_type": "stream",
     "text": [
      "100%|██████████| 810/810 [00:05<00:00, 143.73it/s, epoch=20/100, loss=0.186921]\n",
      "100%|██████████| 810/810 [00:05<00:00, 142.77it/s, epoch=21/100, loss=0.206574]\n"
     ]
    },
    {
     "name": "stdout",
     "output_type": "stream",
     "text": [
      "🌸 New best epoch! 🌸 with cindex:  0.6627953316187349\n"
     ]
    },
    {
     "name": "stderr",
     "output_type": "stream",
     "text": [
      "100%|██████████| 810/810 [00:05<00:00, 143.31it/s, epoch=22/100, loss=0.175579]\n",
      "100%|██████████| 810/810 [00:05<00:00, 143.80it/s, epoch=23/100, loss=0.202156]\n",
      "100%|██████████| 810/810 [00:05<00:00, 142.51it/s, epoch=24/100, loss=0.240230]\n",
      "100%|██████████| 810/810 [00:05<00:00, 138.01it/s, epoch=25/100, loss=0.231024]\n",
      "100%|██████████| 810/810 [00:05<00:00, 144.09it/s, epoch=26/100, loss=0.217443]\n",
      "100%|██████████| 810/810 [00:05<00:00, 141.06it/s, epoch=27/100, loss=0.191371]\n"
     ]
    },
    {
     "name": "stdout",
     "output_type": "stream",
     "text": [
      "🌸 New best epoch! 🌸 with cindex:  0.6628491042815238\n"
     ]
    },
    {
     "name": "stderr",
     "output_type": "stream",
     "text": [
      "100%|██████████| 810/810 [00:05<00:00, 143.11it/s, epoch=28/100, loss=0.212588]\n",
      "100%|██████████| 810/810 [00:05<00:00, 143.46it/s, epoch=29/100, loss=0.212426]\n",
      "100%|██████████| 810/810 [00:05<00:00, 139.44it/s, epoch=30/100, loss=0.181555]\n",
      "100%|██████████| 810/810 [00:05<00:00, 145.48it/s, epoch=31/100, loss=0.212022]\n"
     ]
    },
    {
     "name": "stdout",
     "output_type": "stream",
     "text": [
      "🌸 New best epoch! 🌸 with cindex:  0.6630350397387366\n"
     ]
    },
    {
     "name": "stderr",
     "output_type": "stream",
     "text": [
      "100%|██████████| 810/810 [00:05<00:00, 143.83it/s, epoch=32/100, loss=0.218695]\n",
      "100%|██████████| 810/810 [00:05<00:00, 145.11it/s, epoch=33/100, loss=0.202712]\n",
      "100%|██████████| 810/810 [00:05<00:00, 143.21it/s, epoch=34/100, loss=0.193987]\n"
     ]
    },
    {
     "name": "stdout",
     "output_type": "stream",
     "text": [
      "🌸 New best epoch! 🌸 with cindex:  0.6634255081935526\n"
     ]
    },
    {
     "name": "stderr",
     "output_type": "stream",
     "text": [
      "100%|██████████| 810/810 [00:05<00:00, 138.40it/s, epoch=35/100, loss=0.202921]\n",
      "100%|██████████| 810/810 [00:05<00:00, 140.27it/s, epoch=36/100, loss=0.236594]\n",
      "100%|██████████| 810/810 [00:05<00:00, 138.01it/s, epoch=37/100, loss=0.195167]\n",
      "100%|██████████| 810/810 [00:05<00:00, 141.68it/s, epoch=38/100, loss=0.174247]\n",
      "100%|██████████| 810/810 [00:06<00:00, 127.78it/s, epoch=39/100, loss=0.208507]\n",
      "100%|██████████| 810/810 [00:05<00:00, 137.23it/s, epoch=40/100, loss=0.173739]\n"
     ]
    },
    {
     "name": "stdout",
     "output_type": "stream",
     "text": [
      "🌸 New best epoch! 🌸 with cindex:  0.6637881939758017\n"
     ]
    },
    {
     "name": "stderr",
     "output_type": "stream",
     "text": [
      "100%|██████████| 810/810 [00:05<00:00, 144.09it/s, epoch=41/100, loss=0.206917]\n",
      "100%|██████████| 810/810 [00:05<00:00, 143.73it/s, epoch=42/100, loss=0.214395]\n",
      "100%|██████████| 810/810 [00:05<00:00, 144.93it/s, epoch=43/100, loss=0.210257]\n",
      "100%|██████████| 810/810 [00:05<00:00, 143.69it/s, epoch=44/100, loss=0.173754]\n"
     ]
    },
    {
     "name": "stdout",
     "output_type": "stream",
     "text": [
      "🌸 New best epoch! 🌸 with cindex:  0.664854441611068\n"
     ]
    },
    {
     "name": "stderr",
     "output_type": "stream",
     "text": [
      "100%|██████████| 810/810 [00:05<00:00, 142.83it/s, epoch=45/100, loss=0.224009]\n",
      "100%|██████████| 810/810 [00:05<00:00, 143.78it/s, epoch=46/100, loss=0.172987]\n",
      "100%|██████████| 810/810 [00:05<00:00, 143.59it/s, epoch=47/100, loss=0.167024]\n",
      "100%|██████████| 810/810 [00:05<00:00, 144.09it/s, epoch=48/100, loss=0.202282]\n",
      "100%|██████████| 810/810 [00:05<00:00, 142.44it/s, epoch=49/100, loss=0.170125]\n",
      "100%|██████████| 810/810 [00:05<00:00, 142.11it/s, epoch=50/100, loss=0.215357]\n",
      "100%|██████████| 810/810 [00:05<00:00, 140.75it/s, epoch=51/100, loss=0.245498]\n",
      "100%|██████████| 810/810 [00:05<00:00, 142.72it/s, epoch=52/100, loss=0.158903]\n",
      "100%|██████████| 810/810 [00:05<00:00, 143.41it/s, epoch=53/100, loss=0.163061]\n",
      "100%|██████████| 810/810 [00:05<00:00, 140.82it/s, epoch=54/100, loss=0.179625]\n",
      "100%|██████████| 810/810 [00:05<00:00, 142.81it/s, epoch=55/100, loss=0.196485]\n",
      "100%|██████████| 810/810 [00:05<00:00, 139.39it/s, epoch=56/100, loss=0.170782]\n",
      "100%|██████████| 810/810 [00:05<00:00, 141.11it/s, epoch=57/100, loss=0.189241]\n",
      "100%|██████████| 810/810 [00:05<00:00, 142.64it/s, epoch=58/100, loss=0.208890]\n",
      "100%|██████████| 810/810 [00:05<00:00, 136.95it/s, epoch=59/100, loss=0.165171]\n"
     ]
    },
    {
     "name": "stdout",
     "output_type": "stream",
     "text": [
      "Early stopping\n",
      " *************************************************************************************** \n",
      "Fold 16 RMSE: 0.213814 Fold 16 C-Index: 0.664854\n",
      "\n",
      "\n",
      " *************************************************************************************** \n"
     ]
    },
    {
     "name": "stderr",
     "output_type": "stream",
     "text": [
      "100%|██████████| 810/810 [00:05<00:00, 137.67it/s, epoch=1/100, loss=0.196662]\n"
     ]
    },
    {
     "name": "stdout",
     "output_type": "stream",
     "text": [
      "🌸 New best epoch! 🌸 with cindex:  0.6574516776740381\n"
     ]
    },
    {
     "name": "stderr",
     "output_type": "stream",
     "text": [
      "100%|██████████| 810/810 [00:05<00:00, 140.89it/s, epoch=2/100, loss=0.224271]\n"
     ]
    },
    {
     "name": "stdout",
     "output_type": "stream",
     "text": [
      "🌸 New best epoch! 🌸 with cindex:  0.663740447657052\n"
     ]
    },
    {
     "name": "stderr",
     "output_type": "stream",
     "text": [
      "100%|██████████| 810/810 [00:05<00:00, 141.65it/s, epoch=3/100, loss=0.204971]\n"
     ]
    },
    {
     "name": "stdout",
     "output_type": "stream",
     "text": [
      "🌸 New best epoch! 🌸 with cindex:  0.6669063077274383\n"
     ]
    },
    {
     "name": "stderr",
     "output_type": "stream",
     "text": [
      "100%|██████████| 810/810 [00:06<00:00, 122.69it/s, epoch=4/100, loss=0.224031]\n"
     ]
    },
    {
     "name": "stdout",
     "output_type": "stream",
     "text": [
      "🌸 New best epoch! 🌸 with cindex:  0.668864963376148\n"
     ]
    },
    {
     "name": "stderr",
     "output_type": "stream",
     "text": [
      "100%|██████████| 810/810 [00:05<00:00, 142.55it/s, epoch=5/100, loss=0.238959]\n"
     ]
    },
    {
     "name": "stdout",
     "output_type": "stream",
     "text": [
      "🌸 New best epoch! 🌸 with cindex:  0.6692236397058192\n"
     ]
    },
    {
     "name": "stderr",
     "output_type": "stream",
     "text": [
      "100%|██████████| 810/810 [00:05<00:00, 142.53it/s, epoch=6/100, loss=0.237045]\n",
      "100%|██████████| 810/810 [00:05<00:00, 140.90it/s, epoch=7/100, loss=0.223618]\n",
      "100%|██████████| 810/810 [00:05<00:00, 142.84it/s, epoch=8/100, loss=0.215446]\n",
      "100%|██████████| 810/810 [00:05<00:00, 143.56it/s, epoch=9/100, loss=0.175490]\n",
      "100%|██████████| 810/810 [00:05<00:00, 145.44it/s, epoch=10/100, loss=0.202128]\n",
      "100%|██████████| 810/810 [00:05<00:00, 142.24it/s, epoch=11/100, loss=0.246576]\n",
      "100%|██████████| 810/810 [00:05<00:00, 144.30it/s, epoch=12/100, loss=0.216685]\n"
     ]
    },
    {
     "name": "stdout",
     "output_type": "stream",
     "text": [
      "🌸 New best epoch! 🌸 with cindex:  0.669342954801651\n"
     ]
    },
    {
     "name": "stderr",
     "output_type": "stream",
     "text": [
      "100%|██████████| 810/810 [00:05<00:00, 141.11it/s, epoch=13/100, loss=0.238155]\n",
      "100%|██████████| 810/810 [00:05<00:00, 143.36it/s, epoch=14/100, loss=0.221187]\n",
      "100%|██████████| 810/810 [00:05<00:00, 143.73it/s, epoch=15/100, loss=0.225782]\n",
      "100%|██████████| 810/810 [00:05<00:00, 142.55it/s, epoch=16/100, loss=0.222776]\n",
      "100%|██████████| 810/810 [00:05<00:00, 144.12it/s, epoch=17/100, loss=0.206499]\n",
      "100%|██████████| 810/810 [00:05<00:00, 139.80it/s, epoch=18/100, loss=0.212901]\n",
      "100%|██████████| 810/810 [00:05<00:00, 142.40it/s, epoch=19/100, loss=0.198469]\n",
      "100%|██████████| 810/810 [00:05<00:00, 144.45it/s, epoch=20/100, loss=0.207568]\n",
      "100%|██████████| 810/810 [00:05<00:00, 142.76it/s, epoch=21/100, loss=0.186951]\n",
      "100%|██████████| 810/810 [00:05<00:00, 143.99it/s, epoch=22/100, loss=0.225185]\n"
     ]
    },
    {
     "name": "stdout",
     "output_type": "stream",
     "text": [
      "🌸 New best epoch! 🌸 with cindex:  0.6695313798881755\n"
     ]
    },
    {
     "name": "stderr",
     "output_type": "stream",
     "text": [
      "100%|██████████| 810/810 [00:05<00:00, 140.73it/s, epoch=23/100, loss=0.173563]\n",
      "100%|██████████| 810/810 [00:05<00:00, 137.15it/s, epoch=24/100, loss=0.225132]\n",
      "100%|██████████| 810/810 [00:05<00:00, 143.15it/s, epoch=25/100, loss=0.230349]\n"
     ]
    },
    {
     "name": "stdout",
     "output_type": "stream",
     "text": [
      "🌸 New best epoch! 🌸 with cindex:  0.6695531569128987\n"
     ]
    },
    {
     "name": "stderr",
     "output_type": "stream",
     "text": [
      "100%|██████████| 810/810 [00:05<00:00, 137.32it/s, epoch=26/100, loss=0.186551]\n",
      "100%|██████████| 810/810 [00:06<00:00, 133.15it/s, epoch=27/100, loss=0.212763]\n",
      "100%|██████████| 810/810 [00:06<00:00, 122.52it/s, epoch=28/100, loss=0.185381]\n",
      "100%|██████████| 810/810 [00:05<00:00, 140.79it/s, epoch=29/100, loss=0.222840]\n",
      "100%|██████████| 810/810 [00:05<00:00, 140.97it/s, epoch=30/100, loss=0.195585]\n",
      "100%|██████████| 810/810 [00:05<00:00, 142.10it/s, epoch=31/100, loss=0.199765]\n",
      "100%|██████████| 810/810 [00:05<00:00, 140.77it/s, epoch=32/100, loss=0.211557]\n",
      "100%|██████████| 810/810 [00:05<00:00, 139.42it/s, epoch=33/100, loss=0.179592]\n",
      "100%|██████████| 810/810 [00:05<00:00, 139.24it/s, epoch=34/100, loss=0.174578]\n",
      "100%|██████████| 810/810 [00:05<00:00, 140.08it/s, epoch=35/100, loss=0.192911]\n"
     ]
    },
    {
     "name": "stdout",
     "output_type": "stream",
     "text": [
      "🌸 New best epoch! 🌸 with cindex:  0.6696128202095556\n"
     ]
    },
    {
     "name": "stderr",
     "output_type": "stream",
     "text": [
      "100%|██████████| 810/810 [00:05<00:00, 142.88it/s, epoch=36/100, loss=0.220401]\n",
      "100%|██████████| 810/810 [00:05<00:00, 141.96it/s, epoch=37/100, loss=0.213480]\n",
      "100%|██████████| 810/810 [00:05<00:00, 142.07it/s, epoch=38/100, loss=0.177253]\n",
      "100%|██████████| 810/810 [00:05<00:00, 137.92it/s, epoch=39/100, loss=0.177761]\n",
      "100%|██████████| 810/810 [00:05<00:00, 139.84it/s, epoch=40/100, loss=0.238983]\n",
      "100%|██████████| 810/810 [00:05<00:00, 140.48it/s, epoch=41/100, loss=0.197373]\n",
      "100%|██████████| 810/810 [00:05<00:00, 141.02it/s, epoch=42/100, loss=0.151801]\n",
      "100%|██████████| 810/810 [00:05<00:00, 142.99it/s, epoch=43/100, loss=0.208194]\n",
      "100%|██████████| 810/810 [00:05<00:00, 137.61it/s, epoch=44/100, loss=0.213723]\n",
      "100%|██████████| 810/810 [00:05<00:00, 141.95it/s, epoch=45/100, loss=0.237300]\n",
      "100%|██████████| 810/810 [00:05<00:00, 142.90it/s, epoch=46/100, loss=0.195689]\n",
      "100%|██████████| 810/810 [00:05<00:00, 140.24it/s, epoch=47/100, loss=0.184066]\n",
      "100%|██████████| 810/810 [00:05<00:00, 141.31it/s, epoch=48/100, loss=0.206051]\n",
      "100%|██████████| 810/810 [00:05<00:00, 140.19it/s, epoch=49/100, loss=0.192096]\n",
      "100%|██████████| 810/810 [00:05<00:00, 135.64it/s, epoch=50/100, loss=0.197527]\n"
     ]
    },
    {
     "name": "stdout",
     "output_type": "stream",
     "text": [
      "Early stopping\n",
      " *************************************************************************************** \n",
      "Fold 16 RMSE: 0.212570 Fold 16 C-Index: 0.669613\n",
      "\n",
      "\n",
      " *************************************************************************************** \n"
     ]
    },
    {
     "data": {
      "text/plain": [
       "'\\n100%|██████████| 720/720 [00:39<00:00, 18.11it/s, epoch=1/100, loss=1.167723]\\n🌸 New best epoch! 🌸 with cindex:  0.6556831034470858\\n100%|██████████| 720/720 [00:40<00:00, 17.58it/s, epoch=2/100, loss=1.203476]\\n🌸 New best epoch! 🌸 with cindex:  0.6636594401219366\\n100%|██████████| 720/720 [00:41<00:00, 17.49it/s, epoch=3/100, loss=1.070285]\\n🌸 New best epoch! 🌸 with cindex:  0.6669892297453011\\n 58%|█████▊    | 415/720 [00:23<00:17, 17.86it/s, epoch=4/100, loss=1.178254]\\n'"
      ]
     },
     "execution_count": 21,
     "metadata": {},
     "output_type": "execute_result"
    }
   ],
   "source": [
    "val_rmse_scores   = []\n",
    "models            = {}\n",
    "val_cindex_scores = []    \n",
    "\n",
    "for fold in range(folds):\n",
    "    best = {\n",
    "        \"val\": -math.inf,\n",
    "        \"epoch\": -1,\n",
    "    }\n",
    "    \n",
    "    ds_true           = train[train['fold'] == fold][[\"ID\",\"efs\",\"efs_time\",\"race_group\"]].copy().reset_index(drop=True)\n",
    "    ds_pred           = train[train['fold'] == fold][[\"ID\"]].copy().reset_index(drop=True)\n",
    "\n",
    "    X_train           = train[train['fold'] != fold]\n",
    "    y_train           = train[train['fold'] != fold]\n",
    "\n",
    "    X_valid           = train[train['fold'] == fold]\n",
    "    y_valid           = train[train['fold'] == fold]\n",
    "    \n",
    "    X_num_train       = X_train[NUMS].values\n",
    "    X_cat_train       = X_train[CATS].values\n",
    "    y_train           = X_train[target].values\n",
    "\n",
    "    X_num_val         = X_valid[NUMS].values\n",
    "    X_cat_val         = X_valid[CATS].values\n",
    "    y_val_all         = X_valid[target].values\n",
    "\n",
    "    train_dl    = DataLoader(TensorDataset(torch.tensor(X_num_train, dtype=torch.float32), torch.tensor(X_cat_train, dtype=torch.int64), \n",
    "                                        torch.tensor(y_train, dtype=torch.float32)), batch_size=32, shuffle=True)\n",
    "    valid_dl    = DataLoader(TensorDataset(torch.tensor(X_num_val, dtype=torch.float32), torch.tensor(X_cat_val, dtype=torch.int64), \n",
    "                                        torch.tensor(y_val_all, dtype=torch.float32)), batch_size=32, shuffle=False)\n",
    "    \n",
    "    bins        = rtdl_num_embeddings.compute_bins(torch.tensor(X_num_train, dtype=torch.float32))\n",
    "\n",
    "    model       = Model(\n",
    "        n_num_features      = n_cont_features,\n",
    "        cat_cardinalities   = cat_cardinalities,\n",
    "        n_classes           = n_classes,\n",
    "        backbone            = {\n",
    "            'type': 'MLP',\n",
    "            'n_blocks': 3 ,\n",
    "            'd_block': 512,\n",
    "            'dropout': 0.1,\n",
    "        },\n",
    "        bins                = bins,\n",
    "        num_embeddings      = (\n",
    "                                    None\n",
    "                                    if bins is None\n",
    "                                    else {\n",
    "                                        'type': 'PiecewiseLinearEmbeddings',\n",
    "                                        'd_embedding': 64,\n",
    "                                        'activation': True,\n",
    "                                        'version': 'B',\n",
    "                                    }\n",
    "                                ),\n",
    "        arch_type           = arch_type,\n",
    "        k                   = 32,\n",
    "    ).to(device)\n",
    "\n",
    "    optimizer = torch.optim.AdamW(\n",
    "        # Instead of model.parameters(),\n",
    "        make_parameter_groups(model),\n",
    "        lr           = 1e-4,\n",
    "        weight_decay = 1e-3 ,\n",
    "    )\n",
    "    \n",
    "    patience       = 15\n",
    "    early_stopping = delu.tools.EarlyStopping(patience, mode=\"max\")\n",
    "\n",
    "    for epoch in range(100):\n",
    "        model.train()   \n",
    "        with tqdm(train_dl, total=len(train_dl), leave=True) as phar :\n",
    "            for train_tensor in phar:\n",
    "                optimizer.zero_grad()\n",
    "                X_num_train, X_cat_train, y_train = [t.to(device) for t in train_tensor]\n",
    "\n",
    "                output = model(X_num_train, X_cat_train).squeeze(-1)\n",
    "                loss = loss_fn(output.flatten(0, 1), y_train.repeat_interleave(32))\n",
    "                loss.backward()\n",
    "                optimizer.step()\n",
    "\n",
    "                phar.set_postfix(\n",
    "                    OrderedDict(\n",
    "                        epoch=f'{epoch+1}/{100}',\n",
    "                        loss=f'{loss.item():.6f}'\n",
    "                    )\n",
    "                )\n",
    "                phar.update(1)\n",
    "\n",
    "        \n",
    "        model.eval()\n",
    "        valid_pred_list = []\n",
    "        for valid_tensor in valid_dl:\n",
    "            X_num_val, X_cat_val, y_val = [t.to(device) for t in valid_tensor]\n",
    "            with torch.no_grad():\n",
    "                output = model(X_num_val, X_cat_val).squeeze(-1)\n",
    "            valid_pred_list.append((output.mean(1).cpu().numpy(), y_val.cpu().numpy()))\n",
    "        \n",
    "        valid_pred = np.concatenate([p[0] for p in valid_pred_list])\n",
    "        valid_true = np.concatenate([p[1] for p in valid_pred_list])\n",
    "        val_loss = loss_fn(torch.tensor(valid_pred), torch.tensor(valid_true)).item()\n",
    "\n",
    "        ds_pred[\"prediction\"] = valid_pred\n",
    "        val_cindex = score(ds_true.copy(), ds_pred.copy(), \"ID\")\n",
    "        \n",
    "        if val_cindex > best[\"val\"]:\n",
    "            print(\"🌸 New best epoch! 🌸 with cindex: \", val_cindex)\n",
    "            best = {\n",
    "                \"val\": val_cindex,\n",
    "                \"epoch\": epoch,\n",
    "                'pred' : valid_pred,\n",
    "            }\n",
    "\n",
    "        early_stopping.update(val_cindex)\n",
    "        if early_stopping.should_stop():\n",
    "            print(\"Early stopping\")\n",
    "            break\n",
    "    \n",
    "    oof_tabm[X_valid.index]   = best['pred']\n",
    "    val_rmse              = root_mean_squared_error(y_val_all, best['pred'])\n",
    "    val_rmse_scores.append(val_rmse)\n",
    "\n",
    "    ds_pred[\"prediction\"] = best['pred']\n",
    "    val_cindex            = score(ds_true.copy(), ds_pred.copy(), \"ID\")\n",
    "\n",
    "    val_cindex_scores.append(val_cindex)\n",
    "\n",
    "    # predict test\n",
    "    model.eval()\n",
    "    test_pred_list = []\n",
    "    with torch.no_grad():\n",
    "        for test_tensor in test_dl:\n",
    "            X_num_test, X_cat_test = [t.to(device) for t in test_tensor]\n",
    "            output = model(X_num_test, X_cat_test).squeeze(-1)\n",
    "            test_pred_list.append(output.mean(1).cpu().numpy())\n",
    "    \n",
    "    test_pred = np.concatenate([p for p in test_pred_list])\n",
    "    test_tabm[fold] = test_pred\n",
    "\n",
    "    models[fold] = model\n",
    "    \n",
    "    print(\" *************************************************************************************** \")\n",
    "    print(f\"Fold {i+1} RMSE: {val_rmse:.6f}\", f\"Fold {i+1} C-Index: {val_cindex:.6f}\")\n",
    "    print(\"\\n\")\n",
    "    print(\" *************************************************************************************** \")\n",
    "\n",
    "'''\n",
    "100%|██████████| 720/720 [00:39<00:00, 18.11it/s, epoch=1/100, loss=1.167723]\n",
    "🌸 New best epoch! 🌸 with cindex:  0.6556831034470858\n",
    "100%|██████████| 720/720 [00:40<00:00, 17.58it/s, epoch=2/100, loss=1.203476]\n",
    "🌸 New best epoch! 🌸 with cindex:  0.6636594401219366\n",
    "100%|██████████| 720/720 [00:41<00:00, 17.49it/s, epoch=3/100, loss=1.070285]\n",
    "🌸 New best epoch! 🌸 with cindex:  0.6669892297453011\n",
    " 58%|█████▊    | 415/720 [00:23<00:17, 17.86it/s, epoch=4/100, loss=1.178254]\n",
    "'''"
   ]
  },
  {
   "cell_type": "code",
   "execution_count": 22,
   "id": "d99d4c3f",
   "metadata": {
    "execution": {
     "iopub.execute_input": "2025-01-26T10:50:37.581897Z",
     "iopub.status.busy": "2025-01-26T10:50:37.581332Z",
     "iopub.status.idle": "2025-01-26T10:50:37.924182Z",
     "shell.execute_reply": "2025-01-26T10:50:37.923207Z"
    },
    "papermill": {
     "duration": 23.485847,
     "end_time": "2025-01-26T10:50:37.926230",
     "exception": false,
     "start_time": "2025-01-26T10:50:14.440383",
     "status": "completed"
    },
    "tags": []
   },
   "outputs": [
    {
     "name": "stdout",
     "output_type": "stream",
     "text": [
      "\n",
      "Overall CV for TabM KaplanMeier = 0.6777472728532595\n"
     ]
    }
   ],
   "source": [
    "#print(\"Mean Validation RMSE: {:.6f}\".format(np.mean(val_rmse_scores)))\n",
    "#print(\"Mean Validation C-Index: {:.6f}\".format( np.mean(val_cindex_scores)))\n",
    "#print(\"OOF RMSE: {:.6f}\".format(root_mean_squared_error(train[target], oof_tabm)))\n",
    "\n",
    "#results_df = pd.DataFrame({\n",
    "#        'Fold': np.arange(1, 5+1),\n",
    "#        'Validation RMSE': val_rmse_scores,\n",
    " #       'Validation C-Index': val_cindex_scores\n",
    " #   })\n",
    "\n",
    "\n",
    "#print(\"\\n=== KFold RMSE Results ===\")\n",
    "#print(results_df)\n",
    "\n",
    "y_true               = train[[\"ID\",\"efs\",\"efs_time\",\"race_group\"]].copy()\n",
    "y_pred               = train[[\"ID\"]].copy()\n",
    "y_pred[\"prediction\"] = oof_tabm\n",
    "m                    = score(y_true.copy(), y_pred.copy(), \"ID\")\n",
    "print(f\"\\nOverall CV for TabM KaplanMeier =\",m)"
   ]
  },
  {
   "cell_type": "markdown",
   "id": "f905c802",
   "metadata": {
    "papermill": {
     "duration": 23.657998,
     "end_time": "2025-01-26T10:51:24.927123",
     "exception": false,
     "start_time": "2025-01-26T10:51:01.269125",
     "status": "completed"
    },
    "tags": []
   },
   "source": [
    "# Make submission "
   ]
  },
  {
   "cell_type": "code",
   "execution_count": 23,
   "id": "016004cc",
   "metadata": {
    "execution": {
     "iopub.execute_input": "2025-01-26T10:52:11.035976Z",
     "iopub.status.busy": "2025-01-26T10:52:11.035624Z",
     "iopub.status.idle": "2025-01-26T10:52:11.039923Z",
     "shell.execute_reply": "2025-01-26T10:52:11.039005Z"
    },
    "papermill": {
     "duration": 23.04957,
     "end_time": "2025-01-26T10:52:11.041658",
     "exception": false,
     "start_time": "2025-01-26T10:51:47.992088",
     "status": "completed"
    },
    "tags": []
   },
   "outputs": [],
   "source": [
    "test_mean = np.mean(test_tabm , axis=0) "
   ]
  },
  {
   "cell_type": "code",
   "execution_count": 24,
   "id": "850b8b30",
   "metadata": {
    "execution": {
     "iopub.execute_input": "2025-01-26T10:52:57.193129Z",
     "iopub.status.busy": "2025-01-26T10:52:57.192117Z",
     "iopub.status.idle": "2025-01-26T10:52:57.224691Z",
     "shell.execute_reply": "2025-01-26T10:52:57.223856Z"
    },
    "papermill": {
     "duration": 23.141272,
     "end_time": "2025-01-26T10:52:57.226354",
     "exception": false,
     "start_time": "2025-01-26T10:52:34.085082",
     "status": "completed"
    },
    "tags": []
   },
   "outputs": [
    {
     "name": "stdout",
     "output_type": "stream",
     "text": [
      "Sub shape: (3, 2)\n"
     ]
    },
    {
     "data": {
      "text/html": [
       "<div>\n",
       "<style scoped>\n",
       "    .dataframe tbody tr th:only-of-type {\n",
       "        vertical-align: middle;\n",
       "    }\n",
       "\n",
       "    .dataframe tbody tr th {\n",
       "        vertical-align: top;\n",
       "    }\n",
       "\n",
       "    .dataframe thead th {\n",
       "        text-align: right;\n",
       "    }\n",
       "</style>\n",
       "<table border=\"1\" class=\"dataframe\">\n",
       "  <thead>\n",
       "    <tr style=\"text-align: right;\">\n",
       "      <th></th>\n",
       "      <th>ID</th>\n",
       "      <th>prediction</th>\n",
       "    </tr>\n",
       "  </thead>\n",
       "  <tbody>\n",
       "    <tr>\n",
       "      <th>0</th>\n",
       "      <td>28800</td>\n",
       "      <td>0.433872</td>\n",
       "    </tr>\n",
       "    <tr>\n",
       "      <th>1</th>\n",
       "      <td>28801</td>\n",
       "      <td>0.575087</td>\n",
       "    </tr>\n",
       "    <tr>\n",
       "      <th>2</th>\n",
       "      <td>28802</td>\n",
       "      <td>0.395634</td>\n",
       "    </tr>\n",
       "  </tbody>\n",
       "</table>\n",
       "</div>"
      ],
      "text/plain": [
       "      ID  prediction\n",
       "0  28800    0.433872\n",
       "1  28801    0.575087\n",
       "2  28802    0.395634"
      ]
     },
     "execution_count": 24,
     "metadata": {},
     "output_type": "execute_result"
    }
   ],
   "source": [
    "sub = pd.read_csv(\"/kaggle/input/equity-post-HCT-survival-predictions/sample_submission.csv\")\n",
    "sub.prediction = test_mean\n",
    "sub.to_csv(\"submission.csv\",index=False)\n",
    "print(\"Sub shape:\",sub.shape)\n",
    "sub.head()"
   ]
  },
  {
   "cell_type": "code",
   "execution_count": 25,
   "id": "38a27ab9",
   "metadata": {
    "execution": {
     "iopub.execute_input": "2025-01-26T10:53:43.251426Z",
     "iopub.status.busy": "2025-01-26T10:53:43.250585Z",
     "iopub.status.idle": "2025-01-26T10:53:43.326841Z",
     "shell.execute_reply": "2025-01-26T10:53:43.325944Z"
    },
    "papermill": {
     "duration": 22.926668,
     "end_time": "2025-01-26T10:53:43.328869",
     "exception": false,
     "start_time": "2025-01-26T10:53:20.402201",
     "status": "completed"
    },
    "tags": []
   },
   "outputs": [],
   "source": [
    "import pickle\n",
    "with open('tabm_exp_02.pkl', 'wb') as f:\n",
    "    pickle.dump(models, f)"
   ]
  },
  {
   "cell_type": "code",
   "execution_count": 26,
   "id": "e94381dd",
   "metadata": {
    "execution": {
     "iopub.execute_input": "2025-01-26T10:54:29.615139Z",
     "iopub.status.busy": "2025-01-26T10:54:29.614787Z",
     "iopub.status.idle": "2025-01-26T10:54:58.898445Z",
     "shell.execute_reply": "2025-01-26T10:54:58.897746Z"
    },
    "papermill": {
     "duration": 52.232685,
     "end_time": "2025-01-26T10:54:58.900506",
     "exception": false,
     "start_time": "2025-01-26T10:54:06.667821",
     "status": "completed"
    },
    "tags": []
   },
   "outputs": [],
   "source": [
    "train['predictions'] = oof_tabm\n",
    "train.to_excel(\"tabm_exp_02_oof.xlsx\")"
   ]
  },
  {
   "cell_type": "code",
   "execution_count": null,
   "id": "80b2a15d",
   "metadata": {
    "papermill": {
     "duration": 23.114002,
     "end_time": "2025-01-26T10:55:44.544118",
     "exception": false,
     "start_time": "2025-01-26T10:55:21.430116",
     "status": "completed"
    },
    "tags": []
   },
   "outputs": [],
   "source": []
  }
 ],
 "metadata": {
  "kaggle": {
   "accelerator": "nvidiaTeslaT4",
   "dataSources": [
    {
     "databundleVersionId": 10381525,
     "sourceId": 70942,
     "sourceType": "competition"
    },
    {
     "datasetId": 6226248,
     "sourceId": 10097128,
     "sourceType": "datasetVersion"
    },
    {
     "datasetId": 6415434,
     "sourceId": 10370860,
     "sourceType": "datasetVersion"
    },
    {
     "sourceId": 211322530,
     "sourceType": "kernelVersion"
    },
    {
     "sourceId": 212429584,
     "sourceType": "kernelVersion"
    },
    {
     "sourceId": 213291137,
     "sourceType": "kernelVersion"
    },
    {
     "sourceId": 213295546,
     "sourceType": "kernelVersion"
    }
   ],
   "dockerImageVersionId": 30804,
   "isGpuEnabled": true,
   "isInternetEnabled": false,
   "language": "python",
   "sourceType": "notebook"
  },
  "kernelspec": {
   "display_name": "Python 3",
   "language": "python",
   "name": "python3"
  },
  "language_info": {
   "codemirror_mode": {
    "name": "ipython",
    "version": 3
   },
   "file_extension": ".py",
   "mimetype": "text/x-python",
   "name": "python",
   "nbconvert_exporter": "python",
   "pygments_lexer": "ipython3",
   "version": "3.10.14"
  },
  "papermill": {
   "default_parameters": {},
   "duration": 3845.203368,
   "end_time": "2025-01-26T10:56:09.519150",
   "environment_variables": {},
   "exception": null,
   "input_path": "__notebook__.ipynb",
   "output_path": "__notebook__.ipynb",
   "parameters": {},
   "start_time": "2025-01-26T09:52:04.315782",
   "version": "2.6.0"
  }
 },
 "nbformat": 4,
 "nbformat_minor": 5
}
